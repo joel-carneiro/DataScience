{
 "cells": [
  {
   "cell_type": "code",
   "execution_count": 2,
   "id": "eef8c512",
   "metadata": {},
   "outputs": [],
   "source": [
    "import pickle\n",
    "import numpy as np\n",
    "import _pickle as cpickle"
   ]
  },
  {
   "cell_type": "code",
   "execution_count": 3,
   "id": "5b8bb7fe",
   "metadata": {},
   "outputs": [],
   "source": [
    "primes = [2, 3, 5, 7, 11]"
   ]
  },
  {
   "cell_type": "code",
   "execution_count": 6,
   "id": "96136afd",
   "metadata": {},
   "outputs": [],
   "source": [
    "with open('primes.pkl', 'wb') as f:\n",
    "    pickle.dump(primes, f)"
   ]
  },
  {
   "cell_type": "code",
   "execution_count": 9,
   "id": "3cc56229",
   "metadata": {},
   "outputs": [],
   "source": [
    "with open('primes.pkl', 'rb') as f:\n",
    "    primes = pickle.load(f)"
   ]
  },
  {
   "cell_type": "code",
   "execution_count": null,
   "id": "d5ae3c53",
   "metadata": {},
   "outputs": [],
   "source": []
  }
 ],
 "metadata": {
  "kernelspec": {
   "display_name": "Python 3 (ipykernel)",
   "language": "python",
   "name": "python3"
  },
  "language_info": {
   "codemirror_mode": {
    "name": "ipython",
    "version": 3
   },
   "file_extension": ".py",
   "mimetype": "text/x-python",
   "name": "python",
   "nbconvert_exporter": "python",
   "pygments_lexer": "ipython3",
   "version": "3.9.13"
  }
 },
 "nbformat": 4,
 "nbformat_minor": 5
}
