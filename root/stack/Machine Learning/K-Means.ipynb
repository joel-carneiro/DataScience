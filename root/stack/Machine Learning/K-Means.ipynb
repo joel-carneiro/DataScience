{
 "cells": [
  {
   "cell_type": "code",
   "execution_count": 23,
   "id": "e058d866",
   "metadata": {},
   "outputs": [],
   "source": [
    "import pandas as pd\n",
    "import matplotlib.pyplot as plt"
   ]
  },
  {
   "cell_type": "code",
   "execution_count": 8,
   "id": "d42afdbf",
   "metadata": {},
   "outputs": [],
   "source": [
    "df = pd.read_csv('https://raw.githubusercontent.com/selva86/datasets/master/Iris.csv').iloc[:, 1:]"
   ]
  },
  {
   "cell_type": "code",
   "execution_count": 9,
   "id": "fafb1899",
   "metadata": {},
   "outputs": [
    {
     "data": {
      "text/html": [
       "<div>\n",
       "<style scoped>\n",
       "    .dataframe tbody tr th:only-of-type {\n",
       "        vertical-align: middle;\n",
       "    }\n",
       "\n",
       "    .dataframe tbody tr th {\n",
       "        vertical-align: top;\n",
       "    }\n",
       "\n",
       "    .dataframe thead th {\n",
       "        text-align: right;\n",
       "    }\n",
       "</style>\n",
       "<table border=\"1\" class=\"dataframe\">\n",
       "  <thead>\n",
       "    <tr style=\"text-align: right;\">\n",
       "      <th></th>\n",
       "      <th>SepalLengthCm</th>\n",
       "      <th>SepalWidthCm</th>\n",
       "      <th>PetalLengthCm</th>\n",
       "      <th>PetalWidthCm</th>\n",
       "      <th>Species</th>\n",
       "    </tr>\n",
       "  </thead>\n",
       "  <tbody>\n",
       "    <tr>\n",
       "      <th>0</th>\n",
       "      <td>5.1</td>\n",
       "      <td>3.5</td>\n",
       "      <td>1.4</td>\n",
       "      <td>0.2</td>\n",
       "      <td>Iris-setosa</td>\n",
       "    </tr>\n",
       "    <tr>\n",
       "      <th>1</th>\n",
       "      <td>4.9</td>\n",
       "      <td>3.0</td>\n",
       "      <td>1.4</td>\n",
       "      <td>0.2</td>\n",
       "      <td>Iris-setosa</td>\n",
       "    </tr>\n",
       "    <tr>\n",
       "      <th>2</th>\n",
       "      <td>4.7</td>\n",
       "      <td>3.2</td>\n",
       "      <td>1.3</td>\n",
       "      <td>0.2</td>\n",
       "      <td>Iris-setosa</td>\n",
       "    </tr>\n",
       "    <tr>\n",
       "      <th>3</th>\n",
       "      <td>4.6</td>\n",
       "      <td>3.1</td>\n",
       "      <td>1.5</td>\n",
       "      <td>0.2</td>\n",
       "      <td>Iris-setosa</td>\n",
       "    </tr>\n",
       "    <tr>\n",
       "      <th>4</th>\n",
       "      <td>5.0</td>\n",
       "      <td>3.6</td>\n",
       "      <td>1.4</td>\n",
       "      <td>0.2</td>\n",
       "      <td>Iris-setosa</td>\n",
       "    </tr>\n",
       "  </tbody>\n",
       "</table>\n",
       "</div>"
      ],
      "text/plain": [
       "   SepalLengthCm  SepalWidthCm  PetalLengthCm  PetalWidthCm      Species\n",
       "0            5.1           3.5            1.4           0.2  Iris-setosa\n",
       "1            4.9           3.0            1.4           0.2  Iris-setosa\n",
       "2            4.7           3.2            1.3           0.2  Iris-setosa\n",
       "3            4.6           3.1            1.5           0.2  Iris-setosa\n",
       "4            5.0           3.6            1.4           0.2  Iris-setosa"
      ]
     },
     "execution_count": 9,
     "metadata": {},
     "output_type": "execute_result"
    }
   ],
   "source": [
    "df.head()"
   ]
  },
  {
   "cell_type": "code",
   "execution_count": 13,
   "id": "4317e649",
   "metadata": {},
   "outputs": [
    {
     "data": {
      "text/plain": [
       "array(['Iris-setosa', 'Iris-versicolor', 'Iris-virginica'], dtype=object)"
      ]
     },
     "execution_count": 13,
     "metadata": {},
     "output_type": "execute_result"
    }
   ],
   "source": [
    "df['Species'].unique()"
   ]
  },
  {
   "cell_type": "code",
   "execution_count": 10,
   "id": "79d080aa",
   "metadata": {},
   "outputs": [],
   "source": [
    "x = df.drop('Species', axis=1)\n",
    "y = df['Species']"
   ]
  },
  {
   "cell_type": "code",
   "execution_count": 15,
   "id": "6402eccb",
   "metadata": {},
   "outputs": [],
   "source": [
    "tmp = {\n",
    "    'Iris-setosa' : 0,\n",
    "    'Iris-versicolor' : 1,\n",
    "    'Iris-virginica' : 2\n",
    "}\n",
    "\n",
    "y = y.replace(tmp)"
   ]
  },
  {
   "cell_type": "code",
   "execution_count": 17,
   "id": "02ec21fd",
   "metadata": {},
   "outputs": [],
   "source": [
    "from sklearn.cluster import KMeans"
   ]
  },
  {
   "cell_type": "code",
   "execution_count": 18,
   "id": "63503b36",
   "metadata": {},
   "outputs": [],
   "source": [
    "kmeans = KMeans(n_clusters=3, init='random')"
   ]
  },
  {
   "cell_type": "code",
   "execution_count": 19,
   "id": "50c809b9",
   "metadata": {},
   "outputs": [
    {
     "data": {
      "text/plain": [
       "KMeans(init='random', n_clusters=3)"
      ]
     },
     "execution_count": 19,
     "metadata": {},
     "output_type": "execute_result"
    }
   ],
   "source": [
    "kmeans.fit(x)"
   ]
  },
  {
   "cell_type": "code",
   "execution_count": 20,
   "id": "534d9e91",
   "metadata": {
    "scrolled": true
   },
   "outputs": [
    {
     "data": {
      "text/plain": [
       "array([[6.85      , 3.07368421, 5.74210526, 2.07105263],\n",
       "       [5.9016129 , 2.7483871 , 4.39354839, 1.43387097],\n",
       "       [5.006     , 3.418     , 1.464     , 0.244     ]])"
      ]
     },
     "execution_count": 20,
     "metadata": {},
     "output_type": "execute_result"
    }
   ],
   "source": [
    "kmeans.cluster_centers_"
   ]
  },
  {
   "cell_type": "code",
   "execution_count": 22,
   "id": "5d424680",
   "metadata": {},
   "outputs": [
    {
     "data": {
      "text/plain": [
       "array([[5.0595416 , 3.41925061, 0.14694217],\n",
       "       [5.11494335, 3.39857426, 0.43816892],\n",
       "       [5.27935534, 3.56935666, 0.41230086],\n",
       "       [5.15358977, 3.42240962, 0.51883716],\n",
       "       [5.10433388, 3.46726403, 0.19796969],\n",
       "       [4.68148797, 3.14673162, 0.68380699],\n",
       "       [5.21147652, 3.51650264, 0.41520116],\n",
       "       [5.00252706, 3.33654987, 0.0599333 ],\n",
       "       [5.32798107, 3.57233779, 0.80099438],\n",
       "       [5.06790865, 3.3583767 , 0.36659514],\n",
       "       [4.89806763, 3.32449131, 0.48784424],\n",
       "       [4.9966845 , 3.31126872, 0.25138019],\n",
       "       [5.19103612, 3.46661272, 0.49192682],\n",
       "       [5.65173594, 3.90578362, 0.90906105],\n",
       "       [5.10804455, 3.646649  , 1.02019214],\n",
       "       [4.88564095, 3.49427881, 1.21309192],\n",
       "       [5.03090587, 3.495248  , 0.66241377],\n",
       "       [5.02342022, 3.38444981, 0.1509702 ],\n",
       "       [4.61792995, 3.11245944, 0.82848778],\n",
       "       [4.97213426, 3.37738931, 0.39898872],\n",
       "       [4.6955761 , 3.07471224, 0.46172719],\n",
       "       [4.9236821 , 3.31506588, 0.33762701],\n",
       "       [5.59713396, 3.93167253, 0.64435394],\n",
       "       [4.68193765, 3.01233762, 0.37946278],\n",
       "       [4.75095704, 3.06241269, 0.4845534 ],\n",
       "       [4.90772894, 3.19414543, 0.44180539],\n",
       "       [4.84545508, 3.17967089, 0.20782685],\n",
       "       [4.93969029, 3.30941724, 0.21815591],\n",
       "       [5.01833618, 3.37648183, 0.2097427 ],\n",
       "       [5.02954567, 3.31272968, 0.40198507],\n",
       "       [4.98608729, 3.26550651, 0.40495926],\n",
       "       [4.79550372, 3.18083736, 0.42566654],\n",
       "       [5.06520776, 3.53142353, 0.72442529],\n",
       "       [5.04438334, 3.57102821, 0.9282198 ],\n",
       "       [5.06790865, 3.3583767 , 0.36659514],\n",
       "       [5.25071556, 3.56904033, 0.34524194],\n",
       "       [5.02368214, 3.43783276, 0.5287646 ],\n",
       "       [5.06790865, 3.3583767 , 0.36659514],\n",
       "       [5.40750095, 3.66205264, 0.75550778],\n",
       "       [4.9664149 , 3.31092773, 0.11131936],\n",
       "       [5.14520862, 3.49764675, 0.19181241],\n",
       "       [5.38423754, 3.60850034, 1.23935144],\n",
       "       [5.40847417, 3.68120561, 0.66602703],\n",
       "       [4.78803478, 3.14278239, 0.38986151],\n",
       "       [4.59828494, 3.00585191, 0.60761172],\n",
       "       [5.11844067, 3.39468045, 0.47370033],\n",
       "       [4.92421655, 3.32788568, 0.41855943],\n",
       "       [5.23766854, 3.51879523, 0.4673243 ],\n",
       "       [4.92859681, 3.34104251, 0.41132955],\n",
       "       [5.08216833, 3.40601705, 0.14139307],\n",
       "       [1.25489071, 1.22697525, 3.97889331],\n",
       "       [1.44477759, 0.684141  , 3.57569462],\n",
       "       [1.01903626, 1.17527644, 4.13182671],\n",
       "       [2.45978458, 0.73153652, 3.00672446],\n",
       "       [1.3520017 , 0.63853451, 3.7451291 ],\n",
       "       [1.88009327, 0.26937898, 3.34604124],\n",
       "       [1.28902785, 0.76452634, 3.74149596],\n",
       "       [3.37155487, 1.58388575, 2.233829  ],\n",
       "       [1.41123804, 0.75582717, 3.70928457],\n",
       "       [2.58955659, 0.85984838, 2.79706847],\n",
       "       [3.27864111, 1.53611907, 2.5937602 ],\n",
       "       [1.90055758, 0.32426175, 3.16815277],\n",
       "       [2.38073698, 0.80841374, 3.07805003],\n",
       "       [1.45909603, 0.39674141, 3.64323922],\n",
       "       [2.60303733, 0.87269542, 2.50973943],\n",
       "       [1.50822767, 0.87306498, 3.59544045],\n",
       "       [1.85387593, 0.41229163, 3.36487622],\n",
       "       [2.25517257, 0.53579956, 2.9438057 ],\n",
       "       [1.74778451, 0.6367639 , 3.70189033],\n",
       "       [2.49557781, 0.71254917, 2.80399572],\n",
       "       [1.37094403, 0.7093731 , 3.79431048],\n",
       "       [2.06563694, 0.46349013, 3.02079327],\n",
       "       [1.29106776, 0.69373966, 3.98757972],\n",
       "       [1.57547425, 0.43661144, 3.60060995],\n",
       "       [1.70495043, 0.54593856, 3.37188256],\n",
       "       [1.52298639, 0.74313017, 3.55977415],\n",
       "       [1.18965415, 0.98798453, 4.00819061],\n",
       "       [0.84636259, 1.06739835, 4.20328348],\n",
       "       [1.61913335, 0.21993519, 3.47148268],\n",
       "       [2.77868071, 1.0243726 , 2.42231129],\n",
       "       [2.6440625 , 0.86396528, 2.73312861],\n",
       "       [2.75566654, 0.97566381, 2.61755458],\n",
       "       [2.32254696, 0.55763082, 2.82736485],\n",
       "       [1.22324554, 0.73395781, 4.06974102],\n",
       "       [1.9942056 , 0.57500396, 3.33538484],\n",
       "       [1.61049622, 0.68790275, 3.47050313],\n",
       "       [1.19803047, 0.92700552, 3.87556344],\n",
       "       [1.81572464, 0.61459444, 3.55803204],\n",
       "       [2.20430516, 0.50830256, 2.93107352],\n",
       "       [2.40438484, 0.6291191 , 2.9382294 ],\n",
       "       [2.14635877, 0.48790256, 3.23221163],\n",
       "       [1.52402278, 0.38266958, 3.54152397],\n",
       "       [2.26286106, 0.49185351, 2.94020271],\n",
       "       [3.33648305, 1.5485635 , 2.27868208],\n",
       "       [2.16211718, 0.3856087 , 3.07720523],\n",
       "       [2.11299567, 0.44284695, 3.00931753],\n",
       "       [2.07973003, 0.3449879 , 3.05790647],\n",
       "       [1.76829182, 0.37241653, 3.29423618],\n",
       "       [3.44291999, 1.66064034, 1.98584793],\n",
       "       [2.16527941, 0.38393196, 2.98784069],\n",
       "       [0.77731871, 2.0445799 , 5.23002792],\n",
       "       [1.29757391, 0.85382472, 4.13627755],\n",
       "       [0.30610139, 2.05245342, 5.2614059 ],\n",
       "       [0.65293923, 1.33089245, 4.63361544],\n",
       "       [0.38458885, 1.72813078, 5.00335807],\n",
       "       [1.14225684, 2.87401886, 6.06026336],\n",
       "       [2.4108337 , 1.07101875, 3.49158875],\n",
       "       [0.78573677, 2.39730707, 5.59810611],\n",
       "       [0.65454939, 1.67668563, 4.99343489],\n",
       "       [0.8435596 , 2.54158648, 5.60613878],\n",
       "       [0.74552218, 1.17541367, 4.31086905],\n",
       "       [0.75289837, 1.13563278, 4.46273369],\n",
       "       [0.25958095, 1.59322675, 4.80907392],\n",
       "       [1.48572618, 0.88917352, 4.11232197],\n",
       "       [1.30303821, 1.20227628, 4.34524936],\n",
       "       [0.68288333, 1.42273608, 4.57523682],\n",
       "       [0.50991553, 1.33403966, 4.5953446 ],\n",
       "       [1.47791217, 3.20105585, 6.21652572],\n",
       "       [1.52971038, 3.20759942, 6.4578628 ],\n",
       "       [1.53708992, 0.82617494, 4.0684631 ],\n",
       "       [0.26952816, 1.91251832, 5.07992047],\n",
       "       [1.5334904 , 0.81891975, 3.95277017],\n",
       "       [1.31149299, 2.9794431 , 6.17566126],\n",
       "       [1.10668455, 0.74269596, 4.05181342],\n",
       "       [0.27627819, 1.75847731, 4.92666134],\n",
       "       [0.52766931, 2.14580999, 5.27802918],\n",
       "       [1.20765678, 0.62526165, 3.91887637],\n",
       "       [1.16212743, 0.70228926, 3.94953061],\n",
       "       [0.54629196, 1.4663925 , 4.78292714],\n",
       "       [0.59428255, 1.93773659, 5.0624097 ],\n",
       "       [0.7312665 , 2.31885342, 5.50890116],\n",
       "       [1.43802246, 3.07340053, 5.99739877],\n",
       "       [0.5605572 , 1.51444141, 4.82261257],\n",
       "       [1.05631592, 0.81536685, 4.10541009],\n",
       "       [1.12133058, 1.23209127, 4.50652771],\n",
       "       [0.95311851, 2.6381171 , 5.75777665],\n",
       "       [0.73306362, 1.72401927, 4.84041238],\n",
       "       [0.57903109, 1.31541133, 4.55574275],\n",
       "       [1.29960041, 0.61011676, 3.83572575],\n",
       "       [0.34794609, 1.60532899, 4.75659458],\n",
       "       [0.3893492 , 1.77481954, 4.97248348],\n",
       "       [0.68403844, 1.53937059, 4.59738969],\n",
       "       [1.29757391, 0.85382472, 4.13627755],\n",
       "       [0.30952112, 2.00764279, 5.21259935],\n",
       "       [0.50939919, 1.94554509, 5.09085376],\n",
       "       [0.61173881, 1.44957743, 4.60751473],\n",
       "       [1.10072376, 0.89747884, 4.21459274],\n",
       "       [0.65334214, 1.17993324, 4.40998776],\n",
       "       [0.83572418, 1.50889317, 4.59839015],\n",
       "       [1.1805499 , 0.83452741, 4.07622276]])"
      ]
     },
     "execution_count": 22,
     "metadata": {},
     "output_type": "execute_result"
    }
   ],
   "source": [
    "distancia = kmeans.fit_transform(x)\n",
    "distancia"
   ]
  },
  {
   "cell_type": "code",
   "execution_count": 31,
   "id": "afabae7c",
   "metadata": {},
   "outputs": [
    {
     "data": {
      "text/plain": [
       "<BarContainer object of 3 artists>"
      ]
     },
     "execution_count": 31,
     "metadata": {},
     "output_type": "execute_result"
    },
    {
     "data": {
      "image/png": "[encoded data removed]",
      "text/plain": [
       "<Figure size 640x480 with 1 Axes>"
      ]
     },
     "metadata": {},
     "output_type": "display_data"
    }
   ],
   "source": [
    "plt.bar(x = ['Cluster 0', 'Cluster 1', 'Cluster 2'], height=distancia[0])"
   ]
  },
  {
   "cell_type": "code",
   "execution_count": null,
   "id": "66c0338a",
   "metadata": {},
   "outputs": [],
   "source": []
  }
 ],
 "metadata": {
  "kernelspec": {
   "display_name": "Python 3 (ipykernel)",
   "language": "python",
   "name": "python3"
  },
  "language_info": {
   "codemirror_mode": {
    "name": "ipython",
    "version": 3
   },
   "file_extension": ".py",
   "mimetype": "text/x-python",
   "name": "python",
   "nbconvert_exporter": "python",
   "pygments_lexer": "ipython3",
   "version": "3.9.13"
  }
 },
 "nbformat": 4,
 "nbformat_minor": 5
}
