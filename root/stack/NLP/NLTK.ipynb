{
 "cells": [
  {
   "cell_type": "code",
   "execution_count": 1,
   "id": "9e0581f3",
   "metadata": {},
   "outputs": [],
   "source": [
    "import nltk"
   ]
  },
  {
   "cell_type": "code",
   "execution_count": 27,
   "id": "ccab42e3",
   "metadata": {},
   "outputs": [
    {
     "data": {
      "text/plain": [
       "['Para',\n",
       " 'conseguir',\n",
       " 'a',\n",
       " 'amizade',\n",
       " 'de',\n",
       " 'uma',\n",
       " 'pessoa',\n",
       " 'digna',\n",
       " ',',\n",
       " 'é',\n",
       " 'preciso',\n",
       " 'desenvolvermos',\n",
       " 'em',\n",
       " 'nós',\n",
       " 'mesmos',\n",
       " 'as',\n",
       " 'qualidades',\n",
       " 'que',\n",
       " 'naquela',\n",
       " 'admiramos',\n",
       " '”']"
      ]
     },
     "execution_count": 27,
     "metadata": {},
     "output_type": "execute_result"
    }
   ],
   "source": [
    "frase1 = '''\n",
    "Para conseguir a amizade de uma pessoa digna, é preciso desenvolvermos em nós mesmos as qualidades que naquela\n",
    "admiramos”\n",
    "'''\n",
    "\n",
    "palavras1 = nltk.word_tokenize(frase1)\n",
    "palavras1\n"
   ]
  },
  {
   "cell_type": "code",
   "execution_count": 34,
   "id": "d6ab559c",
   "metadata": {},
   "outputs": [],
   "source": [
    "frase2 = '''Você quer um coração? Você não sabe o quão sortudo és por não ter um. Corações nunca serão práticos enquanto não forem feitos para não se partirem.'''\n",
    "palavras2 = nltk.word_tokenize(frase2)\n",
    "frequencia = dict(nltk.FreqDist(palavras2))"
   ]
  },
  {
   "cell_type": "code",
   "execution_count": 35,
   "id": "170e0afc",
   "metadata": {},
   "outputs": [],
   "source": [
    "import matplotlib.pyplot as plt"
   ]
  },
  {
   "cell_type": "code",
   "execution_count": 52,
   "id": "ecd05ba4",
   "metadata": {},
   "outputs": [],
   "source": [
    "import pandas as pd"
   ]
  },
  {
   "cell_type": "code",
   "execution_count": 69,
   "id": "d3feff0e",
   "metadata": {},
   "outputs": [],
   "source": [
    "frequencia = pd.Series(frequencia).sort_values(ascending=False)[:5]"
   ]
  },
  {
   "cell_type": "code",
   "execution_count": 71,
   "id": "1e98d971",
   "metadata": {},
   "outputs": [
    {
     "data": {
      "text/plain": [
       "<BarContainer object of 5 artists>"
      ]
     },
     "execution_count": 71,
     "metadata": {},
     "output_type": "execute_result"
    },
    {
     "data": {
      "image/png": "[encoded data removed]",
      "text/plain": [
       "<Figure size 640x480 with 1 Axes>"
      ]
     },
     "metadata": {},
     "output_type": "display_data"
    }
   ],
   "source": [
    "plt.bar(x = frequencia.index, height = frequencia.values, alpha = 0.5)"
   ]
  },
  {
   "cell_type": "code",
   "execution_count": null,
   "id": "e492c570",
   "metadata": {},
   "outputs": [],
   "source": []
  }
 ],
 "metadata": {
  "kernelspec": {
   "display_name": "Python 3 (ipykernel)",
   "language": "python",
   "name": "python3"
  },
  "language_info": {
   "codemirror_mode": {
    "name": "ipython",
    "version": 3
   },
   "file_extension": ".py",
   "mimetype": "text/x-python",
   "name": "python",
   "nbconvert_exporter": "python",
   "pygments_lexer": "ipython3",
   "version": "3.9.13"
  }
 },
 "nbformat": 4,
 "nbformat_minor": 5
}
