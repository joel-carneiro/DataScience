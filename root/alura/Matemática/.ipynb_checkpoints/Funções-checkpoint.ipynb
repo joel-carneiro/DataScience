{
 "cells": [
  {
   "cell_type": "markdown",
   "id": "6e1cfc29",
   "metadata": {},
   "source": [
    "# Matemática inicial\n",
    "---"
   ]
  },
  {
   "cell_type": "markdown",
   "id": "35b2927f",
   "metadata": {},
   "source": [
    "## Aula 1.0 "
   ]
  },
  {
   "cell_type": "code",
   "execution_count": 1,
   "id": "9b9012d2",
   "metadata": {},
   "outputs": [],
   "source": [
    "# Importando módulo para cálculo matemático\n",
    "import numpy as np\n",
    "\n",
    "# Importando módulo para cálculo de limites\n",
    "import sympy as sp\n",
    "\n",
    "# Definindo o símbolo da variável\n",
    "x = sp.Symbol('x')\n",
    "\n",
    "# Declaração da função\n",
    "f = sp.sin(x) + sp.cos(x)\n",
    "\n",
    "# Função para cálculo do limite\n",
    "lim = sp.limit(f, x, 1)"
   ]
  },
  {
   "cell_type": "code",
   "execution_count": 2,
   "id": "7b71f2f5",
   "metadata": {},
   "outputs": [
    {
     "data": {
      "text/latex": [
       "$\\displaystyle \\sin{\\left(x \\right)} + \\cos{\\left(x \\right)}$"
      ],
      "text/plain": [
       "sin(x) + cos(x)"
      ]
     },
     "execution_count": 2,
     "metadata": {},
     "output_type": "execute_result"
    }
   ],
   "source": [
    "# Visualizando a função\n",
    "f"
   ]
  },
  {
   "cell_type": "code",
   "execution_count": 3,
   "id": "169032b8",
   "metadata": {},
   "outputs": [
    {
     "data": {
      "text/latex": [
       "$\\displaystyle \\cos{\\left(1 \\right)} + \\sin{\\left(1 \\right)}$"
      ],
      "text/plain": [
       "cos(1) + sin(1)"
      ]
     },
     "execution_count": 3,
     "metadata": {},
     "output_type": "execute_result"
    }
   ],
   "source": [
    "# Visualizando o limite\n",
    "lim"
   ]
  },
  {
   "cell_type": "code",
   "execution_count": 4,
   "id": "32cb0d9d",
   "metadata": {},
   "outputs": [
    {
     "data": {
      "text/latex": [
       "$\\displaystyle - \\sin{\\left(x \\right)} + \\cos{\\left(x \\right)}$"
      ],
      "text/plain": [
       "-sin(x) + cos(x)"
      ]
     },
     "execution_count": 4,
     "metadata": {},
     "output_type": "execute_result"
    }
   ],
   "source": [
    "# Visualizando a derivada\n",
    "sp.diff(f)"
   ]
  },
  {
   "cell_type": "markdown",
   "id": "c417d53d",
   "metadata": {},
   "source": [
    "## Aula 2.0"
   ]
  },
  {
   "cell_type": "code",
   "execution_count": 5,
   "id": "4e5d307c",
   "metadata": {},
   "outputs": [],
   "source": [
    "f = x + 3\n",
    "g = x ** 2"
   ]
  },
  {
   "cell_type": "code",
   "execution_count": 13,
   "id": "e9b99ea1",
   "metadata": {},
   "outputs": [
    {
     "data": {
      "text/latex": [
       "$\\displaystyle x + 3$"
      ],
      "text/plain": [
       "x + 3"
      ]
     },
     "execution_count": 13,
     "metadata": {},
     "output_type": "execute_result"
    }
   ],
   "source": [
    "f "
   ]
  },
  {
   "cell_type": "code",
   "execution_count": 7,
   "id": "4cf0d696",
   "metadata": {
    "scrolled": true
   },
   "outputs": [
    {
     "data": {
      "text/latex": [
       "$\\displaystyle x^{2}$"
      ],
      "text/plain": [
       "x**2"
      ]
     },
     "execution_count": 7,
     "metadata": {},
     "output_type": "execute_result"
    }
   ],
   "source": [
    "g"
   ]
  },
  {
   "cell_type": "code",
   "execution_count": 8,
   "id": "846ad137",
   "metadata": {},
   "outputs": [
    {
     "data": {
      "text/latex": [
       "$\\displaystyle x^{2} + x + 3$"
      ],
      "text/plain": [
       "x**2 + x + 3"
      ]
     },
     "execution_count": 8,
     "metadata": {},
     "output_type": "execute_result"
    }
   ],
   "source": [
    "f + g"
   ]
  },
  {
   "cell_type": "code",
   "execution_count": 9,
   "id": "9a60b388",
   "metadata": {},
   "outputs": [
    {
     "data": {
      "text/plain": [
       "True"
      ]
     },
     "execution_count": 9,
     "metadata": {},
     "output_type": "execute_result"
    }
   ],
   "source": [
    "# O limite da soma de duas funções é igual ao limite de cada função somados\n",
    "k = 5\n",
    "\n",
    "sp.limit((f + g), x, k) == sp.limit(f, x, k) + sp.limit(g, x, k)"
   ]
  },
  {
   "cell_type": "code",
   "execution_count": 10,
   "id": "40fe53f9",
   "metadata": {},
   "outputs": [
    {
     "data": {
      "text/plain": [
       "True"
      ]
     },
     "execution_count": 10,
     "metadata": {},
     "output_type": "execute_result"
    }
   ],
   "source": [
    "# O limite de função multiplicada por uma constante é igual ao limite da função multiplicado pela constante\n",
    "sp.limit(f * k, x, k) == (k * sp.limit(f, x, k))"
   ]
  },
  {
   "cell_type": "markdown",
   "id": "96d8d3bb",
   "metadata": {},
   "source": [
    "## Aula 3.0"
   ]
  },
  {
   "cell_type": "code",
   "execution_count": 31,
   "id": "a7b3d360",
   "metadata": {},
   "outputs": [],
   "source": [
    "# Função para cálculo de variação média\n",
    "def average_variation(f, x, a, b):\n",
    "    top = sp.limit(f, x, b) - sp.limit(f, x, a)\n",
    "    bottom = b - a\n",
    "    \n",
    "    return (top / bottom)"
   ]
  },
  {
   "cell_type": "code",
   "execution_count": null,
   "id": "037987f5",
   "metadata": {},
   "outputs": [],
   "source": []
  }
 ],
 "metadata": {
  "kernelspec": {
   "display_name": "Python 3 (ipykernel)",
   "language": "python",
   "name": "python3"
  },
  "language_info": {
   "codemirror_mode": {
    "name": "ipython",
    "version": 3
   },
   "file_extension": ".py",
   "mimetype": "text/x-python",
   "name": "python",
   "nbconvert_exporter": "python",
   "pygments_lexer": "ipython3",
   "version": "3.9.13"
  }
 },
 "nbformat": 4,
 "nbformat_minor": 5
}
