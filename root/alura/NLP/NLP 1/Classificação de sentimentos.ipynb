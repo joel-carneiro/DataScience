{
 "cells": [
  {
   "cell_type": "markdown",
   "id": "6cdc81e6",
   "metadata": {},
   "source": [
    "# Classificação de sentimentos com ML\n",
    "---"
   ]
  },
  {
   "cell_type": "code",
   "execution_count": null,
   "id": "5a409f7f",
   "metadata": {},
   "outputs": [],
   "source": [
    "# Importando o módulo para análise de dados\n",
    "import pandas as pd\n",
    "\n",
    "# Definindo o dataset principal do projeto\n",
    "df = pd.read_csv('imdb-reviews-pt-br.csv')\n",
    "\n",
    "# Visualizando as 5 primeiras observações do dataset\n",
    "df.tail()"
   ]
  },
  {
   "cell_type": "code",
   "execution_count": null,
   "id": "056f7cd4",
   "metadata": {},
   "outputs": [],
   "source": [
    "# Exemplo de texto negativo\n",
    "print('Exemplo negativo')\n",
    "df['text_pt'][0]"
   ]
  },
  {
   "cell_type": "code",
   "execution_count": null,
   "id": "ee0af3c4",
   "metadata": {},
   "outputs": [],
   "source": [
    "# Exemplo de texto positivo\n",
    "print('Exemplo positivo')\n",
    "df['text_pt'][49458]"
   ]
  },
  {
   "cell_type": "code",
   "execution_count": null,
   "id": "da30c2ef",
   "metadata": {},
   "outputs": [],
   "source": [
    "# Avaliando se os dados são balanceados\n",
    "pd.value_counts(df['sentiment'])"
   ]
  },
  {
   "cell_type": "code",
   "execution_count": null,
   "id": "fb7cf794",
   "metadata": {},
   "outputs": [],
   "source": [
    "# Padronizando os dados de sentimentos\n",
    "df['classification'] = df['sentiment'].replace({'neg' : 0, 'pos' : 1})\n",
    "df.head()"
   ]
  },
  {
   "cell_type": "code",
   "execution_count": null,
   "id": "ddf80b3e",
   "metadata": {},
   "outputs": [],
   "source": [
    "from sklearn.feature_extraction.text import CountVectorizer\n",
    "\n",
    "count_vectorizer = CountVectorizer(lowercase=False, max_features=50)\n",
    "bag_of_words = count_vectorizer.fit_transform(df['text_pt'])\n",
    "print(bag_of_words.shape)"
   ]
  },
  {
   "cell_type": "code",
   "execution_count": null,
   "id": "3fd97f49-5f4f-4120-9df6-ec4fb2e72945",
   "metadata": {},
   "outputs": [],
   "source": [
    "# Importando função para separação de dados entre treino e teste\n",
    "from sklearn.model_selection import train_test_split\n",
    "\n",
    "# Importando modelo de machine learning\n",
    "from sklearn.linear_model import LogisticRegression\n",
    "\n",
    "def run_model(df):\n",
    "    # Separando dado de output\n",
    "    y = df['classification']\n",
    "\n",
    "    # Separando dados entre test e train\n",
    "    x_train, x_test, y_train, y_test = train_test_split(bag_of_words, y, random_state = 101, test_size = 0.25)\n",
    "\n",
    "    # Instânciando um objeto LogisticRegression\n",
    "    logistic_regression = LogisticRegression(solver='lbfgs')\n",
    "\n",
    "    # Treinando o modelo\n",
    "    logistic_regression.fit(x_train, y_train)\n",
    "\n",
    "    # Calculando a acurácia\n",
    "    return logistic_regression.score(x_test, y_test)\n",
    "\n",
    "run_model(df = df)"
   ]
  },
  {
   "cell_type": "code",
   "execution_count": null,
   "id": "81bf8174-ac4a-447e-95b7-3243942a4855",
   "metadata": {},
   "outputs": [],
   "source": [
    "from wordcloud import WordCloud\n",
    "\n",
    "all_words = ' '.join([text for text in df.text_pt])\n",
    "\n",
    "word_cloud = WordCloud().generate(all_words)"
   ]
  },
  {
   "cell_type": "code",
   "execution_count": null,
   "id": "1df7b874-8b3a-4758-ad43-146285b0a7ee",
   "metadata": {},
   "outputs": [],
   "source": [
    "word_cloud"
   ]
  },
  {
   "cell_type": "code",
   "execution_count": null,
   "id": "545e324b-0126-498c-a7c4-653defa4affb",
   "metadata": {},
   "outputs": [],
   "source": []
  }
 ],
 "metadata": {
  "kernelspec": {
   "display_name": "Python 3 (ipykernel)",
   "language": "python",
   "name": "python3"
  },
  "language_info": {
   "codemirror_mode": {
    "name": "ipython",
    "version": 3
   },
   "file_extension": ".py",
   "mimetype": "text/x-python",
   "name": "python",
   "nbconvert_exporter": "python",
   "pygments_lexer": "ipython3",
   "version": "3.9.13"
  }
 },
 "nbformat": 4,
 "nbformat_minor": 5
}
