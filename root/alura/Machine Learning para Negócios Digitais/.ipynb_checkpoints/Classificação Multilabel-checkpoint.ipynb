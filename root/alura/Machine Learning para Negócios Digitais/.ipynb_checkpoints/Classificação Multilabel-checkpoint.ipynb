{
 "cells": [
  {
   "cell_type": "markdown",
   "id": "a8f74f92",
   "metadata": {},
   "source": [
    "# Aula 1"
   ]
  },
  {
   "cell_type": "code",
   "execution_count": 1,
   "id": "d957af63",
   "metadata": {},
   "outputs": [],
   "source": [
    "import pandas as pd"
   ]
  },
  {
   "cell_type": "code",
   "execution_count": 2,
   "id": "d48c6c61",
   "metadata": {},
   "outputs": [],
   "source": [
    "raw_data = 'https://raw.githubusercontent.com/alura-cursos/alura_classificacao_multilabel/master/dataset/stackoverflow_perguntas.csv'\n",
    "\n",
    "dataset = pd.read_csv(raw_data)"
   ]
  },
  {
   "cell_type": "code",
   "execution_count": 3,
   "id": "8c8807ac",
   "metadata": {},
   "outputs": [
    {
     "data": {
      "text/html": [
       "<div>\n",
       "<style scoped>\n",
       "    .dataframe tbody tr th:only-of-type {\n",
       "        vertical-align: middle;\n",
       "    }\n",
       "\n",
       "    .dataframe tbody tr th {\n",
       "        vertical-align: top;\n",
       "    }\n",
       "\n",
       "    .dataframe thead th {\n",
       "        text-align: right;\n",
       "    }\n",
       "</style>\n",
       "<table border=\"1\" class=\"dataframe\">\n",
       "  <thead>\n",
       "    <tr style=\"text-align: right;\">\n",
       "      <th></th>\n",
       "      <th>Perguntas</th>\n",
       "      <th>Tags</th>\n",
       "    </tr>\n",
       "  </thead>\n",
       "  <tbody>\n",
       "    <tr>\n",
       "      <th>4803</th>\n",
       "      <td>Minha intenção é:  Uma listagem onde é possíve...</td>\n",
       "      <td>jquery</td>\n",
       "    </tr>\n",
       "    <tr>\n",
       "      <th>492</th>\n",
       "      <td>Estou aprendendo Angular CLI e consegui fazer ...</td>\n",
       "      <td>angular</td>\n",
       "    </tr>\n",
       "    <tr>\n",
       "      <th>1863</th>\n",
       "      <td>Boa noite, vou fornecer uma imagem e o código....</td>\n",
       "      <td>html</td>\n",
       "    </tr>\n",
       "    <tr>\n",
       "      <th>4263</th>\n",
       "      <td>O trecho de código abaixo:  CODE   É escrito e...</td>\n",
       "      <td>jquery</td>\n",
       "    </tr>\n",
       "    <tr>\n",
       "      <th>5223</th>\n",
       "      <td>To precisando de uma ajuda a respeito de como ...</td>\n",
       "      <td>jquery</td>\n",
       "    </tr>\n",
       "    <tr>\n",
       "      <th>4220</th>\n",
       "      <td>Eu tenho um código onde faço a validação dos c...</td>\n",
       "      <td>html</td>\n",
       "    </tr>\n",
       "    <tr>\n",
       "      <th>3893</th>\n",
       "      <td>A versão do nodejs é: v8.10.0  Não tenho muito...</td>\n",
       "      <td>node.js</td>\n",
       "    </tr>\n",
       "    <tr>\n",
       "      <th>2491</th>\n",
       "      <td>Eu tenho dois botoes que o ID deles vem de um ...</td>\n",
       "      <td>angular</td>\n",
       "    </tr>\n",
       "    <tr>\n",
       "      <th>1682</th>\n",
       "      <td>estou tentando criar um menu onde o uma div ga...</td>\n",
       "      <td>jquery</td>\n",
       "    </tr>\n",
       "    <tr>\n",
       "      <th>4690</th>\n",
       "      <td>Tenho um texto posicionado no centro de uma im...</td>\n",
       "      <td>html</td>\n",
       "    </tr>\n",
       "  </tbody>\n",
       "</table>\n",
       "</div>"
      ],
      "text/plain": [
       "                                              Perguntas      Tags\n",
       "4803  Minha intenção é:  Uma listagem onde é possíve...    jquery\n",
       "492   Estou aprendendo Angular CLI e consegui fazer ...   angular\n",
       "1863  Boa noite, vou fornecer uma imagem e o código....      html\n",
       "4263  O trecho de código abaixo:  CODE   É escrito e...    jquery\n",
       "5223  To precisando de uma ajuda a respeito de como ...    jquery\n",
       "4220  Eu tenho um código onde faço a validação dos c...      html\n",
       "3893  A versão do nodejs é: v8.10.0  Não tenho muito...   node.js\n",
       "2491  Eu tenho dois botoes que o ID deles vem de um ...  angular \n",
       "1682  estou tentando criar um menu onde o uma div ga...    jquery\n",
       "4690  Tenho um texto posicionado no centro de uma im...     html "
      ]
     },
     "execution_count": 3,
     "metadata": {},
     "output_type": "execute_result"
    }
   ],
   "source": [
    "dataset.sample(10)"
   ]
  },
  {
   "cell_type": "code",
   "execution_count": 4,
   "id": "2b33336d",
   "metadata": {
    "scrolled": false
   },
   "outputs": [
    {
     "data": {
      "text/html": [
       "<div>\n",
       "<style scoped>\n",
       "    .dataframe tbody tr th:only-of-type {\n",
       "        vertical-align: middle;\n",
       "    }\n",
       "\n",
       "    .dataframe tbody tr th {\n",
       "        vertical-align: top;\n",
       "    }\n",
       "\n",
       "    .dataframe thead th {\n",
       "        text-align: right;\n",
       "    }\n",
       "</style>\n",
       "<table border=\"1\" class=\"dataframe\">\n",
       "  <thead>\n",
       "    <tr style=\"text-align: right;\">\n",
       "      <th></th>\n",
       "      <th>Perguntas</th>\n",
       "      <th>Tags</th>\n",
       "    </tr>\n",
       "  </thead>\n",
       "  <tbody>\n",
       "    <tr>\n",
       "      <th>0</th>\n",
       "      <td>Possuo um projeto Node.js porém preciso criar ...</td>\n",
       "      <td>node.js</td>\n",
       "    </tr>\n",
       "    <tr>\n",
       "      <th>1</th>\n",
       "      <td>Gostaria de fazer testes unitários no Node.js,...</td>\n",
       "      <td>node.js</td>\n",
       "    </tr>\n",
       "    <tr>\n",
       "      <th>2</th>\n",
       "      <td>Como inverter a ordem com que o jQuery itera u...</td>\n",
       "      <td>jquery</td>\n",
       "    </tr>\n",
       "    <tr>\n",
       "      <th>3</th>\n",
       "      <td>Eu tenho uma página onde pretendo utilizar um ...</td>\n",
       "      <td>html</td>\n",
       "    </tr>\n",
       "    <tr>\n",
       "      <th>4</th>\n",
       "      <td>Como exibir os dados retornados do FireStore e...</td>\n",
       "      <td>html angular</td>\n",
       "    </tr>\n",
       "    <tr>\n",
       "      <th>...</th>\n",
       "      <td>...</td>\n",
       "      <td>...</td>\n",
       "    </tr>\n",
       "    <tr>\n",
       "      <th>5403</th>\n",
       "      <td>Queria saber como pegar o total de cores de um...</td>\n",
       "      <td>jquery html</td>\n",
       "    </tr>\n",
       "    <tr>\n",
       "      <th>5404</th>\n",
       "      <td>Boa noite, estou usando phonegap para fazer um...</td>\n",
       "      <td>html</td>\n",
       "    </tr>\n",
       "    <tr>\n",
       "      <th>5405</th>\n",
       "      <td>Estou construindo um mini fórum, e nele, os us...</td>\n",
       "      <td>jquery html</td>\n",
       "    </tr>\n",
       "    <tr>\n",
       "      <th>5406</th>\n",
       "      <td>Boa tarde,  Estou para desenvolver um site na ...</td>\n",
       "      <td>html</td>\n",
       "    </tr>\n",
       "    <tr>\n",
       "      <th>5407</th>\n",
       "      <td>Estou fazendo um hotsite, ele é one page, e é ...</td>\n",
       "      <td>jquery html</td>\n",
       "    </tr>\n",
       "  </tbody>\n",
       "</table>\n",
       "<p>5408 rows × 2 columns</p>\n",
       "</div>"
      ],
      "text/plain": [
       "                                              Perguntas           Tags\n",
       "0     Possuo um projeto Node.js porém preciso criar ...        node.js\n",
       "1     Gostaria de fazer testes unitários no Node.js,...        node.js\n",
       "2     Como inverter a ordem com que o jQuery itera u...         jquery\n",
       "3     Eu tenho uma página onde pretendo utilizar um ...           html\n",
       "4     Como exibir os dados retornados do FireStore e...  html angular \n",
       "...                                                 ...            ...\n",
       "5403  Queria saber como pegar o total de cores de um...   jquery html \n",
       "5404  Boa noite, estou usando phonegap para fazer um...          html \n",
       "5405  Estou construindo um mini fórum, e nele, os us...    jquery html\n",
       "5406  Boa tarde,  Estou para desenvolver um site na ...           html\n",
       "5407  Estou fazendo um hotsite, ele é one page, e é ...    jquery html\n",
       "\n",
       "[5408 rows x 2 columns]"
      ]
     },
     "execution_count": 4,
     "metadata": {},
     "output_type": "execute_result"
    }
   ],
   "source": [
    "dataset"
   ]
  },
  {
   "cell_type": "markdown",
   "id": "ad3510ab",
   "metadata": {},
   "source": [
    "# Aula 2"
   ]
  },
  {
   "cell_type": "code",
   "execution_count": 5,
   "id": "f74ed247",
   "metadata": {},
   "outputs": [],
   "source": [
    "dataset['Tags'] = dataset['Tags'].apply(lambda string : string.strip())"
   ]
  },
  {
   "cell_type": "code",
   "execution_count": 6,
   "id": "6bd621b7",
   "metadata": {},
   "outputs": [],
   "source": [
    "lista = set()\n",
    "for string in dataset['Tags'].unique():\n",
    "    for item in string.split():\n",
    "        lista.add(item)"
   ]
  },
  {
   "cell_type": "code",
   "execution_count": 7,
   "id": "a901f661",
   "metadata": {},
   "outputs": [],
   "source": [
    "lista = list(lista)"
   ]
  },
  {
   "cell_type": "code",
   "execution_count": 8,
   "id": "c2135c76",
   "metadata": {},
   "outputs": [],
   "source": [
    "for i in range(len(lista)):\n",
    "    dataset[lista[i]] = dataset['Tags'].apply(lambda item : lista[i] in item)"
   ]
  },
  {
   "cell_type": "code",
   "execution_count": 9,
   "id": "cffc68e4",
   "metadata": {},
   "outputs": [],
   "source": [
    "dataset = dataset.replace({True : 1, False: 0})"
   ]
  },
  {
   "cell_type": "code",
   "execution_count": 10,
   "id": "41996dec",
   "metadata": {},
   "outputs": [
    {
     "data": {
      "text/html": [
       "<div>\n",
       "<style scoped>\n",
       "    .dataframe tbody tr th:only-of-type {\n",
       "        vertical-align: middle;\n",
       "    }\n",
       "\n",
       "    .dataframe tbody tr th {\n",
       "        vertical-align: top;\n",
       "    }\n",
       "\n",
       "    .dataframe thead th {\n",
       "        text-align: right;\n",
       "    }\n",
       "</style>\n",
       "<table border=\"1\" class=\"dataframe\">\n",
       "  <thead>\n",
       "    <tr style=\"text-align: right;\">\n",
       "      <th></th>\n",
       "      <th>Perguntas</th>\n",
       "      <th>Tags</th>\n",
       "      <th>jquery</th>\n",
       "      <th>node.js</th>\n",
       "      <th>angular</th>\n",
       "      <th>html</th>\n",
       "    </tr>\n",
       "  </thead>\n",
       "  <tbody>\n",
       "    <tr>\n",
       "      <th>0</th>\n",
       "      <td>Possuo um projeto Node.js porém preciso criar ...</td>\n",
       "      <td>node.js</td>\n",
       "      <td>0</td>\n",
       "      <td>1</td>\n",
       "      <td>0</td>\n",
       "      <td>0</td>\n",
       "    </tr>\n",
       "    <tr>\n",
       "      <th>1</th>\n",
       "      <td>Gostaria de fazer testes unitários no Node.js,...</td>\n",
       "      <td>node.js</td>\n",
       "      <td>0</td>\n",
       "      <td>1</td>\n",
       "      <td>0</td>\n",
       "      <td>0</td>\n",
       "    </tr>\n",
       "    <tr>\n",
       "      <th>2</th>\n",
       "      <td>Como inverter a ordem com que o jQuery itera u...</td>\n",
       "      <td>jquery</td>\n",
       "      <td>1</td>\n",
       "      <td>0</td>\n",
       "      <td>0</td>\n",
       "      <td>0</td>\n",
       "    </tr>\n",
       "    <tr>\n",
       "      <th>3</th>\n",
       "      <td>Eu tenho uma página onde pretendo utilizar um ...</td>\n",
       "      <td>html</td>\n",
       "      <td>0</td>\n",
       "      <td>0</td>\n",
       "      <td>0</td>\n",
       "      <td>1</td>\n",
       "    </tr>\n",
       "    <tr>\n",
       "      <th>4</th>\n",
       "      <td>Como exibir os dados retornados do FireStore e...</td>\n",
       "      <td>html angular</td>\n",
       "      <td>0</td>\n",
       "      <td>0</td>\n",
       "      <td>1</td>\n",
       "      <td>1</td>\n",
       "    </tr>\n",
       "    <tr>\n",
       "      <th>...</th>\n",
       "      <td>...</td>\n",
       "      <td>...</td>\n",
       "      <td>...</td>\n",
       "      <td>...</td>\n",
       "      <td>...</td>\n",
       "      <td>...</td>\n",
       "    </tr>\n",
       "    <tr>\n",
       "      <th>5403</th>\n",
       "      <td>Queria saber como pegar o total de cores de um...</td>\n",
       "      <td>jquery html</td>\n",
       "      <td>1</td>\n",
       "      <td>0</td>\n",
       "      <td>0</td>\n",
       "      <td>1</td>\n",
       "    </tr>\n",
       "    <tr>\n",
       "      <th>5404</th>\n",
       "      <td>Boa noite, estou usando phonegap para fazer um...</td>\n",
       "      <td>html</td>\n",
       "      <td>0</td>\n",
       "      <td>0</td>\n",
       "      <td>0</td>\n",
       "      <td>1</td>\n",
       "    </tr>\n",
       "    <tr>\n",
       "      <th>5405</th>\n",
       "      <td>Estou construindo um mini fórum, e nele, os us...</td>\n",
       "      <td>jquery html</td>\n",
       "      <td>1</td>\n",
       "      <td>0</td>\n",
       "      <td>0</td>\n",
       "      <td>1</td>\n",
       "    </tr>\n",
       "    <tr>\n",
       "      <th>5406</th>\n",
       "      <td>Boa tarde,  Estou para desenvolver um site na ...</td>\n",
       "      <td>html</td>\n",
       "      <td>0</td>\n",
       "      <td>0</td>\n",
       "      <td>0</td>\n",
       "      <td>1</td>\n",
       "    </tr>\n",
       "    <tr>\n",
       "      <th>5407</th>\n",
       "      <td>Estou fazendo um hotsite, ele é one page, e é ...</td>\n",
       "      <td>jquery html</td>\n",
       "      <td>1</td>\n",
       "      <td>0</td>\n",
       "      <td>0</td>\n",
       "      <td>1</td>\n",
       "    </tr>\n",
       "  </tbody>\n",
       "</table>\n",
       "<p>5408 rows × 6 columns</p>\n",
       "</div>"
      ],
      "text/plain": [
       "                                              Perguntas          Tags  jquery  \\\n",
       "0     Possuo um projeto Node.js porém preciso criar ...       node.js       0   \n",
       "1     Gostaria de fazer testes unitários no Node.js,...       node.js       0   \n",
       "2     Como inverter a ordem com que o jQuery itera u...        jquery       1   \n",
       "3     Eu tenho uma página onde pretendo utilizar um ...          html       0   \n",
       "4     Como exibir os dados retornados do FireStore e...  html angular       0   \n",
       "...                                                 ...           ...     ...   \n",
       "5403  Queria saber como pegar o total de cores de um...   jquery html       1   \n",
       "5404  Boa noite, estou usando phonegap para fazer um...          html       0   \n",
       "5405  Estou construindo um mini fórum, e nele, os us...   jquery html       1   \n",
       "5406  Boa tarde,  Estou para desenvolver um site na ...          html       0   \n",
       "5407  Estou fazendo um hotsite, ele é one page, e é ...   jquery html       1   \n",
       "\n",
       "      node.js  angular  html  \n",
       "0           1        0     0  \n",
       "1           1        0     0  \n",
       "2           0        0     0  \n",
       "3           0        0     1  \n",
       "4           0        1     1  \n",
       "...       ...      ...   ...  \n",
       "5403        0        0     1  \n",
       "5404        0        0     1  \n",
       "5405        0        0     1  \n",
       "5406        0        0     1  \n",
       "5407        0        0     1  \n",
       "\n",
       "[5408 rows x 6 columns]"
      ]
     },
     "execution_count": 10,
     "metadata": {},
     "output_type": "execute_result"
    }
   ],
   "source": [
    "dataset"
   ]
  },
  {
   "cell_type": "markdown",
   "id": "eecbf754",
   "metadata": {},
   "source": [
    "# Aula 3"
   ]
  },
  {
   "cell_type": "code",
   "execution_count": 11,
   "id": "1a5ec262",
   "metadata": {},
   "outputs": [],
   "source": [
    "from sklearn.model_selection import train_test_split"
   ]
  },
  {
   "cell_type": "code",
   "execution_count": 29,
   "id": "0412a94c",
   "metadata": {},
   "outputs": [
    {
     "name": "stdout",
     "output_type": "stream",
     "text": [
      "(1, 3)\n",
      "(2, 4)\n"
     ]
    }
   ],
   "source": [
    "for i in zip([1,2], [3, 4]):\n",
    "    print(i)"
   ]
  },
  {
   "cell_type": "code",
   "execution_count": 31,
   "id": "0a8f626d",
   "metadata": {},
   "outputs": [
    {
     "data": {
      "text/plain": [
       "0       0\n",
       "1       0\n",
       "2       1\n",
       "3       0\n",
       "4       0\n",
       "       ..\n",
       "5403    1\n",
       "5404    0\n",
       "5405    1\n",
       "5406    0\n",
       "5407    1\n",
       "Name: jquery, Length: 5408, dtype: int64"
      ]
     },
     "execution_count": 31,
     "metadata": {},
     "output_type": "execute_result"
    }
   ],
   "source": [
    "dataset['jquery']"
   ]
  },
  {
   "cell_type": "code",
   "execution_count": 33,
   "id": "7fa01bdc",
   "metadata": {},
   "outputs": [],
   "source": [
    "lista_de_tags = lista"
   ]
  },
  {
   "cell_type": "code",
   "execution_count": 41,
   "id": "4075a1d2",
   "metadata": {},
   "outputs": [],
   "source": [
    "lista_zip = list(zip(dataset[lista_de_tags[0]],\n",
    "             dataset[lista_de_tags[1]],\n",
    "             dataset[lista_de_tags[2]],\n",
    "             dataset[lista_de_tags[3]]))"
   ]
  },
  {
   "cell_type": "code",
   "execution_count": 42,
   "id": "6bbe6d3f",
   "metadata": {},
   "outputs": [],
   "source": [
    "dataset['Todas as tags'] = lista_zip"
   ]
  },
  {
   "cell_type": "code",
   "execution_count": 44,
   "id": "4a92e2c9",
   "metadata": {},
   "outputs": [
    {
     "data": {
      "text/html": [
       "<div>\n",
       "<style scoped>\n",
       "    .dataframe tbody tr th:only-of-type {\n",
       "        vertical-align: middle;\n",
       "    }\n",
       "\n",
       "    .dataframe tbody tr th {\n",
       "        vertical-align: top;\n",
       "    }\n",
       "\n",
       "    .dataframe thead th {\n",
       "        text-align: right;\n",
       "    }\n",
       "</style>\n",
       "<table border=\"1\" class=\"dataframe\">\n",
       "  <thead>\n",
       "    <tr style=\"text-align: right;\">\n",
       "      <th></th>\n",
       "      <th>Perguntas</th>\n",
       "      <th>Tags</th>\n",
       "      <th>jquery</th>\n",
       "      <th>node.js</th>\n",
       "      <th>angular</th>\n",
       "      <th>html</th>\n",
       "      <th>Todas as tags</th>\n",
       "    </tr>\n",
       "  </thead>\n",
       "  <tbody>\n",
       "    <tr>\n",
       "      <th>0</th>\n",
       "      <td>Possuo um projeto Node.js porém preciso criar ...</td>\n",
       "      <td>node.js</td>\n",
       "      <td>0</td>\n",
       "      <td>1</td>\n",
       "      <td>0</td>\n",
       "      <td>0</td>\n",
       "      <td>(0, 1, 0, 0)</td>\n",
       "    </tr>\n",
       "    <tr>\n",
       "      <th>1</th>\n",
       "      <td>Gostaria de fazer testes unitários no Node.js,...</td>\n",
       "      <td>node.js</td>\n",
       "      <td>0</td>\n",
       "      <td>1</td>\n",
       "      <td>0</td>\n",
       "      <td>0</td>\n",
       "      <td>(0, 1, 0, 0)</td>\n",
       "    </tr>\n",
       "    <tr>\n",
       "      <th>2</th>\n",
       "      <td>Como inverter a ordem com que o jQuery itera u...</td>\n",
       "      <td>jquery</td>\n",
       "      <td>1</td>\n",
       "      <td>0</td>\n",
       "      <td>0</td>\n",
       "      <td>0</td>\n",
       "      <td>(1, 0, 0, 0)</td>\n",
       "    </tr>\n",
       "    <tr>\n",
       "      <th>3</th>\n",
       "      <td>Eu tenho uma página onde pretendo utilizar um ...</td>\n",
       "      <td>html</td>\n",
       "      <td>0</td>\n",
       "      <td>0</td>\n",
       "      <td>0</td>\n",
       "      <td>1</td>\n",
       "      <td>(0, 0, 0, 1)</td>\n",
       "    </tr>\n",
       "    <tr>\n",
       "      <th>4</th>\n",
       "      <td>Como exibir os dados retornados do FireStore e...</td>\n",
       "      <td>html angular</td>\n",
       "      <td>0</td>\n",
       "      <td>0</td>\n",
       "      <td>1</td>\n",
       "      <td>1</td>\n",
       "      <td>(0, 0, 1, 1)</td>\n",
       "    </tr>\n",
       "    <tr>\n",
       "      <th>...</th>\n",
       "      <td>...</td>\n",
       "      <td>...</td>\n",
       "      <td>...</td>\n",
       "      <td>...</td>\n",
       "      <td>...</td>\n",
       "      <td>...</td>\n",
       "      <td>...</td>\n",
       "    </tr>\n",
       "    <tr>\n",
       "      <th>5403</th>\n",
       "      <td>Queria saber como pegar o total de cores de um...</td>\n",
       "      <td>jquery html</td>\n",
       "      <td>1</td>\n",
       "      <td>0</td>\n",
       "      <td>0</td>\n",
       "      <td>1</td>\n",
       "      <td>(1, 0, 0, 1)</td>\n",
       "    </tr>\n",
       "    <tr>\n",
       "      <th>5404</th>\n",
       "      <td>Boa noite, estou usando phonegap para fazer um...</td>\n",
       "      <td>html</td>\n",
       "      <td>0</td>\n",
       "      <td>0</td>\n",
       "      <td>0</td>\n",
       "      <td>1</td>\n",
       "      <td>(0, 0, 0, 1)</td>\n",
       "    </tr>\n",
       "    <tr>\n",
       "      <th>5405</th>\n",
       "      <td>Estou construindo um mini fórum, e nele, os us...</td>\n",
       "      <td>jquery html</td>\n",
       "      <td>1</td>\n",
       "      <td>0</td>\n",
       "      <td>0</td>\n",
       "      <td>1</td>\n",
       "      <td>(1, 0, 0, 1)</td>\n",
       "    </tr>\n",
       "    <tr>\n",
       "      <th>5406</th>\n",
       "      <td>Boa tarde,  Estou para desenvolver um site na ...</td>\n",
       "      <td>html</td>\n",
       "      <td>0</td>\n",
       "      <td>0</td>\n",
       "      <td>0</td>\n",
       "      <td>1</td>\n",
       "      <td>(0, 0, 0, 1)</td>\n",
       "    </tr>\n",
       "    <tr>\n",
       "      <th>5407</th>\n",
       "      <td>Estou fazendo um hotsite, ele é one page, e é ...</td>\n",
       "      <td>jquery html</td>\n",
       "      <td>1</td>\n",
       "      <td>0</td>\n",
       "      <td>0</td>\n",
       "      <td>1</td>\n",
       "      <td>(1, 0, 0, 1)</td>\n",
       "    </tr>\n",
       "  </tbody>\n",
       "</table>\n",
       "<p>5408 rows × 7 columns</p>\n",
       "</div>"
      ],
      "text/plain": [
       "                                              Perguntas          Tags  jquery  \\\n",
       "0     Possuo um projeto Node.js porém preciso criar ...       node.js       0   \n",
       "1     Gostaria de fazer testes unitários no Node.js,...       node.js       0   \n",
       "2     Como inverter a ordem com que o jQuery itera u...        jquery       1   \n",
       "3     Eu tenho uma página onde pretendo utilizar um ...          html       0   \n",
       "4     Como exibir os dados retornados do FireStore e...  html angular       0   \n",
       "...                                                 ...           ...     ...   \n",
       "5403  Queria saber como pegar o total de cores de um...   jquery html       1   \n",
       "5404  Boa noite, estou usando phonegap para fazer um...          html       0   \n",
       "5405  Estou construindo um mini fórum, e nele, os us...   jquery html       1   \n",
       "5406  Boa tarde,  Estou para desenvolver um site na ...          html       0   \n",
       "5407  Estou fazendo um hotsite, ele é one page, e é ...   jquery html       1   \n",
       "\n",
       "      node.js  angular  html Todas as tags  \n",
       "0           1        0     0  (0, 1, 0, 0)  \n",
       "1           1        0     0  (0, 1, 0, 0)  \n",
       "2           0        0     0  (1, 0, 0, 0)  \n",
       "3           0        0     1  (0, 0, 0, 1)  \n",
       "4           0        1     1  (0, 0, 1, 1)  \n",
       "...       ...      ...   ...           ...  \n",
       "5403        0        0     1  (1, 0, 0, 1)  \n",
       "5404        0        0     1  (0, 0, 0, 1)  \n",
       "5405        0        0     1  (1, 0, 0, 1)  \n",
       "5406        0        0     1  (0, 0, 0, 1)  \n",
       "5407        0        0     1  (1, 0, 0, 1)  \n",
       "\n",
       "[5408 rows x 7 columns]"
      ]
     },
     "execution_count": 44,
     "metadata": {},
     "output_type": "execute_result"
    }
   ],
   "source": [
    "dataset"
   ]
  },
  {
   "cell_type": "code",
   "execution_count": 50,
   "id": "a8649587",
   "metadata": {},
   "outputs": [],
   "source": [
    "x_train, x_test, y_train, y_test = train_test_split(dataset['Perguntas'], dataset['Todas as tags'], random_state=100)"
   ]
  },
  {
   "cell_type": "code",
   "execution_count": 51,
   "id": "d8aeeb83",
   "metadata": {},
   "outputs": [
    {
     "data": {
      "text/plain": [
       "2561    (1, 0, 0, 0)\n",
       "1539    (0, 0, 1, 0)\n",
       "2363    (0, 0, 0, 1)\n",
       "4171    (1, 0, 0, 0)\n",
       "3845    (1, 0, 0, 0)\n",
       "            ...     \n",
       "4149    (0, 0, 1, 0)\n",
       "1890    (1, 0, 1, 1)\n",
       "350     (0, 0, 1, 0)\n",
       "79      (0, 0, 0, 1)\n",
       "3927    (0, 0, 1, 0)\n",
       "Name: Todas as tags, Length: 4056, dtype: object"
      ]
     },
     "execution_count": 51,
     "metadata": {},
     "output_type": "execute_result"
    }
   ],
   "source": [
    "y_train"
   ]
  },
  {
   "cell_type": "code",
   "execution_count": 52,
   "id": "a00d9c4c",
   "metadata": {},
   "outputs": [
    {
     "data": {
      "text/plain": [
       "2561    Tenho um uma página, onde devo realizar traduç...\n",
       "1539    Olá  a todos, tenho um  component com 1266 lin...\n",
       "2363      Eu quero pegar o valor \"13\" presente neste l...\n",
       "4171    Estou tentando utilizar JavaScript para calcul...\n",
       "3845    Na função success não estou conseguindo setar ...\n",
       "                              ...                        \n",
       "4149    Estou tendo um problema na criação de um Pipe ...\n",
       "1890    Estou desenvolvendo um Projeto Web e neste pro...\n",
       "350     Fiz um método e gostaria de usar ele como Vali...\n",
       "79      Boa tarde  Como posso desagrupar esse grupo de...\n",
       "3927    Estou consumindo dados de uma api utilizando a...\n",
       "Name: Perguntas, Length: 4056, dtype: object"
      ]
     },
     "execution_count": 52,
     "metadata": {},
     "output_type": "execute_result"
    }
   ],
   "source": [
    "x_train"
   ]
  },
  {
   "cell_type": "code",
   "execution_count": 57,
   "id": "02b0d5c9",
   "metadata": {},
   "outputs": [],
   "source": [
    "from sklearn.feature_extraction.text import TfidfVectorizer\n",
    "\n",
    "vetorizador = TfidfVectorizer(max_features=5000, max_df=0.85)"
   ]
  },
  {
   "cell_type": "code",
   "execution_count": 58,
   "id": "ad455f29",
   "metadata": {},
   "outputs": [
    {
     "data": {
      "text/plain": [
       "TfidfVectorizer(max_df=0.85, max_features=5000)"
      ]
     },
     "execution_count": 58,
     "metadata": {},
     "output_type": "execute_result"
    }
   ],
   "source": [
    "vetorizador.fit(dataset['Perguntas'])"
   ]
  },
  {
   "cell_type": "code",
   "execution_count": 60,
   "id": "c745bf08",
   "metadata": {},
   "outputs": [],
   "source": [
    "x_train_tfidf = vetorizador.transform(x_train)\n",
    "x_test_tfidf = vetorizador.transform(x_test)"
   ]
  },
  {
   "cell_type": "code",
   "execution_count": 62,
   "id": "110e5f45",
   "metadata": {},
   "outputs": [
    {
     "data": {
      "text/plain": [
       "(4056, 5000)"
      ]
     },
     "execution_count": 62,
     "metadata": {},
     "output_type": "execute_result"
    }
   ],
   "source": [
    "x_train_tfidf.shape"
   ]
  },
  {
   "cell_type": "code",
   "execution_count": 63,
   "id": "8500c4fc",
   "metadata": {},
   "outputs": [
    {
     "data": {
      "text/plain": [
       "(1352, 5000)"
      ]
     },
     "execution_count": 63,
     "metadata": {},
     "output_type": "execute_result"
    }
   ],
   "source": [
    "x_test_tfidf.shape"
   ]
  },
  {
   "cell_type": "markdown",
   "id": "1f9dbf32",
   "metadata": {},
   "source": [
    "# Aula 4"
   ]
  },
  {
   "cell_type": "code",
   "execution_count": 71,
   "id": "bb2b6813",
   "metadata": {},
   "outputs": [],
   "source": [
    "import numpy as np"
   ]
  },
  {
   "cell_type": "code",
   "execution_count": 77,
   "id": "68eaed99",
   "metadata": {},
   "outputs": [],
   "source": [
    "y_train_array = np.asarray(list(y_train))\n",
    "y_test_array = np.asarray(list(y_test))"
   ]
  },
  {
   "cell_type": "code",
   "execution_count": 78,
   "id": "d43631b2",
   "metadata": {},
   "outputs": [
    {
     "data": {
      "text/plain": [
       "array([[1, 0, 0, 0],\n",
       "       [0, 0, 1, 0],\n",
       "       [0, 0, 0, 1],\n",
       "       ...,\n",
       "       [0, 0, 1, 0],\n",
       "       [0, 0, 0, 1],\n",
       "       [0, 0, 1, 0]])"
      ]
     },
     "execution_count": 78,
     "metadata": {},
     "output_type": "execute_result"
    }
   ],
   "source": [
    "y_train_array"
   ]
  },
  {
   "cell_type": "code",
   "execution_count": 80,
   "id": "21d79579",
   "metadata": {},
   "outputs": [],
   "source": [
    "from sklearn.multiclass import OneVsRestClassifier\n",
    "from sklearn.linear_model import LogisticRegression"
   ]
  },
  {
   "cell_type": "code",
   "execution_count": 88,
   "id": "d34bdf39",
   "metadata": {},
   "outputs": [],
   "source": [
    "logistic_regression = LogisticRegression(solver='lbfgs')\n",
    "classificador = OneVsRestClassifier(estimator=logistic_regression)"
   ]
  },
  {
   "cell_type": "code",
   "execution_count": 89,
   "id": "4383b271",
   "metadata": {},
   "outputs": [
    {
     "data": {
      "text/plain": [
       "OneVsRestClassifier(estimator=LogisticRegression())"
      ]
     },
     "execution_count": 89,
     "metadata": {},
     "output_type": "execute_result"
    }
   ],
   "source": [
    "classificador.fit(x_train_tfidf, y_train_array)"
   ]
  },
  {
   "cell_type": "code",
   "execution_count": 90,
   "id": "e90b0b60",
   "metadata": {},
   "outputs": [
    {
     "data": {
      "text/plain": [
       "0.40162721893491127"
      ]
     },
     "execution_count": 90,
     "metadata": {},
     "output_type": "execute_result"
    }
   ],
   "source": [
    "classificador.score(x_test_tfidf, y_test_array)"
   ]
  },
  {
   "cell_type": "code",
   "execution_count": null,
   "id": "4646379c",
   "metadata": {},
   "outputs": [],
   "source": []
  }
 ],
 "metadata": {
  "kernelspec": {
   "display_name": "Python 3 (ipykernel)",
   "language": "python",
   "name": "python3"
  },
  "language_info": {
   "codemirror_mode": {
    "name": "ipython",
    "version": 3
   },
   "file_extension": ".py",
   "mimetype": "text/x-python",
   "name": "python",
   "nbconvert_exporter": "python",
   "pygments_lexer": "ipython3",
   "version": "3.9.13"
  }
 },
 "nbformat": 4,
 "nbformat_minor": 5
}
