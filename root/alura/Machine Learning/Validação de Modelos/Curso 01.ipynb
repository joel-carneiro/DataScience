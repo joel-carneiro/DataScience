{
 "cells": [
  {
   "cell_type": "markdown",
   "id": "1293f85e",
   "metadata": {},
   "source": [
    "# Tratando dataframe"
   ]
  },
  {
   "cell_type": "code",
   "execution_count": 1,
   "id": "763f0651",
   "metadata": {},
   "outputs": [
    {
     "data": {
      "text/html": [
       "<div>\n",
       "<style scoped>\n",
       "    .dataframe tbody tr th:only-of-type {\n",
       "        vertical-align: middle;\n",
       "    }\n",
       "\n",
       "    .dataframe tbody tr th {\n",
       "        vertical-align: top;\n",
       "    }\n",
       "\n",
       "    .dataframe thead th {\n",
       "        text-align: right;\n",
       "    }\n",
       "</style>\n",
       "<table border=\"1\" class=\"dataframe\">\n",
       "  <thead>\n",
       "    <tr style=\"text-align: right;\">\n",
       "      <th></th>\n",
       "      <th>preco</th>\n",
       "      <th>vendido</th>\n",
       "      <th>idade_do_modelo</th>\n",
       "      <th>km_por_ano</th>\n",
       "    </tr>\n",
       "  </thead>\n",
       "  <tbody>\n",
       "    <tr>\n",
       "      <th>0</th>\n",
       "      <td>30941.02</td>\n",
       "      <td>1</td>\n",
       "      <td>18</td>\n",
       "      <td>35085.22134</td>\n",
       "    </tr>\n",
       "    <tr>\n",
       "      <th>1</th>\n",
       "      <td>40557.96</td>\n",
       "      <td>1</td>\n",
       "      <td>20</td>\n",
       "      <td>12622.05362</td>\n",
       "    </tr>\n",
       "    <tr>\n",
       "      <th>2</th>\n",
       "      <td>89627.50</td>\n",
       "      <td>0</td>\n",
       "      <td>12</td>\n",
       "      <td>11440.79806</td>\n",
       "    </tr>\n",
       "    <tr>\n",
       "      <th>3</th>\n",
       "      <td>95276.14</td>\n",
       "      <td>0</td>\n",
       "      <td>3</td>\n",
       "      <td>43167.32682</td>\n",
       "    </tr>\n",
       "    <tr>\n",
       "      <th>4</th>\n",
       "      <td>117384.68</td>\n",
       "      <td>1</td>\n",
       "      <td>4</td>\n",
       "      <td>12770.11290</td>\n",
       "    </tr>\n",
       "  </tbody>\n",
       "</table>\n",
       "</div>"
      ],
      "text/plain": [
       "       preco  vendido  idade_do_modelo   km_por_ano\n",
       "0   30941.02        1               18  35085.22134\n",
       "1   40557.96        1               20  12622.05362\n",
       "2   89627.50        0               12  11440.79806\n",
       "3   95276.14        0                3  43167.32682\n",
       "4  117384.68        1                4  12770.11290"
      ]
     },
     "execution_count": 1,
     "metadata": {},
     "output_type": "execute_result"
    }
   ],
   "source": [
    "import pandas as pd\n",
    "\n",
    "uri = \"https://gist.githubusercontent.com/guilhermesilveira/e99a526b2e7ccc6c3b70f53db43a87d2/raw/1605fc74aa778066bf2e6695e24d53cf65f2f447/machine-learning-carros-simulacao.csv\"\n",
    "\n",
    "dados = pd.read_csv(uri).drop(columns=[\"Unnamed: 0\"], axis=1)\n",
    "\n",
    "dados.head()"
   ]
  },
  {
   "cell_type": "code",
   "execution_count": 2,
   "id": "61aa882e",
   "metadata": {},
   "outputs": [],
   "source": [
    "x = dados.drop(['vendido'], axis = 1)\n",
    "y = dados['vendido']"
   ]
  },
  {
   "cell_type": "markdown",
   "id": "ac67e373",
   "metadata": {},
   "source": [
    "# Separando dados de teste e treino"
   ]
  },
  {
   "cell_type": "code",
   "execution_count": 3,
   "id": "8dce728a",
   "metadata": {},
   "outputs": [],
   "source": [
    "from sklearn.model_selection import train_test_split\n",
    "\n",
    "xtrain, xtest, ytrain, ytest = train_test_split(x, y, test_size=0.25, random_state=5)"
   ]
  },
  {
   "cell_type": "markdown",
   "id": "27694281",
   "metadata": {},
   "source": [
    "# Modelo Dummy"
   ]
  },
  {
   "cell_type": "code",
   "execution_count": 4,
   "id": "efef271c",
   "metadata": {},
   "outputs": [
    {
     "name": "stdout",
     "output_type": "stream",
     "text": [
      "A acurácia do dummy classifier foi de 59.16%\n"
     ]
    }
   ],
   "source": [
    "from sklearn.dummy import DummyClassifier\n",
    "\n",
    "dummy_classifier = DummyClassifier()\n",
    "dummy_classifier.fit(xtrain, ytrain)\n",
    "dummy_accuracy = dummy_classifier.score(xtest, ytest)\n",
    "\n",
    "print(f'A acurácia do dummy classifier foi de {(dummy_accuracy * 100):.2f}%')"
   ]
  },
  {
   "cell_type": "markdown",
   "id": "e8bdd0b8",
   "metadata": {},
   "source": [
    "# Modelo DecisionTreeClassifier"
   ]
  },
  {
   "cell_type": "code",
   "execution_count": 5,
   "id": "f3a4ee77",
   "metadata": {},
   "outputs": [
    {
     "name": "stdout",
     "output_type": "stream",
     "text": [
      "A acurácia do decision tree classifier foi de 75.20%\n"
     ]
    }
   ],
   "source": [
    "from sklearn.tree import DecisionTreeClassifier\n",
    "\n",
    "decision_tree_classifier = DecisionTreeClassifier(max_depth=2)\n",
    "decision_tree_classifier.fit(xtrain, ytrain)\n",
    "tree_accuracy = decision_tree_classifier.score(xtest, ytest)\n",
    "\n",
    "print(f'A acurácia do decision tree classifier foi de {(tree_accuracy * 100):.2f}%')"
   ]
  },
  {
   "cell_type": "markdown",
   "id": "877bf9fb",
   "metadata": {},
   "source": [
    "# Modelo KneighborsClassifier"
   ]
  },
  {
   "cell_type": "code",
   "execution_count": 6,
   "id": "1df72516",
   "metadata": {},
   "outputs": [
    {
     "name": "stdout",
     "output_type": "stream",
     "text": [
      "A acurácia do kneighboors classifier foi de 74.96%\n"
     ]
    }
   ],
   "source": [
    "from sklearn.neighbors import KNeighborsClassifier\n",
    "\n",
    "kneighbors_classifier = KNeighborsClassifier(n_neighbors=3)\n",
    "kneighbors_classifier.fit(xtrain, ytrain)\n",
    "kneighbors_accuracy = kneighbors_classifier.score(xtest, ytest)\n",
    "\n",
    "print(f'A acurácia do kneighboors classifier foi de {(kneighbors_accuracy * 100):.2f}%')"
   ]
  },
  {
   "cell_type": "code",
   "execution_count": 7,
   "id": "45f4d9e6",
   "metadata": {},
   "outputs": [
    {
     "name": "stdout",
     "output_type": "stream",
     "text": [
      "Intervalo : [75.21% , 76.35%]\n"
     ]
    }
   ],
   "source": [
    "from sklearn.model_selection import cross_validate\n",
    "\n",
    "dtc = DecisionTreeClassifier(max_depth=2)\n",
    "\n",
    "results = cross_validate(dtc, x, y, cv = 5, return_train_score = False)\n",
    "\n",
    "media = results['test_score'].mean()\n",
    "desvio_padrao = results['test_score'].std()\n",
    "\n",
    "intervalo = media - 2 * desvio_padrao, media + 2 * desvio_padrao\n",
    "\n",
    "print(f'Intervalo : [{(intervalo[0] * 100):.2f}% , {(intervalo[1] * 100):.2f}%]')\n"
   ]
  },
  {
   "cell_type": "markdown",
   "id": "1328a1a8",
   "metadata": {},
   "source": [
    "# Trabalhando com aleatoriedade no cross validate"
   ]
  },
  {
   "cell_type": "code",
   "execution_count": 8,
   "id": "9de8af1f",
   "metadata": {},
   "outputs": [
    {
     "name": "stdout",
     "output_type": "stream",
     "text": [
      "Intervalo : [74.37% , 77.19%]\n"
     ]
    }
   ],
   "source": [
    "from sklearn.model_selection import KFold\n",
    "\n",
    "cv = KFold(n_splits=10)\n",
    "\n",
    "dtc = DecisionTreeClassifier(max_depth=2)\n",
    "\n",
    "results = cross_validate(dtc, x, y, cv = cv, return_train_score = False)\n",
    "\n",
    "media = results['test_score'].mean()\n",
    "desvio_padrao = results['test_score'].std()\n",
    "\n",
    "intervalo = media - 2 * desvio_padrao, media + 2 * desvio_padrao\n",
    "\n",
    "print(f'Intervalo : [{(intervalo[0] * 100):.2f}% , {(intervalo[1] * 100):.2f}%]')\n"
   ]
  },
  {
   "cell_type": "code",
   "execution_count": 9,
   "id": "d4cb56d8",
   "metadata": {},
   "outputs": [
    {
     "name": "stdout",
     "output_type": "stream",
     "text": [
      "Intervalo : [73.64% , 77.92%]\n"
     ]
    }
   ],
   "source": [
    "from sklearn.model_selection import KFold\n",
    "\n",
    "cv = KFold(n_splits=10, shuffle=True)\n",
    "\n",
    "dtc = DecisionTreeClassifier(max_depth=2)\n",
    "\n",
    "results = cross_validate(dtc, x, y, cv = cv, return_train_score = False)\n",
    "\n",
    "media = results['test_score'].mean()\n",
    "desvio_padrao = results['test_score'].std()\n",
    "\n",
    "intervalo = media - 2 * desvio_padrao, media + 2 * desvio_padrao\n",
    "\n",
    "print(f'Intervalo : [{(intervalo[0] * 100):.2f}% , {(intervalo[1] * 100):.2f}%]')\n"
   ]
  },
  {
   "cell_type": "code",
   "execution_count": 10,
   "id": "0d0f249d",
   "metadata": {},
   "outputs": [],
   "source": [
    "dados_azar = dados.sort_values('vendido', ascending=True)\n",
    "x_azar = dados_azar.drop(['vendido'], axis = 1)\n",
    "y_azar = dados_azar['vendido']"
   ]
  },
  {
   "cell_type": "code",
   "execution_count": 11,
   "id": "12427f37",
   "metadata": {},
   "outputs": [
    {
     "name": "stdout",
     "output_type": "stream",
     "text": [
      "Intervalo : [34.29% , 81.39%]\n"
     ]
    }
   ],
   "source": [
    "cv = KFold(n_splits=10)\n",
    "\n",
    "dtc = DecisionTreeClassifier(max_depth=2)\n",
    "\n",
    "results = cross_validate(dtc, x_azar, y_azar, cv = cv, return_train_score = False)\n",
    "\n",
    "media = results['test_score'].mean()\n",
    "desvio_padrao = results['test_score'].std()\n",
    "\n",
    "intervalo = media - 2 * desvio_padrao, media + 2 * desvio_padrao\n",
    "\n",
    "print(f'Intervalo : [{(intervalo[0] * 100):.2f}% , {(intervalo[1] * 100):.2f}%]')\n"
   ]
  },
  {
   "cell_type": "code",
   "execution_count": 12,
   "id": "d112928f",
   "metadata": {},
   "outputs": [
    {
     "name": "stdout",
     "output_type": "stream",
     "text": [
      "Intervalo : [74.56% , 77.00%]\n"
     ]
    }
   ],
   "source": [
    "cv = KFold(n_splits=10, shuffle=True)\n",
    "\n",
    "dtc = DecisionTreeClassifier(max_depth=2)\n",
    "\n",
    "results = cross_validate(dtc, x_azar, y_azar, cv = cv, return_train_score = False)\n",
    "\n",
    "media = results['test_score'].mean()\n",
    "desvio_padrao = results['test_score'].std()\n",
    "\n",
    "intervalo = media - 2 * desvio_padrao, media + 2 * desvio_padrao\n",
    "\n",
    "print(f'Intervalo : [{(intervalo[0] * 100):.2f}% , {(intervalo[1] * 100):.2f}%]')\n"
   ]
  },
  {
   "cell_type": "code",
   "execution_count": 13,
   "id": "ed00cbed",
   "metadata": {},
   "outputs": [
    {
     "name": "stdout",
     "output_type": "stream",
     "text": [
      "Intervalo : [74.19% , 77.39%]\n"
     ]
    }
   ],
   "source": [
    "from sklearn.model_selection import StratifiedKFold\n",
    "\n",
    "cv = StratifiedKFold(n_splits=10, shuffle=True)\n",
    "\n",
    "dtc = DecisionTreeClassifier(max_depth=2)\n",
    "\n",
    "results = cross_validate(dtc, x_azar, y_azar, cv = cv, return_train_score = False)\n",
    "\n",
    "media = results['test_score'].mean()\n",
    "desvio_padrao = results['test_score'].std()\n",
    "\n",
    "intervalo = media - 2 * desvio_padrao, media + 2 * desvio_padrao\n",
    "\n",
    "print(f'Intervalo : [{(intervalo[0] * 100):.2f}% , {(intervalo[1] * 100):.2f}%]')\n"
   ]
  },
  {
   "cell_type": "code",
   "execution_count": 14,
   "id": "cec55bc0",
   "metadata": {},
   "outputs": [],
   "source": [
    "import numpy as np"
   ]
  },
  {
   "cell_type": "code",
   "execution_count": 15,
   "id": "eca49e6a",
   "metadata": {},
   "outputs": [
    {
     "data": {
      "text/html": [
       "<div>\n",
       "<style scoped>\n",
       "    .dataframe tbody tr th:only-of-type {\n",
       "        vertical-align: middle;\n",
       "    }\n",
       "\n",
       "    .dataframe tbody tr th {\n",
       "        vertical-align: top;\n",
       "    }\n",
       "\n",
       "    .dataframe thead th {\n",
       "        text-align: right;\n",
       "    }\n",
       "</style>\n",
       "<table border=\"1\" class=\"dataframe\">\n",
       "  <thead>\n",
       "    <tr style=\"text-align: right;\">\n",
       "      <th></th>\n",
       "      <th>preco</th>\n",
       "      <th>vendido</th>\n",
       "      <th>idade_do_modelo</th>\n",
       "      <th>km_por_ano</th>\n",
       "      <th>modelo</th>\n",
       "    </tr>\n",
       "  </thead>\n",
       "  <tbody>\n",
       "    <tr>\n",
       "      <th>0</th>\n",
       "      <td>30941.02</td>\n",
       "      <td>1</td>\n",
       "      <td>18</td>\n",
       "      <td>35085.22134</td>\n",
       "      <td>20</td>\n",
       "    </tr>\n",
       "    <tr>\n",
       "      <th>1</th>\n",
       "      <td>40557.96</td>\n",
       "      <td>1</td>\n",
       "      <td>20</td>\n",
       "      <td>12622.05362</td>\n",
       "      <td>21</td>\n",
       "    </tr>\n",
       "    <tr>\n",
       "      <th>2</th>\n",
       "      <td>89627.50</td>\n",
       "      <td>0</td>\n",
       "      <td>12</td>\n",
       "      <td>11440.79806</td>\n",
       "      <td>12</td>\n",
       "    </tr>\n",
       "    <tr>\n",
       "      <th>3</th>\n",
       "      <td>95276.14</td>\n",
       "      <td>0</td>\n",
       "      <td>3</td>\n",
       "      <td>43167.32682</td>\n",
       "      <td>7</td>\n",
       "    </tr>\n",
       "    <tr>\n",
       "      <th>4</th>\n",
       "      <td>117384.68</td>\n",
       "      <td>1</td>\n",
       "      <td>4</td>\n",
       "      <td>12770.11290</td>\n",
       "      <td>6</td>\n",
       "    </tr>\n",
       "  </tbody>\n",
       "</table>\n",
       "</div>"
      ],
      "text/plain": [
       "       preco  vendido  idade_do_modelo   km_por_ano  modelo\n",
       "0   30941.02        1               18  35085.22134      20\n",
       "1   40557.96        1               20  12622.05362      21\n",
       "2   89627.50        0               12  11440.79806      12\n",
       "3   95276.14        0                3  43167.32682       7\n",
       "4  117384.68        1                4  12770.11290       6"
      ]
     },
     "execution_count": 15,
     "metadata": {},
     "output_type": "execute_result"
    }
   ],
   "source": [
    "SEED = 200\n",
    "np.random.seed(SEED)\n",
    "\n",
    "dados['modelo'] = dados.idade_do_modelo + np.random.randint(-2, 3, len(dados))\n",
    "dados.modelo = dados.modelo + abs(dados.modelo.min()) + 1\n",
    "dados.head()"
   ]
  },
  {
   "cell_type": "code",
   "execution_count": 25,
   "id": "ed118ff7",
   "metadata": {},
   "outputs": [
    {
     "name": "stdout",
     "output_type": "stream",
     "text": [
      "Intervalo : [74.33% , 77.24%]\n"
     ]
    }
   ],
   "source": [
    "from sklearn.model_selection import GroupKFold\n",
    "\n",
    "cv = GroupKFold(n_splits=10)\n",
    "\n",
    "dtc = DecisionTreeClassifier(max_depth=2)\n",
    "\n",
    "results = cross_validate(dtc, x_azar, y_azar, cv = cv, groups=dados.modelo, return_train_score = False)\n",
    "\n",
    "media = results['test_score'].mean()\n",
    "desvio_padrao = results['test_score'].std()\n",
    "\n",
    "intervalo = media - 2 * desvio_padrao, media + 2 * desvio_padrao\n",
    "\n",
    "print(f'Intervalo : [{(intervalo[0] * 100):.2f}% , {(intervalo[1] * 100):.2f}%]')\n"
   ]
  },
  {
   "cell_type": "code",
   "execution_count": null,
   "id": "313774f8",
   "metadata": {},
   "outputs": [],
   "source": []
  }
 ],
 "metadata": {
  "kernelspec": {
   "display_name": "Python 3 (ipykernel)",
   "language": "python",
   "name": "python3"
  },
  "language_info": {
   "codemirror_mode": {
    "name": "ipython",
    "version": 3
   },
   "file_extension": ".py",
   "mimetype": "text/x-python",
   "name": "python",
   "nbconvert_exporter": "python",
   "pygments_lexer": "ipython3",
   "version": "3.7.6"
  }
 },
 "nbformat": 4,
 "nbformat_minor": 5
}
