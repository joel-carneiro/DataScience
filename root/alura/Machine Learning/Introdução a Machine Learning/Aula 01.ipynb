{
 "cells": [
  {
   "cell_type": "code",
   "execution_count": 11,
   "id": "fd127c0f-2fcc-43a5-91f3-970718b39b06",
   "metadata": {},
   "outputs": [],
   "source": [
    "# Features\n",
    "\n",
    "# Pelo longo ?\n",
    "# Perna curta ?\n",
    "# Faz au au ? \n",
    "\n",
    "p1 = [0, 1, 0]\n",
    "p2 = [0, 1, 1]\n",
    "p3 = [1, 1, 0]\n",
    "\n",
    "c1 = [0, 1, 1]\n",
    "c2 = [1, 0, 1]\n",
    "c3 = [1, 1, 1]\n",
    "\n",
    "treino_x = [p1, p2, p3, c1, c2, c3]\n",
    "treino_y = [1, 1, 1, 0, 0, 0]"
   ]
  },
  {
   "cell_type": "code",
   "execution_count": 2,
   "id": "c7ce5258-95bb-4ab9-b2d0-2504b2f1ff7c",
   "metadata": {},
   "outputs": [],
   "source": [
    "from sklearn.svm import LinearSVC"
   ]
  },
  {
   "cell_type": "code",
   "execution_count": 3,
   "id": "ffe2ebfd-6aaf-413e-97f3-00fbb29ae8a5",
   "metadata": {},
   "outputs": [
    {
     "data": {
      "text/plain": [
       "LinearSVC()"
      ]
     },
     "execution_count": 3,
     "metadata": {},
     "output_type": "execute_result"
    }
   ],
   "source": [
    "model = LinearSVC()\n",
    "model.fit(treino_x, treino_y)"
   ]
  },
  {
   "cell_type": "code",
   "execution_count": 4,
   "id": "e3f4db14-c2ef-4c10-90e0-12f9a51b7527",
   "metadata": {},
   "outputs": [
    {
     "data": {
      "text/plain": [
       "array([0])"
      ]
     },
     "execution_count": 4,
     "metadata": {},
     "output_type": "execute_result"
    }
   ],
   "source": [
    "animal_misterioso = [1, 1, 1]\n",
    "model.predict([animal_misterioso])"
   ]
  },
  {
   "cell_type": "code",
   "execution_count": 5,
   "id": "5354e8d5-98f6-4642-90e7-ddd52a211890",
   "metadata": {},
   "outputs": [],
   "source": [
    "m1 = [1, 1, 1]\n",
    "m2 = [0, 1, 1]\n",
    "m3 = [0, 1, 1]\n",
    "\n",
    "testes = [m1, m2, m3]"
   ]
  },
  {
   "cell_type": "code",
   "execution_count": 6,
   "id": "3bb427e6-ee8f-41e8-b119-c1a345cf1321",
   "metadata": {},
   "outputs": [],
   "source": [
    "previsoes = model.predict(testes)"
   ]
  },
  {
   "cell_type": "code",
   "execution_count": 7,
   "id": "61427e04-e987-415b-a24b-11f033ce2ac0",
   "metadata": {},
   "outputs": [],
   "source": [
    "testes_classes = [0, 1, 0]"
   ]
  },
  {
   "cell_type": "code",
   "execution_count": 8,
   "id": "ff7a8061-0a58-4e57-a6f3-c282d63b284b",
   "metadata": {},
   "outputs": [],
   "source": [
    "from sklearn.metrics import accuracy_score"
   ]
  },
  {
   "cell_type": "code",
   "execution_count": 9,
   "id": "2bc86f42-c49e-43c1-b606-52b0117681f0",
   "metadata": {},
   "outputs": [],
   "source": [
    "taxa_de_acerto = accuracy_score(testes_classes, previsoes)"
   ]
  },
  {
   "cell_type": "code",
   "execution_count": 10,
   "id": "56b5ddde-3d09-4400-97fb-ab3fe48cf315",
   "metadata": {},
   "outputs": [
    {
     "name": "stdout",
     "output_type": "stream",
     "text": [
      "Taxa de sucesso: 66.67%\n"
     ]
    }
   ],
   "source": [
    "print(f'Taxa de sucesso: {(taxa_de_acerto * 100):.2f}%')"
   ]
  },
  {
   "cell_type": "code",
   "execution_count": null,
   "id": "1370c4d7-3c29-4c4a-9f7d-18cceeb15ebd",
   "metadata": {},
   "outputs": [],
   "source": []
  }
 ],
 "metadata": {
  "kernelspec": {
   "display_name": "Python 3 (ipykernel)",
   "language": "python",
   "name": "python3"
  },
  "language_info": {
   "codemirror_mode": {
    "name": "ipython",
    "version": 3
   },
   "file_extension": ".py",
   "mimetype": "text/x-python",
   "name": "python",
   "nbconvert_exporter": "python",
   "pygments_lexer": "ipython3",
   "version": "3.7.6"
  }
 },
 "nbformat": 4,
 "nbformat_minor": 5
}
