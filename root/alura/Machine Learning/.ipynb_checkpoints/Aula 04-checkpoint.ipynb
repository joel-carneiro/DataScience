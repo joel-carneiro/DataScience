{
 "cells": [
  {
   "cell_type": "code",
   "execution_count": 1,
   "id": "b47e8111-0346-44c4-8ace-56f4bccc76bf",
   "metadata": {},
   "outputs": [],
   "source": [
    "import pandas as pd"
   ]
  },
  {
   "cell_type": "code",
   "execution_count": 2,
   "id": "98b91369-009e-483d-9eca-a36d6ac1e838",
   "metadata": {},
   "outputs": [
    {
     "data": {
      "text/html": [
       "<div>\n",
       "<style scoped>\n",
       "    .dataframe tbody tr th:only-of-type {\n",
       "        vertical-align: middle;\n",
       "    }\n",
       "\n",
       "    .dataframe tbody tr th {\n",
       "        vertical-align: top;\n",
       "    }\n",
       "\n",
       "    .dataframe thead th {\n",
       "        text-align: right;\n",
       "    }\n",
       "</style>\n",
       "<table border=\"1\" class=\"dataframe\">\n",
       "  <thead>\n",
       "    <tr style=\"text-align: right;\">\n",
       "      <th></th>\n",
       "      <th>finalizado</th>\n",
       "      <th>horas</th>\n",
       "      <th>preco</th>\n",
       "    </tr>\n",
       "  </thead>\n",
       "  <tbody>\n",
       "    <tr>\n",
       "      <th>0</th>\n",
       "      <td>0</td>\n",
       "      <td>26</td>\n",
       "      <td>192</td>\n",
       "    </tr>\n",
       "    <tr>\n",
       "      <th>1</th>\n",
       "      <td>0</td>\n",
       "      <td>88</td>\n",
       "      <td>9015</td>\n",
       "    </tr>\n",
       "    <tr>\n",
       "      <th>2</th>\n",
       "      <td>0</td>\n",
       "      <td>89</td>\n",
       "      <td>2577</td>\n",
       "    </tr>\n",
       "    <tr>\n",
       "      <th>3</th>\n",
       "      <td>0</td>\n",
       "      <td>42</td>\n",
       "      <td>275</td>\n",
       "    </tr>\n",
       "    <tr>\n",
       "      <th>4</th>\n",
       "      <td>0</td>\n",
       "      <td>39</td>\n",
       "      <td>170</td>\n",
       "    </tr>\n",
       "  </tbody>\n",
       "</table>\n",
       "</div>"
      ],
      "text/plain": [
       "   finalizado  horas  preco\n",
       "0           0     26    192\n",
       "1           0     88   9015\n",
       "2           0     89   2577\n",
       "3           0     42    275\n",
       "4           0     39    170"
      ]
     },
     "execution_count": 2,
     "metadata": {},
     "output_type": "execute_result"
    }
   ],
   "source": [
    "uri = 'https://gist.githubusercontent.com/guilhermesilveira/1b7d5475863c15f484ac495bd70975cf/raw/16aff7a0aee67e7c100a2a48b676a2d2d142f646/projects.csv'\n",
    "dados = pd.read_csv(uri)\n",
    "\n",
    "dados.columns = ['finalizado', 'horas', 'preco']\n",
    "\n",
    "troca = {0 : 1, 1 : 0}\n",
    "\n",
    "dados['finalizado'] = dados['finalizado'].map(troca)\n",
    "\n",
    "dados.head()"
   ]
  },
  {
   "cell_type": "code",
   "execution_count": 3,
   "id": "0c7bf458-00b0-4e55-b8ef-d07021d60c29",
   "metadata": {},
   "outputs": [],
   "source": [
    "x = dados[['horas', 'preco']]\n",
    "y = dados['finalizado']"
   ]
  },
  {
   "cell_type": "code",
   "execution_count": 4,
   "id": "b6d2ae21-c2b3-40d0-af85-da425f5178fd",
   "metadata": {},
   "outputs": [],
   "source": [
    "from sklearn.svm import LinearSVC\n",
    "from sklearn.metrics import accuracy_score\n",
    "from sklearn.model_selection import train_test_split"
   ]
  },
  {
   "cell_type": "markdown",
   "id": "aaf14d55-17b0-4135-8aab-e86d3a4b8cd4",
   "metadata": {},
   "source": [
    "**Realizando o teste primário**"
   ]
  },
  {
   "cell_type": "code",
   "execution_count": 37,
   "id": "d8a6fa07-3cdf-45a2-8b36-1bda023594eb",
   "metadata": {},
   "outputs": [
    {
     "name": "stdout",
     "output_type": "stream",
     "text": [
      "Taxa de acuracia: 57.41%\n"
     ]
    },
    {
     "name": "stderr",
     "output_type": "stream",
     "text": [
      "/home/joel/anaconda3/lib/python3.7/site-packages/sklearn/svm/_base.py:1208: ConvergenceWarning: Liblinear failed to converge, increase the number of iterations.\n",
      "  ConvergenceWarning,\n"
     ]
    }
   ],
   "source": [
    "import numpy as np \n",
    "\n",
    "np.random.seed(200)\n",
    "\n",
    "treino_x, teste_x, treino_y, teste_y = train_test_split(x, y, test_size=0.25, stratify=y)\n",
    "\n",
    "modelo = LinearSVC()\n",
    "modelo.fit(treino_x, treino_y)\n",
    "previsoes = modelo.predict(teste_x)\n",
    "acuracia = accuracy_score(teste_y, previsoes)\n",
    "\n",
    "print('Taxa de acuracia: {:.2f}%'.format(acuracia * 100)) "
   ]
  },
  {
   "cell_type": "markdown",
   "id": "170b0046-26c4-4d22-b4b9-23aacedeeeb4",
   "metadata": {},
   "source": [
    "**Dummy teste**"
   ]
  },
  {
   "cell_type": "code",
   "execution_count": 38,
   "id": "52828f33-263c-4b43-ab55-f3bd3cc20c90",
   "metadata": {},
   "outputs": [
    {
     "name": "stdout",
     "output_type": "stream",
     "text": [
      "A acuracia de base foi de 52.59%\n"
     ]
    },
    {
     "name": "stderr",
     "output_type": "stream",
     "text": [
      "/home/joel/anaconda3/lib/python3.7/site-packages/sklearn/svm/_base.py:1208: ConvergenceWarning: Liblinear failed to converge, increase the number of iterations.\n",
      "  ConvergenceWarning,\n"
     ]
    }
   ],
   "source": [
    "previsoes_de_base = np.ones(540)\n",
    "\n",
    "modelo_base = LinearSVC()\n",
    "modelo_base.fit(treino_x, treino_y)\n",
    "acuracia_base = accuracy_score(teste_y, previsoes_de_base)\n",
    "\n",
    "print(f'A acuracia de base foi de {(acuracia_base * 100):.2f}%')"
   ]
  },
  {
   "cell_type": "markdown",
   "id": "37c248d0-a384-4acc-8079-1905382ee772",
   "metadata": {},
   "source": [
    "**Utilizando o SVC**"
   ]
  },
  {
   "cell_type": "code",
   "execution_count": 39,
   "id": "6ffec8ef-d001-4978-b896-52530d7d1c99",
   "metadata": {},
   "outputs": [
    {
     "name": "stdout",
     "output_type": "stream",
     "text": [
      "Taxa de acuracia: 55.74%\n"
     ]
    }
   ],
   "source": [
    "import numpy as np\n",
    "from sklearn.svm import SVC\n",
    "\n",
    "np.random.seed(200)\n",
    "\n",
    "treino_x, teste_x, treino_y, teste_y = train_test_split(x, y, test_size=0.25, stratify=y)\n",
    "\n",
    "modelo = SVC()\n",
    "modelo.fit(treino_x, treino_y)\n",
    "previsoes = modelo.predict(teste_x)\n",
    "acuracia = accuracy_score(teste_y, previsoes)\n",
    "\n",
    "print('Taxa de acuracia: {:.2f}%'.format(acuracia * 100)) "
   ]
  },
  {
   "cell_type": "code",
   "execution_count": null,
   "id": "671b4887-5b37-41a8-b540-5ab1813c87a2",
   "metadata": {},
   "outputs": [],
   "source": []
  }
 ],
 "metadata": {
  "kernelspec": {
   "display_name": "Python 3 (ipykernel)",
   "language": "python",
   "name": "python3"
  },
  "language_info": {
   "codemirror_mode": {
    "name": "ipython",
    "version": 3
   },
   "file_extension": ".py",
   "mimetype": "text/x-python",
   "name": "python",
   "nbconvert_exporter": "python",
   "pygments_lexer": "ipython3",
   "version": "3.7.6"
  }
 },
 "nbformat": 4,
 "nbformat_minor": 5
}
