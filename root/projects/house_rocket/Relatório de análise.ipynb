{
 "cells": [
  {
   "cell_type": "markdown",
   "id": "b9220b9a",
   "metadata": {},
   "source": [
    "<h1><font color='#252526'>Predição de preços no setor imobiliário</font></h1>\n",
    "\n",
    "<hr>\n",
    "\n",
    "<h2><font color='#734838'>Sobre</font></h2>\n",
    "\n",
    "<p>\n",
    "A House Rocket é uma plataforma digital que tem como modelo de negócio, a compra e a venda de imóveis usando tecnologia.\n",
    "\n",
    "Você é um Data Scientist contrato pela empresa para ajudar a encontrar as melhores oportunidades de negócio no mercado de imóveis. O CEO da House Rocket gostaria de maximizar a receita da empresa encontrando boas oportunidades de negócio.\n",
    "\n",
    "Sua principal estratégia é comprar boas casas em ótimas localizações com preços baixos e depois revendê-las posteriormente à preços mais altos. Quanto maior a diferença entre a compra e a venda, maior o lucro da empresa e portanto maior sua receita.\n",
    "\n",
    "Entretanto, as casas possuem muitos atributos que as tornam mais ou menos atrativas aos compradores e vendedores e a localização e o período do ano também podem influenciar os preços.\n",
    "    \n",
    "- Quais casas o CEO da House Rocket deveria comprar e por qual preço de compra?\n",
    "- Uma vez a casa em posse da empresa, qual o melhor momento para vendê-las e qual seria o preço da venda?\n",
    "- A House Rocket deveria fazer uma reforma para aumentar o preço da venda? Quais seriam as sugestões de mudanças? - - Qual o incremento no preço dado por cada opção de reforma?\n",
    "</p>\n",
    "\n",
    "<h2><font color='#252526'>Objetivos</font></h2>\n",
    "\n",
    "<ul>\n",
    "    <li> Predizer quais casas tem a maior probabilidade de lucro e o preço da casa.\n",
    "    <li> Predizer quando vender as casas, e qual seria o preço \n",
    "    <li> Predizer se é necessário fazer reformas \n",
    "</ul>\n",
    "\n",
    "<h2><font color='#734838'>Base de dados</font></h2>\n",
    "\n",
    "Disponível em <a href='https://www.kaggle.com/datasets/shivachandel/kc-house-data'>Kaggle</a>\n",
    "\n",
    "<h2><font color='#252526'>Ferramentas</font></h2>\n",
    "\n",
    "  <img style='display:inline' src=\"https://img.shields.io/badge/Python-3.9.13-informational?style=for-the-badge&logo=python\">\n",
    "  \n",
    "  <img style='display:inline' src=\"https://img.shields.io/badge/Jupyter-7.31.1-informational?style=for-the-badge&logo=jupyter\">\n",
    "  \n",
    "   <img style='display:inline' src=\"https://img.shields.io/badge/Anaconda-22.9.0-informational?style=for-the-badge&logo=anaconda\">"
   ]
  },
  {
   "cell_type": "markdown",
   "id": "d7ac1778",
   "metadata": {},
   "source": [
    "## 1.0 Coleta de Dados"
   ]
  },
  {
   "cell_type": "code",
   "execution_count": 1,
   "id": "51d8fd47",
   "metadata": {},
   "outputs": [],
   "source": [
    "import warnings\n",
    "warnings.filterwarnings('ignore')"
   ]
  },
  {
   "cell_type": "code",
   "execution_count": 2,
   "id": "7428de36",
   "metadata": {},
   "outputs": [],
   "source": [
    "# Bibliotecas necessárias para continuidade do projeto\n",
    "\n",
    "import pandas as pd\n",
    "import numpy as np\n",
    "\n",
    "import matplotlib.pyplot as plt\n",
    "import seaborn as sns\n",
    "import plotly.express as px\n",
    "\n",
    "from pandas_profiling import ProfileReport\n",
    "\n",
    "%matplotlib inline"
   ]
  },
  {
   "cell_type": "code",
   "execution_count": null,
   "id": "511ecf65",
   "metadata": {},
   "outputs": [],
   "source": [
    "# Localizando a base de dados na máquina\n",
    "pwd = '/home/joel/Documentos/Dados/kc_house_data.csv'\n",
    "\n",
    "# Instânciando um objeto dataframe com a base de dados\n",
    "df = pd.read_csv(pwd)"
   ]
  },
  {
   "cell_type": "code",
   "execution_count": null,
   "id": "396d33de",
   "metadata": {},
   "outputs": [],
   "source": [
    "# Visualizando as 5 primeiras observações do dataset\n",
    "df.head()"
   ]
  },
  {
   "cell_type": "markdown",
   "id": "b8f5d710",
   "metadata": {},
   "source": [
    "## 2.0 Limpeza de Dados"
   ]
  },
  {
   "cell_type": "code",
   "execution_count": null,
   "id": "4d038366",
   "metadata": {},
   "outputs": [],
   "source": [
    "# Visualizando dados gerais\n",
    "df.info()"
   ]
  },
  {
   "cell_type": "code",
   "execution_count": null,
   "id": "36c3f562",
   "metadata": {},
   "outputs": [],
   "source": [
    "# Visualizando dados nulos\n",
    "df.isna().sum()"
   ]
  },
  {
   "cell_type": "markdown",
   "id": "a20d85ff",
   "metadata": {},
   "source": [
    "> Como há apenas 2 dados nulos em uma única variável, é razoável remover essas observações, uma vez que é irrelevante com a dimensão do dataset"
   ]
  },
  {
   "cell_type": "code",
   "execution_count": null,
   "id": "e9ad478b",
   "metadata": {},
   "outputs": [],
   "source": [
    "# Removendo observações com dados nulos\n",
    "df.dropna(inplace=True)"
   ]
  },
  {
   "cell_type": "code",
   "execution_count": null,
   "id": "dcb4a302",
   "metadata": {},
   "outputs": [],
   "source": [
    "# Transformando a variável \"date\" no formato datetime\n",
    "df['date'] = pd.to_datetime(df['date'])"
   ]
  },
  {
   "cell_type": "markdown",
   "id": "62cb0f82",
   "metadata": {},
   "source": [
    "## 3.0 Exploração de Dados"
   ]
  },
  {
   "cell_type": "markdown",
   "id": "a0949e36",
   "metadata": {},
   "source": [
    "### 3.1 Exploração com ProfileReport"
   ]
  },
  {
   "cell_type": "code",
   "execution_count": null,
   "id": "e46f6b73",
   "metadata": {},
   "outputs": [],
   "source": [
    "# report = ProfileReport(df)\n",
    "\n",
    "# report.to_file('profile_report.html')"
   ]
  },
  {
   "cell_type": "markdown",
   "id": "817dfe56",
   "metadata": {},
   "source": [
    "### 3.2 Exploração com Seaborn"
   ]
  },
  {
   "cell_type": "code",
   "execution_count": null,
   "id": "aaa694d3",
   "metadata": {},
   "outputs": [],
   "source": [
    "# Plotando gráfico de correlação\n",
    "axes = sns.heatmap(df.corr(), fmt='.1f', annot=True, cmap='coolwarm')\n",
    "axes.figure.set_size_inches(10, 5)"
   ]
  },
  {
   "cell_type": "code",
   "execution_count": null,
   "id": "380f22bf",
   "metadata": {},
   "outputs": [],
   "source": [
    "# Visualizando variáveis com maiores correlação com preço\n",
    "(df.corr() > 0.5)['price']"
   ]
  },
  {
   "cell_type": "code",
   "execution_count": null,
   "id": "debd741c",
   "metadata": {},
   "outputs": [],
   "source": [
    "# Informações estatísticas sobre o dataset\n",
    "df.describe()"
   ]
  },
  {
   "cell_type": "code",
   "execution_count": null,
   "id": "d1862673",
   "metadata": {},
   "outputs": [],
   "source": [
    "# Histograma da variavel de 'pés-quadrados'\n",
    "df['sqft_living'].hist(bins = 50)"
   ]
  },
  {
   "cell_type": "code",
   "execution_count": null,
   "id": "64037861",
   "metadata": {},
   "outputs": [],
   "source": [
    "# Instânciando dataframe com variaveis fortemente correlacionadas com preço\n",
    "price_df = df[['price', 'date', 'bathrooms', 'sqft_living', 'grade', 'sqft_above', 'sqft_living15']]"
   ]
  },
  {
   "cell_type": "code",
   "execution_count": null,
   "id": "1445b93c",
   "metadata": {},
   "outputs": [],
   "source": [
    "# Separando dados em labels de acordo com pés-quadrados\n",
    "price_df['label'] = pd.cut(price_df['sqft_living'],\n",
    "       bins = [0, 1000, 2000, 3000, 4000, 5000, 6000, 13540],\n",
    "       include_lowest=True,\n",
    "       labels=['Muito pequena', 'Pequena', 'Média-Pequena', 'Média', 'Média-Grande', 'Grande', 'Muito Grande',])"
   ]
  },
  {
   "cell_type": "code",
   "execution_count": null,
   "id": "8af99e48",
   "metadata": {},
   "outputs": [],
   "source": [
    "# Visualizando as 5 primeiras observações do novo dataset\n",
    "price_df.head()"
   ]
  },
  {
   "cell_type": "code",
   "execution_count": null,
   "id": "52205ae9",
   "metadata": {},
   "outputs": [],
   "source": [
    "price_df.groupby(by='label').describe()"
   ]
  },
  {
   "cell_type": "code",
   "execution_count": null,
   "id": "b6b7523c",
   "metadata": {},
   "outputs": [],
   "source": [
    "# Média de preço de cada tamanho de casa\n",
    "price_df.groupby(by='label')['price'].mean()"
   ]
  },
  {
   "cell_type": "markdown",
   "id": "8df2aa71",
   "metadata": {
    "tags": []
   },
   "source": [
    "## 4.0 Testando hipóteses"
   ]
  },
  {
   "cell_type": "code",
   "execution_count": null,
   "id": "536292b8-4b61-4160-979b-aa767b32024b",
   "metadata": {},
   "outputs": [],
   "source": [
    "# Extraindo todas as observações do tipo casa \"média\"\n",
    "casas_media = price_df.query('label == \"Média\"')"
   ]
  },
  {
   "cell_type": "code",
   "execution_count": null,
   "id": "c9c31f73-aac9-4760-a561-d57b62362ee5",
   "metadata": {},
   "outputs": [],
   "source": [
    "# Ordenando valores\n",
    "casas_media = casas_media.sort_values(by='date')"
   ]
  },
  {
   "cell_type": "code",
   "execution_count": null,
   "id": "d6ac454b-5b25-4776-963e-ab9d718b7e5e",
   "metadata": {},
   "outputs": [],
   "source": [
    "# Plotando gráficos\n",
    "fig = px.line(casas_media, x='date', y='price', height=350)\n",
    "\n",
    "fig.show()"
   ]
  },
  {
   "cell_type": "code",
   "execution_count": null,
   "id": "454a1cce-d8ce-4f68-adea-f473559f16bd",
   "metadata": {},
   "outputs": [],
   "source": [
    "# Calculando a aceleração\n",
    "casas_media['diff'] = casas_media['price'].diff()"
   ]
  },
  {
   "cell_type": "code",
   "execution_count": null,
   "id": "9a8eadad-2c39-4eec-8e83-ee3c6ec4fa97",
   "metadata": {},
   "outputs": [],
   "source": [
    "# Verificando se aumentou ou não\n",
    "casas_media['increased'] = casas_media['diff'].apply(lambda x : x > 0)"
   ]
  },
  {
   "cell_type": "code",
   "execution_count": null,
   "id": "173234ee-82e9-434a-925a-2f5acea2648f",
   "metadata": {},
   "outputs": [],
   "source": [
    "# Categorizando por dia\n",
    "casas_media['day'] = casas_media['date'].dt.day"
   ]
  },
  {
   "cell_type": "code",
   "execution_count": null,
   "id": "02f31905-65a4-40fa-9703-346253d20d5b",
   "metadata": {},
   "outputs": [],
   "source": [
    "# Aumento médio por dia\n",
    "aumento_medio_por_dia = casas_media.groupby(by='day').mean()['increased']"
   ]
  },
  {
   "cell_type": "code",
   "execution_count": null,
   "id": "c7d7a0b6-1d6c-45c0-af63-9629da96bb5c",
   "metadata": {},
   "outputs": [],
   "source": [
    "aumento_medio_por_dia = pd.DataFrame(aumento_medio_por_dia).reset_index()"
   ]
  },
  {
   "cell_type": "code",
   "execution_count": null,
   "id": "cfe3acf0-64af-48da-820b-1f493534746d",
   "metadata": {},
   "outputs": [],
   "source": [
    "aumento_medio_por_dia['day'] = aumento_medio_por_dia['day'].apply(lambda x : 'd' + str(x))"
   ]
  },
  {
   "cell_type": "code",
   "execution_count": null,
   "id": "6813bbd5-a063-417f-b54c-2b8ddb84fbbd",
   "metadata": {},
   "outputs": [],
   "source": [
    "ax = sns.barplot(x = 'day', y = 'increased',\n",
    "                 data = aumento_medio_por_dia.sort_values(by='increased', ascending=False),\n",
    "                 palette='mako')\n",
    "\n",
    "ax.figure.set_size_inches(12, 6)"
   ]
  },
  {
   "cell_type": "markdown",
   "id": "7bd0d137-ee47-4d8f-a40b-a241773da5fa",
   "metadata": {},
   "source": [
    "## 5.0 Respondendo perguntas "
   ]
  },
  {
   "cell_type": "markdown",
   "id": "0641a58d",
   "metadata": {},
   "source": [
    "- Quais casas o CEO da House Rocket deveria comprar e por qual preço de compra?\n",
    "\n",
    "> As casas do tipo pequena apresentam um menor risco, por ter um desvio padrão inferior aos demais, além de, em comparação lucro-risco, as casas do tipo pequena possuem melhores resultados, a média de um casa pequena é de 398.794,50 dólares, recomenda-se comprar, no dia 25 do mês, por apresentar uma tendência de maior baixa do valor\n",
    "\n",
    "- Uma vez a casa em posse da empresa, qual o melhor momento para vendê-las e qual seria o preço da venda?\n",
    "\n",
    "> O dia 31 do mês, apresenta em geral, um maior aumento no valor da casa, sendo assim, o melhor momento para vender, o preço em média é de 490.000,00 dólares\n",
    "\n",
    "\n",
    "- A House Rocket deveria fazer uma reforma para aumentar o preço da venda? Quais seriam as sugestões de mudanças? Qual o incremento no preço dado por cada opção de reforma?\n",
    "\n",
    "> As algumas variáveis que podem ser reformadas, apresentam correlação com preço da casa, então, provavelmente, reformas nesse setor aumentariam o valor da casa, apesar de que, para melhor cálculo, seria necessário os dados do valor da reforma"
   ]
  }
 ],
 "metadata": {
  "kernelspec": {
   "display_name": "Python 3 (ipykernel)",
   "language": "python",
   "name": "python3"
  },
  "language_info": {
   "codemirror_mode": {
    "name": "ipython",
    "version": 3
   },
   "file_extension": ".py",
   "mimetype": "text/x-python",
   "name": "python",
   "nbconvert_exporter": "python",
   "pygments_lexer": "ipython3",
   "version": "3.9.13"
  }
 },
 "nbformat": 4,
 "nbformat_minor": 5
}
