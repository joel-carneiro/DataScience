{
 "cells": [
  {
   "cell_type": "markdown",
   "id": "99db1f52",
   "metadata": {},
   "source": [
    "# 1 - Análise Combinatória\n",
    "\n",
    "A análise combinatória é a área da Matemática que tem como função estudar a quantidade de agrupamentos que podem ser formados a partir de um conjunto de valores."
   ]
  },
  {
   "cell_type": "markdown",
   "id": "02dcda2b",
   "metadata": {},
   "source": [
    "## 1.1 - Fatorial"
   ]
  },
  {
   "cell_type": "markdown",
   "id": "93da8b1e",
   "metadata": {},
   "source": [
    "![](https://static.preparaenem.com/2021/02/analise-combinatoria.jpg)"
   ]
  },
  {
   "cell_type": "code",
   "execution_count": 57,
   "id": "be35be79",
   "metadata": {},
   "outputs": [],
   "source": [
    "def factorial(n):\n",
    "    if n < 0:\n",
    "        raise ValueError('Não existe fatorial de número negativo')\n",
    "    if n == 1 or n == 0:\n",
    "        return 1\n",
    "    resultado = 1\n",
    "    for i in range(1, n+1):\n",
    "        resultado *= i\n",
    "    return resultado"
   ]
  },
  {
   "cell_type": "code",
   "execution_count": 61,
   "id": "8e8c81bd",
   "metadata": {},
   "outputs": [
    {
     "data": {
      "text/plain": [
       "24"
      ]
     },
     "execution_count": 61,
     "metadata": {},
     "output_type": "execute_result"
    }
   ],
   "source": [
    "factorial(4)"
   ]
  },
  {
   "cell_type": "code",
   "execution_count": 58,
   "id": "c8bd7908",
   "metadata": {},
   "outputs": [
    {
     "ename": "ValueError",
     "evalue": "Não existe fatorial de número negativo",
     "output_type": "error",
     "traceback": [
      "\u001b[0;31m---------------------------------------------------------------------------\u001b[0m",
      "\u001b[0;31mValueError\u001b[0m                                Traceback (most recent call last)",
      "\u001b[0;32m/tmp/ipykernel_2854/3323783595.py\u001b[0m in \u001b[0;36m<module>\u001b[0;34m\u001b[0m\n\u001b[0;32m----> 1\u001b[0;31m \u001b[0mfactorial\u001b[0m\u001b[0;34m(\u001b[0m\u001b[0;34m-\u001b[0m\u001b[0;36m1\u001b[0m\u001b[0;34m)\u001b[0m\u001b[0;34m\u001b[0m\u001b[0;34m\u001b[0m\u001b[0m\n\u001b[0m",
      "\u001b[0;32m/tmp/ipykernel_2854/1262709826.py\u001b[0m in \u001b[0;36mfactorial\u001b[0;34m(n)\u001b[0m\n\u001b[1;32m      1\u001b[0m \u001b[0;32mdef\u001b[0m \u001b[0mfactorial\u001b[0m\u001b[0;34m(\u001b[0m\u001b[0mn\u001b[0m\u001b[0;34m)\u001b[0m\u001b[0;34m:\u001b[0m\u001b[0;34m\u001b[0m\u001b[0;34m\u001b[0m\u001b[0m\n\u001b[1;32m      2\u001b[0m     \u001b[0;32mif\u001b[0m \u001b[0mn\u001b[0m \u001b[0;34m<\u001b[0m \u001b[0;36m0\u001b[0m\u001b[0;34m:\u001b[0m\u001b[0;34m\u001b[0m\u001b[0;34m\u001b[0m\u001b[0m\n\u001b[0;32m----> 3\u001b[0;31m         \u001b[0;32mraise\u001b[0m \u001b[0mValueError\u001b[0m\u001b[0;34m(\u001b[0m\u001b[0;34m'Não existe fatorial de número negativo'\u001b[0m\u001b[0;34m)\u001b[0m\u001b[0;34m\u001b[0m\u001b[0;34m\u001b[0m\u001b[0m\n\u001b[0m\u001b[1;32m      4\u001b[0m     \u001b[0;32mif\u001b[0m \u001b[0mn\u001b[0m \u001b[0;34m==\u001b[0m \u001b[0;36m1\u001b[0m \u001b[0;32mor\u001b[0m \u001b[0mn\u001b[0m \u001b[0;34m==\u001b[0m \u001b[0;36m0\u001b[0m\u001b[0;34m:\u001b[0m\u001b[0;34m\u001b[0m\u001b[0;34m\u001b[0m\u001b[0m\n\u001b[1;32m      5\u001b[0m         \u001b[0;32mreturn\u001b[0m \u001b[0;36m1\u001b[0m\u001b[0;34m\u001b[0m\u001b[0;34m\u001b[0m\u001b[0m\n",
      "\u001b[0;31mValueError\u001b[0m: Não existe fatorial de número negativo"
     ]
    }
   ],
   "source": [
    "factorial(-1)"
   ]
  },
  {
   "cell_type": "code",
   "execution_count": 59,
   "id": "1f223b89",
   "metadata": {},
   "outputs": [],
   "source": [
    "import math as mt"
   ]
  },
  {
   "cell_type": "code",
   "execution_count": 62,
   "id": "351e5ad6",
   "metadata": {},
   "outputs": [
    {
     "data": {
      "text/plain": [
       "24"
      ]
     },
     "execution_count": 62,
     "metadata": {},
     "output_type": "execute_result"
    }
   ],
   "source": [
    "mt.factorial(4)"
   ]
  },
  {
   "cell_type": "markdown",
   "id": "a7ca5a8d",
   "metadata": {},
   "source": [
    "## 1.2 - Permutação Simples"
   ]
  },
  {
   "cell_type": "markdown",
   "id": "3ceb1218",
   "metadata": {},
   "source": [
    "## 1.3 - Permutação Composta"
   ]
  },
  {
   "cell_type": "code",
   "execution_count": 63,
   "id": "116fbbfe",
   "metadata": {},
   "outputs": [],
   "source": [
    "def gerar_anagramas(string):\n",
    "    # Caso base da recursão: se a string tiver apenas um caractere, retorna um conjunto com esse caractere\n",
    "    if len(string) == 1:\n",
    "        return set(string)\n",
    "    \n",
    "    # Caso contrário, inicia um conjunto vazio para armazenar os anagramas\n",
    "    anagramas = set()\n",
    "    \n",
    "    # Para cada caractere da string, gera os anagramas da string restante e combina com o caractere atual\n",
    "    for i in range(len(string)):\n",
    "        primeiro = string[i]\n",
    "        restante = string[:i] + string[i+1:]\n",
    "        for anagrama in gerar_anagramas(restante):\n",
    "            anagramas.add(primeiro + anagrama)\n",
    "    \n",
    "    return anagramas"
   ]
  },
  {
   "cell_type": "code",
   "execution_count": 64,
   "id": "dd131ac1",
   "metadata": {},
   "outputs": [
    {
     "data": {
      "text/plain": [
       "{'AAARR',\n",
       " 'AARAR',\n",
       " 'AARRA',\n",
       " 'ARAAR',\n",
       " 'ARARA',\n",
       " 'ARRAA',\n",
       " 'RAAAR',\n",
       " 'RAARA',\n",
       " 'RARAA',\n",
       " 'RRAAA'}"
      ]
     },
     "execution_count": 64,
     "metadata": {},
     "output_type": "execute_result"
    }
   ],
   "source": [
    "gerar_anagramas('ARARA')"
   ]
  }
 ],
 "metadata": {
  "kernelspec": {
   "display_name": "Python 3 (ipykernel)",
   "language": "python",
   "name": "python3"
  },
  "language_info": {
   "codemirror_mode": {
    "name": "ipython",
    "version": 3
   },
   "file_extension": ".py",
   "mimetype": "text/x-python",
   "name": "python",
   "nbconvert_exporter": "python",
   "pygments_lexer": "ipython3",
   "version": "3.9.13"
  }
 },
 "nbformat": 4,
 "nbformat_minor": 5
}
