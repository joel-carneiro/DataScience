{
 "cells": [
  {
   "cell_type": "markdown",
   "id": "558785f0",
   "metadata": {},
   "source": [
    "# Probabilidade e Estatística\n",
    "\n",
    "Probabilidade e estatística são duas disciplinas inter-relacionadas que fornecem ferramentas para analisar e interpretar dados em uma variedade de contextos. A probabilidade é a ciência matemática que estuda a aleatoriedade e a incerteza, examinando a chance de que um evento específico ocorra em um conjunto de resultados possíveis. A estatística, por sua vez, lida com a coleta, análise e interpretação de dados em um contexto mais amplo.\n",
    "\n",
    "A probabilidade é usada para modelar e entender eventos incertos, como a probabilidade de lançar uma moeda e obter cara ou coroa. A estatística é usada para coletar dados e extrair informações úteis a partir deles, como a média, desvio padrão e outras estatísticas descritivas. A inferência estatística é usada para extrapolar as conclusões tiradas dos dados amostrais para a população como um todo.\n",
    "\n",
    "A probabilidade e a estatística são amplamente utilizadas em muitos campos, incluindo negócios, ciências sociais, engenharia, medicina, finanças, entre outros. Na pesquisa científica, a probabilidade é usada para avaliar a significância estatística dos resultados, enquanto na ciência dos dados, a estatística é usada para modelar e prever eventos futuros com base em padrões passados. \n",
    "\n",
    "![](https://www.azquotes.com/picture-quotes/quote-there-were-5-exabytes-of-information-created-between-the-dawn-of-civilization-through-eric-schmidt-68-95-74.jpg)"
   ]
  },
  {
   "cell_type": "markdown",
   "id": "aa04ad8c",
   "metadata": {},
   "source": [
    "# 1 - Introdução a Probabilidade"
   ]
  },
  {
   "cell_type": "markdown",
   "id": "4cf28d63",
   "metadata": {},
   "source": [
    "## 1.1 - Noções iniciais"
   ]
  },
  {
   "cell_type": "markdown",
   "id": "598e23c0",
   "metadata": {},
   "source": [
    "![](https://static.preparaenem.com/2021/02/probabilidade.jpg)"
   ]
  },
  {
   "cell_type": "code",
   "execution_count": 2,
   "id": "52d8d6ad",
   "metadata": {},
   "outputs": [],
   "source": [
    "S = {1, 2, 3, 4, 5, 6}\n",
    "A = {6}"
   ]
  },
  {
   "cell_type": "code",
   "execution_count": 3,
   "id": "419a0a1c",
   "metadata": {},
   "outputs": [],
   "source": [
    "def calculate_probability(S : set, A : set):\n",
    "    return len(A) / len(S)"
   ]
  },
  {
   "cell_type": "code",
   "execution_count": 4,
   "id": "168cb96b",
   "metadata": {},
   "outputs": [
    {
     "data": {
      "text/plain": [
       "0.16666666666666666"
      ]
     },
     "execution_count": 4,
     "metadata": {},
     "output_type": "execute_result"
    }
   ],
   "source": [
    "calculate_probability(S, A)"
   ]
  },
  {
   "cell_type": "markdown",
   "id": "84d9f26d",
   "metadata": {},
   "source": [
    "## 1.2 - Teorema da Soma"
   ]
  },
  {
   "cell_type": "markdown",
   "id": "fdf0be2c",
   "metadata": {},
   "source": [
    "![](https://slideplayer.com.br/slide/16441561/96/images/23/P%28A%EF%83%88B%29+%3D+P%28A%29+%2B+P%28B%29+%EF%80%AD+P%28A%EF%83%87B%29.jpg)"
   ]
  },
  {
   "cell_type": "code",
   "execution_count": 5,
   "id": "63446805",
   "metadata": {},
   "outputs": [],
   "source": [
    "def probability_sum_theory(S, A, B):\n",
    "    return calculate_probability(S, A | B)"
   ]
  },
  {
   "cell_type": "code",
   "execution_count": 7,
   "id": "39498fdb",
   "metadata": {},
   "outputs": [
    {
     "data": {
      "text/plain": [
       "0.5"
      ]
     },
     "execution_count": 7,
     "metadata": {},
     "output_type": "execute_result"
    }
   ],
   "source": [
    "S = {1, 2, 3, 4, 5, 6}\n",
    "A = {1, 2}\n",
    "B = {6}\n",
    "\n",
    "probability_sum_theory(S, A, B)"
   ]
  },
  {
   "cell_type": "markdown",
   "id": "5738eae2",
   "metadata": {},
   "source": [
    "## 1.3 - Probabilidade do evento complementar"
   ]
  },
  {
   "cell_type": "code",
   "execution_count": 9,
   "id": "3994d4db",
   "metadata": {},
   "outputs": [],
   "source": [
    "S = {1, 2, 3, 4, 5, 6}\n",
    "A = {2, 3}\n",
    "\n",
    "def complementary_event_probability(S, A):\n",
    "    return 1 - calculate_probability(S, A)"
   ]
  },
  {
   "cell_type": "code",
   "execution_count": 10,
   "id": "f8026e6e",
   "metadata": {},
   "outputs": [
    {
     "data": {
      "text/plain": [
       "0.6666666666666667"
      ]
     },
     "execution_count": 10,
     "metadata": {},
     "output_type": "execute_result"
    }
   ],
   "source": [
    "complementary_event_probability(S, A)"
   ]
  },
  {
   "cell_type": "markdown",
   "id": "1bd3ba36",
   "metadata": {},
   "source": [
    "## 1.4 - Exercícios"
   ]
  },
  {
   "cell_type": "markdown",
   "id": "cd67eb91",
   "metadata": {},
   "source": [
    "![](https://imgur.com/c5UfJ7q.png)"
   ]
  },
  {
   "cell_type": "markdown",
   "id": "3c1bcf2c",
   "metadata": {},
   "source": [
    "![](https://imgur.com/ADs9Y3G.png)"
   ]
  },
  {
   "cell_type": "code",
   "execution_count": 21,
   "id": "edf8358f",
   "metadata": {},
   "outputs": [],
   "source": [
    "S = set(range(1, 53, 1))\n",
    "Ac = set(range(1, 13, 1))\n",
    "A = set(range(13, 53, 1))"
   ]
  },
  {
   "cell_type": "code",
   "execution_count": 24,
   "id": "024d6abd",
   "metadata": {
    "scrolled": true
   },
   "outputs": [
    {
     "data": {
      "text/plain": [
       "0.23076923076923078"
      ]
     },
     "execution_count": 24,
     "metadata": {},
     "output_type": "execute_result"
    }
   ],
   "source": [
    "calculate_probability(S, Ac)"
   ]
  },
  {
   "cell_type": "code",
   "execution_count": 23,
   "id": "0fc5181d",
   "metadata": {},
   "outputs": [
    {
     "data": {
      "text/plain": [
       "0.23076923076923073"
      ]
     },
     "execution_count": 23,
     "metadata": {},
     "output_type": "execute_result"
    }
   ],
   "source": [
    "complementary_event_probability(S, A)"
   ]
  }
 ],
 "metadata": {
  "kernelspec": {
   "display_name": "Python 3 (ipykernel)",
   "language": "python",
   "name": "python3"
  },
  "language_info": {
   "codemirror_mode": {
    "name": "ipython",
    "version": 3
   },
   "file_extension": ".py",
   "mimetype": "text/x-python",
   "name": "python",
   "nbconvert_exporter": "python",
   "pygments_lexer": "ipython3",
   "version": "3.9.13"
  }
 },
 "nbformat": 4,
 "nbformat_minor": 5
}
