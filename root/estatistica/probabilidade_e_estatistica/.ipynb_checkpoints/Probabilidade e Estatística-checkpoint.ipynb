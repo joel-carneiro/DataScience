{
 "cells": [
  {
   "cell_type": "markdown",
   "id": "558785f0",
   "metadata": {},
   "source": [
    "# Probabilidade e Estatística\n",
    "\n",
    "Probabilidade e estatística são duas disciplinas inter-relacionadas que fornecem ferramentas para analisar e interpretar dados em uma variedade de contextos. A probabilidade é a ciência matemática que estuda a aleatoriedade e a incerteza, examinando a chance de que um evento específico ocorra em um conjunto de resultados possíveis. A estatística, por sua vez, lida com a coleta, análise e interpretação de dados em um contexto mais amplo.\n",
    "\n",
    "A probabilidade é usada para modelar e entender eventos incertos, como a probabilidade de lançar uma moeda e obter cara ou coroa. A estatística é usada para coletar dados e extrair informações úteis a partir deles, como a média, desvio padrão e outras estatísticas descritivas. A inferência estatística é usada para extrapolar as conclusões tiradas dos dados amostrais para a população como um todo.\n",
    "\n",
    "A probabilidade e a estatística são amplamente utilizadas em muitos campos, incluindo negócios, ciências sociais, engenharia, medicina, finanças, entre outros. Na pesquisa científica, a probabilidade é usada para avaliar a significância estatística dos resultados, enquanto na ciência dos dados, a estatística é usada para modelar e prever eventos futuros com base em padrões passados. \n",
    "\n",
    "![](https://www.azquotes.com/picture-quotes/quote-there-were-5-exabytes-of-information-created-between-the-dawn-of-civilization-through-eric-schmidt-68-95-74.jpg)"
   ]
  },
  {
   "cell_type": "markdown",
   "id": "aa04ad8c",
   "metadata": {},
   "source": [
    "# 1 - Introdução a probabilidade"
   ]
  },
  {
   "cell_type": "markdown",
   "id": "598e23c0",
   "metadata": {},
   "source": [
    "![](https://static.preparaenem.com/2021/02/probabilidade.jpg)"
   ]
  },
  {
   "cell_type": "code",
   "execution_count": 47,
   "id": "52d8d6ad",
   "metadata": {},
   "outputs": [],
   "source": [
    "import numpy as np"
   ]
  },
  {
   "cell_type": "code",
   "execution_count": 48,
   "id": "419a0a1c",
   "metadata": {},
   "outputs": [],
   "source": [
    "def roll_dice(n):\n",
    "    sample_space = np.arange(1, 7, 1)\n",
    "    return np.array([np.random.choice(sample_space) for _ in range(n)])"
   ]
  },
  {
   "cell_type": "code",
   "execution_count": 49,
   "id": "168cb96b",
   "metadata": {},
   "outputs": [
    {
     "data": {
      "text/plain": [
       "array([2, 3, 1, ..., 5, 5, 4])"
      ]
     },
     "execution_count": 49,
     "metadata": {},
     "output_type": "execute_result"
    }
   ],
   "source": [
    "roll_dice(10000)"
   ]
  },
  {
   "cell_type": "code",
   "execution_count": 64,
   "id": "3d95708d",
   "metadata": {},
   "outputs": [],
   "source": [
    "probability = lambda s, n : len(n) / len(s)"
   ]
  },
  {
   "cell_type": "code",
   "execution_count": 65,
   "id": "a6172e2c",
   "metadata": {},
   "outputs": [
    {
     "data": {
      "text/plain": [
       "0.5"
      ]
     },
     "execution_count": 65,
     "metadata": {},
     "output_type": "execute_result"
    }
   ],
   "source": [
    "probability([1, 2, 3, 4, 5, 6], [1, 3, 5])"
   ]
  },
  {
   "cell_type": "markdown",
   "id": "84d9f26d",
   "metadata": {},
   "source": [
    "# 2 - Teorema da Soma"
   ]
  },
  {
   "cell_type": "code",
   "execution_count": null,
   "id": "3db36f21",
   "metadata": {},
   "outputs": [],
   "source": []
  }
 ],
 "metadata": {
  "kernelspec": {
   "display_name": "Python 3 (ipykernel)",
   "language": "python",
   "name": "python3"
  },
  "language_info": {
   "codemirror_mode": {
    "name": "ipython",
    "version": 3
   },
   "file_extension": ".py",
   "mimetype": "text/x-python",
   "name": "python",
   "nbconvert_exporter": "python",
   "pygments_lexer": "ipython3",
   "version": "3.9.13"
  }
 },
 "nbformat": 4,
 "nbformat_minor": 5
}
