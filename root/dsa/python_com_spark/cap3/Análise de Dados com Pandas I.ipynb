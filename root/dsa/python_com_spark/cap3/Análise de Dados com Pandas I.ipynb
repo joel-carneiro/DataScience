{
 "cells": [
  {
   "cell_type": "markdown",
   "id": "5b9b26f9",
   "metadata": {},
   "source": [
    "# 1 - Series"
   ]
  },
  {
   "cell_type": "markdown",
   "id": "9ee604ac",
   "metadata": {},
   "source": [
    "Notebook para estudo sobre o módulo pandas durante a formação em ciência de dados na DSA"
   ]
  },
  {
   "cell_type": "markdown",
   "id": "6042594a",
   "metadata": {},
   "source": [
    "## 1.1 - Introdução a métodos padrões"
   ]
  },
  {
   "cell_type": "code",
   "execution_count": 13,
   "id": "099f15ba",
   "metadata": {},
   "outputs": [],
   "source": [
    "import pandas as pd\n",
    "import numpy as np\n",
    "import string\n",
    "import matplotlib.pyplot as plt"
   ]
  },
  {
   "cell_type": "code",
   "execution_count": 20,
   "id": "d6833fd5",
   "metadata": {},
   "outputs": [],
   "source": [
    "serie1 = pd.Series(np.random.randint(1, 50, 20))"
   ]
  },
  {
   "cell_type": "code",
   "execution_count": 21,
   "id": "18e8ca27",
   "metadata": {},
   "outputs": [
    {
     "data": {
      "text/plain": [
       "29.2"
      ]
     },
     "execution_count": 21,
     "metadata": {},
     "output_type": "execute_result"
    }
   ],
   "source": [
    "serie1.mean()"
   ]
  },
  {
   "cell_type": "code",
   "execution_count": 22,
   "id": "1a6a8ece",
   "metadata": {},
   "outputs": [
    {
     "data": {
      "text/plain": [
       "31.0"
      ]
     },
     "execution_count": 22,
     "metadata": {},
     "output_type": "execute_result"
    }
   ],
   "source": [
    "serie1.median()"
   ]
  },
  {
   "cell_type": "code",
   "execution_count": 23,
   "id": "38ae3af2",
   "metadata": {},
   "outputs": [
    {
     "data": {
      "text/plain": [
       "0    33\n",
       "dtype: int64"
      ]
     },
     "execution_count": 23,
     "metadata": {},
     "output_type": "execute_result"
    }
   ],
   "source": [
    "serie1.mode()"
   ]
  },
  {
   "cell_type": "code",
   "execution_count": 24,
   "id": "3aae1eed",
   "metadata": {},
   "outputs": [
    {
     "data": {
      "text/plain": [
       "count    20.000000\n",
       "mean     29.200000\n",
       "std      11.691652\n",
       "min       7.000000\n",
       "25%      20.250000\n",
       "50%      31.000000\n",
       "75%      37.750000\n",
       "max      47.000000\n",
       "dtype: float64"
      ]
     },
     "execution_count": 24,
     "metadata": {},
     "output_type": "execute_result"
    }
   ],
   "source": [
    "serie1.describe()"
   ]
  },
  {
   "cell_type": "code",
   "execution_count": 28,
   "id": "44c8a950",
   "metadata": {},
   "outputs": [
    {
     "data": {
      "text/plain": [
       "<AxesSubplot: >"
      ]
     },
     "execution_count": 28,
     "metadata": {},
     "output_type": "execute_result"
    },
    {
     "data": {
      "image/png": "[encoded data removed]",
      "text/plain": [
       "<Figure size 640x480 with 1 Axes>"
      ]
     },
     "metadata": {},
     "output_type": "display_data"
    }
   ],
   "source": [
    "serie1.hist(bins=10, alpha=0.75)"
   ]
  },
  {
   "cell_type": "markdown",
   "id": "e6088d23",
   "metadata": {},
   "source": [
    "## 1.2 - Valores faltantes"
   ]
  },
  {
   "cell_type": "code",
   "execution_count": 29,
   "id": "2c76f219",
   "metadata": {},
   "outputs": [
    {
     "data": {
      "text/plain": [
       "array([ 2.,  3.,  5.,  7., nan])"
      ]
     },
     "execution_count": 29,
     "metadata": {},
     "output_type": "execute_result"
    }
   ],
   "source": [
    "array1 = np.array([2, 3, 5, 7, np.nan]); array1"
   ]
  },
  {
   "cell_type": "code",
   "execution_count": 30,
   "id": "1c4a7edd",
   "metadata": {},
   "outputs": [
    {
     "data": {
      "text/plain": [
       "nan"
      ]
     },
     "execution_count": 30,
     "metadata": {},
     "output_type": "execute_result"
    }
   ],
   "source": [
    "array1.mean()"
   ]
  },
  {
   "cell_type": "code",
   "execution_count": 31,
   "id": "a4029a15",
   "metadata": {},
   "outputs": [],
   "source": [
    "serie2 = pd.Series(array1)"
   ]
  },
  {
   "cell_type": "code",
   "execution_count": 32,
   "id": "cae46fa9",
   "metadata": {},
   "outputs": [
    {
     "data": {
      "text/plain": [
       "0    2.0\n",
       "1    3.0\n",
       "2    5.0\n",
       "3    7.0\n",
       "4    NaN\n",
       "dtype: float64"
      ]
     },
     "execution_count": 32,
     "metadata": {},
     "output_type": "execute_result"
    }
   ],
   "source": [
    "serie2"
   ]
  },
  {
   "cell_type": "code",
   "execution_count": 33,
   "id": "7634273e",
   "metadata": {},
   "outputs": [
    {
     "data": {
      "text/plain": [
       "4.25"
      ]
     },
     "execution_count": 33,
     "metadata": {},
     "output_type": "execute_result"
    }
   ],
   "source": [
    "serie2.mean()"
   ]
  },
  {
   "cell_type": "markdown",
   "id": "7e09a5a6",
   "metadata": {},
   "source": [
    "## 1.3 Concatenação de Series"
   ]
  },
  {
   "cell_type": "code",
   "execution_count": 38,
   "id": "40505dd5",
   "metadata": {},
   "outputs": [],
   "source": [
    "serie3 = pd.Series(np.random.randint(1, 100, 10))\n",
    "serie4 = pd.Series(np.random.randint(-100, 0, 10))"
   ]
  },
  {
   "cell_type": "code",
   "execution_count": 43,
   "id": "8253a4f5",
   "metadata": {},
   "outputs": [
    {
     "data": {
      "text/plain": [
       "0    38\n",
       "1    65\n",
       "2    40\n",
       "3    47\n",
       "4    13\n",
       "5    18\n",
       "6    38\n",
       "7    94\n",
       "8    94\n",
       "9    62\n",
       "0   -35\n",
       "1   -11\n",
       "2   -25\n",
       "3   -93\n",
       "4   -86\n",
       "5   -47\n",
       "6   -48\n",
       "7   -33\n",
       "8   -57\n",
       "9   -48\n",
       "dtype: int64"
      ]
     },
     "execution_count": 43,
     "metadata": {},
     "output_type": "execute_result"
    }
   ],
   "source": [
    "serie5 = pd.concat([serie3, serie4]); serie5"
   ]
  },
  {
   "cell_type": "code",
   "execution_count": 46,
   "id": "fbe41cbf",
   "metadata": {},
   "outputs": [],
   "source": [
    "serie5.index = np.arange(len(serie5))"
   ]
  },
  {
   "cell_type": "code",
   "execution_count": 47,
   "id": "bf93a37b",
   "metadata": {
    "scrolled": true
   },
   "outputs": [
    {
     "data": {
      "text/plain": [
       "0     38\n",
       "1     65\n",
       "2     40\n",
       "3     47\n",
       "4     13\n",
       "5     18\n",
       "6     38\n",
       "7     94\n",
       "8     94\n",
       "9     62\n",
       "10   -35\n",
       "11   -11\n",
       "12   -25\n",
       "13   -93\n",
       "14   -86\n",
       "15   -47\n",
       "16   -48\n",
       "17   -33\n",
       "18   -57\n",
       "19   -48\n",
       "dtype: int64"
      ]
     },
     "execution_count": 47,
     "metadata": {},
     "output_type": "execute_result"
    }
   ],
   "source": [
    "serie5"
   ]
  },
  {
   "cell_type": "markdown",
   "id": "bbcb8002",
   "metadata": {},
   "source": [
    "# 2 - DataFrames"
   ]
  },
  {
   "cell_type": "markdown",
   "id": "8d95975a",
   "metadata": {},
   "source": [
    "## 2.1 Operações com dataframes"
   ]
  },
  {
   "cell_type": "code",
   "execution_count": null,
   "id": "d83a2111",
   "metadata": {},
   "outputs": [],
   "source": []
  }
 ],
 "metadata": {
  "kernelspec": {
   "display_name": "Python 3 (ipykernel)",
   "language": "python",
   "name": "python3"
  },
  "language_info": {
   "codemirror_mode": {
    "name": "ipython",
    "version": 3
   },
   "file_extension": ".py",
   "mimetype": "text/x-python",
   "name": "python",
   "nbconvert_exporter": "python",
   "pygments_lexer": "ipython3",
   "version": "3.10.9"
  }
 },
 "nbformat": 4,
 "nbformat_minor": 5
}
