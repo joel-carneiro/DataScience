{
 "cells": [
  {
   "cell_type": "markdown",
   "id": "3adb9356",
   "metadata": {},
   "source": [
    "# 1 - Introdução"
   ]
  },
  {
   "cell_type": "markdown",
   "id": "8719b9f5",
   "metadata": {},
   "source": [
    "Mais um projeto prático de aprendizado de máquina, aparentemente, teremos que criar um modelo que possa prever, de acordo com alguns dados, se uma certa transação é fraudulenta ou não.\n",
    "\n",
    "A base de dados usadas nesse notebook foi retirada do [Kaggle](https://www.kaggle.com/datasets/sanskar457/fraud-transaction-detection), e afim de aprimorar minhas habilidades em ciência de dados e aprendizado de máquina, foi fazer um projeto completo tendo como base ela.\n",
    "\n",
    "Vamos analisar!"
   ]
  },
  {
   "cell_type": "markdown",
   "id": "b2e19917",
   "metadata": {},
   "source": [
    "## 1-1 Primeiras Impressões"
   ]
  },
  {
   "cell_type": "markdown",
   "id": "c7b5102c",
   "metadata": {},
   "source": [
    "Vamos importar a base de dados e visualizar seus dados iniciais"
   ]
  },
  {
   "cell_type": "code",
   "execution_count": 1,
   "id": "16cc0856",
   "metadata": {},
   "outputs": [],
   "source": [
    "import pandas as pd\n",
    "import matplotlib.pyplot as plt\n",
    "import seaborn as sns\n",
    "import warnings\n",
    "\n",
    "warnings.filterwarnings('ignore')"
   ]
  },
  {
   "cell_type": "code",
   "execution_count": 2,
   "id": "9e5ab295",
   "metadata": {},
   "outputs": [],
   "source": [
    "df = pd.read_csv('/home/jds/Documentos/data/final_transactions.csv', sep=',').iloc[:, 1:]"
   ]
  },
  {
   "cell_type": "code",
   "execution_count": 3,
   "id": "31134d74",
   "metadata": {},
   "outputs": [
    {
     "data": {
      "text/html": [
       "<div>\n",
       "<style scoped>\n",
       "    .dataframe tbody tr th:only-of-type {\n",
       "        vertical-align: middle;\n",
       "    }\n",
       "\n",
       "    .dataframe tbody tr th {\n",
       "        vertical-align: top;\n",
       "    }\n",
       "\n",
       "    .dataframe thead th {\n",
       "        text-align: right;\n",
       "    }\n",
       "</style>\n",
       "<table border=\"1\" class=\"dataframe\">\n",
       "  <thead>\n",
       "    <tr style=\"text-align: right;\">\n",
       "      <th></th>\n",
       "      <th>TRANSACTION_ID</th>\n",
       "      <th>TX_DATETIME</th>\n",
       "      <th>CUSTOMER_ID</th>\n",
       "      <th>TERMINAL_ID</th>\n",
       "      <th>TX_AMOUNT</th>\n",
       "      <th>TX_TIME_SECONDS</th>\n",
       "      <th>TX_TIME_DAYS</th>\n",
       "      <th>TX_FRAUD</th>\n",
       "      <th>TX_FRAUD_SCENARIO</th>\n",
       "    </tr>\n",
       "  </thead>\n",
       "  <tbody>\n",
       "    <tr>\n",
       "      <th>0</th>\n",
       "      <td>0</td>\n",
       "      <td>2023-01-01 00:00:31</td>\n",
       "      <td>596</td>\n",
       "      <td>3156</td>\n",
       "      <td>533.07</td>\n",
       "      <td>31</td>\n",
       "      <td>0</td>\n",
       "      <td>0</td>\n",
       "      <td>0</td>\n",
       "    </tr>\n",
       "    <tr>\n",
       "      <th>1</th>\n",
       "      <td>1</td>\n",
       "      <td>2023-01-01 00:02:10</td>\n",
       "      <td>4961</td>\n",
       "      <td>3412</td>\n",
       "      <td>808.56</td>\n",
       "      <td>130</td>\n",
       "      <td>0</td>\n",
       "      <td>0</td>\n",
       "      <td>0</td>\n",
       "    </tr>\n",
       "    <tr>\n",
       "      <th>2</th>\n",
       "      <td>2</td>\n",
       "      <td>2023-01-01 00:07:56</td>\n",
       "      <td>2</td>\n",
       "      <td>1365</td>\n",
       "      <td>1442.94</td>\n",
       "      <td>476</td>\n",
       "      <td>0</td>\n",
       "      <td>1</td>\n",
       "      <td>1</td>\n",
       "    </tr>\n",
       "    <tr>\n",
       "      <th>3</th>\n",
       "      <td>3</td>\n",
       "      <td>2023-01-01 00:09:29</td>\n",
       "      <td>4128</td>\n",
       "      <td>8737</td>\n",
       "      <td>620.65</td>\n",
       "      <td>569</td>\n",
       "      <td>0</td>\n",
       "      <td>0</td>\n",
       "      <td>0</td>\n",
       "    </tr>\n",
       "    <tr>\n",
       "      <th>4</th>\n",
       "      <td>4</td>\n",
       "      <td>2023-01-01 00:10:34</td>\n",
       "      <td>927</td>\n",
       "      <td>9906</td>\n",
       "      <td>490.66</td>\n",
       "      <td>634</td>\n",
       "      <td>0</td>\n",
       "      <td>0</td>\n",
       "      <td>0</td>\n",
       "    </tr>\n",
       "    <tr>\n",
       "      <th>...</th>\n",
       "      <td>...</td>\n",
       "      <td>...</td>\n",
       "      <td>...</td>\n",
       "      <td>...</td>\n",
       "      <td>...</td>\n",
       "      <td>...</td>\n",
       "      <td>...</td>\n",
       "      <td>...</td>\n",
       "      <td>...</td>\n",
       "    </tr>\n",
       "    <tr>\n",
       "      <th>1754150</th>\n",
       "      <td>1754150</td>\n",
       "      <td>2023-07-02 23:56:36</td>\n",
       "      <td>161</td>\n",
       "      <td>655</td>\n",
       "      <td>531.43</td>\n",
       "      <td>15810996</td>\n",
       "      <td>182</td>\n",
       "      <td>0</td>\n",
       "      <td>0</td>\n",
       "    </tr>\n",
       "    <tr>\n",
       "      <th>1754151</th>\n",
       "      <td>1754151</td>\n",
       "      <td>2023-07-02 23:57:38</td>\n",
       "      <td>4342</td>\n",
       "      <td>6181</td>\n",
       "      <td>10.40</td>\n",
       "      <td>15811058</td>\n",
       "      <td>182</td>\n",
       "      <td>0</td>\n",
       "      <td>0</td>\n",
       "    </tr>\n",
       "    <tr>\n",
       "      <th>1754152</th>\n",
       "      <td>1754152</td>\n",
       "      <td>2023-07-02 23:58:21</td>\n",
       "      <td>618</td>\n",
       "      <td>1502</td>\n",
       "      <td>26.62</td>\n",
       "      <td>15811101</td>\n",
       "      <td>182</td>\n",
       "      <td>0</td>\n",
       "      <td>0</td>\n",
       "    </tr>\n",
       "    <tr>\n",
       "      <th>1754153</th>\n",
       "      <td>1754153</td>\n",
       "      <td>2023-07-02 23:59:52</td>\n",
       "      <td>4056</td>\n",
       "      <td>3067</td>\n",
       "      <td>550.43</td>\n",
       "      <td>15811192</td>\n",
       "      <td>182</td>\n",
       "      <td>0</td>\n",
       "      <td>0</td>\n",
       "    </tr>\n",
       "    <tr>\n",
       "      <th>1754154</th>\n",
       "      <td>1754154</td>\n",
       "      <td>2023-07-02 23:59:57</td>\n",
       "      <td>3542</td>\n",
       "      <td>9849</td>\n",
       "      <td>216.57</td>\n",
       "      <td>15811197</td>\n",
       "      <td>182</td>\n",
       "      <td>0</td>\n",
       "      <td>0</td>\n",
       "    </tr>\n",
       "  </tbody>\n",
       "</table>\n",
       "<p>1754155 rows × 9 columns</p>\n",
       "</div>"
      ],
      "text/plain": [
       "         TRANSACTION_ID          TX_DATETIME  CUSTOMER_ID  TERMINAL_ID  \\\n",
       "0                     0  2023-01-01 00:00:31          596         3156   \n",
       "1                     1  2023-01-01 00:02:10         4961         3412   \n",
       "2                     2  2023-01-01 00:07:56            2         1365   \n",
       "3                     3  2023-01-01 00:09:29         4128         8737   \n",
       "4                     4  2023-01-01 00:10:34          927         9906   \n",
       "...                 ...                  ...          ...          ...   \n",
       "1754150         1754150  2023-07-02 23:56:36          161          655   \n",
       "1754151         1754151  2023-07-02 23:57:38         4342         6181   \n",
       "1754152         1754152  2023-07-02 23:58:21          618         1502   \n",
       "1754153         1754153  2023-07-02 23:59:52         4056         3067   \n",
       "1754154         1754154  2023-07-02 23:59:57         3542         9849   \n",
       "\n",
       "         TX_AMOUNT  TX_TIME_SECONDS  TX_TIME_DAYS  TX_FRAUD  TX_FRAUD_SCENARIO  \n",
       "0           533.07               31             0         0                  0  \n",
       "1           808.56              130             0         0                  0  \n",
       "2          1442.94              476             0         1                  1  \n",
       "3           620.65              569             0         0                  0  \n",
       "4           490.66              634             0         0                  0  \n",
       "...            ...              ...           ...       ...                ...  \n",
       "1754150     531.43         15810996           182         0                  0  \n",
       "1754151      10.40         15811058           182         0                  0  \n",
       "1754152      26.62         15811101           182         0                  0  \n",
       "1754153     550.43         15811192           182         0                  0  \n",
       "1754154     216.57         15811197           182         0                  0  \n",
       "\n",
       "[1754155 rows x 9 columns]"
      ]
     },
     "execution_count": 3,
     "metadata": {},
     "output_type": "execute_result"
    }
   ],
   "source": [
    "df"
   ]
  },
  {
   "cell_type": "markdown",
   "id": "c2b13936",
   "metadata": {},
   "source": [
    "Como temos 1.754.155 observações, é razoável considerar que teremos uma base boa para treinar nosso modelo, porém, vamos visualizar mais algumas distribuições"
   ]
  },
  {
   "cell_type": "code",
   "execution_count": 4,
   "id": "03d5da3c",
   "metadata": {},
   "outputs": [
    {
     "name": "stdout",
     "output_type": "stream",
     "text": [
      "<class 'pandas.core.frame.DataFrame'>\n",
      "RangeIndex: 1754155 entries, 0 to 1754154\n",
      "Data columns (total 9 columns):\n",
      " #   Column             Dtype  \n",
      "---  ------             -----  \n",
      " 0   TRANSACTION_ID     int64  \n",
      " 1   TX_DATETIME        object \n",
      " 2   CUSTOMER_ID        int64  \n",
      " 3   TERMINAL_ID        int64  \n",
      " 4   TX_AMOUNT          float64\n",
      " 5   TX_TIME_SECONDS    int64  \n",
      " 6   TX_TIME_DAYS       int64  \n",
      " 7   TX_FRAUD           int64  \n",
      " 8   TX_FRAUD_SCENARIO  int64  \n",
      "dtypes: float64(1), int64(7), object(1)\n",
      "memory usage: 120.4+ MB\n"
     ]
    }
   ],
   "source": [
    "df.info()"
   ]
  },
  {
   "cell_type": "markdown",
   "id": "189320dd",
   "metadata": {},
   "source": [
    "**Considerações iniciais**\n",
    "- Temos em grande parte do dataset, valores de natureza contínua, isso possivelmente ajudará nosso modelo\n",
    "- Há inconsistências nos tipos das variáveis, como na coluna \"TX_DATETIME\" que deveria ser um \"datetime\" está como \"object\""
   ]
  },
  {
   "cell_type": "markdown",
   "id": "55eff6cc",
   "metadata": {},
   "source": [
    "## 1.2 - Tratando dados"
   ]
  },
  {
   "cell_type": "markdown",
   "id": "0330ccb2",
   "metadata": {},
   "source": [
    "Afim de corrigir possíveis erros e formatar para melhor visualização, valos tratar os dados"
   ]
  },
  {
   "cell_type": "code",
   "execution_count": 5,
   "id": "4760d830",
   "metadata": {},
   "outputs": [
    {
     "data": {
      "text/plain": [
       "TRANSACTION_ID       0\n",
       "TX_DATETIME          0\n",
       "CUSTOMER_ID          0\n",
       "TERMINAL_ID          0\n",
       "TX_AMOUNT            0\n",
       "TX_TIME_SECONDS      0\n",
       "TX_TIME_DAYS         0\n",
       "TX_FRAUD             0\n",
       "TX_FRAUD_SCENARIO    0\n",
       "dtype: int64"
      ]
     },
     "execution_count": 5,
     "metadata": {},
     "output_type": "execute_result"
    }
   ],
   "source": [
    "df.isna().sum()"
   ]
  },
  {
   "cell_type": "code",
   "execution_count": 6,
   "id": "1433a1ca",
   "metadata": {},
   "outputs": [
    {
     "data": {
      "text/plain": [
       "Text(0.5, 1.0, 'Total de dados nulos')"
      ]
     },
     "execution_count": 6,
     "metadata": {},
     "output_type": "execute_result"
    },
    {
     "data": {
      "image/png": "[encoded data removed]",
      "text/plain": [
       "<Figure size 500x500 with 1 Axes>"
      ]
     },
     "metadata": {},
     "output_type": "display_data"
    }
   ],
   "source": [
    "missing_values = df.isna().sum().sum()\n",
    "\n",
    "plt.figure(figsize=(5, 5))\n",
    "\n",
    "plt.style.use('ggplot')\n",
    "\n",
    "plt.pie(x=[missing_values, df.shape[0]])\n",
    "\n",
    "plt.title('Total de dados nulos')"
   ]
  },
  {
   "cell_type": "markdown",
   "id": "44a62ccd",
   "metadata": {},
   "source": [
    "**Observações sobre dados nulos**\n",
    "- Aparentemente não temos dados propriamente nulos na nossa base de dados, porém, veremos melhor mais a frente"
   ]
  },
  {
   "cell_type": "code",
   "execution_count": 12,
   "id": "35557037",
   "metadata": {},
   "outputs": [],
   "source": [
    "df['TX_DATETIME'] = pd.to_datetime(df['TX_DATETIME'])"
   ]
  },
  {
   "cell_type": "code",
   "execution_count": 17,
   "id": "3154d621",
   "metadata": {},
   "outputs": [],
   "source": [
    "df['TX_YEAR'] = df['TX_DATETIME'].dt.year\n",
    "df['TX_MONTH'] = df['TX_DATETIME'].dt.month\n",
    "df['TX_DAY'] = df['TX_DATETIME'].dt.day"
   ]
  },
  {
   "cell_type": "code",
   "execution_count": 21,
   "id": "d6719b73",
   "metadata": {},
   "outputs": [],
   "source": [
    "df.drop(['TX_DATETIME'], axis=1, inplace=True)"
   ]
  },
  {
   "cell_type": "markdown",
   "id": "d5a83c0a",
   "metadata": {},
   "source": [
    "## 2 - Análise exploratória de dados"
   ]
  },
  {
   "cell_type": "markdown",
   "id": "ace3955f",
   "metadata": {},
   "source": [
    "Chegou a hora de fazer uma exploração e visualizar nossa base de dados"
   ]
  },
  {
   "cell_type": "markdown",
   "id": "d0e41c16",
   "metadata": {},
   "source": [
    "## 2.1 - Distribuição de frequência"
   ]
  },
  {
   "cell_type": "code",
   "execution_count": 18,
   "id": "de134de4",
   "metadata": {
    "scrolled": false
   },
   "outputs": [
    {
     "data": {
      "text/plain": [
       "Text(0.5, 1.0, 'Distribuição de frequência')"
      ]
     },
     "execution_count": 18,
     "metadata": {},
     "output_type": "execute_result"
    },
    {
     "data": {
      "image/png": "[encoded data removed]",
      "text/plain": [
       "<Figure size 640x480 with 1 Axes>"
      ]
     },
     "metadata": {},
     "output_type": "display_data"
    }
   ],
   "source": [
    "sns.set_style('darkgrid')\n",
    "sns.set_palette('Set2')\n",
    "\n",
    "_ = sns.countplot(x='TX_FRAUD', data=df)\n",
    "_.set_title('Distribuição de frequência')"
   ]
  },
  {
   "cell_type": "markdown",
   "id": "70b3236a",
   "metadata": {},
   "source": [
    "É aparente como, na nossa base de dados, a distribuição de frequência é desbalanceada, uma vez que "
   ]
  },
  {
   "cell_type": "code",
   "execution_count": 30,
   "id": "a1b22e31",
   "metadata": {
    "scrolled": false
   },
   "outputs": [
    {
     "data": {
      "text/plain": [
       "<AxesSubplot:>"
      ]
     },
     "execution_count": 30,
     "metadata": {},
     "output_type": "execute_result"
    },
    {
     "data": {
      "image/png": "[encoded data removed]",
      "text/plain": [
       "<Figure size 640x480 with 2 Axes>"
      ]
     },
     "metadata": {},
     "output_type": "display_data"
    }
   ],
   "source": [
    "sns.heatmap(df.corr(), fmt='.1f', annot=True, cmap='magma')"
   ]
  },
  {
   "cell_type": "markdown",
   "id": "91a2592e",
   "metadata": {},
   "source": [
    "Não há correlações significativas nos nossos dados, oque indica que não podemos fazer uma diminuição de dimensionalidade direta"
   ]
  },
  {
   "cell_type": "markdown",
   "id": "5c14dd7d",
   "metadata": {},
   "source": [
    "# 3 - Implementando aprendizado de máquina"
   ]
  },
  {
   "cell_type": "markdown",
   "id": "5c587fd0",
   "metadata": {},
   "source": [
    "Chegou a hora de lidar com o aprendizado de máquina na nossa base de dados para classificação"
   ]
  },
  {
   "cell_type": "markdown",
   "id": "7b8ff0c2",
   "metadata": {},
   "source": [
    "## 3.1 - Separando dados entre treino e teste "
   ]
  },
  {
   "cell_type": "code",
   "execution_count": 37,
   "id": "a79d1e5f",
   "metadata": {},
   "outputs": [],
   "source": [
    "from sklearn.model_selection import train_test_split\n",
    "\n",
    "x = df.drop(['TX_FRAUD', 'TX_FRAUD_SCENARIO', 'TRANSACTION_ID', 'CUSTOMER_ID'], axis=1)\n",
    "y = df['TX_FRAUD']\n",
    "\n",
    "x_train, x_test, y_train, y_test = train_test_split(x, y, stratify=y)"
   ]
  },
  {
   "cell_type": "markdown",
   "id": "0bf046e2",
   "metadata": {},
   "source": [
    "## 3.2 - Usando a árvore de decisão"
   ]
  },
  {
   "cell_type": "code",
   "execution_count": 43,
   "id": "a8ff6d85",
   "metadata": {},
   "outputs": [],
   "source": [
    "from sklearn.tree import DecisionTreeClassifier\n",
    "from sklearn.linear_model import LogisticRegression\n",
    "from sklearn.neighbors import KNeighborsClassifier\n",
    "from sklearn.dummy import DummyClassifier"
   ]
  },
  {
   "cell_type": "code",
   "execution_count": 44,
   "id": "ed9f9ed9",
   "metadata": {},
   "outputs": [],
   "source": [
    "def calculate_accuracy(model):\n",
    "    model.fit(x_train, y_train)\n",
    "    return model.score(x_test, y_test)"
   ]
  },
  {
   "cell_type": "code",
   "execution_count": 45,
   "id": "bd632fb0",
   "metadata": {},
   "outputs": [
    {
     "data": {
      "text/plain": [
       "0.8654806071979915"
      ]
     },
     "execution_count": 45,
     "metadata": {},
     "output_type": "execute_result"
    }
   ],
   "source": [
    "calculate_accuracy(DummyClassifier())"
   ]
  },
  {
   "cell_type": "code",
   "execution_count": 46,
   "id": "e3d2be82",
   "metadata": {},
   "outputs": [
    {
     "data": {
      "text/plain": [
       "0.9987503962019342"
      ]
     },
     "execution_count": 46,
     "metadata": {},
     "output_type": "execute_result"
    }
   ],
   "source": [
    "calculate_accuracy(DecisionTreeClassifier())"
   ]
  },
  {
   "cell_type": "code",
   "execution_count": 47,
   "id": "569358b6",
   "metadata": {},
   "outputs": [
    {
     "data": {
      "text/plain": [
       "0.9940028138888446"
      ]
     },
     "execution_count": 47,
     "metadata": {},
     "output_type": "execute_result"
    }
   ],
   "source": [
    "calculate_accuracy(LogisticRegression())"
   ]
  },
  {
   "cell_type": "code",
   "execution_count": 48,
   "id": "65fe2ded",
   "metadata": {},
   "outputs": [
    {
     "data": {
      "text/plain": [
       "0.909864345018345"
      ]
     },
     "execution_count": 48,
     "metadata": {},
     "output_type": "execute_result"
    }
   ],
   "source": [
    "calculate_accuracy(KNeighborsClassifier())"
   ]
  },
  {
   "cell_type": "markdown",
   "id": "0afdc13f",
   "metadata": {},
   "source": [
    "# 4 - Conclusão"
   ]
  },
  {
   "cell_type": "markdown",
   "id": "432bbaf7",
   "metadata": {},
   "source": [
    "DecisionTreeClassifier foi o modelo com melhor acurácia"
   ]
  }
 ],
 "metadata": {
  "kernelspec": {
   "display_name": "Python 3 (ipykernel)",
   "language": "python",
   "name": "python3"
  },
  "language_info": {
   "codemirror_mode": {
    "name": "ipython",
    "version": 3
   },
   "file_extension": ".py",
   "mimetype": "text/x-python",
   "name": "python",
   "nbconvert_exporter": "python",
   "pygments_lexer": "ipython3",
   "version": "3.9.13"
  }
 },
 "nbformat": 4,
 "nbformat_minor": 5
}
