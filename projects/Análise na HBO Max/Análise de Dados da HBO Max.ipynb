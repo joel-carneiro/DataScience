{
 "cells": [
  {
   "cell_type": "markdown",
   "id": "4bf4d4b1",
   "metadata": {},
   "source": [
    "<font color='green' size=6> HBO Max TV Shows and Movies </font>\n",
    "\n",
    "---"
   ]
  },
  {
   "cell_type": "markdown",
   "id": "1b40eb22",
   "metadata": {},
   "source": [
    "# 1 - Definição do Problema"
   ]
  },
  {
   "cell_type": "markdown",
   "id": "854803f5",
   "metadata": {},
   "source": [
    "Analisar os dados da base de dados da HBO Max, afim de gerar um modelo capaz de recomendar filmes para usuários que tenham o gosto parecido. Além de gerar análise de shows, popularidade e afins"
   ]
  },
  {
   "cell_type": "markdown",
   "id": "cc186052",
   "metadata": {},
   "source": [
    "# 2 - Coleta de Dados"
   ]
  },
  {
   "cell_type": "code",
   "execution_count": null,
   "id": "1e4083ca",
   "metadata": {},
   "outputs": [],
   "source": [
    "# Importando módulos inicialmente necessários\n",
    "import pandas as pd\n",
    "import pickle\n",
    "import numpy as np\n",
    "import matplotlib.pyplot as plt\n",
    "import seaborn as sns"
   ]
  },
  {
   "cell_type": "code",
   "execution_count": null,
   "id": "e978b564",
   "metadata": {},
   "outputs": [],
   "source": [
    "# Importando a base de dados para um objeto dataframe\n",
    "credits = pd.read_csv('data/credits.csv')\n",
    "titles = pd.read_csv('data/titles.csv')"
   ]
  },
  {
   "cell_type": "code",
   "execution_count": null,
   "id": "588c58bf",
   "metadata": {},
   "outputs": [],
   "source": [
    "# Visualizando as 3 primeiras observações da base de dados \"credits\"\n",
    "credits.head(3)"
   ]
  },
  {
   "cell_type": "code",
   "execution_count": null,
   "id": "42a40b58",
   "metadata": {},
   "outputs": [],
   "source": [
    "# Visualizando as 3 primeiras observações da base de dados \"titles\"\n",
    "titles.head(3)"
   ]
  },
  {
   "cell_type": "markdown",
   "id": "3b223d21",
   "metadata": {},
   "source": [
    "# 3 - Limpeza e Preparação de Dados"
   ]
  },
  {
   "cell_type": "markdown",
   "id": "473e20a1",
   "metadata": {},
   "source": [
    "## 3.1 - Dados Dos Atores"
   ]
  },
  {
   "cell_type": "code",
   "execution_count": null,
   "id": "c786958b",
   "metadata": {},
   "outputs": [],
   "source": [
    "# Dimensão da base de dados\n",
    "credits.shape"
   ]
  },
  {
   "cell_type": "code",
   "execution_count": null,
   "id": "c380164a",
   "metadata": {},
   "outputs": [],
   "source": [
    "# Visualização mais abrangente da base de dados\n",
    "credits.head(10)"
   ]
  },
  {
   "cell_type": "code",
   "execution_count": null,
   "id": "74a98db2",
   "metadata": {},
   "outputs": [],
   "source": [
    "# Visualização do sumário da base de dados\n",
    "credits.info()"
   ]
  },
  {
   "cell_type": "code",
   "execution_count": null,
   "id": "0314d275",
   "metadata": {},
   "outputs": [],
   "source": [
    "# Observando se há dados nulos\n",
    "credits.isna().sum()"
   ]
  },
  {
   "cell_type": "code",
   "execution_count": null,
   "id": "5b95976b",
   "metadata": {},
   "outputs": [],
   "source": [
    "# Excluindo dados nulos\n",
    "credits.dropna(inplace=True)"
   ]
  },
  {
   "cell_type": "markdown",
   "id": "b7911d18",
   "metadata": {},
   "source": [
    "## 3.2 - Limpeza de Dados dos Filmes"
   ]
  },
  {
   "cell_type": "code",
   "execution_count": null,
   "id": "7cefc03a",
   "metadata": {},
   "outputs": [],
   "source": [
    "# Visualizando a base de dados\n",
    "titles.head(3)"
   ]
  },
  {
   "cell_type": "code",
   "execution_count": null,
   "id": "a029716e",
   "metadata": {},
   "outputs": [],
   "source": [
    "# Visualizando um sumário da base de dados\n",
    "titles.describe()"
   ]
  },
  {
   "cell_type": "code",
   "execution_count": null,
   "id": "c2c857f5",
   "metadata": {},
   "outputs": [],
   "source": [
    "# Visualizando informações da base de dados\n",
    "titles.info()"
   ]
  },
  {
   "cell_type": "code",
   "execution_count": null,
   "id": "289d83b1",
   "metadata": {},
   "outputs": [],
   "source": [
    "# Proporção de dados nulos\n",
    "titles.isna().sum() / len(titles)"
   ]
  },
  {
   "cell_type": "code",
   "execution_count": null,
   "id": "42c81554",
   "metadata": {},
   "outputs": [],
   "source": [
    "# Excluindo colunas que não serão usadas\n",
    "titles.drop(columns=['seasons', 'description'], inplace=True)"
   ]
  },
  {
   "cell_type": "code",
   "execution_count": null,
   "id": "4940590f",
   "metadata": {},
   "outputs": [],
   "source": [
    "# Limpando a coluna de certificação de idade\n",
    "titles['age_certification'] = titles['age_certification'].fillna('G')"
   ]
  },
  {
   "cell_type": "code",
   "execution_count": null,
   "id": "90936b38",
   "metadata": {},
   "outputs": [],
   "source": [
    "# Limpando o resto da base de dados\n",
    "titles.fillna(0, inplace=True)"
   ]
  },
  {
   "cell_type": "code",
   "execution_count": null,
   "id": "36acd581",
   "metadata": {},
   "outputs": [],
   "source": [
    "# Visualizando todos os genêros incluidos\n",
    "genres = set()\n",
    "for lg in titles['genres']:\n",
    "    genres.update(eval(lg))"
   ]
  },
  {
   "cell_type": "code",
   "execution_count": null,
   "id": "2c380d1c",
   "metadata": {},
   "outputs": [],
   "source": [
    "# Adicionando novas colunas a base de dados\n",
    "for gen in genres:\n",
    "    titles[gen] = titles['genres'].apply(lambda x : gen in eval(x))\n",
    "titles.drop(columns=['genres'], inplace=True)"
   ]
  },
  {
   "cell_type": "code",
   "execution_count": null,
   "id": "b3116b84",
   "metadata": {},
   "outputs": [],
   "source": [
    "# Visualizando todos os países incluidos\n",
    "countries = set()\n",
    "for lc in titles['production_countries']:\n",
    "    countries.update(eval(lc))"
   ]
  },
  {
   "cell_type": "code",
   "execution_count": null,
   "id": "ee4ccb6e",
   "metadata": {},
   "outputs": [],
   "source": [
    "# Adicionando novas colunas a base de dados\n",
    "for country in countries:\n",
    "    titles[country] = titles['production_countries'].apply(lambda x : country in eval(x))\n",
    "titles.drop(columns=['production_countries'], inplace=True)"
   ]
  },
  {
   "cell_type": "code",
   "execution_count": null,
   "id": "06cd874f",
   "metadata": {},
   "outputs": [],
   "source": [
    "# Alterando valores booleanos para valores númerios\n",
    "titles.replace({True: 1, False : 0}, inplace=True)"
   ]
  },
  {
   "cell_type": "markdown",
   "id": "6be5af30",
   "metadata": {},
   "source": [
    "# 4 - Análise Exploratória de Dados"
   ]
  },
  {
   "cell_type": "markdown",
   "id": "e5037555",
   "metadata": {},
   "source": [
    "## 4.1 - Análise da Base de Créditos"
   ]
  },
  {
   "cell_type": "code",
   "execution_count": null,
   "id": "0104b321",
   "metadata": {},
   "outputs": [],
   "source": [
    "# Dimensão da base de dados\n",
    "credits.shape"
   ]
  },
  {
   "cell_type": "code",
   "execution_count": null,
   "id": "932675d9",
   "metadata": {},
   "outputs": [],
   "source": [
    "# Separando dados segundo os nomes\n",
    "names = pd.value_counts(credits['name'])"
   ]
  },
  {
   "cell_type": "code",
   "execution_count": null,
   "id": "cfa8ac87",
   "metadata": {},
   "outputs": [],
   "source": [
    "# Escolhendo os 15 atores que mais apareceram\n",
    "names = names.sort_values(ascending=False)[:15]"
   ]
  },
  {
   "cell_type": "code",
   "execution_count": null,
   "id": "5c29cf49",
   "metadata": {
    "scrolled": false
   },
   "outputs": [],
   "source": [
    "# Visualizando os atores que mais apareceram nos filmes/shows da HBO Max\n",
    "plt.style.use('ggplot')\n",
    "axes = sns.barplot(x=names.values, y=names.index, palette='mako')\n",
    "axes.figure.set_size_inches(10, 5)\n",
    "axes.set_title('Total de aparições de atores na HBO Max', fontsize=14)\n",
    "axes.set_xlabel('Contagem')"
   ]
  },
  {
   "cell_type": "markdown",
   "id": "8dda6809",
   "metadata": {},
   "source": [
    "## 4.2 - Análise da Base de Títulos"
   ]
  },
  {
   "cell_type": "code",
   "execution_count": null,
   "id": "c4f88f1f",
   "metadata": {},
   "outputs": [],
   "source": [
    "# Diferença de dados de filme de classificação de idade\n",
    "_ = pd.value_counts(titles['age_certification'])\n",
    "sns.barplot(x=_.index, y=_.values)"
   ]
  },
  {
   "cell_type": "code",
   "execution_count": null,
   "id": "90e6b415",
   "metadata": {},
   "outputs": [],
   "source": [
    "# O total de votos na HBO por classificação de idade\n",
    "_ = titles.groupby(by='age_certification')['imdb_votes'].mean()\n",
    "_ = _.sort_values(ascending=False)\n",
    "sns.barplot(x=_.index, y=_.values)"
   ]
  },
  {
   "cell_type": "code",
   "execution_count": null,
   "id": "e2dcd4ec",
   "metadata": {
    "scrolled": false
   },
   "outputs": [],
   "source": [
    "# A média de nota bruta por classificação de idade\n",
    "_ = titles.groupby(by='age_certification')['imdb_score'].mean()\n",
    "_ = _.sort_values(ascending=False)\n",
    "sns.barplot(x=_.index, y=_.values)"
   ]
  },
  {
   "cell_type": "code",
   "execution_count": null,
   "id": "bee69221",
   "metadata": {},
   "outputs": [],
   "source": [
    "movies = titles.query('type == \"MOVIE\"')\n",
    "shows = titles.query('type == \"SHOW\"')"
   ]
  },
  {
   "cell_type": "code",
   "execution_count": null,
   "id": "6608d43a",
   "metadata": {},
   "outputs": [],
   "source": [
    "# Os 10 programas melhores avaliados da HBO Max\n",
    "titles.query('imdb_votes > 284').sort_values(by='imdb_score', ascending=False).iloc[:10, :10]"
   ]
  },
  {
   "cell_type": "code",
   "execution_count": null,
   "id": "f79025dc",
   "metadata": {},
   "outputs": [],
   "source": [
    "# Os 10 filmes mais avaliados\n",
    "movies.query('imdb_votes > 284').sort_values(by='imdb_score', ascending=False).iloc[:10, :10]"
   ]
  },
  {
   "cell_type": "code",
   "execution_count": null,
   "id": "7a5531de",
   "metadata": {},
   "outputs": [],
   "source": [
    "# Os 10 shows mais avaliados\n",
    "shows.query('imdb_votes > 284').sort_values(by='imdb_score', ascending=False).iloc[:10, :10]"
   ]
  },
  {
   "cell_type": "code",
   "execution_count": null,
   "id": "72227c49",
   "metadata": {},
   "outputs": [],
   "source": [
    "# Método inicial de recomendação de filmes por gênero\n",
    "def recommend_by_genre(gender, number):\n",
    "    recommend_titles = titles[titles[gender] == 1]\n",
    "    recommend_titles = recommend_titles.query('imdb_votes > 248')\n",
    "    recommend_titles = recommend_titles.sort_values(by='imdb_score', ascending=False)\n",
    "    return recommend_titles.iloc[:number, :10]"
   ]
  },
  {
   "cell_type": "code",
   "execution_count": null,
   "id": "f7513780",
   "metadata": {
    "scrolled": false
   },
   "outputs": [],
   "source": [
    "recommend_by_genre('fantasy', 10)"
   ]
  },
  {
   "cell_type": "markdown",
   "id": "bb13a812",
   "metadata": {},
   "source": [
    "# 5 - Criação do Modelo"
   ]
  },
  {
   "cell_type": "code",
   "execution_count": null,
   "id": "f4291ec4",
   "metadata": {},
   "outputs": [],
   "source": [
    "# Definindo as variáveis binárias dos gêneros\n",
    "genres = titles.iloc[:, 11:30]"
   ]
  },
  {
   "cell_type": "code",
   "execution_count": null,
   "id": "d6811a04",
   "metadata": {},
   "outputs": [],
   "source": [
    "# Criação e treino do modelo\n",
    "from sklearn.cluster import KMeans\n",
    "\n",
    "kmeans = KMeans(n_clusters=20, n_init=10)\n",
    "\n",
    "kmeans.fit(genres)"
   ]
  },
  {
   "cell_type": "code",
   "execution_count": null,
   "id": "c95def79",
   "metadata": {},
   "outputs": [],
   "source": [
    "# Definindo a variável target na base de dados\n",
    "genres['target'] = kmeans.labels_\n",
    "titles['target'] = kmeans.labels_"
   ]
  },
  {
   "cell_type": "code",
   "execution_count": null,
   "id": "c07a210f",
   "metadata": {},
   "outputs": [],
   "source": [
    "# Salvando o arquivo em formato csv\n",
    "genres.to_csv('data/genres.csv', index=False)"
   ]
  },
  {
   "cell_type": "markdown",
   "id": "8bf01130",
   "metadata": {},
   "source": [
    "# 6 - Deploy Do Modelo"
   ]
  },
  {
   "cell_type": "code",
   "execution_count": null,
   "id": "04b5373f",
   "metadata": {},
   "outputs": [],
   "source": [
    "with open('models/hbomax_model.pickle', 'wb') as f:\n",
    "    pickle.dump(kmeans, f)"
   ]
  },
  {
   "cell_type": "code",
   "execution_count": null,
   "id": "63a8473f",
   "metadata": {},
   "outputs": [],
   "source": [
    "def recommend_titles(x, number):\n",
    "    x = [int(g in x) for g in genres.columns[:-1]]\n",
    "    target = kmeans.predict([x])[0]\n",
    "    target_titles = titles[titles['target'] == target]\n",
    "    target_titles = target_titles.query('imdb_votes > 248')\n",
    "    return target_titles.sort_values(by='imdb_score', ascending=False).iloc[:number, :10]"
   ]
  },
  {
   "cell_type": "code",
   "execution_count": null,
   "id": "18dc098f",
   "metadata": {},
   "outputs": [],
   "source": [
    "recommend_titles(['fantasy', 'drama'], 10)"
   ]
  },
  {
   "cell_type": "code",
   "execution_count": null,
   "id": "cda0de21",
   "metadata": {},
   "outputs": [],
   "source": []
  }
 ],
 "metadata": {
  "kernelspec": {
   "display_name": "Python 3 (ipykernel)",
   "language": "python",
   "name": "python3"
  },
  "language_info": {
   "codemirror_mode": {
    "name": "ipython",
    "version": 3
   },
   "file_extension": ".py",
   "mimetype": "text/x-python",
   "name": "python",
   "nbconvert_exporter": "python",
   "pygments_lexer": "ipython3",
   "version": "3.10.9"
  }
 },
 "nbformat": 4,
 "nbformat_minor": 5
}
