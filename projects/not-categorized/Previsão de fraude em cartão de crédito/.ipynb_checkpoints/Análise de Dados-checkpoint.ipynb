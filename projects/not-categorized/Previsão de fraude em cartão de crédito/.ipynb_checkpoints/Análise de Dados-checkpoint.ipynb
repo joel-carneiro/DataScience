{
 "cells": [
  {
   "cell_type": "markdown",
   "id": "f374c428",
   "metadata": {},
   "source": [
    "# 1 - Introdução\n",
    "\n",
    "Aparentemente, nosso objetivo é, a partir de uma [base de dados](https://www.kaggle.com/datasets/dhanushnarayananr/credit-card-fraud) determinar se certos clientes estão realizando uma transferência fraudulenta, bem, então vamos explorar!"
   ]
  },
  {
   "cell_type": "markdown",
   "id": "fc432fc9",
   "metadata": {},
   "source": [
    "## 1.1 - Coletando Dados"
   ]
  },
  {
   "cell_type": "code",
   "execution_count": 1,
   "id": "16515231",
   "metadata": {},
   "outputs": [],
   "source": [
    "import pandas as pd\n",
    "import matplotlib.pyplot as plt\n",
    "import numpy as np\n",
    "import seaborn as sns"
   ]
  },
  {
   "cell_type": "code",
   "execution_count": 2,
   "id": "ca876828",
   "metadata": {},
   "outputs": [],
   "source": [
    "dataset = pd.read_csv('/home/jdspy/Documentos/data/card_transdata.csv')"
   ]
  },
  {
   "cell_type": "markdown",
   "id": "15b70dae",
   "metadata": {},
   "source": [
    "## 1.2 - Primeiras Impressões"
   ]
  },
  {
   "cell_type": "code",
   "execution_count": 7,
   "id": "85ba02de",
   "metadata": {},
   "outputs": [
    {
     "data": {
      "text/html": [
       "<div>\n",
       "<style scoped>\n",
       "    .dataframe tbody tr th:only-of-type {\n",
       "        vertical-align: middle;\n",
       "    }\n",
       "\n",
       "    .dataframe tbody tr th {\n",
       "        vertical-align: top;\n",
       "    }\n",
       "\n",
       "    .dataframe thead th {\n",
       "        text-align: right;\n",
       "    }\n",
       "</style>\n",
       "<table border=\"1\" class=\"dataframe\">\n",
       "  <thead>\n",
       "    <tr style=\"text-align: right;\">\n",
       "      <th></th>\n",
       "      <th>distance_from_home</th>\n",
       "      <th>distance_from_last_transaction</th>\n",
       "      <th>ratio_to_median_purchase_price</th>\n",
       "      <th>repeat_retailer</th>\n",
       "      <th>used_chip</th>\n",
       "      <th>used_pin_number</th>\n",
       "      <th>online_order</th>\n",
       "      <th>fraud</th>\n",
       "    </tr>\n",
       "  </thead>\n",
       "  <tbody>\n",
       "    <tr>\n",
       "      <th>0</th>\n",
       "      <td>57.877857</td>\n",
       "      <td>0.311140</td>\n",
       "      <td>1.945940</td>\n",
       "      <td>1.0</td>\n",
       "      <td>1.0</td>\n",
       "      <td>0.0</td>\n",
       "      <td>0.0</td>\n",
       "      <td>0.0</td>\n",
       "    </tr>\n",
       "    <tr>\n",
       "      <th>1</th>\n",
       "      <td>10.829943</td>\n",
       "      <td>0.175592</td>\n",
       "      <td>1.294219</td>\n",
       "      <td>1.0</td>\n",
       "      <td>0.0</td>\n",
       "      <td>0.0</td>\n",
       "      <td>0.0</td>\n",
       "      <td>0.0</td>\n",
       "    </tr>\n",
       "    <tr>\n",
       "      <th>2</th>\n",
       "      <td>5.091079</td>\n",
       "      <td>0.805153</td>\n",
       "      <td>0.427715</td>\n",
       "      <td>1.0</td>\n",
       "      <td>0.0</td>\n",
       "      <td>0.0</td>\n",
       "      <td>1.0</td>\n",
       "      <td>0.0</td>\n",
       "    </tr>\n",
       "    <tr>\n",
       "      <th>3</th>\n",
       "      <td>2.247564</td>\n",
       "      <td>5.600044</td>\n",
       "      <td>0.362663</td>\n",
       "      <td>1.0</td>\n",
       "      <td>1.0</td>\n",
       "      <td>0.0</td>\n",
       "      <td>1.0</td>\n",
       "      <td>0.0</td>\n",
       "    </tr>\n",
       "    <tr>\n",
       "      <th>4</th>\n",
       "      <td>44.190936</td>\n",
       "      <td>0.566486</td>\n",
       "      <td>2.222767</td>\n",
       "      <td>1.0</td>\n",
       "      <td>1.0</td>\n",
       "      <td>0.0</td>\n",
       "      <td>1.0</td>\n",
       "      <td>0.0</td>\n",
       "    </tr>\n",
       "  </tbody>\n",
       "</table>\n",
       "</div>"
      ],
      "text/plain": [
       "   distance_from_home  distance_from_last_transaction  \\\n",
       "0           57.877857                        0.311140   \n",
       "1           10.829943                        0.175592   \n",
       "2            5.091079                        0.805153   \n",
       "3            2.247564                        5.600044   \n",
       "4           44.190936                        0.566486   \n",
       "\n",
       "   ratio_to_median_purchase_price  repeat_retailer  used_chip  \\\n",
       "0                        1.945940              1.0        1.0   \n",
       "1                        1.294219              1.0        0.0   \n",
       "2                        0.427715              1.0        0.0   \n",
       "3                        0.362663              1.0        1.0   \n",
       "4                        2.222767              1.0        1.0   \n",
       "\n",
       "   used_pin_number  online_order  fraud  \n",
       "0              0.0           0.0    0.0  \n",
       "1              0.0           0.0    0.0  \n",
       "2              0.0           1.0    0.0  \n",
       "3              0.0           1.0    0.0  \n",
       "4              0.0           1.0    0.0  "
      ]
     },
     "execution_count": 7,
     "metadata": {},
     "output_type": "execute_result"
    }
   ],
   "source": [
    "dataset.head()"
   ]
  },
  {
   "cell_type": "code",
   "execution_count": 8,
   "id": "84896d46",
   "metadata": {},
   "outputs": [
    {
     "data": {
      "text/plain": [
       "(1000000, 8)"
      ]
     },
     "execution_count": 8,
     "metadata": {},
     "output_type": "execute_result"
    }
   ],
   "source": [
    "dataset.shape"
   ]
  },
  {
   "cell_type": "markdown",
   "id": "2e59aec0",
   "metadata": {},
   "source": [
    "**Primeiras Conclusões**\n",
    "\n",
    "Temos 1.000.000 observações para trabalhar, isso é um ponto positivo, provavelmente nosso modelo não sofrerá de falta de dados, e também, todas as variáveis são do tipo float64, sendo assim, não será necessário tratar essas variáveis por enquanto"
   ]
  },
  {
   "cell_type": "markdown",
   "id": "da36b737",
   "metadata": {},
   "source": [
    "# 2 - Análise Descritiva"
   ]
  },
  {
   "cell_type": "markdown",
   "id": "ffa2a27e",
   "metadata": {},
   "source": [
    "Agora, vamos bucar por correlações, padrões, imprimir alguns gráficos, afim de encontrar possíveis insights da nossa base de dados, esse passo é requer uma análise detalhada e cuidadosa."
   ]
  },
  {
   "cell_type": "markdown",
   "id": "adbdacd3",
   "metadata": {},
   "source": [
    "## 2.1 - Pequeno Tratamento de Nomes"
   ]
  },
  {
   "cell_type": "code",
   "execution_count": 11,
   "id": "eb729dee",
   "metadata": {},
   "outputs": [
    {
     "data": {
      "text/plain": [
       "Index(['distance_from_home', 'distance_from_last_transaction',\n",
       "       'ratio_to_median_purchase_price', 'repeat_retailer', 'used_chip',\n",
       "       'used_pin_number', 'online_order', 'fraud'],\n",
       "      dtype='object')"
      ]
     },
     "execution_count": 11,
     "metadata": {},
     "output_type": "execute_result"
    }
   ],
   "source": [
    "dataset.columns"
   ]
  },
  {
   "cell_type": "code",
   "execution_count": 17,
   "id": "428e8bc8",
   "metadata": {},
   "outputs": [],
   "source": [
    "dataset.rename(columns={\n",
    "    'distance_from_home' : 'distancia_para_casa',\n",
    "    'distance_from_last_transaction' : 'distancia_ultima_transacao',\n",
    "    'ratio_to_median_purchase_price' : 'razao_entre_media_e_transacao',\n",
    "    'repeat_retailer' : 'varejista_repetido',\n",
    "    'used_chip' : 'transacao_de_chip',\n",
    "    'used_pin_number' : 'usou_numero_pin',\n",
    "    'online_order' : 'pedido_online',\n",
    "    'fraud' : 'fraude'\n",
    "}, inplace=True)"
   ]
  },
  {
   "cell_type": "markdown",
   "id": "a7f629aa",
   "metadata": {},
   "source": [
    "## 2.2 - Epistemologia de variável"
   ]
  },
  {
   "cell_type": "code",
   "execution_count": 19,
   "id": "d4f33edb",
   "metadata": {},
   "outputs": [
    {
     "data": {
      "text/plain": [
       "Index(['distancia_para_casa', 'distancia_ultima_transacao',\n",
       "       'razao_entre_media_e_transacao', 'varejista_repetido',\n",
       "       'transacao_de_chip', 'usou_numero_pin', 'pedido_online', 'fraude'],\n",
       "      dtype='object')"
      ]
     },
     "execution_count": 19,
     "metadata": {},
     "output_type": "execute_result"
    }
   ],
   "source": [
    "dataset.columns"
   ]
  },
  {
   "cell_type": "markdown",
   "id": "4bfac3df",
   "metadata": {},
   "source": [
    "**Oque representa cada variável**\n",
    "\n",
    "- distancia_para_casa - a distância de casa onde a transação aconteceu.\n",
    "\n",
    "- distancia_ultima_transacao - a distância da última transação que aconteceu.\n",
    "\n",
    "- razao_entre_media_e_transacao - Razão da transação de preço de compra para o preço de compra mediano.\n",
    "\n",
    "- varejista_repetido - É a transação realizada no mesmo varejista.\n",
    "\n",
    "- transacao_de_chip - É a transação através de chip (cartão de crédito).\n",
    "\n",
    "- usou_numero_pin - A transação ocorreu usando o número PIN.\n",
    "\n",
    "- pedido_online - A transação é um pedido online.\n",
    "\n",
    "- fraude - A transação é fraudulenta"
   ]
  },
  {
   "cell_type": "markdown",
   "id": "ef35679d",
   "metadata": {},
   "source": [
    "## 2.3 - Resumo de Dados"
   ]
  },
  {
   "cell_type": "code",
   "execution_count": 21,
   "id": "3a48c500",
   "metadata": {},
   "outputs": [
    {
     "data": {
      "text/html": [
       "<div>\n",
       "<style scoped>\n",
       "    .dataframe tbody tr th:only-of-type {\n",
       "        vertical-align: middle;\n",
       "    }\n",
       "\n",
       "    .dataframe tbody tr th {\n",
       "        vertical-align: top;\n",
       "    }\n",
       "\n",
       "    .dataframe thead th {\n",
       "        text-align: right;\n",
       "    }\n",
       "</style>\n",
       "<table border=\"1\" class=\"dataframe\">\n",
       "  <thead>\n",
       "    <tr style=\"text-align: right;\">\n",
       "      <th></th>\n",
       "      <th>distancia_para_casa</th>\n",
       "      <th>distancia_ultima_transacao</th>\n",
       "      <th>razao_entre_media_e_transacao</th>\n",
       "      <th>varejista_repetido</th>\n",
       "      <th>transacao_de_chip</th>\n",
       "      <th>usou_numero_pin</th>\n",
       "      <th>pedido_online</th>\n",
       "      <th>fraude</th>\n",
       "    </tr>\n",
       "  </thead>\n",
       "  <tbody>\n",
       "    <tr>\n",
       "      <th>0</th>\n",
       "      <td>57.877857</td>\n",
       "      <td>0.311140</td>\n",
       "      <td>1.945940</td>\n",
       "      <td>1.0</td>\n",
       "      <td>1.0</td>\n",
       "      <td>0.0</td>\n",
       "      <td>0.0</td>\n",
       "      <td>0.0</td>\n",
       "    </tr>\n",
       "    <tr>\n",
       "      <th>1</th>\n",
       "      <td>10.829943</td>\n",
       "      <td>0.175592</td>\n",
       "      <td>1.294219</td>\n",
       "      <td>1.0</td>\n",
       "      <td>0.0</td>\n",
       "      <td>0.0</td>\n",
       "      <td>0.0</td>\n",
       "      <td>0.0</td>\n",
       "    </tr>\n",
       "    <tr>\n",
       "      <th>2</th>\n",
       "      <td>5.091079</td>\n",
       "      <td>0.805153</td>\n",
       "      <td>0.427715</td>\n",
       "      <td>1.0</td>\n",
       "      <td>0.0</td>\n",
       "      <td>0.0</td>\n",
       "      <td>1.0</td>\n",
       "      <td>0.0</td>\n",
       "    </tr>\n",
       "    <tr>\n",
       "      <th>3</th>\n",
       "      <td>2.247564</td>\n",
       "      <td>5.600044</td>\n",
       "      <td>0.362663</td>\n",
       "      <td>1.0</td>\n",
       "      <td>1.0</td>\n",
       "      <td>0.0</td>\n",
       "      <td>1.0</td>\n",
       "      <td>0.0</td>\n",
       "    </tr>\n",
       "    <tr>\n",
       "      <th>4</th>\n",
       "      <td>44.190936</td>\n",
       "      <td>0.566486</td>\n",
       "      <td>2.222767</td>\n",
       "      <td>1.0</td>\n",
       "      <td>1.0</td>\n",
       "      <td>0.0</td>\n",
       "      <td>1.0</td>\n",
       "      <td>0.0</td>\n",
       "    </tr>\n",
       "    <tr>\n",
       "      <th>5</th>\n",
       "      <td>5.586408</td>\n",
       "      <td>13.261073</td>\n",
       "      <td>0.064768</td>\n",
       "      <td>1.0</td>\n",
       "      <td>0.0</td>\n",
       "      <td>0.0</td>\n",
       "      <td>0.0</td>\n",
       "      <td>0.0</td>\n",
       "    </tr>\n",
       "    <tr>\n",
       "      <th>6</th>\n",
       "      <td>3.724019</td>\n",
       "      <td>0.956838</td>\n",
       "      <td>0.278465</td>\n",
       "      <td>1.0</td>\n",
       "      <td>0.0</td>\n",
       "      <td>0.0</td>\n",
       "      <td>1.0</td>\n",
       "      <td>0.0</td>\n",
       "    </tr>\n",
       "    <tr>\n",
       "      <th>7</th>\n",
       "      <td>4.848247</td>\n",
       "      <td>0.320735</td>\n",
       "      <td>1.273050</td>\n",
       "      <td>1.0</td>\n",
       "      <td>0.0</td>\n",
       "      <td>1.0</td>\n",
       "      <td>0.0</td>\n",
       "      <td>0.0</td>\n",
       "    </tr>\n",
       "    <tr>\n",
       "      <th>8</th>\n",
       "      <td>0.876632</td>\n",
       "      <td>2.503609</td>\n",
       "      <td>1.516999</td>\n",
       "      <td>0.0</td>\n",
       "      <td>0.0</td>\n",
       "      <td>0.0</td>\n",
       "      <td>0.0</td>\n",
       "      <td>0.0</td>\n",
       "    </tr>\n",
       "    <tr>\n",
       "      <th>9</th>\n",
       "      <td>8.839047</td>\n",
       "      <td>2.970512</td>\n",
       "      <td>2.361683</td>\n",
       "      <td>1.0</td>\n",
       "      <td>0.0</td>\n",
       "      <td>0.0</td>\n",
       "      <td>1.0</td>\n",
       "      <td>0.0</td>\n",
       "    </tr>\n",
       "    <tr>\n",
       "      <th>10</th>\n",
       "      <td>14.263530</td>\n",
       "      <td>0.158758</td>\n",
       "      <td>1.136102</td>\n",
       "      <td>1.0</td>\n",
       "      <td>1.0</td>\n",
       "      <td>0.0</td>\n",
       "      <td>1.0</td>\n",
       "      <td>0.0</td>\n",
       "    </tr>\n",
       "    <tr>\n",
       "      <th>11</th>\n",
       "      <td>13.592368</td>\n",
       "      <td>0.240540</td>\n",
       "      <td>1.370330</td>\n",
       "      <td>1.0</td>\n",
       "      <td>1.0</td>\n",
       "      <td>0.0</td>\n",
       "      <td>1.0</td>\n",
       "      <td>0.0</td>\n",
       "    </tr>\n",
       "    <tr>\n",
       "      <th>12</th>\n",
       "      <td>765.282559</td>\n",
       "      <td>0.371562</td>\n",
       "      <td>0.551245</td>\n",
       "      <td>1.0</td>\n",
       "      <td>1.0</td>\n",
       "      <td>0.0</td>\n",
       "      <td>0.0</td>\n",
       "      <td>0.0</td>\n",
       "    </tr>\n",
       "    <tr>\n",
       "      <th>13</th>\n",
       "      <td>2.131956</td>\n",
       "      <td>56.372401</td>\n",
       "      <td>6.358667</td>\n",
       "      <td>1.0</td>\n",
       "      <td>0.0</td>\n",
       "      <td>0.0</td>\n",
       "      <td>1.0</td>\n",
       "      <td>1.0</td>\n",
       "    </tr>\n",
       "    <tr>\n",
       "      <th>14</th>\n",
       "      <td>13.955972</td>\n",
       "      <td>0.271522</td>\n",
       "      <td>2.798901</td>\n",
       "      <td>1.0</td>\n",
       "      <td>0.0</td>\n",
       "      <td>0.0</td>\n",
       "      <td>1.0</td>\n",
       "      <td>0.0</td>\n",
       "    </tr>\n",
       "    <tr>\n",
       "      <th>15</th>\n",
       "      <td>179.665148</td>\n",
       "      <td>0.120920</td>\n",
       "      <td>0.535640</td>\n",
       "      <td>1.0</td>\n",
       "      <td>1.0</td>\n",
       "      <td>1.0</td>\n",
       "      <td>1.0</td>\n",
       "      <td>0.0</td>\n",
       "    </tr>\n",
       "    <tr>\n",
       "      <th>16</th>\n",
       "      <td>114.519789</td>\n",
       "      <td>0.707003</td>\n",
       "      <td>0.516990</td>\n",
       "      <td>1.0</td>\n",
       "      <td>0.0</td>\n",
       "      <td>0.0</td>\n",
       "      <td>0.0</td>\n",
       "      <td>0.0</td>\n",
       "    </tr>\n",
       "    <tr>\n",
       "      <th>17</th>\n",
       "      <td>3.589649</td>\n",
       "      <td>6.247458</td>\n",
       "      <td>1.846451</td>\n",
       "      <td>1.0</td>\n",
       "      <td>0.0</td>\n",
       "      <td>0.0</td>\n",
       "      <td>0.0</td>\n",
       "      <td>0.0</td>\n",
       "    </tr>\n",
       "    <tr>\n",
       "      <th>18</th>\n",
       "      <td>11.085152</td>\n",
       "      <td>34.661351</td>\n",
       "      <td>2.530758</td>\n",
       "      <td>1.0</td>\n",
       "      <td>0.0</td>\n",
       "      <td>0.0</td>\n",
       "      <td>1.0</td>\n",
       "      <td>0.0</td>\n",
       "    </tr>\n",
       "    <tr>\n",
       "      <th>19</th>\n",
       "      <td>6.194671</td>\n",
       "      <td>1.142014</td>\n",
       "      <td>0.307217</td>\n",
       "      <td>1.0</td>\n",
       "      <td>0.0</td>\n",
       "      <td>0.0</td>\n",
       "      <td>0.0</td>\n",
       "      <td>0.0</td>\n",
       "    </tr>\n",
       "  </tbody>\n",
       "</table>\n",
       "</div>"
      ],
      "text/plain": [
       "    distancia_para_casa  distancia_ultima_transacao  \\\n",
       "0             57.877857                    0.311140   \n",
       "1             10.829943                    0.175592   \n",
       "2              5.091079                    0.805153   \n",
       "3              2.247564                    5.600044   \n",
       "4             44.190936                    0.566486   \n",
       "5              5.586408                   13.261073   \n",
       "6              3.724019                    0.956838   \n",
       "7              4.848247                    0.320735   \n",
       "8              0.876632                    2.503609   \n",
       "9              8.839047                    2.970512   \n",
       "10            14.263530                    0.158758   \n",
       "11            13.592368                    0.240540   \n",
       "12           765.282559                    0.371562   \n",
       "13             2.131956                   56.372401   \n",
       "14            13.955972                    0.271522   \n",
       "15           179.665148                    0.120920   \n",
       "16           114.519789                    0.707003   \n",
       "17             3.589649                    6.247458   \n",
       "18            11.085152                   34.661351   \n",
       "19             6.194671                    1.142014   \n",
       "\n",
       "    razao_entre_media_e_transacao  varejista_repetido  transacao_de_chip  \\\n",
       "0                        1.945940                 1.0                1.0   \n",
       "1                        1.294219                 1.0                0.0   \n",
       "2                        0.427715                 1.0                0.0   \n",
       "3                        0.362663                 1.0                1.0   \n",
       "4                        2.222767                 1.0                1.0   \n",
       "5                        0.064768                 1.0                0.0   \n",
       "6                        0.278465                 1.0                0.0   \n",
       "7                        1.273050                 1.0                0.0   \n",
       "8                        1.516999                 0.0                0.0   \n",
       "9                        2.361683                 1.0                0.0   \n",
       "10                       1.136102                 1.0                1.0   \n",
       "11                       1.370330                 1.0                1.0   \n",
       "12                       0.551245                 1.0                1.0   \n",
       "13                       6.358667                 1.0                0.0   \n",
       "14                       2.798901                 1.0                0.0   \n",
       "15                       0.535640                 1.0                1.0   \n",
       "16                       0.516990                 1.0                0.0   \n",
       "17                       1.846451                 1.0                0.0   \n",
       "18                       2.530758                 1.0                0.0   \n",
       "19                       0.307217                 1.0                0.0   \n",
       "\n",
       "    usou_numero_pin  pedido_online  fraude  \n",
       "0               0.0            0.0     0.0  \n",
       "1               0.0            0.0     0.0  \n",
       "2               0.0            1.0     0.0  \n",
       "3               0.0            1.0     0.0  \n",
       "4               0.0            1.0     0.0  \n",
       "5               0.0            0.0     0.0  \n",
       "6               0.0            1.0     0.0  \n",
       "7               1.0            0.0     0.0  \n",
       "8               0.0            0.0     0.0  \n",
       "9               0.0            1.0     0.0  \n",
       "10              0.0            1.0     0.0  \n",
       "11              0.0            1.0     0.0  \n",
       "12              0.0            0.0     0.0  \n",
       "13              0.0            1.0     1.0  \n",
       "14              0.0            1.0     0.0  \n",
       "15              1.0            1.0     0.0  \n",
       "16              0.0            0.0     0.0  \n",
       "17              0.0            0.0     0.0  \n",
       "18              0.0            1.0     0.0  \n",
       "19              0.0            0.0     0.0  "
      ]
     },
     "execution_count": 21,
     "metadata": {},
     "output_type": "execute_result"
    }
   ],
   "source": [
    "dataset.head(20)"
   ]
  },
  {
   "cell_type": "code",
   "execution_count": 22,
   "id": "ae1b70b5",
   "metadata": {},
   "outputs": [
    {
     "data": {
      "text/html": [
       "<div>\n",
       "<style scoped>\n",
       "    .dataframe tbody tr th:only-of-type {\n",
       "        vertical-align: middle;\n",
       "    }\n",
       "\n",
       "    .dataframe tbody tr th {\n",
       "        vertical-align: top;\n",
       "    }\n",
       "\n",
       "    .dataframe thead th {\n",
       "        text-align: right;\n",
       "    }\n",
       "</style>\n",
       "<table border=\"1\" class=\"dataframe\">\n",
       "  <thead>\n",
       "    <tr style=\"text-align: right;\">\n",
       "      <th></th>\n",
       "      <th>distancia_para_casa</th>\n",
       "      <th>distancia_ultima_transacao</th>\n",
       "      <th>razao_entre_media_e_transacao</th>\n",
       "      <th>varejista_repetido</th>\n",
       "      <th>transacao_de_chip</th>\n",
       "      <th>usou_numero_pin</th>\n",
       "      <th>pedido_online</th>\n",
       "      <th>fraude</th>\n",
       "    </tr>\n",
       "  </thead>\n",
       "  <tbody>\n",
       "    <tr>\n",
       "      <th>count</th>\n",
       "      <td>1000000.000000</td>\n",
       "      <td>1000000.000000</td>\n",
       "      <td>1000000.000000</td>\n",
       "      <td>1000000.000000</td>\n",
       "      <td>1000000.000000</td>\n",
       "      <td>1000000.000000</td>\n",
       "      <td>1000000.000000</td>\n",
       "      <td>1000000.000000</td>\n",
       "    </tr>\n",
       "    <tr>\n",
       "      <th>mean</th>\n",
       "      <td>26.628792</td>\n",
       "      <td>5.036519</td>\n",
       "      <td>1.824182</td>\n",
       "      <td>0.881536</td>\n",
       "      <td>0.350399</td>\n",
       "      <td>0.100608</td>\n",
       "      <td>0.650552</td>\n",
       "      <td>0.087403</td>\n",
       "    </tr>\n",
       "    <tr>\n",
       "      <th>std</th>\n",
       "      <td>65.390784</td>\n",
       "      <td>25.843093</td>\n",
       "      <td>2.799589</td>\n",
       "      <td>0.323157</td>\n",
       "      <td>0.477095</td>\n",
       "      <td>0.300809</td>\n",
       "      <td>0.476796</td>\n",
       "      <td>0.282425</td>\n",
       "    </tr>\n",
       "    <tr>\n",
       "      <th>min</th>\n",
       "      <td>0.004874</td>\n",
       "      <td>0.000118</td>\n",
       "      <td>0.004399</td>\n",
       "      <td>0.000000</td>\n",
       "      <td>0.000000</td>\n",
       "      <td>0.000000</td>\n",
       "      <td>0.000000</td>\n",
       "      <td>0.000000</td>\n",
       "    </tr>\n",
       "    <tr>\n",
       "      <th>25%</th>\n",
       "      <td>3.878008</td>\n",
       "      <td>0.296671</td>\n",
       "      <td>0.475673</td>\n",
       "      <td>1.000000</td>\n",
       "      <td>0.000000</td>\n",
       "      <td>0.000000</td>\n",
       "      <td>0.000000</td>\n",
       "      <td>0.000000</td>\n",
       "    </tr>\n",
       "    <tr>\n",
       "      <th>50%</th>\n",
       "      <td>9.967760</td>\n",
       "      <td>0.998650</td>\n",
       "      <td>0.997717</td>\n",
       "      <td>1.000000</td>\n",
       "      <td>0.000000</td>\n",
       "      <td>0.000000</td>\n",
       "      <td>1.000000</td>\n",
       "      <td>0.000000</td>\n",
       "    </tr>\n",
       "    <tr>\n",
       "      <th>75%</th>\n",
       "      <td>25.743985</td>\n",
       "      <td>3.355748</td>\n",
       "      <td>2.096370</td>\n",
       "      <td>1.000000</td>\n",
       "      <td>1.000000</td>\n",
       "      <td>0.000000</td>\n",
       "      <td>1.000000</td>\n",
       "      <td>0.000000</td>\n",
       "    </tr>\n",
       "    <tr>\n",
       "      <th>max</th>\n",
       "      <td>10632.723672</td>\n",
       "      <td>11851.104565</td>\n",
       "      <td>267.802942</td>\n",
       "      <td>1.000000</td>\n",
       "      <td>1.000000</td>\n",
       "      <td>1.000000</td>\n",
       "      <td>1.000000</td>\n",
       "      <td>1.000000</td>\n",
       "    </tr>\n",
       "  </tbody>\n",
       "</table>\n",
       "</div>"
      ],
      "text/plain": [
       "       distancia_para_casa  distancia_ultima_transacao  \\\n",
       "count       1000000.000000              1000000.000000   \n",
       "mean             26.628792                    5.036519   \n",
       "std              65.390784                   25.843093   \n",
       "min               0.004874                    0.000118   \n",
       "25%               3.878008                    0.296671   \n",
       "50%               9.967760                    0.998650   \n",
       "75%              25.743985                    3.355748   \n",
       "max           10632.723672                11851.104565   \n",
       "\n",
       "       razao_entre_media_e_transacao  varejista_repetido  transacao_de_chip  \\\n",
       "count                 1000000.000000      1000000.000000     1000000.000000   \n",
       "mean                        1.824182            0.881536           0.350399   \n",
       "std                         2.799589            0.323157           0.477095   \n",
       "min                         0.004399            0.000000           0.000000   \n",
       "25%                         0.475673            1.000000           0.000000   \n",
       "50%                         0.997717            1.000000           0.000000   \n",
       "75%                         2.096370            1.000000           1.000000   \n",
       "max                       267.802942            1.000000           1.000000   \n",
       "\n",
       "       usou_numero_pin   pedido_online          fraude  \n",
       "count   1000000.000000  1000000.000000  1000000.000000  \n",
       "mean          0.100608        0.650552        0.087403  \n",
       "std           0.300809        0.476796        0.282425  \n",
       "min           0.000000        0.000000        0.000000  \n",
       "25%           0.000000        0.000000        0.000000  \n",
       "50%           0.000000        1.000000        0.000000  \n",
       "75%           0.000000        1.000000        0.000000  \n",
       "max           1.000000        1.000000        1.000000  "
      ]
     },
     "execution_count": 22,
     "metadata": {},
     "output_type": "execute_result"
    }
   ],
   "source": [
    "dataset.describe()"
   ]
  },
  {
   "cell_type": "code",
   "execution_count": 23,
   "id": "b742a373",
   "metadata": {},
   "outputs": [
    {
     "name": "stdout",
     "output_type": "stream",
     "text": [
      "<class 'pandas.core.frame.DataFrame'>\n",
      "Int64Index: 1000000 entries, 0 to 999999\n",
      "Data columns (total 8 columns):\n",
      " #   Column                         Non-Null Count    Dtype  \n",
      "---  ------                         --------------    -----  \n",
      " 0   distancia_para_casa            1000000 non-null  float64\n",
      " 1   distancia_ultima_transacao     1000000 non-null  float64\n",
      " 2   razao_entre_media_e_transacao  1000000 non-null  float64\n",
      " 3   varejista_repetido             1000000 non-null  float64\n",
      " 4   transacao_de_chip              1000000 non-null  float64\n",
      " 5   usou_numero_pin                1000000 non-null  float64\n",
      " 6   pedido_online                  1000000 non-null  float64\n",
      " 7   fraude                         1000000 non-null  float64\n",
      "dtypes: float64(8)\n",
      "memory usage: 68.7 MB\n"
     ]
    }
   ],
   "source": [
    "dataset.info()"
   ]
  },
  {
   "cell_type": "code",
   "execution_count": 24,
   "id": "4bbbd59f",
   "metadata": {},
   "outputs": [
    {
     "data": {
      "text/plain": [
       "distancia_para_casa               20.239733\n",
       "distancia_ultima_transacao       125.921226\n",
       "razao_entre_media_e_transacao      8.915015\n",
       "varejista_repetido                -2.361310\n",
       "transacao_de_chip                  0.627134\n",
       "usou_numero_pin                    2.655457\n",
       "pedido_online                     -0.631517\n",
       "fraude                             2.921824\n",
       "dtype: float64"
      ]
     },
     "execution_count": 24,
     "metadata": {},
     "output_type": "execute_result"
    }
   ],
   "source": [
    "dataset.skew()"
   ]
  },
  {
   "cell_type": "code",
   "execution_count": 29,
   "id": "9e4afa8e",
   "metadata": {},
   "outputs": [
    {
     "data": {
      "text/plain": [
       "fraude\n",
       "0.0    912597\n",
       "1.0     87403\n",
       "dtype: int64"
      ]
     },
     "execution_count": 29,
     "metadata": {},
     "output_type": "execute_result"
    }
   ],
   "source": [
    "fraudes = dataset.groupby(by='fraude').size(); fraudes"
   ]
  },
  {
   "cell_type": "code",
   "execution_count": 37,
   "id": "7027ae1d",
   "metadata": {},
   "outputs": [
    {
     "name": "stdout",
     "output_type": "stream",
     "text": [
      "91.26% das classes são transaçãos não-fradulentas\n",
      "8.74% das classes são transaçãos fradulentas\n"
     ]
    }
   ],
   "source": [
    "positivas = fraudes[0] / fraudes.sum()\n",
    "negativas = fraudes[1] / fraudes.sum()\n",
    "\n",
    "print('%.2f%% das classes são transaçãos não-fradulentas' % (positivas * 100))\n",
    "print('%.2f%% das classes são transaçãos fradulentas' % (negativas * 100))"
   ]
  },
  {
   "cell_type": "markdown",
   "id": "459b9ae1",
   "metadata": {},
   "source": [
    "**Conclusões**\n",
    "\n",
    "Não podemos dizer com certeza, pelo menos por enquanto, se há alguma variável em distribuição normal, o método skew no mostrou, que há assimetrias, tanto positivas como negativas, em varias variáveis, as que chegaram mais próxima da simetria são variáveis qualitativas, oque não é justo.\n",
    "\n",
    "Porém, notamos nitidamente que há um grande desbalançado nas classes, sendo aproximadamente 91% transação não-fraudulentas, teremos que lidar com isso mais tarde."
   ]
  },
  {
   "cell_type": "markdown",
   "id": "d200289a",
   "metadata": {},
   "source": [
    "## 2.4 - Visualização de Dados"
   ]
  },
  {
   "cell_type": "markdown",
   "id": "dc040a9a",
   "metadata": {},
   "source": [
    "Agora, vamos utilizar as bibliotecas matplotlib e seaborn importadas no inicio do notebook, para visualização de dados, afim de ser mais compreensivel a correlação de variáveis, distribuições entre outras informações"
   ]
  },
  {
   "cell_type": "code",
   "execution_count": 38,
   "id": "00b8bc18",
   "metadata": {},
   "outputs": [
    {
     "data": {
      "text/plain": [
       "<AxesSubplot: >"
      ]
     },
     "execution_count": 38,
     "metadata": {},
     "output_type": "execute_result"
    },
    {
     "data": {
      "image/png": "[encoded data removed]",
      "text/plain": [
       "<Figure size 640x480 with 2 Axes>"
      ]
     },
     "metadata": {},
     "output_type": "display_data"
    }
   ],
   "source": [
    "sns.heatmap(dataset.corr(), fmt='.1f', annot=True)"
   ]
  },
  {
   "cell_type": "code",
   "execution_count": 56,
   "id": "d6914dcc",
   "metadata": {},
   "outputs": [
    {
     "data": {
      "text/plain": [
       "Text(0, 0.5, 'Distância média')"
      ]
     },
     "execution_count": 56,
     "metadata": {},
     "output_type": "execute_result"
    },
    {
     "data": {
      "image/png": "[encoded data removed]",
      "text/plain": [
       "<Figure size 640x480 with 1 Axes>"
      ]
     },
     "metadata": {},
     "output_type": "display_data"
    }
   ],
   "source": [
    "tmp = dataset.groupby(by='fraude')['distancia_ultima_transacao'].mean()\n",
    "\n",
    "sns.barplot(x=tmp.index, y=tmp.values)\n",
    "\n",
    "plt.title('Distância da ultima transação')\n",
    "\n",
    "plt.xlabel('Fraude')\n",
    "plt.ylabel('Distância média')"
   ]
  },
  {
   "cell_type": "code",
   "execution_count": 71,
   "id": "5e181dd5",
   "metadata": {},
   "outputs": [
    {
     "data": {
      "text/plain": [
       "distancia_para_casa              5.780372\n",
       "distancia_ultima_transacao       0.172557\n",
       "razao_entre_media_e_transacao    4.157343\n",
       "Name: 1.0, dtype: float64"
      ]
     },
     "execution_count": 71,
     "metadata": {},
     "output_type": "execute_result"
    }
   ],
   "source": [
    "dataset.groupby(by='fraude').median().iloc[:, :3].diff().iloc[1, :]"
   ]
  },
  {
   "cell_type": "markdown",
   "id": "b0056e86",
   "metadata": {},
   "source": [
    "**Conclusões**\n",
    "\n",
    "As variáveis distancia_para_casa, distancia_ultima_transacao, razao_entre_media_e_transacao são sensíveis a classificação como transição fraudulenta, porque, em comparação a não-fraudulenta, essa variáveis tiveram módulos - ou valores - maiores, sendo assim, elas podem ser grandes indicativos pra classificação se uma observação é fraude ou não"
   ]
  },
  {
   "cell_type": "markdown",
   "id": "03464ef2",
   "metadata": {},
   "source": [
    "# 3 - Modelagem de Dados"
   ]
  },
  {
   "cell_type": "markdown",
   "id": "cf18b29e",
   "metadata": {},
   "source": [
    "Chegou a hora de criar nosso modelo, mas antes, vamos decidir qual melhor se aplica, vamos explorar!"
   ]
  },
  {
   "cell_type": "markdown",
   "id": "d65b5516",
   "metadata": {},
   "source": [
    "## 3.1 - Separando entre dados de entrada e dados de saida"
   ]
  },
  {
   "cell_type": "code",
   "execution_count": 76,
   "id": "fb345552",
   "metadata": {},
   "outputs": [],
   "source": [
    "x = dataset.drop(['fraude'], axis=1)\n",
    "y = dataset['fraude']"
   ]
  },
  {
   "cell_type": "markdown",
   "id": "56c520a0",
   "metadata": {},
   "source": [
    "## 3.2 - Seleção de Features"
   ]
  },
  {
   "cell_type": "code",
   "execution_count": 102,
   "id": "d1088654",
   "metadata": {},
   "outputs": [
    {
     "data": {
      "text/plain": [
       "distancia_para_casa              5.649520e+06\n",
       "distancia_ultima_transacao       1.120338e+06\n",
       "razao_entre_media_e_transacao    9.182831e+05\n",
       "pedido_online                    1.287836e+04\n",
       "usou_numero_pin                  9.046618e+03\n",
       "transacao_de_chip                2.415153e+03\n",
       "varejista_repetido               2.182902e-01\n",
       "dtype: float64"
      ]
     },
     "execution_count": 102,
     "metadata": {},
     "output_type": "execute_result"
    }
   ],
   "source": [
    "from sklearn.feature_selection import SelectKBest\n",
    "from sklearn.feature_selection import chi2\n",
    "\n",
    "selector = SelectKBest(score_func=chi2, k=3)\n",
    "fit = selector.fit(x, y)\n",
    "\n",
    "tmp = {}\n",
    "i = 0\n",
    "for var in x:\n",
    "    tmp[var] = fit.scores_[i]\n",
    "    i += 1\n",
    "\n",
    "scores = pd.Series(tmp)\n",
    "\n",
    "scores.sort_values(ascending=False)"
   ]
  },
  {
   "cell_type": "markdown",
   "id": "5d582ceb",
   "metadata": {},
   "source": [
    "## 3.3 - Melhorando a distribuição de variáveis"
   ]
  },
  {
   "cell_type": "code",
   "execution_count": 108,
   "id": "ca33214f",
   "metadata": {},
   "outputs": [],
   "source": [
    "positivas = dataset.query('fraude == 1')\n",
    "negativas = dataset.query('fraude == 0').sample(len(positivas))"
   ]
  },
  {
   "cell_type": "code",
   "execution_count": 110,
   "id": "262f6647",
   "metadata": {},
   "outputs": [],
   "source": [
    "dataset = pd.concat([positivas, negativas])"
   ]
  },
  {
   "cell_type": "markdown",
   "id": "d9c72ed1",
   "metadata": {},
   "source": [
    "## 3.4 - Instânciando modelo"
   ]
  }
 ],
 "metadata": {
  "kernelspec": {
   "display_name": "Python 3 (ipykernel)",
   "language": "python",
   "name": "python3"
  },
  "language_info": {
   "codemirror_mode": {
    "name": "ipython",
    "version": 3
   },
   "file_extension": ".py",
   "mimetype": "text/x-python",
   "name": "python",
   "nbconvert_exporter": "python",
   "pygments_lexer": "ipython3",
   "version": "3.10.9"
  }
 },
 "nbformat": 4,
 "nbformat_minor": 5
}
