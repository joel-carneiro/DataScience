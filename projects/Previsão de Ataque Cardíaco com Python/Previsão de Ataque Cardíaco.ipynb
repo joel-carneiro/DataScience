{
 "cells": [
  {
   "cell_type": "markdown",
   "id": "f3481bb4",
   "metadata": {},
   "source": [
    "# 1 - Introdução\n",
    "\n",
    "O seu projeto de predição de ataque cardíaco tem como objetivo utilizar técnicas de machine learning para criar um modelo capaz de identificar indivíduos com maior risco de desenvolver um ataque cardíaco. Esse tipo de modelo é extremamente importante, já que o ataque cardíaco é uma das principais causas de morte no mundo e a prevenção é fundamental para a saúde pública.\n",
    "\n",
    "Para desenvolver esse modelo, você irá utilizar um conjunto de dados com informações sobre diversos fatores de risco para o desenvolvimento de um ataque cardíaco, tais como idade, gênero, histórico familiar, tabagismo, hipertensão, diabetes, colesterol, entre outros. Com base nessas informações, o modelo será treinado para aprender padrões e características que estejam associados a um maior risco de ataque cardíaco, permitindo que ele faça predições precisas sobre a probabilidade de um indivíduo sofrer um ataque cardíaco em um determinado período de tempo.\n",
    "\n",
    "O desenvolvimento desse tipo de modelo tem grande potencial de impacto na área da saúde, uma vez que a identificação precoce de indivíduos com maior risco de desenvolver um ataque cardíaco pode levar a uma intervenção mais rápida e efetiva, reduzindo o número de mortes e melhorando a qualidade de vida da população em geral."
   ]
  },
  {
   "cell_type": "markdown",
   "id": "3b53d436",
   "metadata": {},
   "source": [
    "## 1.1 - Primeiras impressões"
   ]
  },
  {
   "cell_type": "code",
   "execution_count": 1,
   "id": "3f421d75",
   "metadata": {},
   "outputs": [
    {
     "name": "stderr",
     "output_type": "stream",
     "text": [
      "/tmp/ipykernel_25885/3810062527.py:3: DeprecationWarning: `import pandas_profiling` is going to be deprecated by April 1st. Please use `import ydata_profiling` instead.\n",
      "  from pandas_profiling import ProfileReport\n"
     ]
    }
   ],
   "source": [
    "# Importando módulos necessários\n",
    "import pandas as pd\n",
    "from pandas_profiling import ProfileReport\n",
    "\n",
    "import matplotlib.pyplot as plt\n",
    "import seaborn as sns\n",
    "\n",
    "from sklearn.model_selection import cross_validate\n",
    "from sklearn.model_selection import train_test_split\n",
    "from sklearn.model_selection import KFold\n",
    "from sklearn.model_selection import GridSearchCV\n",
    "\n",
    "from sklearn.tree import DecisionTreeClassifier\n",
    "from sklearn.dummy import DummyClassifier\n",
    "from sklearn.ensemble import RandomForestClassifier\n",
    "\n",
    "import pickle\n",
    "\n",
    "\n",
    "%matplotlib inline"
   ]
  },
  {
   "cell_type": "code",
   "execution_count": 2,
   "id": "b3c1258b",
   "metadata": {
    "scrolled": true
   },
   "outputs": [
    {
     "data": {
      "text/html": [
       "<div>\n",
       "<style scoped>\n",
       "    .dataframe tbody tr th:only-of-type {\n",
       "        vertical-align: middle;\n",
       "    }\n",
       "\n",
       "    .dataframe tbody tr th {\n",
       "        vertical-align: top;\n",
       "    }\n",
       "\n",
       "    .dataframe thead th {\n",
       "        text-align: right;\n",
       "    }\n",
       "</style>\n",
       "<table border=\"1\" class=\"dataframe\">\n",
       "  <thead>\n",
       "    <tr style=\"text-align: right;\">\n",
       "      <th></th>\n",
       "      <th>age</th>\n",
       "      <th>sex</th>\n",
       "      <th>cp</th>\n",
       "      <th>trestbps</th>\n",
       "      <th>chol</th>\n",
       "      <th>fbs</th>\n",
       "      <th>restecg</th>\n",
       "      <th>thalach</th>\n",
       "      <th>exang</th>\n",
       "      <th>oldpeak</th>\n",
       "      <th>slope</th>\n",
       "      <th>ca</th>\n",
       "      <th>thal</th>\n",
       "      <th>target</th>\n",
       "    </tr>\n",
       "  </thead>\n",
       "  <tbody>\n",
       "    <tr>\n",
       "      <th>0</th>\n",
       "      <td>63</td>\n",
       "      <td>1</td>\n",
       "      <td>3</td>\n",
       "      <td>145</td>\n",
       "      <td>233</td>\n",
       "      <td>1</td>\n",
       "      <td>0</td>\n",
       "      <td>150</td>\n",
       "      <td>0</td>\n",
       "      <td>2.3</td>\n",
       "      <td>0</td>\n",
       "      <td>0</td>\n",
       "      <td>1</td>\n",
       "      <td>1</td>\n",
       "    </tr>\n",
       "    <tr>\n",
       "      <th>1</th>\n",
       "      <td>37</td>\n",
       "      <td>1</td>\n",
       "      <td>2</td>\n",
       "      <td>130</td>\n",
       "      <td>250</td>\n",
       "      <td>0</td>\n",
       "      <td>1</td>\n",
       "      <td>187</td>\n",
       "      <td>0</td>\n",
       "      <td>3.5</td>\n",
       "      <td>0</td>\n",
       "      <td>0</td>\n",
       "      <td>2</td>\n",
       "      <td>1</td>\n",
       "    </tr>\n",
       "    <tr>\n",
       "      <th>2</th>\n",
       "      <td>41</td>\n",
       "      <td>0</td>\n",
       "      <td>1</td>\n",
       "      <td>130</td>\n",
       "      <td>204</td>\n",
       "      <td>0</td>\n",
       "      <td>0</td>\n",
       "      <td>172</td>\n",
       "      <td>0</td>\n",
       "      <td>1.4</td>\n",
       "      <td>2</td>\n",
       "      <td>0</td>\n",
       "      <td>2</td>\n",
       "      <td>1</td>\n",
       "    </tr>\n",
       "    <tr>\n",
       "      <th>3</th>\n",
       "      <td>56</td>\n",
       "      <td>1</td>\n",
       "      <td>1</td>\n",
       "      <td>120</td>\n",
       "      <td>236</td>\n",
       "      <td>0</td>\n",
       "      <td>1</td>\n",
       "      <td>178</td>\n",
       "      <td>0</td>\n",
       "      <td>0.8</td>\n",
       "      <td>2</td>\n",
       "      <td>0</td>\n",
       "      <td>2</td>\n",
       "      <td>1</td>\n",
       "    </tr>\n",
       "    <tr>\n",
       "      <th>4</th>\n",
       "      <td>57</td>\n",
       "      <td>0</td>\n",
       "      <td>0</td>\n",
       "      <td>120</td>\n",
       "      <td>354</td>\n",
       "      <td>0</td>\n",
       "      <td>1</td>\n",
       "      <td>163</td>\n",
       "      <td>1</td>\n",
       "      <td>0.6</td>\n",
       "      <td>2</td>\n",
       "      <td>0</td>\n",
       "      <td>2</td>\n",
       "      <td>1</td>\n",
       "    </tr>\n",
       "  </tbody>\n",
       "</table>\n",
       "</div>"
      ],
      "text/plain": [
       "   age  sex  cp  trestbps  chol  fbs  restecg  thalach  exang  oldpeak  slope  \\\n",
       "0   63    1   3       145   233    1        0      150      0      2.3      0   \n",
       "1   37    1   2       130   250    0        1      187      0      3.5      0   \n",
       "2   41    0   1       130   204    0        0      172      0      1.4      2   \n",
       "3   56    1   1       120   236    0        1      178      0      0.8      2   \n",
       "4   57    0   0       120   354    0        1      163      1      0.6      2   \n",
       "\n",
       "   ca  thal  target  \n",
       "0   0     1       1  \n",
       "1   0     2       1  \n",
       "2   0     2       1  \n",
       "3   0     2       1  \n",
       "4   0     2       1  "
      ]
     },
     "execution_count": 2,
     "metadata": {},
     "output_type": "execute_result"
    }
   ],
   "source": [
    "# Lendo nosso dataset\n",
    "dataset = pd.read_csv('/home/jdspy/Documentos/datasets/heart.csv')\n",
    "\n",
    "# Visualizando informações iniciais\n",
    "dataset.head()"
   ]
  },
  {
   "cell_type": "code",
   "execution_count": 3,
   "id": "145431fa",
   "metadata": {},
   "outputs": [
    {
     "name": "stdout",
     "output_type": "stream",
     "text": [
      "Nosso dataset tem dimensão: (303, 14)\n",
      "O total de valores faltantes é 0\n"
     ]
    }
   ],
   "source": [
    "print('Nosso dataset tem dimensão:', dataset.shape)\n",
    "print('O total de valores faltantes é', dataset.isnull().sum().sum())"
   ]
  },
  {
   "cell_type": "code",
   "execution_count": 4,
   "id": "3231b2ac",
   "metadata": {},
   "outputs": [
    {
     "data": {
      "text/plain": [
       "Index(['age', 'sex', 'cp', 'trestbps', 'chol', 'fbs', 'restecg', 'thalach',\n",
       "       'exang', 'oldpeak', 'slope', 'ca', 'thal', 'target'],\n",
       "      dtype='object')"
      ]
     },
     "execution_count": 4,
     "metadata": {},
     "output_type": "execute_result"
    }
   ],
   "source": [
    "# Cada coluna\n",
    "dataset.columns"
   ]
  },
  {
   "cell_type": "markdown",
   "id": "5cb76bfb",
   "metadata": {},
   "source": [
    "## 1.2 - Primeiros Tratamentos"
   ]
  },
  {
   "cell_type": "code",
   "execution_count": 5,
   "id": "d6fd1b9b",
   "metadata": {},
   "outputs": [],
   "source": [
    "# Renomeando coluna\n",
    "new_columns = [\n",
    "    'idade',\n",
    "    'sexo',\n",
    "    'dor_no_peito',\n",
    "    'pressão_arterial_em_repouso',\n",
    "    'colesterol_sérico',\n",
    "    'acuçar_acima_de_120mg',\n",
    "    'resultados_eletrocardiográficos',\n",
    "    'frequencia_cardiaca_maxima',\n",
    "    'angina_induzida',\n",
    "    'depressão_de_st',\n",
    "    'st',\n",
    "    'numero_de_vasos',\n",
    "    'thal',\n",
    "    'alvo'\n",
    "]\n",
    "\n",
    "dataset.columns = new_columns"
   ]
  },
  {
   "cell_type": "code",
   "execution_count": 6,
   "id": "8c3d2fd6",
   "metadata": {},
   "outputs": [
    {
     "data": {
      "text/html": [
       "<div>\n",
       "<style scoped>\n",
       "    .dataframe tbody tr th:only-of-type {\n",
       "        vertical-align: middle;\n",
       "    }\n",
       "\n",
       "    .dataframe tbody tr th {\n",
       "        vertical-align: top;\n",
       "    }\n",
       "\n",
       "    .dataframe thead th {\n",
       "        text-align: right;\n",
       "    }\n",
       "</style>\n",
       "<table border=\"1\" class=\"dataframe\">\n",
       "  <thead>\n",
       "    <tr style=\"text-align: right;\">\n",
       "      <th></th>\n",
       "      <th>idade</th>\n",
       "      <th>sexo</th>\n",
       "      <th>dor_no_peito</th>\n",
       "      <th>pressão_arterial_em_repouso</th>\n",
       "      <th>colesterol_sérico</th>\n",
       "      <th>acuçar_acima_de_120mg</th>\n",
       "      <th>resultados_eletrocardiográficos</th>\n",
       "      <th>frequencia_cardiaca_maxima</th>\n",
       "      <th>angina_induzida</th>\n",
       "      <th>depressão_de_st</th>\n",
       "      <th>st</th>\n",
       "      <th>numero_de_vasos</th>\n",
       "      <th>thal</th>\n",
       "      <th>alvo</th>\n",
       "    </tr>\n",
       "  </thead>\n",
       "  <tbody>\n",
       "    <tr>\n",
       "      <th>247</th>\n",
       "      <td>66</td>\n",
       "      <td>1</td>\n",
       "      <td>1</td>\n",
       "      <td>160</td>\n",
       "      <td>246</td>\n",
       "      <td>0</td>\n",
       "      <td>1</td>\n",
       "      <td>120</td>\n",
       "      <td>1</td>\n",
       "      <td>0.0</td>\n",
       "      <td>1</td>\n",
       "      <td>3</td>\n",
       "      <td>1</td>\n",
       "      <td>0</td>\n",
       "    </tr>\n",
       "    <tr>\n",
       "      <th>235</th>\n",
       "      <td>51</td>\n",
       "      <td>1</td>\n",
       "      <td>0</td>\n",
       "      <td>140</td>\n",
       "      <td>299</td>\n",
       "      <td>0</td>\n",
       "      <td>1</td>\n",
       "      <td>173</td>\n",
       "      <td>1</td>\n",
       "      <td>1.6</td>\n",
       "      <td>2</td>\n",
       "      <td>0</td>\n",
       "      <td>3</td>\n",
       "      <td>0</td>\n",
       "    </tr>\n",
       "    <tr>\n",
       "      <th>117</th>\n",
       "      <td>56</td>\n",
       "      <td>1</td>\n",
       "      <td>3</td>\n",
       "      <td>120</td>\n",
       "      <td>193</td>\n",
       "      <td>0</td>\n",
       "      <td>0</td>\n",
       "      <td>162</td>\n",
       "      <td>0</td>\n",
       "      <td>1.9</td>\n",
       "      <td>1</td>\n",
       "      <td>0</td>\n",
       "      <td>3</td>\n",
       "      <td>1</td>\n",
       "    </tr>\n",
       "    <tr>\n",
       "      <th>61</th>\n",
       "      <td>54</td>\n",
       "      <td>1</td>\n",
       "      <td>1</td>\n",
       "      <td>108</td>\n",
       "      <td>309</td>\n",
       "      <td>0</td>\n",
       "      <td>1</td>\n",
       "      <td>156</td>\n",
       "      <td>0</td>\n",
       "      <td>0.0</td>\n",
       "      <td>2</td>\n",
       "      <td>0</td>\n",
       "      <td>3</td>\n",
       "      <td>1</td>\n",
       "    </tr>\n",
       "    <tr>\n",
       "      <th>89</th>\n",
       "      <td>58</td>\n",
       "      <td>0</td>\n",
       "      <td>0</td>\n",
       "      <td>100</td>\n",
       "      <td>248</td>\n",
       "      <td>0</td>\n",
       "      <td>0</td>\n",
       "      <td>122</td>\n",
       "      <td>0</td>\n",
       "      <td>1.0</td>\n",
       "      <td>1</td>\n",
       "      <td>0</td>\n",
       "      <td>2</td>\n",
       "      <td>1</td>\n",
       "    </tr>\n",
       "    <tr>\n",
       "      <th>60</th>\n",
       "      <td>71</td>\n",
       "      <td>0</td>\n",
       "      <td>2</td>\n",
       "      <td>110</td>\n",
       "      <td>265</td>\n",
       "      <td>1</td>\n",
       "      <td>0</td>\n",
       "      <td>130</td>\n",
       "      <td>0</td>\n",
       "      <td>0.0</td>\n",
       "      <td>2</td>\n",
       "      <td>1</td>\n",
       "      <td>2</td>\n",
       "      <td>1</td>\n",
       "    </tr>\n",
       "    <tr>\n",
       "      <th>161</th>\n",
       "      <td>55</td>\n",
       "      <td>0</td>\n",
       "      <td>1</td>\n",
       "      <td>132</td>\n",
       "      <td>342</td>\n",
       "      <td>0</td>\n",
       "      <td>1</td>\n",
       "      <td>166</td>\n",
       "      <td>0</td>\n",
       "      <td>1.2</td>\n",
       "      <td>2</td>\n",
       "      <td>0</td>\n",
       "      <td>2</td>\n",
       "      <td>1</td>\n",
       "    </tr>\n",
       "    <tr>\n",
       "      <th>184</th>\n",
       "      <td>50</td>\n",
       "      <td>1</td>\n",
       "      <td>0</td>\n",
       "      <td>150</td>\n",
       "      <td>243</td>\n",
       "      <td>0</td>\n",
       "      <td>0</td>\n",
       "      <td>128</td>\n",
       "      <td>0</td>\n",
       "      <td>2.6</td>\n",
       "      <td>1</td>\n",
       "      <td>0</td>\n",
       "      <td>3</td>\n",
       "      <td>0</td>\n",
       "    </tr>\n",
       "    <tr>\n",
       "      <th>200</th>\n",
       "      <td>44</td>\n",
       "      <td>1</td>\n",
       "      <td>0</td>\n",
       "      <td>110</td>\n",
       "      <td>197</td>\n",
       "      <td>0</td>\n",
       "      <td>0</td>\n",
       "      <td>177</td>\n",
       "      <td>0</td>\n",
       "      <td>0.0</td>\n",
       "      <td>2</td>\n",
       "      <td>1</td>\n",
       "      <td>2</td>\n",
       "      <td>0</td>\n",
       "    </tr>\n",
       "    <tr>\n",
       "      <th>174</th>\n",
       "      <td>60</td>\n",
       "      <td>1</td>\n",
       "      <td>0</td>\n",
       "      <td>130</td>\n",
       "      <td>206</td>\n",
       "      <td>0</td>\n",
       "      <td>0</td>\n",
       "      <td>132</td>\n",
       "      <td>1</td>\n",
       "      <td>2.4</td>\n",
       "      <td>1</td>\n",
       "      <td>2</td>\n",
       "      <td>3</td>\n",
       "      <td>0</td>\n",
       "    </tr>\n",
       "  </tbody>\n",
       "</table>\n",
       "</div>"
      ],
      "text/plain": [
       "     idade  sexo  dor_no_peito  pressão_arterial_em_repouso  \\\n",
       "247     66     1             1                          160   \n",
       "235     51     1             0                          140   \n",
       "117     56     1             3                          120   \n",
       "61      54     1             1                          108   \n",
       "89      58     0             0                          100   \n",
       "60      71     0             2                          110   \n",
       "161     55     0             1                          132   \n",
       "184     50     1             0                          150   \n",
       "200     44     1             0                          110   \n",
       "174     60     1             0                          130   \n",
       "\n",
       "     colesterol_sérico  acuçar_acima_de_120mg  \\\n",
       "247                246                      0   \n",
       "235                299                      0   \n",
       "117                193                      0   \n",
       "61                 309                      0   \n",
       "89                 248                      0   \n",
       "60                 265                      1   \n",
       "161                342                      0   \n",
       "184                243                      0   \n",
       "200                197                      0   \n",
       "174                206                      0   \n",
       "\n",
       "     resultados_eletrocardiográficos  frequencia_cardiaca_maxima  \\\n",
       "247                                1                         120   \n",
       "235                                1                         173   \n",
       "117                                0                         162   \n",
       "61                                 1                         156   \n",
       "89                                 0                         122   \n",
       "60                                 0                         130   \n",
       "161                                1                         166   \n",
       "184                                0                         128   \n",
       "200                                0                         177   \n",
       "174                                0                         132   \n",
       "\n",
       "     angina_induzida  depressão_de_st  st  numero_de_vasos  thal  alvo  \n",
       "247                1              0.0   1                3     1     0  \n",
       "235                1              1.6   2                0     3     0  \n",
       "117                0              1.9   1                0     3     1  \n",
       "61                 0              0.0   2                0     3     1  \n",
       "89                 0              1.0   1                0     2     1  \n",
       "60                 0              0.0   2                1     2     1  \n",
       "161                0              1.2   2                0     2     1  \n",
       "184                0              2.6   1                0     3     0  \n",
       "200                0              0.0   2                1     2     0  \n",
       "174                1              2.4   1                2     3     0  "
      ]
     },
     "execution_count": 6,
     "metadata": {},
     "output_type": "execute_result"
    }
   ],
   "source": [
    "# Visualizando 10 observações aleatórias no dataset\n",
    "dataset.sample(10)"
   ]
  },
  {
   "cell_type": "markdown",
   "id": "0e91ffdd",
   "metadata": {},
   "source": [
    "**Sobre cada Variável**\n",
    "\n",
    "    idade\n",
    "    sexo\n",
    "    tipo de dor no peito (4 valores)\n",
    "    pressão arterial em repouso\n",
    "    colesterol sérico em mg/dl\n",
    "    açúcar no sangue em jejum > 120 mg/dl\n",
    "    resultados eletrocardiográficos em repouso (valores 0,1,2)\n",
    "    frequência cardíaca máxima alcançada\n",
    "    angina induzida por exercício\n",
    "    depressão de ST induzida por exercício em relação ao repouso\n",
    "    a inclinação do segmento ST de pico de exercício\n",
    "    número de principais vasos (0-3) coloridos por fluoroscopia\n",
    "    thal: 0 = normal; 1 = defeito fixo; 2 = defeito reversível\n",
    "    alvo: 0 = menor chance de ataque cardíaco, 1 = maior chance de ataque cardíaco."
   ]
  },
  {
   "cell_type": "markdown",
   "id": "6f94dcf8",
   "metadata": {},
   "source": [
    "# 2 - Análise Exploratória de Dados (EDA)"
   ]
  },
  {
   "cell_type": "markdown",
   "id": "c5d3ff4d",
   "metadata": {},
   "source": [
    "## 2.1 - Relatório com Pandas Profiling"
   ]
  },
  {
   "cell_type": "code",
   "execution_count": 7,
   "id": "9ba16ff7",
   "metadata": {},
   "outputs": [
    {
     "data": {
      "application/vnd.jupyter.widget-view+json": {
       "model_id": "cd7a3d0ea6174de88cae642ef52953a4",
       "version_major": 2,
       "version_minor": 0
      },
      "text/plain": [
       "Summarize dataset:   0%|          | 0/5 [00:00<?, ?it/s]"
      ]
     },
     "metadata": {},
     "output_type": "display_data"
    },
    {
     "data": {
      "application/vnd.jupyter.widget-view+json": {
       "model_id": "cc5f5de0a7ae40fba534c5fcafa439ec",
       "version_major": 2,
       "version_minor": 0
      },
      "text/plain": [
       "Generate report structure:   0%|          | 0/1 [00:00<?, ?it/s]"
      ]
     },
     "metadata": {},
     "output_type": "display_data"
    },
    {
     "data": {
      "application/vnd.jupyter.widget-view+json": {
       "model_id": "a574b34cb1db4d3d8120fac1c6032091",
       "version_major": 2,
       "version_minor": 0
      },
      "text/plain": [
       "Render HTML:   0%|          | 0/1 [00:00<?, ?it/s]"
      ]
     },
     "metadata": {},
     "output_type": "display_data"
    },
    {
     "data": {
      "application/vnd.jupyter.widget-view+json": {
       "model_id": "f958bf4fac2842c68e6d361fe8818f61",
       "version_major": 2,
       "version_minor": 0
      },
      "text/plain": [
       "Export report to file:   0%|          | 0/1 [00:00<?, ?it/s]"
      ]
     },
     "metadata": {},
     "output_type": "display_data"
    }
   ],
   "source": [
    "# profile = ProfileReport(dataset)\n",
    "\n",
    "# profile.to_file('profile.html')"
   ]
  },
  {
   "cell_type": "markdown",
   "id": "a12bc84c",
   "metadata": {},
   "source": [
    "## 2.2 - Estatística Aplicada"
   ]
  },
  {
   "cell_type": "code",
   "execution_count": 8,
   "id": "15890812",
   "metadata": {},
   "outputs": [
    {
     "name": "stdout",
     "output_type": "stream",
     "text": [
      "<class 'pandas.core.frame.DataFrame'>\n",
      "RangeIndex: 303 entries, 0 to 302\n",
      "Data columns (total 14 columns):\n",
      " #   Column                           Non-Null Count  Dtype  \n",
      "---  ------                           --------------  -----  \n",
      " 0   idade                            303 non-null    int64  \n",
      " 1   sexo                             303 non-null    int64  \n",
      " 2   dor_no_peito                     303 non-null    int64  \n",
      " 3   pressão_arterial_em_repouso      303 non-null    int64  \n",
      " 4   colesterol_sérico                303 non-null    int64  \n",
      " 5   acuçar_acima_de_120mg            303 non-null    int64  \n",
      " 6   resultados_eletrocardiográficos  303 non-null    int64  \n",
      " 7   frequencia_cardiaca_maxima       303 non-null    int64  \n",
      " 8   angina_induzida                  303 non-null    int64  \n",
      " 9   depressão_de_st                  303 non-null    float64\n",
      " 10  st                               303 non-null    int64  \n",
      " 11  numero_de_vasos                  303 non-null    int64  \n",
      " 12  thal                             303 non-null    int64  \n",
      " 13  alvo                             303 non-null    int64  \n",
      "dtypes: float64(1), int64(13)\n",
      "memory usage: 33.3 KB\n"
     ]
    }
   ],
   "source": [
    "dataset.info()"
   ]
  },
  {
   "cell_type": "code",
   "execution_count": 9,
   "id": "99b6bdf5",
   "metadata": {},
   "outputs": [
    {
     "data": {
      "text/html": [
       "<div>\n",
       "<style scoped>\n",
       "    .dataframe tbody tr th:only-of-type {\n",
       "        vertical-align: middle;\n",
       "    }\n",
       "\n",
       "    .dataframe tbody tr th {\n",
       "        vertical-align: top;\n",
       "    }\n",
       "\n",
       "    .dataframe thead th {\n",
       "        text-align: right;\n",
       "    }\n",
       "</style>\n",
       "<table border=\"1\" class=\"dataframe\">\n",
       "  <thead>\n",
       "    <tr style=\"text-align: right;\">\n",
       "      <th></th>\n",
       "      <th>idade</th>\n",
       "      <th>sexo</th>\n",
       "      <th>dor_no_peito</th>\n",
       "      <th>pressão_arterial_em_repouso</th>\n",
       "      <th>colesterol_sérico</th>\n",
       "      <th>acuçar_acima_de_120mg</th>\n",
       "      <th>resultados_eletrocardiográficos</th>\n",
       "      <th>frequencia_cardiaca_maxima</th>\n",
       "      <th>angina_induzida</th>\n",
       "      <th>depressão_de_st</th>\n",
       "      <th>st</th>\n",
       "      <th>numero_de_vasos</th>\n",
       "      <th>thal</th>\n",
       "      <th>alvo</th>\n",
       "    </tr>\n",
       "  </thead>\n",
       "  <tbody>\n",
       "    <tr>\n",
       "      <th>count</th>\n",
       "      <td>303.000000</td>\n",
       "      <td>303.000000</td>\n",
       "      <td>303.000000</td>\n",
       "      <td>303.000000</td>\n",
       "      <td>303.000000</td>\n",
       "      <td>303.000000</td>\n",
       "      <td>303.000000</td>\n",
       "      <td>303.000000</td>\n",
       "      <td>303.000000</td>\n",
       "      <td>303.000000</td>\n",
       "      <td>303.000000</td>\n",
       "      <td>303.000000</td>\n",
       "      <td>303.000000</td>\n",
       "      <td>303.000000</td>\n",
       "    </tr>\n",
       "    <tr>\n",
       "      <th>mean</th>\n",
       "      <td>54.366337</td>\n",
       "      <td>0.683168</td>\n",
       "      <td>0.966997</td>\n",
       "      <td>131.623762</td>\n",
       "      <td>246.264026</td>\n",
       "      <td>0.148515</td>\n",
       "      <td>0.528053</td>\n",
       "      <td>149.646865</td>\n",
       "      <td>0.326733</td>\n",
       "      <td>1.039604</td>\n",
       "      <td>1.399340</td>\n",
       "      <td>0.729373</td>\n",
       "      <td>2.313531</td>\n",
       "      <td>0.544554</td>\n",
       "    </tr>\n",
       "    <tr>\n",
       "      <th>std</th>\n",
       "      <td>9.082101</td>\n",
       "      <td>0.466011</td>\n",
       "      <td>1.032052</td>\n",
       "      <td>17.538143</td>\n",
       "      <td>51.830751</td>\n",
       "      <td>0.356198</td>\n",
       "      <td>0.525860</td>\n",
       "      <td>22.905161</td>\n",
       "      <td>0.469794</td>\n",
       "      <td>1.161075</td>\n",
       "      <td>0.616226</td>\n",
       "      <td>1.022606</td>\n",
       "      <td>0.612277</td>\n",
       "      <td>0.498835</td>\n",
       "    </tr>\n",
       "    <tr>\n",
       "      <th>min</th>\n",
       "      <td>29.000000</td>\n",
       "      <td>0.000000</td>\n",
       "      <td>0.000000</td>\n",
       "      <td>94.000000</td>\n",
       "      <td>126.000000</td>\n",
       "      <td>0.000000</td>\n",
       "      <td>0.000000</td>\n",
       "      <td>71.000000</td>\n",
       "      <td>0.000000</td>\n",
       "      <td>0.000000</td>\n",
       "      <td>0.000000</td>\n",
       "      <td>0.000000</td>\n",
       "      <td>0.000000</td>\n",
       "      <td>0.000000</td>\n",
       "    </tr>\n",
       "    <tr>\n",
       "      <th>25%</th>\n",
       "      <td>47.500000</td>\n",
       "      <td>0.000000</td>\n",
       "      <td>0.000000</td>\n",
       "      <td>120.000000</td>\n",
       "      <td>211.000000</td>\n",
       "      <td>0.000000</td>\n",
       "      <td>0.000000</td>\n",
       "      <td>133.500000</td>\n",
       "      <td>0.000000</td>\n",
       "      <td>0.000000</td>\n",
       "      <td>1.000000</td>\n",
       "      <td>0.000000</td>\n",
       "      <td>2.000000</td>\n",
       "      <td>0.000000</td>\n",
       "    </tr>\n",
       "    <tr>\n",
       "      <th>50%</th>\n",
       "      <td>55.000000</td>\n",
       "      <td>1.000000</td>\n",
       "      <td>1.000000</td>\n",
       "      <td>130.000000</td>\n",
       "      <td>240.000000</td>\n",
       "      <td>0.000000</td>\n",
       "      <td>1.000000</td>\n",
       "      <td>153.000000</td>\n",
       "      <td>0.000000</td>\n",
       "      <td>0.800000</td>\n",
       "      <td>1.000000</td>\n",
       "      <td>0.000000</td>\n",
       "      <td>2.000000</td>\n",
       "      <td>1.000000</td>\n",
       "    </tr>\n",
       "    <tr>\n",
       "      <th>75%</th>\n",
       "      <td>61.000000</td>\n",
       "      <td>1.000000</td>\n",
       "      <td>2.000000</td>\n",
       "      <td>140.000000</td>\n",
       "      <td>274.500000</td>\n",
       "      <td>0.000000</td>\n",
       "      <td>1.000000</td>\n",
       "      <td>166.000000</td>\n",
       "      <td>1.000000</td>\n",
       "      <td>1.600000</td>\n",
       "      <td>2.000000</td>\n",
       "      <td>1.000000</td>\n",
       "      <td>3.000000</td>\n",
       "      <td>1.000000</td>\n",
       "    </tr>\n",
       "    <tr>\n",
       "      <th>max</th>\n",
       "      <td>77.000000</td>\n",
       "      <td>1.000000</td>\n",
       "      <td>3.000000</td>\n",
       "      <td>200.000000</td>\n",
       "      <td>564.000000</td>\n",
       "      <td>1.000000</td>\n",
       "      <td>2.000000</td>\n",
       "      <td>202.000000</td>\n",
       "      <td>1.000000</td>\n",
       "      <td>6.200000</td>\n",
       "      <td>2.000000</td>\n",
       "      <td>4.000000</td>\n",
       "      <td>3.000000</td>\n",
       "      <td>1.000000</td>\n",
       "    </tr>\n",
       "  </tbody>\n",
       "</table>\n",
       "</div>"
      ],
      "text/plain": [
       "            idade        sexo  dor_no_peito  pressão_arterial_em_repouso  \\\n",
       "count  303.000000  303.000000    303.000000                   303.000000   \n",
       "mean    54.366337    0.683168      0.966997                   131.623762   \n",
       "std      9.082101    0.466011      1.032052                    17.538143   \n",
       "min     29.000000    0.000000      0.000000                    94.000000   \n",
       "25%     47.500000    0.000000      0.000000                   120.000000   \n",
       "50%     55.000000    1.000000      1.000000                   130.000000   \n",
       "75%     61.000000    1.000000      2.000000                   140.000000   \n",
       "max     77.000000    1.000000      3.000000                   200.000000   \n",
       "\n",
       "       colesterol_sérico  acuçar_acima_de_120mg  \\\n",
       "count         303.000000             303.000000   \n",
       "mean          246.264026               0.148515   \n",
       "std            51.830751               0.356198   \n",
       "min           126.000000               0.000000   \n",
       "25%           211.000000               0.000000   \n",
       "50%           240.000000               0.000000   \n",
       "75%           274.500000               0.000000   \n",
       "max           564.000000               1.000000   \n",
       "\n",
       "       resultados_eletrocardiográficos  frequencia_cardiaca_maxima  \\\n",
       "count                       303.000000                  303.000000   \n",
       "mean                          0.528053                  149.646865   \n",
       "std                           0.525860                   22.905161   \n",
       "min                           0.000000                   71.000000   \n",
       "25%                           0.000000                  133.500000   \n",
       "50%                           1.000000                  153.000000   \n",
       "75%                           1.000000                  166.000000   \n",
       "max                           2.000000                  202.000000   \n",
       "\n",
       "       angina_induzida  depressão_de_st          st  numero_de_vasos  \\\n",
       "count       303.000000       303.000000  303.000000       303.000000   \n",
       "mean          0.326733         1.039604    1.399340         0.729373   \n",
       "std           0.469794         1.161075    0.616226         1.022606   \n",
       "min           0.000000         0.000000    0.000000         0.000000   \n",
       "25%           0.000000         0.000000    1.000000         0.000000   \n",
       "50%           0.000000         0.800000    1.000000         0.000000   \n",
       "75%           1.000000         1.600000    2.000000         1.000000   \n",
       "max           1.000000         6.200000    2.000000         4.000000   \n",
       "\n",
       "             thal        alvo  \n",
       "count  303.000000  303.000000  \n",
       "mean     2.313531    0.544554  \n",
       "std      0.612277    0.498835  \n",
       "min      0.000000    0.000000  \n",
       "25%      2.000000    0.000000  \n",
       "50%      2.000000    1.000000  \n",
       "75%      3.000000    1.000000  \n",
       "max      3.000000    1.000000  "
      ]
     },
     "execution_count": 9,
     "metadata": {},
     "output_type": "execute_result"
    }
   ],
   "source": [
    "dataset.describe()"
   ]
  },
  {
   "cell_type": "code",
   "execution_count": 10,
   "id": "959331f0",
   "metadata": {},
   "outputs": [
    {
     "data": {
      "text/plain": [
       "idade                             -0.202463\n",
       "sexo                              -0.791335\n",
       "dor_no_peito                       0.484732\n",
       "pressão_arterial_em_repouso        0.713768\n",
       "colesterol_sérico                  1.143401\n",
       "acuçar_acima_de_120mg              1.986652\n",
       "resultados_eletrocardiográficos    0.162522\n",
       "frequencia_cardiaca_maxima        -0.537410\n",
       "angina_induzida                    0.742532\n",
       "depressão_de_st                    1.269720\n",
       "st                                -0.508316\n",
       "numero_de_vasos                    1.310422\n",
       "thal                              -0.476722\n",
       "alvo                              -0.179821\n",
       "dtype: float64"
      ]
     },
     "execution_count": 10,
     "metadata": {},
     "output_type": "execute_result"
    }
   ],
   "source": [
    "dataset.skew()"
   ]
  },
  {
   "cell_type": "code",
   "execution_count": 11,
   "id": "b68a4a6e",
   "metadata": {},
   "outputs": [
    {
     "data": {
      "text/plain": [
       "1    165\n",
       "0    138\n",
       "Name: alvo, dtype: int64"
      ]
     },
     "execution_count": 11,
     "metadata": {},
     "output_type": "execute_result"
    }
   ],
   "source": [
    "dataset['alvo'].value_counts()"
   ]
  },
  {
   "cell_type": "code",
   "execution_count": 12,
   "id": "3e0727c4",
   "metadata": {},
   "outputs": [
    {
     "data": {
      "text/plain": [
       "<AxesSubplot:xlabel='idade', ylabel='Count'>"
      ]
     },
     "execution_count": 12,
     "metadata": {},
     "output_type": "execute_result"
    },
    {
     "data": {
      "image/png": "[encoded data removed]",
      "text/plain": [
       "<Figure size 640x480 with 1 Axes>"
      ]
     },
     "metadata": {},
     "output_type": "display_data"
    }
   ],
   "source": [
    "sns.histplot(dataset['idade'], bins=25)"
   ]
  },
  {
   "cell_type": "code",
   "execution_count": 13,
   "id": "147e3c92",
   "metadata": {},
   "outputs": [
    {
     "data": {
      "text/plain": [
       "<AxesSubplot:>"
      ]
     },
     "execution_count": 13,
     "metadata": {},
     "output_type": "execute_result"
    },
    {
     "data": {
      "image/png": "[encoded data removed]",
      "text/plain": [
       "<Figure size 640x480 with 2 Axes>"
      ]
     },
     "metadata": {},
     "output_type": "display_data"
    }
   ],
   "source": [
    "sns.heatmap(dataset.corr(), annot=True, fmt='.1f')"
   ]
  },
  {
   "cell_type": "markdown",
   "id": "8e635e03",
   "metadata": {},
   "source": [
    "# 3 - Modelagem dos Dados"
   ]
  },
  {
   "cell_type": "markdown",
   "id": "9f973773",
   "metadata": {},
   "source": [
    "## 3.1 - Definindo o modelo base "
   ]
  },
  {
   "cell_type": "code",
   "execution_count": 14,
   "id": "ace5ea1e",
   "metadata": {},
   "outputs": [],
   "source": [
    "x = dataset.drop(['alvo'], axis=1)\n",
    "y = dataset['alvo']"
   ]
  },
  {
   "cell_type": "code",
   "execution_count": 15,
   "id": "35c2d70c",
   "metadata": {},
   "outputs": [],
   "source": [
    "x_train, x_test, y_train, y_test = train_test_split(x, y)"
   ]
  },
  {
   "cell_type": "code",
   "execution_count": 16,
   "id": "4fcecf9c",
   "metadata": {},
   "outputs": [
    {
     "name": "stdout",
     "output_type": "stream",
     "text": [
      "A acurácia base de um modelo dummy é de: 0.51\n"
     ]
    }
   ],
   "source": [
    "dummy_classifier = DummyClassifier()\n",
    "\n",
    "dummy_classifier.fit(x_train, y_train)\n",
    "\n",
    "print('A acurácia base de um modelo dummy é de: %.2f' % dummy_classifier.score(x_test, y_test))"
   ]
  },
  {
   "cell_type": "markdown",
   "id": "f0334380",
   "metadata": {},
   "source": [
    "## 3.2 - Modelando uma árvore de decisão"
   ]
  },
  {
   "cell_type": "code",
   "execution_count": 17,
   "id": "b6420237",
   "metadata": {},
   "outputs": [],
   "source": [
    "decision_tree_classifier = DecisionTreeClassifier()\n",
    "kfold = KFold(n_splits=100, shuffle=True, random_state=256)"
   ]
  },
  {
   "cell_type": "code",
   "execution_count": 18,
   "id": "a9b96ee4",
   "metadata": {},
   "outputs": [
    {
     "name": "stdout",
     "output_type": "stream",
     "text": [
      "A acurácia média do modelo é de 0.79\n"
     ]
    }
   ],
   "source": [
    "cross_validation = cross_validate(decision_tree_classifier, x, y, cv = kfold, scoring='accuracy')\n",
    "\n",
    "print('A acurácia média do modelo é de %.2f' % cross_validation['test_score'].mean())"
   ]
  },
  {
   "cell_type": "markdown",
   "id": "f4d12ffb",
   "metadata": {},
   "source": [
    "## 3.3 - Seleção de Variáveis"
   ]
  },
  {
   "cell_type": "code",
   "execution_count": 19,
   "id": "f56ed65d",
   "metadata": {},
   "outputs": [
    {
     "data": {
      "text/plain": [
       "DecisionTreeClassifier()"
      ]
     },
     "execution_count": 19,
     "metadata": {},
     "output_type": "execute_result"
    }
   ],
   "source": [
    "decision_tree_classifier.fit(x, y)"
   ]
  },
  {
   "cell_type": "code",
   "execution_count": 20,
   "id": "68c78dc1",
   "metadata": {},
   "outputs": [
    {
     "data": {
      "text/plain": [
       "array([0.05918792, 0.02245064, 0.26627111, 0.0637111 , 0.12007267,\n",
       "       0.        , 0.01862978, 0.05774279, 0.02042739, 0.09310002,\n",
       "       0.02620208, 0.13947727, 0.11272723])"
      ]
     },
     "execution_count": 20,
     "metadata": {},
     "output_type": "execute_result"
    }
   ],
   "source": [
    "decision_tree_classifier.feature_importances_"
   ]
  },
  {
   "cell_type": "code",
   "execution_count": 21,
   "id": "ef84f60d",
   "metadata": {},
   "outputs": [
    {
     "data": {
      "text/plain": [
       "array(['idade', 'sexo', 'dor_no_peito', 'pressão_arterial_em_repouso',\n",
       "       'colesterol_sérico', 'acuçar_acima_de_120mg',\n",
       "       'resultados_eletrocardiográficos', 'frequencia_cardiaca_maxima',\n",
       "       'angina_induzida', 'depressão_de_st', 'st', 'numero_de_vasos',\n",
       "       'thal'], dtype=object)"
      ]
     },
     "execution_count": 21,
     "metadata": {},
     "output_type": "execute_result"
    }
   ],
   "source": [
    "decision_tree_classifier.feature_names_in_"
   ]
  },
  {
   "cell_type": "code",
   "execution_count": 22,
   "id": "09965499",
   "metadata": {},
   "outputs": [
    {
     "name": "stderr",
     "output_type": "stream",
     "text": [
      "/tmp/ipykernel_25885/3978828264.py:1: FutureWarning: The default dtype for empty Series will be 'object' instead of 'float64' in a future version. Specify a dtype explicitly to silence this warning.\n",
      "  scores = pd.Series()\n"
     ]
    }
   ],
   "source": [
    "scores = pd.Series()\n",
    "\n",
    "for i, feature_name in enumerate(decision_tree_classifier.feature_names_in_):\n",
    "    scores[feature_name] = decision_tree_classifier.feature_importances_[i]"
   ]
  },
  {
   "cell_type": "code",
   "execution_count": 23,
   "id": "c686ba66",
   "metadata": {},
   "outputs": [
    {
     "data": {
      "text/plain": [
       "dor_no_peito                       0.266271\n",
       "numero_de_vasos                    0.139477\n",
       "colesterol_sérico                  0.120073\n",
       "thal                               0.112727\n",
       "depressão_de_st                    0.093100\n",
       "pressão_arterial_em_repouso        0.063711\n",
       "idade                              0.059188\n",
       "frequencia_cardiaca_maxima         0.057743\n",
       "st                                 0.026202\n",
       "sexo                               0.022451\n",
       "angina_induzida                    0.020427\n",
       "resultados_eletrocardiográficos    0.018630\n",
       "acuçar_acima_de_120mg              0.000000\n",
       "dtype: float64"
      ]
     },
     "execution_count": 23,
     "metadata": {},
     "output_type": "execute_result"
    }
   ],
   "source": [
    "scores.sort_values(ascending=False)"
   ]
  },
  {
   "cell_type": "code",
   "execution_count": 24,
   "id": "8df004c9",
   "metadata": {},
   "outputs": [],
   "source": [
    "x = x[scores.sort_values(ascending=False)[:5].index]"
   ]
  },
  {
   "cell_type": "code",
   "execution_count": 25,
   "id": "2aa396e9",
   "metadata": {},
   "outputs": [
    {
     "name": "stdout",
     "output_type": "stream",
     "text": [
      "A acurácia média do modelo é de 0.75\n"
     ]
    }
   ],
   "source": [
    "decision_tree_classifier = DecisionTreeClassifier()\n",
    "kfold = KFold(n_splits=5, shuffle=True, random_state=256)\n",
    "\n",
    "cross_validation = cross_validate(decision_tree_classifier, x, y, cv = kfold, scoring='accuracy')\n",
    "\n",
    "print('A acurácia média do modelo é de %.2f' % cross_validation['test_score'].mean())"
   ]
  },
  {
   "cell_type": "markdown",
   "id": "01aa8566",
   "metadata": {},
   "source": [
    "## 3.4 - Seleção de Parâmetros"
   ]
  },
  {
   "cell_type": "code",
   "execution_count": 26,
   "id": "6301f6b1",
   "metadata": {},
   "outputs": [
    {
     "name": "stderr",
     "output_type": "stream",
     "text": [
      "/tmp/ipykernel_25885/4199832160.py:1: FutureWarning: The default dtype for empty Series will be 'object' instead of 'float64' in a future version. Specify a dtype explicitly to silence this warning.\n",
      "  scores = pd.Series()\n"
     ]
    }
   ],
   "source": [
    "scores = pd.Series()\n",
    "for i in range(1, 100, 1):\n",
    "    decision_tree_classifier = DecisionTreeClassifier(max_depth=i)\n",
    "    cross_validation = cross_validate(decision_tree_classifier, x, y, cv = kfold, scoring='accuracy')\n",
    "    \n",
    "    scores['max_depth=' + str(i)] = cross_validation['test_score'].mean()"
   ]
  },
  {
   "cell_type": "code",
   "execution_count": 27,
   "id": "617f6d05",
   "metadata": {},
   "outputs": [
    {
     "data": {
      "text/plain": [
       "[<matplotlib.lines.Line2D at 0x7ff833366160>]"
      ]
     },
     "execution_count": 27,
     "metadata": {},
     "output_type": "execute_result"
    },
    {
     "data": {
      "image/png": "[encoded data removed]",
      "text/plain": [
       "<Figure size 640x480 with 1 Axes>"
      ]
     },
     "metadata": {},
     "output_type": "display_data"
    }
   ],
   "source": [
    "plt.plot(scores)"
   ]
  },
  {
   "cell_type": "code",
   "execution_count": 28,
   "id": "2e14760b",
   "metadata": {
    "scrolled": true
   },
   "outputs": [
    {
     "data": {
      "text/plain": [
       "max_depth=5     0.801585\n",
       "max_depth=3     0.798415\n",
       "max_depth=7     0.791858\n",
       "max_depth=75    0.788798\n",
       "max_depth=19    0.788743\n",
       "                  ...   \n",
       "max_depth=56    0.755738\n",
       "max_depth=91    0.755738\n",
       "max_depth=55    0.752404\n",
       "max_depth=2     0.745410\n",
       "max_depth=1     0.706066\n",
       "Length: 99, dtype: float64"
      ]
     },
     "execution_count": 28,
     "metadata": {},
     "output_type": "execute_result"
    }
   ],
   "source": [
    "scores.sort_values(ascending=False)"
   ]
  },
  {
   "cell_type": "code",
   "execution_count": 29,
   "id": "e65021fa",
   "metadata": {},
   "outputs": [],
   "source": [
    "params = {'max_depth': list(range(1, 100, 1))}"
   ]
  },
  {
   "cell_type": "code",
   "execution_count": 37,
   "id": "5c8ea199",
   "metadata": {},
   "outputs": [],
   "source": [
    "decision_tree_classifier = DecisionTreeClassifier()\n",
    "\n",
    "decision_tree_classifier.fit(x, y)\n",
    "\n",
    "grid_search = GridSearchCV(decision_tree_classifier, param_grid=params, scoring='accuracy', cv=5)"
   ]
  },
  {
   "cell_type": "code",
   "execution_count": 38,
   "id": "c6c816da",
   "metadata": {},
   "outputs": [
    {
     "data": {
      "text/plain": [
       "GridSearchCV(cv=5, estimator=DecisionTreeClassifier(),\n",
       "             param_grid={'max_depth': [1, 2, 3, 4, 5, 6, 7, 8, 9, 10, 11, 12,\n",
       "                                       13, 14, 15, 16, 17, 18, 19, 20, 21, 22,\n",
       "                                       23, 24, 25, 26, 27, 28, 29, 30, ...]},\n",
       "             scoring='accuracy')"
      ]
     },
     "execution_count": 38,
     "metadata": {},
     "output_type": "execute_result"
    }
   ],
   "source": [
    "grid_search.fit(x, y)"
   ]
  },
  {
   "cell_type": "code",
   "execution_count": 39,
   "id": "b2699826",
   "metadata": {},
   "outputs": [
    {
     "data": {
      "text/plain": [
       "{'max_depth': 3}"
      ]
     },
     "execution_count": 39,
     "metadata": {},
     "output_type": "execute_result"
    }
   ],
   "source": [
    "grid_search.best_params_"
   ]
  },
  {
   "cell_type": "code",
   "execution_count": 40,
   "id": "92c898bd",
   "metadata": {
    "scrolled": true
   },
   "outputs": [
    {
     "data": {
      "text/plain": [
       "0.8083606557377049"
      ]
     },
     "execution_count": 40,
     "metadata": {},
     "output_type": "execute_result"
    }
   ],
   "source": [
    "grid_search.best_score_"
   ]
  },
  {
   "cell_type": "markdown",
   "id": "bfae3945",
   "metadata": {},
   "source": [
    "## 4 - Salvando modelo"
   ]
  },
  {
   "cell_type": "code",
   "execution_count": 34,
   "id": "570b255b",
   "metadata": {},
   "outputs": [
    {
     "data": {
      "text/plain": [
       "Index(['dor_no_peito', 'numero_de_vasos', 'colesterol_sérico', 'thal',\n",
       "       'depressão_de_st'],\n",
       "      dtype='object')"
      ]
     },
     "execution_count": 34,
     "metadata": {},
     "output_type": "execute_result"
    }
   ],
   "source": [
    "x.columns"
   ]
  },
  {
   "cell_type": "code",
   "execution_count": 35,
   "id": "7bd5a0e2",
   "metadata": {},
   "outputs": [
    {
     "data": {
      "text/plain": [
       "DecisionTreeClassifier(max_depth=4)"
      ]
     },
     "execution_count": 35,
     "metadata": {},
     "output_type": "execute_result"
    }
   ],
   "source": [
    "decision_tree_classifier = DecisionTreeClassifier(max_depth=4)\n",
    "decision_tree_classifier.fit(x, y)"
   ]
  },
  {
   "cell_type": "code",
   "execution_count": 36,
   "id": "5b8150ca",
   "metadata": {},
   "outputs": [],
   "source": [
    "with open('model.sav', 'wb') as f:\n",
    "    pickle.dump(decision_tree_classifier, f)"
   ]
  },
  {
   "cell_type": "code",
   "execution_count": null,
   "id": "4e00f273",
   "metadata": {},
   "outputs": [],
   "source": []
  }
 ],
 "metadata": {
  "kernelspec": {
   "display_name": "Python 3 (ipykernel)",
   "language": "python",
   "name": "python3"
  },
  "language_info": {
   "codemirror_mode": {
    "name": "ipython",
    "version": 3
   },
   "file_extension": ".py",
   "mimetype": "text/x-python",
   "name": "python",
   "nbconvert_exporter": "python",
   "pygments_lexer": "ipython3",
   "version": "3.9.13"
  }
 },
 "nbformat": 4,
 "nbformat_minor": 5
}
