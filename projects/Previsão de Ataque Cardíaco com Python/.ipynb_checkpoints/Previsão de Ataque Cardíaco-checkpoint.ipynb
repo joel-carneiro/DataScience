{
 "cells": [
  {
   "cell_type": "markdown",
   "id": "f3481bb4",
   "metadata": {},
   "source": [
    "# 1 - Introdução\n",
    "\n",
    "O seu projeto de predição de ataque cardíaco tem como objetivo utilizar técnicas de machine learning para criar um modelo capaz de identificar indivíduos com maior risco de desenvolver um ataque cardíaco. Esse tipo de modelo é extremamente importante, já que o ataque cardíaco é uma das principais causas de morte no mundo e a prevenção é fundamental para a saúde pública.\n",
    "\n",
    "Para desenvolver esse modelo, você irá utilizar um conjunto de dados com informações sobre diversos fatores de risco para o desenvolvimento de um ataque cardíaco, tais como idade, gênero, histórico familiar, tabagismo, hipertensão, diabetes, colesterol, entre outros. Com base nessas informações, o modelo será treinado para aprender padrões e características que estejam associados a um maior risco de ataque cardíaco, permitindo que ele faça predições precisas sobre a probabilidade de um indivíduo sofrer um ataque cardíaco em um determinado período de tempo.\n",
    "\n",
    "O desenvolvimento desse tipo de modelo tem grande potencial de impacto na área da saúde, uma vez que a identificação precoce de indivíduos com maior risco de desenvolver um ataque cardíaco pode levar a uma intervenção mais rápida e efetiva, reduzindo o número de mortes e melhorando a qualidade de vida da população em geral."
   ]
  },
  {
   "cell_type": "markdown",
   "id": "3b53d436",
   "metadata": {},
   "source": [
    "## 1.1 - Primeiras impressões"
   ]
  },
  {
   "cell_type": "code",
   "execution_count": 179,
   "id": "3f421d75",
   "metadata": {},
   "outputs": [],
   "source": [
    "# Importando módulos necessários\n",
    "import pandas as pd\n",
    "from pandas_profiling import ProfileReport\n",
    "\n",
    "import matplotlib.pyplot as plt\n",
    "import seaborn as sns\n",
    "\n",
    "from sklearn.model_selection import cross_validate\n",
    "from sklearn.model_selection import train_test_split\n",
    "from sklearn.model_selection import KFold\n",
    "from sklearn.model_selection import GridSearchCV\n",
    "\n",
    "from sklearn.tree import DecisionTreeClassifier\n",
    "from sklearn.dummy import DummyClassifier\n",
    "from sklearn.ensemble import RandomForestClassifier\n",
    "\n",
    "import pickle\n",
    "\n",
    "\n",
    "%matplotlib inline"
   ]
  },
  {
   "cell_type": "code",
   "execution_count": 21,
   "id": "b3c1258b",
   "metadata": {
    "scrolled": true
   },
   "outputs": [
    {
     "data": {
      "text/html": [
       "<div>\n",
       "<style scoped>\n",
       "    .dataframe tbody tr th:only-of-type {\n",
       "        vertical-align: middle;\n",
       "    }\n",
       "\n",
       "    .dataframe tbody tr th {\n",
       "        vertical-align: top;\n",
       "    }\n",
       "\n",
       "    .dataframe thead th {\n",
       "        text-align: right;\n",
       "    }\n",
       "</style>\n",
       "<table border=\"1\" class=\"dataframe\">\n",
       "  <thead>\n",
       "    <tr style=\"text-align: right;\">\n",
       "      <th></th>\n",
       "      <th>age</th>\n",
       "      <th>sex</th>\n",
       "      <th>cp</th>\n",
       "      <th>trestbps</th>\n",
       "      <th>chol</th>\n",
       "      <th>fbs</th>\n",
       "      <th>restecg</th>\n",
       "      <th>thalach</th>\n",
       "      <th>exang</th>\n",
       "      <th>oldpeak</th>\n",
       "      <th>slope</th>\n",
       "      <th>ca</th>\n",
       "      <th>thal</th>\n",
       "      <th>target</th>\n",
       "    </tr>\n",
       "  </thead>\n",
       "  <tbody>\n",
       "    <tr>\n",
       "      <th>0</th>\n",
       "      <td>63</td>\n",
       "      <td>1</td>\n",
       "      <td>3</td>\n",
       "      <td>145</td>\n",
       "      <td>233</td>\n",
       "      <td>1</td>\n",
       "      <td>0</td>\n",
       "      <td>150</td>\n",
       "      <td>0</td>\n",
       "      <td>2.3</td>\n",
       "      <td>0</td>\n",
       "      <td>0</td>\n",
       "      <td>1</td>\n",
       "      <td>1</td>\n",
       "    </tr>\n",
       "    <tr>\n",
       "      <th>1</th>\n",
       "      <td>37</td>\n",
       "      <td>1</td>\n",
       "      <td>2</td>\n",
       "      <td>130</td>\n",
       "      <td>250</td>\n",
       "      <td>0</td>\n",
       "      <td>1</td>\n",
       "      <td>187</td>\n",
       "      <td>0</td>\n",
       "      <td>3.5</td>\n",
       "      <td>0</td>\n",
       "      <td>0</td>\n",
       "      <td>2</td>\n",
       "      <td>1</td>\n",
       "    </tr>\n",
       "    <tr>\n",
       "      <th>2</th>\n",
       "      <td>41</td>\n",
       "      <td>0</td>\n",
       "      <td>1</td>\n",
       "      <td>130</td>\n",
       "      <td>204</td>\n",
       "      <td>0</td>\n",
       "      <td>0</td>\n",
       "      <td>172</td>\n",
       "      <td>0</td>\n",
       "      <td>1.4</td>\n",
       "      <td>2</td>\n",
       "      <td>0</td>\n",
       "      <td>2</td>\n",
       "      <td>1</td>\n",
       "    </tr>\n",
       "    <tr>\n",
       "      <th>3</th>\n",
       "      <td>56</td>\n",
       "      <td>1</td>\n",
       "      <td>1</td>\n",
       "      <td>120</td>\n",
       "      <td>236</td>\n",
       "      <td>0</td>\n",
       "      <td>1</td>\n",
       "      <td>178</td>\n",
       "      <td>0</td>\n",
       "      <td>0.8</td>\n",
       "      <td>2</td>\n",
       "      <td>0</td>\n",
       "      <td>2</td>\n",
       "      <td>1</td>\n",
       "    </tr>\n",
       "    <tr>\n",
       "      <th>4</th>\n",
       "      <td>57</td>\n",
       "      <td>0</td>\n",
       "      <td>0</td>\n",
       "      <td>120</td>\n",
       "      <td>354</td>\n",
       "      <td>0</td>\n",
       "      <td>1</td>\n",
       "      <td>163</td>\n",
       "      <td>1</td>\n",
       "      <td>0.6</td>\n",
       "      <td>2</td>\n",
       "      <td>0</td>\n",
       "      <td>2</td>\n",
       "      <td>1</td>\n",
       "    </tr>\n",
       "  </tbody>\n",
       "</table>\n",
       "</div>"
      ],
      "text/plain": [
       "   age  sex  cp  trestbps  chol  fbs  restecg  thalach  exang  oldpeak  slope  \\\n",
       "0   63    1   3       145   233    1        0      150      0      2.3      0   \n",
       "1   37    1   2       130   250    0        1      187      0      3.5      0   \n",
       "2   41    0   1       130   204    0        0      172      0      1.4      2   \n",
       "3   56    1   1       120   236    0        1      178      0      0.8      2   \n",
       "4   57    0   0       120   354    0        1      163      1      0.6      2   \n",
       "\n",
       "   ca  thal  target  \n",
       "0   0     1       1  \n",
       "1   0     2       1  \n",
       "2   0     2       1  \n",
       "3   0     2       1  \n",
       "4   0     2       1  "
      ]
     },
     "execution_count": 21,
     "metadata": {},
     "output_type": "execute_result"
    }
   ],
   "source": [
    "# Lendo nosso dataset\n",
    "dataset = pd.read_csv('/home/jdspy/Documentos/datasets/heart.csv')\n",
    "\n",
    "# Visualizando informações iniciais\n",
    "dataset.head()"
   ]
  },
  {
   "cell_type": "code",
   "execution_count": 24,
   "id": "145431fa",
   "metadata": {},
   "outputs": [
    {
     "name": "stdout",
     "output_type": "stream",
     "text": [
      "Nosso dataset tem dimensão: (303, 14)\n",
      "O total de valores faltantes é 0\n"
     ]
    }
   ],
   "source": [
    "print('Nosso dataset tem dimensão:', dataset.shape)\n",
    "print('O total de valores faltantes é', dataset.isnull().sum().sum())"
   ]
  },
  {
   "cell_type": "code",
   "execution_count": 27,
   "id": "3231b2ac",
   "metadata": {},
   "outputs": [
    {
     "data": {
      "text/plain": [
       "Index(['age', 'sex', 'cp', 'trestbps', 'chol', 'fbs', 'restecg', 'thalach',\n",
       "       'exang', 'oldpeak', 'slope', 'ca', 'thal', 'target'],\n",
       "      dtype='object')"
      ]
     },
     "execution_count": 27,
     "metadata": {},
     "output_type": "execute_result"
    }
   ],
   "source": [
    "# Cada coluna\n",
    "dataset.columns"
   ]
  },
  {
   "cell_type": "markdown",
   "id": "5cb76bfb",
   "metadata": {},
   "source": [
    "## 1.2 - Primeiros Tratamentos"
   ]
  },
  {
   "cell_type": "code",
   "execution_count": 29,
   "id": "d6fd1b9b",
   "metadata": {},
   "outputs": [],
   "source": [
    "# Renomeando coluna\n",
    "new_columns = [\n",
    "    'idade',\n",
    "    'sexo',\n",
    "    'dor_no_peito',\n",
    "    'pressão_arterial_em_repouso',\n",
    "    'colesterol_sérico',\n",
    "    'acuçar_acima_de_120mg',\n",
    "    'resultados_eletrocardiográficos',\n",
    "    'frequencia_cardiaca_maxima',\n",
    "    'angina_induzida',\n",
    "    'depressão_de_st',\n",
    "    'st',\n",
    "    'numero_de_vasos',\n",
    "    'thal',\n",
    "    'alvo'\n",
    "]\n",
    "\n",
    "dataset.columns = new_columns"
   ]
  },
  {
   "cell_type": "code",
   "execution_count": 31,
   "id": "8c3d2fd6",
   "metadata": {},
   "outputs": [
    {
     "data": {
      "text/html": [
       "<div>\n",
       "<style scoped>\n",
       "    .dataframe tbody tr th:only-of-type {\n",
       "        vertical-align: middle;\n",
       "    }\n",
       "\n",
       "    .dataframe tbody tr th {\n",
       "        vertical-align: top;\n",
       "    }\n",
       "\n",
       "    .dataframe thead th {\n",
       "        text-align: right;\n",
       "    }\n",
       "</style>\n",
       "<table border=\"1\" class=\"dataframe\">\n",
       "  <thead>\n",
       "    <tr style=\"text-align: right;\">\n",
       "      <th></th>\n",
       "      <th>idade</th>\n",
       "      <th>sexo</th>\n",
       "      <th>dor_no_peito</th>\n",
       "      <th>pressão_arterial_em_repouso</th>\n",
       "      <th>colesterol_sérico</th>\n",
       "      <th>acuçar_acima_de_120mg</th>\n",
       "      <th>resultados_eletrocardiográficos</th>\n",
       "      <th>frequencia_cardiaca_maxima</th>\n",
       "      <th>angina_induzida</th>\n",
       "      <th>depressão_de_st</th>\n",
       "      <th>st</th>\n",
       "      <th>numero_de_vasos</th>\n",
       "      <th>thal</th>\n",
       "      <th>alvo</th>\n",
       "    </tr>\n",
       "  </thead>\n",
       "  <tbody>\n",
       "    <tr>\n",
       "      <th>297</th>\n",
       "      <td>59</td>\n",
       "      <td>1</td>\n",
       "      <td>0</td>\n",
       "      <td>164</td>\n",
       "      <td>176</td>\n",
       "      <td>1</td>\n",
       "      <td>0</td>\n",
       "      <td>90</td>\n",
       "      <td>0</td>\n",
       "      <td>1.0</td>\n",
       "      <td>1</td>\n",
       "      <td>2</td>\n",
       "      <td>1</td>\n",
       "      <td>0</td>\n",
       "    </tr>\n",
       "    <tr>\n",
       "      <th>141</th>\n",
       "      <td>43</td>\n",
       "      <td>1</td>\n",
       "      <td>0</td>\n",
       "      <td>115</td>\n",
       "      <td>303</td>\n",
       "      <td>0</td>\n",
       "      <td>1</td>\n",
       "      <td>181</td>\n",
       "      <td>0</td>\n",
       "      <td>1.2</td>\n",
       "      <td>1</td>\n",
       "      <td>0</td>\n",
       "      <td>2</td>\n",
       "      <td>1</td>\n",
       "    </tr>\n",
       "    <tr>\n",
       "      <th>299</th>\n",
       "      <td>45</td>\n",
       "      <td>1</td>\n",
       "      <td>3</td>\n",
       "      <td>110</td>\n",
       "      <td>264</td>\n",
       "      <td>0</td>\n",
       "      <td>1</td>\n",
       "      <td>132</td>\n",
       "      <td>0</td>\n",
       "      <td>1.2</td>\n",
       "      <td>1</td>\n",
       "      <td>0</td>\n",
       "      <td>3</td>\n",
       "      <td>0</td>\n",
       "    </tr>\n",
       "    <tr>\n",
       "      <th>13</th>\n",
       "      <td>64</td>\n",
       "      <td>1</td>\n",
       "      <td>3</td>\n",
       "      <td>110</td>\n",
       "      <td>211</td>\n",
       "      <td>0</td>\n",
       "      <td>0</td>\n",
       "      <td>144</td>\n",
       "      <td>1</td>\n",
       "      <td>1.8</td>\n",
       "      <td>1</td>\n",
       "      <td>0</td>\n",
       "      <td>2</td>\n",
       "      <td>1</td>\n",
       "    </tr>\n",
       "    <tr>\n",
       "      <th>107</th>\n",
       "      <td>45</td>\n",
       "      <td>0</td>\n",
       "      <td>0</td>\n",
       "      <td>138</td>\n",
       "      <td>236</td>\n",
       "      <td>0</td>\n",
       "      <td>0</td>\n",
       "      <td>152</td>\n",
       "      <td>1</td>\n",
       "      <td>0.2</td>\n",
       "      <td>1</td>\n",
       "      <td>0</td>\n",
       "      <td>2</td>\n",
       "      <td>1</td>\n",
       "    </tr>\n",
       "    <tr>\n",
       "      <th>15</th>\n",
       "      <td>50</td>\n",
       "      <td>0</td>\n",
       "      <td>2</td>\n",
       "      <td>120</td>\n",
       "      <td>219</td>\n",
       "      <td>0</td>\n",
       "      <td>1</td>\n",
       "      <td>158</td>\n",
       "      <td>0</td>\n",
       "      <td>1.6</td>\n",
       "      <td>1</td>\n",
       "      <td>0</td>\n",
       "      <td>2</td>\n",
       "      <td>1</td>\n",
       "    </tr>\n",
       "    <tr>\n",
       "      <th>25</th>\n",
       "      <td>71</td>\n",
       "      <td>0</td>\n",
       "      <td>1</td>\n",
       "      <td>160</td>\n",
       "      <td>302</td>\n",
       "      <td>0</td>\n",
       "      <td>1</td>\n",
       "      <td>162</td>\n",
       "      <td>0</td>\n",
       "      <td>0.4</td>\n",
       "      <td>2</td>\n",
       "      <td>2</td>\n",
       "      <td>2</td>\n",
       "      <td>1</td>\n",
       "    </tr>\n",
       "    <tr>\n",
       "      <th>226</th>\n",
       "      <td>62</td>\n",
       "      <td>1</td>\n",
       "      <td>1</td>\n",
       "      <td>120</td>\n",
       "      <td>281</td>\n",
       "      <td>0</td>\n",
       "      <td>0</td>\n",
       "      <td>103</td>\n",
       "      <td>0</td>\n",
       "      <td>1.4</td>\n",
       "      <td>1</td>\n",
       "      <td>1</td>\n",
       "      <td>3</td>\n",
       "      <td>0</td>\n",
       "    </tr>\n",
       "    <tr>\n",
       "      <th>158</th>\n",
       "      <td>58</td>\n",
       "      <td>1</td>\n",
       "      <td>1</td>\n",
       "      <td>125</td>\n",
       "      <td>220</td>\n",
       "      <td>0</td>\n",
       "      <td>1</td>\n",
       "      <td>144</td>\n",
       "      <td>0</td>\n",
       "      <td>0.4</td>\n",
       "      <td>1</td>\n",
       "      <td>4</td>\n",
       "      <td>3</td>\n",
       "      <td>1</td>\n",
       "    </tr>\n",
       "    <tr>\n",
       "      <th>8</th>\n",
       "      <td>52</td>\n",
       "      <td>1</td>\n",
       "      <td>2</td>\n",
       "      <td>172</td>\n",
       "      <td>199</td>\n",
       "      <td>1</td>\n",
       "      <td>1</td>\n",
       "      <td>162</td>\n",
       "      <td>0</td>\n",
       "      <td>0.5</td>\n",
       "      <td>2</td>\n",
       "      <td>0</td>\n",
       "      <td>3</td>\n",
       "      <td>1</td>\n",
       "    </tr>\n",
       "  </tbody>\n",
       "</table>\n",
       "</div>"
      ],
      "text/plain": [
       "     idade  sexo  dor_no_peito  pressão_arterial_em_repouso  \\\n",
       "297     59     1             0                          164   \n",
       "141     43     1             0                          115   \n",
       "299     45     1             3                          110   \n",
       "13      64     1             3                          110   \n",
       "107     45     0             0                          138   \n",
       "15      50     0             2                          120   \n",
       "25      71     0             1                          160   \n",
       "226     62     1             1                          120   \n",
       "158     58     1             1                          125   \n",
       "8       52     1             2                          172   \n",
       "\n",
       "     colesterol_sérico  acuçar_acima_de_120mg  \\\n",
       "297                176                      1   \n",
       "141                303                      0   \n",
       "299                264                      0   \n",
       "13                 211                      0   \n",
       "107                236                      0   \n",
       "15                 219                      0   \n",
       "25                 302                      0   \n",
       "226                281                      0   \n",
       "158                220                      0   \n",
       "8                  199                      1   \n",
       "\n",
       "     resultados_eletrocardiográficos  frequencia_cardiaca_maxima  \\\n",
       "297                                0                          90   \n",
       "141                                1                         181   \n",
       "299                                1                         132   \n",
       "13                                 0                         144   \n",
       "107                                0                         152   \n",
       "15                                 1                         158   \n",
       "25                                 1                         162   \n",
       "226                                0                         103   \n",
       "158                                1                         144   \n",
       "8                                  1                         162   \n",
       "\n",
       "     angina_induzida  depressão_de_st  st  numero_de_vasos  thal  alvo  \n",
       "297                0              1.0   1                2     1     0  \n",
       "141                0              1.2   1                0     2     1  \n",
       "299                0              1.2   1                0     3     0  \n",
       "13                 1              1.8   1                0     2     1  \n",
       "107                1              0.2   1                0     2     1  \n",
       "15                 0              1.6   1                0     2     1  \n",
       "25                 0              0.4   2                2     2     1  \n",
       "226                0              1.4   1                1     3     0  \n",
       "158                0              0.4   1                4     3     1  \n",
       "8                  0              0.5   2                0     3     1  "
      ]
     },
     "execution_count": 31,
     "metadata": {},
     "output_type": "execute_result"
    }
   ],
   "source": [
    "# Visualizando 10 observações aleatórias no dataset\n",
    "dataset.sample(10)"
   ]
  },
  {
   "cell_type": "markdown",
   "id": "0e91ffdd",
   "metadata": {},
   "source": [
    "**Sobre cada Variável**\n",
    "\n",
    "    idade\n",
    "    sexo\n",
    "    tipo de dor no peito (4 valores)\n",
    "    pressão arterial em repouso\n",
    "    colesterol sérico em mg/dl\n",
    "    açúcar no sangue em jejum > 120 mg/dl\n",
    "    resultados eletrocardiográficos em repouso (valores 0,1,2)\n",
    "    frequência cardíaca máxima alcançada\n",
    "    angina induzida por exercício\n",
    "    depressão de ST induzida por exercício em relação ao repouso\n",
    "    a inclinação do segmento ST de pico de exercício\n",
    "    número de principais vasos (0-3) coloridos por fluoroscopia\n",
    "    thal: 0 = normal; 1 = defeito fixo; 2 = defeito reversível\n",
    "    alvo: 0 = menor chance de ataque cardíaco, 1 = maior chance de ataque cardíaco."
   ]
  },
  {
   "cell_type": "markdown",
   "id": "6f94dcf8",
   "metadata": {},
   "source": [
    "# 2 - Análise Exploratória de Dados (EDA)"
   ]
  },
  {
   "cell_type": "markdown",
   "id": "c5d3ff4d",
   "metadata": {},
   "source": [
    "## 2.1 - Relatório com Pandas Profiling"
   ]
  },
  {
   "cell_type": "code",
   "execution_count": 33,
   "id": "9ba16ff7",
   "metadata": {},
   "outputs": [
    {
     "data": {
      "application/vnd.jupyter.widget-view+json": {
       "model_id": "6830f12577b145fe94e3f288268eaf02",
       "version_major": 2,
       "version_minor": 0
      },
      "text/plain": [
       "Summarize dataset:   0%|          | 0/5 [00:00<?, ?it/s]"
      ]
     },
     "metadata": {},
     "output_type": "display_data"
    },
    {
     "data": {
      "application/vnd.jupyter.widget-view+json": {
       "model_id": "3e5d414d85fd4a66a56575aa409ebd10",
       "version_major": 2,
       "version_minor": 0
      },
      "text/plain": [
       "Generate report structure:   0%|          | 0/1 [00:00<?, ?it/s]"
      ]
     },
     "metadata": {},
     "output_type": "display_data"
    },
    {
     "data": {
      "application/vnd.jupyter.widget-view+json": {
       "model_id": "c5f0662351284afcb024195c70ea5107",
       "version_major": 2,
       "version_minor": 0
      },
      "text/plain": [
       "Render HTML:   0%|          | 0/1 [00:00<?, ?it/s]"
      ]
     },
     "metadata": {},
     "output_type": "display_data"
    },
    {
     "data": {
      "application/vnd.jupyter.widget-view+json": {
       "model_id": "3a5f6bbd114d43368c4debcccb8cd8ab",
       "version_major": 2,
       "version_minor": 0
      },
      "text/plain": [
       "Export report to file:   0%|          | 0/1 [00:00<?, ?it/s]"
      ]
     },
     "metadata": {},
     "output_type": "display_data"
    }
   ],
   "source": [
    "profile = ProfileReport(dataset)\n",
    "\n",
    "profile.to_file('profile.html')"
   ]
  },
  {
   "cell_type": "markdown",
   "id": "a12bc84c",
   "metadata": {},
   "source": [
    "## 2.2 - Estatística Aplicada"
   ]
  },
  {
   "cell_type": "code",
   "execution_count": 34,
   "id": "15890812",
   "metadata": {},
   "outputs": [
    {
     "name": "stdout",
     "output_type": "stream",
     "text": [
      "<class 'pandas.core.frame.DataFrame'>\n",
      "RangeIndex: 303 entries, 0 to 302\n",
      "Data columns (total 14 columns):\n",
      " #   Column                           Non-Null Count  Dtype  \n",
      "---  ------                           --------------  -----  \n",
      " 0   idade                            303 non-null    int64  \n",
      " 1   sexo                             303 non-null    int64  \n",
      " 2   dor_no_peito                     303 non-null    int64  \n",
      " 3   pressão_arterial_em_repouso      303 non-null    int64  \n",
      " 4   colesterol_sérico                303 non-null    int64  \n",
      " 5   acuçar_acima_de_120mg            303 non-null    int64  \n",
      " 6   resultados_eletrocardiográficos  303 non-null    int64  \n",
      " 7   frequencia_cardiaca_maxima       303 non-null    int64  \n",
      " 8   angina_induzida                  303 non-null    int64  \n",
      " 9   depressão_de_st                  303 non-null    float64\n",
      " 10  st                               303 non-null    int64  \n",
      " 11  numero_de_vasos                  303 non-null    int64  \n",
      " 12  thal                             303 non-null    int64  \n",
      " 13  alvo                             303 non-null    int64  \n",
      "dtypes: float64(1), int64(13)\n",
      "memory usage: 33.3 KB\n"
     ]
    }
   ],
   "source": [
    "dataset.info()"
   ]
  },
  {
   "cell_type": "code",
   "execution_count": 35,
   "id": "99b6bdf5",
   "metadata": {},
   "outputs": [
    {
     "data": {
      "text/html": [
       "<div>\n",
       "<style scoped>\n",
       "    .dataframe tbody tr th:only-of-type {\n",
       "        vertical-align: middle;\n",
       "    }\n",
       "\n",
       "    .dataframe tbody tr th {\n",
       "        vertical-align: top;\n",
       "    }\n",
       "\n",
       "    .dataframe thead th {\n",
       "        text-align: right;\n",
       "    }\n",
       "</style>\n",
       "<table border=\"1\" class=\"dataframe\">\n",
       "  <thead>\n",
       "    <tr style=\"text-align: right;\">\n",
       "      <th></th>\n",
       "      <th>idade</th>\n",
       "      <th>sexo</th>\n",
       "      <th>dor_no_peito</th>\n",
       "      <th>pressão_arterial_em_repouso</th>\n",
       "      <th>colesterol_sérico</th>\n",
       "      <th>acuçar_acima_de_120mg</th>\n",
       "      <th>resultados_eletrocardiográficos</th>\n",
       "      <th>frequencia_cardiaca_maxima</th>\n",
       "      <th>angina_induzida</th>\n",
       "      <th>depressão_de_st</th>\n",
       "      <th>st</th>\n",
       "      <th>numero_de_vasos</th>\n",
       "      <th>thal</th>\n",
       "      <th>alvo</th>\n",
       "    </tr>\n",
       "  </thead>\n",
       "  <tbody>\n",
       "    <tr>\n",
       "      <th>count</th>\n",
       "      <td>303.000000</td>\n",
       "      <td>303.000000</td>\n",
       "      <td>303.000000</td>\n",
       "      <td>303.000000</td>\n",
       "      <td>303.000000</td>\n",
       "      <td>303.000000</td>\n",
       "      <td>303.000000</td>\n",
       "      <td>303.000000</td>\n",
       "      <td>303.000000</td>\n",
       "      <td>303.000000</td>\n",
       "      <td>303.000000</td>\n",
       "      <td>303.000000</td>\n",
       "      <td>303.000000</td>\n",
       "      <td>303.000000</td>\n",
       "    </tr>\n",
       "    <tr>\n",
       "      <th>mean</th>\n",
       "      <td>54.366337</td>\n",
       "      <td>0.683168</td>\n",
       "      <td>0.966997</td>\n",
       "      <td>131.623762</td>\n",
       "      <td>246.264026</td>\n",
       "      <td>0.148515</td>\n",
       "      <td>0.528053</td>\n",
       "      <td>149.646865</td>\n",
       "      <td>0.326733</td>\n",
       "      <td>1.039604</td>\n",
       "      <td>1.399340</td>\n",
       "      <td>0.729373</td>\n",
       "      <td>2.313531</td>\n",
       "      <td>0.544554</td>\n",
       "    </tr>\n",
       "    <tr>\n",
       "      <th>std</th>\n",
       "      <td>9.082101</td>\n",
       "      <td>0.466011</td>\n",
       "      <td>1.032052</td>\n",
       "      <td>17.538143</td>\n",
       "      <td>51.830751</td>\n",
       "      <td>0.356198</td>\n",
       "      <td>0.525860</td>\n",
       "      <td>22.905161</td>\n",
       "      <td>0.469794</td>\n",
       "      <td>1.161075</td>\n",
       "      <td>0.616226</td>\n",
       "      <td>1.022606</td>\n",
       "      <td>0.612277</td>\n",
       "      <td>0.498835</td>\n",
       "    </tr>\n",
       "    <tr>\n",
       "      <th>min</th>\n",
       "      <td>29.000000</td>\n",
       "      <td>0.000000</td>\n",
       "      <td>0.000000</td>\n",
       "      <td>94.000000</td>\n",
       "      <td>126.000000</td>\n",
       "      <td>0.000000</td>\n",
       "      <td>0.000000</td>\n",
       "      <td>71.000000</td>\n",
       "      <td>0.000000</td>\n",
       "      <td>0.000000</td>\n",
       "      <td>0.000000</td>\n",
       "      <td>0.000000</td>\n",
       "      <td>0.000000</td>\n",
       "      <td>0.000000</td>\n",
       "    </tr>\n",
       "    <tr>\n",
       "      <th>25%</th>\n",
       "      <td>47.500000</td>\n",
       "      <td>0.000000</td>\n",
       "      <td>0.000000</td>\n",
       "      <td>120.000000</td>\n",
       "      <td>211.000000</td>\n",
       "      <td>0.000000</td>\n",
       "      <td>0.000000</td>\n",
       "      <td>133.500000</td>\n",
       "      <td>0.000000</td>\n",
       "      <td>0.000000</td>\n",
       "      <td>1.000000</td>\n",
       "      <td>0.000000</td>\n",
       "      <td>2.000000</td>\n",
       "      <td>0.000000</td>\n",
       "    </tr>\n",
       "    <tr>\n",
       "      <th>50%</th>\n",
       "      <td>55.000000</td>\n",
       "      <td>1.000000</td>\n",
       "      <td>1.000000</td>\n",
       "      <td>130.000000</td>\n",
       "      <td>240.000000</td>\n",
       "      <td>0.000000</td>\n",
       "      <td>1.000000</td>\n",
       "      <td>153.000000</td>\n",
       "      <td>0.000000</td>\n",
       "      <td>0.800000</td>\n",
       "      <td>1.000000</td>\n",
       "      <td>0.000000</td>\n",
       "      <td>2.000000</td>\n",
       "      <td>1.000000</td>\n",
       "    </tr>\n",
       "    <tr>\n",
       "      <th>75%</th>\n",
       "      <td>61.000000</td>\n",
       "      <td>1.000000</td>\n",
       "      <td>2.000000</td>\n",
       "      <td>140.000000</td>\n",
       "      <td>274.500000</td>\n",
       "      <td>0.000000</td>\n",
       "      <td>1.000000</td>\n",
       "      <td>166.000000</td>\n",
       "      <td>1.000000</td>\n",
       "      <td>1.600000</td>\n",
       "      <td>2.000000</td>\n",
       "      <td>1.000000</td>\n",
       "      <td>3.000000</td>\n",
       "      <td>1.000000</td>\n",
       "    </tr>\n",
       "    <tr>\n",
       "      <th>max</th>\n",
       "      <td>77.000000</td>\n",
       "      <td>1.000000</td>\n",
       "      <td>3.000000</td>\n",
       "      <td>200.000000</td>\n",
       "      <td>564.000000</td>\n",
       "      <td>1.000000</td>\n",
       "      <td>2.000000</td>\n",
       "      <td>202.000000</td>\n",
       "      <td>1.000000</td>\n",
       "      <td>6.200000</td>\n",
       "      <td>2.000000</td>\n",
       "      <td>4.000000</td>\n",
       "      <td>3.000000</td>\n",
       "      <td>1.000000</td>\n",
       "    </tr>\n",
       "  </tbody>\n",
       "</table>\n",
       "</div>"
      ],
      "text/plain": [
       "            idade        sexo  dor_no_peito  pressão_arterial_em_repouso  \\\n",
       "count  303.000000  303.000000    303.000000                   303.000000   \n",
       "mean    54.366337    0.683168      0.966997                   131.623762   \n",
       "std      9.082101    0.466011      1.032052                    17.538143   \n",
       "min     29.000000    0.000000      0.000000                    94.000000   \n",
       "25%     47.500000    0.000000      0.000000                   120.000000   \n",
       "50%     55.000000    1.000000      1.000000                   130.000000   \n",
       "75%     61.000000    1.000000      2.000000                   140.000000   \n",
       "max     77.000000    1.000000      3.000000                   200.000000   \n",
       "\n",
       "       colesterol_sérico  acuçar_acima_de_120mg  \\\n",
       "count         303.000000             303.000000   \n",
       "mean          246.264026               0.148515   \n",
       "std            51.830751               0.356198   \n",
       "min           126.000000               0.000000   \n",
       "25%           211.000000               0.000000   \n",
       "50%           240.000000               0.000000   \n",
       "75%           274.500000               0.000000   \n",
       "max           564.000000               1.000000   \n",
       "\n",
       "       resultados_eletrocardiográficos  frequencia_cardiaca_maxima  \\\n",
       "count                       303.000000                  303.000000   \n",
       "mean                          0.528053                  149.646865   \n",
       "std                           0.525860                   22.905161   \n",
       "min                           0.000000                   71.000000   \n",
       "25%                           0.000000                  133.500000   \n",
       "50%                           1.000000                  153.000000   \n",
       "75%                           1.000000                  166.000000   \n",
       "max                           2.000000                  202.000000   \n",
       "\n",
       "       angina_induzida  depressão_de_st          st  numero_de_vasos  \\\n",
       "count       303.000000       303.000000  303.000000       303.000000   \n",
       "mean          0.326733         1.039604    1.399340         0.729373   \n",
       "std           0.469794         1.161075    0.616226         1.022606   \n",
       "min           0.000000         0.000000    0.000000         0.000000   \n",
       "25%           0.000000         0.000000    1.000000         0.000000   \n",
       "50%           0.000000         0.800000    1.000000         0.000000   \n",
       "75%           1.000000         1.600000    2.000000         1.000000   \n",
       "max           1.000000         6.200000    2.000000         4.000000   \n",
       "\n",
       "             thal        alvo  \n",
       "count  303.000000  303.000000  \n",
       "mean     2.313531    0.544554  \n",
       "std      0.612277    0.498835  \n",
       "min      0.000000    0.000000  \n",
       "25%      2.000000    0.000000  \n",
       "50%      2.000000    1.000000  \n",
       "75%      3.000000    1.000000  \n",
       "max      3.000000    1.000000  "
      ]
     },
     "execution_count": 35,
     "metadata": {},
     "output_type": "execute_result"
    }
   ],
   "source": [
    "dataset.describe()"
   ]
  },
  {
   "cell_type": "code",
   "execution_count": 36,
   "id": "959331f0",
   "metadata": {},
   "outputs": [
    {
     "data": {
      "text/plain": [
       "idade                             -0.202463\n",
       "sexo                              -0.791335\n",
       "dor_no_peito                       0.484732\n",
       "pressão_arterial_em_repouso        0.713768\n",
       "colesterol_sérico                  1.143401\n",
       "acuçar_acima_de_120mg              1.986652\n",
       "resultados_eletrocardiográficos    0.162522\n",
       "frequencia_cardiaca_maxima        -0.537410\n",
       "angina_induzida                    0.742532\n",
       "depressão_de_st                    1.269720\n",
       "st                                -0.508316\n",
       "numero_de_vasos                    1.310422\n",
       "thal                              -0.476722\n",
       "alvo                              -0.179821\n",
       "dtype: float64"
      ]
     },
     "execution_count": 36,
     "metadata": {},
     "output_type": "execute_result"
    }
   ],
   "source": [
    "dataset.skew()"
   ]
  },
  {
   "cell_type": "code",
   "execution_count": 37,
   "id": "b68a4a6e",
   "metadata": {},
   "outputs": [
    {
     "data": {
      "text/plain": [
       "1    165\n",
       "0    138\n",
       "Name: alvo, dtype: int64"
      ]
     },
     "execution_count": 37,
     "metadata": {},
     "output_type": "execute_result"
    }
   ],
   "source": [
    "dataset['alvo'].value_counts()"
   ]
  },
  {
   "cell_type": "code",
   "execution_count": 45,
   "id": "3e0727c4",
   "metadata": {},
   "outputs": [
    {
     "data": {
      "text/plain": [
       "<AxesSubplot:xlabel='idade', ylabel='Count'>"
      ]
     },
     "execution_count": 45,
     "metadata": {},
     "output_type": "execute_result"
    },
    {
     "data": {
      "image/png": "[encoded data removed]",
      "text/plain": [
       "<Figure size 640x480 with 1 Axes>"
      ]
     },
     "metadata": {},
     "output_type": "display_data"
    }
   ],
   "source": [
    "sns.histplot(dataset['idade'], bins=25)"
   ]
  },
  {
   "cell_type": "code",
   "execution_count": 50,
   "id": "147e3c92",
   "metadata": {},
   "outputs": [
    {
     "data": {
      "text/plain": [
       "<AxesSubplot:>"
      ]
     },
     "execution_count": 50,
     "metadata": {},
     "output_type": "execute_result"
    },
    {
     "data": {
      "image/png": "[encoded data removed]",
      "text/plain": [
       "<Figure size 640x480 with 2 Axes>"
      ]
     },
     "metadata": {},
     "output_type": "display_data"
    }
   ],
   "source": [
    "sns.heatmap(dataset.corr(), annot=True, fmt='.1f')"
   ]
  },
  {
   "cell_type": "markdown",
   "id": "8e635e03",
   "metadata": {},
   "source": [
    "# 3 - Modelagem dos Dados"
   ]
  },
  {
   "cell_type": "markdown",
   "id": "9f973773",
   "metadata": {},
   "source": [
    "## 3.1 - Definindo o modelo base "
   ]
  },
  {
   "cell_type": "code",
   "execution_count": 67,
   "id": "ace5ea1e",
   "metadata": {},
   "outputs": [],
   "source": [
    "x = dataset.drop(['alvo'], axis=1)\n",
    "y = dataset['alvo']"
   ]
  },
  {
   "cell_type": "code",
   "execution_count": 69,
   "id": "35c2d70c",
   "metadata": {},
   "outputs": [],
   "source": [
    "x_train, x_test, y_train, y_test = train_test_split(x, y)"
   ]
  },
  {
   "cell_type": "code",
   "execution_count": 72,
   "id": "4fcecf9c",
   "metadata": {},
   "outputs": [
    {
     "name": "stdout",
     "output_type": "stream",
     "text": [
      "A acurácia base de um modelo dummy é de: 0.57\n"
     ]
    }
   ],
   "source": [
    "dummy_classifier = DummyClassifier()\n",
    "\n",
    "dummy_classifier.fit(x_train, y_train)\n",
    "\n",
    "print('A acurácia base de um modelo dummy é de: %.2f' % dummy_classifier.score(x_test, y_test))"
   ]
  },
  {
   "cell_type": "markdown",
   "id": "f0334380",
   "metadata": {},
   "source": [
    "## 3.2 - Modelando uma árvore de decisão"
   ]
  },
  {
   "cell_type": "code",
   "execution_count": 73,
   "id": "b6420237",
   "metadata": {},
   "outputs": [],
   "source": [
    "decision_tree_classifier = DecisionTreeClassifier()\n",
    "kfold = KFold(n_splits=100, shuffle=True, random_state=256)"
   ]
  },
  {
   "cell_type": "code",
   "execution_count": 112,
   "id": "a9b96ee4",
   "metadata": {},
   "outputs": [
    {
     "name": "stdout",
     "output_type": "stream",
     "text": [
      "A acurácia média do modelo é de 0.74\n"
     ]
    }
   ],
   "source": [
    "cross_validation = cross_validate(decision_tree_classifier, x, y, cv = kfold, scoring='accuracy')\n",
    "\n",
    "print('A acurácia média do modelo é de %.2f' % cross_validation['test_score'].mean())"
   ]
  },
  {
   "cell_type": "markdown",
   "id": "f4d12ffb",
   "metadata": {},
   "source": [
    "## 3.3 - Seleção de Variáveis"
   ]
  },
  {
   "cell_type": "code",
   "execution_count": 77,
   "id": "f56ed65d",
   "metadata": {},
   "outputs": [
    {
     "data": {
      "text/plain": [
       "DecisionTreeClassifier()"
      ]
     },
     "execution_count": 77,
     "metadata": {},
     "output_type": "execute_result"
    }
   ],
   "source": [
    "decision_tree_classifier.fit(x, y)"
   ]
  },
  {
   "cell_type": "code",
   "execution_count": 78,
   "id": "68c78dc1",
   "metadata": {},
   "outputs": [
    {
     "data": {
      "text/plain": [
       "array([0.06051862, 0.0268863 , 0.26627111, 0.04907341, 0.10177557,\n",
       "       0.        , 0.01862978, 0.04266154, 0.02042739, 0.10474363,\n",
       "       0.05680814, 0.13947727, 0.11272723])"
      ]
     },
     "execution_count": 78,
     "metadata": {},
     "output_type": "execute_result"
    }
   ],
   "source": [
    "decision_tree_classifier.feature_importances_"
   ]
  },
  {
   "cell_type": "code",
   "execution_count": 79,
   "id": "ef84f60d",
   "metadata": {},
   "outputs": [
    {
     "data": {
      "text/plain": [
       "array(['idade', 'sexo', 'dor_no_peito', 'pressão_arterial_em_repouso',\n",
       "       'colesterol_sérico', 'acuçar_acima_de_120mg',\n",
       "       'resultados_eletrocardiográficos', 'frequencia_cardiaca_maxima',\n",
       "       'angina_induzida', 'depressão_de_st', 'st', 'numero_de_vasos',\n",
       "       'thal'], dtype=object)"
      ]
     },
     "execution_count": 79,
     "metadata": {},
     "output_type": "execute_result"
    }
   ],
   "source": [
    "decision_tree_classifier.feature_names_in_"
   ]
  },
  {
   "cell_type": "code",
   "execution_count": 92,
   "id": "09965499",
   "metadata": {},
   "outputs": [
    {
     "name": "stderr",
     "output_type": "stream",
     "text": [
      "/tmp/ipykernel_20162/3978828264.py:1: FutureWarning: The default dtype for empty Series will be 'object' instead of 'float64' in a future version. Specify a dtype explicitly to silence this warning.\n",
      "  scores = pd.Series()\n"
     ]
    }
   ],
   "source": [
    "scores = pd.Series()\n",
    "\n",
    "for i, feature_name in enumerate(decision_tree_classifier.feature_names_in_):\n",
    "    scores[feature_name] = decision_tree_classifier.feature_importances_[i]"
   ]
  },
  {
   "cell_type": "code",
   "execution_count": 108,
   "id": "8df004c9",
   "metadata": {},
   "outputs": [],
   "source": [
    "x = x[scores.sort_values(ascending=False)[:5].index]"
   ]
  },
  {
   "cell_type": "code",
   "execution_count": 146,
   "id": "2aa396e9",
   "metadata": {},
   "outputs": [
    {
     "name": "stdout",
     "output_type": "stream",
     "text": [
      "A acurácia média do modelo é de 0.78\n"
     ]
    }
   ],
   "source": [
    "decision_tree_classifier = DecisionTreeClassifier()\n",
    "kfold = KFold(n_splits=5, shuffle=True, random_state=256)\n",
    "\n",
    "cross_validation = cross_validate(decision_tree_classifier, x, y, cv = kfold, scoring='accuracy')\n",
    "\n",
    "print('A acurácia média do modelo é de %.2f' % cross_validation['test_score'].mean())"
   ]
  },
  {
   "cell_type": "markdown",
   "id": "01aa8566",
   "metadata": {},
   "source": [
    "## 3.4 - Seleção de Parâmetros"
   ]
  },
  {
   "cell_type": "code",
   "execution_count": 150,
   "id": "6301f6b1",
   "metadata": {},
   "outputs": [
    {
     "name": "stderr",
     "output_type": "stream",
     "text": [
      "/tmp/ipykernel_20162/4199832160.py:1: FutureWarning: The default dtype for empty Series will be 'object' instead of 'float64' in a future version. Specify a dtype explicitly to silence this warning.\n",
      "  scores = pd.Series()\n"
     ]
    }
   ],
   "source": [
    "scores = pd.Series()\n",
    "for i in range(1, 100, 1):\n",
    "    decision_tree_classifier = DecisionTreeClassifier(max_depth=i)\n",
    "    cross_validation = cross_validate(decision_tree_classifier, x, y, cv = kfold, scoring='accuracy')\n",
    "    \n",
    "    scores['max_depth=' + str(i)] = cross_validation['test_score'].mean()"
   ]
  },
  {
   "cell_type": "code",
   "execution_count": 152,
   "id": "617f6d05",
   "metadata": {},
   "outputs": [
    {
     "data": {
      "text/plain": [
       "[<matplotlib.lines.Line2D at 0x7fcaa502c280>]"
      ]
     },
     "execution_count": 152,
     "metadata": {},
     "output_type": "execute_result"
    },
    {
     "data": {
      "image/png": "[encoded data removed]",
      "text/plain": [
       "<Figure size 640x480 with 1 Axes>"
      ]
     },
     "metadata": {},
     "output_type": "display_data"
    }
   ],
   "source": [
    "plt.plot(scores)"
   ]
  },
  {
   "cell_type": "code",
   "execution_count": 154,
   "id": "2e14760b",
   "metadata": {
    "scrolled": true
   },
   "outputs": [
    {
     "data": {
      "text/plain": [
       "max_depth=5     0.814863\n",
       "max_depth=3     0.798415\n",
       "max_depth=6     0.791803\n",
       "max_depth=93    0.785464\n",
       "max_depth=27    0.785464\n",
       "                  ...   \n",
       "max_depth=15    0.755792\n",
       "max_depth=35    0.755683\n",
       "max_depth=46    0.749126\n",
       "max_depth=2     0.745410\n",
       "max_depth=1     0.706066\n",
       "Length: 99, dtype: float64"
      ]
     },
     "execution_count": 154,
     "metadata": {},
     "output_type": "execute_result"
    }
   ],
   "source": [
    "scores.sort_values(ascending=False)"
   ]
  },
  {
   "cell_type": "code",
   "execution_count": 157,
   "id": "e65021fa",
   "metadata": {},
   "outputs": [
    {
     "data": {
      "text/plain": [
       "DecisionTreeClassifier(max_depth=99)"
      ]
     },
     "execution_count": 157,
     "metadata": {},
     "output_type": "execute_result"
    }
   ],
   "source": [
    "params = {'max_depth': list(range(1, 100, 1))}"
   ]
  },
  {
   "cell_type": "code",
   "execution_count": 163,
   "id": "5c8ea199",
   "metadata": {},
   "outputs": [],
   "source": [
    "decision_tree_classifier = DecisionTreeClassifier()\n",
    "\n",
    "decision_tree_classifier.fit(x_train, y_train)\n",
    "\n",
    "grid_search = GridSearchCV(decision_tree_classifier, param_grid=params, scoring='accuracy', cv=5)"
   ]
  },
  {
   "cell_type": "code",
   "execution_count": 170,
   "id": "c6c816da",
   "metadata": {},
   "outputs": [
    {
     "data": {
      "text/plain": [
       "GridSearchCV(cv=5, estimator=DecisionTreeClassifier(),\n",
       "             param_grid={'max_depth': [1, 2, 3, 4, 5, 6, 7, 8, 9, 10, 11, 12,\n",
       "                                       13, 14, 15, 16, 17, 18, 19, 20, 21, 22,\n",
       "                                       23, 24, 25, 26, 27, 28, 29, 30, ...]},\n",
       "             scoring='accuracy')"
      ]
     },
     "execution_count": 170,
     "metadata": {},
     "output_type": "execute_result"
    }
   ],
   "source": [
    "grid_search.fit(x_train, y_train)"
   ]
  },
  {
   "cell_type": "code",
   "execution_count": 171,
   "id": "b2699826",
   "metadata": {},
   "outputs": [
    {
     "data": {
      "text/plain": [
       "{'max_depth': 4}"
      ]
     },
     "execution_count": 171,
     "metadata": {},
     "output_type": "execute_result"
    }
   ],
   "source": [
    "grid_search.best_params_"
   ]
  },
  {
   "cell_type": "code",
   "execution_count": 172,
   "id": "92c898bd",
   "metadata": {
    "scrolled": true
   },
   "outputs": [
    {
     "data": {
      "text/plain": [
       "0.8238647342995169"
      ]
     },
     "execution_count": 172,
     "metadata": {},
     "output_type": "execute_result"
    }
   ],
   "source": [
    "grid_search.best_score_"
   ]
  },
  {
   "cell_type": "markdown",
   "id": "bfae3945",
   "metadata": {},
   "source": [
    "## 4 - Salvando modelo"
   ]
  },
  {
   "cell_type": "code",
   "execution_count": 178,
   "id": "570b255b",
   "metadata": {},
   "outputs": [
    {
     "data": {
      "text/plain": [
       "Index(['dor_no_peito', 'numero_de_vasos', 'thal', 'depressão_de_st',\n",
       "       'colesterol_sérico'],\n",
       "      dtype='object')"
      ]
     },
     "execution_count": 178,
     "metadata": {},
     "output_type": "execute_result"
    }
   ],
   "source": [
    "x.columns"
   ]
  },
  {
   "cell_type": "code",
   "execution_count": 183,
   "id": "7bd5a0e2",
   "metadata": {},
   "outputs": [
    {
     "data": {
      "text/plain": [
       "DecisionTreeClassifier(max_depth=4)"
      ]
     },
     "execution_count": 183,
     "metadata": {},
     "output_type": "execute_result"
    }
   ],
   "source": [
    "decision_tree_classifier = DecisionTreeClassifier(max_depth=4)\n",
    "decision_tree_classifier.fit(x, y)"
   ]
  },
  {
   "cell_type": "code",
   "execution_count": 184,
   "id": "5b8150ca",
   "metadata": {},
   "outputs": [],
   "source": [
    "with open('model.sav', 'wb') as f:\n",
    "    pickle.dump(decision_tree_classifier, f)"
   ]
  }
 ],
 "metadata": {
  "kernelspec": {
   "display_name": "Python 3 (ipykernel)",
   "language": "python",
   "name": "python3"
  },
  "language_info": {
   "codemirror_mode": {
    "name": "ipython",
    "version": 3
   },
   "file_extension": ".py",
   "mimetype": "text/x-python",
   "name": "python",
   "nbconvert_exporter": "python",
   "pygments_lexer": "ipython3",
   "version": "3.9.13"
  }
 },
 "nbformat": 4,
 "nbformat_minor": 5
}
