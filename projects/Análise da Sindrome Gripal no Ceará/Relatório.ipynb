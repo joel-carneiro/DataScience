{
 "cells": [
  {
   "cell_type": "markdown",
   "id": "74356ec2",
   "metadata": {},
   "source": [
    "# Análise de Sindrome Gripal no Ceará"
   ]
  },
  {
   "cell_type": "markdown",
   "id": "10a82a6e",
   "metadata": {},
   "source": [
    "# 1 - Introdução"
   ]
  },
  {
   "cell_type": "markdown",
   "id": "d9961ed6",
   "metadata": {},
   "source": [
    "## 1.1 - Coleta de Dados"
   ]
  },
  {
   "cell_type": "code",
   "execution_count": 1,
   "id": "4427b1c2",
   "metadata": {},
   "outputs": [],
   "source": [
    "import pandas as pd\n",
    "import matplotlib.pyplot as plt\n",
    "import seaborn as sns\n",
    "\n",
    "\n",
    "from sklearn.model_selection import train_test_split\n",
    "from sklearn.metrics import accuracy_score\n",
    "from sklearn.metrics import precision_score\n",
    "from sklearn.tree import DecisionTreeClassifier\n",
    "from sklearn.dummy import DummyClassifier"
   ]
  },
  {
   "cell_type": "code",
   "execution_count": 2,
   "id": "d0a38da4",
   "metadata": {},
   "outputs": [],
   "source": [
    "dataset = pd.read_csv('/home/jdspy/Documentos/datasets/sindrome_gripal_ceara.csv')"
   ]
  },
  {
   "cell_type": "code",
   "execution_count": 3,
   "id": "1cf5f2d0",
   "metadata": {},
   "outputs": [
    {
     "data": {
      "text/html": [
       "<div>\n",
       "<style scoped>\n",
       "    .dataframe tbody tr th:only-of-type {\n",
       "        vertical-align: middle;\n",
       "    }\n",
       "\n",
       "    .dataframe tbody tr th {\n",
       "        vertical-align: top;\n",
       "    }\n",
       "\n",
       "    .dataframe thead th {\n",
       "        text-align: right;\n",
       "    }\n",
       "</style>\n",
       "<table border=\"1\" class=\"dataframe\">\n",
       "  <thead>\n",
       "    <tr style=\"text-align: right;\">\n",
       "      <th></th>\n",
       "      <th>Outros</th>\n",
       "      <th>Distúrbios Gustativos</th>\n",
       "      <th>Dispneia</th>\n",
       "      <th>Assintomático</th>\n",
       "      <th>Distúrbios Olfativos</th>\n",
       "      <th>Dor de Garganta</th>\n",
       "      <th>Coriza</th>\n",
       "      <th>Dor de Cabeça</th>\n",
       "      <th>Febre</th>\n",
       "      <th>Tosse</th>\n",
       "      <th>Resultado</th>\n",
       "    </tr>\n",
       "  </thead>\n",
       "  <tbody>\n",
       "    <tr>\n",
       "      <th>0</th>\n",
       "      <td>0</td>\n",
       "      <td>0</td>\n",
       "      <td>0</td>\n",
       "      <td>0</td>\n",
       "      <td>0</td>\n",
       "      <td>1</td>\n",
       "      <td>1</td>\n",
       "      <td>1</td>\n",
       "      <td>1</td>\n",
       "      <td>1</td>\n",
       "      <td>POSITIVO</td>\n",
       "    </tr>\n",
       "    <tr>\n",
       "      <th>1</th>\n",
       "      <td>0</td>\n",
       "      <td>0</td>\n",
       "      <td>0</td>\n",
       "      <td>0</td>\n",
       "      <td>0</td>\n",
       "      <td>1</td>\n",
       "      <td>1</td>\n",
       "      <td>0</td>\n",
       "      <td>0</td>\n",
       "      <td>0</td>\n",
       "      <td>NEGATIVO</td>\n",
       "    </tr>\n",
       "    <tr>\n",
       "      <th>2</th>\n",
       "      <td>0</td>\n",
       "      <td>0</td>\n",
       "      <td>0</td>\n",
       "      <td>0</td>\n",
       "      <td>0</td>\n",
       "      <td>1</td>\n",
       "      <td>1</td>\n",
       "      <td>0</td>\n",
       "      <td>1</td>\n",
       "      <td>0</td>\n",
       "      <td>NEGATIVO</td>\n",
       "    </tr>\n",
       "    <tr>\n",
       "      <th>3</th>\n",
       "      <td>0</td>\n",
       "      <td>0</td>\n",
       "      <td>0</td>\n",
       "      <td>0</td>\n",
       "      <td>0</td>\n",
       "      <td>1</td>\n",
       "      <td>1</td>\n",
       "      <td>0</td>\n",
       "      <td>0</td>\n",
       "      <td>1</td>\n",
       "      <td>POSITIVO</td>\n",
       "    </tr>\n",
       "    <tr>\n",
       "      <th>4</th>\n",
       "      <td>0</td>\n",
       "      <td>0</td>\n",
       "      <td>0</td>\n",
       "      <td>0</td>\n",
       "      <td>0</td>\n",
       "      <td>1</td>\n",
       "      <td>0</td>\n",
       "      <td>0</td>\n",
       "      <td>1</td>\n",
       "      <td>1</td>\n",
       "      <td>POSITIVO NÃO-ESPECIFICADO</td>\n",
       "    </tr>\n",
       "  </tbody>\n",
       "</table>\n",
       "</div>"
      ],
      "text/plain": [
       "   Outros  Distúrbios Gustativos  Dispneia  Assintomático  \\\n",
       "0       0                      0         0              0   \n",
       "1       0                      0         0              0   \n",
       "2       0                      0         0              0   \n",
       "3       0                      0         0              0   \n",
       "4       0                      0         0              0   \n",
       "\n",
       "   Distúrbios Olfativos  Dor de Garganta  Coriza  Dor de Cabeça  Febre  Tosse  \\\n",
       "0                     0                1       1              1      1      1   \n",
       "1                     0                1       1              0      0      0   \n",
       "2                     0                1       1              0      1      0   \n",
       "3                     0                1       1              0      0      1   \n",
       "4                     0                1       0              0      1      1   \n",
       "\n",
       "                   Resultado  \n",
       "0                   POSITIVO  \n",
       "1                   NEGATIVO  \n",
       "2                   NEGATIVO  \n",
       "3                   POSITIVO  \n",
       "4  POSITIVO NÃO-ESPECIFICADO  "
      ]
     },
     "execution_count": 3,
     "metadata": {},
     "output_type": "execute_result"
    }
   ],
   "source": [
    "dataset.head()"
   ]
  },
  {
   "cell_type": "markdown",
   "id": "0ba7f9cb",
   "metadata": {},
   "source": [
    "## 1.2 - Primeiras Impressões"
   ]
  },
  {
   "cell_type": "code",
   "execution_count": 4,
   "id": "927219e8",
   "metadata": {},
   "outputs": [
    {
     "data": {
      "text/html": [
       "<div>\n",
       "<style scoped>\n",
       "    .dataframe tbody tr th:only-of-type {\n",
       "        vertical-align: middle;\n",
       "    }\n",
       "\n",
       "    .dataframe tbody tr th {\n",
       "        vertical-align: top;\n",
       "    }\n",
       "\n",
       "    .dataframe thead th {\n",
       "        text-align: right;\n",
       "    }\n",
       "</style>\n",
       "<table border=\"1\" class=\"dataframe\">\n",
       "  <thead>\n",
       "    <tr style=\"text-align: right;\">\n",
       "      <th></th>\n",
       "      <th>Outros</th>\n",
       "      <th>Distúrbios Gustativos</th>\n",
       "      <th>Dispneia</th>\n",
       "      <th>Assintomático</th>\n",
       "      <th>Distúrbios Olfativos</th>\n",
       "      <th>Dor de Garganta</th>\n",
       "      <th>Coriza</th>\n",
       "      <th>Dor de Cabeça</th>\n",
       "      <th>Febre</th>\n",
       "      <th>Tosse</th>\n",
       "      <th>Resultado</th>\n",
       "    </tr>\n",
       "  </thead>\n",
       "  <tbody>\n",
       "    <tr>\n",
       "      <th>0</th>\n",
       "      <td>0</td>\n",
       "      <td>0</td>\n",
       "      <td>0</td>\n",
       "      <td>0</td>\n",
       "      <td>0</td>\n",
       "      <td>1</td>\n",
       "      <td>1</td>\n",
       "      <td>1</td>\n",
       "      <td>1</td>\n",
       "      <td>1</td>\n",
       "      <td>POSITIVO</td>\n",
       "    </tr>\n",
       "    <tr>\n",
       "      <th>1</th>\n",
       "      <td>0</td>\n",
       "      <td>0</td>\n",
       "      <td>0</td>\n",
       "      <td>0</td>\n",
       "      <td>0</td>\n",
       "      <td>1</td>\n",
       "      <td>1</td>\n",
       "      <td>0</td>\n",
       "      <td>0</td>\n",
       "      <td>0</td>\n",
       "      <td>NEGATIVO</td>\n",
       "    </tr>\n",
       "    <tr>\n",
       "      <th>2</th>\n",
       "      <td>0</td>\n",
       "      <td>0</td>\n",
       "      <td>0</td>\n",
       "      <td>0</td>\n",
       "      <td>0</td>\n",
       "      <td>1</td>\n",
       "      <td>1</td>\n",
       "      <td>0</td>\n",
       "      <td>1</td>\n",
       "      <td>0</td>\n",
       "      <td>NEGATIVO</td>\n",
       "    </tr>\n",
       "    <tr>\n",
       "      <th>3</th>\n",
       "      <td>0</td>\n",
       "      <td>0</td>\n",
       "      <td>0</td>\n",
       "      <td>0</td>\n",
       "      <td>0</td>\n",
       "      <td>1</td>\n",
       "      <td>1</td>\n",
       "      <td>0</td>\n",
       "      <td>0</td>\n",
       "      <td>1</td>\n",
       "      <td>POSITIVO</td>\n",
       "    </tr>\n",
       "    <tr>\n",
       "      <th>4</th>\n",
       "      <td>0</td>\n",
       "      <td>0</td>\n",
       "      <td>0</td>\n",
       "      <td>0</td>\n",
       "      <td>0</td>\n",
       "      <td>1</td>\n",
       "      <td>0</td>\n",
       "      <td>0</td>\n",
       "      <td>1</td>\n",
       "      <td>1</td>\n",
       "      <td>POSITIVO NÃO-ESPECIFICADO</td>\n",
       "    </tr>\n",
       "    <tr>\n",
       "      <th>...</th>\n",
       "      <td>...</td>\n",
       "      <td>...</td>\n",
       "      <td>...</td>\n",
       "      <td>...</td>\n",
       "      <td>...</td>\n",
       "      <td>...</td>\n",
       "      <td>...</td>\n",
       "      <td>...</td>\n",
       "      <td>...</td>\n",
       "      <td>...</td>\n",
       "      <td>...</td>\n",
       "    </tr>\n",
       "    <tr>\n",
       "      <th>271671</th>\n",
       "      <td>0</td>\n",
       "      <td>1</td>\n",
       "      <td>0</td>\n",
       "      <td>0</td>\n",
       "      <td>0</td>\n",
       "      <td>1</td>\n",
       "      <td>1</td>\n",
       "      <td>0</td>\n",
       "      <td>0</td>\n",
       "      <td>1</td>\n",
       "      <td>POSITIVO</td>\n",
       "    </tr>\n",
       "    <tr>\n",
       "      <th>271672</th>\n",
       "      <td>1</td>\n",
       "      <td>0</td>\n",
       "      <td>0</td>\n",
       "      <td>0</td>\n",
       "      <td>0</td>\n",
       "      <td>0</td>\n",
       "      <td>1</td>\n",
       "      <td>1</td>\n",
       "      <td>1</td>\n",
       "      <td>0</td>\n",
       "      <td>NEGATIVO</td>\n",
       "    </tr>\n",
       "    <tr>\n",
       "      <th>271673</th>\n",
       "      <td>0</td>\n",
       "      <td>0</td>\n",
       "      <td>1</td>\n",
       "      <td>0</td>\n",
       "      <td>0</td>\n",
       "      <td>0</td>\n",
       "      <td>1</td>\n",
       "      <td>1</td>\n",
       "      <td>1</td>\n",
       "      <td>0</td>\n",
       "      <td>POSITIVO NÃO-ESPECIFICADO</td>\n",
       "    </tr>\n",
       "    <tr>\n",
       "      <th>271674</th>\n",
       "      <td>0</td>\n",
       "      <td>0</td>\n",
       "      <td>0</td>\n",
       "      <td>1</td>\n",
       "      <td>0</td>\n",
       "      <td>0</td>\n",
       "      <td>0</td>\n",
       "      <td>0</td>\n",
       "      <td>0</td>\n",
       "      <td>0</td>\n",
       "      <td>NEGATIVO</td>\n",
       "    </tr>\n",
       "    <tr>\n",
       "      <th>271675</th>\n",
       "      <td>0</td>\n",
       "      <td>0</td>\n",
       "      <td>0</td>\n",
       "      <td>0</td>\n",
       "      <td>0</td>\n",
       "      <td>1</td>\n",
       "      <td>1</td>\n",
       "      <td>1</td>\n",
       "      <td>0</td>\n",
       "      <td>1</td>\n",
       "      <td>POSITIVO</td>\n",
       "    </tr>\n",
       "  </tbody>\n",
       "</table>\n",
       "<p>271676 rows × 11 columns</p>\n",
       "</div>"
      ],
      "text/plain": [
       "        Outros  Distúrbios Gustativos  Dispneia  Assintomático  \\\n",
       "0            0                      0         0              0   \n",
       "1            0                      0         0              0   \n",
       "2            0                      0         0              0   \n",
       "3            0                      0         0              0   \n",
       "4            0                      0         0              0   \n",
       "...        ...                    ...       ...            ...   \n",
       "271671       0                      1         0              0   \n",
       "271672       1                      0         0              0   \n",
       "271673       0                      0         1              0   \n",
       "271674       0                      0         0              1   \n",
       "271675       0                      0         0              0   \n",
       "\n",
       "        Distúrbios Olfativos  Dor de Garganta  Coriza  Dor de Cabeça  Febre  \\\n",
       "0                          0                1       1              1      1   \n",
       "1                          0                1       1              0      0   \n",
       "2                          0                1       1              0      1   \n",
       "3                          0                1       1              0      0   \n",
       "4                          0                1       0              0      1   \n",
       "...                      ...              ...     ...            ...    ...   \n",
       "271671                     0                1       1              0      0   \n",
       "271672                     0                0       1              1      1   \n",
       "271673                     0                0       1              1      1   \n",
       "271674                     0                0       0              0      0   \n",
       "271675                     0                1       1              1      0   \n",
       "\n",
       "        Tosse                  Resultado  \n",
       "0           1                   POSITIVO  \n",
       "1           0                   NEGATIVO  \n",
       "2           0                   NEGATIVO  \n",
       "3           1                   POSITIVO  \n",
       "4           1  POSITIVO NÃO-ESPECIFICADO  \n",
       "...       ...                        ...  \n",
       "271671      1                   POSITIVO  \n",
       "271672      0                   NEGATIVO  \n",
       "271673      0  POSITIVO NÃO-ESPECIFICADO  \n",
       "271674      0                   NEGATIVO  \n",
       "271675      1                   POSITIVO  \n",
       "\n",
       "[271676 rows x 11 columns]"
      ]
     },
     "execution_count": 4,
     "metadata": {},
     "output_type": "execute_result"
    }
   ],
   "source": [
    "dataset"
   ]
  },
  {
   "cell_type": "code",
   "execution_count": 5,
   "id": "1033dcf5",
   "metadata": {},
   "outputs": [
    {
     "data": {
      "text/plain": [
       "NEGATIVO                     141887\n",
       "POSITIVO                      90988\n",
       "POSITIVO NÃO-ESPECIFICADO     38801\n",
       "Name: Resultado, dtype: int64"
      ]
     },
     "execution_count": 5,
     "metadata": {},
     "output_type": "execute_result"
    }
   ],
   "source": [
    "total_de_classes = dataset[\"Resultado\"].value_counts(); total_de_classes"
   ]
  },
  {
   "cell_type": "markdown",
   "id": "89485eab",
   "metadata": {},
   "source": [
    "# 2 - Análise Exploratória de Dados"
   ]
  },
  {
   "cell_type": "markdown",
   "id": "84507fc0",
   "metadata": {},
   "source": [
    "## 2.1 - Separação de Classes"
   ]
  },
  {
   "cell_type": "code",
   "execution_count": 6,
   "id": "65189c91",
   "metadata": {},
   "outputs": [
    {
     "data": {
      "text/html": [
       "<div>\n",
       "<style scoped>\n",
       "    .dataframe tbody tr th:only-of-type {\n",
       "        vertical-align: middle;\n",
       "    }\n",
       "\n",
       "    .dataframe tbody tr th {\n",
       "        vertical-align: top;\n",
       "    }\n",
       "\n",
       "    .dataframe thead th {\n",
       "        text-align: right;\n",
       "    }\n",
       "</style>\n",
       "<table border=\"1\" class=\"dataframe\">\n",
       "  <thead>\n",
       "    <tr style=\"text-align: right;\">\n",
       "      <th></th>\n",
       "      <th>Outros</th>\n",
       "      <th>Distúrbios Gustativos</th>\n",
       "      <th>Dispneia</th>\n",
       "      <th>Assintomático</th>\n",
       "      <th>Distúrbios Olfativos</th>\n",
       "      <th>Dor de Garganta</th>\n",
       "      <th>Coriza</th>\n",
       "      <th>Dor de Cabeça</th>\n",
       "      <th>Febre</th>\n",
       "      <th>Tosse</th>\n",
       "    </tr>\n",
       "    <tr>\n",
       "      <th>Resultado</th>\n",
       "      <th></th>\n",
       "      <th></th>\n",
       "      <th></th>\n",
       "      <th></th>\n",
       "      <th></th>\n",
       "      <th></th>\n",
       "      <th></th>\n",
       "      <th></th>\n",
       "      <th></th>\n",
       "      <th></th>\n",
       "    </tr>\n",
       "  </thead>\n",
       "  <tbody>\n",
       "    <tr>\n",
       "      <th>NEGATIVO</th>\n",
       "      <td>18195</td>\n",
       "      <td>4449</td>\n",
       "      <td>12536</td>\n",
       "      <td>31989</td>\n",
       "      <td>4127</td>\n",
       "      <td>55290</td>\n",
       "      <td>54943</td>\n",
       "      <td>51966</td>\n",
       "      <td>50086</td>\n",
       "      <td>71038</td>\n",
       "    </tr>\n",
       "    <tr>\n",
       "      <th>POSITIVO</th>\n",
       "      <td>12678</td>\n",
       "      <td>4583</td>\n",
       "      <td>8151</td>\n",
       "      <td>7712</td>\n",
       "      <td>4299</td>\n",
       "      <td>45936</td>\n",
       "      <td>45485</td>\n",
       "      <td>42323</td>\n",
       "      <td>44557</td>\n",
       "      <td>57921</td>\n",
       "    </tr>\n",
       "    <tr>\n",
       "      <th>POSITIVO NÃO-ESPECIFICADO</th>\n",
       "      <td>8236</td>\n",
       "      <td>1136</td>\n",
       "      <td>3603</td>\n",
       "      <td>3909</td>\n",
       "      <td>1118</td>\n",
       "      <td>17513</td>\n",
       "      <td>17729</td>\n",
       "      <td>15140</td>\n",
       "      <td>16956</td>\n",
       "      <td>23250</td>\n",
       "    </tr>\n",
       "  </tbody>\n",
       "</table>\n",
       "</div>"
      ],
      "text/plain": [
       "                           Outros  Distúrbios Gustativos  Dispneia  \\\n",
       "Resultado                                                            \n",
       "NEGATIVO                    18195                   4449     12536   \n",
       "POSITIVO                    12678                   4583      8151   \n",
       "POSITIVO NÃO-ESPECIFICADO    8236                   1136      3603   \n",
       "\n",
       "                           Assintomático  Distúrbios Olfativos  \\\n",
       "Resultado                                                        \n",
       "NEGATIVO                           31989                  4127   \n",
       "POSITIVO                            7712                  4299   \n",
       "POSITIVO NÃO-ESPECIFICADO           3909                  1118   \n",
       "\n",
       "                           Dor de Garganta  Coriza  Dor de Cabeça  Febre  \\\n",
       "Resultado                                                                  \n",
       "NEGATIVO                             55290   54943          51966  50086   \n",
       "POSITIVO                             45936   45485          42323  44557   \n",
       "POSITIVO NÃO-ESPECIFICADO            17513   17729          15140  16956   \n",
       "\n",
       "                           Tosse  \n",
       "Resultado                         \n",
       "NEGATIVO                   71038  \n",
       "POSITIVO                   57921  \n",
       "POSITIVO NÃO-ESPECIFICADO  23250  "
      ]
     },
     "execution_count": 6,
     "metadata": {},
     "output_type": "execute_result"
    }
   ],
   "source": [
    "matriz = dataset.groupby('Resultado').sum(); matriz"
   ]
  },
  {
   "cell_type": "code",
   "execution_count": 7,
   "id": "cf837d3d",
   "metadata": {},
   "outputs": [],
   "source": [
    "i = 0\n",
    "for classe in total_de_classes:\n",
    "    matriz.loc[total_de_classes.index[i]] = matriz.loc[total_de_classes.index[i]] / classe\n",
    "    i += 1"
   ]
  },
  {
   "cell_type": "code",
   "execution_count": 10,
   "id": "bd62e1f7",
   "metadata": {},
   "outputs": [
    {
     "data": {
      "text/html": [
       "<div>\n",
       "<style scoped>\n",
       "    .dataframe tbody tr th:only-of-type {\n",
       "        vertical-align: middle;\n",
       "    }\n",
       "\n",
       "    .dataframe tbody tr th {\n",
       "        vertical-align: top;\n",
       "    }\n",
       "\n",
       "    .dataframe thead th {\n",
       "        text-align: right;\n",
       "    }\n",
       "</style>\n",
       "<table border=\"1\" class=\"dataframe\">\n",
       "  <thead>\n",
       "    <tr style=\"text-align: right;\">\n",
       "      <th></th>\n",
       "      <th>Outros</th>\n",
       "      <th>Distúrbios Gustativos</th>\n",
       "      <th>Dispneia</th>\n",
       "      <th>Assintomático</th>\n",
       "      <th>Distúrbios Olfativos</th>\n",
       "      <th>Dor de Garganta</th>\n",
       "      <th>Coriza</th>\n",
       "      <th>Dor de Cabeça</th>\n",
       "      <th>Febre</th>\n",
       "      <th>Tosse</th>\n",
       "    </tr>\n",
       "    <tr>\n",
       "      <th>Resultado</th>\n",
       "      <th></th>\n",
       "      <th></th>\n",
       "      <th></th>\n",
       "      <th></th>\n",
       "      <th></th>\n",
       "      <th></th>\n",
       "      <th></th>\n",
       "      <th></th>\n",
       "      <th></th>\n",
       "      <th></th>\n",
       "    </tr>\n",
       "  </thead>\n",
       "  <tbody>\n",
       "    <tr>\n",
       "      <th>NEGATIVO</th>\n",
       "      <td>12.823585</td>\n",
       "      <td>3.135594</td>\n",
       "      <td>8.835200</td>\n",
       "      <td>22.545406</td>\n",
       "      <td>2.908653</td>\n",
       "      <td>38.967629</td>\n",
       "      <td>38.723068</td>\n",
       "      <td>36.624920</td>\n",
       "      <td>35.299922</td>\n",
       "      <td>50.066602</td>\n",
       "    </tr>\n",
       "    <tr>\n",
       "      <th>POSITIVO</th>\n",
       "      <td>13.933706</td>\n",
       "      <td>5.036928</td>\n",
       "      <td>8.958324</td>\n",
       "      <td>8.475843</td>\n",
       "      <td>4.724799</td>\n",
       "      <td>50.485778</td>\n",
       "      <td>49.990109</td>\n",
       "      <td>46.514925</td>\n",
       "      <td>48.970194</td>\n",
       "      <td>63.657845</td>\n",
       "    </tr>\n",
       "    <tr>\n",
       "      <th>POSITIVO NÃO-ESPECIFICADO</th>\n",
       "      <td>21.226257</td>\n",
       "      <td>2.927760</td>\n",
       "      <td>9.285843</td>\n",
       "      <td>10.074483</td>\n",
       "      <td>2.881369</td>\n",
       "      <td>45.135435</td>\n",
       "      <td>45.692121</td>\n",
       "      <td>39.019613</td>\n",
       "      <td>43.699905</td>\n",
       "      <td>59.921136</td>\n",
       "    </tr>\n",
       "  </tbody>\n",
       "</table>\n",
       "</div>"
      ],
      "text/plain": [
       "                              Outros  Distúrbios Gustativos  Dispneia  \\\n",
       "Resultado                                                               \n",
       "NEGATIVO                   12.823585               3.135594  8.835200   \n",
       "POSITIVO                   13.933706               5.036928  8.958324   \n",
       "POSITIVO NÃO-ESPECIFICADO  21.226257               2.927760  9.285843   \n",
       "\n",
       "                           Assintomático  Distúrbios Olfativos  \\\n",
       "Resultado                                                        \n",
       "NEGATIVO                       22.545406              2.908653   \n",
       "POSITIVO                        8.475843              4.724799   \n",
       "POSITIVO NÃO-ESPECIFICADO      10.074483              2.881369   \n",
       "\n",
       "                           Dor de Garganta     Coriza  Dor de Cabeça  \\\n",
       "Resultado                                                              \n",
       "NEGATIVO                         38.967629  38.723068      36.624920   \n",
       "POSITIVO                         50.485778  49.990109      46.514925   \n",
       "POSITIVO NÃO-ESPECIFICADO        45.135435  45.692121      39.019613   \n",
       "\n",
       "                               Febre      Tosse  \n",
       "Resultado                                        \n",
       "NEGATIVO                   35.299922  50.066602  \n",
       "POSITIVO                   48.970194  63.657845  \n",
       "POSITIVO NÃO-ESPECIFICADO  43.699905  59.921136  "
      ]
     },
     "execution_count": 10,
     "metadata": {},
     "output_type": "execute_result"
    }
   ],
   "source": [
    "matriz * 100"
   ]
  },
  {
   "cell_type": "code",
   "execution_count": 11,
   "id": "547fec65",
   "metadata": {},
   "outputs": [
    {
     "data": {
      "text/plain": [
       "<AxesSubplot:title={'center':'Sintomas da Sindrome Gripal em casos Positivos'}, xlabel='Porcentagem dos casos', ylabel='Sintoma'>"
      ]
     },
     "execution_count": 11,
     "metadata": {},
     "output_type": "execute_result"
    },
    {
     "data": {
      "image/png": "[encoded data removed]",
      "text/plain": [
       "<Figure size 1000x500 with 1 Axes>"
      ]
     },
     "metadata": {},
     "output_type": "display_data"
    }
   ],
   "source": [
    "positivos = dataset.query('Resultado == \"POSITIVO\"') \n",
    "\n",
    "sintomas_positivos = positivos.iloc[:, :-1].sum() / len(positivos) * 100\n",
    "\n",
    "sintomas_positivos = sintomas_positivos.sort_values(ascending=False)\n",
    "\n",
    "sns.set_style('darkgrid')\n",
    "\n",
    "plt.figure(figsize=(10, 5))\n",
    "plt.title('Sintomas da Sindrome Gripal em casos Positivos')\n",
    "plt.xlabel('Porcentagem dos casos')\n",
    "plt.ylabel('Sintoma')\n",
    "\n",
    "\n",
    "sns.barplot(y = sintomas_positivos.index, x = sintomas_positivos.values, palette='magma')"
   ]
  },
  {
   "cell_type": "code",
   "execution_count": 12,
   "id": "632cdcf5",
   "metadata": {},
   "outputs": [
    {
     "data": {
      "text/plain": [
       "<AxesSubplot:title={'center':'Sintomas da Sindrome Gripal em casos Negativos'}, xlabel='Porcentagem dos casos', ylabel='Sintoma'>"
      ]
     },
     "execution_count": 12,
     "metadata": {},
     "output_type": "execute_result"
    },
    {
     "data": {
      "image/png": "[encoded data removed]",
      "text/plain": [
       "<Figure size 1000x500 with 1 Axes>"
      ]
     },
     "metadata": {},
     "output_type": "display_data"
    }
   ],
   "source": [
    "negativos = dataset.query('Resultado == \"NEGATIVO\"') \n",
    "\n",
    "sintomas_negativos = negativos.iloc[:, :-1].sum() / len(negativos) * 100\n",
    "\n",
    "sintomas_negativos = sintomas_negativos.sort_values(ascending=False)\n",
    "\n",
    "sns.set_style('darkgrid')\n",
    "\n",
    "plt.figure(figsize=(10, 5))\n",
    "plt.title('Sintomas da Sindrome Gripal em casos Negativos')\n",
    "plt.xlabel('Porcentagem dos casos')\n",
    "plt.ylabel('Sintoma')\n",
    "\n",
    "\n",
    "sns.barplot(y = sintomas_negativos.index, x = sintomas_negativos.values, palette='magma')"
   ]
  },
  {
   "cell_type": "code",
   "execution_count": 13,
   "id": "7337b0c0",
   "metadata": {},
   "outputs": [
    {
     "data": {
      "text/plain": [
       "Tosse                    63.657845\n",
       "Dor de Garganta          50.485778\n",
       "Coriza                   49.990109\n",
       "Febre                    48.970194\n",
       "Dor de Cabeça            46.514925\n",
       "Outros                   13.933706\n",
       "Dispneia                  8.958324\n",
       "Assintomático             8.475843\n",
       "Distúrbios Gustativos     5.036928\n",
       "Distúrbios Olfativos      4.724799\n",
       "dtype: float64"
      ]
     },
     "execution_count": 13,
     "metadata": {},
     "output_type": "execute_result"
    }
   ],
   "source": [
    "sintomas_positivos"
   ]
  },
  {
   "cell_type": "code",
   "execution_count": 14,
   "id": "87203ac0",
   "metadata": {
    "scrolled": true
   },
   "outputs": [
    {
     "data": {
      "text/plain": [
       "Tosse                    50.066602\n",
       "Dor de Garganta          38.967629\n",
       "Coriza                   38.723068\n",
       "Dor de Cabeça            36.624920\n",
       "Febre                    35.299922\n",
       "Assintomático            22.545406\n",
       "Outros                   12.823585\n",
       "Dispneia                  8.835200\n",
       "Distúrbios Gustativos     3.135594\n",
       "Distúrbios Olfativos      2.908653\n",
       "dtype: float64"
      ]
     },
     "execution_count": 14,
     "metadata": {},
     "output_type": "execute_result"
    }
   ],
   "source": [
    "sintomas_negativos"
   ]
  },
  {
   "cell_type": "code",
   "execution_count": 15,
   "id": "693b0462",
   "metadata": {},
   "outputs": [],
   "source": [
    "sintomas = pd.concat([sintomas_positivos.sort_index(), sintomas_negativos.sort_index()], axis=1)"
   ]
  },
  {
   "cell_type": "code",
   "execution_count": 16,
   "id": "35be6caa",
   "metadata": {},
   "outputs": [],
   "source": [
    "sintomas.columns = [\"Negativos\", \"Positivos\"]"
   ]
  },
  {
   "cell_type": "code",
   "execution_count": 17,
   "id": "f496b67b",
   "metadata": {},
   "outputs": [
    {
     "data": {
      "text/html": [
       "<div>\n",
       "<style scoped>\n",
       "    .dataframe tbody tr th:only-of-type {\n",
       "        vertical-align: middle;\n",
       "    }\n",
       "\n",
       "    .dataframe tbody tr th {\n",
       "        vertical-align: top;\n",
       "    }\n",
       "\n",
       "    .dataframe thead th {\n",
       "        text-align: right;\n",
       "    }\n",
       "</style>\n",
       "<table border=\"1\" class=\"dataframe\">\n",
       "  <thead>\n",
       "    <tr style=\"text-align: right;\">\n",
       "      <th></th>\n",
       "      <th>Negativos</th>\n",
       "      <th>Positivos</th>\n",
       "    </tr>\n",
       "  </thead>\n",
       "  <tbody>\n",
       "    <tr>\n",
       "      <th>Assintomático</th>\n",
       "      <td>8.475843</td>\n",
       "      <td>22.545406</td>\n",
       "    </tr>\n",
       "    <tr>\n",
       "      <th>Coriza</th>\n",
       "      <td>49.990109</td>\n",
       "      <td>38.723068</td>\n",
       "    </tr>\n",
       "    <tr>\n",
       "      <th>Dispneia</th>\n",
       "      <td>8.958324</td>\n",
       "      <td>8.835200</td>\n",
       "    </tr>\n",
       "    <tr>\n",
       "      <th>Distúrbios Gustativos</th>\n",
       "      <td>5.036928</td>\n",
       "      <td>3.135594</td>\n",
       "    </tr>\n",
       "    <tr>\n",
       "      <th>Distúrbios Olfativos</th>\n",
       "      <td>4.724799</td>\n",
       "      <td>2.908653</td>\n",
       "    </tr>\n",
       "    <tr>\n",
       "      <th>Dor de Cabeça</th>\n",
       "      <td>46.514925</td>\n",
       "      <td>36.624920</td>\n",
       "    </tr>\n",
       "    <tr>\n",
       "      <th>Dor de Garganta</th>\n",
       "      <td>50.485778</td>\n",
       "      <td>38.967629</td>\n",
       "    </tr>\n",
       "    <tr>\n",
       "      <th>Febre</th>\n",
       "      <td>48.970194</td>\n",
       "      <td>35.299922</td>\n",
       "    </tr>\n",
       "    <tr>\n",
       "      <th>Outros</th>\n",
       "      <td>13.933706</td>\n",
       "      <td>12.823585</td>\n",
       "    </tr>\n",
       "    <tr>\n",
       "      <th>Tosse</th>\n",
       "      <td>63.657845</td>\n",
       "      <td>50.066602</td>\n",
       "    </tr>\n",
       "  </tbody>\n",
       "</table>\n",
       "</div>"
      ],
      "text/plain": [
       "                       Negativos  Positivos\n",
       "Assintomático           8.475843  22.545406\n",
       "Coriza                 49.990109  38.723068\n",
       "Dispneia                8.958324   8.835200\n",
       "Distúrbios Gustativos   5.036928   3.135594\n",
       "Distúrbios Olfativos    4.724799   2.908653\n",
       "Dor de Cabeça          46.514925  36.624920\n",
       "Dor de Garganta        50.485778  38.967629\n",
       "Febre                  48.970194  35.299922\n",
       "Outros                 13.933706  12.823585\n",
       "Tosse                  63.657845  50.066602"
      ]
     },
     "execution_count": 17,
     "metadata": {},
     "output_type": "execute_result"
    }
   ],
   "source": [
    "sintomas"
   ]
  },
  {
   "cell_type": "code",
   "execution_count": 18,
   "id": "744caa4e",
   "metadata": {},
   "outputs": [],
   "source": [
    "sintomas = sintomas.sort_values(by='Positivos', ascending=False)"
   ]
  },
  {
   "cell_type": "code",
   "execution_count": 19,
   "id": "e18f9cf9",
   "metadata": {},
   "outputs": [],
   "source": [
    "plt.show()"
   ]
  },
  {
   "cell_type": "code",
   "execution_count": 20,
   "id": "f892a837",
   "metadata": {},
   "outputs": [
    {
     "data": {
      "image/png": "[encoded data removed]",
      "text/plain": [
       "<Figure size 1000x500 with 1 Axes>"
      ]
     },
     "metadata": {},
     "output_type": "display_data"
    }
   ],
   "source": [
    "plt.figure(figsize=(10, 5))\n",
    "plt.title('Comparação entre positivo e negativo')\n",
    "plt.xlabel('Porcentagem dos casos')\n",
    "plt.ylabel('Sintoma')\n",
    "\n",
    "sns.barplot(y=sintomas.index, x=sintomas.Negativos, color='#0b611a')\n",
    "sns.barplot(y=sintomas.index, x=sintomas.Positivos, color='#c4102b')\n",
    "\n",
    "plt.legend(['Negativo', 'Positivo'])\n",
    "\n",
    "plt.show()"
   ]
  },
  {
   "cell_type": "code",
   "execution_count": 21,
   "id": "69a1181c",
   "metadata": {},
   "outputs": [
    {
     "data": {
      "image/png": "[encoded data removed]",
      "text/plain": [
       "<Figure size 1000x500 with 1 Axes>"
      ]
     },
     "metadata": {},
     "output_type": "display_data"
    }
   ],
   "source": [
    "plt.figure(figsize=(10, 5))\n",
    "plt.title('Comparação entre positivo e negativo')\n",
    "plt.xlabel('Porcentagem dos casos')\n",
    "plt.ylabel('Sintoma')\n",
    "\n",
    "sns.barplot(y=sintomas.index, x=sintomas.Positivos, color='#c4102b')\n",
    "sns.barplot(y=sintomas.index, x=sintomas.Negativos, color='#0b611a')\n",
    "\n",
    "plt.legend(['Negativo', 'Positivo'])\n",
    "\n",
    "plt.show()"
   ]
  },
  {
   "cell_type": "markdown",
   "id": "afa03ea6",
   "metadata": {},
   "source": [
    "# 3 - Modelagem"
   ]
  },
  {
   "cell_type": "code",
   "execution_count": 22,
   "id": "4ef56026",
   "metadata": {},
   "outputs": [],
   "source": [
    "from sklearn.neighbors import KNeighborsClassifier\n",
    "from sklearn.svm import SVC"
   ]
  },
  {
   "cell_type": "code",
   "execution_count": 23,
   "id": "11ce6a2c",
   "metadata": {},
   "outputs": [],
   "source": [
    "x = dataset.iloc[:, :-1]\n",
    "y = dataset['Resultado']"
   ]
  },
  {
   "cell_type": "code",
   "execution_count": 24,
   "id": "9d5feb4f",
   "metadata": {},
   "outputs": [],
   "source": [
    "x_train, x_test, y_train, y_test = train_test_split(x, y, random_state=100, stratify=y)"
   ]
  },
  {
   "cell_type": "code",
   "execution_count": 25,
   "id": "c1c4ae24",
   "metadata": {},
   "outputs": [],
   "source": [
    "def avaliar_modelo(modelo):\n",
    "    modelo.fit(x_train, y_train)\n",
    "    y_pred = modelo.predict(x_test)\n",
    "    \n",
    "    return accuracy_score(y_test, y_pred)"
   ]
  },
  {
   "cell_type": "code",
   "execution_count": 26,
   "id": "34f53908",
   "metadata": {},
   "outputs": [
    {
     "data": {
      "text/plain": [
       "0.5222691735744048"
      ]
     },
     "execution_count": 26,
     "metadata": {},
     "output_type": "execute_result"
    }
   ],
   "source": [
    "avaliar_modelo(DummyClassifier())"
   ]
  },
  {
   "cell_type": "code",
   "execution_count": 28,
   "id": "39876fd2",
   "metadata": {},
   "outputs": [
    {
     "data": {
      "text/plain": [
       "0.5241684948247177"
      ]
     },
     "execution_count": 28,
     "metadata": {},
     "output_type": "execute_result"
    }
   ],
   "source": [
    "avaliar_modelo(DecisionTreeClassifier())"
   ]
  },
  {
   "cell_type": "code",
   "execution_count": null,
   "id": "153478e6",
   "metadata": {},
   "outputs": [],
   "source": [
    "avaliar_modelo(KNeighborsClassifier())"
   ]
  },
  {
   "cell_type": "code",
   "execution_count": null,
   "id": "efe9fcdf",
   "metadata": {},
   "outputs": [],
   "source": [
    "avaliar_modelo(SVC())"
   ]
  },
  {
   "cell_type": "code",
   "execution_count": null,
   "id": "6841dbcf",
   "metadata": {},
   "outputs": [],
   "source": []
  }
 ],
 "metadata": {
  "kernelspec": {
   "display_name": "Python 3 (ipykernel)",
   "language": "python",
   "name": "python3"
  },
  "language_info": {
   "codemirror_mode": {
    "name": "ipython",
    "version": 3
   },
   "file_extension": ".py",
   "mimetype": "text/x-python",
   "name": "python",
   "nbconvert_exporter": "python",
   "pygments_lexer": "ipython3",
   "version": "3.9.13"
  }
 },
 "nbformat": 4,
 "nbformat_minor": 5
}
