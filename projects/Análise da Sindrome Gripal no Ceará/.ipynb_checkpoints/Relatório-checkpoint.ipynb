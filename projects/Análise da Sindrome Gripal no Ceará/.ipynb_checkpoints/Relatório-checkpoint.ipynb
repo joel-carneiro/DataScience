{
 "cells": [
  {
   "cell_type": "markdown",
   "id": "f819c383",
   "metadata": {},
   "source": [
    "# Análise de Sindrome Gripal no Ceará"
   ]
  },
  {
   "cell_type": "markdown",
   "id": "6659174d",
   "metadata": {},
   "source": [
    "# 1 - Introdução"
   ]
  },
  {
   "cell_type": "markdown",
   "id": "480f9c30",
   "metadata": {},
   "source": [
    "## 1.1 - Coleta de Dados"
   ]
  },
  {
   "cell_type": "code",
   "execution_count": 10,
   "id": "ceb59e7a",
   "metadata": {},
   "outputs": [],
   "source": [
    "import pandas as pd\n",
    "import matplotlib.pyplot as plt\n",
    "import seaborn as sns"
   ]
  },
  {
   "cell_type": "code",
   "execution_count": 11,
   "id": "6d9dfbec",
   "metadata": {},
   "outputs": [],
   "source": [
    "dataset = pd.read_csv('/home/jdspy/Documentos/datasets/sindrome_gripal_ceara.csv')"
   ]
  },
  {
   "cell_type": "code",
   "execution_count": 12,
   "id": "69f2e65e",
   "metadata": {},
   "outputs": [
    {
     "data": {
      "text/html": [
       "<div>\n",
       "<style scoped>\n",
       "    .dataframe tbody tr th:only-of-type {\n",
       "        vertical-align: middle;\n",
       "    }\n",
       "\n",
       "    .dataframe tbody tr th {\n",
       "        vertical-align: top;\n",
       "    }\n",
       "\n",
       "    .dataframe thead th {\n",
       "        text-align: right;\n",
       "    }\n",
       "</style>\n",
       "<table border=\"1\" class=\"dataframe\">\n",
       "  <thead>\n",
       "    <tr style=\"text-align: right;\">\n",
       "      <th></th>\n",
       "      <th>Coriza</th>\n",
       "      <th>Dor de Cabeça</th>\n",
       "      <th>Febre</th>\n",
       "      <th>Outros</th>\n",
       "      <th>Dor de Garganta</th>\n",
       "      <th>Assintomático</th>\n",
       "      <th>Distúrbios Olfativos</th>\n",
       "      <th>Distúrbios Gustativos</th>\n",
       "      <th>Tosse</th>\n",
       "      <th>Dispneia</th>\n",
       "      <th>Resultado</th>\n",
       "    </tr>\n",
       "  </thead>\n",
       "  <tbody>\n",
       "    <tr>\n",
       "      <th>0</th>\n",
       "      <td>1</td>\n",
       "      <td>1</td>\n",
       "      <td>1</td>\n",
       "      <td>0</td>\n",
       "      <td>1</td>\n",
       "      <td>0</td>\n",
       "      <td>0</td>\n",
       "      <td>0</td>\n",
       "      <td>1</td>\n",
       "      <td>0</td>\n",
       "      <td>POSITIVO</td>\n",
       "    </tr>\n",
       "    <tr>\n",
       "      <th>1</th>\n",
       "      <td>1</td>\n",
       "      <td>0</td>\n",
       "      <td>0</td>\n",
       "      <td>0</td>\n",
       "      <td>1</td>\n",
       "      <td>0</td>\n",
       "      <td>0</td>\n",
       "      <td>0</td>\n",
       "      <td>0</td>\n",
       "      <td>0</td>\n",
       "      <td>NEGATIVO</td>\n",
       "    </tr>\n",
       "    <tr>\n",
       "      <th>2</th>\n",
       "      <td>1</td>\n",
       "      <td>0</td>\n",
       "      <td>1</td>\n",
       "      <td>0</td>\n",
       "      <td>1</td>\n",
       "      <td>0</td>\n",
       "      <td>0</td>\n",
       "      <td>0</td>\n",
       "      <td>0</td>\n",
       "      <td>0</td>\n",
       "      <td>NEGATIVO</td>\n",
       "    </tr>\n",
       "    <tr>\n",
       "      <th>3</th>\n",
       "      <td>1</td>\n",
       "      <td>0</td>\n",
       "      <td>0</td>\n",
       "      <td>0</td>\n",
       "      <td>1</td>\n",
       "      <td>0</td>\n",
       "      <td>0</td>\n",
       "      <td>0</td>\n",
       "      <td>1</td>\n",
       "      <td>0</td>\n",
       "      <td>POSITIVO</td>\n",
       "    </tr>\n",
       "    <tr>\n",
       "      <th>4</th>\n",
       "      <td>0</td>\n",
       "      <td>0</td>\n",
       "      <td>1</td>\n",
       "      <td>0</td>\n",
       "      <td>1</td>\n",
       "      <td>0</td>\n",
       "      <td>0</td>\n",
       "      <td>0</td>\n",
       "      <td>1</td>\n",
       "      <td>0</td>\n",
       "      <td>POSITIVO NÃO-ESPECIFICADO</td>\n",
       "    </tr>\n",
       "  </tbody>\n",
       "</table>\n",
       "</div>"
      ],
      "text/plain": [
       "   Coriza  Dor de Cabeça  Febre  Outros  Dor de Garganta  Assintomático  \\\n",
       "0       1              1      1       0                1              0   \n",
       "1       1              0      0       0                1              0   \n",
       "2       1              0      1       0                1              0   \n",
       "3       1              0      0       0                1              0   \n",
       "4       0              0      1       0                1              0   \n",
       "\n",
       "   Distúrbios Olfativos  Distúrbios Gustativos  Tosse  Dispneia  \\\n",
       "0                     0                      0      1         0   \n",
       "1                     0                      0      0         0   \n",
       "2                     0                      0      0         0   \n",
       "3                     0                      0      1         0   \n",
       "4                     0                      0      1         0   \n",
       "\n",
       "                   Resultado  \n",
       "0                   POSITIVO  \n",
       "1                   NEGATIVO  \n",
       "2                   NEGATIVO  \n",
       "3                   POSITIVO  \n",
       "4  POSITIVO NÃO-ESPECIFICADO  "
      ]
     },
     "execution_count": 12,
     "metadata": {},
     "output_type": "execute_result"
    }
   ],
   "source": [
    "dataset.head()"
   ]
  },
  {
   "cell_type": "markdown",
   "id": "7f4fc4ba",
   "metadata": {},
   "source": [
    "## 1.2 - Primeiras Impressões"
   ]
  },
  {
   "cell_type": "code",
   "execution_count": 14,
   "id": "e1388b04",
   "metadata": {},
   "outputs": [
    {
     "data": {
      "text/html": [
       "<div>\n",
       "<style scoped>\n",
       "    .dataframe tbody tr th:only-of-type {\n",
       "        vertical-align: middle;\n",
       "    }\n",
       "\n",
       "    .dataframe tbody tr th {\n",
       "        vertical-align: top;\n",
       "    }\n",
       "\n",
       "    .dataframe thead th {\n",
       "        text-align: right;\n",
       "    }\n",
       "</style>\n",
       "<table border=\"1\" class=\"dataframe\">\n",
       "  <thead>\n",
       "    <tr style=\"text-align: right;\">\n",
       "      <th></th>\n",
       "      <th>Coriza</th>\n",
       "      <th>Dor de Cabeça</th>\n",
       "      <th>Febre</th>\n",
       "      <th>Outros</th>\n",
       "      <th>Dor de Garganta</th>\n",
       "      <th>Assintomático</th>\n",
       "      <th>Distúrbios Olfativos</th>\n",
       "      <th>Distúrbios Gustativos</th>\n",
       "      <th>Tosse</th>\n",
       "      <th>Dispneia</th>\n",
       "      <th>Resultado</th>\n",
       "    </tr>\n",
       "  </thead>\n",
       "  <tbody>\n",
       "    <tr>\n",
       "      <th>0</th>\n",
       "      <td>1</td>\n",
       "      <td>1</td>\n",
       "      <td>1</td>\n",
       "      <td>0</td>\n",
       "      <td>1</td>\n",
       "      <td>0</td>\n",
       "      <td>0</td>\n",
       "      <td>0</td>\n",
       "      <td>1</td>\n",
       "      <td>0</td>\n",
       "      <td>POSITIVO</td>\n",
       "    </tr>\n",
       "    <tr>\n",
       "      <th>1</th>\n",
       "      <td>1</td>\n",
       "      <td>0</td>\n",
       "      <td>0</td>\n",
       "      <td>0</td>\n",
       "      <td>1</td>\n",
       "      <td>0</td>\n",
       "      <td>0</td>\n",
       "      <td>0</td>\n",
       "      <td>0</td>\n",
       "      <td>0</td>\n",
       "      <td>NEGATIVO</td>\n",
       "    </tr>\n",
       "    <tr>\n",
       "      <th>2</th>\n",
       "      <td>1</td>\n",
       "      <td>0</td>\n",
       "      <td>1</td>\n",
       "      <td>0</td>\n",
       "      <td>1</td>\n",
       "      <td>0</td>\n",
       "      <td>0</td>\n",
       "      <td>0</td>\n",
       "      <td>0</td>\n",
       "      <td>0</td>\n",
       "      <td>NEGATIVO</td>\n",
       "    </tr>\n",
       "    <tr>\n",
       "      <th>3</th>\n",
       "      <td>1</td>\n",
       "      <td>0</td>\n",
       "      <td>0</td>\n",
       "      <td>0</td>\n",
       "      <td>1</td>\n",
       "      <td>0</td>\n",
       "      <td>0</td>\n",
       "      <td>0</td>\n",
       "      <td>1</td>\n",
       "      <td>0</td>\n",
       "      <td>POSITIVO</td>\n",
       "    </tr>\n",
       "    <tr>\n",
       "      <th>4</th>\n",
       "      <td>0</td>\n",
       "      <td>0</td>\n",
       "      <td>1</td>\n",
       "      <td>0</td>\n",
       "      <td>1</td>\n",
       "      <td>0</td>\n",
       "      <td>0</td>\n",
       "      <td>0</td>\n",
       "      <td>1</td>\n",
       "      <td>0</td>\n",
       "      <td>POSITIVO NÃO-ESPECIFICADO</td>\n",
       "    </tr>\n",
       "    <tr>\n",
       "      <th>...</th>\n",
       "      <td>...</td>\n",
       "      <td>...</td>\n",
       "      <td>...</td>\n",
       "      <td>...</td>\n",
       "      <td>...</td>\n",
       "      <td>...</td>\n",
       "      <td>...</td>\n",
       "      <td>...</td>\n",
       "      <td>...</td>\n",
       "      <td>...</td>\n",
       "      <td>...</td>\n",
       "    </tr>\n",
       "    <tr>\n",
       "      <th>271671</th>\n",
       "      <td>1</td>\n",
       "      <td>0</td>\n",
       "      <td>0</td>\n",
       "      <td>0</td>\n",
       "      <td>1</td>\n",
       "      <td>0</td>\n",
       "      <td>0</td>\n",
       "      <td>1</td>\n",
       "      <td>1</td>\n",
       "      <td>0</td>\n",
       "      <td>POSITIVO</td>\n",
       "    </tr>\n",
       "    <tr>\n",
       "      <th>271672</th>\n",
       "      <td>1</td>\n",
       "      <td>1</td>\n",
       "      <td>1</td>\n",
       "      <td>1</td>\n",
       "      <td>0</td>\n",
       "      <td>0</td>\n",
       "      <td>0</td>\n",
       "      <td>0</td>\n",
       "      <td>0</td>\n",
       "      <td>0</td>\n",
       "      <td>NEGATIVO</td>\n",
       "    </tr>\n",
       "    <tr>\n",
       "      <th>271673</th>\n",
       "      <td>1</td>\n",
       "      <td>1</td>\n",
       "      <td>1</td>\n",
       "      <td>0</td>\n",
       "      <td>0</td>\n",
       "      <td>0</td>\n",
       "      <td>0</td>\n",
       "      <td>0</td>\n",
       "      <td>0</td>\n",
       "      <td>1</td>\n",
       "      <td>POSITIVO NÃO-ESPECIFICADO</td>\n",
       "    </tr>\n",
       "    <tr>\n",
       "      <th>271674</th>\n",
       "      <td>0</td>\n",
       "      <td>0</td>\n",
       "      <td>0</td>\n",
       "      <td>0</td>\n",
       "      <td>0</td>\n",
       "      <td>1</td>\n",
       "      <td>0</td>\n",
       "      <td>0</td>\n",
       "      <td>0</td>\n",
       "      <td>0</td>\n",
       "      <td>NEGATIVO</td>\n",
       "    </tr>\n",
       "    <tr>\n",
       "      <th>271675</th>\n",
       "      <td>1</td>\n",
       "      <td>1</td>\n",
       "      <td>0</td>\n",
       "      <td>0</td>\n",
       "      <td>1</td>\n",
       "      <td>0</td>\n",
       "      <td>0</td>\n",
       "      <td>0</td>\n",
       "      <td>1</td>\n",
       "      <td>0</td>\n",
       "      <td>POSITIVO</td>\n",
       "    </tr>\n",
       "  </tbody>\n",
       "</table>\n",
       "<p>271676 rows × 11 columns</p>\n",
       "</div>"
      ],
      "text/plain": [
       "        Coriza  Dor de Cabeça  Febre  Outros  Dor de Garganta  Assintomático  \\\n",
       "0            1              1      1       0                1              0   \n",
       "1            1              0      0       0                1              0   \n",
       "2            1              0      1       0                1              0   \n",
       "3            1              0      0       0                1              0   \n",
       "4            0              0      1       0                1              0   \n",
       "...        ...            ...    ...     ...              ...            ...   \n",
       "271671       1              0      0       0                1              0   \n",
       "271672       1              1      1       1                0              0   \n",
       "271673       1              1      1       0                0              0   \n",
       "271674       0              0      0       0                0              1   \n",
       "271675       1              1      0       0                1              0   \n",
       "\n",
       "        Distúrbios Olfativos  Distúrbios Gustativos  Tosse  Dispneia  \\\n",
       "0                          0                      0      1         0   \n",
       "1                          0                      0      0         0   \n",
       "2                          0                      0      0         0   \n",
       "3                          0                      0      1         0   \n",
       "4                          0                      0      1         0   \n",
       "...                      ...                    ...    ...       ...   \n",
       "271671                     0                      1      1         0   \n",
       "271672                     0                      0      0         0   \n",
       "271673                     0                      0      0         1   \n",
       "271674                     0                      0      0         0   \n",
       "271675                     0                      0      1         0   \n",
       "\n",
       "                        Resultado  \n",
       "0                        POSITIVO  \n",
       "1                        NEGATIVO  \n",
       "2                        NEGATIVO  \n",
       "3                        POSITIVO  \n",
       "4       POSITIVO NÃO-ESPECIFICADO  \n",
       "...                           ...  \n",
       "271671                   POSITIVO  \n",
       "271672                   NEGATIVO  \n",
       "271673  POSITIVO NÃO-ESPECIFICADO  \n",
       "271674                   NEGATIVO  \n",
       "271675                   POSITIVO  \n",
       "\n",
       "[271676 rows x 11 columns]"
      ]
     },
     "execution_count": 14,
     "metadata": {},
     "output_type": "execute_result"
    }
   ],
   "source": [
    "dataset"
   ]
  },
  {
   "cell_type": "code",
   "execution_count": 25,
   "id": "84d1f036",
   "metadata": {},
   "outputs": [
    {
     "data": {
      "text/plain": [
       "NEGATIVO                     141887\n",
       "POSITIVO                      90988\n",
       "POSITIVO NÃO-ESPECIFICADO     38801\n",
       "Name: Resultado, dtype: int64"
      ]
     },
     "execution_count": 25,
     "metadata": {},
     "output_type": "execute_result"
    }
   ],
   "source": [
    "total_de_classes = dataset[\"Resultado\"].value_counts(); total_de_classes"
   ]
  },
  {
   "cell_type": "markdown",
   "id": "06c14232",
   "metadata": {},
   "source": [
    "# 2 - Análise Exploratória de Dados"
   ]
  },
  {
   "cell_type": "markdown",
   "id": "996ba7ab",
   "metadata": {},
   "source": [
    "## 2.1 - Separação de Classes"
   ]
  },
  {
   "cell_type": "code",
   "execution_count": 29,
   "id": "6dbff915",
   "metadata": {},
   "outputs": [
    {
     "data": {
      "text/html": [
       "<div>\n",
       "<style scoped>\n",
       "    .dataframe tbody tr th:only-of-type {\n",
       "        vertical-align: middle;\n",
       "    }\n",
       "\n",
       "    .dataframe tbody tr th {\n",
       "        vertical-align: top;\n",
       "    }\n",
       "\n",
       "    .dataframe thead th {\n",
       "        text-align: right;\n",
       "    }\n",
       "</style>\n",
       "<table border=\"1\" class=\"dataframe\">\n",
       "  <thead>\n",
       "    <tr style=\"text-align: right;\">\n",
       "      <th></th>\n",
       "      <th>Coriza</th>\n",
       "      <th>Dor de Cabeça</th>\n",
       "      <th>Febre</th>\n",
       "      <th>Outros</th>\n",
       "      <th>Dor de Garganta</th>\n",
       "      <th>Assintomático</th>\n",
       "      <th>Distúrbios Olfativos</th>\n",
       "      <th>Distúrbios Gustativos</th>\n",
       "      <th>Tosse</th>\n",
       "      <th>Dispneia</th>\n",
       "    </tr>\n",
       "    <tr>\n",
       "      <th>Resultado</th>\n",
       "      <th></th>\n",
       "      <th></th>\n",
       "      <th></th>\n",
       "      <th></th>\n",
       "      <th></th>\n",
       "      <th></th>\n",
       "      <th></th>\n",
       "      <th></th>\n",
       "      <th></th>\n",
       "      <th></th>\n",
       "    </tr>\n",
       "  </thead>\n",
       "  <tbody>\n",
       "    <tr>\n",
       "      <th>NEGATIVO</th>\n",
       "      <td>54943</td>\n",
       "      <td>51966</td>\n",
       "      <td>50086</td>\n",
       "      <td>18195</td>\n",
       "      <td>55290</td>\n",
       "      <td>31989</td>\n",
       "      <td>4127</td>\n",
       "      <td>4449</td>\n",
       "      <td>71038</td>\n",
       "      <td>12536</td>\n",
       "    </tr>\n",
       "    <tr>\n",
       "      <th>POSITIVO</th>\n",
       "      <td>45485</td>\n",
       "      <td>42323</td>\n",
       "      <td>44557</td>\n",
       "      <td>12678</td>\n",
       "      <td>45936</td>\n",
       "      <td>7712</td>\n",
       "      <td>4299</td>\n",
       "      <td>4583</td>\n",
       "      <td>57921</td>\n",
       "      <td>8151</td>\n",
       "    </tr>\n",
       "    <tr>\n",
       "      <th>POSITIVO NÃO-ESPECIFICADO</th>\n",
       "      <td>17729</td>\n",
       "      <td>15140</td>\n",
       "      <td>16956</td>\n",
       "      <td>8236</td>\n",
       "      <td>17513</td>\n",
       "      <td>3909</td>\n",
       "      <td>1118</td>\n",
       "      <td>1136</td>\n",
       "      <td>23250</td>\n",
       "      <td>3603</td>\n",
       "    </tr>\n",
       "  </tbody>\n",
       "</table>\n",
       "</div>"
      ],
      "text/plain": [
       "                           Coriza  Dor de Cabeça  Febre  Outros  \\\n",
       "Resultado                                                         \n",
       "NEGATIVO                    54943          51966  50086   18195   \n",
       "POSITIVO                    45485          42323  44557   12678   \n",
       "POSITIVO NÃO-ESPECIFICADO   17729          15140  16956    8236   \n",
       "\n",
       "                           Dor de Garganta  Assintomático  \\\n",
       "Resultado                                                   \n",
       "NEGATIVO                             55290          31989   \n",
       "POSITIVO                             45936           7712   \n",
       "POSITIVO NÃO-ESPECIFICADO            17513           3909   \n",
       "\n",
       "                           Distúrbios Olfativos  Distúrbios Gustativos  Tosse  \\\n",
       "Resultado                                                                       \n",
       "NEGATIVO                                   4127                   4449  71038   \n",
       "POSITIVO                                   4299                   4583  57921   \n",
       "POSITIVO NÃO-ESPECIFICADO                  1118                   1136  23250   \n",
       "\n",
       "                           Dispneia  \n",
       "Resultado                            \n",
       "NEGATIVO                      12536  \n",
       "POSITIVO                       8151  \n",
       "POSITIVO NÃO-ESPECIFICADO      3603  "
      ]
     },
     "execution_count": 29,
     "metadata": {},
     "output_type": "execute_result"
    }
   ],
   "source": [
    "matriz = dataset.groupby('Resultado').sum(); matriz"
   ]
  },
  {
   "cell_type": "code",
   "execution_count": 45,
   "id": "bbd02936",
   "metadata": {},
   "outputs": [],
   "source": [
    "i = 0\n",
    "for classe in total_de_classes:\n",
    "    matriz.loc[total_de_classes.index[i]] = matriz.loc[total_de_classes.index[i]] / classe\n",
    "    i += 1"
   ]
  },
  {
   "cell_type": "code",
   "execution_count": 47,
   "id": "b2a0e0e8",
   "metadata": {},
   "outputs": [
    {
     "data": {
      "text/html": [
       "<div>\n",
       "<style scoped>\n",
       "    .dataframe tbody tr th:only-of-type {\n",
       "        vertical-align: middle;\n",
       "    }\n",
       "\n",
       "    .dataframe tbody tr th {\n",
       "        vertical-align: top;\n",
       "    }\n",
       "\n",
       "    .dataframe thead th {\n",
       "        text-align: right;\n",
       "    }\n",
       "</style>\n",
       "<table border=\"1\" class=\"dataframe\">\n",
       "  <thead>\n",
       "    <tr style=\"text-align: right;\">\n",
       "      <th></th>\n",
       "      <th>Coriza</th>\n",
       "      <th>Dor de Cabeça</th>\n",
       "      <th>Febre</th>\n",
       "      <th>Outros</th>\n",
       "      <th>Dor de Garganta</th>\n",
       "      <th>Assintomático</th>\n",
       "      <th>Distúrbios Olfativos</th>\n",
       "      <th>Distúrbios Gustativos</th>\n",
       "      <th>Tosse</th>\n",
       "      <th>Dispneia</th>\n",
       "    </tr>\n",
       "    <tr>\n",
       "      <th>Resultado</th>\n",
       "      <th></th>\n",
       "      <th></th>\n",
       "      <th></th>\n",
       "      <th></th>\n",
       "      <th></th>\n",
       "      <th></th>\n",
       "      <th></th>\n",
       "      <th></th>\n",
       "      <th></th>\n",
       "      <th></th>\n",
       "    </tr>\n",
       "  </thead>\n",
       "  <tbody>\n",
       "    <tr>\n",
       "      <th>NEGATIVO</th>\n",
       "      <td>38.723068</td>\n",
       "      <td>36.624920</td>\n",
       "      <td>35.299922</td>\n",
       "      <td>12.823585</td>\n",
       "      <td>38.967629</td>\n",
       "      <td>22.545406</td>\n",
       "      <td>2.908653</td>\n",
       "      <td>3.135594</td>\n",
       "      <td>50.066602</td>\n",
       "      <td>8.835200</td>\n",
       "    </tr>\n",
       "    <tr>\n",
       "      <th>POSITIVO</th>\n",
       "      <td>49.990109</td>\n",
       "      <td>46.514925</td>\n",
       "      <td>48.970194</td>\n",
       "      <td>13.933706</td>\n",
       "      <td>50.485778</td>\n",
       "      <td>8.475843</td>\n",
       "      <td>4.724799</td>\n",
       "      <td>5.036928</td>\n",
       "      <td>63.657845</td>\n",
       "      <td>8.958324</td>\n",
       "    </tr>\n",
       "    <tr>\n",
       "      <th>POSITIVO NÃO-ESPECIFICADO</th>\n",
       "      <td>45.692121</td>\n",
       "      <td>39.019613</td>\n",
       "      <td>43.699905</td>\n",
       "      <td>21.226257</td>\n",
       "      <td>45.135435</td>\n",
       "      <td>10.074483</td>\n",
       "      <td>2.881369</td>\n",
       "      <td>2.927760</td>\n",
       "      <td>59.921136</td>\n",
       "      <td>9.285843</td>\n",
       "    </tr>\n",
       "  </tbody>\n",
       "</table>\n",
       "</div>"
      ],
      "text/plain": [
       "                              Coriza  Dor de Cabeça      Febre     Outros  \\\n",
       "Resultado                                                                   \n",
       "NEGATIVO                   38.723068      36.624920  35.299922  12.823585   \n",
       "POSITIVO                   49.990109      46.514925  48.970194  13.933706   \n",
       "POSITIVO NÃO-ESPECIFICADO  45.692121      39.019613  43.699905  21.226257   \n",
       "\n",
       "                           Dor de Garganta  Assintomático  \\\n",
       "Resultado                                                   \n",
       "NEGATIVO                         38.967629      22.545406   \n",
       "POSITIVO                         50.485778       8.475843   \n",
       "POSITIVO NÃO-ESPECIFICADO        45.135435      10.074483   \n",
       "\n",
       "                           Distúrbios Olfativos  Distúrbios Gustativos  \\\n",
       "Resultado                                                                \n",
       "NEGATIVO                               2.908653               3.135594   \n",
       "POSITIVO                               4.724799               5.036928   \n",
       "POSITIVO NÃO-ESPECIFICADO              2.881369               2.927760   \n",
       "\n",
       "                               Tosse  Dispneia  \n",
       "Resultado                                       \n",
       "NEGATIVO                   50.066602  8.835200  \n",
       "POSITIVO                   63.657845  8.958324  \n",
       "POSITIVO NÃO-ESPECIFICADO  59.921136  9.285843  "
      ]
     },
     "execution_count": 47,
     "metadata": {},
     "output_type": "execute_result"
    }
   ],
   "source": [
    "matriz * 100"
   ]
  },
  {
   "cell_type": "code",
   "execution_count": 81,
   "id": "552ce28c",
   "metadata": {},
   "outputs": [
    {
     "data": {
      "text/plain": [
       "<AxesSubplot:title={'center':'Sintomas da Sindrome Gripal em casos Positivos'}, xlabel='Porcentagem dos casos', ylabel='Sintoma'>"
      ]
     },
     "execution_count": 81,
     "metadata": {},
     "output_type": "execute_result"
    },
    {
     "data": {
      "image/png": "[encoded data removed]",
      "text/plain": [
       "<Figure size 1000x500 with 1 Axes>"
      ]
     },
     "metadata": {},
     "output_type": "display_data"
    }
   ],
   "source": [
    "positivos = dataset.query('Resultado == \"POSITIVO\"') \n",
    "\n",
    "sintomas_positivos = positivos.iloc[:, :-1].sum() / len(positivos) * 100\n",
    "\n",
    "sintomas_positivos = sintomas_positivos.sort_values(ascending=False)\n",
    "\n",
    "sns.set_style('darkgrid')\n",
    "\n",
    "plt.figure(figsize=(10, 5))\n",
    "plt.title('Sintomas da Sindrome Gripal em casos Positivos')\n",
    "plt.xlabel('Porcentagem dos casos')\n",
    "plt.ylabel('Sintoma')\n",
    "\n",
    "\n",
    "sns.barplot(y = sintomas_positivos.index, x = sintomas_positivos.values, palette='magma')"
   ]
  },
  {
   "cell_type": "code",
   "execution_count": 82,
   "id": "b7416063",
   "metadata": {},
   "outputs": [
    {
     "data": {
      "text/plain": [
       "<AxesSubplot:title={'center':'Sintomas da Sindrome Gripal em casos Negativos'}, xlabel='Porcentagem dos casos', ylabel='Sintoma'>"
      ]
     },
     "execution_count": 82,
     "metadata": {},
     "output_type": "execute_result"
    },
    {
     "data": {
      "image/png": "[encoded data removed]",
      "text/plain": [
       "<Figure size 1000x500 with 1 Axes>"
      ]
     },
     "metadata": {},
     "output_type": "display_data"
    }
   ],
   "source": [
    "negativos = dataset.query('Resultado == \"NEGATIVO\"') \n",
    "\n",
    "sintomas_negativos = negativos.iloc[:, :-1].sum() / len(negativos) * 100\n",
    "\n",
    "sintomas_negativos = sintomas_negativos.sort_values(ascending=False)\n",
    "\n",
    "sns.set_style('darkgrid')\n",
    "\n",
    "plt.figure(figsize=(10, 5))\n",
    "plt.title('Sintomas da Sindrome Gripal em casos Negativos')\n",
    "plt.xlabel('Porcentagem dos casos')\n",
    "plt.ylabel('Sintoma')\n",
    "\n",
    "\n",
    "sns.barplot(y = sintomas_negativos.index, x = sintomas_negativos.values, palette='magma')"
   ]
  },
  {
   "cell_type": "code",
   "execution_count": 83,
   "id": "fb35ad58",
   "metadata": {},
   "outputs": [
    {
     "data": {
      "text/plain": [
       "Tosse                    63.657845\n",
       "Dor de Garganta          50.485778\n",
       "Coriza                   49.990109\n",
       "Febre                    48.970194\n",
       "Dor de Cabeça            46.514925\n",
       "Outros                   13.933706\n",
       "Dispneia                  8.958324\n",
       "Assintomático             8.475843\n",
       "Distúrbios Gustativos     5.036928\n",
       "Distúrbios Olfativos      4.724799\n",
       "dtype: float64"
      ]
     },
     "execution_count": 83,
     "metadata": {},
     "output_type": "execute_result"
    }
   ],
   "source": [
    "sintomas_positivos"
   ]
  },
  {
   "cell_type": "code",
   "execution_count": 84,
   "id": "c62c151d",
   "metadata": {
    "scrolled": true
   },
   "outputs": [
    {
     "data": {
      "text/plain": [
       "Tosse                    50.066602\n",
       "Dor de Garganta          38.967629\n",
       "Coriza                   38.723068\n",
       "Dor de Cabeça            36.624920\n",
       "Febre                    35.299922\n",
       "Assintomático            22.545406\n",
       "Outros                   12.823585\n",
       "Dispneia                  8.835200\n",
       "Distúrbios Gustativos     3.135594\n",
       "Distúrbios Olfativos      2.908653\n",
       "dtype: float64"
      ]
     },
     "execution_count": 84,
     "metadata": {},
     "output_type": "execute_result"
    }
   ],
   "source": [
    "sintomas_negativos"
   ]
  },
  {
   "cell_type": "code",
   "execution_count": 121,
   "id": "5fe00fb4",
   "metadata": {},
   "outputs": [],
   "source": [
    "sintomas = pd.concat([sintomas_positivos.sort_index(), sintomas_negativos.sort_index()], axis=1)"
   ]
  },
  {
   "cell_type": "code",
   "execution_count": 123,
   "id": "b66014f5",
   "metadata": {},
   "outputs": [],
   "source": [
    "sintomas.columns = [\"Negativos\", \"Positivos\"]"
   ]
  },
  {
   "cell_type": "code",
   "execution_count": 124,
   "id": "665785bc",
   "metadata": {},
   "outputs": [
    {
     "data": {
      "text/html": [
       "<div>\n",
       "<style scoped>\n",
       "    .dataframe tbody tr th:only-of-type {\n",
       "        vertical-align: middle;\n",
       "    }\n",
       "\n",
       "    .dataframe tbody tr th {\n",
       "        vertical-align: top;\n",
       "    }\n",
       "\n",
       "    .dataframe thead th {\n",
       "        text-align: right;\n",
       "    }\n",
       "</style>\n",
       "<table border=\"1\" class=\"dataframe\">\n",
       "  <thead>\n",
       "    <tr style=\"text-align: right;\">\n",
       "      <th></th>\n",
       "      <th>Negativos</th>\n",
       "      <th>Positivos</th>\n",
       "    </tr>\n",
       "  </thead>\n",
       "  <tbody>\n",
       "    <tr>\n",
       "      <th>Assintomático</th>\n",
       "      <td>8.475843</td>\n",
       "      <td>22.545406</td>\n",
       "    </tr>\n",
       "    <tr>\n",
       "      <th>Coriza</th>\n",
       "      <td>49.990109</td>\n",
       "      <td>38.723068</td>\n",
       "    </tr>\n",
       "    <tr>\n",
       "      <th>Dispneia</th>\n",
       "      <td>8.958324</td>\n",
       "      <td>8.835200</td>\n",
       "    </tr>\n",
       "    <tr>\n",
       "      <th>Distúrbios Gustativos</th>\n",
       "      <td>5.036928</td>\n",
       "      <td>3.135594</td>\n",
       "    </tr>\n",
       "    <tr>\n",
       "      <th>Distúrbios Olfativos</th>\n",
       "      <td>4.724799</td>\n",
       "      <td>2.908653</td>\n",
       "    </tr>\n",
       "    <tr>\n",
       "      <th>Dor de Cabeça</th>\n",
       "      <td>46.514925</td>\n",
       "      <td>36.624920</td>\n",
       "    </tr>\n",
       "    <tr>\n",
       "      <th>Dor de Garganta</th>\n",
       "      <td>50.485778</td>\n",
       "      <td>38.967629</td>\n",
       "    </tr>\n",
       "    <tr>\n",
       "      <th>Febre</th>\n",
       "      <td>48.970194</td>\n",
       "      <td>35.299922</td>\n",
       "    </tr>\n",
       "    <tr>\n",
       "      <th>Outros</th>\n",
       "      <td>13.933706</td>\n",
       "      <td>12.823585</td>\n",
       "    </tr>\n",
       "    <tr>\n",
       "      <th>Tosse</th>\n",
       "      <td>63.657845</td>\n",
       "      <td>50.066602</td>\n",
       "    </tr>\n",
       "  </tbody>\n",
       "</table>\n",
       "</div>"
      ],
      "text/plain": [
       "                       Negativos  Positivos\n",
       "Assintomático           8.475843  22.545406\n",
       "Coriza                 49.990109  38.723068\n",
       "Dispneia                8.958324   8.835200\n",
       "Distúrbios Gustativos   5.036928   3.135594\n",
       "Distúrbios Olfativos    4.724799   2.908653\n",
       "Dor de Cabeça          46.514925  36.624920\n",
       "Dor de Garganta        50.485778  38.967629\n",
       "Febre                  48.970194  35.299922\n",
       "Outros                 13.933706  12.823585\n",
       "Tosse                  63.657845  50.066602"
      ]
     },
     "execution_count": 124,
     "metadata": {},
     "output_type": "execute_result"
    }
   ],
   "source": [
    "sintomas"
   ]
  },
  {
   "cell_type": "code",
   "execution_count": 92,
   "id": "98f281f9",
   "metadata": {},
   "outputs": [],
   "source": [
    "plt.show()"
   ]
  },
  {
   "cell_type": "code",
   "execution_count": 118,
   "id": "d20429e7",
   "metadata": {},
   "outputs": [
    {
     "data": {
      "image/png": "[encoded data removed]",
      "text/plain": [
       "<Figure size 1000x500 with 1 Axes>"
      ]
     },
     "metadata": {},
     "output_type": "display_data"
    }
   ],
   "source": [
    "plt.figure(figsize=(10, 5))\n",
    "plt.title('Comparação entre positivo e negativo')\n",
    "plt.xlabel('Porcentagem dos casos')\n",
    "plt.ylabel('Sintoma')\n",
    "\n",
    "sns.barplot(y=sintomas_positivos.index, x=sintomas_positivos.values, color='#0b611a')\n",
    "sns.barplot(y=sintomas_negativos.index, x=sintomas_negativos.values, color='#c4102b')\n",
    "\n",
    "plt.legend(['Negativo', 'Positivo'])\n",
    "\n",
    "plt.show()"
   ]
  },
  {
   "cell_type": "code",
   "execution_count": 119,
   "id": "1823490f",
   "metadata": {},
   "outputs": [
    {
     "data": {
      "text/plain": [
       "<matplotlib.legend.Legend at 0x7f60b8cc6910>"
      ]
     },
     "execution_count": 119,
     "metadata": {},
     "output_type": "execute_result"
    },
    {
     "data": {
      "image/png": "[encoded data removed]",
      "text/plain": [
       "<Figure size 1000x500 with 1 Axes>"
      ]
     },
     "metadata": {},
     "output_type": "display_data"
    }
   ],
   "source": [
    "plt.figure(figsize=(10, 5))\n",
    "plt.title('Comparação entre positivo e negativo')\n",
    "plt.xlabel('Porcentagem dos casos')\n",
    "plt.ylabel('Sintoma')\n",
    "\n",
    "sns.barplot(y=sintomas_negativos.index, x=sintomas_negativos.values, color='#c4102b')\n",
    "sns.barplot(y=sintomas_positivos.index, x=sintomas_positivos.values, color='#0b611a')\n",
    "\n",
    "plt.legend(['Positivo', 'Negativo'])"
   ]
  },
  {
   "cell_type": "code",
   "execution_count": null,
   "id": "eb11c5c6",
   "metadata": {},
   "outputs": [],
   "source": []
  }
 ],
 "metadata": {
  "kernelspec": {
   "display_name": "Python 3 (ipykernel)",
   "language": "python",
   "name": "python3"
  },
  "language_info": {
   "codemirror_mode": {
    "name": "ipython",
    "version": 3
   },
   "file_extension": ".py",
   "mimetype": "text/x-python",
   "name": "python",
   "nbconvert_exporter": "python",
   "pygments_lexer": "ipython3",
   "version": "3.9.13"
  }
 },
 "nbformat": 4,
 "nbformat_minor": 5
}
