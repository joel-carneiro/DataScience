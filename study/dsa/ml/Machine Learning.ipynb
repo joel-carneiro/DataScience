{
 "cells": [
  {
   "cell_type": "markdown",
   "id": "57f831fa",
   "metadata": {},
   "source": [
    "# 1 - Introdução"
   ]
  },
  {
   "cell_type": "markdown",
   "id": "06c09c42",
   "metadata": {},
   "source": [
    "Bem-vindo ao meu Jupyter Notebook, onde eu registro minhas anotações e aprendizados durante minha formação em Machine Learning na Data Science Academy. Aqui, eu registro meus experimentos e descobertas em algoritmos e técnicas de aprendizado de máquina, bem como os desafios e soluções que encontro ao longo do caminho. Este é um registro valioso para mim de minha jornada para se tornar um especialista em Machine Learning e eu espero que possa ser útil para outros também. Vamos começar esta jornada juntos e explorar os mundos da ciência de dados e do aprendizado de máquina!\"\n"
   ]
  },
  {
   "cell_type": "markdown",
   "id": "1f37f260",
   "metadata": {},
   "source": [
    "## 1.1 - Classificação"
   ]
  },
  {
   "cell_type": "markdown",
   "id": "33019269",
   "metadata": {},
   "source": [
    "Machine Learning (ou aprendizado de máquina) é uma inteligência artificial que permite que computadores tomem decisões com a ajuda de algoritmos. Esses algoritmos reconhecem padrões e se tornam capazes de fazer predições. De forma bem simples, o Machine Learning se baseia na construção e no uso de algoritmos que “aprendem” a partir dos dados."
   ]
  },
  {
   "cell_type": "code",
   "execution_count": null,
   "id": "94ca739e",
   "metadata": {},
   "outputs": [],
   "source": []
  }
 ],
 "metadata": {
  "kernelspec": {
   "display_name": "Python 3 (ipykernel)",
   "language": "python",
   "name": "python3"
  },
  "language_info": {
   "codemirror_mode": {
    "name": "ipython",
    "version": 3
   },
   "file_extension": ".py",
   "mimetype": "text/x-python",
   "name": "python",
   "nbconvert_exporter": "python",
   "pygments_lexer": "ipython3",
   "version": "3.9.13"
  }
 },
 "nbformat": 4,
 "nbformat_minor": 5
}
