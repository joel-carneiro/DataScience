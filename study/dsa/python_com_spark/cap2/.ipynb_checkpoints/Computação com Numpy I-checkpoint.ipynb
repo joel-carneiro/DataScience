{
 "cells": [
  {
   "cell_type": "markdown",
   "id": "f905aa24",
   "metadata": {},
   "source": [
    "# Computação com Numpy"
   ]
  },
  {
   "cell_type": "markdown",
   "id": "af4ae8a0",
   "metadata": {},
   "source": [
    "Notebook para anotações durante minha formação cientista de dados na data science academy na sessão do capítulo 02"
   ]
  },
  {
   "cell_type": "markdown",
   "id": "71471c5a",
   "metadata": {},
   "source": [
    "## Funções, métodos e atributos"
   ]
  },
  {
   "cell_type": "code",
   "execution_count": 1,
   "id": "6c587c14",
   "metadata": {},
   "outputs": [],
   "source": [
    "# Importando módulo para manipulação computacional\n",
    "import numpy as np"
   ]
  },
  {
   "cell_type": "code",
   "execution_count": 5,
   "id": "d1ea775b",
   "metadata": {},
   "outputs": [
    {
     "data": {
      "text/plain": [
       "array([2, 3, 5, 7])"
      ]
     },
     "execution_count": 5,
     "metadata": {},
     "output_type": "execute_result"
    }
   ],
   "source": [
    "# Vetor\n",
    "array1 = np.array([2, 3, 5, 7]); array1"
   ]
  },
  {
   "cell_type": "code",
   "execution_count": 6,
   "id": "5ab20d75",
   "metadata": {},
   "outputs": [
    {
     "data": {
      "text/plain": [
       "array([[1, 2, 3, 4],\n",
       "       [2, 3, 5, 7]])"
      ]
     },
     "execution_count": 6,
     "metadata": {},
     "output_type": "execute_result"
    }
   ],
   "source": [
    "# Matriz\n",
    "array2 = np.array([[1, 2, 3, 4], [2, 3, 5, 7]]); array2"
   ]
  },
  {
   "cell_type": "code",
   "execution_count": 7,
   "id": "b50a7c38",
   "metadata": {},
   "outputs": [
    {
     "data": {
      "text/plain": [
       "array([0, 1, 2, 3, 4, 5, 6])"
      ]
     },
     "execution_count": 7,
     "metadata": {},
     "output_type": "execute_result"
    }
   ],
   "source": [
    "# Vetor sequêncial\n",
    "array3 = np.arange(7); array3"
   ]
  },
  {
   "cell_type": "code",
   "execution_count": 10,
   "id": "0e678569",
   "metadata": {},
   "outputs": [
    {
     "data": {
      "text/plain": [
       "array([ 1.,  4.,  7., 10.])"
      ]
     },
     "execution_count": 10,
     "metadata": {},
     "output_type": "execute_result"
    }
   ],
   "source": [
    "# Vetor linear\n",
    "array4 = np.linspace(1, 10, 4); array4"
   ]
  },
  {
   "cell_type": "code",
   "execution_count": 12,
   "id": "a674e00b",
   "metadata": {},
   "outputs": [
    {
     "data": {
      "text/plain": [
       "array([[1., 0., 0., 0., 0.],\n",
       "       [0., 1., 0., 0., 0.],\n",
       "       [0., 0., 1., 0., 0.],\n",
       "       [0., 0., 0., 1., 0.],\n",
       "       [0., 0., 0., 0., 1.]])"
      ]
     },
     "execution_count": 12,
     "metadata": {},
     "output_type": "execute_result"
    }
   ],
   "source": [
    "# Matriz identidade\n",
    "array5 = np.eye(5); array5"
   ]
  },
  {
   "cell_type": "code",
   "execution_count": 14,
   "id": "33a5569f",
   "metadata": {},
   "outputs": [
    {
     "data": {
      "text/plain": [
       "array([[1, 0, 0, 0],\n",
       "       [0, 2, 0, 0],\n",
       "       [0, 0, 3, 0],\n",
       "       [0, 0, 0, 4]])"
      ]
     },
     "execution_count": 14,
     "metadata": {},
     "output_type": "execute_result"
    }
   ],
   "source": [
    "# Matriz diagonal\n",
    "array6 = np.diag([1, 2, 3, 4]); array6"
   ]
  },
  {
   "cell_type": "code",
   "execution_count": 17,
   "id": "39ccb303",
   "metadata": {},
   "outputs": [
    {
     "data": {
      "text/plain": [
       "array([[1, 0, 0, 0, 1, 0, 0, 0, 1, 0, 0, 0],\n",
       "       [0, 2, 0, 0, 0, 2, 0, 0, 0, 2, 0, 0],\n",
       "       [0, 0, 3, 0, 0, 0, 3, 0, 0, 0, 3, 0],\n",
       "       [0, 0, 0, 4, 0, 0, 0, 4, 0, 0, 0, 4]])"
      ]
     },
     "execution_count": 17,
     "metadata": {},
     "output_type": "execute_result"
    }
   ],
   "source": [
    "# Ladrilhando uma matriz\n",
    "array7 = np.tile(array6, reps=3); array7"
   ]
  },
  {
   "cell_type": "code",
   "execution_count": 19,
   "id": "e61022e2",
   "metadata": {},
   "outputs": [
    {
     "data": {
      "text/plain": [
       "array([0., 0., 0., 0., 0., 0., 0., 0., 0., 0.])"
      ]
     },
     "execution_count": 19,
     "metadata": {},
     "output_type": "execute_result"
    }
   ],
   "source": [
    "# Vetor com zeros\n",
    "array8 = np.zeros(10); array8"
   ]
  },
  {
   "cell_type": "code",
   "execution_count": 21,
   "id": "4eb84a6c",
   "metadata": {},
   "outputs": [
    {
     "data": {
      "text/plain": [
       "array([1., 1., 1., 1., 1., 1., 1., 1., 1., 1.])"
      ]
     },
     "execution_count": 21,
     "metadata": {},
     "output_type": "execute_result"
    }
   ],
   "source": [
    "# Vetor com umns\n",
    "array9 = np.ones(10); array9"
   ]
  },
  {
   "cell_type": "code",
   "execution_count": 24,
   "id": "04eb46dd",
   "metadata": {},
   "outputs": [],
   "source": [
    "# Função de logica entre arrays\n",
    "\n",
    "array10 = np.array([False, False, True, True])\n",
    "array11 = np.array([True, False, True, False])"
   ]
  },
  {
   "cell_type": "code",
   "execution_count": 25,
   "id": "8bccc2e4",
   "metadata": {},
   "outputs": [
    {
     "data": {
      "text/plain": [
       "array([False, False,  True, False])"
      ]
     },
     "execution_count": 25,
     "metadata": {},
     "output_type": "execute_result"
    }
   ],
   "source": [
    "np.logical_and(array10, array11)"
   ]
  },
  {
   "cell_type": "code",
   "execution_count": 26,
   "id": "a28fb0b6",
   "metadata": {},
   "outputs": [
    {
     "data": {
      "text/plain": [
       "array([ True, False,  True,  True])"
      ]
     },
     "execution_count": 26,
     "metadata": {},
     "output_type": "execute_result"
    }
   ],
   "source": [
    "np.logical_or(array10, array11)"
   ]
  },
  {
   "cell_type": "code",
   "execution_count": 27,
   "id": "0d24f416",
   "metadata": {},
   "outputs": [],
   "source": [
    "# Testando velocidade\n",
    "\n",
    "np_array = np.arange(1000000)\n",
    "py_array = list(range(1000000))"
   ]
  },
  {
   "cell_type": "code",
   "execution_count": 30,
   "id": "b690b5d9",
   "metadata": {},
   "outputs": [
    {
     "name": "stdout",
     "output_type": "stream",
     "text": [
      "522 ms ± 92 ms per loop (mean ± std. dev. of 7 runs, 1 loop each)\n"
     ]
    }
   ],
   "source": [
    "%timeit [x ** 4 for x in py_array]"
   ]
  },
  {
   "cell_type": "code",
   "execution_count": 31,
   "id": "a1e652a4",
   "metadata": {},
   "outputs": [
    {
     "name": "stdout",
     "output_type": "stream",
     "text": [
      "3.55 ms ± 24.1 µs per loop (mean ± std. dev. of 7 runs, 100 loops each)\n"
     ]
    }
   ],
   "source": [
    "%timeit np_array ** 4"
   ]
  },
  {
   "cell_type": "code",
   "execution_count": null,
   "id": "4216d09e",
   "metadata": {},
   "outputs": [],
   "source": []
  }
 ],
 "metadata": {
  "kernelspec": {
   "display_name": "Python 3 (ipykernel)",
   "language": "python",
   "name": "python3"
  },
  "language_info": {
   "codemirror_mode": {
    "name": "ipython",
    "version": 3
   },
   "file_extension": ".py",
   "mimetype": "text/x-python",
   "name": "python",
   "nbconvert_exporter": "python",
   "pygments_lexer": "ipython3",
   "version": "3.10.9"
  }
 },
 "nbformat": 4,
 "nbformat_minor": 5
}
