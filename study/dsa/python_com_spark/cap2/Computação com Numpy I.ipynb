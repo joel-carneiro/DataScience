{
 "cells": [
  {
   "cell_type": "markdown",
   "id": "9a146a38",
   "metadata": {},
   "source": [
    "# Computação com Numpy"
   ]
  },
  {
   "cell_type": "markdown",
   "id": "36a2a9dc",
   "metadata": {},
   "source": [
    "Notebook para anotações durante minha formação cientista de dados na data science academy na sessão do capítulo 02"
   ]
  },
  {
   "cell_type": "markdown",
   "id": "20c06081",
   "metadata": {},
   "source": [
    "## 1 - Funções, métodos e atributos"
   ]
  },
  {
   "cell_type": "code",
   "execution_count": 1,
   "id": "fbe5cedd",
   "metadata": {},
   "outputs": [],
   "source": [
    "# Importando módulo para manipulação computacional\n",
    "import numpy as np"
   ]
  },
  {
   "cell_type": "code",
   "execution_count": 2,
   "id": "77679bc6",
   "metadata": {},
   "outputs": [
    {
     "data": {
      "text/plain": [
       "array([2, 3, 5, 7])"
      ]
     },
     "execution_count": 2,
     "metadata": {},
     "output_type": "execute_result"
    }
   ],
   "source": [
    "# Vetor\n",
    "array1 = np.array([2, 3, 5, 7]); array1"
   ]
  },
  {
   "cell_type": "code",
   "execution_count": 3,
   "id": "87349547",
   "metadata": {},
   "outputs": [
    {
     "data": {
      "text/plain": [
       "array([[1, 2, 3, 4],\n",
       "       [2, 3, 5, 7]])"
      ]
     },
     "execution_count": 3,
     "metadata": {},
     "output_type": "execute_result"
    }
   ],
   "source": [
    "# Matriz\n",
    "array2 = np.array([[1, 2, 3, 4], [2, 3, 5, 7]]); array2"
   ]
  },
  {
   "cell_type": "code",
   "execution_count": 4,
   "id": "1bd17a14",
   "metadata": {},
   "outputs": [
    {
     "data": {
      "text/plain": [
       "array([0, 1, 2, 3, 4, 5, 6])"
      ]
     },
     "execution_count": 4,
     "metadata": {},
     "output_type": "execute_result"
    }
   ],
   "source": [
    "# Vetor sequêncial\n",
    "array3 = np.arange(7); array3"
   ]
  },
  {
   "cell_type": "code",
   "execution_count": 5,
   "id": "3a168556",
   "metadata": {},
   "outputs": [
    {
     "data": {
      "text/plain": [
       "array([ 1.,  4.,  7., 10.])"
      ]
     },
     "execution_count": 5,
     "metadata": {},
     "output_type": "execute_result"
    }
   ],
   "source": [
    "# Vetor linear\n",
    "array4 = np.linspace(1, 10, 4); array4"
   ]
  },
  {
   "cell_type": "code",
   "execution_count": 6,
   "id": "c3ddd7da",
   "metadata": {},
   "outputs": [
    {
     "data": {
      "text/plain": [
       "array([[1., 0., 0., 0., 0.],\n",
       "       [0., 1., 0., 0., 0.],\n",
       "       [0., 0., 1., 0., 0.],\n",
       "       [0., 0., 0., 1., 0.],\n",
       "       [0., 0., 0., 0., 1.]])"
      ]
     },
     "execution_count": 6,
     "metadata": {},
     "output_type": "execute_result"
    }
   ],
   "source": [
    "# Matriz identidade\n",
    "array5 = np.eye(5); array5"
   ]
  },
  {
   "cell_type": "code",
   "execution_count": 7,
   "id": "7ad28657",
   "metadata": {},
   "outputs": [
    {
     "data": {
      "text/plain": [
       "array([[1, 0, 0, 0],\n",
       "       [0, 2, 0, 0],\n",
       "       [0, 0, 3, 0],\n",
       "       [0, 0, 0, 4]])"
      ]
     },
     "execution_count": 7,
     "metadata": {},
     "output_type": "execute_result"
    }
   ],
   "source": [
    "# Matriz diagonal\n",
    "array6 = np.diag([1, 2, 3, 4]); array6"
   ]
  },
  {
   "cell_type": "code",
   "execution_count": 8,
   "id": "3c4a51df",
   "metadata": {},
   "outputs": [
    {
     "data": {
      "text/plain": [
       "array([[1, 0, 0, 0, 1, 0, 0, 0, 1, 0, 0, 0],\n",
       "       [0, 2, 0, 0, 0, 2, 0, 0, 0, 2, 0, 0],\n",
       "       [0, 0, 3, 0, 0, 0, 3, 0, 0, 0, 3, 0],\n",
       "       [0, 0, 0, 4, 0, 0, 0, 4, 0, 0, 0, 4]])"
      ]
     },
     "execution_count": 8,
     "metadata": {},
     "output_type": "execute_result"
    }
   ],
   "source": [
    "# Ladrilhando uma matriz\n",
    "array7 = np.tile(array6, reps=3); array7"
   ]
  },
  {
   "cell_type": "code",
   "execution_count": 9,
   "id": "9b83d2cc",
   "metadata": {},
   "outputs": [
    {
     "data": {
      "text/plain": [
       "array([0., 0., 0., 0., 0., 0., 0., 0., 0., 0.])"
      ]
     },
     "execution_count": 9,
     "metadata": {},
     "output_type": "execute_result"
    }
   ],
   "source": [
    "# Vetor com zeros\n",
    "array8 = np.zeros(10); array8"
   ]
  },
  {
   "cell_type": "code",
   "execution_count": 10,
   "id": "2c446aee",
   "metadata": {},
   "outputs": [
    {
     "data": {
      "text/plain": [
       "array([1., 1., 1., 1., 1., 1., 1., 1., 1., 1.])"
      ]
     },
     "execution_count": 10,
     "metadata": {},
     "output_type": "execute_result"
    }
   ],
   "source": [
    "# Vetor com umns\n",
    "array9 = np.ones(10); array9"
   ]
  },
  {
   "cell_type": "code",
   "execution_count": 11,
   "id": "0ee8c30a",
   "metadata": {},
   "outputs": [],
   "source": [
    "# Função de logica entre arrays\n",
    "\n",
    "array10 = np.array([False, False, True, True])\n",
    "array11 = np.array([True, False, True, False])"
   ]
  },
  {
   "cell_type": "code",
   "execution_count": 12,
   "id": "06253783",
   "metadata": {},
   "outputs": [
    {
     "data": {
      "text/plain": [
       "array([False, False,  True, False])"
      ]
     },
     "execution_count": 12,
     "metadata": {},
     "output_type": "execute_result"
    }
   ],
   "source": [
    "np.logical_and(array10, array11)"
   ]
  },
  {
   "cell_type": "code",
   "execution_count": 13,
   "id": "f5cd5c3a",
   "metadata": {},
   "outputs": [
    {
     "data": {
      "text/plain": [
       "array([ True, False,  True,  True])"
      ]
     },
     "execution_count": 13,
     "metadata": {},
     "output_type": "execute_result"
    }
   ],
   "source": [
    "np.logical_or(array10, array11)"
   ]
  },
  {
   "cell_type": "code",
   "execution_count": 14,
   "id": "4e65d70f",
   "metadata": {},
   "outputs": [],
   "source": [
    "# Testando velocidade\n",
    "\n",
    "np_array = np.arange(1000000)\n",
    "py_array = list(range(1000000))"
   ]
  },
  {
   "cell_type": "code",
   "execution_count": 15,
   "id": "a3b1b61d",
   "metadata": {},
   "outputs": [
    {
     "name": "stdout",
     "output_type": "stream",
     "text": [
      "452 ms ± 17 ms per loop (mean ± std. dev. of 7 runs, 1 loop each)\n"
     ]
    }
   ],
   "source": [
    "%timeit [x ** 4 for x in py_array]"
   ]
  },
  {
   "cell_type": "code",
   "execution_count": 16,
   "id": "449c91fd",
   "metadata": {},
   "outputs": [
    {
     "name": "stdout",
     "output_type": "stream",
     "text": [
      "3.64 ms ± 147 µs per loop (mean ± std. dev. of 7 runs, 100 loops each)\n"
     ]
    }
   ],
   "source": [
    "%timeit np_array ** 4"
   ]
  },
  {
   "cell_type": "markdown",
   "id": "265adf9d",
   "metadata": {},
   "source": [
    "## 2 - Aplicando slicing em objetos numpy"
   ]
  },
  {
   "cell_type": "code",
   "execution_count": 17,
   "id": "a98c5d09",
   "metadata": {},
   "outputs": [
    {
     "data": {
      "text/plain": [
       "array([[1, 2, 3],\n",
       "       [4, 5, 6],\n",
       "       [7, 8, 9]])"
      ]
     },
     "execution_count": 17,
     "metadata": {},
     "output_type": "execute_result"
    }
   ],
   "source": [
    "matrix = [\n",
    "    [1, 2, 3],\n",
    "    [4, 5, 6],\n",
    "    [7, 8, 9]\n",
    "]\n",
    "\n",
    "array1 = np.array(matrix); array1"
   ]
  },
  {
   "cell_type": "code",
   "execution_count": 18,
   "id": "d16ddf0e",
   "metadata": {},
   "outputs": [
    {
     "data": {
      "text/plain": [
       "array([[2, 3],\n",
       "       [5, 6]])"
      ]
     },
     "execution_count": 18,
     "metadata": {},
     "output_type": "execute_result"
    }
   ],
   "source": [
    "array1[:2, 1:]"
   ]
  },
  {
   "cell_type": "code",
   "execution_count": 19,
   "id": "65a78715",
   "metadata": {},
   "outputs": [
    {
     "data": {
      "text/plain": [
       "array([8, 9])"
      ]
     },
     "execution_count": 19,
     "metadata": {},
     "output_type": "execute_result"
    }
   ],
   "source": [
    "array1[2, 1:]"
   ]
  },
  {
   "cell_type": "markdown",
   "id": "26c8a53b",
   "metadata": {},
   "source": [
    "## 3 - Transposição e reshaping de arrays"
   ]
  },
  {
   "cell_type": "code",
   "execution_count": 32,
   "id": "fbc85471",
   "metadata": {},
   "outputs": [],
   "source": [
    "def np_is_prime(number):\n",
    "    predecessors = np.arange(2, number, 1)\n",
    "    return not np.any((number % predecessors) == 0)\n",
    "\n",
    "def py_is_prime(number):\n",
    "    predecessors = list(range(2, number, 1))\n",
    "    for precessor in predecessors:\n",
    "        if (number % precessor) == 0:\n",
    "            return False\n",
    "    return True"
   ]
  },
  {
   "cell_type": "code",
   "execution_count": 43,
   "id": "af74f539",
   "metadata": {
    "scrolled": true
   },
   "outputs": [
    {
     "name": "stdout",
     "output_type": "stream",
     "text": [
      "33.6 ms ± 1.42 ms per loop (mean ± std. dev. of 7 runs, 10 loops each)\n"
     ]
    }
   ],
   "source": [
    "%timeit np_is_prime(1330207)"
   ]
  },
  {
   "cell_type": "code",
   "execution_count": 44,
   "id": "67488f2d",
   "metadata": {},
   "outputs": [
    {
     "name": "stdout",
     "output_type": "stream",
     "text": [
      "193 ms ± 12.6 ms per loop (mean ± std. dev. of 7 runs, 10 loops each)\n"
     ]
    }
   ],
   "source": [
    "%timeit py_is_prime(1330207)"
   ]
  },
  {
   "cell_type": "code",
   "execution_count": null,
   "id": "b80c46de",
   "metadata": {},
   "outputs": [],
   "source": []
  }
 ],
 "metadata": {
  "kernelspec": {
   "display_name": "Python 3 (ipykernel)",
   "language": "python",
   "name": "python3"
  },
  "language_info": {
   "codemirror_mode": {
    "name": "ipython",
    "version": 3
   },
   "file_extension": ".py",
   "mimetype": "text/x-python",
   "name": "python",
   "nbconvert_exporter": "python",
   "pygments_lexer": "ipython3",
   "version": "3.10.9"
  }
 },
 "nbformat": 4,
 "nbformat_minor": 5
}
