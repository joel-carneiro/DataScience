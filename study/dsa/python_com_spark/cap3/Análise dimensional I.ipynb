{
 "cells": [
  {
   "cell_type": "markdown",
   "id": "e10af101",
   "metadata": {},
   "source": [
    "# 1 - Vetorização"
   ]
  },
  {
   "cell_type": "code",
   "execution_count": 11,
   "id": "f1426fa8",
   "metadata": {},
   "outputs": [],
   "source": [
    "import pandas as pd\n",
    "import numpy as np\n",
    "import scipy as sp"
   ]
  },
  {
   "cell_type": "code",
   "execution_count": 12,
   "id": "31515965",
   "metadata": {},
   "outputs": [],
   "source": [
    "def func(a):\n",
    "    if a < 10:\n",
    "        return a ** 3\n",
    "    else:\n",
    "        return a ** 2"
   ]
  },
  {
   "cell_type": "code",
   "execution_count": 13,
   "id": "919f7512",
   "metadata": {},
   "outputs": [
    {
     "data": {
      "text/plain": [
       "array([48, 16, 31, 10, 49, 45,  7, 40, 33, 33])"
      ]
     },
     "execution_count": 13,
     "metadata": {},
     "output_type": "execute_result"
    }
   ],
   "source": [
    "array = np.random.randint(1, 50, 10); array"
   ]
  },
  {
   "cell_type": "code",
   "execution_count": 14,
   "id": "24066c37",
   "metadata": {},
   "outputs": [],
   "source": [
    "v_func = np.vectorize(func)"
   ]
  },
  {
   "cell_type": "code",
   "execution_count": 16,
   "id": "842336ec",
   "metadata": {},
   "outputs": [
    {
     "data": {
      "text/plain": [
       "array([2304,  256,  961,  100, 2401, 2025,  343, 1600, 1089, 1089])"
      ]
     },
     "execution_count": 16,
     "metadata": {},
     "output_type": "execute_result"
    }
   ],
   "source": [
    "v_func(array)"
   ]
  },
  {
   "cell_type": "code",
   "execution_count": 18,
   "id": "5372cbc0",
   "metadata": {},
   "outputs": [
    {
     "name": "stdout",
     "output_type": "stream",
     "text": [
      "21.1 µs ± 1.4 µs per loop (mean ± std. dev. of 7 runs, 100,000 loops each)\n",
      "6.49 µs ± 1.89 µs per loop (mean ± std. dev. of 7 runs, 100,000 loops each)\n"
     ]
    }
   ],
   "source": [
    "%timeit v_func(array)\n",
    "%timeit [func(x) for x in array]"
   ]
  },
  {
   "cell_type": "markdown",
   "id": "7d852eaf",
   "metadata": {},
   "source": [
    "## "
   ]
  }
 ],
 "metadata": {
  "kernelspec": {
   "display_name": "Python 3 (ipykernel)",
   "language": "python",
   "name": "python3"
  },
  "language_info": {
   "codemirror_mode": {
    "name": "ipython",
    "version": 3
   },
   "file_extension": ".py",
   "mimetype": "text/x-python",
   "name": "python",
   "nbconvert_exporter": "python",
   "pygments_lexer": "ipython3",
   "version": "3.10.9"
  }
 },
 "nbformat": 4,
 "nbformat_minor": 5
}
