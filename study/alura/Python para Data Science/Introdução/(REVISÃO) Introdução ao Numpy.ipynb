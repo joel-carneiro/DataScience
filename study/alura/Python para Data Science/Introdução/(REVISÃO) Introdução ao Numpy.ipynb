{
 "cells": [
  {
   "cell_type": "code",
   "execution_count": 1,
   "id": "e1770a6d",
   "metadata": {},
   "outputs": [],
   "source": [
    "import numpy as np"
   ]
  },
  {
   "cell_type": "code",
   "execution_count": 4,
   "id": "94a51cb5",
   "metadata": {},
   "outputs": [
    {
     "data": {
      "text/plain": [
       "array([0, 1, 2, 3, 4, 5, 6, 7, 8, 9])"
      ]
     },
     "execution_count": 4,
     "metadata": {},
     "output_type": "execute_result"
    }
   ],
   "source": [
    "# Numpy permite a criação de arange semelhante a função bult-in range\n",
    "array = np.arange(10)\n",
    "array"
   ]
  },
  {
   "cell_type": "code",
   "execution_count": 5,
   "id": "256517b0",
   "metadata": {},
   "outputs": [],
   "source": [
    "quilometros_lista = [44410,   5712,  37123,      0,  25757,  10728,      0,  77599,\n",
    "        99197,  37978,  12859,   8052,  89773,      0,  41457, 115607,\n",
    "        46449,      0,  37086,  15173, 101193,      0,  98079, 102959,\n",
    "            0,      0,   5795,      0,  58848,  94381,  30163,  53332,]"
   ]
  },
  {
   "cell_type": "code",
   "execution_count": 6,
   "id": "9b2b1aef",
   "metadata": {},
   "outputs": [
    {
     "data": {
      "text/plain": [
       "[44410,\n",
       " 5712,\n",
       " 37123,\n",
       " 0,\n",
       " 25757,\n",
       " 10728,\n",
       " 0,\n",
       " 77599,\n",
       " 99197,\n",
       " 37978,\n",
       " 12859,\n",
       " 8052,\n",
       " 89773,\n",
       " 0,\n",
       " 41457,\n",
       " 115607,\n",
       " 46449,\n",
       " 0,\n",
       " 37086,\n",
       " 15173,\n",
       " 101193,\n",
       " 0,\n",
       " 98079,\n",
       " 102959,\n",
       " 0,\n",
       " 0,\n",
       " 5795,\n",
       " 0,\n",
       " 58848,\n",
       " 94381,\n",
       " 30163,\n",
       " 53332]"
      ]
     },
     "execution_count": 6,
     "metadata": {},
     "output_type": "execute_result"
    }
   ],
   "source": [
    "quilometros_lista"
   ]
  },
  {
   "cell_type": "code",
   "execution_count": 7,
   "id": "f3f32f69",
   "metadata": {},
   "outputs": [],
   "source": [
    "# Numpy também permite a criação de um array numpy a partir de uma lista pela função array.\n",
    "quilometros = np.array(quilometros_lista)"
   ]
  },
  {
   "cell_type": "code",
   "execution_count": 8,
   "id": "0353c41e",
   "metadata": {},
   "outputs": [
    {
     "data": {
      "text/plain": [
       "array([ 44410,   5712,  37123,      0,  25757,  10728,      0,  77599,\n",
       "        99197,  37978,  12859,   8052,  89773,      0,  41457, 115607,\n",
       "        46449,      0,  37086,  15173, 101193,      0,  98079, 102959,\n",
       "            0,      0,   5795,      0,  58848,  94381,  30163,  53332])"
      ]
     },
     "execution_count": 8,
     "metadata": {},
     "output_type": "execute_result"
    }
   ],
   "source": [
    "quilometros"
   ]
  },
  {
   "cell_type": "code",
   "execution_count": 9,
   "id": "2e521194",
   "metadata": {},
   "outputs": [
    {
     "data": {
      "text/plain": [
       "(32,)"
      ]
     },
     "execution_count": 9,
     "metadata": {},
     "output_type": "execute_result"
    }
   ],
   "source": [
    "# A propriedade shape mostra uma tupla com as dimensões do array numpy\n",
    "quilometros.shape"
   ]
  },
  {
   "cell_type": "code",
   "execution_count": 11,
   "id": "3872b037",
   "metadata": {},
   "outputs": [],
   "source": [
    "# O numpy consegue ser muito mais rápido que uma lista python:"
   ]
  },
  {
   "cell_type": "code",
   "execution_count": 28,
   "id": "07b6c936",
   "metadata": {},
   "outputs": [],
   "source": [
    "array1 = np.arange(1000000)\n",
    "array2 = list(range(1000000))"
   ]
  },
  {
   "cell_type": "code",
   "execution_count": 29,
   "id": "27deabfe",
   "metadata": {},
   "outputs": [
    {
     "name": "stdout",
     "output_type": "stream",
     "text": [
      "CPU times: user 1.67 s, sys: 260 µs, total: 1.67 s\n",
      "Wall time: 1.67 s\n"
     ]
    }
   ],
   "source": [
    "%time for _ in range(100): array1 *= 2"
   ]
  },
  {
   "cell_type": "code",
   "execution_count": 30,
   "id": "8a4ee8c6",
   "metadata": {},
   "outputs": [
    {
     "name": "stdout",
     "output_type": "stream",
     "text": [
      "CPU times: user 11.2 s, sys: 1.29 s, total: 12.5 s\n",
      "Wall time: 12.5 s\n"
     ]
    }
   ],
   "source": [
    "%time for _ in range(100): array2 = [x * 2 for x in array2]"
   ]
  },
  {
   "cell_type": "code",
   "execution_count": 46,
   "id": "def081c9",
   "metadata": {},
   "outputs": [],
   "source": [
    "ano_de_fabricacao = np.array([2003, 2006, 2009, 2012, 2015, 2019])\n",
    "quilometros = np.array([1000, 2000, 3000, 4000, 5000, 6000])\n",
    "valor = np.array([60300, 10900, 32005, 64640, 32500, 10555])"
   ]
  },
  {
   "cell_type": "code",
   "execution_count": 37,
   "id": "66f43e07",
   "metadata": {},
   "outputs": [],
   "source": [
    "idade = 2022 - ano_de_fabricacao"
   ]
  },
  {
   "cell_type": "code",
   "execution_count": 38,
   "id": "8b802861",
   "metadata": {},
   "outputs": [
    {
     "data": {
      "text/plain": [
       "array([19, 16, 13, 10,  7,  3])"
      ]
     },
     "execution_count": 38,
     "metadata": {},
     "output_type": "execute_result"
    }
   ],
   "source": [
    "idade"
   ]
  },
  {
   "cell_type": "code",
   "execution_count": 40,
   "id": "9a480755",
   "metadata": {},
   "outputs": [
    {
     "data": {
      "text/plain": [
       "array([  52.63157895,  125.        ,  230.76923077,  400.        ,\n",
       "        714.28571429, 2000.        ])"
      ]
     },
     "execution_count": 40,
     "metadata": {},
     "output_type": "execute_result"
    }
   ],
   "source": [
    "quilometragem_media = quilometros / idade\n",
    "quilometragem_media"
   ]
  },
  {
   "cell_type": "code",
   "execution_count": 42,
   "id": "95e5c48d",
   "metadata": {},
   "outputs": [],
   "source": [
    "data = np.array([quilometros, ano_de_fabricacao])"
   ]
  },
  {
   "cell_type": "code",
   "execution_count": 43,
   "id": "0d7488d5",
   "metadata": {},
   "outputs": [
    {
     "data": {
      "text/plain": [
       "array([[1000, 2000, 3000, 4000, 5000, 6000],\n",
       "       [2003, 2006, 2009, 2012, 2015, 2019]])"
      ]
     },
     "execution_count": 43,
     "metadata": {},
     "output_type": "execute_result"
    }
   ],
   "source": [
    "data"
   ]
  },
  {
   "cell_type": "code",
   "execution_count": 44,
   "id": "3cc9fdd6",
   "metadata": {},
   "outputs": [],
   "source": [
    "idade = data[0] / (2022 - data[1])"
   ]
  },
  {
   "cell_type": "code",
   "execution_count": 45,
   "id": "8c62dfa5",
   "metadata": {},
   "outputs": [
    {
     "data": {
      "text/plain": [
       "array([  52.63157895,  125.        ,  230.76923077,  400.        ,\n",
       "        714.28571429, 2000.        ])"
      ]
     },
     "execution_count": 45,
     "metadata": {},
     "output_type": "execute_result"
    }
   ],
   "source": [
    "idade"
   ]
  },
  {
   "cell_type": "code",
   "execution_count": 49,
   "id": "a9dc2d08",
   "metadata": {},
   "outputs": [],
   "source": [
    "# Calcula a média de um \"vetor\" na matriz\n",
    "dataset = np.column_stack((ano_de_fabricacao, quilometros, valor))"
   ]
  },
  {
   "cell_type": "code",
   "execution_count": 50,
   "id": "25148338",
   "metadata": {},
   "outputs": [
    {
     "data": {
      "text/plain": [
       "array([[ 2003,  1000, 60300],\n",
       "       [ 2006,  2000, 10900],\n",
       "       [ 2009,  3000, 32005],\n",
       "       [ 2012,  4000, 64640],\n",
       "       [ 2015,  5000, 32500],\n",
       "       [ 2019,  6000, 10555]])"
      ]
     },
     "execution_count": 50,
     "metadata": {},
     "output_type": "execute_result"
    }
   ],
   "source": [
    "dataset"
   ]
  },
  {
   "cell_type": "code",
   "execution_count": 51,
   "id": "089900f9",
   "metadata": {},
   "outputs": [
    {
     "data": {
      "text/plain": [
       "array([ 2010.66666667,  3500.        , 35150.        ])"
      ]
     },
     "execution_count": 51,
     "metadata": {},
     "output_type": "execute_result"
    }
   ],
   "source": [
    "np.mean(dataset, axis = 0)"
   ]
  },
  {
   "cell_type": "code",
   "execution_count": 52,
   "id": "0e002f75",
   "metadata": {},
   "outputs": [
    {
     "data": {
      "text/plain": [
       "array([ 12064,  21000, 210900])"
      ]
     },
     "execution_count": 52,
     "metadata": {},
     "output_type": "execute_result"
    }
   ],
   "source": [
    "np.sum(dataset, axis = 0)"
   ]
  },
  {
   "cell_type": "code",
   "execution_count": 54,
   "id": "8280de57",
   "metadata": {},
   "outputs": [
    {
     "data": {
      "text/plain": [
       "21000"
      ]
     },
     "execution_count": 54,
     "metadata": {},
     "output_type": "execute_result"
    }
   ],
   "source": [
    "np.sum(dataset[:, 1])"
   ]
  },
  {
   "cell_type": "code",
   "execution_count": null,
   "id": "70a07428",
   "metadata": {},
   "outputs": [],
   "source": []
  }
 ],
 "metadata": {
  "kernelspec": {
   "display_name": "Python 3 (ipykernel)",
   "language": "python",
   "name": "python3"
  },
  "language_info": {
   "codemirror_mode": {
    "name": "ipython",
    "version": 3
   },
   "file_extension": ".py",
   "mimetype": "text/x-python",
   "name": "python",
   "nbconvert_exporter": "python",
   "pygments_lexer": "ipython3",
   "version": "3.10.6"
  }
 },
 "nbformat": 4,
 "nbformat_minor": 5
}
