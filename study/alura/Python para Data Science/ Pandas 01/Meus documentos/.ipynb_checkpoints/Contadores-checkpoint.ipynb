{
 "cells": [
  {
   "cell_type": "code",
   "execution_count": 1,
   "id": "7bbf6631-d04a-4118-b28a-5d4c863b79a6",
   "metadata": {},
   "outputs": [],
   "source": [
    "import pandas as pd"
   ]
  },
  {
   "cell_type": "code",
   "execution_count": 2,
   "id": "a94c5c36-1363-47fd-bac3-465ef0776a55",
   "metadata": {},
   "outputs": [
    {
     "data": {
      "text/plain": [
       "0     a\n",
       "1     b\n",
       "2     c\n",
       "3     d\n",
       "4     a\n",
       "5     b\n",
       "6     c\n",
       "7     d\n",
       "8     a\n",
       "9     b\n",
       "10    c\n",
       "11    d\n",
       "12    a\n",
       "13    b\n",
       "14    c\n",
       "15    d\n",
       "16    a\n",
       "17    b\n",
       "18    c\n",
       "19    d\n",
       "20    a\n",
       "21    b\n",
       "22    c\n",
       "23    d\n",
       "dtype: object"
      ]
     },
     "execution_count": 2,
     "metadata": {},
     "output_type": "execute_result"
    }
   ],
   "source": [
    "s = pd.Series(list('abcdabcdabcdabcdabcdabcd'))\n",
    "s"
   ]
  },
  {
   "cell_type": "code",
   "execution_count": 3,
   "id": "65a673e7-0b74-44fe-bae6-633fee859885",
   "metadata": {},
   "outputs": [
    {
     "data": {
      "text/plain": [
       "array(['a', 'b', 'c', 'd'], dtype=object)"
      ]
     },
     "execution_count": 3,
     "metadata": {},
     "output_type": "execute_result"
    }
   ],
   "source": [
    "s.unique()"
   ]
  },
  {
   "cell_type": "code",
   "execution_count": 6,
   "id": "ec0a7f61-b241-4062-b0d0-1026dd0b748d",
   "metadata": {},
   "outputs": [
    {
     "data": {
      "text/plain": [
       "a    6\n",
       "b    6\n",
       "c    6\n",
       "d    6\n",
       "dtype: int64"
      ]
     },
     "execution_count": 6,
     "metadata": {},
     "output_type": "execute_result"
    }
   ],
   "source": [
    "s.value_counts()"
   ]
  },
  {
   "cell_type": "code",
   "execution_count": null,
   "id": "0b0efe57-6182-41c4-8644-2de6efe9fd6d",
   "metadata": {},
   "outputs": [],
   "source": []
  }
 ],
 "metadata": {
  "kernelspec": {
   "display_name": "Python 3 (ipykernel)",
   "language": "python",
   "name": "python3"
  },
  "language_info": {
   "codemirror_mode": {
    "name": "ipython",
    "version": 3
   },
   "file_extension": ".py",
   "mimetype": "text/x-python",
   "name": "python",
   "nbconvert_exporter": "python",
   "pygments_lexer": "ipython3",
   "version": "3.7.6"
  }
 },
 "nbformat": 4,
 "nbformat_minor": 5
}
