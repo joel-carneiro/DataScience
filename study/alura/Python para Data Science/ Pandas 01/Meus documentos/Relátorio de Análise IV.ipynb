{
 "cells": [
  {
   "cell_type": "markdown",
   "id": "8f89f2cf-e313-43ac-8214-db37d7ec006b",
   "metadata": {},
   "source": [
    "# Relátorio de Análise IV"
   ]
  },
  {
   "cell_type": "markdown",
   "id": "adf31c18-d60e-4e91-b8f1-db6906251ed9",
   "metadata": {},
   "source": [
    "## Seleções e Frequências"
   ]
  },
  {
   "cell_type": "code",
   "execution_count": null,
   "id": "fb898d82-1fbe-48f2-82e2-0d59ed766248",
   "metadata": {},
   "outputs": [],
   "source": [
    "import pandas as pd"
   ]
  },
  {
   "cell_type": "code",
   "execution_count": null,
   "id": "27a11931-2cff-493c-b22a-253bff06080a",
   "metadata": {},
   "outputs": [],
   "source": [
    "dados = pd.read_csv(\"aluguel.csv\", sep = \";\")"
   ]
  },
  {
   "cell_type": "code",
   "execution_count": null,
   "id": "8fc9a96b-f3ad-4108-8de4-785688f74b8c",
   "metadata": {},
   "outputs": [],
   "source": [
    "dados"
   ]
  },
  {
   "cell_type": "code",
   "execution_count": null,
   "id": "ba84eb8d-6dae-487c-a592-6beebc83bc03",
   "metadata": {},
   "outputs": [],
   "source": [
    "# Selecione somente os dados do tipo Apartamento\"\n",
    "query = dados[\"Tipo\"] == \"Apartamento\"\n",
    "apartamentos = dados[query]"
   ]
  },
  {
   "cell_type": "code",
   "execution_count": null,
   "id": "a69c8095-6c39-4fbe-b494-445996d247f3",
   "metadata": {},
   "outputs": [],
   "source": [
    "apartamentos.shape[0]"
   ]
  },
  {
   "cell_type": "code",
   "execution_count": null,
   "id": "5e2c8124-6e20-4d7d-a706-c25c875fb9f6",
   "metadata": {},
   "outputs": [],
   "source": [
    "# Selecione somente os dados do tipo Casa, Casa de vila ou Casa de condominio\n",
    "query = (dados['Tipo'] == 'Casa') | (dados['Tipo'] == 'Casa de vila') | (dados['Tipo'] == 'Casa de condominio')\n",
    "dados[query].head()"
   ]
  },
  {
   "cell_type": "code",
   "execution_count": null,
   "id": "018ba74a-595c-4ced-9709-c68213e8c1bc",
   "metadata": {},
   "outputs": [],
   "source": [
    "# Selecione somente os dados que tiverem entre 60 e 100 metros quadrados, incluindo limites\n",
    "query = (dados['Valor m2'] >= 60) & (dados['Valor m2'] <= 100)\n",
    "dados[query]"
   ]
  },
  {
   "cell_type": "code",
   "execution_count": null,
   "id": "499e08a7-b227-47fc-9356-4e5ed3eaec98",
   "metadata": {},
   "outputs": [],
   "source": [
    "# Selecione somente os dados que tenham pelo menos 4 quartos e aluguel menor que R$ 2.000,00\n",
    "query = (dados['Quartos'] >= 4) & (dados['Valor'] < 2000)\n",
    "dados[query]"
   ]
  },
  {
   "cell_type": "code",
   "execution_count": null,
   "id": "49a7ed3e-f8e5-486e-a512-890ae5b0b5a3",
   "metadata": {},
   "outputs": [],
   "source": []
  }
 ],
 "metadata": {
  "kernelspec": {
   "display_name": "Python 3 (ipykernel)",
   "language": "python",
   "name": "python3"
  },
  "language_info": {
   "codemirror_mode": {
    "name": "ipython",
    "version": 3
   },
   "file_extension": ".py",
   "mimetype": "text/x-python",
   "name": "python",
   "nbconvert_exporter": "python",
   "pygments_lexer": "ipython3",
   "version": "3.7.6"
  }
 },
 "nbformat": 4,
 "nbformat_minor": 5
}
