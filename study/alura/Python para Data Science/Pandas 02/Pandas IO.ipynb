{
 "cells": [
  {
   "cell_type": "markdown",
   "id": "edfc32a1-a773-4d83-b5f4-e95dd502cf84",
   "metadata": {
    "jp-MarkdownHeadingCollapsed": true,
    "tags": []
   },
   "source": [
    "# Criando os nomes"
   ]
  },
  {
   "cell_type": "code",
   "execution_count": 1,
   "id": "3440b6a0-c606-46e9-b0b0-d9e31e5614d0",
   "metadata": {},
   "outputs": [],
   "source": [
    "import pandas as pd"
   ]
  },
  {
   "cell_type": "code",
   "execution_count": 2,
   "id": "7bd29b35-5582-4e56-8249-c217beed155e",
   "metadata": {},
   "outputs": [],
   "source": [
    "# Extraindo os dados externos para nosso dataframe.\n",
    "\n",
    "nomes_femininos = pd.read_json('https://guilhermeonrails.github.io/nomes_ibge/nomes-f.json')\n",
    "nomes_masculinos = pd.read_json('https://guilhermeonrails.github.io/nomes_ibge/nomes-m.json')"
   ]
  },
  {
   "cell_type": "code",
   "execution_count": 3,
   "id": "f8ccfa4c-534d-4eb6-82c3-066509e029a9",
   "metadata": {},
   "outputs": [
    {
     "data": {
      "text/html": [
       "<div>\n",
       "<style scoped>\n",
       "    .dataframe tbody tr th:only-of-type {\n",
       "        vertical-align: middle;\n",
       "    }\n",
       "\n",
       "    .dataframe tbody tr th {\n",
       "        vertical-align: top;\n",
       "    }\n",
       "\n",
       "    .dataframe thead th {\n",
       "        text-align: right;\n",
       "    }\n",
       "</style>\n",
       "<table border=\"1\" class=\"dataframe\">\n",
       "  <thead>\n",
       "    <tr style=\"text-align: right;\">\n",
       "      <th></th>\n",
       "      <th>nome</th>\n",
       "      <th>regiao</th>\n",
       "      <th>freq</th>\n",
       "      <th>rank</th>\n",
       "      <th>sexo</th>\n",
       "    </tr>\n",
       "  </thead>\n",
       "  <tbody>\n",
       "    <tr>\n",
       "      <th>6</th>\n",
       "      <td>MARCIA</td>\n",
       "      <td>0</td>\n",
       "      <td>551855</td>\n",
       "      <td>7</td>\n",
       "      <td>F</td>\n",
       "    </tr>\n",
       "    <tr>\n",
       "      <th>127</th>\n",
       "      <td>TAINA</td>\n",
       "      <td>0</td>\n",
       "      <td>127613</td>\n",
       "      <td>128</td>\n",
       "      <td>F</td>\n",
       "    </tr>\n",
       "    <tr>\n",
       "      <th>80</th>\n",
       "      <td>TAIS</td>\n",
       "      <td>0</td>\n",
       "      <td>201501</td>\n",
       "      <td>81</td>\n",
       "      <td>F</td>\n",
       "    </tr>\n",
       "    <tr>\n",
       "      <th>90</th>\n",
       "      <td>ANDRESSA</td>\n",
       "      <td>0</td>\n",
       "      <td>184933</td>\n",
       "      <td>91</td>\n",
       "      <td>F</td>\n",
       "    </tr>\n",
       "    <tr>\n",
       "      <th>175</th>\n",
       "      <td>ALEXANDRA</td>\n",
       "      <td>0</td>\n",
       "      <td>89381</td>\n",
       "      <td>176</td>\n",
       "      <td>F</td>\n",
       "    </tr>\n",
       "  </tbody>\n",
       "</table>\n",
       "</div>"
      ],
      "text/plain": [
       "          nome  regiao    freq  rank sexo\n",
       "6       MARCIA       0  551855     7    F\n",
       "127      TAINA       0  127613   128    F\n",
       "80        TAIS       0  201501    81    F\n",
       "90    ANDRESSA       0  184933    91    F\n",
       "175  ALEXANDRA       0   89381   176    F"
      ]
     },
     "execution_count": 3,
     "metadata": {},
     "output_type": "execute_result"
    }
   ],
   "source": [
    "# Sortendo valores aleatorios do dataframe\n",
    "\n",
    "nomes_femininos.sample(5)"
   ]
  },
  {
   "cell_type": "code",
   "execution_count": 4,
   "id": "68737faa-5291-41fd-bbbb-356ea372293b",
   "metadata": {},
   "outputs": [
    {
     "name": "stdout",
     "output_type": "stream",
     "text": [
      "Quantidade de alunos: 400\n"
     ]
    }
   ],
   "source": [
    "# Calculando o total de alunos.\n",
    "\n",
    "total_de_alunos = nomes_femininos.shape[0] + nomes_masculinos.shape[0]\n",
    "\n",
    "print('Quantidade de alunos: ' + str(total_de_alunos))"
   ]
  },
  {
   "cell_type": "code",
   "execution_count": 5,
   "id": "e1605b20-3797-4fb9-80c7-6f4ad52cdc82",
   "metadata": {},
   "outputs": [],
   "source": [
    "frame = [nomes_femininos, nomes_masculinos]"
   ]
  },
  {
   "cell_type": "code",
   "execution_count": 6,
   "id": "19651799-e04c-4281-b848-b5a2e729713d",
   "metadata": {},
   "outputs": [
    {
     "data": {
      "text/plain": [
       "list"
      ]
     },
     "execution_count": 6,
     "metadata": {},
     "output_type": "execute_result"
    }
   ],
   "source": [
    "type(frame)"
   ]
  },
  {
   "cell_type": "code",
   "execution_count": 7,
   "id": "9bc7fb2a-cec9-4970-ac85-b2a5bc88f661",
   "metadata": {},
   "outputs": [
    {
     "data": {
      "text/html": [
       "<div>\n",
       "<style scoped>\n",
       "    .dataframe tbody tr th:only-of-type {\n",
       "        vertical-align: middle;\n",
       "    }\n",
       "\n",
       "    .dataframe tbody tr th {\n",
       "        vertical-align: top;\n",
       "    }\n",
       "\n",
       "    .dataframe thead th {\n",
       "        text-align: right;\n",
       "    }\n",
       "</style>\n",
       "<table border=\"1\" class=\"dataframe\">\n",
       "  <thead>\n",
       "    <tr style=\"text-align: right;\">\n",
       "      <th></th>\n",
       "      <th>nome</th>\n",
       "    </tr>\n",
       "  </thead>\n",
       "  <tbody>\n",
       "    <tr>\n",
       "      <th>69</th>\n",
       "      <td>REGINALDO</td>\n",
       "    </tr>\n",
       "    <tr>\n",
       "      <th>183</th>\n",
       "      <td>IRACI</td>\n",
       "    </tr>\n",
       "    <tr>\n",
       "      <th>0</th>\n",
       "      <td>JOSE</td>\n",
       "    </tr>\n",
       "    <tr>\n",
       "      <th>75</th>\n",
       "      <td>NELSON</td>\n",
       "    </tr>\n",
       "    <tr>\n",
       "      <th>0</th>\n",
       "      <td>MARIA</td>\n",
       "    </tr>\n",
       "  </tbody>\n",
       "</table>\n",
       "</div>"
      ],
      "text/plain": [
       "          nome\n",
       "69   REGINALDO\n",
       "183      IRACI\n",
       "0         JOSE\n",
       "75      NELSON\n",
       "0        MARIA"
      ]
     },
     "execution_count": 7,
     "metadata": {},
     "output_type": "execute_result"
    }
   ],
   "source": [
    "# Concatenando os 2 dataframes usando apenas a variável 'nome'\n",
    "\n",
    "nomes = pd.concat(frame)['nome'].to_frame()\n",
    "nomes.sample(5)"
   ]
  },
  {
   "cell_type": "markdown",
   "id": "bb2c0c56-9362-44ca-9b6d-59889e9a266a",
   "metadata": {
    "jp-MarkdownHeadingCollapsed": true,
    "tags": []
   },
   "source": [
    "# Incluindo ID nos alunos"
   ]
  },
  {
   "cell_type": "code",
   "execution_count": 8,
   "id": "346ac4c1-0018-442b-8217-5d9517ce904d",
   "metadata": {},
   "outputs": [],
   "source": [
    "import numpy as np\n",
    "np.random.seed(100)"
   ]
  },
  {
   "cell_type": "code",
   "execution_count": 9,
   "id": "f94e7d54-cc92-4b96-9224-ce85b4e855c3",
   "metadata": {},
   "outputs": [
    {
     "data": {
      "text/plain": [
       "400"
      ]
     },
     "execution_count": 9,
     "metadata": {},
     "output_type": "execute_result"
    }
   ],
   "source": [
    "total_de_alunos = len(nomes)\n",
    "total_de_alunos"
   ]
  },
  {
   "cell_type": "code",
   "execution_count": 10,
   "id": "1f800e97-5902-4bd5-8040-35e706c977f6",
   "metadata": {},
   "outputs": [
    {
     "data": {
      "text/html": [
       "<div>\n",
       "<style scoped>\n",
       "    .dataframe tbody tr th:only-of-type {\n",
       "        vertical-align: middle;\n",
       "    }\n",
       "\n",
       "    .dataframe tbody tr th {\n",
       "        vertical-align: top;\n",
       "    }\n",
       "\n",
       "    .dataframe thead th {\n",
       "        text-align: right;\n",
       "    }\n",
       "</style>\n",
       "<table border=\"1\" class=\"dataframe\">\n",
       "  <thead>\n",
       "    <tr style=\"text-align: right;\">\n",
       "      <th></th>\n",
       "      <th>nome</th>\n",
       "    </tr>\n",
       "  </thead>\n",
       "  <tbody>\n",
       "    <tr>\n",
       "      <th>0</th>\n",
       "      <td>MARIA</td>\n",
       "    </tr>\n",
       "    <tr>\n",
       "      <th>1</th>\n",
       "      <td>ANA</td>\n",
       "    </tr>\n",
       "    <tr>\n",
       "      <th>2</th>\n",
       "      <td>FRANCISCA</td>\n",
       "    </tr>\n",
       "    <tr>\n",
       "      <th>3</th>\n",
       "      <td>ANTONIA</td>\n",
       "    </tr>\n",
       "    <tr>\n",
       "      <th>4</th>\n",
       "      <td>ADRIANA</td>\n",
       "    </tr>\n",
       "  </tbody>\n",
       "</table>\n",
       "</div>"
      ],
      "text/plain": [
       "        nome\n",
       "0      MARIA\n",
       "1        ANA\n",
       "2  FRANCISCA\n",
       "3    ANTONIA\n",
       "4    ADRIANA"
      ]
     },
     "execution_count": 10,
     "metadata": {},
     "output_type": "execute_result"
    }
   ],
   "source": [
    "nomes.head()"
   ]
  },
  {
   "cell_type": "code",
   "execution_count": 11,
   "id": "625b1466-678e-452f-9bbe-ac131015ada1",
   "metadata": {},
   "outputs": [],
   "source": [
    "nomes['id'] = np.random.permutation(total_de_alunos) + 1"
   ]
  },
  {
   "cell_type": "markdown",
   "id": "9bf97a8b-f249-4b6b-986f-6882246c2970",
   "metadata": {
    "jp-MarkdownHeadingCollapsed": true,
    "tags": []
   },
   "source": [
    "# Criando email"
   ]
  },
  {
   "cell_type": "code",
   "execution_count": 12,
   "id": "6253dc7c-fb6e-46d5-bca3-f86ae4862518",
   "metadata": {},
   "outputs": [
    {
     "data": {
      "text/html": [
       "<div>\n",
       "<style scoped>\n",
       "    .dataframe tbody tr th:only-of-type {\n",
       "        vertical-align: middle;\n",
       "    }\n",
       "\n",
       "    .dataframe tbody tr th {\n",
       "        vertical-align: top;\n",
       "    }\n",
       "\n",
       "    .dataframe thead th {\n",
       "        text-align: right;\n",
       "    }\n",
       "</style>\n",
       "<table border=\"1\" class=\"dataframe\">\n",
       "  <thead>\n",
       "    <tr style=\"text-align: right;\">\n",
       "      <th></th>\n",
       "      <th>nome</th>\n",
       "      <th>id</th>\n",
       "      <th>dominio</th>\n",
       "    </tr>\n",
       "  </thead>\n",
       "  <tbody>\n",
       "    <tr>\n",
       "      <th>169</th>\n",
       "      <td>WELLINGTON</td>\n",
       "      <td>92</td>\n",
       "      <td>@example.com</td>\n",
       "    </tr>\n",
       "    <tr>\n",
       "      <th>43</th>\n",
       "      <td>TEREZINHA</td>\n",
       "      <td>370</td>\n",
       "      <td>@example.com</td>\n",
       "    </tr>\n",
       "    <tr>\n",
       "      <th>23</th>\n",
       "      <td>FERNANDO</td>\n",
       "      <td>311</td>\n",
       "      <td>@notreal</td>\n",
       "    </tr>\n",
       "    <tr>\n",
       "      <th>131</th>\n",
       "      <td>BRENO</td>\n",
       "      <td>71</td>\n",
       "      <td>@notreal</td>\n",
       "    </tr>\n",
       "    <tr>\n",
       "      <th>79</th>\n",
       "      <td>VALDIR</td>\n",
       "      <td>265</td>\n",
       "      <td>@notreal</td>\n",
       "    </tr>\n",
       "  </tbody>\n",
       "</table>\n",
       "</div>"
      ],
      "text/plain": [
       "           nome   id       dominio\n",
       "169  WELLINGTON   92  @example.com\n",
       "43    TEREZINHA  370  @example.com\n",
       "23     FERNANDO  311      @notreal\n",
       "131       BRENO   71      @notreal\n",
       "79       VALDIR  265      @notreal"
      ]
     },
     "execution_count": 12,
     "metadata": {},
     "output_type": "execute_result"
    }
   ],
   "source": [
    "dominios = ['@notreal', '@example.com']\n",
    "nomes['dominio'] = np.random.choice(dominios, total_de_alunos)\n",
    "nomes.sample(5)"
   ]
  },
  {
   "cell_type": "code",
   "execution_count": 13,
   "id": "457a55d1-896f-499f-aa02-b3747be994cf",
   "metadata": {},
   "outputs": [],
   "source": [
    "nomes['email'] = nomes.nome.str.cat(nomes.dominio).str.lower()"
   ]
  },
  {
   "cell_type": "code",
   "execution_count": 14,
   "id": "8a0aa97b-b074-4aac-8e68-360633f2f1ee",
   "metadata": {},
   "outputs": [
    {
     "data": {
      "text/html": [
       "<div>\n",
       "<style scoped>\n",
       "    .dataframe tbody tr th:only-of-type {\n",
       "        vertical-align: middle;\n",
       "    }\n",
       "\n",
       "    .dataframe tbody tr th {\n",
       "        vertical-align: top;\n",
       "    }\n",
       "\n",
       "    .dataframe thead th {\n",
       "        text-align: right;\n",
       "    }\n",
       "</style>\n",
       "<table border=\"1\" class=\"dataframe\">\n",
       "  <thead>\n",
       "    <tr style=\"text-align: right;\">\n",
       "      <th></th>\n",
       "      <th>nome</th>\n",
       "      <th>id</th>\n",
       "      <th>dominio</th>\n",
       "      <th>email</th>\n",
       "    </tr>\n",
       "  </thead>\n",
       "  <tbody>\n",
       "    <tr>\n",
       "      <th>138</th>\n",
       "      <td>NEUSA</td>\n",
       "      <td>40</td>\n",
       "      <td>@example.com</td>\n",
       "      <td>neusa@example.com</td>\n",
       "    </tr>\n",
       "    <tr>\n",
       "      <th>40</th>\n",
       "      <td>SERGIO</td>\n",
       "      <td>231</td>\n",
       "      <td>@example.com</td>\n",
       "      <td>sergio@example.com</td>\n",
       "    </tr>\n",
       "    <tr>\n",
       "      <th>65</th>\n",
       "      <td>SILVANA</td>\n",
       "      <td>334</td>\n",
       "      <td>@example.com</td>\n",
       "      <td>silvana@example.com</td>\n",
       "    </tr>\n",
       "    <tr>\n",
       "      <th>76</th>\n",
       "      <td>TATIANE</td>\n",
       "      <td>167</td>\n",
       "      <td>@example.com</td>\n",
       "      <td>tatiane@example.com</td>\n",
       "    </tr>\n",
       "    <tr>\n",
       "      <th>56</th>\n",
       "      <td>DOUGLAS</td>\n",
       "      <td>358</td>\n",
       "      <td>@example.com</td>\n",
       "      <td>douglas@example.com</td>\n",
       "    </tr>\n",
       "  </tbody>\n",
       "</table>\n",
       "</div>"
      ],
      "text/plain": [
       "        nome   id       dominio                email\n",
       "138    NEUSA   40  @example.com    neusa@example.com\n",
       "40    SERGIO  231  @example.com   sergio@example.com\n",
       "65   SILVANA  334  @example.com  silvana@example.com\n",
       "76   TATIANE  167  @example.com  tatiane@example.com\n",
       "56   DOUGLAS  358  @example.com  douglas@example.com"
      ]
     },
     "execution_count": 14,
     "metadata": {},
     "output_type": "execute_result"
    }
   ],
   "source": [
    "nomes.sample(5)"
   ]
  },
  {
   "cell_type": "markdown",
   "id": "2916ba28-8f4a-4c69-b6f1-b3f97132931f",
   "metadata": {
    "jp-MarkdownHeadingCollapsed": true,
    "tags": []
   },
   "source": [
    "# Criando a tabela cursos"
   ]
  },
  {
   "cell_type": "code",
   "execution_count": 15,
   "id": "79420831-cbe5-4202-a395-a6421ae2375a",
   "metadata": {},
   "outputs": [],
   "source": [
    "cursos = [\"Desenvolvimento de Aplicativos Mobile\", \"Segurança da Informação\", \"Análise de Dados com Python\",\n",
    "          \"Desenvolvimento Web com JavaScript\", \"Inteligência Artificial e Machine Learning\"]"
   ]
  },
  {
   "cell_type": "code",
   "execution_count": 16,
   "id": "4f1d2a3b-7e9e-42d1-a4bf-503787d58b98",
   "metadata": {},
   "outputs": [],
   "source": [
    "cursos = pd.DataFrame(cursos)"
   ]
  },
  {
   "cell_type": "code",
   "execution_count": 17,
   "id": "81d78d7f-c4a9-47a5-a659-57d564bd708c",
   "metadata": {},
   "outputs": [],
   "source": [
    "cursos.columns = ['nome_do_curso']"
   ]
  },
  {
   "cell_type": "code",
   "execution_count": 18,
   "id": "9f6ad816-de54-406d-8cd7-0f106453633a",
   "metadata": {},
   "outputs": [],
   "source": [
    "cursos['id_curso'] = np.random.permutation(5) + 1"
   ]
  },
  {
   "cell_type": "code",
   "execution_count": 19,
   "id": "d30fc53a-a44e-4a6e-85cf-fbcdf942882f",
   "metadata": {},
   "outputs": [
    {
     "data": {
      "text/html": [
       "<div>\n",
       "<style scoped>\n",
       "    .dataframe tbody tr th:only-of-type {\n",
       "        vertical-align: middle;\n",
       "    }\n",
       "\n",
       "    .dataframe tbody tr th {\n",
       "        vertical-align: top;\n",
       "    }\n",
       "\n",
       "    .dataframe thead th {\n",
       "        text-align: right;\n",
       "    }\n",
       "</style>\n",
       "<table border=\"1\" class=\"dataframe\">\n",
       "  <thead>\n",
       "    <tr style=\"text-align: right;\">\n",
       "      <th></th>\n",
       "      <th>nome_do_curso</th>\n",
       "      <th>id_curso</th>\n",
       "    </tr>\n",
       "  </thead>\n",
       "  <tbody>\n",
       "    <tr>\n",
       "      <th>0</th>\n",
       "      <td>Desenvolvimento de Aplicativos Mobile</td>\n",
       "      <td>2</td>\n",
       "    </tr>\n",
       "    <tr>\n",
       "      <th>1</th>\n",
       "      <td>Segurança da Informação</td>\n",
       "      <td>1</td>\n",
       "    </tr>\n",
       "    <tr>\n",
       "      <th>2</th>\n",
       "      <td>Análise de Dados com Python</td>\n",
       "      <td>3</td>\n",
       "    </tr>\n",
       "    <tr>\n",
       "      <th>3</th>\n",
       "      <td>Desenvolvimento Web com JavaScript</td>\n",
       "      <td>5</td>\n",
       "    </tr>\n",
       "    <tr>\n",
       "      <th>4</th>\n",
       "      <td>Inteligência Artificial e Machine Learning</td>\n",
       "      <td>4</td>\n",
       "    </tr>\n",
       "  </tbody>\n",
       "</table>\n",
       "</div>"
      ],
      "text/plain": [
       "                                nome_do_curso  id_curso\n",
       "0       Desenvolvimento de Aplicativos Mobile         2\n",
       "1                     Segurança da Informação         1\n",
       "2                 Análise de Dados com Python         3\n",
       "3          Desenvolvimento Web com JavaScript         5\n",
       "4  Inteligência Artificial e Machine Learning         4"
      ]
     },
     "execution_count": 19,
     "metadata": {},
     "output_type": "execute_result"
    }
   ],
   "source": [
    "cursos"
   ]
  },
  {
   "cell_type": "markdown",
   "id": "4bab750e-8b3a-4f19-af2d-637a8834ee06",
   "metadata": {
    "jp-MarkdownHeadingCollapsed": true,
    "tags": []
   },
   "source": [
    "# Matriculando alunos"
   ]
  },
  {
   "cell_type": "code",
   "execution_count": 26,
   "id": "d4a9e983-f244-4ad6-8989-469668b42964",
   "metadata": {},
   "outputs": [],
   "source": [
    "nomes['matricula'] = np.ceil(np.random.exponential(size = total_de_alunos) * 1.5).astype(int)"
   ]
  },
  {
   "cell_type": "code",
   "execution_count": 28,
   "id": "af54bddd-85d9-4df2-a8e7-670eb40d1fac",
   "metadata": {},
   "outputs": [
    {
     "data": {
      "text/html": [
       "<div>\n",
       "<style scoped>\n",
       "    .dataframe tbody tr th:only-of-type {\n",
       "        vertical-align: middle;\n",
       "    }\n",
       "\n",
       "    .dataframe tbody tr th {\n",
       "        vertical-align: top;\n",
       "    }\n",
       "\n",
       "    .dataframe thead th {\n",
       "        text-align: right;\n",
       "    }\n",
       "</style>\n",
       "<table border=\"1\" class=\"dataframe\">\n",
       "  <thead>\n",
       "    <tr style=\"text-align: right;\">\n",
       "      <th></th>\n",
       "      <th>nome</th>\n",
       "      <th>id</th>\n",
       "      <th>dominio</th>\n",
       "      <th>email</th>\n",
       "      <th>matricula</th>\n",
       "    </tr>\n",
       "  </thead>\n",
       "  <tbody>\n",
       "    <tr>\n",
       "      <th>187</th>\n",
       "      <td>NAIARA</td>\n",
       "      <td>310</td>\n",
       "      <td>@notreal</td>\n",
       "      <td>naiara@notreal</td>\n",
       "      <td>4</td>\n",
       "    </tr>\n",
       "    <tr>\n",
       "      <th>145</th>\n",
       "      <td>FRANCIELE</td>\n",
       "      <td>320</td>\n",
       "      <td>@example.com</td>\n",
       "      <td>franciele@example.com</td>\n",
       "      <td>2</td>\n",
       "    </tr>\n",
       "    <tr>\n",
       "      <th>171</th>\n",
       "      <td>VALDEMIR</td>\n",
       "      <td>101</td>\n",
       "      <td>@example.com</td>\n",
       "      <td>valdemir@example.com</td>\n",
       "      <td>1</td>\n",
       "    </tr>\n",
       "    <tr>\n",
       "      <th>196</th>\n",
       "      <td>ARLINDO</td>\n",
       "      <td>360</td>\n",
       "      <td>@notreal</td>\n",
       "      <td>arlindo@notreal</td>\n",
       "      <td>2</td>\n",
       "    </tr>\n",
       "    <tr>\n",
       "      <th>147</th>\n",
       "      <td>LILIAN</td>\n",
       "      <td>294</td>\n",
       "      <td>@example.com</td>\n",
       "      <td>lilian@example.com</td>\n",
       "      <td>1</td>\n",
       "    </tr>\n",
       "  </tbody>\n",
       "</table>\n",
       "</div>"
      ],
      "text/plain": [
       "          nome   id       dominio                  email  matricula\n",
       "187     NAIARA  310      @notreal         naiara@notreal          4\n",
       "145  FRANCIELE  320  @example.com  franciele@example.com          2\n",
       "171   VALDEMIR  101  @example.com   valdemir@example.com          1\n",
       "196    ARLINDO  360      @notreal        arlindo@notreal          2\n",
       "147     LILIAN  294  @example.com     lilian@example.com          1"
      ]
     },
     "execution_count": 28,
     "metadata": {},
     "output_type": "execute_result"
    }
   ],
   "source": [
    "nomes.sample(5)"
   ]
  },
  {
   "cell_type": "code",
   "execution_count": 29,
   "id": "32bfcfd0-0b18-43f4-9982-4189999530ae",
   "metadata": {},
   "outputs": [
    {
     "data": {
      "text/plain": [
       "count    400.000000\n",
       "mean       2.017500\n",
       "std        1.448253\n",
       "min        1.000000\n",
       "25%        1.000000\n",
       "50%        1.000000\n",
       "75%        3.000000\n",
       "max        9.000000\n",
       "Name: matricula, dtype: float64"
      ]
     },
     "execution_count": 29,
     "metadata": {},
     "output_type": "execute_result"
    }
   ],
   "source": [
    "nomes.matricula.describe()"
   ]
  },
  {
   "cell_type": "code",
   "execution_count": 31,
   "id": "9d79b398-addf-4fc6-aeb7-bc56fd1dff0a",
   "metadata": {},
   "outputs": [],
   "source": [
    "import seaborn as sns"
   ]
  },
  {
   "cell_type": "code",
   "execution_count": 40,
   "id": "5fe9cedc-b9ce-40e5-95f9-7ac47cc00569",
   "metadata": {
    "collapsed": true,
    "jupyter": {
     "outputs_hidden": true
    },
    "tags": []
   },
   "outputs": [
    {
     "name": "stderr",
     "output_type": "stream",
     "text": [
      "/home/joel/anaconda3/lib/python3.7/site-packages/ipykernel_launcher.py:1: UserWarning: \n",
      "\n",
      "`distplot` is a deprecated function and will be removed in seaborn v0.14.0.\n",
      "\n",
      "Please adapt your code to use either `displot` (a figure-level function with\n",
      "similar flexibility) or `histplot` (an axes-level function for histograms).\n",
      "\n",
      "For a guide to updating your code to use the new functions, please see\n",
      "https://gist.github.com/mwaskom/de44147ed2974457ad6372750bbe5751\n",
      "\n",
      "  \"\"\"Entry point for launching an IPython kernel.\n"
     ]
    },
    {
     "data": {
      "text/plain": [
       "<AxesSubplot:xlabel='matricula', ylabel='Density'>"
      ]
     },
     "execution_count": 40,
     "metadata": {},
     "output_type": "execute_result"
    },
    {
     "data": {
      "image/png": "[encoded data removed]",
      "text/plain": [
       "<Figure size 640x480 with 1 Axes>"
      ]
     },
     "metadata": {},
     "output_type": "display_data"
    }
   ],
   "source": [
    "sns.distplot(nomes.matricula)"
   ]
  },
  {
   "cell_type": "code",
   "execution_count": 39,
   "id": "83b6069a-3377-43ac-b575-1d5a53249899",
   "metadata": {},
   "outputs": [
    {
     "data": {
      "text/plain": [
       "1    202\n",
       "2     96\n",
       "3     48\n",
       "4     30\n",
       "5     10\n",
       "6      6\n",
       "8      3\n",
       "7      3\n",
       "9      2\n",
       "Name: matricula, dtype: int64"
      ]
     },
     "execution_count": 39,
     "metadata": {},
     "output_type": "execute_result"
    }
   ],
   "source": [
    "nomes.matricula.value_counts()"
   ]
  },
  {
   "cell_type": "markdown",
   "id": "cefcb179-d800-44a0-b74c-c19f3a24ad3a",
   "metadata": {
    "tags": []
   },
   "source": [
    "# Melhorando os cursos"
   ]
  },
  {
   "cell_type": "code",
   "execution_count": 49,
   "id": "855745ed-3001-483e-9ae1-47284fd6fcd6",
   "metadata": {
    "collapsed": true,
    "jupyter": {
     "outputs_hidden": true
    },
    "tags": []
   },
   "outputs": [
    {
     "data": {
      "text/html": [
       "<div>\n",
       "<style scoped>\n",
       "    .dataframe tbody tr th:only-of-type {\n",
       "        vertical-align: middle;\n",
       "    }\n",
       "\n",
       "    .dataframe tbody tr th {\n",
       "        vertical-align: top;\n",
       "    }\n",
       "\n",
       "    .dataframe thead th {\n",
       "        text-align: right;\n",
       "    }\n",
       "</style>\n",
       "<table border=\"1\" class=\"dataframe\">\n",
       "  <thead>\n",
       "    <tr style=\"text-align: right;\">\n",
       "      <th></th>\n",
       "      <th>nome</th>\n",
       "      <th>id</th>\n",
       "      <th>dominio</th>\n",
       "      <th>email</th>\n",
       "      <th>matricula</th>\n",
       "    </tr>\n",
       "  </thead>\n",
       "  <tbody>\n",
       "    <tr>\n",
       "      <th>0</th>\n",
       "      <td>MARIA</td>\n",
       "      <td>249</td>\n",
       "      <td>@example.com</td>\n",
       "      <td>maria@example.com</td>\n",
       "      <td>1</td>\n",
       "    </tr>\n",
       "    <tr>\n",
       "      <th>1</th>\n",
       "      <td>ANA</td>\n",
       "      <td>319</td>\n",
       "      <td>@notreal</td>\n",
       "      <td>ana@notreal</td>\n",
       "      <td>4</td>\n",
       "    </tr>\n",
       "    <tr>\n",
       "      <th>2</th>\n",
       "      <td>FRANCISCA</td>\n",
       "      <td>174</td>\n",
       "      <td>@notreal</td>\n",
       "      <td>francisca@notreal</td>\n",
       "      <td>1</td>\n",
       "    </tr>\n",
       "    <tr>\n",
       "      <th>3</th>\n",
       "      <td>ANTONIA</td>\n",
       "      <td>286</td>\n",
       "      <td>@example.com</td>\n",
       "      <td>antonia@example.com</td>\n",
       "      <td>2</td>\n",
       "    </tr>\n",
       "    <tr>\n",
       "      <th>4</th>\n",
       "      <td>ADRIANA</td>\n",
       "      <td>185</td>\n",
       "      <td>@notreal</td>\n",
       "      <td>adriana@notreal</td>\n",
       "      <td>1</td>\n",
       "    </tr>\n",
       "    <tr>\n",
       "      <th>...</th>\n",
       "      <td>...</td>\n",
       "      <td>...</td>\n",
       "      <td>...</td>\n",
       "      <td>...</td>\n",
       "      <td>...</td>\n",
       "    </tr>\n",
       "    <tr>\n",
       "      <th>195</th>\n",
       "      <td>WALTER</td>\n",
       "      <td>344</td>\n",
       "      <td>@notreal</td>\n",
       "      <td>walter@notreal</td>\n",
       "      <td>2</td>\n",
       "    </tr>\n",
       "    <tr>\n",
       "      <th>196</th>\n",
       "      <td>ARLINDO</td>\n",
       "      <td>360</td>\n",
       "      <td>@notreal</td>\n",
       "      <td>arlindo@notreal</td>\n",
       "      <td>2</td>\n",
       "    </tr>\n",
       "    <tr>\n",
       "      <th>197</th>\n",
       "      <td>MICHAEL</td>\n",
       "      <td>324</td>\n",
       "      <td>@example.com</td>\n",
       "      <td>michael@example.com</td>\n",
       "      <td>2</td>\n",
       "    </tr>\n",
       "    <tr>\n",
       "      <th>198</th>\n",
       "      <td>ALVARO</td>\n",
       "      <td>281</td>\n",
       "      <td>@notreal</td>\n",
       "      <td>alvaro@notreal</td>\n",
       "      <td>1</td>\n",
       "    </tr>\n",
       "    <tr>\n",
       "      <th>199</th>\n",
       "      <td>GEOVANE</td>\n",
       "      <td>9</td>\n",
       "      <td>@notreal</td>\n",
       "      <td>geovane@notreal</td>\n",
       "      <td>1</td>\n",
       "    </tr>\n",
       "  </tbody>\n",
       "</table>\n",
       "<p>400 rows × 5 columns</p>\n",
       "</div>"
      ],
      "text/plain": [
       "          nome   id       dominio                email  matricula\n",
       "0        MARIA  249  @example.com    maria@example.com          1\n",
       "1          ANA  319      @notreal          ana@notreal          4\n",
       "2    FRANCISCA  174      @notreal    francisca@notreal          1\n",
       "3      ANTONIA  286  @example.com  antonia@example.com          2\n",
       "4      ADRIANA  185      @notreal      adriana@notreal          1\n",
       "..         ...  ...           ...                  ...        ...\n",
       "195     WALTER  344      @notreal       walter@notreal          2\n",
       "196    ARLINDO  360      @notreal      arlindo@notreal          2\n",
       "197    MICHAEL  324  @example.com  michael@example.com          2\n",
       "198     ALVARO  281      @notreal       alvaro@notreal          1\n",
       "199    GEOVANE    9      @notreal      geovane@notreal          1\n",
       "\n",
       "[400 rows x 5 columns]"
      ]
     },
     "execution_count": 49,
     "metadata": {},
     "output_type": "execute_result"
    }
   ],
   "source": [
    "nomes"
   ]
  },
  {
   "cell_type": "code",
   "execution_count": 117,
   "id": "e4bf94a4-dd83-4624-af32-7ac18872e84d",
   "metadata": {
    "collapsed": true,
    "jupyter": {
     "outputs_hidden": true,
     "source_hidden": true
    },
    "tags": []
   },
   "outputs": [
    {
     "data": {
      "text/html": [
       "<div>\n",
       "<style scoped>\n",
       "    .dataframe tbody tr th:only-of-type {\n",
       "        vertical-align: middle;\n",
       "    }\n",
       "\n",
       "    .dataframe tbody tr th {\n",
       "        vertical-align: top;\n",
       "    }\n",
       "\n",
       "    .dataframe thead th {\n",
       "        text-align: right;\n",
       "    }\n",
       "</style>\n",
       "<table border=\"1\" class=\"dataframe\">\n",
       "  <thead>\n",
       "    <tr style=\"text-align: right;\">\n",
       "      <th></th>\n",
       "      <th>nome</th>\n",
       "      <th>id</th>\n",
       "      <th>dominio</th>\n",
       "      <th>email</th>\n",
       "      <th>matricula</th>\n",
       "      <th>cursos</th>\n",
       "    </tr>\n",
       "  </thead>\n",
       "  <tbody>\n",
       "    <tr>\n",
       "      <th>0</th>\n",
       "      <td>MARIA</td>\n",
       "      <td>249</td>\n",
       "      <td>@example.com</td>\n",
       "      <td>maria@example.com</td>\n",
       "      <td>1</td>\n",
       "      <td>Análise de Dados com Python</td>\n",
       "    </tr>\n",
       "    <tr>\n",
       "      <th>1</th>\n",
       "      <td>ANA</td>\n",
       "      <td>319</td>\n",
       "      <td>@notreal</td>\n",
       "      <td>ana@notreal</td>\n",
       "      <td>4</td>\n",
       "      <td>Desenvolvimento Web com JavaScript</td>\n",
       "    </tr>\n",
       "    <tr>\n",
       "      <th>2</th>\n",
       "      <td>FRANCISCA</td>\n",
       "      <td>174</td>\n",
       "      <td>@notreal</td>\n",
       "      <td>francisca@notreal</td>\n",
       "      <td>1</td>\n",
       "      <td>Segurança da Informação</td>\n",
       "    </tr>\n",
       "    <tr>\n",
       "      <th>3</th>\n",
       "      <td>ANTONIA</td>\n",
       "      <td>286</td>\n",
       "      <td>@example.com</td>\n",
       "      <td>antonia@example.com</td>\n",
       "      <td>2</td>\n",
       "      <td>Segurança da Informação</td>\n",
       "    </tr>\n",
       "    <tr>\n",
       "      <th>4</th>\n",
       "      <td>ADRIANA</td>\n",
       "      <td>185</td>\n",
       "      <td>@notreal</td>\n",
       "      <td>adriana@notreal</td>\n",
       "      <td>1</td>\n",
       "      <td>Desenvolvimento de Aplicativos Mobile</td>\n",
       "    </tr>\n",
       "    <tr>\n",
       "      <th>...</th>\n",
       "      <td>...</td>\n",
       "      <td>...</td>\n",
       "      <td>...</td>\n",
       "      <td>...</td>\n",
       "      <td>...</td>\n",
       "      <td>...</td>\n",
       "    </tr>\n",
       "    <tr>\n",
       "      <th>195</th>\n",
       "      <td>WALTER</td>\n",
       "      <td>344</td>\n",
       "      <td>@notreal</td>\n",
       "      <td>walter@notreal</td>\n",
       "      <td>2</td>\n",
       "      <td>Inteligência Artificial e Machine Learning</td>\n",
       "    </tr>\n",
       "    <tr>\n",
       "      <th>196</th>\n",
       "      <td>ARLINDO</td>\n",
       "      <td>360</td>\n",
       "      <td>@notreal</td>\n",
       "      <td>arlindo@notreal</td>\n",
       "      <td>2</td>\n",
       "      <td>Segurança da Informação</td>\n",
       "    </tr>\n",
       "    <tr>\n",
       "      <th>197</th>\n",
       "      <td>MICHAEL</td>\n",
       "      <td>324</td>\n",
       "      <td>@example.com</td>\n",
       "      <td>michael@example.com</td>\n",
       "      <td>2</td>\n",
       "      <td>Análise de Dados com Python</td>\n",
       "    </tr>\n",
       "    <tr>\n",
       "      <th>198</th>\n",
       "      <td>ALVARO</td>\n",
       "      <td>281</td>\n",
       "      <td>@notreal</td>\n",
       "      <td>alvaro@notreal</td>\n",
       "      <td>1</td>\n",
       "      <td>Análise de Dados com Python</td>\n",
       "    </tr>\n",
       "    <tr>\n",
       "      <th>199</th>\n",
       "      <td>GEOVANE</td>\n",
       "      <td>9</td>\n",
       "      <td>@notreal</td>\n",
       "      <td>geovane@notreal</td>\n",
       "      <td>1</td>\n",
       "      <td>Desenvolvimento de Aplicativos Mobile</td>\n",
       "    </tr>\n",
       "  </tbody>\n",
       "</table>\n",
       "<p>400 rows × 6 columns</p>\n",
       "</div>"
      ],
      "text/plain": [
       "          nome   id       dominio                email  matricula  \\\n",
       "0        MARIA  249  @example.com    maria@example.com          1   \n",
       "1          ANA  319      @notreal          ana@notreal          4   \n",
       "2    FRANCISCA  174      @notreal    francisca@notreal          1   \n",
       "3      ANTONIA  286  @example.com  antonia@example.com          2   \n",
       "4      ADRIANA  185      @notreal      adriana@notreal          1   \n",
       "..         ...  ...           ...                  ...        ...   \n",
       "195     WALTER  344      @notreal       walter@notreal          2   \n",
       "196    ARLINDO  360      @notreal      arlindo@notreal          2   \n",
       "197    MICHAEL  324  @example.com  michael@example.com          2   \n",
       "198     ALVARO  281      @notreal       alvaro@notreal          1   \n",
       "199    GEOVANE    9      @notreal      geovane@notreal          1   \n",
       "\n",
       "                                         cursos  \n",
       "0                   Análise de Dados com Python  \n",
       "1            Desenvolvimento Web com JavaScript  \n",
       "2                       Segurança da Informação  \n",
       "3                       Segurança da Informação  \n",
       "4         Desenvolvimento de Aplicativos Mobile  \n",
       "..                                          ...  \n",
       "195  Inteligência Artificial e Machine Learning  \n",
       "196                     Segurança da Informação  \n",
       "197                 Análise de Dados com Python  \n",
       "198                 Análise de Dados com Python  \n",
       "199       Desenvolvimento de Aplicativos Mobile  \n",
       "\n",
       "[400 rows x 6 columns]"
      ]
     },
     "execution_count": 117,
     "metadata": {},
     "output_type": "execute_result"
    }
   ],
   "source": [
    "cursos = [\"Desenvolvimento de Aplicativos Mobile\", \"Segurança da Informação\", \"Análise de Dados com Python\",\n",
    "          \"Desenvolvimento Web com JavaScript\", \"Inteligência Artificial e Machine Learning\"]\n",
    "\n",
    "nomes['cursos'] = np.random.choice(cursos, total_de_alunos)\n",
    "nomes"
   ]
  },
  {
   "cell_type": "code",
   "execution_count": null,
   "id": "3cdb306d-2ef2-4e7a-a2ad-3851897705da",
   "metadata": {},
   "outputs": [],
   "source": []
  }
 ],
 "metadata": {
  "kernelspec": {
   "display_name": "Python 3 (ipykernel)",
   "language": "python",
   "name": "python3"
  },
  "language_info": {
   "codemirror_mode": {
    "name": "ipython",
    "version": 3
   },
   "file_extension": ".py",
   "mimetype": "text/x-python",
   "name": "python",
   "nbconvert_exporter": "python",
   "pygments_lexer": "ipython3",
   "version": "3.7.6"
  }
 },
 "nbformat": 4,
 "nbformat_minor": 5
}
