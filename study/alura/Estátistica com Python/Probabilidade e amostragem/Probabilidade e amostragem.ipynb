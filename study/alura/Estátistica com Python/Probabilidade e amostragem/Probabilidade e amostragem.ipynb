{
 "cells": [
  {
   "cell_type": "markdown",
   "id": "b0faa3e0",
   "metadata": {},
   "source": [
    "# Probabilidade e amostragem\n",
    "---"
   ]
  },
  {
   "cell_type": "markdown",
   "id": "242911e0",
   "metadata": {},
   "source": [
    "## Distribuição binomial"
   ]
  },
  {
   "cell_type": "code",
   "execution_count": 27,
   "id": "a58a2a49",
   "metadata": {},
   "outputs": [],
   "source": [
    "# Importando módulos gerais\n",
    "import pandas as pd\n",
    "import numpy as np"
   ]
  },
  {
   "cell_type": "code",
   "execution_count": 36,
   "id": "53e2b03f",
   "metadata": {},
   "outputs": [
    {
     "name": "stdout",
     "output_type": "stream",
     "text": [
      "A probabilidade de ganhar na mega-sena é de 1 em 50063860\n",
      "ou de 0.000002%\n"
     ]
    }
   ],
   "source": [
    "# Função para cálculo de combinações\n",
    "from scipy.special import comb\n",
    "\n",
    "# Calculando a chance de se ganhar na mega-sena\n",
    "jogos_possiveis = comb(60, 6)\n",
    "probabilidade_de_sucesso = 1 / jogos_possiveis\n",
    "\n",
    "print('A probabilidade de ganhar na mega-sena é de 1 em %d' % jogos_possiveis)\n",
    "print('ou de %.6f%%' % (probabilidade_de_sucesso * 100))"
   ]
  },
  {
   "cell_type": "code",
   "execution_count": 43,
   "id": "2a8ce83c",
   "metadata": {},
   "outputs": [
    {
     "name": "stdout",
     "output_type": "stream",
     "text": [
      "A probabilidade do participante acertar 5 questões é de 13.66%\n",
      "A probabilidade do participante ser aprovado é de 21.31%\n"
     ]
    }
   ],
   "source": [
    "# Função para cálculo de distribuições binomiais\n",
    "from scipy.stats import binom\n",
    "\n",
    "# Definindo o número de questões e a probabilidade de sucesso em cada\n",
    "n = 10\n",
    "p = 1 / 3\n",
    "\n",
    "# Calculo da chance do participante acertar 5 questões\n",
    "print('A probabilidade do participante acertar 5 questões é de %.2f%%' % (binom.pmf(5, n, p) * 100))\n",
    "\n",
    "# Calculo de chance do participante ser aprovado\n",
    "print('A probabilidade do participante ser aprovado é de %.2f%%' % (binom.sf(4, n, p) * 100))"
   ]
  },
  {
   "cell_type": "code",
   "execution_count": 56,
   "id": "a44dd90e",
   "metadata": {},
   "outputs": [
    {
     "name": "stdout",
     "output_type": "stream",
     "text": [
      "A chance de uma equipe ter 8 mulheres é de 21.28%\n",
      "De 30 equipes, 6 terão 8 mulheres\n"
     ]
    }
   ],
   "source": [
    "# Quantas equipes serão formadas por 8 mulheres\n",
    "p = 0.6\n",
    "n = 12\n",
    "k = 8\n",
    "\n",
    "# Cálculo da probabilidade uma equipe ter 8 mulheres\n",
    "print('A chance de uma equipe ter 8 mulheres é de %.2f%%' % (binom.pmf(k, n, p) * 100))\n",
    "\n",
    "# Cálculo de quantas equipes terão 8 mulheres\n",
    "equipes = round(30 * binom.pmf(k, n, p))\n",
    "print('De 30 equipes, %d terão 8 mulheres' % equipes)"
   ]
  },
  {
   "cell_type": "markdown",
   "id": "f0a93283",
   "metadata": {},
   "source": [
    "## Distribuição poisson"
   ]
  },
  {
   "cell_type": "code",
   "execution_count": 58,
   "id": "7a07aeae",
   "metadata": {},
   "outputs": [],
   "source": [
    "# Definindo o número de euler\n",
    "e = np.e"
   ]
  },
  {
   "cell_type": "code",
   "execution_count": 80,
   "id": "0cc92690",
   "metadata": {},
   "outputs": [
    {
     "name": "stdout",
     "output_type": "stream",
     "text": [
      "A probabilidade do restaurante receber 15 pedidos em uma hora é de 5.16%\n"
     ]
    }
   ],
   "source": [
    "# Função para cálculo de distribuições poisson\n",
    "from scipy.stats import poisson\n",
    "\n",
    "# Cálculo da chance do restaurente receber 15 pedidos em uma hora\n",
    "print('A probabilidade do restaurante receber 15 pedidos em uma hora é de %.2f%%' % (poisson.pmf(15, 20) * 100))"
   ]
  },
  {
   "cell_type": "markdown",
   "id": "34ba50db",
   "metadata": {},
   "source": [
    "## Distribuição normal"
   ]
  },
  {
   "cell_type": "code",
   "execution_count": 108,
   "id": "bba27053",
   "metadata": {},
   "outputs": [
    {
     "name": "stdout",
     "output_type": "stream",
     "text": [
      "A probabilidade de alguém ter menos de 1,80 metros é de 84.13%\n",
      "A probabilidade de alguém ter entre 1,60m e 1,80 é de 68.27%\n",
      "A probabilidade de alguém ter mais de 1,90m é de 2.28%\n"
     ]
    }
   ],
   "source": [
    "# A probabilidade das alturas\n",
    "u = 1.7\n",
    "s = 0.1\n",
    "z1 = (1.8 - u) / s\n",
    "z2 = (1.6 - u) / s\n",
    "z3 = (1.9 - u) / s\n",
    "\n",
    "from scipy.stats import norm\n",
    "\n",
    "print('A probabilidade de alguém ter menos de 1,80 metros é de %.2f%%' % (norm.cdf(z1) * 100))\n",
    "print('A probabilidade de alguém ter entre 1,60m e 1,80 é de %.2f%%' % ((norm.cdf(z1) - norm.cdf(z2)) * 100))\n",
    "print('A probabilidade de alguém ter mais de 1,90m é de %.2f%%' % ((1 - norm.cdf(z3)) * 100))"
   ]
  },
  {
   "cell_type": "markdown",
   "id": "f0ece59d",
   "metadata": {},
   "source": [
    "## Técnicas de amostragem"
   ]
  },
  {
   "cell_type": "code",
   "execution_count": 112,
   "id": "4908eba9",
   "metadata": {},
   "outputs": [
    {
     "data": {
      "text/plain": [
       "76840"
      ]
     },
     "execution_count": 112,
     "metadata": {},
     "output_type": "execute_result"
    }
   ],
   "source": [
    "# Observações do dataset\n",
    "df.shape[0]"
   ]
  },
  {
   "cell_type": "code",
   "execution_count": 115,
   "id": "c61ebd0b",
   "metadata": {},
   "outputs": [
    {
     "data": {
      "text/plain": [
       "2000.3831988547631"
      ]
     },
     "execution_count": 115,
     "metadata": {},
     "output_type": "execute_result"
    }
   ],
   "source": [
    "# Renda média do dataset\n",
    "df['Renda'].mean()"
   ]
  },
  {
   "cell_type": "code",
   "execution_count": 118,
   "id": "296400ac",
   "metadata": {},
   "outputs": [
    {
     "data": {
      "text/plain": [
       "2150.85"
      ]
     },
     "execution_count": 118,
     "metadata": {},
     "output_type": "execute_result"
    }
   ],
   "source": [
    "# Extraindo uma amostra do dataset\n",
    "amostra = df.sample(n = 100, random_state = 101)\n",
    "\n",
    "# Renda média da amostra\n",
    "amostra['Renda'].mean()"
   ]
  },
  {
   "cell_type": "code",
   "execution_count": 121,
   "id": "ace8e3ed",
   "metadata": {},
   "outputs": [
    {
     "data": {
      "text/plain": [
       "0    0.692998\n",
       "1    0.307002\n",
       "Name: Sexo, dtype: float64"
      ]
     },
     "execution_count": 121,
     "metadata": {},
     "output_type": "execute_result"
    }
   ],
   "source": [
    "# Números de homens e de mulheres do dataset\n",
    "df['Sexo'].value_counts(normalize = True)"
   ]
  },
  {
   "cell_type": "code",
   "execution_count": 122,
   "id": "ad40fb1e",
   "metadata": {},
   "outputs": [
    {
     "data": {
      "text/plain": [
       "0    0.69\n",
       "1    0.31\n",
       "Name: Sexo, dtype: float64"
      ]
     },
     "execution_count": 122,
     "metadata": {},
     "output_type": "execute_result"
    }
   ],
   "source": [
    "# Número de homens e mulheres da amostra\n",
    "amostra['Sexo'].value_counts(normalize = True)"
   ]
  },
  {
   "cell_type": "markdown",
   "id": "f5fae34b",
   "metadata": {},
   "source": [
    "## Nível de intervalo de confiança"
   ]
  },
  {
   "cell_type": "code",
   "execution_count": 147,
   "id": "2ef87bae",
   "metadata": {
    "scrolled": false
   },
   "outputs": [
    {
     "data": {
      "text/html": [
       "<div>\n",
       "<style scoped>\n",
       "    .dataframe tbody tr th:only-of-type {\n",
       "        vertical-align: middle;\n",
       "    }\n",
       "\n",
       "    .dataframe tbody tr th {\n",
       "        vertical-align: top;\n",
       "    }\n",
       "\n",
       "    .dataframe thead th {\n",
       "        text-align: right;\n",
       "    }\n",
       "</style>\n",
       "<table border=\"1\" class=\"dataframe\">\n",
       "  <thead>\n",
       "    <tr style=\"text-align: right;\">\n",
       "      <th></th>\n",
       "      <th>Amostra_0</th>\n",
       "      <th>Amostra_1</th>\n",
       "      <th>Amostra_2</th>\n",
       "      <th>Amostra_3</th>\n",
       "      <th>Amostra_4</th>\n",
       "      <th>Amostra_5</th>\n",
       "      <th>Amostra_6</th>\n",
       "      <th>Amostra_7</th>\n",
       "      <th>Amostra_8</th>\n",
       "      <th>Amostra_9</th>\n",
       "      <th>...</th>\n",
       "      <th>Amostra_1990</th>\n",
       "      <th>Amostra_1991</th>\n",
       "      <th>Amostra_1992</th>\n",
       "      <th>Amostra_1993</th>\n",
       "      <th>Amostra_1994</th>\n",
       "      <th>Amostra_1995</th>\n",
       "      <th>Amostra_1996</th>\n",
       "      <th>Amostra_1997</th>\n",
       "      <th>Amostra_1998</th>\n",
       "      <th>Amostra_1999</th>\n",
       "    </tr>\n",
       "  </thead>\n",
       "  <tbody>\n",
       "    <tr>\n",
       "      <th>0</th>\n",
       "      <td>57</td>\n",
       "      <td>52</td>\n",
       "      <td>50</td>\n",
       "      <td>41</td>\n",
       "      <td>52</td>\n",
       "      <td>62</td>\n",
       "      <td>31</td>\n",
       "      <td>52</td>\n",
       "      <td>31</td>\n",
       "      <td>66</td>\n",
       "      <td>...</td>\n",
       "      <td>39</td>\n",
       "      <td>46</td>\n",
       "      <td>44</td>\n",
       "      <td>51</td>\n",
       "      <td>59</td>\n",
       "      <td>25</td>\n",
       "      <td>53</td>\n",
       "      <td>21</td>\n",
       "      <td>40</td>\n",
       "      <td>67</td>\n",
       "    </tr>\n",
       "    <tr>\n",
       "      <th>1</th>\n",
       "      <td>60</td>\n",
       "      <td>21</td>\n",
       "      <td>34</td>\n",
       "      <td>48</td>\n",
       "      <td>74</td>\n",
       "      <td>32</td>\n",
       "      <td>30</td>\n",
       "      <td>25</td>\n",
       "      <td>37</td>\n",
       "      <td>25</td>\n",
       "      <td>...</td>\n",
       "      <td>33</td>\n",
       "      <td>48</td>\n",
       "      <td>51</td>\n",
       "      <td>52</td>\n",
       "      <td>44</td>\n",
       "      <td>47</td>\n",
       "      <td>31</td>\n",
       "      <td>27</td>\n",
       "      <td>57</td>\n",
       "      <td>44</td>\n",
       "    </tr>\n",
       "    <tr>\n",
       "      <th>2</th>\n",
       "      <td>55</td>\n",
       "      <td>50</td>\n",
       "      <td>36</td>\n",
       "      <td>30</td>\n",
       "      <td>27</td>\n",
       "      <td>57</td>\n",
       "      <td>55</td>\n",
       "      <td>64</td>\n",
       "      <td>42</td>\n",
       "      <td>65</td>\n",
       "      <td>...</td>\n",
       "      <td>35</td>\n",
       "      <td>63</td>\n",
       "      <td>20</td>\n",
       "      <td>42</td>\n",
       "      <td>47</td>\n",
       "      <td>40</td>\n",
       "      <td>51</td>\n",
       "      <td>43</td>\n",
       "      <td>41</td>\n",
       "      <td>59</td>\n",
       "    </tr>\n",
       "    <tr>\n",
       "      <th>3</th>\n",
       "      <td>39</td>\n",
       "      <td>49</td>\n",
       "      <td>41</td>\n",
       "      <td>37</td>\n",
       "      <td>47</td>\n",
       "      <td>41</td>\n",
       "      <td>39</td>\n",
       "      <td>53</td>\n",
       "      <td>40</td>\n",
       "      <td>27</td>\n",
       "      <td>...</td>\n",
       "      <td>67</td>\n",
       "      <td>24</td>\n",
       "      <td>33</td>\n",
       "      <td>21</td>\n",
       "      <td>54</td>\n",
       "      <td>53</td>\n",
       "      <td>60</td>\n",
       "      <td>65</td>\n",
       "      <td>45</td>\n",
       "      <td>41</td>\n",
       "    </tr>\n",
       "    <tr>\n",
       "      <th>4</th>\n",
       "      <td>31</td>\n",
       "      <td>33</td>\n",
       "      <td>42</td>\n",
       "      <td>40</td>\n",
       "      <td>35</td>\n",
       "      <td>58</td>\n",
       "      <td>35</td>\n",
       "      <td>42</td>\n",
       "      <td>40</td>\n",
       "      <td>53</td>\n",
       "      <td>...</td>\n",
       "      <td>55</td>\n",
       "      <td>45</td>\n",
       "      <td>52</td>\n",
       "      <td>57</td>\n",
       "      <td>35</td>\n",
       "      <td>30</td>\n",
       "      <td>42</td>\n",
       "      <td>41</td>\n",
       "      <td>37</td>\n",
       "      <td>32</td>\n",
       "    </tr>\n",
       "    <tr>\n",
       "      <th>...</th>\n",
       "      <td>...</td>\n",
       "      <td>...</td>\n",
       "      <td>...</td>\n",
       "      <td>...</td>\n",
       "      <td>...</td>\n",
       "      <td>...</td>\n",
       "      <td>...</td>\n",
       "      <td>...</td>\n",
       "      <td>...</td>\n",
       "      <td>...</td>\n",
       "      <td>...</td>\n",
       "      <td>...</td>\n",
       "      <td>...</td>\n",
       "      <td>...</td>\n",
       "      <td>...</td>\n",
       "      <td>...</td>\n",
       "      <td>...</td>\n",
       "      <td>...</td>\n",
       "      <td>...</td>\n",
       "      <td>...</td>\n",
       "      <td>...</td>\n",
       "    </tr>\n",
       "    <tr>\n",
       "      <th>1495</th>\n",
       "      <td>32</td>\n",
       "      <td>39</td>\n",
       "      <td>28</td>\n",
       "      <td>37</td>\n",
       "      <td>21</td>\n",
       "      <td>46</td>\n",
       "      <td>52</td>\n",
       "      <td>42</td>\n",
       "      <td>40</td>\n",
       "      <td>39</td>\n",
       "      <td>...</td>\n",
       "      <td>71</td>\n",
       "      <td>25</td>\n",
       "      <td>41</td>\n",
       "      <td>37</td>\n",
       "      <td>38</td>\n",
       "      <td>29</td>\n",
       "      <td>61</td>\n",
       "      <td>63</td>\n",
       "      <td>54</td>\n",
       "      <td>58</td>\n",
       "    </tr>\n",
       "    <tr>\n",
       "      <th>1496</th>\n",
       "      <td>51</td>\n",
       "      <td>21</td>\n",
       "      <td>46</td>\n",
       "      <td>40</td>\n",
       "      <td>35</td>\n",
       "      <td>61</td>\n",
       "      <td>34</td>\n",
       "      <td>69</td>\n",
       "      <td>49</td>\n",
       "      <td>48</td>\n",
       "      <td>...</td>\n",
       "      <td>26</td>\n",
       "      <td>22</td>\n",
       "      <td>63</td>\n",
       "      <td>49</td>\n",
       "      <td>57</td>\n",
       "      <td>45</td>\n",
       "      <td>35</td>\n",
       "      <td>50</td>\n",
       "      <td>47</td>\n",
       "      <td>33</td>\n",
       "    </tr>\n",
       "    <tr>\n",
       "      <th>1497</th>\n",
       "      <td>59</td>\n",
       "      <td>30</td>\n",
       "      <td>49</td>\n",
       "      <td>34</td>\n",
       "      <td>52</td>\n",
       "      <td>51</td>\n",
       "      <td>32</td>\n",
       "      <td>40</td>\n",
       "      <td>60</td>\n",
       "      <td>49</td>\n",
       "      <td>...</td>\n",
       "      <td>45</td>\n",
       "      <td>57</td>\n",
       "      <td>46</td>\n",
       "      <td>43</td>\n",
       "      <td>37</td>\n",
       "      <td>56</td>\n",
       "      <td>54</td>\n",
       "      <td>48</td>\n",
       "      <td>58</td>\n",
       "      <td>62</td>\n",
       "    </tr>\n",
       "    <tr>\n",
       "      <th>1498</th>\n",
       "      <td>47</td>\n",
       "      <td>60</td>\n",
       "      <td>57</td>\n",
       "      <td>69</td>\n",
       "      <td>50</td>\n",
       "      <td>43</td>\n",
       "      <td>23</td>\n",
       "      <td>39</td>\n",
       "      <td>38</td>\n",
       "      <td>39</td>\n",
       "      <td>...</td>\n",
       "      <td>44</td>\n",
       "      <td>54</td>\n",
       "      <td>64</td>\n",
       "      <td>54</td>\n",
       "      <td>23</td>\n",
       "      <td>65</td>\n",
       "      <td>42</td>\n",
       "      <td>45</td>\n",
       "      <td>27</td>\n",
       "      <td>21</td>\n",
       "    </tr>\n",
       "    <tr>\n",
       "      <th>1499</th>\n",
       "      <td>75</td>\n",
       "      <td>26</td>\n",
       "      <td>56</td>\n",
       "      <td>44</td>\n",
       "      <td>26</td>\n",
       "      <td>47</td>\n",
       "      <td>44</td>\n",
       "      <td>42</td>\n",
       "      <td>45</td>\n",
       "      <td>44</td>\n",
       "      <td>...</td>\n",
       "      <td>28</td>\n",
       "      <td>34</td>\n",
       "      <td>50</td>\n",
       "      <td>48</td>\n",
       "      <td>45</td>\n",
       "      <td>45</td>\n",
       "      <td>43</td>\n",
       "      <td>53</td>\n",
       "      <td>37</td>\n",
       "      <td>56</td>\n",
       "    </tr>\n",
       "  </tbody>\n",
       "</table>\n",
       "<p>1500 rows × 2000 columns</p>\n",
       "</div>"
      ],
      "text/plain": [
       "      Amostra_0  Amostra_1  Amostra_2  Amostra_3  Amostra_4  Amostra_5  \\\n",
       "0            57         52         50         41         52         62   \n",
       "1            60         21         34         48         74         32   \n",
       "2            55         50         36         30         27         57   \n",
       "3            39         49         41         37         47         41   \n",
       "4            31         33         42         40         35         58   \n",
       "...         ...        ...        ...        ...        ...        ...   \n",
       "1495         32         39         28         37         21         46   \n",
       "1496         51         21         46         40         35         61   \n",
       "1497         59         30         49         34         52         51   \n",
       "1498         47         60         57         69         50         43   \n",
       "1499         75         26         56         44         26         47   \n",
       "\n",
       "      Amostra_6  Amostra_7  Amostra_8  Amostra_9  ...  Amostra_1990  \\\n",
       "0            31         52         31         66  ...            39   \n",
       "1            30         25         37         25  ...            33   \n",
       "2            55         64         42         65  ...            35   \n",
       "3            39         53         40         27  ...            67   \n",
       "4            35         42         40         53  ...            55   \n",
       "...         ...        ...        ...        ...  ...           ...   \n",
       "1495         52         42         40         39  ...            71   \n",
       "1496         34         69         49         48  ...            26   \n",
       "1497         32         40         60         49  ...            45   \n",
       "1498         23         39         38         39  ...            44   \n",
       "1499         44         42         45         44  ...            28   \n",
       "\n",
       "      Amostra_1991  Amostra_1992  Amostra_1993  Amostra_1994  Amostra_1995  \\\n",
       "0               46            44            51            59            25   \n",
       "1               48            51            52            44            47   \n",
       "2               63            20            42            47            40   \n",
       "3               24            33            21            54            53   \n",
       "4               45            52            57            35            30   \n",
       "...            ...           ...           ...           ...           ...   \n",
       "1495            25            41            37            38            29   \n",
       "1496            22            63            49            57            45   \n",
       "1497            57            46            43            37            56   \n",
       "1498            54            64            54            23            65   \n",
       "1499            34            50            48            45            45   \n",
       "\n",
       "      Amostra_1996  Amostra_1997  Amostra_1998  Amostra_1999  \n",
       "0               53            21            40            67  \n",
       "1               31            27            57            44  \n",
       "2               51            43            41            59  \n",
       "3               60            65            45            41  \n",
       "4               42            41            37            32  \n",
       "...            ...           ...           ...           ...  \n",
       "1495            61            63            54            58  \n",
       "1496            35            50            47            33  \n",
       "1497            54            48            58            62  \n",
       "1498            42            45            27            21  \n",
       "1499            43            53            37            56  \n",
       "\n",
       "[1500 rows x 2000 columns]"
      ]
     },
     "execution_count": 147,
     "metadata": {},
     "output_type": "execute_result"
    }
   ],
   "source": [
    "import warnings\n",
    "warnings.filterwarnings('ignore')\n",
    "\n",
    "# Coletando amostras de idade aleatorias da população\n",
    "n = 1500\n",
    "total_de_amostras = 2000\n",
    "\n",
    "amostras = pd.DataFrame()\n",
    "\n",
    "for i in range(total_de_amostras):\n",
    "    _ = df['Idade'].sample(n)\n",
    "    _.index = range(0, len(_), 1)\n",
    "    \n",
    "    amostras['Amostra_' + str(i)] = _\n",
    "amostras"
   ]
  },
  {
   "cell_type": "code",
   "execution_count": 148,
   "id": "2b19b49e",
   "metadata": {},
   "outputs": [
    {
     "data": {
      "text/plain": [
       "Amostra_0       44.302667\n",
       "Amostra_1       43.970000\n",
       "Amostra_2       44.168000\n",
       "Amostra_3       43.763333\n",
       "Amostra_4       44.031333\n",
       "                  ...    \n",
       "Amostra_1995    44.540667\n",
       "Amostra_1996    43.858000\n",
       "Amostra_1997    44.050667\n",
       "Amostra_1998    43.945333\n",
       "Amostra_1999    44.482000\n",
       "Length: 2000, dtype: float64"
      ]
     },
     "execution_count": 148,
     "metadata": {},
     "output_type": "execute_result"
    }
   ],
   "source": [
    "# Média das amostras\n",
    "amostras.mean()"
   ]
  },
  {
   "cell_type": "code",
   "execution_count": 149,
   "id": "fbfcb930",
   "metadata": {},
   "outputs": [
    {
     "data": {
      "text/plain": [
       "<AxesSubplot: >"
      ]
     },
     "execution_count": 149,
     "metadata": {},
     "output_type": "execute_result"
    },
    {
     "data": {
      "image/png": "[encoded data removed]",
      "text/plain": [
       "<Figure size 640x480 with 1 Axes>"
      ]
     },
     "metadata": {},
     "output_type": "display_data"
    }
   ],
   "source": [
    "# Histograma das médias das amostras (se aproxima de uma distribuição normal)\n",
    "amostras.mean().hist(bins = 50, alpha = 0.5)"
   ]
  },
  {
   "cell_type": "code",
   "execution_count": 150,
   "id": "80c169d6",
   "metadata": {},
   "outputs": [
    {
     "data": {
      "text/plain": [
       "44.07142113482561"
      ]
     },
     "execution_count": 150,
     "metadata": {},
     "output_type": "execute_result"
    }
   ],
   "source": [
    "# Média das idades da população\n",
    "df['Idade'].mean()"
   ]
  },
  {
   "cell_type": "code",
   "execution_count": 151,
   "id": "9a125471",
   "metadata": {},
   "outputs": [
    {
     "data": {
      "text/plain": [
       "44.067220999999996"
      ]
     },
     "execution_count": 151,
     "metadata": {},
     "output_type": "execute_result"
    }
   ],
   "source": [
    "# Média das médias das amostras\n",
    "amostras.mean().mean()"
   ]
  },
  {
   "cell_type": "code",
   "execution_count": 152,
   "id": "390234d8",
   "metadata": {},
   "outputs": [
    {
     "data": {
      "text/plain": [
       "0.3188555288054318"
      ]
     },
     "execution_count": 152,
     "metadata": {},
     "output_type": "execute_result"
    }
   ],
   "source": [
    "# Desvio padrão das médias das amostras\n",
    "amostras.mean().std()"
   ]
  },
  {
   "cell_type": "code",
   "execution_count": 155,
   "id": "4951795a",
   "metadata": {},
   "outputs": [
    {
     "data": {
      "text/plain": [
       "0.32224727941526615"
      ]
     },
     "execution_count": 155,
     "metadata": {},
     "output_type": "execute_result"
    }
   ],
   "source": [
    "# Desvio padrão das médias das amostras aplicando a fórmula\n",
    "df['Idade'].std() / np.sqrt(n)"
   ]
  },
  {
   "cell_type": "code",
   "execution_count": 159,
   "id": "cee8c0e3",
   "metadata": {},
   "outputs": [
    {
     "data": {
      "text/html": [
       "<div>\n",
       "<style scoped>\n",
       "    .dataframe tbody tr th:only-of-type {\n",
       "        vertical-align: middle;\n",
       "    }\n",
       "\n",
       "    .dataframe tbody tr th {\n",
       "        vertical-align: top;\n",
       "    }\n",
       "\n",
       "    .dataframe thead th {\n",
       "        text-align: right;\n",
       "    }\n",
       "</style>\n",
       "<table border=\"1\" class=\"dataframe\">\n",
       "  <thead>\n",
       "    <tr style=\"text-align: right;\">\n",
       "      <th></th>\n",
       "      <th>Amostra_0</th>\n",
       "      <th>Amostra_1</th>\n",
       "      <th>Amostra_2</th>\n",
       "      <th>Amostra_3</th>\n",
       "      <th>Amostra_4</th>\n",
       "      <th>Amostra_5</th>\n",
       "      <th>Amostra_6</th>\n",
       "      <th>Amostra_7</th>\n",
       "      <th>Amostra_8</th>\n",
       "      <th>Amostra_9</th>\n",
       "      <th>...</th>\n",
       "      <th>Amostra_1990</th>\n",
       "      <th>Amostra_1991</th>\n",
       "      <th>Amostra_1992</th>\n",
       "      <th>Amostra_1993</th>\n",
       "      <th>Amostra_1994</th>\n",
       "      <th>Amostra_1995</th>\n",
       "      <th>Amostra_1996</th>\n",
       "      <th>Amostra_1997</th>\n",
       "      <th>Amostra_1998</th>\n",
       "      <th>Amostra_1999</th>\n",
       "    </tr>\n",
       "  </thead>\n",
       "  <tbody>\n",
       "    <tr>\n",
       "      <th>0</th>\n",
       "      <td>600</td>\n",
       "      <td>900</td>\n",
       "      <td>3200</td>\n",
       "      <td>3000</td>\n",
       "      <td>2364</td>\n",
       "      <td>480</td>\n",
       "      <td>0</td>\n",
       "      <td>1500</td>\n",
       "      <td>600</td>\n",
       "      <td>200</td>\n",
       "      <td>...</td>\n",
       "      <td>2300</td>\n",
       "      <td>788</td>\n",
       "      <td>1300</td>\n",
       "      <td>900</td>\n",
       "      <td>1300</td>\n",
       "      <td>900</td>\n",
       "      <td>1500</td>\n",
       "      <td>788</td>\n",
       "      <td>500</td>\n",
       "      <td>916</td>\n",
       "    </tr>\n",
       "    <tr>\n",
       "      <th>1</th>\n",
       "      <td>0</td>\n",
       "      <td>1600</td>\n",
       "      <td>1500</td>\n",
       "      <td>600</td>\n",
       "      <td>6000</td>\n",
       "      <td>209</td>\n",
       "      <td>1576</td>\n",
       "      <td>3000</td>\n",
       "      <td>2500</td>\n",
       "      <td>1300</td>\n",
       "      <td>...</td>\n",
       "      <td>1200</td>\n",
       "      <td>818</td>\n",
       "      <td>1000</td>\n",
       "      <td>1100</td>\n",
       "      <td>300</td>\n",
       "      <td>1000</td>\n",
       "      <td>480</td>\n",
       "      <td>1400</td>\n",
       "      <td>2300</td>\n",
       "      <td>600</td>\n",
       "    </tr>\n",
       "    <tr>\n",
       "      <th>2</th>\n",
       "      <td>200</td>\n",
       "      <td>2000</td>\n",
       "      <td>788</td>\n",
       "      <td>1500</td>\n",
       "      <td>2800</td>\n",
       "      <td>1150</td>\n",
       "      <td>1100</td>\n",
       "      <td>1270</td>\n",
       "      <td>2500</td>\n",
       "      <td>100</td>\n",
       "      <td>...</td>\n",
       "      <td>1900</td>\n",
       "      <td>3500</td>\n",
       "      <td>3000</td>\n",
       "      <td>2500</td>\n",
       "      <td>2000</td>\n",
       "      <td>3940</td>\n",
       "      <td>788</td>\n",
       "      <td>17000</td>\n",
       "      <td>1900</td>\n",
       "      <td>800</td>\n",
       "    </tr>\n",
       "    <tr>\n",
       "      <th>3</th>\n",
       "      <td>5000</td>\n",
       "      <td>2000</td>\n",
       "      <td>1200</td>\n",
       "      <td>2000</td>\n",
       "      <td>788</td>\n",
       "      <td>2200</td>\n",
       "      <td>1600</td>\n",
       "      <td>1200</td>\n",
       "      <td>1000</td>\n",
       "      <td>160</td>\n",
       "      <td>...</td>\n",
       "      <td>1500</td>\n",
       "      <td>4000</td>\n",
       "      <td>6000</td>\n",
       "      <td>1600</td>\n",
       "      <td>3500</td>\n",
       "      <td>864</td>\n",
       "      <td>2000</td>\n",
       "      <td>1100</td>\n",
       "      <td>1400</td>\n",
       "      <td>1000</td>\n",
       "    </tr>\n",
       "    <tr>\n",
       "      <th>4</th>\n",
       "      <td>2000</td>\n",
       "      <td>400</td>\n",
       "      <td>1092</td>\n",
       "      <td>788</td>\n",
       "      <td>1250</td>\n",
       "      <td>2800</td>\n",
       "      <td>600</td>\n",
       "      <td>1600</td>\n",
       "      <td>3400</td>\n",
       "      <td>1500</td>\n",
       "      <td>...</td>\n",
       "      <td>1000</td>\n",
       "      <td>1200</td>\n",
       "      <td>4000</td>\n",
       "      <td>4200</td>\n",
       "      <td>10000</td>\n",
       "      <td>1100</td>\n",
       "      <td>1400</td>\n",
       "      <td>400</td>\n",
       "      <td>3180</td>\n",
       "      <td>3937</td>\n",
       "    </tr>\n",
       "    <tr>\n",
       "      <th>...</th>\n",
       "      <td>...</td>\n",
       "      <td>...</td>\n",
       "      <td>...</td>\n",
       "      <td>...</td>\n",
       "      <td>...</td>\n",
       "      <td>...</td>\n",
       "      <td>...</td>\n",
       "      <td>...</td>\n",
       "      <td>...</td>\n",
       "      <td>...</td>\n",
       "      <td>...</td>\n",
       "      <td>...</td>\n",
       "      <td>...</td>\n",
       "      <td>...</td>\n",
       "      <td>...</td>\n",
       "      <td>...</td>\n",
       "      <td>...</td>\n",
       "      <td>...</td>\n",
       "      <td>...</td>\n",
       "      <td>...</td>\n",
       "      <td>...</td>\n",
       "    </tr>\n",
       "    <tr>\n",
       "      <th>1495</th>\n",
       "      <td>2700</td>\n",
       "      <td>500</td>\n",
       "      <td>2000</td>\n",
       "      <td>800</td>\n",
       "      <td>3400</td>\n",
       "      <td>1000</td>\n",
       "      <td>900</td>\n",
       "      <td>1200</td>\n",
       "      <td>1040</td>\n",
       "      <td>2000</td>\n",
       "      <td>...</td>\n",
       "      <td>0</td>\n",
       "      <td>15000</td>\n",
       "      <td>15000</td>\n",
       "      <td>3500</td>\n",
       "      <td>600</td>\n",
       "      <td>150</td>\n",
       "      <td>1400</td>\n",
       "      <td>788</td>\n",
       "      <td>788</td>\n",
       "      <td>788</td>\n",
       "    </tr>\n",
       "    <tr>\n",
       "      <th>1496</th>\n",
       "      <td>3500</td>\n",
       "      <td>2800</td>\n",
       "      <td>788</td>\n",
       "      <td>1280</td>\n",
       "      <td>3000</td>\n",
       "      <td>2000</td>\n",
       "      <td>1500</td>\n",
       "      <td>0</td>\n",
       "      <td>1200</td>\n",
       "      <td>1000</td>\n",
       "      <td>...</td>\n",
       "      <td>2000</td>\n",
       "      <td>500</td>\n",
       "      <td>1500</td>\n",
       "      <td>1700</td>\n",
       "      <td>1200</td>\n",
       "      <td>2000</td>\n",
       "      <td>500</td>\n",
       "      <td>968</td>\n",
       "      <td>950</td>\n",
       "      <td>1000</td>\n",
       "    </tr>\n",
       "    <tr>\n",
       "      <th>1497</th>\n",
       "      <td>6000</td>\n",
       "      <td>12000</td>\n",
       "      <td>3000</td>\n",
       "      <td>1800</td>\n",
       "      <td>1200</td>\n",
       "      <td>849</td>\n",
       "      <td>200</td>\n",
       "      <td>2000</td>\n",
       "      <td>1500</td>\n",
       "      <td>800</td>\n",
       "      <td>...</td>\n",
       "      <td>600</td>\n",
       "      <td>3500</td>\n",
       "      <td>400</td>\n",
       "      <td>788</td>\n",
       "      <td>1000</td>\n",
       "      <td>1800</td>\n",
       "      <td>4000</td>\n",
       "      <td>200</td>\n",
       "      <td>1700</td>\n",
       "      <td>1500</td>\n",
       "    </tr>\n",
       "    <tr>\n",
       "      <th>1498</th>\n",
       "      <td>3000</td>\n",
       "      <td>1170</td>\n",
       "      <td>2000</td>\n",
       "      <td>1100</td>\n",
       "      <td>2300</td>\n",
       "      <td>3600</td>\n",
       "      <td>2200</td>\n",
       "      <td>788</td>\n",
       "      <td>2400</td>\n",
       "      <td>1000</td>\n",
       "      <td>...</td>\n",
       "      <td>1260</td>\n",
       "      <td>22000</td>\n",
       "      <td>12000</td>\n",
       "      <td>15000</td>\n",
       "      <td>280</td>\n",
       "      <td>788</td>\n",
       "      <td>1200</td>\n",
       "      <td>4000</td>\n",
       "      <td>30000</td>\n",
       "      <td>900</td>\n",
       "    </tr>\n",
       "    <tr>\n",
       "      <th>1499</th>\n",
       "      <td>650</td>\n",
       "      <td>890</td>\n",
       "      <td>788</td>\n",
       "      <td>1300</td>\n",
       "      <td>3600</td>\n",
       "      <td>500</td>\n",
       "      <td>2600</td>\n",
       "      <td>788</td>\n",
       "      <td>500</td>\n",
       "      <td>1900</td>\n",
       "      <td>...</td>\n",
       "      <td>800</td>\n",
       "      <td>1200</td>\n",
       "      <td>2500</td>\n",
       "      <td>1500</td>\n",
       "      <td>2500</td>\n",
       "      <td>22000</td>\n",
       "      <td>2000</td>\n",
       "      <td>1200</td>\n",
       "      <td>150</td>\n",
       "      <td>400</td>\n",
       "    </tr>\n",
       "  </tbody>\n",
       "</table>\n",
       "<p>1500 rows × 2000 columns</p>\n",
       "</div>"
      ],
      "text/plain": [
       "      Amostra_0  Amostra_1  Amostra_2  Amostra_3  Amostra_4  Amostra_5  \\\n",
       "0           600        900       3200       3000       2364        480   \n",
       "1             0       1600       1500        600       6000        209   \n",
       "2           200       2000        788       1500       2800       1150   \n",
       "3          5000       2000       1200       2000        788       2200   \n",
       "4          2000        400       1092        788       1250       2800   \n",
       "...         ...        ...        ...        ...        ...        ...   \n",
       "1495       2700        500       2000        800       3400       1000   \n",
       "1496       3500       2800        788       1280       3000       2000   \n",
       "1497       6000      12000       3000       1800       1200        849   \n",
       "1498       3000       1170       2000       1100       2300       3600   \n",
       "1499        650        890        788       1300       3600        500   \n",
       "\n",
       "      Amostra_6  Amostra_7  Amostra_8  Amostra_9  ...  Amostra_1990  \\\n",
       "0             0       1500        600        200  ...          2300   \n",
       "1          1576       3000       2500       1300  ...          1200   \n",
       "2          1100       1270       2500        100  ...          1900   \n",
       "3          1600       1200       1000        160  ...          1500   \n",
       "4           600       1600       3400       1500  ...          1000   \n",
       "...         ...        ...        ...        ...  ...           ...   \n",
       "1495        900       1200       1040       2000  ...             0   \n",
       "1496       1500          0       1200       1000  ...          2000   \n",
       "1497        200       2000       1500        800  ...           600   \n",
       "1498       2200        788       2400       1000  ...          1260   \n",
       "1499       2600        788        500       1900  ...           800   \n",
       "\n",
       "      Amostra_1991  Amostra_1992  Amostra_1993  Amostra_1994  Amostra_1995  \\\n",
       "0              788          1300           900          1300           900   \n",
       "1              818          1000          1100           300          1000   \n",
       "2             3500          3000          2500          2000          3940   \n",
       "3             4000          6000          1600          3500           864   \n",
       "4             1200          4000          4200         10000          1100   \n",
       "...            ...           ...           ...           ...           ...   \n",
       "1495         15000         15000          3500           600           150   \n",
       "1496           500          1500          1700          1200          2000   \n",
       "1497          3500           400           788          1000          1800   \n",
       "1498         22000         12000         15000           280           788   \n",
       "1499          1200          2500          1500          2500         22000   \n",
       "\n",
       "      Amostra_1996  Amostra_1997  Amostra_1998  Amostra_1999  \n",
       "0             1500           788           500           916  \n",
       "1              480          1400          2300           600  \n",
       "2              788         17000          1900           800  \n",
       "3             2000          1100          1400          1000  \n",
       "4             1400           400          3180          3937  \n",
       "...            ...           ...           ...           ...  \n",
       "1495          1400           788           788           788  \n",
       "1496           500           968           950          1000  \n",
       "1497          4000           200          1700          1500  \n",
       "1498          1200          4000         30000           900  \n",
       "1499          2000          1200           150           400  \n",
       "\n",
       "[1500 rows x 2000 columns]"
      ]
     },
     "execution_count": 159,
     "metadata": {},
     "output_type": "execute_result"
    }
   ],
   "source": [
    "amostras_renda = pd.DataFrame()\n",
    "\n",
    "for i in range(total_de_amostras):\n",
    "    _ = df['Renda'].sample(n)\n",
    "    _.index = range(0, len(_), 1)\n",
    "    amostras_renda['Amostra_' + str(i)] = _\n",
    "amostras_renda"
   ]
  },
  {
   "cell_type": "code",
   "execution_count": 162,
   "id": "c18396bf",
   "metadata": {
    "scrolled": false
   },
   "outputs": [
    {
     "data": {
      "text/plain": [
       "<AxesSubplot: >"
      ]
     },
     "execution_count": 162,
     "metadata": {},
     "output_type": "execute_result"
    },
    {
     "data": {
      "image/png": "[encoded data removed]",
      "text/plain": [
       "<Figure size 640x480 with 1 Axes>"
      ]
     },
     "metadata": {},
     "output_type": "display_data"
    }
   ],
   "source": [
    "amostras_renda.mean().hist(bins = 50, alpha = 0.5)"
   ]
  },
  {
   "cell_type": "markdown",
   "id": "b4871d55",
   "metadata": {},
   "source": [
    "## Cálculo da população infinita"
   ]
  },
  {
   "cell_type": "code",
   "execution_count": 164,
   "id": "f1ec4a61",
   "metadata": {},
   "outputs": [
    {
     "data": {
      "text/plain": [
       "1.6448536269514722"
      ]
     },
     "execution_count": 164,
     "metadata": {},
     "output_type": "execute_result"
    }
   ],
   "source": [
    "norm.ppf(0.95)"
   ]
  }
 ],
 "metadata": {
  "kernelspec": {
   "display_name": "Python 3 (ipykernel)",
   "language": "python",
   "name": "python3"
  },
  "language_info": {
   "codemirror_mode": {
    "name": "ipython",
    "version": 3
   },
   "file_extension": ".py",
   "mimetype": "text/x-python",
   "name": "python",
   "nbconvert_exporter": "python",
   "pygments_lexer": "ipython3",
   "version": "3.10.6"
  }
 },
 "nbformat": 4,
 "nbformat_minor": 5
}
