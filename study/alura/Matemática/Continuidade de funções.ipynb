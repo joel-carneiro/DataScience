{
 "cells": [
  {
   "cell_type": "markdown",
   "id": "14de2c95",
   "metadata": {},
   "source": [
    "# Curso: Continuidade de funções\n",
    "---"
   ]
  },
  {
   "cell_type": "code",
   "execution_count": 1,
   "id": "888ba9c7",
   "metadata": {},
   "outputs": [],
   "source": [
    "# Módulo para manipulações computacionais simbólicas\n",
    "from sympy import *"
   ]
  },
  {
   "cell_type": "code",
   "execution_count": 6,
   "id": "234c5813",
   "metadata": {},
   "outputs": [
    {
     "name": "stdout",
     "output_type": "stream",
     "text": [
      "98/5\n"
     ]
    }
   ],
   "source": [
    "t = Symbol('t')\n",
    "f = 4.9 * t ** 2\n",
    "\n",
    "lim = limit(f, t, 2)\n",
    "\n",
    "print(lim)"
   ]
  },
  {
   "cell_type": "code",
   "execution_count": null,
   "id": "c559b871",
   "metadata": {},
   "outputs": [],
   "source": []
  }
 ],
 "metadata": {
  "kernelspec": {
   "display_name": "Python 3 (ipykernel)",
   "language": "python",
   "name": "python3"
  },
  "language_info": {
   "codemirror_mode": {
    "name": "ipython",
    "version": 3
   },
   "file_extension": ".py",
   "mimetype": "text/x-python",
   "name": "python",
   "nbconvert_exporter": "python",
   "pygments_lexer": "ipython3",
   "version": "3.9.13"
  }
 },
 "nbformat": 4,
 "nbformat_minor": 5
}
