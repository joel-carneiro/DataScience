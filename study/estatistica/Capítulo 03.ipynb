{
 "cells": [
  {
   "cell_type": "markdown",
   "id": "c70c5907",
   "metadata": {},
   "source": [
    "# Análise exploratória de dados\n",
    "\n",
    "Notebook para registro de procedimentos realizados durante meu estudo de estatística e ciência de dados baseado em um livro do IME"
   ]
  },
  {
   "cell_type": "markdown",
   "id": "9a9eacdb",
   "metadata": {},
   "source": [
    "# 1 - Análise de uma variável"
   ]
  },
  {
   "cell_type": "markdown",
   "id": "1f30e1f8",
   "metadata": {},
   "source": [
    "Neste capı́tulo consideraremos a análise descritiva de dados provenientes da\n",
    "observação de uma variável. As técnicas utilizadas podem ser empregadas\n",
    "tanto para dados provenientes de uma população quanto para dados oriundos\n",
    "de uma amostra."
   ]
  },
  {
   "cell_type": "markdown",
   "id": "1b2252b5",
   "metadata": {},
   "source": [
    "## 1.1 - Coletando dados"
   ]
  },
  {
   "cell_type": "code",
   "execution_count": 33,
   "id": "3ad041d9",
   "metadata": {},
   "outputs": [],
   "source": [
    "import pandas as pd\n",
    "import numpy as np\n",
    "import matplotlib.pyplot as plt\n",
    "import seaborn as sns"
   ]
  },
  {
   "cell_type": "code",
   "execution_count": 56,
   "id": "ea161e3a",
   "metadata": {},
   "outputs": [],
   "source": [
    "data = {\n",
    "    'ID' : np.arange(245, 1245),\n",
    "    'UF' : np.random.choice(['RJ', 'SP', 'CE', 'BA', 'PA'], 1000),\n",
    "    'Sexo' : np.random.choice(['M', 'F'], 1000),\n",
    "    'Idade' : np.random.choice(np.arange(13, 90), 1000),\n",
    "    'Altura' : np.random.normal(1.7, 0.3, 1000),\n",
    "    'Anos de Estudo' : np.random.choice(np.arange(1, 18), 1000),\n",
    "    'Renda' : np.random.choice(np.arange(0, 8000), 1000)\n",
    "}"
   ]
  },
  {
   "cell_type": "code",
   "execution_count": 57,
   "id": "13bc0b20",
   "metadata": {},
   "outputs": [],
   "source": [
    "df = pd.DataFrame(data)"
   ]
  },
  {
   "cell_type": "code",
   "execution_count": 58,
   "id": "cd2959c7",
   "metadata": {},
   "outputs": [
    {
     "data": {
      "text/html": [
       "<div>\n",
       "<style scoped>\n",
       "    .dataframe tbody tr th:only-of-type {\n",
       "        vertical-align: middle;\n",
       "    }\n",
       "\n",
       "    .dataframe tbody tr th {\n",
       "        vertical-align: top;\n",
       "    }\n",
       "\n",
       "    .dataframe thead th {\n",
       "        text-align: right;\n",
       "    }\n",
       "</style>\n",
       "<table border=\"1\" class=\"dataframe\">\n",
       "  <thead>\n",
       "    <tr style=\"text-align: right;\">\n",
       "      <th></th>\n",
       "      <th>ID</th>\n",
       "      <th>UF</th>\n",
       "      <th>Sexo</th>\n",
       "      <th>Idade</th>\n",
       "      <th>Altura</th>\n",
       "      <th>Anos de Estudo</th>\n",
       "      <th>Renda</th>\n",
       "    </tr>\n",
       "  </thead>\n",
       "  <tbody>\n",
       "    <tr>\n",
       "      <th>0</th>\n",
       "      <td>245</td>\n",
       "      <td>SP</td>\n",
       "      <td>F</td>\n",
       "      <td>42</td>\n",
       "      <td>1.409642</td>\n",
       "      <td>16</td>\n",
       "      <td>5009</td>\n",
       "    </tr>\n",
       "    <tr>\n",
       "      <th>1</th>\n",
       "      <td>246</td>\n",
       "      <td>PA</td>\n",
       "      <td>M</td>\n",
       "      <td>64</td>\n",
       "      <td>1.844711</td>\n",
       "      <td>11</td>\n",
       "      <td>7411</td>\n",
       "    </tr>\n",
       "    <tr>\n",
       "      <th>2</th>\n",
       "      <td>247</td>\n",
       "      <td>RJ</td>\n",
       "      <td>M</td>\n",
       "      <td>76</td>\n",
       "      <td>1.590333</td>\n",
       "      <td>1</td>\n",
       "      <td>1159</td>\n",
       "    </tr>\n",
       "    <tr>\n",
       "      <th>3</th>\n",
       "      <td>248</td>\n",
       "      <td>CE</td>\n",
       "      <td>F</td>\n",
       "      <td>87</td>\n",
       "      <td>1.813166</td>\n",
       "      <td>7</td>\n",
       "      <td>335</td>\n",
       "    </tr>\n",
       "    <tr>\n",
       "      <th>4</th>\n",
       "      <td>249</td>\n",
       "      <td>RJ</td>\n",
       "      <td>M</td>\n",
       "      <td>67</td>\n",
       "      <td>1.492901</td>\n",
       "      <td>1</td>\n",
       "      <td>5733</td>\n",
       "    </tr>\n",
       "    <tr>\n",
       "      <th>...</th>\n",
       "      <td>...</td>\n",
       "      <td>...</td>\n",
       "      <td>...</td>\n",
       "      <td>...</td>\n",
       "      <td>...</td>\n",
       "      <td>...</td>\n",
       "      <td>...</td>\n",
       "    </tr>\n",
       "    <tr>\n",
       "      <th>995</th>\n",
       "      <td>1240</td>\n",
       "      <td>SP</td>\n",
       "      <td>F</td>\n",
       "      <td>82</td>\n",
       "      <td>1.482690</td>\n",
       "      <td>17</td>\n",
       "      <td>106</td>\n",
       "    </tr>\n",
       "    <tr>\n",
       "      <th>996</th>\n",
       "      <td>1241</td>\n",
       "      <td>PA</td>\n",
       "      <td>M</td>\n",
       "      <td>26</td>\n",
       "      <td>1.489499</td>\n",
       "      <td>17</td>\n",
       "      <td>291</td>\n",
       "    </tr>\n",
       "    <tr>\n",
       "      <th>997</th>\n",
       "      <td>1242</td>\n",
       "      <td>RJ</td>\n",
       "      <td>F</td>\n",
       "      <td>27</td>\n",
       "      <td>1.397077</td>\n",
       "      <td>13</td>\n",
       "      <td>2286</td>\n",
       "    </tr>\n",
       "    <tr>\n",
       "      <th>998</th>\n",
       "      <td>1243</td>\n",
       "      <td>RJ</td>\n",
       "      <td>M</td>\n",
       "      <td>57</td>\n",
       "      <td>1.659044</td>\n",
       "      <td>12</td>\n",
       "      <td>2856</td>\n",
       "    </tr>\n",
       "    <tr>\n",
       "      <th>999</th>\n",
       "      <td>1244</td>\n",
       "      <td>CE</td>\n",
       "      <td>M</td>\n",
       "      <td>20</td>\n",
       "      <td>1.828001</td>\n",
       "      <td>17</td>\n",
       "      <td>5809</td>\n",
       "    </tr>\n",
       "  </tbody>\n",
       "</table>\n",
       "<p>1000 rows × 7 columns</p>\n",
       "</div>"
      ],
      "text/plain": [
       "       ID  UF Sexo  Idade    Altura  Anos de Estudo  Renda\n",
       "0     245  SP    F     42  1.409642              16   5009\n",
       "1     246  PA    M     64  1.844711              11   7411\n",
       "2     247  RJ    M     76  1.590333               1   1159\n",
       "3     248  CE    F     87  1.813166               7    335\n",
       "4     249  RJ    M     67  1.492901               1   5733\n",
       "..    ...  ..  ...    ...       ...             ...    ...\n",
       "995  1240  SP    F     82  1.482690              17    106\n",
       "996  1241  PA    M     26  1.489499              17    291\n",
       "997  1242  RJ    F     27  1.397077              13   2286\n",
       "998  1243  RJ    M     57  1.659044              12   2856\n",
       "999  1244  CE    M     20  1.828001              17   5809\n",
       "\n",
       "[1000 rows x 7 columns]"
      ]
     },
     "execution_count": 58,
     "metadata": {},
     "output_type": "execute_result"
    }
   ],
   "source": [
    "df"
   ]
  },
  {
   "cell_type": "markdown",
   "id": "13701f41",
   "metadata": {},
   "source": [
    "## 1.2 Distribuição de frequência"
   ]
  },
  {
   "cell_type": "code",
   "execution_count": 60,
   "id": "7e47ff9f",
   "metadata": {},
   "outputs": [
    {
     "data": {
      "text/plain": [
       "<AxesSubplot: >"
      ]
     },
     "execution_count": 60,
     "metadata": {},
     "output_type": "execute_result"
    },
    {
     "data": {
      "image/png": "[encoded data removed]",
      "text/plain": [
       "<Figure size 640x480 with 1 Axes>"
      ]
     },
     "metadata": {},
     "output_type": "display_data"
    }
   ],
   "source": [
    "df['Altura'].hist(bins=25, alpha=0.75)"
   ]
  },
  {
   "cell_type": "code",
   "execution_count": 65,
   "id": "0a364493",
   "metadata": {},
   "outputs": [
    {
     "data": {
      "image/png": "[encoded data removed]",
      "text/plain": [
       "<Figure size 640x480 with 1 Axes>"
      ]
     },
     "metadata": {},
     "output_type": "display_data"
    }
   ],
   "source": [
    "plt.pie(df['Sexo'].value_counts(), labels=['Homem', 'Mulher'])\n",
    "\n",
    "plt.show()"
   ]
  },
  {
   "cell_type": "markdown",
   "id": "ba25c6a4",
   "metadata": {},
   "source": [
    "## 1.3 - Medidas resumo"
   ]
  },
  {
   "cell_type": "code",
   "execution_count": 68,
   "id": "582a01ea",
   "metadata": {},
   "outputs": [
    {
     "data": {
      "text/plain": [
       "<AxesSubplot: >"
      ]
     },
     "execution_count": 68,
     "metadata": {},
     "output_type": "execute_result"
    },
    {
     "data": {
      "image/png": "[encoded data removed]",
      "text/plain": [
       "<Figure size 640x480 with 1 Axes>"
      ]
     },
     "metadata": {},
     "output_type": "display_data"
    }
   ],
   "source": [
    "df['Renda'].hist()"
   ]
  },
  {
   "cell_type": "code",
   "execution_count": 69,
   "id": "2847cedd",
   "metadata": {
    "scrolled": true
   },
   "outputs": [
    {
     "data": {
      "text/plain": [
       "3953.927"
      ]
     },
     "execution_count": 69,
     "metadata": {},
     "output_type": "execute_result"
    }
   ],
   "source": [
    "np.mean(df['Renda'])"
   ]
  },
  {
   "cell_type": "code",
   "execution_count": 70,
   "id": "cf1a76e6",
   "metadata": {},
   "outputs": [
    {
     "data": {
      "text/plain": [
       "3953.0"
      ]
     },
     "execution_count": 70,
     "metadata": {},
     "output_type": "execute_result"
    }
   ],
   "source": [
    "np.median(df['Renda'])"
   ]
  },
  {
   "cell_type": "code",
   "execution_count": 73,
   "id": "2562ec25",
   "metadata": {},
   "outputs": [
    {
     "data": {
      "text/plain": [
       "0    1519\n",
       "1    1665\n",
       "2    5147\n",
       "Name: Renda, dtype: int64"
      ]
     },
     "execution_count": 73,
     "metadata": {},
     "output_type": "execute_result"
    }
   ],
   "source": [
    "df['Renda'].mode()"
   ]
  },
  {
   "cell_type": "code",
   "execution_count": 89,
   "id": "ff4a22b7",
   "metadata": {},
   "outputs": [
    {
     "ename": "TypeError",
     "evalue": "hist2d() missing 1 required positional argument: 'y'",
     "output_type": "error",
     "traceback": [
      "\u001b[0;31m---------------------------------------------------------------------------\u001b[0m",
      "\u001b[0;31mTypeError\u001b[0m                                 Traceback (most recent call last)",
      "Cell \u001b[0;32mIn[89], line 1\u001b[0m\n\u001b[0;32m----> 1\u001b[0m \u001b[43mplt\u001b[49m\u001b[38;5;241;43m.\u001b[39;49m\u001b[43mhist2d\u001b[49m\u001b[43m(\u001b[49m\u001b[43mnp\u001b[49m\u001b[38;5;241;43m.\u001b[39;49m\u001b[43mrandom\u001b[49m\u001b[38;5;241;43m.\u001b[39;49m\u001b[43mnormal\u001b[49m\u001b[43m(\u001b[49m\u001b[38;5;241;43m0\u001b[39;49m\u001b[43m,\u001b[49m\u001b[43m \u001b[49m\u001b[38;5;241;43m1\u001b[39;49m\u001b[43m,\u001b[49m\u001b[43m \u001b[49m\u001b[38;5;241;43m10000\u001b[39;49m\u001b[43m)\u001b[49m\u001b[43m,\u001b[49m\u001b[43m \u001b[49m\u001b[43mbins\u001b[49m\u001b[38;5;241;43m=\u001b[39;49m\u001b[38;5;241;43m50\u001b[39;49m\u001b[43m)\u001b[49m\n\u001b[1;32m      3\u001b[0m plt\u001b[38;5;241m.\u001b[39mshow()\n",
      "\u001b[0;31mTypeError\u001b[0m: hist2d() missing 1 required positional argument: 'y'"
     ]
    }
   ],
   "source": [
    "plt.(np.random.normal(0, 1, 10000), bins=50)\n",
    "\n",
    "plt.show()"
   ]
  },
  {
   "cell_type": "code",
   "execution_count": null,
   "id": "01718fc9",
   "metadata": {},
   "outputs": [],
   "source": []
  }
 ],
 "metadata": {
  "kernelspec": {
   "display_name": "Python 3 (ipykernel)",
   "language": "python",
   "name": "python3"
  },
  "language_info": {
   "codemirror_mode": {
    "name": "ipython",
    "version": 3
   },
   "file_extension": ".py",
   "mimetype": "text/x-python",
   "name": "python",
   "nbconvert_exporter": "python",
   "pygments_lexer": "ipython3",
   "version": "3.10.9"
  }
 },
 "nbformat": 4,
 "nbformat_minor": 5
}
