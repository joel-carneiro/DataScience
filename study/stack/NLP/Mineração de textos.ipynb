{
 "cells": [
  {
   "cell_type": "markdown",
   "id": "8147977f",
   "metadata": {},
   "source": [
    "# <font color='#0000FF'>NLP"
   ]
  },
  {
   "cell_type": "markdown",
   "id": "1598c5ef",
   "metadata": {},
   "source": [
    "**Manipulação do objeto string**"
   ]
  },
  {
   "cell_type": "code",
   "execution_count": 1,
   "id": "ecfe1feb",
   "metadata": {},
   "outputs": [],
   "source": [
    "import nltk\n",
    "import re\n",
    "from nltk.corpus import wordnet"
   ]
  },
  {
   "cell_type": "code",
   "execution_count": 2,
   "id": "92f1ac7e",
   "metadata": {},
   "outputs": [
    {
     "data": {
      "text/plain": [
       "'Python é uma ótima linguagem para cientista de dados'"
      ]
     },
     "execution_count": 2,
     "metadata": {},
     "output_type": "execute_result"
    }
   ],
   "source": [
    "f1 = 'Python é uma ótima linguagem'\n",
    "f2 = ' para cientista de dados'\n",
    "f1 + f2 "
   ]
  },
  {
   "cell_type": "code",
   "execution_count": 3,
   "id": "9dfd3ff9",
   "metadata": {},
   "outputs": [
    {
     "data": {
      "text/plain": [
       "['Segunda', 'Terça', 'Quarta', 'Quinta', 'Sexta', 'Sábado', 'Domingo']"
      ]
     },
     "execution_count": 3,
     "metadata": {},
     "output_type": "execute_result"
    }
   ],
   "source": [
    "l1 = ['Segunda', 'Terça', 'Quarta']\n",
    "l2 = ['Quinta', 'Sexta', 'Sábado', 'Domingo']\n",
    "week = l1 + l2\n",
    "week"
   ]
  },
  {
   "cell_type": "code",
   "execution_count": 4,
   "id": "77645b1d",
   "metadata": {},
   "outputs": [
    {
     "data": {
      "text/plain": [
       "'Python é uma ótima linguagem'"
      ]
     },
     "execution_count": 4,
     "metadata": {},
     "output_type": "execute_result"
    }
   ],
   "source": [
    "f1[0:15] + f1[15:]"
   ]
  },
  {
   "cell_type": "code",
   "execution_count": 5,
   "id": "8d65db60",
   "metadata": {},
   "outputs": [
    {
     "data": {
      "text/plain": [
       "['Segunda', 'Terça', 'Quarta', 'Quinta', 'Sexta']"
      ]
     },
     "execution_count": 5,
     "metadata": {},
     "output_type": "execute_result"
    }
   ],
   "source": [
    "week[0:5]"
   ]
  },
  {
   "cell_type": "code",
   "execution_count": 6,
   "id": "b88a3cda",
   "metadata": {},
   "outputs": [
    {
     "data": {
      "text/plain": [
       "['Sábado', 'Domingo']"
      ]
     },
     "execution_count": 6,
     "metadata": {},
     "output_type": "execute_result"
    }
   ],
   "source": [
    "week[5:]"
   ]
  },
  {
   "cell_type": "code",
   "execution_count": 7,
   "id": "299e4a38",
   "metadata": {},
   "outputs": [
    {
     "data": {
      "text/plain": [
       "28"
      ]
     },
     "execution_count": 7,
     "metadata": {},
     "output_type": "execute_result"
    }
   ],
   "source": [
    "len(f1)"
   ]
  },
  {
   "cell_type": "code",
   "execution_count": 8,
   "id": "0e809a48",
   "metadata": {},
   "outputs": [
    {
     "data": {
      "text/plain": [
       "True"
      ]
     },
     "execution_count": 8,
     "metadata": {},
     "output_type": "execute_result"
    }
   ],
   "source": [
    "f1.index('ótima') == f1.index('ó')"
   ]
  },
  {
   "cell_type": "markdown",
   "id": "9f95f520",
   "metadata": {},
   "source": [
    "**Expressões regulares**"
   ]
  },
  {
   "cell_type": "code",
   "execution_count": 9,
   "id": "7ea21390",
   "metadata": {
    "scrolled": true
   },
   "outputs": [
    {
     "data": {
      "text/plain": [
       "'Oi, eu estou estudando python há * anos, * meses e ** dias'"
      ]
     },
     "execution_count": 9,
     "metadata": {},
     "output_type": "execute_result"
    }
   ],
   "source": [
    "hello = 'Oi, eu estou estudando python há 2 anos, 7 meses e 24 dias'\n",
    "re.sub('[0-9]', '*', hello)"
   ]
  },
  {
   "cell_type": "code",
   "execution_count": 10,
   "id": "925a43ca",
   "metadata": {
    "scrolled": true
   },
   "outputs": [
    {
     "data": {
      "text/plain": [
       "'Bom dia eu estou muito bem hoje'"
      ]
     },
     "execution_count": 10,
     "metadata": {},
     "output_type": "execute_result"
    }
   ],
   "source": [
    "good_morning = 'Bom!!! dia eu, estou, mu??it?o bem hoje!!??,,,'\n",
    "re.sub(r'[!,?]', '', good_morning)"
   ]
  },
  {
   "cell_type": "markdown",
   "id": "fd1bd60d",
   "metadata": {},
   "source": [
    "**nltk**"
   ]
  },
  {
   "cell_type": "code",
   "execution_count": null,
   "id": "c3cb182b",
   "metadata": {},
   "outputs": [],
   "source": []
  }
 ],
 "metadata": {
  "kernelspec": {
   "display_name": "Python 3 (ipykernel)",
   "language": "python",
   "name": "python3"
  },
  "language_info": {
   "codemirror_mode": {
    "name": "ipython",
    "version": 3
   },
   "file_extension": ".py",
   "mimetype": "text/x-python",
   "name": "python",
   "nbconvert_exporter": "python",
   "pygments_lexer": "ipython3",
   "version": "3.9.13"
  }
 },
 "nbformat": 4,
 "nbformat_minor": 5
}
