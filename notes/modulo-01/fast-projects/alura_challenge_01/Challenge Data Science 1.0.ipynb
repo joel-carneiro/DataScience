{
 "cells": [
  {
   "cell_type": "markdown",
   "id": "bfcf9092",
   "metadata": {},
   "source": [
    "# <font color='green'>Challenge Data Science 1.0 </font>\n",
    "\n",
    "> Desenvolver um conjunto de análises e modelos de machine learning supervisionado para auxiliar o time de vendas a fidelizar clientes.\n",
    "    "
   ]
  },
  {
   "cell_type": "markdown",
   "id": "e5b8e859",
   "metadata": {},
   "source": [
    "## 1.0 Coleta de dados via API"
   ]
  },
  {
   "cell_type": "code",
   "execution_count": 1,
   "id": "8fb7b9c3",
   "metadata": {},
   "outputs": [],
   "source": [
    "# Importando módulos necessários\n",
    "import pandas as pd\n",
    "import matplotlib.pyplot as plt\n",
    "import seaborn as sns\n",
    "\n",
    "import warnings"
   ]
  },
  {
   "cell_type": "code",
   "execution_count": 2,
   "id": "5f224c29",
   "metadata": {},
   "outputs": [],
   "source": [
    "# Configurando os avisos\n",
    "warnings.filterwarnings('ignore')"
   ]
  },
  {
   "cell_type": "code",
   "execution_count": 3,
   "id": "2f772dc7",
   "metadata": {},
   "outputs": [],
   "source": [
    "# Setando a URL da API\n",
    "uri = 'https://raw.githubusercontent.com/sthemonica/alura-voz/main/Dados/Telco-Customer-Churn.json'\n",
    "\n",
    "# Lendos os dados crus em formato json\n",
    "raw_data = pd.read_json(uri)"
   ]
  },
  {
   "cell_type": "code",
   "execution_count": 4,
   "id": "c0335872",
   "metadata": {},
   "outputs": [
    {
     "data": {
      "text/html": [
       "<div>\n",
       "<style scoped>\n",
       "    .dataframe tbody tr th:only-of-type {\n",
       "        vertical-align: middle;\n",
       "    }\n",
       "\n",
       "    .dataframe tbody tr th {\n",
       "        vertical-align: top;\n",
       "    }\n",
       "\n",
       "    .dataframe thead th {\n",
       "        text-align: right;\n",
       "    }\n",
       "</style>\n",
       "<table border=\"1\" class=\"dataframe\">\n",
       "  <thead>\n",
       "    <tr style=\"text-align: right;\">\n",
       "      <th></th>\n",
       "      <th>customerID</th>\n",
       "      <th>Churn</th>\n",
       "      <th>customer</th>\n",
       "      <th>phone</th>\n",
       "      <th>internet</th>\n",
       "      <th>account</th>\n",
       "    </tr>\n",
       "  </thead>\n",
       "  <tbody>\n",
       "    <tr>\n",
       "      <th>0</th>\n",
       "      <td>0002-ORFBO</td>\n",
       "      <td>No</td>\n",
       "      <td>{'gender': 'Female', 'SeniorCitizen': 0, 'Part...</td>\n",
       "      <td>{'PhoneService': 'Yes', 'MultipleLines': 'No'}</td>\n",
       "      <td>{'InternetService': 'DSL', 'OnlineSecurity': '...</td>\n",
       "      <td>{'Contract': 'One year', 'PaperlessBilling': '...</td>\n",
       "    </tr>\n",
       "    <tr>\n",
       "      <th>1</th>\n",
       "      <td>0003-MKNFE</td>\n",
       "      <td>No</td>\n",
       "      <td>{'gender': 'Male', 'SeniorCitizen': 0, 'Partne...</td>\n",
       "      <td>{'PhoneService': 'Yes', 'MultipleLines': 'Yes'}</td>\n",
       "      <td>{'InternetService': 'DSL', 'OnlineSecurity': '...</td>\n",
       "      <td>{'Contract': 'Month-to-month', 'PaperlessBilli...</td>\n",
       "    </tr>\n",
       "    <tr>\n",
       "      <th>2</th>\n",
       "      <td>0004-TLHLJ</td>\n",
       "      <td>Yes</td>\n",
       "      <td>{'gender': 'Male', 'SeniorCitizen': 0, 'Partne...</td>\n",
       "      <td>{'PhoneService': 'Yes', 'MultipleLines': 'No'}</td>\n",
       "      <td>{'InternetService': 'Fiber optic', 'OnlineSecu...</td>\n",
       "      <td>{'Contract': 'Month-to-month', 'PaperlessBilli...</td>\n",
       "    </tr>\n",
       "    <tr>\n",
       "      <th>3</th>\n",
       "      <td>0011-IGKFF</td>\n",
       "      <td>Yes</td>\n",
       "      <td>{'gender': 'Male', 'SeniorCitizen': 1, 'Partne...</td>\n",
       "      <td>{'PhoneService': 'Yes', 'MultipleLines': 'No'}</td>\n",
       "      <td>{'InternetService': 'Fiber optic', 'OnlineSecu...</td>\n",
       "      <td>{'Contract': 'Month-to-month', 'PaperlessBilli...</td>\n",
       "    </tr>\n",
       "    <tr>\n",
       "      <th>4</th>\n",
       "      <td>0013-EXCHZ</td>\n",
       "      <td>Yes</td>\n",
       "      <td>{'gender': 'Female', 'SeniorCitizen': 1, 'Part...</td>\n",
       "      <td>{'PhoneService': 'Yes', 'MultipleLines': 'No'}</td>\n",
       "      <td>{'InternetService': 'Fiber optic', 'OnlineSecu...</td>\n",
       "      <td>{'Contract': 'Month-to-month', 'PaperlessBilli...</td>\n",
       "    </tr>\n",
       "  </tbody>\n",
       "</table>\n",
       "</div>"
      ],
      "text/plain": [
       "   customerID Churn                                           customer  \\\n",
       "0  0002-ORFBO    No  {'gender': 'Female', 'SeniorCitizen': 0, 'Part...   \n",
       "1  0003-MKNFE    No  {'gender': 'Male', 'SeniorCitizen': 0, 'Partne...   \n",
       "2  0004-TLHLJ   Yes  {'gender': 'Male', 'SeniorCitizen': 0, 'Partne...   \n",
       "3  0011-IGKFF   Yes  {'gender': 'Male', 'SeniorCitizen': 1, 'Partne...   \n",
       "4  0013-EXCHZ   Yes  {'gender': 'Female', 'SeniorCitizen': 1, 'Part...   \n",
       "\n",
       "                                             phone  \\\n",
       "0   {'PhoneService': 'Yes', 'MultipleLines': 'No'}   \n",
       "1  {'PhoneService': 'Yes', 'MultipleLines': 'Yes'}   \n",
       "2   {'PhoneService': 'Yes', 'MultipleLines': 'No'}   \n",
       "3   {'PhoneService': 'Yes', 'MultipleLines': 'No'}   \n",
       "4   {'PhoneService': 'Yes', 'MultipleLines': 'No'}   \n",
       "\n",
       "                                            internet  \\\n",
       "0  {'InternetService': 'DSL', 'OnlineSecurity': '...   \n",
       "1  {'InternetService': 'DSL', 'OnlineSecurity': '...   \n",
       "2  {'InternetService': 'Fiber optic', 'OnlineSecu...   \n",
       "3  {'InternetService': 'Fiber optic', 'OnlineSecu...   \n",
       "4  {'InternetService': 'Fiber optic', 'OnlineSecu...   \n",
       "\n",
       "                                             account  \n",
       "0  {'Contract': 'One year', 'PaperlessBilling': '...  \n",
       "1  {'Contract': 'Month-to-month', 'PaperlessBilli...  \n",
       "2  {'Contract': 'Month-to-month', 'PaperlessBilli...  \n",
       "3  {'Contract': 'Month-to-month', 'PaperlessBilli...  \n",
       "4  {'Contract': 'Month-to-month', 'PaperlessBilli...  "
      ]
     },
     "execution_count": 4,
     "metadata": {},
     "output_type": "execute_result"
    }
   ],
   "source": [
    "# Visualizando as 5 primeiras observações dos dados\n",
    "raw_data.head()"
   ]
  },
  {
   "cell_type": "markdown",
   "id": "26bbcc5f",
   "metadata": {},
   "source": [
    "## 2.0 Limpeza de dados"
   ]
  },
  {
   "cell_type": "markdown",
   "id": "f5413c54",
   "metadata": {},
   "source": [
    "### 2.1 Criando novas variáveis"
   ]
  },
  {
   "cell_type": "code",
   "execution_count": 5,
   "id": "d4559111",
   "metadata": {},
   "outputs": [],
   "source": [
    "# Função para extrair dados da API\n",
    "def extract_value(dataframe, variable):\n",
    "    return dataframe[variable].apply(lambda dictionary : pd.Series(dictionary))"
   ]
  },
  {
   "cell_type": "code",
   "execution_count": 6,
   "id": "6f8e0a01",
   "metadata": {},
   "outputs": [],
   "source": [
    "# Criando novas variáveis extraindo dados dos dicionários em cada célula\n",
    "for variable in raw_data.columns[2:]:\n",
    "    tmp_dataframe = extract_value(raw_data, variable)\n",
    "\n",
    "    raw_data = pd.concat([raw_data, tmp_dataframe], axis=1)"
   ]
  },
  {
   "cell_type": "code",
   "execution_count": 7,
   "id": "e60be192",
   "metadata": {},
   "outputs": [],
   "source": [
    "# Criando dataset final\n",
    "df = pd.concat([raw_data, extract_value(raw_data, 'Charges')], axis=1)"
   ]
  },
  {
   "cell_type": "code",
   "execution_count": 8,
   "id": "2543d59a",
   "metadata": {},
   "outputs": [
    {
     "data": {
      "text/html": [
       "<div>\n",
       "<style scoped>\n",
       "    .dataframe tbody tr th:only-of-type {\n",
       "        vertical-align: middle;\n",
       "    }\n",
       "\n",
       "    .dataframe tbody tr th {\n",
       "        vertical-align: top;\n",
       "    }\n",
       "\n",
       "    .dataframe thead th {\n",
       "        text-align: right;\n",
       "    }\n",
       "</style>\n",
       "<table border=\"1\" class=\"dataframe\">\n",
       "  <thead>\n",
       "    <tr style=\"text-align: right;\">\n",
       "      <th></th>\n",
       "      <th>customerID</th>\n",
       "      <th>Churn</th>\n",
       "      <th>customer</th>\n",
       "      <th>phone</th>\n",
       "      <th>internet</th>\n",
       "      <th>account</th>\n",
       "      <th>gender</th>\n",
       "      <th>SeniorCitizen</th>\n",
       "      <th>Partner</th>\n",
       "      <th>Dependents</th>\n",
       "      <th>...</th>\n",
       "      <th>DeviceProtection</th>\n",
       "      <th>TechSupport</th>\n",
       "      <th>StreamingTV</th>\n",
       "      <th>StreamingMovies</th>\n",
       "      <th>Contract</th>\n",
       "      <th>PaperlessBilling</th>\n",
       "      <th>PaymentMethod</th>\n",
       "      <th>Charges</th>\n",
       "      <th>Monthly</th>\n",
       "      <th>Total</th>\n",
       "    </tr>\n",
       "  </thead>\n",
       "  <tbody>\n",
       "    <tr>\n",
       "      <th>0</th>\n",
       "      <td>0002-ORFBO</td>\n",
       "      <td>No</td>\n",
       "      <td>{'gender': 'Female', 'SeniorCitizen': 0, 'Part...</td>\n",
       "      <td>{'PhoneService': 'Yes', 'MultipleLines': 'No'}</td>\n",
       "      <td>{'InternetService': 'DSL', 'OnlineSecurity': '...</td>\n",
       "      <td>{'Contract': 'One year', 'PaperlessBilling': '...</td>\n",
       "      <td>Female</td>\n",
       "      <td>0</td>\n",
       "      <td>Yes</td>\n",
       "      <td>Yes</td>\n",
       "      <td>...</td>\n",
       "      <td>No</td>\n",
       "      <td>Yes</td>\n",
       "      <td>Yes</td>\n",
       "      <td>No</td>\n",
       "      <td>One year</td>\n",
       "      <td>Yes</td>\n",
       "      <td>Mailed check</td>\n",
       "      <td>{'Monthly': 65.6, 'Total': '593.3'}</td>\n",
       "      <td>65.6</td>\n",
       "      <td>593.3</td>\n",
       "    </tr>\n",
       "    <tr>\n",
       "      <th>1</th>\n",
       "      <td>0003-MKNFE</td>\n",
       "      <td>No</td>\n",
       "      <td>{'gender': 'Male', 'SeniorCitizen': 0, 'Partne...</td>\n",
       "      <td>{'PhoneService': 'Yes', 'MultipleLines': 'Yes'}</td>\n",
       "      <td>{'InternetService': 'DSL', 'OnlineSecurity': '...</td>\n",
       "      <td>{'Contract': 'Month-to-month', 'PaperlessBilli...</td>\n",
       "      <td>Male</td>\n",
       "      <td>0</td>\n",
       "      <td>No</td>\n",
       "      <td>No</td>\n",
       "      <td>...</td>\n",
       "      <td>No</td>\n",
       "      <td>No</td>\n",
       "      <td>No</td>\n",
       "      <td>Yes</td>\n",
       "      <td>Month-to-month</td>\n",
       "      <td>No</td>\n",
       "      <td>Mailed check</td>\n",
       "      <td>{'Monthly': 59.9, 'Total': '542.4'}</td>\n",
       "      <td>59.9</td>\n",
       "      <td>542.4</td>\n",
       "    </tr>\n",
       "    <tr>\n",
       "      <th>2</th>\n",
       "      <td>0004-TLHLJ</td>\n",
       "      <td>Yes</td>\n",
       "      <td>{'gender': 'Male', 'SeniorCitizen': 0, 'Partne...</td>\n",
       "      <td>{'PhoneService': 'Yes', 'MultipleLines': 'No'}</td>\n",
       "      <td>{'InternetService': 'Fiber optic', 'OnlineSecu...</td>\n",
       "      <td>{'Contract': 'Month-to-month', 'PaperlessBilli...</td>\n",
       "      <td>Male</td>\n",
       "      <td>0</td>\n",
       "      <td>No</td>\n",
       "      <td>No</td>\n",
       "      <td>...</td>\n",
       "      <td>Yes</td>\n",
       "      <td>No</td>\n",
       "      <td>No</td>\n",
       "      <td>No</td>\n",
       "      <td>Month-to-month</td>\n",
       "      <td>Yes</td>\n",
       "      <td>Electronic check</td>\n",
       "      <td>{'Monthly': 73.9, 'Total': '280.85'}</td>\n",
       "      <td>73.9</td>\n",
       "      <td>280.85</td>\n",
       "    </tr>\n",
       "    <tr>\n",
       "      <th>3</th>\n",
       "      <td>0011-IGKFF</td>\n",
       "      <td>Yes</td>\n",
       "      <td>{'gender': 'Male', 'SeniorCitizen': 1, 'Partne...</td>\n",
       "      <td>{'PhoneService': 'Yes', 'MultipleLines': 'No'}</td>\n",
       "      <td>{'InternetService': 'Fiber optic', 'OnlineSecu...</td>\n",
       "      <td>{'Contract': 'Month-to-month', 'PaperlessBilli...</td>\n",
       "      <td>Male</td>\n",
       "      <td>1</td>\n",
       "      <td>Yes</td>\n",
       "      <td>No</td>\n",
       "      <td>...</td>\n",
       "      <td>Yes</td>\n",
       "      <td>No</td>\n",
       "      <td>Yes</td>\n",
       "      <td>Yes</td>\n",
       "      <td>Month-to-month</td>\n",
       "      <td>Yes</td>\n",
       "      <td>Electronic check</td>\n",
       "      <td>{'Monthly': 98.0, 'Total': '1237.85'}</td>\n",
       "      <td>98.0</td>\n",
       "      <td>1237.85</td>\n",
       "    </tr>\n",
       "    <tr>\n",
       "      <th>4</th>\n",
       "      <td>0013-EXCHZ</td>\n",
       "      <td>Yes</td>\n",
       "      <td>{'gender': 'Female', 'SeniorCitizen': 1, 'Part...</td>\n",
       "      <td>{'PhoneService': 'Yes', 'MultipleLines': 'No'}</td>\n",
       "      <td>{'InternetService': 'Fiber optic', 'OnlineSecu...</td>\n",
       "      <td>{'Contract': 'Month-to-month', 'PaperlessBilli...</td>\n",
       "      <td>Female</td>\n",
       "      <td>1</td>\n",
       "      <td>Yes</td>\n",
       "      <td>No</td>\n",
       "      <td>...</td>\n",
       "      <td>No</td>\n",
       "      <td>Yes</td>\n",
       "      <td>Yes</td>\n",
       "      <td>No</td>\n",
       "      <td>Month-to-month</td>\n",
       "      <td>Yes</td>\n",
       "      <td>Mailed check</td>\n",
       "      <td>{'Monthly': 83.9, 'Total': '267.4'}</td>\n",
       "      <td>83.9</td>\n",
       "      <td>267.4</td>\n",
       "    </tr>\n",
       "  </tbody>\n",
       "</table>\n",
       "<p>5 rows × 26 columns</p>\n",
       "</div>"
      ],
      "text/plain": [
       "   customerID Churn                                           customer  \\\n",
       "0  0002-ORFBO    No  {'gender': 'Female', 'SeniorCitizen': 0, 'Part...   \n",
       "1  0003-MKNFE    No  {'gender': 'Male', 'SeniorCitizen': 0, 'Partne...   \n",
       "2  0004-TLHLJ   Yes  {'gender': 'Male', 'SeniorCitizen': 0, 'Partne...   \n",
       "3  0011-IGKFF   Yes  {'gender': 'Male', 'SeniorCitizen': 1, 'Partne...   \n",
       "4  0013-EXCHZ   Yes  {'gender': 'Female', 'SeniorCitizen': 1, 'Part...   \n",
       "\n",
       "                                             phone  \\\n",
       "0   {'PhoneService': 'Yes', 'MultipleLines': 'No'}   \n",
       "1  {'PhoneService': 'Yes', 'MultipleLines': 'Yes'}   \n",
       "2   {'PhoneService': 'Yes', 'MultipleLines': 'No'}   \n",
       "3   {'PhoneService': 'Yes', 'MultipleLines': 'No'}   \n",
       "4   {'PhoneService': 'Yes', 'MultipleLines': 'No'}   \n",
       "\n",
       "                                            internet  \\\n",
       "0  {'InternetService': 'DSL', 'OnlineSecurity': '...   \n",
       "1  {'InternetService': 'DSL', 'OnlineSecurity': '...   \n",
       "2  {'InternetService': 'Fiber optic', 'OnlineSecu...   \n",
       "3  {'InternetService': 'Fiber optic', 'OnlineSecu...   \n",
       "4  {'InternetService': 'Fiber optic', 'OnlineSecu...   \n",
       "\n",
       "                                             account  gender  SeniorCitizen  \\\n",
       "0  {'Contract': 'One year', 'PaperlessBilling': '...  Female              0   \n",
       "1  {'Contract': 'Month-to-month', 'PaperlessBilli...    Male              0   \n",
       "2  {'Contract': 'Month-to-month', 'PaperlessBilli...    Male              0   \n",
       "3  {'Contract': 'Month-to-month', 'PaperlessBilli...    Male              1   \n",
       "4  {'Contract': 'Month-to-month', 'PaperlessBilli...  Female              1   \n",
       "\n",
       "  Partner Dependents  ...  DeviceProtection TechSupport StreamingTV  \\\n",
       "0     Yes        Yes  ...                No         Yes         Yes   \n",
       "1      No         No  ...                No          No          No   \n",
       "2      No         No  ...               Yes          No          No   \n",
       "3     Yes         No  ...               Yes          No         Yes   \n",
       "4     Yes         No  ...                No         Yes         Yes   \n",
       "\n",
       "  StreamingMovies        Contract PaperlessBilling     PaymentMethod  \\\n",
       "0              No        One year              Yes      Mailed check   \n",
       "1             Yes  Month-to-month               No      Mailed check   \n",
       "2              No  Month-to-month              Yes  Electronic check   \n",
       "3             Yes  Month-to-month              Yes  Electronic check   \n",
       "4              No  Month-to-month              Yes      Mailed check   \n",
       "\n",
       "                                 Charges Monthly    Total  \n",
       "0    {'Monthly': 65.6, 'Total': '593.3'}    65.6    593.3  \n",
       "1    {'Monthly': 59.9, 'Total': '542.4'}    59.9    542.4  \n",
       "2   {'Monthly': 73.9, 'Total': '280.85'}    73.9   280.85  \n",
       "3  {'Monthly': 98.0, 'Total': '1237.85'}    98.0  1237.85  \n",
       "4    {'Monthly': 83.9, 'Total': '267.4'}    83.9    267.4  \n",
       "\n",
       "[5 rows x 26 columns]"
      ]
     },
     "execution_count": 8,
     "metadata": {},
     "output_type": "execute_result"
    }
   ],
   "source": [
    "df.head()"
   ]
  },
  {
   "cell_type": "code",
   "execution_count": 9,
   "id": "a760c939",
   "metadata": {},
   "outputs": [],
   "source": [
    "# Removendo variáveis não mais necessárias\n",
    "df.drop(['customer', 'phone', 'internet', 'account', 'Charges'], axis=1, inplace=True)"
   ]
  },
  {
   "cell_type": "markdown",
   "id": "c7ce9694",
   "metadata": {},
   "source": [
    "### 2.2 Explorando dados nulos"
   ]
  },
  {
   "cell_type": "code",
   "execution_count": 10,
   "id": "89b02695",
   "metadata": {},
   "outputs": [
    {
     "data": {
      "text/plain": [
       "customerID          0\n",
       "Churn               0\n",
       "gender              0\n",
       "SeniorCitizen       0\n",
       "Partner             0\n",
       "Dependents          0\n",
       "tenure              0\n",
       "PhoneService        0\n",
       "MultipleLines       0\n",
       "InternetService     0\n",
       "OnlineSecurity      0\n",
       "OnlineBackup        0\n",
       "DeviceProtection    0\n",
       "TechSupport         0\n",
       "StreamingTV         0\n",
       "StreamingMovies     0\n",
       "Contract            0\n",
       "PaperlessBilling    0\n",
       "PaymentMethod       0\n",
       "Monthly             0\n",
       "Total               0\n",
       "dtype: int64"
      ]
     },
     "execution_count": 10,
     "metadata": {},
     "output_type": "execute_result"
    }
   ],
   "source": [
    "# Verificando dados propriamente nulos\n",
    "df.isna().sum()"
   ]
  },
  {
   "cell_type": "code",
   "execution_count": 13,
   "id": "7b65a751",
   "metadata": {},
   "outputs": [],
   "source": [
    "# Função para verificação de valores unicos\n",
    "def check_unique_values():\n",
    "    for variable in df.columns:\n",
    "        format_string = f'{variable} : {df[variable].unique()}'\n",
    "\n",
    "        print(format_string)"
   ]
  },
  {
   "cell_type": "code",
   "execution_count": 14,
   "id": "82111584",
   "metadata": {},
   "outputs": [
    {
     "name": "stdout",
     "output_type": "stream",
     "text": [
      "customerID : ['0002-ORFBO' '0003-MKNFE' '0004-TLHLJ' ... '9992-UJOEL' '9993-LHIEB'\n",
      " '9995-HOTOH']\n",
      "Churn : ['No' 'Yes' '']\n",
      "gender : ['Female' 'Male']\n",
      "SeniorCitizen : [0 1]\n",
      "Partner : ['Yes' 'No']\n",
      "Dependents : ['Yes' 'No']\n",
      "tenure : [ 9  4 13  3 71 63  7 65 54 72  5 56 34  1 45 50 23 55 26 69 11 37 49 66\n",
      " 67 20 43 59 12 27  2 25 29 14 35 64 39 40  6 30 70 57 58 16 32 33 10 21\n",
      " 61 15 44 22 24 19 47 62 46 52  8 60 48 28 41 53 68 51 31 36 17 18 38 42\n",
      "  0]\n",
      "PhoneService : ['Yes' 'No']\n",
      "MultipleLines : ['No' 'Yes' 'No phone service']\n",
      "InternetService : ['DSL' 'Fiber optic' 'No']\n",
      "OnlineSecurity : ['No' 'Yes' 'No internet service']\n",
      "OnlineBackup : ['Yes' 'No' 'No internet service']\n",
      "DeviceProtection : ['No' 'Yes' 'No internet service']\n",
      "TechSupport : ['Yes' 'No' 'No internet service']\n",
      "StreamingTV : ['Yes' 'No' 'No internet service']\n",
      "StreamingMovies : ['No' 'Yes' 'No internet service']\n",
      "Contract : ['One year' 'Month-to-month' 'Two year']\n",
      "PaperlessBilling : ['Yes' 'No']\n",
      "PaymentMethod : ['Mailed check' 'Electronic check' 'Credit card (automatic)'\n",
      " 'Bank transfer (automatic)']\n",
      "Monthly : [65.6  59.9  73.9  ... 91.75 68.8  67.85]\n",
      "Total : ['593.3' '542.4' '280.85' ... '742.9' '4627.65' '3707.6']\n"
     ]
    }
   ],
   "source": [
    "# Verificando valores\n",
    "check_unique_values()"
   ]
  },
  {
   "cell_type": "code",
   "execution_count": 15,
   "id": "eff96fa3",
   "metadata": {},
   "outputs": [],
   "source": [
    "# Eliminando strings vazias\n",
    "df.replace({'' : 0, ' ' : 0}, inplace=True)"
   ]
  },
  {
   "cell_type": "code",
   "execution_count": 16,
   "id": "70db5f2a",
   "metadata": {},
   "outputs": [
    {
     "name": "stdout",
     "output_type": "stream",
     "text": [
      "customerID : ['0002-ORFBO' '0003-MKNFE' '0004-TLHLJ' ... '9992-UJOEL' '9993-LHIEB'\n",
      " '9995-HOTOH']\n",
      "Churn : ['No' 'Yes' 0]\n",
      "gender : ['Female' 'Male']\n",
      "SeniorCitizen : [0 1]\n",
      "Partner : ['Yes' 'No']\n",
      "Dependents : ['Yes' 'No']\n",
      "tenure : [ 9  4 13  3 71 63  7 65 54 72  5 56 34  1 45 50 23 55 26 69 11 37 49 66\n",
      " 67 20 43 59 12 27  2 25 29 14 35 64 39 40  6 30 70 57 58 16 32 33 10 21\n",
      " 61 15 44 22 24 19 47 62 46 52  8 60 48 28 41 53 68 51 31 36 17 18 38 42\n",
      "  0]\n",
      "PhoneService : ['Yes' 'No']\n",
      "MultipleLines : ['No' 'Yes' 'No phone service']\n",
      "InternetService : ['DSL' 'Fiber optic' 'No']\n",
      "OnlineSecurity : ['No' 'Yes' 'No internet service']\n",
      "OnlineBackup : ['Yes' 'No' 'No internet service']\n",
      "DeviceProtection : ['No' 'Yes' 'No internet service']\n",
      "TechSupport : ['Yes' 'No' 'No internet service']\n",
      "StreamingTV : ['Yes' 'No' 'No internet service']\n",
      "StreamingMovies : ['No' 'Yes' 'No internet service']\n",
      "Contract : ['One year' 'Month-to-month' 'Two year']\n",
      "PaperlessBilling : ['Yes' 'No']\n",
      "PaymentMethod : ['Mailed check' 'Electronic check' 'Credit card (automatic)'\n",
      " 'Bank transfer (automatic)']\n",
      "Monthly : [65.6  59.9  73.9  ... 91.75 68.8  67.85]\n",
      "Total : ['593.3' '542.4' '280.85' ... '742.9' '4627.65' '3707.6']\n"
     ]
    }
   ],
   "source": [
    "check_unique_values()"
   ]
  },
  {
   "cell_type": "code",
   "execution_count": 17,
   "id": "f44a9ed5",
   "metadata": {},
   "outputs": [],
   "source": [
    "# Modificando dtypes\n",
    "df['Total'] = pd.to_numeric(df['Total'])"
   ]
  },
  {
   "cell_type": "markdown",
   "id": "b92ac3dd",
   "metadata": {},
   "source": [
    "### 2.3 Gerando dummies"
   ]
  },
  {
   "cell_type": "code",
   "execution_count": 18,
   "id": "5c9fcb2d",
   "metadata": {},
   "outputs": [],
   "source": [
    "# Tratando variáveis\n",
    "df.replace({'Yes' : 1, 'No' : 0, 'Male' : 1, 'Female' : 0}, inplace=True)"
   ]
  },
  {
   "cell_type": "code",
   "execution_count": 19,
   "id": "760439ab",
   "metadata": {},
   "outputs": [],
   "source": [
    "# Gerando dummies\n",
    "df = pd.get_dummies(df.iloc[:, 1:])"
   ]
  },
  {
   "cell_type": "markdown",
   "id": "2830cda0",
   "metadata": {},
   "source": [
    "## 3.0 Explorando dados"
   ]
  },
  {
   "cell_type": "markdown",
   "id": "eb214b24",
   "metadata": {},
   "source": [
    "### 3.1 Tratando dados para exploração"
   ]
  },
  {
   "cell_type": "code",
   "execution_count": 20,
   "id": "8344068b",
   "metadata": {},
   "outputs": [
    {
     "data": {
      "text/html": [
       "<div>\n",
       "<style scoped>\n",
       "    .dataframe tbody tr th:only-of-type {\n",
       "        vertical-align: middle;\n",
       "    }\n",
       "\n",
       "    .dataframe tbody tr th {\n",
       "        vertical-align: top;\n",
       "    }\n",
       "\n",
       "    .dataframe thead th {\n",
       "        text-align: right;\n",
       "    }\n",
       "</style>\n",
       "<table border=\"1\" class=\"dataframe\">\n",
       "  <thead>\n",
       "    <tr style=\"text-align: right;\">\n",
       "      <th></th>\n",
       "      <th>Churn</th>\n",
       "      <th>gender</th>\n",
       "      <th>SeniorCitizen</th>\n",
       "      <th>Partner</th>\n",
       "      <th>Dependents</th>\n",
       "      <th>tenure</th>\n",
       "      <th>PhoneService</th>\n",
       "      <th>PaperlessBilling</th>\n",
       "      <th>Monthly</th>\n",
       "      <th>Total</th>\n",
       "      <th>...</th>\n",
       "      <th>StreamingMovies_0</th>\n",
       "      <th>StreamingMovies_1</th>\n",
       "      <th>StreamingMovies_No internet service</th>\n",
       "      <th>Contract_Month-to-month</th>\n",
       "      <th>Contract_One year</th>\n",
       "      <th>Contract_Two year</th>\n",
       "      <th>PaymentMethod_Bank transfer (automatic)</th>\n",
       "      <th>PaymentMethod_Credit card (automatic)</th>\n",
       "      <th>PaymentMethod_Electronic check</th>\n",
       "      <th>PaymentMethod_Mailed check</th>\n",
       "    </tr>\n",
       "  </thead>\n",
       "  <tbody>\n",
       "    <tr>\n",
       "      <th>0</th>\n",
       "      <td>0</td>\n",
       "      <td>0</td>\n",
       "      <td>0</td>\n",
       "      <td>1</td>\n",
       "      <td>1</td>\n",
       "      <td>9</td>\n",
       "      <td>1</td>\n",
       "      <td>1</td>\n",
       "      <td>65.60</td>\n",
       "      <td>593.30</td>\n",
       "      <td>...</td>\n",
       "      <td>1</td>\n",
       "      <td>0</td>\n",
       "      <td>0</td>\n",
       "      <td>0</td>\n",
       "      <td>1</td>\n",
       "      <td>0</td>\n",
       "      <td>0</td>\n",
       "      <td>0</td>\n",
       "      <td>0</td>\n",
       "      <td>1</td>\n",
       "    </tr>\n",
       "    <tr>\n",
       "      <th>1</th>\n",
       "      <td>0</td>\n",
       "      <td>1</td>\n",
       "      <td>0</td>\n",
       "      <td>0</td>\n",
       "      <td>0</td>\n",
       "      <td>9</td>\n",
       "      <td>1</td>\n",
       "      <td>0</td>\n",
       "      <td>59.90</td>\n",
       "      <td>542.40</td>\n",
       "      <td>...</td>\n",
       "      <td>0</td>\n",
       "      <td>1</td>\n",
       "      <td>0</td>\n",
       "      <td>1</td>\n",
       "      <td>0</td>\n",
       "      <td>0</td>\n",
       "      <td>0</td>\n",
       "      <td>0</td>\n",
       "      <td>0</td>\n",
       "      <td>1</td>\n",
       "    </tr>\n",
       "    <tr>\n",
       "      <th>2</th>\n",
       "      <td>1</td>\n",
       "      <td>1</td>\n",
       "      <td>0</td>\n",
       "      <td>0</td>\n",
       "      <td>0</td>\n",
       "      <td>4</td>\n",
       "      <td>1</td>\n",
       "      <td>1</td>\n",
       "      <td>73.90</td>\n",
       "      <td>280.85</td>\n",
       "      <td>...</td>\n",
       "      <td>1</td>\n",
       "      <td>0</td>\n",
       "      <td>0</td>\n",
       "      <td>1</td>\n",
       "      <td>0</td>\n",
       "      <td>0</td>\n",
       "      <td>0</td>\n",
       "      <td>0</td>\n",
       "      <td>1</td>\n",
       "      <td>0</td>\n",
       "    </tr>\n",
       "    <tr>\n",
       "      <th>3</th>\n",
       "      <td>1</td>\n",
       "      <td>1</td>\n",
       "      <td>1</td>\n",
       "      <td>1</td>\n",
       "      <td>0</td>\n",
       "      <td>13</td>\n",
       "      <td>1</td>\n",
       "      <td>1</td>\n",
       "      <td>98.00</td>\n",
       "      <td>1237.85</td>\n",
       "      <td>...</td>\n",
       "      <td>0</td>\n",
       "      <td>1</td>\n",
       "      <td>0</td>\n",
       "      <td>1</td>\n",
       "      <td>0</td>\n",
       "      <td>0</td>\n",
       "      <td>0</td>\n",
       "      <td>0</td>\n",
       "      <td>1</td>\n",
       "      <td>0</td>\n",
       "    </tr>\n",
       "    <tr>\n",
       "      <th>4</th>\n",
       "      <td>1</td>\n",
       "      <td>0</td>\n",
       "      <td>1</td>\n",
       "      <td>1</td>\n",
       "      <td>0</td>\n",
       "      <td>3</td>\n",
       "      <td>1</td>\n",
       "      <td>1</td>\n",
       "      <td>83.90</td>\n",
       "      <td>267.40</td>\n",
       "      <td>...</td>\n",
       "      <td>1</td>\n",
       "      <td>0</td>\n",
       "      <td>0</td>\n",
       "      <td>1</td>\n",
       "      <td>0</td>\n",
       "      <td>0</td>\n",
       "      <td>0</td>\n",
       "      <td>0</td>\n",
       "      <td>0</td>\n",
       "      <td>1</td>\n",
       "    </tr>\n",
       "    <tr>\n",
       "      <th>5</th>\n",
       "      <td>0</td>\n",
       "      <td>0</td>\n",
       "      <td>0</td>\n",
       "      <td>0</td>\n",
       "      <td>1</td>\n",
       "      <td>9</td>\n",
       "      <td>1</td>\n",
       "      <td>1</td>\n",
       "      <td>69.40</td>\n",
       "      <td>571.45</td>\n",
       "      <td>...</td>\n",
       "      <td>0</td>\n",
       "      <td>1</td>\n",
       "      <td>0</td>\n",
       "      <td>1</td>\n",
       "      <td>0</td>\n",
       "      <td>0</td>\n",
       "      <td>0</td>\n",
       "      <td>1</td>\n",
       "      <td>0</td>\n",
       "      <td>0</td>\n",
       "    </tr>\n",
       "    <tr>\n",
       "      <th>6</th>\n",
       "      <td>0</td>\n",
       "      <td>0</td>\n",
       "      <td>1</td>\n",
       "      <td>1</td>\n",
       "      <td>0</td>\n",
       "      <td>71</td>\n",
       "      <td>1</td>\n",
       "      <td>1</td>\n",
       "      <td>109.70</td>\n",
       "      <td>7904.25</td>\n",
       "      <td>...</td>\n",
       "      <td>0</td>\n",
       "      <td>1</td>\n",
       "      <td>0</td>\n",
       "      <td>0</td>\n",
       "      <td>0</td>\n",
       "      <td>1</td>\n",
       "      <td>1</td>\n",
       "      <td>0</td>\n",
       "      <td>0</td>\n",
       "      <td>0</td>\n",
       "    </tr>\n",
       "    <tr>\n",
       "      <th>7</th>\n",
       "      <td>0</td>\n",
       "      <td>1</td>\n",
       "      <td>0</td>\n",
       "      <td>1</td>\n",
       "      <td>0</td>\n",
       "      <td>63</td>\n",
       "      <td>1</td>\n",
       "      <td>1</td>\n",
       "      <td>84.65</td>\n",
       "      <td>5377.80</td>\n",
       "      <td>...</td>\n",
       "      <td>1</td>\n",
       "      <td>0</td>\n",
       "      <td>0</td>\n",
       "      <td>0</td>\n",
       "      <td>0</td>\n",
       "      <td>1</td>\n",
       "      <td>0</td>\n",
       "      <td>1</td>\n",
       "      <td>0</td>\n",
       "      <td>0</td>\n",
       "    </tr>\n",
       "    <tr>\n",
       "      <th>8</th>\n",
       "      <td>0</td>\n",
       "      <td>0</td>\n",
       "      <td>1</td>\n",
       "      <td>0</td>\n",
       "      <td>0</td>\n",
       "      <td>7</td>\n",
       "      <td>1</td>\n",
       "      <td>1</td>\n",
       "      <td>48.20</td>\n",
       "      <td>340.35</td>\n",
       "      <td>...</td>\n",
       "      <td>1</td>\n",
       "      <td>0</td>\n",
       "      <td>0</td>\n",
       "      <td>1</td>\n",
       "      <td>0</td>\n",
       "      <td>0</td>\n",
       "      <td>0</td>\n",
       "      <td>0</td>\n",
       "      <td>1</td>\n",
       "      <td>0</td>\n",
       "    </tr>\n",
       "    <tr>\n",
       "      <th>9</th>\n",
       "      <td>0</td>\n",
       "      <td>0</td>\n",
       "      <td>0</td>\n",
       "      <td>1</td>\n",
       "      <td>1</td>\n",
       "      <td>65</td>\n",
       "      <td>1</td>\n",
       "      <td>1</td>\n",
       "      <td>90.45</td>\n",
       "      <td>5957.90</td>\n",
       "      <td>...</td>\n",
       "      <td>0</td>\n",
       "      <td>1</td>\n",
       "      <td>0</td>\n",
       "      <td>0</td>\n",
       "      <td>0</td>\n",
       "      <td>1</td>\n",
       "      <td>0</td>\n",
       "      <td>0</td>\n",
       "      <td>0</td>\n",
       "      <td>1</td>\n",
       "    </tr>\n",
       "    <tr>\n",
       "      <th>10</th>\n",
       "      <td>0</td>\n",
       "      <td>1</td>\n",
       "      <td>0</td>\n",
       "      <td>0</td>\n",
       "      <td>0</td>\n",
       "      <td>54</td>\n",
       "      <td>0</td>\n",
       "      <td>0</td>\n",
       "      <td>45.20</td>\n",
       "      <td>2460.55</td>\n",
       "      <td>...</td>\n",
       "      <td>1</td>\n",
       "      <td>0</td>\n",
       "      <td>0</td>\n",
       "      <td>0</td>\n",
       "      <td>0</td>\n",
       "      <td>1</td>\n",
       "      <td>0</td>\n",
       "      <td>1</td>\n",
       "      <td>0</td>\n",
       "      <td>0</td>\n",
       "    </tr>\n",
       "    <tr>\n",
       "      <th>11</th>\n",
       "      <td>0</td>\n",
       "      <td>0</td>\n",
       "      <td>0</td>\n",
       "      <td>1</td>\n",
       "      <td>1</td>\n",
       "      <td>72</td>\n",
       "      <td>1</td>\n",
       "      <td>1</td>\n",
       "      <td>116.80</td>\n",
       "      <td>8456.75</td>\n",
       "      <td>...</td>\n",
       "      <td>0</td>\n",
       "      <td>1</td>\n",
       "      <td>0</td>\n",
       "      <td>0</td>\n",
       "      <td>0</td>\n",
       "      <td>1</td>\n",
       "      <td>0</td>\n",
       "      <td>1</td>\n",
       "      <td>0</td>\n",
       "      <td>0</td>\n",
       "    </tr>\n",
       "    <tr>\n",
       "      <th>12</th>\n",
       "      <td>0</td>\n",
       "      <td>0</td>\n",
       "      <td>0</td>\n",
       "      <td>1</td>\n",
       "      <td>0</td>\n",
       "      <td>5</td>\n",
       "      <td>1</td>\n",
       "      <td>1</td>\n",
       "      <td>68.95</td>\n",
       "      <td>351.50</td>\n",
       "      <td>...</td>\n",
       "      <td>1</td>\n",
       "      <td>0</td>\n",
       "      <td>0</td>\n",
       "      <td>1</td>\n",
       "      <td>0</td>\n",
       "      <td>0</td>\n",
       "      <td>0</td>\n",
       "      <td>0</td>\n",
       "      <td>1</td>\n",
       "      <td>0</td>\n",
       "    </tr>\n",
       "    <tr>\n",
       "      <th>13</th>\n",
       "      <td>0</td>\n",
       "      <td>0</td>\n",
       "      <td>0</td>\n",
       "      <td>0</td>\n",
       "      <td>0</td>\n",
       "      <td>72</td>\n",
       "      <td>1</td>\n",
       "      <td>1</td>\n",
       "      <td>101.30</td>\n",
       "      <td>7261.25</td>\n",
       "      <td>...</td>\n",
       "      <td>1</td>\n",
       "      <td>0</td>\n",
       "      <td>0</td>\n",
       "      <td>0</td>\n",
       "      <td>0</td>\n",
       "      <td>1</td>\n",
       "      <td>1</td>\n",
       "      <td>0</td>\n",
       "      <td>0</td>\n",
       "      <td>0</td>\n",
       "    </tr>\n",
       "    <tr>\n",
       "      <th>14</th>\n",
       "      <td>0</td>\n",
       "      <td>0</td>\n",
       "      <td>0</td>\n",
       "      <td>0</td>\n",
       "      <td>0</td>\n",
       "      <td>56</td>\n",
       "      <td>0</td>\n",
       "      <td>0</td>\n",
       "      <td>45.05</td>\n",
       "      <td>2560.10</td>\n",
       "      <td>...</td>\n",
       "      <td>1</td>\n",
       "      <td>0</td>\n",
       "      <td>0</td>\n",
       "      <td>0</td>\n",
       "      <td>0</td>\n",
       "      <td>1</td>\n",
       "      <td>1</td>\n",
       "      <td>0</td>\n",
       "      <td>0</td>\n",
       "      <td>0</td>\n",
       "    </tr>\n",
       "    <tr>\n",
       "      <th>15</th>\n",
       "      <td>0</td>\n",
       "      <td>0</td>\n",
       "      <td>0</td>\n",
       "      <td>1</td>\n",
       "      <td>1</td>\n",
       "      <td>71</td>\n",
       "      <td>1</td>\n",
       "      <td>1</td>\n",
       "      <td>95.75</td>\n",
       "      <td>6849.40</td>\n",
       "      <td>...</td>\n",
       "      <td>0</td>\n",
       "      <td>1</td>\n",
       "      <td>0</td>\n",
       "      <td>0</td>\n",
       "      <td>0</td>\n",
       "      <td>1</td>\n",
       "      <td>0</td>\n",
       "      <td>1</td>\n",
       "      <td>0</td>\n",
       "      <td>0</td>\n",
       "    </tr>\n",
       "    <tr>\n",
       "      <th>16</th>\n",
       "      <td>0</td>\n",
       "      <td>0</td>\n",
       "      <td>0</td>\n",
       "      <td>1</td>\n",
       "      <td>1</td>\n",
       "      <td>34</td>\n",
       "      <td>0</td>\n",
       "      <td>0</td>\n",
       "      <td>61.25</td>\n",
       "      <td>1993.20</td>\n",
       "      <td>...</td>\n",
       "      <td>0</td>\n",
       "      <td>1</td>\n",
       "      <td>0</td>\n",
       "      <td>0</td>\n",
       "      <td>1</td>\n",
       "      <td>0</td>\n",
       "      <td>0</td>\n",
       "      <td>0</td>\n",
       "      <td>0</td>\n",
       "      <td>1</td>\n",
       "    </tr>\n",
       "    <tr>\n",
       "      <th>17</th>\n",
       "      <td>0</td>\n",
       "      <td>0</td>\n",
       "      <td>1</td>\n",
       "      <td>0</td>\n",
       "      <td>0</td>\n",
       "      <td>1</td>\n",
       "      <td>1</td>\n",
       "      <td>1</td>\n",
       "      <td>72.10</td>\n",
       "      <td>72.10</td>\n",
       "      <td>...</td>\n",
       "      <td>1</td>\n",
       "      <td>0</td>\n",
       "      <td>0</td>\n",
       "      <td>1</td>\n",
       "      <td>0</td>\n",
       "      <td>0</td>\n",
       "      <td>0</td>\n",
       "      <td>0</td>\n",
       "      <td>1</td>\n",
       "      <td>0</td>\n",
       "    </tr>\n",
       "    <tr>\n",
       "      <th>18</th>\n",
       "      <td>1</td>\n",
       "      <td>1</td>\n",
       "      <td>1</td>\n",
       "      <td>0</td>\n",
       "      <td>0</td>\n",
       "      <td>45</td>\n",
       "      <td>1</td>\n",
       "      <td>0</td>\n",
       "      <td>62.70</td>\n",
       "      <td>2791.50</td>\n",
       "      <td>...</td>\n",
       "      <td>0</td>\n",
       "      <td>1</td>\n",
       "      <td>0</td>\n",
       "      <td>0</td>\n",
       "      <td>1</td>\n",
       "      <td>0</td>\n",
       "      <td>0</td>\n",
       "      <td>1</td>\n",
       "      <td>0</td>\n",
       "      <td>0</td>\n",
       "    </tr>\n",
       "    <tr>\n",
       "      <th>19</th>\n",
       "      <td>1</td>\n",
       "      <td>1</td>\n",
       "      <td>1</td>\n",
       "      <td>0</td>\n",
       "      <td>0</td>\n",
       "      <td>1</td>\n",
       "      <td>0</td>\n",
       "      <td>1</td>\n",
       "      <td>25.10</td>\n",
       "      <td>25.10</td>\n",
       "      <td>...</td>\n",
       "      <td>1</td>\n",
       "      <td>0</td>\n",
       "      <td>0</td>\n",
       "      <td>1</td>\n",
       "      <td>0</td>\n",
       "      <td>0</td>\n",
       "      <td>0</td>\n",
       "      <td>0</td>\n",
       "      <td>1</td>\n",
       "      <td>0</td>\n",
       "    </tr>\n",
       "  </tbody>\n",
       "</table>\n",
       "<p>20 rows × 41 columns</p>\n",
       "</div>"
      ],
      "text/plain": [
       "    Churn  gender  SeniorCitizen  Partner  Dependents  tenure  PhoneService  \\\n",
       "0       0       0              0        1           1       9             1   \n",
       "1       0       1              0        0           0       9             1   \n",
       "2       1       1              0        0           0       4             1   \n",
       "3       1       1              1        1           0      13             1   \n",
       "4       1       0              1        1           0       3             1   \n",
       "5       0       0              0        0           1       9             1   \n",
       "6       0       0              1        1           0      71             1   \n",
       "7       0       1              0        1           0      63             1   \n",
       "8       0       0              1        0           0       7             1   \n",
       "9       0       0              0        1           1      65             1   \n",
       "10      0       1              0        0           0      54             0   \n",
       "11      0       0              0        1           1      72             1   \n",
       "12      0       0              0        1           0       5             1   \n",
       "13      0       0              0        0           0      72             1   \n",
       "14      0       0              0        0           0      56             0   \n",
       "15      0       0              0        1           1      71             1   \n",
       "16      0       0              0        1           1      34             0   \n",
       "17      0       0              1        0           0       1             1   \n",
       "18      1       1              1        0           0      45             1   \n",
       "19      1       1              1        0           0       1             0   \n",
       "\n",
       "    PaperlessBilling  Monthly    Total  ...  StreamingMovies_0  \\\n",
       "0                  1    65.60   593.30  ...                  1   \n",
       "1                  0    59.90   542.40  ...                  0   \n",
       "2                  1    73.90   280.85  ...                  1   \n",
       "3                  1    98.00  1237.85  ...                  0   \n",
       "4                  1    83.90   267.40  ...                  1   \n",
       "5                  1    69.40   571.45  ...                  0   \n",
       "6                  1   109.70  7904.25  ...                  0   \n",
       "7                  1    84.65  5377.80  ...                  1   \n",
       "8                  1    48.20   340.35  ...                  1   \n",
       "9                  1    90.45  5957.90  ...                  0   \n",
       "10                 0    45.20  2460.55  ...                  1   \n",
       "11                 1   116.80  8456.75  ...                  0   \n",
       "12                 1    68.95   351.50  ...                  1   \n",
       "13                 1   101.30  7261.25  ...                  1   \n",
       "14                 0    45.05  2560.10  ...                  1   \n",
       "15                 1    95.75  6849.40  ...                  0   \n",
       "16                 0    61.25  1993.20  ...                  0   \n",
       "17                 1    72.10    72.10  ...                  1   \n",
       "18                 0    62.70  2791.50  ...                  0   \n",
       "19                 1    25.10    25.10  ...                  1   \n",
       "\n",
       "    StreamingMovies_1  StreamingMovies_No internet service  \\\n",
       "0                   0                                    0   \n",
       "1                   1                                    0   \n",
       "2                   0                                    0   \n",
       "3                   1                                    0   \n",
       "4                   0                                    0   \n",
       "5                   1                                    0   \n",
       "6                   1                                    0   \n",
       "7                   0                                    0   \n",
       "8                   0                                    0   \n",
       "9                   1                                    0   \n",
       "10                  0                                    0   \n",
       "11                  1                                    0   \n",
       "12                  0                                    0   \n",
       "13                  0                                    0   \n",
       "14                  0                                    0   \n",
       "15                  1                                    0   \n",
       "16                  1                                    0   \n",
       "17                  0                                    0   \n",
       "18                  1                                    0   \n",
       "19                  0                                    0   \n",
       "\n",
       "    Contract_Month-to-month  Contract_One year  Contract_Two year  \\\n",
       "0                         0                  1                  0   \n",
       "1                         1                  0                  0   \n",
       "2                         1                  0                  0   \n",
       "3                         1                  0                  0   \n",
       "4                         1                  0                  0   \n",
       "5                         1                  0                  0   \n",
       "6                         0                  0                  1   \n",
       "7                         0                  0                  1   \n",
       "8                         1                  0                  0   \n",
       "9                         0                  0                  1   \n",
       "10                        0                  0                  1   \n",
       "11                        0                  0                  1   \n",
       "12                        1                  0                  0   \n",
       "13                        0                  0                  1   \n",
       "14                        0                  0                  1   \n",
       "15                        0                  0                  1   \n",
       "16                        0                  1                  0   \n",
       "17                        1                  0                  0   \n",
       "18                        0                  1                  0   \n",
       "19                        1                  0                  0   \n",
       "\n",
       "    PaymentMethod_Bank transfer (automatic)  \\\n",
       "0                                         0   \n",
       "1                                         0   \n",
       "2                                         0   \n",
       "3                                         0   \n",
       "4                                         0   \n",
       "5                                         0   \n",
       "6                                         1   \n",
       "7                                         0   \n",
       "8                                         0   \n",
       "9                                         0   \n",
       "10                                        0   \n",
       "11                                        0   \n",
       "12                                        0   \n",
       "13                                        1   \n",
       "14                                        1   \n",
       "15                                        0   \n",
       "16                                        0   \n",
       "17                                        0   \n",
       "18                                        0   \n",
       "19                                        0   \n",
       "\n",
       "    PaymentMethod_Credit card (automatic)  PaymentMethod_Electronic check  \\\n",
       "0                                       0                               0   \n",
       "1                                       0                               0   \n",
       "2                                       0                               1   \n",
       "3                                       0                               1   \n",
       "4                                       0                               0   \n",
       "5                                       1                               0   \n",
       "6                                       0                               0   \n",
       "7                                       1                               0   \n",
       "8                                       0                               1   \n",
       "9                                       0                               0   \n",
       "10                                      1                               0   \n",
       "11                                      1                               0   \n",
       "12                                      0                               1   \n",
       "13                                      0                               0   \n",
       "14                                      0                               0   \n",
       "15                                      1                               0   \n",
       "16                                      0                               0   \n",
       "17                                      0                               1   \n",
       "18                                      1                               0   \n",
       "19                                      0                               1   \n",
       "\n",
       "    PaymentMethod_Mailed check  \n",
       "0                            1  \n",
       "1                            1  \n",
       "2                            0  \n",
       "3                            0  \n",
       "4                            1  \n",
       "5                            0  \n",
       "6                            0  \n",
       "7                            0  \n",
       "8                            0  \n",
       "9                            1  \n",
       "10                           0  \n",
       "11                           0  \n",
       "12                           0  \n",
       "13                           0  \n",
       "14                           0  \n",
       "15                           0  \n",
       "16                           1  \n",
       "17                           0  \n",
       "18                           0  \n",
       "19                           0  \n",
       "\n",
       "[20 rows x 41 columns]"
      ]
     },
     "execution_count": 20,
     "metadata": {},
     "output_type": "execute_result"
    }
   ],
   "source": [
    "df.head(20)"
   ]
  },
  {
   "cell_type": "code",
   "execution_count": 21,
   "id": "f7f7ba17",
   "metadata": {},
   "outputs": [
    {
     "data": {
      "text/plain": [
       "1    3675\n",
       "0    3592\n",
       "Name: gender, dtype: int64"
      ]
     },
     "execution_count": 21,
     "metadata": {},
     "output_type": "execute_result"
    }
   ],
   "source": [
    "# Explorando quantos clientes são mulheres/homens (frequência)\n",
    "df['gender'].value_counts()"
   ]
  },
  {
   "cell_type": "code",
   "execution_count": 22,
   "id": "5dfd2dac",
   "metadata": {},
   "outputs": [
    {
     "data": {
      "text/plain": [
       "1    50.571075\n",
       "0    49.428925\n",
       "Name: gender, dtype: float64"
      ]
     },
     "execution_count": 22,
     "metadata": {},
     "output_type": "execute_result"
    }
   ],
   "source": [
    "# Explorando quantos clientes são mulheres/homens (proporção)\n",
    "df['gender'].value_counts(normalize=True) * 100"
   ]
  },
  {
   "cell_type": "code",
   "execution_count": 23,
   "id": "1a9365c3",
   "metadata": {},
   "outputs": [],
   "source": [
    "# Há um desbalanceamento nos churns\n",
    "num_churns = df['Churn'].value_counts()"
   ]
  },
  {
   "cell_type": "code",
   "execution_count": 24,
   "id": "2a0581d3",
   "metadata": {},
   "outputs": [],
   "source": [
    "def is_categorical(data):\n",
    "    if data == 0 or data == 1:\n",
    "        return True\n",
    "    else:\n",
    "        return False"
   ]
  },
  {
   "cell_type": "code",
   "execution_count": 25,
   "id": "27065a0c",
   "metadata": {},
   "outputs": [
    {
     "data": {
      "text/html": [
       "<div>\n",
       "<style scoped>\n",
       "    .dataframe tbody tr th:only-of-type {\n",
       "        vertical-align: middle;\n",
       "    }\n",
       "\n",
       "    .dataframe tbody tr th {\n",
       "        vertical-align: top;\n",
       "    }\n",
       "\n",
       "    .dataframe thead th {\n",
       "        text-align: right;\n",
       "    }\n",
       "</style>\n",
       "<table border=\"1\" class=\"dataframe\">\n",
       "  <thead>\n",
       "    <tr style=\"text-align: right;\">\n",
       "      <th></th>\n",
       "      <th>0</th>\n",
       "      <th>gender</th>\n",
       "      <th>SeniorCitizen</th>\n",
       "      <th>Partner</th>\n",
       "      <th>Dependents</th>\n",
       "      <th>PhoneService</th>\n",
       "      <th>PaperlessBilling</th>\n",
       "      <th>MultipleLines_0</th>\n",
       "      <th>MultipleLines_1</th>\n",
       "      <th>MultipleLines_No phone service</th>\n",
       "      <th>...</th>\n",
       "      <th>StreamingMovies_0</th>\n",
       "      <th>StreamingMovies_1</th>\n",
       "      <th>StreamingMovies_No internet service</th>\n",
       "      <th>Contract_Month-to-month</th>\n",
       "      <th>Contract_One year</th>\n",
       "      <th>Contract_Two year</th>\n",
       "      <th>PaymentMethod_Bank transfer (automatic)</th>\n",
       "      <th>PaymentMethod_Credit card (automatic)</th>\n",
       "      <th>PaymentMethod_Electronic check</th>\n",
       "      <th>PaymentMethod_Mailed check</th>\n",
       "    </tr>\n",
       "  </thead>\n",
       "  <tbody>\n",
       "    <tr>\n",
       "      <th>0</th>\n",
       "      <td>0</td>\n",
       "      <td>2653</td>\n",
       "      <td>4692</td>\n",
       "      <td>2549</td>\n",
       "      <td>3543</td>\n",
       "      <td>537</td>\n",
       "      <td>2487</td>\n",
       "      <td>2752</td>\n",
       "      <td>3183</td>\n",
       "      <td>4861</td>\n",
       "      <td>...</td>\n",
       "      <td>3466</td>\n",
       "      <td>3400</td>\n",
       "      <td>3930</td>\n",
       "      <td>3048</td>\n",
       "      <td>4045</td>\n",
       "      <td>3703</td>\n",
       "      <td>4067</td>\n",
       "      <td>4062</td>\n",
       "      <td>4024</td>\n",
       "      <td>4041</td>\n",
       "    </tr>\n",
       "    <tr>\n",
       "      <th>1</th>\n",
       "      <td>1</td>\n",
       "      <td>2745</td>\n",
       "      <td>706</td>\n",
       "      <td>2849</td>\n",
       "      <td>1855</td>\n",
       "      <td>4861</td>\n",
       "      <td>2911</td>\n",
       "      <td>2646</td>\n",
       "      <td>2215</td>\n",
       "      <td>537</td>\n",
       "      <td>...</td>\n",
       "      <td>1932</td>\n",
       "      <td>1998</td>\n",
       "      <td>1468</td>\n",
       "      <td>2350</td>\n",
       "      <td>1353</td>\n",
       "      <td>1695</td>\n",
       "      <td>1331</td>\n",
       "      <td>1336</td>\n",
       "      <td>1374</td>\n",
       "      <td>1357</td>\n",
       "    </tr>\n",
       "  </tbody>\n",
       "</table>\n",
       "<p>2 rows × 38 columns</p>\n",
       "</div>"
      ],
      "text/plain": [
       "   0  gender  SeniorCitizen  Partner  Dependents  PhoneService  \\\n",
       "0  0    2653           4692     2549        3543           537   \n",
       "1  1    2745            706     2849        1855          4861   \n",
       "\n",
       "   PaperlessBilling  MultipleLines_0  MultipleLines_1  \\\n",
       "0              2487             2752             3183   \n",
       "1              2911             2646             2215   \n",
       "\n",
       "   MultipleLines_No phone service  ...  StreamingMovies_0  StreamingMovies_1  \\\n",
       "0                            4861  ...               3466               3400   \n",
       "1                             537  ...               1932               1998   \n",
       "\n",
       "   StreamingMovies_No internet service  Contract_Month-to-month  \\\n",
       "0                                 3930                     3048   \n",
       "1                                 1468                     2350   \n",
       "\n",
       "   Contract_One year  Contract_Two year  \\\n",
       "0               4045               3703   \n",
       "1               1353               1695   \n",
       "\n",
       "   PaymentMethod_Bank transfer (automatic)  \\\n",
       "0                                     4067   \n",
       "1                                     1331   \n",
       "\n",
       "   PaymentMethod_Credit card (automatic)  PaymentMethod_Electronic check  \\\n",
       "0                                   4062                            4024   \n",
       "1                                   1336                            1374   \n",
       "\n",
       "   PaymentMethod_Mailed check  \n",
       "0                        4041  \n",
       "1                        1357  \n",
       "\n",
       "[2 rows x 38 columns]"
      ]
     },
     "execution_count": 25,
     "metadata": {},
     "output_type": "execute_result"
    }
   ],
   "source": [
    "churn_zero = pd.DataFrame({0, 1})\n",
    "\n",
    "for var in df.columns[1:]:\n",
    "    if is_categorical(df[var][0]):\n",
    "        churn_zero[var] = df.groupby(by='Churn')[var].value_counts()[0]\n",
    "        \n",
    "churn_zero"
   ]
  },
  {
   "cell_type": "code",
   "execution_count": 26,
   "id": "f535887d",
   "metadata": {
    "scrolled": true
   },
   "outputs": [
    {
     "data": {
      "text/html": [
       "<div>\n",
       "<style scoped>\n",
       "    .dataframe tbody tr th:only-of-type {\n",
       "        vertical-align: middle;\n",
       "    }\n",
       "\n",
       "    .dataframe tbody tr th {\n",
       "        vertical-align: top;\n",
       "    }\n",
       "\n",
       "    .dataframe thead th {\n",
       "        text-align: right;\n",
       "    }\n",
       "</style>\n",
       "<table border=\"1\" class=\"dataframe\">\n",
       "  <thead>\n",
       "    <tr style=\"text-align: right;\">\n",
       "      <th></th>\n",
       "      <th>0</th>\n",
       "      <th>gender</th>\n",
       "      <th>SeniorCitizen</th>\n",
       "      <th>Partner</th>\n",
       "      <th>Dependents</th>\n",
       "      <th>PhoneService</th>\n",
       "      <th>PaperlessBilling</th>\n",
       "      <th>MultipleLines_0</th>\n",
       "      <th>MultipleLines_1</th>\n",
       "      <th>MultipleLines_No phone service</th>\n",
       "      <th>...</th>\n",
       "      <th>StreamingMovies_0</th>\n",
       "      <th>StreamingMovies_1</th>\n",
       "      <th>StreamingMovies_No internet service</th>\n",
       "      <th>Contract_Month-to-month</th>\n",
       "      <th>Contract_One year</th>\n",
       "      <th>Contract_Two year</th>\n",
       "      <th>PaymentMethod_Bank transfer (automatic)</th>\n",
       "      <th>PaymentMethod_Credit card (automatic)</th>\n",
       "      <th>PaymentMethod_Electronic check</th>\n",
       "      <th>PaymentMethod_Mailed check</th>\n",
       "    </tr>\n",
       "  </thead>\n",
       "  <tbody>\n",
       "    <tr>\n",
       "      <th>0</th>\n",
       "      <td>0</td>\n",
       "      <td>939</td>\n",
       "      <td>1393</td>\n",
       "      <td>1200</td>\n",
       "      <td>1543</td>\n",
       "      <td>170</td>\n",
       "      <td>469</td>\n",
       "      <td>1020</td>\n",
       "      <td>1019</td>\n",
       "      <td>1699</td>\n",
       "      <td>...</td>\n",
       "      <td>931</td>\n",
       "      <td>1051</td>\n",
       "      <td>1756</td>\n",
       "      <td>214</td>\n",
       "      <td>1703</td>\n",
       "      <td>1821</td>\n",
       "      <td>1611</td>\n",
       "      <td>1637</td>\n",
       "      <td>798</td>\n",
       "      <td>1561</td>\n",
       "    </tr>\n",
       "    <tr>\n",
       "      <th>1</th>\n",
       "      <td>1</td>\n",
       "      <td>930</td>\n",
       "      <td>476</td>\n",
       "      <td>669</td>\n",
       "      <td>326</td>\n",
       "      <td>1699</td>\n",
       "      <td>1400</td>\n",
       "      <td>849</td>\n",
       "      <td>850</td>\n",
       "      <td>170</td>\n",
       "      <td>...</td>\n",
       "      <td>938</td>\n",
       "      <td>818</td>\n",
       "      <td>113</td>\n",
       "      <td>1655</td>\n",
       "      <td>166</td>\n",
       "      <td>48</td>\n",
       "      <td>258</td>\n",
       "      <td>232</td>\n",
       "      <td>1071</td>\n",
       "      <td>308</td>\n",
       "    </tr>\n",
       "  </tbody>\n",
       "</table>\n",
       "<p>2 rows × 38 columns</p>\n",
       "</div>"
      ],
      "text/plain": [
       "   0  gender  SeniorCitizen  Partner  Dependents  PhoneService  \\\n",
       "0  0     939           1393     1200        1543           170   \n",
       "1  1     930            476      669         326          1699   \n",
       "\n",
       "   PaperlessBilling  MultipleLines_0  MultipleLines_1  \\\n",
       "0               469             1020             1019   \n",
       "1              1400              849              850   \n",
       "\n",
       "   MultipleLines_No phone service  ...  StreamingMovies_0  StreamingMovies_1  \\\n",
       "0                            1699  ...                931               1051   \n",
       "1                             170  ...                938                818   \n",
       "\n",
       "   StreamingMovies_No internet service  Contract_Month-to-month  \\\n",
       "0                                 1756                      214   \n",
       "1                                  113                     1655   \n",
       "\n",
       "   Contract_One year  Contract_Two year  \\\n",
       "0               1703               1821   \n",
       "1                166                 48   \n",
       "\n",
       "   PaymentMethod_Bank transfer (automatic)  \\\n",
       "0                                     1611   \n",
       "1                                      258   \n",
       "\n",
       "   PaymentMethod_Credit card (automatic)  PaymentMethod_Electronic check  \\\n",
       "0                                   1637                             798   \n",
       "1                                    232                            1071   \n",
       "\n",
       "   PaymentMethod_Mailed check  \n",
       "0                        1561  \n",
       "1                         308  \n",
       "\n",
       "[2 rows x 38 columns]"
      ]
     },
     "execution_count": 26,
     "metadata": {},
     "output_type": "execute_result"
    }
   ],
   "source": [
    "churn_ones = pd.DataFrame({0, 1})\n",
    "\n",
    "for var in df.columns[1:]:\n",
    "    if is_categorical(df[var][0]):\n",
    "        churn_ones[var] = df.groupby(by='Churn')[var].value_counts()[1]\n",
    "        \n",
    "churn_ones"
   ]
  },
  {
   "cell_type": "code",
   "execution_count": 38,
   "id": "cba94928",
   "metadata": {},
   "outputs": [],
   "source": [
    "churn_zero = churn_zero.rename(columns={0 : 'Categorical'})\n",
    "churn_ones = churn_ones.rename(columns={0 : 'Categorical'})"
   ]
  },
  {
   "cell_type": "markdown",
   "id": "1603d1af",
   "metadata": {},
   "source": [
    "### 3.2 Exploração gráfica de dados"
   ]
  },
  {
   "cell_type": "code",
   "execution_count": 69,
   "id": "7bba1388",
   "metadata": {},
   "outputs": [],
   "source": [
    "def compare_frequency_categories(df, variable, title, xlabel, ylabel):\n",
    "\n",
    "    ax = sns.barplot(x = df.index, y = df[variable])\n",
    "\n",
    "    ax.set_title(title)\n",
    "    ax.set_xlabel(xlabel)\n",
    "    ax.set_ylabel(ylabel)\n",
    "    \n",
    "    return ax"
   ]
  },
  {
   "cell_type": "code",
   "execution_count": 71,
   "id": "b4002578",
   "metadata": {},
   "outputs": [
    {
     "data": {
      "text/plain": [
       "<AxesSubplot:title={'center':'Frequência de homens e mulheres'}, xlabel='Gênero', ylabel='Frequência'>"
      ]
     },
     "execution_count": 71,
     "metadata": {},
     "output_type": "execute_result"
    },
    {
     "data": {
      "image/png": "[encoded data removed]",
      "text/plain": [
       "<Figure size 640x480 with 1 Axes>"
      ]
     },
     "metadata": {},
     "output_type": "display_data"
    }
   ],
   "source": [
    "compare_frequency_categories(churn_ones, 'gender', 'Frequência de homens e mulheres', 'Gênero', 'Frequência')"
   ]
  },
  {
   "cell_type": "code",
   "execution_count": 62,
   "id": "25dc4b03",
   "metadata": {},
   "outputs": [
    {
     "data": {
      "text/plain": [
       "Index(['Dependents', 'PhoneService', 'MultipleLines_No phone service',\n",
       "       'InternetService_0', 'OnlineSecurity_0', 'OnlineSecurity_1',\n",
       "       'OnlineSecurity_No internet service',\n",
       "       'OnlineBackup_No internet service',\n",
       "       'DeviceProtection_No internet service', 'TechSupport_0',\n",
       "       'TechSupport_1', 'TechSupport_No internet service',\n",
       "       'StreamingTV_No internet service',\n",
       "       'StreamingMovies_No internet service', 'Contract_Month-to-month',\n",
       "       'Contract_One year', 'Contract_Two year',\n",
       "       'PaymentMethod_Bank transfer (automatic)',\n",
       "       'PaymentMethod_Credit card (automatic)', 'PaymentMethod_Mailed check'],\n",
       "      dtype='object')"
      ]
     },
     "execution_count": 62,
     "metadata": {},
     "output_type": "execute_result"
    }
   ],
   "source": [
    "values = churn_ones.diff().iloc[1, :]\n",
    "\n",
    "# Verificando valores importantes\n",
    "values[values.apply(lambda x : abs(x) > 1000)].index"
   ]
  },
  {
   "cell_type": "code",
   "execution_count": 74,
   "id": "8c08ad69",
   "metadata": {},
   "outputs": [
    {
     "data": {
      "text/plain": [
       "<AxesSubplot:title={'center':'Frequência de dependentes'}, xlabel='Dependente?', ylabel='Frequência'>"
      ]
     },
     "execution_count": 74,
     "metadata": {},
     "output_type": "execute_result"
    },
    {
     "data": {
      "image/png": "[encoded data removed]",
      "text/plain": [
       "<Figure size 640x480 with 1 Axes>"
      ]
     },
     "metadata": {},
     "output_type": "display_data"
    }
   ],
   "source": [
    "compare_frequency_categories(churn_ones, 'Dependents', 'Frequência de dependentes', 'Dependente?', 'Frequência')"
   ]
  },
  {
   "cell_type": "code",
   "execution_count": 75,
   "id": "f2250cb3",
   "metadata": {},
   "outputs": [
    {
     "data": {
      "text/plain": [
       "<AxesSubplot:title={'center':'Frequência de serviço de telefone'}, xlabel='Telefone?', ylabel='Frequência'>"
      ]
     },
     "execution_count": 75,
     "metadata": {},
     "output_type": "execute_result"
    },
    {
     "data": {
      "image/png": "[encoded data removed]",
      "text/plain": [
       "<Figure size 640x480 with 1 Axes>"
      ]
     },
     "metadata": {},
     "output_type": "display_data"
    }
   ],
   "source": [
    "compare_frequency_categories(churn_ones, 'PhoneService', 'Frequência de serviço de telefone', 'Telefone?', 'Frequência')"
   ]
  },
  {
   "cell_type": "markdown",
   "id": "2e3ce911",
   "metadata": {},
   "source": [
    "## 4.0 Modelo de machine learning"
   ]
  },
  {
   "cell_type": "markdown",
   "id": "76353b88",
   "metadata": {},
   "source": [
    "### 4.1 Separando dados de treino e teste"
   ]
  },
  {
   "cell_type": "code",
   "execution_count": 88,
   "id": "ebb13b19",
   "metadata": {},
   "outputs": [],
   "source": [
    "from sklearn.model_selection import train_test_split\n",
    "\n",
    "x = df.drop(['Churn'], axis=1)\n",
    "y = df['Churn']\n",
    "\n",
    "x_train, x_test, y_train, y_test = train_test_split(x, y, stratify=y, random_state=101)"
   ]
  },
  {
   "cell_type": "markdown",
   "id": "07cb2dbc",
   "metadata": {},
   "source": [
    "### 4.2 Criando uma base"
   ]
  },
  {
   "cell_type": "code",
   "execution_count": 102,
   "id": "bbcce8dd",
   "metadata": {},
   "outputs": [
    {
     "data": {
      "text/plain": [
       "0.7429829389102917"
      ]
     },
     "execution_count": 102,
     "metadata": {},
     "output_type": "execute_result"
    }
   ],
   "source": [
    "from sklearn.dummy import DummyClassifier\n",
    "\n",
    "dummy = DummyClassifier()\n",
    "\n",
    "dummy.fit(x_train, y_train)\n",
    "\n",
    "dummy.score(x_test, y_test)"
   ]
  },
  {
   "cell_type": "markdown",
   "id": "3da4c4a2",
   "metadata": {},
   "source": [
    "### 4.3 Criando o DecisionTreeClassifier"
   ]
  },
  {
   "cell_type": "code",
   "execution_count": 114,
   "id": "2566beb2",
   "metadata": {},
   "outputs": [
    {
     "data": {
      "text/plain": [
       "0.7908640616400661"
      ]
     },
     "execution_count": 114,
     "metadata": {},
     "output_type": "execute_result"
    }
   ],
   "source": [
    "from sklearn.tree import DecisionTreeClassifier\n",
    "\n",
    "decision_tree_classifier = DecisionTreeClassifier(max_depth=5)\n",
    "\n",
    "decision_tree_classifier.fit(x_train, y_train)\n",
    "\n",
    "decision_tree_classifier.score(x_test, y_test)"
   ]
  },
  {
   "cell_type": "markdown",
   "id": "3a15c821",
   "metadata": {},
   "source": [
    "###  4.4 Criando o KNeighborsClassifier"
   ]
  },
  {
   "cell_type": "code",
   "execution_count": 110,
   "id": "c7215109",
   "metadata": {},
   "outputs": [
    {
     "data": {
      "text/plain": [
       "0.7837094111172263"
      ]
     },
     "execution_count": 110,
     "metadata": {},
     "output_type": "execute_result"
    }
   ],
   "source": [
    "from sklearn.neighbors import KNeighborsClassifier\n",
    "\n",
    "kneighbors_classifier = KNeighborsClassifier(n_neighbors=10)\n",
    "\n",
    "kneighbors_classifier.fit(x_train, y_train)\n",
    "\n",
    "kneighbors_classifier.score(x_test, y_test)"
   ]
  },
  {
   "cell_type": "markdown",
   "id": "b1d7c53a",
   "metadata": {},
   "source": [
    "### 4.5 Criando o LogisticRegression"
   ]
  },
  {
   "cell_type": "code",
   "execution_count": 134,
   "id": "140c748c",
   "metadata": {},
   "outputs": [
    {
     "data": {
      "text/plain": [
       "0.8057237204182719"
      ]
     },
     "execution_count": 134,
     "metadata": {},
     "output_type": "execute_result"
    }
   ],
   "source": [
    "from sklearn.linear_model import LogisticRegression\n",
    "\n",
    "logistic_regression = LogisticRegression()\n",
    "\n",
    "logistic_regression.fit(x_train, y_train)\n",
    "\n",
    "logistic_regression.score(x_test, y_test)"
   ]
  },
  {
   "cell_type": "markdown",
   "id": "9a0edba5",
   "metadata": {},
   "source": [
    "### 4.6 Avaliando métricas"
   ]
  },
  {
   "cell_type": "code",
   "execution_count": 128,
   "id": "5654c1b0",
   "metadata": {},
   "outputs": [],
   "source": [
    "from sklearn import metrics"
   ]
  },
  {
   "cell_type": "code",
   "execution_count": 172,
   "id": "2e4af152",
   "metadata": {},
   "outputs": [
    {
     "data": {
      "text/plain": [
       "0.6246418338108882"
      ]
     },
     "execution_count": 172,
     "metadata": {},
     "output_type": "execute_result"
    }
   ],
   "source": [
    "metrics.precision_score(y_true=y_test, y_pred=decision_tree_classifier.predict(x_test))"
   ]
  },
  {
   "cell_type": "code",
   "execution_count": 138,
   "id": "8c336c42",
   "metadata": {},
   "outputs": [
    {
     "data": {
      "text/plain": [
       "0.6390977443609023"
      ]
     },
     "execution_count": 138,
     "metadata": {},
     "output_type": "execute_result"
    }
   ],
   "source": [
    "metrics.precision_score(y_true=y_test, y_pred=kneighbors_classifier.predict(x_test))"
   ]
  },
  {
   "cell_type": "code",
   "execution_count": 139,
   "id": "9677fbce",
   "metadata": {},
   "outputs": [
    {
     "data": {
      "text/plain": [
       "0.651595744680851"
      ]
     },
     "execution_count": 139,
     "metadata": {},
     "output_type": "execute_result"
    }
   ],
   "source": [
    "metrics.precision_score(y_true=y_test, y_pred=logistic_regression.predict(x_test))"
   ]
  },
  {
   "cell_type": "code",
   "execution_count": 131,
   "id": "5f140984",
   "metadata": {},
   "outputs": [
    {
     "data": {
      "text/plain": [
       "0.0"
      ]
     },
     "execution_count": 131,
     "metadata": {},
     "output_type": "execute_result"
    }
   ],
   "source": [
    "metrics.precision_score(y_true=y_test, y_pred=dummy.predict(x_test))"
   ]
  },
  {
   "cell_type": "code",
   "execution_count": 161,
   "id": "2c879d31",
   "metadata": {
    "scrolled": true
   },
   "outputs": [
    {
     "name": "stdout",
     "output_type": "stream",
     "text": [
      "gender\n",
      "SeniorCitizen\n",
      "tenure\n",
      "PhoneService\n",
      "Monthly\n",
      "Total\n",
      "InternetService_Fiber optic\n",
      "TechSupport_0\n",
      "TechSupport_1\n",
      "StreamingTV_0\n",
      "StreamingMovies_0\n",
      "StreamingMovies_1\n",
      "Contract_Month-to-month\n",
      "Contract_One year\n",
      "PaymentMethod_Electronic check\n"
     ]
    }
   ],
   "source": [
    "features_importantes = decision_tree_classifier.feature_importances_ > 0\n",
    "\n",
    "i = 0\n",
    "for var in x.columns:\n",
    "    if features_importantes[i]:\n",
    "        print(var)\n",
    "    i += 1"
   ]
  },
  {
   "cell_type": "code",
   "execution_count": 166,
   "id": "8d21ea8b",
   "metadata": {},
   "outputs": [],
   "source": [
    "features_importantes = [   \n",
    "    \"gender\",  \n",
    "    \"SeniorCitizen\", \n",
    "    \"tenure\",   \n",
    "    \"PhoneService\",    \n",
    "    \"Monthly\",    \n",
    "    \"Total\",    \n",
    "    \"InternetService_Fiber optic\",   \n",
    "    \"TechSupport_0\",  \n",
    "    \"TechSupport_1\",  \n",
    "    \"StreamingTV_0\",  \n",
    "    \"StreamingMovies_0\",   \n",
    "    \"StreamingMovies_1\",    \n",
    "    \"Contract_Month-to-month\",  \n",
    "    \"Contract_One year\"\n",
    "]"
   ]
  },
  {
   "cell_type": "code",
   "execution_count": 169,
   "id": "9b2dc47c",
   "metadata": {},
   "outputs": [],
   "source": [
    "x = x[features_importantes]"
   ]
  },
  {
   "cell_type": "code",
   "execution_count": 175,
   "id": "2f09fe8b",
   "metadata": {},
   "outputs": [],
   "source": [
    "x_train, x_test, y_train, y_test = train_test_split(x, y, stratify=y, random_state=101)"
   ]
  },
  {
   "cell_type": "code",
   "execution_count": 177,
   "id": "7b59e30b",
   "metadata": {},
   "outputs": [],
   "source": [
    "def calculate_metrics(model):\n",
    "    model.fit(x_train, y_train)\n",
    "    \n",
    "    accuracy = model.score(x_test, y_test)\n",
    "    \n",
    "    precision = metrics.precision_score(y_true=y_test, y_pred=model.predict(x_test))\n",
    "    \n",
    "    return {'accuracy' : accuracy, 'precision' : precision}"
   ]
  },
  {
   "cell_type": "code",
   "execution_count": 199,
   "id": "699fae8c",
   "metadata": {},
   "outputs": [
    {
     "data": {
      "text/plain": [
       "{'accuracy': 0.7908640616400661, 'precision': 0.6246418338108882}"
      ]
     },
     "execution_count": 199,
     "metadata": {},
     "output_type": "execute_result"
    }
   ],
   "source": [
    "calculate_metrics(DecisionTreeClassifier(max_depth=5))"
   ]
  },
  {
   "cell_type": "code",
   "execution_count": 198,
   "id": "455bc48b",
   "metadata": {},
   "outputs": [
    {
     "data": {
      "text/plain": [
       "{'accuracy': 0.7919647771051184, 'precision': 0.6161879895561357}"
      ]
     },
     "execution_count": 198,
     "metadata": {},
     "output_type": "execute_result"
    }
   ],
   "source": [
    "calculate_metrics(LogisticRegression())"
   ]
  },
  {
   "cell_type": "code",
   "execution_count": 197,
   "id": "7e8143b0",
   "metadata": {
    "scrolled": true
   },
   "outputs": [
    {
     "data": {
      "text/plain": [
       "{'accuracy': 0.779306549257017, 'precision': 0.5916666666666667}"
      ]
     },
     "execution_count": 197,
     "metadata": {},
     "output_type": "execute_result"
    }
   ],
   "source": [
    "calculate_metrics(KNeighborsClassifier())"
   ]
  },
  {
   "cell_type": "code",
   "execution_count": 206,
   "id": "6d8496d1",
   "metadata": {},
   "outputs": [
    {
     "data": {
      "text/plain": [
       "{'accuracy': 0.7969179966978536, 'precision': 0.657051282051282}"
      ]
     },
     "execution_count": 206,
     "metadata": {},
     "output_type": "execute_result"
    }
   ],
   "source": [
    "from sklearn.ensemble import RandomForestClassifier\n",
    "\n",
    "calculate_metrics(RandomForestClassifier(max_depth=5))"
   ]
  },
  {
   "cell_type": "code",
   "execution_count": 208,
   "id": "fc690849",
   "metadata": {},
   "outputs": [
    {
     "data": {
      "text/plain": [
       "{'accuracy': 0.7429829389102917, 'precision': 0.0}"
      ]
     },
     "execution_count": 208,
     "metadata": {},
     "output_type": "execute_result"
    }
   ],
   "source": [
    "from sklearn.svm import SVC\n",
    "\n",
    "calculate_metrics(SVC())"
   ]
  },
  {
   "cell_type": "code",
   "execution_count": 210,
   "id": "2c1b2d30",
   "metadata": {},
   "outputs": [
    {
     "data": {
      "text/plain": [
       "{'accuracy': 0.7336268574573472, 'precision': 0.4872944693572496}"
      ]
     },
     "execution_count": 210,
     "metadata": {},
     "output_type": "execute_result"
    }
   ],
   "source": [
    "from sklearn.naive_bayes import BernoulliNB\n",
    "\n",
    "calculate_metrics(BernoulliNB())"
   ]
  },
  {
   "cell_type": "markdown",
   "id": "dca73fbe",
   "metadata": {},
   "source": [
    "# <font color='#00AAAA'>Finalização"
   ]
  },
  {
   "cell_type": "code",
   "execution_count": null,
   "id": "0b3ba81f",
   "metadata": {},
   "outputs": [],
   "source": []
  }
 ],
 "metadata": {
  "kernelspec": {
   "display_name": "Python 3 (ipykernel)",
   "language": "python",
   "name": "python3"
  },
  "language_info": {
   "codemirror_mode": {
    "name": "ipython",
    "version": 3
   },
   "file_extension": ".py",
   "mimetype": "text/x-python",
   "name": "python",
   "nbconvert_exporter": "python",
   "pygments_lexer": "ipython3",
   "version": "3.9.13"
  }
 },
 "nbformat": 4,
 "nbformat_minor": 5
}
