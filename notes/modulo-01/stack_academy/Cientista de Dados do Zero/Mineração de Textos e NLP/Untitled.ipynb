{
 "cells": [
  {
   "cell_type": "markdown",
   "id": "6d83a613",
   "metadata": {},
   "source": [
    "# Processamento de Linguagem Natural\n",
    "\n",
    "Processamento de linguagem natural (PLN) é uma vertente da inteligência artificial que ajuda computadores a entender, interpretar e manipular a linguagem humana. O PLN resulta de diversas disciplinas, incluindo ciência da computação e linguística computacional, que buscam preencher a lacuna entre a comunicação humana e o entendimento dos computadores."
   ]
  },
  {
   "cell_type": "markdown",
   "id": "2c110c53",
   "metadata": {},
   "source": [
    "## 1 - Manipulação de do objeto String"
   ]
  },
  {
   "cell_type": "code",
   "execution_count": 16,
   "id": "e919b51f",
   "metadata": {},
   "outputs": [
    {
     "name": "stderr",
     "output_type": "stream",
     "text": [
      "[nltk_data] Downloading package punkt to /home/jdspy/nltk_data...\n",
      "[nltk_data]   Unzipping tokenizers/punkt.zip.\n"
     ]
    },
    {
     "data": {
      "text/plain": [
       "True"
      ]
     },
     "execution_count": 16,
     "metadata": {},
     "output_type": "execute_result"
    }
   ],
   "source": [
    "import nltk\n",
    "import re\n",
    "from nltk.corpus import wordnet\n",
    "nltk.download('punkt')"
   ]
  },
  {
   "cell_type": "code",
   "execution_count": 4,
   "id": "f0a43bb3",
   "metadata": {},
   "outputs": [
    {
     "data": {
      "text/plain": [
       "'Python é uma ótima linguagem para Ciência de Dados'"
      ]
     },
     "execution_count": 4,
     "metadata": {},
     "output_type": "execute_result"
    }
   ],
   "source": [
    "p1 = 'Python é uma ótima linguagem'\n",
    "p2 = ' para Ciência de Dados'\n",
    "\n",
    "p1 + p2"
   ]
  },
  {
   "cell_type": "code",
   "execution_count": 5,
   "id": "e854c7f8",
   "metadata": {},
   "outputs": [
    {
     "data": {
      "text/plain": [
       "['Segunda', 'Terça', 'Quarta', 'Quinta', 'Sexta', 'Sábado', 'Domingo']"
      ]
     },
     "execution_count": 5,
     "metadata": {},
     "output_type": "execute_result"
    }
   ],
   "source": [
    "['Segunda', 'Terça', 'Quarta'] + ['Quinta', 'Sexta', 'Sábado', 'Domingo']"
   ]
  },
  {
   "cell_type": "code",
   "execution_count": 9,
   "id": "f5b4b6f7",
   "metadata": {
    "scrolled": true
   },
   "outputs": [
    {
     "data": {
      "text/plain": [
       "'Python é uma ót'"
      ]
     },
     "execution_count": 9,
     "metadata": {},
     "output_type": "execute_result"
    }
   ],
   "source": [
    "p1[:15]"
   ]
  },
  {
   "cell_type": "code",
   "execution_count": 10,
   "id": "6929d85e",
   "metadata": {},
   "outputs": [
    {
     "data": {
      "text/plain": [
       "' para Ciência d'"
      ]
     },
     "execution_count": 10,
     "metadata": {},
     "output_type": "execute_result"
    }
   ],
   "source": [
    "p2[:15]"
   ]
  },
  {
   "cell_type": "code",
   "execution_count": 11,
   "id": "89673e07",
   "metadata": {},
   "outputs": [
    {
     "data": {
      "text/plain": [
       "'python é uma ótima linguagem'"
      ]
     },
     "execution_count": 11,
     "metadata": {},
     "output_type": "execute_result"
    }
   ],
   "source": [
    "p1.lower()"
   ]
  },
  {
   "cell_type": "code",
   "execution_count": 12,
   "id": "bce3f651",
   "metadata": {},
   "outputs": [
    {
     "data": {
      "text/plain": [
       "' PARA CIÊNCIA DE DADOS'"
      ]
     },
     "execution_count": 12,
     "metadata": {},
     "output_type": "execute_result"
    }
   ],
   "source": [
    "p2.upper()"
   ]
  },
  {
   "cell_type": "markdown",
   "id": "0539de4d",
   "metadata": {},
   "source": [
    "## 2 - Utilizando nltk"
   ]
  },
  {
   "cell_type": "code",
   "execution_count": 18,
   "id": "4cc23ca6",
   "metadata": {
    "scrolled": true
   },
   "outputs": [
    {
     "data": {
      "text/plain": [
       "['I',\n",
       " 'love',\n",
       " 'python',\n",
       " ',',\n",
       " 'python',\n",
       " 'was',\n",
       " 'an',\n",
       " 'amazing',\n",
       " 'language',\n",
       " 'for',\n",
       " 'me',\n",
       " 'to',\n",
       " 'learn',\n",
       " ',',\n",
       " 'that',\n",
       " \"'s\",\n",
       " 'why',\n",
       " 'I',\n",
       " 'love',\n",
       " 'python']"
      ]
     },
     "execution_count": 18,
     "metadata": {},
     "output_type": "execute_result"
    }
   ],
   "source": [
    "p = \"I love python, python was an amazing language for me to learn, that's why I love python\"\n"
   ]
  },
  {
   "cell_type": "code",
   "execution_count": 20,
   "id": "c893eba4",
   "metadata": {},
   "outputs": [],
   "source": [
    "from nltk import FreqDist\n",
    "frequency = FreqDist(nltk.word_tokenize(p))"
   ]
  },
  {
   "cell_type": "code",
   "execution_count": 23,
   "id": "5cb98015",
   "metadata": {},
   "outputs": [
    {
     "data": {
      "text/plain": [
       "{'I': 2,\n",
       " 'love': 2,\n",
       " 'python': 3,\n",
       " ',': 2,\n",
       " 'was': 1,\n",
       " 'an': 1,\n",
       " 'amazing': 1,\n",
       " 'language': 1,\n",
       " 'for': 1,\n",
       " 'me': 1,\n",
       " 'to': 1,\n",
       " 'learn': 1,\n",
       " 'that': 1,\n",
       " \"'s\": 1,\n",
       " 'why': 1}"
      ]
     },
     "execution_count": 23,
     "metadata": {},
     "output_type": "execute_result"
    }
   ],
   "source": [
    "dict(frequency)"
   ]
  },
  {
   "cell_type": "code",
   "execution_count": null,
   "id": "5018d808",
   "metadata": {},
   "outputs": [],
   "source": []
  }
 ],
 "metadata": {
  "kernelspec": {
   "display_name": "Python 3 (ipykernel)",
   "language": "python",
   "name": "python3"
  },
  "language_info": {
   "codemirror_mode": {
    "name": "ipython",
    "version": 3
   },
   "file_extension": ".py",
   "mimetype": "text/x-python",
   "name": "python",
   "nbconvert_exporter": "python",
   "pygments_lexer": "ipython3",
   "version": "3.9.13"
  }
 },
 "nbformat": 4,
 "nbformat_minor": 5
}
