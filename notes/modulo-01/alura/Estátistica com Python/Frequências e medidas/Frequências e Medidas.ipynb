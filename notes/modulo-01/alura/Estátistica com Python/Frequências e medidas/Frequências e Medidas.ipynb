{
 "cells": [
  {
   "cell_type": "markdown",
   "id": "c311d101-8c9d-4143-af36-798b5d3f7423",
   "metadata": {
    "jp-MarkdownHeadingCollapsed": true,
    "tags": []
   },
   "source": [
    "# 1.0 Importando dataset"
   ]
  },
  {
   "cell_type": "code",
   "execution_count": 1,
   "id": "b0b82c04-2166-47f4-a104-e37e5ac6b7dc",
   "metadata": {},
   "outputs": [],
   "source": [
    "import pandas as pd\n",
    "import numpy as np"
   ]
  },
  {
   "cell_type": "code",
   "execution_count": 2,
   "id": "74ed4d12-cadf-40cd-8c21-39e867e6dfb7",
   "metadata": {},
   "outputs": [
    {
     "data": {
      "text/html": [
       "<div>\n",
       "<style scoped>\n",
       "    .dataframe tbody tr th:only-of-type {\n",
       "        vertical-align: middle;\n",
       "    }\n",
       "\n",
       "    .dataframe tbody tr th {\n",
       "        vertical-align: top;\n",
       "    }\n",
       "\n",
       "    .dataframe thead th {\n",
       "        text-align: right;\n",
       "    }\n",
       "</style>\n",
       "<table border=\"1\" class=\"dataframe\">\n",
       "  <thead>\n",
       "    <tr style=\"text-align: right;\">\n",
       "      <th></th>\n",
       "      <th>UF</th>\n",
       "      <th>Sexo</th>\n",
       "      <th>Idade</th>\n",
       "      <th>Cor</th>\n",
       "      <th>Anos de Estudo</th>\n",
       "      <th>Renda</th>\n",
       "      <th>Altura</th>\n",
       "    </tr>\n",
       "  </thead>\n",
       "  <tbody>\n",
       "    <tr>\n",
       "      <th>0</th>\n",
       "      <td>11</td>\n",
       "      <td>0</td>\n",
       "      <td>23</td>\n",
       "      <td>8</td>\n",
       "      <td>12</td>\n",
       "      <td>800</td>\n",
       "      <td>1.603808</td>\n",
       "    </tr>\n",
       "    <tr>\n",
       "      <th>1</th>\n",
       "      <td>11</td>\n",
       "      <td>1</td>\n",
       "      <td>23</td>\n",
       "      <td>2</td>\n",
       "      <td>12</td>\n",
       "      <td>1150</td>\n",
       "      <td>1.739790</td>\n",
       "    </tr>\n",
       "    <tr>\n",
       "      <th>2</th>\n",
       "      <td>11</td>\n",
       "      <td>1</td>\n",
       "      <td>35</td>\n",
       "      <td>8</td>\n",
       "      <td>15</td>\n",
       "      <td>880</td>\n",
       "      <td>1.760444</td>\n",
       "    </tr>\n",
       "    <tr>\n",
       "      <th>3</th>\n",
       "      <td>11</td>\n",
       "      <td>0</td>\n",
       "      <td>46</td>\n",
       "      <td>2</td>\n",
       "      <td>6</td>\n",
       "      <td>3500</td>\n",
       "      <td>1.783158</td>\n",
       "    </tr>\n",
       "    <tr>\n",
       "      <th>4</th>\n",
       "      <td>11</td>\n",
       "      <td>1</td>\n",
       "      <td>47</td>\n",
       "      <td>8</td>\n",
       "      <td>9</td>\n",
       "      <td>150</td>\n",
       "      <td>1.690631</td>\n",
       "    </tr>\n",
       "  </tbody>\n",
       "</table>\n",
       "</div>"
      ],
      "text/plain": [
       "   UF  Sexo  Idade  Cor  Anos de Estudo  Renda    Altura\n",
       "0  11     0     23    8              12    800  1.603808\n",
       "1  11     1     23    2              12   1150  1.739790\n",
       "2  11     1     35    8              15    880  1.760444\n",
       "3  11     0     46    2               6   3500  1.783158\n",
       "4  11     1     47    8               9    150  1.690631"
      ]
     },
     "execution_count": 2,
     "metadata": {},
     "output_type": "execute_result"
    }
   ],
   "source": [
    "dataframe = pd.read_csv('data/dados.csv')\n",
    "dataframe.head()"
   ]
  },
  {
   "cell_type": "code",
   "execution_count": 3,
   "id": "52021ba3-8c61-4158-992b-eec5189af2ec",
   "metadata": {},
   "outputs": [
    {
     "name": "stdout",
     "output_type": "stream",
     "text": [
      "Matriz do dataframe: (76840, 7)\n",
      "Total de dados nulos: 0\n",
      "UF                  int64\n",
      "Sexo                int64\n",
      "Idade               int64\n",
      "Cor                 int64\n",
      "Anos de Estudo      int64\n",
      "Renda               int64\n",
      "Altura            float64\n",
      "dtype: object\n"
     ]
    }
   ],
   "source": [
    "print('Matriz do dataframe:', dataframe.shape)\n",
    "print('Total de dados nulos:', dataframe.isna().sum().sum())\n",
    "print(dataframe.dtypes)"
   ]
  },
  {
   "cell_type": "markdown",
   "id": "c52d15de-9e94-4e85-99ca-65aa0dc11b57",
   "metadata": {
    "jp-MarkdownHeadingCollapsed": true,
    "tags": []
   },
   "source": [
    "# 2.0 Tipos de variáveis"
   ]
  },
  {
   "cell_type": "markdown",
   "id": "208c5580-bb52-4b5d-a1fb-a939ea7b917e",
   "metadata": {},
   "source": [
    "## Qualitativas"
   ]
  },
  {
   "cell_type": "markdown",
   "id": "6550310a-5089-453d-a7e5-cf967b311a80",
   "metadata": {
    "tags": []
   },
   "source": [
    "### 1. Nominais"
   ]
  },
  {
   "cell_type": "code",
   "execution_count": 4,
   "id": "8a01c31f-95e3-4b42-a376-7e3464f7c4f2",
   "metadata": {},
   "outputs": [
    {
     "name": "stdout",
     "output_type": "stream",
     "text": [
      "[11 12 13 14 15 16 17 21 22 23 24 25 26 27 28 29 31 32 33 35 41 42 43 50\n",
      " 51 52 53]\n",
      "[0 1]\n",
      "[8 2 4 6 0]\n"
     ]
    }
   ],
   "source": [
    "# Dados nominais não contém uma ordementre si, são dados nominais no nosso dataframe: [UF, Sexo, Cor]\n",
    "print(dataframe.UF.unique())\n",
    "print(dataframe.Sexo.unique())\n",
    "print(dataframe.Cor.unique())"
   ]
  },
  {
   "cell_type": "markdown",
   "id": "2f052a1b-bce9-48ab-a702-a5500cdd6bcf",
   "metadata": {
    "tags": []
   },
   "source": [
    "### 2. Ordinárias"
   ]
  },
  {
   "cell_type": "code",
   "execution_count": 5,
   "id": "bef973b3-50b3-42d8-8077-ac2b4248e20d",
   "metadata": {},
   "outputs": [
    {
     "name": "stdout",
     "output_type": "stream",
     "text": [
      "[12 15  6  9 14 16 10  1  5  7  3  2  4  8 11 17 13]\n"
     ]
    }
   ],
   "source": [
    "# Dados ordinários contém uma ordem entre sí, são dados ordinários do nosso dataframe: [Anos de estudo]\n",
    "print(dataframe['Anos de Estudo'].unique())"
   ]
  },
  {
   "cell_type": "markdown",
   "id": "3e48428e-df5f-4421-b0a3-d83603d0357e",
   "metadata": {},
   "source": [
    "## Quantitativos"
   ]
  },
  {
   "cell_type": "markdown",
   "id": "cb03a527-bab4-44f7-be9d-121060886529",
   "metadata": {
    "tags": []
   },
   "source": [
    "### 1. Discretos"
   ]
  },
  {
   "cell_type": "code",
   "execution_count": 6,
   "id": "be0832e1-be6f-4001-9bbb-213f3ce8cf63",
   "metadata": {},
   "outputs": [
    {
     "name": "stdout",
     "output_type": "stream",
     "text": [
      "[23 35 46 47 34 57 60 50 26 49 52 38 45 43 53 62 69 41 25 33 44 65 32 30\n",
      " 64 31 63 40 28 37 39 36 73 56 27 42 51 29 24 55 67 66 61 54 48 80 79 71\n",
      " 59 19 22 77 58 17 72 70 18 21 20 68 74 76 75 84 85 78 15 82 95 13 83 81\n",
      " 87 88 16 91 92 97 89 90 86 94 14 99]\n"
     ]
    }
   ],
   "source": [
    "# Dados enumeráveis ou contáveis, são esses [Idade]\n",
    "print(dataframe.Idade.unique())"
   ]
  },
  {
   "cell_type": "markdown",
   "id": "7b41b26c-8664-4347-ad33-ee04c5edb019",
   "metadata": {},
   "source": [
    "### 2. Contínuas"
   ]
  },
  {
   "cell_type": "code",
   "execution_count": 7,
   "id": "2e2b7b56-e85b-4727-87d5-5ab150ec0735",
   "metadata": {},
   "outputs": [
    {
     "name": "stdout",
     "output_type": "stream",
     "text": [
      "[  800  1150   880 ... 36000  1329  5260]\n",
      "[1.60380762 1.73978983 1.76044382 ... 1.83058738 1.72634426 1.65830485]\n"
     ]
    }
   ],
   "source": [
    "# Dados infinitos, são esses: [Renda, Altura]\n",
    "print(dataframe.Renda.unique())\n",
    "print(dataframe.Altura.unique())"
   ]
  },
  {
   "cell_type": "markdown",
   "id": "af49c77f-8d83-4436-adc0-96da46f209df",
   "metadata": {
    "jp-MarkdownHeadingCollapsed": true,
    "tags": []
   },
   "source": [
    "# 3.0 Distribuição de frequência"
   ]
  },
  {
   "cell_type": "code",
   "execution_count": 8,
   "id": "7604e1bb-d609-4c24-951e-b7a9e0bbad2e",
   "metadata": {},
   "outputs": [],
   "source": [
    "frequencia = dataframe['Sexo'].value_counts()"
   ]
  },
  {
   "cell_type": "code",
   "execution_count": 9,
   "id": "bf987bae-c927-4d58-a7e3-405861a9ddff",
   "metadata": {},
   "outputs": [],
   "source": [
    "percentual = dataframe['Sexo'].value_counts(normalize = True) * 100"
   ]
  },
  {
   "cell_type": "code",
   "execution_count": 10,
   "id": "fe92790b-647e-45e8-9cf2-c1e554d68cc0",
   "metadata": {},
   "outputs": [
    {
     "data": {
      "text/html": [
       "<div>\n",
       "<style scoped>\n",
       "    .dataframe tbody tr th:only-of-type {\n",
       "        vertical-align: middle;\n",
       "    }\n",
       "\n",
       "    .dataframe tbody tr th {\n",
       "        vertical-align: top;\n",
       "    }\n",
       "\n",
       "    .dataframe thead th {\n",
       "        text-align: right;\n",
       "    }\n",
       "</style>\n",
       "<table border=\"1\" class=\"dataframe\">\n",
       "  <thead>\n",
       "    <tr style=\"text-align: right;\">\n",
       "      <th></th>\n",
       "      <th>Frequência</th>\n",
       "      <th>Percentual</th>\n",
       "    </tr>\n",
       "  </thead>\n",
       "  <tbody>\n",
       "    <tr>\n",
       "      <th>0</th>\n",
       "      <td>53250</td>\n",
       "      <td>69.299844</td>\n",
       "    </tr>\n",
       "    <tr>\n",
       "      <th>1</th>\n",
       "      <td>23590</td>\n",
       "      <td>30.700156</td>\n",
       "    </tr>\n",
       "  </tbody>\n",
       "</table>\n",
       "</div>"
      ],
      "text/plain": [
       "   Frequência  Percentual\n",
       "0       53250   69.299844\n",
       "1       23590   30.700156"
      ]
     },
     "execution_count": 10,
     "metadata": {},
     "output_type": "execute_result"
    }
   ],
   "source": [
    "tmp = {\"Frequência\" : frequencia, \"Percentual\" : percentual}\n",
    "\n",
    "dist_freq_qualitativas = pd.DataFrame(tmp)\n",
    "dist_freq_qualitativas"
   ]
  },
  {
   "cell_type": "code",
   "execution_count": 11,
   "id": "cd003162-3a82-4827-b01c-e3175916716a",
   "metadata": {},
   "outputs": [
    {
     "data": {
      "text/html": [
       "<div>\n",
       "<style scoped>\n",
       "    .dataframe tbody tr th:only-of-type {\n",
       "        vertical-align: middle;\n",
       "    }\n",
       "\n",
       "    .dataframe tbody tr th {\n",
       "        vertical-align: top;\n",
       "    }\n",
       "\n",
       "    .dataframe thead th {\n",
       "        text-align: right;\n",
       "    }\n",
       "</style>\n",
       "<table border=\"1\" class=\"dataframe\">\n",
       "  <thead>\n",
       "    <tr style=\"text-align: right;\">\n",
       "      <th>Sexo</th>\n",
       "      <th>Frequência</th>\n",
       "      <th>Percentual</th>\n",
       "    </tr>\n",
       "  </thead>\n",
       "  <tbody>\n",
       "    <tr>\n",
       "      <th>Masculino</th>\n",
       "      <td>53250</td>\n",
       "      <td>69.299844</td>\n",
       "    </tr>\n",
       "    <tr>\n",
       "      <th>Feminino</th>\n",
       "      <td>23590</td>\n",
       "      <td>30.700156</td>\n",
       "    </tr>\n",
       "  </tbody>\n",
       "</table>\n",
       "</div>"
      ],
      "text/plain": [
       "Sexo       Frequência  Percentual\n",
       "Masculino       53250   69.299844\n",
       "Feminino        23590   30.700156"
      ]
     },
     "execution_count": 11,
     "metadata": {},
     "output_type": "execute_result"
    }
   ],
   "source": [
    "tmp = {0 : \"Masculino\", 1 : \"Feminino\"}\n",
    "dist_freq_qualitativas.rename(index = tmp, inplace=True)\n",
    "dist_freq_qualitativas.rename_axis('Sexo', axis = 1, inplace = True)\n",
    "dist_freq_qualitativas"
   ]
  },
  {
   "cell_type": "code",
   "execution_count": 12,
   "id": "0cf3e21e-0e14-47ba-bdad-01c697f972c8",
   "metadata": {},
   "outputs": [],
   "source": [
    "sexo = {0: 'Masculino',\n",
    "        1: 'Feminino'}\n",
    "\n",
    "cor = {0: 'Indígena',\n",
    "        2: 'Branca',\n",
    "        4: 'Preta',\n",
    "        6: 'Amarela',\n",
    "        8: 'Parda',\n",
    "        9: 'Sem declaração'}"
   ]
  },
  {
   "cell_type": "code",
   "execution_count": 13,
   "id": "a515b4a9-5a18-41e6-9562-74abcbc64b61",
   "metadata": {},
   "outputs": [
    {
     "data": {
      "text/html": [
       "<div>\n",
       "<style scoped>\n",
       "    .dataframe tbody tr th:only-of-type {\n",
       "        vertical-align: middle;\n",
       "    }\n",
       "\n",
       "    .dataframe tbody tr th {\n",
       "        vertical-align: top;\n",
       "    }\n",
       "\n",
       "    .dataframe thead th {\n",
       "        text-align: right;\n",
       "    }\n",
       "</style>\n",
       "<table border=\"1\" class=\"dataframe\">\n",
       "  <thead>\n",
       "    <tr style=\"text-align: right;\">\n",
       "      <th>Cor</th>\n",
       "      <th>Indígena</th>\n",
       "      <th>Branca</th>\n",
       "      <th>Preta</th>\n",
       "      <th>Amarela</th>\n",
       "      <th>Parda</th>\n",
       "    </tr>\n",
       "    <tr>\n",
       "      <th>Sexo</th>\n",
       "      <th></th>\n",
       "      <th></th>\n",
       "      <th></th>\n",
       "      <th></th>\n",
       "      <th></th>\n",
       "    </tr>\n",
       "  </thead>\n",
       "  <tbody>\n",
       "    <tr>\n",
       "      <th>Masculino</th>\n",
       "      <td>256</td>\n",
       "      <td>22194</td>\n",
       "      <td>5502</td>\n",
       "      <td>235</td>\n",
       "      <td>25063</td>\n",
       "    </tr>\n",
       "    <tr>\n",
       "      <th>Feminino</th>\n",
       "      <td>101</td>\n",
       "      <td>9621</td>\n",
       "      <td>2889</td>\n",
       "      <td>117</td>\n",
       "      <td>10862</td>\n",
       "    </tr>\n",
       "  </tbody>\n",
       "</table>\n",
       "</div>"
      ],
      "text/plain": [
       "Cor        Indígena  Branca  Preta  Amarela  Parda\n",
       "Sexo                                              \n",
       "Masculino       256   22194   5502      235  25063\n",
       "Feminino        101    9621   2889      117  10862"
      ]
     },
     "execution_count": 13,
     "metadata": {},
     "output_type": "execute_result"
    }
   ],
   "source": [
    "frequencia = pd.crosstab(dataframe.Sexo, dataframe.Cor)\n",
    "frequencia.rename(index=sexo, columns=cor, inplace=True)\n",
    "frequencia"
   ]
  },
  {
   "cell_type": "markdown",
   "id": "d313555a-38ee-46ad-920d-8391f19f38ea",
   "metadata": {
    "jp-MarkdownHeadingCollapsed": true,
    "tags": []
   },
   "source": [
    "# 4.0 Distribuição de frequência"
   ]
  },
  {
   "cell_type": "code",
   "execution_count": 14,
   "id": "01fc47a0-a0dd-409e-aa12-4cd811bfe145",
   "metadata": {},
   "outputs": [],
   "source": [
    "classes = [0, 1576, 3152, 7880, 15760, 200000]\n",
    "labels = ['E', 'D', 'C', 'B', 'A']"
   ]
  },
  {
   "cell_type": "code",
   "execution_count": 25,
   "id": "012c22a4-3fef-45ba-b993-bb405d342b2e",
   "metadata": {},
   "outputs": [],
   "source": [
    "frequencia = pd.value_counts(pd.cut(x = dataframe.Renda, bins = classes, labels = labels, include_lowest=True))"
   ]
  },
  {
   "cell_type": "code",
   "execution_count": 26,
   "id": "877e458b-18dd-4494-bd85-b065617c5936",
   "metadata": {},
   "outputs": [],
   "source": [
    "percentual = pd.value_counts(pd.cut(x = dataframe.Renda, bins = classes, labels = labels, include_lowest=True), normalize=True)"
   ]
  },
  {
   "cell_type": "code",
   "execution_count": 27,
   "id": "bffca775-e391-4699-8f29-ad19a202d805",
   "metadata": {},
   "outputs": [
    {
     "data": {
      "text/html": [
       "<div>\n",
       "<style scoped>\n",
       "    .dataframe tbody tr th:only-of-type {\n",
       "        vertical-align: middle;\n",
       "    }\n",
       "\n",
       "    .dataframe tbody tr th {\n",
       "        vertical-align: top;\n",
       "    }\n",
       "\n",
       "    .dataframe thead th {\n",
       "        text-align: right;\n",
       "    }\n",
       "</style>\n",
       "<table border=\"1\" class=\"dataframe\">\n",
       "  <thead>\n",
       "    <tr style=\"text-align: right;\">\n",
       "      <th></th>\n",
       "      <th>Frequência</th>\n",
       "      <th>Percentual</th>\n",
       "    </tr>\n",
       "  </thead>\n",
       "  <tbody>\n",
       "    <tr>\n",
       "      <th>E</th>\n",
       "      <td>49755</td>\n",
       "      <td>0.647514</td>\n",
       "    </tr>\n",
       "    <tr>\n",
       "      <th>D</th>\n",
       "      <td>16700</td>\n",
       "      <td>0.217335</td>\n",
       "    </tr>\n",
       "    <tr>\n",
       "      <th>C</th>\n",
       "      <td>7599</td>\n",
       "      <td>0.098894</td>\n",
       "    </tr>\n",
       "    <tr>\n",
       "      <th>B</th>\n",
       "      <td>2178</td>\n",
       "      <td>0.028345</td>\n",
       "    </tr>\n",
       "    <tr>\n",
       "      <th>A</th>\n",
       "      <td>608</td>\n",
       "      <td>0.007913</td>\n",
       "    </tr>\n",
       "  </tbody>\n",
       "</table>\n",
       "</div>"
      ],
      "text/plain": [
       "   Frequência  Percentual\n",
       "E       49755    0.647514\n",
       "D       16700    0.217335\n",
       "C        7599    0.098894\n",
       "B        2178    0.028345\n",
       "A         608    0.007913"
      ]
     },
     "execution_count": 27,
     "metadata": {},
     "output_type": "execute_result"
    }
   ],
   "source": [
    "tmp = {'Frequência' : frequencia, 'Percentual' : percentual}\n",
    "dist_frequencia_quantitativas = pd.DataFrame(tmp)\n",
    "dist_frequencia_quantitativas"
   ]
  },
  {
   "cell_type": "markdown",
   "id": "21756ef3-2652-4489-a1d9-7455864137cb",
   "metadata": {
    "jp-MarkdownHeadingCollapsed": true,
    "tags": []
   },
   "source": [
    "# 5.0 Histogramas"
   ]
  },
  {
   "cell_type": "code",
   "execution_count": 28,
   "id": "cf67620c-8de9-441b-93fc-99d0974d77ed",
   "metadata": {},
   "outputs": [],
   "source": [
    "import seaborn as sns"
   ]
  },
  {
   "cell_type": "code",
   "execution_count": 32,
   "id": "30b24a3c-28a1-4c2f-afc2-e643e5660dc6",
   "metadata": {},
   "outputs": [
    {
     "data": {
      "image/png": "[encoded data removed]",
      "text/plain": [
       "<Figure size 1200x600 with 1 Axes>"
      ]
     },
     "metadata": {},
     "output_type": "display_data"
    }
   ],
   "source": [
    "ax = sns.displot(dataframe.Altura)\n",
    "ax.figure.set_size_inches(12, 6)"
   ]
  },
  {
   "cell_type": "code",
   "execution_count": 36,
   "id": "7df27dd0-4090-4658-ac4c-7db61c7e52ce",
   "metadata": {},
   "outputs": [
    {
     "data": {
      "text/plain": [
       "<AxesSubplot:>"
      ]
     },
     "execution_count": 36,
     "metadata": {},
     "output_type": "execute_result"
    },
    {
     "data": {
      "image/png": "[encoded data removed]",
      "text/plain": [
       "<Figure size 1200x600 with 1 Axes>"
      ]
     },
     "metadata": {},
     "output_type": "display_data"
    }
   ],
   "source": [
    "dataframe.Altura.hist(bins = 50, figsize = (12, 6))"
   ]
  },
  {
   "cell_type": "markdown",
   "id": "6ebdccd6-f0f2-4d91-912e-1138438e77fe",
   "metadata": {
    "jp-MarkdownHeadingCollapsed": true,
    "tags": []
   },
   "source": [
    "# 6.0 Medidas de tendência central"
   ]
  },
  {
   "cell_type": "code",
   "execution_count": 37,
   "id": "7f502423-ae7a-4149-93c1-567aadfbd857",
   "metadata": {},
   "outputs": [
    {
     "data": {
      "text/html": [
       "<div>\n",
       "<style scoped>\n",
       "    .dataframe tbody tr th:only-of-type {\n",
       "        vertical-align: middle;\n",
       "    }\n",
       "\n",
       "    .dataframe tbody tr th {\n",
       "        vertical-align: top;\n",
       "    }\n",
       "\n",
       "    .dataframe thead th {\n",
       "        text-align: right;\n",
       "    }\n",
       "</style>\n",
       "<table border=\"1\" class=\"dataframe\">\n",
       "  <thead>\n",
       "    <tr style=\"text-align: right;\">\n",
       "      <th>Matérias</th>\n",
       "      <th>Fulano</th>\n",
       "      <th>Beltrano</th>\n",
       "      <th>Sicrano</th>\n",
       "    </tr>\n",
       "  </thead>\n",
       "  <tbody>\n",
       "    <tr>\n",
       "      <th>Matemática</th>\n",
       "      <td>8</td>\n",
       "      <td>10.0</td>\n",
       "      <td>7.5</td>\n",
       "    </tr>\n",
       "    <tr>\n",
       "      <th>Português</th>\n",
       "      <td>10</td>\n",
       "      <td>2.0</td>\n",
       "      <td>8.0</td>\n",
       "    </tr>\n",
       "    <tr>\n",
       "      <th>Inglês</th>\n",
       "      <td>4</td>\n",
       "      <td>0.5</td>\n",
       "      <td>7.0</td>\n",
       "    </tr>\n",
       "    <tr>\n",
       "      <th>Geografia</th>\n",
       "      <td>8</td>\n",
       "      <td>1.0</td>\n",
       "      <td>8.0</td>\n",
       "    </tr>\n",
       "    <tr>\n",
       "      <th>História</th>\n",
       "      <td>6</td>\n",
       "      <td>3.0</td>\n",
       "      <td>8.0</td>\n",
       "    </tr>\n",
       "    <tr>\n",
       "      <th>Física</th>\n",
       "      <td>10</td>\n",
       "      <td>9.5</td>\n",
       "      <td>8.5</td>\n",
       "    </tr>\n",
       "    <tr>\n",
       "      <th>Química</th>\n",
       "      <td>8</td>\n",
       "      <td>10.0</td>\n",
       "      <td>7.0</td>\n",
       "    </tr>\n",
       "  </tbody>\n",
       "</table>\n",
       "</div>"
      ],
      "text/plain": [
       "Matérias    Fulano  Beltrano  Sicrano\n",
       "Matemática       8      10.0      7.5\n",
       "Português       10       2.0      8.0\n",
       "Inglês           4       0.5      7.0\n",
       "Geografia        8       1.0      8.0\n",
       "História         6       3.0      8.0\n",
       "Física          10       9.5      8.5\n",
       "Química          8      10.0      7.0"
      ]
     },
     "execution_count": 37,
     "metadata": {},
     "output_type": "execute_result"
    }
   ],
   "source": [
    "df = pd.DataFrame(data = {'Fulano': [8, 10, 4, 8, 6, 10, 8],\n",
    "                          'Beltrano': [10, 2, 0.5, 1, 3, 9.5, 10],\n",
    "                          'Sicrano': [7.5, 8, 7, 8, 8, 8.5, 7]},\n",
    "                 index = ['Matemática',\n",
    "                          'Português',\n",
    "                          'Inglês',\n",
    "                          'Geografia',\n",
    "                          'História',\n",
    "                          'Física',\n",
    "                          'Química'])\n",
    "df.rename_axis('Matérias', axis = 'columns', inplace = True)\n",
    "df"
   ]
  },
  {
   "cell_type": "markdown",
   "id": "9825efc4-563a-477a-a006-de63fefb930e",
   "metadata": {
    "jp-MarkdownHeadingCollapsed": true,
    "tags": []
   },
   "source": [
    "## 6.1 Média aritmética"
   ]
  },
  {
   "cell_type": "code",
   "execution_count": 42,
   "id": "023238e2-a54b-4d77-9bbd-8e15eb2b1ee7",
   "metadata": {},
   "outputs": [
    {
     "data": {
      "text/plain": [
       "Cor\n",
       "0    1472.887955\n",
       "2    2679.019331\n",
       "4    1442.294840\n",
       "6    4182.920455\n",
       "8    1513.596103\n",
       "Name: Renda, dtype: float64"
      ]
     },
     "execution_count": 42,
     "metadata": {},
     "output_type": "execute_result"
    }
   ],
   "source": [
    "# Método groupby, agrupada observações por grupos específico, colocando o grupo no index\n",
    "\n",
    "dataframe.groupby(['Cor'])['Renda'].mean()"
   ]
  },
  {
   "cell_type": "markdown",
   "id": "c4c2f79b-e0d3-4d05-a26c-a1600e048011",
   "metadata": {
    "jp-MarkdownHeadingCollapsed": true,
    "tags": []
   },
   "source": [
    "## 6.2 Mediana"
   ]
  },
  {
   "cell_type": "code",
   "execution_count": 55,
   "id": "ee28cb62-4c7b-44d7-8f3d-b083e02ab5a9",
   "metadata": {},
   "outputs": [],
   "source": [
    "notas_fulano = df.Fulano"
   ]
  },
  {
   "cell_type": "code",
   "execution_count": 56,
   "id": "bc79850b-5473-4816-b8e8-1d4fb04be9a9",
   "metadata": {},
   "outputs": [
    {
     "data": {
      "text/html": [
       "<div>\n",
       "<style scoped>\n",
       "    .dataframe tbody tr th:only-of-type {\n",
       "        vertical-align: middle;\n",
       "    }\n",
       "\n",
       "    .dataframe tbody tr th {\n",
       "        vertical-align: top;\n",
       "    }\n",
       "\n",
       "    .dataframe thead th {\n",
       "        text-align: right;\n",
       "    }\n",
       "</style>\n",
       "<table border=\"1\" class=\"dataframe\">\n",
       "  <thead>\n",
       "    <tr style=\"text-align: right;\">\n",
       "      <th></th>\n",
       "      <th>index</th>\n",
       "      <th>Fulano</th>\n",
       "    </tr>\n",
       "  </thead>\n",
       "  <tbody>\n",
       "    <tr>\n",
       "      <th>0</th>\n",
       "      <td>Inglês</td>\n",
       "      <td>4</td>\n",
       "    </tr>\n",
       "    <tr>\n",
       "      <th>1</th>\n",
       "      <td>História</td>\n",
       "      <td>6</td>\n",
       "    </tr>\n",
       "    <tr>\n",
       "      <th>2</th>\n",
       "      <td>Matemática</td>\n",
       "      <td>8</td>\n",
       "    </tr>\n",
       "    <tr>\n",
       "      <th>3</th>\n",
       "      <td>Geografia</td>\n",
       "      <td>8</td>\n",
       "    </tr>\n",
       "    <tr>\n",
       "      <th>4</th>\n",
       "      <td>Química</td>\n",
       "      <td>8</td>\n",
       "    </tr>\n",
       "    <tr>\n",
       "      <th>5</th>\n",
       "      <td>Português</td>\n",
       "      <td>10</td>\n",
       "    </tr>\n",
       "    <tr>\n",
       "      <th>6</th>\n",
       "      <td>Física</td>\n",
       "      <td>10</td>\n",
       "    </tr>\n",
       "  </tbody>\n",
       "</table>\n",
       "</div>"
      ],
      "text/plain": [
       "        index  Fulano\n",
       "0      Inglês       4\n",
       "1    História       6\n",
       "2  Matemática       8\n",
       "3   Geografia       8\n",
       "4     Química       8\n",
       "5   Português      10\n",
       "6      Física      10"
      ]
     },
     "execution_count": 56,
     "metadata": {},
     "output_type": "execute_result"
    }
   ],
   "source": [
    "notas_fulano = notas_fulano.sort_values()\n",
    "notas_fulano = notas_fulano.reset_index()\n",
    "notas_fulano"
   ]
  },
  {
   "cell_type": "code",
   "execution_count": 58,
   "id": "3c416d7f-acc1-47b8-a458-d3a19fe2f0f0",
   "metadata": {},
   "outputs": [
    {
     "data": {
      "text/plain": [
       "8.0"
      ]
     },
     "execution_count": 58,
     "metadata": {},
     "output_type": "execute_result"
    }
   ],
   "source": [
    "notas_fulano['Fulano'].median()"
   ]
  },
  {
   "cell_type": "markdown",
   "id": "78b2979c-d7d2-4995-acc4-5d8d5028a410",
   "metadata": {
    "tags": []
   },
   "source": [
    "## 6.3 Moda"
   ]
  },
  {
   "cell_type": "code",
   "execution_count": 64,
   "id": "4c230d89-4669-4244-babd-9d6b46ae6f54",
   "metadata": {},
   "outputs": [
    {
     "data": {
      "text/plain": [
       "8"
      ]
     },
     "execution_count": 64,
     "metadata": {},
     "output_type": "execute_result"
    }
   ],
   "source": [
    "df['Fulano'].mode().loc[0]"
   ]
  },
  {
   "cell_type": "markdown",
   "id": "463202d6-b06b-47b4-8029-d5e3637b818f",
   "metadata": {
    "jp-MarkdownHeadingCollapsed": true,
    "tags": []
   },
   "source": [
    "# 7.0 Relação entre média, mediana e moda"
   ]
  },
  {
   "cell_type": "code",
   "execution_count": 68,
   "id": "f4a7acdb-c576-43d9-8f33-cd0dcce39031",
   "metadata": {},
   "outputs": [],
   "source": [
    "renda_media = dataframe.Renda.mean()\n",
    "renda_mediana = dataframe.Renda.median()\n",
    "renda_moda = dataframe.Renda.mode()[0]"
   ]
  },
  {
   "cell_type": "code",
   "execution_count": 69,
   "id": "487e42af-73c5-41e9-a847-4dc08a117e03",
   "metadata": {},
   "outputs": [
    {
     "name": "stdout",
     "output_type": "stream",
     "text": [
      "2000.3831988547631 1200.0 788\n"
     ]
    }
   ],
   "source": [
    "print(renda_media, renda_mediana, renda_moda)"
   ]
  },
  {
   "cell_type": "code",
   "execution_count": 88,
   "id": "6d029336-d1b4-4861-86b3-4a5394b4073e",
   "metadata": {},
   "outputs": [
    {
     "name": "stdout",
     "output_type": "stream",
     "text": [
      "Moda < Mediana < Média\n"
     ]
    },
    {
     "data": {
      "image/png": "[encoded data removed]",
      "text/plain": [
       "<Figure size 640x480 with 1 Axes>"
      ]
     },
     "metadata": {},
     "output_type": "display_data"
    }
   ],
   "source": [
    "dataframe.query('Renda < 10000').Renda.hist(bins = 50)\n",
    "print('Moda < Mediana < Média')"
   ]
  },
  {
   "cell_type": "code",
   "execution_count": 87,
   "id": "90bcf62d-3629-437c-8a91-edb597a8a200",
   "metadata": {},
   "outputs": [
    {
     "name": "stdout",
     "output_type": "stream",
     "text": [
      "Moda = Mediana = Média\n"
     ]
    },
    {
     "data": {
      "image/png": "[encoded data removed]",
      "text/plain": [
       "<Figure size 640x480 with 1 Axes>"
      ]
     },
     "metadata": {},
     "output_type": "display_data"
    }
   ],
   "source": [
    "dataframe.Altura.hist(bins = 50)\n",
    "print('Moda = Mediana = Média')"
   ]
  },
  {
   "cell_type": "markdown",
   "id": "20186bc3-0095-4af8-bd48-2587637c2f6d",
   "metadata": {
    "jp-MarkdownHeadingCollapsed": true,
    "tags": []
   },
   "source": [
    "# 8.0 Medidas separativeis"
   ]
  },
  {
   "cell_type": "code",
   "execution_count": 90,
   "id": "f29594b4-ab42-4218-bee1-6df7fb60badb",
   "metadata": {},
   "outputs": [
    {
     "name": "stdout",
     "output_type": "stream",
     "text": [
      "25th : 788.0\n",
      "50th : 1200.0\n",
      "75th : 2000.0\n"
     ]
    }
   ],
   "source": [
    "print('25th :', dataframe.Renda.quantile(q = 0.25))\n",
    "print('50th :', dataframe.Renda.quantile(q = 0.50))\n",
    "print('75th :', dataframe.Renda.quantile(q = 0.75))"
   ]
  },
  {
   "cell_type": "code",
   "execution_count": 95,
   "id": "63ee3138-f2ed-45a3-940b-79226b26ed57",
   "metadata": {},
   "outputs": [
    {
     "data": {
      "text/plain": [
       "[0.1, 0.2, 0.3, 0.4, 0.5, 0.6, 0.7, 0.8, 0.9, 1.0]"
      ]
     },
     "execution_count": 95,
     "metadata": {},
     "output_type": "execute_result"
    }
   ],
   "source": [
    "[x / 10 for x in range(1, 11, 1)]"
   ]
  },
  {
   "cell_type": "code",
   "execution_count": 94,
   "id": "3b86f7e6-1adc-4f07-bce1-cdf09138f347",
   "metadata": {},
   "outputs": [
    {
     "data": {
      "text/plain": [
       "0.1       350.0\n",
       "0.2       788.0\n",
       "0.3       800.0\n",
       "0.4      1000.0\n",
       "0.5      1200.0\n",
       "0.6      1500.0\n",
       "0.7      1900.0\n",
       "0.8      2500.0\n",
       "0.9      4000.0\n",
       "1.0    200000.0\n",
       "Name: Renda, dtype: float64"
      ]
     },
     "execution_count": 94,
     "metadata": {},
     "output_type": "execute_result"
    }
   ],
   "source": [
    "dataframe.Renda.quantile([x / 10 for x in range(1, 11, 1)])"
   ]
  },
  {
   "cell_type": "code",
   "execution_count": 97,
   "id": "7e1377fd-6481-42dd-ba78-d9a4cd4e52ee",
   "metadata": {},
   "outputs": [
    {
     "data": {
      "text/plain": [
       "0.01         0.0\n",
       "0.02         0.0\n",
       "0.03         0.0\n",
       "0.04        50.0\n",
       "0.05       100.0\n",
       "          ...   \n",
       "0.96      7000.0\n",
       "0.97      8000.0\n",
       "0.98     10000.0\n",
       "0.99     15000.0\n",
       "1.00    200000.0\n",
       "Name: Renda, Length: 100, dtype: float64"
      ]
     },
     "execution_count": 97,
     "metadata": {},
     "output_type": "execute_result"
    }
   ],
   "source": [
    "dataframe.Renda.quantile([x / 100 for x in range(1, 101, 1)])"
   ]
  },
  {
   "cell_type": "markdown",
   "id": "d1f5fffd-e19e-4c10-ae8b-858a190fe5b7",
   "metadata": {
    "jp-MarkdownHeadingCollapsed": true,
    "tags": []
   },
   "source": [
    "# 9.0 Box plot"
   ]
  },
  {
   "cell_type": "code",
   "execution_count": 116,
   "id": "dd3a26a9-85b3-4c90-a920-9133832e55fd",
   "metadata": {},
   "outputs": [
    {
     "data": {
      "image/png": "[encoded data removed]",
      "text/plain": [
       "<Figure size 1200x600 with 1 Axes>"
      ]
     },
     "metadata": {},
     "output_type": "display_data"
    }
   ],
   "source": [
    "ax = sns.boxplot(x = 'Altura', y = 'Sexo', data = dataframe, orient='h')\n",
    "ax.figure.set_size_inches(12, 6)"
   ]
  },
  {
   "cell_type": "code",
   "execution_count": 115,
   "id": "02640a04-4d44-4fec-ac4a-103c150e943d",
   "metadata": {},
   "outputs": [
    {
     "data": {
      "image/png": "[encoded data removed]",
      "text/plain": [
       "<Figure size 1200x600 with 1 Axes>"
      ]
     },
     "metadata": {},
     "output_type": "display_data"
    }
   ],
   "source": [
    "ax = sns.boxplot(x = 'Renda', y = 'Sexo', data = dataframe.query('Renda < 10000'), orient='h')\n",
    "ax.figure.set_size_inches(12, 6)"
   ]
  },
  {
   "cell_type": "code",
   "execution_count": 119,
   "id": "3287cce8-aa77-475c-b4b9-c21bee5cb00f",
   "metadata": {},
   "outputs": [
    {
     "data": {
      "image/png": "[encoded data removed]",
      "text/plain": [
       "<Figure size 1200x600 with 1 Axes>"
      ]
     },
     "metadata": {},
     "output_type": "display_data"
    }
   ],
   "source": [
    "ax = sns.boxplot(x = 'Anos de Estudo', y = 'Sexo', data = dataframe.query('Renda < 10000'), orient='h')\n",
    "ax.figure.set_size_inches(12, 6)"
   ]
  },
  {
   "cell_type": "markdown",
   "id": "bda6ef09-299e-4bb1-9430-f095816d9d9a",
   "metadata": {},
   "source": [
    "# 10.0 Medidas de dispersão"
   ]
  },
  {
   "cell_type": "markdown",
   "id": "89f56f36-e04f-43d4-90b4-674dbdbf5238",
   "metadata": {
    "jp-MarkdownHeadingCollapsed": true,
    "tags": []
   },
   "source": [
    "## 10.1 Desvio médio absoluto"
   ]
  },
  {
   "cell_type": "code",
   "execution_count": 124,
   "id": "121dad63-c83c-4442-9fb7-ac255094ca32",
   "metadata": {},
   "outputs": [
    {
     "data": {
      "text/html": [
       "<div>\n",
       "<style scoped>\n",
       "    .dataframe tbody tr th:only-of-type {\n",
       "        vertical-align: middle;\n",
       "    }\n",
       "\n",
       "    .dataframe tbody tr th {\n",
       "        vertical-align: top;\n",
       "    }\n",
       "\n",
       "    .dataframe thead th {\n",
       "        text-align: right;\n",
       "    }\n",
       "</style>\n",
       "<table border=\"1\" class=\"dataframe\">\n",
       "  <thead>\n",
       "    <tr style=\"text-align: right;\">\n",
       "      <th>Matérias</th>\n",
       "      <th>Fulano</th>\n",
       "    </tr>\n",
       "  </thead>\n",
       "  <tbody>\n",
       "    <tr>\n",
       "      <th>Matemática</th>\n",
       "      <td>8</td>\n",
       "    </tr>\n",
       "    <tr>\n",
       "      <th>Português</th>\n",
       "      <td>10</td>\n",
       "    </tr>\n",
       "    <tr>\n",
       "      <th>Inglês</th>\n",
       "      <td>4</td>\n",
       "    </tr>\n",
       "    <tr>\n",
       "      <th>Geografia</th>\n",
       "      <td>8</td>\n",
       "    </tr>\n",
       "    <tr>\n",
       "      <th>História</th>\n",
       "      <td>6</td>\n",
       "    </tr>\n",
       "    <tr>\n",
       "      <th>Física</th>\n",
       "      <td>10</td>\n",
       "    </tr>\n",
       "    <tr>\n",
       "      <th>Química</th>\n",
       "      <td>8</td>\n",
       "    </tr>\n",
       "  </tbody>\n",
       "</table>\n",
       "</div>"
      ],
      "text/plain": [
       "Matérias    Fulano\n",
       "Matemática       8\n",
       "Português       10\n",
       "Inglês           4\n",
       "Geografia        8\n",
       "História         6\n",
       "Física          10\n",
       "Química          8"
      ]
     },
     "execution_count": 124,
     "metadata": {},
     "output_type": "execute_result"
    }
   ],
   "source": [
    "notas_fulano = df[['Fulano']]\n",
    "notas_fulano"
   ]
  },
  {
   "cell_type": "code",
   "execution_count": 128,
   "id": "86b8e21e-44a9-45a8-ac84-ef3927041c7f",
   "metadata": {},
   "outputs": [
    {
     "name": "stderr",
     "output_type": "stream",
     "text": [
      "/home/joel/anaconda3/lib/python3.7/site-packages/ipykernel_launcher.py:1: SettingWithCopyWarning: \n",
      "A value is trying to be set on a copy of a slice from a DataFrame.\n",
      "Try using .loc[row_indexer,col_indexer] = value instead\n",
      "\n",
      "See the caveats in the documentation: https://pandas.pydata.org/pandas-docs/stable/user_guide/indexing.html#returning-a-view-versus-a-copy\n",
      "  \"\"\"Entry point for launching an IPython kernel.\n"
     ]
    }
   ],
   "source": [
    "notas_fulano['Desvio'] = notas_fulano.Fulano - notas_fulano.Fulano.mean()"
   ]
  },
  {
   "cell_type": "code",
   "execution_count": 130,
   "id": "84344726-6698-4590-88f9-b7590f3bc670",
   "metadata": {},
   "outputs": [],
   "source": [
    "notas_fulano['|Desvio|'] = notas_fulano.Desvio.abs()"
   ]
  },
  {
   "cell_type": "code",
   "execution_count": 131,
   "id": "fa0cf42f-2127-4cf4-9f2d-cc4f6cc3d045",
   "metadata": {},
   "outputs": [
    {
     "data": {
      "text/html": [
       "<div>\n",
       "<style scoped>\n",
       "    .dataframe tbody tr th:only-of-type {\n",
       "        vertical-align: middle;\n",
       "    }\n",
       "\n",
       "    .dataframe tbody tr th {\n",
       "        vertical-align: top;\n",
       "    }\n",
       "\n",
       "    .dataframe thead th {\n",
       "        text-align: right;\n",
       "    }\n",
       "</style>\n",
       "<table border=\"1\" class=\"dataframe\">\n",
       "  <thead>\n",
       "    <tr style=\"text-align: right;\">\n",
       "      <th>Matérias</th>\n",
       "      <th>Fulano</th>\n",
       "      <th>Desvio</th>\n",
       "      <th>|Desvio|</th>\n",
       "    </tr>\n",
       "  </thead>\n",
       "  <tbody>\n",
       "    <tr>\n",
       "      <th>Matemática</th>\n",
       "      <td>8</td>\n",
       "      <td>0.285714</td>\n",
       "      <td>0.285714</td>\n",
       "    </tr>\n",
       "    <tr>\n",
       "      <th>Português</th>\n",
       "      <td>10</td>\n",
       "      <td>2.285714</td>\n",
       "      <td>2.285714</td>\n",
       "    </tr>\n",
       "    <tr>\n",
       "      <th>Inglês</th>\n",
       "      <td>4</td>\n",
       "      <td>-3.714286</td>\n",
       "      <td>3.714286</td>\n",
       "    </tr>\n",
       "    <tr>\n",
       "      <th>Geografia</th>\n",
       "      <td>8</td>\n",
       "      <td>0.285714</td>\n",
       "      <td>0.285714</td>\n",
       "    </tr>\n",
       "    <tr>\n",
       "      <th>História</th>\n",
       "      <td>6</td>\n",
       "      <td>-1.714286</td>\n",
       "      <td>1.714286</td>\n",
       "    </tr>\n",
       "    <tr>\n",
       "      <th>Física</th>\n",
       "      <td>10</td>\n",
       "      <td>2.285714</td>\n",
       "      <td>2.285714</td>\n",
       "    </tr>\n",
       "    <tr>\n",
       "      <th>Química</th>\n",
       "      <td>8</td>\n",
       "      <td>0.285714</td>\n",
       "      <td>0.285714</td>\n",
       "    </tr>\n",
       "  </tbody>\n",
       "</table>\n",
       "</div>"
      ],
      "text/plain": [
       "Matérias    Fulano    Desvio  |Desvio|\n",
       "Matemática       8  0.285714  0.285714\n",
       "Português       10  2.285714  2.285714\n",
       "Inglês           4 -3.714286  3.714286\n",
       "Geografia        8  0.285714  0.285714\n",
       "História         6 -1.714286  1.714286\n",
       "Física          10  2.285714  2.285714\n",
       "Química          8  0.285714  0.285714"
      ]
     },
     "execution_count": 131,
     "metadata": {},
     "output_type": "execute_result"
    }
   ],
   "source": [
    "notas_fulano"
   ]
  },
  {
   "cell_type": "code",
   "execution_count": 133,
   "id": "690ed4c9-d5ff-46b5-9610-60c92e718dbf",
   "metadata": {},
   "outputs": [
    {
     "data": {
      "text/plain": [
       "1.5510204081632648"
      ]
     },
     "execution_count": 133,
     "metadata": {},
     "output_type": "execute_result"
    }
   ],
   "source": [
    "notas_fulano['|Desvio|'].mean()"
   ]
  },
  {
   "cell_type": "code",
   "execution_count": 135,
   "id": "597910cd-31b8-4e03-a496-c0f03c5f5b93",
   "metadata": {},
   "outputs": [
    {
     "data": {
      "text/plain": [
       "1.5510204081632648"
      ]
     },
     "execution_count": 135,
     "metadata": {},
     "output_type": "execute_result"
    }
   ],
   "source": [
    "desvio_padrao_absoluto = notas_fulano.Fulano.mad()\n",
    "desvio_padrao_absoluto"
   ]
  },
  {
   "cell_type": "markdown",
   "id": "265ff17f-1e08-4506-93c5-ddf8cdc87518",
   "metadata": {
    "jp-MarkdownHeadingCollapsed": true,
    "tags": []
   },
   "source": [
    "## 10.2 Variância"
   ]
  },
  {
   "cell_type": "code",
   "execution_count": 139,
   "id": "4cf04325-29b9-4356-96d1-678f7f8e6ff2",
   "metadata": {},
   "outputs": [
    {
     "data": {
      "text/html": [
       "<div>\n",
       "<style scoped>\n",
       "    .dataframe tbody tr th:only-of-type {\n",
       "        vertical-align: middle;\n",
       "    }\n",
       "\n",
       "    .dataframe tbody tr th {\n",
       "        vertical-align: top;\n",
       "    }\n",
       "\n",
       "    .dataframe thead th {\n",
       "        text-align: right;\n",
       "    }\n",
       "</style>\n",
       "<table border=\"1\" class=\"dataframe\">\n",
       "  <thead>\n",
       "    <tr style=\"text-align: right;\">\n",
       "      <th>Matérias</th>\n",
       "      <th>Fulano</th>\n",
       "      <th>Desvio</th>\n",
       "      <th>|Desvio|</th>\n",
       "    </tr>\n",
       "  </thead>\n",
       "  <tbody>\n",
       "    <tr>\n",
       "      <th>Matemática</th>\n",
       "      <td>8</td>\n",
       "      <td>0.285714</td>\n",
       "      <td>0.285714</td>\n",
       "    </tr>\n",
       "    <tr>\n",
       "      <th>Português</th>\n",
       "      <td>10</td>\n",
       "      <td>2.285714</td>\n",
       "      <td>2.285714</td>\n",
       "    </tr>\n",
       "    <tr>\n",
       "      <th>Inglês</th>\n",
       "      <td>4</td>\n",
       "      <td>-3.714286</td>\n",
       "      <td>3.714286</td>\n",
       "    </tr>\n",
       "    <tr>\n",
       "      <th>Geografia</th>\n",
       "      <td>8</td>\n",
       "      <td>0.285714</td>\n",
       "      <td>0.285714</td>\n",
       "    </tr>\n",
       "    <tr>\n",
       "      <th>História</th>\n",
       "      <td>6</td>\n",
       "      <td>-1.714286</td>\n",
       "      <td>1.714286</td>\n",
       "    </tr>\n",
       "    <tr>\n",
       "      <th>Física</th>\n",
       "      <td>10</td>\n",
       "      <td>2.285714</td>\n",
       "      <td>2.285714</td>\n",
       "    </tr>\n",
       "    <tr>\n",
       "      <th>Química</th>\n",
       "      <td>8</td>\n",
       "      <td>0.285714</td>\n",
       "      <td>0.285714</td>\n",
       "    </tr>\n",
       "  </tbody>\n",
       "</table>\n",
       "</div>"
      ],
      "text/plain": [
       "Matérias    Fulano    Desvio  |Desvio|\n",
       "Matemática       8  0.285714  0.285714\n",
       "Português       10  2.285714  2.285714\n",
       "Inglês           4 -3.714286  3.714286\n",
       "Geografia        8  0.285714  0.285714\n",
       "História         6 -1.714286  1.714286\n",
       "Física          10  2.285714  2.285714\n",
       "Química          8  0.285714  0.285714"
      ]
     },
     "execution_count": 139,
     "metadata": {},
     "output_type": "execute_result"
    }
   ],
   "source": [
    "notas_fulano"
   ]
  },
  {
   "cell_type": "code",
   "execution_count": 143,
   "id": "4b32379f-2c4e-46e1-9f44-2125bf148153",
   "metadata": {},
   "outputs": [],
   "source": [
    "notas_fulano['Desvio ^ 2'] = notas_fulano.Desvio ** 2"
   ]
  },
  {
   "cell_type": "code",
   "execution_count": 138,
   "id": "16c2b01b-6540-4fd0-ad9d-f6eb456979d3",
   "metadata": {},
   "outputs": [],
   "source": [
    "variancia = notas_fulano.Fulano.var()"
   ]
  },
  {
   "cell_type": "code",
   "execution_count": 150,
   "id": "0b435576-fe36-4052-b44f-e5e6beadff0c",
   "metadata": {},
   "outputs": [],
   "source": [
    "variancia2 = notas_fulano['Desvio ^ 2'].sum() / (len(notas_fulano) - 1)"
   ]
  },
  {
   "cell_type": "code",
   "execution_count": 151,
   "id": "42ad0249-3d1d-4ed0-88d9-bf7dd4914994",
   "metadata": {},
   "outputs": [
    {
     "data": {
      "text/plain": [
       "True"
      ]
     },
     "execution_count": 151,
     "metadata": {},
     "output_type": "execute_result"
    }
   ],
   "source": [
    "variancia == variancia2"
   ]
  },
  {
   "cell_type": "markdown",
   "id": "49aaa029-3534-4b3e-a026-0bd3677d9316",
   "metadata": {},
   "source": [
    "## 10.3 Desvio padrão"
   ]
  },
  {
   "cell_type": "code",
   "execution_count": 158,
   "id": "4a4e38bd-3b6c-47f2-a14f-125de0e6253c",
   "metadata": {},
   "outputs": [
    {
     "data": {
      "text/plain": [
       "2.1380899352993947"
      ]
     },
     "execution_count": 158,
     "metadata": {},
     "output_type": "execute_result"
    }
   ],
   "source": [
    "desvio_padrao = variancia ** (1 / 2)\n",
    "desvio_padrao"
   ]
  },
  {
   "cell_type": "code",
   "execution_count": 159,
   "id": "2c42865a-2e6d-4629-b803-67419eb26b8e",
   "metadata": {},
   "outputs": [
    {
     "data": {
      "text/plain": [
       "count     7.000000\n",
       "mean      7.714286\n",
       "std       2.138090\n",
       "min       4.000000\n",
       "25%       7.000000\n",
       "50%       8.000000\n",
       "75%       9.000000\n",
       "max      10.000000\n",
       "Name: Fulano, dtype: float64"
      ]
     },
     "execution_count": 159,
     "metadata": {},
     "output_type": "execute_result"
    }
   ],
   "source": [
    "notas_fulano['Fulano'].describe()"
   ]
  },
  {
   "cell_type": "code",
   "execution_count": null,
   "id": "3759305b-b1be-4aa1-b603-3f6dbff169e9",
   "metadata": {},
   "outputs": [],
   "source": []
  }
 ],
 "metadata": {
  "kernelspec": {
   "display_name": "Python 3 (ipykernel)",
   "language": "python",
   "name": "python3"
  },
  "language_info": {
   "codemirror_mode": {
    "name": "ipython",
    "version": 3
   },
   "file_extension": ".py",
   "mimetype": "text/x-python",
   "name": "python",
   "nbconvert_exporter": "python",
   "pygments_lexer": "ipython3",
   "version": "3.7.6"
  }
 },
 "nbformat": 4,
 "nbformat_minor": 5
}
