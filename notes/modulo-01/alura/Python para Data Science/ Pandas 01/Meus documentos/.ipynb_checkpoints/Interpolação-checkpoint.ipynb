{
 "cells": [
  {
   "cell_type": "code",
   "execution_count": 1,
   "id": "0da2eb7e-892d-4dd1-9a62-b72f8c23afb0",
   "metadata": {},
   "outputs": [],
   "source": [
    "import pandas as pd"
   ]
  },
  {
   "cell_type": "code",
   "execution_count": 8,
   "id": "1007933a-f955-435b-ad47-fe3bdff5f2d2",
   "metadata": {},
   "outputs": [],
   "source": [
    "dados = [0.6, None, 3.5, None, 1.7, None, 3.6, None, 0.2, None]\n",
    "s = pd.Series(dados)"
   ]
  },
  {
   "cell_type": "code",
   "execution_count": 9,
   "id": "ba230721-34cf-465f-8d25-7d2f1bb652cb",
   "metadata": {},
   "outputs": [
    {
     "data": {
      "text/plain": [
       "0    0.6\n",
       "1    NaN\n",
       "2    3.5\n",
       "3    NaN\n",
       "4    1.7\n",
       "5    NaN\n",
       "6    3.6\n",
       "7    NaN\n",
       "8    0.2\n",
       "9    NaN\n",
       "dtype: float64"
      ]
     },
     "execution_count": 9,
     "metadata": {},
     "output_type": "execute_result"
    }
   ],
   "source": [
    "s"
   ]
  },
  {
   "cell_type": "code",
   "execution_count": 10,
   "id": "c56bdc44-528f-4b68-b4cb-bdcffdce03f6",
   "metadata": {},
   "outputs": [
    {
     "data": {
      "text/plain": [
       "0    0.6\n",
       "1    0.0\n",
       "2    3.5\n",
       "3    0.0\n",
       "4    1.7\n",
       "5    0.0\n",
       "6    3.6\n",
       "7    0.0\n",
       "8    0.2\n",
       "9    0.0\n",
       "dtype: float64"
      ]
     },
     "execution_count": 10,
     "metadata": {},
     "output_type": "execute_result"
    }
   ],
   "source": [
    "s.fillna(0)"
   ]
  },
  {
   "cell_type": "code",
   "execution_count": 11,
   "id": "4317dffb-181b-4fc4-9d44-5622516d8088",
   "metadata": {},
   "outputs": [
    {
     "data": {
      "text/plain": [
       "0    0.6\n",
       "1    NaN\n",
       "2    3.5\n",
       "3    NaN\n",
       "4    1.7\n",
       "5    NaN\n",
       "6    3.6\n",
       "7    NaN\n",
       "8    0.2\n",
       "9    NaN\n",
       "dtype: float64"
      ]
     },
     "execution_count": 11,
     "metadata": {},
     "output_type": "execute_result"
    }
   ],
   "source": [
    "s"
   ]
  },
  {
   "cell_type": "code",
   "execution_count": 12,
   "id": "159381c7-488d-4136-8422-712b9ad5c3a6",
   "metadata": {},
   "outputs": [
    {
     "data": {
      "text/plain": [
       "0    0.6\n",
       "1    0.6\n",
       "2    3.5\n",
       "3    3.5\n",
       "4    1.7\n",
       "5    1.7\n",
       "6    3.6\n",
       "7    3.6\n",
       "8    0.2\n",
       "9    0.2\n",
       "dtype: float64"
      ]
     },
     "execution_count": 12,
     "metadata": {},
     "output_type": "execute_result"
    }
   ],
   "source": [
    "s.fillna(method = 'ffill')"
   ]
  },
  {
   "cell_type": "code",
   "execution_count": 13,
   "id": "da0f68aa-90ac-42b9-8728-9679a2000194",
   "metadata": {},
   "outputs": [
    {
     "data": {
      "text/plain": [
       "0    0.60\n",
       "1    1.92\n",
       "2    3.50\n",
       "3    1.92\n",
       "4    1.70\n",
       "5    1.92\n",
       "6    3.60\n",
       "7    1.92\n",
       "8    0.20\n",
       "9    1.92\n",
       "dtype: float64"
      ]
     },
     "execution_count": 13,
     "metadata": {},
     "output_type": "execute_result"
    }
   ],
   "source": [
    "s.fillna(s.mean())"
   ]
  },
  {
   "cell_type": "code",
   "execution_count": 15,
   "id": "499d7e40-16b9-4e93-a242-81fa663aa31c",
   "metadata": {},
   "outputs": [
    {
     "data": {
      "text/plain": [
       "0    0.6\n",
       "1    0.6\n",
       "2    3.5\n",
       "3    3.5\n",
       "4    1.7\n",
       "5    1.7\n",
       "6    3.6\n",
       "7    3.6\n",
       "8    0.2\n",
       "9    0.2\n",
       "dtype: float64"
      ]
     },
     "execution_count": 15,
     "metadata": {},
     "output_type": "execute_result"
    }
   ],
   "source": [
    "s.fillna(method = 'ffill', limit = 1)"
   ]
  },
  {
   "cell_type": "code",
   "execution_count": null,
   "id": "04e1be3b-9ff6-413c-ba85-511d70579282",
   "metadata": {},
   "outputs": [],
   "source": []
  }
 ],
 "metadata": {
  "kernelspec": {
   "display_name": "Python 3 (ipykernel)",
   "language": "python",
   "name": "python3"
  },
  "language_info": {
   "codemirror_mode": {
    "name": "ipython",
    "version": 3
   },
   "file_extension": ".py",
   "mimetype": "text/x-python",
   "name": "python",
   "nbconvert_exporter": "python",
   "pygments_lexer": "ipython3",
   "version": "3.7.6"
  }
 },
 "nbformat": 4,
 "nbformat_minor": 5
}
