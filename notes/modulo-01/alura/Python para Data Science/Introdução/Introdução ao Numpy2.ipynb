{
 "cells": [
  {
   "cell_type": "markdown",
   "id": "bababe5b-bf58-4793-801c-73a7890455d1",
   "metadata": {},
   "source": [
    "# Data Science Academy Big Data Real-Time Analytics com Python e Spark"
   ]
  },
  {
   "cell_type": "markdown",
   "id": "d4812736-4d3e-48b6-83ff-2ba5093b7369",
   "metadata": {
    "tags": []
   },
   "source": [
    "## Capítulo 2"
   ]
  },
  {
   "cell_type": "markdown",
   "id": "bd4e1d85-4c70-46d2-8a95-df8a6919ded9",
   "metadata": {},
   "source": [
    "### Propriedades e métodos de arrays"
   ]
  },
  {
   "cell_type": "code",
   "execution_count": null,
   "id": "a69a99e4-e9aa-41aa-a97e-c9a847256755",
   "metadata": {},
   "outputs": [],
   "source": [
    "import numpy as np"
   ]
  },
  {
   "cell_type": "code",
   "execution_count": null,
   "id": "407a450a-b2e7-4e8a-bbe8-8ee0a163f5b0",
   "metadata": {},
   "outputs": [],
   "source": [
    "# Criando array unidimensional\n",
    "array1 = np.array([8, 6, 4, 2])\n",
    "array1"
   ]
  },
  {
   "cell_type": "code",
   "execution_count": null,
   "id": "99f9d01a-9cb6-49c8-9ab0-75263fe5ba3b",
   "metadata": {},
   "outputs": [],
   "source": [
    "# Criando array bi-dimensional\n",
    "array2 = np.array([[1, 2, 3], [4, 5, 6]])\n",
    "array2"
   ]
  },
  {
   "cell_type": "code",
   "execution_count": null,
   "id": "1fdfca5d-2444-43bc-a781-59cb1e4b3fe0",
   "metadata": {},
   "outputs": [],
   "source": [
    "# Acessando ao atributo shape que retorna a dimensão do array numpy\n",
    "print(array1.shape)\n",
    "print(array2.shape)"
   ]
  },
  {
   "cell_type": "code",
   "execution_count": null,
   "id": "a51b7330-178d-425f-86ab-dc502298de53",
   "metadata": {},
   "outputs": [],
   "source": [
    "# Podemos definir o tipo de dado de um array numpy\n",
    "array3 = np.array([1, 3, 5, -7, -9, -11], dtype = int); array3"
   ]
  },
  {
   "cell_type": "code",
   "execution_count": null,
   "id": "2e92f8ed-1bb6-409e-92aa-074a26005d12",
   "metadata": {},
   "outputs": [],
   "source": [
    "# Verificar o tipo de dado de um array numpy\n",
    "array3.dtype"
   ]
  },
  {
   "cell_type": "code",
   "execution_count": null,
   "id": "823e1c7b-2192-4e31-9edb-48adff008b55",
   "metadata": {},
   "outputs": [],
   "source": [
    "# Podemos criar um array de strings\n",
    "array4 = np.array(\"Aprendendo análise de dados com numpy\".split(\" \"))"
   ]
  },
  {
   "cell_type": "code",
   "execution_count": null,
   "id": "c26a769d-7188-4d23-9307-1fef99f045de",
   "metadata": {},
   "outputs": [],
   "source": [
    "array4"
   ]
  },
  {
   "cell_type": "code",
   "execution_count": null,
   "id": "34bf2e01-a0b0-4222-8754-92a9ad25df40",
   "metadata": {},
   "outputs": [],
   "source": [
    "array4.dtype"
   ]
  },
  {
   "cell_type": "markdown",
   "id": "457bb104-8799-4f64-a6da-c86427f36d96",
   "metadata": {},
   "source": [
    "### Operações com arrays"
   ]
  },
  {
   "cell_type": "code",
   "execution_count": null,
   "id": "9c73b58a-ae00-417c-9ea4-502f857878a8",
   "metadata": {},
   "outputs": [],
   "source": [
    "array5 = np.arange(0, 30); array5"
   ]
  },
  {
   "cell_type": "code",
   "execution_count": null,
   "id": "596ab270-508d-4980-ae09-4e9b840f562a",
   "metadata": {},
   "outputs": [],
   "source": [
    "# Multiplicando todos os elementos de um array\n",
    "array5 * 5"
   ]
  },
  {
   "cell_type": "code",
   "execution_count": null,
   "id": "8008ae92-3623-4b76-960f-fa236fa33eb9",
   "metadata": {},
   "outputs": [],
   "source": [
    "# Elevando um array"
   ]
  },
  {
   "cell_type": "code",
   "execution_count": null,
   "id": "e378fe7b-970e-480a-8926-820bfbdb4c35",
   "metadata": {},
   "outputs": [],
   "source": [
    "array5 ** 10"
   ]
  },
  {
   "cell_type": "code",
   "execution_count": null,
   "id": "2cd096a5-c2bd-46b5-8237-a8d91787c460",
   "metadata": {},
   "outputs": [],
   "source": [
    "array5 + 3"
   ]
  },
  {
   "cell_type": "code",
   "execution_count": null,
   "id": "00164f44-8779-41f2-a7e4-2f448b702f30",
   "metadata": {},
   "outputs": [],
   "source": [
    "array6 = np.arange(0, 20, 1)\n",
    "array7 = np.arange(0, 40, 2)"
   ]
  },
  {
   "cell_type": "code",
   "execution_count": null,
   "id": "fb8a0e36-5959-43e8-a18c-124d7a1dad90",
   "metadata": {},
   "outputs": [],
   "source": [
    "array6"
   ]
  },
  {
   "cell_type": "code",
   "execution_count": null,
   "id": "d76de85d-2727-4d35-a603-1a971e596101",
   "metadata": {
    "jupyter": {
     "source_hidden": true
    },
    "tags": []
   },
   "outputs": [],
   "source": [
    "array7"
   ]
  },
  {
   "cell_type": "code",
   "execution_count": null,
   "id": "b6d6ea42-3633-469d-ade9-ccebd6767e57",
   "metadata": {},
   "outputs": [],
   "source": [
    "array6 + array7"
   ]
  },
  {
   "cell_type": "code",
   "execution_count": null,
   "id": "4574cf1a-aac6-4204-9036-ff742e909ab5",
   "metadata": {},
   "outputs": [],
   "source": [
    "array_np = np.arange(1000)\n",
    "array_py = list(range(1000))"
   ]
  },
  {
   "cell_type": "code",
   "execution_count": null,
   "id": "99d0ee0d-f231-4d0f-b580-fccb5ad472c6",
   "metadata": {},
   "outputs": [],
   "source": [
    "%timeit array_np ** 4"
   ]
  },
  {
   "cell_type": "code",
   "execution_count": null,
   "id": "c29fb387-3480-481c-b212-18d0ad6f412b",
   "metadata": {
    "tags": []
   },
   "outputs": [],
   "source": [
    "%timeit [x ** 4 for x in array_py]"
   ]
  },
  {
   "cell_type": "markdown",
   "id": "7e98231c-0454-4b10-81a6-3b9b6f40bf77",
   "metadata": {},
   "source": []
  },
  {
   "cell_type": "markdown",
   "id": "158a1da0-48ca-40f9-856d-c77b24e42c3a",
   "metadata": {},
   "source": [
    "### Indexação e Slicing com Numpy"
   ]
  },
  {
   "cell_type": "code",
   "execution_count": null,
   "id": "efbcc349-8079-4a8f-9477-96e626d1611c",
   "metadata": {},
   "outputs": [],
   "source": [
    "import numpy as np"
   ]
  },
  {
   "cell_type": "code",
   "execution_count": null,
   "id": "e004619b-d454-4800-8f05-4418bda2c634",
   "metadata": {},
   "outputs": [],
   "source": [
    "array1 = np.arange(10)"
   ]
  },
  {
   "cell_type": "code",
   "execution_count": null,
   "id": "ca46c7d7-c62e-4b7b-8612-31b05f819f7c",
   "metadata": {},
   "outputs": [],
   "source": [
    "%time array1[0]"
   ]
  },
  {
   "cell_type": "code",
   "execution_count": null,
   "id": "a74fe479-3642-4fb6-ae06-827e3be8363e",
   "metadata": {},
   "outputs": [],
   "source": [
    "tmp = [\n",
    "    [1, 2, 3],\n",
    "    [4, 5, 6],\n",
    "    [7, 8 ,9],\n",
    "]\n",
    "\n",
    "array2 = np.array(tmp)"
   ]
  },
  {
   "cell_type": "code",
   "execution_count": null,
   "id": "c10581c8-4f91-43b8-9bba-dbef15703c38",
   "metadata": {},
   "outputs": [],
   "source": [
    "array2"
   ]
  },
  {
   "cell_type": "code",
   "execution_count": null,
   "id": "7e3124e6-d974-4c20-89e7-33299ee3c5ee",
   "metadata": {},
   "outputs": [],
   "source": [
    "array2[:2, 1:]"
   ]
  },
  {
   "cell_type": "code",
   "execution_count": null,
   "id": "2af6e87a-3db1-4b34-b643-13ceb190079a",
   "metadata": {},
   "outputs": [],
   "source": [
    "array2[-1, :]"
   ]
  },
  {
   "cell_type": "code",
   "execution_count": null,
   "id": "43c433dc-2fb6-456b-b7b4-febd26c58238",
   "metadata": {},
   "outputs": [],
   "source": [
    "array2[2]"
   ]
  },
  {
   "cell_type": "code",
   "execution_count": null,
   "id": "b4bf0d12-4a0e-4b6e-a516-17f3edde4525",
   "metadata": {},
   "outputs": [],
   "source": [
    "array2[:, :2]"
   ]
  },
  {
   "cell_type": "code",
   "execution_count": null,
   "id": "0efe9b23-9583-42df-afcb-b092dd78c96b",
   "metadata": {},
   "outputs": [],
   "source": [
    "array2[1, :2]"
   ]
  },
  {
   "cell_type": "code",
   "execution_count": null,
   "id": "da9479da-ff68-43ce-9c9b-2c2c7c3d5a63",
   "metadata": {},
   "outputs": [],
   "source": [
    "lista = [\n",
    "    list(range(10)),\n",
    "    list(range(10)),\n",
    "    list(range(10)),\n",
    "    list(range(10)),\n",
    "    list(range(10))\n",
    "]"
   ]
  },
  {
   "cell_type": "code",
   "execution_count": null,
   "id": "a85cb334-7391-4a58-a92b-b3e2dd1e89a2",
   "metadata": {},
   "outputs": [],
   "source": [
    "array5 = np.array(lista)"
   ]
  },
  {
   "cell_type": "code",
   "execution_count": null,
   "id": "fc7458d3-d1e0-4a89-9b12-9839d5740875",
   "metadata": {},
   "outputs": [],
   "source": [
    "array5"
   ]
  },
  {
   "cell_type": "code",
   "execution_count": null,
   "id": "e50e3447-2d4f-456c-a2ff-1eb97afeb32f",
   "metadata": {},
   "outputs": [],
   "source": [
    "array5 * 2"
   ]
  },
  {
   "cell_type": "code",
   "execution_count": null,
   "id": "cad141fb-ea13-463d-8c49-6ab851ab8ea4",
   "metadata": {},
   "outputs": [],
   "source": [
    "array5 == 5"
   ]
  },
  {
   "cell_type": "code",
   "execution_count": null,
   "id": "59636919-b393-4d39-b880-9f260826333d",
   "metadata": {},
   "outputs": [],
   "source": [
    "array5 % 2 == 0"
   ]
  },
  {
   "cell_type": "code",
   "execution_count": null,
   "id": "d1734d93-477d-4aa3-b364-c56552380913",
   "metadata": {},
   "outputs": [],
   "source": [
    "array6 = np.array([2, 3, 5, 7, 11, 13, 17, 19, 23, 27, 29, 31, 33])"
   ]
  },
  {
   "cell_type": "code",
   "execution_count": null,
   "id": "29a0d56f-7e9c-46d5-8e5c-c48c50f6c814",
   "metadata": {},
   "outputs": [],
   "source": [
    "array6 ** 2"
   ]
  },
  {
   "cell_type": "code",
   "execution_count": null,
   "id": "2adf06a9-3bdb-4bdb-8832-0d41399aad6f",
   "metadata": {},
   "outputs": [],
   "source": [
    "import math"
   ]
  },
  {
   "cell_type": "code",
   "execution_count": null,
   "id": "f4f2e126-467f-406b-a2c1-e370b74b42cd",
   "metadata": {},
   "outputs": [],
   "source": [
    "array7 = array6 ** (1/2)"
   ]
  },
  {
   "cell_type": "code",
   "execution_count": null,
   "id": "8c7ccc3d-2b51-4b1f-bd11-91a90e516ae5",
   "metadata": {},
   "outputs": [],
   "source": [
    "array7"
   ]
  },
  {
   "cell_type": "code",
   "execution_count": null,
   "id": "93afabbb-d24e-42e1-8529-ac6b22f6cf30",
   "metadata": {},
   "outputs": [],
   "source": [
    "array8 = array7.copy()"
   ]
  },
  {
   "cell_type": "code",
   "execution_count": null,
   "id": "4c479b83-e031-4319-a49f-b7dcf8cc97b0",
   "metadata": {},
   "outputs": [],
   "source": [
    "array8 == array7"
   ]
  },
  {
   "cell_type": "code",
   "execution_count": null,
   "id": "8a27bf73-db49-4af3-9b1f-99f2089fb41f",
   "metadata": {},
   "outputs": [],
   "source": []
  }
 ],
 "metadata": {
  "kernelspec": {
   "display_name": "Python 3 (ipykernel)",
   "language": "python",
   "name": "python3"
  },
  "language_info": {
   "codemirror_mode": {
    "name": "ipython",
    "version": 3
   },
   "file_extension": ".py",
   "mimetype": "text/x-python",
   "name": "python",
   "nbconvert_exporter": "python",
   "pygments_lexer": "ipython3",
   "version": "3.7.6"
  }
 },
 "nbformat": 4,
 "nbformat_minor": 5
}
