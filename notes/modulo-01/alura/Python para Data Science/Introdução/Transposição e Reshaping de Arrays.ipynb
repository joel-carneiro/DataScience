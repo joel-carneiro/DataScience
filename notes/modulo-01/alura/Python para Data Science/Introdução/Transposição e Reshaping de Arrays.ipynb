{
 "cells": [
  {
   "cell_type": "code",
   "execution_count": 1,
   "id": "8e8bbccd-9468-43fe-9f77-04ed015a57a1",
   "metadata": {},
   "outputs": [],
   "source": [
    "import numpy as np"
   ]
  },
  {
   "cell_type": "markdown",
   "id": "4c29fa29-c215-41a5-82d9-365a3bf72dd2",
   "metadata": {},
   "source": [
    "## **Transposição e Reshaping de Arrays**"
   ]
  },
  {
   "cell_type": "code",
   "execution_count": 2,
   "id": "bd5b2345-0ff7-4ce7-91ef-60e71c1234c8",
   "metadata": {},
   "outputs": [],
   "source": [
    "lista = [\n",
    "    [1, 2, 3],\n",
    "    [4, 5, 6],\n",
    "    [7, 8, 9]\n",
    "]\n",
    "\n",
    "array1 = np.array(lista)"
   ]
  },
  {
   "cell_type": "code",
   "execution_count": 3,
   "id": "04a3679a-bc47-4ccb-a5ee-300d41f6d135",
   "metadata": {},
   "outputs": [
    {
     "data": {
      "text/plain": [
       "array([[1, 4, 7],\n",
       "       [2, 5, 8],\n",
       "       [3, 6, 9]])"
      ]
     },
     "execution_count": 3,
     "metadata": {},
     "output_type": "execute_result"
    }
   ],
   "source": [
    "array1.T"
   ]
  },
  {
   "cell_type": "code",
   "execution_count": 4,
   "id": "bd3ddaf2-5804-4317-8646-3e221a5d0517",
   "metadata": {},
   "outputs": [
    {
     "data": {
      "text/plain": [
       "array([[1, 4, 7],\n",
       "       [2, 5, 8],\n",
       "       [3, 6, 9]])"
      ]
     },
     "execution_count": 4,
     "metadata": {},
     "output_type": "execute_result"
    }
   ],
   "source": [
    "array1.transpose()"
   ]
  },
  {
   "cell_type": "markdown",
   "id": "6dc4d44c-4d05-4e49-a036-11b234def76e",
   "metadata": {
    "tags": []
   },
   "source": [
    "## **Broadcasting**"
   ]
  },
  {
   "cell_type": "code",
   "execution_count": 5,
   "id": "544acaaf-fba8-41f2-928b-258bc3a02bf9",
   "metadata": {},
   "outputs": [],
   "source": [
    "array2 = np.array([32, 69, 10])"
   ]
  },
  {
   "cell_type": "code",
   "execution_count": 6,
   "id": "4bc76a8d-43e7-41b6-a041-0db3b4657437",
   "metadata": {},
   "outputs": [
    {
     "data": {
      "text/plain": [
       "array([ 64, 138,  20])"
      ]
     },
     "execution_count": 6,
     "metadata": {},
     "output_type": "execute_result"
    }
   ],
   "source": [
    "array2.T + array2"
   ]
  },
  {
   "cell_type": "code",
   "execution_count": 7,
   "id": "8460ae62-087b-47e3-ae6c-242a3bdb8b40",
   "metadata": {},
   "outputs": [
    {
     "data": {
      "text/plain": [
       "array([32, 69, 10])"
      ]
     },
     "execution_count": 7,
     "metadata": {},
     "output_type": "execute_result"
    }
   ],
   "source": [
    "array2.T"
   ]
  },
  {
   "cell_type": "markdown",
   "id": "32518720-a175-4c5b-a9c4-5d401bfdd990",
   "metadata": {
    "tags": []
   },
   "source": [
    "## Transformando matrizes em arrays"
   ]
  },
  {
   "cell_type": "code",
   "execution_count": 8,
   "id": "7f9ad9ce-ece5-4ed7-b92d-64bdcdf7f57c",
   "metadata": {},
   "outputs": [],
   "source": [
    "array3 = np.array([np.arange(1,6), np.arange(10, 15)])"
   ]
  },
  {
   "cell_type": "code",
   "execution_count": 9,
   "id": "821bde0a-2e47-42a3-963a-b08e06730f71",
   "metadata": {},
   "outputs": [
    {
     "data": {
      "text/plain": [
       "array([[ 1,  2,  3,  4,  5],\n",
       "       [10, 11, 12, 13, 14]])"
      ]
     },
     "execution_count": 9,
     "metadata": {},
     "output_type": "execute_result"
    }
   ],
   "source": [
    "array3"
   ]
  },
  {
   "cell_type": "code",
   "execution_count": 10,
   "id": "a4bf3678-0c0f-4788-8754-05379d0f1ddf",
   "metadata": {},
   "outputs": [
    {
     "data": {
      "text/plain": [
       "array([ 1,  2,  3,  4,  5, 10, 11, 12, 13, 14])"
      ]
     },
     "execution_count": 10,
     "metadata": {},
     "output_type": "execute_result"
    }
   ],
   "source": [
    "array3.ravel()"
   ]
  },
  {
   "cell_type": "code",
   "execution_count": 11,
   "id": "4d4c90bc-ed76-4b9f-85f9-ddee5ce67c84",
   "metadata": {},
   "outputs": [
    {
     "data": {
      "text/plain": [
       "array([ 1, 10,  2, 11,  3, 12,  4, 13,  5, 14])"
      ]
     },
     "execution_count": 11,
     "metadata": {},
     "output_type": "execute_result"
    }
   ],
   "source": [
    "array3.T.ravel()"
   ]
  },
  {
   "cell_type": "code",
   "execution_count": 12,
   "id": "aaae070c-3b51-48a0-9088-a5c464a44ef1",
   "metadata": {},
   "outputs": [],
   "source": [
    "array4 = np.random.randint(100, 999, size = (10, 10))"
   ]
  },
  {
   "cell_type": "code",
   "execution_count": 13,
   "id": "6de7a7b3-d26d-41cb-967f-962551c9b824",
   "metadata": {},
   "outputs": [
    {
     "data": {
      "text/plain": [
       "True"
      ]
     },
     "execution_count": 13,
     "metadata": {},
     "output_type": "execute_result"
    }
   ],
   "source": [
    "np.any(array4 % 7 == 0)"
   ]
  },
  {
   "cell_type": "code",
   "execution_count": 14,
   "id": "6127be5d-db92-496b-a523-df5032b37c02",
   "metadata": {},
   "outputs": [
    {
     "data": {
      "text/plain": [
       "False"
      ]
     },
     "execution_count": 14,
     "metadata": {},
     "output_type": "execute_result"
    }
   ],
   "source": [
    "np.all(array4 < 11)"
   ]
  },
  {
   "cell_type": "code",
   "execution_count": 15,
   "id": "9f7da7aa-7f04-4ac5-b6bc-189368fe52a4",
   "metadata": {},
   "outputs": [
    {
     "data": {
      "text/plain": [
       "True"
      ]
     },
     "execution_count": 15,
     "metadata": {},
     "output_type": "execute_result"
    }
   ],
   "source": [
    "np.all(array4 < 1000)"
   ]
  },
  {
   "cell_type": "markdown",
   "id": "a730f2f8-a4c0-4f1f-b418-a12c60f2044c",
   "metadata": {},
   "source": [
    "## Reshaping"
   ]
  },
  {
   "cell_type": "code",
   "execution_count": 24,
   "id": "031a1af3-291e-4524-ad30-9e63762562bc",
   "metadata": {},
   "outputs": [],
   "source": [
    "array5 = np.random.randint(10, 99, size = (1, 100))"
   ]
  },
  {
   "cell_type": "code",
   "execution_count": 25,
   "id": "c0015226-dd1a-4189-b807-cc2446b31798",
   "metadata": {},
   "outputs": [
    {
     "data": {
      "text/plain": [
       "array([[62, 63, 61, 96, 11, 50, 55, 32, 26, 37, 54, 53, 45, 91, 46, 96,\n",
       "        60, 45, 72, 45, 35, 15, 31, 72, 44, 24, 25, 54, 16, 14, 64, 95,\n",
       "        89, 65, 98, 22, 81, 72, 40, 95, 69, 27, 18, 98, 84, 14, 15, 12,\n",
       "        81, 96, 13, 57, 94, 71, 52, 71, 62, 47, 30, 75, 33, 69, 22, 60,\n",
       "        81, 17, 85, 46, 78, 41, 31, 24, 31, 66, 22, 95, 91, 66, 56, 39,\n",
       "        11, 73, 54, 10, 85, 43, 81, 91, 25, 33, 91, 89, 26, 61, 93, 59,\n",
       "        68, 43, 49, 19]])"
      ]
     },
     "execution_count": 25,
     "metadata": {},
     "output_type": "execute_result"
    }
   ],
   "source": [
    "array5"
   ]
  },
  {
   "cell_type": "code",
   "execution_count": 27,
   "id": "098e3662-a799-4f4d-9ba1-585c38344adc",
   "metadata": {},
   "outputs": [
    {
     "data": {
      "text/plain": [
       "array([[62, 63, 61, 96, 11, 50, 55, 32, 26, 37],\n",
       "       [54, 53, 45, 91, 46, 96, 60, 45, 72, 45],\n",
       "       [35, 15, 31, 72, 44, 24, 25, 54, 16, 14],\n",
       "       [64, 95, 89, 65, 98, 22, 81, 72, 40, 95],\n",
       "       [69, 27, 18, 98, 84, 14, 15, 12, 81, 96],\n",
       "       [13, 57, 94, 71, 52, 71, 62, 47, 30, 75],\n",
       "       [33, 69, 22, 60, 81, 17, 85, 46, 78, 41],\n",
       "       [31, 24, 31, 66, 22, 95, 91, 66, 56, 39],\n",
       "       [11, 73, 54, 10, 85, 43, 81, 91, 25, 33],\n",
       "       [91, 89, 26, 61, 93, 59, 68, 43, 49, 19]])"
      ]
     },
     "execution_count": 27,
     "metadata": {},
     "output_type": "execute_result"
    }
   ],
   "source": [
    "array5.reshape(10, 10)"
   ]
  },
  {
   "cell_type": "markdown",
   "id": "ce52b31f-638c-4dc0-9491-7fde3b927dfc",
   "metadata": {},
   "source": [
    "## Adicionando uma dimensão"
   ]
  },
  {
   "cell_type": "code",
   "execution_count": 31,
   "id": "97836df9-e522-4d6d-a32c-7b39b764b6da",
   "metadata": {},
   "outputs": [],
   "source": [
    "array6 = np.random.randint(10, 99, size = (5, 10))"
   ]
  },
  {
   "cell_type": "code",
   "execution_count": 37,
   "id": "d6c0aa7f-7964-4b7a-a7d0-7a4ccdf737c4",
   "metadata": {},
   "outputs": [
    {
     "data": {
      "text/plain": [
       "array([[10, 12, 21, 37, 44, 57, 59, 65, 68, 89],\n",
       "       [11, 18, 22, 39, 53, 59, 62, 67, 81, 92],\n",
       "       [14, 20, 28, 42, 54, 63, 63, 79, 94, 95],\n",
       "       [26, 35, 35, 45, 57, 68, 71, 79, 94, 95],\n",
       "       [30, 37, 38, 50, 68, 81, 88, 88, 94, 96]])"
      ]
     },
     "execution_count": 37,
     "metadata": {},
     "output_type": "execute_result"
    }
   ],
   "source": [
    "array6.sort(axis = 1)\n",
    "array6"
   ]
  },
  {
   "cell_type": "code",
   "execution_count": null,
   "id": "23d9a48d-6a2e-4cc1-a36a-ddd5bbde42ae",
   "metadata": {},
   "outputs": [],
   "source": []
  }
 ],
 "metadata": {
  "kernelspec": {
   "display_name": "Python 3 (ipykernel)",
   "language": "python",
   "name": "python3"
  },
  "language_info": {
   "codemirror_mode": {
    "name": "ipython",
    "version": 3
   },
   "file_extension": ".py",
   "mimetype": "text/x-python",
   "name": "python",
   "nbconvert_exporter": "python",
   "pygments_lexer": "ipython3",
   "version": "3.7.6"
  }
 },
 "nbformat": 4,
 "nbformat_minor": 5
}
