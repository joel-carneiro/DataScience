{
 "cells": [
  {
   "cell_type": "code",
   "execution_count": 16,
   "id": "12fc375a",
   "metadata": {},
   "outputs": [],
   "source": [
    "import pandas as pd"
   ]
  },
  {
   "cell_type": "code",
   "execution_count": 17,
   "id": "39c730fb",
   "metadata": {},
   "outputs": [],
   "source": [
    "dataset = pd.read_csv('/home/jdspy/Documentos/datasets/fraud_dataset_example.csv')"
   ]
  },
  {
   "cell_type": "code",
   "execution_count": 18,
   "id": "8c7dc13c",
   "metadata": {},
   "outputs": [
    {
     "data": {
      "text/html": [
       "<div>\n",
       "<style scoped>\n",
       "    .dataframe tbody tr th:only-of-type {\n",
       "        vertical-align: middle;\n",
       "    }\n",
       "\n",
       "    .dataframe tbody tr th {\n",
       "        vertical-align: top;\n",
       "    }\n",
       "\n",
       "    .dataframe thead th {\n",
       "        text-align: right;\n",
       "    }\n",
       "</style>\n",
       "<table border=\"1\" class=\"dataframe\">\n",
       "  <thead>\n",
       "    <tr style=\"text-align: right;\">\n",
       "      <th></th>\n",
       "      <th>step</th>\n",
       "      <th>type</th>\n",
       "      <th>amount</th>\n",
       "      <th>nameOrig</th>\n",
       "      <th>oldbalanceOrg</th>\n",
       "      <th>newbalanceOrig</th>\n",
       "      <th>nameDest</th>\n",
       "      <th>oldbalanceDest</th>\n",
       "      <th>newbalanceDest</th>\n",
       "      <th>isFraud</th>\n",
       "      <th>isFlaggedFraud</th>\n",
       "    </tr>\n",
       "  </thead>\n",
       "  <tbody>\n",
       "    <tr>\n",
       "      <th>0</th>\n",
       "      <td>1</td>\n",
       "      <td>PAYMENT</td>\n",
       "      <td>9839.64</td>\n",
       "      <td>C1231006815</td>\n",
       "      <td>170136.0</td>\n",
       "      <td>160296.36</td>\n",
       "      <td>M1979787155</td>\n",
       "      <td>0.0</td>\n",
       "      <td>0.0</td>\n",
       "      <td>0</td>\n",
       "      <td>0</td>\n",
       "    </tr>\n",
       "    <tr>\n",
       "      <th>1</th>\n",
       "      <td>1</td>\n",
       "      <td>PAYMENT</td>\n",
       "      <td>1864.28</td>\n",
       "      <td>C1666544295</td>\n",
       "      <td>21249.0</td>\n",
       "      <td>19384.72</td>\n",
       "      <td>M2044282225</td>\n",
       "      <td>0.0</td>\n",
       "      <td>0.0</td>\n",
       "      <td>0</td>\n",
       "      <td>0</td>\n",
       "    </tr>\n",
       "    <tr>\n",
       "      <th>2</th>\n",
       "      <td>1</td>\n",
       "      <td>TRANSFER</td>\n",
       "      <td>181.00</td>\n",
       "      <td>C1305486145</td>\n",
       "      <td>181.0</td>\n",
       "      <td>0.00</td>\n",
       "      <td>C553264065</td>\n",
       "      <td>0.0</td>\n",
       "      <td>0.0</td>\n",
       "      <td>1</td>\n",
       "      <td>0</td>\n",
       "    </tr>\n",
       "    <tr>\n",
       "      <th>3</th>\n",
       "      <td>1</td>\n",
       "      <td>CASH_OUT</td>\n",
       "      <td>181.00</td>\n",
       "      <td>C840083671</td>\n",
       "      <td>181.0</td>\n",
       "      <td>0.00</td>\n",
       "      <td>C38997010</td>\n",
       "      <td>21182.0</td>\n",
       "      <td>0.0</td>\n",
       "      <td>1</td>\n",
       "      <td>0</td>\n",
       "    </tr>\n",
       "    <tr>\n",
       "      <th>4</th>\n",
       "      <td>1</td>\n",
       "      <td>PAYMENT</td>\n",
       "      <td>11668.14</td>\n",
       "      <td>C2048537720</td>\n",
       "      <td>41554.0</td>\n",
       "      <td>29885.86</td>\n",
       "      <td>M1230701703</td>\n",
       "      <td>0.0</td>\n",
       "      <td>0.0</td>\n",
       "      <td>0</td>\n",
       "      <td>0</td>\n",
       "    </tr>\n",
       "  </tbody>\n",
       "</table>\n",
       "</div>"
      ],
      "text/plain": [
       "   step      type    amount     nameOrig  oldbalanceOrg  newbalanceOrig  \\\n",
       "0     1   PAYMENT   9839.64  C1231006815       170136.0       160296.36   \n",
       "1     1   PAYMENT   1864.28  C1666544295        21249.0        19384.72   \n",
       "2     1  TRANSFER    181.00  C1305486145          181.0            0.00   \n",
       "3     1  CASH_OUT    181.00   C840083671          181.0            0.00   \n",
       "4     1   PAYMENT  11668.14  C2048537720        41554.0        29885.86   \n",
       "\n",
       "      nameDest  oldbalanceDest  newbalanceDest  isFraud  isFlaggedFraud  \n",
       "0  M1979787155             0.0             0.0        0               0  \n",
       "1  M2044282225             0.0             0.0        0               0  \n",
       "2   C553264065             0.0             0.0        1               0  \n",
       "3    C38997010         21182.0             0.0        1               0  \n",
       "4  M1230701703             0.0             0.0        0               0  "
      ]
     },
     "execution_count": 18,
     "metadata": {},
     "output_type": "execute_result"
    }
   ],
   "source": [
    "dataset.head()"
   ]
  },
  {
   "cell_type": "code",
   "execution_count": 19,
   "id": "092834a2",
   "metadata": {},
   "outputs": [
    {
     "data": {
      "text/plain": [
       "(101613, 11)"
      ]
     },
     "execution_count": 19,
     "metadata": {},
     "output_type": "execute_result"
    }
   ],
   "source": [
    "dataset.shape"
   ]
  },
  {
   "cell_type": "code",
   "execution_count": 20,
   "id": "48cee3dd",
   "metadata": {},
   "outputs": [
    {
     "data": {
      "text/plain": [
       "Index(['step', 'type', 'amount', 'nameOrig', 'oldbalanceOrg', 'newbalanceOrig',\n",
       "       'nameDest', 'oldbalanceDest', 'newbalanceDest', 'isFraud',\n",
       "       'isFlaggedFraud'],\n",
       "      dtype='object')"
      ]
     },
     "execution_count": 20,
     "metadata": {},
     "output_type": "execute_result"
    }
   ],
   "source": [
    "dataset.columns"
   ]
  },
  {
   "cell_type": "code",
   "execution_count": 21,
   "id": "3796ab4d",
   "metadata": {},
   "outputs": [],
   "source": [
    "dataset.columns = [\n",
    "    'Tempo',\n",
    "    'Tipo',\n",
    "    'Valor',\n",
    "    'ClienteRemetente',\n",
    "    'SaldoInicialRemetente',\n",
    "    'SaldoFinalRemetente',\n",
    "    'ClienteDestinatario',\n",
    "    'SaldoInicialDestinatario',\n",
    "    'SaldoFinalDestinatario',\n",
    "    'Fraude',\n",
    "    'SuperFraude'\n",
    "]"
   ]
  },
  {
   "cell_type": "code",
   "execution_count": 22,
   "id": "6424b319",
   "metadata": {},
   "outputs": [
    {
     "data": {
      "text/html": [
       "<div>\n",
       "<style scoped>\n",
       "    .dataframe tbody tr th:only-of-type {\n",
       "        vertical-align: middle;\n",
       "    }\n",
       "\n",
       "    .dataframe tbody tr th {\n",
       "        vertical-align: top;\n",
       "    }\n",
       "\n",
       "    .dataframe thead th {\n",
       "        text-align: right;\n",
       "    }\n",
       "</style>\n",
       "<table border=\"1\" class=\"dataframe\">\n",
       "  <thead>\n",
       "    <tr style=\"text-align: right;\">\n",
       "      <th></th>\n",
       "      <th>Tempo</th>\n",
       "      <th>Tipo</th>\n",
       "      <th>Valor</th>\n",
       "      <th>ClienteRemetente</th>\n",
       "      <th>SaldoInicialRemetente</th>\n",
       "      <th>SaldoFinalRemetente</th>\n",
       "      <th>ClienteDestinatario</th>\n",
       "      <th>SaldoInicialDestinatario</th>\n",
       "      <th>SaldoFinalDestinatario</th>\n",
       "      <th>Fraude</th>\n",
       "      <th>SuperFraude</th>\n",
       "    </tr>\n",
       "  </thead>\n",
       "  <tbody>\n",
       "    <tr>\n",
       "      <th>0</th>\n",
       "      <td>1</td>\n",
       "      <td>PAYMENT</td>\n",
       "      <td>9839.64</td>\n",
       "      <td>C1231006815</td>\n",
       "      <td>170136.00</td>\n",
       "      <td>160296.36</td>\n",
       "      <td>M1979787155</td>\n",
       "      <td>0.00</td>\n",
       "      <td>0.00</td>\n",
       "      <td>0</td>\n",
       "      <td>0</td>\n",
       "    </tr>\n",
       "    <tr>\n",
       "      <th>1</th>\n",
       "      <td>1</td>\n",
       "      <td>PAYMENT</td>\n",
       "      <td>1864.28</td>\n",
       "      <td>C1666544295</td>\n",
       "      <td>21249.00</td>\n",
       "      <td>19384.72</td>\n",
       "      <td>M2044282225</td>\n",
       "      <td>0.00</td>\n",
       "      <td>0.00</td>\n",
       "      <td>0</td>\n",
       "      <td>0</td>\n",
       "    </tr>\n",
       "    <tr>\n",
       "      <th>2</th>\n",
       "      <td>1</td>\n",
       "      <td>TRANSFER</td>\n",
       "      <td>181.00</td>\n",
       "      <td>C1305486145</td>\n",
       "      <td>181.00</td>\n",
       "      <td>0.00</td>\n",
       "      <td>C553264065</td>\n",
       "      <td>0.00</td>\n",
       "      <td>0.00</td>\n",
       "      <td>1</td>\n",
       "      <td>0</td>\n",
       "    </tr>\n",
       "    <tr>\n",
       "      <th>3</th>\n",
       "      <td>1</td>\n",
       "      <td>CASH_OUT</td>\n",
       "      <td>181.00</td>\n",
       "      <td>C840083671</td>\n",
       "      <td>181.00</td>\n",
       "      <td>0.00</td>\n",
       "      <td>C38997010</td>\n",
       "      <td>21182.00</td>\n",
       "      <td>0.00</td>\n",
       "      <td>1</td>\n",
       "      <td>0</td>\n",
       "    </tr>\n",
       "    <tr>\n",
       "      <th>4</th>\n",
       "      <td>1</td>\n",
       "      <td>PAYMENT</td>\n",
       "      <td>11668.14</td>\n",
       "      <td>C2048537720</td>\n",
       "      <td>41554.00</td>\n",
       "      <td>29885.86</td>\n",
       "      <td>M1230701703</td>\n",
       "      <td>0.00</td>\n",
       "      <td>0.00</td>\n",
       "      <td>0</td>\n",
       "      <td>0</td>\n",
       "    </tr>\n",
       "    <tr>\n",
       "      <th>...</th>\n",
       "      <td>...</td>\n",
       "      <td>...</td>\n",
       "      <td>...</td>\n",
       "      <td>...</td>\n",
       "      <td>...</td>\n",
       "      <td>...</td>\n",
       "      <td>...</td>\n",
       "      <td>...</td>\n",
       "      <td>...</td>\n",
       "      <td>...</td>\n",
       "      <td>...</td>\n",
       "    </tr>\n",
       "    <tr>\n",
       "      <th>101608</th>\n",
       "      <td>10</td>\n",
       "      <td>PAYMENT</td>\n",
       "      <td>7477.02</td>\n",
       "      <td>C513257306</td>\n",
       "      <td>785.00</td>\n",
       "      <td>0.00</td>\n",
       "      <td>M524833426</td>\n",
       "      <td>0.00</td>\n",
       "      <td>0.00</td>\n",
       "      <td>0</td>\n",
       "      <td>0</td>\n",
       "    </tr>\n",
       "    <tr>\n",
       "      <th>101609</th>\n",
       "      <td>10</td>\n",
       "      <td>CASH_OUT</td>\n",
       "      <td>282252.35</td>\n",
       "      <td>C210473293</td>\n",
       "      <td>220339.29</td>\n",
       "      <td>0.00</td>\n",
       "      <td>C1172042998</td>\n",
       "      <td>95156.01</td>\n",
       "      <td>91286.97</td>\n",
       "      <td>0</td>\n",
       "      <td>0</td>\n",
       "    </tr>\n",
       "    <tr>\n",
       "      <th>101610</th>\n",
       "      <td>10</td>\n",
       "      <td>PAYMENT</td>\n",
       "      <td>17289.01</td>\n",
       "      <td>C807582280</td>\n",
       "      <td>0.00</td>\n",
       "      <td>0.00</td>\n",
       "      <td>M334249577</td>\n",
       "      <td>0.00</td>\n",
       "      <td>0.00</td>\n",
       "      <td>0</td>\n",
       "      <td>0</td>\n",
       "    </tr>\n",
       "    <tr>\n",
       "      <th>101611</th>\n",
       "      <td>10</td>\n",
       "      <td>TRANSFER</td>\n",
       "      <td>1347146.45</td>\n",
       "      <td>C1315779140</td>\n",
       "      <td>1605.00</td>\n",
       "      <td>0.00</td>\n",
       "      <td>C1631408038</td>\n",
       "      <td>541639.43</td>\n",
       "      <td>2186953.43</td>\n",
       "      <td>0</td>\n",
       "      <td>0</td>\n",
       "    </tr>\n",
       "    <tr>\n",
       "      <th>101612</th>\n",
       "      <td>10</td>\n",
       "      <td>CASH_OUT</td>\n",
       "      <td>469539.21</td>\n",
       "      <td>C515691325</td>\n",
       "      <td>31133.00</td>\n",
       "      <td>0.00</td>\n",
       "      <td>C1383702768</td>\n",
       "      <td>0.00</td>\n",
       "      <td>469539.21</td>\n",
       "      <td>0</td>\n",
       "      <td>0</td>\n",
       "    </tr>\n",
       "  </tbody>\n",
       "</table>\n",
       "<p>101613 rows × 11 columns</p>\n",
       "</div>"
      ],
      "text/plain": [
       "        Tempo      Tipo       Valor ClienteRemetente  SaldoInicialRemetente  \\\n",
       "0           1   PAYMENT     9839.64      C1231006815              170136.00   \n",
       "1           1   PAYMENT     1864.28      C1666544295               21249.00   \n",
       "2           1  TRANSFER      181.00      C1305486145                 181.00   \n",
       "3           1  CASH_OUT      181.00       C840083671                 181.00   \n",
       "4           1   PAYMENT    11668.14      C2048537720               41554.00   \n",
       "...       ...       ...         ...              ...                    ...   \n",
       "101608     10   PAYMENT     7477.02       C513257306                 785.00   \n",
       "101609     10  CASH_OUT   282252.35       C210473293              220339.29   \n",
       "101610     10   PAYMENT    17289.01       C807582280                   0.00   \n",
       "101611     10  TRANSFER  1347146.45      C1315779140                1605.00   \n",
       "101612     10  CASH_OUT   469539.21       C515691325               31133.00   \n",
       "\n",
       "        SaldoFinalRemetente ClienteDestinatario  SaldoInicialDestinatario  \\\n",
       "0                 160296.36         M1979787155                      0.00   \n",
       "1                  19384.72         M2044282225                      0.00   \n",
       "2                      0.00          C553264065                      0.00   \n",
       "3                      0.00           C38997010                  21182.00   \n",
       "4                  29885.86         M1230701703                      0.00   \n",
       "...                     ...                 ...                       ...   \n",
       "101608                 0.00          M524833426                      0.00   \n",
       "101609                 0.00         C1172042998                  95156.01   \n",
       "101610                 0.00          M334249577                      0.00   \n",
       "101611                 0.00         C1631408038                 541639.43   \n",
       "101612                 0.00         C1383702768                      0.00   \n",
       "\n",
       "        SaldoFinalDestinatario  Fraude  SuperFraude  \n",
       "0                         0.00       0            0  \n",
       "1                         0.00       0            0  \n",
       "2                         0.00       1            0  \n",
       "3                         0.00       1            0  \n",
       "4                         0.00       0            0  \n",
       "...                        ...     ...          ...  \n",
       "101608                    0.00       0            0  \n",
       "101609                91286.97       0            0  \n",
       "101610                    0.00       0            0  \n",
       "101611              2186953.43       0            0  \n",
       "101612               469539.21       0            0  \n",
       "\n",
       "[101613 rows x 11 columns]"
      ]
     },
     "execution_count": 22,
     "metadata": {},
     "output_type": "execute_result"
    }
   ],
   "source": [
    "dataset"
   ]
  },
  {
   "cell_type": "code",
   "execution_count": 23,
   "id": "b896cf3d",
   "metadata": {},
   "outputs": [
    {
     "data": {
      "text/html": [
       "<div>\n",
       "<style scoped>\n",
       "    .dataframe tbody tr th:only-of-type {\n",
       "        vertical-align: middle;\n",
       "    }\n",
       "\n",
       "    .dataframe tbody tr th {\n",
       "        vertical-align: top;\n",
       "    }\n",
       "\n",
       "    .dataframe thead th {\n",
       "        text-align: right;\n",
       "    }\n",
       "</style>\n",
       "<table border=\"1\" class=\"dataframe\">\n",
       "  <thead>\n",
       "    <tr style=\"text-align: right;\">\n",
       "      <th></th>\n",
       "      <th>Tempo</th>\n",
       "      <th>Valor</th>\n",
       "      <th>SaldoInicialRemetente</th>\n",
       "      <th>SaldoFinalRemetente</th>\n",
       "      <th>SaldoInicialDestinatario</th>\n",
       "      <th>SaldoFinalDestinatario</th>\n",
       "      <th>Fraude</th>\n",
       "      <th>SuperFraude</th>\n",
       "    </tr>\n",
       "  </thead>\n",
       "  <tbody>\n",
       "    <tr>\n",
       "      <th>count</th>\n",
       "      <td>101613.000000</td>\n",
       "      <td>1.016130e+05</td>\n",
       "      <td>1.016130e+05</td>\n",
       "      <td>1.016130e+05</td>\n",
       "      <td>1.016130e+05</td>\n",
       "      <td>1.016130e+05</td>\n",
       "      <td>101613.000000</td>\n",
       "      <td>101613.0</td>\n",
       "    </tr>\n",
       "    <tr>\n",
       "      <th>mean</th>\n",
       "      <td>8.523457</td>\n",
       "      <td>1.740901e+05</td>\n",
       "      <td>9.071753e+05</td>\n",
       "      <td>9.234992e+05</td>\n",
       "      <td>8.810428e+05</td>\n",
       "      <td>1.183998e+06</td>\n",
       "      <td>0.001142</td>\n",
       "      <td>0.0</td>\n",
       "    </tr>\n",
       "    <tr>\n",
       "      <th>std</th>\n",
       "      <td>1.820681</td>\n",
       "      <td>3.450199e+05</td>\n",
       "      <td>2.829575e+06</td>\n",
       "      <td>2.867319e+06</td>\n",
       "      <td>2.399949e+06</td>\n",
       "      <td>2.797761e+06</td>\n",
       "      <td>0.033768</td>\n",
       "      <td>0.0</td>\n",
       "    </tr>\n",
       "    <tr>\n",
       "      <th>min</th>\n",
       "      <td>1.000000</td>\n",
       "      <td>3.200000e-01</td>\n",
       "      <td>0.000000e+00</td>\n",
       "      <td>0.000000e+00</td>\n",
       "      <td>0.000000e+00</td>\n",
       "      <td>0.000000e+00</td>\n",
       "      <td>0.000000</td>\n",
       "      <td>0.0</td>\n",
       "    </tr>\n",
       "    <tr>\n",
       "      <th>25%</th>\n",
       "      <td>8.000000</td>\n",
       "      <td>1.001659e+04</td>\n",
       "      <td>0.000000e+00</td>\n",
       "      <td>0.000000e+00</td>\n",
       "      <td>0.000000e+00</td>\n",
       "      <td>0.000000e+00</td>\n",
       "      <td>0.000000</td>\n",
       "      <td>0.0</td>\n",
       "    </tr>\n",
       "    <tr>\n",
       "      <th>50%</th>\n",
       "      <td>9.000000</td>\n",
       "      <td>5.338541e+04</td>\n",
       "      <td>2.019047e+04</td>\n",
       "      <td>0.000000e+00</td>\n",
       "      <td>2.105800e+04</td>\n",
       "      <td>5.178343e+04</td>\n",
       "      <td>0.000000</td>\n",
       "      <td>0.0</td>\n",
       "    </tr>\n",
       "    <tr>\n",
       "      <th>75%</th>\n",
       "      <td>10.000000</td>\n",
       "      <td>2.124984e+05</td>\n",
       "      <td>1.947150e+05</td>\n",
       "      <td>2.192178e+05</td>\n",
       "      <td>5.919217e+05</td>\n",
       "      <td>1.063122e+06</td>\n",
       "      <td>0.000000</td>\n",
       "      <td>0.0</td>\n",
       "    </tr>\n",
       "    <tr>\n",
       "      <th>max</th>\n",
       "      <td>10.000000</td>\n",
       "      <td>1.000000e+07</td>\n",
       "      <td>3.893942e+07</td>\n",
       "      <td>3.894623e+07</td>\n",
       "      <td>3.400874e+07</td>\n",
       "      <td>3.894623e+07</td>\n",
       "      <td>1.000000</td>\n",
       "      <td>0.0</td>\n",
       "    </tr>\n",
       "  </tbody>\n",
       "</table>\n",
       "</div>"
      ],
      "text/plain": [
       "               Tempo         Valor  SaldoInicialRemetente  \\\n",
       "count  101613.000000  1.016130e+05           1.016130e+05   \n",
       "mean        8.523457  1.740901e+05           9.071753e+05   \n",
       "std         1.820681  3.450199e+05           2.829575e+06   \n",
       "min         1.000000  3.200000e-01           0.000000e+00   \n",
       "25%         8.000000  1.001659e+04           0.000000e+00   \n",
       "50%         9.000000  5.338541e+04           2.019047e+04   \n",
       "75%        10.000000  2.124984e+05           1.947150e+05   \n",
       "max        10.000000  1.000000e+07           3.893942e+07   \n",
       "\n",
       "       SaldoFinalRemetente  SaldoInicialDestinatario  SaldoFinalDestinatario  \\\n",
       "count         1.016130e+05              1.016130e+05            1.016130e+05   \n",
       "mean          9.234992e+05              8.810428e+05            1.183998e+06   \n",
       "std           2.867319e+06              2.399949e+06            2.797761e+06   \n",
       "min           0.000000e+00              0.000000e+00            0.000000e+00   \n",
       "25%           0.000000e+00              0.000000e+00            0.000000e+00   \n",
       "50%           0.000000e+00              2.105800e+04            5.178343e+04   \n",
       "75%           2.192178e+05              5.919217e+05            1.063122e+06   \n",
       "max           3.894623e+07              3.400874e+07            3.894623e+07   \n",
       "\n",
       "              Fraude  SuperFraude  \n",
       "count  101613.000000     101613.0  \n",
       "mean        0.001142          0.0  \n",
       "std         0.033768          0.0  \n",
       "min         0.000000          0.0  \n",
       "25%         0.000000          0.0  \n",
       "50%         0.000000          0.0  \n",
       "75%         0.000000          0.0  \n",
       "max         1.000000          0.0  "
      ]
     },
     "execution_count": 23,
     "metadata": {},
     "output_type": "execute_result"
    }
   ],
   "source": [
    "dataset.describe()"
   ]
  },
  {
   "cell_type": "code",
   "execution_count": 24,
   "id": "cc52ceb7",
   "metadata": {},
   "outputs": [
    {
     "name": "stdout",
     "output_type": "stream",
     "text": [
      "<class 'pandas.core.frame.DataFrame'>\n",
      "RangeIndex: 101613 entries, 0 to 101612\n",
      "Data columns (total 11 columns):\n",
      " #   Column                    Non-Null Count   Dtype  \n",
      "---  ------                    --------------   -----  \n",
      " 0   Tempo                     101613 non-null  int64  \n",
      " 1   Tipo                      101613 non-null  object \n",
      " 2   Valor                     101613 non-null  float64\n",
      " 3   ClienteRemetente          101613 non-null  object \n",
      " 4   SaldoInicialRemetente     101613 non-null  float64\n",
      " 5   SaldoFinalRemetente       101613 non-null  float64\n",
      " 6   ClienteDestinatario       101613 non-null  object \n",
      " 7   SaldoInicialDestinatario  101613 non-null  float64\n",
      " 8   SaldoFinalDestinatario    101613 non-null  float64\n",
      " 9   Fraude                    101613 non-null  int64  \n",
      " 10  SuperFraude               101613 non-null  int64  \n",
      "dtypes: float64(5), int64(3), object(3)\n",
      "memory usage: 8.5+ MB\n"
     ]
    }
   ],
   "source": [
    "dataset.info()"
   ]
  },
  {
   "cell_type": "code",
   "execution_count": 25,
   "id": "323692b1",
   "metadata": {},
   "outputs": [
    {
     "data": {
      "text/plain": [
       "0    101497\n",
       "1       116\n",
       "Name: Fraude, dtype: int64"
      ]
     },
     "execution_count": 25,
     "metadata": {},
     "output_type": "execute_result"
    }
   ],
   "source": [
    "pd.value_counts(dataset.Fraude)"
   ]
  },
  {
   "cell_type": "code",
   "execution_count": 27,
   "id": "48b4a9ef",
   "metadata": {},
   "outputs": [
    {
     "data": {
      "text/html": [
       "<div>\n",
       "<style scoped>\n",
       "    .dataframe tbody tr th:only-of-type {\n",
       "        vertical-align: middle;\n",
       "    }\n",
       "\n",
       "    .dataframe tbody tr th {\n",
       "        vertical-align: top;\n",
       "    }\n",
       "\n",
       "    .dataframe thead th {\n",
       "        text-align: right;\n",
       "    }\n",
       "</style>\n",
       "<table border=\"1\" class=\"dataframe\">\n",
       "  <thead>\n",
       "    <tr style=\"text-align: right;\">\n",
       "      <th></th>\n",
       "      <th>count</th>\n",
       "      <th>mean</th>\n",
       "      <th>std</th>\n",
       "      <th>min</th>\n",
       "      <th>25%</th>\n",
       "      <th>50%</th>\n",
       "      <th>75%</th>\n",
       "      <th>max</th>\n",
       "    </tr>\n",
       "  </thead>\n",
       "  <tbody>\n",
       "    <tr>\n",
       "      <th>Tempo</th>\n",
       "      <td>101613.0</td>\n",
       "      <td>8.523457e+00</td>\n",
       "      <td>1.820681e+00</td>\n",
       "      <td>1.00</td>\n",
       "      <td>8.00</td>\n",
       "      <td>9.00</td>\n",
       "      <td>10.00</td>\n",
       "      <td>10.00</td>\n",
       "    </tr>\n",
       "    <tr>\n",
       "      <th>Valor</th>\n",
       "      <td>101613.0</td>\n",
       "      <td>1.740901e+05</td>\n",
       "      <td>3.450199e+05</td>\n",
       "      <td>0.32</td>\n",
       "      <td>10016.59</td>\n",
       "      <td>53385.41</td>\n",
       "      <td>212498.40</td>\n",
       "      <td>10000000.00</td>\n",
       "    </tr>\n",
       "    <tr>\n",
       "      <th>SaldoInicialRemetente</th>\n",
       "      <td>101613.0</td>\n",
       "      <td>9.071753e+05</td>\n",
       "      <td>2.829575e+06</td>\n",
       "      <td>0.00</td>\n",
       "      <td>0.00</td>\n",
       "      <td>20190.47</td>\n",
       "      <td>194715.00</td>\n",
       "      <td>38939424.03</td>\n",
       "    </tr>\n",
       "    <tr>\n",
       "      <th>SaldoFinalRemetente</th>\n",
       "      <td>101613.0</td>\n",
       "      <td>9.234992e+05</td>\n",
       "      <td>2.867319e+06</td>\n",
       "      <td>0.00</td>\n",
       "      <td>0.00</td>\n",
       "      <td>0.00</td>\n",
       "      <td>219217.76</td>\n",
       "      <td>38946233.02</td>\n",
       "    </tr>\n",
       "    <tr>\n",
       "      <th>SaldoInicialDestinatario</th>\n",
       "      <td>101613.0</td>\n",
       "      <td>8.810428e+05</td>\n",
       "      <td>2.399949e+06</td>\n",
       "      <td>0.00</td>\n",
       "      <td>0.00</td>\n",
       "      <td>21058.00</td>\n",
       "      <td>591921.70</td>\n",
       "      <td>34008736.98</td>\n",
       "    </tr>\n",
       "    <tr>\n",
       "      <th>SaldoFinalDestinatario</th>\n",
       "      <td>101613.0</td>\n",
       "      <td>1.183998e+06</td>\n",
       "      <td>2.797761e+06</td>\n",
       "      <td>0.00</td>\n",
       "      <td>0.00</td>\n",
       "      <td>51783.43</td>\n",
       "      <td>1063121.64</td>\n",
       "      <td>38946233.02</td>\n",
       "    </tr>\n",
       "    <tr>\n",
       "      <th>Fraude</th>\n",
       "      <td>101613.0</td>\n",
       "      <td>1.141586e-03</td>\n",
       "      <td>3.376824e-02</td>\n",
       "      <td>0.00</td>\n",
       "      <td>0.00</td>\n",
       "      <td>0.00</td>\n",
       "      <td>0.00</td>\n",
       "      <td>1.00</td>\n",
       "    </tr>\n",
       "    <tr>\n",
       "      <th>SuperFraude</th>\n",
       "      <td>101613.0</td>\n",
       "      <td>0.000000e+00</td>\n",
       "      <td>0.000000e+00</td>\n",
       "      <td>0.00</td>\n",
       "      <td>0.00</td>\n",
       "      <td>0.00</td>\n",
       "      <td>0.00</td>\n",
       "      <td>0.00</td>\n",
       "    </tr>\n",
       "  </tbody>\n",
       "</table>\n",
       "</div>"
      ],
      "text/plain": [
       "                             count          mean           std   min  \\\n",
       "Tempo                     101613.0  8.523457e+00  1.820681e+00  1.00   \n",
       "Valor                     101613.0  1.740901e+05  3.450199e+05  0.32   \n",
       "SaldoInicialRemetente     101613.0  9.071753e+05  2.829575e+06  0.00   \n",
       "SaldoFinalRemetente       101613.0  9.234992e+05  2.867319e+06  0.00   \n",
       "SaldoInicialDestinatario  101613.0  8.810428e+05  2.399949e+06  0.00   \n",
       "SaldoFinalDestinatario    101613.0  1.183998e+06  2.797761e+06  0.00   \n",
       "Fraude                    101613.0  1.141586e-03  3.376824e-02  0.00   \n",
       "SuperFraude               101613.0  0.000000e+00  0.000000e+00  0.00   \n",
       "\n",
       "                               25%       50%         75%          max  \n",
       "Tempo                         8.00      9.00       10.00        10.00  \n",
       "Valor                     10016.59  53385.41   212498.40  10000000.00  \n",
       "SaldoInicialRemetente         0.00  20190.47   194715.00  38939424.03  \n",
       "SaldoFinalRemetente           0.00      0.00   219217.76  38946233.02  \n",
       "SaldoInicialDestinatario      0.00  21058.00   591921.70  34008736.98  \n",
       "SaldoFinalDestinatario        0.00  51783.43  1063121.64  38946233.02  \n",
       "Fraude                        0.00      0.00        0.00         1.00  \n",
       "SuperFraude                   0.00      0.00        0.00         0.00  "
      ]
     },
     "execution_count": 27,
     "metadata": {},
     "output_type": "execute_result"
    }
   ],
   "source": [
    "dataset.describe().T"
   ]
  },
  {
   "cell_type": "code",
   "execution_count": 28,
   "id": "c2bdade6",
   "metadata": {},
   "outputs": [
    {
     "name": "stderr",
     "output_type": "stream",
     "text": [
      "/tmp/ipykernel_6766/1591302161.py:1: DeprecationWarning: `import pandas_profiling` is going to be deprecated by April 1st. Please use `import ydata_profiling` instead.\n",
      "  import pandas_profiling\n"
     ]
    }
   ],
   "source": [
    "import pandas_profiling"
   ]
  },
  {
   "cell_type": "code",
   "execution_count": 30,
   "id": "f8c2eed9",
   "metadata": {},
   "outputs": [],
   "source": [
    "report = pandas_profiling.ProfileReport(dataset)"
   ]
  },
  {
   "cell_type": "code",
   "execution_count": 31,
   "id": "7d473a20",
   "metadata": {},
   "outputs": [
    {
     "data": {
      "application/vnd.jupyter.widget-view+json": {
       "model_id": "a73cb256464943bbb4dedf04b955f417",
       "version_major": 2,
       "version_minor": 0
      },
      "text/plain": [
       "Summarize dataset:   0%|          | 0/5 [00:00<?, ?it/s]"
      ]
     },
     "metadata": {},
     "output_type": "display_data"
    },
    {
     "data": {
      "application/vnd.jupyter.widget-view+json": {
       "model_id": "b23b9a372ad345d9b9ab2d308656294c",
       "version_major": 2,
       "version_minor": 0
      },
      "text/plain": [
       "Generate report structure:   0%|          | 0/1 [00:00<?, ?it/s]"
      ]
     },
     "metadata": {},
     "output_type": "display_data"
    },
    {
     "data": {
      "application/vnd.jupyter.widget-view+json": {
       "model_id": "000c7147fa6c4bf2b84545080e798ca0",
       "version_major": 2,
       "version_minor": 0
      },
      "text/plain": [
       "Render HTML:   0%|          | 0/1 [00:00<?, ?it/s]"
      ]
     },
     "metadata": {},
     "output_type": "display_data"
    },
    {
     "data": {
      "application/vnd.jupyter.widget-view+json": {
       "model_id": "91628207b01e429584d6e129edf14e48",
       "version_major": 2,
       "version_minor": 0
      },
      "text/plain": [
       "Export report to file:   0%|          | 0/1 [00:00<?, ?it/s]"
      ]
     },
     "metadata": {},
     "output_type": "display_data"
    }
   ],
   "source": [
    "report.to_file('report.html')"
   ]
  },
  {
   "cell_type": "code",
   "execution_count": 45,
   "id": "b01db46d",
   "metadata": {},
   "outputs": [],
   "source": [
    "dataset = pd.get_dummies(data = dataset, columns=['Tipo'])"
   ]
  },
  {
   "cell_type": "code",
   "execution_count": 46,
   "id": "99a0f286",
   "metadata": {},
   "outputs": [
    {
     "data": {
      "text/html": [
       "<div>\n",
       "<style scoped>\n",
       "    .dataframe tbody tr th:only-of-type {\n",
       "        vertical-align: middle;\n",
       "    }\n",
       "\n",
       "    .dataframe tbody tr th {\n",
       "        vertical-align: top;\n",
       "    }\n",
       "\n",
       "    .dataframe thead th {\n",
       "        text-align: right;\n",
       "    }\n",
       "</style>\n",
       "<table border=\"1\" class=\"dataframe\">\n",
       "  <thead>\n",
       "    <tr style=\"text-align: right;\">\n",
       "      <th></th>\n",
       "      <th>Tempo</th>\n",
       "      <th>Valor</th>\n",
       "      <th>ClienteRemetente</th>\n",
       "      <th>SaldoInicialRemetente</th>\n",
       "      <th>SaldoFinalRemetente</th>\n",
       "      <th>ClienteDestinatario</th>\n",
       "      <th>SaldoInicialDestinatario</th>\n",
       "      <th>SaldoFinalDestinatario</th>\n",
       "      <th>Fraude</th>\n",
       "      <th>SuperFraude</th>\n",
       "      <th>Tipo_CASH_IN</th>\n",
       "      <th>Tipo_CASH_OUT</th>\n",
       "      <th>Tipo_DEBIT</th>\n",
       "      <th>Tipo_PAYMENT</th>\n",
       "      <th>Tipo_TRANSFER</th>\n",
       "    </tr>\n",
       "  </thead>\n",
       "  <tbody>\n",
       "    <tr>\n",
       "      <th>0</th>\n",
       "      <td>1</td>\n",
       "      <td>9839.64</td>\n",
       "      <td>C1231006815</td>\n",
       "      <td>170136.00</td>\n",
       "      <td>160296.36</td>\n",
       "      <td>M1979787155</td>\n",
       "      <td>0.00</td>\n",
       "      <td>0.00</td>\n",
       "      <td>0</td>\n",
       "      <td>0</td>\n",
       "      <td>0</td>\n",
       "      <td>0</td>\n",
       "      <td>0</td>\n",
       "      <td>1</td>\n",
       "      <td>0</td>\n",
       "    </tr>\n",
       "    <tr>\n",
       "      <th>1</th>\n",
       "      <td>1</td>\n",
       "      <td>1864.28</td>\n",
       "      <td>C1666544295</td>\n",
       "      <td>21249.00</td>\n",
       "      <td>19384.72</td>\n",
       "      <td>M2044282225</td>\n",
       "      <td>0.00</td>\n",
       "      <td>0.00</td>\n",
       "      <td>0</td>\n",
       "      <td>0</td>\n",
       "      <td>0</td>\n",
       "      <td>0</td>\n",
       "      <td>0</td>\n",
       "      <td>1</td>\n",
       "      <td>0</td>\n",
       "    </tr>\n",
       "    <tr>\n",
       "      <th>2</th>\n",
       "      <td>1</td>\n",
       "      <td>181.00</td>\n",
       "      <td>C1305486145</td>\n",
       "      <td>181.00</td>\n",
       "      <td>0.00</td>\n",
       "      <td>C553264065</td>\n",
       "      <td>0.00</td>\n",
       "      <td>0.00</td>\n",
       "      <td>1</td>\n",
       "      <td>0</td>\n",
       "      <td>0</td>\n",
       "      <td>0</td>\n",
       "      <td>0</td>\n",
       "      <td>0</td>\n",
       "      <td>1</td>\n",
       "    </tr>\n",
       "    <tr>\n",
       "      <th>3</th>\n",
       "      <td>1</td>\n",
       "      <td>181.00</td>\n",
       "      <td>C840083671</td>\n",
       "      <td>181.00</td>\n",
       "      <td>0.00</td>\n",
       "      <td>C38997010</td>\n",
       "      <td>21182.00</td>\n",
       "      <td>0.00</td>\n",
       "      <td>1</td>\n",
       "      <td>0</td>\n",
       "      <td>0</td>\n",
       "      <td>1</td>\n",
       "      <td>0</td>\n",
       "      <td>0</td>\n",
       "      <td>0</td>\n",
       "    </tr>\n",
       "    <tr>\n",
       "      <th>4</th>\n",
       "      <td>1</td>\n",
       "      <td>11668.14</td>\n",
       "      <td>C2048537720</td>\n",
       "      <td>41554.00</td>\n",
       "      <td>29885.86</td>\n",
       "      <td>M1230701703</td>\n",
       "      <td>0.00</td>\n",
       "      <td>0.00</td>\n",
       "      <td>0</td>\n",
       "      <td>0</td>\n",
       "      <td>0</td>\n",
       "      <td>0</td>\n",
       "      <td>0</td>\n",
       "      <td>1</td>\n",
       "      <td>0</td>\n",
       "    </tr>\n",
       "    <tr>\n",
       "      <th>...</th>\n",
       "      <td>...</td>\n",
       "      <td>...</td>\n",
       "      <td>...</td>\n",
       "      <td>...</td>\n",
       "      <td>...</td>\n",
       "      <td>...</td>\n",
       "      <td>...</td>\n",
       "      <td>...</td>\n",
       "      <td>...</td>\n",
       "      <td>...</td>\n",
       "      <td>...</td>\n",
       "      <td>...</td>\n",
       "      <td>...</td>\n",
       "      <td>...</td>\n",
       "      <td>...</td>\n",
       "    </tr>\n",
       "    <tr>\n",
       "      <th>101608</th>\n",
       "      <td>10</td>\n",
       "      <td>7477.02</td>\n",
       "      <td>C513257306</td>\n",
       "      <td>785.00</td>\n",
       "      <td>0.00</td>\n",
       "      <td>M524833426</td>\n",
       "      <td>0.00</td>\n",
       "      <td>0.00</td>\n",
       "      <td>0</td>\n",
       "      <td>0</td>\n",
       "      <td>0</td>\n",
       "      <td>0</td>\n",
       "      <td>0</td>\n",
       "      <td>1</td>\n",
       "      <td>0</td>\n",
       "    </tr>\n",
       "    <tr>\n",
       "      <th>101609</th>\n",
       "      <td>10</td>\n",
       "      <td>282252.35</td>\n",
       "      <td>C210473293</td>\n",
       "      <td>220339.29</td>\n",
       "      <td>0.00</td>\n",
       "      <td>C1172042998</td>\n",
       "      <td>95156.01</td>\n",
       "      <td>91286.97</td>\n",
       "      <td>0</td>\n",
       "      <td>0</td>\n",
       "      <td>0</td>\n",
       "      <td>1</td>\n",
       "      <td>0</td>\n",
       "      <td>0</td>\n",
       "      <td>0</td>\n",
       "    </tr>\n",
       "    <tr>\n",
       "      <th>101610</th>\n",
       "      <td>10</td>\n",
       "      <td>17289.01</td>\n",
       "      <td>C807582280</td>\n",
       "      <td>0.00</td>\n",
       "      <td>0.00</td>\n",
       "      <td>M334249577</td>\n",
       "      <td>0.00</td>\n",
       "      <td>0.00</td>\n",
       "      <td>0</td>\n",
       "      <td>0</td>\n",
       "      <td>0</td>\n",
       "      <td>0</td>\n",
       "      <td>0</td>\n",
       "      <td>1</td>\n",
       "      <td>0</td>\n",
       "    </tr>\n",
       "    <tr>\n",
       "      <th>101611</th>\n",
       "      <td>10</td>\n",
       "      <td>1347146.45</td>\n",
       "      <td>C1315779140</td>\n",
       "      <td>1605.00</td>\n",
       "      <td>0.00</td>\n",
       "      <td>C1631408038</td>\n",
       "      <td>541639.43</td>\n",
       "      <td>2186953.43</td>\n",
       "      <td>0</td>\n",
       "      <td>0</td>\n",
       "      <td>0</td>\n",
       "      <td>0</td>\n",
       "      <td>0</td>\n",
       "      <td>0</td>\n",
       "      <td>1</td>\n",
       "    </tr>\n",
       "    <tr>\n",
       "      <th>101612</th>\n",
       "      <td>10</td>\n",
       "      <td>469539.21</td>\n",
       "      <td>C515691325</td>\n",
       "      <td>31133.00</td>\n",
       "      <td>0.00</td>\n",
       "      <td>C1383702768</td>\n",
       "      <td>0.00</td>\n",
       "      <td>469539.21</td>\n",
       "      <td>0</td>\n",
       "      <td>0</td>\n",
       "      <td>0</td>\n",
       "      <td>1</td>\n",
       "      <td>0</td>\n",
       "      <td>0</td>\n",
       "      <td>0</td>\n",
       "    </tr>\n",
       "  </tbody>\n",
       "</table>\n",
       "<p>101613 rows × 15 columns</p>\n",
       "</div>"
      ],
      "text/plain": [
       "        Tempo       Valor ClienteRemetente  SaldoInicialRemetente  \\\n",
       "0           1     9839.64      C1231006815              170136.00   \n",
       "1           1     1864.28      C1666544295               21249.00   \n",
       "2           1      181.00      C1305486145                 181.00   \n",
       "3           1      181.00       C840083671                 181.00   \n",
       "4           1    11668.14      C2048537720               41554.00   \n",
       "...       ...         ...              ...                    ...   \n",
       "101608     10     7477.02       C513257306                 785.00   \n",
       "101609     10   282252.35       C210473293              220339.29   \n",
       "101610     10    17289.01       C807582280                   0.00   \n",
       "101611     10  1347146.45      C1315779140                1605.00   \n",
       "101612     10   469539.21       C515691325               31133.00   \n",
       "\n",
       "        SaldoFinalRemetente ClienteDestinatario  SaldoInicialDestinatario  \\\n",
       "0                 160296.36         M1979787155                      0.00   \n",
       "1                  19384.72         M2044282225                      0.00   \n",
       "2                      0.00          C553264065                      0.00   \n",
       "3                      0.00           C38997010                  21182.00   \n",
       "4                  29885.86         M1230701703                      0.00   \n",
       "...                     ...                 ...                       ...   \n",
       "101608                 0.00          M524833426                      0.00   \n",
       "101609                 0.00         C1172042998                  95156.01   \n",
       "101610                 0.00          M334249577                      0.00   \n",
       "101611                 0.00         C1631408038                 541639.43   \n",
       "101612                 0.00         C1383702768                      0.00   \n",
       "\n",
       "        SaldoFinalDestinatario  Fraude  SuperFraude  Tipo_CASH_IN  \\\n",
       "0                         0.00       0            0             0   \n",
       "1                         0.00       0            0             0   \n",
       "2                         0.00       1            0             0   \n",
       "3                         0.00       1            0             0   \n",
       "4                         0.00       0            0             0   \n",
       "...                        ...     ...          ...           ...   \n",
       "101608                    0.00       0            0             0   \n",
       "101609                91286.97       0            0             0   \n",
       "101610                    0.00       0            0             0   \n",
       "101611              2186953.43       0            0             0   \n",
       "101612               469539.21       0            0             0   \n",
       "\n",
       "        Tipo_CASH_OUT  Tipo_DEBIT  Tipo_PAYMENT  Tipo_TRANSFER  \n",
       "0                   0           0             1              0  \n",
       "1                   0           0             1              0  \n",
       "2                   0           0             0              1  \n",
       "3                   1           0             0              0  \n",
       "4                   0           0             1              0  \n",
       "...               ...         ...           ...            ...  \n",
       "101608              0           0             1              0  \n",
       "101609              1           0             0              0  \n",
       "101610              0           0             1              0  \n",
       "101611              0           0             0              1  \n",
       "101612              1           0             0              0  \n",
       "\n",
       "[101613 rows x 15 columns]"
      ]
     },
     "execution_count": 46,
     "metadata": {},
     "output_type": "execute_result"
    }
   ],
   "source": [
    "dataset"
   ]
  },
  {
   "cell_type": "code",
   "execution_count": 48,
   "id": "42859044",
   "metadata": {},
   "outputs": [],
   "source": [
    "dataset = dataset.drop(['SuperFraude', 'ClienteRemetente', 'ClienteDestinatario'], axis=1)"
   ]
  },
  {
   "cell_type": "code",
   "execution_count": 49,
   "id": "3d5d7cea",
   "metadata": {},
   "outputs": [
    {
     "data": {
      "text/html": [
       "<div>\n",
       "<style scoped>\n",
       "    .dataframe tbody tr th:only-of-type {\n",
       "        vertical-align: middle;\n",
       "    }\n",
       "\n",
       "    .dataframe tbody tr th {\n",
       "        vertical-align: top;\n",
       "    }\n",
       "\n",
       "    .dataframe thead th {\n",
       "        text-align: right;\n",
       "    }\n",
       "</style>\n",
       "<table border=\"1\" class=\"dataframe\">\n",
       "  <thead>\n",
       "    <tr style=\"text-align: right;\">\n",
       "      <th></th>\n",
       "      <th>Tempo</th>\n",
       "      <th>Valor</th>\n",
       "      <th>SaldoInicialRemetente</th>\n",
       "      <th>SaldoFinalRemetente</th>\n",
       "      <th>SaldoInicialDestinatario</th>\n",
       "      <th>SaldoFinalDestinatario</th>\n",
       "      <th>Fraude</th>\n",
       "      <th>Tipo_CASH_IN</th>\n",
       "      <th>Tipo_CASH_OUT</th>\n",
       "      <th>Tipo_DEBIT</th>\n",
       "      <th>Tipo_PAYMENT</th>\n",
       "      <th>Tipo_TRANSFER</th>\n",
       "    </tr>\n",
       "  </thead>\n",
       "  <tbody>\n",
       "    <tr>\n",
       "      <th>0</th>\n",
       "      <td>1</td>\n",
       "      <td>9839.64</td>\n",
       "      <td>170136.00</td>\n",
       "      <td>160296.36</td>\n",
       "      <td>0.00</td>\n",
       "      <td>0.00</td>\n",
       "      <td>0</td>\n",
       "      <td>0</td>\n",
       "      <td>0</td>\n",
       "      <td>0</td>\n",
       "      <td>1</td>\n",
       "      <td>0</td>\n",
       "    </tr>\n",
       "    <tr>\n",
       "      <th>1</th>\n",
       "      <td>1</td>\n",
       "      <td>1864.28</td>\n",
       "      <td>21249.00</td>\n",
       "      <td>19384.72</td>\n",
       "      <td>0.00</td>\n",
       "      <td>0.00</td>\n",
       "      <td>0</td>\n",
       "      <td>0</td>\n",
       "      <td>0</td>\n",
       "      <td>0</td>\n",
       "      <td>1</td>\n",
       "      <td>0</td>\n",
       "    </tr>\n",
       "    <tr>\n",
       "      <th>2</th>\n",
       "      <td>1</td>\n",
       "      <td>181.00</td>\n",
       "      <td>181.00</td>\n",
       "      <td>0.00</td>\n",
       "      <td>0.00</td>\n",
       "      <td>0.00</td>\n",
       "      <td>1</td>\n",
       "      <td>0</td>\n",
       "      <td>0</td>\n",
       "      <td>0</td>\n",
       "      <td>0</td>\n",
       "      <td>1</td>\n",
       "    </tr>\n",
       "    <tr>\n",
       "      <th>3</th>\n",
       "      <td>1</td>\n",
       "      <td>181.00</td>\n",
       "      <td>181.00</td>\n",
       "      <td>0.00</td>\n",
       "      <td>21182.00</td>\n",
       "      <td>0.00</td>\n",
       "      <td>1</td>\n",
       "      <td>0</td>\n",
       "      <td>1</td>\n",
       "      <td>0</td>\n",
       "      <td>0</td>\n",
       "      <td>0</td>\n",
       "    </tr>\n",
       "    <tr>\n",
       "      <th>4</th>\n",
       "      <td>1</td>\n",
       "      <td>11668.14</td>\n",
       "      <td>41554.00</td>\n",
       "      <td>29885.86</td>\n",
       "      <td>0.00</td>\n",
       "      <td>0.00</td>\n",
       "      <td>0</td>\n",
       "      <td>0</td>\n",
       "      <td>0</td>\n",
       "      <td>0</td>\n",
       "      <td>1</td>\n",
       "      <td>0</td>\n",
       "    </tr>\n",
       "    <tr>\n",
       "      <th>...</th>\n",
       "      <td>...</td>\n",
       "      <td>...</td>\n",
       "      <td>...</td>\n",
       "      <td>...</td>\n",
       "      <td>...</td>\n",
       "      <td>...</td>\n",
       "      <td>...</td>\n",
       "      <td>...</td>\n",
       "      <td>...</td>\n",
       "      <td>...</td>\n",
       "      <td>...</td>\n",
       "      <td>...</td>\n",
       "    </tr>\n",
       "    <tr>\n",
       "      <th>101608</th>\n",
       "      <td>10</td>\n",
       "      <td>7477.02</td>\n",
       "      <td>785.00</td>\n",
       "      <td>0.00</td>\n",
       "      <td>0.00</td>\n",
       "      <td>0.00</td>\n",
       "      <td>0</td>\n",
       "      <td>0</td>\n",
       "      <td>0</td>\n",
       "      <td>0</td>\n",
       "      <td>1</td>\n",
       "      <td>0</td>\n",
       "    </tr>\n",
       "    <tr>\n",
       "      <th>101609</th>\n",
       "      <td>10</td>\n",
       "      <td>282252.35</td>\n",
       "      <td>220339.29</td>\n",
       "      <td>0.00</td>\n",
       "      <td>95156.01</td>\n",
       "      <td>91286.97</td>\n",
       "      <td>0</td>\n",
       "      <td>0</td>\n",
       "      <td>1</td>\n",
       "      <td>0</td>\n",
       "      <td>0</td>\n",
       "      <td>0</td>\n",
       "    </tr>\n",
       "    <tr>\n",
       "      <th>101610</th>\n",
       "      <td>10</td>\n",
       "      <td>17289.01</td>\n",
       "      <td>0.00</td>\n",
       "      <td>0.00</td>\n",
       "      <td>0.00</td>\n",
       "      <td>0.00</td>\n",
       "      <td>0</td>\n",
       "      <td>0</td>\n",
       "      <td>0</td>\n",
       "      <td>0</td>\n",
       "      <td>1</td>\n",
       "      <td>0</td>\n",
       "    </tr>\n",
       "    <tr>\n",
       "      <th>101611</th>\n",
       "      <td>10</td>\n",
       "      <td>1347146.45</td>\n",
       "      <td>1605.00</td>\n",
       "      <td>0.00</td>\n",
       "      <td>541639.43</td>\n",
       "      <td>2186953.43</td>\n",
       "      <td>0</td>\n",
       "      <td>0</td>\n",
       "      <td>0</td>\n",
       "      <td>0</td>\n",
       "      <td>0</td>\n",
       "      <td>1</td>\n",
       "    </tr>\n",
       "    <tr>\n",
       "      <th>101612</th>\n",
       "      <td>10</td>\n",
       "      <td>469539.21</td>\n",
       "      <td>31133.00</td>\n",
       "      <td>0.00</td>\n",
       "      <td>0.00</td>\n",
       "      <td>469539.21</td>\n",
       "      <td>0</td>\n",
       "      <td>0</td>\n",
       "      <td>1</td>\n",
       "      <td>0</td>\n",
       "      <td>0</td>\n",
       "      <td>0</td>\n",
       "    </tr>\n",
       "  </tbody>\n",
       "</table>\n",
       "<p>101613 rows × 12 columns</p>\n",
       "</div>"
      ],
      "text/plain": [
       "        Tempo       Valor  SaldoInicialRemetente  SaldoFinalRemetente  \\\n",
       "0           1     9839.64              170136.00            160296.36   \n",
       "1           1     1864.28               21249.00             19384.72   \n",
       "2           1      181.00                 181.00                 0.00   \n",
       "3           1      181.00                 181.00                 0.00   \n",
       "4           1    11668.14               41554.00             29885.86   \n",
       "...       ...         ...                    ...                  ...   \n",
       "101608     10     7477.02                 785.00                 0.00   \n",
       "101609     10   282252.35              220339.29                 0.00   \n",
       "101610     10    17289.01                   0.00                 0.00   \n",
       "101611     10  1347146.45                1605.00                 0.00   \n",
       "101612     10   469539.21               31133.00                 0.00   \n",
       "\n",
       "        SaldoInicialDestinatario  SaldoFinalDestinatario  Fraude  \\\n",
       "0                           0.00                    0.00       0   \n",
       "1                           0.00                    0.00       0   \n",
       "2                           0.00                    0.00       1   \n",
       "3                       21182.00                    0.00       1   \n",
       "4                           0.00                    0.00       0   \n",
       "...                          ...                     ...     ...   \n",
       "101608                      0.00                    0.00       0   \n",
       "101609                  95156.01                91286.97       0   \n",
       "101610                      0.00                    0.00       0   \n",
       "101611                 541639.43              2186953.43       0   \n",
       "101612                      0.00               469539.21       0   \n",
       "\n",
       "        Tipo_CASH_IN  Tipo_CASH_OUT  Tipo_DEBIT  Tipo_PAYMENT  Tipo_TRANSFER  \n",
       "0                  0              0           0             1              0  \n",
       "1                  0              0           0             1              0  \n",
       "2                  0              0           0             0              1  \n",
       "3                  0              1           0             0              0  \n",
       "4                  0              0           0             1              0  \n",
       "...              ...            ...         ...           ...            ...  \n",
       "101608             0              0           0             1              0  \n",
       "101609             0              1           0             0              0  \n",
       "101610             0              0           0             1              0  \n",
       "101611             0              0           0             0              1  \n",
       "101612             0              1           0             0              0  \n",
       "\n",
       "[101613 rows x 12 columns]"
      ]
     },
     "execution_count": 49,
     "metadata": {},
     "output_type": "execute_result"
    }
   ],
   "source": [
    "dataset"
   ]
  },
  {
   "cell_type": "code",
   "execution_count": 50,
   "id": "a4a8ee63",
   "metadata": {},
   "outputs": [],
   "source": [
    "from sklearn.model_selection import train_test_split"
   ]
  },
  {
   "cell_type": "code",
   "execution_count": 53,
   "id": "1968ef35",
   "metadata": {},
   "outputs": [],
   "source": [
    "x = dataset.drop(['Fraude'], axis=1)\n",
    "y = dataset['Fraude']"
   ]
  },
  {
   "cell_type": "code",
   "execution_count": 54,
   "id": "628797ec",
   "metadata": {},
   "outputs": [],
   "source": [
    "x_train, x_test, y_train, y_test = train_test_split(x, y, random_state=100, test_size=0.25)"
   ]
  },
  {
   "cell_type": "code",
   "execution_count": 55,
   "id": "66a4910f",
   "metadata": {},
   "outputs": [],
   "source": [
    "from sklearn.linear_model import LogisticRegression"
   ]
  },
  {
   "cell_type": "code",
   "execution_count": 56,
   "id": "63b0ba47",
   "metadata": {},
   "outputs": [],
   "source": [
    "lr = LogisticRegression()"
   ]
  },
  {
   "cell_type": "code",
   "execution_count": 57,
   "id": "382c1dfc",
   "metadata": {
    "scrolled": true
   },
   "outputs": [
    {
     "data": {
      "text/plain": [
       "LogisticRegression()"
      ]
     },
     "execution_count": 57,
     "metadata": {},
     "output_type": "execute_result"
    }
   ],
   "source": [
    "lr.fit(x_train, y_train)"
   ]
  },
  {
   "cell_type": "code",
   "execution_count": 59,
   "id": "b37d2f52",
   "metadata": {},
   "outputs": [],
   "source": [
    "y_pred = lr.predict(x_test)"
   ]
  },
  {
   "cell_type": "code",
   "execution_count": 60,
   "id": "4a657a40",
   "metadata": {},
   "outputs": [],
   "source": [
    "from sklearn import metrics"
   ]
  },
  {
   "cell_type": "code",
   "execution_count": 61,
   "id": "221a23aa",
   "metadata": {},
   "outputs": [
    {
     "data": {
      "text/plain": [
       "0.9988584474885844"
      ]
     },
     "execution_count": 61,
     "metadata": {},
     "output_type": "execute_result"
    }
   ],
   "source": [
    "metrics.accuracy_score(y_pred, y_test)"
   ]
  },
  {
   "cell_type": "code",
   "execution_count": 62,
   "id": "942cd6ae",
   "metadata": {},
   "outputs": [
    {
     "data": {
      "text/plain": [
       "0.18181818181818182"
      ]
     },
     "execution_count": 62,
     "metadata": {},
     "output_type": "execute_result"
    }
   ],
   "source": [
    "metrics.precision_score(y_pred, y_test)"
   ]
  },
  {
   "cell_type": "code",
   "execution_count": 63,
   "id": "7bbafe99",
   "metadata": {},
   "outputs": [
    {
     "data": {
      "text/plain": [
       "0.75"
      ]
     },
     "execution_count": 63,
     "metadata": {},
     "output_type": "execute_result"
    }
   ],
   "source": [
    "metrics.recall_score(y_pred, y_test)"
   ]
  },
  {
   "cell_type": "code",
   "execution_count": 64,
   "id": "559ffc36",
   "metadata": {},
   "outputs": [
    {
     "data": {
      "text/plain": [
       "0.2926829268292683"
      ]
     },
     "execution_count": 64,
     "metadata": {},
     "output_type": "execute_result"
    }
   ],
   "source": [
    "metrics.f1_score(y_pred, y_test)"
   ]
  },
  {
   "cell_type": "code",
   "execution_count": 70,
   "id": "adde9789",
   "metadata": {},
   "outputs": [],
   "source": [
    "def avaliate_model(y_pred, y_true):\n",
    "    accuracy = metrics.accuracy_score(y_pred, y_true)\n",
    "    precision = metrics.precision_score(y_pred, y_true)\n",
    "    recall = metrics.recall_score(y_pred, y_true)\n",
    "    f1 = metrics.f1_score(y_pred, y_true)\n",
    "    \n",
    "    print('Accuracy: %.2f' % accuracy)\n",
    "    print('Precision: %.2f' % precision)\n",
    "    print('Recall: %.2f' % recall)\n",
    "    print('F1: %.2f' % f1)"
   ]
  },
  {
   "cell_type": "code",
   "execution_count": 71,
   "id": "21442218",
   "metadata": {},
   "outputs": [
    {
     "name": "stdout",
     "output_type": "stream",
     "text": [
      "Accuracy: 1.00\n",
      "Precision: 0.18\n",
      "Recall: 0.75\n",
      "F1: 0.29\n"
     ]
    }
   ],
   "source": [
    "avaliate_model(y_pred, y_test)"
   ]
  },
  {
   "cell_type": "code",
   "execution_count": 72,
   "id": "69830efe",
   "metadata": {},
   "outputs": [
    {
     "data": {
      "text/plain": [
       "array([[25369,    27],\n",
       "       [    2,     6]])"
      ]
     },
     "execution_count": 72,
     "metadata": {},
     "output_type": "execute_result"
    }
   ],
   "source": [
    "metrics.confusion_matrix(y_pred, y_test)"
   ]
  },
  {
   "cell_type": "code",
   "execution_count": 76,
   "id": "5f7e55f9",
   "metadata": {},
   "outputs": [],
   "source": [
    "while len(dataset) < (101729 * 2):\n",
    "    dataset = pd.concat([dataset.query('Fraude == 1'), dataset])"
   ]
  },
  {
   "cell_type": "code",
   "execution_count": 78,
   "id": "d6b595cc",
   "metadata": {},
   "outputs": [
    {
     "data": {
      "text/plain": [
       "1    118784\n",
       "0    101497\n",
       "Name: Fraude, dtype: int64"
      ]
     },
     "execution_count": 78,
     "metadata": {},
     "output_type": "execute_result"
    }
   ],
   "source": [
    "pd.value_counts(dataset['Fraude'])"
   ]
  },
  {
   "cell_type": "code",
   "execution_count": 79,
   "id": "bfbf9607",
   "metadata": {},
   "outputs": [],
   "source": [
    "from sklearn.model_selection import train_test_split"
   ]
  },
  {
   "cell_type": "code",
   "execution_count": 80,
   "id": "ff3821ec",
   "metadata": {},
   "outputs": [],
   "source": [
    "x = dataset.drop(['Fraude'], axis=1)\n",
    "y = dataset['Fraude']"
   ]
  },
  {
   "cell_type": "code",
   "execution_count": 81,
   "id": "1f213c16",
   "metadata": {},
   "outputs": [],
   "source": [
    "x_train, x_test, y_train, y_test = train_test_split(x, y, random_state=100, test_size=0.25)"
   ]
  },
  {
   "cell_type": "code",
   "execution_count": 82,
   "id": "50a7d6c8",
   "metadata": {},
   "outputs": [],
   "source": [
    "from sklearn.linear_model import LogisticRegression"
   ]
  },
  {
   "cell_type": "code",
   "execution_count": 83,
   "id": "e38ec625",
   "metadata": {},
   "outputs": [],
   "source": [
    "lr = LogisticRegression()"
   ]
  },
  {
   "cell_type": "code",
   "execution_count": 84,
   "id": "5b7efc90",
   "metadata": {
    "scrolled": true
   },
   "outputs": [
    {
     "data": {
      "text/plain": [
       "LogisticRegression()"
      ]
     },
     "execution_count": 84,
     "metadata": {},
     "output_type": "execute_result"
    }
   ],
   "source": [
    "lr.fit(x_train, y_train)"
   ]
  },
  {
   "cell_type": "code",
   "execution_count": 85,
   "id": "69400c48",
   "metadata": {},
   "outputs": [],
   "source": [
    "y_pred = lr.predict(x_test)"
   ]
  },
  {
   "cell_type": "code",
   "execution_count": 86,
   "id": "ff65a3be",
   "metadata": {},
   "outputs": [],
   "source": [
    "from sklearn import metrics"
   ]
  },
  {
   "cell_type": "code",
   "execution_count": 87,
   "id": "4e9ceeae",
   "metadata": {},
   "outputs": [
    {
     "data": {
      "text/plain": [
       "0.913457173466979"
      ]
     },
     "execution_count": 87,
     "metadata": {},
     "output_type": "execute_result"
    }
   ],
   "source": [
    "metrics.accuracy_score(y_pred, y_test)"
   ]
  },
  {
   "cell_type": "code",
   "execution_count": 88,
   "id": "0bc1c865",
   "metadata": {},
   "outputs": [
    {
     "data": {
      "text/plain": [
       "0.9316864383930978"
      ]
     },
     "execution_count": 88,
     "metadata": {},
     "output_type": "execute_result"
    }
   ],
   "source": [
    "metrics.precision_score(y_pred, y_test)"
   ]
  },
  {
   "cell_type": "code",
   "execution_count": 89,
   "id": "3c1c5960",
   "metadata": {},
   "outputs": [
    {
     "data": {
      "text/plain": [
       "0.9098538704581358"
      ]
     },
     "execution_count": 89,
     "metadata": {},
     "output_type": "execute_result"
    }
   ],
   "source": [
    "metrics.recall_score(y_pred, y_test)"
   ]
  },
  {
   "cell_type": "code",
   "execution_count": 90,
   "id": "528c427a",
   "metadata": {},
   "outputs": [
    {
     "data": {
      "text/plain": [
       "0.9206407353137072"
      ]
     },
     "execution_count": 90,
     "metadata": {},
     "output_type": "execute_result"
    }
   ],
   "source": [
    "metrics.f1_score(y_pred, y_test)"
   ]
  },
  {
   "cell_type": "code",
   "execution_count": 91,
   "id": "cbf67baf",
   "metadata": {},
   "outputs": [],
   "source": [
    "def avaliate_model(y_pred, y_true):\n",
    "    accuracy = metrics.accuracy_score(y_pred, y_true)\n",
    "    precision = metrics.precision_score(y_pred, y_true)\n",
    "    recall = metrics.recall_score(y_pred, y_true)\n",
    "    f1 = metrics.f1_score(y_pred, y_true)\n",
    "    \n",
    "    print('Accuracy: %.2f' % accuracy)\n",
    "    print('Precision: %.2f' % precision)\n",
    "    print('Recall: %.2f' % recall)\n",
    "    print('F1: %.2f' % f1)"
   ]
  },
  {
   "cell_type": "code",
   "execution_count": 92,
   "id": "6648e1c9",
   "metadata": {},
   "outputs": [
    {
     "name": "stdout",
     "output_type": "stream",
     "text": [
      "Accuracy: 0.91\n",
      "Precision: 0.93\n",
      "Recall: 0.91\n",
      "F1: 0.92\n"
     ]
    }
   ],
   "source": [
    "avaliate_model(y_pred, y_test)"
   ]
  },
  {
   "cell_type": "code",
   "execution_count": 93,
   "id": "751d85fa",
   "metadata": {},
   "outputs": [
    {
     "data": {
      "text/plain": [
       "array([[22660,  2027],\n",
       "       [ 2739, 27645]])"
      ]
     },
     "execution_count": 93,
     "metadata": {},
     "output_type": "execute_result"
    }
   ],
   "source": [
    "metrics.confusion_matrix(y_pred, y_test)"
   ]
  },
  {
   "cell_type": "code",
   "execution_count": 94,
   "id": "994fd327",
   "metadata": {
    "scrolled": false
   },
   "outputs": [
    {
     "data": {
      "text/html": [
       "<div>\n",
       "<style scoped>\n",
       "    .dataframe tbody tr th:only-of-type {\n",
       "        vertical-align: middle;\n",
       "    }\n",
       "\n",
       "    .dataframe tbody tr th {\n",
       "        vertical-align: top;\n",
       "    }\n",
       "\n",
       "    .dataframe thead th {\n",
       "        text-align: right;\n",
       "    }\n",
       "</style>\n",
       "<table border=\"1\" class=\"dataframe\">\n",
       "  <thead>\n",
       "    <tr style=\"text-align: right;\">\n",
       "      <th></th>\n",
       "      <th>Tempo</th>\n",
       "      <th>Valor</th>\n",
       "      <th>SaldoInicialRemetente</th>\n",
       "      <th>SaldoFinalRemetente</th>\n",
       "      <th>SaldoInicialDestinatario</th>\n",
       "      <th>SaldoFinalDestinatario</th>\n",
       "      <th>Fraude</th>\n",
       "      <th>Tipo_CASH_IN</th>\n",
       "      <th>Tipo_CASH_OUT</th>\n",
       "      <th>Tipo_DEBIT</th>\n",
       "      <th>Tipo_PAYMENT</th>\n",
       "      <th>Tipo_TRANSFER</th>\n",
       "    </tr>\n",
       "  </thead>\n",
       "  <tbody>\n",
       "    <tr>\n",
       "      <th>2</th>\n",
       "      <td>1</td>\n",
       "      <td>181.00</td>\n",
       "      <td>181.00</td>\n",
       "      <td>0.0</td>\n",
       "      <td>0.00</td>\n",
       "      <td>0.00</td>\n",
       "      <td>1</td>\n",
       "      <td>0</td>\n",
       "      <td>0</td>\n",
       "      <td>0</td>\n",
       "      <td>0</td>\n",
       "      <td>1</td>\n",
       "    </tr>\n",
       "    <tr>\n",
       "      <th>3</th>\n",
       "      <td>1</td>\n",
       "      <td>181.00</td>\n",
       "      <td>181.00</td>\n",
       "      <td>0.0</td>\n",
       "      <td>21182.00</td>\n",
       "      <td>0.00</td>\n",
       "      <td>1</td>\n",
       "      <td>0</td>\n",
       "      <td>1</td>\n",
       "      <td>0</td>\n",
       "      <td>0</td>\n",
       "      <td>0</td>\n",
       "    </tr>\n",
       "    <tr>\n",
       "      <th>251</th>\n",
       "      <td>1</td>\n",
       "      <td>2806.00</td>\n",
       "      <td>2806.00</td>\n",
       "      <td>0.0</td>\n",
       "      <td>0.00</td>\n",
       "      <td>0.00</td>\n",
       "      <td>1</td>\n",
       "      <td>0</td>\n",
       "      <td>0</td>\n",
       "      <td>0</td>\n",
       "      <td>0</td>\n",
       "      <td>1</td>\n",
       "    </tr>\n",
       "    <tr>\n",
       "      <th>252</th>\n",
       "      <td>1</td>\n",
       "      <td>2806.00</td>\n",
       "      <td>2806.00</td>\n",
       "      <td>0.0</td>\n",
       "      <td>26202.00</td>\n",
       "      <td>0.00</td>\n",
       "      <td>1</td>\n",
       "      <td>0</td>\n",
       "      <td>1</td>\n",
       "      <td>0</td>\n",
       "      <td>0</td>\n",
       "      <td>0</td>\n",
       "    </tr>\n",
       "    <tr>\n",
       "      <th>680</th>\n",
       "      <td>1</td>\n",
       "      <td>20128.00</td>\n",
       "      <td>20128.00</td>\n",
       "      <td>0.0</td>\n",
       "      <td>0.00</td>\n",
       "      <td>0.00</td>\n",
       "      <td>1</td>\n",
       "      <td>0</td>\n",
       "      <td>0</td>\n",
       "      <td>0</td>\n",
       "      <td>0</td>\n",
       "      <td>1</td>\n",
       "    </tr>\n",
       "    <tr>\n",
       "      <th>...</th>\n",
       "      <td>...</td>\n",
       "      <td>...</td>\n",
       "      <td>...</td>\n",
       "      <td>...</td>\n",
       "      <td>...</td>\n",
       "      <td>...</td>\n",
       "      <td>...</td>\n",
       "      <td>...</td>\n",
       "      <td>...</td>\n",
       "      <td>...</td>\n",
       "      <td>...</td>\n",
       "      <td>...</td>\n",
       "    </tr>\n",
       "    <tr>\n",
       "      <th>101608</th>\n",
       "      <td>10</td>\n",
       "      <td>7477.02</td>\n",
       "      <td>785.00</td>\n",
       "      <td>0.0</td>\n",
       "      <td>0.00</td>\n",
       "      <td>0.00</td>\n",
       "      <td>0</td>\n",
       "      <td>0</td>\n",
       "      <td>0</td>\n",
       "      <td>0</td>\n",
       "      <td>1</td>\n",
       "      <td>0</td>\n",
       "    </tr>\n",
       "    <tr>\n",
       "      <th>101609</th>\n",
       "      <td>10</td>\n",
       "      <td>282252.35</td>\n",
       "      <td>220339.29</td>\n",
       "      <td>0.0</td>\n",
       "      <td>95156.01</td>\n",
       "      <td>91286.97</td>\n",
       "      <td>0</td>\n",
       "      <td>0</td>\n",
       "      <td>1</td>\n",
       "      <td>0</td>\n",
       "      <td>0</td>\n",
       "      <td>0</td>\n",
       "    </tr>\n",
       "    <tr>\n",
       "      <th>101610</th>\n",
       "      <td>10</td>\n",
       "      <td>17289.01</td>\n",
       "      <td>0.00</td>\n",
       "      <td>0.0</td>\n",
       "      <td>0.00</td>\n",
       "      <td>0.00</td>\n",
       "      <td>0</td>\n",
       "      <td>0</td>\n",
       "      <td>0</td>\n",
       "      <td>0</td>\n",
       "      <td>1</td>\n",
       "      <td>0</td>\n",
       "    </tr>\n",
       "    <tr>\n",
       "      <th>101611</th>\n",
       "      <td>10</td>\n",
       "      <td>1347146.45</td>\n",
       "      <td>1605.00</td>\n",
       "      <td>0.0</td>\n",
       "      <td>541639.43</td>\n",
       "      <td>2186953.43</td>\n",
       "      <td>0</td>\n",
       "      <td>0</td>\n",
       "      <td>0</td>\n",
       "      <td>0</td>\n",
       "      <td>0</td>\n",
       "      <td>1</td>\n",
       "    </tr>\n",
       "    <tr>\n",
       "      <th>101612</th>\n",
       "      <td>10</td>\n",
       "      <td>469539.21</td>\n",
       "      <td>31133.00</td>\n",
       "      <td>0.0</td>\n",
       "      <td>0.00</td>\n",
       "      <td>469539.21</td>\n",
       "      <td>0</td>\n",
       "      <td>0</td>\n",
       "      <td>1</td>\n",
       "      <td>0</td>\n",
       "      <td>0</td>\n",
       "      <td>0</td>\n",
       "    </tr>\n",
       "  </tbody>\n",
       "</table>\n",
       "<p>220281 rows × 12 columns</p>\n",
       "</div>"
      ],
      "text/plain": [
       "        Tempo       Valor  SaldoInicialRemetente  SaldoFinalRemetente  \\\n",
       "2           1      181.00                 181.00                  0.0   \n",
       "3           1      181.00                 181.00                  0.0   \n",
       "251         1     2806.00                2806.00                  0.0   \n",
       "252         1     2806.00                2806.00                  0.0   \n",
       "680         1    20128.00               20128.00                  0.0   \n",
       "...       ...         ...                    ...                  ...   \n",
       "101608     10     7477.02                 785.00                  0.0   \n",
       "101609     10   282252.35              220339.29                  0.0   \n",
       "101610     10    17289.01                   0.00                  0.0   \n",
       "101611     10  1347146.45                1605.00                  0.0   \n",
       "101612     10   469539.21               31133.00                  0.0   \n",
       "\n",
       "        SaldoInicialDestinatario  SaldoFinalDestinatario  Fraude  \\\n",
       "2                           0.00                    0.00       1   \n",
       "3                       21182.00                    0.00       1   \n",
       "251                         0.00                    0.00       1   \n",
       "252                     26202.00                    0.00       1   \n",
       "680                         0.00                    0.00       1   \n",
       "...                          ...                     ...     ...   \n",
       "101608                      0.00                    0.00       0   \n",
       "101609                  95156.01                91286.97       0   \n",
       "101610                      0.00                    0.00       0   \n",
       "101611                 541639.43              2186953.43       0   \n",
       "101612                      0.00               469539.21       0   \n",
       "\n",
       "        Tipo_CASH_IN  Tipo_CASH_OUT  Tipo_DEBIT  Tipo_PAYMENT  Tipo_TRANSFER  \n",
       "2                  0              0           0             0              1  \n",
       "3                  0              1           0             0              0  \n",
       "251                0              0           0             0              1  \n",
       "252                0              1           0             0              0  \n",
       "680                0              0           0             0              1  \n",
       "...              ...            ...         ...           ...            ...  \n",
       "101608             0              0           0             1              0  \n",
       "101609             0              1           0             0              0  \n",
       "101610             0              0           0             1              0  \n",
       "101611             0              0           0             0              1  \n",
       "101612             0              1           0             0              0  \n",
       "\n",
       "[220281 rows x 12 columns]"
      ]
     },
     "execution_count": 94,
     "metadata": {},
     "output_type": "execute_result"
    }
   ],
   "source": [
    "dataset"
   ]
  },
  {
   "cell_type": "code",
   "execution_count": 95,
   "id": "8a6b5e4c",
   "metadata": {},
   "outputs": [],
   "source": [
    "from sklearn.tree import DecisionTreeClassifier"
   ]
  },
  {
   "cell_type": "code",
   "execution_count": 104,
   "id": "27130ef2",
   "metadata": {},
   "outputs": [],
   "source": [
    "dt = DecisionTreeClassifier(max_depth=5)"
   ]
  },
  {
   "cell_type": "code",
   "execution_count": 105,
   "id": "1f3d29e3",
   "metadata": {},
   "outputs": [
    {
     "data": {
      "text/plain": [
       "DecisionTreeClassifier(max_depth=5)"
      ]
     },
     "execution_count": 105,
     "metadata": {},
     "output_type": "execute_result"
    }
   ],
   "source": [
    "dt.fit(x_train, y_train)"
   ]
  },
  {
   "cell_type": "code",
   "execution_count": 106,
   "id": "fd48e278",
   "metadata": {},
   "outputs": [],
   "source": [
    "y_pred = dt.predict(x_test)"
   ]
  },
  {
   "cell_type": "code",
   "execution_count": 107,
   "id": "60b16ee9",
   "metadata": {},
   "outputs": [
    {
     "name": "stdout",
     "output_type": "stream",
     "text": [
      "Accuracy: 0.93\n",
      "Precision: 1.00\n",
      "Recall: 0.89\n",
      "F1: 0.94\n"
     ]
    }
   ],
   "source": [
    "avaliate_model(y_pred, y_test)"
   ]
  },
  {
   "cell_type": "code",
   "execution_count": 108,
   "id": "b5283b7c",
   "metadata": {},
   "outputs": [],
   "source": [
    "from sklearn.ensemble import RandomForestClassifier"
   ]
  },
  {
   "cell_type": "code",
   "execution_count": 121,
   "id": "f218a9bb",
   "metadata": {},
   "outputs": [],
   "source": [
    "rf = RandomForestClassifier(n_estimators=100, max_depth=2)"
   ]
  },
  {
   "cell_type": "code",
   "execution_count": 122,
   "id": "aaa34136",
   "metadata": {},
   "outputs": [
    {
     "data": {
      "text/plain": [
       "RandomForestClassifier(max_depth=2)"
      ]
     },
     "execution_count": 122,
     "metadata": {},
     "output_type": "execute_result"
    }
   ],
   "source": [
    "rf.fit(x_train, y_train)"
   ]
  },
  {
   "cell_type": "code",
   "execution_count": 123,
   "id": "06270fae",
   "metadata": {},
   "outputs": [],
   "source": [
    "y_pred = rf.predict(x_test)"
   ]
  },
  {
   "cell_type": "code",
   "execution_count": 124,
   "id": "ba389202",
   "metadata": {},
   "outputs": [
    {
     "name": "stdout",
     "output_type": "stream",
     "text": [
      "Accuracy: 0.91\n",
      "Precision: 0.93\n",
      "Recall: 0.90\n",
      "F1: 0.92\n"
     ]
    }
   ],
   "source": [
    "avaliate_model(y_pred, y_test)"
   ]
  },
  {
   "cell_type": "code",
   "execution_count": null,
   "id": "ad16c847",
   "metadata": {},
   "outputs": [],
   "source": []
  }
 ],
 "metadata": {
  "kernelspec": {
   "display_name": "Python 3 (ipykernel)",
   "language": "python",
   "name": "python3"
  },
  "language_info": {
   "codemirror_mode": {
    "name": "ipython",
    "version": 3
   },
   "file_extension": ".py",
   "mimetype": "text/x-python",
   "name": "python",
   "nbconvert_exporter": "python",
   "pygments_lexer": "ipython3",
   "version": "3.9.13"
  }
 },
 "nbformat": 4,
 "nbformat_minor": 5
}
