{
 "cells": [
  {
   "cell_type": "markdown",
   "id": "a14cc10e-ea12-479d-a14e-162fc4e77fdc",
   "metadata": {},
   "source": [
    "# Importando e tratando o dataset"
   ]
  },
  {
   "cell_type": "code",
   "execution_count": 1,
   "id": "082c9b35-c3e5-4107-a577-fe13282944bc",
   "metadata": {},
   "outputs": [],
   "source": [
    "import pandas as pd"
   ]
  },
  {
   "cell_type": "code",
   "execution_count": 4,
   "id": "6e0fcdb1-bb72-4e9e-8917-7875394c08a9",
   "metadata": {},
   "outputs": [
    {
     "data": {
      "text/html": [
       "<div>\n",
       "<style scoped>\n",
       "    .dataframe tbody tr th:only-of-type {\n",
       "        vertical-align: middle;\n",
       "    }\n",
       "\n",
       "    .dataframe tbody tr th {\n",
       "        vertical-align: top;\n",
       "    }\n",
       "\n",
       "    .dataframe thead th {\n",
       "        text-align: right;\n",
       "    }\n",
       "</style>\n",
       "<table border=\"1\" class=\"dataframe\">\n",
       "  <thead>\n",
       "    <tr style=\"text-align: right;\">\n",
       "      <th></th>\n",
       "      <th>preco</th>\n",
       "      <th>vendido</th>\n",
       "      <th>idade</th>\n",
       "      <th>km_por_ano</th>\n",
       "    </tr>\n",
       "  </thead>\n",
       "  <tbody>\n",
       "    <tr>\n",
       "      <th>0</th>\n",
       "      <td>30941.02</td>\n",
       "      <td>1</td>\n",
       "      <td>22</td>\n",
       "      <td>35085.22134</td>\n",
       "    </tr>\n",
       "    <tr>\n",
       "      <th>1</th>\n",
       "      <td>40557.96</td>\n",
       "      <td>1</td>\n",
       "      <td>24</td>\n",
       "      <td>12622.05362</td>\n",
       "    </tr>\n",
       "    <tr>\n",
       "      <th>2</th>\n",
       "      <td>89627.50</td>\n",
       "      <td>0</td>\n",
       "      <td>16</td>\n",
       "      <td>11440.79806</td>\n",
       "    </tr>\n",
       "    <tr>\n",
       "      <th>3</th>\n",
       "      <td>95276.14</td>\n",
       "      <td>0</td>\n",
       "      <td>7</td>\n",
       "      <td>43167.32682</td>\n",
       "    </tr>\n",
       "    <tr>\n",
       "      <th>4</th>\n",
       "      <td>117384.68</td>\n",
       "      <td>1</td>\n",
       "      <td>8</td>\n",
       "      <td>12770.11290</td>\n",
       "    </tr>\n",
       "  </tbody>\n",
       "</table>\n",
       "</div>"
      ],
      "text/plain": [
       "       preco  vendido  idade   km_por_ano\n",
       "0   30941.02        1     22  35085.22134\n",
       "1   40557.96        1     24  12622.05362\n",
       "2   89627.50        0     16  11440.79806\n",
       "3   95276.14        0      7  43167.32682\n",
       "4  117384.68        1      8  12770.11290"
      ]
     },
     "execution_count": 4,
     "metadata": {},
     "output_type": "execute_result"
    }
   ],
   "source": [
    "uri = 'https://gist.githubusercontent.com/guilhermesilveira/4d1d4a16ccbf6ea4e0a64a38a24ec884/raw/afd05cb0c796d18f3f5a6537053ded308ba94bf7/car-prices.csv'\n",
    "dados = pd.read_csv(uri)\n",
    "\n",
    "# Tratando nomes das colunas\n",
    "\n",
    "mapa = {\n",
    "    'mileage_per_year' : 'milhas_por_ano',\n",
    "    'model_year' : 'ano_do_modelo',\n",
    "    'price' : 'preco',\n",
    "    'sold': 'vendido'\n",
    "}\n",
    "\n",
    "dados = dados.rename(columns=mapa)\n",
    "\n",
    "# Traduzindo dados\n",
    "\n",
    "traduzir = {'yes' : 1, 'no' : 0}\n",
    "dados['vendido'] = dados['vendido'].map(traduzir)\n",
    "\n",
    "# Criando a coluna idade\n",
    "\n",
    "dados['idade'] = 2022 - dados['ano_do_modelo']\n",
    "\n",
    "# Criando a coluna km_por_ano\n",
    "\n",
    "dados['km_por_ano'] = dados['milhas_por_ano'] * 1.60934\n",
    "\n",
    "# Retirando colunas\n",
    "\n",
    "dados = dados.drop(columns=['Unnamed: 0', 'milhas_por_ano', 'ano_do_modelo'], axis = 1)\n",
    "\n",
    "x = dados[['preco', 'idade', 'km_por_ano']]\n",
    "y = dados['vendido']\n",
    "\n",
    "dados.head()"
   ]
  },
  {
   "cell_type": "markdown",
   "id": "1b8de582-ebad-4155-8e6f-4c9c8a6fe647",
   "metadata": {
    "tags": []
   },
   "source": [
    "# Modelos"
   ]
  },
  {
   "cell_type": "markdown",
   "id": "f8c8675d-d81a-48a5-a381-c43252d778fc",
   "metadata": {
    "tags": []
   },
   "source": [
    "## Modelo 1.0"
   ]
  },
  {
   "cell_type": "code",
   "execution_count": 24,
   "id": "c7796136-c29b-4250-8203-e94d8f5be642",
   "metadata": {},
   "outputs": [
    {
     "name": "stdout",
     "output_type": "stream",
     "text": [
      "Taxa de acuracia: 57.84%\n"
     ]
    },
    {
     "name": "stderr",
     "output_type": "stream",
     "text": [
      "/home/joel/anaconda3/lib/python3.7/site-packages/sklearn/svm/_base.py:1208: ConvergenceWarning: Liblinear failed to converge, increase the number of iterations.\n",
      "  ConvergenceWarning,\n"
     ]
    }
   ],
   "source": [
    "import numpy as np \n",
    "from sklearn.svm import LinearSVC\n",
    "from sklearn.metrics import accuracy_score\n",
    "from sklearn.model_selection import train_test_split\n",
    "\n",
    "np.random.seed(210)\n",
    "\n",
    "treino_x, teste_x, treino_y, teste_y = train_test_split(x, y, test_size=0.25, stratify=y)\n",
    "\n",
    "modelo = LinearSVC()\n",
    "modelo.fit(treino_x, treino_y)\n",
    "previsoes = modelo.predict(teste_x)\n",
    "acuracia = accuracy_score(teste_y, previsoes)\n",
    "\n",
    "print('Taxa de acuracia: {:.2f}%'.format(acuracia * 100)) "
   ]
  },
  {
   "cell_type": "markdown",
   "id": "94bb59ef-5d46-4e59-89b2-bbfd671fd261",
   "metadata": {
    "tags": []
   },
   "source": [
    "## Modelo 2.0 (Dummy)"
   ]
  },
  {
   "cell_type": "code",
   "execution_count": 21,
   "id": "e2bb01bd-c047-4c65-99b0-e13137314de7",
   "metadata": {},
   "outputs": [
    {
     "name": "stdout",
     "output_type": "stream",
     "text": [
      "Taxa de acuracia do dummy: 58.00%\n"
     ]
    }
   ],
   "source": [
    "from sklearn.dummy import DummyClassifier\n",
    "\n",
    "dummy = DummyClassifier()\n",
    "dummy.fit(treino_x, treino_y)\n",
    "previsoes = dummy.predict(teste_x)\n",
    "acuracia = accuracy_score(teste_y, previsoes)\n",
    "\n",
    "print('Taxa de acuracia do dummy: {:.2f}%'.format(acuracia * 100)) "
   ]
  },
  {
   "cell_type": "markdown",
   "id": "51cc869f-60fd-4a97-bbfc-5aec924b9784",
   "metadata": {},
   "source": [
    "## Modelo 3.0"
   ]
  },
  {
   "cell_type": "code",
   "execution_count": 22,
   "id": "57fbde7d-2665-43f1-9a37-1ce57de2724f",
   "metadata": {},
   "outputs": [
    {
     "name": "stdout",
     "output_type": "stream",
     "text": [
      "Treinaremos com 7500 elementos e testaremos com 2500 elementos\n",
      "A acurácia foi 77.48%\n"
     ]
    }
   ],
   "source": [
    "from sklearn.preprocessing import StandardScaler\n",
    "from sklearn.model_selection import train_test_split\n",
    "from sklearn.svm import SVC\n",
    "from sklearn.metrics import accuracy_score\n",
    "\n",
    "SEED = 5\n",
    "np.random.seed(SEED)\n",
    "raw_treino_x, raw_teste_x, treino_y, teste_y = train_test_split(x, y, test_size = 0.25,\n",
    "                                                         stratify = y)\n",
    "print(\"Treinaremos com %d elementos e testaremos com %d elementos\" % (len(treino_x), len(teste_x)))\n",
    "\n",
    "scaler = StandardScaler()\n",
    "scaler.fit(raw_treino_x)\n",
    "treino_x = scaler.transform(raw_treino_x)\n",
    "teste_x = scaler.transform(raw_teste_x)\n",
    "\n",
    "modelo = SVC()\n",
    "modelo.fit(treino_x, treino_y)\n",
    "previsoes = modelo.predict(teste_x)\n",
    "\n",
    "acuracia = accuracy_score(teste_y, previsoes) * 100\n",
    "print(\"A acurácia foi %.2f%%\" % acuracia)"
   ]
  }
 ],
 "metadata": {
  "kernelspec": {
   "display_name": "Python 3 (ipykernel)",
   "language": "python",
   "name": "python3"
  },
  "language_info": {
   "codemirror_mode": {
    "name": "ipython",
    "version": 3
   },
   "file_extension": ".py",
   "mimetype": "text/x-python",
   "name": "python",
   "nbconvert_exporter": "python",
   "pygments_lexer": "ipython3",
   "version": "3.7.6"
  }
 },
 "nbformat": 4,
 "nbformat_minor": 5
}
