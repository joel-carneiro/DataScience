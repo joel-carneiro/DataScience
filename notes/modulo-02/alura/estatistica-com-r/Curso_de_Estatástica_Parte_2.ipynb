{
 "cells": [
  {
   "cell_type": "markdown",
   "metadata": {
    "colab_type": "text",
    "id": "WvMflodMjQKe"
   },
   "source": [
    "***\n",
    "# <font color=green size=10>CURSO DE ESTATÍSTICA - PARTE 2</font>\n",
    "***"
   ]
  },
  {
   "cell_type": "markdown",
   "metadata": {
    "colab_type": "text",
    "id": "cVgsZ_E3jQKg"
   },
   "source": [
    "# <font color=green>1 CONHECENDO OS DADOS</font>\n",
    "***"
   ]
  },
  {
   "cell_type": "markdown",
   "metadata": {
    "colab_type": "text",
    "id": "TDjqYYNojQKh"
   },
   "source": [
    "## <font color=green>1.1 Dataset do projeto</font>\n",
    "***"
   ]
  },
  {
   "cell_type": "markdown",
   "metadata": {
    "colab_type": "text",
    "id": "iN1gIbaKjQKh"
   },
   "source": [
    "### Pesquisa Nacional por Amostra de Domicílios - 2015\n",
    "\n",
    "A **Pesquisa Nacional por Amostra de Domicílios - PNAD** investiga anualmente, de forma permanente, características gerais da população, de educação, trabalho, rendimento e habitação e outras, com periodicidade variável, de acordo com as necessidades de informação para o país, como as características sobre migração, fecundidade, nupcialidade, saúde, segurança alimentar, entre outros temas. O levantamento dessas estatísticas constitui, ao longo dos 49 anos de realização da pesquisa, um importante instrumento para formulação, validação e avaliação de políticas orientadas para o desenvolvimento socioeconômico e a melhoria das condições de vida no Brasil."
   ]
  },
  {
   "cell_type": "markdown",
   "metadata": {
    "colab_type": "text",
    "id": "U6V7br1RjQKi"
   },
   "source": [
    "### Fonte dos Dados\n",
    "\n",
    "https://ww2.ibge.gov.br/home/estatistica/populacao/trabalhoerendimento/pnad2015/microdados.shtm"
   ]
  },
  {
   "cell_type": "markdown",
   "metadata": {
    "colab_type": "text",
    "id": "r0Fe_qnzjQKj"
   },
   "source": [
    "### Variáveis utilizadas\n",
    "\n",
    "> ### Renda\n",
    "> ***\n",
    "\n",
    "Rendimento mensal do trabalho principal para pessoas de 10 anos ou mais de idade.\n",
    "\n",
    "> ### Idade\n",
    "> ***\n",
    "\n",
    "Idade do morador na data de referência em anos.\n",
    "\n",
    "> ### Altura (elaboração própria)\n",
    "> ***\n",
    "\n",
    "Altura do morador em metros.\n",
    "\n",
    "> ### UF\n",
    "> ***\n",
    "\n",
    "|Código|Descrição|\n",
    "|---|---|\n",
    "|11|Rondônia|\n",
    "|12|Acre|\n",
    "|13|Amazonas|\n",
    "|14|Roraima|\n",
    "|15|Pará|\n",
    "|16|Amapá|\n",
    "|17|Tocantins|\n",
    "|21|Maranhão|\n",
    "|22|Piauí|\n",
    "|23|Ceará|\n",
    "|24|Rio Grande do Norte|\n",
    "|25|Paraíba|\n",
    "|26|Pernambuco|\n",
    "|27|Alagoas|\n",
    "|28|Sergipe|\n",
    "|29|Bahia|\n",
    "|31|Minas Gerais|\n",
    "|32|Espírito Santo|\n",
    "|33|Rio de Janeiro|\n",
    "|35|São Paulo|\n",
    "|41|Paraná|\n",
    "|42|Santa Catarina|\n",
    "|43|Rio Grande do Sul|\n",
    "|50|Mato Grosso do Sul|\n",
    "|51|Mato Grosso|\n",
    "|52|Goiás|\n",
    "|53|Distrito Federal|\n",
    "\n",
    "> ### Sexo\t\n",
    "> ***\n",
    "\n",
    "|Código|Descrição|\n",
    "|---|---|\n",
    "|0|Masculino|\n",
    "|1|Feminino|\n",
    "\n",
    "> ### Anos de Estudo\n",
    "> ***\n",
    "\n",
    "|Código|Descrição|\n",
    "|---|---|\n",
    "|1|Sem instrução e menos de 1 ano|\n",
    "|2|1 ano|\n",
    "|3|2 anos|\n",
    "|4|3 anos|\n",
    "|5|4 anos|\n",
    "|6|5 anos|\n",
    "|7|6 anos|\n",
    "|8|7 anos|\n",
    "|9|8 anos|\n",
    "|10|9 anos|\n",
    "|11|10 anos|\n",
    "|12|11 anos|\n",
    "|13|12 anos|\n",
    "|14|13 anos|\n",
    "|15|14 anos|\n",
    "|16|15 anos ou mais|\n",
    "|17|Não determinados| \n",
    "||Não aplicável|\n",
    "\n",
    "> ### Cor\n",
    "> ***\n",
    "\n",
    "|Código|Descrição|\n",
    "|---|---|\n",
    "|0|Indígena|\n",
    "|2|Branca|\n",
    "|4|Preta|\n",
    "|6|Amarela|\n",
    "|8|Parda|\n",
    "|9|Sem declaração|"
   ]
  },
  {
   "cell_type": "markdown",
   "metadata": {
    "colab_type": "text",
    "id": "OK1IQH5cX7Gb"
   },
   "source": [
    "#### <font color='red'>Observação</font>\n",
    "***\n",
    "> Os seguintes tratamentos foram realizados nos dados originais:\n",
    "> 1. Foram eliminados os registros onde a **Renda** era inválida (999 999 999 999);\n",
    "> 2. Foram eliminados os registros onde a **Renda** era missing;\n",
    "> 3. Foram considerados somente os registros das **Pessoas de Referência** de cada domicílio (responsável pelo domicílio)."
   ]
  },
  {
   "cell_type": "markdown",
   "metadata": {},
   "source": [
    "### Configurações"
   ]
  },
  {
   "cell_type": "code",
   "execution_count": 1,
   "metadata": {},
   "outputs": [],
   "source": [
    "# Importando as funções do ggplot para o ambiente\n",
    "library(ggplot2)"
   ]
  },
  {
   "cell_type": "code",
   "execution_count": 2,
   "metadata": {},
   "outputs": [],
   "source": [
    "# Configurando as configurações dimensionais do gráfico\n",
    "options(repr.plot.width = 7, repr.plot.height = 4)"
   ]
  },
  {
   "cell_type": "markdown",
   "metadata": {
    "colab_type": "text",
    "id": "8Rw70V6ojQKk"
   },
   "source": [
    "### Importando dataset do projeto"
   ]
  },
  {
   "cell_type": "code",
   "execution_count": 3,
   "metadata": {
    "colab": {},
    "colab_type": "code",
    "id": "ufRZ7TLwjQKo"
   },
   "outputs": [],
   "source": [
    "# Importando dataset para um objeto dataframe\n",
    "dados <- read.csv('/home/joeldspy/Modelos/datasets/estatistica.csv')"
   ]
  },
  {
   "cell_type": "code",
   "execution_count": 4,
   "metadata": {
    "colab": {
     "base_uri": "https://localhost:8080/",
     "height": 204
    },
    "colab_type": "code",
    "id": "GsC_WhLFjQKq",
    "outputId": "36b6565f-bb67-47b7-ea64-8d2695c60e6b",
    "scrolled": true
   },
   "outputs": [
    {
     "data": {
      "text/html": [
       "<table class=\"dataframe\">\n",
       "<caption>A data.frame: 6 × 7</caption>\n",
       "<thead>\n",
       "\t<tr><th></th><th scope=col>UF</th><th scope=col>Sexo</th><th scope=col>Idade</th><th scope=col>Cor</th><th scope=col>Anos.de.Estudo</th><th scope=col>Renda</th><th scope=col>Altura</th></tr>\n",
       "\t<tr><th></th><th scope=col>&lt;int&gt;</th><th scope=col>&lt;int&gt;</th><th scope=col>&lt;int&gt;</th><th scope=col>&lt;int&gt;</th><th scope=col>&lt;int&gt;</th><th scope=col>&lt;int&gt;</th><th scope=col>&lt;dbl&gt;</th></tr>\n",
       "</thead>\n",
       "<tbody>\n",
       "\t<tr><th scope=row>1</th><td>11</td><td>0</td><td>23</td><td>8</td><td>12</td><td> 800</td><td>1.603808</td></tr>\n",
       "\t<tr><th scope=row>2</th><td>11</td><td>1</td><td>23</td><td>2</td><td>12</td><td>1150</td><td>1.739790</td></tr>\n",
       "\t<tr><th scope=row>3</th><td>11</td><td>1</td><td>35</td><td>8</td><td>15</td><td> 880</td><td>1.760444</td></tr>\n",
       "\t<tr><th scope=row>4</th><td>11</td><td>0</td><td>46</td><td>2</td><td> 6</td><td>3500</td><td>1.783158</td></tr>\n",
       "\t<tr><th scope=row>5</th><td>11</td><td>1</td><td>47</td><td>8</td><td> 9</td><td> 150</td><td>1.690631</td></tr>\n",
       "\t<tr><th scope=row>6</th><td>11</td><td>1</td><td>34</td><td>8</td><td>12</td><td> 790</td><td>1.637906</td></tr>\n",
       "</tbody>\n",
       "</table>\n"
      ],
      "text/latex": [
       "A data.frame: 6 × 7\n",
       "\\begin{tabular}{r|lllllll}\n",
       "  & UF & Sexo & Idade & Cor & Anos.de.Estudo & Renda & Altura\\\\\n",
       "  & <int> & <int> & <int> & <int> & <int> & <int> & <dbl>\\\\\n",
       "\\hline\n",
       "\t1 & 11 & 0 & 23 & 8 & 12 &  800 & 1.603808\\\\\n",
       "\t2 & 11 & 1 & 23 & 2 & 12 & 1150 & 1.739790\\\\\n",
       "\t3 & 11 & 1 & 35 & 8 & 15 &  880 & 1.760444\\\\\n",
       "\t4 & 11 & 0 & 46 & 2 &  6 & 3500 & 1.783158\\\\\n",
       "\t5 & 11 & 1 & 47 & 8 &  9 &  150 & 1.690631\\\\\n",
       "\t6 & 11 & 1 & 34 & 8 & 12 &  790 & 1.637906\\\\\n",
       "\\end{tabular}\n"
      ],
      "text/markdown": [
       "\n",
       "A data.frame: 6 × 7\n",
       "\n",
       "| <!--/--> | UF &lt;int&gt; | Sexo &lt;int&gt; | Idade &lt;int&gt; | Cor &lt;int&gt; | Anos.de.Estudo &lt;int&gt; | Renda &lt;int&gt; | Altura &lt;dbl&gt; |\n",
       "|---|---|---|---|---|---|---|---|\n",
       "| 1 | 11 | 0 | 23 | 8 | 12 |  800 | 1.603808 |\n",
       "| 2 | 11 | 1 | 23 | 2 | 12 | 1150 | 1.739790 |\n",
       "| 3 | 11 | 1 | 35 | 8 | 15 |  880 | 1.760444 |\n",
       "| 4 | 11 | 0 | 46 | 2 |  6 | 3500 | 1.783158 |\n",
       "| 5 | 11 | 1 | 47 | 8 |  9 |  150 | 1.690631 |\n",
       "| 6 | 11 | 1 | 34 | 8 | 12 |  790 | 1.637906 |\n",
       "\n"
      ],
      "text/plain": [
       "  UF Sexo Idade Cor Anos.de.Estudo Renda Altura  \n",
       "1 11 0    23    8   12              800  1.603808\n",
       "2 11 1    23    2   12             1150  1.739790\n",
       "3 11 1    35    8   15              880  1.760444\n",
       "4 11 0    46    2    6             3500  1.783158\n",
       "5 11 1    47    8    9              150  1.690631\n",
       "6 11 1    34    8   12              790  1.637906"
      ]
     },
     "metadata": {},
     "output_type": "display_data"
    }
   ],
   "source": [
    "# Visualizando os 6 primeiros registros do nosso dataset\n",
    "head(dados)"
   ]
  },
  {
   "cell_type": "markdown",
   "metadata": {
    "colab_type": "text",
    "id": "-z3bLQIUG3Hv"
   },
   "source": [
    "---"
   ]
  },
  {
   "cell_type": "markdown",
   "metadata": {
    "colab_type": "text",
    "id": "tL9xVLwTX07g"
   },
   "source": [
    "# <font color=green>2 DISTRIBUIÇÕES DE PROBABILIDADE</font>\n",
    "***"
   ]
  },
  {
   "cell_type": "markdown",
   "metadata": {
    "colab_type": "text",
    "id": "3nlvC-5qG3Bj"
   },
   "source": [
    "## <font color=red>Problema</font>\n",
    "***"
   ]
  },
  {
   "cell_type": "markdown",
   "metadata": {
    "colab_type": "text",
    "id": "8CclIz9oG3Bk"
   },
   "source": [
    "Em um concurso para preencher uma vaga de cientista de dados temos um total de **10 questões** de múltipla escolha com **3 alternativas possíveis** em cada questão. **Cada questão tem o mesmo valor.** Suponha que um candidato resolva se aventurar sem ter estudado absolutamente nada. Ele resolve fazer a prova de olhos vendados e chutar todas as resposta. Assumindo que a prova **vale 10 pontos e a nota de corte seja 5**, obtenha a probabilidade deste candidato **acertar 5 questões** e também a probabilidade deste candidato **passar para a próxima etapa do processo seletivo**."
   ]
  },
  {
   "cell_type": "markdown",
   "metadata": {
    "colab_type": "text",
    "id": "KJxd2KFSYLML"
   },
   "source": [
    "## <font color=green>2.1 Distribuição Binomial</font>\n",
    "***"
   ]
  },
  {
   "cell_type": "markdown",
   "metadata": {
    "colab_type": "text",
    "id": "mcbl3KbnG3Bq"
   },
   "source": [
    "Um evento **binomial** é caracterizado pela possibilidade de ocorrência de apenas duas categorias. Estas categorias somadas representam todo o espaço amostral, sendo também mutuamente excludentes, ou seja, a ocorrência de uma implica na não ocorrência da outra.\n",
    "\n",
    "Em análises estatísticas o uso mais comum da distribuição binomial é na solução de problemas que envolvem situações de **sucesso** e **fracasso**."
   ]
  },
  {
   "cell_type": "markdown",
   "metadata": {
    "colab_type": "text",
    "id": "iLoYAuJ9G3Bs"
   },
   "source": [
    "# $$P(k)=\\binom{n}{k} p^k q^{n-k}$$\n",
    "\n",
    "Onde:\n",
    "\n",
    "$p$ = probabilidade de sucesso\n",
    "\n",
    "$q = (1 - p)$ = probabilidade de fracasso\n",
    "\n",
    "$n$ = número de eventos estudados\n",
    "\n",
    "$k$ = número de eventos desejados que tenham sucesso"
   ]
  },
  {
   "cell_type": "markdown",
   "metadata": {
    "colab_type": "text",
    "id": "PxEgWbFdG3Bt"
   },
   "source": [
    "### Experimento Binomial"
   ]
  },
  {
   "cell_type": "markdown",
   "metadata": {
    "colab_type": "text",
    "id": "eqQK3Ny-G3Bv"
   },
   "source": [
    "1. Realização de $n$ ensaios idênticos.\n",
    "\n",
    "2. Os ensaios são independentes.\n",
    "\n",
    "3. Somente dois resultados são possíveis, exemplo: Verdadeiro ou falso; Cara ou coroa; Sucesso ou fracasso.\n",
    "\n",
    "4. A probabilidade de sucesso é representada por $p$ e a de fracasso por $1-p=q$. Estas probabilidades não se modificam de ensaio para ensaio."
   ]
  },
  {
   "cell_type": "markdown",
   "metadata": {
    "colab_type": "text",
    "id": "mT77udQ0G3Bx"
   },
   "source": [
    "### Média da distribuição binomial"
   ]
  },
  {
   "cell_type": "markdown",
   "metadata": {
    "colab_type": "text",
    "id": "EGiuemgqG3By"
   },
   "source": [
    "O valor esperado ou a média da distribuição binomial é igual ao número de experimentos realizados multiplicado pela chance de ocorrência do evento.\n",
    "\n",
    "# $$\\mu = n \\times p$$"
   ]
  },
  {
   "cell_type": "markdown",
   "metadata": {
    "colab_type": "text",
    "id": "1fDLi96OG3Bz"
   },
   "source": [
    "### Desvio padrão da distribuição binomial"
   ]
  },
  {
   "cell_type": "markdown",
   "metadata": {
    "colab_type": "text",
    "id": "EZojizotG3B1"
   },
   "source": [
    "O desvio padrão é o produto entre o número de experimentos, a probabilidade de sucesso e a probabilidade de fracasso.\n",
    "\n",
    "# $$\\sigma = \\sqrt{n \\times p \\times q}$$"
   ]
  },
  {
   "cell_type": "markdown",
   "metadata": {
    "colab_type": "text",
    "id": "MxxuJNSwG3B7"
   },
   "source": [
    "### Combinações\n",
    "\n",
    "Número de combinações de $n$ objetos, tomados $k$ a cada vez, é:\n",
    "\n",
    "# $$C_{k}^{n} = \\binom{n}{k} = \\frac{n!}{k!(n - k)!}$$\n",
    "\n",
    "Onde\n",
    "\n",
    "## $$n! = n\\times(n-1)\\times(n-2)\\times...\\times(2)\\times(1)$$\n",
    "## $$k! = k\\times(k-1)\\times(k-2)\\times...\\times(2)\\times(1)$$\n",
    "\n",
    "Por definição\n",
    "\n",
    "## $$0! = 1$$\n",
    "\n",
    "#### <font color=red>Documentações:\n",
    "\n",
    "- [**choose**](https://www.rdocumentation.org/packages/base/versions/3.6.1/topics/Special)"
   ]
  },
  {
   "cell_type": "markdown",
   "metadata": {
    "colab_type": "text",
    "id": "Udz87Pq3G3B8"
   },
   "source": [
    "## <font color='blue'>Exemplo: Mega Sena</font>"
   ]
  },
  {
   "cell_type": "markdown",
   "metadata": {
    "colab_type": "text",
    "id": "h1Mo9AxyG3B8"
   },
   "source": [
    "Em um volante de loteria da Mega Sena temos um total de **60 números** para escolher onde a aposta mínima é de **seis números**. Você que é curiosa(o) resolve calcular a probabilidade de se acertar na Mega Sena com apenas **um jogo**. Para isso precisamos saber quantas **combinações de seis números podem ser formadas com os 60 números disponíveis**.\n",
    "\n",
    "### $$C_{6}^{60} = \\binom{60}{6} = \\frac{60!}{6!(60 - 6)!}$$"
   ]
  },
  {
   "cell_type": "code",
   "execution_count": 5,
   "metadata": {},
   "outputs": [
    {
     "data": {
      "text/html": [
       "'Há 50063860 diferentes jogos possíveis na mega-sena'"
      ],
      "text/latex": [
       "'Há 50063860 diferentes jogos possíveis na mega-sena'"
      ],
      "text/markdown": [
       "'Há 50063860 diferentes jogos possíveis na mega-sena'"
      ],
      "text/plain": [
       "[1] \"Há 50063860 diferentes jogos possíveis na mega-sena\""
      ]
     },
     "metadata": {},
     "output_type": "display_data"
    }
   ],
   "source": [
    "n = 60\n",
    "x = 6\n",
    "\n",
    "# Fazendo combinação de 60, 6 a 6\n",
    "sprintf('Há %d diferentes jogos possíveis na mega-sena', choose(60, 6))"
   ]
  },
  {
   "cell_type": "code",
   "execution_count": 8,
   "metadata": {
    "colab": {
     "base_uri": "https://localhost:8080/",
     "height": 34
    },
    "colab_type": "code",
    "id": "LpioeTSXG3CB",
    "outputId": "d1e0ab82-be84-423c-e206-a9f8e1437df4"
   },
   "outputs": [
    {
     "data": {
      "text/html": [
       "1.99744885831816e-06"
      ],
      "text/latex": [
       "1.99744885831816e-06"
      ],
      "text/markdown": [
       "1.99744885831816e-06"
      ],
      "text/plain": [
       "[1] 1.997449e-06"
      ]
     },
     "metadata": {},
     "output_type": "display_data"
    },
    {
     "data": {
      "text/html": [
       "2e-06"
      ],
      "text/latex": [
       "2e-06"
      ],
      "text/markdown": [
       "2e-06"
      ],
      "text/plain": [
       "[1] 2e-06"
      ]
     },
     "metadata": {},
     "output_type": "display_data"
    }
   ],
   "source": [
    "# A probabilidade de se ganhar na mega-sena com apenas 1 jogo\n",
    "1 / choose(60, 6) * 100\n",
    "\n",
    "0.000002"
   ]
  },
  {
   "cell_type": "markdown",
   "metadata": {
    "colab_type": "text",
    "id": "t1rA1yJpG3CF"
   },
   "source": [
    "## <font color='blue'>Exemplo: Concurso para cientista de dados</font>"
   ]
  },
  {
   "cell_type": "markdown",
   "metadata": {
    "colab_type": "text",
    "id": "K0DPDD37G3CG"
   },
   "source": [
    "Em um concurso para preencher uma vaga de cientista de dados temos um total de **10 questões** de múltipla escolha com **3 alternativas possíveis** em cada questão. **Cada questão tem o mesmo valor.** Suponha que um candidato resolva se aventurar sem ter estudado absolutamente nada. Ele resolve fazer a prova de olhos vendados e chutar todas as resposta. Assumindo que a prova **vale 10 pontos e a nota de corte seja 5**, obtenha a probabilidade deste candidato **acertar 5 questões** e também a probabilidade deste candidato **passar para a próxima etapa do processo seletivo**."
   ]
  },
  {
   "cell_type": "markdown",
   "metadata": {
    "colab_type": "text",
    "id": "sf-NMPfxG3CH"
   },
   "source": [
    "### Qual o número de ensaios ($n$)?"
   ]
  },
  {
   "cell_type": "code",
   "execution_count": 9,
   "metadata": {
    "colab": {
     "base_uri": "https://localhost:8080/",
     "height": 34
    },
    "colab_type": "code",
    "id": "WmnjMTnYG3CH",
    "outputId": "859f37e5-992a-4ccf-fbfb-4e2cf52c4373"
   },
   "outputs": [
    {
     "data": {
      "text/html": [
       "10"
      ],
      "text/latex": [
       "10"
      ],
      "text/markdown": [
       "10"
      ],
      "text/plain": [
       "[1] 10"
      ]
     },
     "metadata": {},
     "output_type": "display_data"
    }
   ],
   "source": [
    "n <- 10\n",
    "n"
   ]
  },
  {
   "cell_type": "markdown",
   "metadata": {
    "colab_type": "text",
    "id": "1USf9Ro8G3CK"
   },
   "source": [
    "### Os ensaios são independentes?"
   ]
  },
  {
   "cell_type": "markdown",
   "metadata": {
    "colab_type": "text",
    "id": "82xf2XIkG3CM"
   },
   "source": [
    "Sim. A opção escolhida em uma questão não influencia em nada a opção escolhida em outra questão."
   ]
  },
  {
   "cell_type": "markdown",
   "metadata": {
    "colab_type": "text",
    "id": "7jN0H5e7G3CN"
   },
   "source": [
    "### Somente dois resultados são possíveis em cada ensaio?"
   ]
  },
  {
   "cell_type": "markdown",
   "metadata": {
    "colab_type": "text",
    "id": "gGxcY7K8G3CO"
   },
   "source": [
    "Sim. O candidato tem duas possibilidades, ACERTA ou ERRAR uma questão. "
   ]
  },
  {
   "cell_type": "markdown",
   "metadata": {
    "colab_type": "text",
    "id": "MZw2LDQjG3CR"
   },
   "source": [
    "### Qual a probabilidade de sucesso ($p$)?"
   ]
  },
  {
   "cell_type": "code",
   "execution_count": 10,
   "metadata": {
    "colab": {
     "base_uri": "https://localhost:8080/",
     "height": 34
    },
    "colab_type": "code",
    "id": "AazGDtt0G3CS",
    "outputId": "ccb9e561-0413-43c8-c462-ebea4b6c1097"
   },
   "outputs": [
    {
     "data": {
      "text/html": [
       "0.333333333333333"
      ],
      "text/latex": [
       "0.333333333333333"
      ],
      "text/markdown": [
       "0.333333333333333"
      ],
      "text/plain": [
       "[1] 0.3333333"
      ]
     },
     "metadata": {},
     "output_type": "display_data"
    }
   ],
   "source": [
    "numero_de_alternativas_por_questao <- 3\n",
    "p <- 1 / numero_de_alternativas_por_questao\n",
    "p"
   ]
  },
  {
   "cell_type": "markdown",
   "metadata": {
    "colab_type": "text",
    "id": "KPCw41OlG3CX"
   },
   "source": [
    "### Qual a probabilidade de fracasso ($q$)?"
   ]
  },
  {
   "cell_type": "code",
   "execution_count": 11,
   "metadata": {
    "colab": {
     "base_uri": "https://localhost:8080/",
     "height": 34
    },
    "colab_type": "code",
    "id": "FRhmjCnpG3CZ",
    "outputId": "f521f041-ecf4-4c4c-b696-da7b949d657a"
   },
   "outputs": [
    {
     "data": {
      "text/html": [
       "0.666666666666667"
      ],
      "text/latex": [
       "0.666666666666667"
      ],
      "text/markdown": [
       "0.666666666666667"
      ],
      "text/plain": [
       "[1] 0.6666667"
      ]
     },
     "metadata": {},
     "output_type": "display_data"
    }
   ],
   "source": [
    "q <- 1 - p\n",
    "q"
   ]
  },
  {
   "cell_type": "code",
   "execution_count": 12,
   "metadata": {},
   "outputs": [
    {
     "data": {
      "text/html": [
       "1"
      ],
      "text/latex": [
       "1"
      ],
      "text/markdown": [
       "1"
      ],
      "text/plain": [
       "[1] 1"
      ]
     },
     "metadata": {},
     "output_type": "display_data"
    }
   ],
   "source": [
    "p + q"
   ]
  },
  {
   "cell_type": "markdown",
   "metadata": {
    "colab_type": "text",
    "id": "W2htpmzaG3Ce"
   },
   "source": [
    "### Qual o total de eventos que se deseja obter sucesso ($k$)?"
   ]
  },
  {
   "cell_type": "code",
   "execution_count": 14,
   "metadata": {
    "colab": {
     "base_uri": "https://localhost:8080/",
     "height": 34
    },
    "colab_type": "code",
    "id": "MmHpiIIuG3Cj",
    "outputId": "6975cb4f-5cd3-4234-f7b0-b5d01ceb0430"
   },
   "outputs": [
    {
     "data": {
      "text/html": [
       "5"
      ],
      "text/latex": [
       "5"
      ],
      "text/markdown": [
       "5"
      ],
      "text/plain": [
       "[1] 5"
      ]
     },
     "metadata": {},
     "output_type": "display_data"
    }
   ],
   "source": [
    "k <- 5\n",
    "k"
   ]
  },
  {
   "cell_type": "markdown",
   "metadata": {
    "colab_type": "text",
    "id": "r8TZ6DSuG3Cm"
   },
   "source": [
    "### Solução 1"
   ]
  },
  {
   "cell_type": "code",
   "execution_count": 15,
   "metadata": {
    "scrolled": true
   },
   "outputs": [
    {
     "data": {
      "text/html": [
       "0.136564548087182"
      ],
      "text/latex": [
       "0.136564548087182"
      ],
      "text/markdown": [
       "0.136564548087182"
      ],
      "text/plain": [
       "[1] 0.1365645"
      ]
     },
     "metadata": {},
     "output_type": "display_data"
    }
   ],
   "source": [
    "probabilidade <- choose(n, k) * (p ^ k) * (q ^ (n - k))\n",
    "probabilidade"
   ]
  },
  {
   "cell_type": "markdown",
   "metadata": {
    "colab_type": "text",
    "id": "hvj2sYaSG3Ct"
   },
   "source": [
    "### Solução 2\n",
    "\n",
    "#### <font color=red>Documentações:\n",
    "\n",
    "- [**dbinom**](https://www.rdocumentation.org/packages/stats/versions/3.6.1/topics/Binomial)"
   ]
  },
  {
   "cell_type": "code",
   "execution_count": null,
   "metadata": {},
   "outputs": [],
   "source": [
    "dbinom(x = k, size = n, prob = p)"
   ]
  },
  {
   "cell_type": "markdown",
   "metadata": {},
   "source": [
    "### Obter a probabilidade do candidato passar"
   ]
  },
  {
   "cell_type": "markdown",
   "metadata": {},
   "source": [
    "### $$P(acertar \\geq 5) = P(5) + P(6) + P(7) + P(8) + P(9) + P(10)$$"
   ]
  },
  {
   "cell_type": "code",
   "execution_count": 18,
   "metadata": {},
   "outputs": [
    {
     "data": {
      "text/html": [
       "0.213128080069095"
      ],
      "text/latex": [
       "0.213128080069095"
      ],
      "text/markdown": [
       "0.213128080069095"
      ],
      "text/plain": [
       "[1] 0.2131281"
      ]
     },
     "metadata": {},
     "output_type": "display_data"
    }
   ],
   "source": [
    "dbinom(x = 5, size = n, prob = p) +\n",
    "dbinom(x = 6, size = n, prob = p) +\n",
    "dbinom(x = 7, size = n, prob = p) +\n",
    "dbinom(x = 8, size = n, prob = p) +\n",
    "dbinom(x = 9, size = n, prob = p) +\n",
    "dbinom(x = 10, size = n, prob = p)"
   ]
  },
  {
   "cell_type": "code",
   "execution_count": 19,
   "metadata": {},
   "outputs": [
    {
     "data": {
      "text/html": [
       "<style>\n",
       ".list-inline {list-style: none; margin:0; padding: 0}\n",
       ".list-inline>li {display: inline-block}\n",
       ".list-inline>li:not(:last-child)::after {content: \"\\00b7\"; padding: 0 .5ex}\n",
       "</style>\n",
       "<ol class=list-inline><li>0.136564548087182</li><li>0.0569018950363257</li><li>0.0162576842960931</li><li>0.00304831580551744</li><li>0.000338701756168605</li><li>1.69350878084303e-05</li></ol>\n"
      ],
      "text/latex": [
       "\\begin{enumerate*}\n",
       "\\item 0.136564548087182\n",
       "\\item 0.0569018950363257\n",
       "\\item 0.0162576842960931\n",
       "\\item 0.00304831580551744\n",
       "\\item 0.000338701756168605\n",
       "\\item 1.69350878084303e-05\n",
       "\\end{enumerate*}\n"
      ],
      "text/markdown": [
       "1. 0.136564548087182\n",
       "2. 0.0569018950363257\n",
       "3. 0.0162576842960931\n",
       "4. 0.00304831580551744\n",
       "5. 0.000338701756168605\n",
       "6. 1.69350878084303e-05\n",
       "\n",
       "\n"
      ],
      "text/plain": [
       "[1] 1.365645e-01 5.690190e-02 1.625768e-02 3.048316e-03 3.387018e-04\n",
       "[6] 1.693509e-05"
      ]
     },
     "metadata": {},
     "output_type": "display_data"
    }
   ],
   "source": [
    "dbinom(x = c(5, 6, 7, 8, 9, 10), size = n, prob = p)"
   ]
  },
  {
   "cell_type": "code",
   "execution_count": 20,
   "metadata": {
    "scrolled": true
   },
   "outputs": [
    {
     "data": {
      "text/html": [
       "0.213128080069095"
      ],
      "text/latex": [
       "0.213128080069095"
      ],
      "text/markdown": [
       "0.213128080069095"
      ],
      "text/plain": [
       "[1] 0.2131281"
      ]
     },
     "metadata": {},
     "output_type": "display_data"
    }
   ],
   "source": [
    "sum(dbinom(x = c(5, 6, 7, 8, 9, 10), size = n, prob = p))"
   ]
  },
  {
   "cell_type": "code",
   "execution_count": 21,
   "metadata": {
    "scrolled": true
   },
   "outputs": [
    {
     "data": {
      "text/html": [
       "0.213128080069095"
      ],
      "text/latex": [
       "0.213128080069095"
      ],
      "text/markdown": [
       "0.213128080069095"
      ],
      "text/plain": [
       "[1] 0.2131281"
      ]
     },
     "metadata": {},
     "output_type": "display_data"
    }
   ],
   "source": [
    "sum(dbinom(x = c(5:10), size = n, prob = p))"
   ]
  },
  {
   "cell_type": "code",
   "execution_count": 22,
   "metadata": {},
   "outputs": [
    {
     "data": {
      "text/html": [
       "0.213128080069095"
      ],
      "text/latex": [
       "0.213128080069095"
      ],
      "text/markdown": [
       "0.213128080069095"
      ],
      "text/plain": [
       "[1] 0.2131281"
      ]
     },
     "metadata": {},
     "output_type": "display_data"
    }
   ],
   "source": [
    "pbinom(q = 4, size = n, prob = p, lower.tail = FALSE)"
   ]
  },
  {
   "cell_type": "markdown",
   "metadata": {
    "colab_type": "text",
    "id": "7hAZ4XkMG3Cx"
   },
   "source": [
    "## <font color='blue'>Exemplo: Gincana</font>"
   ]
  },
  {
   "cell_type": "markdown",
   "metadata": {
    "colab_type": "text",
    "id": "l42alRhOG3Cy"
   },
   "source": [
    "Uma cidade do interior realiza todos os anos uma gincana para arrecadar fundos para o hospital da cidade. Na última gincana se sabe que a **proporção de participantes do sexo feminino foi de 60%**. **O total de equipes, com 12 integrantes, inscritas na gincana deste ano é de 30**. Com as informações acima responda: Quantas equipes deverão ser formadas por **8 mulheres**?"
   ]
  },
  {
   "cell_type": "markdown",
   "metadata": {
    "colab_type": "text",
    "id": "dqBGf6d7G3C0"
   },
   "source": [
    "### Solução"
   ]
  },
  {
   "cell_type": "code",
   "execution_count": 23,
   "metadata": {
    "colab": {
     "base_uri": "https://localhost:8080/",
     "height": 34
    },
    "colab_type": "code",
    "id": "Xw9b6ch3G3C1",
    "outputId": "b4bb8b11-5113-4cc9-bac1-59e9acaf67e6"
   },
   "outputs": [
    {
     "data": {
      "text/html": [
       "0.6"
      ],
      "text/latex": [
       "0.6"
      ],
      "text/markdown": [
       "0.6"
      ],
      "text/plain": [
       "[1] 0.6"
      ]
     },
     "metadata": {},
     "output_type": "display_data"
    }
   ],
   "source": [
    "p <- 0.6\n",
    "p"
   ]
  },
  {
   "cell_type": "code",
   "execution_count": 24,
   "metadata": {
    "colab": {
     "base_uri": "https://localhost:8080/",
     "height": 34
    },
    "colab_type": "code",
    "id": "R3-RaxP5G3C3",
    "outputId": "180b09ba-666e-47c9-b476-224c71fdd5c0"
   },
   "outputs": [
    {
     "data": {
      "text/html": [
       "12"
      ],
      "text/latex": [
       "12"
      ],
      "text/markdown": [
       "12"
      ],
      "text/plain": [
       "[1] 12"
      ]
     },
     "metadata": {},
     "output_type": "display_data"
    }
   ],
   "source": [
    "n <- 12\n",
    "n"
   ]
  },
  {
   "cell_type": "code",
   "execution_count": 25,
   "metadata": {
    "colab": {
     "base_uri": "https://localhost:8080/",
     "height": 34
    },
    "colab_type": "code",
    "id": "otBHHyD0G3C6",
    "outputId": "c3bdd1ab-763a-43db-ec2e-fb890aa78e3f"
   },
   "outputs": [
    {
     "data": {
      "text/html": [
       "8"
      ],
      "text/latex": [
       "8"
      ],
      "text/markdown": [
       "8"
      ],
      "text/plain": [
       "[1] 8"
      ]
     },
     "metadata": {},
     "output_type": "display_data"
    }
   ],
   "source": [
    "k <- 8\n",
    "k"
   ]
  },
  {
   "cell_type": "code",
   "execution_count": 26,
   "metadata": {},
   "outputs": [
    {
     "data": {
      "text/html": [
       "0.21284093952"
      ],
      "text/latex": [
       "0.21284093952"
      ],
      "text/markdown": [
       "0.21284093952"
      ],
      "text/plain": [
       "[1] 0.2128409"
      ]
     },
     "metadata": {},
     "output_type": "display_data"
    }
   ],
   "source": [
    "probabilidade <- dbinom(x = k, size = n, prob = p)\n",
    "probabilidade"
   ]
  },
  {
   "cell_type": "code",
   "execution_count": 27,
   "metadata": {
    "colab": {
     "base_uri": "https://localhost:8080/",
     "height": 34
    },
    "colab_type": "code",
    "id": "Tg53uGL4G3DA",
    "outputId": "cf68634d-68fd-41c5-a9a1-98c5ead8b548"
   },
   "outputs": [
    {
     "data": {
      "text/html": [
       "6"
      ],
      "text/latex": [
       "6"
      ],
      "text/markdown": [
       "6"
      ],
      "text/plain": [
       "[1] 6"
      ]
     },
     "metadata": {},
     "output_type": "display_data"
    }
   ],
   "source": [
    "equipes <- 30 * probabilidade\n",
    "round(equipes)"
   ]
  },
  {
   "cell_type": "markdown",
   "metadata": {
    "colab_type": "text",
    "id": "49TiCQRvG3DC"
   },
   "source": [
    "---"
   ]
  },
  {
   "cell_type": "markdown",
   "metadata": {
    "colab_type": "text",
    "id": "X6bYonAZG3DE"
   },
   "source": [
    "## <font color=red>Problema</font>\n",
    "***"
   ]
  },
  {
   "cell_type": "markdown",
   "metadata": {
    "colab_type": "text",
    "id": "Ccx-Bc9oG3DH"
   },
   "source": [
    "Um restaurante recebe em média **20 pedidos por hora**. Qual a chance de que, em determinada hora escolhida ao acaso, o restaurante receba **15 pedidos**?"
   ]
  },
  {
   "cell_type": "markdown",
   "metadata": {
    "colab_type": "text",
    "id": "k-uV7bgsmand"
   },
   "source": [
    "## <font color=green>2.2 Distribuição Poisson</font>\n",
    "***"
   ]
  },
  {
   "cell_type": "markdown",
   "metadata": {
    "colab_type": "text",
    "id": "H0jPtJICG3DM"
   },
   "source": [
    "É empregada para descrever o número de ocorrências em um intervalo de tempo ou espaço específico. Os eventos são caracterizados pela possibilidade de contagem dos sucessos, mas a não possibilidade de contagem dos fracassos.\n",
    "\n",
    "Como exemplos de processos onde podemos aplicar a distribuição de Poisson temos a determinação do número de clientes que entram em uma loja em determinada hora, o número de carros que chegam em um drive-thru de uma lanchonete na hora do almoço, a determinação do número de acidentes registrados em um trecho de estrada etc."
   ]
  },
  {
   "cell_type": "markdown",
   "metadata": {
    "colab_type": "text",
    "id": "O_XqwANJG3DN"
   },
   "source": [
    "# $$P(k) = \\frac{e^{-\\mu}(\\mu)^k}{k!}$$\n",
    "\n",
    "Onde:\n",
    "\n",
    "$e$ = constante cujo valor aproximado é 2,718281828459045\n",
    "\n",
    "$\\mu$ = representa o número médio de ocorrências em um determinado intervalo de tempo ou espaço\n",
    "\n",
    "$k$ = número de sucessos no intervalo desejado"
   ]
  },
  {
   "cell_type": "markdown",
   "metadata": {
    "colab_type": "text",
    "id": "FqquU8wOG3DO"
   },
   "source": [
    "### Experimento Poisson"
   ]
  },
  {
   "cell_type": "markdown",
   "metadata": {
    "colab_type": "text",
    "id": "ir2odEW3G3DO"
   },
   "source": [
    "1. A probabilidade de uma ocorrência é a mesma em todo o intervalo observado.\n",
    "\n",
    "2. O número de ocorrências em determinado intervalo é independente do número de ocorrências em outros intervalos.\n",
    "\n",
    "3. A probabilidade de uma ocorrência é a mesma em intervalos de igual comprimento."
   ]
  },
  {
   "cell_type": "markdown",
   "metadata": {
    "colab_type": "text",
    "id": "2INlWMa0G3DP"
   },
   "source": [
    "### Média da distribuição Poisson"
   ]
  },
  {
   "cell_type": "markdown",
   "metadata": {
    "colab_type": "text",
    "id": "xywTsniCG3DP"
   },
   "source": [
    "# $$\\mu$$"
   ]
  },
  {
   "cell_type": "markdown",
   "metadata": {
    "colab_type": "text",
    "id": "7-Lh-LpfG3DQ"
   },
   "source": [
    "### Desvio padrão da distribuição Poisson"
   ]
  },
  {
   "cell_type": "markdown",
   "metadata": {
    "colab_type": "text",
    "id": "61uStWUsG3DQ"
   },
   "source": [
    "# $$\\sigma = \\sqrt{\\mu}$$"
   ]
  },
  {
   "cell_type": "markdown",
   "metadata": {
    "colab_type": "text",
    "id": "vniBmzIMG3DR"
   },
   "source": [
    "#### <font color=red>Documentações:\n",
    "\n",
    "- [**exp**](https://www.rdocumentation.org/packages/base/versions/3.6.1/topics/log)\n",
    "- [**factorial**](https://www.rdocumentation.org/packages/base/versions/3.6.1/topics/Special)"
   ]
  },
  {
   "cell_type": "code",
   "execution_count": 28,
   "metadata": {},
   "outputs": [
    {
     "data": {
      "text/html": [
       "2.71828182845905"
      ],
      "text/latex": [
       "2.71828182845905"
      ],
      "text/markdown": [
       "2.71828182845905"
      ],
      "text/plain": [
       "[1] 2.718282"
      ]
     },
     "metadata": {},
     "output_type": "display_data"
    }
   ],
   "source": [
    "e <- exp(1)\n",
    "e"
   ]
  },
  {
   "cell_type": "markdown",
   "metadata": {
    "colab_type": "text",
    "id": "RKQWuVgMG3DW"
   },
   "source": [
    "## <font color='blue'>Exemplo: Delivery</font>"
   ]
  },
  {
   "cell_type": "markdown",
   "metadata": {
    "colab_type": "text",
    "id": "ZKc__49bG3DX"
   },
   "source": [
    "Um restaurante recebe em média **20 pedidos por hora**. Qual a chance de que, em determinada hora escolhida ao acaso, o restaurante receba **15 pedidos**?"
   ]
  },
  {
   "cell_type": "markdown",
   "metadata": {
    "colab_type": "text",
    "id": "W-MJ4XBkG3DX"
   },
   "source": [
    "### Qual o número médio de ocorrências por hora ($\\mu$)?"
   ]
  },
  {
   "cell_type": "code",
   "execution_count": 29,
   "metadata": {
    "colab": {
     "base_uri": "https://localhost:8080/",
     "height": 34
    },
    "colab_type": "code",
    "id": "2fVfJxdSG3DY",
    "outputId": "5f93f4cb-eef7-459d-836c-eb825cf3f1d5"
   },
   "outputs": [
    {
     "data": {
      "text/html": [
       "20"
      ],
      "text/latex": [
       "20"
      ],
      "text/markdown": [
       "20"
      ],
      "text/plain": [
       "[1] 20"
      ]
     },
     "metadata": {},
     "output_type": "display_data"
    }
   ],
   "source": [
    "media <- 20\n",
    "media"
   ]
  },
  {
   "cell_type": "markdown",
   "metadata": {
    "colab_type": "text",
    "id": "3SagRtPvG3Da"
   },
   "source": [
    "### Qual o número de ocorrências que queremos obter no período ($k$)?"
   ]
  },
  {
   "cell_type": "code",
   "execution_count": 30,
   "metadata": {
    "colab": {
     "base_uri": "https://localhost:8080/",
     "height": 34
    },
    "colab_type": "code",
    "id": "yXB3QhWyG3Da",
    "outputId": "70e860fe-353f-43ba-98e9-0976282de023"
   },
   "outputs": [
    {
     "data": {
      "text/html": [
       "15"
      ],
      "text/latex": [
       "15"
      ],
      "text/markdown": [
       "15"
      ],
      "text/plain": [
       "[1] 15"
      ]
     },
     "metadata": {},
     "output_type": "display_data"
    }
   ],
   "source": [
    "k <- 15\n",
    "k"
   ]
  },
  {
   "cell_type": "markdown",
   "metadata": {
    "colab_type": "text",
    "id": "3wFh3lFCG3De"
   },
   "source": [
    "### Solução 1"
   ]
  },
  {
   "cell_type": "code",
   "execution_count": 31,
   "metadata": {},
   "outputs": [
    {
     "data": {
      "text/html": [
       "5.16488535317584"
      ],
      "text/latex": [
       "5.16488535317584"
      ],
      "text/markdown": [
       "5.16488535317584"
      ],
      "text/plain": [
       "[1] 5.164885"
      ]
     },
     "metadata": {},
     "output_type": "display_data"
    }
   ],
   "source": [
    "probabilidade <- (e ^ (-media) * (media ^ k)) / factorial(k)\n",
    "probabilidade * 100"
   ]
  },
  {
   "cell_type": "markdown",
   "metadata": {
    "colab_type": "text",
    "id": "yAyXh0euG3Dk"
   },
   "source": [
    "### Solução 2\n",
    "\n",
    "#### <font color=red>Documentações:\n",
    "\n",
    "- [**Poisson**](https://www.rdocumentation.org/packages/stats/versions/3.6.1/topics/Poisson)"
   ]
  },
  {
   "cell_type": "code",
   "execution_count": 32,
   "metadata": {},
   "outputs": [
    {
     "data": {
      "text/html": [
       "0.0516488535317583"
      ],
      "text/latex": [
       "0.0516488535317583"
      ],
      "text/markdown": [
       "0.0516488535317583"
      ],
      "text/plain": [
       "[1] 0.05164885"
      ]
     },
     "metadata": {},
     "output_type": "display_data"
    }
   ],
   "source": [
    "probabilidade <- dpois(x = k, lambda = media)\n",
    "probabilidade"
   ]
  },
  {
   "cell_type": "markdown",
   "metadata": {
    "colab_type": "text",
    "id": "g3ng8tQFG3Do"
   },
   "source": [
    "---"
   ]
  },
  {
   "cell_type": "markdown",
   "metadata": {
    "colab_type": "text",
    "id": "tVPUT9kEG3Dp"
   },
   "source": [
    "## <font color=red>Problema</font>\n",
    "***"
   ]
  },
  {
   "cell_type": "markdown",
   "metadata": {
    "colab_type": "text",
    "id": "j7zVDN0kG3Dq"
   },
   "source": [
    "Em um estudo sobre as alturas dos moradores de uma cidade verificou-se que o conjunto de dados segue uma **distribuição aproximadamente normal**, com **média 1,70** e **desvio padrão de 0,1**. Com estas informações obtenha o seguinte conjunto de probabilidades:\n",
    "\n",
    "> **A.** probabilidade de uma pessoa, selecionada ao acaso, ter menos de 1,80 metros.\n",
    ">\n",
    "> **B.** probabilidade de uma pessoa, selecionada ao acaso, ter entre 1,60 metros e 1,80 metros.    \n",
    ">\n",
    "> **C.** probabilidade de uma pessoa, selecionada ao acaso, ter mais de 1,90 metros."
   ]
  },
  {
   "cell_type": "markdown",
   "metadata": {
    "colab_type": "text",
    "id": "AowcVaKqpvf2"
   },
   "source": [
    "## <font color=green>2.3 Distribuição Normal</font>\n",
    "***"
   ]
  },
  {
   "cell_type": "markdown",
   "metadata": {
    "colab_type": "text",
    "id": "YOBD21hGG3Dw"
   },
   "source": [
    "A distribuição normal é uma das mais utilizadas em estatística. É uma distribuição contínua, onde a distribuição de frequências de uma variável quantitativa apresenta a forma de sino e é simétrica em relação a sua média."
   ]
  },
  {
   "cell_type": "markdown",
   "metadata": {
    "colab_type": "text",
    "id": "kbPy2ORqqKJA"
   },
   "source": [
    "![Normal](https://caelum-online-public.s3.amazonaws.com/1178-estatistica-parte2/01/img001.png)"
   ]
  },
  {
   "cell_type": "markdown",
   "metadata": {
    "colab_type": "text",
    "id": "J3eKESHTG3Dx"
   },
   "source": [
    "### Características importantes"
   ]
  },
  {
   "cell_type": "markdown",
   "metadata": {
    "colab_type": "text",
    "id": "z8GxAzWZG3Dx"
   },
   "source": [
    "1. É simétrica em torno da média;\n",
    "\n",
    "2. A área sob a curva corresponde à proporção 1 ou 100%;\n",
    "\n",
    "3. As medidas de tendência central (média, mediana e moda) apresentam o mesmo valor;\n",
    "\n",
    "4. Os extremos da curva tendem ao infinito em ambas as direções e, teoricamente, jamais tocam o eixo $x$;\n",
    "\n",
    "5. O desvio padrão define o achatamento e largura da distribuição. Curvas mais largas e mais achatadas apresentam valores maiores de desvio padrão;\n",
    "\n",
    "6. A distribuição é definida por sua média e desvio padrão;\n",
    "\n",
    "7. A probabilidade sempre será igual à área sob a curva, delimitada pelos limites inferior e superior."
   ]
  },
  {
   "cell_type": "markdown",
   "metadata": {
    "colab_type": "text",
    "id": "hoWLlOiwG3Dy"
   },
   "source": [
    "# $$f(x) = \\frac{1}{\\sqrt{2\\pi\\sigma}}e^{-\\frac{1}{2}\\left(\\frac{x-\\mu}{\\sigma}\\right)^2}$$\n",
    "\n",
    "Onde:\n",
    "\n",
    "$x$ = variável normal\n",
    "\n",
    "$\\sigma$ = desvio padrão\n",
    "\n",
    "$\\mu$ = média"
   ]
  },
  {
   "cell_type": "markdown",
   "metadata": {
    "colab_type": "text",
    "id": "8n03Z0VlG3Dz"
   },
   "source": [
    "A probabilidade é obtida a partir da área sob a curva, delimitada pelos limites inferior e superior especificados. Um exemplo pode ser visto na figura abaixo."
   ]
  },
  {
   "cell_type": "markdown",
   "metadata": {
    "colab_type": "text",
    "id": "X1UgmFoxG3Dz"
   },
   "source": [
    "![alt text](https://caelum-online-public.s3.amazonaws.com/1178-estatistica-parte2/01/img002.png)\n"
   ]
  },
  {
   "cell_type": "markdown",
   "metadata": {
    "colab_type": "text",
    "id": "rtKiApHLG3D0"
   },
   "source": [
    "Para obter a área acima basta calcular a integral da função para os intervalos determinados. Conforme equação abaixo:"
   ]
  },
  {
   "cell_type": "markdown",
   "metadata": {
    "colab_type": "text",
    "id": "0r_9CbSOG3D0"
   },
   "source": [
    "# $$P(L_i<x<L_s) = \\int_{L_i}^{L_s}\\frac{1}{\\sqrt{2\\pi\\sigma}}e^{-\\frac{1}{2}\\left(\\frac{x-\\mu}{\\sigma}\\right)^2}$$\n",
    "\n",
    "Onde:\n",
    "\n",
    "$x$ = variável normal\n",
    "\n",
    "$\\sigma$ = desvio padrão\n",
    "\n",
    "$\\mu$ = média\n",
    "\n",
    "$L_i$ = limite inferior\n",
    "\n",
    "$L_s$ = limite superior"
   ]
  },
  {
   "cell_type": "markdown",
   "metadata": {
    "colab_type": "text",
    "id": "qP-Ye-leG3D1"
   },
   "source": [
    "### Tabelas padronizadas"
   ]
  },
  {
   "cell_type": "markdown",
   "metadata": {
    "colab_type": "text",
    "id": "Z1VnLK11G3D1"
   },
   "source": [
    "As tabelas padronizadas foram criadas para facilitar a obtenção dos valores das áreas sob a curva normal e eliminar a necessidade de solucionar integrais definidas.\n",
    "\n",
    "Para consultarmos os valores em uma tabela padronizada basta transformarmos nossa variável em uma variável padronizada $Z$.\n",
    "\n",
    "Esta variável $Z$ representa o afastamento em desvios padrões de um valor da variável original em relação à média."
   ]
  },
  {
   "cell_type": "markdown",
   "metadata": {
    "colab_type": "text",
    "id": "HJcdgdsgG3D2"
   },
   "source": [
    "# $$Z = \\frac{x-\\mu}{\\sigma}$$\n",
    "\n",
    "Onde:\n",
    "\n",
    "$x$ = variável normal com média $\\mu$ e desvio padrão $\\sigma$\n",
    "\n",
    "$\\sigma$ = desvio padrão\n",
    "\n",
    "$\\mu$ = média"
   ]
  },
  {
   "cell_type": "markdown",
   "metadata": {},
   "source": [
    "#### <font color=red>Documentações:\n",
    "\n",
    "- [**Normal**](https://www.rdocumentation.org/packages/stats/versions/3.6.1/topics/Normal)"
   ]
  },
  {
   "cell_type": "markdown",
   "metadata": {
    "colab_type": "text",
    "id": "hUrVKJH3G3D2"
   },
   "source": [
    "### Construindo tabela normal padronizada"
   ]
  },
  {
   "cell_type": "code",
   "execution_count": 33,
   "metadata": {},
   "outputs": [
    {
     "data": {
      "text/html": [
       "<table class=\"dataframe\">\n",
       "<caption>A matrix: 40 × 10 of type dbl</caption>\n",
       "<thead>\n",
       "\t<tr><th></th><th scope=col>0.00</th><th scope=col>0.01</th><th scope=col>0.02</th><th scope=col>0.03</th><th scope=col>0.04</th><th scope=col>0.05</th><th scope=col>0.06</th><th scope=col>0.07</th><th scope=col>0.08</th><th scope=col>0.09</th></tr>\n",
       "</thead>\n",
       "<tbody>\n",
       "\t<tr><th scope=row>0.00</th><td>0.5000000</td><td>0.5039894</td><td>0.5079783</td><td>0.5119665</td><td>0.5159534</td><td>0.5199388</td><td>0.5239222</td><td>0.5279032</td><td>0.5318814</td><td>0.5358564</td></tr>\n",
       "\t<tr><th scope=row>0.10</th><td>0.5398278</td><td>0.5437953</td><td>0.5477584</td><td>0.5517168</td><td>0.5556700</td><td>0.5596177</td><td>0.5635595</td><td>0.5674949</td><td>0.5714237</td><td>0.5753454</td></tr>\n",
       "\t<tr><th scope=row>0.20</th><td>0.5792597</td><td>0.5831662</td><td>0.5870644</td><td>0.5909541</td><td>0.5948349</td><td>0.5987063</td><td>0.6025681</td><td>0.6064199</td><td>0.6102612</td><td>0.6140919</td></tr>\n",
       "\t<tr><th scope=row>0.30</th><td>0.6179114</td><td>0.6217195</td><td>0.6255158</td><td>0.6293000</td><td>0.6330717</td><td>0.6368307</td><td>0.6405764</td><td>0.6443088</td><td>0.6480273</td><td>0.6517317</td></tr>\n",
       "\t<tr><th scope=row>0.40</th><td>0.6554217</td><td>0.6590970</td><td>0.6627573</td><td>0.6664022</td><td>0.6700314</td><td>0.6736448</td><td>0.6772419</td><td>0.6808225</td><td>0.6843863</td><td>0.6879331</td></tr>\n",
       "\t<tr><th scope=row>0.50</th><td>0.6914625</td><td>0.6949743</td><td>0.6984682</td><td>0.7019440</td><td>0.7054015</td><td>0.7088403</td><td>0.7122603</td><td>0.7156612</td><td>0.7190427</td><td>0.7224047</td></tr>\n",
       "\t<tr><th scope=row>0.60</th><td>0.7257469</td><td>0.7290691</td><td>0.7323711</td><td>0.7356527</td><td>0.7389137</td><td>0.7421539</td><td>0.7453731</td><td>0.7485711</td><td>0.7517478</td><td>0.7549029</td></tr>\n",
       "\t<tr><th scope=row>0.70</th><td>0.7580363</td><td>0.7611479</td><td>0.7642375</td><td>0.7673049</td><td>0.7703500</td><td>0.7733726</td><td>0.7763727</td><td>0.7793501</td><td>0.7823046</td><td>0.7852361</td></tr>\n",
       "\t<tr><th scope=row>0.80</th><td>0.7881446</td><td>0.7910299</td><td>0.7938919</td><td>0.7967306</td><td>0.7995458</td><td>0.8023375</td><td>0.8051055</td><td>0.8078498</td><td>0.8105703</td><td>0.8132671</td></tr>\n",
       "\t<tr><th scope=row>0.90</th><td>0.8159399</td><td>0.8185887</td><td>0.8212136</td><td>0.8238145</td><td>0.8263912</td><td>0.8289439</td><td>0.8314724</td><td>0.8339768</td><td>0.8364569</td><td>0.8389129</td></tr>\n",
       "\t<tr><th scope=row>1.00</th><td>0.8413447</td><td>0.8437524</td><td>0.8461358</td><td>0.8484950</td><td>0.8508300</td><td>0.8531409</td><td>0.8554277</td><td>0.8576903</td><td>0.8599289</td><td>0.8621434</td></tr>\n",
       "\t<tr><th scope=row>1.10</th><td>0.8643339</td><td>0.8665005</td><td>0.8686431</td><td>0.8707619</td><td>0.8728568</td><td>0.8749281</td><td>0.8769756</td><td>0.8789995</td><td>0.8809999</td><td>0.8829768</td></tr>\n",
       "\t<tr><th scope=row>1.20</th><td>0.8849303</td><td>0.8868606</td><td>0.8887676</td><td>0.8906514</td><td>0.8925123</td><td>0.8943502</td><td>0.8961653</td><td>0.8979577</td><td>0.8997274</td><td>0.9014747</td></tr>\n",
       "\t<tr><th scope=row>1.30</th><td>0.9031995</td><td>0.9049021</td><td>0.9065825</td><td>0.9082409</td><td>0.9098773</td><td>0.9114920</td><td>0.9130850</td><td>0.9146565</td><td>0.9162067</td><td>0.9177356</td></tr>\n",
       "\t<tr><th scope=row>1.40</th><td>0.9192433</td><td>0.9207302</td><td>0.9221962</td><td>0.9236415</td><td>0.9250663</td><td>0.9264707</td><td>0.9278550</td><td>0.9292191</td><td>0.9305634</td><td>0.9318879</td></tr>\n",
       "\t<tr><th scope=row>1.50</th><td>0.9331928</td><td>0.9344783</td><td>0.9357445</td><td>0.9369916</td><td>0.9382198</td><td>0.9394292</td><td>0.9406201</td><td>0.9417924</td><td>0.9429466</td><td>0.9440826</td></tr>\n",
       "\t<tr><th scope=row>1.60</th><td>0.9452007</td><td>0.9463011</td><td>0.9473839</td><td>0.9484493</td><td>0.9494974</td><td>0.9505285</td><td>0.9515428</td><td>0.9525403</td><td>0.9535213</td><td>0.9544860</td></tr>\n",
       "\t<tr><th scope=row>1.70</th><td>0.9554345</td><td>0.9563671</td><td>0.9572838</td><td>0.9581849</td><td>0.9590705</td><td>0.9599408</td><td>0.9607961</td><td>0.9616364</td><td>0.9624620</td><td>0.9632730</td></tr>\n",
       "\t<tr><th scope=row>1.80</th><td>0.9640697</td><td>0.9648521</td><td>0.9656205</td><td>0.9663750</td><td>0.9671159</td><td>0.9678432</td><td>0.9685572</td><td>0.9692581</td><td>0.9699460</td><td>0.9706210</td></tr>\n",
       "\t<tr><th scope=row>1.90</th><td>0.9712834</td><td>0.9719334</td><td>0.9725711</td><td>0.9731966</td><td>0.9738102</td><td>0.9744119</td><td>0.9750021</td><td>0.9755808</td><td>0.9761482</td><td>0.9767045</td></tr>\n",
       "\t<tr><th scope=row>2.00</th><td>0.9772499</td><td>0.9777844</td><td>0.9783083</td><td>0.9788217</td><td>0.9793248</td><td>0.9798178</td><td>0.9803007</td><td>0.9807738</td><td>0.9812372</td><td>0.9816911</td></tr>\n",
       "\t<tr><th scope=row>2.10</th><td>0.9821356</td><td>0.9825708</td><td>0.9829970</td><td>0.9834142</td><td>0.9838226</td><td>0.9842224</td><td>0.9846137</td><td>0.9849966</td><td>0.9853713</td><td>0.9857379</td></tr>\n",
       "\t<tr><th scope=row>2.20</th><td>0.9860966</td><td>0.9864474</td><td>0.9867906</td><td>0.9871263</td><td>0.9874545</td><td>0.9877755</td><td>0.9880894</td><td>0.9883962</td><td>0.9886962</td><td>0.9889893</td></tr>\n",
       "\t<tr><th scope=row>2.30</th><td>0.9892759</td><td>0.9895559</td><td>0.9898296</td><td>0.9900969</td><td>0.9903581</td><td>0.9906133</td><td>0.9908625</td><td>0.9911060</td><td>0.9913437</td><td>0.9915758</td></tr>\n",
       "\t<tr><th scope=row>2.40</th><td>0.9918025</td><td>0.9920237</td><td>0.9922397</td><td>0.9924506</td><td>0.9926564</td><td>0.9928572</td><td>0.9930531</td><td>0.9932443</td><td>0.9934309</td><td>0.9936128</td></tr>\n",
       "\t<tr><th scope=row>2.50</th><td>0.9937903</td><td>0.9939634</td><td>0.9941323</td><td>0.9942969</td><td>0.9944574</td><td>0.9946139</td><td>0.9947664</td><td>0.9949151</td><td>0.9950600</td><td>0.9952012</td></tr>\n",
       "\t<tr><th scope=row>2.60</th><td>0.9953388</td><td>0.9954729</td><td>0.9956035</td><td>0.9957308</td><td>0.9958547</td><td>0.9959754</td><td>0.9960930</td><td>0.9962074</td><td>0.9963189</td><td>0.9964274</td></tr>\n",
       "\t<tr><th scope=row>2.70</th><td>0.9965330</td><td>0.9966358</td><td>0.9967359</td><td>0.9968333</td><td>0.9969280</td><td>0.9970202</td><td>0.9971099</td><td>0.9971972</td><td>0.9972821</td><td>0.9973646</td></tr>\n",
       "\t<tr><th scope=row>2.80</th><td>0.9974449</td><td>0.9975229</td><td>0.9975988</td><td>0.9976726</td><td>0.9977443</td><td>0.9978140</td><td>0.9978818</td><td>0.9979476</td><td>0.9980116</td><td>0.9980738</td></tr>\n",
       "\t<tr><th scope=row>2.90</th><td>0.9981342</td><td>0.9981929</td><td>0.9982498</td><td>0.9983052</td><td>0.9983589</td><td>0.9984111</td><td>0.9984618</td><td>0.9985110</td><td>0.9985588</td><td>0.9986051</td></tr>\n",
       "\t<tr><th scope=row>3.00</th><td>0.9986501</td><td>0.9986938</td><td>0.9987361</td><td>0.9987772</td><td>0.9988171</td><td>0.9988558</td><td>0.9988933</td><td>0.9989297</td><td>0.9989650</td><td>0.9989992</td></tr>\n",
       "\t<tr><th scope=row>3.10</th><td>0.9990324</td><td>0.9990646</td><td>0.9990957</td><td>0.9991260</td><td>0.9991553</td><td>0.9991836</td><td>0.9992112</td><td>0.9992378</td><td>0.9992636</td><td>0.9992886</td></tr>\n",
       "\t<tr><th scope=row>3.20</th><td>0.9993129</td><td>0.9993363</td><td>0.9993590</td><td>0.9993810</td><td>0.9994024</td><td>0.9994230</td><td>0.9994429</td><td>0.9994623</td><td>0.9994810</td><td>0.9994991</td></tr>\n",
       "\t<tr><th scope=row>3.30</th><td>0.9995166</td><td>0.9995335</td><td>0.9995499</td><td>0.9995658</td><td>0.9995811</td><td>0.9995959</td><td>0.9996103</td><td>0.9996242</td><td>0.9996376</td><td>0.9996505</td></tr>\n",
       "\t<tr><th scope=row>3.40</th><td>0.9996631</td><td>0.9996752</td><td>0.9996869</td><td>0.9996982</td><td>0.9997091</td><td>0.9997197</td><td>0.9997299</td><td>0.9997398</td><td>0.9997493</td><td>0.9997585</td></tr>\n",
       "\t<tr><th scope=row>3.50</th><td>0.9997674</td><td>0.9997759</td><td>0.9997842</td><td>0.9997922</td><td>0.9997999</td><td>0.9998074</td><td>0.9998146</td><td>0.9998215</td><td>0.9998282</td><td>0.9998347</td></tr>\n",
       "\t<tr><th scope=row>3.60</th><td>0.9998409</td><td>0.9998469</td><td>0.9998527</td><td>0.9998583</td><td>0.9998637</td><td>0.9998689</td><td>0.9998739</td><td>0.9998787</td><td>0.9998834</td><td>0.9998879</td></tr>\n",
       "\t<tr><th scope=row>3.70</th><td>0.9998922</td><td>0.9998964</td><td>0.9999004</td><td>0.9999043</td><td>0.9999080</td><td>0.9999116</td><td>0.9999150</td><td>0.9999184</td><td>0.9999216</td><td>0.9999247</td></tr>\n",
       "\t<tr><th scope=row>3.80</th><td>0.9999277</td><td>0.9999305</td><td>0.9999333</td><td>0.9999359</td><td>0.9999385</td><td>0.9999409</td><td>0.9999433</td><td>0.9999456</td><td>0.9999478</td><td>0.9999499</td></tr>\n",
       "\t<tr><th scope=row>3.90</th><td>0.9999519</td><td>0.9999539</td><td>0.9999557</td><td>0.9999575</td><td>0.9999593</td><td>0.9999609</td><td>0.9999625</td><td>0.9999641</td><td>0.9999655</td><td>0.9999670</td></tr>\n",
       "</tbody>\n",
       "</table>\n"
      ],
      "text/latex": [
       "A matrix: 40 × 10 of type dbl\n",
       "\\begin{tabular}{r|llllllllll}\n",
       "  & 0.00 & 0.01 & 0.02 & 0.03 & 0.04 & 0.05 & 0.06 & 0.07 & 0.08 & 0.09\\\\\n",
       "\\hline\n",
       "\t0.00 & 0.5000000 & 0.5039894 & 0.5079783 & 0.5119665 & 0.5159534 & 0.5199388 & 0.5239222 & 0.5279032 & 0.5318814 & 0.5358564\\\\\n",
       "\t0.10 & 0.5398278 & 0.5437953 & 0.5477584 & 0.5517168 & 0.5556700 & 0.5596177 & 0.5635595 & 0.5674949 & 0.5714237 & 0.5753454\\\\\n",
       "\t0.20 & 0.5792597 & 0.5831662 & 0.5870644 & 0.5909541 & 0.5948349 & 0.5987063 & 0.6025681 & 0.6064199 & 0.6102612 & 0.6140919\\\\\n",
       "\t0.30 & 0.6179114 & 0.6217195 & 0.6255158 & 0.6293000 & 0.6330717 & 0.6368307 & 0.6405764 & 0.6443088 & 0.6480273 & 0.6517317\\\\\n",
       "\t0.40 & 0.6554217 & 0.6590970 & 0.6627573 & 0.6664022 & 0.6700314 & 0.6736448 & 0.6772419 & 0.6808225 & 0.6843863 & 0.6879331\\\\\n",
       "\t0.50 & 0.6914625 & 0.6949743 & 0.6984682 & 0.7019440 & 0.7054015 & 0.7088403 & 0.7122603 & 0.7156612 & 0.7190427 & 0.7224047\\\\\n",
       "\t0.60 & 0.7257469 & 0.7290691 & 0.7323711 & 0.7356527 & 0.7389137 & 0.7421539 & 0.7453731 & 0.7485711 & 0.7517478 & 0.7549029\\\\\n",
       "\t0.70 & 0.7580363 & 0.7611479 & 0.7642375 & 0.7673049 & 0.7703500 & 0.7733726 & 0.7763727 & 0.7793501 & 0.7823046 & 0.7852361\\\\\n",
       "\t0.80 & 0.7881446 & 0.7910299 & 0.7938919 & 0.7967306 & 0.7995458 & 0.8023375 & 0.8051055 & 0.8078498 & 0.8105703 & 0.8132671\\\\\n",
       "\t0.90 & 0.8159399 & 0.8185887 & 0.8212136 & 0.8238145 & 0.8263912 & 0.8289439 & 0.8314724 & 0.8339768 & 0.8364569 & 0.8389129\\\\\n",
       "\t1.00 & 0.8413447 & 0.8437524 & 0.8461358 & 0.8484950 & 0.8508300 & 0.8531409 & 0.8554277 & 0.8576903 & 0.8599289 & 0.8621434\\\\\n",
       "\t1.10 & 0.8643339 & 0.8665005 & 0.8686431 & 0.8707619 & 0.8728568 & 0.8749281 & 0.8769756 & 0.8789995 & 0.8809999 & 0.8829768\\\\\n",
       "\t1.20 & 0.8849303 & 0.8868606 & 0.8887676 & 0.8906514 & 0.8925123 & 0.8943502 & 0.8961653 & 0.8979577 & 0.8997274 & 0.9014747\\\\\n",
       "\t1.30 & 0.9031995 & 0.9049021 & 0.9065825 & 0.9082409 & 0.9098773 & 0.9114920 & 0.9130850 & 0.9146565 & 0.9162067 & 0.9177356\\\\\n",
       "\t1.40 & 0.9192433 & 0.9207302 & 0.9221962 & 0.9236415 & 0.9250663 & 0.9264707 & 0.9278550 & 0.9292191 & 0.9305634 & 0.9318879\\\\\n",
       "\t1.50 & 0.9331928 & 0.9344783 & 0.9357445 & 0.9369916 & 0.9382198 & 0.9394292 & 0.9406201 & 0.9417924 & 0.9429466 & 0.9440826\\\\\n",
       "\t1.60 & 0.9452007 & 0.9463011 & 0.9473839 & 0.9484493 & 0.9494974 & 0.9505285 & 0.9515428 & 0.9525403 & 0.9535213 & 0.9544860\\\\\n",
       "\t1.70 & 0.9554345 & 0.9563671 & 0.9572838 & 0.9581849 & 0.9590705 & 0.9599408 & 0.9607961 & 0.9616364 & 0.9624620 & 0.9632730\\\\\n",
       "\t1.80 & 0.9640697 & 0.9648521 & 0.9656205 & 0.9663750 & 0.9671159 & 0.9678432 & 0.9685572 & 0.9692581 & 0.9699460 & 0.9706210\\\\\n",
       "\t1.90 & 0.9712834 & 0.9719334 & 0.9725711 & 0.9731966 & 0.9738102 & 0.9744119 & 0.9750021 & 0.9755808 & 0.9761482 & 0.9767045\\\\\n",
       "\t2.00 & 0.9772499 & 0.9777844 & 0.9783083 & 0.9788217 & 0.9793248 & 0.9798178 & 0.9803007 & 0.9807738 & 0.9812372 & 0.9816911\\\\\n",
       "\t2.10 & 0.9821356 & 0.9825708 & 0.9829970 & 0.9834142 & 0.9838226 & 0.9842224 & 0.9846137 & 0.9849966 & 0.9853713 & 0.9857379\\\\\n",
       "\t2.20 & 0.9860966 & 0.9864474 & 0.9867906 & 0.9871263 & 0.9874545 & 0.9877755 & 0.9880894 & 0.9883962 & 0.9886962 & 0.9889893\\\\\n",
       "\t2.30 & 0.9892759 & 0.9895559 & 0.9898296 & 0.9900969 & 0.9903581 & 0.9906133 & 0.9908625 & 0.9911060 & 0.9913437 & 0.9915758\\\\\n",
       "\t2.40 & 0.9918025 & 0.9920237 & 0.9922397 & 0.9924506 & 0.9926564 & 0.9928572 & 0.9930531 & 0.9932443 & 0.9934309 & 0.9936128\\\\\n",
       "\t2.50 & 0.9937903 & 0.9939634 & 0.9941323 & 0.9942969 & 0.9944574 & 0.9946139 & 0.9947664 & 0.9949151 & 0.9950600 & 0.9952012\\\\\n",
       "\t2.60 & 0.9953388 & 0.9954729 & 0.9956035 & 0.9957308 & 0.9958547 & 0.9959754 & 0.9960930 & 0.9962074 & 0.9963189 & 0.9964274\\\\\n",
       "\t2.70 & 0.9965330 & 0.9966358 & 0.9967359 & 0.9968333 & 0.9969280 & 0.9970202 & 0.9971099 & 0.9971972 & 0.9972821 & 0.9973646\\\\\n",
       "\t2.80 & 0.9974449 & 0.9975229 & 0.9975988 & 0.9976726 & 0.9977443 & 0.9978140 & 0.9978818 & 0.9979476 & 0.9980116 & 0.9980738\\\\\n",
       "\t2.90 & 0.9981342 & 0.9981929 & 0.9982498 & 0.9983052 & 0.9983589 & 0.9984111 & 0.9984618 & 0.9985110 & 0.9985588 & 0.9986051\\\\\n",
       "\t3.00 & 0.9986501 & 0.9986938 & 0.9987361 & 0.9987772 & 0.9988171 & 0.9988558 & 0.9988933 & 0.9989297 & 0.9989650 & 0.9989992\\\\\n",
       "\t3.10 & 0.9990324 & 0.9990646 & 0.9990957 & 0.9991260 & 0.9991553 & 0.9991836 & 0.9992112 & 0.9992378 & 0.9992636 & 0.9992886\\\\\n",
       "\t3.20 & 0.9993129 & 0.9993363 & 0.9993590 & 0.9993810 & 0.9994024 & 0.9994230 & 0.9994429 & 0.9994623 & 0.9994810 & 0.9994991\\\\\n",
       "\t3.30 & 0.9995166 & 0.9995335 & 0.9995499 & 0.9995658 & 0.9995811 & 0.9995959 & 0.9996103 & 0.9996242 & 0.9996376 & 0.9996505\\\\\n",
       "\t3.40 & 0.9996631 & 0.9996752 & 0.9996869 & 0.9996982 & 0.9997091 & 0.9997197 & 0.9997299 & 0.9997398 & 0.9997493 & 0.9997585\\\\\n",
       "\t3.50 & 0.9997674 & 0.9997759 & 0.9997842 & 0.9997922 & 0.9997999 & 0.9998074 & 0.9998146 & 0.9998215 & 0.9998282 & 0.9998347\\\\\n",
       "\t3.60 & 0.9998409 & 0.9998469 & 0.9998527 & 0.9998583 & 0.9998637 & 0.9998689 & 0.9998739 & 0.9998787 & 0.9998834 & 0.9998879\\\\\n",
       "\t3.70 & 0.9998922 & 0.9998964 & 0.9999004 & 0.9999043 & 0.9999080 & 0.9999116 & 0.9999150 & 0.9999184 & 0.9999216 & 0.9999247\\\\\n",
       "\t3.80 & 0.9999277 & 0.9999305 & 0.9999333 & 0.9999359 & 0.9999385 & 0.9999409 & 0.9999433 & 0.9999456 & 0.9999478 & 0.9999499\\\\\n",
       "\t3.90 & 0.9999519 & 0.9999539 & 0.9999557 & 0.9999575 & 0.9999593 & 0.9999609 & 0.9999625 & 0.9999641 & 0.9999655 & 0.9999670\\\\\n",
       "\\end{tabular}\n"
      ],
      "text/markdown": [
       "\n",
       "A matrix: 40 × 10 of type dbl\n",
       "\n",
       "| <!--/--> | 0.00 | 0.01 | 0.02 | 0.03 | 0.04 | 0.05 | 0.06 | 0.07 | 0.08 | 0.09 |\n",
       "|---|---|---|---|---|---|---|---|---|---|---|\n",
       "| 0.00 | 0.5000000 | 0.5039894 | 0.5079783 | 0.5119665 | 0.5159534 | 0.5199388 | 0.5239222 | 0.5279032 | 0.5318814 | 0.5358564 |\n",
       "| 0.10 | 0.5398278 | 0.5437953 | 0.5477584 | 0.5517168 | 0.5556700 | 0.5596177 | 0.5635595 | 0.5674949 | 0.5714237 | 0.5753454 |\n",
       "| 0.20 | 0.5792597 | 0.5831662 | 0.5870644 | 0.5909541 | 0.5948349 | 0.5987063 | 0.6025681 | 0.6064199 | 0.6102612 | 0.6140919 |\n",
       "| 0.30 | 0.6179114 | 0.6217195 | 0.6255158 | 0.6293000 | 0.6330717 | 0.6368307 | 0.6405764 | 0.6443088 | 0.6480273 | 0.6517317 |\n",
       "| 0.40 | 0.6554217 | 0.6590970 | 0.6627573 | 0.6664022 | 0.6700314 | 0.6736448 | 0.6772419 | 0.6808225 | 0.6843863 | 0.6879331 |\n",
       "| 0.50 | 0.6914625 | 0.6949743 | 0.6984682 | 0.7019440 | 0.7054015 | 0.7088403 | 0.7122603 | 0.7156612 | 0.7190427 | 0.7224047 |\n",
       "| 0.60 | 0.7257469 | 0.7290691 | 0.7323711 | 0.7356527 | 0.7389137 | 0.7421539 | 0.7453731 | 0.7485711 | 0.7517478 | 0.7549029 |\n",
       "| 0.70 | 0.7580363 | 0.7611479 | 0.7642375 | 0.7673049 | 0.7703500 | 0.7733726 | 0.7763727 | 0.7793501 | 0.7823046 | 0.7852361 |\n",
       "| 0.80 | 0.7881446 | 0.7910299 | 0.7938919 | 0.7967306 | 0.7995458 | 0.8023375 | 0.8051055 | 0.8078498 | 0.8105703 | 0.8132671 |\n",
       "| 0.90 | 0.8159399 | 0.8185887 | 0.8212136 | 0.8238145 | 0.8263912 | 0.8289439 | 0.8314724 | 0.8339768 | 0.8364569 | 0.8389129 |\n",
       "| 1.00 | 0.8413447 | 0.8437524 | 0.8461358 | 0.8484950 | 0.8508300 | 0.8531409 | 0.8554277 | 0.8576903 | 0.8599289 | 0.8621434 |\n",
       "| 1.10 | 0.8643339 | 0.8665005 | 0.8686431 | 0.8707619 | 0.8728568 | 0.8749281 | 0.8769756 | 0.8789995 | 0.8809999 | 0.8829768 |\n",
       "| 1.20 | 0.8849303 | 0.8868606 | 0.8887676 | 0.8906514 | 0.8925123 | 0.8943502 | 0.8961653 | 0.8979577 | 0.8997274 | 0.9014747 |\n",
       "| 1.30 | 0.9031995 | 0.9049021 | 0.9065825 | 0.9082409 | 0.9098773 | 0.9114920 | 0.9130850 | 0.9146565 | 0.9162067 | 0.9177356 |\n",
       "| 1.40 | 0.9192433 | 0.9207302 | 0.9221962 | 0.9236415 | 0.9250663 | 0.9264707 | 0.9278550 | 0.9292191 | 0.9305634 | 0.9318879 |\n",
       "| 1.50 | 0.9331928 | 0.9344783 | 0.9357445 | 0.9369916 | 0.9382198 | 0.9394292 | 0.9406201 | 0.9417924 | 0.9429466 | 0.9440826 |\n",
       "| 1.60 | 0.9452007 | 0.9463011 | 0.9473839 | 0.9484493 | 0.9494974 | 0.9505285 | 0.9515428 | 0.9525403 | 0.9535213 | 0.9544860 |\n",
       "| 1.70 | 0.9554345 | 0.9563671 | 0.9572838 | 0.9581849 | 0.9590705 | 0.9599408 | 0.9607961 | 0.9616364 | 0.9624620 | 0.9632730 |\n",
       "| 1.80 | 0.9640697 | 0.9648521 | 0.9656205 | 0.9663750 | 0.9671159 | 0.9678432 | 0.9685572 | 0.9692581 | 0.9699460 | 0.9706210 |\n",
       "| 1.90 | 0.9712834 | 0.9719334 | 0.9725711 | 0.9731966 | 0.9738102 | 0.9744119 | 0.9750021 | 0.9755808 | 0.9761482 | 0.9767045 |\n",
       "| 2.00 | 0.9772499 | 0.9777844 | 0.9783083 | 0.9788217 | 0.9793248 | 0.9798178 | 0.9803007 | 0.9807738 | 0.9812372 | 0.9816911 |\n",
       "| 2.10 | 0.9821356 | 0.9825708 | 0.9829970 | 0.9834142 | 0.9838226 | 0.9842224 | 0.9846137 | 0.9849966 | 0.9853713 | 0.9857379 |\n",
       "| 2.20 | 0.9860966 | 0.9864474 | 0.9867906 | 0.9871263 | 0.9874545 | 0.9877755 | 0.9880894 | 0.9883962 | 0.9886962 | 0.9889893 |\n",
       "| 2.30 | 0.9892759 | 0.9895559 | 0.9898296 | 0.9900969 | 0.9903581 | 0.9906133 | 0.9908625 | 0.9911060 | 0.9913437 | 0.9915758 |\n",
       "| 2.40 | 0.9918025 | 0.9920237 | 0.9922397 | 0.9924506 | 0.9926564 | 0.9928572 | 0.9930531 | 0.9932443 | 0.9934309 | 0.9936128 |\n",
       "| 2.50 | 0.9937903 | 0.9939634 | 0.9941323 | 0.9942969 | 0.9944574 | 0.9946139 | 0.9947664 | 0.9949151 | 0.9950600 | 0.9952012 |\n",
       "| 2.60 | 0.9953388 | 0.9954729 | 0.9956035 | 0.9957308 | 0.9958547 | 0.9959754 | 0.9960930 | 0.9962074 | 0.9963189 | 0.9964274 |\n",
       "| 2.70 | 0.9965330 | 0.9966358 | 0.9967359 | 0.9968333 | 0.9969280 | 0.9970202 | 0.9971099 | 0.9971972 | 0.9972821 | 0.9973646 |\n",
       "| 2.80 | 0.9974449 | 0.9975229 | 0.9975988 | 0.9976726 | 0.9977443 | 0.9978140 | 0.9978818 | 0.9979476 | 0.9980116 | 0.9980738 |\n",
       "| 2.90 | 0.9981342 | 0.9981929 | 0.9982498 | 0.9983052 | 0.9983589 | 0.9984111 | 0.9984618 | 0.9985110 | 0.9985588 | 0.9986051 |\n",
       "| 3.00 | 0.9986501 | 0.9986938 | 0.9987361 | 0.9987772 | 0.9988171 | 0.9988558 | 0.9988933 | 0.9989297 | 0.9989650 | 0.9989992 |\n",
       "| 3.10 | 0.9990324 | 0.9990646 | 0.9990957 | 0.9991260 | 0.9991553 | 0.9991836 | 0.9992112 | 0.9992378 | 0.9992636 | 0.9992886 |\n",
       "| 3.20 | 0.9993129 | 0.9993363 | 0.9993590 | 0.9993810 | 0.9994024 | 0.9994230 | 0.9994429 | 0.9994623 | 0.9994810 | 0.9994991 |\n",
       "| 3.30 | 0.9995166 | 0.9995335 | 0.9995499 | 0.9995658 | 0.9995811 | 0.9995959 | 0.9996103 | 0.9996242 | 0.9996376 | 0.9996505 |\n",
       "| 3.40 | 0.9996631 | 0.9996752 | 0.9996869 | 0.9996982 | 0.9997091 | 0.9997197 | 0.9997299 | 0.9997398 | 0.9997493 | 0.9997585 |\n",
       "| 3.50 | 0.9997674 | 0.9997759 | 0.9997842 | 0.9997922 | 0.9997999 | 0.9998074 | 0.9998146 | 0.9998215 | 0.9998282 | 0.9998347 |\n",
       "| 3.60 | 0.9998409 | 0.9998469 | 0.9998527 | 0.9998583 | 0.9998637 | 0.9998689 | 0.9998739 | 0.9998787 | 0.9998834 | 0.9998879 |\n",
       "| 3.70 | 0.9998922 | 0.9998964 | 0.9999004 | 0.9999043 | 0.9999080 | 0.9999116 | 0.9999150 | 0.9999184 | 0.9999216 | 0.9999247 |\n",
       "| 3.80 | 0.9999277 | 0.9999305 | 0.9999333 | 0.9999359 | 0.9999385 | 0.9999409 | 0.9999433 | 0.9999456 | 0.9999478 | 0.9999499 |\n",
       "| 3.90 | 0.9999519 | 0.9999539 | 0.9999557 | 0.9999575 | 0.9999593 | 0.9999609 | 0.9999625 | 0.9999641 | 0.9999655 | 0.9999670 |\n",
       "\n"
      ],
      "text/plain": [
       "     0.00      0.01      0.02      0.03      0.04      0.05      0.06     \n",
       "0.00 0.5000000 0.5039894 0.5079783 0.5119665 0.5159534 0.5199388 0.5239222\n",
       "0.10 0.5398278 0.5437953 0.5477584 0.5517168 0.5556700 0.5596177 0.5635595\n",
       "0.20 0.5792597 0.5831662 0.5870644 0.5909541 0.5948349 0.5987063 0.6025681\n",
       "0.30 0.6179114 0.6217195 0.6255158 0.6293000 0.6330717 0.6368307 0.6405764\n",
       "0.40 0.6554217 0.6590970 0.6627573 0.6664022 0.6700314 0.6736448 0.6772419\n",
       "0.50 0.6914625 0.6949743 0.6984682 0.7019440 0.7054015 0.7088403 0.7122603\n",
       "0.60 0.7257469 0.7290691 0.7323711 0.7356527 0.7389137 0.7421539 0.7453731\n",
       "0.70 0.7580363 0.7611479 0.7642375 0.7673049 0.7703500 0.7733726 0.7763727\n",
       "0.80 0.7881446 0.7910299 0.7938919 0.7967306 0.7995458 0.8023375 0.8051055\n",
       "0.90 0.8159399 0.8185887 0.8212136 0.8238145 0.8263912 0.8289439 0.8314724\n",
       "1.00 0.8413447 0.8437524 0.8461358 0.8484950 0.8508300 0.8531409 0.8554277\n",
       "1.10 0.8643339 0.8665005 0.8686431 0.8707619 0.8728568 0.8749281 0.8769756\n",
       "1.20 0.8849303 0.8868606 0.8887676 0.8906514 0.8925123 0.8943502 0.8961653\n",
       "1.30 0.9031995 0.9049021 0.9065825 0.9082409 0.9098773 0.9114920 0.9130850\n",
       "1.40 0.9192433 0.9207302 0.9221962 0.9236415 0.9250663 0.9264707 0.9278550\n",
       "1.50 0.9331928 0.9344783 0.9357445 0.9369916 0.9382198 0.9394292 0.9406201\n",
       "1.60 0.9452007 0.9463011 0.9473839 0.9484493 0.9494974 0.9505285 0.9515428\n",
       "1.70 0.9554345 0.9563671 0.9572838 0.9581849 0.9590705 0.9599408 0.9607961\n",
       "1.80 0.9640697 0.9648521 0.9656205 0.9663750 0.9671159 0.9678432 0.9685572\n",
       "1.90 0.9712834 0.9719334 0.9725711 0.9731966 0.9738102 0.9744119 0.9750021\n",
       "2.00 0.9772499 0.9777844 0.9783083 0.9788217 0.9793248 0.9798178 0.9803007\n",
       "2.10 0.9821356 0.9825708 0.9829970 0.9834142 0.9838226 0.9842224 0.9846137\n",
       "2.20 0.9860966 0.9864474 0.9867906 0.9871263 0.9874545 0.9877755 0.9880894\n",
       "2.30 0.9892759 0.9895559 0.9898296 0.9900969 0.9903581 0.9906133 0.9908625\n",
       "2.40 0.9918025 0.9920237 0.9922397 0.9924506 0.9926564 0.9928572 0.9930531\n",
       "2.50 0.9937903 0.9939634 0.9941323 0.9942969 0.9944574 0.9946139 0.9947664\n",
       "2.60 0.9953388 0.9954729 0.9956035 0.9957308 0.9958547 0.9959754 0.9960930\n",
       "2.70 0.9965330 0.9966358 0.9967359 0.9968333 0.9969280 0.9970202 0.9971099\n",
       "2.80 0.9974449 0.9975229 0.9975988 0.9976726 0.9977443 0.9978140 0.9978818\n",
       "2.90 0.9981342 0.9981929 0.9982498 0.9983052 0.9983589 0.9984111 0.9984618\n",
       "3.00 0.9986501 0.9986938 0.9987361 0.9987772 0.9988171 0.9988558 0.9988933\n",
       "3.10 0.9990324 0.9990646 0.9990957 0.9991260 0.9991553 0.9991836 0.9992112\n",
       "3.20 0.9993129 0.9993363 0.9993590 0.9993810 0.9994024 0.9994230 0.9994429\n",
       "3.30 0.9995166 0.9995335 0.9995499 0.9995658 0.9995811 0.9995959 0.9996103\n",
       "3.40 0.9996631 0.9996752 0.9996869 0.9996982 0.9997091 0.9997197 0.9997299\n",
       "3.50 0.9997674 0.9997759 0.9997842 0.9997922 0.9997999 0.9998074 0.9998146\n",
       "3.60 0.9998409 0.9998469 0.9998527 0.9998583 0.9998637 0.9998689 0.9998739\n",
       "3.70 0.9998922 0.9998964 0.9999004 0.9999043 0.9999080 0.9999116 0.9999150\n",
       "3.80 0.9999277 0.9999305 0.9999333 0.9999359 0.9999385 0.9999409 0.9999433\n",
       "3.90 0.9999519 0.9999539 0.9999557 0.9999575 0.9999593 0.9999609 0.9999625\n",
       "     0.07      0.08      0.09     \n",
       "0.00 0.5279032 0.5318814 0.5358564\n",
       "0.10 0.5674949 0.5714237 0.5753454\n",
       "0.20 0.6064199 0.6102612 0.6140919\n",
       "0.30 0.6443088 0.6480273 0.6517317\n",
       "0.40 0.6808225 0.6843863 0.6879331\n",
       "0.50 0.7156612 0.7190427 0.7224047\n",
       "0.60 0.7485711 0.7517478 0.7549029\n",
       "0.70 0.7793501 0.7823046 0.7852361\n",
       "0.80 0.8078498 0.8105703 0.8132671\n",
       "0.90 0.8339768 0.8364569 0.8389129\n",
       "1.00 0.8576903 0.8599289 0.8621434\n",
       "1.10 0.8789995 0.8809999 0.8829768\n",
       "1.20 0.8979577 0.8997274 0.9014747\n",
       "1.30 0.9146565 0.9162067 0.9177356\n",
       "1.40 0.9292191 0.9305634 0.9318879\n",
       "1.50 0.9417924 0.9429466 0.9440826\n",
       "1.60 0.9525403 0.9535213 0.9544860\n",
       "1.70 0.9616364 0.9624620 0.9632730\n",
       "1.80 0.9692581 0.9699460 0.9706210\n",
       "1.90 0.9755808 0.9761482 0.9767045\n",
       "2.00 0.9807738 0.9812372 0.9816911\n",
       "2.10 0.9849966 0.9853713 0.9857379\n",
       "2.20 0.9883962 0.9886962 0.9889893\n",
       "2.30 0.9911060 0.9913437 0.9915758\n",
       "2.40 0.9932443 0.9934309 0.9936128\n",
       "2.50 0.9949151 0.9950600 0.9952012\n",
       "2.60 0.9962074 0.9963189 0.9964274\n",
       "2.70 0.9971972 0.9972821 0.9973646\n",
       "2.80 0.9979476 0.9980116 0.9980738\n",
       "2.90 0.9985110 0.9985588 0.9986051\n",
       "3.00 0.9989297 0.9989650 0.9989992\n",
       "3.10 0.9992378 0.9992636 0.9992886\n",
       "3.20 0.9994623 0.9994810 0.9994991\n",
       "3.30 0.9996242 0.9996376 0.9996505\n",
       "3.40 0.9997398 0.9997493 0.9997585\n",
       "3.50 0.9998215 0.9998282 0.9998347\n",
       "3.60 0.9998787 0.9998834 0.9998879\n",
       "3.70 0.9999184 0.9999216 0.9999247\n",
       "3.80 0.9999456 0.9999478 0.9999499\n",
       "3.90 0.9999641 0.9999655 0.9999670"
      ]
     },
     "metadata": {},
     "output_type": "display_data"
    }
   ],
   "source": [
    "Z <- seq(0, 3.99, by=0.01)\n",
    "probabilidade <- pnorm(Z)\n",
    "tabela_normal_padronizada <- matrix(probabilidade, ncol=10, byrow=TRUE)\n",
    "colnames(tabela_normal_padronizada) <- format(seq(0.00, 0.09, by=0.01))\n",
    "rownames(tabela_normal_padronizada) <- format(seq(0.00, 3.90, by=0.10), digits = 2, nsmall = 2)\n",
    "tabela_normal_padronizada"
   ]
  },
  {
   "cell_type": "markdown",
   "metadata": {
    "colab_type": "text",
    "id": "XHYeMaN3G3D9"
   },
   "source": [
    "<img src='https://caelum-online-public.s3.amazonaws.com/1178-estatistica-parte2/01/img003.png' width='250px'>\n",
    "\n",
    "A tabela acima fornece a área sob a curva entre $-\\infty$ e $Z$ desvios padrão acima da média. Lembrando que por se tratar de valores padronizados temos $\\mu = 0$."
   ]
  },
  {
   "cell_type": "markdown",
   "metadata": {
    "colab_type": "text",
    "id": "Bs-KyZAJG3D-"
   },
   "source": [
    "## <font color='blue'>Exemplo: Qual sua altura?</font>"
   ]
  },
  {
   "cell_type": "markdown",
   "metadata": {
    "colab_type": "text",
    "id": "8PFIjXejG3EA"
   },
   "source": [
    "Em um estudo sobre as alturas dos moradores de uma cidade verificou-se que o conjunto de dados segue uma **distribuição aproximadamente normal**, com **média 1,70** e **desvio padrão de 0,1**. Com estas informações obtenha o seguinte conjunto de probabilidades:\n",
    "\n",
    "> **A.** probabilidade de uma pessoa, selecionada ao acaso, ter menos de 1,80 metros.\n",
    ">\n",
    "> **B.** probabilidade de uma pessoa, selecionada ao acaso, ter entre 1,60 metros e 1,80 metros.    \n",
    ">\n",
    "> **C.** probabilidade de uma pessoa, selecionada ao acaso, ter mais de 1,90 metros."
   ]
  },
  {
   "cell_type": "markdown",
   "metadata": {
    "colab_type": "text",
    "id": "aHpZLwt1G3EC"
   },
   "source": [
    "### Problema A - Identificação da área sob a curva"
   ]
  },
  {
   "cell_type": "markdown",
   "metadata": {
    "colab_type": "text",
    "id": "V1eC7tydG3EF"
   },
   "source": [
    "<img style='float: left' src='https://caelum-online-public.s3.amazonaws.com/1178-estatistica-parte2/01/img004.png' width='350px'>"
   ]
  },
  {
   "cell_type": "markdown",
   "metadata": {
    "colab_type": "text",
    "id": "X61wEuRrG3EI"
   },
   "source": [
    "### Obter a variável padronizada $Z$"
   ]
  },
  {
   "cell_type": "code",
   "execution_count": 34,
   "metadata": {
    "colab": {
     "base_uri": "https://localhost:8080/",
     "height": 34
    },
    "colab_type": "code",
    "id": "gNSNIMvZG3EK",
    "outputId": "2d4048a7-4c0a-4f51-c964-2f063cbdf092",
    "scrolled": true
   },
   "outputs": [
    {
     "data": {
      "text/html": [
       "1.7"
      ],
      "text/latex": [
       "1.7"
      ],
      "text/markdown": [
       "1.7"
      ],
      "text/plain": [
       "[1] 1.7"
      ]
     },
     "metadata": {},
     "output_type": "display_data"
    }
   ],
   "source": [
    "media <- 1.7\n",
    "media"
   ]
  },
  {
   "cell_type": "code",
   "execution_count": 35,
   "metadata": {
    "colab": {
     "base_uri": "https://localhost:8080/",
     "height": 34
    },
    "colab_type": "code",
    "id": "E_f2lycRG3ES",
    "outputId": "7bb0daf7-7f86-4bdd-f195-429e7b68d239"
   },
   "outputs": [
    {
     "data": {
      "text/html": [
       "0.1"
      ],
      "text/latex": [
       "0.1"
      ],
      "text/markdown": [
       "0.1"
      ],
      "text/plain": [
       "[1] 0.1"
      ]
     },
     "metadata": {},
     "output_type": "display_data"
    }
   ],
   "source": [
    "desvio_padrao <- 0.1\n",
    "desvio_padrao"
   ]
  },
  {
   "cell_type": "code",
   "execution_count": 36,
   "metadata": {
    "colab": {
     "base_uri": "https://localhost:8080/",
     "height": 34
    },
    "colab_type": "code",
    "id": "xnsCkUb6G3EX",
    "outputId": "b3f57dbb-4c23-4b9f-e89d-d8c35383a2d2"
   },
   "outputs": [
    {
     "data": {
      "text/html": [
       "1"
      ],
      "text/latex": [
       "1"
      ],
      "text/markdown": [
       "1"
      ],
      "text/plain": [
       "[1] 1"
      ]
     },
     "metadata": {},
     "output_type": "display_data"
    }
   ],
   "source": [
    "Z <- (1.8 - media) / desvio_padrao\n",
    "Z"
   ]
  },
  {
   "cell_type": "markdown",
   "metadata": {
    "colab_type": "text",
    "id": "oj9sgHbkG3Eb"
   },
   "source": [
    "### Solução 1 - Utilizando tabela"
   ]
  },
  {
   "cell_type": "code",
   "execution_count": 37,
   "metadata": {
    "colab": {
     "base_uri": "https://localhost:8080/",
     "height": 34
    },
    "colab_type": "code",
    "id": "ReDTH3WgG3Ec",
    "outputId": "ec542c14-9cd4-405d-a899-dfa92493aa84"
   },
   "outputs": [
    {
     "data": {
      "text/html": [
       "0.8413447"
      ],
      "text/latex": [
       "0.8413447"
      ],
      "text/markdown": [
       "0.8413447"
      ],
      "text/plain": [
       "[1] 0.8413447"
      ]
     },
     "metadata": {},
     "output_type": "display_data"
    }
   ],
   "source": [
    "probabilidade <- 0.8413447\n",
    "probabilidade"
   ]
  },
  {
   "cell_type": "markdown",
   "metadata": {
    "colab_type": "text",
    "id": "4ud0OnQOG3Eh"
   },
   "source": [
    "### Solução 2 - Utilizando função"
   ]
  },
  {
   "cell_type": "code",
   "execution_count": 38,
   "metadata": {
    "colab": {
     "base_uri": "https://localhost:8080/",
     "height": 34
    },
    "colab_type": "code",
    "id": "sx7riZVlG3Ei",
    "outputId": "c321c9f8-a1a8-44f8-977b-492d2ec65152"
   },
   "outputs": [
    {
     "data": {
      "text/html": [
       "0.841344746068543"
      ],
      "text/latex": [
       "0.841344746068543"
      ],
      "text/markdown": [
       "0.841344746068543"
      ],
      "text/plain": [
       "[1] 0.8413447"
      ]
     },
     "metadata": {},
     "output_type": "display_data"
    }
   ],
   "source": [
    "pnorm(Z)"
   ]
  },
  {
   "cell_type": "markdown",
   "metadata": {
    "colab_type": "text",
    "id": "ZsnMjGzJG3Ep"
   },
   "source": [
    "### Problema B - Identificação da área sob a curva"
   ]
  },
  {
   "cell_type": "markdown",
   "metadata": {
    "colab_type": "text",
    "id": "LN2HY-UCG3Ep"
   },
   "source": [
    "<img style='float: left' src='https://caelum-online-public.s3.amazonaws.com/1178-estatistica-parte2/01/img005.png' width='350px'>"
   ]
  },
  {
   "cell_type": "markdown",
   "metadata": {
    "colab_type": "text",
    "id": "FS6WNg88G3Eq"
   },
   "source": [
    "### Obter a variável padronizada $Z$"
   ]
  },
  {
   "cell_type": "code",
   "execution_count": 39,
   "metadata": {
    "colab": {
     "base_uri": "https://localhost:8080/",
     "height": 34
    },
    "colab_type": "code",
    "id": "mxPsPIOYG3Er",
    "outputId": "d86de31f-1ca0-443c-8ed6-81edfe5d36f4"
   },
   "outputs": [
    {
     "data": {
      "text/html": [
       "-1"
      ],
      "text/latex": [
       "-1"
      ],
      "text/markdown": [
       "-1"
      ],
      "text/plain": [
       "[1] -1"
      ]
     },
     "metadata": {},
     "output_type": "display_data"
    }
   ],
   "source": [
    "Z_inferior <- (1.6 - media) / desvio_padrao\n",
    "round(Z_inferior, 2)"
   ]
  },
  {
   "cell_type": "code",
   "execution_count": 40,
   "metadata": {
    "colab": {
     "base_uri": "https://localhost:8080/",
     "height": 34
    },
    "colab_type": "code",
    "id": "s0Vf0GXHG3Et",
    "outputId": "5237e5e2-547b-4cbf-a5da-52bd4933f6a1"
   },
   "outputs": [
    {
     "data": {
      "text/html": [
       "1"
      ],
      "text/latex": [
       "1"
      ],
      "text/markdown": [
       "1"
      ],
      "text/plain": [
       "[1] 1"
      ]
     },
     "metadata": {},
     "output_type": "display_data"
    }
   ],
   "source": [
    "Z_superior <- (1.8 - media) / desvio_padrao\n",
    "round(Z_superior)"
   ]
  },
  {
   "cell_type": "markdown",
   "metadata": {
    "colab_type": "text",
    "id": "MseXjmZ7G3E0"
   },
   "source": [
    "### Solução 1 - Utilizando tabela"
   ]
  },
  {
   "cell_type": "code",
   "execution_count": 42,
   "metadata": {
    "colab": {
     "base_uri": "https://localhost:8080/",
     "height": 34
    },
    "colab_type": "code",
    "id": "swZ6SVQGG3E0",
    "outputId": "53e30c74-5ec5-4737-f928-600388bfe570"
   },
   "outputs": [
    {
     "data": {
      "text/html": [
       "0.6826894"
      ],
      "text/latex": [
       "0.6826894"
      ],
      "text/markdown": [
       "0.6826894"
      ],
      "text/plain": [
       "[1] 0.6826894"
      ]
     },
     "metadata": {},
     "output_type": "display_data"
    }
   ],
   "source": [
    "probabilidade <- (0.8413447 - 0.5) * 2\n",
    "probabilidade"
   ]
  },
  {
   "cell_type": "code",
   "execution_count": 43,
   "metadata": {
    "colab": {
     "base_uri": "https://localhost:8080/",
     "height": 34
    },
    "colab_type": "code",
    "id": "oNfZZRBdGy2G",
    "outputId": "408ee333-2e8e-4058-fe74-a75b715eedf8"
   },
   "outputs": [
    {
     "data": {
      "text/html": [
       "0.6826894"
      ],
      "text/latex": [
       "0.6826894"
      ],
      "text/markdown": [
       "0.6826894"
      ],
      "text/plain": [
       "[1] 0.6826894"
      ]
     },
     "metadata": {},
     "output_type": "display_data"
    }
   ],
   "source": [
    "probabilidade <- 0.8413447 - (1 - 0.8413447)\n",
    "probabilidade"
   ]
  },
  {
   "cell_type": "markdown",
   "metadata": {
    "colab_type": "text",
    "id": "y5e4zAifG3E2"
   },
   "source": [
    "### Solução 2 - Utilizando função"
   ]
  },
  {
   "cell_type": "code",
   "execution_count": null,
   "metadata": {
    "colab": {
     "base_uri": "https://localhost:8080/",
     "height": 34
    },
    "colab_type": "code",
    "id": "hcps6lkNG3E3",
    "outputId": "c8de38f1-8411-408c-862c-7aa6e099e43f"
   },
   "outputs": [],
   "source": [
    "probabilidade <- pnorm(Z_superior) - pnorm(Z_inferior)\n",
    "probabilidade"
   ]
  },
  {
   "cell_type": "markdown",
   "metadata": {
    "colab_type": "text",
    "id": "05sqVgdaG3E-"
   },
   "source": [
    "### Problema C - Identificação da área sob a curva"
   ]
  },
  {
   "cell_type": "markdown",
   "metadata": {
    "colab_type": "text",
    "id": "EPKhGTEkG3E_"
   },
   "source": [
    "<img style='float: left' src='https://caelum-online-public.s3.amazonaws.com/1178-estatistica-parte2/01/img006.png' width='350px'>"
   ]
  },
  {
   "cell_type": "markdown",
   "metadata": {
    "colab_type": "text",
    "id": "BA6jYbsSG3E_"
   },
   "source": [
    "### Obter a variável padronizada $Z$"
   ]
  },
  {
   "cell_type": "code",
   "execution_count": 44,
   "metadata": {
    "colab": {
     "base_uri": "https://localhost:8080/",
     "height": 34
    },
    "colab_type": "code",
    "id": "3OVj60MzG3E_",
    "outputId": "71f57b74-bc13-4493-f8ba-6f05a2a07041"
   },
   "outputs": [
    {
     "data": {
      "text/html": [
       "2"
      ],
      "text/latex": [
       "2"
      ],
      "text/markdown": [
       "2"
      ],
      "text/plain": [
       "[1] 2"
      ]
     },
     "metadata": {},
     "output_type": "display_data"
    }
   ],
   "source": [
    "Z <- (1.9 - media) / desvio_padrao\n",
    "Z"
   ]
  },
  {
   "cell_type": "markdown",
   "metadata": {
    "colab_type": "text",
    "id": "hCiiWAm_G3FC"
   },
   "source": [
    "### Solução 1 - Utilizando tabela"
   ]
  },
  {
   "cell_type": "code",
   "execution_count": 45,
   "metadata": {},
   "outputs": [
    {
     "data": {
      "text/html": [
       "0.0227501"
      ],
      "text/latex": [
       "0.0227501"
      ],
      "text/markdown": [
       "0.0227501"
      ],
      "text/plain": [
       "[1] 0.0227501"
      ]
     },
     "metadata": {},
     "output_type": "display_data"
    }
   ],
   "source": [
    "probabilidade <- 1 - 0.9772499\n",
    "probabilidade"
   ]
  },
  {
   "cell_type": "markdown",
   "metadata": {
    "colab_type": "text",
    "id": "QCyoVXOdG3FF"
   },
   "source": [
    "### Solução 2 - Utilizando função"
   ]
  },
  {
   "cell_type": "code",
   "execution_count": 46,
   "metadata": {
    "colab": {
     "base_uri": "https://localhost:8080/",
     "height": 34
    },
    "colab_type": "code",
    "id": "caIE-t83G3FF",
    "outputId": "224b72ff-7edd-4b66-a24e-a1f89e4685c9"
   },
   "outputs": [
    {
     "data": {
      "text/html": [
       "2.27501319481792"
      ],
      "text/latex": [
       "2.27501319481792"
      ],
      "text/markdown": [
       "2.27501319481792"
      ],
      "text/plain": [
       "[1] 2.275013"
      ]
     },
     "metadata": {},
     "output_type": "display_data"
    }
   ],
   "source": [
    "probabilidade <- 1 - pnorm(Z)\n",
    "probabilidade * 100"
   ]
  },
  {
   "cell_type": "markdown",
   "metadata": {
    "colab_type": "text",
    "id": "GmmzChE2t4wW"
   },
   "source": [
    "# <font color=green>3 AMOSTRAGEM</font>\n",
    "***"
   ]
  },
  {
   "cell_type": "markdown",
   "metadata": {
    "colab_type": "text",
    "id": "g8PbtmQZt4Wv"
   },
   "source": [
    "## <font color=green>3.1 População e Amostra</font>\n",
    "***"
   ]
  },
  {
   "cell_type": "markdown",
   "metadata": {
    "colab_type": "text",
    "id": "sedD5gB9G3FV"
   },
   "source": [
    "### População\n",
    "Conjunto de todos os elementos de interesse em um estudo. Diversos elementos podem compor uma população, por exemplo: pessoas, idades, alturas, carros etc.\n",
    "\n",
    "Com relação ao tamanho, as populações podem ser limitadas (populações finitas) ou ilimitadas (populações infinitas)."
   ]
  },
  {
   "cell_type": "markdown",
   "metadata": {
    "colab_type": "text",
    "id": "XBFhAWNcG3FW"
   },
   "source": [
    "### Populações finitas\n",
    "\n",
    "Permitem a contagem de seus elementos. Como exemplos temos o número de funcionário de uma empresa, a quantidade de alunos em uma escola etc."
   ]
  },
  {
   "cell_type": "markdown",
   "metadata": {
    "colab_type": "text",
    "id": "YT8V2GB1G3FW"
   },
   "source": [
    "### Populações infinitas\n",
    "\n",
    "Não é possível contar seus elementos. Como exemplos temos a quantidade de porções que se pode extrair da água do mar para uma análise, temperatura medida em cada ponto de um território etc.\n",
    "\n",
    "<font color=red>Quando os elementos de uma população puderem ser contados, porém apresentando uma quantidade muito grande, assume-se a população como infinita.</font>."
   ]
  },
  {
   "cell_type": "markdown",
   "metadata": {
    "colab_type": "text",
    "id": "a-WtAXv1G3FX"
   },
   "source": [
    "### Amostra\n",
    "Subconjunto representativo da população."
   ]
  },
  {
   "cell_type": "markdown",
   "metadata": {
    "colab_type": "text",
    "id": "QWnDYpPSG3FX"
   },
   "source": [
    "Os atributos numéricos de uma população como sua média, variância e desvio padrão, são conhecidos como **parâmetros**. O principal foco da inferência estatística é justamente gerar estimativas e testar hipóteses sobre os parâmetros populacionais utilizando as informações de amostras."
   ]
  },
  {
   "cell_type": "markdown",
   "metadata": {
    "colab_type": "text",
    "id": "dDz6vFbDG3FZ"
   },
   "source": [
    "## <font color=green>3.2 Quando utilizar uma amostra?</font>\n",
    "***"
   ]
  },
  {
   "cell_type": "markdown",
   "metadata": {
    "colab_type": "text",
    "id": "5X1YwCGlG3Fe"
   },
   "source": [
    "### Populações infinitas\n",
    "\n",
    "O estudo não chegaria nunca ao fim. Não é possível investigar todos os elementos da população."
   ]
  },
  {
   "cell_type": "markdown",
   "metadata": {
    "colab_type": "text",
    "id": "jHLtG8HSG3Ff"
   },
   "source": [
    "### Testes destrutivos\n",
    "\n",
    "Estudos onde os elementos avaliados são totalmente consumidos ou destruídos. Exemplo: testes de vida útil, testes de segurança contra colisões em automóveis."
   ]
  },
  {
   "cell_type": "markdown",
   "metadata": {
    "colab_type": "text",
    "id": "lxYxepmdG3Ff"
   },
   "source": [
    "### Resultados rápidos\n",
    "\n",
    "Pesquisas que precisam de mais agilidade na divulgação. Exemplo: pesquisas de opinião, pesquisas que envolvam problemas de saúde pública."
   ]
  },
  {
   "cell_type": "markdown",
   "metadata": {
    "colab_type": "text",
    "id": "PeUCGL5nG3Fj"
   },
   "source": [
    "### Custos elevados\n",
    "\n",
    "Quando a população é finita mas muito numerosa, o custo de um censo pode tornar o processo inviável."
   ]
  },
  {
   "cell_type": "markdown",
   "metadata": {
    "colab_type": "text",
    "id": "1sbJeMpSG3Fj"
   },
   "source": [
    "## <font color=green>3.3 Amostragem Aleatória Simples</font>\n",
    "***"
   ]
  },
  {
   "cell_type": "markdown",
   "metadata": {
    "colab_type": "text",
    "id": "Kiq9cYMYG3Fp"
   },
   "source": [
    "É uma das principais maneiras de se extrair uma amostra de uma população. A exigência fundamental deste tipo de abordagem é que cada elemeto da população tenha as mesmas chances de ser selecionado para fazer parte da amostra."
   ]
  },
  {
   "cell_type": "markdown",
   "metadata": {},
   "source": [
    "#### <font color=red>Documentações:\n",
    "\n",
    "- [**sample**](https://www.rdocumentation.org/packages/dplyr/versions/0.7.8/topics/sample)"
   ]
  },
  {
   "cell_type": "code",
   "execution_count": 47,
   "metadata": {},
   "outputs": [
    {
     "name": "stderr",
     "output_type": "stream",
     "text": [
      "\n",
      "Attaching package: ‘dplyr’\n",
      "\n",
      "\n",
      "The following objects are masked from ‘package:stats’:\n",
      "\n",
      "    filter, lag\n",
      "\n",
      "\n",
      "The following objects are masked from ‘package:base’:\n",
      "\n",
      "    intersect, setdiff, setequal, union\n",
      "\n",
      "\n"
     ]
    }
   ],
   "source": [
    "library(dplyr)"
   ]
  },
  {
   "cell_type": "code",
   "execution_count": 48,
   "metadata": {},
   "outputs": [
    {
     "data": {
      "text/html": [
       "76840"
      ],
      "text/latex": [
       "76840"
      ],
      "text/markdown": [
       "76840"
      ],
      "text/plain": [
       "[1] 76840"
      ]
     },
     "metadata": {},
     "output_type": "display_data"
    }
   ],
   "source": [
    "nrow(dados)"
   ]
  },
  {
   "cell_type": "code",
   "execution_count": 49,
   "metadata": {
    "scrolled": true
   },
   "outputs": [
    {
     "data": {
      "text/html": [
       "<table class=\"dataframe\">\n",
       "<caption>A data.frame: 10 × 7</caption>\n",
       "<thead>\n",
       "\t<tr><th></th><th scope=col>UF</th><th scope=col>Sexo</th><th scope=col>Idade</th><th scope=col>Cor</th><th scope=col>Anos.de.Estudo</th><th scope=col>Renda</th><th scope=col>Altura</th></tr>\n",
       "\t<tr><th></th><th scope=col>&lt;int&gt;</th><th scope=col>&lt;int&gt;</th><th scope=col>&lt;int&gt;</th><th scope=col>&lt;int&gt;</th><th scope=col>&lt;int&gt;</th><th scope=col>&lt;int&gt;</th><th scope=col>&lt;dbl&gt;</th></tr>\n",
       "</thead>\n",
       "<tbody>\n",
       "\t<tr><th scope=row>1</th><td>11</td><td>0</td><td>23</td><td>8</td><td>12</td><td> 800</td><td>1.603808</td></tr>\n",
       "\t<tr><th scope=row>2</th><td>11</td><td>1</td><td>23</td><td>2</td><td>12</td><td>1150</td><td>1.739790</td></tr>\n",
       "\t<tr><th scope=row>3</th><td>11</td><td>1</td><td>35</td><td>8</td><td>15</td><td> 880</td><td>1.760444</td></tr>\n",
       "\t<tr><th scope=row>4</th><td>11</td><td>0</td><td>46</td><td>2</td><td> 6</td><td>3500</td><td>1.783158</td></tr>\n",
       "\t<tr><th scope=row>5</th><td>11</td><td>1</td><td>47</td><td>8</td><td> 9</td><td> 150</td><td>1.690631</td></tr>\n",
       "\t<tr><th scope=row>6</th><td>11</td><td>1</td><td>34</td><td>8</td><td>12</td><td> 790</td><td>1.637906</td></tr>\n",
       "\t<tr><th scope=row>7</th><td>11</td><td>0</td><td>57</td><td>8</td><td>12</td><td>3150</td><td>1.570078</td></tr>\n",
       "\t<tr><th scope=row>8</th><td>11</td><td>1</td><td>60</td><td>8</td><td>12</td><td>1700</td><td>1.608495</td></tr>\n",
       "\t<tr><th scope=row>9</th><td>11</td><td>1</td><td>50</td><td>4</td><td>14</td><td>1800</td><td>1.780329</td></tr>\n",
       "\t<tr><th scope=row>10</th><td>11</td><td>0</td><td>26</td><td>8</td><td>12</td><td>1150</td><td>1.793203</td></tr>\n",
       "</tbody>\n",
       "</table>\n"
      ],
      "text/latex": [
       "A data.frame: 10 × 7\n",
       "\\begin{tabular}{r|lllllll}\n",
       "  & UF & Sexo & Idade & Cor & Anos.de.Estudo & Renda & Altura\\\\\n",
       "  & <int> & <int> & <int> & <int> & <int> & <int> & <dbl>\\\\\n",
       "\\hline\n",
       "\t1 & 11 & 0 & 23 & 8 & 12 &  800 & 1.603808\\\\\n",
       "\t2 & 11 & 1 & 23 & 2 & 12 & 1150 & 1.739790\\\\\n",
       "\t3 & 11 & 1 & 35 & 8 & 15 &  880 & 1.760444\\\\\n",
       "\t4 & 11 & 0 & 46 & 2 &  6 & 3500 & 1.783158\\\\\n",
       "\t5 & 11 & 1 & 47 & 8 &  9 &  150 & 1.690631\\\\\n",
       "\t6 & 11 & 1 & 34 & 8 & 12 &  790 & 1.637906\\\\\n",
       "\t7 & 11 & 0 & 57 & 8 & 12 & 3150 & 1.570078\\\\\n",
       "\t8 & 11 & 1 & 60 & 8 & 12 & 1700 & 1.608495\\\\\n",
       "\t9 & 11 & 1 & 50 & 4 & 14 & 1800 & 1.780329\\\\\n",
       "\t10 & 11 & 0 & 26 & 8 & 12 & 1150 & 1.793203\\\\\n",
       "\\end{tabular}\n"
      ],
      "text/markdown": [
       "\n",
       "A data.frame: 10 × 7\n",
       "\n",
       "| <!--/--> | UF &lt;int&gt; | Sexo &lt;int&gt; | Idade &lt;int&gt; | Cor &lt;int&gt; | Anos.de.Estudo &lt;int&gt; | Renda &lt;int&gt; | Altura &lt;dbl&gt; |\n",
       "|---|---|---|---|---|---|---|---|\n",
       "| 1 | 11 | 0 | 23 | 8 | 12 |  800 | 1.603808 |\n",
       "| 2 | 11 | 1 | 23 | 2 | 12 | 1150 | 1.739790 |\n",
       "| 3 | 11 | 1 | 35 | 8 | 15 |  880 | 1.760444 |\n",
       "| 4 | 11 | 0 | 46 | 2 |  6 | 3500 | 1.783158 |\n",
       "| 5 | 11 | 1 | 47 | 8 |  9 |  150 | 1.690631 |\n",
       "| 6 | 11 | 1 | 34 | 8 | 12 |  790 | 1.637906 |\n",
       "| 7 | 11 | 0 | 57 | 8 | 12 | 3150 | 1.570078 |\n",
       "| 8 | 11 | 1 | 60 | 8 | 12 | 1700 | 1.608495 |\n",
       "| 9 | 11 | 1 | 50 | 4 | 14 | 1800 | 1.780329 |\n",
       "| 10 | 11 | 0 | 26 | 8 | 12 | 1150 | 1.793203 |\n",
       "\n"
      ],
      "text/plain": [
       "   UF Sexo Idade Cor Anos.de.Estudo Renda Altura  \n",
       "1  11 0    23    8   12              800  1.603808\n",
       "2  11 1    23    2   12             1150  1.739790\n",
       "3  11 1    35    8   15              880  1.760444\n",
       "4  11 0    46    2    6             3500  1.783158\n",
       "5  11 1    47    8    9              150  1.690631\n",
       "6  11 1    34    8   12              790  1.637906\n",
       "7  11 0    57    8   12             3150  1.570078\n",
       "8  11 1    60    8   12             1700  1.608495\n",
       "9  11 1    50    4   14             1800  1.780329\n",
       "10 11 0    26    8   12             1150  1.793203"
      ]
     },
     "metadata": {},
     "output_type": "display_data"
    }
   ],
   "source": [
    "head(dados, 10)"
   ]
  },
  {
   "cell_type": "code",
   "execution_count": 50,
   "metadata": {
    "colab": {
     "base_uri": "https://localhost:8080/",
     "height": 34
    },
    "colab_type": "code",
    "id": "DsXJHWhMG3Fs",
    "outputId": "b5e5d083-2d89-4f31-e8dd-5ae48375a81c"
   },
   "outputs": [
    {
     "data": {
      "text/html": [
       "2000.38319885476"
      ],
      "text/latex": [
       "2000.38319885476"
      ],
      "text/markdown": [
       "2000.38319885476"
      ],
      "text/plain": [
       "[1] 2000.383"
      ]
     },
     "metadata": {},
     "output_type": "display_data"
    }
   ],
   "source": [
    "mean(dados$Renda)"
   ]
  },
  {
   "cell_type": "code",
   "execution_count": 51,
   "metadata": {},
   "outputs": [],
   "source": [
    "amostra <- sample_n(dados, 100)"
   ]
  },
  {
   "cell_type": "code",
   "execution_count": 52,
   "metadata": {},
   "outputs": [
    {
     "data": {
      "text/html": [
       "2058.72"
      ],
      "text/latex": [
       "2058.72"
      ],
      "text/markdown": [
       "2058.72"
      ],
      "text/plain": [
       "[1] 2058.72"
      ]
     },
     "metadata": {},
     "output_type": "display_data"
    }
   ],
   "source": [
    "mean(amostra$Renda)"
   ]
  },
  {
   "cell_type": "code",
   "execution_count": 53,
   "metadata": {},
   "outputs": [
    {
     "data": {
      "text/plain": [
       "\n",
       "        0         1 \n",
       "0.6929984 0.3070016 "
      ]
     },
     "metadata": {},
     "output_type": "display_data"
    }
   ],
   "source": [
    "prop.table(table(dados$Sexo))"
   ]
  },
  {
   "cell_type": "code",
   "execution_count": 54,
   "metadata": {},
   "outputs": [
    {
     "data": {
      "text/plain": [
       "\n",
       "   0    1 \n",
       "0.72 0.28 "
      ]
     },
     "metadata": {},
     "output_type": "display_data"
    }
   ],
   "source": [
    "prop.table(table(amostra$Sexo))"
   ]
  },
  {
   "cell_type": "markdown",
   "metadata": {
    "colab_type": "text",
    "id": "stcKhnJBG3F7"
   },
   "source": [
    "## <font color=green>3.4 Amostragem Estratificada</font>\n",
    "***"
   ]
  },
  {
   "cell_type": "markdown",
   "metadata": {
    "colab_type": "text",
    "id": "W1uEZMRIG3GA"
   },
   "source": [
    "É uma melhoria do processo de amostragem aleatória simples. Neste método é proposta a divisão da população em subgrupos de elementos com características similares, ou seja, grupos mais homogêneos. Com estes subgrupos separados, aplica-se a técnica de amostragem aleatória simples dentro de cada subgrupo individualmente."
   ]
  },
  {
   "cell_type": "markdown",
   "metadata": {
    "colab_type": "text",
    "id": "xRjUHDAbG3GB"
   },
   "source": [
    "## <font color=green>3.5 Amostragem por Conglomerados</font>\n",
    "***"
   ]
  },
  {
   "cell_type": "markdown",
   "metadata": {
    "colab_type": "text",
    "id": "sW9IuaL9G3GH"
   },
   "source": [
    "Também visa melhorar o critério de amostragem aleatória simples. Na amostragem por conglomerados são também criados subgrupos, porém não serão homogêneas como na amostragem estratificada. Na amostragem por conglomerados os subgrupos serão heterogêneos, onde, em seguida, serão aplicadas a amostragem aleatória simples ou estratificada.\n",
    "\n",
    "Um exemplo bastante comum de aplicação deste tipo de técnica é na divisão da população em grupos territoriais, onde os elementos investigados terão características bastante variadas."
   ]
  },
  {
   "cell_type": "markdown",
   "metadata": {
    "colab_type": "text",
    "id": "2LNJT4FEuzO4"
   },
   "source": [
    "# <font color=green>4 ESTIMAÇÃO</font>\n",
    "***"
   ]
  },
  {
   "cell_type": "markdown",
   "metadata": {
    "colab_type": "text",
    "id": "z69W2sVGmybS"
   },
   "source": [
    "## <font color='red'>Problema </font>"
   ]
  },
  {
   "cell_type": "markdown",
   "metadata": {
    "colab_type": "text",
    "id": "ytP6VpismwDY"
   },
   "source": [
    "Suponha que os pesos dos sacos de arroz de uma indústria alimentícia se distribuem aproximadamente como uma normal de **desvio padrão populacional igual a 150 g**. Selecionada uma **amostra aleatório de 20 sacos** de um lote específico, obteve-se um **peso médio de 5.050 g**. Construa um **intervalo de confiança para a média populacional** assumindo um **nível de significância de 5%**."
   ]
  },
  {
   "cell_type": "markdown",
   "metadata": {
    "colab_type": "text",
    "id": "PCqEvJMOwvUf"
   },
   "source": [
    "---"
   ]
  },
  {
   "cell_type": "markdown",
   "metadata": {
    "colab_type": "text",
    "id": "HU578SXBG3GN"
   },
   "source": [
    "É a forma de se fazer suposições generalizadas sobre os parâmetros de uma população tendo como base as informações de uma amostra.\n",
    "\n",
    "- **Parâmetros** são os atributos numéricos de uma população, tal como a média, desvio padrão etc.\n",
    "\n",
    "- **Estimativa** é o valor obtido para determinado parâmetro a partir dos dados de uma amostra da população."
   ]
  },
  {
   "cell_type": "markdown",
   "metadata": {
    "colab_type": "text",
    "id": "klWVkoUDG3GR"
   },
   "source": [
    "## <font color=green>4.1 Teorema do limite central</font>\n",
    "***"
   ]
  },
  {
   "cell_type": "markdown",
   "metadata": {
    "colab_type": "text",
    "id": "QpgTvbISG3GU"
   },
   "source": [
    "> O **Teorema do Limite Central** afirma que, com o aumento do tamanho da amostra, a distribuição das médias amostrais se aproxima de uma distribuição normal com média igual à média da população e desvio padrão igual ao desvio padrão da variável original dividido pela raiz quadrada do tamanho da amostra. Este fato é assegurado para $n$ maior ou igual a 30."
   ]
  },
  {
   "cell_type": "markdown",
   "metadata": {
    "colab_type": "text",
    "id": "ZIAr6is3wEMp"
   },
   "source": [
    "# $$\\sigma_\\bar{x} = \\frac{\\sigma}{\\sqrt{n}}$$\n",
    "\n",
    "O desvio padrão das médias amostrais é conhecido como **erro padrão da média**\n",
    "\n",
    "#### <font color=red>Documentações:\n",
    "\n",
    "- [**colMeans**](https://www.rdocumentation.org/packages/base/versions/3.6.1/topics/colSums)"
   ]
  },
  {
   "cell_type": "markdown",
   "metadata": {
    "colab_type": "text",
    "id": "eFtSo6H0iz7z"
   },
   "source": [
    "### Entendendo o Teorema do Limite Central"
   ]
  },
  {
   "cell_type": "code",
   "execution_count": 55,
   "metadata": {
    "colab": {},
    "colab_type": "code",
    "id": "S3q73XpnizTi"
   },
   "outputs": [],
   "source": [
    "n <- 2000\n",
    "total_de_amostras <- 1500"
   ]
  },
  {
   "cell_type": "code",
   "execution_count": 56,
   "metadata": {
    "colab": {
     "base_uri": "https://localhost:8080/",
     "height": 1989
    },
    "colab_type": "code",
    "id": "tXa7XKhKTyMu",
    "outputId": "2fe05b86-ecc8-48af-be13-17e8c7c235ce",
    "scrolled": true
   },
   "outputs": [
    {
     "data": {
      "text/html": [
       "<table class=\"dataframe\">\n",
       "<caption>A data.frame: 2000 × 1500</caption>\n",
       "<thead>\n",
       "\t<tr><th scope=col>Amostra_1</th><th scope=col>Amostra_ 2</th><th scope=col>Amostra_ 3</th><th scope=col>Amostra_ 4</th><th scope=col>Amostra_ 5</th><th scope=col>Amostra_ 6</th><th scope=col>Amostra_ 7</th><th scope=col>Amostra_ 8</th><th scope=col>Amostra_ 9</th><th scope=col>Amostra_ 10</th><th scope=col>⋯</th><th scope=col>Amostra_ 1491</th><th scope=col>Amostra_ 1492</th><th scope=col>Amostra_ 1493</th><th scope=col>Amostra_ 1494</th><th scope=col>Amostra_ 1495</th><th scope=col>Amostra_ 1496</th><th scope=col>Amostra_ 1497</th><th scope=col>Amostra_ 1498</th><th scope=col>Amostra_ 1499</th><th scope=col>Amostra_ 1500</th></tr>\n",
       "\t<tr><th scope=col>&lt;int&gt;</th><th scope=col>&lt;int&gt;</th><th scope=col>&lt;int&gt;</th><th scope=col>&lt;int&gt;</th><th scope=col>&lt;int&gt;</th><th scope=col>&lt;int&gt;</th><th scope=col>&lt;int&gt;</th><th scope=col>&lt;int&gt;</th><th scope=col>&lt;int&gt;</th><th scope=col>&lt;int&gt;</th><th scope=col>⋯</th><th scope=col>&lt;int&gt;</th><th scope=col>&lt;int&gt;</th><th scope=col>&lt;int&gt;</th><th scope=col>&lt;int&gt;</th><th scope=col>&lt;int&gt;</th><th scope=col>&lt;int&gt;</th><th scope=col>&lt;int&gt;</th><th scope=col>&lt;int&gt;</th><th scope=col>&lt;int&gt;</th><th scope=col>&lt;int&gt;</th></tr>\n",
       "</thead>\n",
       "<tbody>\n",
       "\t<tr><td>37</td><td>42</td><td>36</td><td>58</td><td>49</td><td>57</td><td>29</td><td>41</td><td>49</td><td>47</td><td>⋯</td><td>32</td><td>29</td><td>43</td><td>30</td><td>50</td><td>52</td><td>37</td><td>23</td><td>64</td><td>59</td></tr>\n",
       "\t<tr><td>33</td><td>44</td><td>40</td><td>46</td><td>63</td><td>53</td><td>50</td><td>38</td><td>34</td><td>40</td><td>⋯</td><td>61</td><td>37</td><td>55</td><td>40</td><td>84</td><td>44</td><td>63</td><td>53</td><td>25</td><td>47</td></tr>\n",
       "\t<tr><td>46</td><td>34</td><td>35</td><td>45</td><td>35</td><td>49</td><td>55</td><td>57</td><td>47</td><td>82</td><td>⋯</td><td>69</td><td>36</td><td>49</td><td>52</td><td>48</td><td>37</td><td>65</td><td>32</td><td>22</td><td>36</td></tr>\n",
       "\t<tr><td>42</td><td>57</td><td>31</td><td>35</td><td>38</td><td>55</td><td>37</td><td>37</td><td>56</td><td>44</td><td>⋯</td><td>55</td><td>74</td><td>49</td><td>39</td><td>37</td><td>65</td><td>28</td><td>46</td><td>44</td><td>40</td></tr>\n",
       "\t<tr><td>55</td><td>57</td><td>55</td><td>71</td><td>36</td><td>50</td><td>43</td><td>62</td><td>52</td><td>63</td><td>⋯</td><td>25</td><td>44</td><td>33</td><td>30</td><td>35</td><td>69</td><td>22</td><td>42</td><td>46</td><td>35</td></tr>\n",
       "\t<tr><td>25</td><td>42</td><td>36</td><td>34</td><td>49</td><td>54</td><td>37</td><td>22</td><td>24</td><td>57</td><td>⋯</td><td>45</td><td>54</td><td>52</td><td>43</td><td>79</td><td>52</td><td>45</td><td>27</td><td>47</td><td>43</td></tr>\n",
       "\t<tr><td>50</td><td>51</td><td>47</td><td>39</td><td>33</td><td>53</td><td>53</td><td>57</td><td>41</td><td>48</td><td>⋯</td><td>62</td><td>59</td><td>27</td><td>45</td><td>32</td><td>54</td><td>55</td><td>39</td><td>30</td><td>46</td></tr>\n",
       "\t<tr><td>40</td><td>59</td><td>47</td><td>53</td><td>38</td><td>27</td><td>67</td><td>48</td><td>60</td><td>35</td><td>⋯</td><td>60</td><td>75</td><td>62</td><td>59</td><td>73</td><td>57</td><td>53</td><td>34</td><td>40</td><td>52</td></tr>\n",
       "\t<tr><td>40</td><td>70</td><td>33</td><td>48</td><td>56</td><td>53</td><td>41</td><td>68</td><td>39</td><td>60</td><td>⋯</td><td>42</td><td>69</td><td>42</td><td>73</td><td>23</td><td>39</td><td>44</td><td>57</td><td>58</td><td>63</td></tr>\n",
       "\t<tr><td>51</td><td>64</td><td>64</td><td>49</td><td>47</td><td>32</td><td>41</td><td>41</td><td>23</td><td>55</td><td>⋯</td><td>59</td><td>66</td><td>28</td><td>32</td><td>45</td><td>32</td><td>32</td><td>63</td><td>31</td><td>28</td></tr>\n",
       "\t<tr><td>35</td><td>34</td><td>22</td><td>57</td><td>59</td><td>37</td><td>35</td><td>33</td><td>45</td><td>30</td><td>⋯</td><td>30</td><td>56</td><td>40</td><td>45</td><td>35</td><td>31</td><td>49</td><td>47</td><td>29</td><td>50</td></tr>\n",
       "\t<tr><td>45</td><td>23</td><td>32</td><td>55</td><td>36</td><td>47</td><td>34</td><td>52</td><td>39</td><td>48</td><td>⋯</td><td>71</td><td>28</td><td>34</td><td>42</td><td>40</td><td>64</td><td>26</td><td>47</td><td>42</td><td>29</td></tr>\n",
       "\t<tr><td>45</td><td>48</td><td>40</td><td>50</td><td>55</td><td>38</td><td>49</td><td>40</td><td>38</td><td>58</td><td>⋯</td><td>49</td><td>64</td><td>69</td><td>44</td><td>49</td><td>61</td><td>29</td><td>32</td><td>55</td><td>47</td></tr>\n",
       "\t<tr><td>36</td><td>33</td><td>49</td><td>46</td><td>36</td><td>55</td><td>52</td><td>31</td><td>37</td><td>33</td><td>⋯</td><td>36</td><td>52</td><td>56</td><td>53</td><td>50</td><td>48</td><td>54</td><td>41</td><td>75</td><td>40</td></tr>\n",
       "\t<tr><td>53</td><td>60</td><td>27</td><td>29</td><td>29</td><td>40</td><td>42</td><td>41</td><td>53</td><td>60</td><td>⋯</td><td>40</td><td>31</td><td>42</td><td>37</td><td>37</td><td>22</td><td>40</td><td>63</td><td>53</td><td>79</td></tr>\n",
       "\t<tr><td>32</td><td>36</td><td>46</td><td>55</td><td>43</td><td>38</td><td>50</td><td>27</td><td>55</td><td>44</td><td>⋯</td><td>28</td><td>32</td><td>71</td><td>23</td><td>33</td><td>24</td><td>49</td><td>34</td><td>37</td><td>51</td></tr>\n",
       "\t<tr><td>61</td><td>59</td><td>31</td><td>25</td><td>43</td><td>43</td><td>42</td><td>57</td><td>64</td><td>56</td><td>⋯</td><td>52</td><td>23</td><td>52</td><td>51</td><td>22</td><td>49</td><td>36</td><td>44</td><td>54</td><td>62</td></tr>\n",
       "\t<tr><td>31</td><td>33</td><td>36</td><td>31</td><td>47</td><td>61</td><td>28</td><td>27</td><td>34</td><td>80</td><td>⋯</td><td>54</td><td>23</td><td>56</td><td>37</td><td>36</td><td>31</td><td>53</td><td>26</td><td>43</td><td>34</td></tr>\n",
       "\t<tr><td>45</td><td>66</td><td>30</td><td>32</td><td>43</td><td>51</td><td>23</td><td>52</td><td>53</td><td>34</td><td>⋯</td><td>49</td><td>45</td><td>55</td><td>33</td><td>39</td><td>43</td><td>71</td><td>62</td><td>22</td><td>22</td></tr>\n",
       "\t<tr><td>52</td><td>46</td><td>42</td><td>58</td><td>64</td><td>25</td><td>49</td><td>29</td><td>53</td><td>30</td><td>⋯</td><td>64</td><td>65</td><td>34</td><td>64</td><td>39</td><td>65</td><td>68</td><td>47</td><td>33</td><td>50</td></tr>\n",
       "\t<tr><td>33</td><td>45</td><td>55</td><td>48</td><td>41</td><td>38</td><td>44</td><td>44</td><td>61</td><td>40</td><td>⋯</td><td>35</td><td>41</td><td>34</td><td>31</td><td>45</td><td>34</td><td>32</td><td>46</td><td>44</td><td>34</td></tr>\n",
       "\t<tr><td>27</td><td>28</td><td>27</td><td>43</td><td>37</td><td>60</td><td>28</td><td>50</td><td>45</td><td>23</td><td>⋯</td><td>36</td><td>31</td><td>36</td><td>44</td><td>40</td><td>40</td><td>77</td><td>53</td><td>62</td><td>50</td></tr>\n",
       "\t<tr><td>61</td><td>47</td><td>23</td><td>44</td><td>56</td><td>37</td><td>43</td><td>48</td><td>32</td><td>26</td><td>⋯</td><td>52</td><td>70</td><td>30</td><td>61</td><td>49</td><td>36</td><td>49</td><td>47</td><td>58</td><td>39</td></tr>\n",
       "\t<tr><td>27</td><td>48</td><td>33</td><td>46</td><td>38</td><td>44</td><td>39</td><td>40</td><td>51</td><td>56</td><td>⋯</td><td>44</td><td>27</td><td>50</td><td>51</td><td>35</td><td>58</td><td>52</td><td>31</td><td>39</td><td>30</td></tr>\n",
       "\t<tr><td>20</td><td>41</td><td>53</td><td>37</td><td>52</td><td>44</td><td>43</td><td>42</td><td>65</td><td>53</td><td>⋯</td><td>50</td><td>54</td><td>52</td><td>40</td><td>50</td><td>60</td><td>35</td><td>26</td><td>37</td><td>67</td></tr>\n",
       "\t<tr><td>41</td><td>64</td><td>53</td><td>56</td><td>41</td><td>71</td><td>50</td><td>52</td><td>22</td><td>49</td><td>⋯</td><td>45</td><td>39</td><td>53</td><td>41</td><td>53</td><td>40</td><td>35</td><td>40</td><td>20</td><td>41</td></tr>\n",
       "\t<tr><td>29</td><td>38</td><td>40</td><td>44</td><td>41</td><td>48</td><td>41</td><td>48</td><td>49</td><td>41</td><td>⋯</td><td>44</td><td>44</td><td>29</td><td>54</td><td>48</td><td>29</td><td>28</td><td>45</td><td>56</td><td>57</td></tr>\n",
       "\t<tr><td>84</td><td>30</td><td>60</td><td>22</td><td>32</td><td>47</td><td>36</td><td>36</td><td>51</td><td>40</td><td>⋯</td><td>46</td><td>41</td><td>50</td><td>47</td><td>53</td><td>40</td><td>47</td><td>29</td><td>59</td><td>66</td></tr>\n",
       "\t<tr><td>53</td><td>37</td><td>34</td><td>28</td><td>37</td><td>36</td><td>38</td><td>25</td><td>47</td><td>47</td><td>⋯</td><td>32</td><td>30</td><td>33</td><td>52</td><td>40</td><td>49</td><td>69</td><td>55</td><td>35</td><td>29</td></tr>\n",
       "\t<tr><td>35</td><td>27</td><td>25</td><td>49</td><td>39</td><td>30</td><td>38</td><td>32</td><td>51</td><td>42</td><td>⋯</td><td>57</td><td>47</td><td>42</td><td>43</td><td>37</td><td>44</td><td>34</td><td>37</td><td>47</td><td>80</td></tr>\n",
       "\t<tr><td>⋮</td><td>⋮</td><td>⋮</td><td>⋮</td><td>⋮</td><td>⋮</td><td>⋮</td><td>⋮</td><td>⋮</td><td>⋮</td><td>⋱</td><td>⋮</td><td>⋮</td><td>⋮</td><td>⋮</td><td>⋮</td><td>⋮</td><td>⋮</td><td>⋮</td><td>⋮</td><td>⋮</td></tr>\n",
       "\t<tr><td>53</td><td>49</td><td>38</td><td>64</td><td>51</td><td>46</td><td>68</td><td>40</td><td>31</td><td>51</td><td>⋯</td><td>68</td><td>41</td><td>66</td><td>52</td><td>38</td><td>45</td><td>54</td><td>38</td><td>64</td><td>32</td></tr>\n",
       "\t<tr><td>40</td><td>28</td><td>38</td><td>24</td><td>54</td><td>52</td><td>22</td><td>57</td><td>38</td><td>22</td><td>⋯</td><td>33</td><td>38</td><td>33</td><td>40</td><td>57</td><td>45</td><td>34</td><td>66</td><td>44</td><td>39</td></tr>\n",
       "\t<tr><td>51</td><td>54</td><td>55</td><td>44</td><td>21</td><td>77</td><td>54</td><td>41</td><td>44</td><td>34</td><td>⋯</td><td>50</td><td>37</td><td>28</td><td>28</td><td>55</td><td>36</td><td>26</td><td>31</td><td>35</td><td>56</td></tr>\n",
       "\t<tr><td>42</td><td>58</td><td>45</td><td>42</td><td>61</td><td>39</td><td>36</td><td>30</td><td>43</td><td>49</td><td>⋯</td><td>34</td><td>54</td><td>43</td><td>52</td><td>31</td><td>46</td><td>55</td><td>62</td><td>40</td><td>24</td></tr>\n",
       "\t<tr><td>40</td><td>50</td><td>58</td><td>58</td><td>40</td><td>30</td><td>36</td><td>58</td><td>55</td><td>32</td><td>⋯</td><td>49</td><td>33</td><td>58</td><td>44</td><td>57</td><td>49</td><td>35</td><td>27</td><td>43</td><td>31</td></tr>\n",
       "\t<tr><td>60</td><td>33</td><td>38</td><td>59</td><td>37</td><td>33</td><td>37</td><td>58</td><td>46</td><td>55</td><td>⋯</td><td>37</td><td>37</td><td>40</td><td>70</td><td>43</td><td>58</td><td>40</td><td>44</td><td>38</td><td>50</td></tr>\n",
       "\t<tr><td>41</td><td>30</td><td>25</td><td>46</td><td>51</td><td>40</td><td>44</td><td>39</td><td>22</td><td>48</td><td>⋯</td><td>63</td><td>43</td><td>44</td><td>55</td><td>35</td><td>56</td><td>42</td><td>23</td><td>22</td><td>52</td></tr>\n",
       "\t<tr><td>32</td><td>48</td><td>51</td><td>39</td><td>57</td><td>37</td><td>31</td><td>49</td><td>32</td><td>28</td><td>⋯</td><td>66</td><td>26</td><td>23</td><td>47</td><td>28</td><td>62</td><td>24</td><td>54</td><td>51</td><td>42</td></tr>\n",
       "\t<tr><td>18</td><td>48</td><td>36</td><td>37</td><td>58</td><td>73</td><td>60</td><td>24</td><td>54</td><td>37</td><td>⋯</td><td>46</td><td>43</td><td>52</td><td>53</td><td>41</td><td>48</td><td>37</td><td>61</td><td>50</td><td>39</td></tr>\n",
       "\t<tr><td>46</td><td>51</td><td>58</td><td>51</td><td>64</td><td>38</td><td>40</td><td>43</td><td>53</td><td>26</td><td>⋯</td><td>67</td><td>27</td><td>31</td><td>36</td><td>25</td><td>47</td><td>50</td><td>52</td><td>41</td><td>58</td></tr>\n",
       "\t<tr><td>48</td><td>43</td><td>52</td><td>52</td><td>64</td><td>43</td><td>22</td><td>53</td><td>42</td><td>57</td><td>⋯</td><td>37</td><td>35</td><td>60</td><td>50</td><td>53</td><td>33</td><td>36</td><td>41</td><td>51</td><td>64</td></tr>\n",
       "\t<tr><td>75</td><td>37</td><td>40</td><td>32</td><td>50</td><td>22</td><td>39</td><td>47</td><td>53</td><td>45</td><td>⋯</td><td>43</td><td>45</td><td>43</td><td>38</td><td>35</td><td>62</td><td>59</td><td>50</td><td>57</td><td>37</td></tr>\n",
       "\t<tr><td>49</td><td>61</td><td>23</td><td>55</td><td>65</td><td>49</td><td>69</td><td>59</td><td>74</td><td>48</td><td>⋯</td><td>35</td><td>52</td><td>32</td><td>61</td><td>46</td><td>44</td><td>31</td><td>55</td><td>76</td><td>40</td></tr>\n",
       "\t<tr><td>39</td><td>36</td><td>59</td><td>51</td><td>30</td><td>42</td><td>47</td><td>53</td><td>58</td><td>19</td><td>⋯</td><td>46</td><td>33</td><td>36</td><td>37</td><td>36</td><td>39</td><td>25</td><td>36</td><td>27</td><td>37</td></tr>\n",
       "\t<tr><td>35</td><td>42</td><td>36</td><td>50</td><td>38</td><td>33</td><td>29</td><td>27</td><td>35</td><td>73</td><td>⋯</td><td>55</td><td>29</td><td>51</td><td>51</td><td>42</td><td>35</td><td>50</td><td>47</td><td>37</td><td>36</td></tr>\n",
       "\t<tr><td>43</td><td>41</td><td>50</td><td>27</td><td>26</td><td>25</td><td>29</td><td>32</td><td>33</td><td>35</td><td>⋯</td><td>48</td><td>50</td><td>32</td><td>30</td><td>32</td><td>28</td><td>61</td><td>28</td><td>60</td><td>40</td></tr>\n",
       "\t<tr><td>34</td><td>32</td><td>20</td><td>45</td><td>32</td><td>32</td><td>60</td><td>27</td><td>44</td><td>50</td><td>⋯</td><td>21</td><td>50</td><td>69</td><td>31</td><td>62</td><td>24</td><td>41</td><td>39</td><td>41</td><td>39</td></tr>\n",
       "\t<tr><td>28</td><td>52</td><td>44</td><td>39</td><td>35</td><td>58</td><td>59</td><td>42</td><td>27</td><td>52</td><td>⋯</td><td>35</td><td>44</td><td>53</td><td>21</td><td>35</td><td>32</td><td>41</td><td>19</td><td>25</td><td>30</td></tr>\n",
       "\t<tr><td>99</td><td>37</td><td>49</td><td>47</td><td>50</td><td>46</td><td>52</td><td>29</td><td>47</td><td>31</td><td>⋯</td><td>51</td><td>26</td><td>32</td><td>47</td><td>45</td><td>37</td><td>46</td><td>57</td><td>30</td><td>59</td></tr>\n",
       "\t<tr><td>28</td><td>30</td><td>32</td><td>59</td><td>62</td><td>58</td><td>31</td><td>26</td><td>53</td><td>23</td><td>⋯</td><td>66</td><td>51</td><td>27</td><td>56</td><td>41</td><td>22</td><td>48</td><td>45</td><td>48</td><td>48</td></tr>\n",
       "\t<tr><td>44</td><td>47</td><td>71</td><td>30</td><td>38</td><td>38</td><td>28</td><td>60</td><td>27</td><td>23</td><td>⋯</td><td>45</td><td>26</td><td>38</td><td>34</td><td>28</td><td>49</td><td>29</td><td>44</td><td>24</td><td>55</td></tr>\n",
       "\t<tr><td>38</td><td>48</td><td>42</td><td>40</td><td>32</td><td>53</td><td>40</td><td>37</td><td>27</td><td>75</td><td>⋯</td><td>54</td><td>50</td><td>55</td><td>43</td><td>32</td><td>40</td><td>33</td><td>50</td><td>54</td><td>50</td></tr>\n",
       "\t<tr><td>26</td><td>44</td><td>43</td><td>25</td><td>41</td><td>41</td><td>50</td><td>32</td><td>52</td><td>54</td><td>⋯</td><td>55</td><td>30</td><td>41</td><td>33</td><td>62</td><td>78</td><td>59</td><td>48</td><td>53</td><td>29</td></tr>\n",
       "\t<tr><td>41</td><td>41</td><td>49</td><td>41</td><td>56</td><td>43</td><td>48</td><td>22</td><td>38</td><td>56</td><td>⋯</td><td>33</td><td>67</td><td>28</td><td>30</td><td>49</td><td>46</td><td>64</td><td>23</td><td>54</td><td>47</td></tr>\n",
       "\t<tr><td>32</td><td>51</td><td>39</td><td>58</td><td>67</td><td>29</td><td>25</td><td>68</td><td>41</td><td>36</td><td>⋯</td><td>35</td><td>28</td><td>62</td><td>47</td><td>34</td><td>32</td><td>23</td><td>35</td><td>31</td><td>50</td></tr>\n",
       "\t<tr><td>49</td><td>46</td><td>35</td><td>54</td><td>58</td><td>35</td><td>40</td><td>38</td><td>76</td><td>49</td><td>⋯</td><td>51</td><td>59</td><td>26</td><td>51</td><td>43</td><td>45</td><td>38</td><td>75</td><td>40</td><td>46</td></tr>\n",
       "\t<tr><td>73</td><td>33</td><td>44</td><td>57</td><td>38</td><td>32</td><td>50</td><td>44</td><td>31</td><td>57</td><td>⋯</td><td>30</td><td>34</td><td>32</td><td>40</td><td>43</td><td>61</td><td>46</td><td>44</td><td>42</td><td>43</td></tr>\n",
       "\t<tr><td>39</td><td>57</td><td>68</td><td>28</td><td>37</td><td>50</td><td>51</td><td>35</td><td>32</td><td>40</td><td>⋯</td><td>58</td><td>57</td><td>27</td><td>38</td><td>42</td><td>38</td><td>24</td><td>35</td><td>32</td><td>44</td></tr>\n",
       "\t<tr><td>28</td><td>46</td><td>54</td><td>38</td><td>38</td><td>38</td><td>36</td><td>54</td><td>47</td><td>53</td><td>⋯</td><td>24</td><td>48</td><td>33</td><td>38</td><td>27</td><td>40</td><td>38</td><td>43</td><td>56</td><td>47</td></tr>\n",
       "\t<tr><td>65</td><td>28</td><td>46</td><td>50</td><td>68</td><td>47</td><td>54</td><td>37</td><td>45</td><td>29</td><td>⋯</td><td>34</td><td>41</td><td>38</td><td>39</td><td>47</td><td>41</td><td>53</td><td>37</td><td>29</td><td>39</td></tr>\n",
       "</tbody>\n",
       "</table>\n"
      ],
      "text/latex": [
       "A data.frame: 2000 × 1500\n",
       "\\begin{tabular}{lllllllllllllllllllll}\n",
       " Amostra\\_1 & Amostra\\_ 2 & Amostra\\_ 3 & Amostra\\_ 4 & Amostra\\_ 5 & Amostra\\_ 6 & Amostra\\_ 7 & Amostra\\_ 8 & Amostra\\_ 9 & Amostra\\_ 10 & ⋯ & Amostra\\_ 1491 & Amostra\\_ 1492 & Amostra\\_ 1493 & Amostra\\_ 1494 & Amostra\\_ 1495 & Amostra\\_ 1496 & Amostra\\_ 1497 & Amostra\\_ 1498 & Amostra\\_ 1499 & Amostra\\_ 1500\\\\\n",
       " <int> & <int> & <int> & <int> & <int> & <int> & <int> & <int> & <int> & <int> & ⋯ & <int> & <int> & <int> & <int> & <int> & <int> & <int> & <int> & <int> & <int>\\\\\n",
       "\\hline\n",
       "\t 37 & 42 & 36 & 58 & 49 & 57 & 29 & 41 & 49 & 47 & ⋯ & 32 & 29 & 43 & 30 & 50 & 52 & 37 & 23 & 64 & 59\\\\\n",
       "\t 33 & 44 & 40 & 46 & 63 & 53 & 50 & 38 & 34 & 40 & ⋯ & 61 & 37 & 55 & 40 & 84 & 44 & 63 & 53 & 25 & 47\\\\\n",
       "\t 46 & 34 & 35 & 45 & 35 & 49 & 55 & 57 & 47 & 82 & ⋯ & 69 & 36 & 49 & 52 & 48 & 37 & 65 & 32 & 22 & 36\\\\\n",
       "\t 42 & 57 & 31 & 35 & 38 & 55 & 37 & 37 & 56 & 44 & ⋯ & 55 & 74 & 49 & 39 & 37 & 65 & 28 & 46 & 44 & 40\\\\\n",
       "\t 55 & 57 & 55 & 71 & 36 & 50 & 43 & 62 & 52 & 63 & ⋯ & 25 & 44 & 33 & 30 & 35 & 69 & 22 & 42 & 46 & 35\\\\\n",
       "\t 25 & 42 & 36 & 34 & 49 & 54 & 37 & 22 & 24 & 57 & ⋯ & 45 & 54 & 52 & 43 & 79 & 52 & 45 & 27 & 47 & 43\\\\\n",
       "\t 50 & 51 & 47 & 39 & 33 & 53 & 53 & 57 & 41 & 48 & ⋯ & 62 & 59 & 27 & 45 & 32 & 54 & 55 & 39 & 30 & 46\\\\\n",
       "\t 40 & 59 & 47 & 53 & 38 & 27 & 67 & 48 & 60 & 35 & ⋯ & 60 & 75 & 62 & 59 & 73 & 57 & 53 & 34 & 40 & 52\\\\\n",
       "\t 40 & 70 & 33 & 48 & 56 & 53 & 41 & 68 & 39 & 60 & ⋯ & 42 & 69 & 42 & 73 & 23 & 39 & 44 & 57 & 58 & 63\\\\\n",
       "\t 51 & 64 & 64 & 49 & 47 & 32 & 41 & 41 & 23 & 55 & ⋯ & 59 & 66 & 28 & 32 & 45 & 32 & 32 & 63 & 31 & 28\\\\\n",
       "\t 35 & 34 & 22 & 57 & 59 & 37 & 35 & 33 & 45 & 30 & ⋯ & 30 & 56 & 40 & 45 & 35 & 31 & 49 & 47 & 29 & 50\\\\\n",
       "\t 45 & 23 & 32 & 55 & 36 & 47 & 34 & 52 & 39 & 48 & ⋯ & 71 & 28 & 34 & 42 & 40 & 64 & 26 & 47 & 42 & 29\\\\\n",
       "\t 45 & 48 & 40 & 50 & 55 & 38 & 49 & 40 & 38 & 58 & ⋯ & 49 & 64 & 69 & 44 & 49 & 61 & 29 & 32 & 55 & 47\\\\\n",
       "\t 36 & 33 & 49 & 46 & 36 & 55 & 52 & 31 & 37 & 33 & ⋯ & 36 & 52 & 56 & 53 & 50 & 48 & 54 & 41 & 75 & 40\\\\\n",
       "\t 53 & 60 & 27 & 29 & 29 & 40 & 42 & 41 & 53 & 60 & ⋯ & 40 & 31 & 42 & 37 & 37 & 22 & 40 & 63 & 53 & 79\\\\\n",
       "\t 32 & 36 & 46 & 55 & 43 & 38 & 50 & 27 & 55 & 44 & ⋯ & 28 & 32 & 71 & 23 & 33 & 24 & 49 & 34 & 37 & 51\\\\\n",
       "\t 61 & 59 & 31 & 25 & 43 & 43 & 42 & 57 & 64 & 56 & ⋯ & 52 & 23 & 52 & 51 & 22 & 49 & 36 & 44 & 54 & 62\\\\\n",
       "\t 31 & 33 & 36 & 31 & 47 & 61 & 28 & 27 & 34 & 80 & ⋯ & 54 & 23 & 56 & 37 & 36 & 31 & 53 & 26 & 43 & 34\\\\\n",
       "\t 45 & 66 & 30 & 32 & 43 & 51 & 23 & 52 & 53 & 34 & ⋯ & 49 & 45 & 55 & 33 & 39 & 43 & 71 & 62 & 22 & 22\\\\\n",
       "\t 52 & 46 & 42 & 58 & 64 & 25 & 49 & 29 & 53 & 30 & ⋯ & 64 & 65 & 34 & 64 & 39 & 65 & 68 & 47 & 33 & 50\\\\\n",
       "\t 33 & 45 & 55 & 48 & 41 & 38 & 44 & 44 & 61 & 40 & ⋯ & 35 & 41 & 34 & 31 & 45 & 34 & 32 & 46 & 44 & 34\\\\\n",
       "\t 27 & 28 & 27 & 43 & 37 & 60 & 28 & 50 & 45 & 23 & ⋯ & 36 & 31 & 36 & 44 & 40 & 40 & 77 & 53 & 62 & 50\\\\\n",
       "\t 61 & 47 & 23 & 44 & 56 & 37 & 43 & 48 & 32 & 26 & ⋯ & 52 & 70 & 30 & 61 & 49 & 36 & 49 & 47 & 58 & 39\\\\\n",
       "\t 27 & 48 & 33 & 46 & 38 & 44 & 39 & 40 & 51 & 56 & ⋯ & 44 & 27 & 50 & 51 & 35 & 58 & 52 & 31 & 39 & 30\\\\\n",
       "\t 20 & 41 & 53 & 37 & 52 & 44 & 43 & 42 & 65 & 53 & ⋯ & 50 & 54 & 52 & 40 & 50 & 60 & 35 & 26 & 37 & 67\\\\\n",
       "\t 41 & 64 & 53 & 56 & 41 & 71 & 50 & 52 & 22 & 49 & ⋯ & 45 & 39 & 53 & 41 & 53 & 40 & 35 & 40 & 20 & 41\\\\\n",
       "\t 29 & 38 & 40 & 44 & 41 & 48 & 41 & 48 & 49 & 41 & ⋯ & 44 & 44 & 29 & 54 & 48 & 29 & 28 & 45 & 56 & 57\\\\\n",
       "\t 84 & 30 & 60 & 22 & 32 & 47 & 36 & 36 & 51 & 40 & ⋯ & 46 & 41 & 50 & 47 & 53 & 40 & 47 & 29 & 59 & 66\\\\\n",
       "\t 53 & 37 & 34 & 28 & 37 & 36 & 38 & 25 & 47 & 47 & ⋯ & 32 & 30 & 33 & 52 & 40 & 49 & 69 & 55 & 35 & 29\\\\\n",
       "\t 35 & 27 & 25 & 49 & 39 & 30 & 38 & 32 & 51 & 42 & ⋯ & 57 & 47 & 42 & 43 & 37 & 44 & 34 & 37 & 47 & 80\\\\\n",
       "\t ⋮ & ⋮ & ⋮ & ⋮ & ⋮ & ⋮ & ⋮ & ⋮ & ⋮ & ⋮ & ⋱ & ⋮ & ⋮ & ⋮ & ⋮ & ⋮ & ⋮ & ⋮ & ⋮ & ⋮ & ⋮\\\\\n",
       "\t 53 & 49 & 38 & 64 & 51 & 46 & 68 & 40 & 31 & 51 & ⋯ & 68 & 41 & 66 & 52 & 38 & 45 & 54 & 38 & 64 & 32\\\\\n",
       "\t 40 & 28 & 38 & 24 & 54 & 52 & 22 & 57 & 38 & 22 & ⋯ & 33 & 38 & 33 & 40 & 57 & 45 & 34 & 66 & 44 & 39\\\\\n",
       "\t 51 & 54 & 55 & 44 & 21 & 77 & 54 & 41 & 44 & 34 & ⋯ & 50 & 37 & 28 & 28 & 55 & 36 & 26 & 31 & 35 & 56\\\\\n",
       "\t 42 & 58 & 45 & 42 & 61 & 39 & 36 & 30 & 43 & 49 & ⋯ & 34 & 54 & 43 & 52 & 31 & 46 & 55 & 62 & 40 & 24\\\\\n",
       "\t 40 & 50 & 58 & 58 & 40 & 30 & 36 & 58 & 55 & 32 & ⋯ & 49 & 33 & 58 & 44 & 57 & 49 & 35 & 27 & 43 & 31\\\\\n",
       "\t 60 & 33 & 38 & 59 & 37 & 33 & 37 & 58 & 46 & 55 & ⋯ & 37 & 37 & 40 & 70 & 43 & 58 & 40 & 44 & 38 & 50\\\\\n",
       "\t 41 & 30 & 25 & 46 & 51 & 40 & 44 & 39 & 22 & 48 & ⋯ & 63 & 43 & 44 & 55 & 35 & 56 & 42 & 23 & 22 & 52\\\\\n",
       "\t 32 & 48 & 51 & 39 & 57 & 37 & 31 & 49 & 32 & 28 & ⋯ & 66 & 26 & 23 & 47 & 28 & 62 & 24 & 54 & 51 & 42\\\\\n",
       "\t 18 & 48 & 36 & 37 & 58 & 73 & 60 & 24 & 54 & 37 & ⋯ & 46 & 43 & 52 & 53 & 41 & 48 & 37 & 61 & 50 & 39\\\\\n",
       "\t 46 & 51 & 58 & 51 & 64 & 38 & 40 & 43 & 53 & 26 & ⋯ & 67 & 27 & 31 & 36 & 25 & 47 & 50 & 52 & 41 & 58\\\\\n",
       "\t 48 & 43 & 52 & 52 & 64 & 43 & 22 & 53 & 42 & 57 & ⋯ & 37 & 35 & 60 & 50 & 53 & 33 & 36 & 41 & 51 & 64\\\\\n",
       "\t 75 & 37 & 40 & 32 & 50 & 22 & 39 & 47 & 53 & 45 & ⋯ & 43 & 45 & 43 & 38 & 35 & 62 & 59 & 50 & 57 & 37\\\\\n",
       "\t 49 & 61 & 23 & 55 & 65 & 49 & 69 & 59 & 74 & 48 & ⋯ & 35 & 52 & 32 & 61 & 46 & 44 & 31 & 55 & 76 & 40\\\\\n",
       "\t 39 & 36 & 59 & 51 & 30 & 42 & 47 & 53 & 58 & 19 & ⋯ & 46 & 33 & 36 & 37 & 36 & 39 & 25 & 36 & 27 & 37\\\\\n",
       "\t 35 & 42 & 36 & 50 & 38 & 33 & 29 & 27 & 35 & 73 & ⋯ & 55 & 29 & 51 & 51 & 42 & 35 & 50 & 47 & 37 & 36\\\\\n",
       "\t 43 & 41 & 50 & 27 & 26 & 25 & 29 & 32 & 33 & 35 & ⋯ & 48 & 50 & 32 & 30 & 32 & 28 & 61 & 28 & 60 & 40\\\\\n",
       "\t 34 & 32 & 20 & 45 & 32 & 32 & 60 & 27 & 44 & 50 & ⋯ & 21 & 50 & 69 & 31 & 62 & 24 & 41 & 39 & 41 & 39\\\\\n",
       "\t 28 & 52 & 44 & 39 & 35 & 58 & 59 & 42 & 27 & 52 & ⋯ & 35 & 44 & 53 & 21 & 35 & 32 & 41 & 19 & 25 & 30\\\\\n",
       "\t 99 & 37 & 49 & 47 & 50 & 46 & 52 & 29 & 47 & 31 & ⋯ & 51 & 26 & 32 & 47 & 45 & 37 & 46 & 57 & 30 & 59\\\\\n",
       "\t 28 & 30 & 32 & 59 & 62 & 58 & 31 & 26 & 53 & 23 & ⋯ & 66 & 51 & 27 & 56 & 41 & 22 & 48 & 45 & 48 & 48\\\\\n",
       "\t 44 & 47 & 71 & 30 & 38 & 38 & 28 & 60 & 27 & 23 & ⋯ & 45 & 26 & 38 & 34 & 28 & 49 & 29 & 44 & 24 & 55\\\\\n",
       "\t 38 & 48 & 42 & 40 & 32 & 53 & 40 & 37 & 27 & 75 & ⋯ & 54 & 50 & 55 & 43 & 32 & 40 & 33 & 50 & 54 & 50\\\\\n",
       "\t 26 & 44 & 43 & 25 & 41 & 41 & 50 & 32 & 52 & 54 & ⋯ & 55 & 30 & 41 & 33 & 62 & 78 & 59 & 48 & 53 & 29\\\\\n",
       "\t 41 & 41 & 49 & 41 & 56 & 43 & 48 & 22 & 38 & 56 & ⋯ & 33 & 67 & 28 & 30 & 49 & 46 & 64 & 23 & 54 & 47\\\\\n",
       "\t 32 & 51 & 39 & 58 & 67 & 29 & 25 & 68 & 41 & 36 & ⋯ & 35 & 28 & 62 & 47 & 34 & 32 & 23 & 35 & 31 & 50\\\\\n",
       "\t 49 & 46 & 35 & 54 & 58 & 35 & 40 & 38 & 76 & 49 & ⋯ & 51 & 59 & 26 & 51 & 43 & 45 & 38 & 75 & 40 & 46\\\\\n",
       "\t 73 & 33 & 44 & 57 & 38 & 32 & 50 & 44 & 31 & 57 & ⋯ & 30 & 34 & 32 & 40 & 43 & 61 & 46 & 44 & 42 & 43\\\\\n",
       "\t 39 & 57 & 68 & 28 & 37 & 50 & 51 & 35 & 32 & 40 & ⋯ & 58 & 57 & 27 & 38 & 42 & 38 & 24 & 35 & 32 & 44\\\\\n",
       "\t 28 & 46 & 54 & 38 & 38 & 38 & 36 & 54 & 47 & 53 & ⋯ & 24 & 48 & 33 & 38 & 27 & 40 & 38 & 43 & 56 & 47\\\\\n",
       "\t 65 & 28 & 46 & 50 & 68 & 47 & 54 & 37 & 45 & 29 & ⋯ & 34 & 41 & 38 & 39 & 47 & 41 & 53 & 37 & 29 & 39\\\\\n",
       "\\end{tabular}\n"
      ],
      "text/markdown": [
       "\n",
       "A data.frame: 2000 × 1500\n",
       "\n",
       "| Amostra_1 &lt;int&gt; | Amostra_ 2 &lt;int&gt; | Amostra_ 3 &lt;int&gt; | Amostra_ 4 &lt;int&gt; | Amostra_ 5 &lt;int&gt; | Amostra_ 6 &lt;int&gt; | Amostra_ 7 &lt;int&gt; | Amostra_ 8 &lt;int&gt; | Amostra_ 9 &lt;int&gt; | Amostra_ 10 &lt;int&gt; | ⋯ ⋯ | Amostra_ 1491 &lt;int&gt; | Amostra_ 1492 &lt;int&gt; | Amostra_ 1493 &lt;int&gt; | Amostra_ 1494 &lt;int&gt; | Amostra_ 1495 &lt;int&gt; | Amostra_ 1496 &lt;int&gt; | Amostra_ 1497 &lt;int&gt; | Amostra_ 1498 &lt;int&gt; | Amostra_ 1499 &lt;int&gt; | Amostra_ 1500 &lt;int&gt; |\n",
       "|---|---|---|---|---|---|---|---|---|---|---|---|---|---|---|---|---|---|---|---|---|\n",
       "| 37 | 42 | 36 | 58 | 49 | 57 | 29 | 41 | 49 | 47 | ⋯ | 32 | 29 | 43 | 30 | 50 | 52 | 37 | 23 | 64 | 59 |\n",
       "| 33 | 44 | 40 | 46 | 63 | 53 | 50 | 38 | 34 | 40 | ⋯ | 61 | 37 | 55 | 40 | 84 | 44 | 63 | 53 | 25 | 47 |\n",
       "| 46 | 34 | 35 | 45 | 35 | 49 | 55 | 57 | 47 | 82 | ⋯ | 69 | 36 | 49 | 52 | 48 | 37 | 65 | 32 | 22 | 36 |\n",
       "| 42 | 57 | 31 | 35 | 38 | 55 | 37 | 37 | 56 | 44 | ⋯ | 55 | 74 | 49 | 39 | 37 | 65 | 28 | 46 | 44 | 40 |\n",
       "| 55 | 57 | 55 | 71 | 36 | 50 | 43 | 62 | 52 | 63 | ⋯ | 25 | 44 | 33 | 30 | 35 | 69 | 22 | 42 | 46 | 35 |\n",
       "| 25 | 42 | 36 | 34 | 49 | 54 | 37 | 22 | 24 | 57 | ⋯ | 45 | 54 | 52 | 43 | 79 | 52 | 45 | 27 | 47 | 43 |\n",
       "| 50 | 51 | 47 | 39 | 33 | 53 | 53 | 57 | 41 | 48 | ⋯ | 62 | 59 | 27 | 45 | 32 | 54 | 55 | 39 | 30 | 46 |\n",
       "| 40 | 59 | 47 | 53 | 38 | 27 | 67 | 48 | 60 | 35 | ⋯ | 60 | 75 | 62 | 59 | 73 | 57 | 53 | 34 | 40 | 52 |\n",
       "| 40 | 70 | 33 | 48 | 56 | 53 | 41 | 68 | 39 | 60 | ⋯ | 42 | 69 | 42 | 73 | 23 | 39 | 44 | 57 | 58 | 63 |\n",
       "| 51 | 64 | 64 | 49 | 47 | 32 | 41 | 41 | 23 | 55 | ⋯ | 59 | 66 | 28 | 32 | 45 | 32 | 32 | 63 | 31 | 28 |\n",
       "| 35 | 34 | 22 | 57 | 59 | 37 | 35 | 33 | 45 | 30 | ⋯ | 30 | 56 | 40 | 45 | 35 | 31 | 49 | 47 | 29 | 50 |\n",
       "| 45 | 23 | 32 | 55 | 36 | 47 | 34 | 52 | 39 | 48 | ⋯ | 71 | 28 | 34 | 42 | 40 | 64 | 26 | 47 | 42 | 29 |\n",
       "| 45 | 48 | 40 | 50 | 55 | 38 | 49 | 40 | 38 | 58 | ⋯ | 49 | 64 | 69 | 44 | 49 | 61 | 29 | 32 | 55 | 47 |\n",
       "| 36 | 33 | 49 | 46 | 36 | 55 | 52 | 31 | 37 | 33 | ⋯ | 36 | 52 | 56 | 53 | 50 | 48 | 54 | 41 | 75 | 40 |\n",
       "| 53 | 60 | 27 | 29 | 29 | 40 | 42 | 41 | 53 | 60 | ⋯ | 40 | 31 | 42 | 37 | 37 | 22 | 40 | 63 | 53 | 79 |\n",
       "| 32 | 36 | 46 | 55 | 43 | 38 | 50 | 27 | 55 | 44 | ⋯ | 28 | 32 | 71 | 23 | 33 | 24 | 49 | 34 | 37 | 51 |\n",
       "| 61 | 59 | 31 | 25 | 43 | 43 | 42 | 57 | 64 | 56 | ⋯ | 52 | 23 | 52 | 51 | 22 | 49 | 36 | 44 | 54 | 62 |\n",
       "| 31 | 33 | 36 | 31 | 47 | 61 | 28 | 27 | 34 | 80 | ⋯ | 54 | 23 | 56 | 37 | 36 | 31 | 53 | 26 | 43 | 34 |\n",
       "| 45 | 66 | 30 | 32 | 43 | 51 | 23 | 52 | 53 | 34 | ⋯ | 49 | 45 | 55 | 33 | 39 | 43 | 71 | 62 | 22 | 22 |\n",
       "| 52 | 46 | 42 | 58 | 64 | 25 | 49 | 29 | 53 | 30 | ⋯ | 64 | 65 | 34 | 64 | 39 | 65 | 68 | 47 | 33 | 50 |\n",
       "| 33 | 45 | 55 | 48 | 41 | 38 | 44 | 44 | 61 | 40 | ⋯ | 35 | 41 | 34 | 31 | 45 | 34 | 32 | 46 | 44 | 34 |\n",
       "| 27 | 28 | 27 | 43 | 37 | 60 | 28 | 50 | 45 | 23 | ⋯ | 36 | 31 | 36 | 44 | 40 | 40 | 77 | 53 | 62 | 50 |\n",
       "| 61 | 47 | 23 | 44 | 56 | 37 | 43 | 48 | 32 | 26 | ⋯ | 52 | 70 | 30 | 61 | 49 | 36 | 49 | 47 | 58 | 39 |\n",
       "| 27 | 48 | 33 | 46 | 38 | 44 | 39 | 40 | 51 | 56 | ⋯ | 44 | 27 | 50 | 51 | 35 | 58 | 52 | 31 | 39 | 30 |\n",
       "| 20 | 41 | 53 | 37 | 52 | 44 | 43 | 42 | 65 | 53 | ⋯ | 50 | 54 | 52 | 40 | 50 | 60 | 35 | 26 | 37 | 67 |\n",
       "| 41 | 64 | 53 | 56 | 41 | 71 | 50 | 52 | 22 | 49 | ⋯ | 45 | 39 | 53 | 41 | 53 | 40 | 35 | 40 | 20 | 41 |\n",
       "| 29 | 38 | 40 | 44 | 41 | 48 | 41 | 48 | 49 | 41 | ⋯ | 44 | 44 | 29 | 54 | 48 | 29 | 28 | 45 | 56 | 57 |\n",
       "| 84 | 30 | 60 | 22 | 32 | 47 | 36 | 36 | 51 | 40 | ⋯ | 46 | 41 | 50 | 47 | 53 | 40 | 47 | 29 | 59 | 66 |\n",
       "| 53 | 37 | 34 | 28 | 37 | 36 | 38 | 25 | 47 | 47 | ⋯ | 32 | 30 | 33 | 52 | 40 | 49 | 69 | 55 | 35 | 29 |\n",
       "| 35 | 27 | 25 | 49 | 39 | 30 | 38 | 32 | 51 | 42 | ⋯ | 57 | 47 | 42 | 43 | 37 | 44 | 34 | 37 | 47 | 80 |\n",
       "| ⋮ | ⋮ | ⋮ | ⋮ | ⋮ | ⋮ | ⋮ | ⋮ | ⋮ | ⋮ | ⋱ | ⋮ | ⋮ | ⋮ | ⋮ | ⋮ | ⋮ | ⋮ | ⋮ | ⋮ | ⋮ |\n",
       "| 53 | 49 | 38 | 64 | 51 | 46 | 68 | 40 | 31 | 51 | ⋯ | 68 | 41 | 66 | 52 | 38 | 45 | 54 | 38 | 64 | 32 |\n",
       "| 40 | 28 | 38 | 24 | 54 | 52 | 22 | 57 | 38 | 22 | ⋯ | 33 | 38 | 33 | 40 | 57 | 45 | 34 | 66 | 44 | 39 |\n",
       "| 51 | 54 | 55 | 44 | 21 | 77 | 54 | 41 | 44 | 34 | ⋯ | 50 | 37 | 28 | 28 | 55 | 36 | 26 | 31 | 35 | 56 |\n",
       "| 42 | 58 | 45 | 42 | 61 | 39 | 36 | 30 | 43 | 49 | ⋯ | 34 | 54 | 43 | 52 | 31 | 46 | 55 | 62 | 40 | 24 |\n",
       "| 40 | 50 | 58 | 58 | 40 | 30 | 36 | 58 | 55 | 32 | ⋯ | 49 | 33 | 58 | 44 | 57 | 49 | 35 | 27 | 43 | 31 |\n",
       "| 60 | 33 | 38 | 59 | 37 | 33 | 37 | 58 | 46 | 55 | ⋯ | 37 | 37 | 40 | 70 | 43 | 58 | 40 | 44 | 38 | 50 |\n",
       "| 41 | 30 | 25 | 46 | 51 | 40 | 44 | 39 | 22 | 48 | ⋯ | 63 | 43 | 44 | 55 | 35 | 56 | 42 | 23 | 22 | 52 |\n",
       "| 32 | 48 | 51 | 39 | 57 | 37 | 31 | 49 | 32 | 28 | ⋯ | 66 | 26 | 23 | 47 | 28 | 62 | 24 | 54 | 51 | 42 |\n",
       "| 18 | 48 | 36 | 37 | 58 | 73 | 60 | 24 | 54 | 37 | ⋯ | 46 | 43 | 52 | 53 | 41 | 48 | 37 | 61 | 50 | 39 |\n",
       "| 46 | 51 | 58 | 51 | 64 | 38 | 40 | 43 | 53 | 26 | ⋯ | 67 | 27 | 31 | 36 | 25 | 47 | 50 | 52 | 41 | 58 |\n",
       "| 48 | 43 | 52 | 52 | 64 | 43 | 22 | 53 | 42 | 57 | ⋯ | 37 | 35 | 60 | 50 | 53 | 33 | 36 | 41 | 51 | 64 |\n",
       "| 75 | 37 | 40 | 32 | 50 | 22 | 39 | 47 | 53 | 45 | ⋯ | 43 | 45 | 43 | 38 | 35 | 62 | 59 | 50 | 57 | 37 |\n",
       "| 49 | 61 | 23 | 55 | 65 | 49 | 69 | 59 | 74 | 48 | ⋯ | 35 | 52 | 32 | 61 | 46 | 44 | 31 | 55 | 76 | 40 |\n",
       "| 39 | 36 | 59 | 51 | 30 | 42 | 47 | 53 | 58 | 19 | ⋯ | 46 | 33 | 36 | 37 | 36 | 39 | 25 | 36 | 27 | 37 |\n",
       "| 35 | 42 | 36 | 50 | 38 | 33 | 29 | 27 | 35 | 73 | ⋯ | 55 | 29 | 51 | 51 | 42 | 35 | 50 | 47 | 37 | 36 |\n",
       "| 43 | 41 | 50 | 27 | 26 | 25 | 29 | 32 | 33 | 35 | ⋯ | 48 | 50 | 32 | 30 | 32 | 28 | 61 | 28 | 60 | 40 |\n",
       "| 34 | 32 | 20 | 45 | 32 | 32 | 60 | 27 | 44 | 50 | ⋯ | 21 | 50 | 69 | 31 | 62 | 24 | 41 | 39 | 41 | 39 |\n",
       "| 28 | 52 | 44 | 39 | 35 | 58 | 59 | 42 | 27 | 52 | ⋯ | 35 | 44 | 53 | 21 | 35 | 32 | 41 | 19 | 25 | 30 |\n",
       "| 99 | 37 | 49 | 47 | 50 | 46 | 52 | 29 | 47 | 31 | ⋯ | 51 | 26 | 32 | 47 | 45 | 37 | 46 | 57 | 30 | 59 |\n",
       "| 28 | 30 | 32 | 59 | 62 | 58 | 31 | 26 | 53 | 23 | ⋯ | 66 | 51 | 27 | 56 | 41 | 22 | 48 | 45 | 48 | 48 |\n",
       "| 44 | 47 | 71 | 30 | 38 | 38 | 28 | 60 | 27 | 23 | ⋯ | 45 | 26 | 38 | 34 | 28 | 49 | 29 | 44 | 24 | 55 |\n",
       "| 38 | 48 | 42 | 40 | 32 | 53 | 40 | 37 | 27 | 75 | ⋯ | 54 | 50 | 55 | 43 | 32 | 40 | 33 | 50 | 54 | 50 |\n",
       "| 26 | 44 | 43 | 25 | 41 | 41 | 50 | 32 | 52 | 54 | ⋯ | 55 | 30 | 41 | 33 | 62 | 78 | 59 | 48 | 53 | 29 |\n",
       "| 41 | 41 | 49 | 41 | 56 | 43 | 48 | 22 | 38 | 56 | ⋯ | 33 | 67 | 28 | 30 | 49 | 46 | 64 | 23 | 54 | 47 |\n",
       "| 32 | 51 | 39 | 58 | 67 | 29 | 25 | 68 | 41 | 36 | ⋯ | 35 | 28 | 62 | 47 | 34 | 32 | 23 | 35 | 31 | 50 |\n",
       "| 49 | 46 | 35 | 54 | 58 | 35 | 40 | 38 | 76 | 49 | ⋯ | 51 | 59 | 26 | 51 | 43 | 45 | 38 | 75 | 40 | 46 |\n",
       "| 73 | 33 | 44 | 57 | 38 | 32 | 50 | 44 | 31 | 57 | ⋯ | 30 | 34 | 32 | 40 | 43 | 61 | 46 | 44 | 42 | 43 |\n",
       "| 39 | 57 | 68 | 28 | 37 | 50 | 51 | 35 | 32 | 40 | ⋯ | 58 | 57 | 27 | 38 | 42 | 38 | 24 | 35 | 32 | 44 |\n",
       "| 28 | 46 | 54 | 38 | 38 | 38 | 36 | 54 | 47 | 53 | ⋯ | 24 | 48 | 33 | 38 | 27 | 40 | 38 | 43 | 56 | 47 |\n",
       "| 65 | 28 | 46 | 50 | 68 | 47 | 54 | 37 | 45 | 29 | ⋯ | 34 | 41 | 38 | 39 | 47 | 41 | 53 | 37 | 29 | 39 |\n",
       "\n"
      ],
      "text/plain": [
       "     Amostra_1 Amostra_ 2 Amostra_ 3 Amostra_ 4 Amostra_ 5 Amostra_ 6\n",
       "1    37        42         36         58         49         57        \n",
       "2    33        44         40         46         63         53        \n",
       "3    46        34         35         45         35         49        \n",
       "4    42        57         31         35         38         55        \n",
       "5    55        57         55         71         36         50        \n",
       "6    25        42         36         34         49         54        \n",
       "7    50        51         47         39         33         53        \n",
       "8    40        59         47         53         38         27        \n",
       "9    40        70         33         48         56         53        \n",
       "10   51        64         64         49         47         32        \n",
       "11   35        34         22         57         59         37        \n",
       "12   45        23         32         55         36         47        \n",
       "13   45        48         40         50         55         38        \n",
       "14   36        33         49         46         36         55        \n",
       "15   53        60         27         29         29         40        \n",
       "16   32        36         46         55         43         38        \n",
       "17   61        59         31         25         43         43        \n",
       "18   31        33         36         31         47         61        \n",
       "19   45        66         30         32         43         51        \n",
       "20   52        46         42         58         64         25        \n",
       "21   33        45         55         48         41         38        \n",
       "22   27        28         27         43         37         60        \n",
       "23   61        47         23         44         56         37        \n",
       "24   27        48         33         46         38         44        \n",
       "25   20        41         53         37         52         44        \n",
       "26   41        64         53         56         41         71        \n",
       "27   29        38         40         44         41         48        \n",
       "28   84        30         60         22         32         47        \n",
       "29   53        37         34         28         37         36        \n",
       "30   35        27         25         49         39         30        \n",
       "⋮    ⋮         ⋮          ⋮          ⋮          ⋮          ⋮         \n",
       "1971 53        49         38         64         51         46        \n",
       "1972 40        28         38         24         54         52        \n",
       "1973 51        54         55         44         21         77        \n",
       "1974 42        58         45         42         61         39        \n",
       "1975 40        50         58         58         40         30        \n",
       "1976 60        33         38         59         37         33        \n",
       "1977 41        30         25         46         51         40        \n",
       "1978 32        48         51         39         57         37        \n",
       "1979 18        48         36         37         58         73        \n",
       "1980 46        51         58         51         64         38        \n",
       "1981 48        43         52         52         64         43        \n",
       "1982 75        37         40         32         50         22        \n",
       "1983 49        61         23         55         65         49        \n",
       "1984 39        36         59         51         30         42        \n",
       "1985 35        42         36         50         38         33        \n",
       "1986 43        41         50         27         26         25        \n",
       "1987 34        32         20         45         32         32        \n",
       "1988 28        52         44         39         35         58        \n",
       "1989 99        37         49         47         50         46        \n",
       "1990 28        30         32         59         62         58        \n",
       "1991 44        47         71         30         38         38        \n",
       "1992 38        48         42         40         32         53        \n",
       "1993 26        44         43         25         41         41        \n",
       "1994 41        41         49         41         56         43        \n",
       "1995 32        51         39         58         67         29        \n",
       "1996 49        46         35         54         58         35        \n",
       "1997 73        33         44         57         38         32        \n",
       "1998 39        57         68         28         37         50        \n",
       "1999 28        46         54         38         38         38        \n",
       "2000 65        28         46         50         68         47        \n",
       "     Amostra_ 7 Amostra_ 8 Amostra_ 9 Amostra_ 10 ⋯ Amostra_ 1491 Amostra_ 1492\n",
       "1    29         41         49         47          ⋯ 32            29           \n",
       "2    50         38         34         40          ⋯ 61            37           \n",
       "3    55         57         47         82          ⋯ 69            36           \n",
       "4    37         37         56         44          ⋯ 55            74           \n",
       "5    43         62         52         63          ⋯ 25            44           \n",
       "6    37         22         24         57          ⋯ 45            54           \n",
       "7    53         57         41         48          ⋯ 62            59           \n",
       "8    67         48         60         35          ⋯ 60            75           \n",
       "9    41         68         39         60          ⋯ 42            69           \n",
       "10   41         41         23         55          ⋯ 59            66           \n",
       "11   35         33         45         30          ⋯ 30            56           \n",
       "12   34         52         39         48          ⋯ 71            28           \n",
       "13   49         40         38         58          ⋯ 49            64           \n",
       "14   52         31         37         33          ⋯ 36            52           \n",
       "15   42         41         53         60          ⋯ 40            31           \n",
       "16   50         27         55         44          ⋯ 28            32           \n",
       "17   42         57         64         56          ⋯ 52            23           \n",
       "18   28         27         34         80          ⋯ 54            23           \n",
       "19   23         52         53         34          ⋯ 49            45           \n",
       "20   49         29         53         30          ⋯ 64            65           \n",
       "21   44         44         61         40          ⋯ 35            41           \n",
       "22   28         50         45         23          ⋯ 36            31           \n",
       "23   43         48         32         26          ⋯ 52            70           \n",
       "24   39         40         51         56          ⋯ 44            27           \n",
       "25   43         42         65         53          ⋯ 50            54           \n",
       "26   50         52         22         49          ⋯ 45            39           \n",
       "27   41         48         49         41          ⋯ 44            44           \n",
       "28   36         36         51         40          ⋯ 46            41           \n",
       "29   38         25         47         47          ⋯ 32            30           \n",
       "30   38         32         51         42          ⋯ 57            47           \n",
       "⋮    ⋮          ⋮          ⋮          ⋮           ⋱ ⋮             ⋮            \n",
       "1971 68         40         31         51          ⋯ 68            41           \n",
       "1972 22         57         38         22          ⋯ 33            38           \n",
       "1973 54         41         44         34          ⋯ 50            37           \n",
       "1974 36         30         43         49          ⋯ 34            54           \n",
       "1975 36         58         55         32          ⋯ 49            33           \n",
       "1976 37         58         46         55          ⋯ 37            37           \n",
       "1977 44         39         22         48          ⋯ 63            43           \n",
       "1978 31         49         32         28          ⋯ 66            26           \n",
       "1979 60         24         54         37          ⋯ 46            43           \n",
       "1980 40         43         53         26          ⋯ 67            27           \n",
       "1981 22         53         42         57          ⋯ 37            35           \n",
       "1982 39         47         53         45          ⋯ 43            45           \n",
       "1983 69         59         74         48          ⋯ 35            52           \n",
       "1984 47         53         58         19          ⋯ 46            33           \n",
       "1985 29         27         35         73          ⋯ 55            29           \n",
       "1986 29         32         33         35          ⋯ 48            50           \n",
       "1987 60         27         44         50          ⋯ 21            50           \n",
       "1988 59         42         27         52          ⋯ 35            44           \n",
       "1989 52         29         47         31          ⋯ 51            26           \n",
       "1990 31         26         53         23          ⋯ 66            51           \n",
       "1991 28         60         27         23          ⋯ 45            26           \n",
       "1992 40         37         27         75          ⋯ 54            50           \n",
       "1993 50         32         52         54          ⋯ 55            30           \n",
       "1994 48         22         38         56          ⋯ 33            67           \n",
       "1995 25         68         41         36          ⋯ 35            28           \n",
       "1996 40         38         76         49          ⋯ 51            59           \n",
       "1997 50         44         31         57          ⋯ 30            34           \n",
       "1998 51         35         32         40          ⋯ 58            57           \n",
       "1999 36         54         47         53          ⋯ 24            48           \n",
       "2000 54         37         45         29          ⋯ 34            41           \n",
       "     Amostra_ 1493 Amostra_ 1494 Amostra_ 1495 Amostra_ 1496 Amostra_ 1497\n",
       "1    43            30            50            52            37           \n",
       "2    55            40            84            44            63           \n",
       "3    49            52            48            37            65           \n",
       "4    49            39            37            65            28           \n",
       "5    33            30            35            69            22           \n",
       "6    52            43            79            52            45           \n",
       "7    27            45            32            54            55           \n",
       "8    62            59            73            57            53           \n",
       "9    42            73            23            39            44           \n",
       "10   28            32            45            32            32           \n",
       "11   40            45            35            31            49           \n",
       "12   34            42            40            64            26           \n",
       "13   69            44            49            61            29           \n",
       "14   56            53            50            48            54           \n",
       "15   42            37            37            22            40           \n",
       "16   71            23            33            24            49           \n",
       "17   52            51            22            49            36           \n",
       "18   56            37            36            31            53           \n",
       "19   55            33            39            43            71           \n",
       "20   34            64            39            65            68           \n",
       "21   34            31            45            34            32           \n",
       "22   36            44            40            40            77           \n",
       "23   30            61            49            36            49           \n",
       "24   50            51            35            58            52           \n",
       "25   52            40            50            60            35           \n",
       "26   53            41            53            40            35           \n",
       "27   29            54            48            29            28           \n",
       "28   50            47            53            40            47           \n",
       "29   33            52            40            49            69           \n",
       "30   42            43            37            44            34           \n",
       "⋮    ⋮             ⋮             ⋮             ⋮             ⋮            \n",
       "1971 66            52            38            45            54           \n",
       "1972 33            40            57            45            34           \n",
       "1973 28            28            55            36            26           \n",
       "1974 43            52            31            46            55           \n",
       "1975 58            44            57            49            35           \n",
       "1976 40            70            43            58            40           \n",
       "1977 44            55            35            56            42           \n",
       "1978 23            47            28            62            24           \n",
       "1979 52            53            41            48            37           \n",
       "1980 31            36            25            47            50           \n",
       "1981 60            50            53            33            36           \n",
       "1982 43            38            35            62            59           \n",
       "1983 32            61            46            44            31           \n",
       "1984 36            37            36            39            25           \n",
       "1985 51            51            42            35            50           \n",
       "1986 32            30            32            28            61           \n",
       "1987 69            31            62            24            41           \n",
       "1988 53            21            35            32            41           \n",
       "1989 32            47            45            37            46           \n",
       "1990 27            56            41            22            48           \n",
       "1991 38            34            28            49            29           \n",
       "1992 55            43            32            40            33           \n",
       "1993 41            33            62            78            59           \n",
       "1994 28            30            49            46            64           \n",
       "1995 62            47            34            32            23           \n",
       "1996 26            51            43            45            38           \n",
       "1997 32            40            43            61            46           \n",
       "1998 27            38            42            38            24           \n",
       "1999 33            38            27            40            38           \n",
       "2000 38            39            47            41            53           \n",
       "     Amostra_ 1498 Amostra_ 1499 Amostra_ 1500\n",
       "1    23            64            59           \n",
       "2    53            25            47           \n",
       "3    32            22            36           \n",
       "4    46            44            40           \n",
       "5    42            46            35           \n",
       "6    27            47            43           \n",
       "7    39            30            46           \n",
       "8    34            40            52           \n",
       "9    57            58            63           \n",
       "10   63            31            28           \n",
       "11   47            29            50           \n",
       "12   47            42            29           \n",
       "13   32            55            47           \n",
       "14   41            75            40           \n",
       "15   63            53            79           \n",
       "16   34            37            51           \n",
       "17   44            54            62           \n",
       "18   26            43            34           \n",
       "19   62            22            22           \n",
       "20   47            33            50           \n",
       "21   46            44            34           \n",
       "22   53            62            50           \n",
       "23   47            58            39           \n",
       "24   31            39            30           \n",
       "25   26            37            67           \n",
       "26   40            20            41           \n",
       "27   45            56            57           \n",
       "28   29            59            66           \n",
       "29   55            35            29           \n",
       "30   37            47            80           \n",
       "⋮    ⋮             ⋮             ⋮            \n",
       "1971 38            64            32           \n",
       "1972 66            44            39           \n",
       "1973 31            35            56           \n",
       "1974 62            40            24           \n",
       "1975 27            43            31           \n",
       "1976 44            38            50           \n",
       "1977 23            22            52           \n",
       "1978 54            51            42           \n",
       "1979 61            50            39           \n",
       "1980 52            41            58           \n",
       "1981 41            51            64           \n",
       "1982 50            57            37           \n",
       "1983 55            76            40           \n",
       "1984 36            27            37           \n",
       "1985 47            37            36           \n",
       "1986 28            60            40           \n",
       "1987 39            41            39           \n",
       "1988 19            25            30           \n",
       "1989 57            30            59           \n",
       "1990 45            48            48           \n",
       "1991 44            24            55           \n",
       "1992 50            54            50           \n",
       "1993 48            53            29           \n",
       "1994 23            54            47           \n",
       "1995 35            31            50           \n",
       "1996 75            40            46           \n",
       "1997 44            42            43           \n",
       "1998 35            32            44           \n",
       "1999 43            56            47           \n",
       "2000 37            29            39           "
      ]
     },
     "metadata": {},
     "output_type": "display_data"
    }
   ],
   "source": [
    "for (i in 1:total_de_amostras){\n",
    "    if(i==1){\n",
    "        amostras <- data.frame('Amostra_1' = sample(dados$Idade, n))\n",
    "    }else{\n",
    "        amostras[paste('Amostra_', i)] <- sample(dados$Idade, n)\n",
    "    }\n",
    "}\n",
    "amostras"
   ]
  },
  {
   "cell_type": "code",
   "execution_count": 57,
   "metadata": {
    "colab": {
     "base_uri": "https://localhost:8080/",
     "height": 1071
    },
    "colab_type": "code",
    "id": "v5Q-rnS_izNd",
    "outputId": "5097951e-8900-42f8-894a-539ad7d51f76",
    "scrolled": true
   },
   "outputs": [
    {
     "data": {
      "text/html": [
       "<style>\n",
       ".dl-inline {width: auto; margin:0; padding: 0}\n",
       ".dl-inline>dt, .dl-inline>dd {float: none; width: auto; display: inline-block}\n",
       ".dl-inline>dt::after {content: \":\\0020\"; padding-right: .5ex}\n",
       ".dl-inline>dt:not(:first-of-type) {padding-left: .5ex}\n",
       "</style><dl class=dl-inline><dt>Amostra_1</dt><dd>43.7365</dd><dt>Amostra_ 2</dt><dd>44.2905</dd><dt>Amostra_ 3</dt><dd>43.7145</dd><dt>Amostra_ 4</dt><dd>44.3045</dd><dt>Amostra_ 5</dt><dd>43.837</dd><dt>Amostra_ 6</dt><dd>44.399</dd><dt>Amostra_ 7</dt><dd>43.9135</dd><dt>Amostra_ 8</dt><dd>44.275</dd><dt>Amostra_ 9</dt><dd>44.0135</dd><dt>Amostra_ 10</dt><dd>44.221</dd><dt>Amostra_ 11</dt><dd>44.393</dd><dt>Amostra_ 12</dt><dd>44.0595</dd><dt>Amostra_ 13</dt><dd>44.617</dd><dt>Amostra_ 14</dt><dd>44.302</dd><dt>Amostra_ 15</dt><dd>44.1575</dd><dt>Amostra_ 16</dt><dd>43.91</dd><dt>Amostra_ 17</dt><dd>43.885</dd><dt>Amostra_ 18</dt><dd>44.148</dd><dt>Amostra_ 19</dt><dd>44.308</dd><dt>Amostra_ 20</dt><dd>43.9365</dd><dt>Amostra_ 21</dt><dd>43.745</dd><dt>Amostra_ 22</dt><dd>43.866</dd><dt>Amostra_ 23</dt><dd>44.2185</dd><dt>Amostra_ 24</dt><dd>43.629</dd><dt>Amostra_ 25</dt><dd>44.382</dd><dt>Amostra_ 26</dt><dd>43.8415</dd><dt>Amostra_ 27</dt><dd>44.189</dd><dt>Amostra_ 28</dt><dd>44.7655</dd><dt>Amostra_ 29</dt><dd>44.063</dd><dt>Amostra_ 30</dt><dd>43.3625</dd><dt>Amostra_ 31</dt><dd>44.2765</dd><dt>Amostra_ 32</dt><dd>43.9505</dd><dt>Amostra_ 33</dt><dd>44.025</dd><dt>Amostra_ 34</dt><dd>43.3275</dd><dt>Amostra_ 35</dt><dd>43.999</dd><dt>Amostra_ 36</dt><dd>44.5075</dd><dt>Amostra_ 37</dt><dd>44.366</dd><dt>Amostra_ 38</dt><dd>43.828</dd><dt>Amostra_ 39</dt><dd>44.115</dd><dt>Amostra_ 40</dt><dd>44.105</dd><dt>Amostra_ 41</dt><dd>44.203</dd><dt>Amostra_ 42</dt><dd>43.808</dd><dt>Amostra_ 43</dt><dd>44.1285</dd><dt>Amostra_ 44</dt><dd>44.581</dd><dt>Amostra_ 45</dt><dd>44.0365</dd><dt>Amostra_ 46</dt><dd>43.9085</dd><dt>Amostra_ 47</dt><dd>44.432</dd><dt>Amostra_ 48</dt><dd>43.908</dd><dt>Amostra_ 49</dt><dd>43.911</dd><dt>Amostra_ 50</dt><dd>44.383</dd><dt>Amostra_ 51</dt><dd>44.195</dd><dt>Amostra_ 52</dt><dd>44.448</dd><dt>Amostra_ 53</dt><dd>43.8465</dd><dt>Amostra_ 54</dt><dd>44.0855</dd><dt>Amostra_ 55</dt><dd>44.364</dd><dt>Amostra_ 56</dt><dd>43.951</dd><dt>Amostra_ 57</dt><dd>43.9695</dd><dt>Amostra_ 58</dt><dd>43.6575</dd><dt>Amostra_ 59</dt><dd>43.965</dd><dt>Amostra_ 60</dt><dd>44.4365</dd><dt>Amostra_ 61</dt><dd>43.594</dd><dt>Amostra_ 62</dt><dd>43.3465</dd><dt>Amostra_ 63</dt><dd>43.976</dd><dt>Amostra_ 64</dt><dd>44.2555</dd><dt>Amostra_ 65</dt><dd>44.067</dd><dt>Amostra_ 66</dt><dd>44.084</dd><dt>Amostra_ 67</dt><dd>43.6285</dd><dt>Amostra_ 68</dt><dd>44.4445</dd><dt>Amostra_ 69</dt><dd>44.269</dd><dt>Amostra_ 70</dt><dd>44.2935</dd><dt>Amostra_ 71</dt><dd>44.756</dd><dt>Amostra_ 72</dt><dd>44.1205</dd><dt>Amostra_ 73</dt><dd>44.252</dd><dt>Amostra_ 74</dt><dd>43.847</dd><dt>Amostra_ 75</dt><dd>44.127</dd><dt>Amostra_ 76</dt><dd>44.26</dd><dt>Amostra_ 77</dt><dd>44.0325</dd><dt>Amostra_ 78</dt><dd>44.109</dd><dt>Amostra_ 79</dt><dd>44.2435</dd><dt>Amostra_ 80</dt><dd>44.3375</dd><dt>Amostra_ 81</dt><dd>44.0725</dd><dt>Amostra_ 82</dt><dd>43.887</dd><dt>Amostra_ 83</dt><dd>44.15</dd><dt>Amostra_ 84</dt><dd>43.7925</dd><dt>Amostra_ 85</dt><dd>43.737</dd><dt>Amostra_ 86</dt><dd>43.9995</dd><dt>Amostra_ 87</dt><dd>44.0815</dd><dt>Amostra_ 88</dt><dd>44.128</dd><dt>Amostra_ 89</dt><dd>44.1625</dd><dt>Amostra_ 90</dt><dd>44.4925</dd><dt>Amostra_ 91</dt><dd>43.825</dd><dt>Amostra_ 92</dt><dd>44.119</dd><dt>Amostra_ 93</dt><dd>44.1065</dd><dt>Amostra_ 94</dt><dd>44.1185</dd><dt>Amostra_ 95</dt><dd>44.6865</dd><dt>Amostra_ 96</dt><dd>43.996</dd><dt>Amostra_ 97</dt><dd>44.8455</dd><dt>Amostra_ 98</dt><dd>43.662</dd><dt>Amostra_ 99</dt><dd>43.793</dd><dt>Amostra_ 100</dt><dd>44.2265</dd><dt>Amostra_ 101</dt><dd>43.975</dd><dt>Amostra_ 102</dt><dd>44.014</dd><dt>Amostra_ 103</dt><dd>44.221</dd><dt>Amostra_ 104</dt><dd>43.9825</dd><dt>Amostra_ 105</dt><dd>43.9145</dd><dt>Amostra_ 106</dt><dd>44.2345</dd><dt>Amostra_ 107</dt><dd>44.2895</dd><dt>Amostra_ 108</dt><dd>43.812</dd><dt>Amostra_ 109</dt><dd>44.1505</dd><dt>Amostra_ 110</dt><dd>43.8975</dd><dt>Amostra_ 111</dt><dd>44.2415</dd><dt>Amostra_ 112</dt><dd>43.942</dd><dt>Amostra_ 113</dt><dd>43.966</dd><dt>Amostra_ 114</dt><dd>43.6455</dd><dt>Amostra_ 115</dt><dd>44.0945</dd><dt>Amostra_ 116</dt><dd>44.3225</dd><dt>Amostra_ 117</dt><dd>44.5935</dd><dt>Amostra_ 118</dt><dd>44.222</dd><dt>Amostra_ 119</dt><dd>44.303</dd><dt>Amostra_ 120</dt><dd>44.217</dd><dt>Amostra_ 121</dt><dd>44.426</dd><dt>Amostra_ 122</dt><dd>44.3805</dd><dt>Amostra_ 123</dt><dd>43.7735</dd><dt>Amostra_ 124</dt><dd>43.736</dd><dt>Amostra_ 125</dt><dd>44.409</dd><dt>Amostra_ 126</dt><dd>43.7805</dd><dt>Amostra_ 127</dt><dd>44.2335</dd><dt>Amostra_ 128</dt><dd>43.925</dd><dt>Amostra_ 129</dt><dd>44.442</dd><dt>Amostra_ 130</dt><dd>43.6525</dd><dt>Amostra_ 131</dt><dd>44.1595</dd><dt>Amostra_ 132</dt><dd>44.167</dd><dt>Amostra_ 133</dt><dd>43.8025</dd><dt>Amostra_ 134</dt><dd>43.545</dd><dt>Amostra_ 135</dt><dd>43.0285</dd><dt>Amostra_ 136</dt><dd>43.7925</dd><dt>Amostra_ 137</dt><dd>44.013</dd><dt>Amostra_ 138</dt><dd>44.137</dd><dt>Amostra_ 139</dt><dd>44.036</dd><dt>Amostra_ 140</dt><dd>44.1795</dd><dt>Amostra_ 141</dt><dd>44.729</dd><dt>Amostra_ 142</dt><dd>44.0315</dd><dt>Amostra_ 143</dt><dd>43.8195</dd><dt>Amostra_ 144</dt><dd>44.306</dd><dt>Amostra_ 145</dt><dd>44.2475</dd><dt>Amostra_ 146</dt><dd>43.8525</dd><dt>Amostra_ 147</dt><dd>43.9995</dd><dt>Amostra_ 148</dt><dd>43.639</dd><dt>Amostra_ 149</dt><dd>43.921</dd><dt>Amostra_ 150</dt><dd>44.012</dd><dt>Amostra_ 151</dt><dd>44.7785</dd><dt>Amostra_ 152</dt><dd>44.1535</dd><dt>Amostra_ 153</dt><dd>44.043</dd><dt>Amostra_ 154</dt><dd>43.7425</dd><dt>Amostra_ 155</dt><dd>44.1695</dd><dt>Amostra_ 156</dt><dd>44.615</dd><dt>Amostra_ 157</dt><dd>44.022</dd><dt>Amostra_ 158</dt><dd>44.4275</dd><dt>Amostra_ 159</dt><dd>43.8605</dd><dt>Amostra_ 160</dt><dd>43.9595</dd><dt>Amostra_ 161</dt><dd>44.133</dd><dt>Amostra_ 162</dt><dd>43.8635</dd><dt>Amostra_ 163</dt><dd>44.0105</dd><dt>Amostra_ 164</dt><dd>43.6925</dd><dt>Amostra_ 165</dt><dd>43.874</dd><dt>Amostra_ 166</dt><dd>44.3355</dd><dt>Amostra_ 167</dt><dd>44.3745</dd><dt>Amostra_ 168</dt><dd>44.178</dd><dt>Amostra_ 169</dt><dd>44.1205</dd><dt>Amostra_ 170</dt><dd>44.1085</dd><dt>Amostra_ 171</dt><dd>44.244</dd><dt>Amostra_ 172</dt><dd>43.9975</dd><dt>Amostra_ 173</dt><dd>44.2085</dd><dt>Amostra_ 174</dt><dd>43.7825</dd><dt>Amostra_ 175</dt><dd>43.6275</dd><dt>Amostra_ 176</dt><dd>44.2595</dd><dt>Amostra_ 177</dt><dd>44.091</dd><dt>Amostra_ 178</dt><dd>44.1905</dd><dt>Amostra_ 179</dt><dd>44.352</dd><dt>Amostra_ 180</dt><dd>43.8995</dd><dt>Amostra_ 181</dt><dd>44.261</dd><dt>Amostra_ 182</dt><dd>43.7865</dd><dt>Amostra_ 183</dt><dd>44.054</dd><dt>Amostra_ 184</dt><dd>43.803</dd><dt>Amostra_ 185</dt><dd>43.911</dd><dt>Amostra_ 186</dt><dd>44.183</dd><dt>Amostra_ 187</dt><dd>44.38</dd><dt>Amostra_ 188</dt><dd>44.138</dd><dt>Amostra_ 189</dt><dd>43.679</dd><dt>Amostra_ 190</dt><dd>44.2385</dd><dt>Amostra_ 191</dt><dd>44.3855</dd><dt>Amostra_ 192</dt><dd>44.2795</dd><dt>Amostra_ 193</dt><dd>44.2075</dd><dt>Amostra_ 194</dt><dd>44.0625</dd><dt>Amostra_ 195</dt><dd>44.032</dd><dt>Amostra_ 196</dt><dd>43.8195</dd><dt>Amostra_ 197</dt><dd>44.129</dd><dt>Amostra_ 198</dt><dd>44.108</dd><dt>Amostra_ 199</dt><dd>44.1625</dd><dt>Amostra_ 200</dt><dd>44.0055</dd><dt>Amostra_ 201</dt><dd>⋯</dd><dt>Amostra_ 202</dt><dd>44.2895</dd><dt>Amostra_ 203</dt><dd>44.025</dd><dt>Amostra_ 204</dt><dd>43.735</dd><dt>Amostra_ 205</dt><dd>44.5955</dd><dt>Amostra_ 206</dt><dd>44</dd><dt>Amostra_ 207</dt><dd>44.4735</dd><dt>Amostra_ 208</dt><dd>43.796</dd><dt>Amostra_ 209</dt><dd>44.145</dd><dt>Amostra_ 210</dt><dd>44.169</dd><dt>Amostra_ 211</dt><dd>43.6435</dd><dt>Amostra_ 212</dt><dd>43.6915</dd><dt>Amostra_ 213</dt><dd>43.7495</dd><dt>Amostra_ 214</dt><dd>43.9235</dd><dt>Amostra_ 215</dt><dd>44.333</dd><dt>Amostra_ 216</dt><dd>43.5105</dd><dt>Amostra_ 217</dt><dd>44.08</dd><dt>Amostra_ 218</dt><dd>44.067</dd><dt>Amostra_ 219</dt><dd>44.102</dd><dt>Amostra_ 220</dt><dd>44.2515</dd><dt>Amostra_ 221</dt><dd>43.795</dd><dt>Amostra_ 222</dt><dd>44.241</dd><dt>Amostra_ 223</dt><dd>43.7995</dd><dt>Amostra_ 224</dt><dd>43.786</dd><dt>Amostra_ 225</dt><dd>43.761</dd><dt>Amostra_ 226</dt><dd>44.405</dd><dt>Amostra_ 227</dt><dd>44.6855</dd><dt>Amostra_ 228</dt><dd>43.914</dd><dt>Amostra_ 229</dt><dd>43.998</dd><dt>Amostra_ 230</dt><dd>44.3145</dd><dt>Amostra_ 231</dt><dd>43.828</dd><dt>Amostra_ 232</dt><dd>44.628</dd><dt>Amostra_ 233</dt><dd>44.3025</dd><dt>Amostra_ 234</dt><dd>43.5445</dd><dt>Amostra_ 235</dt><dd>43.7485</dd><dt>Amostra_ 236</dt><dd>44.439</dd><dt>Amostra_ 237</dt><dd>44.573</dd><dt>Amostra_ 238</dt><dd>43.694</dd><dt>Amostra_ 239</dt><dd>44.0705</dd><dt>Amostra_ 240</dt><dd>43.758</dd><dt>Amostra_ 241</dt><dd>44.187</dd><dt>Amostra_ 242</dt><dd>44.268</dd><dt>Amostra_ 243</dt><dd>44.0285</dd><dt>Amostra_ 244</dt><dd>44.725</dd><dt>Amostra_ 245</dt><dd>44.3595</dd><dt>Amostra_ 246</dt><dd>43.903</dd><dt>Amostra_ 247</dt><dd>43.6905</dd><dt>Amostra_ 248</dt><dd>44.0925</dd><dt>Amostra_ 249</dt><dd>43.7275</dd><dt>Amostra_ 250</dt><dd>44.479</dd><dt>Amostra_ 251</dt><dd>44.1525</dd><dt>Amostra_ 252</dt><dd>44.092</dd><dt>Amostra_ 253</dt><dd>43.7705</dd><dt>Amostra_ 254</dt><dd>44.0895</dd><dt>Amostra_ 255</dt><dd>44.291</dd><dt>Amostra_ 256</dt><dd>44.063</dd><dt>Amostra_ 257</dt><dd>44.1205</dd><dt>Amostra_ 258</dt><dd>43.4135</dd><dt>Amostra_ 259</dt><dd>44.1475</dd><dt>Amostra_ 260</dt><dd>43.8395</dd><dt>Amostra_ 261</dt><dd>43.913</dd><dt>Amostra_ 262</dt><dd>43.8765</dd><dt>Amostra_ 263</dt><dd>43.845</dd><dt>Amostra_ 264</dt><dd>43.8625</dd><dt>Amostra_ 265</dt><dd>44.2625</dd><dt>Amostra_ 266</dt><dd>44.145</dd><dt>Amostra_ 267</dt><dd>44.0425</dd><dt>Amostra_ 268</dt><dd>44.5225</dd><dt>Amostra_ 269</dt><dd>44.1185</dd><dt>Amostra_ 270</dt><dd>43.6915</dd><dt>Amostra_ 271</dt><dd>44.5865</dd><dt>Amostra_ 272</dt><dd>43.977</dd><dt>Amostra_ 273</dt><dd>43.7595</dd><dt>Amostra_ 274</dt><dd>43.823</dd><dt>Amostra_ 275</dt><dd>44.2315</dd><dt>Amostra_ 276</dt><dd>43.784</dd><dt>Amostra_ 277</dt><dd>43.8915</dd><dt>Amostra_ 278</dt><dd>43.9075</dd><dt>Amostra_ 279</dt><dd>43.9085</dd><dt>Amostra_ 280</dt><dd>44.4055</dd><dt>Amostra_ 281</dt><dd>43.9845</dd><dt>Amostra_ 282</dt><dd>43.7745</dd><dt>Amostra_ 283</dt><dd>43.8945</dd><dt>Amostra_ 284</dt><dd>43.9415</dd><dt>Amostra_ 285</dt><dd>43.883</dd><dt>Amostra_ 286</dt><dd>44.3625</dd><dt>Amostra_ 287</dt><dd>44.263</dd><dt>Amostra_ 288</dt><dd>43.7305</dd><dt>Amostra_ 289</dt><dd>44.21</dd><dt>Amostra_ 290</dt><dd>44.285</dd><dt>Amostra_ 291</dt><dd>43.935</dd><dt>Amostra_ 292</dt><dd>44.1545</dd><dt>Amostra_ 293</dt><dd>43.68</dd><dt>Amostra_ 294</dt><dd>43.9935</dd><dt>Amostra_ 295</dt><dd>43.981</dd><dt>Amostra_ 296</dt><dd>44.444</dd><dt>Amostra_ 297</dt><dd>44.358</dd><dt>Amostra_ 298</dt><dd>43.9875</dd><dt>Amostra_ 299</dt><dd>44.3415</dd><dt>Amostra_ 300</dt><dd>43.625</dd><dt>Amostra_ 301</dt><dd>44.272</dd><dt>Amostra_ 302</dt><dd>43.8025</dd><dt>Amostra_ 303</dt><dd>44.3045</dd><dt>Amostra_ 304</dt><dd>43.695</dd><dt>Amostra_ 305</dt><dd>43.768</dd><dt>Amostra_ 306</dt><dd>44.024</dd><dt>Amostra_ 307</dt><dd>43.8925</dd><dt>Amostra_ 308</dt><dd>44.1055</dd><dt>Amostra_ 309</dt><dd>44.5005</dd><dt>Amostra_ 310</dt><dd>44.4695</dd><dt>Amostra_ 311</dt><dd>44.0505</dd><dt>Amostra_ 312</dt><dd>44.0065</dd><dt>Amostra_ 313</dt><dd>44.062</dd><dt>Amostra_ 314</dt><dd>44.0455</dd><dt>Amostra_ 315</dt><dd>44.067</dd><dt>Amostra_ 316</dt><dd>43.482</dd><dt>Amostra_ 317</dt><dd>44.335</dd><dt>Amostra_ 318</dt><dd>43.563</dd><dt>Amostra_ 319</dt><dd>44.204</dd><dt>Amostra_ 320</dt><dd>44.14</dd><dt>Amostra_ 321</dt><dd>43.956</dd><dt>Amostra_ 322</dt><dd>43.7785</dd><dt>Amostra_ 323</dt><dd>43.582</dd><dt>Amostra_ 324</dt><dd>43.8675</dd><dt>Amostra_ 325</dt><dd>44.19</dd><dt>Amostra_ 326</dt><dd>43.8505</dd><dt>Amostra_ 327</dt><dd>44.3055</dd><dt>Amostra_ 328</dt><dd>44.3365</dd><dt>Amostra_ 329</dt><dd>44.5705</dd><dt>Amostra_ 330</dt><dd>44.032</dd><dt>Amostra_ 331</dt><dd>44.3255</dd><dt>Amostra_ 332</dt><dd>43.9095</dd><dt>Amostra_ 333</dt><dd>43.737</dd><dt>Amostra_ 334</dt><dd>43.641</dd><dt>Amostra_ 335</dt><dd>44.289</dd><dt>Amostra_ 336</dt><dd>44.3265</dd><dt>Amostra_ 337</dt><dd>44.02</dd><dt>Amostra_ 338</dt><dd>44.2595</dd><dt>Amostra_ 339</dt><dd>44.473</dd><dt>Amostra_ 340</dt><dd>44.55</dd><dt>Amostra_ 341</dt><dd>43.9365</dd><dt>Amostra_ 342</dt><dd>44.084</dd><dt>Amostra_ 343</dt><dd>44.213</dd><dt>Amostra_ 344</dt><dd>44.275</dd><dt>Amostra_ 345</dt><dd>44.3765</dd><dt>Amostra_ 346</dt><dd>44.468</dd><dt>Amostra_ 347</dt><dd>44.6415</dd><dt>Amostra_ 348</dt><dd>43.5705</dd><dt>Amostra_ 349</dt><dd>43.975</dd><dt>Amostra_ 350</dt><dd>44.108</dd><dt>Amostra_ 351</dt><dd>44.1415</dd><dt>Amostra_ 352</dt><dd>43.889</dd><dt>Amostra_ 353</dt><dd>44.454</dd><dt>Amostra_ 354</dt><dd>44.349</dd><dt>Amostra_ 355</dt><dd>43.7675</dd><dt>Amostra_ 356</dt><dd>44.047</dd><dt>Amostra_ 357</dt><dd>44.333</dd><dt>Amostra_ 358</dt><dd>44.5285</dd><dt>Amostra_ 359</dt><dd>44.7705</dd><dt>Amostra_ 360</dt><dd>43.786</dd><dt>Amostra_ 361</dt><dd>44.017</dd><dt>Amostra_ 362</dt><dd>43.832</dd><dt>Amostra_ 363</dt><dd>44.085</dd><dt>Amostra_ 364</dt><dd>44.013</dd><dt>Amostra_ 365</dt><dd>44.4185</dd><dt>Amostra_ 366</dt><dd>44.4255</dd><dt>Amostra_ 367</dt><dd>44</dd><dt>Amostra_ 368</dt><dd>44.0105</dd><dt>Amostra_ 369</dt><dd>44.032</dd><dt>Amostra_ 370</dt><dd>43.738</dd><dt>Amostra_ 371</dt><dd>43.6565</dd><dt>Amostra_ 372</dt><dd>43.8685</dd><dt>Amostra_ 373</dt><dd>44.1085</dd><dt>Amostra_ 374</dt><dd>44.3055</dd><dt>Amostra_ 375</dt><dd>44.1785</dd><dt>Amostra_ 376</dt><dd>44.1765</dd><dt>Amostra_ 377</dt><dd>43.905</dd><dt>Amostra_ 378</dt><dd>44.2875</dd><dt>Amostra_ 379</dt><dd>43.6355</dd><dt>Amostra_ 380</dt><dd>44.072</dd><dt>Amostra_ 381</dt><dd>43.8925</dd><dt>Amostra_ 382</dt><dd>44.1465</dd><dt>Amostra_ 383</dt><dd>44.0435</dd><dt>Amostra_ 384</dt><dd>43.8895</dd><dt>Amostra_ 385</dt><dd>44.1705</dd><dt>Amostra_ 386</dt><dd>44.1615</dd><dt>Amostra_ 387</dt><dd>44.2655</dd><dt>Amostra_ 388</dt><dd>43.7505</dd><dt>Amostra_ 389</dt><dd>44.789</dd><dt>Amostra_ 390</dt><dd>44.5645</dd><dt>Amostra_ 391</dt><dd>43.8795</dd><dt>Amostra_ 392</dt><dd>44.056</dd><dt>Amostra_ 393</dt><dd>44.068</dd><dt>Amostra_ 394</dt><dd>44.061</dd><dt>Amostra_ 395</dt><dd>43.9355</dd><dt>Amostra_ 396</dt><dd>44.0795</dd><dt>Amostra_ 397</dt><dd>43.7445</dd><dt>Amostra_ 398</dt><dd>43.9155</dd><dt>Amostra_ 399</dt><dd>44.6005</dd><dt>Amostra_ 400</dt><dd>43.803</dd><dt>Amostra_ 401</dt><dd>44.1575</dd></dl>\n"
      ],
      "text/latex": [
       "\\begin{description*}\n",
       "\\item[Amostra\\textbackslash{}\\_1] 43.7365\n",
       "\\item[Amostra\\textbackslash{}\\_ 2] 44.2905\n",
       "\\item[Amostra\\textbackslash{}\\_ 3] 43.7145\n",
       "\\item[Amostra\\textbackslash{}\\_ 4] 44.3045\n",
       "\\item[Amostra\\textbackslash{}\\_ 5] 43.837\n",
       "\\item[Amostra\\textbackslash{}\\_ 6] 44.399\n",
       "\\item[Amostra\\textbackslash{}\\_ 7] 43.9135\n",
       "\\item[Amostra\\textbackslash{}\\_ 8] 44.275\n",
       "\\item[Amostra\\textbackslash{}\\_ 9] 44.0135\n",
       "\\item[Amostra\\textbackslash{}\\_ 10] 44.221\n",
       "\\item[Amostra\\textbackslash{}\\_ 11] 44.393\n",
       "\\item[Amostra\\textbackslash{}\\_ 12] 44.0595\n",
       "\\item[Amostra\\textbackslash{}\\_ 13] 44.617\n",
       "\\item[Amostra\\textbackslash{}\\_ 14] 44.302\n",
       "\\item[Amostra\\textbackslash{}\\_ 15] 44.1575\n",
       "\\item[Amostra\\textbackslash{}\\_ 16] 43.91\n",
       "\\item[Amostra\\textbackslash{}\\_ 17] 43.885\n",
       "\\item[Amostra\\textbackslash{}\\_ 18] 44.148\n",
       "\\item[Amostra\\textbackslash{}\\_ 19] 44.308\n",
       "\\item[Amostra\\textbackslash{}\\_ 20] 43.9365\n",
       "\\item[Amostra\\textbackslash{}\\_ 21] 43.745\n",
       "\\item[Amostra\\textbackslash{}\\_ 22] 43.866\n",
       "\\item[Amostra\\textbackslash{}\\_ 23] 44.2185\n",
       "\\item[Amostra\\textbackslash{}\\_ 24] 43.629\n",
       "\\item[Amostra\\textbackslash{}\\_ 25] 44.382\n",
       "\\item[Amostra\\textbackslash{}\\_ 26] 43.8415\n",
       "\\item[Amostra\\textbackslash{}\\_ 27] 44.189\n",
       "\\item[Amostra\\textbackslash{}\\_ 28] 44.7655\n",
       "\\item[Amostra\\textbackslash{}\\_ 29] 44.063\n",
       "\\item[Amostra\\textbackslash{}\\_ 30] 43.3625\n",
       "\\item[Amostra\\textbackslash{}\\_ 31] 44.2765\n",
       "\\item[Amostra\\textbackslash{}\\_ 32] 43.9505\n",
       "\\item[Amostra\\textbackslash{}\\_ 33] 44.025\n",
       "\\item[Amostra\\textbackslash{}\\_ 34] 43.3275\n",
       "\\item[Amostra\\textbackslash{}\\_ 35] 43.999\n",
       "\\item[Amostra\\textbackslash{}\\_ 36] 44.5075\n",
       "\\item[Amostra\\textbackslash{}\\_ 37] 44.366\n",
       "\\item[Amostra\\textbackslash{}\\_ 38] 43.828\n",
       "\\item[Amostra\\textbackslash{}\\_ 39] 44.115\n",
       "\\item[Amostra\\textbackslash{}\\_ 40] 44.105\n",
       "\\item[Amostra\\textbackslash{}\\_ 41] 44.203\n",
       "\\item[Amostra\\textbackslash{}\\_ 42] 43.808\n",
       "\\item[Amostra\\textbackslash{}\\_ 43] 44.1285\n",
       "\\item[Amostra\\textbackslash{}\\_ 44] 44.581\n",
       "\\item[Amostra\\textbackslash{}\\_ 45] 44.0365\n",
       "\\item[Amostra\\textbackslash{}\\_ 46] 43.9085\n",
       "\\item[Amostra\\textbackslash{}\\_ 47] 44.432\n",
       "\\item[Amostra\\textbackslash{}\\_ 48] 43.908\n",
       "\\item[Amostra\\textbackslash{}\\_ 49] 43.911\n",
       "\\item[Amostra\\textbackslash{}\\_ 50] 44.383\n",
       "\\item[Amostra\\textbackslash{}\\_ 51] 44.195\n",
       "\\item[Amostra\\textbackslash{}\\_ 52] 44.448\n",
       "\\item[Amostra\\textbackslash{}\\_ 53] 43.8465\n",
       "\\item[Amostra\\textbackslash{}\\_ 54] 44.0855\n",
       "\\item[Amostra\\textbackslash{}\\_ 55] 44.364\n",
       "\\item[Amostra\\textbackslash{}\\_ 56] 43.951\n",
       "\\item[Amostra\\textbackslash{}\\_ 57] 43.9695\n",
       "\\item[Amostra\\textbackslash{}\\_ 58] 43.6575\n",
       "\\item[Amostra\\textbackslash{}\\_ 59] 43.965\n",
       "\\item[Amostra\\textbackslash{}\\_ 60] 44.4365\n",
       "\\item[Amostra\\textbackslash{}\\_ 61] 43.594\n",
       "\\item[Amostra\\textbackslash{}\\_ 62] 43.3465\n",
       "\\item[Amostra\\textbackslash{}\\_ 63] 43.976\n",
       "\\item[Amostra\\textbackslash{}\\_ 64] 44.2555\n",
       "\\item[Amostra\\textbackslash{}\\_ 65] 44.067\n",
       "\\item[Amostra\\textbackslash{}\\_ 66] 44.084\n",
       "\\item[Amostra\\textbackslash{}\\_ 67] 43.6285\n",
       "\\item[Amostra\\textbackslash{}\\_ 68] 44.4445\n",
       "\\item[Amostra\\textbackslash{}\\_ 69] 44.269\n",
       "\\item[Amostra\\textbackslash{}\\_ 70] 44.2935\n",
       "\\item[Amostra\\textbackslash{}\\_ 71] 44.756\n",
       "\\item[Amostra\\textbackslash{}\\_ 72] 44.1205\n",
       "\\item[Amostra\\textbackslash{}\\_ 73] 44.252\n",
       "\\item[Amostra\\textbackslash{}\\_ 74] 43.847\n",
       "\\item[Amostra\\textbackslash{}\\_ 75] 44.127\n",
       "\\item[Amostra\\textbackslash{}\\_ 76] 44.26\n",
       "\\item[Amostra\\textbackslash{}\\_ 77] 44.0325\n",
       "\\item[Amostra\\textbackslash{}\\_ 78] 44.109\n",
       "\\item[Amostra\\textbackslash{}\\_ 79] 44.2435\n",
       "\\item[Amostra\\textbackslash{}\\_ 80] 44.3375\n",
       "\\item[Amostra\\textbackslash{}\\_ 81] 44.0725\n",
       "\\item[Amostra\\textbackslash{}\\_ 82] 43.887\n",
       "\\item[Amostra\\textbackslash{}\\_ 83] 44.15\n",
       "\\item[Amostra\\textbackslash{}\\_ 84] 43.7925\n",
       "\\item[Amostra\\textbackslash{}\\_ 85] 43.737\n",
       "\\item[Amostra\\textbackslash{}\\_ 86] 43.9995\n",
       "\\item[Amostra\\textbackslash{}\\_ 87] 44.0815\n",
       "\\item[Amostra\\textbackslash{}\\_ 88] 44.128\n",
       "\\item[Amostra\\textbackslash{}\\_ 89] 44.1625\n",
       "\\item[Amostra\\textbackslash{}\\_ 90] 44.4925\n",
       "\\item[Amostra\\textbackslash{}\\_ 91] 43.825\n",
       "\\item[Amostra\\textbackslash{}\\_ 92] 44.119\n",
       "\\item[Amostra\\textbackslash{}\\_ 93] 44.1065\n",
       "\\item[Amostra\\textbackslash{}\\_ 94] 44.1185\n",
       "\\item[Amostra\\textbackslash{}\\_ 95] 44.6865\n",
       "\\item[Amostra\\textbackslash{}\\_ 96] 43.996\n",
       "\\item[Amostra\\textbackslash{}\\_ 97] 44.8455\n",
       "\\item[Amostra\\textbackslash{}\\_ 98] 43.662\n",
       "\\item[Amostra\\textbackslash{}\\_ 99] 43.793\n",
       "\\item[Amostra\\textbackslash{}\\_ 100] 44.2265\n",
       "\\item[Amostra\\textbackslash{}\\_ 101] 43.975\n",
       "\\item[Amostra\\textbackslash{}\\_ 102] 44.014\n",
       "\\item[Amostra\\textbackslash{}\\_ 103] 44.221\n",
       "\\item[Amostra\\textbackslash{}\\_ 104] 43.9825\n",
       "\\item[Amostra\\textbackslash{}\\_ 105] 43.9145\n",
       "\\item[Amostra\\textbackslash{}\\_ 106] 44.2345\n",
       "\\item[Amostra\\textbackslash{}\\_ 107] 44.2895\n",
       "\\item[Amostra\\textbackslash{}\\_ 108] 43.812\n",
       "\\item[Amostra\\textbackslash{}\\_ 109] 44.1505\n",
       "\\item[Amostra\\textbackslash{}\\_ 110] 43.8975\n",
       "\\item[Amostra\\textbackslash{}\\_ 111] 44.2415\n",
       "\\item[Amostra\\textbackslash{}\\_ 112] 43.942\n",
       "\\item[Amostra\\textbackslash{}\\_ 113] 43.966\n",
       "\\item[Amostra\\textbackslash{}\\_ 114] 43.6455\n",
       "\\item[Amostra\\textbackslash{}\\_ 115] 44.0945\n",
       "\\item[Amostra\\textbackslash{}\\_ 116] 44.3225\n",
       "\\item[Amostra\\textbackslash{}\\_ 117] 44.5935\n",
       "\\item[Amostra\\textbackslash{}\\_ 118] 44.222\n",
       "\\item[Amostra\\textbackslash{}\\_ 119] 44.303\n",
       "\\item[Amostra\\textbackslash{}\\_ 120] 44.217\n",
       "\\item[Amostra\\textbackslash{}\\_ 121] 44.426\n",
       "\\item[Amostra\\textbackslash{}\\_ 122] 44.3805\n",
       "\\item[Amostra\\textbackslash{}\\_ 123] 43.7735\n",
       "\\item[Amostra\\textbackslash{}\\_ 124] 43.736\n",
       "\\item[Amostra\\textbackslash{}\\_ 125] 44.409\n",
       "\\item[Amostra\\textbackslash{}\\_ 126] 43.7805\n",
       "\\item[Amostra\\textbackslash{}\\_ 127] 44.2335\n",
       "\\item[Amostra\\textbackslash{}\\_ 128] 43.925\n",
       "\\item[Amostra\\textbackslash{}\\_ 129] 44.442\n",
       "\\item[Amostra\\textbackslash{}\\_ 130] 43.6525\n",
       "\\item[Amostra\\textbackslash{}\\_ 131] 44.1595\n",
       "\\item[Amostra\\textbackslash{}\\_ 132] 44.167\n",
       "\\item[Amostra\\textbackslash{}\\_ 133] 43.8025\n",
       "\\item[Amostra\\textbackslash{}\\_ 134] 43.545\n",
       "\\item[Amostra\\textbackslash{}\\_ 135] 43.0285\n",
       "\\item[Amostra\\textbackslash{}\\_ 136] 43.7925\n",
       "\\item[Amostra\\textbackslash{}\\_ 137] 44.013\n",
       "\\item[Amostra\\textbackslash{}\\_ 138] 44.137\n",
       "\\item[Amostra\\textbackslash{}\\_ 139] 44.036\n",
       "\\item[Amostra\\textbackslash{}\\_ 140] 44.1795\n",
       "\\item[Amostra\\textbackslash{}\\_ 141] 44.729\n",
       "\\item[Amostra\\textbackslash{}\\_ 142] 44.0315\n",
       "\\item[Amostra\\textbackslash{}\\_ 143] 43.8195\n",
       "\\item[Amostra\\textbackslash{}\\_ 144] 44.306\n",
       "\\item[Amostra\\textbackslash{}\\_ 145] 44.2475\n",
       "\\item[Amostra\\textbackslash{}\\_ 146] 43.8525\n",
       "\\item[Amostra\\textbackslash{}\\_ 147] 43.9995\n",
       "\\item[Amostra\\textbackslash{}\\_ 148] 43.639\n",
       "\\item[Amostra\\textbackslash{}\\_ 149] 43.921\n",
       "\\item[Amostra\\textbackslash{}\\_ 150] 44.012\n",
       "\\item[Amostra\\textbackslash{}\\_ 151] 44.7785\n",
       "\\item[Amostra\\textbackslash{}\\_ 152] 44.1535\n",
       "\\item[Amostra\\textbackslash{}\\_ 153] 44.043\n",
       "\\item[Amostra\\textbackslash{}\\_ 154] 43.7425\n",
       "\\item[Amostra\\textbackslash{}\\_ 155] 44.1695\n",
       "\\item[Amostra\\textbackslash{}\\_ 156] 44.615\n",
       "\\item[Amostra\\textbackslash{}\\_ 157] 44.022\n",
       "\\item[Amostra\\textbackslash{}\\_ 158] 44.4275\n",
       "\\item[Amostra\\textbackslash{}\\_ 159] 43.8605\n",
       "\\item[Amostra\\textbackslash{}\\_ 160] 43.9595\n",
       "\\item[Amostra\\textbackslash{}\\_ 161] 44.133\n",
       "\\item[Amostra\\textbackslash{}\\_ 162] 43.8635\n",
       "\\item[Amostra\\textbackslash{}\\_ 163] 44.0105\n",
       "\\item[Amostra\\textbackslash{}\\_ 164] 43.6925\n",
       "\\item[Amostra\\textbackslash{}\\_ 165] 43.874\n",
       "\\item[Amostra\\textbackslash{}\\_ 166] 44.3355\n",
       "\\item[Amostra\\textbackslash{}\\_ 167] 44.3745\n",
       "\\item[Amostra\\textbackslash{}\\_ 168] 44.178\n",
       "\\item[Amostra\\textbackslash{}\\_ 169] 44.1205\n",
       "\\item[Amostra\\textbackslash{}\\_ 170] 44.1085\n",
       "\\item[Amostra\\textbackslash{}\\_ 171] 44.244\n",
       "\\item[Amostra\\textbackslash{}\\_ 172] 43.9975\n",
       "\\item[Amostra\\textbackslash{}\\_ 173] 44.2085\n",
       "\\item[Amostra\\textbackslash{}\\_ 174] 43.7825\n",
       "\\item[Amostra\\textbackslash{}\\_ 175] 43.6275\n",
       "\\item[Amostra\\textbackslash{}\\_ 176] 44.2595\n",
       "\\item[Amostra\\textbackslash{}\\_ 177] 44.091\n",
       "\\item[Amostra\\textbackslash{}\\_ 178] 44.1905\n",
       "\\item[Amostra\\textbackslash{}\\_ 179] 44.352\n",
       "\\item[Amostra\\textbackslash{}\\_ 180] 43.8995\n",
       "\\item[Amostra\\textbackslash{}\\_ 181] 44.261\n",
       "\\item[Amostra\\textbackslash{}\\_ 182] 43.7865\n",
       "\\item[Amostra\\textbackslash{}\\_ 183] 44.054\n",
       "\\item[Amostra\\textbackslash{}\\_ 184] 43.803\n",
       "\\item[Amostra\\textbackslash{}\\_ 185] 43.911\n",
       "\\item[Amostra\\textbackslash{}\\_ 186] 44.183\n",
       "\\item[Amostra\\textbackslash{}\\_ 187] 44.38\n",
       "\\item[Amostra\\textbackslash{}\\_ 188] 44.138\n",
       "\\item[Amostra\\textbackslash{}\\_ 189] 43.679\n",
       "\\item[Amostra\\textbackslash{}\\_ 190] 44.2385\n",
       "\\item[Amostra\\textbackslash{}\\_ 191] 44.3855\n",
       "\\item[Amostra\\textbackslash{}\\_ 192] 44.2795\n",
       "\\item[Amostra\\textbackslash{}\\_ 193] 44.2075\n",
       "\\item[Amostra\\textbackslash{}\\_ 194] 44.0625\n",
       "\\item[Amostra\\textbackslash{}\\_ 195] 44.032\n",
       "\\item[Amostra\\textbackslash{}\\_ 196] 43.8195\n",
       "\\item[Amostra\\textbackslash{}\\_ 197] 44.129\n",
       "\\item[Amostra\\textbackslash{}\\_ 198] 44.108\n",
       "\\item[Amostra\\textbackslash{}\\_ 199] 44.1625\n",
       "\\item[Amostra\\textbackslash{}\\_ 200] 44.0055\n",
       "\\item[Amostra\\textbackslash{}\\_ 201] ⋯\n",
       "\\item[Amostra\\textbackslash{}\\_ 202] 44.2895\n",
       "\\item[Amostra\\textbackslash{}\\_ 203] 44.025\n",
       "\\item[Amostra\\textbackslash{}\\_ 204] 43.735\n",
       "\\item[Amostra\\textbackslash{}\\_ 205] 44.5955\n",
       "\\item[Amostra\\textbackslash{}\\_ 206] 44\n",
       "\\item[Amostra\\textbackslash{}\\_ 207] 44.4735\n",
       "\\item[Amostra\\textbackslash{}\\_ 208] 43.796\n",
       "\\item[Amostra\\textbackslash{}\\_ 209] 44.145\n",
       "\\item[Amostra\\textbackslash{}\\_ 210] 44.169\n",
       "\\item[Amostra\\textbackslash{}\\_ 211] 43.6435\n",
       "\\item[Amostra\\textbackslash{}\\_ 212] 43.6915\n",
       "\\item[Amostra\\textbackslash{}\\_ 213] 43.7495\n",
       "\\item[Amostra\\textbackslash{}\\_ 214] 43.9235\n",
       "\\item[Amostra\\textbackslash{}\\_ 215] 44.333\n",
       "\\item[Amostra\\textbackslash{}\\_ 216] 43.5105\n",
       "\\item[Amostra\\textbackslash{}\\_ 217] 44.08\n",
       "\\item[Amostra\\textbackslash{}\\_ 218] 44.067\n",
       "\\item[Amostra\\textbackslash{}\\_ 219] 44.102\n",
       "\\item[Amostra\\textbackslash{}\\_ 220] 44.2515\n",
       "\\item[Amostra\\textbackslash{}\\_ 221] 43.795\n",
       "\\item[Amostra\\textbackslash{}\\_ 222] 44.241\n",
       "\\item[Amostra\\textbackslash{}\\_ 223] 43.7995\n",
       "\\item[Amostra\\textbackslash{}\\_ 224] 43.786\n",
       "\\item[Amostra\\textbackslash{}\\_ 225] 43.761\n",
       "\\item[Amostra\\textbackslash{}\\_ 226] 44.405\n",
       "\\item[Amostra\\textbackslash{}\\_ 227] 44.6855\n",
       "\\item[Amostra\\textbackslash{}\\_ 228] 43.914\n",
       "\\item[Amostra\\textbackslash{}\\_ 229] 43.998\n",
       "\\item[Amostra\\textbackslash{}\\_ 230] 44.3145\n",
       "\\item[Amostra\\textbackslash{}\\_ 231] 43.828\n",
       "\\item[Amostra\\textbackslash{}\\_ 232] 44.628\n",
       "\\item[Amostra\\textbackslash{}\\_ 233] 44.3025\n",
       "\\item[Amostra\\textbackslash{}\\_ 234] 43.5445\n",
       "\\item[Amostra\\textbackslash{}\\_ 235] 43.7485\n",
       "\\item[Amostra\\textbackslash{}\\_ 236] 44.439\n",
       "\\item[Amostra\\textbackslash{}\\_ 237] 44.573\n",
       "\\item[Amostra\\textbackslash{}\\_ 238] 43.694\n",
       "\\item[Amostra\\textbackslash{}\\_ 239] 44.0705\n",
       "\\item[Amostra\\textbackslash{}\\_ 240] 43.758\n",
       "\\item[Amostra\\textbackslash{}\\_ 241] 44.187\n",
       "\\item[Amostra\\textbackslash{}\\_ 242] 44.268\n",
       "\\item[Amostra\\textbackslash{}\\_ 243] 44.0285\n",
       "\\item[Amostra\\textbackslash{}\\_ 244] 44.725\n",
       "\\item[Amostra\\textbackslash{}\\_ 245] 44.3595\n",
       "\\item[Amostra\\textbackslash{}\\_ 246] 43.903\n",
       "\\item[Amostra\\textbackslash{}\\_ 247] 43.6905\n",
       "\\item[Amostra\\textbackslash{}\\_ 248] 44.0925\n",
       "\\item[Amostra\\textbackslash{}\\_ 249] 43.7275\n",
       "\\item[Amostra\\textbackslash{}\\_ 250] 44.479\n",
       "\\item[Amostra\\textbackslash{}\\_ 251] 44.1525\n",
       "\\item[Amostra\\textbackslash{}\\_ 252] 44.092\n",
       "\\item[Amostra\\textbackslash{}\\_ 253] 43.7705\n",
       "\\item[Amostra\\textbackslash{}\\_ 254] 44.0895\n",
       "\\item[Amostra\\textbackslash{}\\_ 255] 44.291\n",
       "\\item[Amostra\\textbackslash{}\\_ 256] 44.063\n",
       "\\item[Amostra\\textbackslash{}\\_ 257] 44.1205\n",
       "\\item[Amostra\\textbackslash{}\\_ 258] 43.4135\n",
       "\\item[Amostra\\textbackslash{}\\_ 259] 44.1475\n",
       "\\item[Amostra\\textbackslash{}\\_ 260] 43.8395\n",
       "\\item[Amostra\\textbackslash{}\\_ 261] 43.913\n",
       "\\item[Amostra\\textbackslash{}\\_ 262] 43.8765\n",
       "\\item[Amostra\\textbackslash{}\\_ 263] 43.845\n",
       "\\item[Amostra\\textbackslash{}\\_ 264] 43.8625\n",
       "\\item[Amostra\\textbackslash{}\\_ 265] 44.2625\n",
       "\\item[Amostra\\textbackslash{}\\_ 266] 44.145\n",
       "\\item[Amostra\\textbackslash{}\\_ 267] 44.0425\n",
       "\\item[Amostra\\textbackslash{}\\_ 268] 44.5225\n",
       "\\item[Amostra\\textbackslash{}\\_ 269] 44.1185\n",
       "\\item[Amostra\\textbackslash{}\\_ 270] 43.6915\n",
       "\\item[Amostra\\textbackslash{}\\_ 271] 44.5865\n",
       "\\item[Amostra\\textbackslash{}\\_ 272] 43.977\n",
       "\\item[Amostra\\textbackslash{}\\_ 273] 43.7595\n",
       "\\item[Amostra\\textbackslash{}\\_ 274] 43.823\n",
       "\\item[Amostra\\textbackslash{}\\_ 275] 44.2315\n",
       "\\item[Amostra\\textbackslash{}\\_ 276] 43.784\n",
       "\\item[Amostra\\textbackslash{}\\_ 277] 43.8915\n",
       "\\item[Amostra\\textbackslash{}\\_ 278] 43.9075\n",
       "\\item[Amostra\\textbackslash{}\\_ 279] 43.9085\n",
       "\\item[Amostra\\textbackslash{}\\_ 280] 44.4055\n",
       "\\item[Amostra\\textbackslash{}\\_ 281] 43.9845\n",
       "\\item[Amostra\\textbackslash{}\\_ 282] 43.7745\n",
       "\\item[Amostra\\textbackslash{}\\_ 283] 43.8945\n",
       "\\item[Amostra\\textbackslash{}\\_ 284] 43.9415\n",
       "\\item[Amostra\\textbackslash{}\\_ 285] 43.883\n",
       "\\item[Amostra\\textbackslash{}\\_ 286] 44.3625\n",
       "\\item[Amostra\\textbackslash{}\\_ 287] 44.263\n",
       "\\item[Amostra\\textbackslash{}\\_ 288] 43.7305\n",
       "\\item[Amostra\\textbackslash{}\\_ 289] 44.21\n",
       "\\item[Amostra\\textbackslash{}\\_ 290] 44.285\n",
       "\\item[Amostra\\textbackslash{}\\_ 291] 43.935\n",
       "\\item[Amostra\\textbackslash{}\\_ 292] 44.1545\n",
       "\\item[Amostra\\textbackslash{}\\_ 293] 43.68\n",
       "\\item[Amostra\\textbackslash{}\\_ 294] 43.9935\n",
       "\\item[Amostra\\textbackslash{}\\_ 295] 43.981\n",
       "\\item[Amostra\\textbackslash{}\\_ 296] 44.444\n",
       "\\item[Amostra\\textbackslash{}\\_ 297] 44.358\n",
       "\\item[Amostra\\textbackslash{}\\_ 298] 43.9875\n",
       "\\item[Amostra\\textbackslash{}\\_ 299] 44.3415\n",
       "\\item[Amostra\\textbackslash{}\\_ 300] 43.625\n",
       "\\item[Amostra\\textbackslash{}\\_ 301] 44.272\n",
       "\\item[Amostra\\textbackslash{}\\_ 302] 43.8025\n",
       "\\item[Amostra\\textbackslash{}\\_ 303] 44.3045\n",
       "\\item[Amostra\\textbackslash{}\\_ 304] 43.695\n",
       "\\item[Amostra\\textbackslash{}\\_ 305] 43.768\n",
       "\\item[Amostra\\textbackslash{}\\_ 306] 44.024\n",
       "\\item[Amostra\\textbackslash{}\\_ 307] 43.8925\n",
       "\\item[Amostra\\textbackslash{}\\_ 308] 44.1055\n",
       "\\item[Amostra\\textbackslash{}\\_ 309] 44.5005\n",
       "\\item[Amostra\\textbackslash{}\\_ 310] 44.4695\n",
       "\\item[Amostra\\textbackslash{}\\_ 311] 44.0505\n",
       "\\item[Amostra\\textbackslash{}\\_ 312] 44.0065\n",
       "\\item[Amostra\\textbackslash{}\\_ 313] 44.062\n",
       "\\item[Amostra\\textbackslash{}\\_ 314] 44.0455\n",
       "\\item[Amostra\\textbackslash{}\\_ 315] 44.067\n",
       "\\item[Amostra\\textbackslash{}\\_ 316] 43.482\n",
       "\\item[Amostra\\textbackslash{}\\_ 317] 44.335\n",
       "\\item[Amostra\\textbackslash{}\\_ 318] 43.563\n",
       "\\item[Amostra\\textbackslash{}\\_ 319] 44.204\n",
       "\\item[Amostra\\textbackslash{}\\_ 320] 44.14\n",
       "\\item[Amostra\\textbackslash{}\\_ 321] 43.956\n",
       "\\item[Amostra\\textbackslash{}\\_ 322] 43.7785\n",
       "\\item[Amostra\\textbackslash{}\\_ 323] 43.582\n",
       "\\item[Amostra\\textbackslash{}\\_ 324] 43.8675\n",
       "\\item[Amostra\\textbackslash{}\\_ 325] 44.19\n",
       "\\item[Amostra\\textbackslash{}\\_ 326] 43.8505\n",
       "\\item[Amostra\\textbackslash{}\\_ 327] 44.3055\n",
       "\\item[Amostra\\textbackslash{}\\_ 328] 44.3365\n",
       "\\item[Amostra\\textbackslash{}\\_ 329] 44.5705\n",
       "\\item[Amostra\\textbackslash{}\\_ 330] 44.032\n",
       "\\item[Amostra\\textbackslash{}\\_ 331] 44.3255\n",
       "\\item[Amostra\\textbackslash{}\\_ 332] 43.9095\n",
       "\\item[Amostra\\textbackslash{}\\_ 333] 43.737\n",
       "\\item[Amostra\\textbackslash{}\\_ 334] 43.641\n",
       "\\item[Amostra\\textbackslash{}\\_ 335] 44.289\n",
       "\\item[Amostra\\textbackslash{}\\_ 336] 44.3265\n",
       "\\item[Amostra\\textbackslash{}\\_ 337] 44.02\n",
       "\\item[Amostra\\textbackslash{}\\_ 338] 44.2595\n",
       "\\item[Amostra\\textbackslash{}\\_ 339] 44.473\n",
       "\\item[Amostra\\textbackslash{}\\_ 340] 44.55\n",
       "\\item[Amostra\\textbackslash{}\\_ 341] 43.9365\n",
       "\\item[Amostra\\textbackslash{}\\_ 342] 44.084\n",
       "\\item[Amostra\\textbackslash{}\\_ 343] 44.213\n",
       "\\item[Amostra\\textbackslash{}\\_ 344] 44.275\n",
       "\\item[Amostra\\textbackslash{}\\_ 345] 44.3765\n",
       "\\item[Amostra\\textbackslash{}\\_ 346] 44.468\n",
       "\\item[Amostra\\textbackslash{}\\_ 347] 44.6415\n",
       "\\item[Amostra\\textbackslash{}\\_ 348] 43.5705\n",
       "\\item[Amostra\\textbackslash{}\\_ 349] 43.975\n",
       "\\item[Amostra\\textbackslash{}\\_ 350] 44.108\n",
       "\\item[Amostra\\textbackslash{}\\_ 351] 44.1415\n",
       "\\item[Amostra\\textbackslash{}\\_ 352] 43.889\n",
       "\\item[Amostra\\textbackslash{}\\_ 353] 44.454\n",
       "\\item[Amostra\\textbackslash{}\\_ 354] 44.349\n",
       "\\item[Amostra\\textbackslash{}\\_ 355] 43.7675\n",
       "\\item[Amostra\\textbackslash{}\\_ 356] 44.047\n",
       "\\item[Amostra\\textbackslash{}\\_ 357] 44.333\n",
       "\\item[Amostra\\textbackslash{}\\_ 358] 44.5285\n",
       "\\item[Amostra\\textbackslash{}\\_ 359] 44.7705\n",
       "\\item[Amostra\\textbackslash{}\\_ 360] 43.786\n",
       "\\item[Amostra\\textbackslash{}\\_ 361] 44.017\n",
       "\\item[Amostra\\textbackslash{}\\_ 362] 43.832\n",
       "\\item[Amostra\\textbackslash{}\\_ 363] 44.085\n",
       "\\item[Amostra\\textbackslash{}\\_ 364] 44.013\n",
       "\\item[Amostra\\textbackslash{}\\_ 365] 44.4185\n",
       "\\item[Amostra\\textbackslash{}\\_ 366] 44.4255\n",
       "\\item[Amostra\\textbackslash{}\\_ 367] 44\n",
       "\\item[Amostra\\textbackslash{}\\_ 368] 44.0105\n",
       "\\item[Amostra\\textbackslash{}\\_ 369] 44.032\n",
       "\\item[Amostra\\textbackslash{}\\_ 370] 43.738\n",
       "\\item[Amostra\\textbackslash{}\\_ 371] 43.6565\n",
       "\\item[Amostra\\textbackslash{}\\_ 372] 43.8685\n",
       "\\item[Amostra\\textbackslash{}\\_ 373] 44.1085\n",
       "\\item[Amostra\\textbackslash{}\\_ 374] 44.3055\n",
       "\\item[Amostra\\textbackslash{}\\_ 375] 44.1785\n",
       "\\item[Amostra\\textbackslash{}\\_ 376] 44.1765\n",
       "\\item[Amostra\\textbackslash{}\\_ 377] 43.905\n",
       "\\item[Amostra\\textbackslash{}\\_ 378] 44.2875\n",
       "\\item[Amostra\\textbackslash{}\\_ 379] 43.6355\n",
       "\\item[Amostra\\textbackslash{}\\_ 380] 44.072\n",
       "\\item[Amostra\\textbackslash{}\\_ 381] 43.8925\n",
       "\\item[Amostra\\textbackslash{}\\_ 382] 44.1465\n",
       "\\item[Amostra\\textbackslash{}\\_ 383] 44.0435\n",
       "\\item[Amostra\\textbackslash{}\\_ 384] 43.8895\n",
       "\\item[Amostra\\textbackslash{}\\_ 385] 44.1705\n",
       "\\item[Amostra\\textbackslash{}\\_ 386] 44.1615\n",
       "\\item[Amostra\\textbackslash{}\\_ 387] 44.2655\n",
       "\\item[Amostra\\textbackslash{}\\_ 388] 43.7505\n",
       "\\item[Amostra\\textbackslash{}\\_ 389] 44.789\n",
       "\\item[Amostra\\textbackslash{}\\_ 390] 44.5645\n",
       "\\item[Amostra\\textbackslash{}\\_ 391] 43.8795\n",
       "\\item[Amostra\\textbackslash{}\\_ 392] 44.056\n",
       "\\item[Amostra\\textbackslash{}\\_ 393] 44.068\n",
       "\\item[Amostra\\textbackslash{}\\_ 394] 44.061\n",
       "\\item[Amostra\\textbackslash{}\\_ 395] 43.9355\n",
       "\\item[Amostra\\textbackslash{}\\_ 396] 44.0795\n",
       "\\item[Amostra\\textbackslash{}\\_ 397] 43.7445\n",
       "\\item[Amostra\\textbackslash{}\\_ 398] 43.9155\n",
       "\\item[Amostra\\textbackslash{}\\_ 399] 44.6005\n",
       "\\item[Amostra\\textbackslash{}\\_ 400] 43.803\n",
       "\\item[Amostra\\textbackslash{}\\_ 401] 44.1575\n",
       "\\end{description*}\n"
      ],
      "text/markdown": [
       "Amostra_1\n",
       ":   43.7365Amostra_ 2\n",
       ":   44.2905Amostra_ 3\n",
       ":   43.7145Amostra_ 4\n",
       ":   44.3045Amostra_ 5\n",
       ":   43.837Amostra_ 6\n",
       ":   44.399Amostra_ 7\n",
       ":   43.9135Amostra_ 8\n",
       ":   44.275Amostra_ 9\n",
       ":   44.0135Amostra_ 10\n",
       ":   44.221Amostra_ 11\n",
       ":   44.393Amostra_ 12\n",
       ":   44.0595Amostra_ 13\n",
       ":   44.617Amostra_ 14\n",
       ":   44.302Amostra_ 15\n",
       ":   44.1575Amostra_ 16\n",
       ":   43.91Amostra_ 17\n",
       ":   43.885Amostra_ 18\n",
       ":   44.148Amostra_ 19\n",
       ":   44.308Amostra_ 20\n",
       ":   43.9365Amostra_ 21\n",
       ":   43.745Amostra_ 22\n",
       ":   43.866Amostra_ 23\n",
       ":   44.2185Amostra_ 24\n",
       ":   43.629Amostra_ 25\n",
       ":   44.382Amostra_ 26\n",
       ":   43.8415Amostra_ 27\n",
       ":   44.189Amostra_ 28\n",
       ":   44.7655Amostra_ 29\n",
       ":   44.063Amostra_ 30\n",
       ":   43.3625Amostra_ 31\n",
       ":   44.2765Amostra_ 32\n",
       ":   43.9505Amostra_ 33\n",
       ":   44.025Amostra_ 34\n",
       ":   43.3275Amostra_ 35\n",
       ":   43.999Amostra_ 36\n",
       ":   44.5075Amostra_ 37\n",
       ":   44.366Amostra_ 38\n",
       ":   43.828Amostra_ 39\n",
       ":   44.115Amostra_ 40\n",
       ":   44.105Amostra_ 41\n",
       ":   44.203Amostra_ 42\n",
       ":   43.808Amostra_ 43\n",
       ":   44.1285Amostra_ 44\n",
       ":   44.581Amostra_ 45\n",
       ":   44.0365Amostra_ 46\n",
       ":   43.9085Amostra_ 47\n",
       ":   44.432Amostra_ 48\n",
       ":   43.908Amostra_ 49\n",
       ":   43.911Amostra_ 50\n",
       ":   44.383Amostra_ 51\n",
       ":   44.195Amostra_ 52\n",
       ":   44.448Amostra_ 53\n",
       ":   43.8465Amostra_ 54\n",
       ":   44.0855Amostra_ 55\n",
       ":   44.364Amostra_ 56\n",
       ":   43.951Amostra_ 57\n",
       ":   43.9695Amostra_ 58\n",
       ":   43.6575Amostra_ 59\n",
       ":   43.965Amostra_ 60\n",
       ":   44.4365Amostra_ 61\n",
       ":   43.594Amostra_ 62\n",
       ":   43.3465Amostra_ 63\n",
       ":   43.976Amostra_ 64\n",
       ":   44.2555Amostra_ 65\n",
       ":   44.067Amostra_ 66\n",
       ":   44.084Amostra_ 67\n",
       ":   43.6285Amostra_ 68\n",
       ":   44.4445Amostra_ 69\n",
       ":   44.269Amostra_ 70\n",
       ":   44.2935Amostra_ 71\n",
       ":   44.756Amostra_ 72\n",
       ":   44.1205Amostra_ 73\n",
       ":   44.252Amostra_ 74\n",
       ":   43.847Amostra_ 75\n",
       ":   44.127Amostra_ 76\n",
       ":   44.26Amostra_ 77\n",
       ":   44.0325Amostra_ 78\n",
       ":   44.109Amostra_ 79\n",
       ":   44.2435Amostra_ 80\n",
       ":   44.3375Amostra_ 81\n",
       ":   44.0725Amostra_ 82\n",
       ":   43.887Amostra_ 83\n",
       ":   44.15Amostra_ 84\n",
       ":   43.7925Amostra_ 85\n",
       ":   43.737Amostra_ 86\n",
       ":   43.9995Amostra_ 87\n",
       ":   44.0815Amostra_ 88\n",
       ":   44.128Amostra_ 89\n",
       ":   44.1625Amostra_ 90\n",
       ":   44.4925Amostra_ 91\n",
       ":   43.825Amostra_ 92\n",
       ":   44.119Amostra_ 93\n",
       ":   44.1065Amostra_ 94\n",
       ":   44.1185Amostra_ 95\n",
       ":   44.6865Amostra_ 96\n",
       ":   43.996Amostra_ 97\n",
       ":   44.8455Amostra_ 98\n",
       ":   43.662Amostra_ 99\n",
       ":   43.793Amostra_ 100\n",
       ":   44.2265Amostra_ 101\n",
       ":   43.975Amostra_ 102\n",
       ":   44.014Amostra_ 103\n",
       ":   44.221Amostra_ 104\n",
       ":   43.9825Amostra_ 105\n",
       ":   43.9145Amostra_ 106\n",
       ":   44.2345Amostra_ 107\n",
       ":   44.2895Amostra_ 108\n",
       ":   43.812Amostra_ 109\n",
       ":   44.1505Amostra_ 110\n",
       ":   43.8975Amostra_ 111\n",
       ":   44.2415Amostra_ 112\n",
       ":   43.942Amostra_ 113\n",
       ":   43.966Amostra_ 114\n",
       ":   43.6455Amostra_ 115\n",
       ":   44.0945Amostra_ 116\n",
       ":   44.3225Amostra_ 117\n",
       ":   44.5935Amostra_ 118\n",
       ":   44.222Amostra_ 119\n",
       ":   44.303Amostra_ 120\n",
       ":   44.217Amostra_ 121\n",
       ":   44.426Amostra_ 122\n",
       ":   44.3805Amostra_ 123\n",
       ":   43.7735Amostra_ 124\n",
       ":   43.736Amostra_ 125\n",
       ":   44.409Amostra_ 126\n",
       ":   43.7805Amostra_ 127\n",
       ":   44.2335Amostra_ 128\n",
       ":   43.925Amostra_ 129\n",
       ":   44.442Amostra_ 130\n",
       ":   43.6525Amostra_ 131\n",
       ":   44.1595Amostra_ 132\n",
       ":   44.167Amostra_ 133\n",
       ":   43.8025Amostra_ 134\n",
       ":   43.545Amostra_ 135\n",
       ":   43.0285Amostra_ 136\n",
       ":   43.7925Amostra_ 137\n",
       ":   44.013Amostra_ 138\n",
       ":   44.137Amostra_ 139\n",
       ":   44.036Amostra_ 140\n",
       ":   44.1795Amostra_ 141\n",
       ":   44.729Amostra_ 142\n",
       ":   44.0315Amostra_ 143\n",
       ":   43.8195Amostra_ 144\n",
       ":   44.306Amostra_ 145\n",
       ":   44.2475Amostra_ 146\n",
       ":   43.8525Amostra_ 147\n",
       ":   43.9995Amostra_ 148\n",
       ":   43.639Amostra_ 149\n",
       ":   43.921Amostra_ 150\n",
       ":   44.012Amostra_ 151\n",
       ":   44.7785Amostra_ 152\n",
       ":   44.1535Amostra_ 153\n",
       ":   44.043Amostra_ 154\n",
       ":   43.7425Amostra_ 155\n",
       ":   44.1695Amostra_ 156\n",
       ":   44.615Amostra_ 157\n",
       ":   44.022Amostra_ 158\n",
       ":   44.4275Amostra_ 159\n",
       ":   43.8605Amostra_ 160\n",
       ":   43.9595Amostra_ 161\n",
       ":   44.133Amostra_ 162\n",
       ":   43.8635Amostra_ 163\n",
       ":   44.0105Amostra_ 164\n",
       ":   43.6925Amostra_ 165\n",
       ":   43.874Amostra_ 166\n",
       ":   44.3355Amostra_ 167\n",
       ":   44.3745Amostra_ 168\n",
       ":   44.178Amostra_ 169\n",
       ":   44.1205Amostra_ 170\n",
       ":   44.1085Amostra_ 171\n",
       ":   44.244Amostra_ 172\n",
       ":   43.9975Amostra_ 173\n",
       ":   44.2085Amostra_ 174\n",
       ":   43.7825Amostra_ 175\n",
       ":   43.6275Amostra_ 176\n",
       ":   44.2595Amostra_ 177\n",
       ":   44.091Amostra_ 178\n",
       ":   44.1905Amostra_ 179\n",
       ":   44.352Amostra_ 180\n",
       ":   43.8995Amostra_ 181\n",
       ":   44.261Amostra_ 182\n",
       ":   43.7865Amostra_ 183\n",
       ":   44.054Amostra_ 184\n",
       ":   43.803Amostra_ 185\n",
       ":   43.911Amostra_ 186\n",
       ":   44.183Amostra_ 187\n",
       ":   44.38Amostra_ 188\n",
       ":   44.138Amostra_ 189\n",
       ":   43.679Amostra_ 190\n",
       ":   44.2385Amostra_ 191\n",
       ":   44.3855Amostra_ 192\n",
       ":   44.2795Amostra_ 193\n",
       ":   44.2075Amostra_ 194\n",
       ":   44.0625Amostra_ 195\n",
       ":   44.032Amostra_ 196\n",
       ":   43.8195Amostra_ 197\n",
       ":   44.129Amostra_ 198\n",
       ":   44.108Amostra_ 199\n",
       ":   44.1625Amostra_ 200\n",
       ":   44.0055Amostra_ 201\n",
       ":   ⋯Amostra_ 202\n",
       ":   44.2895Amostra_ 203\n",
       ":   44.025Amostra_ 204\n",
       ":   43.735Amostra_ 205\n",
       ":   44.5955Amostra_ 206\n",
       ":   44Amostra_ 207\n",
       ":   44.4735Amostra_ 208\n",
       ":   43.796Amostra_ 209\n",
       ":   44.145Amostra_ 210\n",
       ":   44.169Amostra_ 211\n",
       ":   43.6435Amostra_ 212\n",
       ":   43.6915Amostra_ 213\n",
       ":   43.7495Amostra_ 214\n",
       ":   43.9235Amostra_ 215\n",
       ":   44.333Amostra_ 216\n",
       ":   43.5105Amostra_ 217\n",
       ":   44.08Amostra_ 218\n",
       ":   44.067Amostra_ 219\n",
       ":   44.102Amostra_ 220\n",
       ":   44.2515Amostra_ 221\n",
       ":   43.795Amostra_ 222\n",
       ":   44.241Amostra_ 223\n",
       ":   43.7995Amostra_ 224\n",
       ":   43.786Amostra_ 225\n",
       ":   43.761Amostra_ 226\n",
       ":   44.405Amostra_ 227\n",
       ":   44.6855Amostra_ 228\n",
       ":   43.914Amostra_ 229\n",
       ":   43.998Amostra_ 230\n",
       ":   44.3145Amostra_ 231\n",
       ":   43.828Amostra_ 232\n",
       ":   44.628Amostra_ 233\n",
       ":   44.3025Amostra_ 234\n",
       ":   43.5445Amostra_ 235\n",
       ":   43.7485Amostra_ 236\n",
       ":   44.439Amostra_ 237\n",
       ":   44.573Amostra_ 238\n",
       ":   43.694Amostra_ 239\n",
       ":   44.0705Amostra_ 240\n",
       ":   43.758Amostra_ 241\n",
       ":   44.187Amostra_ 242\n",
       ":   44.268Amostra_ 243\n",
       ":   44.0285Amostra_ 244\n",
       ":   44.725Amostra_ 245\n",
       ":   44.3595Amostra_ 246\n",
       ":   43.903Amostra_ 247\n",
       ":   43.6905Amostra_ 248\n",
       ":   44.0925Amostra_ 249\n",
       ":   43.7275Amostra_ 250\n",
       ":   44.479Amostra_ 251\n",
       ":   44.1525Amostra_ 252\n",
       ":   44.092Amostra_ 253\n",
       ":   43.7705Amostra_ 254\n",
       ":   44.0895Amostra_ 255\n",
       ":   44.291Amostra_ 256\n",
       ":   44.063Amostra_ 257\n",
       ":   44.1205Amostra_ 258\n",
       ":   43.4135Amostra_ 259\n",
       ":   44.1475Amostra_ 260\n",
       ":   43.8395Amostra_ 261\n",
       ":   43.913Amostra_ 262\n",
       ":   43.8765Amostra_ 263\n",
       ":   43.845Amostra_ 264\n",
       ":   43.8625Amostra_ 265\n",
       ":   44.2625Amostra_ 266\n",
       ":   44.145Amostra_ 267\n",
       ":   44.0425Amostra_ 268\n",
       ":   44.5225Amostra_ 269\n",
       ":   44.1185Amostra_ 270\n",
       ":   43.6915Amostra_ 271\n",
       ":   44.5865Amostra_ 272\n",
       ":   43.977Amostra_ 273\n",
       ":   43.7595Amostra_ 274\n",
       ":   43.823Amostra_ 275\n",
       ":   44.2315Amostra_ 276\n",
       ":   43.784Amostra_ 277\n",
       ":   43.8915Amostra_ 278\n",
       ":   43.9075Amostra_ 279\n",
       ":   43.9085Amostra_ 280\n",
       ":   44.4055Amostra_ 281\n",
       ":   43.9845Amostra_ 282\n",
       ":   43.7745Amostra_ 283\n",
       ":   43.8945Amostra_ 284\n",
       ":   43.9415Amostra_ 285\n",
       ":   43.883Amostra_ 286\n",
       ":   44.3625Amostra_ 287\n",
       ":   44.263Amostra_ 288\n",
       ":   43.7305Amostra_ 289\n",
       ":   44.21Amostra_ 290\n",
       ":   44.285Amostra_ 291\n",
       ":   43.935Amostra_ 292\n",
       ":   44.1545Amostra_ 293\n",
       ":   43.68Amostra_ 294\n",
       ":   43.9935Amostra_ 295\n",
       ":   43.981Amostra_ 296\n",
       ":   44.444Amostra_ 297\n",
       ":   44.358Amostra_ 298\n",
       ":   43.9875Amostra_ 299\n",
       ":   44.3415Amostra_ 300\n",
       ":   43.625Amostra_ 301\n",
       ":   44.272Amostra_ 302\n",
       ":   43.8025Amostra_ 303\n",
       ":   44.3045Amostra_ 304\n",
       ":   43.695Amostra_ 305\n",
       ":   43.768Amostra_ 306\n",
       ":   44.024Amostra_ 307\n",
       ":   43.8925Amostra_ 308\n",
       ":   44.1055Amostra_ 309\n",
       ":   44.5005Amostra_ 310\n",
       ":   44.4695Amostra_ 311\n",
       ":   44.0505Amostra_ 312\n",
       ":   44.0065Amostra_ 313\n",
       ":   44.062Amostra_ 314\n",
       ":   44.0455Amostra_ 315\n",
       ":   44.067Amostra_ 316\n",
       ":   43.482Amostra_ 317\n",
       ":   44.335Amostra_ 318\n",
       ":   43.563Amostra_ 319\n",
       ":   44.204Amostra_ 320\n",
       ":   44.14Amostra_ 321\n",
       ":   43.956Amostra_ 322\n",
       ":   43.7785Amostra_ 323\n",
       ":   43.582Amostra_ 324\n",
       ":   43.8675Amostra_ 325\n",
       ":   44.19Amostra_ 326\n",
       ":   43.8505Amostra_ 327\n",
       ":   44.3055Amostra_ 328\n",
       ":   44.3365Amostra_ 329\n",
       ":   44.5705Amostra_ 330\n",
       ":   44.032Amostra_ 331\n",
       ":   44.3255Amostra_ 332\n",
       ":   43.9095Amostra_ 333\n",
       ":   43.737Amostra_ 334\n",
       ":   43.641Amostra_ 335\n",
       ":   44.289Amostra_ 336\n",
       ":   44.3265Amostra_ 337\n",
       ":   44.02Amostra_ 338\n",
       ":   44.2595Amostra_ 339\n",
       ":   44.473Amostra_ 340\n",
       ":   44.55Amostra_ 341\n",
       ":   43.9365Amostra_ 342\n",
       ":   44.084Amostra_ 343\n",
       ":   44.213Amostra_ 344\n",
       ":   44.275Amostra_ 345\n",
       ":   44.3765Amostra_ 346\n",
       ":   44.468Amostra_ 347\n",
       ":   44.6415Amostra_ 348\n",
       ":   43.5705Amostra_ 349\n",
       ":   43.975Amostra_ 350\n",
       ":   44.108Amostra_ 351\n",
       ":   44.1415Amostra_ 352\n",
       ":   43.889Amostra_ 353\n",
       ":   44.454Amostra_ 354\n",
       ":   44.349Amostra_ 355\n",
       ":   43.7675Amostra_ 356\n",
       ":   44.047Amostra_ 357\n",
       ":   44.333Amostra_ 358\n",
       ":   44.5285Amostra_ 359\n",
       ":   44.7705Amostra_ 360\n",
       ":   43.786Amostra_ 361\n",
       ":   44.017Amostra_ 362\n",
       ":   43.832Amostra_ 363\n",
       ":   44.085Amostra_ 364\n",
       ":   44.013Amostra_ 365\n",
       ":   44.4185Amostra_ 366\n",
       ":   44.4255Amostra_ 367\n",
       ":   44Amostra_ 368\n",
       ":   44.0105Amostra_ 369\n",
       ":   44.032Amostra_ 370\n",
       ":   43.738Amostra_ 371\n",
       ":   43.6565Amostra_ 372\n",
       ":   43.8685Amostra_ 373\n",
       ":   44.1085Amostra_ 374\n",
       ":   44.3055Amostra_ 375\n",
       ":   44.1785Amostra_ 376\n",
       ":   44.1765Amostra_ 377\n",
       ":   43.905Amostra_ 378\n",
       ":   44.2875Amostra_ 379\n",
       ":   43.6355Amostra_ 380\n",
       ":   44.072Amostra_ 381\n",
       ":   43.8925Amostra_ 382\n",
       ":   44.1465Amostra_ 383\n",
       ":   44.0435Amostra_ 384\n",
       ":   43.8895Amostra_ 385\n",
       ":   44.1705Amostra_ 386\n",
       ":   44.1615Amostra_ 387\n",
       ":   44.2655Amostra_ 388\n",
       ":   43.7505Amostra_ 389\n",
       ":   44.789Amostra_ 390\n",
       ":   44.5645Amostra_ 391\n",
       ":   43.8795Amostra_ 392\n",
       ":   44.056Amostra_ 393\n",
       ":   44.068Amostra_ 394\n",
       ":   44.061Amostra_ 395\n",
       ":   43.9355Amostra_ 396\n",
       ":   44.0795Amostra_ 397\n",
       ":   43.7445Amostra_ 398\n",
       ":   43.9155Amostra_ 399\n",
       ":   44.6005Amostra_ 400\n",
       ":   43.803Amostra_ 401\n",
       ":   44.1575\n",
       "\n"
      ],
      "text/plain": [
       "    Amostra_1    Amostra_ 2    Amostra_ 3    Amostra_ 4    Amostra_ 5 \n",
       "      43.7365       44.2905       43.7145       44.3045       43.8370 \n",
       "   Amostra_ 6    Amostra_ 7    Amostra_ 8    Amostra_ 9   Amostra_ 10 \n",
       "      44.3990       43.9135       44.2750       44.0135       44.2210 \n",
       "  Amostra_ 11   Amostra_ 12   Amostra_ 13   Amostra_ 14   Amostra_ 15 \n",
       "      44.3930       44.0595       44.6170       44.3020       44.1575 \n",
       "  Amostra_ 16   Amostra_ 17   Amostra_ 18   Amostra_ 19   Amostra_ 20 \n",
       "      43.9100       43.8850       44.1480       44.3080       43.9365 \n",
       "  Amostra_ 21   Amostra_ 22   Amostra_ 23   Amostra_ 24   Amostra_ 25 \n",
       "      43.7450       43.8660       44.2185       43.6290       44.3820 \n",
       "  Amostra_ 26   Amostra_ 27   Amostra_ 28   Amostra_ 29   Amostra_ 30 \n",
       "      43.8415       44.1890       44.7655       44.0630       43.3625 \n",
       "  Amostra_ 31   Amostra_ 32   Amostra_ 33   Amostra_ 34   Amostra_ 35 \n",
       "      44.2765       43.9505       44.0250       43.3275       43.9990 \n",
       "  Amostra_ 36   Amostra_ 37   Amostra_ 38   Amostra_ 39   Amostra_ 40 \n",
       "      44.5075       44.3660       43.8280       44.1150       44.1050 \n",
       "  Amostra_ 41   Amostra_ 42   Amostra_ 43   Amostra_ 44   Amostra_ 45 \n",
       "      44.2030       43.8080       44.1285       44.5810       44.0365 \n",
       "  Amostra_ 46   Amostra_ 47   Amostra_ 48   Amostra_ 49   Amostra_ 50 \n",
       "      43.9085       44.4320       43.9080       43.9110       44.3830 \n",
       "  Amostra_ 51   Amostra_ 52   Amostra_ 53   Amostra_ 54   Amostra_ 55 \n",
       "      44.1950       44.4480       43.8465       44.0855       44.3640 \n",
       "  Amostra_ 56   Amostra_ 57   Amostra_ 58   Amostra_ 59   Amostra_ 60 \n",
       "      43.9510       43.9695       43.6575       43.9650       44.4365 \n",
       "  Amostra_ 61   Amostra_ 62   Amostra_ 63   Amostra_ 64   Amostra_ 65 \n",
       "      43.5940       43.3465       43.9760       44.2555       44.0670 \n",
       "  Amostra_ 66   Amostra_ 67   Amostra_ 68   Amostra_ 69   Amostra_ 70 \n",
       "      44.0840       43.6285       44.4445       44.2690       44.2935 \n",
       "  Amostra_ 71   Amostra_ 72   Amostra_ 73   Amostra_ 74   Amostra_ 75 \n",
       "      44.7560       44.1205       44.2520       43.8470       44.1270 \n",
       "  Amostra_ 76   Amostra_ 77   Amostra_ 78   Amostra_ 79   Amostra_ 80 \n",
       "      44.2600       44.0325       44.1090       44.2435       44.3375 \n",
       "  Amostra_ 81   Amostra_ 82   Amostra_ 83   Amostra_ 84   Amostra_ 85 \n",
       "      44.0725       43.8870       44.1500       43.7925       43.7370 \n",
       "  Amostra_ 86   Amostra_ 87   Amostra_ 88   Amostra_ 89   Amostra_ 90 \n",
       "      43.9995       44.0815       44.1280       44.1625       44.4925 \n",
       "  Amostra_ 91   Amostra_ 92   Amostra_ 93   Amostra_ 94   Amostra_ 95 \n",
       "      43.8250       44.1190       44.1065       44.1185       44.6865 \n",
       "  Amostra_ 96   Amostra_ 97   Amostra_ 98   Amostra_ 99  Amostra_ 100 \n",
       "      43.9960       44.8455       43.6620       43.7930       44.2265 \n",
       " Amostra_ 101  Amostra_ 102  Amostra_ 103  Amostra_ 104  Amostra_ 105 \n",
       "      43.9750       44.0140       44.2210       43.9825       43.9145 \n",
       " Amostra_ 106  Amostra_ 107  Amostra_ 108  Amostra_ 109  Amostra_ 110 \n",
       "      44.2345       44.2895       43.8120       44.1505       43.8975 \n",
       " Amostra_ 111  Amostra_ 112  Amostra_ 113  Amostra_ 114  Amostra_ 115 \n",
       "      44.2415       43.9420       43.9660       43.6455       44.0945 \n",
       " Amostra_ 116  Amostra_ 117  Amostra_ 118  Amostra_ 119  Amostra_ 120 \n",
       "      44.3225       44.5935       44.2220       44.3030       44.2170 \n",
       " Amostra_ 121  Amostra_ 122  Amostra_ 123  Amostra_ 124  Amostra_ 125 \n",
       "      44.4260       44.3805       43.7735       43.7360       44.4090 \n",
       " Amostra_ 126  Amostra_ 127  Amostra_ 128  Amostra_ 129  Amostra_ 130 \n",
       "      43.7805       44.2335       43.9250       44.4420       43.6525 \n",
       " Amostra_ 131  Amostra_ 132  Amostra_ 133  Amostra_ 134  Amostra_ 135 \n",
       "      44.1595       44.1670       43.8025       43.5450       43.0285 \n",
       " Amostra_ 136  Amostra_ 137  Amostra_ 138  Amostra_ 139  Amostra_ 140 \n",
       "      43.7925       44.0130       44.1370       44.0360       44.1795 \n",
       " Amostra_ 141  Amostra_ 142  Amostra_ 143  Amostra_ 144  Amostra_ 145 \n",
       "      44.7290       44.0315       43.8195       44.3060       44.2475 \n",
       " Amostra_ 146  Amostra_ 147  Amostra_ 148  Amostra_ 149  Amostra_ 150 \n",
       "      43.8525       43.9995       43.6390       43.9210       44.0120 \n",
       " Amostra_ 151  Amostra_ 152  Amostra_ 153  Amostra_ 154  Amostra_ 155 \n",
       "      44.7785       44.1535       44.0430       43.7425       44.1695 \n",
       " Amostra_ 156  Amostra_ 157  Amostra_ 158  Amostra_ 159  Amostra_ 160 \n",
       "      44.6150       44.0220       44.4275       43.8605       43.9595 \n",
       " Amostra_ 161  Amostra_ 162  Amostra_ 163  Amostra_ 164  Amostra_ 165 \n",
       "      44.1330       43.8635       44.0105       43.6925       43.8740 \n",
       " Amostra_ 166  Amostra_ 167  Amostra_ 168  Amostra_ 169  Amostra_ 170 \n",
       "      44.3355       44.3745       44.1780       44.1205       44.1085 \n",
       " Amostra_ 171  Amostra_ 172  Amostra_ 173  Amostra_ 174  Amostra_ 175 \n",
       "      44.2440       43.9975       44.2085       43.7825       43.6275 \n",
       " Amostra_ 176  Amostra_ 177  Amostra_ 178  Amostra_ 179  Amostra_ 180 \n",
       "      44.2595       44.0910       44.1905       44.3520       43.8995 \n",
       " Amostra_ 181  Amostra_ 182  Amostra_ 183  Amostra_ 184  Amostra_ 185 \n",
       "      44.2610       43.7865       44.0540       43.8030       43.9110 \n",
       " Amostra_ 186  Amostra_ 187  Amostra_ 188  Amostra_ 189  Amostra_ 190 \n",
       "      44.1830       44.3800       44.1380       43.6790       44.2385 \n",
       " Amostra_ 191  Amostra_ 192  Amostra_ 193  Amostra_ 194  Amostra_ 195 \n",
       "      44.3855       44.2795       44.2075       44.0625       44.0320 \n",
       " Amostra_ 196  Amostra_ 197  Amostra_ 198  Amostra_ 199  Amostra_ 200 \n",
       "      43.8195       44.1290       44.1080       44.1625       44.0055 \n",
       " Amostra_ 201  Amostra_ 202  Amostra_ 203  Amostra_ 204  Amostra_ 205 \n",
       "      44.1745       44.4580       44.3420       44.0690       44.1025 \n",
       " Amostra_ 206  Amostra_ 207  Amostra_ 208  Amostra_ 209  Amostra_ 210 \n",
       "      44.3450       44.0420       43.9745       44.4990       44.4605 \n",
       " Amostra_ 211  Amostra_ 212  Amostra_ 213  Amostra_ 214  Amostra_ 215 \n",
       "      44.5470       44.2445       44.4600       44.1500       43.7645 \n",
       " Amostra_ 216  Amostra_ 217  Amostra_ 218  Amostra_ 219  Amostra_ 220 \n",
       "      43.5120       43.9105       44.2330       44.2955       44.2235 \n",
       " Amostra_ 221  Amostra_ 222  Amostra_ 223  Amostra_ 224  Amostra_ 225 \n",
       "      43.4340       43.8165       43.9430       43.7680       44.5345 \n",
       " Amostra_ 226  Amostra_ 227  Amostra_ 228  Amostra_ 229  Amostra_ 230 \n",
       "      43.8385       43.9775       43.9345       43.6140       43.9375 \n",
       " Amostra_ 231  Amostra_ 232  Amostra_ 233  Amostra_ 234  Amostra_ 235 \n",
       "      44.0960       43.7975       44.4305       44.4870       44.6635 \n",
       " Amostra_ 236  Amostra_ 237  Amostra_ 238  Amostra_ 239  Amostra_ 240 \n",
       "      44.0395       44.5215       44.2645       44.5325       43.9000 \n",
       " Amostra_ 241  Amostra_ 242  Amostra_ 243  Amostra_ 244  Amostra_ 245 \n",
       "      44.2625       44.3255       43.5700       44.1520       43.8295 \n",
       " Amostra_ 246  Amostra_ 247  Amostra_ 248  Amostra_ 249  Amostra_ 250 \n",
       "      43.8450       44.3745       44.1635       43.6600       43.9090 \n",
       " Amostra_ 251  Amostra_ 252  Amostra_ 253  Amostra_ 254  Amostra_ 255 \n",
       "      43.8215       44.1750       43.6040       44.5290       43.8015 \n",
       " Amostra_ 256  Amostra_ 257  Amostra_ 258  Amostra_ 259  Amostra_ 260 \n",
       "      44.4595       43.6505       43.9225       44.3425       43.6875 \n",
       " Amostra_ 261  Amostra_ 262  Amostra_ 263  Amostra_ 264  Amostra_ 265 \n",
       "      44.0255       43.9105       43.9840       44.5730       43.8290 \n",
       " Amostra_ 266  Amostra_ 267  Amostra_ 268  Amostra_ 269  Amostra_ 270 \n",
       "      43.7730       44.6400       44.3690       43.9475       44.0525 \n",
       " Amostra_ 271  Amostra_ 272  Amostra_ 273  Amostra_ 274  Amostra_ 275 \n",
       "      44.1105       43.6885       44.5250       44.2845       43.6665 \n",
       " Amostra_ 276  Amostra_ 277  Amostra_ 278  Amostra_ 279  Amostra_ 280 \n",
       "      44.0250       44.1370       44.1100       44.1670       44.1800 \n",
       " Amostra_ 281  Amostra_ 282  Amostra_ 283  Amostra_ 284  Amostra_ 285 \n",
       "      43.7325       44.0845       44.1875       44.2875       44.2030 \n",
       " Amostra_ 286  Amostra_ 287  Amostra_ 288  Amostra_ 289  Amostra_ 290 \n",
       "      43.9055       43.8015       43.8845       43.8395       43.9315 \n",
       " Amostra_ 291  Amostra_ 292  Amostra_ 293  Amostra_ 294  Amostra_ 295 \n",
       "      44.7005       43.3875       44.2480       44.1990       43.5200 \n",
       " Amostra_ 296  Amostra_ 297  Amostra_ 298  Amostra_ 299  Amostra_ 300 \n",
       "      44.2605       43.8435       44.0855       44.1965       44.0510 \n",
       " Amostra_ 301  Amostra_ 302  Amostra_ 303  Amostra_ 304  Amostra_ 305 \n",
       "      44.2350       44.2220       43.7805       44.5400       44.4670 \n",
       " Amostra_ 306  Amostra_ 307  Amostra_ 308  Amostra_ 309  Amostra_ 310 \n",
       "      43.8220       43.7955       44.4145       44.3780       43.6965 \n",
       " Amostra_ 311  Amostra_ 312  Amostra_ 313  Amostra_ 314  Amostra_ 315 \n",
       "      43.9120       43.7865       44.0230       43.9605       43.8810 \n",
       " Amostra_ 316  Amostra_ 317  Amostra_ 318  Amostra_ 319  Amostra_ 320 \n",
       "      44.1160       44.1785       43.8355       44.1360       43.9680 \n",
       " Amostra_ 321  Amostra_ 322  Amostra_ 323  Amostra_ 324  Amostra_ 325 \n",
       "      44.1540       44.1555       44.0480       44.3155       44.2060 \n",
       " Amostra_ 326  Amostra_ 327  Amostra_ 328  Amostra_ 329  Amostra_ 330 \n",
       "      44.4050       44.5150       43.8790       44.2395       44.0340 \n",
       " Amostra_ 331  Amostra_ 332  Amostra_ 333  Amostra_ 334  Amostra_ 335 \n",
       "      44.0105       43.9020       44.3505       43.9800       43.6500 \n",
       " Amostra_ 336  Amostra_ 337  Amostra_ 338  Amostra_ 339  Amostra_ 340 \n",
       "      44.2955       43.6210       43.9105       44.1435       44.1270 \n",
       " Amostra_ 341  Amostra_ 342  Amostra_ 343  Amostra_ 344  Amostra_ 345 \n",
       "      43.6645       44.2805       43.9670       44.5685       44.2800 \n",
       " Amostra_ 346  Amostra_ 347  Amostra_ 348  Amostra_ 349  Amostra_ 350 \n",
       "      44.2515       43.9700       43.9360       43.8095       44.4750 \n",
       " Amostra_ 351  Amostra_ 352  Amostra_ 353  Amostra_ 354  Amostra_ 355 \n",
       "      44.1720       44.2825       44.3520       44.1520       44.4705 \n",
       " Amostra_ 356  Amostra_ 357  Amostra_ 358  Amostra_ 359  Amostra_ 360 \n",
       "      44.2290       44.3465       44.0055       44.0125       44.1190 \n",
       " Amostra_ 361  Amostra_ 362  Amostra_ 363  Amostra_ 364  Amostra_ 365 \n",
       "      43.8785       44.2195       44.2870       44.2725       43.6460 \n",
       " Amostra_ 366  Amostra_ 367  Amostra_ 368  Amostra_ 369  Amostra_ 370 \n",
       "      44.1705       44.1550       43.9380       44.1755       43.9960 \n",
       " Amostra_ 371  Amostra_ 372  Amostra_ 373  Amostra_ 374  Amostra_ 375 \n",
       "      44.5155       44.1590       43.9970       44.4635       44.1165 \n",
       " Amostra_ 376  Amostra_ 377  Amostra_ 378  Amostra_ 379  Amostra_ 380 \n",
       "      43.9920       44.0975       43.8305       44.5310       43.9875 \n",
       " Amostra_ 381  Amostra_ 382  Amostra_ 383  Amostra_ 384  Amostra_ 385 \n",
       "      44.0310       44.6920       44.4460       44.3235       44.2795 \n",
       " Amostra_ 386  Amostra_ 387  Amostra_ 388  Amostra_ 389  Amostra_ 390 \n",
       "      44.2895       43.9685       44.1285       44.4515       44.2770 \n",
       " Amostra_ 391  Amostra_ 392  Amostra_ 393  Amostra_ 394  Amostra_ 395 \n",
       "      43.9185       44.3395       44.1795       44.1360       43.6005 \n",
       " Amostra_ 396  Amostra_ 397  Amostra_ 398  Amostra_ 399  Amostra_ 400 \n",
       "      43.7230       43.6750       43.9375       43.8150       44.4840 \n",
       " Amostra_ 401  Amostra_ 402  Amostra_ 403  Amostra_ 404  Amostra_ 405 \n",
       "      44.0510       44.0380       44.6255       43.4410       44.1215 \n",
       " Amostra_ 406  Amostra_ 407  Amostra_ 408  Amostra_ 409  Amostra_ 410 \n",
       "      43.5805       44.4135       44.4095       43.8490       45.3535 \n",
       " Amostra_ 411  Amostra_ 412  Amostra_ 413  Amostra_ 414  Amostra_ 415 \n",
       "      44.6160       44.4425       43.3280       44.6340       44.5810 \n",
       " Amostra_ 416  Amostra_ 417  Amostra_ 418  Amostra_ 419  Amostra_ 420 \n",
       "      43.9510       43.7230       44.3245       44.4935       44.1635 \n",
       " Amostra_ 421  Amostra_ 422  Amostra_ 423  Amostra_ 424  Amostra_ 425 \n",
       "      44.3410       44.4585       44.2095       44.3250       43.8460 \n",
       " Amostra_ 426  Amostra_ 427  Amostra_ 428  Amostra_ 429  Amostra_ 430 \n",
       "      44.5545       43.9870       44.3845       43.8195       44.5495 \n",
       " Amostra_ 431  Amostra_ 432  Amostra_ 433  Amostra_ 434  Amostra_ 435 \n",
       "      44.3320       43.5760       43.4760       43.9755       44.3405 \n",
       " Amostra_ 436  Amostra_ 437  Amostra_ 438  Amostra_ 439  Amostra_ 440 \n",
       "      44.8760       43.8535       44.2235       43.6525       44.4340 \n",
       " Amostra_ 441  Amostra_ 442  Amostra_ 443  Amostra_ 444  Amostra_ 445 \n",
       "      43.9695       44.1880       43.8600       44.5635       43.6785 \n",
       " Amostra_ 446  Amostra_ 447  Amostra_ 448  Amostra_ 449  Amostra_ 450 \n",
       "      43.5930       44.1375       43.9940       44.0380       43.6820 \n",
       " Amostra_ 451  Amostra_ 452  Amostra_ 453  Amostra_ 454  Amostra_ 455 \n",
       "      43.6735       44.1090       44.0900       44.1805       43.7570 \n",
       " Amostra_ 456  Amostra_ 457  Amostra_ 458  Amostra_ 459  Amostra_ 460 \n",
       "      44.1260       44.2430       43.9300       43.9790       43.9715 \n",
       " Amostra_ 461  Amostra_ 462  Amostra_ 463  Amostra_ 464  Amostra_ 465 \n",
       "      44.0190       44.3980       43.8060       44.4035       44.0570 \n",
       " Amostra_ 466  Amostra_ 467  Amostra_ 468  Amostra_ 469  Amostra_ 470 \n",
       "      43.6685       44.0735       44.6240       43.9740       44.6425 \n",
       " Amostra_ 471  Amostra_ 472  Amostra_ 473  Amostra_ 474  Amostra_ 475 \n",
       "      43.8110       44.3255       43.9705       43.5885       44.3740 \n",
       " Amostra_ 476  Amostra_ 477  Amostra_ 478  Amostra_ 479  Amostra_ 480 \n",
       "      44.0485       44.1315       44.0265       43.9280       44.5080 \n",
       " Amostra_ 481  Amostra_ 482  Amostra_ 483  Amostra_ 484  Amostra_ 485 \n",
       "      44.1975       44.3800       44.3440       44.1425       43.8635 \n",
       " Amostra_ 486  Amostra_ 487  Amostra_ 488  Amostra_ 489  Amostra_ 490 \n",
       "      44.0350       44.1120       43.7355       43.5350       43.7085 \n",
       " Amostra_ 491  Amostra_ 492  Amostra_ 493  Amostra_ 494  Amostra_ 495 \n",
       "      43.7255       43.5415       44.1250       44.0175       44.0840 \n",
       " Amostra_ 496  Amostra_ 497  Amostra_ 498  Amostra_ 499  Amostra_ 500 \n",
       "      44.0320       43.7545       44.4485       44.4400       44.2305 \n",
       " Amostra_ 501  Amostra_ 502  Amostra_ 503  Amostra_ 504  Amostra_ 505 \n",
       "      43.8300       44.0505       44.4985       43.8715       43.9765 \n",
       " Amostra_ 506  Amostra_ 507  Amostra_ 508  Amostra_ 509  Amostra_ 510 \n",
       "      44.2250       43.9360       44.1745       43.6545       44.1490 \n",
       " Amostra_ 511  Amostra_ 512  Amostra_ 513  Amostra_ 514  Amostra_ 515 \n",
       "      44.1605       44.5005       43.9165       44.2595       43.7590 \n",
       " Amostra_ 516  Amostra_ 517  Amostra_ 518  Amostra_ 519  Amostra_ 520 \n",
       "      44.0550       43.8475       44.0325       44.2745       44.2090 \n",
       " Amostra_ 521  Amostra_ 522  Amostra_ 523  Amostra_ 524  Amostra_ 525 \n",
       "      44.0160       44.4200       43.9315       43.9540       44.0425 \n",
       " Amostra_ 526  Amostra_ 527  Amostra_ 528  Amostra_ 529  Amostra_ 530 \n",
       "      43.6865       44.0215       44.0515       44.2690       43.8325 \n",
       " Amostra_ 531  Amostra_ 532  Amostra_ 533  Amostra_ 534  Amostra_ 535 \n",
       "      43.7250       44.3455       44.3810       44.2490       44.2270 \n",
       " Amostra_ 536  Amostra_ 537  Amostra_ 538  Amostra_ 539  Amostra_ 540 \n",
       "      44.5105       43.8160       44.1475       43.6875       43.9530 \n",
       " Amostra_ 541  Amostra_ 542  Amostra_ 543  Amostra_ 544  Amostra_ 545 \n",
       "      44.0890       43.7585       43.7925       44.0280       43.3455 \n",
       " Amostra_ 546  Amostra_ 547  Amostra_ 548  Amostra_ 549  Amostra_ 550 \n",
       "      44.1105       43.9575       44.2410       44.0125       43.9070 \n",
       " Amostra_ 551  Amostra_ 552  Amostra_ 553  Amostra_ 554  Amostra_ 555 \n",
       "      43.9915       43.7665       43.9895       44.5105       43.7450 \n",
       " Amostra_ 556  Amostra_ 557  Amostra_ 558  Amostra_ 559  Amostra_ 560 \n",
       "      43.6630       44.1865       44.0175       43.7035       44.4065 \n",
       " Amostra_ 561  Amostra_ 562  Amostra_ 563  Amostra_ 564  Amostra_ 565 \n",
       "      44.1825       44.1665       43.9400       43.9500       44.0810 \n",
       " Amostra_ 566  Amostra_ 567  Amostra_ 568  Amostra_ 569  Amostra_ 570 \n",
       "      44.1180       43.9445       44.0410       44.3770       43.8020 \n",
       " Amostra_ 571  Amostra_ 572  Amostra_ 573  Amostra_ 574  Amostra_ 575 \n",
       "      44.4120       44.0010       44.2285       44.2545       43.9500 \n",
       " Amostra_ 576  Amostra_ 577  Amostra_ 578  Amostra_ 579  Amostra_ 580 \n",
       "      44.1550       43.5475       43.4790       44.3585       44.2890 \n",
       " Amostra_ 581  Amostra_ 582  Amostra_ 583  Amostra_ 584  Amostra_ 585 \n",
       "      43.8670       44.4770       44.0315       44.2705       44.4950 \n",
       " Amostra_ 586  Amostra_ 587  Amostra_ 588  Amostra_ 589  Amostra_ 590 \n",
       "      44.3580       44.2715       43.8830       44.0650       44.0330 \n",
       " Amostra_ 591  Amostra_ 592  Amostra_ 593  Amostra_ 594  Amostra_ 595 \n",
       "      44.3435       44.3720       43.7155       44.4330       43.5265 \n",
       " Amostra_ 596  Amostra_ 597  Amostra_ 598  Amostra_ 599  Amostra_ 600 \n",
       "      44.2635       44.1990       43.9235       43.7985       44.1665 \n",
       " Amostra_ 601  Amostra_ 602  Amostra_ 603  Amostra_ 604  Amostra_ 605 \n",
       "      44.1660       44.5945       43.9960       43.5465       44.0960 \n",
       " Amostra_ 606  Amostra_ 607  Amostra_ 608  Amostra_ 609  Amostra_ 610 \n",
       "      43.3955       44.2865       44.3010       44.4100       44.0135 \n",
       " Amostra_ 611  Amostra_ 612  Amostra_ 613  Amostra_ 614  Amostra_ 615 \n",
       "      44.3580       44.6480       44.1645       44.1040       44.3950 \n",
       " Amostra_ 616  Amostra_ 617  Amostra_ 618  Amostra_ 619  Amostra_ 620 \n",
       "      43.9315       44.1805       44.1715       43.9510       43.9110 \n",
       " Amostra_ 621  Amostra_ 622  Amostra_ 623  Amostra_ 624  Amostra_ 625 \n",
       "      44.5435       43.9745       43.6360       44.0975       43.5330 \n",
       " Amostra_ 626  Amostra_ 627  Amostra_ 628  Amostra_ 629  Amostra_ 630 \n",
       "      43.9855       43.8950       44.5575       44.2930       43.9950 \n",
       " Amostra_ 631  Amostra_ 632  Amostra_ 633  Amostra_ 634  Amostra_ 635 \n",
       "      44.0330       44.5545       44.0935       44.0515       44.1290 \n",
       " Amostra_ 636  Amostra_ 637  Amostra_ 638  Amostra_ 639  Amostra_ 640 \n",
       "      44.0570       43.9015       44.1440       44.2975       43.8460 \n",
       " Amostra_ 641  Amostra_ 642  Amostra_ 643  Amostra_ 644  Amostra_ 645 \n",
       "      43.7765       43.8135       44.2800       43.8380       44.1385 \n",
       " Amostra_ 646  Amostra_ 647  Amostra_ 648  Amostra_ 649  Amostra_ 650 \n",
       "      44.2920       43.8245       44.3355       44.4605       43.8470 \n",
       " Amostra_ 651  Amostra_ 652  Amostra_ 653  Amostra_ 654  Amostra_ 655 \n",
       "      44.1315       43.9405       43.9175       44.0240       44.1980 \n",
       " Amostra_ 656  Amostra_ 657  Amostra_ 658  Amostra_ 659  Amostra_ 660 \n",
       "      43.8615       43.7630       43.9260       43.6900       43.8050 \n",
       " Amostra_ 661  Amostra_ 662  Amostra_ 663  Amostra_ 664  Amostra_ 665 \n",
       "      44.4440       44.1605       43.9625       44.0980       44.5310 \n",
       " Amostra_ 666  Amostra_ 667  Amostra_ 668  Amostra_ 669  Amostra_ 670 \n",
       "      44.2155       44.0545       43.7865       44.3245       44.0595 \n",
       " Amostra_ 671  Amostra_ 672  Amostra_ 673  Amostra_ 674  Amostra_ 675 \n",
       "      44.5950       44.3270       44.0570       44.1860       44.1235 \n",
       " Amostra_ 676  Amostra_ 677  Amostra_ 678  Amostra_ 679  Amostra_ 680 \n",
       "      44.7105       44.0750       44.1320       44.0990       44.4545 \n",
       " Amostra_ 681  Amostra_ 682  Amostra_ 683  Amostra_ 684  Amostra_ 685 \n",
       "      43.9315       43.9960       43.5605       44.3015       43.7905 \n",
       " Amostra_ 686  Amostra_ 687  Amostra_ 688  Amostra_ 689  Amostra_ 690 \n",
       "      44.0295       44.1450       43.8650       44.0120       43.7430 \n",
       " Amostra_ 691  Amostra_ 692  Amostra_ 693  Amostra_ 694  Amostra_ 695 \n",
       "      44.1865       43.6385       44.3965       44.2875       44.5240 \n",
       " Amostra_ 696  Amostra_ 697  Amostra_ 698  Amostra_ 699  Amostra_ 700 \n",
       "      43.8200       43.9795       43.9085       43.9145       44.2150 \n",
       " Amostra_ 701  Amostra_ 702  Amostra_ 703  Amostra_ 704  Amostra_ 705 \n",
       "      44.0620       43.8830       44.0375       43.8350       44.2865 \n",
       " Amostra_ 706  Amostra_ 707  Amostra_ 708  Amostra_ 709  Amostra_ 710 \n",
       "      43.8185       43.7640       44.3575       44.0880       44.7955 \n",
       " Amostra_ 711  Amostra_ 712  Amostra_ 713  Amostra_ 714  Amostra_ 715 \n",
       "      43.9195       44.1955       44.2035       44.2870       44.1665 \n",
       " Amostra_ 716  Amostra_ 717  Amostra_ 718  Amostra_ 719  Amostra_ 720 \n",
       "      43.8120       43.9940       44.4460       43.9400       43.9710 \n",
       " Amostra_ 721  Amostra_ 722  Amostra_ 723  Amostra_ 724  Amostra_ 725 \n",
       "      44.1975       44.0280       43.8080       44.4005       44.3385 \n",
       " Amostra_ 726  Amostra_ 727  Amostra_ 728  Amostra_ 729  Amostra_ 730 \n",
       "      44.1380       44.1390       43.7715       43.9590       43.7820 \n",
       " Amostra_ 731  Amostra_ 732  Amostra_ 733  Amostra_ 734  Amostra_ 735 \n",
       "      44.4695       44.3080       44.1600       44.2160       44.3520 \n",
       " Amostra_ 736  Amostra_ 737  Amostra_ 738  Amostra_ 739  Amostra_ 740 \n",
       "      44.2510       44.8850       43.8385       43.8520       44.2875 \n",
       " Amostra_ 741  Amostra_ 742  Amostra_ 743  Amostra_ 744  Amostra_ 745 \n",
       "      43.8210       44.0765       43.9475       44.1390       44.2830 \n",
       " Amostra_ 746  Amostra_ 747  Amostra_ 748  Amostra_ 749  Amostra_ 750 \n",
       "      43.7775       43.9635       44.1900       43.4480       43.9835 \n",
       " Amostra_ 751  Amostra_ 752  Amostra_ 753  Amostra_ 754  Amostra_ 755 \n",
       "      44.6145       44.0085       44.3805       43.7830       43.9595 \n",
       " Amostra_ 756  Amostra_ 757  Amostra_ 758  Amostra_ 759  Amostra_ 760 \n",
       "      44.4950       43.7175       44.1530       43.7815       43.9275 \n",
       " Amostra_ 761  Amostra_ 762  Amostra_ 763  Amostra_ 764  Amostra_ 765 \n",
       "      44.0415       43.9085       44.9325       43.9560       44.1125 \n",
       " Amostra_ 766  Amostra_ 767  Amostra_ 768  Amostra_ 769  Amostra_ 770 \n",
       "      43.6200       43.4035       44.1360       43.9720       44.3190 \n",
       " Amostra_ 771  Amostra_ 772  Amostra_ 773  Amostra_ 774  Amostra_ 775 \n",
       "      43.6705       43.8150       43.9400       44.3590       44.6740 \n",
       " Amostra_ 776  Amostra_ 777  Amostra_ 778  Amostra_ 779  Amostra_ 780 \n",
       "      44.3205       44.0365       44.4580       43.9215       44.1965 \n",
       " Amostra_ 781  Amostra_ 782  Amostra_ 783  Amostra_ 784  Amostra_ 785 \n",
       "      44.2240       44.0780       43.8985       44.6025       44.3175 \n",
       " Amostra_ 786  Amostra_ 787  Amostra_ 788  Amostra_ 789  Amostra_ 790 \n",
       "      44.6900       43.9650       43.3355       44.2755       43.8440 \n",
       " Amostra_ 791  Amostra_ 792  Amostra_ 793  Amostra_ 794  Amostra_ 795 \n",
       "      43.6900       44.0080       43.6345       44.3560       44.3590 \n",
       " Amostra_ 796  Amostra_ 797  Amostra_ 798  Amostra_ 799  Amostra_ 800 \n",
       "      44.0155       43.4910       43.5870       44.4475       44.3430 \n",
       " Amostra_ 801  Amostra_ 802  Amostra_ 803  Amostra_ 804  Amostra_ 805 \n",
       "      44.5940       44.2380       44.1095       43.6635       43.9615 \n",
       " Amostra_ 806  Amostra_ 807  Amostra_ 808  Amostra_ 809  Amostra_ 810 \n",
       "      43.7805       44.5510       44.5365       43.9595       43.8945 \n",
       " Amostra_ 811  Amostra_ 812  Amostra_ 813  Amostra_ 814  Amostra_ 815 \n",
       "      43.7060       44.1885       44.3360       44.7280       43.7770 \n",
       " Amostra_ 816  Amostra_ 817  Amostra_ 818  Amostra_ 819  Amostra_ 820 \n",
       "      44.6395       44.0215       43.9230       44.0580       43.6835 \n",
       " Amostra_ 821  Amostra_ 822  Amostra_ 823  Amostra_ 824  Amostra_ 825 \n",
       "      44.2330       43.9840       43.7075       43.5790       43.6955 \n",
       " Amostra_ 826  Amostra_ 827  Amostra_ 828  Amostra_ 829  Amostra_ 830 \n",
       "      44.8245       44.1335       44.4630       43.6520       44.6545 \n",
       " Amostra_ 831  Amostra_ 832  Amostra_ 833  Amostra_ 834  Amostra_ 835 \n",
       "      43.2000       44.5755       43.9455       43.7595       44.0735 \n",
       " Amostra_ 836  Amostra_ 837  Amostra_ 838  Amostra_ 839  Amostra_ 840 \n",
       "      44.3165       43.5995       43.5735       43.7685       43.8855 \n",
       " Amostra_ 841  Amostra_ 842  Amostra_ 843  Amostra_ 844  Amostra_ 845 \n",
       "      44.2650       44.2805       44.2000       43.7565       44.1170 \n",
       " Amostra_ 846  Amostra_ 847  Amostra_ 848  Amostra_ 849  Amostra_ 850 \n",
       "      43.9475       44.1075       44.2290       43.8565       44.2805 \n",
       " Amostra_ 851  Amostra_ 852  Amostra_ 853  Amostra_ 854  Amostra_ 855 \n",
       "      44.0750       44.3130       43.7425       44.4390       44.2495 \n",
       " Amostra_ 856  Amostra_ 857  Amostra_ 858  Amostra_ 859  Amostra_ 860 \n",
       "      43.9740       43.6240       43.9120       44.0750       44.4895 \n",
       " Amostra_ 861  Amostra_ 862  Amostra_ 863  Amostra_ 864  Amostra_ 865 \n",
       "      43.7700       44.3145       43.9250       44.0135       44.1250 \n",
       " Amostra_ 866  Amostra_ 867  Amostra_ 868  Amostra_ 869  Amostra_ 870 \n",
       "      43.7250       44.1590       44.2210       44.4185       43.7095 \n",
       " Amostra_ 871  Amostra_ 872  Amostra_ 873  Amostra_ 874  Amostra_ 875 \n",
       "      43.4715       43.9795       44.1210       44.0280       44.4710 \n",
       " Amostra_ 876  Amostra_ 877  Amostra_ 878  Amostra_ 879  Amostra_ 880 \n",
       "      44.4230       44.2670       44.1860       43.7890       43.7775 \n",
       " Amostra_ 881  Amostra_ 882  Amostra_ 883  Amostra_ 884  Amostra_ 885 \n",
       "      44.3145       43.8185       43.5830       43.7155       44.3560 \n",
       " Amostra_ 886  Amostra_ 887  Amostra_ 888  Amostra_ 889  Amostra_ 890 \n",
       "      43.9335       43.5720       43.8730       44.2745       43.9725 \n",
       " Amostra_ 891  Amostra_ 892  Amostra_ 893  Amostra_ 894  Amostra_ 895 \n",
       "      43.9155       44.2215       43.8305       44.3410       44.1365 \n",
       " Amostra_ 896  Amostra_ 897  Amostra_ 898  Amostra_ 899  Amostra_ 900 \n",
       "      44.4240       43.9805       43.8535       44.1155       43.9990 \n",
       " Amostra_ 901  Amostra_ 902  Amostra_ 903  Amostra_ 904  Amostra_ 905 \n",
       "      44.4590       43.8975       44.2200       44.7030       43.8215 \n",
       " Amostra_ 906  Amostra_ 907  Amostra_ 908  Amostra_ 909  Amostra_ 910 \n",
       "      44.2030       44.5780       44.4275       44.0165       44.0810 \n",
       " Amostra_ 911  Amostra_ 912  Amostra_ 913  Amostra_ 914  Amostra_ 915 \n",
       "      44.2895       44.4020       43.7550       44.0040       44.1735 \n",
       " Amostra_ 916  Amostra_ 917  Amostra_ 918  Amostra_ 919  Amostra_ 920 \n",
       "      44.6220       43.9285       44.0770       43.9520       44.1700 \n",
       " Amostra_ 921  Amostra_ 922  Amostra_ 923  Amostra_ 924  Amostra_ 925 \n",
       "      44.4290       44.4365       43.7495       43.9885       43.8405 \n",
       " Amostra_ 926  Amostra_ 927  Amostra_ 928  Amostra_ 929  Amostra_ 930 \n",
       "      44.4355       44.6580       44.0645       43.9915       43.8690 \n",
       " Amostra_ 931  Amostra_ 932  Amostra_ 933  Amostra_ 934  Amostra_ 935 \n",
       "      44.2280       44.3135       44.0190       43.7500       44.2785 \n",
       " Amostra_ 936  Amostra_ 937  Amostra_ 938  Amostra_ 939  Amostra_ 940 \n",
       "      44.3635       44.1750       43.8690       43.9860       44.2470 \n",
       " Amostra_ 941  Amostra_ 942  Amostra_ 943  Amostra_ 944  Amostra_ 945 \n",
       "      43.7690       44.4260       43.9045       43.9880       43.8480 \n",
       " Amostra_ 946  Amostra_ 947  Amostra_ 948  Amostra_ 949  Amostra_ 950 \n",
       "      43.8535       43.7525       44.0885       44.1545       44.5655 \n",
       " Amostra_ 951  Amostra_ 952  Amostra_ 953  Amostra_ 954  Amostra_ 955 \n",
       "      43.6455       44.1235       43.8245       44.1115       44.0070 \n",
       " Amostra_ 956  Amostra_ 957  Amostra_ 958  Amostra_ 959  Amostra_ 960 \n",
       "      44.1940       44.1105       44.2100       43.9230       44.4900 \n",
       " Amostra_ 961  Amostra_ 962  Amostra_ 963  Amostra_ 964  Amostra_ 965 \n",
       "      43.9165       43.9585       43.8465       43.6605       44.0250 \n",
       " Amostra_ 966  Amostra_ 967  Amostra_ 968  Amostra_ 969  Amostra_ 970 \n",
       "      44.0645       44.4400       44.4195       43.8385       44.3680 \n",
       " Amostra_ 971  Amostra_ 972  Amostra_ 973  Amostra_ 974  Amostra_ 975 \n",
       "      44.0505       43.9165       43.6900       44.1580       43.9470 \n",
       " Amostra_ 976  Amostra_ 977  Amostra_ 978  Amostra_ 979  Amostra_ 980 \n",
       "      43.9025       44.1465       44.4035       43.9375       44.1050 \n",
       " Amostra_ 981  Amostra_ 982  Amostra_ 983  Amostra_ 984  Amostra_ 985 \n",
       "      44.1275       44.5900       44.0195       44.4655       44.3195 \n",
       " Amostra_ 986  Amostra_ 987  Amostra_ 988  Amostra_ 989  Amostra_ 990 \n",
       "      43.9945       44.2515       43.9535       44.0730       44.6170 \n",
       " Amostra_ 991  Amostra_ 992  Amostra_ 993  Amostra_ 994  Amostra_ 995 \n",
       "      43.7285       43.9530       43.6960       43.7070       44.4350 \n",
       " Amostra_ 996  Amostra_ 997  Amostra_ 998  Amostra_ 999 Amostra_ 1000 \n",
       "      44.2010       44.1555       44.0795       44.2200       43.8970 \n",
       "Amostra_ 1001 Amostra_ 1002 Amostra_ 1003 Amostra_ 1004 Amostra_ 1005 \n",
       "      44.0260       44.1315       44.4665       44.3365       43.9760 \n",
       "Amostra_ 1006 Amostra_ 1007 Amostra_ 1008 Amostra_ 1009 Amostra_ 1010 \n",
       "      43.8190       44.3890       44.0815       44.0645       44.0930 \n",
       "Amostra_ 1011 Amostra_ 1012 Amostra_ 1013 Amostra_ 1014 Amostra_ 1015 \n",
       "      43.7945       44.0055       44.1860       44.2850       43.7525 \n",
       "Amostra_ 1016 Amostra_ 1017 Amostra_ 1018 Amostra_ 1019 Amostra_ 1020 \n",
       "      43.7375       43.8280       44.1410       44.2280       44.3090 \n",
       "Amostra_ 1021 Amostra_ 1022 Amostra_ 1023 Amostra_ 1024 Amostra_ 1025 \n",
       "      44.0185       44.3400       43.9770       44.1790       43.8200 \n",
       "Amostra_ 1026 Amostra_ 1027 Amostra_ 1028 Amostra_ 1029 Amostra_ 1030 \n",
       "      44.0140       43.9145       44.0855       44.0435       44.0800 \n",
       "Amostra_ 1031 Amostra_ 1032 Amostra_ 1033 Amostra_ 1034 Amostra_ 1035 \n",
       "      44.2600       44.1640       43.4160       44.5070       44.2345 \n",
       "Amostra_ 1036 Amostra_ 1037 Amostra_ 1038 Amostra_ 1039 Amostra_ 1040 \n",
       "      44.4625       44.3190       43.8680       43.8335       43.9650 \n",
       "Amostra_ 1041 Amostra_ 1042 Amostra_ 1043 Amostra_ 1044 Amostra_ 1045 \n",
       "      44.2630       44.3680       44.2340       44.0445       43.9445 \n",
       "Amostra_ 1046 Amostra_ 1047 Amostra_ 1048 Amostra_ 1049 Amostra_ 1050 \n",
       "      44.1470       44.2270       44.0025       44.0870       44.1090 \n",
       "Amostra_ 1051 Amostra_ 1052 Amostra_ 1053 Amostra_ 1054 Amostra_ 1055 \n",
       "      44.3105       44.2385       43.7830       44.6130       44.2200 \n",
       "Amostra_ 1056 Amostra_ 1057 Amostra_ 1058 Amostra_ 1059 Amostra_ 1060 \n",
       "      44.2435       44.1635       44.3360       44.5510       43.8980 \n",
       "Amostra_ 1061 Amostra_ 1062 Amostra_ 1063 Amostra_ 1064 Amostra_ 1065 \n",
       "      44.1715       44.5580       44.2355       44.2080       44.0830 \n",
       "Amostra_ 1066 Amostra_ 1067 Amostra_ 1068 Amostra_ 1069 Amostra_ 1070 \n",
       "      44.1800       44.1880       44.3045       44.0275       43.7960 \n",
       "Amostra_ 1071 Amostra_ 1072 Amostra_ 1073 Amostra_ 1074 Amostra_ 1075 \n",
       "      44.5535       44.3105       43.9450       44.3050       44.2500 \n",
       "Amostra_ 1076 Amostra_ 1077 Amostra_ 1078 Amostra_ 1079 Amostra_ 1080 \n",
       "      44.2575       44.7155       44.1350       43.8890       43.5435 \n",
       "Amostra_ 1081 Amostra_ 1082 Amostra_ 1083 Amostra_ 1084 Amostra_ 1085 \n",
       "      44.4970       44.1370       44.8050       44.5800       44.7005 \n",
       "Amostra_ 1086 Amostra_ 1087 Amostra_ 1088 Amostra_ 1089 Amostra_ 1090 \n",
       "      44.4590       44.2545       44.4705       43.8400       44.2040 \n",
       "Amostra_ 1091 Amostra_ 1092 Amostra_ 1093 Amostra_ 1094 Amostra_ 1095 \n",
       "      44.0465       43.4555       44.0855       44.0155       43.7580 \n",
       "Amostra_ 1096 Amostra_ 1097 Amostra_ 1098 Amostra_ 1099 Amostra_ 1100 \n",
       "      44.2545       43.4725       44.0470       43.5370       44.1660 \n",
       "Amostra_ 1101 Amostra_ 1102 Amostra_ 1103 Amostra_ 1104 Amostra_ 1105 \n",
       "      44.4215       43.8755       43.8495       44.1960       43.8650 \n",
       "Amostra_ 1106 Amostra_ 1107 Amostra_ 1108 Amostra_ 1109 Amostra_ 1110 \n",
       "      43.9195       44.0150       44.0435       44.4650       43.9525 \n",
       "Amostra_ 1111 Amostra_ 1112 Amostra_ 1113 Amostra_ 1114 Amostra_ 1115 \n",
       "      43.9545       44.3240       44.2590       44.1345       44.2035 \n",
       "Amostra_ 1116 Amostra_ 1117 Amostra_ 1118 Amostra_ 1119 Amostra_ 1120 \n",
       "      44.1715       44.1175       44.2495       44.3665       44.2590 \n",
       "Amostra_ 1121 Amostra_ 1122 Amostra_ 1123 Amostra_ 1124 Amostra_ 1125 \n",
       "      44.1675       44.5700       44.2020       44.3145       44.2980 \n",
       "Amostra_ 1126 Amostra_ 1127 Amostra_ 1128 Amostra_ 1129 Amostra_ 1130 \n",
       "      44.3165       44.1970       44.2195       44.2820       44.1745 \n",
       "Amostra_ 1131 Amostra_ 1132 Amostra_ 1133 Amostra_ 1134 Amostra_ 1135 \n",
       "      43.8380       43.4560       44.1030       44.4185       43.9010 \n",
       "Amostra_ 1136 Amostra_ 1137 Amostra_ 1138 Amostra_ 1139 Amostra_ 1140 \n",
       "      44.0475       44.3885       43.6700       44.2435       44.4830 \n",
       "Amostra_ 1141 Amostra_ 1142 Amostra_ 1143 Amostra_ 1144 Amostra_ 1145 \n",
       "      43.6810       44.0950       44.5010       44.0100       44.1005 \n",
       "Amostra_ 1146 Amostra_ 1147 Amostra_ 1148 Amostra_ 1149 Amostra_ 1150 \n",
       "      44.3175       43.6675       44.2070       44.2630       43.7140 \n",
       "Amostra_ 1151 Amostra_ 1152 Amostra_ 1153 Amostra_ 1154 Amostra_ 1155 \n",
       "      43.8535       43.9525       43.5985       43.9125       43.8860 \n",
       "Amostra_ 1156 Amostra_ 1157 Amostra_ 1158 Amostra_ 1159 Amostra_ 1160 \n",
       "      44.6190       44.4270       44.0170       43.7645       43.9935 \n",
       "Amostra_ 1161 Amostra_ 1162 Amostra_ 1163 Amostra_ 1164 Amostra_ 1165 \n",
       "      44.2000       43.6890       43.3620       44.0180       43.8760 \n",
       "Amostra_ 1166 Amostra_ 1167 Amostra_ 1168 Amostra_ 1169 Amostra_ 1170 \n",
       "      44.1580       44.6305       44.1630       44.1035       44.0270 \n",
       "Amostra_ 1171 Amostra_ 1172 Amostra_ 1173 Amostra_ 1174 Amostra_ 1175 \n",
       "      44.1410       44.3080       44.0970       43.9460       44.2705 \n",
       "Amostra_ 1176 Amostra_ 1177 Amostra_ 1178 Amostra_ 1179 Amostra_ 1180 \n",
       "      43.7985       44.1860       44.1790       44.1340       43.7995 \n",
       "Amostra_ 1181 Amostra_ 1182 Amostra_ 1183 Amostra_ 1184 Amostra_ 1185 \n",
       "      43.8930       44.1370       44.6705       43.8485       44.2610 \n",
       "Amostra_ 1186 Amostra_ 1187 Amostra_ 1188 Amostra_ 1189 Amostra_ 1190 \n",
       "      43.6010       43.9660       44.0020       44.2865       43.9930 \n",
       "Amostra_ 1191 Amostra_ 1192 Amostra_ 1193 Amostra_ 1194 Amostra_ 1195 \n",
       "      44.1460       44.2515       43.7970       43.4660       43.7665 \n",
       "Amostra_ 1196 Amostra_ 1197 Amostra_ 1198 Amostra_ 1199 Amostra_ 1200 \n",
       "      44.5645       43.9560       44.2240       43.9385       43.9110 \n",
       "Amostra_ 1201 Amostra_ 1202 Amostra_ 1203 Amostra_ 1204 Amostra_ 1205 \n",
       "      43.4730       43.9555       44.3770       44.4135       43.6525 \n",
       "Amostra_ 1206 Amostra_ 1207 Amostra_ 1208 Amostra_ 1209 Amostra_ 1210 \n",
       "      44.1865       44.2590       44.7900       44.2260       44.1840 \n",
       "Amostra_ 1211 Amostra_ 1212 Amostra_ 1213 Amostra_ 1214 Amostra_ 1215 \n",
       "      44.2685       44.5655       43.5395       43.7115       44.2450 \n",
       "Amostra_ 1216 Amostra_ 1217 Amostra_ 1218 Amostra_ 1219 Amostra_ 1220 \n",
       "      43.8380       43.7675       44.3830       44.2105       43.9990 \n",
       "Amostra_ 1221 Amostra_ 1222 Amostra_ 1223 Amostra_ 1224 Amostra_ 1225 \n",
       "      43.9200       44.2315       44.1540       44.0590       43.7890 \n",
       "Amostra_ 1226 Amostra_ 1227 Amostra_ 1228 Amostra_ 1229 Amostra_ 1230 \n",
       "      44.0050       44.2060       44.3335       44.3020       43.9430 \n",
       "Amostra_ 1231 Amostra_ 1232 Amostra_ 1233 Amostra_ 1234 Amostra_ 1235 \n",
       "      44.1000       44.0410       43.8030       44.2440       44.0935 \n",
       "Amostra_ 1236 Amostra_ 1237 Amostra_ 1238 Amostra_ 1239 Amostra_ 1240 \n",
       "      43.7730       44.1835       44.3790       44.5955       44.2435 \n",
       "Amostra_ 1241 Amostra_ 1242 Amostra_ 1243 Amostra_ 1244 Amostra_ 1245 \n",
       "      43.6205       44.0275       44.2060       44.4160       44.0685 \n",
       "Amostra_ 1246 Amostra_ 1247 Amostra_ 1248 Amostra_ 1249 Amostra_ 1250 \n",
       "      44.3540       44.0110       44.0960       44.2170       43.9005 \n",
       "Amostra_ 1251 Amostra_ 1252 Amostra_ 1253 Amostra_ 1254 Amostra_ 1255 \n",
       "      44.1230       43.9040       43.8780       44.4415       44.0710 \n",
       "Amostra_ 1256 Amostra_ 1257 Amostra_ 1258 Amostra_ 1259 Amostra_ 1260 \n",
       "      44.6970       44.3160       43.5895       43.7890       44.3105 \n",
       "Amostra_ 1261 Amostra_ 1262 Amostra_ 1263 Amostra_ 1264 Amostra_ 1265 \n",
       "      43.8440       43.8710       44.1880       43.9945       43.7870 \n",
       "Amostra_ 1266 Amostra_ 1267 Amostra_ 1268 Amostra_ 1269 Amostra_ 1270 \n",
       "      44.6580       43.9700       43.9220       43.7075       44.0795 \n",
       "Amostra_ 1271 Amostra_ 1272 Amostra_ 1273 Amostra_ 1274 Amostra_ 1275 \n",
       "      43.9275       44.4960       44.0700       44.1720       44.0270 \n",
       "Amostra_ 1276 Amostra_ 1277 Amostra_ 1278 Amostra_ 1279 Amostra_ 1280 \n",
       "      44.1230       43.9595       43.8900       44.1085       44.1380 \n",
       "Amostra_ 1281 Amostra_ 1282 Amostra_ 1283 Amostra_ 1284 Amostra_ 1285 \n",
       "      43.8270       43.9195       43.9430       44.6270       43.9880 \n",
       "Amostra_ 1286 Amostra_ 1287 Amostra_ 1288 Amostra_ 1289 Amostra_ 1290 \n",
       "      43.6835       44.6020       44.1720       44.2245       44.0260 \n",
       "Amostra_ 1291 Amostra_ 1292 Amostra_ 1293 Amostra_ 1294 Amostra_ 1295 \n",
       "      44.2090       43.4760       43.4485       44.3135       44.0815 \n",
       "Amostra_ 1296 Amostra_ 1297 Amostra_ 1298 Amostra_ 1299 Amostra_ 1300 \n",
       "      44.0630       43.9990       43.8580       43.9870       43.9310 \n",
       "Amostra_ 1301 Amostra_ 1302 Amostra_ 1303 Amostra_ 1304 Amostra_ 1305 \n",
       "      44.2895       44.0250       43.7350       44.5955       44.0000 \n",
       "Amostra_ 1306 Amostra_ 1307 Amostra_ 1308 Amostra_ 1309 Amostra_ 1310 \n",
       "      44.4735       43.7960       44.1450       44.1690       43.6435 \n",
       "Amostra_ 1311 Amostra_ 1312 Amostra_ 1313 Amostra_ 1314 Amostra_ 1315 \n",
       "      43.6915       43.7495       43.9235       44.3330       43.5105 \n",
       "Amostra_ 1316 Amostra_ 1317 Amostra_ 1318 Amostra_ 1319 Amostra_ 1320 \n",
       "      44.0800       44.0670       44.1020       44.2515       43.7950 \n",
       "Amostra_ 1321 Amostra_ 1322 Amostra_ 1323 Amostra_ 1324 Amostra_ 1325 \n",
       "      44.2410       43.7995       43.7860       43.7610       44.4050 \n",
       "Amostra_ 1326 Amostra_ 1327 Amostra_ 1328 Amostra_ 1329 Amostra_ 1330 \n",
       "      44.6855       43.9140       43.9980       44.3145       43.8280 \n",
       "Amostra_ 1331 Amostra_ 1332 Amostra_ 1333 Amostra_ 1334 Amostra_ 1335 \n",
       "      44.6280       44.3025       43.5445       43.7485       44.4390 \n",
       "Amostra_ 1336 Amostra_ 1337 Amostra_ 1338 Amostra_ 1339 Amostra_ 1340 \n",
       "      44.5730       43.6940       44.0705       43.7580       44.1870 \n",
       "Amostra_ 1341 Amostra_ 1342 Amostra_ 1343 Amostra_ 1344 Amostra_ 1345 \n",
       "      44.2680       44.0285       44.7250       44.3595       43.9030 \n",
       "Amostra_ 1346 Amostra_ 1347 Amostra_ 1348 Amostra_ 1349 Amostra_ 1350 \n",
       "      43.6905       44.0925       43.7275       44.4790       44.1525 \n",
       "Amostra_ 1351 Amostra_ 1352 Amostra_ 1353 Amostra_ 1354 Amostra_ 1355 \n",
       "      44.0920       43.7705       44.0895       44.2910       44.0630 \n",
       "Amostra_ 1356 Amostra_ 1357 Amostra_ 1358 Amostra_ 1359 Amostra_ 1360 \n",
       "      44.1205       43.4135       44.1475       43.8395       43.9130 \n",
       "Amostra_ 1361 Amostra_ 1362 Amostra_ 1363 Amostra_ 1364 Amostra_ 1365 \n",
       "      43.8765       43.8450       43.8625       44.2625       44.1450 \n",
       "Amostra_ 1366 Amostra_ 1367 Amostra_ 1368 Amostra_ 1369 Amostra_ 1370 \n",
       "      44.0425       44.5225       44.1185       43.6915       44.5865 \n",
       "Amostra_ 1371 Amostra_ 1372 Amostra_ 1373 Amostra_ 1374 Amostra_ 1375 \n",
       "      43.9770       43.7595       43.8230       44.2315       43.7840 \n",
       "Amostra_ 1376 Amostra_ 1377 Amostra_ 1378 Amostra_ 1379 Amostra_ 1380 \n",
       "      43.8915       43.9075       43.9085       44.4055       43.9845 \n",
       "Amostra_ 1381 Amostra_ 1382 Amostra_ 1383 Amostra_ 1384 Amostra_ 1385 \n",
       "      43.7745       43.8945       43.9415       43.8830       44.3625 \n",
       "Amostra_ 1386 Amostra_ 1387 Amostra_ 1388 Amostra_ 1389 Amostra_ 1390 \n",
       "      44.2630       43.7305       44.2100       44.2850       43.9350 \n",
       "Amostra_ 1391 Amostra_ 1392 Amostra_ 1393 Amostra_ 1394 Amostra_ 1395 \n",
       "      44.1545       43.6800       43.9935       43.9810       44.4440 \n",
       "Amostra_ 1396 Amostra_ 1397 Amostra_ 1398 Amostra_ 1399 Amostra_ 1400 \n",
       "      44.3580       43.9875       44.3415       43.6250       44.2720 \n",
       "Amostra_ 1401 Amostra_ 1402 Amostra_ 1403 Amostra_ 1404 Amostra_ 1405 \n",
       "      43.8025       44.3045       43.6950       43.7680       44.0240 \n",
       "Amostra_ 1406 Amostra_ 1407 Amostra_ 1408 Amostra_ 1409 Amostra_ 1410 \n",
       "      43.8925       44.1055       44.5005       44.4695       44.0505 \n",
       "Amostra_ 1411 Amostra_ 1412 Amostra_ 1413 Amostra_ 1414 Amostra_ 1415 \n",
       "      44.0065       44.0620       44.0455       44.0670       43.4820 \n",
       "Amostra_ 1416 Amostra_ 1417 Amostra_ 1418 Amostra_ 1419 Amostra_ 1420 \n",
       "      44.3350       43.5630       44.2040       44.1400       43.9560 \n",
       "Amostra_ 1421 Amostra_ 1422 Amostra_ 1423 Amostra_ 1424 Amostra_ 1425 \n",
       "      43.7785       43.5820       43.8675       44.1900       43.8505 \n",
       "Amostra_ 1426 Amostra_ 1427 Amostra_ 1428 Amostra_ 1429 Amostra_ 1430 \n",
       "      44.3055       44.3365       44.5705       44.0320       44.3255 \n",
       "Amostra_ 1431 Amostra_ 1432 Amostra_ 1433 Amostra_ 1434 Amostra_ 1435 \n",
       "      43.9095       43.7370       43.6410       44.2890       44.3265 \n",
       "Amostra_ 1436 Amostra_ 1437 Amostra_ 1438 Amostra_ 1439 Amostra_ 1440 \n",
       "      44.0200       44.2595       44.4730       44.5500       43.9365 \n",
       "Amostra_ 1441 Amostra_ 1442 Amostra_ 1443 Amostra_ 1444 Amostra_ 1445 \n",
       "      44.0840       44.2130       44.2750       44.3765       44.4680 \n",
       "Amostra_ 1446 Amostra_ 1447 Amostra_ 1448 Amostra_ 1449 Amostra_ 1450 \n",
       "      44.6415       43.5705       43.9750       44.1080       44.1415 \n",
       "Amostra_ 1451 Amostra_ 1452 Amostra_ 1453 Amostra_ 1454 Amostra_ 1455 \n",
       "      43.8890       44.4540       44.3490       43.7675       44.0470 \n",
       "Amostra_ 1456 Amostra_ 1457 Amostra_ 1458 Amostra_ 1459 Amostra_ 1460 \n",
       "      44.3330       44.5285       44.7705       43.7860       44.0170 \n",
       "Amostra_ 1461 Amostra_ 1462 Amostra_ 1463 Amostra_ 1464 Amostra_ 1465 \n",
       "      43.8320       44.0850       44.0130       44.4185       44.4255 \n",
       "Amostra_ 1466 Amostra_ 1467 Amostra_ 1468 Amostra_ 1469 Amostra_ 1470 \n",
       "      44.0000       44.0105       44.0320       43.7380       43.6565 \n",
       "Amostra_ 1471 Amostra_ 1472 Amostra_ 1473 Amostra_ 1474 Amostra_ 1475 \n",
       "      43.8685       44.1085       44.3055       44.1785       44.1765 \n",
       "Amostra_ 1476 Amostra_ 1477 Amostra_ 1478 Amostra_ 1479 Amostra_ 1480 \n",
       "      43.9050       44.2875       43.6355       44.0720       43.8925 \n",
       "Amostra_ 1481 Amostra_ 1482 Amostra_ 1483 Amostra_ 1484 Amostra_ 1485 \n",
       "      44.1465       44.0435       43.8895       44.1705       44.1615 \n",
       "Amostra_ 1486 Amostra_ 1487 Amostra_ 1488 Amostra_ 1489 Amostra_ 1490 \n",
       "      44.2655       43.7505       44.7890       44.5645       43.8795 \n",
       "Amostra_ 1491 Amostra_ 1492 Amostra_ 1493 Amostra_ 1494 Amostra_ 1495 \n",
       "      44.0560       44.0680       44.0610       43.9355       44.0795 \n",
       "Amostra_ 1496 Amostra_ 1497 Amostra_ 1498 Amostra_ 1499 Amostra_ 1500 \n",
       "      43.7445       43.9155       44.6005       43.8030       44.1575 "
      ]
     },
     "metadata": {},
     "output_type": "display_data"
    }
   ],
   "source": [
    "colMeans(amostras)"
   ]
  },
  {
   "cell_type": "markdown",
   "metadata": {
    "colab_type": "text",
    "id": "JfgEBDx0jDzf"
   },
   "source": [
    "> O Teorema do Limite Central afirma que, **com o aumento do tamanho da amostra, a distribuição das médias amostrais se aproxima de uma distribuição normal** com média igual à média da população e desvio padrão igual ao desvio padrão da variável original dividido pela raiz quadrada do tamanho da amostra. Este fato é assegurado para n maior ou igual a 30."
   ]
  },
  {
   "cell_type": "code",
   "execution_count": 58,
   "metadata": {
    "colab": {
     "base_uri": "https://localhost:8080/",
     "height": 286
    },
    "colab_type": "code",
    "id": "giJKqa_9izKF",
    "outputId": "a90fdc6d-9970-42dd-85c3-0da9e0977ef0"
   },
   "outputs": [
    {
     "data": {
      "image/png": "[encoded data removed]",
      "text/plain": [
       "Plot with title “Histograma das Idades Médias”"
      ]
     },
     "metadata": {
      "image/png": {
       "height": 240,
       "width": 420
      }
     },
     "output_type": "display_data"
    }
   ],
   "source": [
    "hist(\n",
    "    x = colMeans(amostras),\n",
    "    main = 'Histograma das Idades Médias',\n",
    "    xlab = 'Idades',\n",
    "    ylab = 'Frequências'\n",
    ")"
   ]
  },
  {
   "cell_type": "markdown",
   "metadata": {
    "colab_type": "text",
    "id": "_A4RKStwjkLI"
   },
   "source": [
    "> O Teorema do Limite Central afirma que, com o aumento do tamanho da amostra, a distribuição das médias amostrais se aproxima de uma distribuição normal **com média igual à média da população** e desvio padrão igual ao desvio padrão da variável original dividido pela raiz quadrada do tamanho da amostra. Este fato é assegurado para n maior ou igual a 30."
   ]
  },
  {
   "cell_type": "code",
   "execution_count": 59,
   "metadata": {},
   "outputs": [
    {
     "data": {
      "text/html": [
       "44.0714211348256"
      ],
      "text/latex": [
       "44.0714211348256"
      ],
      "text/markdown": [
       "44.0714211348256"
      ],
      "text/plain": [
       "[1] 44.07142"
      ]
     },
     "metadata": {},
     "output_type": "display_data"
    }
   ],
   "source": [
    "mean(dados$Idade)"
   ]
  },
  {
   "cell_type": "code",
   "execution_count": 60,
   "metadata": {
    "colab": {
     "base_uri": "https://localhost:8080/",
     "height": 34
    },
    "colab_type": "code",
    "id": "vXE-UOj_izGZ",
    "outputId": "6eecc478-100a-4b55-eec3-896dbfc2079d"
   },
   "outputs": [
    {
     "data": {
      "text/html": [
       "44.084896"
      ],
      "text/latex": [
       "44.084896"
      ],
      "text/markdown": [
       "44.084896"
      ],
      "text/plain": [
       "[1] 44.0849"
      ]
     },
     "metadata": {},
     "output_type": "display_data"
    }
   ],
   "source": [
    "mean(colMeans(amostras))"
   ]
  },
  {
   "cell_type": "markdown",
   "metadata": {
    "colab_type": "text",
    "id": "7lIWJCAKlPmA"
   },
   "source": [
    "> O Teorema do Limite Central afirma que, com o aumento do tamanho da amostra, a distribuição das médias amostrais se aproxima de uma distribuição normal com média igual à média da população e **desvio padrão igual ao desvio padrão da variável original dividido pela raiz quadrada do tamanho da amostra**. Este fato é assegurado para n maior ou igual a 30.\n",
    "\n",
    "# $$\\sigma_\\bar{x} = \\frac{\\sigma}{\\sqrt{n}}$$"
   ]
  },
  {
   "cell_type": "code",
   "execution_count": 62,
   "metadata": {},
   "outputs": [
    {
     "data": {
      "text/html": [
       "0.283471559891838"
      ],
      "text/latex": [
       "0.283471559891838"
      ],
      "text/markdown": [
       "0.283471559891838"
      ],
      "text/plain": [
       "[1] 0.2834716"
      ]
     },
     "metadata": {},
     "output_type": "display_data"
    }
   ],
   "source": [
    "sd(colMeans(amostras))"
   ]
  },
  {
   "cell_type": "code",
   "execution_count": 63,
   "metadata": {},
   "outputs": [
    {
     "data": {
      "text/html": [
       "0.279074330274043"
      ],
      "text/latex": [
       "0.279074330274043"
      ],
      "text/markdown": [
       "0.279074330274043"
      ],
      "text/plain": [
       "[1] 0.2790743"
      ]
     },
     "metadata": {},
     "output_type": "display_data"
    }
   ],
   "source": [
    "sd(dados$Idade) / sqrt(n)"
   ]
  },
  {
   "cell_type": "markdown",
   "metadata": {
    "colab_type": "text",
    "id": "ku8CE67iG3Ge"
   },
   "source": [
    "## <font color=green>4.2 Níveis de confiança e significância</font>\n",
    "***"
   ]
  },
  {
   "cell_type": "markdown",
   "metadata": {
    "colab_type": "text",
    "id": "mk6ZsvgyG3Gf"
   },
   "source": [
    "O **nível de confiança** ($1 - \\alpha$) representa a probabilidade de acerto da estimativa. De forma complementar o **nível de significância** ($\\alpha$) expressa a probabilidade de erro da estimativa.\n",
    "\n",
    "O **nível de confiança** representa o grau de confiabilidade do resultado da estimativa estar dentro de determinado intervalo. Quando fixamos em uma pesquisa um **nível de confiança** de 95%, por exemplo, estamos assumindo que existe uma probabilidade de 95% dos resultados da pesquisa representarem bem a realidade, ou seja, estarem corretos.\n",
    "\n",
    "O **nível de confiança** de uma estimativa pode ser obtido a partir da área sob a curva normal como ilustrado na figura abaixo."
   ]
  },
  {
   "cell_type": "markdown",
   "metadata": {
    "colab_type": "text",
    "id": "WeGyDfvaG3Gg"
   },
   "source": [
    "![alt text](https://caelum-online-public.s3.amazonaws.com/1178-estatistica-parte2/01/img007.png)"
   ]
  },
  {
   "cell_type": "markdown",
   "metadata": {
    "colab_type": "text",
    "id": "AN8WDZ-HG3Gi"
   },
   "source": [
    "## <font color=green>4.3 Erro inferencial</font>\n",
    "***"
   ]
  },
  {
   "cell_type": "markdown",
   "metadata": {
    "colab_type": "text",
    "id": "tk-TwhhfG3Gi"
   },
   "source": [
    "O **erro inferencial** é definido pelo **desvio padrão das médias amostrais** $\\sigma_\\bar{x}$ e pelo **nível de confiança** determinado para o processo."
   ]
  },
  {
   "cell_type": "markdown",
   "metadata": {
    "colab_type": "text",
    "id": "FKOQUPYHG3Gk"
   },
   "source": [
    "# $$e = z \\frac{\\sigma}{\\sqrt{n}}$$"
   ]
  },
  {
   "cell_type": "markdown",
   "metadata": {
    "colab_type": "text",
    "id": "ELbWQW4sG3HS"
   },
   "source": [
    "## <font color=green>4.4 Intervalos de confiança</font>\n",
    "***"
   ]
  },
  {
   "cell_type": "markdown",
   "metadata": {
    "colab_type": "text",
    "id": "-r6EMnH-G3HT"
   },
   "source": [
    "### Intevalo de confiança para a média da população"
   ]
  },
  {
   "cell_type": "markdown",
   "metadata": {
    "colab_type": "text",
    "id": "QWgBFeRnG3HT"
   },
   "source": [
    "#### Com desvio padrão populacional conhecido\n",
    "\n",
    "## $$\\mu = \\bar{x} \\pm z\\frac{\\sigma}{\\sqrt{n}}$$\n",
    "\n",
    "#### Com desvio padrão populacional desconhecido\n",
    "\n",
    "## $$\\mu = \\bar{x} \\pm z\\frac{s}{\\sqrt{n}}$$"
   ]
  },
  {
   "cell_type": "markdown",
   "metadata": {
    "colab_type": "text",
    "id": "R2qqLneeG3HT"
   },
   "source": [
    "## <font color='blue'>Exemplo: </font>"
   ]
  },
  {
   "cell_type": "markdown",
   "metadata": {
    "colab_type": "text",
    "id": "AgnrFjdMG3HT"
   },
   "source": [
    "Suponha que os pesos dos sacos de arroz de uma indústria alimentícia se distribuem aproximadamente como uma normal de **desvio padrão populacional igual a 150 g**. Selecionada uma **amostra aleatório de 20 sacos** de um lote específico, obteve-se um **peso médio de 5.050 g**. Construa um intervalo de confiança para a **média populacional** assumindo um **nível de significância de 5%**."
   ]
  },
  {
   "cell_type": "markdown",
   "metadata": {
    "colab_type": "text",
    "id": "LpGQGksTG3HU"
   },
   "source": [
    "### Média amostral"
   ]
  },
  {
   "cell_type": "code",
   "execution_count": 64,
   "metadata": {
    "colab": {
     "base_uri": "https://localhost:8080/",
     "height": 34
    },
    "colab_type": "code",
    "id": "aF2QQ0z3G3HU",
    "outputId": "31b20b10-a4f7-49fe-b113-f0fff1e2f30f"
   },
   "outputs": [
    {
     "data": {
      "text/html": [
       "5050"
      ],
      "text/latex": [
       "5050"
      ],
      "text/markdown": [
       "5050"
      ],
      "text/plain": [
       "[1] 5050"
      ]
     },
     "metadata": {},
     "output_type": "display_data"
    }
   ],
   "source": [
    "media_amostral <- 5050\n",
    "media_amostral"
   ]
  },
  {
   "cell_type": "markdown",
   "metadata": {
    "colab_type": "text",
    "id": "Jly1bVP9G3HY"
   },
   "source": [
    "### Nível de significância ($\\alpha$)"
   ]
  },
  {
   "cell_type": "code",
   "execution_count": 65,
   "metadata": {
    "colab": {
     "base_uri": "https://localhost:8080/",
     "height": 34
    },
    "colab_type": "code",
    "id": "BzIgN3C7G3HY",
    "outputId": "53b76a9a-fce9-41dc-829e-4c7b318b7d75"
   },
   "outputs": [
    {
     "data": {
      "text/html": [
       "0.5"
      ],
      "text/latex": [
       "0.5"
      ],
      "text/markdown": [
       "0.5"
      ],
      "text/plain": [
       "[1] 0.5"
      ]
     },
     "metadata": {},
     "output_type": "display_data"
    }
   ],
   "source": [
    "significancia <- 0.5\n",
    "significancia"
   ]
  },
  {
   "cell_type": "markdown",
   "metadata": {
    "colab_type": "text",
    "id": "SrZAbQRKG3Ha"
   },
   "source": [
    "### Nível de confiança ($1 - \\alpha$)"
   ]
  },
  {
   "cell_type": "code",
   "execution_count": 66,
   "metadata": {
    "colab": {
     "base_uri": "https://localhost:8080/",
     "height": 34
    },
    "colab_type": "code",
    "id": "1JeWXwA6G3Ha",
    "outputId": "8ac9e63f-f2e5-46a5-b693-e221203ada3f"
   },
   "outputs": [
    {
     "data": {
      "text/html": [
       "0.5"
      ],
      "text/latex": [
       "0.5"
      ],
      "text/markdown": [
       "0.5"
      ],
      "text/plain": [
       "[1] 0.5"
      ]
     },
     "metadata": {},
     "output_type": "display_data"
    }
   ],
   "source": [
    "confianca <- 1 - significancia\n",
    "confianca"
   ]
  },
  {
   "cell_type": "markdown",
   "metadata": {
    "colab_type": "text",
    "id": "mZoUFr1nG3Hf"
   },
   "source": [
    "### Obtendo $z$"
   ]
  },
  {
   "cell_type": "code",
   "execution_count": 67,
   "metadata": {},
   "outputs": [
    {
     "data": {
      "text/html": [
       "1.95996398454005"
      ],
      "text/latex": [
       "1.95996398454005"
      ],
      "text/markdown": [
       "1.95996398454005"
      ],
      "text/plain": [
       "[1] 1.959964"
      ]
     },
     "metadata": {},
     "output_type": "display_data"
    }
   ],
   "source": [
    "qnorm(0.975)"
   ]
  },
  {
   "cell_type": "markdown",
   "metadata": {
    "colab_type": "text",
    "id": "rMRmnaNPG3Go"
   },
   "source": [
    "### Obtendo $z$"
   ]
  },
  {
   "cell_type": "markdown",
   "metadata": {
    "colab_type": "text",
    "id": "T-3mV1qlUj1t"
   },
   "source": [
    "![alt text](https://caelum-online-public.s3.amazonaws.com/1178-estatistica-parte2/01/img008.png)"
   ]
  },
  {
   "cell_type": "code",
   "execution_count": 68,
   "metadata": {
    "colab": {
     "base_uri": "https://localhost:8080/",
     "height": 34
    },
    "colab_type": "code",
    "id": "nT5ZTwjOG3Go",
    "outputId": "9c20d5b5-fb36-40f1-b901-3969a2fa8ea0"
   },
   "outputs": [
    {
     "data": {
      "text/html": [
       "0.475"
      ],
      "text/latex": [
       "0.475"
      ],
      "text/markdown": [
       "0.475"
      ],
      "text/plain": [
       "[1] 0.475"
      ]
     },
     "metadata": {},
     "output_type": "display_data"
    }
   ],
   "source": [
    "0.95 / 2"
   ]
  },
  {
   "cell_type": "code",
   "execution_count": 69,
   "metadata": {
    "colab": {
     "base_uri": "https://localhost:8080/",
     "height": 34
    },
    "colab_type": "code",
    "id": "vMjck-3ZU_sz",
    "outputId": "56a3f3ba-e5d4-40c7-dc4c-b31ed5d07262"
   },
   "outputs": [
    {
     "data": {
      "text/html": [
       "0.975"
      ],
      "text/latex": [
       "0.975"
      ],
      "text/markdown": [
       "0.975"
      ],
      "text/plain": [
       "[1] 0.975"
      ]
     },
     "metadata": {},
     "output_type": "display_data"
    }
   ],
   "source": [
    "0.5 + 0.95 / 2"
   ]
  },
  {
   "cell_type": "code",
   "execution_count": 72,
   "metadata": {
    "colab": {
     "base_uri": "https://localhost:8080/",
     "height": 34
    },
    "colab_type": "code",
    "id": "L4CMGZ3oVHLX",
    "outputId": "60470140-1dfa-4d5c-9627-097378b2fc8e"
   },
   "outputs": [
    {
     "data": {
      "text/html": [
       "1.96"
      ],
      "text/latex": [
       "1.96"
      ],
      "text/markdown": [
       "1.96"
      ],
      "text/plain": [
       "[1] 1.96"
      ]
     },
     "metadata": {},
     "output_type": "display_data"
    }
   ],
   "source": [
    "z <- 1.96\n",
    "z"
   ]
  },
  {
   "cell_type": "code",
   "execution_count": 71,
   "metadata": {},
   "outputs": [
    {
     "data": {
      "text/html": [
       "1.95996398454005"
      ],
      "text/latex": [
       "1.95996398454005"
      ],
      "text/markdown": [
       "1.95996398454005"
      ],
      "text/plain": [
       "[1] 1.959964"
      ]
     },
     "metadata": {},
     "output_type": "display_data"
    }
   ],
   "source": [
    "qnorm(0.975)"
   ]
  },
  {
   "cell_type": "markdown",
   "metadata": {
    "colab_type": "text",
    "id": "ggXXP8QqTyNA"
   },
   "source": [
    "### Valores de $z$ para os níveis de confiança mais utilizados\n",
    "\n",
    "|Nível de<br>confiança|Valor da área sob<br>a curva normal| $z$ |\n",
    "|:----------------:|:---------------------------------:|:---:|\n",
    "|90%               |0,95                               |1,645|\n",
    "|95%               |0,975                              |1,96 |\n",
    "|99%               |0,995                              |2,575|"
   ]
  },
  {
   "cell_type": "markdown",
   "metadata": {
    "colab_type": "text",
    "id": "MfE1ru0AG3Hg"
   },
   "source": [
    "### Obtendo $\\sigma_\\bar{x}$"
   ]
  },
  {
   "cell_type": "code",
   "execution_count": 73,
   "metadata": {
    "colab": {
     "base_uri": "https://localhost:8080/",
     "height": 34
    },
    "colab_type": "code",
    "id": "LyQ6UUYtG3Hh",
    "outputId": "4c066583-4272-4e26-daf5-575ea4815371"
   },
   "outputs": [
    {
     "data": {
      "text/html": [
       "150"
      ],
      "text/latex": [
       "150"
      ],
      "text/markdown": [
       "150"
      ],
      "text/plain": [
       "[1] 150"
      ]
     },
     "metadata": {},
     "output_type": "display_data"
    }
   ],
   "source": [
    "desvio_padrao <- 150\n",
    "desvio_padrao"
   ]
  },
  {
   "cell_type": "code",
   "execution_count": 74,
   "metadata": {
    "colab": {
     "base_uri": "https://localhost:8080/",
     "height": 34
    },
    "colab_type": "code",
    "id": "ebvikT95G3Hi",
    "outputId": "bfbc2f5c-e706-46a6-aa6c-e94632aed4fc"
   },
   "outputs": [
    {
     "data": {
      "text/html": [
       "20"
      ],
      "text/latex": [
       "20"
      ],
      "text/markdown": [
       "20"
      ],
      "text/plain": [
       "[1] 20"
      ]
     },
     "metadata": {},
     "output_type": "display_data"
    }
   ],
   "source": [
    "n <- 20\n",
    "n"
   ]
  },
  {
   "cell_type": "code",
   "execution_count": 75,
   "metadata": {
    "colab": {
     "base_uri": "https://localhost:8080/",
     "height": 34
    },
    "colab_type": "code",
    "id": "TxM3yTpjG3Hk",
    "outputId": "a38a0bfc-2c3b-48f4-cea7-ee5f5147a251"
   },
   "outputs": [
    {
     "data": {
      "text/html": [
       "4.47213595499958"
      ],
      "text/latex": [
       "4.47213595499958"
      ],
      "text/markdown": [
       "4.47213595499958"
      ],
      "text/plain": [
       "[1] 4.472136"
      ]
     },
     "metadata": {},
     "output_type": "display_data"
    }
   ],
   "source": [
    "raiz_de_n <- sqrt(n)\n",
    "raiz_de_n"
   ]
  },
  {
   "cell_type": "code",
   "execution_count": 76,
   "metadata": {
    "colab": {
     "base_uri": "https://localhost:8080/",
     "height": 34
    },
    "colab_type": "code",
    "id": "HNAcOpl0G3Hl",
    "outputId": "3b37c2d5-b02d-40af-897d-6c588e2696aa"
   },
   "outputs": [
    {
     "data": {
      "text/html": [
       "33.5410196624968"
      ],
      "text/latex": [
       "33.5410196624968"
      ],
      "text/markdown": [
       "33.5410196624968"
      ],
      "text/plain": [
       "[1] 33.54102"
      ]
     },
     "metadata": {},
     "output_type": "display_data"
    }
   ],
   "source": [
    "sigma <- desvio_padrao / raiz_de_n\n",
    "sigma"
   ]
  },
  {
   "cell_type": "markdown",
   "metadata": {
    "colab_type": "text",
    "id": "NHbXlLk-G3Hn"
   },
   "source": [
    "### Obtendo $e$"
   ]
  },
  {
   "cell_type": "code",
   "execution_count": 77,
   "metadata": {
    "colab": {
     "base_uri": "https://localhost:8080/",
     "height": 34
    },
    "colab_type": "code",
    "id": "gAfakih5G3Ho",
    "outputId": "48958fa3-2cf8-4bc5-dfc3-0fb925798b38"
   },
   "outputs": [
    {
     "data": {
      "text/html": [
       "65.7403985384938"
      ],
      "text/latex": [
       "65.7403985384938"
      ],
      "text/markdown": [
       "65.7403985384938"
      ],
      "text/plain": [
       "[1] 65.7404"
      ]
     },
     "metadata": {},
     "output_type": "display_data"
    }
   ],
   "source": [
    "erro <- z * sigma\n",
    "erro"
   ]
  },
  {
   "cell_type": "markdown",
   "metadata": {
    "colab_type": "text",
    "id": "sx1QTfNrG3Hq"
   },
   "source": [
    "### Solução 1 - Calculando o intervalo de confiança para a média"
   ]
  },
  {
   "cell_type": "code",
   "execution_count": 78,
   "metadata": {
    "colab": {
     "base_uri": "https://localhost:8080/",
     "height": 34
    },
    "colab_type": "code",
    "id": "NlJCcPZnG3Hq",
    "outputId": "09cee323-103e-4832-c23f-97daf4b9929f"
   },
   "outputs": [
    {
     "data": {
      "text/html": [
       "4984.25960146151"
      ],
      "text/latex": [
       "4984.25960146151"
      ],
      "text/markdown": [
       "4984.25960146151"
      ],
      "text/plain": [
       "[1] 4984.26"
      ]
     },
     "metadata": {},
     "output_type": "display_data"
    },
    {
     "data": {
      "text/html": [
       "5115.74039853849"
      ],
      "text/latex": [
       "5115.74039853849"
      ],
      "text/markdown": [
       "5115.74039853849"
      ],
      "text/plain": [
       "[1] 5115.74"
      ]
     },
     "metadata": {},
     "output_type": "display_data"
    }
   ],
   "source": [
    "media_amostral - erro\n",
    "media_amostral + erro"
   ]
  },
  {
   "cell_type": "markdown",
   "metadata": {
    "colab_type": "text",
    "id": "DkFJL7fcG3Ht"
   },
   "source": [
    "### Solução 2 - Calculando o intervalo de confiança para a média\n",
    "\n",
    "#### <font color=red>Documentações:\n",
    "\n",
    "- [**MeanCI**](https://www.rdocumentation.org/packages/DescTools/versions/0.99.30/topics/MeanCI)"
   ]
  },
  {
   "cell_type": "markdown",
   "metadata": {},
   "source": [
    "#### Instalação do pacote DescTools\n",
    "\n",
    "https://cran.r-project.org"
   ]
  },
  {
   "cell_type": "code",
   "execution_count": null,
   "metadata": {
    "scrolled": true
   },
   "outputs": [],
   "source": [
    "# install.packages('DescTools')\n",
    "\n",
    "# OU\n",
    "\n",
    "# packageurl <- \"https://cran.r-project.org/src/contrib/Archive/DescTools/DescTools_0.99.30.tar.gz\"\n",
    "# install.packages(packageurl, repos=NULL, type=\"source\")"
   ]
  },
  {
   "cell_type": "code",
   "execution_count": null,
   "metadata": {},
   "outputs": [],
   "source": []
  },
  {
   "cell_type": "code",
   "execution_count": null,
   "metadata": {},
   "outputs": [],
   "source": []
  },
  {
   "cell_type": "markdown",
   "metadata": {
    "colab_type": "text",
    "id": "aF9jAC6yG3Gl"
   },
   "source": [
    "# <font color=green>5 CÁLCULO DO TAMANHO DA AMOSTRA</font>\n",
    "***"
   ]
  },
  {
   "cell_type": "markdown",
   "metadata": {
    "colab_type": "text",
    "id": "BwiygaNqnjrr"
   },
   "source": [
    "## <font color='red'>Problema </font>"
   ]
  },
  {
   "cell_type": "markdown",
   "metadata": {
    "colab_type": "text",
    "id": "a7RjjVVUnlI3"
   },
   "source": [
    "Estamos estudando o rendimento mensal dos chefes de domicílios com renda até R$\\$$ 5.000,00 no Brasil. Nosso supervisor determinou que o **erro máximo em relação a média seja de R$\\$$ 10,00**. Sabemos que o **desvio padrão populacional** deste grupo de trabalhadores é de **R$\\$$ 1.082,79**. Para um **nível de confiança de 95%**, qual deve ser o tamanho da amostra de nosso estudo?"
   ]
  },
  {
   "cell_type": "markdown",
   "metadata": {
    "colab_type": "text",
    "id": "za2sGJt6G3Gm"
   },
   "source": [
    "## <font color=green>5.1 Variáveis quantitativas e população infinita</font>\n",
    "***"
   ]
  },
  {
   "cell_type": "markdown",
   "metadata": {
    "colab_type": "text",
    "id": "3wqMjJWR5sVq"
   },
   "source": [
    "# $$e = z \\frac{\\sigma}{\\sqrt{n}}$$"
   ]
  },
  {
   "cell_type": "markdown",
   "metadata": {
    "colab_type": "text",
    "id": "X1AxpKtIG3Gn"
   },
   "source": [
    "#### Com desvio padrão conhecido\n",
    "\n",
    "## $$n = \\left(z\\frac{\\sigma}{e}\\right)^2$$\n",
    "\n",
    "#### Com desvio padrão desconhecido\n",
    "\n",
    "## $$n = \\left(z\\frac{s}{e}\\right)^2$$\n",
    "\n",
    "Onde:\n",
    "\n",
    "$z$ = variável normal padronizada\n",
    "\n",
    "$\\sigma$ = desvio padrão populacional\n",
    "\n",
    "$s$ = desvio padrão amostral\n",
    "\n",
    "$e$ = erro inferencial"
   ]
  },
  {
   "cell_type": "markdown",
   "metadata": {
    "colab_type": "text",
    "id": "T0fysCyDG3Gn"
   },
   "source": [
    "### <font color='red'>Observações</font>\n",
    "\n",
    "1. O desvio padrão ($\\sigma$ ou $s$) e o erro ($e$) devem estar na mesma unidade de medida.\n",
    "\n",
    "2. Quando o erro ($e$) for representado em termos percentuais, deve ser interpretado como um percentual relacionado à média."
   ]
  },
  {
   "cell_type": "markdown",
   "metadata": {
    "colab_type": "text",
    "id": "WHYBTaupG3Gn"
   },
   "source": [
    "## <font color='blue'>Exemplo: Rendimento médio</font>"
   ]
  },
  {
   "cell_type": "markdown",
   "metadata": {
    "colab_type": "text",
    "id": "dcdzo7EgG3Go"
   },
   "source": [
    "Estamos estudando o rendimento mensal dos chefes de domicílios no Brasil. Nosso supervisor determinou que o **erro máximo em relação a média seja de R$\\$$ 100,00**. Sabemos que o **desvio padrão populacional** deste grupo de trabalhadores é de **R$\\$$ 3.323,39**. Para um **nível de confiança de 95%**, qual deve ser o tamanho da amostra de nosso estudo?"
   ]
  },
  {
   "cell_type": "markdown",
   "metadata": {
    "colab_type": "text",
    "id": "6uCkW4KlG3Gr"
   },
   "source": [
    "### Obtendo $\\sigma$"
   ]
  },
  {
   "cell_type": "code",
   "execution_count": 79,
   "metadata": {
    "colab": {
     "base_uri": "https://localhost:8080/",
     "height": 34
    },
    "colab_type": "code",
    "id": "1RmtZfj-G3Gr",
    "outputId": "d3e77bf1-b933-4ade-846f-95e25f4e1d6e",
    "scrolled": true
   },
   "outputs": [
    {
     "data": {
      "text/html": [
       "3323.3877303464"
      ],
      "text/latex": [
       "3323.3877303464"
      ],
      "text/markdown": [
       "3323.3877303464"
      ],
      "text/plain": [
       "[1] 3323.388"
      ]
     },
     "metadata": {},
     "output_type": "display_data"
    }
   ],
   "source": [
    "desvio_padrao <- sd(dados$Renda)\n",
    "desvio_padrao"
   ]
  },
  {
   "cell_type": "markdown",
   "metadata": {
    "colab_type": "text",
    "id": "Cl39PIZ2G3Gt"
   },
   "source": [
    "### Obtendo $e$"
   ]
  },
  {
   "cell_type": "code",
   "execution_count": 80,
   "metadata": {
    "colab": {
     "base_uri": "https://localhost:8080/",
     "height": 34
    },
    "colab_type": "code",
    "id": "NTRMt2gWG3Gt",
    "outputId": "f7d7ae3f-7e33-41cc-a11a-5b09de70cc2c"
   },
   "outputs": [
    {
     "data": {
      "text/html": [
       "100"
      ],
      "text/latex": [
       "100"
      ],
      "text/markdown": [
       "100"
      ],
      "text/plain": [
       "[1] 100"
      ]
     },
     "metadata": {},
     "output_type": "display_data"
    }
   ],
   "source": [
    "e <- 100\n",
    "e"
   ]
  },
  {
   "cell_type": "markdown",
   "metadata": {
    "colab_type": "text",
    "id": "OlAX3Gj6G3Gv"
   },
   "source": [
    "### Obtendo $n$"
   ]
  },
  {
   "cell_type": "code",
   "execution_count": 81,
   "metadata": {
    "colab": {
     "base_uri": "https://localhost:8080/",
     "height": 34
    },
    "colab_type": "code",
    "id": "0MjluwHPG3Gv",
    "outputId": "8f74510a-4f4b-4129-d3c3-d31be24567fa",
    "scrolled": true
   },
   "outputs": [
    {
     "data": {
      "text/html": [
       "4243.01109134833"
      ],
      "text/latex": [
       "4243.01109134833"
      ],
      "text/markdown": [
       "4243.01109134833"
      ],
      "text/plain": [
       "[1] 4243.011"
      ]
     },
     "metadata": {},
     "output_type": "display_data"
    }
   ],
   "source": [
    "n <- (z * (desvio_padrao / e)) ^ 2\n",
    "n"
   ]
  },
  {
   "cell_type": "code",
   "execution_count": null,
   "metadata": {},
   "outputs": [],
   "source": []
  }
 ],
 "metadata": {
  "code_font_size": 24,
  "colab": {
   "collapsed_sections": [],
   "name": "Curso_de_Estatística_Parte_2.ipynb",
   "provenance": [],
   "toc_visible": true,
   "version": "0.3.2"
  },
  "kernelspec": {
   "display_name": "R",
   "language": "R",
   "name": "ir"
  },
  "language_info": {
   "codemirror_mode": "r",
   "file_extension": ".r",
   "mimetype": "text/x-r-source",
   "name": "R",
   "pygments_lexer": "r",
   "version": "4.1.2"
  }
 },
 "nbformat": 4,
 "nbformat_minor": 1
}
