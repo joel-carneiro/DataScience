{
 "cells": [
  {
   "cell_type": "markdown",
   "metadata": {
    "colab_type": "text",
    "id": "WvMflodMjQKe"
   },
   "source": [
    "# <font color=green size=10>CURSO DE ESTATÍSTICA - PARTE 3</font>\n",
    "\n",
    "***"
   ]
  },
  {
   "cell_type": "markdown",
   "metadata": {
    "colab_type": "text",
    "id": "cVgsZ_E3jQKg"
   },
   "source": [
    "# <font color=green>1 CONHECENDO OS DADOS</font>\n",
    "***"
   ]
  },
  {
   "cell_type": "markdown",
   "metadata": {
    "colab_type": "text",
    "id": "TDjqYYNojQKh"
   },
   "source": [
    "## <font color=green>1.1 Dataset do projeto</font>\n",
    "***"
   ]
  },
  {
   "cell_type": "markdown",
   "metadata": {
    "colab_type": "text",
    "id": "iN1gIbaKjQKh"
   },
   "source": [
    "### Pesquisa Nacional por Amostra de Domicílios - 2015\n",
    "\n",
    "A <b>Pesquisa Nacional por Amostra de Domicílios - PNAD</b> investiga anualmente, de forma permanente, características gerais da população, de educação, trabalho, rendimento e habitação e outras, com periodicidade variável, de acordo com as necessidades de informação para o país, como as características sobre migração, fecundidade, nupcialidade, saúde, segurança alimentar, entre outros temas. O levantamento dessas estatísticas constitui, ao longo dos 49 anos de realização da pesquisa, um importante instrumento para formulação, validação e avaliação de políticas orientadas para o desenvolvimento socioeconômico e a melhoria das condições de vida no Brasil."
   ]
  },
  {
   "cell_type": "markdown",
   "metadata": {
    "colab_type": "text",
    "id": "U6V7br1RjQKi"
   },
   "source": [
    "### Fonte dos Dados\n",
    "\n",
    "https://ww2.ibge.gov.br/home/estatistica/populacao/trabalhoerendimento/pnad2015/microdados.shtm"
   ]
  },
  {
   "cell_type": "markdown",
   "metadata": {
    "colab_type": "text",
    "id": "r0Fe_qnzjQKj"
   },
   "source": [
    "### Variáveis utilizadas\n",
    "\n",
    "> ### Renda\n",
    "> ***\n",
    "\n",
    "Rendimento mensal do trabalho principal para pessoas de 10 anos ou mais de idade.\n",
    "\n",
    "> ### Idade\n",
    "> ***\n",
    "\n",
    "Idade do morador na data de referência em anos.\n",
    "\n",
    "> ### Altura (elaboração própria)\n",
    "> ***\n",
    "\n",
    "Altura do morador em metros.\n",
    "\n",
    "> ### UF\n",
    "> ***\n",
    "\n",
    "|Código|Descrição|\n",
    "|---|---|\n",
    "|11|Rondônia|\n",
    "|12|Acre|\n",
    "|13|Amazonas|\n",
    "|14|Roraima|\n",
    "|15|Pará|\n",
    "|16|Amapá|\n",
    "|17|Tocantins|\n",
    "|21|Maranhão|\n",
    "|22|Piauí|\n",
    "|23|Ceará|\n",
    "|24|Rio Grande do Norte|\n",
    "|25|Paraíba|\n",
    "|26|Pernambuco|\n",
    "|27|Alagoas|\n",
    "|28|Sergipe|\n",
    "|29|Bahia|\n",
    "|31|Minas Gerais|\n",
    "|32|Espírito Santo|\n",
    "|33|Rio de Janeiro|\n",
    "|35|São Paulo|\n",
    "|41|Paraná|\n",
    "|42|Santa Catarina|\n",
    "|43|Rio Grande do Sul|\n",
    "|50|Mato Grosso do Sul|\n",
    "|51|Mato Grosso|\n",
    "|52|Goiás|\n",
    "|53|Distrito Federal|\n",
    "\n",
    "> ### Sexo\t\n",
    "> ***\n",
    "\n",
    "|Código|Descrição|\n",
    "|---|---|\n",
    "|0|Masculino|\n",
    "|1|Feminino|\n",
    "\n",
    "> ### Anos de Estudo\n",
    "> ***\n",
    "\n",
    "|Código|Descrição|\n",
    "|---|---|\n",
    "|1|Sem instrução e menos de 1 ano|\n",
    "|2|1 ano|\n",
    "|3|2 anos|\n",
    "|4|3 anos|\n",
    "|5|4 anos|\n",
    "|6|5 anos|\n",
    "|7|6 anos|\n",
    "|8|7 anos|\n",
    "|9|8 anos|\n",
    "|10|9 anos|\n",
    "|11|10 anos|\n",
    "|12|11 anos|\n",
    "|13|12 anos|\n",
    "|14|13 anos|\n",
    "|15|14 anos|\n",
    "|16|15 anos ou mais|\n",
    "|17|Não determinados| \n",
    "||Não aplicável|\n",
    "\n",
    "> ### Cor\n",
    "> ***\n",
    "\n",
    "|Código|Descrição|\n",
    "|---|---|\n",
    "|0|Indígena|\n",
    "|2|Branca|\n",
    "|4|Preta|\n",
    "|6|Amarela|\n",
    "|8|Parda|\n",
    "|9|Sem declaração|"
   ]
  },
  {
   "cell_type": "markdown",
   "metadata": {
    "colab_type": "text",
    "id": "OK1IQH5cX7Gb"
   },
   "source": [
    "#### <font color='red'>Observação</font>\n",
    "***\n",
    "> Os seguintes tratamentos foram realizados nos dados originais:\n",
    "> 1. Foram eliminados os registros onde a <b>Renda</b> era inválida (999 999 999 999);\n",
    "> 2. Foram eliminados os registros onde a <b>Renda</b> era missing;\n",
    "> 3. Foram considerados somente os registros das <b>Pessoas de Referência</b> de cada domicílio (responsável pelo domicílio)."
   ]
  },
  {
   "cell_type": "markdown",
   "metadata": {},
   "source": [
    "### Configurações"
   ]
  },
  {
   "cell_type": "code",
   "execution_count": 1,
   "metadata": {},
   "outputs": [
    {
     "name": "stderr",
     "output_type": "stream",
     "text": [
      "\n",
      "Attaching package: ‘dplyr’\n",
      "\n",
      "\n",
      "The following objects are masked from ‘package:stats’:\n",
      "\n",
      "    filter, lag\n",
      "\n",
      "\n",
      "The following objects are masked from ‘package:base’:\n",
      "\n",
      "    intersect, setdiff, setequal, union\n",
      "\n",
      "\n"
     ]
    }
   ],
   "source": [
    "library(dplyr)\n",
    "library(ggplot2)"
   ]
  },
  {
   "cell_type": "code",
   "execution_count": 2,
   "metadata": {},
   "outputs": [],
   "source": [
    "options(repr.plot.width = 14, repr.plot.height = 8)"
   ]
  },
  {
   "cell_type": "markdown",
   "metadata": {
    "colab_type": "text",
    "id": "8Rw70V6ojQKk"
   },
   "source": [
    "### Importando dataset do projeto"
   ]
  },
  {
   "cell_type": "code",
   "execution_count": 3,
   "metadata": {
    "colab": {},
    "colab_type": "code",
    "id": "ufRZ7TLwjQKo"
   },
   "outputs": [],
   "source": [
    "dados <- read.csv('/home/joeldspy/Modelos/datasets/estatistica.csv')"
   ]
  },
  {
   "cell_type": "code",
   "execution_count": 4,
   "metadata": {
    "colab": {
     "base_uri": "https://localhost:8080/",
     "height": 204
    },
    "colab_type": "code",
    "id": "GsC_WhLFjQKq",
    "outputId": "cccf4d9c-10ec-4c5b-df3f-173c62ca0659",
    "scrolled": true
   },
   "outputs": [
    {
     "data": {
      "text/html": [
       "<table class=\"dataframe\">\n",
       "<caption>A data.frame: 6 × 7</caption>\n",
       "<thead>\n",
       "\t<tr><th></th><th scope=col>UF</th><th scope=col>Sexo</th><th scope=col>Idade</th><th scope=col>Cor</th><th scope=col>Anos.de.Estudo</th><th scope=col>Renda</th><th scope=col>Altura</th></tr>\n",
       "\t<tr><th></th><th scope=col>&lt;int&gt;</th><th scope=col>&lt;int&gt;</th><th scope=col>&lt;int&gt;</th><th scope=col>&lt;int&gt;</th><th scope=col>&lt;int&gt;</th><th scope=col>&lt;int&gt;</th><th scope=col>&lt;dbl&gt;</th></tr>\n",
       "</thead>\n",
       "<tbody>\n",
       "\t<tr><th scope=row>1</th><td>11</td><td>0</td><td>23</td><td>8</td><td>12</td><td> 800</td><td>1.603808</td></tr>\n",
       "\t<tr><th scope=row>2</th><td>11</td><td>1</td><td>23</td><td>2</td><td>12</td><td>1150</td><td>1.739790</td></tr>\n",
       "\t<tr><th scope=row>3</th><td>11</td><td>1</td><td>35</td><td>8</td><td>15</td><td> 880</td><td>1.760444</td></tr>\n",
       "\t<tr><th scope=row>4</th><td>11</td><td>0</td><td>46</td><td>2</td><td> 6</td><td>3500</td><td>1.783158</td></tr>\n",
       "\t<tr><th scope=row>5</th><td>11</td><td>1</td><td>47</td><td>8</td><td> 9</td><td> 150</td><td>1.690631</td></tr>\n",
       "\t<tr><th scope=row>6</th><td>11</td><td>1</td><td>34</td><td>8</td><td>12</td><td> 790</td><td>1.637906</td></tr>\n",
       "</tbody>\n",
       "</table>\n"
      ],
      "text/latex": [
       "A data.frame: 6 × 7\n",
       "\\begin{tabular}{r|lllllll}\n",
       "  & UF & Sexo & Idade & Cor & Anos.de.Estudo & Renda & Altura\\\\\n",
       "  & <int> & <int> & <int> & <int> & <int> & <int> & <dbl>\\\\\n",
       "\\hline\n",
       "\t1 & 11 & 0 & 23 & 8 & 12 &  800 & 1.603808\\\\\n",
       "\t2 & 11 & 1 & 23 & 2 & 12 & 1150 & 1.739790\\\\\n",
       "\t3 & 11 & 1 & 35 & 8 & 15 &  880 & 1.760444\\\\\n",
       "\t4 & 11 & 0 & 46 & 2 &  6 & 3500 & 1.783158\\\\\n",
       "\t5 & 11 & 1 & 47 & 8 &  9 &  150 & 1.690631\\\\\n",
       "\t6 & 11 & 1 & 34 & 8 & 12 &  790 & 1.637906\\\\\n",
       "\\end{tabular}\n"
      ],
      "text/markdown": [
       "\n",
       "A data.frame: 6 × 7\n",
       "\n",
       "| <!--/--> | UF &lt;int&gt; | Sexo &lt;int&gt; | Idade &lt;int&gt; | Cor &lt;int&gt; | Anos.de.Estudo &lt;int&gt; | Renda &lt;int&gt; | Altura &lt;dbl&gt; |\n",
       "|---|---|---|---|---|---|---|---|\n",
       "| 1 | 11 | 0 | 23 | 8 | 12 |  800 | 1.603808 |\n",
       "| 2 | 11 | 1 | 23 | 2 | 12 | 1150 | 1.739790 |\n",
       "| 3 | 11 | 1 | 35 | 8 | 15 |  880 | 1.760444 |\n",
       "| 4 | 11 | 0 | 46 | 2 |  6 | 3500 | 1.783158 |\n",
       "| 5 | 11 | 1 | 47 | 8 |  9 |  150 | 1.690631 |\n",
       "| 6 | 11 | 1 | 34 | 8 | 12 |  790 | 1.637906 |\n",
       "\n"
      ],
      "text/plain": [
       "  UF Sexo Idade Cor Anos.de.Estudo Renda Altura  \n",
       "1 11 0    23    8   12              800  1.603808\n",
       "2 11 1    23    2   12             1150  1.739790\n",
       "3 11 1    35    8   15              880  1.760444\n",
       "4 11 0    46    2    6             3500  1.783158\n",
       "5 11 1    47    8    9              150  1.690631\n",
       "6 11 1    34    8   12              790  1.637906"
      ]
     },
     "metadata": {},
     "output_type": "display_data"
    }
   ],
   "source": [
    "head(dados)"
   ]
  },
  {
   "cell_type": "markdown",
   "metadata": {
    "colab_type": "text",
    "id": "nk65O0lepz57"
   },
   "source": [
    "# <font color=green>2 TESTES DE HIPÓTESES</font>\n",
    "***"
   ]
  },
  {
   "cell_type": "markdown",
   "metadata": {
    "colab_type": "text",
    "id": "OjHpQHFHpsi3"
   },
   "source": [
    "Testes estatísticos são regras de decisão que permitem avaliar a razoabilidade das hipóteses feitas sobre os parâmetros populacionais e aceitá-las ou rejeitá-las como provavelmente verdadeiras ou falsas tendo como base uma amostra."
   ]
  },
  {
   "cell_type": "markdown",
   "metadata": {
    "colab_type": "text",
    "id": "qjqWccNspsi4"
   },
   "source": [
    "## <font color=green>2.1 Teste de normalidade</font>\n",
    "***"
   ]
  },
  {
   "cell_type": "markdown",
   "metadata": {
    "colab_type": "text",
    "id": "abDn-nKLpsi7"
   },
   "source": [
    "A função *shapiro.test* testa a hipótese nula $H_0$ de que a amostra é proveniente de uma distribuição normal, ou seja, os dados são normalmente distribuídos."
   ]
  },
  {
   "cell_type": "markdown",
   "metadata": {
    "colab_type": "text",
    "id": "O79kHHwYpsi5"
   },
   "source": [
    "#### <font color=red>Documentações:\n",
    "\n",
    "- [**shapiro.test**](https://www.rdocumentation.org/packages/stats/versions/3.6.1/topics/shapiro.test)"
   ]
  },
  {
   "cell_type": "markdown",
   "metadata": {
    "colab_type": "text",
    "id": "gRDJ86zTpsi8"
   },
   "source": [
    "### Definindo a significância do teste ($\\alpha$)"
   ]
  },
  {
   "cell_type": "code",
   "execution_count": 5,
   "metadata": {
    "colab": {},
    "colab_type": "code",
    "id": "3s6ZAdCOpsi9"
   },
   "outputs": [],
   "source": [
    "significancia <- 0.05"
   ]
  },
  {
   "cell_type": "markdown",
   "metadata": {
    "colab_type": "text",
    "id": "sppYIE51psi_"
   },
   "source": [
    "### Testando a variável Renda"
   ]
  },
  {
   "cell_type": "code",
   "execution_count": 6,
   "metadata": {
    "colab": {
     "base_uri": "https://localhost:8080/",
     "height": 287
    },
    "colab_type": "code",
    "id": "IZpa91lHpsi_",
    "outputId": "ba8bdb04-9da3-41dd-8726-c76cd9670aa0"
   },
   "outputs": [
    {
     "name": "stderr",
     "output_type": "stream",
     "text": [
      "\u001b[1m\u001b[22m`stat_bin()` using `bins = 30`. Pick better value with `binwidth`.\n"
     ]
    },
    {
     "data": {
      "image/png": "[encoded data removed]",
      "text/plain": [
       "plot without title"
      ]
     },
     "metadata": {
      "image/png": {
       "height": 480,
       "width": 840
      }
     },
     "output_type": "display_data"
    }
   ],
   "source": [
    "ggplot(dados, aes(x = Renda)) + \n",
    "    geom_histogram() + \n",
    "    ylab(\"Frequência\") + \n",
    "    xlab(\"Renda\") + \n",
    "    ggtitle('Histograma Renda') +\n",
    "    theme(plot.title=element_text(hjust = 0.5))"
   ]
  },
  {
   "cell_type": "markdown",
   "metadata": {
    "colab_type": "text",
    "id": "qKeNZ0PUpsjC"
   },
   "source": [
    "### <font color='red'>Critério do valor $p$</font>\n",
    "\n",
    "> ### Rejeitar $H_0$ se o valor $p\\leq \\alpha$"
   ]
  },
  {
   "cell_type": "code",
   "execution_count": 7,
   "metadata": {},
   "outputs": [],
   "source": [
    "amostra <- sample_n(dados, 5000)"
   ]
  },
  {
   "cell_type": "code",
   "execution_count": 8,
   "metadata": {},
   "outputs": [
    {
     "data": {
      "text/plain": [
       "\n",
       "\tShapiro-Wilk normality test\n",
       "\n",
       "data:  amostra$Renda\n",
       "W = 0.44591, p-value < 2.2e-16\n"
      ]
     },
     "metadata": {},
     "output_type": "display_data"
    }
   ],
   "source": [
    "resultado <- shapiro.test(amostra$Renda)\n",
    "resultado"
   ]
  },
  {
   "cell_type": "code",
   "execution_count": 9,
   "metadata": {},
   "outputs": [
    {
     "data": {
      "text/html": [
       "2.1920522254255e-82"
      ],
      "text/latex": [
       "2.1920522254255e-82"
      ],
      "text/markdown": [
       "2.1920522254255e-82"
      ],
      "text/plain": [
       "[1] 2.192052e-82"
      ]
     },
     "metadata": {},
     "output_type": "display_data"
    }
   ],
   "source": [
    "p_valor <- resultado$p.value\n",
    "p_valor"
   ]
  },
  {
   "cell_type": "code",
   "execution_count": 10,
   "metadata": {},
   "outputs": [],
   "source": [
    "significancia <- 0.05"
   ]
  },
  {
   "cell_type": "code",
   "execution_count": 11,
   "metadata": {
    "colab": {
     "base_uri": "https://localhost:8080/",
     "height": 35
    },
    "colab_type": "code",
    "id": "Q4eJFGsCpsjG",
    "outputId": "95f4e550-b43e-476c-94e6-12b600384bc5"
   },
   "outputs": [
    {
     "data": {
      "text/html": [
       "TRUE"
      ],
      "text/latex": [
       "TRUE"
      ],
      "text/markdown": [
       "TRUE"
      ],
      "text/plain": [
       "[1] TRUE"
      ]
     },
     "metadata": {},
     "output_type": "display_data"
    }
   ],
   "source": [
    "p_valor <= significancia"
   ]
  },
  {
   "cell_type": "markdown",
   "metadata": {
    "colab_type": "text",
    "id": "JkAxa9PqpsjM"
   },
   "source": [
    "### Testando a variável Altura"
   ]
  },
  {
   "cell_type": "code",
   "execution_count": 12,
   "metadata": {
    "colab": {
     "base_uri": "https://localhost:8080/",
     "height": 287
    },
    "colab_type": "code",
    "id": "n9r88dMKpsjN",
    "outputId": "9147988e-9272-4aac-de34-211894eeb81c"
   },
   "outputs": [
    {
     "name": "stderr",
     "output_type": "stream",
     "text": [
      "\u001b[1m\u001b[22m`stat_bin()` using `bins = 30`. Pick better value with `binwidth`.\n"
     ]
    },
    {
     "data": {
      "image/png": "[encoded data removed]",
      "text/plain": [
       "plot without title"
      ]
     },
     "metadata": {
      "image/png": {
       "height": 480,
       "width": 840
      }
     },
     "output_type": "display_data"
    }
   ],
   "source": [
    "ggplot(dados, aes(x = Altura)) + \n",
    "    geom_histogram() + \n",
    "    ylab(\"Frequência\") + \n",
    "    xlab(\"Altura\") + \n",
    "    ggtitle('Histograma Altura') +\n",
    "    theme(plot.title=element_text(hjust = 0.5))"
   ]
  },
  {
   "cell_type": "markdown",
   "metadata": {
    "colab_type": "text",
    "id": "1ADrwGb5psjQ"
   },
   "source": [
    "### <font color='red'>Critério do valor $p$</font>\n",
    "\n",
    "> ### Rejeitar $H_0$ se o valor $p\\leq \\alpha$"
   ]
  },
  {
   "cell_type": "code",
   "execution_count": 13,
   "metadata": {},
   "outputs": [
    {
     "data": {
      "text/plain": [
       "\n",
       "\tShapiro-Wilk normality test\n",
       "\n",
       "data:  amostra$Altura\n",
       "W = 0.99956, p-value = 0.3121\n"
      ]
     },
     "metadata": {},
     "output_type": "display_data"
    }
   ],
   "source": [
    "resultado <- shapiro.test(amostra$Altura)\n",
    "resultado"
   ]
  },
  {
   "cell_type": "code",
   "execution_count": 14,
   "metadata": {},
   "outputs": [
    {
     "data": {
      "text/html": [
       "0.312052592061201"
      ],
      "text/latex": [
       "0.312052592061201"
      ],
      "text/markdown": [
       "0.312052592061201"
      ],
      "text/plain": [
       "[1] 0.3120526"
      ]
     },
     "metadata": {},
     "output_type": "display_data"
    }
   ],
   "source": [
    "p_valor <- resultado$p.value\n",
    "p_valor"
   ]
  },
  {
   "cell_type": "code",
   "execution_count": 15,
   "metadata": {},
   "outputs": [],
   "source": [
    "significancia <- 0.05"
   ]
  },
  {
   "cell_type": "code",
   "execution_count": 16,
   "metadata": {
    "colab": {
     "base_uri": "https://localhost:8080/",
     "height": 35
    },
    "colab_type": "code",
    "id": "Q4eJFGsCpsjG",
    "outputId": "95f4e550-b43e-476c-94e6-12b600384bc5"
   },
   "outputs": [
    {
     "data": {
      "text/html": [
       "FALSE"
      ],
      "text/latex": [
       "FALSE"
      ],
      "text/markdown": [
       "FALSE"
      ],
      "text/plain": [
       "[1] FALSE"
      ]
     },
     "metadata": {},
     "output_type": "display_data"
    }
   ],
   "source": [
    "p_valor <= significancia"
   ]
  },
  {
   "cell_type": "markdown",
   "metadata": {
    "colab_type": "text",
    "id": "rWh-HSd-psji"
   },
   "source": [
    "## <font color=green>2.2 Etapas Básicas de um Teste</font>\n",
    "***"
   ]
  },
  {
   "cell_type": "markdown",
   "metadata": {
    "colab_type": "text",
    "id": "DQF30K2Cpsjj"
   },
   "source": [
    "### **Passo 1** - formulação das hipóteses $H_0$ e $H_1$;\n",
    "\n",
    "> ### <font color='red'>Pontos importantes</font>\n",
    "> - De maneira geral, o alvo do estudo deve ser formulado como a hipótese alternativa $H_1$.\n",
    "> - A hipótese nula sempre afirma uma igualdade ou propriedade populacional, e $H_1$ a desigualdade que nega $H_0$.\n",
    "> - No caso da hipótese nula $H_0$ a igualdade pode ser representada por uma igualdade simples \"$=$\" ou por \"$\\geq$\" e \"$\\leq$\". Sempre complementar ao estabelecido pela hipótese alternativa.\n",
    "> - A hipótese alternativa $H_1$ deve definir uma desigualdade que pode ser uma diferença simples \"$\\neq$\" ou dos tipos \"$>$\" e \"$<$\".\n",
    "\n",
    "\n",
    "### **Passo 2** - escolha da distribuição amostral adequada;\n",
    "\n",
    "> ### <font color='red'>Pontos importantes</font>\n",
    "> - Quando o tamanho da amostra tiver 30 elementos ou mais, deve-se utilizar a distribuição normal, como estabelecido pelo **teorema do limite central**.\n",
    "> - Para um tamanho de amostra menor que 30 elementos, e se pudermos afirmar que a população se distribui aproximadamente como uma normal e o desvio padrão populacional for conhecido, deve-se utilizar a distribuição normal.\n",
    "> - Para um tamanho de amostra menor que 30 elementos, e se pudermos afirmar que a população se distribui aproximadamente como uma normal e o desvio padrão populacional for desconhecido, deve-se utilizar a distribuição t de Student.\n",
    "\n",
    "<img src='https://caelum-online-public.s3.amazonaws.com/1229-estatistica-parte3/01/img003.png' width=70%>\n",
    "\n",
    "### **Passo 3** - fixação da significância do teste ($\\alpha$), que define as regiões de aceitação e rejeição das hipóteses (os valores mais freqüentes são 10%, 5% e 1%);\n",
    "\n",
    "> ### <font color='red'>Pontos importantes</font>\n",
    "> - O **nível de confiança** ($1 - \\alpha$) representa a probabilidade de acerto da estimativa. De forma complementar o **nível de significância** ($\\alpha$) expressa a probabilidade de erro da estimativa.\n",
    ">\n",
    "> ![Níveis de Confiança e significância](https://caelum-online-public.s3.amazonaws.com/1229-estatistica-parte3/01/img001.png)\n",
    ">\n",
    "> - O **nível de confiança** representa o grau de confiabilidade do resultado da estimativa estar dentro de determinado intervalo. Quando fixamos em uma pesquisa um **nível de confiança** de 95%, por exemplo, estamos assumindo que existe uma probabilidade de 95% dos resultados da pesquisa representarem bem a realidade, ou seja, estarem corretos.\n",
    ">\n",
    "> ![Áreas de Aceitação e Rejeição](https://caelum-online-public.s3.amazonaws.com/1229-estatistica-parte3/01/img002.png)\n",
    "\n",
    "### **Passo 4** - cálculo da estatística-teste e verificação desse valor com as áreas de aceitação e rejeição do teste;\n",
    "\n",
    "> ### <font color='red'>Pontos importantes</font>\n",
    "> - Nos testes paramétricos, distância relativa entre a estatística amostral e o valor alegado como provável.\n",
    "> - Neste passo são obtidas as estatísticas amostrais necessárias à execução do teste (média, desvio-padrão, graus de liberdade etc.)\n",
    "\n",
    "\n",
    "### **Passo 5** - Aceitação ou rejeição da hipótese nula.\n",
    "\n",
    "> ### <font color='red'>Pontos importantes</font>\n",
    "> - No caso de o intervalo de aceitação conter a estatística-teste, aceita-se $H_0$ como estatisticamente válido e rejeita-se $H_1$ como tal.\n",
    "> - No caso de o intervalo de aceitação não conter a estatística-teste, rejeita-se $H_0$ e aceita-se $H_1$ como provavelmente verdadeira. \n",
    "> - A aceitação também se verifica com a probabilidade de cauda (p-valor): se maior que $\\alpha$, aceita-se $H_0$."
   ]
  },
  {
   "cell_type": "markdown",
   "metadata": {
    "colab_type": "text",
    "id": "TXdMM0dOpsjm"
   },
   "source": [
    "---"
   ]
  },
  {
   "cell_type": "markdown",
   "metadata": {
    "colab_type": "text",
    "id": "miGOADKYpsjn"
   },
   "source": [
    "# <font color=green>3 TESTES PARAMÉTRICOS</font>\n",
    "***"
   ]
  },
  {
   "cell_type": "markdown",
   "metadata": {
    "colab_type": "text",
    "id": "pIHY_4Sspsjn"
   },
   "source": [
    "Quando um teste assume determinadas premissas sobre como os parâmetros de uma população se distribuem, estamos trabalhando com **Testes Paramétricos**."
   ]
  },
  {
   "cell_type": "markdown",
   "metadata": {
    "colab_type": "text",
    "id": "rUKgxZ7_psjp"
   },
   "source": [
    "## <font color=green>3.1 Teste Bicaudal</font>\n",
    "***"
   ]
  },
  {
   "cell_type": "markdown",
   "metadata": {
    "colab_type": "text",
    "id": "i1PMIB5cpsjp"
   },
   "source": [
    "## <font color='red'>Problema</font>"
   ]
  },
  {
   "cell_type": "markdown",
   "metadata": {
    "colab_type": "text",
    "id": "vellTWzJpsjq"
   },
   "source": [
    "A empresa **Suco Bom** produz **sucos de frutas em embalagens de 500 ml**. Seu processo de produção é quase todo automatizado e as embalagens de sucos são preenchidas por uma máquina que às vezes apresenta um certo desajuste, levando a erros no preenchimento das embalagens para mais ou menos conteúdo. Quando o volume médio cai abaixo de 500 ml, a empresa se preocupa em perder vendas e ter problemas com os orgãos fiscalizadores. Quando o volume passa de 500 ml, a empresa começa a se preocupar com prejuízos no processo de produção.\n",
    "\n",
    "O setor de controle de qualidade da empresa **Suco Bom** extrai, periodicamente, **amostras de 50 embalagens** para monitorar o processo de produção. Para cada amostra, é realizado um **teste de hipóteses** para avaliar se o maquinário se desajustou. A equipe de controle de qualidade assume um **nível de significância de 5%**.\n",
    "\n",
    "Suponha agora que uma **amostra de 50 embalagens** foi selecionada e que a **média amostral observada foi de 503,24 ml**. **Esse valor de média amostral é suficientemente maior que 500 ml para nos fazer rejeitar a hipótese de que a média do processo é de 500 ml ao nível de significância de 5%?**"
   ]
  },
  {
   "cell_type": "markdown",
   "metadata": {
    "colab_type": "text",
    "id": "-J15nugOpsjq"
   },
   "source": [
    "---"
   ]
  },
  {
   "cell_type": "markdown",
   "metadata": {
    "colab_type": "text",
    "id": "076qvKgapsjr"
   },
   "source": [
    "O **teste bicaudal** é muito utilizado em **testes de qualidade**, como o apresentado em nosso problema acima. Outro exemplo é a avaliação de peças que devem ter um encaixe perfeito (porcas e parafusos, chaves e fechaduras etc.)."
   ]
  },
  {
   "cell_type": "markdown",
   "metadata": {
    "colab_type": "text",
    "id": "MyGUYz88psjr"
   },
   "source": [
    "![Teste Bicaudal](https://caelum-online-public.s3.amazonaws.com/1229-estatistica-parte3/01/img005.png)"
   ]
  },
  {
   "cell_type": "markdown",
   "metadata": {
    "colab_type": "text",
    "id": "EOiKt64mpsjs"
   },
   "source": [
    "---"
   ]
  },
  {
   "cell_type": "markdown",
   "metadata": {
    "colab_type": "text",
    "id": "011wNGXtpsjs"
   },
   "source": [
    "### Dados do problema"
   ]
  },
  {
   "cell_type": "code",
   "execution_count": 17,
   "metadata": {
    "colab": {},
    "colab_type": "code",
    "id": "lHLlGH7upsjt"
   },
   "outputs": [],
   "source": [
    "amostra <- c(509, 505, 495, 510, 496, 509, 497, 502, 503, 505, \n",
    "           501, 505, 510, 505, 504, 497, 506, 506, 508, 505, \n",
    "           497, 504, 500, 498, 506, 496, 508, 497, 503, 501, \n",
    "           503, 506, 499, 498, 509, 507, 503, 499, 509, 495, \n",
    "           502, 505, 504, 509, 508, 501, 505, 497, 508, 507)"
   ]
  },
  {
   "cell_type": "code",
   "execution_count": 18,
   "metadata": {
    "colab": {
     "base_uri": "https://localhost:8080/",
     "height": 204
    },
    "colab_type": "code",
    "id": "AJNH5RQtpsju",
    "outputId": "2e4e74bb-9e93-41ce-b12c-af947c39fda8",
    "scrolled": false
   },
   "outputs": [
    {
     "data": {
      "text/html": [
       "<table class=\"dataframe\">\n",
       "<caption>A data.frame: 6 × 1</caption>\n",
       "<thead>\n",
       "\t<tr><th></th><th scope=col>Amostra</th></tr>\n",
       "\t<tr><th></th><th scope=col>&lt;dbl&gt;</th></tr>\n",
       "</thead>\n",
       "<tbody>\n",
       "\t<tr><th scope=row>1</th><td>509</td></tr>\n",
       "\t<tr><th scope=row>2</th><td>505</td></tr>\n",
       "\t<tr><th scope=row>3</th><td>495</td></tr>\n",
       "\t<tr><th scope=row>4</th><td>510</td></tr>\n",
       "\t<tr><th scope=row>5</th><td>496</td></tr>\n",
       "\t<tr><th scope=row>6</th><td>509</td></tr>\n",
       "</tbody>\n",
       "</table>\n"
      ],
      "text/latex": [
       "A data.frame: 6 × 1\n",
       "\\begin{tabular}{r|l}\n",
       "  & Amostra\\\\\n",
       "  & <dbl>\\\\\n",
       "\\hline\n",
       "\t1 & 509\\\\\n",
       "\t2 & 505\\\\\n",
       "\t3 & 495\\\\\n",
       "\t4 & 510\\\\\n",
       "\t5 & 496\\\\\n",
       "\t6 & 509\\\\\n",
       "\\end{tabular}\n"
      ],
      "text/markdown": [
       "\n",
       "A data.frame: 6 × 1\n",
       "\n",
       "| <!--/--> | Amostra &lt;dbl&gt; |\n",
       "|---|---|\n",
       "| 1 | 509 |\n",
       "| 2 | 505 |\n",
       "| 3 | 495 |\n",
       "| 4 | 510 |\n",
       "| 5 | 496 |\n",
       "| 6 | 509 |\n",
       "\n"
      ],
      "text/plain": [
       "  Amostra\n",
       "1 509    \n",
       "2 505    \n",
       "3 495    \n",
       "4 510    \n",
       "5 496    \n",
       "6 509    "
      ]
     },
     "metadata": {},
     "output_type": "display_data"
    }
   ],
   "source": [
    "amostra <- data.frame(Amostra = amostra)\n",
    "head(amostra)"
   ]
  },
  {
   "cell_type": "code",
   "execution_count": 19,
   "metadata": {
    "colab": {
     "base_uri": "https://localhost:8080/",
     "height": 35
    },
    "colab_type": "code",
    "id": "tnjD0A_ppsjw",
    "outputId": "96415938-0ad1-463b-ee79-719ef48dca1a"
   },
   "outputs": [
    {
     "data": {
      "text/html": [
       "503.24"
      ],
      "text/latex": [
       "503.24"
      ],
      "text/markdown": [
       "503.24"
      ],
      "text/plain": [
       "[1] 503.24"
      ]
     },
     "metadata": {},
     "output_type": "display_data"
    }
   ],
   "source": [
    "media_amostra <- mean(amostra$Amostra)\n",
    "media_amostra"
   ]
  },
  {
   "cell_type": "code",
   "execution_count": 20,
   "metadata": {
    "colab": {
     "base_uri": "https://localhost:8080/",
     "height": 35
    },
    "colab_type": "code",
    "id": "JXz2IFCUpsjy",
    "outputId": "fb457ed0-cc94-498c-b13d-310418913f61"
   },
   "outputs": [
    {
     "data": {
      "text/html": [
       "4.48380305052735"
      ],
      "text/latex": [
       "4.48380305052735"
      ],
      "text/markdown": [
       "4.48380305052735"
      ],
      "text/plain": [
       "[1] 4.483803"
      ]
     },
     "metadata": {},
     "output_type": "display_data"
    }
   ],
   "source": [
    "desvio_padrao_amostra <- sd(amostra$Amostra)\n",
    "desvio_padrao_amostra"
   ]
  },
  {
   "cell_type": "code",
   "execution_count": 21,
   "metadata": {
    "colab": {},
    "colab_type": "code",
    "id": "PE99TXSfpsj0"
   },
   "outputs": [],
   "source": [
    "media <- 500\n",
    "significancia <-  0.05\n",
    "confianca <- 1 - significancia\n",
    "n <- 50"
   ]
  },
  {
   "cell_type": "markdown",
   "metadata": {
    "colab_type": "text",
    "id": "nqmFpl7wpsj2"
   },
   "source": [
    "### **Passo 1** - formulação das hipóteses $H_0$ e $H_1$\n",
    "\n",
    "#### <font color='red'>Lembre-se, a hipótese nula sempre contém a alegação de igualdade</font>"
   ]
  },
  {
   "cell_type": "markdown",
   "metadata": {
    "colab_type": "text",
    "id": "QVcqkHZhpsj3"
   },
   "source": [
    "### $H_0: \\mu = 500$\n",
    "\n",
    "### $H_1: \\mu \\neq 500$"
   ]
  },
  {
   "cell_type": "markdown",
   "metadata": {
    "colab_type": "text",
    "id": "MShPuVL6psj3"
   },
   "source": [
    "---"
   ]
  },
  {
   "cell_type": "markdown",
   "metadata": {
    "colab_type": "text",
    "id": "_rAz73fzpsj4"
   },
   "source": [
    "### **Passo 2** - escolha da distribuição amostral adequada\n",
    "<img src='https://caelum-online-public.s3.amazonaws.com/1229-estatistica-parte3/01/img003.png' width=70%>"
   ]
  },
  {
   "cell_type": "markdown",
   "metadata": {
    "colab_type": "text",
    "id": "XC1JOtU9psj4"
   },
   "source": [
    "### O tamanho da amostra é maior que 30?\n",
    "#### Resp.: Sim\n",
    "\n",
    "### O desvio padrão populacional é conhecido?\n",
    "#### Resp.: Não"
   ]
  },
  {
   "cell_type": "markdown",
   "metadata": {
    "colab_type": "text",
    "id": "Uq-Zq_Sxpsj5"
   },
   "source": [
    "---"
   ]
  },
  {
   "cell_type": "markdown",
   "metadata": {
    "colab_type": "text",
    "id": "V3OT4caspsj5"
   },
   "source": [
    "### **Passo 3** - fixação da significância do teste ($\\alpha$)"
   ]
  },
  {
   "cell_type": "markdown",
   "metadata": {
    "colab_type": "text",
    "id": "wI1Nhj_vpsj6"
   },
   "source": [
    "#### <font color=red>Documentações:\n",
    "\n",
    "- [**Normal**](https://www.rdocumentation.org/packages/stats/versions/3.6.1/topics/Normal)"
   ]
  },
  {
   "cell_type": "code",
   "execution_count": 22,
   "metadata": {
    "colab": {
     "base_uri": "https://localhost:8080/",
     "height": 35
    },
    "colab_type": "code",
    "id": "2JyYCHeQpsj8",
    "outputId": "593263ce-a450-43d3-bcf1-1d663ef2774f"
   },
   "outputs": [
    {
     "data": {
      "text/html": [
       "0.975"
      ],
      "text/latex": [
       "0.975"
      ],
      "text/markdown": [
       "0.975"
      ],
      "text/plain": [
       "[1] 0.975"
      ]
     },
     "metadata": {},
     "output_type": "display_data"
    }
   ],
   "source": [
    "probabilidade <- (0.5 + (confianca / 2))\n",
    "probabilidade"
   ]
  },
  {
   "cell_type": "markdown",
   "metadata": {
    "colab_type": "text",
    "id": "Fu4Wbd-ipsj-"
   },
   "source": [
    "### Obtendo $z_{\\alpha/2}$"
   ]
  },
  {
   "cell_type": "code",
   "execution_count": 23,
   "metadata": {
    "colab": {
     "base_uri": "https://localhost:8080/",
     "height": 35
    },
    "colab_type": "code",
    "id": "imc3GyDLpsj_",
    "outputId": "b9dca9d5-da76-42b1-919c-1aaf593fed70"
   },
   "outputs": [
    {
     "data": {
      "text/html": [
       "1.95996398454005"
      ],
      "text/latex": [
       "1.95996398454005"
      ],
      "text/markdown": [
       "1.95996398454005"
      ],
      "text/plain": [
       "[1] 1.959964"
      ]
     },
     "metadata": {},
     "output_type": "display_data"
    }
   ],
   "source": [
    "z_alpha_2 <- qnorm(probabilidade)\n",
    "z_alpha_2"
   ]
  },
  {
   "cell_type": "markdown",
   "metadata": {
    "colab_type": "text",
    "id": "d98Z21yOpskB"
   },
   "source": [
    "![Região de Aceitação](https://caelum-online-public.s3.amazonaws.com/1229-estatistica-parte3/01/img006.png)"
   ]
  },
  {
   "cell_type": "markdown",
   "metadata": {
    "colab_type": "text",
    "id": "eyfX7pYMpskC"
   },
   "source": [
    "---"
   ]
  },
  {
   "cell_type": "markdown",
   "metadata": {
    "colab_type": "text",
    "id": "aaLCZs0ApskC"
   },
   "source": [
    "### **Passo 4** - cálculo da estatística-teste e verificação desse valor com as áreas de aceitação e rejeição do teste\n",
    "\n",
    "# $$z = \\frac{\\bar{x} - \\mu_0}{\\frac{s}{\\sqrt{n}}}$$"
   ]
  },
  {
   "cell_type": "code",
   "execution_count": 24,
   "metadata": {
    "colab": {
     "base_uri": "https://localhost:8080/",
     "height": 35
    },
    "colab_type": "code",
    "id": "a6zMj0YzpskC",
    "outputId": "83a2bb40-f67f-4ddc-dbd9-a88032f7dc86"
   },
   "outputs": [
    {
     "data": {
      "text/html": [
       "5.11"
      ],
      "text/latex": [
       "5.11"
      ],
      "text/markdown": [
       "5.11"
      ],
      "text/plain": [
       "[1] 5.11"
      ]
     },
     "metadata": {},
     "output_type": "display_data"
    }
   ],
   "source": [
    "z <- (media_amostra - media) / ( desvio_padrao_amostra / sqrt(n))\n",
    "round(z, 2)"
   ]
  },
  {
   "cell_type": "markdown",
   "metadata": {
    "colab_type": "text",
    "id": "UMHqgrlupskE"
   },
   "source": [
    "![Estatística-Teste](https://caelum-online-public.s3.amazonaws.com/1229-estatistica-parte3/01/img007.png)"
   ]
  },
  {
   "cell_type": "markdown",
   "metadata": {
    "colab_type": "text",
    "id": "tFfJX8G9pskF"
   },
   "source": [
    "---"
   ]
  },
  {
   "cell_type": "markdown",
   "metadata": {
    "colab_type": "text",
    "id": "aqTnTTePpskF"
   },
   "source": [
    "### **Passo 5** - Aceitação ou rejeição da hipótese nula"
   ]
  },
  {
   "cell_type": "markdown",
   "metadata": {
    "colab_type": "text",
    "id": "pD1cc4DHpskG"
   },
   "source": [
    "<img src='https://caelum-online-public.s3.amazonaws.com/1229-estatistica-parte3/01/img013.png' width=90%>"
   ]
  },
  {
   "cell_type": "markdown",
   "metadata": {
    "colab_type": "text",
    "id": "qbnH6V15pskG"
   },
   "source": [
    "### <font color='red'>Critério do valor crítico</font>\n",
    "\n",
    "> ### Teste Bicaudal\n",
    "> ### Rejeitar $H_0$ se $z \\leq -z_{\\alpha / 2}$ ou se $z \\geq z_{\\alpha / 2}$"
   ]
  },
  {
   "cell_type": "code",
   "execution_count": 25,
   "metadata": {
    "colab": {
     "base_uri": "https://localhost:8080/",
     "height": 35
    },
    "colab_type": "code",
    "id": "-MkJyqSupskG",
    "outputId": "6495abcc-0c3f-4759-8a31-96d668ad2eff"
   },
   "outputs": [
    {
     "data": {
      "text/html": [
       "FALSE"
      ],
      "text/latex": [
       "FALSE"
      ],
      "text/markdown": [
       "FALSE"
      ],
      "text/plain": [
       "[1] FALSE"
      ]
     },
     "metadata": {},
     "output_type": "display_data"
    }
   ],
   "source": [
    "z <= -z_alpha_2"
   ]
  },
  {
   "cell_type": "code",
   "execution_count": 26,
   "metadata": {
    "colab": {
     "base_uri": "https://localhost:8080/",
     "height": 35
    },
    "colab_type": "code",
    "id": "FVTIIXA3pskI",
    "outputId": "8ec15147-9c1d-4fa0-fe26-8de8166f3ed6"
   },
   "outputs": [
    {
     "data": {
      "text/html": [
       "TRUE"
      ],
      "text/latex": [
       "TRUE"
      ],
      "text/markdown": [
       "TRUE"
      ],
      "text/plain": [
       "[1] TRUE"
      ]
     },
     "metadata": {},
     "output_type": "display_data"
    }
   ],
   "source": [
    "z >= z_alpha_2"
   ]
  },
  {
   "cell_type": "code",
   "execution_count": 27,
   "metadata": {},
   "outputs": [
    {
     "data": {
      "text/html": [
       "'Rejeitar H0'"
      ],
      "text/latex": [
       "'Rejeitar H0'"
      ],
      "text/markdown": [
       "'Rejeitar H0'"
      ],
      "text/plain": [
       "[1] \"Rejeitar H0\""
      ]
     },
     "metadata": {},
     "output_type": "display_data"
    }
   ],
   "source": [
    "if(z <= -z_alpha_2 || z >= z_alpha_2){\n",
    "    'Rejeitar H0'\n",
    "}else{\n",
    "    'Aceitar H0'\n",
    "}"
   ]
  },
  {
   "cell_type": "markdown",
   "metadata": {
    "colab_type": "text",
    "id": "YX-xSnZFpskM"
   },
   "source": [
    "### <font color='green'>Conclusão: Como a média amostral $\\bar{x}$ é significativamente maior que 500 ml, rejeitamos $H_0$. Neste caso, devem ser tomadas providências para ajustar o maquinário que preenche as embalagens.</font>"
   ]
  },
  {
   "cell_type": "markdown",
   "metadata": {
    "colab_type": "text",
    "id": "Aqv_KZoYpskN"
   },
   "source": [
    "### <font color='red'>Critério do $p-valor$</font>\n",
    "\n",
    "> ### Teste Bicaudal\n",
    "> ### Rejeitar $H_0$ se o valor $p\\leq\\alpha$"
   ]
  },
  {
   "cell_type": "code",
   "execution_count": 31,
   "metadata": {},
   "outputs": [
    {
     "data": {
      "text/html": [
       "3.22910317152036e-07"
      ],
      "text/latex": [
       "3.22910317152036e-07"
      ],
      "text/markdown": [
       "3.22910317152036e-07"
      ],
      "text/plain": [
       "[1] 3.229103e-07"
      ]
     },
     "metadata": {},
     "output_type": "display_data"
    }
   ],
   "source": [
    "p_valor <- 2 * (1 - pnorm(z))\n",
    "p_valor"
   ]
  },
  {
   "cell_type": "code",
   "execution_count": 32,
   "metadata": {
    "colab": {
     "base_uri": "https://localhost:8080/",
     "height": 35
    },
    "colab_type": "code",
    "id": "vUHgYIHqpskR",
    "outputId": "b53d6bed-fcb0-41ae-ecf4-38e2dd1dcaec",
    "scrolled": true
   },
   "outputs": [
    {
     "data": {
      "text/html": [
       "TRUE"
      ],
      "text/latex": [
       "TRUE"
      ],
      "text/markdown": [
       "TRUE"
      ],
      "text/plain": [
       "[1] TRUE"
      ]
     },
     "metadata": {},
     "output_type": "display_data"
    }
   ],
   "source": [
    "p_valor <= significancia"
   ]
  },
  {
   "cell_type": "code",
   "execution_count": 37,
   "metadata": {},
   "outputs": [],
   "source": [
    "ztest <- function(x, mi, sigma, n, alpha) {\n",
    "    z <- (x - mi) / (sigma / sqrt(n))\n",
    "    beta <- 1 - alpha\n",
    "    z_alpha <- pnorm((0.5 + (beta / 2)))\n",
    "    \n",
    "    if (z <= -z_alpha | z >= z_alpha) {\n",
    "        return ('Rejeitar H0')\n",
    "    } else {\n",
    "        return ('Aceitar H0')\n",
    "    }\n",
    "}"
   ]
  },
  {
   "cell_type": "code",
   "execution_count": 38,
   "metadata": {},
   "outputs": [
    {
     "data": {
      "text/html": [
       "'Rejeitar H0'"
      ],
      "text/latex": [
       "'Rejeitar H0'"
      ],
      "text/markdown": [
       "'Rejeitar H0'"
      ],
      "text/plain": [
       "[1] \"Rejeitar H0\""
      ]
     },
     "metadata": {},
     "output_type": "display_data"
    }
   ],
   "source": [
    "ztest(x=503, mi=500, sigma=4.83, n=50, alpha=0.05)"
   ]
  },
  {
   "cell_type": "markdown",
   "metadata": {
    "colab_type": "text",
    "id": "U8OWXeVtpskv"
   },
   "source": [
    "## <font color=green>3.2 Teste Unicaudal</font>\n",
    "***"
   ]
  },
  {
   "cell_type": "markdown",
   "metadata": {
    "colab_type": "text",
    "id": "CPHPL4nWpskw"
   },
   "source": [
    "## <font color='red'>Problema</font>"
   ]
  },
  {
   "cell_type": "markdown",
   "metadata": {
    "colab_type": "text",
    "id": "vDyxOXLvpskw"
   },
   "source": [
    "Um famoso fabricante de refrigerantes alega que uma lata de 350 ml de seu principal produto contém, **no máximo**, **37 gramas de açúcar**. Esta alegação nos leva a entender que a quantidade média de açúcar em uma lata de refrigerante deve ser **igual ou menor que 37 g**.\n",
    "\n",
    "Um consumidor desconfiado e com conhecimentos em inferência estatística resolve testar a alegação do fabricante e seleciona, aleatóriamente, em um conjunto de estabelecimentos distintos, **uma amostra de 25 latas** do refrigerante em questão. Utilizando o equipamento correto o consumidor obteve as quantidades de açúcar em todas as 25 latas de sua amostra. \n",
    "\n",
    "**Assumindo que essa população se distribua aproximadamente como uma normal e considerando um nível de significância de 5%, é possível aceitar como válida a alegação do fabricante?**"
   ]
  },
  {
   "cell_type": "markdown",
   "metadata": {
    "colab_type": "text",
    "id": "5P5nWN0epsky"
   },
   "source": [
    "### Construindo tabela $t$ de Student\n",
    "\n",
    "#### <font color=red>Documentações:\n",
    "\n",
    "- [**TDist**](https://www.rdocumentation.org/packages/stats/versions/3.6.1/topics/TDist)"
   ]
  },
  {
   "cell_type": "code",
   "execution_count": 39,
   "metadata": {
    "colab": {
     "base_uri": "https://localhost:8080/",
     "height": 1010
    },
    "colab_type": "code",
    "id": "lKuhGKPEpsky",
    "outputId": "7ed95512-f283-465d-9a75-da2d3f0384b9",
    "scrolled": false
   },
   "outputs": [
    {
     "data": {
      "text/html": [
       "<table class=\"dataframe\">\n",
       "<caption>A matrix: 30 × 10 of type dbl</caption>\n",
       "<thead>\n",
       "\t<tr><th></th><th scope=col>0.050</th><th scope=col>0.045</th><th scope=col>0.040</th><th scope=col>0.035</th><th scope=col>0.030</th><th scope=col>0.025</th><th scope=col>0.020</th><th scope=col>0.015</th><th scope=col>0.010</th><th scope=col>0.005</th></tr>\n",
       "</thead>\n",
       "<tbody>\n",
       "\t<tr><th scope=row> 1</th><td>6.313752</td><td>7.026366</td><td>7.915815</td><td>9.057887</td><td>10.578895</td><td>12.706205</td><td>15.894545</td><td>21.204949</td><td>31.820516</td><td>63.656741</td></tr>\n",
       "\t<tr><th scope=row> 2</th><td>2.919986</td><td>3.103977</td><td>3.319764</td><td>3.578247</td><td> 3.896425</td><td> 4.302653</td><td> 4.848732</td><td> 5.642778</td><td> 6.964557</td><td> 9.924843</td></tr>\n",
       "\t<tr><th scope=row> 3</th><td>2.353363</td><td>2.470807</td><td>2.605427</td><td>2.762599</td><td> 2.950510</td><td> 3.182446</td><td> 3.481909</td><td> 3.896046</td><td> 4.540703</td><td> 5.840909</td></tr>\n",
       "\t<tr><th scope=row> 4</th><td>2.131847</td><td>2.226100</td><td>2.332873</td><td>2.455892</td><td> 2.600762</td><td> 2.776445</td><td> 2.998528</td><td> 3.297630</td><td> 3.746947</td><td> 4.604095</td></tr>\n",
       "\t<tr><th scope=row> 5</th><td>2.015048</td><td>2.097837</td><td>2.190958</td><td>2.297392</td><td> 2.421585</td><td> 2.570582</td><td> 2.756509</td><td> 3.002875</td><td> 3.364930</td><td> 4.032143</td></tr>\n",
       "\t<tr><th scope=row> 6</th><td>1.943180</td><td>2.019201</td><td>2.104306</td><td>2.201059</td><td> 2.313263</td><td> 2.446912</td><td> 2.612242</td><td> 2.828928</td><td> 3.142668</td><td> 3.707428</td></tr>\n",
       "\t<tr><th scope=row> 7</th><td>1.894579</td><td>1.966153</td><td>2.046011</td><td>2.136453</td><td> 2.240879</td><td> 2.364624</td><td> 2.516752</td><td> 2.714573</td><td> 2.997952</td><td> 3.499483</td></tr>\n",
       "\t<tr><th scope=row> 8</th><td>1.859548</td><td>1.927986</td><td>2.004152</td><td>2.090166</td><td> 2.189155</td><td> 2.306004</td><td> 2.448985</td><td> 2.633814</td><td> 2.896459</td><td> 3.355387</td></tr>\n",
       "\t<tr><th scope=row> 9</th><td>1.833113</td><td>1.899222</td><td>1.972653</td><td>2.055395</td><td> 2.150375</td><td> 2.262157</td><td> 2.398441</td><td> 2.573804</td><td> 2.821438</td><td> 3.249836</td></tr>\n",
       "\t<tr><th scope=row>10</th><td>1.812461</td><td>1.876774</td><td>1.948099</td><td>2.028327</td><td> 2.120234</td><td> 2.228139</td><td> 2.359315</td><td> 2.527484</td><td> 2.763769</td><td> 3.169273</td></tr>\n",
       "\t<tr><th scope=row>11</th><td>1.795885</td><td>1.858772</td><td>1.928427</td><td>2.006663</td><td> 2.096139</td><td> 2.200985</td><td> 2.328140</td><td> 2.490664</td><td> 2.718079</td><td> 3.105807</td></tr>\n",
       "\t<tr><th scope=row>12</th><td>1.782288</td><td>1.844015</td><td>1.912313</td><td>1.988934</td><td> 2.076441</td><td> 2.178813</td><td> 2.302722</td><td> 2.460700</td><td> 2.680998</td><td> 3.054540</td></tr>\n",
       "\t<tr><th scope=row>13</th><td>1.770933</td><td>1.831700</td><td>1.898874</td><td>1.974158</td><td> 2.060038</td><td> 2.160369</td><td> 2.281604</td><td> 2.435845</td><td> 2.650309</td><td> 3.012276</td></tr>\n",
       "\t<tr><th scope=row>14</th><td>1.761310</td><td>1.821267</td><td>1.887496</td><td>1.961656</td><td> 2.046169</td><td> 2.144787</td><td> 2.263781</td><td> 2.414898</td><td> 2.624494</td><td> 2.976843</td></tr>\n",
       "\t<tr><th scope=row>15</th><td>1.753050</td><td>1.812316</td><td>1.877739</td><td>1.950940</td><td> 2.034289</td><td> 2.131450</td><td> 2.248540</td><td> 2.397005</td><td> 2.602480</td><td> 2.946713</td></tr>\n",
       "\t<tr><th scope=row>16</th><td>1.745884</td><td>1.804553</td><td>1.869279</td><td>1.941654</td><td> 2.024000</td><td> 2.119905</td><td> 2.235358</td><td> 2.381545</td><td> 2.583487</td><td> 2.920782</td></tr>\n",
       "\t<tr><th scope=row>17</th><td>1.739607</td><td>1.797755</td><td>1.861875</td><td>1.933530</td><td> 2.015002</td><td> 2.109816</td><td> 2.223845</td><td> 2.368055</td><td> 2.566934</td><td> 2.898231</td></tr>\n",
       "\t<tr><th scope=row>18</th><td>1.734064</td><td>1.791754</td><td>1.855340</td><td>1.926362</td><td> 2.007067</td><td> 2.100922</td><td> 2.213703</td><td> 2.356180</td><td> 2.552380</td><td> 2.878440</td></tr>\n",
       "\t<tr><th scope=row>19</th><td>1.729133</td><td>1.786417</td><td>1.849530</td><td>1.919992</td><td> 2.000017</td><td> 2.093024</td><td> 2.204701</td><td> 2.345648</td><td> 2.539483</td><td> 2.860935</td></tr>\n",
       "\t<tr><th scope=row>20</th><td>1.724718</td><td>1.781640</td><td>1.844331</td><td>1.914292</td><td> 1.993713</td><td> 2.085963</td><td> 2.196658</td><td> 2.336242</td><td> 2.527977</td><td> 2.845340</td></tr>\n",
       "\t<tr><th scope=row>21</th><td>1.720743</td><td>1.777339</td><td>1.839651</td><td>1.909164</td><td> 1.988041</td><td> 2.079614</td><td> 2.189427</td><td> 2.327792</td><td> 2.517648</td><td> 2.831360</td></tr>\n",
       "\t<tr><th scope=row>22</th><td>1.717144</td><td>1.773447</td><td>1.835417</td><td>1.904524</td><td> 1.982911</td><td> 2.073873</td><td> 2.182893</td><td> 2.320160</td><td> 2.508325</td><td> 2.818756</td></tr>\n",
       "\t<tr><th scope=row>23</th><td>1.713872</td><td>1.769907</td><td>1.831567</td><td>1.900307</td><td> 1.978249</td><td> 2.068658</td><td> 2.176958</td><td> 2.313231</td><td> 2.499867</td><td> 2.807336</td></tr>\n",
       "\t<tr><th scope=row>24</th><td>1.710882</td><td>1.766675</td><td>1.828051</td><td>1.896457</td><td> 1.973994</td><td> 2.063899</td><td> 2.171545</td><td> 2.306913</td><td> 2.492159</td><td> 2.796940</td></tr>\n",
       "\t<tr><th scope=row>25</th><td>1.708141</td><td>1.763711</td><td>1.824828</td><td>1.892928</td><td> 1.970095</td><td> 2.059539</td><td> 2.166587</td><td> 2.301130</td><td> 2.485107</td><td> 2.787436</td></tr>\n",
       "\t<tr><th scope=row>26</th><td>1.705618</td><td>1.760983</td><td>1.821863</td><td>1.889682</td><td> 1.966509</td><td> 2.055529</td><td> 2.162029</td><td> 2.295815</td><td> 2.478630</td><td> 2.778715</td></tr>\n",
       "\t<tr><th scope=row>27</th><td>1.703288</td><td>1.758466</td><td>1.819126</td><td>1.886686</td><td> 1.963200</td><td> 2.051831</td><td> 2.157825</td><td> 2.290914</td><td> 2.472660</td><td> 2.770683</td></tr>\n",
       "\t<tr><th scope=row>28</th><td>1.701131</td><td>1.756134</td><td>1.816592</td><td>1.883912</td><td> 1.960136</td><td> 2.048407</td><td> 2.153935</td><td> 2.286380</td><td> 2.467140</td><td> 2.763262</td></tr>\n",
       "\t<tr><th scope=row>29</th><td>1.699127</td><td>1.753968</td><td>1.814238</td><td>1.881336</td><td> 1.957293</td><td> 2.045230</td><td> 2.150325</td><td> 2.282175</td><td> 2.462021</td><td> 2.756386</td></tr>\n",
       "\t<tr><th scope=row>30</th><td>1.697261</td><td>1.751952</td><td>1.812047</td><td>1.878938</td><td> 1.954645</td><td> 2.042272</td><td> 2.146966</td><td> 2.278262</td><td> 2.457262</td><td> 2.749996</td></tr>\n",
       "</tbody>\n",
       "</table>\n"
      ],
      "text/latex": [
       "A matrix: 30 × 10 of type dbl\n",
       "\\begin{tabular}{r|llllllllll}\n",
       "  & 0.050 & 0.045 & 0.040 & 0.035 & 0.030 & 0.025 & 0.020 & 0.015 & 0.010 & 0.005\\\\\n",
       "\\hline\n",
       "\t 1 & 6.313752 & 7.026366 & 7.915815 & 9.057887 & 10.578895 & 12.706205 & 15.894545 & 21.204949 & 31.820516 & 63.656741\\\\\n",
       "\t 2 & 2.919986 & 3.103977 & 3.319764 & 3.578247 &  3.896425 &  4.302653 &  4.848732 &  5.642778 &  6.964557 &  9.924843\\\\\n",
       "\t 3 & 2.353363 & 2.470807 & 2.605427 & 2.762599 &  2.950510 &  3.182446 &  3.481909 &  3.896046 &  4.540703 &  5.840909\\\\\n",
       "\t 4 & 2.131847 & 2.226100 & 2.332873 & 2.455892 &  2.600762 &  2.776445 &  2.998528 &  3.297630 &  3.746947 &  4.604095\\\\\n",
       "\t 5 & 2.015048 & 2.097837 & 2.190958 & 2.297392 &  2.421585 &  2.570582 &  2.756509 &  3.002875 &  3.364930 &  4.032143\\\\\n",
       "\t 6 & 1.943180 & 2.019201 & 2.104306 & 2.201059 &  2.313263 &  2.446912 &  2.612242 &  2.828928 &  3.142668 &  3.707428\\\\\n",
       "\t 7 & 1.894579 & 1.966153 & 2.046011 & 2.136453 &  2.240879 &  2.364624 &  2.516752 &  2.714573 &  2.997952 &  3.499483\\\\\n",
       "\t 8 & 1.859548 & 1.927986 & 2.004152 & 2.090166 &  2.189155 &  2.306004 &  2.448985 &  2.633814 &  2.896459 &  3.355387\\\\\n",
       "\t 9 & 1.833113 & 1.899222 & 1.972653 & 2.055395 &  2.150375 &  2.262157 &  2.398441 &  2.573804 &  2.821438 &  3.249836\\\\\n",
       "\t10 & 1.812461 & 1.876774 & 1.948099 & 2.028327 &  2.120234 &  2.228139 &  2.359315 &  2.527484 &  2.763769 &  3.169273\\\\\n",
       "\t11 & 1.795885 & 1.858772 & 1.928427 & 2.006663 &  2.096139 &  2.200985 &  2.328140 &  2.490664 &  2.718079 &  3.105807\\\\\n",
       "\t12 & 1.782288 & 1.844015 & 1.912313 & 1.988934 &  2.076441 &  2.178813 &  2.302722 &  2.460700 &  2.680998 &  3.054540\\\\\n",
       "\t13 & 1.770933 & 1.831700 & 1.898874 & 1.974158 &  2.060038 &  2.160369 &  2.281604 &  2.435845 &  2.650309 &  3.012276\\\\\n",
       "\t14 & 1.761310 & 1.821267 & 1.887496 & 1.961656 &  2.046169 &  2.144787 &  2.263781 &  2.414898 &  2.624494 &  2.976843\\\\\n",
       "\t15 & 1.753050 & 1.812316 & 1.877739 & 1.950940 &  2.034289 &  2.131450 &  2.248540 &  2.397005 &  2.602480 &  2.946713\\\\\n",
       "\t16 & 1.745884 & 1.804553 & 1.869279 & 1.941654 &  2.024000 &  2.119905 &  2.235358 &  2.381545 &  2.583487 &  2.920782\\\\\n",
       "\t17 & 1.739607 & 1.797755 & 1.861875 & 1.933530 &  2.015002 &  2.109816 &  2.223845 &  2.368055 &  2.566934 &  2.898231\\\\\n",
       "\t18 & 1.734064 & 1.791754 & 1.855340 & 1.926362 &  2.007067 &  2.100922 &  2.213703 &  2.356180 &  2.552380 &  2.878440\\\\\n",
       "\t19 & 1.729133 & 1.786417 & 1.849530 & 1.919992 &  2.000017 &  2.093024 &  2.204701 &  2.345648 &  2.539483 &  2.860935\\\\\n",
       "\t20 & 1.724718 & 1.781640 & 1.844331 & 1.914292 &  1.993713 &  2.085963 &  2.196658 &  2.336242 &  2.527977 &  2.845340\\\\\n",
       "\t21 & 1.720743 & 1.777339 & 1.839651 & 1.909164 &  1.988041 &  2.079614 &  2.189427 &  2.327792 &  2.517648 &  2.831360\\\\\n",
       "\t22 & 1.717144 & 1.773447 & 1.835417 & 1.904524 &  1.982911 &  2.073873 &  2.182893 &  2.320160 &  2.508325 &  2.818756\\\\\n",
       "\t23 & 1.713872 & 1.769907 & 1.831567 & 1.900307 &  1.978249 &  2.068658 &  2.176958 &  2.313231 &  2.499867 &  2.807336\\\\\n",
       "\t24 & 1.710882 & 1.766675 & 1.828051 & 1.896457 &  1.973994 &  2.063899 &  2.171545 &  2.306913 &  2.492159 &  2.796940\\\\\n",
       "\t25 & 1.708141 & 1.763711 & 1.824828 & 1.892928 &  1.970095 &  2.059539 &  2.166587 &  2.301130 &  2.485107 &  2.787436\\\\\n",
       "\t26 & 1.705618 & 1.760983 & 1.821863 & 1.889682 &  1.966509 &  2.055529 &  2.162029 &  2.295815 &  2.478630 &  2.778715\\\\\n",
       "\t27 & 1.703288 & 1.758466 & 1.819126 & 1.886686 &  1.963200 &  2.051831 &  2.157825 &  2.290914 &  2.472660 &  2.770683\\\\\n",
       "\t28 & 1.701131 & 1.756134 & 1.816592 & 1.883912 &  1.960136 &  2.048407 &  2.153935 &  2.286380 &  2.467140 &  2.763262\\\\\n",
       "\t29 & 1.699127 & 1.753968 & 1.814238 & 1.881336 &  1.957293 &  2.045230 &  2.150325 &  2.282175 &  2.462021 &  2.756386\\\\\n",
       "\t30 & 1.697261 & 1.751952 & 1.812047 & 1.878938 &  1.954645 &  2.042272 &  2.146966 &  2.278262 &  2.457262 &  2.749996\\\\\n",
       "\\end{tabular}\n"
      ],
      "text/markdown": [
       "\n",
       "A matrix: 30 × 10 of type dbl\n",
       "\n",
       "| <!--/--> | 0.050 | 0.045 | 0.040 | 0.035 | 0.030 | 0.025 | 0.020 | 0.015 | 0.010 | 0.005 |\n",
       "|---|---|---|---|---|---|---|---|---|---|---|\n",
       "|  1 | 6.313752 | 7.026366 | 7.915815 | 9.057887 | 10.578895 | 12.706205 | 15.894545 | 21.204949 | 31.820516 | 63.656741 |\n",
       "|  2 | 2.919986 | 3.103977 | 3.319764 | 3.578247 |  3.896425 |  4.302653 |  4.848732 |  5.642778 |  6.964557 |  9.924843 |\n",
       "|  3 | 2.353363 | 2.470807 | 2.605427 | 2.762599 |  2.950510 |  3.182446 |  3.481909 |  3.896046 |  4.540703 |  5.840909 |\n",
       "|  4 | 2.131847 | 2.226100 | 2.332873 | 2.455892 |  2.600762 |  2.776445 |  2.998528 |  3.297630 |  3.746947 |  4.604095 |\n",
       "|  5 | 2.015048 | 2.097837 | 2.190958 | 2.297392 |  2.421585 |  2.570582 |  2.756509 |  3.002875 |  3.364930 |  4.032143 |\n",
       "|  6 | 1.943180 | 2.019201 | 2.104306 | 2.201059 |  2.313263 |  2.446912 |  2.612242 |  2.828928 |  3.142668 |  3.707428 |\n",
       "|  7 | 1.894579 | 1.966153 | 2.046011 | 2.136453 |  2.240879 |  2.364624 |  2.516752 |  2.714573 |  2.997952 |  3.499483 |\n",
       "|  8 | 1.859548 | 1.927986 | 2.004152 | 2.090166 |  2.189155 |  2.306004 |  2.448985 |  2.633814 |  2.896459 |  3.355387 |\n",
       "|  9 | 1.833113 | 1.899222 | 1.972653 | 2.055395 |  2.150375 |  2.262157 |  2.398441 |  2.573804 |  2.821438 |  3.249836 |\n",
       "| 10 | 1.812461 | 1.876774 | 1.948099 | 2.028327 |  2.120234 |  2.228139 |  2.359315 |  2.527484 |  2.763769 |  3.169273 |\n",
       "| 11 | 1.795885 | 1.858772 | 1.928427 | 2.006663 |  2.096139 |  2.200985 |  2.328140 |  2.490664 |  2.718079 |  3.105807 |\n",
       "| 12 | 1.782288 | 1.844015 | 1.912313 | 1.988934 |  2.076441 |  2.178813 |  2.302722 |  2.460700 |  2.680998 |  3.054540 |\n",
       "| 13 | 1.770933 | 1.831700 | 1.898874 | 1.974158 |  2.060038 |  2.160369 |  2.281604 |  2.435845 |  2.650309 |  3.012276 |\n",
       "| 14 | 1.761310 | 1.821267 | 1.887496 | 1.961656 |  2.046169 |  2.144787 |  2.263781 |  2.414898 |  2.624494 |  2.976843 |\n",
       "| 15 | 1.753050 | 1.812316 | 1.877739 | 1.950940 |  2.034289 |  2.131450 |  2.248540 |  2.397005 |  2.602480 |  2.946713 |\n",
       "| 16 | 1.745884 | 1.804553 | 1.869279 | 1.941654 |  2.024000 |  2.119905 |  2.235358 |  2.381545 |  2.583487 |  2.920782 |\n",
       "| 17 | 1.739607 | 1.797755 | 1.861875 | 1.933530 |  2.015002 |  2.109816 |  2.223845 |  2.368055 |  2.566934 |  2.898231 |\n",
       "| 18 | 1.734064 | 1.791754 | 1.855340 | 1.926362 |  2.007067 |  2.100922 |  2.213703 |  2.356180 |  2.552380 |  2.878440 |\n",
       "| 19 | 1.729133 | 1.786417 | 1.849530 | 1.919992 |  2.000017 |  2.093024 |  2.204701 |  2.345648 |  2.539483 |  2.860935 |\n",
       "| 20 | 1.724718 | 1.781640 | 1.844331 | 1.914292 |  1.993713 |  2.085963 |  2.196658 |  2.336242 |  2.527977 |  2.845340 |\n",
       "| 21 | 1.720743 | 1.777339 | 1.839651 | 1.909164 |  1.988041 |  2.079614 |  2.189427 |  2.327792 |  2.517648 |  2.831360 |\n",
       "| 22 | 1.717144 | 1.773447 | 1.835417 | 1.904524 |  1.982911 |  2.073873 |  2.182893 |  2.320160 |  2.508325 |  2.818756 |\n",
       "| 23 | 1.713872 | 1.769907 | 1.831567 | 1.900307 |  1.978249 |  2.068658 |  2.176958 |  2.313231 |  2.499867 |  2.807336 |\n",
       "| 24 | 1.710882 | 1.766675 | 1.828051 | 1.896457 |  1.973994 |  2.063899 |  2.171545 |  2.306913 |  2.492159 |  2.796940 |\n",
       "| 25 | 1.708141 | 1.763711 | 1.824828 | 1.892928 |  1.970095 |  2.059539 |  2.166587 |  2.301130 |  2.485107 |  2.787436 |\n",
       "| 26 | 1.705618 | 1.760983 | 1.821863 | 1.889682 |  1.966509 |  2.055529 |  2.162029 |  2.295815 |  2.478630 |  2.778715 |\n",
       "| 27 | 1.703288 | 1.758466 | 1.819126 | 1.886686 |  1.963200 |  2.051831 |  2.157825 |  2.290914 |  2.472660 |  2.770683 |\n",
       "| 28 | 1.701131 | 1.756134 | 1.816592 | 1.883912 |  1.960136 |  2.048407 |  2.153935 |  2.286380 |  2.467140 |  2.763262 |\n",
       "| 29 | 1.699127 | 1.753968 | 1.814238 | 1.881336 |  1.957293 |  2.045230 |  2.150325 |  2.282175 |  2.462021 |  2.756386 |\n",
       "| 30 | 1.697261 | 1.751952 | 1.812047 | 1.878938 |  1.954645 |  2.042272 |  2.146966 |  2.278262 |  2.457262 |  2.749996 |\n",
       "\n"
      ],
      "text/plain": [
       "   0.050    0.045    0.040    0.035    0.030     0.025     0.020     0.015    \n",
       " 1 6.313752 7.026366 7.915815 9.057887 10.578895 12.706205 15.894545 21.204949\n",
       " 2 2.919986 3.103977 3.319764 3.578247  3.896425  4.302653  4.848732  5.642778\n",
       " 3 2.353363 2.470807 2.605427 2.762599  2.950510  3.182446  3.481909  3.896046\n",
       " 4 2.131847 2.226100 2.332873 2.455892  2.600762  2.776445  2.998528  3.297630\n",
       " 5 2.015048 2.097837 2.190958 2.297392  2.421585  2.570582  2.756509  3.002875\n",
       " 6 1.943180 2.019201 2.104306 2.201059  2.313263  2.446912  2.612242  2.828928\n",
       " 7 1.894579 1.966153 2.046011 2.136453  2.240879  2.364624  2.516752  2.714573\n",
       " 8 1.859548 1.927986 2.004152 2.090166  2.189155  2.306004  2.448985  2.633814\n",
       " 9 1.833113 1.899222 1.972653 2.055395  2.150375  2.262157  2.398441  2.573804\n",
       "10 1.812461 1.876774 1.948099 2.028327  2.120234  2.228139  2.359315  2.527484\n",
       "11 1.795885 1.858772 1.928427 2.006663  2.096139  2.200985  2.328140  2.490664\n",
       "12 1.782288 1.844015 1.912313 1.988934  2.076441  2.178813  2.302722  2.460700\n",
       "13 1.770933 1.831700 1.898874 1.974158  2.060038  2.160369  2.281604  2.435845\n",
       "14 1.761310 1.821267 1.887496 1.961656  2.046169  2.144787  2.263781  2.414898\n",
       "15 1.753050 1.812316 1.877739 1.950940  2.034289  2.131450  2.248540  2.397005\n",
       "16 1.745884 1.804553 1.869279 1.941654  2.024000  2.119905  2.235358  2.381545\n",
       "17 1.739607 1.797755 1.861875 1.933530  2.015002  2.109816  2.223845  2.368055\n",
       "18 1.734064 1.791754 1.855340 1.926362  2.007067  2.100922  2.213703  2.356180\n",
       "19 1.729133 1.786417 1.849530 1.919992  2.000017  2.093024  2.204701  2.345648\n",
       "20 1.724718 1.781640 1.844331 1.914292  1.993713  2.085963  2.196658  2.336242\n",
       "21 1.720743 1.777339 1.839651 1.909164  1.988041  2.079614  2.189427  2.327792\n",
       "22 1.717144 1.773447 1.835417 1.904524  1.982911  2.073873  2.182893  2.320160\n",
       "23 1.713872 1.769907 1.831567 1.900307  1.978249  2.068658  2.176958  2.313231\n",
       "24 1.710882 1.766675 1.828051 1.896457  1.973994  2.063899  2.171545  2.306913\n",
       "25 1.708141 1.763711 1.824828 1.892928  1.970095  2.059539  2.166587  2.301130\n",
       "26 1.705618 1.760983 1.821863 1.889682  1.966509  2.055529  2.162029  2.295815\n",
       "27 1.703288 1.758466 1.819126 1.886686  1.963200  2.051831  2.157825  2.290914\n",
       "28 1.701131 1.756134 1.816592 1.883912  1.960136  2.048407  2.153935  2.286380\n",
       "29 1.699127 1.753968 1.814238 1.881336  1.957293  2.045230  2.150325  2.282175\n",
       "30 1.697261 1.751952 1.812047 1.878938  1.954645  2.042272  2.146966  2.278262\n",
       "   0.010     0.005    \n",
       " 1 31.820516 63.656741\n",
       " 2  6.964557  9.924843\n",
       " 3  4.540703  5.840909\n",
       " 4  3.746947  4.604095\n",
       " 5  3.364930  4.032143\n",
       " 6  3.142668  3.707428\n",
       " 7  2.997952  3.499483\n",
       " 8  2.896459  3.355387\n",
       " 9  2.821438  3.249836\n",
       "10  2.763769  3.169273\n",
       "11  2.718079  3.105807\n",
       "12  2.680998  3.054540\n",
       "13  2.650309  3.012276\n",
       "14  2.624494  2.976843\n",
       "15  2.602480  2.946713\n",
       "16  2.583487  2.920782\n",
       "17  2.566934  2.898231\n",
       "18  2.552380  2.878440\n",
       "19  2.539483  2.860935\n",
       "20  2.527977  2.845340\n",
       "21  2.517648  2.831360\n",
       "22  2.508325  2.818756\n",
       "23  2.499867  2.807336\n",
       "24  2.492159  2.796940\n",
       "25  2.485107  2.787436\n",
       "26  2.478630  2.778715\n",
       "27  2.472660  2.770683\n",
       "28  2.467140  2.763262\n",
       "29  2.462021  2.756386\n",
       "30  2.457262  2.749996"
      ]
     },
     "metadata": {},
     "output_type": "display_data"
    }
   ],
   "source": [
    "q <- seq(0.05, 0.005, by = -0.005)\n",
    "df <- seq(1, 30, by = 1)\n",
    "probabilidade <- c()\n",
    "for(i in df){\n",
    "    for(j in q){\n",
    "        probabilidade <- c(probabilidade, qt(j, i, lower.tail = F))\n",
    "    }\n",
    "}\n",
    "tabela_t_student <- matrix(probabilidade, ncol=10, byrow=TRUE)\n",
    "colnames(tabela_t_student) <- format(q)\n",
    "rownames(tabela_t_student) <- format(df)\n",
    "tabela_t_student"
   ]
  },
  {
   "cell_type": "markdown",
   "metadata": {
    "colab_type": "text",
    "id": "MbVu6FdNpsk0"
   },
   "source": [
    "<img src='https://caelum-online-public.s3.amazonaws.com/1229-estatistica-parte3/01/img004.png' width='250px'>\n",
    "\n",
    "As células da tabela acima são valores de $t$ para uma área ou probabilidade na cauda superior da distribuição $t$."
   ]
  },
  {
   "cell_type": "markdown",
   "metadata": {
    "colab_type": "text",
    "id": "UXM3qdYUpsk0"
   },
   "source": [
    "---"
   ]
  },
  {
   "cell_type": "markdown",
   "metadata": {
    "colab_type": "text",
    "id": "dDbUKs7-psk0"
   },
   "source": [
    "Os **testes unicaudais** verificam as variáveis em relação a um piso ou a um teto e avaliam os valores máximos ou mínimos esperados para os parâmetros em estudo e a chance de as estatísticas amostrais serem inferiores ou superiores a dado limite."
   ]
  },
  {
   "cell_type": "markdown",
   "metadata": {
    "colab_type": "text",
    "id": "AvnFJnUrpsk1"
   },
   "source": [
    "<img src='https://caelum-online-public.s3.amazonaws.com/1229-estatistica-parte3/01/img008.png' width='700px'>"
   ]
  },
  {
   "cell_type": "markdown",
   "metadata": {
    "colab_type": "text",
    "id": "IgDg23Xppsk1"
   },
   "source": [
    "### Dados do problema"
   ]
  },
  {
   "cell_type": "code",
   "execution_count": 40,
   "metadata": {
    "colab": {},
    "colab_type": "code",
    "id": "IKvYICfEpsk2"
   },
   "outputs": [],
   "source": [
    "amostra <- c(37.27, 36.42, 34.84, 34.60, 37.49, \n",
    "           36.53, 35.49, 36.90, 34.52, 37.30, \n",
    "           34.99, 36.55, 36.29, 36.06, 37.42, \n",
    "           34.47, 36.70, 35.86, 36.80, 36.92, \n",
    "           37.04, 36.39, 37.32, 36.64, 35.45)"
   ]
  },
  {
   "cell_type": "code",
   "execution_count": 41,
   "metadata": {
    "colab": {
     "base_uri": "https://localhost:8080/",
     "height": 824
    },
    "colab_type": "code",
    "id": "CBuciT30psk3",
    "outputId": "28df5179-0f8c-42e1-fe69-a3b02280f45f",
    "scrolled": false
   },
   "outputs": [],
   "source": [
    "amostra <- data.frame(Amostra = amostra)"
   ]
  },
  {
   "cell_type": "code",
   "execution_count": 44,
   "metadata": {
    "colab": {
     "base_uri": "https://localhost:8080/",
     "height": 35
    },
    "colab_type": "code",
    "id": "79TBzFsdpsk4",
    "outputId": "9af134c0-aee3-4394-a188-347978abdd80"
   },
   "outputs": [
    {
     "data": {
      "text/html": [
       "36.2504"
      ],
      "text/latex": [
       "36.2504"
      ],
      "text/markdown": [
       "36.2504"
      ],
      "text/plain": [
       "[1] 36.2504"
      ]
     },
     "metadata": {},
     "output_type": "display_data"
    }
   ],
   "source": [
    "media_amostra <- mean(amostra$Amostra)\n",
    "media_amostra"
   ]
  },
  {
   "cell_type": "code",
   "execution_count": 45,
   "metadata": {
    "colab": {
     "base_uri": "https://localhost:8080/",
     "height": 35
    },
    "colab_type": "code",
    "id": "S82xbyghpsk6",
    "outputId": "e7b2b235-1352-4a9b-95ae-111dec8f65a0",
    "scrolled": true
   },
   "outputs": [
    {
     "data": {
      "text/html": [
       "0.966753501846946"
      ],
      "text/latex": [
       "0.966753501846946"
      ],
      "text/markdown": [
       "0.966753501846946"
      ],
      "text/plain": [
       "[1] 0.9667535"
      ]
     },
     "metadata": {},
     "output_type": "display_data"
    }
   ],
   "source": [
    "desvio_padrao_amostra <- sd(amostra$Amostra)\n",
    "desvio_padrao_amostra"
   ]
  },
  {
   "cell_type": "code",
   "execution_count": 46,
   "metadata": {
    "colab": {},
    "colab_type": "code",
    "id": "mvtiwLUWpsk8"
   },
   "outputs": [],
   "source": [
    "media <- 37\n",
    "significancia <- 0.05 \n",
    "confianca <- 1 - significancia\n",
    "n <- 25\n",
    "graus_de_liberdade <- n - 1"
   ]
  },
  {
   "cell_type": "markdown",
   "metadata": {
    "colab_type": "text",
    "id": "rpLOiPU2psk9"
   },
   "source": [
    "### **Passo 1** - formulação das hipóteses $H_0$ e $H_1$"
   ]
  },
  {
   "cell_type": "markdown",
   "metadata": {
    "colab_type": "text",
    "id": "iMBi2jUfsc4s"
   },
   "source": [
    "\n",
    "#### <font color='red'>Lembre-se, a hipótese nula sempre contém a alegação de igualdade</font>"
   ]
  },
  {
   "cell_type": "markdown",
   "metadata": {
    "colab_type": "text",
    "id": "8roeH10fpsk-"
   },
   "source": [
    "### $H_0: \\mu \\leq 37$\n",
    "\n",
    "### $H_1: \\mu > 37$"
   ]
  },
  {
   "cell_type": "markdown",
   "metadata": {
    "colab_type": "text",
    "id": "uqE6JXGspsk-"
   },
   "source": [
    "---"
   ]
  },
  {
   "cell_type": "markdown",
   "metadata": {
    "colab_type": "text",
    "id": "XsOkFtncpsk_"
   },
   "source": [
    "### **Passo 2** - escolha da distribuição amostral adequada\n",
    "<img src='https://caelum-online-public.s3.amazonaws.com/1229-estatistica-parte3/01/img003.png' width=70%>"
   ]
  },
  {
   "cell_type": "markdown",
   "metadata": {
    "colab_type": "text",
    "id": "jpXjRqO2psk_"
   },
   "source": [
    "### O tamanho da amostra é maior que 30?\n",
    "#### Resp.: Não\n",
    "\n",
    "### Podemos afirmar que a população se distribui aproximadamente como uma normal?\n",
    "#### Resp.: Sim\n",
    "\n",
    "### O desvio padrão populacional é conhecido?\n",
    "#### Resp.: Não"
   ]
  },
  {
   "cell_type": "markdown",
   "metadata": {
    "colab_type": "text",
    "id": "J14v2aXOpslA"
   },
   "source": [
    "---"
   ]
  },
  {
   "cell_type": "markdown",
   "metadata": {
    "colab_type": "text",
    "id": "DQvwhQWnpslA"
   },
   "source": [
    "### **Passo 3** - fixação da significância do teste ($\\alpha$)\n",
    "\n",
    "#### <font color=red>Documentações:\n",
    "\n",
    "- [**TDist**](https://www.rdocumentation.org/packages/stats/versions/3.6.1/topics/TDist)"
   ]
  },
  {
   "cell_type": "code",
   "execution_count": 47,
   "metadata": {
    "colab": {
     "base_uri": "https://localhost:8080/",
     "height": 173
    },
    "colab_type": "code",
    "id": "12t8QJMzpslD",
    "outputId": "6ff367ac-ceb6-41af-e9f3-364da4170020",
    "scrolled": true
   },
   "outputs": [
    {
     "data": {
      "text/html": [
       "<table class=\"dataframe\">\n",
       "<caption>A matrix: 3 × 10 of type dbl</caption>\n",
       "<thead>\n",
       "\t<tr><th></th><th scope=col>0.050</th><th scope=col>0.045</th><th scope=col>0.040</th><th scope=col>0.035</th><th scope=col>0.030</th><th scope=col>0.025</th><th scope=col>0.020</th><th scope=col>0.015</th><th scope=col>0.010</th><th scope=col>0.005</th></tr>\n",
       "</thead>\n",
       "<tbody>\n",
       "\t<tr><th scope=row>23</th><td>1.713872</td><td>1.769907</td><td>1.831567</td><td>1.900307</td><td>1.978249</td><td>2.068658</td><td>2.176958</td><td>2.313231</td><td>2.499867</td><td>2.807336</td></tr>\n",
       "\t<tr><th scope=row>24</th><td>1.710882</td><td>1.766675</td><td>1.828051</td><td>1.896457</td><td>1.973994</td><td>2.063899</td><td>2.171545</td><td>2.306913</td><td>2.492159</td><td>2.796940</td></tr>\n",
       "\t<tr><th scope=row>25</th><td>1.708141</td><td>1.763711</td><td>1.824828</td><td>1.892928</td><td>1.970095</td><td>2.059539</td><td>2.166587</td><td>2.301130</td><td>2.485107</td><td>2.787436</td></tr>\n",
       "</tbody>\n",
       "</table>\n"
      ],
      "text/latex": [
       "A matrix: 3 × 10 of type dbl\n",
       "\\begin{tabular}{r|llllllllll}\n",
       "  & 0.050 & 0.045 & 0.040 & 0.035 & 0.030 & 0.025 & 0.020 & 0.015 & 0.010 & 0.005\\\\\n",
       "\\hline\n",
       "\t23 & 1.713872 & 1.769907 & 1.831567 & 1.900307 & 1.978249 & 2.068658 & 2.176958 & 2.313231 & 2.499867 & 2.807336\\\\\n",
       "\t24 & 1.710882 & 1.766675 & 1.828051 & 1.896457 & 1.973994 & 2.063899 & 2.171545 & 2.306913 & 2.492159 & 2.796940\\\\\n",
       "\t25 & 1.708141 & 1.763711 & 1.824828 & 1.892928 & 1.970095 & 2.059539 & 2.166587 & 2.301130 & 2.485107 & 2.787436\\\\\n",
       "\\end{tabular}\n"
      ],
      "text/markdown": [
       "\n",
       "A matrix: 3 × 10 of type dbl\n",
       "\n",
       "| <!--/--> | 0.050 | 0.045 | 0.040 | 0.035 | 0.030 | 0.025 | 0.020 | 0.015 | 0.010 | 0.005 |\n",
       "|---|---|---|---|---|---|---|---|---|---|---|\n",
       "| 23 | 1.713872 | 1.769907 | 1.831567 | 1.900307 | 1.978249 | 2.068658 | 2.176958 | 2.313231 | 2.499867 | 2.807336 |\n",
       "| 24 | 1.710882 | 1.766675 | 1.828051 | 1.896457 | 1.973994 | 2.063899 | 2.171545 | 2.306913 | 2.492159 | 2.796940 |\n",
       "| 25 | 1.708141 | 1.763711 | 1.824828 | 1.892928 | 1.970095 | 2.059539 | 2.166587 | 2.301130 | 2.485107 | 2.787436 |\n",
       "\n"
      ],
      "text/plain": [
       "   0.050    0.045    0.040    0.035    0.030    0.025    0.020    0.015   \n",
       "23 1.713872 1.769907 1.831567 1.900307 1.978249 2.068658 2.176958 2.313231\n",
       "24 1.710882 1.766675 1.828051 1.896457 1.973994 2.063899 2.171545 2.306913\n",
       "25 1.708141 1.763711 1.824828 1.892928 1.970095 2.059539 2.166587 2.301130\n",
       "   0.010    0.005   \n",
       "23 2.499867 2.807336\n",
       "24 2.492159 2.796940\n",
       "25 2.485107 2.787436"
      ]
     },
     "metadata": {},
     "output_type": "display_data"
    }
   ],
   "source": [
    "tabela_t_student[23:25, ]"
   ]
  },
  {
   "cell_type": "markdown",
   "metadata": {
    "colab_type": "text",
    "id": "Brk3cI1npslE"
   },
   "source": [
    "### Obtendo $t_{\\alpha}$"
   ]
  },
  {
   "cell_type": "code",
   "execution_count": 49,
   "metadata": {
    "colab": {
     "base_uri": "https://localhost:8080/",
     "height": 35
    },
    "colab_type": "code",
    "id": "xXi0eYGYpslF",
    "outputId": "7493d623-7775-4dc2-fb5a-39941b6fc277"
   },
   "outputs": [
    {
     "data": {
      "text/html": [
       "1.71088207990943"
      ],
      "text/latex": [
       "1.71088207990943"
      ],
      "text/markdown": [
       "1.71088207990943"
      ],
      "text/plain": [
       "[1] 1.710882"
      ]
     },
     "metadata": {},
     "output_type": "display_data"
    }
   ],
   "source": [
    "t_alpha <- qt(confianca, graus_de_liberdade) # 1.710882\n",
    "t_alpha"
   ]
  },
  {
   "cell_type": "markdown",
   "metadata": {
    "colab_type": "text",
    "id": "xMnBzjxLpslH"
   },
   "source": [
    "![Região de Aceitação](https://caelum-online-public.s3.amazonaws.com/1229-estatistica-parte3/01/img009.png)"
   ]
  },
  {
   "cell_type": "markdown",
   "metadata": {
    "colab_type": "text",
    "id": "Azy_uNSGpslI"
   },
   "source": [
    "---"
   ]
  },
  {
   "cell_type": "markdown",
   "metadata": {
    "colab_type": "text",
    "id": "YN4weG-1pslI"
   },
   "source": [
    "### **Passo 4** - cálculo da estatística-teste e verificação desse valor com as áreas de aceitação e rejeição do teste\n",
    "\n",
    "# $$t = \\frac{\\bar{x} - \\mu_0}{\\frac{s}{\\sqrt{n}}}$$"
   ]
  },
  {
   "cell_type": "code",
   "execution_count": 50,
   "metadata": {
    "colab": {
     "base_uri": "https://localhost:8080/",
     "height": 35
    },
    "colab_type": "code",
    "id": "qY0DfIffpslI",
    "outputId": "00fd1921-6093-469d-d164-c864eb34b23b"
   },
   "outputs": [
    {
     "data": {
      "text/html": [
       "-3.87689311995208"
      ],
      "text/latex": [
       "-3.87689311995208"
      ],
      "text/markdown": [
       "-3.87689311995208"
      ],
      "text/plain": [
       "[1] -3.876893"
      ]
     },
     "metadata": {},
     "output_type": "display_data"
    }
   ],
   "source": [
    "t <- (media_amostra - media) / (desvio_padrao_amostra / sqrt(n))\n",
    "t"
   ]
  },
  {
   "cell_type": "markdown",
   "metadata": {
    "colab_type": "text",
    "id": "SCIchVxNpslK"
   },
   "source": [
    "![Estatística-Teste](https://caelum-online-public.s3.amazonaws.com/1229-estatistica-parte3/01/img010.png)"
   ]
  },
  {
   "cell_type": "markdown",
   "metadata": {
    "colab_type": "text",
    "id": "NiheMfTopslK"
   },
   "source": [
    "---"
   ]
  },
  {
   "cell_type": "markdown",
   "metadata": {
    "colab_type": "text",
    "id": "YCsJySBGpslK"
   },
   "source": [
    "### **Passo 5** - Aceitação ou rejeição da hipótese nula"
   ]
  },
  {
   "cell_type": "markdown",
   "metadata": {
    "colab_type": "text",
    "id": "ioLyTpbWpslL"
   },
   "source": [
    "<img src='https://caelum-online-public.s3.amazonaws.com/1229-estatistica-parte3/01/img013.png' width=90%>"
   ]
  },
  {
   "cell_type": "markdown",
   "metadata": {
    "colab_type": "text",
    "id": "TQcuPzbPpslL"
   },
   "source": [
    "### <font color='red'>Critério do valor crítico</font>\n",
    "\n",
    "> ### Teste Unicaudal Superior\n",
    "> ### Rejeitar $H_0$ se $t \\geq t_{\\alpha}$"
   ]
  },
  {
   "cell_type": "code",
   "execution_count": 51,
   "metadata": {
    "colab": {
     "base_uri": "https://localhost:8080/",
     "height": 35
    },
    "colab_type": "code",
    "id": "pkoDYMLIpslM",
    "outputId": "d1166899-8745-4bf6-fa7c-40b072c1b1ea"
   },
   "outputs": [
    {
     "data": {
      "text/html": [
       "FALSE"
      ],
      "text/latex": [
       "FALSE"
      ],
      "text/markdown": [
       "FALSE"
      ],
      "text/plain": [
       "[1] FALSE"
      ]
     },
     "metadata": {},
     "output_type": "display_data"
    }
   ],
   "source": [
    "t >= t_alpha"
   ]
  },
  {
   "cell_type": "markdown",
   "metadata": {
    "colab_type": "text",
    "id": "F-_AVTMJpslN"
   },
   "source": [
    "### <font color='green'>Conclusão: Com um nível de confiança de 95% não podemos rejeitar $H_0$, ou seja, a alegação do fabricante é verdadeira.</font>"
   ]
  },
  {
   "cell_type": "markdown",
   "metadata": {
    "colab_type": "text",
    "id": "7ye3tS25pslO"
   },
   "source": [
    "### <font color='red'>Critério do valor $p$</font>\n",
    "\n",
    "> ### Teste Unicaudal Superior\n",
    "> ### Rejeitar $H_0$ se o valor $p\\leq\\alpha$"
   ]
  },
  {
   "cell_type": "code",
   "execution_count": 52,
   "metadata": {
    "colab": {
     "base_uri": "https://localhost:8080/",
     "height": 35
    },
    "colab_type": "code",
    "id": "AtPMeAz4pslQ",
    "outputId": "c26c8cc5-1244-47ff-8001-c490522ec4c2"
   },
   "outputs": [
    {
     "data": {
      "text/html": [
       "-3.87689311995208"
      ],
      "text/latex": [
       "-3.87689311995208"
      ],
      "text/markdown": [
       "-3.87689311995208"
      ],
      "text/plain": [
       "[1] -3.876893"
      ]
     },
     "metadata": {},
     "output_type": "display_data"
    }
   ],
   "source": [
    "t"
   ]
  },
  {
   "cell_type": "code",
   "execution_count": 53,
   "metadata": {},
   "outputs": [
    {
     "data": {
      "text/html": [
       "0.999640617030382"
      ],
      "text/latex": [
       "0.999640617030382"
      ],
      "text/markdown": [
       "0.999640617030382"
      ],
      "text/plain": [
       "[1] 0.9996406"
      ]
     },
     "metadata": {},
     "output_type": "display_data"
    }
   ],
   "source": [
    "p_valor <- pt(t, graus_de_liberdade, lower.tail = FALSE)\n",
    "p_valor"
   ]
  },
  {
   "cell_type": "code",
   "execution_count": 54,
   "metadata": {
    "colab": {
     "base_uri": "https://localhost:8080/",
     "height": 35
    },
    "colab_type": "code",
    "id": "_hfVEPQQpslU",
    "outputId": "1ccf5f1f-dd1f-4855-b981-f3bb76d1163e"
   },
   "outputs": [
    {
     "data": {
      "text/html": [
       "FALSE"
      ],
      "text/latex": [
       "FALSE"
      ],
      "text/markdown": [
       "FALSE"
      ],
      "text/plain": [
       "[1] FALSE"
      ]
     },
     "metadata": {},
     "output_type": "display_data"
    }
   ],
   "source": [
    "p_valor <= significancia"
   ]
  },
  {
   "cell_type": "markdown",
   "metadata": {
    "colab_type": "text",
    "id": "4JxGeADypslW"
   },
   "source": [
    "#### <font color=red>Documentações:\n",
    "\n",
    "- [**t.test**](https://www.rdocumentation.org/packages/stats/versions/3.6.1/topics/t.test)"
   ]
  },
  {
   "cell_type": "code",
   "execution_count": 55,
   "metadata": {
    "colab": {},
    "colab_type": "code",
    "id": "Y1gP6yjvpslW"
   },
   "outputs": [
    {
     "data": {
      "text/plain": [
       "\n",
       "\tOne Sample t-test\n",
       "\n",
       "data:  amostra$Amostra\n",
       "t = -3.8769, df = 24, p-value = 0.9996\n",
       "alternative hypothesis: true mean is greater than 37\n",
       "95 percent confidence interval:\n",
       " 35.9196     Inf\n",
       "sample estimates:\n",
       "mean of x \n",
       "  36.2504 \n"
      ]
     },
     "metadata": {},
     "output_type": "display_data"
    }
   ],
   "source": [
    "resultado <- t.test(amostra$Amostra, alternative = 'greater', mu = media)\n",
    "resultado"
   ]
  },
  {
   "cell_type": "code",
   "execution_count": 56,
   "metadata": {},
   "outputs": [
    {
     "data": {
      "text/html": [
       "<strong>t:</strong> -3.87689311995208"
      ],
      "text/latex": [
       "\\textbf{t:} -3.87689311995208"
      ],
      "text/markdown": [
       "**t:** -3.87689311995208"
      ],
      "text/plain": [
       "        t \n",
       "-3.876893 "
      ]
     },
     "metadata": {},
     "output_type": "display_data"
    }
   ],
   "source": [
    "resultado$statistic"
   ]
  },
  {
   "cell_type": "code",
   "execution_count": 57,
   "metadata": {},
   "outputs": [
    {
     "data": {
      "text/html": [
       "0.999640617030382"
      ],
      "text/latex": [
       "0.999640617030382"
      ],
      "text/markdown": [
       "0.999640617030382"
      ],
      "text/plain": [
       "[1] 0.9996406"
      ]
     },
     "metadata": {},
     "output_type": "display_data"
    }
   ],
   "source": [
    "p_valor <- resultado$p.value\n",
    "p_valor"
   ]
  },
  {
   "cell_type": "code",
   "execution_count": 58,
   "metadata": {
    "colab": {
     "base_uri": "https://localhost:8080/",
     "height": 35
    },
    "colab_type": "code",
    "id": "CMZcYUyiz0mr",
    "outputId": "c9e81381-094c-444a-8dd9-557865e8c582"
   },
   "outputs": [
    {
     "data": {
      "text/html": [
       "FALSE"
      ],
      "text/latex": [
       "FALSE"
      ],
      "text/markdown": [
       "FALSE"
      ],
      "text/plain": [
       "[1] FALSE"
      ]
     },
     "metadata": {},
     "output_type": "display_data"
    }
   ],
   "source": [
    "p_valor <= significancia"
   ]
  },
  {
   "cell_type": "markdown",
   "metadata": {
    "colab_type": "text",
    "id": "wlUdcJnDpsla"
   },
   "source": [
    "---"
   ]
  },
  {
   "cell_type": "markdown",
   "metadata": {
    "colab_type": "text",
    "id": "L7_ZbBBtpslb"
   },
   "source": [
    "## <font color=green>3.4 Testes para Duas Amostras</font>\n",
    "***"
   ]
  },
  {
   "cell_type": "markdown",
   "metadata": {
    "colab_type": "text",
    "id": "lmAJLIu8pslb"
   },
   "source": [
    "## <font color='red'>Problema</font>"
   ]
  },
  {
   "cell_type": "markdown",
   "metadata": {
    "colab_type": "text",
    "id": "0zUUY8klpslc"
   },
   "source": [
    "Em nosso dataset temos os rendimento dos chefes de domicílio obtidos da Pesquisa Nacional por Amostra de Domicílios - PNAD no ano de 2015. Um problema bastante conhecido em nosso país diz respeito a desigualdade de renda, principalmente entre homens e mulheres.\n",
    "\n",
    "Duas amostras aleatórias, uma de **500 homens** e outra com **500 mulheres**, foram selecionadas em nosso dataset. Com o objetivo de comprovar tal desigualdade, **teste a igualdade das médias** entre estas duas amostras com um nível de **significância de 1%**."
   ]
  },
  {
   "cell_type": "markdown",
   "metadata": {
    "colab_type": "text",
    "id": "WUknTBZgpslc"
   },
   "source": [
    "---"
   ]
  },
  {
   "cell_type": "markdown",
   "metadata": {
    "colab_type": "text",
    "id": "gFIUL8Hgpslc"
   },
   "source": [
    "É possível também utilizar testes de hipóteses para comparar duas diferentes amostras. Neste tipo de teste se deseja decidir se uma amostra é diferente da outra."
   ]
  },
  {
   "cell_type": "markdown",
   "metadata": {
    "colab_type": "text",
    "id": "xzGuwM4xpslc"
   },
   "source": [
    "### Seleção das amostras"
   ]
  },
  {
   "cell_type": "code",
   "execution_count": 59,
   "metadata": {},
   "outputs": [],
   "source": [
    "homens <- matrix(c(300, 1000, 4000, 5000, 300, 350, 1200, 1200, 1100, 1800, 700, 5000, 250, 1560, 400, 5500, 3000, 0, 1100, 1500, 500, 500, 788, 500, 3000, 788, 2400, 788, 3300, 1350, 2500, 2000, 1300, 2430, 9000, 10120, 1380, 2000, 1400, 1000, 500, 1500, 2200, 2100, 4000, 1000, 1200, 2900, 1800, 2000, 788, 1576, 800, 2400, 788, 788, 788, 0, 12000, 7880, 850, 1000, 1000, 1600, 3800, 788, 1200, 300, 350, 700, 6000, 1500, 5000, 2000, 1200, 800, 250, 800, 1600, 400, 3000, 2304, 800, 1400, 450, 788, 2200, 6000, 1200, 4000, 6000, 1100, 1200, 1300, 3000, 3000, 1500, 1280, 788, 1400, 788, 4000, 0, 1000, 2500, 1300, 3000, 500, 1600, 2000, 1280, 150, 0, 0, 7000, 1061, 700, 788, 2000, 788, 10500, 788, 1600, 1050, 1100, 3000, 800, 1400, 1200, 2500, 1000, 1500, 1500, 900, 2000, 300, 3000, 788, 1400, 2000, 2000, 3000, 2600, 15000, 1500, 950, 1200, 1500, 7500, 1400, 350, 750, 1200, 788, 0, 2500, 1700, 788, 700, 1600, 1200, 320, 6000, 2000, 2000, 3000, 900, 2100, 0, 788, 1800, 1600, 4000, 1300, 1300, 1500, 8900, 1400, 788, 600, 1000, 950, 2000, 4000, 2300, 2000, 800, 2500, 1500, 1400, 800, 6000, 788, 900, 200, 1300, 788, 2600, 1500, 8000, 900, 2000, 2000, 350, 3000, 9580, 0, 400, 800, 1700, 1800, 1200, 18000, 9000, 3000, 1200, 700, 1200, 400, 987, 6000, 2000, 0, 0, 480, 500, 800, 1680, 10000, 1200, 1700, 788, 2200, 10000, 10000, 100, 1200, 1600, 2500, 1300, 1200, 1300, 2200, 200, 60, 1100, 1200, 6000, 4500, 100, 788, 2900, 2500, 900, 788, 2500, 4000, 788, 1400, 1000, 300, 788, 1000, 4000, 2200, 788, 1000, 1000, 600, 1600, 6000, 2500, 2500, 1000, 3000, 2200, 4500, 1500, 4300, 1500, 8500, 3200, 1200, 1200, 1500, 4000, 2000, 1350, 1500, 890, 5000, 2400, 13000, 800, 1500, 1500, 2000, 580, 500, 920, 1200, 2000, 788, 500, 20000, 1350, 1576, 500, 8000, 1800, 600, 1000, 3000, 4000, 1500, 788, 600, 2300, 1500, 500, 500, 800, 900, 8000, 1600, 3000, 788, 1500, 5200, 900, 3565, 650, 1700, 1600, 788, 1200, 788, 788, 100, 900, 1700, 10000, 1600, 200, 788, 1400, 1500, 400, 4200, 1400, 4000, 5516, 3500, 700, 1400, 1200, 0, 7000, 2000, 5000, 2000, 750, 3000, 2000, 1500, 200, 3000, 1700, 1500, 7000, 1500, 788, 2400, 2500, 1500, 2000, 1500, 2000, 1100, 800, 1800, 480, 3500, 700, 3400, 5000, 5000, 1300, 3000, 2000, 900, 2000, 1000, 1800, 0, 1500, 788, 3500, 875, 5000, 2000, 1300, 1600, 0, 750, 1200, 120, 1800, 1200, 788, 1000, 0, 1400, 2300, 7000, 4000, 5000, 788, 20000, 4000, 0, 1200, 1800, 500, 1000, 788, 1300, 5000, 50, 1700, 2000, 1600, 2000, 1350, 1500, 600, 1700, 780, 2446, 2100, 5000, 1700, 1200, 1000, 788, 4500, 1500, 788, 0, 1580, 1000, 4500, 2400, 788, 1100, 2000, 788, 100, 1200, 1200, 1200, 1000, 2000, 788, 2000, 15000, 600, 0, 1500, 3000, 4000, 900, 810, 600, 1500, 4000, 1200, 5000, 5300, 2500, 800, 0, 1400, 1500, 4000, 1200, 400, 1000, 820, 1000, 1000, 788, 1500, 2500, 1500, 220, 600, 788, 1750, 7000))\n",
    "mulheres <- matrix(c(788, 1200, 6000, 1000, 788, 1100, 1900, 1577, 900, 950, 1200, 788, 788, 1100, 30, 620, 900, 1000, 1200, 2000, 0, 500, 1200, 1500, 1200, 1120, 788, 788, 2300, 2400, 3000, 788, 4000, 1000, 500, 500, 1700, 200, 6000, 400, 950, 1100, 50, 930, 850, 1100, 3500, 1500, 1200, 900, 1100, 1500, 788, 1000, 788, 4500, 4000, 8000, 3500, 788, 1050, 1000, 1400, 3500, 600, 3000, 500, 930, 2660, 788, 360, 2364, 788, 160, 1100, 1085, 1050, 1500, 100, 0, 788, 250, 1700, 1300, 800, 0, 2000, 820, 910, 300, 2000, 200, 788, 788, 800, 1500, 1300, 1200, 0, 600, 1036, 400, 1100, 788, 400, 1500, 1200, 1800, 1000, 788, 850, 60, 1800, 3500, 600, 200, 500, 200, 1100, 1540, 1100, 900, 800, 500, 200, 1200, 1250, 788, 500, 200, 788, 200, 0, 1800, 2000, 1000, 900, 3000, 700, 1200, 788, 2800, 3300, 400, 0, 850, 1022, 6000, 750, 1000, 3500, 400, 1500, 1000, 800, 0, 980, 2400, 850, 1100, 788, 1100, 788, 1200, 788, 864, 1000, 500, 400, 3000, 1200, 100, 80, 900, 2000, 1250, 1000, 300, 400, 1500, 60, 8000, 1000, 600, 800, 350, 788, 0, 600, 788, 2500, 1300, 800, 8000, 1100, 800, 900, 2000, 0, 800, 1400, 1000, 1200, 788, 3840, 788, 3940, 788, 560, 800, 2000, 600, 2900, 0, 400, 800, 7000, 788, 788, 788, 788, 1250, 1500, 1386, 100, 300, 788, 788, 600, 600, 900, 2800, 788, 350, 900, 0, 150, 788, 788, 1000, 30, 788, 780, 900, 0, 0, 3000, 1800, 2000, 1100, 788, 0, 7500, 1800, 788, 788, 2000, 3000, 180, 2500, 800, 0, 1250, 200, 1100, 0, 1100, 400, 1300, 300, 0, 1312, 600, 200, 4000, 2400, 12000, 2150, 500, 400, 0, 600, 400, 788, 1200, 500, 2000, 1500, 70, 500, 2000, 1000, 100, 500, 2000, 100, 2115, 800, 5800, 2300, 750, 788, 0, 900, 1000, 600, 3000, 5500, 1600, 788, 4000, 0, 1100, 120, 320, 1100, 2500, 200, 800, 3000, 550, 4200, 7000, 720, 0, 2000, 5000, 2000, 788, 500, 788, 7000, 500, 788, 1760, 1200, 3500, 1500, 150, 800, 788, 3000, 400, 788, 1000, 2000, 2500, 0, 788, 5200, 788, 0, 600, 1300, 120, 850, 1576, 788, 2000, 1300, 788, 800, 1800, 655, 1580, 789, 788, 850, 788, 7000, 788, 430, 800, 788, 900, 10000, 1200, 300, 400, 788, 788, 3000, 900, 1300, 1300, 788, 800, 1000, 1890, 0, 788, 900, 4000, 788, 1010, 150, 450, 1700, 890, 1200, 2800, 1000, 788, 788, 700, 600, 800, 880, 6000, 800, 800, 820, 788, 1030, 560, 2100, 6500, 2500, 788, 400, 300, 788, 2300, 1000, 3500, 984, 1576, 420, 1700, 450, 1800, 400, 1500, 1500, 4256, 1200, 890, 1200, 300, 400, 850, 1500, 3800, 1800, 996, 2000, 1000, 788, 1500, 300, 600, 950, 1200, 788, 1200, 1500, 250, 788, 1200, 6000, 300, 789, 1500, 788, 3800, 780, 1200, 1200, 220, 788, 500, 200, 480, 1576, 1576, 1035, 900, 800, 1000, 805, 200, 1200, 2220, 1500, 880, 220, 2000, 788, 150, 0, 13000, 40, 5500, 788, 788, 1000, 400, 2000, 200, 1600))"
   ]
  },
  {
   "cell_type": "code",
   "execution_count": 60,
   "metadata": {},
   "outputs": [
    {
     "data": {
      "text/html": [
       "500"
      ],
      "text/latex": [
       "500"
      ],
      "text/markdown": [
       "500"
      ],
      "text/plain": [
       "[1] 500"
      ]
     },
     "metadata": {},
     "output_type": "display_data"
    }
   ],
   "source": [
    "length(homens)"
   ]
  },
  {
   "cell_type": "code",
   "execution_count": 61,
   "metadata": {},
   "outputs": [
    {
     "data": {
      "text/html": [
       "500"
      ],
      "text/latex": [
       "500"
      ],
      "text/markdown": [
       "500"
      ],
      "text/plain": [
       "[1] 500"
      ]
     },
     "metadata": {},
     "output_type": "display_data"
    }
   ],
   "source": [
    "length(mulheres)"
   ]
  },
  {
   "cell_type": "markdown",
   "metadata": {
    "colab_type": "text",
    "id": "FOFa-cHwpslg"
   },
   "source": [
    "### Dados do problema"
   ]
  },
  {
   "cell_type": "code",
   "execution_count": 62,
   "metadata": {
    "colab": {
     "base_uri": "https://localhost:8080/",
     "height": 35
    },
    "colab_type": "code",
    "id": "BGyXCbompslh",
    "outputId": "a5e8a9b9-ee69-408f-b8c0-6cac89b36d9a"
   },
   "outputs": [
    {
     "data": {
      "text/html": [
       "1357.528"
      ],
      "text/latex": [
       "1357.528"
      ],
      "text/markdown": [
       "1357.528"
      ],
      "text/plain": [
       "[1] 1357.528"
      ]
     },
     "metadata": {},
     "output_type": "display_data"
    }
   ],
   "source": [
    "media_amostra_M <- mean(mulheres)\n",
    "media_amostra_M"
   ]
  },
  {
   "cell_type": "code",
   "execution_count": 63,
   "metadata": {
    "colab": {
     "base_uri": "https://localhost:8080/",
     "height": 35
    },
    "colab_type": "code",
    "id": "RoxFOCA3pslk",
    "outputId": "85133b37-a4a6-49cd-a585-700725811b09"
   },
   "outputs": [
    {
     "data": {
      "text/html": [
       "1569.90119074846"
      ],
      "text/latex": [
       "1569.90119074846"
      ],
      "text/markdown": [
       "1569.90119074846"
      ],
      "text/plain": [
       "[1] 1569.901"
      ]
     },
     "metadata": {},
     "output_type": "display_data"
    }
   ],
   "source": [
    "desvio_padrao_amostra_M <- sd(mulheres)\n",
    "desvio_padrao_amostra_M"
   ]
  },
  {
   "cell_type": "code",
   "execution_count": 64,
   "metadata": {
    "colab": {
     "base_uri": "https://localhost:8080/",
     "height": 35
    },
    "colab_type": "code",
    "id": "Of8L6Hygpsll",
    "outputId": "fe0dc0f3-79e3-4375-de47-43a4ff6c3f79"
   },
   "outputs": [
    {
     "data": {
      "text/html": [
       "2142.608"
      ],
      "text/latex": [
       "2142.608"
      ],
      "text/markdown": [
       "2142.608"
      ],
      "text/plain": [
       "[1] 2142.608"
      ]
     },
     "metadata": {},
     "output_type": "display_data"
    }
   ],
   "source": [
    "media_amostra_H <- mean(homens)\n",
    "media_amostra_H"
   ]
  },
  {
   "cell_type": "code",
   "execution_count": 65,
   "metadata": {
    "colab": {
     "base_uri": "https://localhost:8080/",
     "height": 35
    },
    "colab_type": "code",
    "id": "-cSpXXTepsln",
    "outputId": "8a3d0017-ac70-4fe3-aae1-0c7bf32e676e"
   },
   "outputs": [
    {
     "data": {
      "text/html": [
       "2548.05080249987"
      ],
      "text/latex": [
       "2548.05080249987"
      ],
      "text/markdown": [
       "2548.05080249987"
      ],
      "text/plain": [
       "[1] 2548.051"
      ]
     },
     "metadata": {},
     "output_type": "display_data"
    }
   ],
   "source": [
    "desvio_padrao_amostra_H <- sd(homens)\n",
    "desvio_padrao_amostra_H"
   ]
  },
  {
   "cell_type": "code",
   "execution_count": 66,
   "metadata": {
    "colab": {},
    "colab_type": "code",
    "id": "Cl7kdxkUpslo"
   },
   "outputs": [],
   "source": [
    "significancia <- 0.01\n",
    "confianca <- 1 - significancia\n",
    "n_M <- 500\n",
    "n_H <- 500\n",
    "D_0 <- 0"
   ]
  },
  {
   "cell_type": "markdown",
   "metadata": {
    "colab_type": "text",
    "id": "PGoWwWwjpslp"
   },
   "source": [
    "---"
   ]
  },
  {
   "cell_type": "markdown",
   "metadata": {
    "colab_type": "text",
    "id": "tO597Oxgpslp"
   },
   "source": [
    "### **Passo 1** - formulação das hipóteses $H_0$ e $H_1$\n",
    "\n",
    "#### <font color='red'>Lembre-se, a hipótese nula sempre contém a alegação de igualdade</font>"
   ]
  },
  {
   "cell_type": "markdown",
   "metadata": {
    "colab_type": "text",
    "id": "LysVU-7fpslr"
   },
   "source": [
    "### $\\mu_1 \\Rightarrow$ Média das rendas dos chefes de domicílios do sexo masculino\n",
    "### $\\mu_2 \\Rightarrow$ Média das rendas dos chefes de domicílios do sexo feminino\n",
    "\n",
    "### $\n",
    "\\begin{cases}\n",
    "H_0: \\mu_1 \\leq \\mu_2\\\\\n",
    "H_1: \\mu_1 > \\mu_2\n",
    "\\end{cases}\n",
    "$\n",
    "\n",
    "### ou\n",
    "\n",
    "### $\n",
    "\\begin{cases}\n",
    "H_0: \\mu_1 -\\mu_2 \\leq 0\\\\\n",
    "H_1: \\mu_1 -\\mu_2 > 0\n",
    "\\end{cases}\n",
    "$"
   ]
  },
  {
   "cell_type": "markdown",
   "metadata": {
    "colab_type": "text",
    "id": "ENKqbCgQpslr"
   },
   "source": [
    "---"
   ]
  },
  {
   "cell_type": "markdown",
   "metadata": {
    "colab_type": "text",
    "id": "dBA05Y3Zpslr"
   },
   "source": [
    "### **Passo 2** - escolha da distribuição amostral adequada\n",
    "<img src='https://caelum-online-public.s3.amazonaws.com/1229-estatistica-parte3/01/img003.png' width=70%>\n",
    "\n",
    "### <font color='red'>Observação importante</font>\n",
    "> Em testes que envolvam duas amostras com o emprego da tabela $t$ de Student, o número de graus de liberdade será sempre igual a $n_1 + n_2 - 2$"
   ]
  },
  {
   "cell_type": "markdown",
   "metadata": {
    "colab_type": "text",
    "id": "6_Q_Wtjlpsls"
   },
   "source": [
    "### O tamanho da amostra é maior que 30?\n",
    "#### Resp.: Sim\n",
    "\n",
    "### O desvio padrão populacional é conhecido?\n",
    "#### Resp.: Não"
   ]
  },
  {
   "cell_type": "markdown",
   "metadata": {
    "colab_type": "text",
    "id": "T6sVzVjVpsls"
   },
   "source": [
    "---"
   ]
  },
  {
   "cell_type": "markdown",
   "metadata": {
    "colab_type": "text",
    "id": "SUN4yJqzpsls"
   },
   "source": [
    "### **Passo 3** - fixação da significância do teste ($\\alpha$)"
   ]
  },
  {
   "cell_type": "code",
   "execution_count": 67,
   "metadata": {
    "colab": {
     "base_uri": "https://localhost:8080/",
     "height": 35
    },
    "colab_type": "code",
    "id": "b3Y_CZmzpsls",
    "outputId": "bc2e1945-7bb1-4c2c-851a-f0102328ce0e"
   },
   "outputs": [
    {
     "data": {
      "text/html": [
       "0.99"
      ],
      "text/latex": [
       "0.99"
      ],
      "text/markdown": [
       "0.99"
      ],
      "text/plain": [
       "[1] 0.99"
      ]
     },
     "metadata": {},
     "output_type": "display_data"
    }
   ],
   "source": [
    "probabilidade <- confianca\n",
    "probabilidade"
   ]
  },
  {
   "cell_type": "code",
   "execution_count": 68,
   "metadata": {
    "colab": {
     "base_uri": "https://localhost:8080/",
     "height": 35
    },
    "colab_type": "code",
    "id": "qNse2bFRpslu",
    "outputId": "b03d1db9-17ec-4577-825d-dc81f7aee07b"
   },
   "outputs": [
    {
     "data": {
      "text/html": [
       "2.32634787404084"
      ],
      "text/latex": [
       "2.32634787404084"
      ],
      "text/markdown": [
       "2.32634787404084"
      ],
      "text/plain": [
       "[1] 2.326348"
      ]
     },
     "metadata": {},
     "output_type": "display_data"
    }
   ],
   "source": [
    "z_alpha <- qnorm(probabilidade)\n",
    "z_alpha"
   ]
  },
  {
   "cell_type": "markdown",
   "metadata": {
    "colab_type": "text",
    "id": "y9u_zd8Opslv"
   },
   "source": [
    "![Região de Aceitação](https://caelum-online-public.s3.amazonaws.com/1229-estatistica-parte3/01/img011.png)"
   ]
  },
  {
   "cell_type": "markdown",
   "metadata": {
    "colab_type": "text",
    "id": "xUhiEXRMpslv"
   },
   "source": [
    "---"
   ]
  },
  {
   "cell_type": "markdown",
   "metadata": {
    "colab_type": "text",
    "id": "iooB1aPHpslv"
   },
   "source": [
    "### **Passo 4** - cálculo da estatística-teste e verificação desse valor com as áreas de aceitação e rejeição do teste\n",
    "\n",
    "# $$z = \\frac{(\\bar{x_1} - \\bar{x_2})-D_0}{\\sqrt{\\frac{s_1^2}{n_1} + \\frac{s_2^2}{n_2}}}$$"
   ]
  },
  {
   "cell_type": "code",
   "execution_count": 70,
   "metadata": {
    "colab": {
     "base_uri": "https://localhost:8080/",
     "height": 35
    },
    "colab_type": "code",
    "id": "AL2i9JOTpslw",
    "outputId": "920efcb1-4b72-4366-9930-52d6e0119549"
   },
   "outputs": [
    {
     "data": {
      "text/html": [
       "5.86562005776475"
      ],
      "text/latex": [
       "5.86562005776475"
      ],
      "text/markdown": [
       "5.86562005776475"
      ],
      "text/plain": [
       "[1] 5.86562"
      ]
     },
     "metadata": {},
     "output_type": "display_data"
    }
   ],
   "source": [
    "numerador <- (media_amostra_H - media_amostra_M) - D_0\n",
    "\n",
    "denominador <- sqrt( ((desvio_padrao_amostra_H ^ 2) / 500) + ((desvio_padrao_amostra_M ^ 2) / 500) )\n",
    "\n",
    "z <- numerador / denominador\n",
    "\n",
    "z"
   ]
  },
  {
   "cell_type": "markdown",
   "metadata": {
    "colab_type": "text",
    "id": "jXrfHvH5pslx"
   },
   "source": [
    "![Estatística-Teste](https://caelum-online-public.s3.amazonaws.com/1229-estatistica-parte3/01/img012.png)"
   ]
  },
  {
   "cell_type": "markdown",
   "metadata": {
    "colab_type": "text",
    "id": "4dn58Fc2pslx"
   },
   "source": [
    "---"
   ]
  },
  {
   "cell_type": "markdown",
   "metadata": {
    "colab_type": "text",
    "id": "P-7NL33-pslx"
   },
   "source": [
    "### **Passo 5** - Aceitação ou rejeição da hipótese nula"
   ]
  },
  {
   "cell_type": "markdown",
   "metadata": {
    "colab_type": "text",
    "id": "n_djxfYtpslx"
   },
   "source": [
    "<img src='https://caelum-online-public.s3.amazonaws.com/1229-estatistica-parte3/01/img014.png' width=90%>"
   ]
  },
  {
   "cell_type": "markdown",
   "metadata": {
    "colab_type": "text",
    "id": "QrObW-BXpsly"
   },
   "source": [
    "### <font color='red'>Critério do valor crítico</font>\n",
    "\n",
    "> ### Teste Unicaudal\n",
    "> ### Rejeitar $H_0$ se $z \\geq z_{\\alpha}$"
   ]
  },
  {
   "cell_type": "code",
   "execution_count": 71,
   "metadata": {
    "colab": {
     "base_uri": "https://localhost:8080/",
     "height": 35
    },
    "colab_type": "code",
    "id": "tkJSji7gpsly",
    "outputId": "8bbaa7f8-311f-4b6e-98f0-6964f510a91d"
   },
   "outputs": [
    {
     "data": {
      "text/html": [
       "TRUE"
      ],
      "text/latex": [
       "TRUE"
      ],
      "text/markdown": [
       "TRUE"
      ],
      "text/plain": [
       "[1] TRUE"
      ]
     },
     "metadata": {},
     "output_type": "display_data"
    }
   ],
   "source": [
    "z >= z_alpha"
   ]
  },
  {
   "cell_type": "markdown",
   "metadata": {
    "colab_type": "text",
    "id": "UnBVO1uDpslz"
   },
   "source": [
    "### <font color='green'>Conclusão: Com um nível de confiança de 99% rejeitamos $H_0$, isto é, concluímos que a média das rendas dos chefes de domicílios do sexo masculino é maior que a média das rendas das chefes de domicílios do sexo feminino. Confirmando a alegação de desigualdade de renda entre os sexos.</font>"
   ]
  },
  {
   "cell_type": "markdown",
   "metadata": {
    "colab_type": "text",
    "id": "cyuNEHfwpsl0"
   },
   "source": [
    "### <font color='red'>Critério do valor $p$</font>\n",
    "\n",
    "> ### Teste Unicaudal\n",
    "> ### Rejeitar $H_0$ se o valor $p\\leq\\alpha$"
   ]
  },
  {
   "cell_type": "code",
   "execution_count": 72,
   "metadata": {},
   "outputs": [
    {
     "data": {
      "text/html": [
       "5.86562005776475"
      ],
      "text/latex": [
       "5.86562005776475"
      ],
      "text/markdown": [
       "5.86562005776475"
      ],
      "text/plain": [
       "[1] 5.86562"
      ]
     },
     "metadata": {},
     "output_type": "display_data"
    }
   ],
   "source": [
    "z"
   ]
  },
  {
   "cell_type": "code",
   "execution_count": 74,
   "metadata": {
    "colab": {
     "base_uri": "https://localhost:8080/",
     "height": 35
    },
    "colab_type": "code",
    "id": "tSbOZem9hLvs",
    "outputId": "c987a7bf-f772-4a01-a4c6-9a3afacf08d3"
   },
   "outputs": [
    {
     "data": {
      "text/html": [
       "2.23728678594584e-09"
      ],
      "text/latex": [
       "2.23728678594584e-09"
      ],
      "text/markdown": [
       "2.23728678594584e-09"
      ],
      "text/plain": [
       "[1] 2.237287e-09"
      ]
     },
     "metadata": {},
     "output_type": "display_data"
    }
   ],
   "source": [
    "p_valor <- pnorm(z, lower.tail = FALSE)\n",
    "p_valor"
   ]
  },
  {
   "cell_type": "code",
   "execution_count": 75,
   "metadata": {
    "colab": {
     "base_uri": "https://localhost:8080/",
     "height": 35
    },
    "colab_type": "code",
    "id": "E3NF1BzYpsl6",
    "outputId": "73af41e4-51a9-4e1f-d4c8-0786046c24b2"
   },
   "outputs": [
    {
     "data": {
      "text/html": [
       "TRUE"
      ],
      "text/latex": [
       "TRUE"
      ],
      "text/markdown": [
       "TRUE"
      ],
      "text/plain": [
       "[1] TRUE"
      ]
     },
     "metadata": {},
     "output_type": "display_data"
    }
   ],
   "source": [
    "p_valor <= significancia"
   ]
  }
 ],
 "metadata": {
  "colab": {
   "collapsed_sections": [
    "cVgsZ_E3jQKg",
    "nk65O0lepz57"
   ],
   "name": "Curso_de_Estatística_Parte_3.ipynb",
   "provenance": [],
   "toc_visible": true,
   "version": "0.3.2"
  },
  "kernelspec": {
   "display_name": "R",
   "language": "R",
   "name": "ir"
  },
  "language_info": {
   "codemirror_mode": "r",
   "file_extension": ".r",
   "mimetype": "text/x-r-source",
   "name": "R",
   "pygments_lexer": "r",
   "version": "4.1.2"
  }
 },
 "nbformat": 4,
 "nbformat_minor": 1
}
