{
 "cells": [
  {
   "cell_type": "markdown",
   "id": "4742ed61",
   "metadata": {},
   "source": [
    "# Estatística com Python\n",
    "\n",
    "## Testes de Hipótese\n",
    "\n",
    "É uma metodologia estatística que nos auxilia a tomar decisões sobre uma ou mais populações baseado na informação obtida da amostra.\n",
    "\n",
    "Nos permite verificar se os dados amostrais trazem evidência que apoiem ou não uma hipótese estatística formulada.\n",
    "\n",
    "Ao tentarmos tomar decisões, é conveniente a formulação de suposições ou de conjeturas sobre as populações de interesse, que, em geral, consistem em considerações sobre parâmetros (μ,σ2,p\n",
    ") das mesmas.\n",
    "\n",
    "Essas suposições, que podem ser ou não verdadeiras, são denominadas de Hipóteses Estatísticas.\n",
    "\n",
    "Em muitas situações práticas o interesse do pesquisador é verificar a veracidade sobre um ou mais parâmetros populacionais (μ,σ2,p\n",
    ") ou sobre a distribuição de uma variável aleatória."
   ]
  },
  {
   "cell_type": "code",
   "execution_count": 3,
   "id": "41891741",
   "metadata": {},
   "outputs": [],
   "source": [
    "import pandas as pd"
   ]
  },
  {
   "cell_type": "code",
   "execution_count": 4,
   "id": "47b14adb",
   "metadata": {},
   "outputs": [],
   "source": [
    "dataset = pd.read_csv('/home/joeldspy/Modelos/Datasets/dados.csv')"
   ]
  },
  {
   "cell_type": "code",
   "execution_count": 5,
   "id": "5d2cd5b4",
   "metadata": {},
   "outputs": [
    {
     "data": {
      "text/html": [
       "<div>\n",
       "<style scoped>\n",
       "    .dataframe tbody tr th:only-of-type {\n",
       "        vertical-align: middle;\n",
       "    }\n",
       "\n",
       "    .dataframe tbody tr th {\n",
       "        vertical-align: top;\n",
       "    }\n",
       "\n",
       "    .dataframe thead th {\n",
       "        text-align: right;\n",
       "    }\n",
       "</style>\n",
       "<table border=\"1\" class=\"dataframe\">\n",
       "  <thead>\n",
       "    <tr style=\"text-align: right;\">\n",
       "      <th></th>\n",
       "      <th>UF</th>\n",
       "      <th>Sexo</th>\n",
       "      <th>Idade</th>\n",
       "      <th>Cor</th>\n",
       "      <th>Anos de Estudo</th>\n",
       "      <th>Renda</th>\n",
       "      <th>Altura</th>\n",
       "    </tr>\n",
       "  </thead>\n",
       "  <tbody>\n",
       "    <tr>\n",
       "      <th>0</th>\n",
       "      <td>11</td>\n",
       "      <td>0</td>\n",
       "      <td>23</td>\n",
       "      <td>8</td>\n",
       "      <td>12</td>\n",
       "      <td>800</td>\n",
       "      <td>1.603808</td>\n",
       "    </tr>\n",
       "    <tr>\n",
       "      <th>1</th>\n",
       "      <td>11</td>\n",
       "      <td>1</td>\n",
       "      <td>23</td>\n",
       "      <td>2</td>\n",
       "      <td>12</td>\n",
       "      <td>1150</td>\n",
       "      <td>1.739790</td>\n",
       "    </tr>\n",
       "    <tr>\n",
       "      <th>2</th>\n",
       "      <td>11</td>\n",
       "      <td>1</td>\n",
       "      <td>35</td>\n",
       "      <td>8</td>\n",
       "      <td>15</td>\n",
       "      <td>880</td>\n",
       "      <td>1.760444</td>\n",
       "    </tr>\n",
       "    <tr>\n",
       "      <th>3</th>\n",
       "      <td>11</td>\n",
       "      <td>0</td>\n",
       "      <td>46</td>\n",
       "      <td>2</td>\n",
       "      <td>6</td>\n",
       "      <td>3500</td>\n",
       "      <td>1.783158</td>\n",
       "    </tr>\n",
       "    <tr>\n",
       "      <th>4</th>\n",
       "      <td>11</td>\n",
       "      <td>1</td>\n",
       "      <td>47</td>\n",
       "      <td>8</td>\n",
       "      <td>9</td>\n",
       "      <td>150</td>\n",
       "      <td>1.690631</td>\n",
       "    </tr>\n",
       "  </tbody>\n",
       "</table>\n",
       "</div>"
      ],
      "text/plain": [
       "   UF  Sexo  Idade  Cor  Anos de Estudo  Renda    Altura\n",
       "0  11     0     23    8              12    800  1.603808\n",
       "1  11     1     23    2              12   1150  1.739790\n",
       "2  11     1     35    8              15    880  1.760444\n",
       "3  11     0     46    2               6   3500  1.783158\n",
       "4  11     1     47    8               9    150  1.690631"
      ]
     },
     "execution_count": 5,
     "metadata": {},
     "output_type": "execute_result"
    }
   ],
   "source": [
    "dataset.head()"
   ]
  },
  {
   "cell_type": "markdown",
   "id": "b64026ec",
   "metadata": {},
   "source": [
    "# 1 - Introdução: Teste de Normalidade com Python"
   ]
  },
  {
   "cell_type": "code",
   "execution_count": 1,
   "id": "e530d372",
   "metadata": {},
   "outputs": [],
   "source": [
    "from scipy.stats import normaltest"
   ]
  },
  {
   "cell_type": "code",
   "execution_count": 2,
   "id": "998db92f",
   "metadata": {},
   "outputs": [],
   "source": [
    "alfa = 0.05"
   ]
  },
  {
   "cell_type": "markdown",
   "id": "1d92d04e",
   "metadata": {},
   "source": [
    "## 1.1 - Testando a Variável Renda"
   ]
  },
  {
   "cell_type": "code",
   "execution_count": 8,
   "id": "2ad40163",
   "metadata": {},
   "outputs": [
    {
     "data": {
      "text/plain": [
       "<AxesSubplot:>"
      ]
     },
     "execution_count": 8,
     "metadata": {},
     "output_type": "execute_result"
    },
    {
     "data": {
      "image/png": "[encoded data removed]",
      "text/plain": [
       "<Figure size 640x480 with 1 Axes>"
      ]
     },
     "metadata": {},
     "output_type": "display_data"
    }
   ],
   "source": [
    "dataset['Renda'].hist(bins=50)"
   ]
  },
  {
   "cell_type": "code",
   "execution_count": 9,
   "id": "4a9df671",
   "metadata": {},
   "outputs": [
    {
     "data": {
      "text/plain": [
       "NormaltestResult(statistic=152380.75803960307, pvalue=0.0)"
      ]
     },
     "execution_count": 9,
     "metadata": {},
     "output_type": "execute_result"
    }
   ],
   "source": [
    "normaltest(dataset['Renda'])"
   ]
  },
  {
   "cell_type": "code",
   "execution_count": 11,
   "id": "36a1b2a5",
   "metadata": {},
   "outputs": [
    {
     "data": {
      "text/plain": [
       "True"
      ]
     },
     "execution_count": 11,
     "metadata": {},
     "output_type": "execute_result"
    }
   ],
   "source": [
    "# Rejeitar H0 se pvalue < alfa\n",
    "normaltest(dataset['Renda'])[1] < alfa"
   ]
  },
  {
   "cell_type": "markdown",
   "id": "dc099a95",
   "metadata": {},
   "source": [
    "## 1.2 - Testando a Variável Altura"
   ]
  },
  {
   "cell_type": "code",
   "execution_count": 12,
   "id": "b14b0737",
   "metadata": {},
   "outputs": [
    {
     "data": {
      "text/plain": [
       "<AxesSubplot:>"
      ]
     },
     "execution_count": 12,
     "metadata": {},
     "output_type": "execute_result"
    },
    {
     "data": {
      "image/png": "[encoded data removed]",
      "text/plain": [
       "<Figure size 640x480 with 1 Axes>"
      ]
     },
     "metadata": {},
     "output_type": "display_data"
    }
   ],
   "source": [
    "dataset['Altura'].hist(bins=50)"
   ]
  },
  {
   "cell_type": "code",
   "execution_count": 13,
   "id": "9526666b",
   "metadata": {},
   "outputs": [
    {
     "data": {
      "text/plain": [
       "NormaltestResult(statistic=0.19973093957002253, pvalue=0.9049591541967501)"
      ]
     },
     "execution_count": 13,
     "metadata": {},
     "output_type": "execute_result"
    }
   ],
   "source": [
    "normaltest(dataset['Altura'])"
   ]
  },
  {
   "cell_type": "code",
   "execution_count": 15,
   "id": "ea84608d",
   "metadata": {
    "scrolled": false
   },
   "outputs": [
    {
     "data": {
      "text/plain": [
       "False"
      ]
     },
     "execution_count": 15,
     "metadata": {},
     "output_type": "execute_result"
    }
   ],
   "source": [
    "# Rejeitar H0 se pvalue < alfa\n",
    "normaltest(dataset['Altura'])[1] < alfa"
   ]
  },
  {
   "cell_type": "markdown",
   "id": "f81056f9",
   "metadata": {},
   "source": [
    "## 2 - Testes Parâmetricos"
   ]
  },
  {
   "cell_type": "markdown",
   "id": "6a8a6cca",
   "metadata": {},
   "source": [
    "A empresa Suco Bom produz sucos de frutas em embalagens de 500 ml.\n",
    "\n",
    "Seu processo de produção é quase todo automatizado e as embalagens de suco são preenchidas por uma máquina que às vezes apresenta um certo desajuste, levando a erros no preenchimento das embalagens para mais ou menos conteúdo. Quando o volume médio cai abaixo de 500 ml, a empresa se preocupa em perder vendas e ter problemas com os órgãos fiscalizadores.\n",
    "\n",
    "Quando o volume passa de 500 ml, a empresa começa a se preocupar com prejuízos no processo de produção. O setor de controle de qualidade da empresa Suco Bom extrai, periodicamente, amostras de 50 embalagens para monitorar o processo de produção. Para cada amostra, é realizado um teste de hipóteses para avaliar se o maquinário se desajustou. A equipe de controle de qualidade assume um nível de significância de 5%.\n",
    "\n",
    "Suponha agora que uma amostra de 50 embalagens foi selecionada e que a média amostral observada foi de 503,24 ml. Esse valor de média amostral é suficientemente maior que 500 ml para nos fazer rejeitar a hipótese de que a média do processo é de 500 ml ao nível de significância de 5%?"
   ]
  },
  {
   "cell_type": "code",
   "execution_count": 17,
   "id": "73bd01d2",
   "metadata": {},
   "outputs": [],
   "source": [
    "import numpy as np"
   ]
  },
  {
   "cell_type": "code",
   "execution_count": 18,
   "id": "e1a6e4d7",
   "metadata": {},
   "outputs": [],
   "source": [
    "amostra = [509, 505, 495, 510, 496, 509, 497, 502, 503, 505, \n",
    "           501, 505, 510, 505, 504, 497, 506, 506, 508, 505, \n",
    "           497, 504, 500, 498, 506, 496, 508, 497, 503, 501, \n",
    "           503, 506, 499, 498, 509, 507, 503, 499, 509, 495, \n",
    "           502, 505, 504, 509, 508, 501, 505, 497, 508, 507]"
   ]
  },
  {
   "cell_type": "code",
   "execution_count": 20,
   "id": "7929e6c5",
   "metadata": {},
   "outputs": [
    {
     "data": {
      "text/plain": [
       "503.24"
      ]
     },
     "execution_count": 20,
     "metadata": {},
     "output_type": "execute_result"
    }
   ],
   "source": [
    "media_amostra = np.mean(amostra); media_amostra"
   ]
  },
  {
   "cell_type": "code",
   "execution_count": 21,
   "id": "da0cf205",
   "metadata": {},
   "outputs": [
    {
     "data": {
      "text/plain": [
       "4.438738559545944"
      ]
     },
     "execution_count": 21,
     "metadata": {},
     "output_type": "execute_result"
    }
   ],
   "source": [
    "desvio_padrao_amostra = np.std(amostra); desvio_padrao_amostra"
   ]
  },
  {
   "cell_type": "code",
   "execution_count": 22,
   "id": "bd23cf5c",
   "metadata": {},
   "outputs": [],
   "source": [
    "media_população = 500\n",
    "alfa = 0.05\n",
    "n = 50"
   ]
  },
  {
   "cell_type": "markdown",
   "id": "ffbad695",
   "metadata": {},
   "source": [
    "![](https://imgur.com/W78yvZk.png)"
   ]
  },
  {
   "cell_type": "code",
   "execution_count": 23,
   "id": "cd5b0943",
   "metadata": {},
   "outputs": [],
   "source": [
    "from scipy.stats import norm"
   ]
  },
  {
   "cell_type": "code",
   "execution_count": 25,
   "id": "82490a28",
   "metadata": {},
   "outputs": [
    {
     "data": {
      "text/plain": [
       "1.959963984540054"
      ]
     },
     "execution_count": 25,
     "metadata": {},
     "output_type": "execute_result"
    }
   ],
   "source": [
    "probabilidade = (0.5 + (1 - alfa) / 2)\n",
    "\n",
    "z_alpha_2 = norm.ppf(probabilidade); z_alpha_2"
   ]
  },
  {
   "cell_type": "markdown",
   "id": "88b063a7",
   "metadata": {},
   "source": [
    "![](https://dhg1h5j42swfq.cloudfront.net/2021/11/30195332/image-673.png)"
   ]
  },
  {
   "cell_type": "code",
   "execution_count": 26,
   "id": "0f042718",
   "metadata": {},
   "outputs": [
    {
     "data": {
      "text/plain": [
       "5.1614348092598155"
      ]
     },
     "execution_count": 26,
     "metadata": {},
     "output_type": "execute_result"
    }
   ],
   "source": [
    "z = (media_amostra - media_população) / ( (desvio_padrao_amostra) / (np.sqrt(n))); z"
   ]
  },
  {
   "cell_type": "markdown",
   "id": "fd2f922a",
   "metadata": {},
   "source": [
    "![](https://imgur.com/Mgy1WgI.png)"
   ]
  },
  {
   "cell_type": "code",
   "execution_count": 29,
   "id": "d693fc77",
   "metadata": {},
   "outputs": [
    {
     "data": {
      "text/plain": [
       "True"
      ]
     },
     "execution_count": 29,
     "metadata": {},
     "output_type": "execute_result"
    }
   ],
   "source": [
    "z <= -z_alpha_2 or z >= z_alpha_2"
   ]
  },
  {
   "cell_type": "markdown",
   "id": "0ea886f5",
   "metadata": {},
   "source": [
    "## 3 - Teste Unicaudal"
   ]
  },
  {
   "cell_type": "code",
   "execution_count": null,
   "id": "6b70724c",
   "metadata": {},
   "outputs": [],
   "source": []
  }
 ],
 "metadata": {
  "kernelspec": {
   "display_name": "Python 3 (ipykernel)",
   "language": "python",
   "name": "python3"
  },
  "language_info": {
   "codemirror_mode": {
    "name": "ipython",
    "version": 3
   },
   "file_extension": ".py",
   "mimetype": "text/x-python",
   "name": "python",
   "nbconvert_exporter": "python",
   "pygments_lexer": "ipython3",
   "version": "3.9.13"
  }
 },
 "nbformat": 4,
 "nbformat_minor": 5
}
