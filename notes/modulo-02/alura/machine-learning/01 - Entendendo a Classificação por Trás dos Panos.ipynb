{
 "cells": [
  {
   "cell_type": "markdown",
   "id": "4f62d33d",
   "metadata": {},
   "source": [
    "<font size=6 color='green'> Entendendo a Classificação por Trás dos Panos </font>\n",
    "\n",
    "---"
   ]
  },
  {
   "cell_type": "markdown",
   "id": "7c2b23b9",
   "metadata": {},
   "source": [
    "# 1 - Primeiros Passos"
   ]
  },
  {
   "cell_type": "markdown",
   "id": "750aad6d",
   "metadata": {},
   "source": [
    "## 1.1 - Importação da Base de Dados"
   ]
  },
  {
   "cell_type": "code",
   "execution_count": 1,
   "id": "e49d8a60",
   "metadata": {},
   "outputs": [],
   "source": [
    "# Importando bibliotecas inicialmente necessárias\n",
    "import pandas as pd\n",
    "import numpy as np\n",
    "import warnings\n",
    "warnings.filterwarnings('ignore')"
   ]
  },
  {
   "cell_type": "code",
   "execution_count": 2,
   "id": "928b541c",
   "metadata": {},
   "outputs": [],
   "source": [
    "# Importando a base de dados local\n",
    "voz = pd.read_csv('/home/joeldspy/Modelos/datasets/churn.csv')"
   ]
  },
  {
   "cell_type": "code",
   "execution_count": 3,
   "id": "c02794ee",
   "metadata": {},
   "outputs": [
    {
     "data": {
      "text/html": [
       "<div>\n",
       "<style scoped>\n",
       "    .dataframe tbody tr th:only-of-type {\n",
       "        vertical-align: middle;\n",
       "    }\n",
       "\n",
       "    .dataframe tbody tr th {\n",
       "        vertical-align: top;\n",
       "    }\n",
       "\n",
       "    .dataframe thead th {\n",
       "        text-align: right;\n",
       "    }\n",
       "</style>\n",
       "<table border=\"1\" class=\"dataframe\">\n",
       "  <thead>\n",
       "    <tr style=\"text-align: right;\">\n",
       "      <th></th>\n",
       "      <th>Maior65Anos</th>\n",
       "      <th>Conjuge</th>\n",
       "      <th>Dependentes</th>\n",
       "      <th>MesesDeContrato</th>\n",
       "      <th>TelefoneFixo</th>\n",
       "      <th>VariasLinhasTelefonicas</th>\n",
       "      <th>ServicoDeInternet</th>\n",
       "      <th>SegurancaOnline</th>\n",
       "      <th>BackupOnline</th>\n",
       "      <th>SeguroNoDispositivo</th>\n",
       "      <th>SuporteTecnico</th>\n",
       "      <th>TVaCabo</th>\n",
       "      <th>StreamingDeFilmes</th>\n",
       "      <th>TipoDeContrato</th>\n",
       "      <th>PagamentoOnline</th>\n",
       "      <th>FormaDePagamento</th>\n",
       "      <th>ContaMensal</th>\n",
       "      <th>Churn</th>\n",
       "    </tr>\n",
       "  </thead>\n",
       "  <tbody>\n",
       "    <tr>\n",
       "      <th>0</th>\n",
       "      <td>0</td>\n",
       "      <td>Sim</td>\n",
       "      <td>Nao</td>\n",
       "      <td>1</td>\n",
       "      <td>Nao</td>\n",
       "      <td>SemServicoTelefonico</td>\n",
       "      <td>DSL</td>\n",
       "      <td>Nao</td>\n",
       "      <td>Sim</td>\n",
       "      <td>Nao</td>\n",
       "      <td>Nao</td>\n",
       "      <td>Nao</td>\n",
       "      <td>Nao</td>\n",
       "      <td>Mensalmente</td>\n",
       "      <td>Sim</td>\n",
       "      <td>ChequeDigital</td>\n",
       "      <td>29.85</td>\n",
       "      <td>Nao</td>\n",
       "    </tr>\n",
       "    <tr>\n",
       "      <th>1</th>\n",
       "      <td>0</td>\n",
       "      <td>Nao</td>\n",
       "      <td>Nao</td>\n",
       "      <td>34</td>\n",
       "      <td>Sim</td>\n",
       "      <td>Nao</td>\n",
       "      <td>DSL</td>\n",
       "      <td>Sim</td>\n",
       "      <td>Nao</td>\n",
       "      <td>Sim</td>\n",
       "      <td>Nao</td>\n",
       "      <td>Nao</td>\n",
       "      <td>Nao</td>\n",
       "      <td>UmAno</td>\n",
       "      <td>Nao</td>\n",
       "      <td>ChequePapel</td>\n",
       "      <td>56.95</td>\n",
       "      <td>Nao</td>\n",
       "    </tr>\n",
       "    <tr>\n",
       "      <th>2</th>\n",
       "      <td>0</td>\n",
       "      <td>Nao</td>\n",
       "      <td>Nao</td>\n",
       "      <td>2</td>\n",
       "      <td>Sim</td>\n",
       "      <td>Nao</td>\n",
       "      <td>DSL</td>\n",
       "      <td>Sim</td>\n",
       "      <td>Sim</td>\n",
       "      <td>Nao</td>\n",
       "      <td>Nao</td>\n",
       "      <td>Nao</td>\n",
       "      <td>Nao</td>\n",
       "      <td>Mensalmente</td>\n",
       "      <td>Sim</td>\n",
       "      <td>ChequePapel</td>\n",
       "      <td>53.85</td>\n",
       "      <td>Sim</td>\n",
       "    </tr>\n",
       "  </tbody>\n",
       "</table>\n",
       "</div>"
      ],
      "text/plain": [
       "   Maior65Anos Conjuge Dependentes  MesesDeContrato TelefoneFixo  \\\n",
       "0            0     Sim         Nao                1          Nao   \n",
       "1            0     Nao         Nao               34          Sim   \n",
       "2            0     Nao         Nao                2          Sim   \n",
       "\n",
       "  VariasLinhasTelefonicas ServicoDeInternet SegurancaOnline BackupOnline  \\\n",
       "0    SemServicoTelefonico               DSL             Nao          Sim   \n",
       "1                     Nao               DSL             Sim          Nao   \n",
       "2                     Nao               DSL             Sim          Sim   \n",
       "\n",
       "  SeguroNoDispositivo SuporteTecnico TVaCabo StreamingDeFilmes TipoDeContrato  \\\n",
       "0                 Nao            Nao     Nao               Nao    Mensalmente   \n",
       "1                 Sim            Nao     Nao               Nao          UmAno   \n",
       "2                 Nao            Nao     Nao               Nao    Mensalmente   \n",
       "\n",
       "  PagamentoOnline FormaDePagamento  ContaMensal Churn  \n",
       "0             Sim    ChequeDigital        29.85   Nao  \n",
       "1             Nao      ChequePapel        56.95   Nao  \n",
       "2             Sim      ChequePapel        53.85   Sim  "
      ]
     },
     "execution_count": 3,
     "metadata": {},
     "output_type": "execute_result"
    }
   ],
   "source": [
    "# Visualizando as 3 primeiras observações da base de dados\n",
    "voz.head(3)"
   ]
  },
  {
   "cell_type": "markdown",
   "id": "43b82ae0",
   "metadata": {},
   "source": [
    "## 1.2 - Tratamentos de Dados"
   ]
  },
  {
   "cell_type": "code",
   "execution_count": 4,
   "id": "37a0c3bc",
   "metadata": {},
   "outputs": [
    {
     "data": {
      "text/plain": [
       "Nao    5174\n",
       "Sim    1869\n",
       "Name: Churn, dtype: int64"
      ]
     },
     "execution_count": 4,
     "metadata": {},
     "output_type": "execute_result"
    }
   ],
   "source": [
    "pd.value_counts(voz['Churn'])"
   ]
  },
  {
   "cell_type": "code",
   "execution_count": 5,
   "id": "81e5bb36",
   "metadata": {},
   "outputs": [
    {
     "data": {
      "text/html": [
       "<div>\n",
       "<style scoped>\n",
       "    .dataframe tbody tr th:only-of-type {\n",
       "        vertical-align: middle;\n",
       "    }\n",
       "\n",
       "    .dataframe tbody tr th {\n",
       "        vertical-align: top;\n",
       "    }\n",
       "\n",
       "    .dataframe thead th {\n",
       "        text-align: right;\n",
       "    }\n",
       "</style>\n",
       "<table border=\"1\" class=\"dataframe\">\n",
       "  <thead>\n",
       "    <tr style=\"text-align: right;\">\n",
       "      <th></th>\n",
       "      <th>Conjuge</th>\n",
       "      <th>Dependentes</th>\n",
       "      <th>TelefoneFixo</th>\n",
       "      <th>PagamentoOnline</th>\n",
       "      <th>Churn</th>\n",
       "    </tr>\n",
       "  </thead>\n",
       "  <tbody>\n",
       "    <tr>\n",
       "      <th>0</th>\n",
       "      <td>1</td>\n",
       "      <td>0</td>\n",
       "      <td>0</td>\n",
       "      <td>1</td>\n",
       "      <td>0</td>\n",
       "    </tr>\n",
       "    <tr>\n",
       "      <th>1</th>\n",
       "      <td>0</td>\n",
       "      <td>0</td>\n",
       "      <td>1</td>\n",
       "      <td>0</td>\n",
       "      <td>0</td>\n",
       "    </tr>\n",
       "    <tr>\n",
       "      <th>2</th>\n",
       "      <td>0</td>\n",
       "      <td>0</td>\n",
       "      <td>1</td>\n",
       "      <td>1</td>\n",
       "      <td>1</td>\n",
       "    </tr>\n",
       "    <tr>\n",
       "      <th>3</th>\n",
       "      <td>0</td>\n",
       "      <td>0</td>\n",
       "      <td>0</td>\n",
       "      <td>0</td>\n",
       "      <td>0</td>\n",
       "    </tr>\n",
       "    <tr>\n",
       "      <th>4</th>\n",
       "      <td>0</td>\n",
       "      <td>0</td>\n",
       "      <td>1</td>\n",
       "      <td>1</td>\n",
       "      <td>1</td>\n",
       "    </tr>\n",
       "  </tbody>\n",
       "</table>\n",
       "</div>"
      ],
      "text/plain": [
       "   Conjuge  Dependentes  TelefoneFixo  PagamentoOnline  Churn\n",
       "0        1            0             0                1      0\n",
       "1        0            0             1                0      0\n",
       "2        0            0             1                1      1\n",
       "3        0            0             0                0      0\n",
       "4        0            0             1                1      1"
      ]
     },
     "execution_count": 5,
     "metadata": {},
     "output_type": "execute_result"
    }
   ],
   "source": [
    "# Separando e tratados dados binários\n",
    "_ = {'Sim': 1, 'Nao' : 0}\n",
    "bi_data = voz[['Conjuge', 'Dependentes', 'TelefoneFixo', 'PagamentoOnline', 'Churn']].replace(_)\n",
    "bi_data.head()"
   ]
  },
  {
   "cell_type": "code",
   "execution_count": 6,
   "id": "c28ce6b1",
   "metadata": {},
   "outputs": [
    {
     "data": {
      "text/html": [
       "<div>\n",
       "<style scoped>\n",
       "    .dataframe tbody tr th:only-of-type {\n",
       "        vertical-align: middle;\n",
       "    }\n",
       "\n",
       "    .dataframe tbody tr th {\n",
       "        vertical-align: top;\n",
       "    }\n",
       "\n",
       "    .dataframe thead th {\n",
       "        text-align: right;\n",
       "    }\n",
       "</style>\n",
       "<table border=\"1\" class=\"dataframe\">\n",
       "  <thead>\n",
       "    <tr style=\"text-align: right;\">\n",
       "      <th></th>\n",
       "      <th>Maior65Anos</th>\n",
       "      <th>MesesDeContrato</th>\n",
       "      <th>ContaMensal</th>\n",
       "      <th>VariasLinhasTelefonicas_Nao</th>\n",
       "      <th>VariasLinhasTelefonicas_SemServicoTelefonico</th>\n",
       "      <th>VariasLinhasTelefonicas_Sim</th>\n",
       "      <th>ServicoDeInternet_DSL</th>\n",
       "      <th>ServicoDeInternet_FibraOptica</th>\n",
       "      <th>ServicoDeInternet_Nao</th>\n",
       "      <th>SegurancaOnline_Nao</th>\n",
       "      <th>...</th>\n",
       "      <th>StreamingDeFilmes_Nao</th>\n",
       "      <th>StreamingDeFilmes_SemServicoDeInternet</th>\n",
       "      <th>StreamingDeFilmes_Sim</th>\n",
       "      <th>TipoDeContrato_DoisAnos</th>\n",
       "      <th>TipoDeContrato_Mensalmente</th>\n",
       "      <th>TipoDeContrato_UmAno</th>\n",
       "      <th>FormaDePagamento_CartaoDeCredito</th>\n",
       "      <th>FormaDePagamento_ChequeDigital</th>\n",
       "      <th>FormaDePagamento_ChequePapel</th>\n",
       "      <th>FormaDePagamento_DebitoEmConta</th>\n",
       "    </tr>\n",
       "  </thead>\n",
       "  <tbody>\n",
       "    <tr>\n",
       "      <th>0</th>\n",
       "      <td>0</td>\n",
       "      <td>1</td>\n",
       "      <td>29.85</td>\n",
       "      <td>0</td>\n",
       "      <td>1</td>\n",
       "      <td>0</td>\n",
       "      <td>1</td>\n",
       "      <td>0</td>\n",
       "      <td>0</td>\n",
       "      <td>1</td>\n",
       "      <td>...</td>\n",
       "      <td>1</td>\n",
       "      <td>0</td>\n",
       "      <td>0</td>\n",
       "      <td>0</td>\n",
       "      <td>1</td>\n",
       "      <td>0</td>\n",
       "      <td>0</td>\n",
       "      <td>1</td>\n",
       "      <td>0</td>\n",
       "      <td>0</td>\n",
       "    </tr>\n",
       "    <tr>\n",
       "      <th>1</th>\n",
       "      <td>0</td>\n",
       "      <td>34</td>\n",
       "      <td>56.95</td>\n",
       "      <td>1</td>\n",
       "      <td>0</td>\n",
       "      <td>0</td>\n",
       "      <td>1</td>\n",
       "      <td>0</td>\n",
       "      <td>0</td>\n",
       "      <td>0</td>\n",
       "      <td>...</td>\n",
       "      <td>1</td>\n",
       "      <td>0</td>\n",
       "      <td>0</td>\n",
       "      <td>0</td>\n",
       "      <td>0</td>\n",
       "      <td>1</td>\n",
       "      <td>0</td>\n",
       "      <td>0</td>\n",
       "      <td>1</td>\n",
       "      <td>0</td>\n",
       "    </tr>\n",
       "    <tr>\n",
       "      <th>2</th>\n",
       "      <td>0</td>\n",
       "      <td>2</td>\n",
       "      <td>53.85</td>\n",
       "      <td>1</td>\n",
       "      <td>0</td>\n",
       "      <td>0</td>\n",
       "      <td>1</td>\n",
       "      <td>0</td>\n",
       "      <td>0</td>\n",
       "      <td>0</td>\n",
       "      <td>...</td>\n",
       "      <td>1</td>\n",
       "      <td>0</td>\n",
       "      <td>0</td>\n",
       "      <td>0</td>\n",
       "      <td>1</td>\n",
       "      <td>0</td>\n",
       "      <td>0</td>\n",
       "      <td>0</td>\n",
       "      <td>1</td>\n",
       "      <td>0</td>\n",
       "    </tr>\n",
       "    <tr>\n",
       "      <th>3</th>\n",
       "      <td>0</td>\n",
       "      <td>45</td>\n",
       "      <td>42.30</td>\n",
       "      <td>0</td>\n",
       "      <td>1</td>\n",
       "      <td>0</td>\n",
       "      <td>1</td>\n",
       "      <td>0</td>\n",
       "      <td>0</td>\n",
       "      <td>0</td>\n",
       "      <td>...</td>\n",
       "      <td>1</td>\n",
       "      <td>0</td>\n",
       "      <td>0</td>\n",
       "      <td>0</td>\n",
       "      <td>0</td>\n",
       "      <td>1</td>\n",
       "      <td>0</td>\n",
       "      <td>0</td>\n",
       "      <td>0</td>\n",
       "      <td>1</td>\n",
       "    </tr>\n",
       "    <tr>\n",
       "      <th>4</th>\n",
       "      <td>0</td>\n",
       "      <td>2</td>\n",
       "      <td>70.70</td>\n",
       "      <td>1</td>\n",
       "      <td>0</td>\n",
       "      <td>0</td>\n",
       "      <td>0</td>\n",
       "      <td>1</td>\n",
       "      <td>0</td>\n",
       "      <td>1</td>\n",
       "      <td>...</td>\n",
       "      <td>1</td>\n",
       "      <td>0</td>\n",
       "      <td>0</td>\n",
       "      <td>0</td>\n",
       "      <td>1</td>\n",
       "      <td>0</td>\n",
       "      <td>0</td>\n",
       "      <td>1</td>\n",
       "      <td>0</td>\n",
       "      <td>0</td>\n",
       "    </tr>\n",
       "  </tbody>\n",
       "</table>\n",
       "<p>5 rows × 34 columns</p>\n",
       "</div>"
      ],
      "text/plain": [
       "   Maior65Anos  MesesDeContrato  ContaMensal  VariasLinhasTelefonicas_Nao  \\\n",
       "0            0                1        29.85                            0   \n",
       "1            0               34        56.95                            1   \n",
       "2            0                2        53.85                            1   \n",
       "3            0               45        42.30                            0   \n",
       "4            0                2        70.70                            1   \n",
       "\n",
       "   VariasLinhasTelefonicas_SemServicoTelefonico  VariasLinhasTelefonicas_Sim  \\\n",
       "0                                             1                            0   \n",
       "1                                             0                            0   \n",
       "2                                             0                            0   \n",
       "3                                             1                            0   \n",
       "4                                             0                            0   \n",
       "\n",
       "   ServicoDeInternet_DSL  ServicoDeInternet_FibraOptica  \\\n",
       "0                      1                              0   \n",
       "1                      1                              0   \n",
       "2                      1                              0   \n",
       "3                      1                              0   \n",
       "4                      0                              1   \n",
       "\n",
       "   ServicoDeInternet_Nao  SegurancaOnline_Nao  ...  StreamingDeFilmes_Nao  \\\n",
       "0                      0                    1  ...                      1   \n",
       "1                      0                    0  ...                      1   \n",
       "2                      0                    0  ...                      1   \n",
       "3                      0                    0  ...                      1   \n",
       "4                      0                    1  ...                      1   \n",
       "\n",
       "   StreamingDeFilmes_SemServicoDeInternet  StreamingDeFilmes_Sim  \\\n",
       "0                                       0                      0   \n",
       "1                                       0                      0   \n",
       "2                                       0                      0   \n",
       "3                                       0                      0   \n",
       "4                                       0                      0   \n",
       "\n",
       "   TipoDeContrato_DoisAnos  TipoDeContrato_Mensalmente  TipoDeContrato_UmAno  \\\n",
       "0                        0                           1                     0   \n",
       "1                        0                           0                     1   \n",
       "2                        0                           1                     0   \n",
       "3                        0                           0                     1   \n",
       "4                        0                           1                     0   \n",
       "\n",
       "   FormaDePagamento_CartaoDeCredito  FormaDePagamento_ChequeDigital  \\\n",
       "0                                 0                               1   \n",
       "1                                 0                               0   \n",
       "2                                 0                               0   \n",
       "3                                 0                               0   \n",
       "4                                 0                               1   \n",
       "\n",
       "   FormaDePagamento_ChequePapel  FormaDePagamento_DebitoEmConta  \n",
       "0                             0                               0  \n",
       "1                             1                               0  \n",
       "2                             1                               0  \n",
       "3                             0                               1  \n",
       "4                             0                               0  \n",
       "\n",
       "[5 rows x 34 columns]"
      ]
     },
     "execution_count": 6,
     "metadata": {},
     "output_type": "execute_result"
    }
   ],
   "source": [
    "# Transformando valores categóricos em variáveis binárias\n",
    "_ = voz.drop(columns=['Conjuge', 'Dependentes', 'TelefoneFixo', 'PagamentoOnline', 'Churn'])\n",
    "dummies_data = pd.get_dummies(_)\n",
    "dummies_data.head()"
   ]
  },
  {
   "cell_type": "code",
   "execution_count": 7,
   "id": "f34dfcbe",
   "metadata": {},
   "outputs": [
    {
     "data": {
      "text/html": [
       "<div>\n",
       "<style scoped>\n",
       "    .dataframe tbody tr th:only-of-type {\n",
       "        vertical-align: middle;\n",
       "    }\n",
       "\n",
       "    .dataframe tbody tr th {\n",
       "        vertical-align: top;\n",
       "    }\n",
       "\n",
       "    .dataframe thead th {\n",
       "        text-align: right;\n",
       "    }\n",
       "</style>\n",
       "<table border=\"1\" class=\"dataframe\">\n",
       "  <thead>\n",
       "    <tr style=\"text-align: right;\">\n",
       "      <th></th>\n",
       "      <th>Conjuge</th>\n",
       "      <th>Dependentes</th>\n",
       "      <th>TelefoneFixo</th>\n",
       "      <th>PagamentoOnline</th>\n",
       "      <th>Churn</th>\n",
       "      <th>Maior65Anos</th>\n",
       "      <th>MesesDeContrato</th>\n",
       "      <th>ContaMensal</th>\n",
       "      <th>VariasLinhasTelefonicas_Nao</th>\n",
       "      <th>VariasLinhasTelefonicas_SemServicoTelefonico</th>\n",
       "      <th>...</th>\n",
       "      <th>StreamingDeFilmes_Nao</th>\n",
       "      <th>StreamingDeFilmes_SemServicoDeInternet</th>\n",
       "      <th>StreamingDeFilmes_Sim</th>\n",
       "      <th>TipoDeContrato_DoisAnos</th>\n",
       "      <th>TipoDeContrato_Mensalmente</th>\n",
       "      <th>TipoDeContrato_UmAno</th>\n",
       "      <th>FormaDePagamento_CartaoDeCredito</th>\n",
       "      <th>FormaDePagamento_ChequeDigital</th>\n",
       "      <th>FormaDePagamento_ChequePapel</th>\n",
       "      <th>FormaDePagamento_DebitoEmConta</th>\n",
       "    </tr>\n",
       "  </thead>\n",
       "  <tbody>\n",
       "    <tr>\n",
       "      <th>0</th>\n",
       "      <td>1</td>\n",
       "      <td>0</td>\n",
       "      <td>0</td>\n",
       "      <td>1</td>\n",
       "      <td>0</td>\n",
       "      <td>0</td>\n",
       "      <td>1</td>\n",
       "      <td>29.85</td>\n",
       "      <td>0</td>\n",
       "      <td>1</td>\n",
       "      <td>...</td>\n",
       "      <td>1</td>\n",
       "      <td>0</td>\n",
       "      <td>0</td>\n",
       "      <td>0</td>\n",
       "      <td>1</td>\n",
       "      <td>0</td>\n",
       "      <td>0</td>\n",
       "      <td>1</td>\n",
       "      <td>0</td>\n",
       "      <td>0</td>\n",
       "    </tr>\n",
       "    <tr>\n",
       "      <th>1</th>\n",
       "      <td>0</td>\n",
       "      <td>0</td>\n",
       "      <td>1</td>\n",
       "      <td>0</td>\n",
       "      <td>0</td>\n",
       "      <td>0</td>\n",
       "      <td>34</td>\n",
       "      <td>56.95</td>\n",
       "      <td>1</td>\n",
       "      <td>0</td>\n",
       "      <td>...</td>\n",
       "      <td>1</td>\n",
       "      <td>0</td>\n",
       "      <td>0</td>\n",
       "      <td>0</td>\n",
       "      <td>0</td>\n",
       "      <td>1</td>\n",
       "      <td>0</td>\n",
       "      <td>0</td>\n",
       "      <td>1</td>\n",
       "      <td>0</td>\n",
       "    </tr>\n",
       "    <tr>\n",
       "      <th>2</th>\n",
       "      <td>0</td>\n",
       "      <td>0</td>\n",
       "      <td>1</td>\n",
       "      <td>1</td>\n",
       "      <td>1</td>\n",
       "      <td>0</td>\n",
       "      <td>2</td>\n",
       "      <td>53.85</td>\n",
       "      <td>1</td>\n",
       "      <td>0</td>\n",
       "      <td>...</td>\n",
       "      <td>1</td>\n",
       "      <td>0</td>\n",
       "      <td>0</td>\n",
       "      <td>0</td>\n",
       "      <td>1</td>\n",
       "      <td>0</td>\n",
       "      <td>0</td>\n",
       "      <td>0</td>\n",
       "      <td>1</td>\n",
       "      <td>0</td>\n",
       "    </tr>\n",
       "    <tr>\n",
       "      <th>3</th>\n",
       "      <td>0</td>\n",
       "      <td>0</td>\n",
       "      <td>0</td>\n",
       "      <td>0</td>\n",
       "      <td>0</td>\n",
       "      <td>0</td>\n",
       "      <td>45</td>\n",
       "      <td>42.30</td>\n",
       "      <td>0</td>\n",
       "      <td>1</td>\n",
       "      <td>...</td>\n",
       "      <td>1</td>\n",
       "      <td>0</td>\n",
       "      <td>0</td>\n",
       "      <td>0</td>\n",
       "      <td>0</td>\n",
       "      <td>1</td>\n",
       "      <td>0</td>\n",
       "      <td>0</td>\n",
       "      <td>0</td>\n",
       "      <td>1</td>\n",
       "    </tr>\n",
       "    <tr>\n",
       "      <th>4</th>\n",
       "      <td>0</td>\n",
       "      <td>0</td>\n",
       "      <td>1</td>\n",
       "      <td>1</td>\n",
       "      <td>1</td>\n",
       "      <td>0</td>\n",
       "      <td>2</td>\n",
       "      <td>70.70</td>\n",
       "      <td>1</td>\n",
       "      <td>0</td>\n",
       "      <td>...</td>\n",
       "      <td>1</td>\n",
       "      <td>0</td>\n",
       "      <td>0</td>\n",
       "      <td>0</td>\n",
       "      <td>1</td>\n",
       "      <td>0</td>\n",
       "      <td>0</td>\n",
       "      <td>1</td>\n",
       "      <td>0</td>\n",
       "      <td>0</td>\n",
       "    </tr>\n",
       "  </tbody>\n",
       "</table>\n",
       "<p>5 rows × 39 columns</p>\n",
       "</div>"
      ],
      "text/plain": [
       "   Conjuge  Dependentes  TelefoneFixo  PagamentoOnline  Churn  Maior65Anos  \\\n",
       "0        1            0             0                1      0            0   \n",
       "1        0            0             1                0      0            0   \n",
       "2        0            0             1                1      1            0   \n",
       "3        0            0             0                0      0            0   \n",
       "4        0            0             1                1      1            0   \n",
       "\n",
       "   MesesDeContrato  ContaMensal  VariasLinhasTelefonicas_Nao  \\\n",
       "0                1        29.85                            0   \n",
       "1               34        56.95                            1   \n",
       "2                2        53.85                            1   \n",
       "3               45        42.30                            0   \n",
       "4                2        70.70                            1   \n",
       "\n",
       "   VariasLinhasTelefonicas_SemServicoTelefonico  ...  StreamingDeFilmes_Nao  \\\n",
       "0                                             1  ...                      1   \n",
       "1                                             0  ...                      1   \n",
       "2                                             0  ...                      1   \n",
       "3                                             1  ...                      1   \n",
       "4                                             0  ...                      1   \n",
       "\n",
       "   StreamingDeFilmes_SemServicoDeInternet  StreamingDeFilmes_Sim  \\\n",
       "0                                       0                      0   \n",
       "1                                       0                      0   \n",
       "2                                       0                      0   \n",
       "3                                       0                      0   \n",
       "4                                       0                      0   \n",
       "\n",
       "   TipoDeContrato_DoisAnos  TipoDeContrato_Mensalmente  TipoDeContrato_UmAno  \\\n",
       "0                        0                           1                     0   \n",
       "1                        0                           0                     1   \n",
       "2                        0                           1                     0   \n",
       "3                        0                           0                     1   \n",
       "4                        0                           1                     0   \n",
       "\n",
       "   FormaDePagamento_CartaoDeCredito  FormaDePagamento_ChequeDigital  \\\n",
       "0                                 0                               1   \n",
       "1                                 0                               0   \n",
       "2                                 0                               0   \n",
       "3                                 0                               0   \n",
       "4                                 0                               1   \n",
       "\n",
       "   FormaDePagamento_ChequePapel  FormaDePagamento_DebitoEmConta  \n",
       "0                             0                               0  \n",
       "1                             1                               0  \n",
       "2                             1                               0  \n",
       "3                             0                               1  \n",
       "4                             0                               0  \n",
       "\n",
       "[5 rows x 39 columns]"
      ]
     },
     "execution_count": 7,
     "metadata": {},
     "output_type": "execute_result"
    }
   ],
   "source": [
    "# Gerando a base de dados final para treino do modelo\n",
    "voz = pd.concat([bi_data, dummies_data], axis=1)\n",
    "voz.head()"
   ]
  },
  {
   "cell_type": "code",
   "execution_count": 8,
   "id": "c4bf115f",
   "metadata": {},
   "outputs": [
    {
     "name": "stdout",
     "output_type": "stream",
     "text": [
      "<class 'pandas.core.frame.DataFrame'>\n",
      "RangeIndex: 7043 entries, 0 to 7042\n",
      "Data columns (total 39 columns):\n",
      " #   Column                                        Non-Null Count  Dtype  \n",
      "---  ------                                        --------------  -----  \n",
      " 0   Conjuge                                       7043 non-null   int64  \n",
      " 1   Dependentes                                   7043 non-null   int64  \n",
      " 2   TelefoneFixo                                  7043 non-null   int64  \n",
      " 3   PagamentoOnline                               7043 non-null   int64  \n",
      " 4   Churn                                         7043 non-null   int64  \n",
      " 5   Maior65Anos                                   7043 non-null   int64  \n",
      " 6   MesesDeContrato                               7043 non-null   int64  \n",
      " 7   ContaMensal                                   7043 non-null   float64\n",
      " 8   VariasLinhasTelefonicas_Nao                   7043 non-null   uint8  \n",
      " 9   VariasLinhasTelefonicas_SemServicoTelefonico  7043 non-null   uint8  \n",
      " 10  VariasLinhasTelefonicas_Sim                   7043 non-null   uint8  \n",
      " 11  ServicoDeInternet_DSL                         7043 non-null   uint8  \n",
      " 12  ServicoDeInternet_FibraOptica                 7043 non-null   uint8  \n",
      " 13  ServicoDeInternet_Nao                         7043 non-null   uint8  \n",
      " 14  SegurancaOnline_Nao                           7043 non-null   uint8  \n",
      " 15  SegurancaOnline_SemServicoDeInternet          7043 non-null   uint8  \n",
      " 16  SegurancaOnline_Sim                           7043 non-null   uint8  \n",
      " 17  BackupOnline_Nao                              7043 non-null   uint8  \n",
      " 18  BackupOnline_SemServicoDeInternet             7043 non-null   uint8  \n",
      " 19  BackupOnline_Sim                              7043 non-null   uint8  \n",
      " 20  SeguroNoDispositivo_Nao                       7043 non-null   uint8  \n",
      " 21  SeguroNoDispositivo_SemServicoDeInternet      7043 non-null   uint8  \n",
      " 22  SeguroNoDispositivo_Sim                       7043 non-null   uint8  \n",
      " 23  SuporteTecnico_Nao                            7043 non-null   uint8  \n",
      " 24  SuporteTecnico_SemServicoDeInternet           7043 non-null   uint8  \n",
      " 25  SuporteTecnico_Sim                            7043 non-null   uint8  \n",
      " 26  TVaCabo_Nao                                   7043 non-null   uint8  \n",
      " 27  TVaCabo_SemServicoDeInternet                  7043 non-null   uint8  \n",
      " 28  TVaCabo_Sim                                   7043 non-null   uint8  \n",
      " 29  StreamingDeFilmes_Nao                         7043 non-null   uint8  \n",
      " 30  StreamingDeFilmes_SemServicoDeInternet        7043 non-null   uint8  \n",
      " 31  StreamingDeFilmes_Sim                         7043 non-null   uint8  \n",
      " 32  TipoDeContrato_DoisAnos                       7043 non-null   uint8  \n",
      " 33  TipoDeContrato_Mensalmente                    7043 non-null   uint8  \n",
      " 34  TipoDeContrato_UmAno                          7043 non-null   uint8  \n",
      " 35  FormaDePagamento_CartaoDeCredito              7043 non-null   uint8  \n",
      " 36  FormaDePagamento_ChequeDigital                7043 non-null   uint8  \n",
      " 37  FormaDePagamento_ChequePapel                  7043 non-null   uint8  \n",
      " 38  FormaDePagamento_DebitoEmConta                7043 non-null   uint8  \n",
      "dtypes: float64(1), int64(7), uint8(31)\n",
      "memory usage: 653.5 KB\n"
     ]
    }
   ],
   "source": [
    "voz.info()"
   ]
  },
  {
   "cell_type": "markdown",
   "id": "c20daa41",
   "metadata": {},
   "source": [
    "# 2 - Aprendizado de Máquina"
   ]
  },
  {
   "cell_type": "markdown",
   "id": "57e938bb",
   "metadata": {},
   "source": [
    "## 2.1 - Modelo KNeighborsClassifier\n",
    "\n",
    "O K-Nearest Neighbors (KNN) é um algoritmo de aprendizado de máquina supervisionado utilizado para classificação e regressão. Ele é um dos algoritmos mais simples de serem entendidos e implementados.\n",
    "\n",
    "A ideia principal por trás do KNN é que ele classifica ou faz predições com base na proximidade dos dados em um espaço de características. O algoritmo é chamado de \"K-Nearest Neighbors\" porque ele considera os K vizinhos mais próximos de um dado de entrada (ponto) para tomar uma decisão.\n",
    "\n",
    "Aqui está uma explicação passo a passo de como o KNN funciona:\n",
    "\n",
    "**Treinamento**: Durante a fase de treinamento do KNN, o algoritmo simplesmente armazena os dados de treinamento no conjunto de dados. Não há um processo de treinamento complexo ou cálculos de parâmetros como em outros algoritmos de aprendizado de máquina. O KNN é um algoritmo baseado em instância, o que significa que ele memoriza todos os dados de treinamento para serem usados posteriormente na fase de teste.\n",
    "\n",
    "**Seleção de características e medida de distância**: O KNN usa um conjunto de características para medir a distância entre os pontos de dados. É importante escolher um conjunto adequado de características relevantes para o problema em questão, pois isso afetará a precisão do algoritmo. A medida de distância mais comumente usada é a distância Euclidiana, mas também é possível usar outras medidas de distância, como a distância de Manhattan ou a distância de Minkowski.\n",
    "\n",
    "**Classificação ou predição**: Na fase de teste, o KNN recebe um novo ponto de entrada e calcula a distância dele em relação aos pontos de treinamento. Ele então seleciona os K pontos de treinamento mais próximos (os K vizinhos mais próximos) com base na medida de distância escolhida. A classe (ou valor de regressão) do novo ponto de entrada é determinada pela classe (ou valor de regressão) mais frequente entre os K vizinhos mais próximos. No caso de classificação, o KNN atribui a nova entrada à classe mais comum entre os vizinhos mais próximos. No caso de regressão, o KNN faz uma média dos valores de regressão dos K vizinhos mais próximos para estimar o valor de regressão da nova entrada.\n",
    "\n",
    "**Escolha do valor de K**: A escolha do valor de K é importante no KNN, pois pode afetar a precisão do algoritmo. Um valor de K muito pequeno pode levar a uma classificação ou predição instável, enquanto um valor de K muito grande pode levar a uma perda de detalhes e informações locais. A escolha do valor de K geralmente é feita empiricamente ou usando técnicas de validação cruzada para encontrar o valor ótimo.\n",
    "\n",
    "Em resumo, o KNN é um algoritmo simples e intuitivo que se baseia na proximidade dos dados para fazer classificação ou predição. Ele é amplamente utilizado em problemas de classificação e regressão, mas também tem algumas limitações, como a sensibilidade a ruídos e a necessidade de escolher adequadamente o valor de K.\n",
    "\n",
    "\n",
    "![KNN](https://www.theclickreader.com/wp-content/uploads/2020/08/23-1024x576.png)"
   ]
  },
  {
   "cell_type": "code",
   "execution_count": 9,
   "id": "c434ec0a",
   "metadata": {},
   "outputs": [],
   "source": [
    "# Separando dados entra extrada e saída\n",
    "x = voz.drop(columns=['Churn'])\n",
    "y = voz['Churn']"
   ]
  },
  {
   "cell_type": "code",
   "execution_count": 10,
   "id": "0b67d773",
   "metadata": {},
   "outputs": [],
   "source": [
    "# Definindo os dados de um novo cliente\n",
    "new_client = [[0,0,1,1,0,0,39.90,1,0,0,0,1,0,1,0,0,0,0,1,1,1,0,0,1,0,1,0,0,0,0,1,0,0,1,0,0,0,1]]"
   ]
  },
  {
   "cell_type": "code",
   "execution_count": 12,
   "id": "1720c2bb",
   "metadata": {},
   "outputs": [],
   "source": [
    "# Normalizando a base de dados\n",
    "from sklearn.preprocessing import StandardScaler\n",
    "\n",
    "scaler = StandardScaler()\n",
    "\n",
    "scaler.fit(x)\n",
    "\n",
    "x_norm = scaler.transform(x)\n",
    "new_client = scaler.transform(new_client)"
   ]
  },
  {
   "cell_type": "markdown",
   "id": "69d5be99",
   "metadata": {},
   "source": [
    "<font size=6> $$ Z = \\frac{x - \\mu}{\\sigma} $$"
   ]
  },
  {
   "cell_type": "code",
   "execution_count": 15,
   "id": "abe4c584",
   "metadata": {},
   "outputs": [],
   "source": [
    "# Definindo pontos para calcular a distância\n",
    "point_a = x_norm[0]\n",
    "point_b = new_client"
   ]
  },
  {
   "cell_type": "markdown",
   "id": "f2ed89cf",
   "metadata": {},
   "source": [
    "<font size=5> $$d(\\mathbf{p}, \\mathbf{q}) = \\sqrt{\\sum_{i=1}^{N} (p_i - q_i)^2}$$ </font>"
   ]
  },
  {
   "cell_type": "code",
   "execution_count": 16,
   "id": "319aca75",
   "metadata": {},
   "outputs": [
    {
     "data": {
      "text/plain": [
       "9.169282435541762"
      ]
     },
     "execution_count": 16,
     "metadata": {},
     "output_type": "execute_result"
    }
   ],
   "source": [
    "# Distância do novo cliente para o cliente de index 0 \n",
    "np.sqrt(np.sum(np.square(point_a - point_b)))"
   ]
  },
  {
   "cell_type": "code",
   "execution_count": 17,
   "id": "1bf118ef",
   "metadata": {},
   "outputs": [
    {
     "data": {
      "text/html": [
       "<div>\n",
       "<style scoped>\n",
       "    .dataframe tbody tr th:only-of-type {\n",
       "        vertical-align: middle;\n",
       "    }\n",
       "\n",
       "    .dataframe tbody tr th {\n",
       "        vertical-align: top;\n",
       "    }\n",
       "\n",
       "    .dataframe thead th {\n",
       "        text-align: right;\n",
       "    }\n",
       "</style>\n",
       "<table border=\"1\" class=\"dataframe\">\n",
       "  <thead>\n",
       "    <tr style=\"text-align: right;\">\n",
       "      <th></th>\n",
       "      <th>distances</th>\n",
       "      <th>index</th>\n",
       "      <th>target</th>\n",
       "    </tr>\n",
       "  </thead>\n",
       "  <tbody>\n",
       "    <tr>\n",
       "      <th>0</th>\n",
       "      <td>9.169282</td>\n",
       "      <td>0</td>\n",
       "      <td>0</td>\n",
       "    </tr>\n",
       "    <tr>\n",
       "      <th>1</th>\n",
       "      <td>8.742314</td>\n",
       "      <td>1</td>\n",
       "      <td>0</td>\n",
       "    </tr>\n",
       "    <tr>\n",
       "      <th>2</th>\n",
       "      <td>7.961048</td>\n",
       "      <td>2</td>\n",
       "      <td>1</td>\n",
       "    </tr>\n",
       "    <tr>\n",
       "      <th>3</th>\n",
       "      <td>9.683687</td>\n",
       "      <td>3</td>\n",
       "      <td>0</td>\n",
       "    </tr>\n",
       "    <tr>\n",
       "      <th>4</th>\n",
       "      <td>7.357567</td>\n",
       "      <td>4</td>\n",
       "      <td>1</td>\n",
       "    </tr>\n",
       "  </tbody>\n",
       "</table>\n",
       "</div>"
      ],
      "text/plain": [
       "   distances  index  target\n",
       "0   9.169282      0       0\n",
       "1   8.742314      1       0\n",
       "2   7.961048      2       1\n",
       "3   9.683687      3       0\n",
       "4   7.357567      4       1"
      ]
     },
     "execution_count": 17,
     "metadata": {},
     "output_type": "execute_result"
    }
   ],
   "source": [
    "# Calculando a distância para cada cliente na base de dados\n",
    "def euclidean_distance(point_a, point_b):\n",
    "    return np.sqrt(np.sum(np.square(point_a - point_b)))\n",
    "\n",
    "distances = []\n",
    "for client in x_norm:\n",
    "    distance = euclidean_distance(client, new_client)\n",
    "    distances.append(distance)\n",
    "\n",
    "distances = pd.DataFrame(zip(distances, range(0, len(distances), 1)))\n",
    "distances.columns = ['distances', 'index']\n",
    "distances['target'] = y \n",
    "distances.head()"
   ]
  },
  {
   "cell_type": "code",
   "execution_count": 18,
   "id": "ebf3d0b0",
   "metadata": {},
   "outputs": [
    {
     "data": {
      "text/html": [
       "<div>\n",
       "<style scoped>\n",
       "    .dataframe tbody tr th:only-of-type {\n",
       "        vertical-align: middle;\n",
       "    }\n",
       "\n",
       "    .dataframe tbody tr th {\n",
       "        vertical-align: top;\n",
       "    }\n",
       "\n",
       "    .dataframe thead th {\n",
       "        text-align: right;\n",
       "    }\n",
       "</style>\n",
       "<table border=\"1\" class=\"dataframe\">\n",
       "  <thead>\n",
       "    <tr style=\"text-align: right;\">\n",
       "      <th></th>\n",
       "      <th>distances</th>\n",
       "      <th>index</th>\n",
       "      <th>target</th>\n",
       "    </tr>\n",
       "  </thead>\n",
       "  <tbody>\n",
       "    <tr>\n",
       "      <th>907</th>\n",
       "      <td>5.142441</td>\n",
       "      <td>907</td>\n",
       "      <td>0</td>\n",
       "    </tr>\n",
       "    <tr>\n",
       "      <th>205</th>\n",
       "      <td>5.348893</td>\n",
       "      <td>205</td>\n",
       "      <td>0</td>\n",
       "    </tr>\n",
       "    <tr>\n",
       "      <th>4422</th>\n",
       "      <td>5.410621</td>\n",
       "      <td>4422</td>\n",
       "      <td>0</td>\n",
       "    </tr>\n",
       "    <tr>\n",
       "      <th>3744</th>\n",
       "      <td>5.553469</td>\n",
       "      <td>3744</td>\n",
       "      <td>0</td>\n",
       "    </tr>\n",
       "    <tr>\n",
       "      <th>758</th>\n",
       "      <td>5.774714</td>\n",
       "      <td>758</td>\n",
       "      <td>1</td>\n",
       "    </tr>\n",
       "  </tbody>\n",
       "</table>\n",
       "</div>"
      ],
      "text/plain": [
       "      distances  index  target\n",
       "907    5.142441    907       0\n",
       "205    5.348893    205       0\n",
       "4422   5.410621   4422       0\n",
       "3744   5.553469   3744       0\n",
       "758    5.774714    758       1"
      ]
     },
     "execution_count": 18,
     "metadata": {},
     "output_type": "execute_result"
    }
   ],
   "source": [
    "# Os 5 clientes mais próximos\n",
    "distances.sort_values(by='distances')[:5]"
   ]
  },
  {
   "cell_type": "code",
   "execution_count": 19,
   "id": "fb617225",
   "metadata": {},
   "outputs": [],
   "source": [
    "# Separando dados entre treino e teste\n",
    "from sklearn.model_selection import train_test_split\n",
    "\n",
    "x_train, x_test, y_train, y_test = train_test_split(x_norm, y, test_size=0.25)"
   ]
  },
  {
   "cell_type": "code",
   "execution_count": 21,
   "id": "51f5d58c",
   "metadata": {},
   "outputs": [
    {
     "data": {
      "text/plain": [
       "array([0])"
      ]
     },
     "execution_count": 21,
     "metadata": {},
     "output_type": "execute_result"
    }
   ],
   "source": [
    "# Predizendo a classe do novo cliente\n",
    "from sklearn.neighbors import KNeighborsClassifier\n",
    "\n",
    "knn = KNeighborsClassifier(n_neighbors=3, metric='euclidean')\n",
    "\n",
    "knn.fit(x_train, y_train)\n",
    "\n",
    "knn.predict(new_client)"
   ]
  },
  {
   "cell_type": "code",
   "execution_count": 22,
   "id": "e0a36b3c",
   "metadata": {},
   "outputs": [
    {
     "name": "stdout",
     "output_type": "stream",
     "text": [
      "Tamanho dos dados de treino: 5282\n",
      "Tamanho dos dados de teste: 1761\n",
      "A acurácia do modelo KNeighborsClassifier foi de 73.76%\n"
     ]
    }
   ],
   "source": [
    "# Acurácia em todos os dados de teste\n",
    "from sklearn.metrics import accuracy_score\n",
    "\n",
    "y_pred = knn.predict(x_test)\n",
    "accuracy = accuracy_score(y_pred, y_test)\n",
    "\n",
    "print('Tamanho dos dados de treino: %d' % len(x_train))\n",
    "print('Tamanho dos dados de teste: %d' % len(x_test))\n",
    "print('A acurácia do modelo KNeighborsClassifier foi de %.2f%%' % (accuracy * 100))"
   ]
  },
  {
   "cell_type": "markdown",
   "id": "a8996346",
   "metadata": {},
   "source": [
    "## 2.2 - Modelo Baseado no Teorema de Naive Bayes\n",
    "O Teorema de Naive Bayes é um algoritmo de aprendizado de máquina que é usado para classificação de dados. Ele é baseado na aplicação do teorema de Bayes, que é uma fórmula matemática que nos permite calcular a probabilidade de um evento ocorrer, dado que outro evento já ocorreu.\n",
    "\n",
    "O \"naive\" em Naive Bayes se refere a uma suposição simplificada que o algoritmo faz, que é a de que as características dos dados são independentes entre si. Isso significa que o valor de uma característica não é influenciado pelo valor de outra característica, o que nem sempre é verdade em situações do mundo real. Apesar dessa suposição simplificada, o Naive Bayes pode ser surpreendentemente eficaz em muitos cenários de classificação de dados.\n",
    "\n",
    "Em termos simples, o Teorema de Naive Bayes é usado para calcular a probabilidade de um dado ponto de dados pertencer a uma determinada classe, com base na probabilidade das características desse dado ponto de dados ocorrerem em cada classe. É usado para classificar dados em categorias com base na probabilidade de ocorrência dessas categorias, dadas as características dos dados. É amplamente utilizado em tarefas de classificação de texto, como análise de sentimentos, detecção de spam e categorização de notícias, entre outras aplicações."
   ]
  },
  {
   "cell_type": "markdown",
   "id": "4d8824f9",
   "metadata": {},
   "source": [
    "<font size=5> $$P(B|A) = \\frac{P(B) \\cdot P(A|B)}{P(A)}$$"
   ]
  },
  {
   "cell_type": "code",
   "execution_count": 23,
   "id": "15cfd525",
   "metadata": {},
   "outputs": [],
   "source": [
    "# Separando dados entre treino e teste\n",
    "from sklearn.model_selection import train_test_split\n",
    "\n",
    "x_train, x_test, y_train, y_test = train_test_split(x_norm, y, test_size=0.25)"
   ]
  },
  {
   "cell_type": "code",
   "execution_count": 24,
   "id": "4b933291",
   "metadata": {},
   "outputs": [
    {
     "data": {
      "text/plain": [
       "array([0])"
      ]
     },
     "execution_count": 24,
     "metadata": {},
     "output_type": "execute_result"
    }
   ],
   "source": [
    "from sklearn.naive_bayes import BernoulliNB\n",
    "\n",
    "bnb = BernoulliNB(binarize=abs(np.median(x_train)))\n",
    "\n",
    "bnb.fit(x_train, y_train)\n",
    "\n",
    "bnb.predict(new_client)"
   ]
  },
  {
   "cell_type": "code",
   "execution_count": 25,
   "id": "0cd98f41",
   "metadata": {},
   "outputs": [
    {
     "name": "stdout",
     "output_type": "stream",
     "text": [
      "Tamanho dos dados de treino: 5282\n",
      "Tamanho dos dados de teste: 1761\n",
      "A acurácia do modelo KNeighborsClassifier foi de 72.29%\n"
     ]
    }
   ],
   "source": [
    "from sklearn.metrics import accuracy_score\n",
    "\n",
    "y_pred = bnb.predict(x_test)\n",
    "accuracy = accuracy_score(y_pred, y_test)\n",
    "\n",
    "print('Tamanho dos dados de treino: %d' % len(x_train))\n",
    "print('Tamanho dos dados de teste: %d' % len(x_test))\n",
    "print('A acurácia do modelo KNeighborsClassifier foi de %.2f%%' % (accuracy * 100))"
   ]
  },
  {
   "cell_type": "markdown",
   "id": "7576f415",
   "metadata": {},
   "source": [
    "## 2.3 - Modelo de Árvore de Decisão"
   ]
  },
  {
   "cell_type": "markdown",
   "id": "58796eac",
   "metadata": {},
   "source": [
    "A árvore de decisão é um método de análise de dados que é usado para tomar decisões ou fazer previsões com base em regras de decisão hierárquicas. É uma técnica de aprendizado de máquina supervisionado que pode ser usada tanto para problemas de classificação quanto de regressão.\n",
    "\n",
    "A construção de uma árvore de decisão envolve dividir os dados de treinamento em subconjuntos com base nos valores dos atributos, seguindo uma estrutura de árvore. A cada passo, o algoritmo de árvore de decisão seleciona o atributo mais relevante para dividir os dados em subconjuntos, com base em uma métrica de impureza, como a entropia ou o índice de Gini. A ideia é dividir os dados de forma a criar subconjuntos mais homogêneos em relação à classe de destino (no caso de classificação) ou à variável de destino (no caso de regressão).\n",
    "\n",
    "Essa divisão é repetida recursivamente até que sejam alcançados critérios de parada, como profundidade máxima da árvore ou número mínimo de amostras em um nó. A árvore de decisão resultante é uma estrutura hierárquica de nós, onde cada nó representa uma decisão com base em um atributo, e as folhas da árvore representam as classes ou os valores de regressão previstos.\n",
    "\n",
    "Uma vez que a árvore de decisão tenha sido construída, ela pode ser usada para fazer previsões em novos dados, seguindo as decisões tomadas em cada nó da árvore até chegar a uma folha, onde a classe ou valor de regressão é previsto.\n",
    "\n",
    "As árvores de decisão são populares porque são fáceis de interpretar e visualizar, e podem ser aplicadas a uma ampla variedade de problemas. No entanto, assim como as árvores de cisão, as árvores de decisão podem ser suscetíveis a overfitting, e técnicas de melhoria, como a poda de árvore ou o uso de variantes como o Random Forest e o Gradient Boosting, podem ser aplicadas para melhorar seu desempenho."
   ]
  },
  {
   "cell_type": "markdown",
   "id": "43cf922e",
   "metadata": {},
   "source": [
    "![Árvore de Decisão](https://lh4.googleusercontent.com/gLv2IKMo4gpmcNSw-C4FuPOoL9rwsFF0k1_naUf9AxnXRzYKLrFvdzoO81qWmpLA2CiP55Uxks3JIBzWBXcvkLODdKoQ1emKNZKyhU1iKQjSFGDT6l9-RCTYNth9mt2_VhOzolI)"
   ]
  },
  {
   "cell_type": "code",
   "execution_count": 26,
   "id": "f39b7114",
   "metadata": {},
   "outputs": [],
   "source": [
    "# Separando dados entre treino e teste\n",
    "from sklearn.model_selection import train_test_split\n",
    "\n",
    "x_train, x_test, y_train, y_test = train_test_split(x_norm, y, test_size=0.25)"
   ]
  },
  {
   "cell_type": "code",
   "execution_count": 36,
   "id": "0586d515",
   "metadata": {},
   "outputs": [
    {
     "data": {
      "text/plain": [
       "array([0])"
      ]
     },
     "execution_count": 36,
     "metadata": {},
     "output_type": "execute_result"
    }
   ],
   "source": [
    "from sklearn.tree import DecisionTreeClassifier\n",
    "\n",
    "dtc = DecisionTreeClassifier(max_depth=2)\n",
    "\n",
    "dtc.fit(x_train, y_train)\n",
    "\n",
    "dtc.predict(new_client)"
   ]
  },
  {
   "cell_type": "code",
   "execution_count": 37,
   "id": "22458e17",
   "metadata": {},
   "outputs": [
    {
     "name": "stdout",
     "output_type": "stream",
     "text": [
      "Tamanho dos dados de treino: 5282\n",
      "Tamanho dos dados de teste: 1761\n",
      "A acurácia do modelo KNeighborsClassifier foi de 75.81%\n"
     ]
    }
   ],
   "source": [
    "from sklearn.metrics import accuracy_score\n",
    "\n",
    "y_pred = dtc.predict(x_test)\n",
    "accuracy = accuracy_score(y_pred, y_test)\n",
    "\n",
    "print('Tamanho dos dados de treino: %d' % len(x_train))\n",
    "print('Tamanho dos dados de teste: %d' % len(x_test))\n",
    "print('A acurácia do modelo KNeighborsClassifier foi de %.2f%%' % (accuracy * 100))"
   ]
  },
  {
   "cell_type": "markdown",
   "id": "1e33abb9",
   "metadata": {},
   "source": [
    "# 3 - Métricas de Validação"
   ]
  },
  {
   "cell_type": "markdown",
   "id": "983240fd",
   "metadata": {},
   "source": [
    "## 3.1 - Matriz de Confusão\n",
    "\n",
    "![Matriz de Confusão](https://diegonogare.net/wp-content/uploads/2020/04/matrizConfusao-600x381.png)"
   ]
  },
  {
   "cell_type": "code",
   "execution_count": 39,
   "id": "0ae2c4a5",
   "metadata": {},
   "outputs": [
    {
     "data": {
      "text/html": [
       "<style>#sk-container-id-2 {color: black;background-color: white;}#sk-container-id-2 pre{padding: 0;}#sk-container-id-2 div.sk-toggleable {background-color: white;}#sk-container-id-2 label.sk-toggleable__label {cursor: pointer;display: block;width: 100%;margin-bottom: 0;padding: 0.3em;box-sizing: border-box;text-align: center;}#sk-container-id-2 label.sk-toggleable__label-arrow:before {content: \"▸\";float: left;margin-right: 0.25em;color: #696969;}#sk-container-id-2 label.sk-toggleable__label-arrow:hover:before {color: black;}#sk-container-id-2 div.sk-estimator:hover label.sk-toggleable__label-arrow:before {color: black;}#sk-container-id-2 div.sk-toggleable__content {max-height: 0;max-width: 0;overflow: hidden;text-align: left;background-color: #f0f8ff;}#sk-container-id-2 div.sk-toggleable__content pre {margin: 0.2em;color: black;border-radius: 0.25em;background-color: #f0f8ff;}#sk-container-id-2 input.sk-toggleable__control:checked~div.sk-toggleable__content {max-height: 200px;max-width: 100%;overflow: auto;}#sk-container-id-2 input.sk-toggleable__control:checked~label.sk-toggleable__label-arrow:before {content: \"▾\";}#sk-container-id-2 div.sk-estimator input.sk-toggleable__control:checked~label.sk-toggleable__label {background-color: #d4ebff;}#sk-container-id-2 div.sk-label input.sk-toggleable__control:checked~label.sk-toggleable__label {background-color: #d4ebff;}#sk-container-id-2 input.sk-hidden--visually {border: 0;clip: rect(1px 1px 1px 1px);clip: rect(1px, 1px, 1px, 1px);height: 1px;margin: -1px;overflow: hidden;padding: 0;position: absolute;width: 1px;}#sk-container-id-2 div.sk-estimator {font-family: monospace;background-color: #f0f8ff;border: 1px dotted black;border-radius: 0.25em;box-sizing: border-box;margin-bottom: 0.5em;}#sk-container-id-2 div.sk-estimator:hover {background-color: #d4ebff;}#sk-container-id-2 div.sk-parallel-item::after {content: \"\";width: 100%;border-bottom: 1px solid gray;flex-grow: 1;}#sk-container-id-2 div.sk-label:hover label.sk-toggleable__label {background-color: #d4ebff;}#sk-container-id-2 div.sk-serial::before {content: \"\";position: absolute;border-left: 1px solid gray;box-sizing: border-box;top: 0;bottom: 0;left: 50%;z-index: 0;}#sk-container-id-2 div.sk-serial {display: flex;flex-direction: column;align-items: center;background-color: white;padding-right: 0.2em;padding-left: 0.2em;position: relative;}#sk-container-id-2 div.sk-item {position: relative;z-index: 1;}#sk-container-id-2 div.sk-parallel {display: flex;align-items: stretch;justify-content: center;background-color: white;position: relative;}#sk-container-id-2 div.sk-item::before, #sk-container-id-2 div.sk-parallel-item::before {content: \"\";position: absolute;border-left: 1px solid gray;box-sizing: border-box;top: 0;bottom: 0;left: 50%;z-index: -1;}#sk-container-id-2 div.sk-parallel-item {display: flex;flex-direction: column;z-index: 1;position: relative;background-color: white;}#sk-container-id-2 div.sk-parallel-item:first-child::after {align-self: flex-end;width: 50%;}#sk-container-id-2 div.sk-parallel-item:last-child::after {align-self: flex-start;width: 50%;}#sk-container-id-2 div.sk-parallel-item:only-child::after {width: 0;}#sk-container-id-2 div.sk-dashed-wrapped {border: 1px dashed gray;margin: 0 0.4em 0.5em 0.4em;box-sizing: border-box;padding-bottom: 0.4em;background-color: white;}#sk-container-id-2 div.sk-label label {font-family: monospace;font-weight: bold;display: inline-block;line-height: 1.2em;}#sk-container-id-2 div.sk-label-container {text-align: center;}#sk-container-id-2 div.sk-container {/* jupyter's `normalize.less` sets `[hidden] { display: none; }` but bootstrap.min.css set `[hidden] { display: none !important; }` so we also need the `!important` here to be able to override the default hidden behavior on the sphinx rendered scikit-learn.org. See: https://github.com/scikit-learn/scikit-learn/issues/21755 */display: inline-block !important;position: relative;}#sk-container-id-2 div.sk-text-repr-fallback {display: none;}</style><div id=\"sk-container-id-2\" class=\"sk-top-container\"><div class=\"sk-text-repr-fallback\"><pre>KNeighborsClassifier(metric=&#x27;euclidean&#x27;)</pre><b>In a Jupyter environment, please rerun this cell to show the HTML representation or trust the notebook. <br />On GitHub, the HTML representation is unable to render, please try loading this page with nbviewer.org.</b></div><div class=\"sk-container\" hidden><div class=\"sk-item\"><div class=\"sk-estimator sk-toggleable\"><input class=\"sk-toggleable__control sk-hidden--visually\" id=\"sk-estimator-id-2\" type=\"checkbox\" checked><label for=\"sk-estimator-id-2\" class=\"sk-toggleable__label sk-toggleable__label-arrow\">KNeighborsClassifier</label><div class=\"sk-toggleable__content\"><pre>KNeighborsClassifier(metric=&#x27;euclidean&#x27;)</pre></div></div></div></div></div>"
      ],
      "text/plain": [
       "KNeighborsClassifier(metric='euclidean')"
      ]
     },
     "execution_count": 39,
     "metadata": {},
     "output_type": "execute_result"
    }
   ],
   "source": [
    "# Separando dados entre treino e teste\n",
    "np.random.seed(85)\n",
    "\n",
    "x_train, x_test, y_train, y_test = train_test_split(x_norm, y, test_size=0.25)\n",
    "\n",
    "dtc = DecisionTreeClassifier()\n",
    "\n",
    "dtc.fit(x_train, y_train)\n",
    "\n",
    "bnb = BernoulliNB(binarize=abs(np.median(x_train)))\n",
    "\n",
    "bnb.fit(x_train, y_train)\n",
    "\n",
    "knn = KNeighborsClassifier(metric='euclidean')\n",
    "\n",
    "knn.fit(x_train, y_train)"
   ]
  },
  {
   "cell_type": "code",
   "execution_count": 40,
   "id": "0b587189",
   "metadata": {},
   "outputs": [],
   "source": [
    "from sklearn import metrics\n",
    "\n",
    "knn_predict = knn.predict(x_test)\n",
    "bnb_predict = bnb.predict(x_test)\n",
    "dtc_predict = dtc.predict(x_test)\n",
    "\n",
    "knn_matrix = metrics.confusion_matrix(y_test, knn_predict)\n",
    "bnb_matrix = metrics.confusion_matrix(y_test, bnb_predict)\n",
    "dtc_matrix = metrics.confusion_matrix(y_test, dtc_predict)"
   ]
  },
  {
   "cell_type": "code",
   "execution_count": 41,
   "id": "bc55dd97",
   "metadata": {},
   "outputs": [
    {
     "data": {
      "text/plain": [
       "array([[1106,  205],\n",
       "       [ 229,  221]])"
      ]
     },
     "execution_count": 41,
     "metadata": {},
     "output_type": "execute_result"
    }
   ],
   "source": [
    "knn_matrix"
   ]
  },
  {
   "cell_type": "code",
   "execution_count": 42,
   "id": "c96ef09d",
   "metadata": {},
   "outputs": [
    {
     "data": {
      "text/plain": [
       "array([[899, 412],\n",
       "       [ 88, 362]])"
      ]
     },
     "execution_count": 42,
     "metadata": {},
     "output_type": "execute_result"
    }
   ],
   "source": [
    "bnb_matrix"
   ]
  },
  {
   "cell_type": "code",
   "execution_count": 43,
   "id": "57c220ba",
   "metadata": {},
   "outputs": [
    {
     "data": {
      "text/plain": [
       "array([[1059,  252],\n",
       "       [ 229,  221]])"
      ]
     },
     "execution_count": 43,
     "metadata": {},
     "output_type": "execute_result"
    }
   ],
   "source": [
    "dtc_matrix"
   ]
  },
  {
   "cell_type": "markdown",
   "id": "ee128926",
   "metadata": {},
   "source": [
    "## 3.2 - Acurácia"
   ]
  },
  {
   "cell_type": "code",
   "execution_count": 44,
   "id": "0e46a794",
   "metadata": {},
   "outputs": [
    {
     "data": {
      "text/plain": [
       "0.7535491198182851"
      ]
     },
     "execution_count": 44,
     "metadata": {},
     "output_type": "execute_result"
    }
   ],
   "source": [
    "accuracy_score(y_test, knn_predict)"
   ]
  },
  {
   "cell_type": "code",
   "execution_count": 45,
   "id": "3921f4c4",
   "metadata": {},
   "outputs": [
    {
     "data": {
      "text/plain": [
       "0.7160704145371948"
      ]
     },
     "execution_count": 45,
     "metadata": {},
     "output_type": "execute_result"
    }
   ],
   "source": [
    "accuracy_score(y_test, bnb_predict)"
   ]
  },
  {
   "cell_type": "code",
   "execution_count": 46,
   "id": "9b420bc3",
   "metadata": {},
   "outputs": [
    {
     "data": {
      "text/plain": [
       "0.7268597387847814"
      ]
     },
     "execution_count": 46,
     "metadata": {},
     "output_type": "execute_result"
    }
   ],
   "source": [
    "accuracy_score(y_test, dtc_predict)"
   ]
  },
  {
   "cell_type": "markdown",
   "id": "019c7e52",
   "metadata": {},
   "source": [
    "## 3.3 - Precisão"
   ]
  },
  {
   "cell_type": "code",
   "execution_count": 47,
   "id": "313e7cc8",
   "metadata": {},
   "outputs": [
    {
     "data": {
      "text/plain": [
       "0.5187793427230047"
      ]
     },
     "execution_count": 47,
     "metadata": {},
     "output_type": "execute_result"
    }
   ],
   "source": [
    "metrics.precision_score(y_test, knn_predict)"
   ]
  },
  {
   "cell_type": "code",
   "execution_count": 48,
   "id": "9a100bbe",
   "metadata": {},
   "outputs": [
    {
     "data": {
      "text/plain": [
       "0.46770025839793283"
      ]
     },
     "execution_count": 48,
     "metadata": {},
     "output_type": "execute_result"
    }
   ],
   "source": [
    "metrics.precision_score(y_test, bnb_predict)"
   ]
  },
  {
   "cell_type": "code",
   "execution_count": 49,
   "id": "16e90099",
   "metadata": {},
   "outputs": [
    {
     "data": {
      "text/plain": [
       "0.46723044397463004"
      ]
     },
     "execution_count": 49,
     "metadata": {},
     "output_type": "execute_result"
    }
   ],
   "source": [
    "metrics.precision_score(y_test, dtc_predict)"
   ]
  },
  {
   "cell_type": "markdown",
   "id": "d84db79b",
   "metadata": {},
   "source": [
    "## 3.4 - Recall"
   ]
  },
  {
   "cell_type": "code",
   "execution_count": 50,
   "id": "673dc729",
   "metadata": {},
   "outputs": [
    {
     "data": {
      "text/plain": [
       "0.4911111111111111"
      ]
     },
     "execution_count": 50,
     "metadata": {},
     "output_type": "execute_result"
    }
   ],
   "source": [
    "metrics.recall_score(y_test, knn_predict)"
   ]
  },
  {
   "cell_type": "code",
   "execution_count": 51,
   "id": "62566776",
   "metadata": {},
   "outputs": [
    {
     "data": {
      "text/plain": [
       "0.8044444444444444"
      ]
     },
     "execution_count": 51,
     "metadata": {},
     "output_type": "execute_result"
    }
   ],
   "source": [
    "metrics.recall_score(y_test, bnb_predict)"
   ]
  },
  {
   "cell_type": "code",
   "execution_count": 52,
   "id": "2b53bd48",
   "metadata": {},
   "outputs": [
    {
     "data": {
      "text/plain": [
       "0.4911111111111111"
      ]
     },
     "execution_count": 52,
     "metadata": {},
     "output_type": "execute_result"
    }
   ],
   "source": [
    "metrics.recall_score(y_test, dtc_predict)"
   ]
  },
  {
   "cell_type": "code",
   "execution_count": null,
   "id": "ae4c9b83",
   "metadata": {},
   "outputs": [],
   "source": []
  }
 ],
 "metadata": {
  "kernelspec": {
   "display_name": "Python 3 (ipykernel)",
   "language": "python",
   "name": "python3"
  },
  "language_info": {
   "codemirror_mode": {
    "name": "ipython",
    "version": 3
   },
   "file_extension": ".py",
   "mimetype": "text/x-python",
   "name": "python",
   "nbconvert_exporter": "python",
   "pygments_lexer": "ipython3",
   "version": "3.10.9"
  }
 },
 "nbformat": 4,
 "nbformat_minor": 5
}
