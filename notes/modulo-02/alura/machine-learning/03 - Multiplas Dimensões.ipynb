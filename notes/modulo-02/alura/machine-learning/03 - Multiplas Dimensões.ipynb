{
 "cells": [
  {
   "cell_type": "markdown",
   "id": "21b26cba-990f-4350-9ab4-8d6205e46839",
   "metadata": {},
   "source": [
    "# <font color = 'green'> Machine Learning com Python </font>"
   ]
  },
  {
   "cell_type": "markdown",
   "id": "f9182320-0104-430b-8662-c66e46cf10fc",
   "metadata": {
    "tags": []
   },
   "source": [
    "# 1 - Primeiros Passos"
   ]
  },
  {
   "cell_type": "markdown",
   "id": "72f1cc49-6615-469e-a817-f02278b72808",
   "metadata": {
    "tags": []
   },
   "source": [
    "## 1.1 - Importação da Base de Dados"
   ]
  },
  {
   "cell_type": "code",
   "execution_count": 5,
   "id": "017d1a53-4654-4d92-a2ee-668d0ad6a8ef",
   "metadata": {},
   "outputs": [],
   "source": [
    "# Importando módulos necessários\n",
    "import pandas as pd\n",
    "import numpy as np\n",
    "import matplotlib.pyplot as plt\n",
    "import seaborn as sns"
   ]
  },
  {
   "cell_type": "code",
   "execution_count": 6,
   "id": "b3a62935-730c-4984-9136-ace37abcfe13",
   "metadata": {},
   "outputs": [],
   "source": [
    "# Importando a base de dados\n",
    "exams = pd.read_csv('/home/joeldspy/Modelos/datasets/exams.csv')"
   ]
  },
  {
   "cell_type": "code",
   "execution_count": 9,
   "id": "f7a12a38-7431-493f-b1ef-798ac6f8d005",
   "metadata": {},
   "outputs": [
    {
     "data": {
      "text/plain": [
       "(569, 35)"
      ]
     },
     "execution_count": 9,
     "metadata": {},
     "output_type": "execute_result"
    }
   ],
   "source": [
    "# Visualizando a dimensão da base de dados\n",
    "exams.shape"
   ]
  },
  {
   "cell_type": "code",
   "execution_count": 8,
   "id": "0ee59a97-800a-4901-8f6c-9469e06e171a",
   "metadata": {},
   "outputs": [
    {
     "data": {
      "text/html": [
       "<div>\n",
       "<style scoped>\n",
       "    .dataframe tbody tr th:only-of-type {\n",
       "        vertical-align: middle;\n",
       "    }\n",
       "\n",
       "    .dataframe tbody tr th {\n",
       "        vertical-align: top;\n",
       "    }\n",
       "\n",
       "    .dataframe thead th {\n",
       "        text-align: right;\n",
       "    }\n",
       "</style>\n",
       "<table border=\"1\" class=\"dataframe\">\n",
       "  <thead>\n",
       "    <tr style=\"text-align: right;\">\n",
       "      <th></th>\n",
       "      <th>id</th>\n",
       "      <th>diagnostico</th>\n",
       "      <th>exame_1</th>\n",
       "      <th>exame_2</th>\n",
       "      <th>exame_3</th>\n",
       "      <th>exame_4</th>\n",
       "      <th>exame_5</th>\n",
       "      <th>exame_6</th>\n",
       "      <th>exame_7</th>\n",
       "      <th>exame_8</th>\n",
       "      <th>...</th>\n",
       "      <th>exame_24</th>\n",
       "      <th>exame_25</th>\n",
       "      <th>exame_26</th>\n",
       "      <th>exame_27</th>\n",
       "      <th>exame_28</th>\n",
       "      <th>exame_29</th>\n",
       "      <th>exame_30</th>\n",
       "      <th>exame_31</th>\n",
       "      <th>exame_32</th>\n",
       "      <th>exame_33</th>\n",
       "    </tr>\n",
       "  </thead>\n",
       "  <tbody>\n",
       "    <tr>\n",
       "      <th>0</th>\n",
       "      <td>842302</td>\n",
       "      <td>M</td>\n",
       "      <td>17.99</td>\n",
       "      <td>10.38</td>\n",
       "      <td>122.8</td>\n",
       "      <td>103.78</td>\n",
       "      <td>1001.0</td>\n",
       "      <td>0.11840</td>\n",
       "      <td>0.27760</td>\n",
       "      <td>0.3001</td>\n",
       "      <td>...</td>\n",
       "      <td>184.6</td>\n",
       "      <td>2019.0</td>\n",
       "      <td>0.1622</td>\n",
       "      <td>0.6656</td>\n",
       "      <td>0.7119</td>\n",
       "      <td>0.786</td>\n",
       "      <td>0.2654</td>\n",
       "      <td>0.4601</td>\n",
       "      <td>0.11890</td>\n",
       "      <td>NaN</td>\n",
       "    </tr>\n",
       "    <tr>\n",
       "      <th>1</th>\n",
       "      <td>842517</td>\n",
       "      <td>M</td>\n",
       "      <td>20.57</td>\n",
       "      <td>17.77</td>\n",
       "      <td>132.9</td>\n",
       "      <td>103.78</td>\n",
       "      <td>1326.0</td>\n",
       "      <td>0.08474</td>\n",
       "      <td>0.07864</td>\n",
       "      <td>0.0869</td>\n",
       "      <td>...</td>\n",
       "      <td>158.8</td>\n",
       "      <td>1956.0</td>\n",
       "      <td>0.1238</td>\n",
       "      <td>0.1866</td>\n",
       "      <td>0.2416</td>\n",
       "      <td>0.786</td>\n",
       "      <td>0.1860</td>\n",
       "      <td>0.2750</td>\n",
       "      <td>0.08902</td>\n",
       "      <td>NaN</td>\n",
       "    </tr>\n",
       "    <tr>\n",
       "      <th>2</th>\n",
       "      <td>84300903</td>\n",
       "      <td>M</td>\n",
       "      <td>19.69</td>\n",
       "      <td>21.25</td>\n",
       "      <td>130.0</td>\n",
       "      <td>103.78</td>\n",
       "      <td>1203.0</td>\n",
       "      <td>0.10960</td>\n",
       "      <td>0.15990</td>\n",
       "      <td>0.1974</td>\n",
       "      <td>...</td>\n",
       "      <td>152.5</td>\n",
       "      <td>1709.0</td>\n",
       "      <td>0.1444</td>\n",
       "      <td>0.4245</td>\n",
       "      <td>0.4504</td>\n",
       "      <td>0.786</td>\n",
       "      <td>0.2430</td>\n",
       "      <td>0.3613</td>\n",
       "      <td>0.08758</td>\n",
       "      <td>NaN</td>\n",
       "    </tr>\n",
       "  </tbody>\n",
       "</table>\n",
       "<p>3 rows × 35 columns</p>\n",
       "</div>"
      ],
      "text/plain": [
       "         id diagnostico  exame_1  exame_2  exame_3  exame_4  exame_5  exame_6  \\\n",
       "0    842302           M    17.99    10.38    122.8   103.78   1001.0  0.11840   \n",
       "1    842517           M    20.57    17.77    132.9   103.78   1326.0  0.08474   \n",
       "2  84300903           M    19.69    21.25    130.0   103.78   1203.0  0.10960   \n",
       "\n",
       "   exame_7  exame_8  ...  exame_24  exame_25  exame_26  exame_27  exame_28  \\\n",
       "0  0.27760   0.3001  ...     184.6    2019.0    0.1622    0.6656    0.7119   \n",
       "1  0.07864   0.0869  ...     158.8    1956.0    0.1238    0.1866    0.2416   \n",
       "2  0.15990   0.1974  ...     152.5    1709.0    0.1444    0.4245    0.4504   \n",
       "\n",
       "   exame_29  exame_30  exame_31  exame_32  exame_33  \n",
       "0     0.786    0.2654    0.4601   0.11890       NaN  \n",
       "1     0.786    0.1860    0.2750   0.08902       NaN  \n",
       "2     0.786    0.2430    0.3613   0.08758       NaN  \n",
       "\n",
       "[3 rows x 35 columns]"
      ]
     },
     "execution_count": 8,
     "metadata": {},
     "output_type": "execute_result"
    }
   ],
   "source": [
    "# Visualizando os primeiros registros\n",
    "exams.head(3)"
   ]
  },
  {
   "cell_type": "code",
   "execution_count": 13,
   "id": "ab245d43-918b-4be7-8b34-beec6e4d21e7",
   "metadata": {},
   "outputs": [
    {
     "data": {
      "text/plain": [
       "103.78    569\n",
       "Name: exame_4, dtype: int64"
      ]
     },
     "execution_count": 13,
     "metadata": {},
     "output_type": "execute_result"
    }
   ],
   "source": [
    "# Variável constante\n",
    "pd.value_counts(exams['exame_4'])"
   ]
  },
  {
   "cell_type": "code",
   "execution_count": 21,
   "id": "5a7f7d55-7eda-45f4-a11e-a8476d20fde5",
   "metadata": {},
   "outputs": [
    {
     "data": {
      "text/plain": [
       "id              0.000000\n",
       "diagnostico     0.000000\n",
       "exame_1         0.000000\n",
       "exame_2         0.000000\n",
       "exame_3         0.000000\n",
       "exame_4         0.000000\n",
       "exame_5         0.000000\n",
       "exame_6         0.000000\n",
       "exame_7         0.000000\n",
       "exame_8         0.000000\n",
       "exame_9         0.000000\n",
       "exame_10        0.000000\n",
       "exame_11        0.000000\n",
       "exame_12        0.000000\n",
       "exame_13        0.000000\n",
       "exame_14        0.000000\n",
       "exame_15        0.000000\n",
       "exame_16        0.000000\n",
       "exame_17        0.000000\n",
       "exame_18        0.000000\n",
       "exame_19        0.000000\n",
       "exame_20        0.000000\n",
       "exame_21        0.000000\n",
       "exame_22        0.000000\n",
       "exame_23        0.000000\n",
       "exame_24        0.000000\n",
       "exame_25        0.000000\n",
       "exame_26        0.000000\n",
       "exame_27        0.000000\n",
       "exame_28        0.000000\n",
       "exame_29        0.000000\n",
       "exame_30        0.000000\n",
       "exame_31        0.000000\n",
       "exame_32        0.000000\n",
       "exame_33       73.637961\n",
       "dtype: float64"
      ]
     },
     "execution_count": 21,
     "metadata": {},
     "output_type": "execute_result"
    }
   ],
   "source": [
    "# Variável nula\n",
    "(exams.isna().sum() / len(exams)) * 100"
   ]
  },
  {
   "cell_type": "markdown",
   "id": "73749434-759f-4d3d-a273-f6c42ec8e123",
   "metadata": {
    "tags": []
   },
   "source": [
    "## 1.2 - Fazendo um Rápido Modelo"
   ]
  },
  {
   "cell_type": "code",
   "execution_count": 24,
   "id": "4f3cad05-6321-4d68-a9b9-375d221b24b6",
   "metadata": {},
   "outputs": [],
   "source": [
    "# Separando entre dados de entrada e saída\n",
    "x = exams.drop(['diagnostico', 'id', 'exame_4', 'exame_33'], axis=1)\n",
    "y = exams['diagnostico']"
   ]
  },
  {
   "cell_type": "code",
   "execution_count": 25,
   "id": "2686923d-f871-4065-a000-53373e0a83e5",
   "metadata": {},
   "outputs": [],
   "source": [
    "# Fazendo subset de treino e teste\n",
    "from sklearn.model_selection import train_test_split\n",
    "x_train, x_test, y_train, y_test = train_test_split(x, y, stratify=y, random_state=100)"
   ]
  },
  {
   "cell_type": "markdown",
   "id": "475978ec-7910-4826-94e1-6f1accb0b340",
   "metadata": {},
   "source": [
    "<div align='center'>\n",
    "<img src='https://serokell.io/files/vz/vz1f8191.Ensemble-of-decision-trees.png' width=700px>\n",
    "</div>"
   ]
  },
  {
   "cell_type": "code",
   "execution_count": 28,
   "id": "5b9ab508-a041-4b66-8561-f4fac3744430",
   "metadata": {},
   "outputs": [],
   "source": [
    "# Criando um modelo de Floresta Aleátoria\n",
    "from sklearn.ensemble import RandomForestClassifier\n",
    "rfc = RandomForestClassifier(n_estimators=100)"
   ]
  },
  {
   "cell_type": "code",
   "execution_count": 32,
   "id": "3c91e6ea-7217-4a54-8b46-1a4be410064a",
   "metadata": {},
   "outputs": [
    {
     "data": {
      "text/html": [
       "<style>#sk-container-id-4 {color: black;background-color: white;}#sk-container-id-4 pre{padding: 0;}#sk-container-id-4 div.sk-toggleable {background-color: white;}#sk-container-id-4 label.sk-toggleable__label {cursor: pointer;display: block;width: 100%;margin-bottom: 0;padding: 0.3em;box-sizing: border-box;text-align: center;}#sk-container-id-4 label.sk-toggleable__label-arrow:before {content: \"▸\";float: left;margin-right: 0.25em;color: #696969;}#sk-container-id-4 label.sk-toggleable__label-arrow:hover:before {color: black;}#sk-container-id-4 div.sk-estimator:hover label.sk-toggleable__label-arrow:before {color: black;}#sk-container-id-4 div.sk-toggleable__content {max-height: 0;max-width: 0;overflow: hidden;text-align: left;background-color: #f0f8ff;}#sk-container-id-4 div.sk-toggleable__content pre {margin: 0.2em;color: black;border-radius: 0.25em;background-color: #f0f8ff;}#sk-container-id-4 input.sk-toggleable__control:checked~div.sk-toggleable__content {max-height: 200px;max-width: 100%;overflow: auto;}#sk-container-id-4 input.sk-toggleable__control:checked~label.sk-toggleable__label-arrow:before {content: \"▾\";}#sk-container-id-4 div.sk-estimator input.sk-toggleable__control:checked~label.sk-toggleable__label {background-color: #d4ebff;}#sk-container-id-4 div.sk-label input.sk-toggleable__control:checked~label.sk-toggleable__label {background-color: #d4ebff;}#sk-container-id-4 input.sk-hidden--visually {border: 0;clip: rect(1px 1px 1px 1px);clip: rect(1px, 1px, 1px, 1px);height: 1px;margin: -1px;overflow: hidden;padding: 0;position: absolute;width: 1px;}#sk-container-id-4 div.sk-estimator {font-family: monospace;background-color: #f0f8ff;border: 1px dotted black;border-radius: 0.25em;box-sizing: border-box;margin-bottom: 0.5em;}#sk-container-id-4 div.sk-estimator:hover {background-color: #d4ebff;}#sk-container-id-4 div.sk-parallel-item::after {content: \"\";width: 100%;border-bottom: 1px solid gray;flex-grow: 1;}#sk-container-id-4 div.sk-label:hover label.sk-toggleable__label {background-color: #d4ebff;}#sk-container-id-4 div.sk-serial::before {content: \"\";position: absolute;border-left: 1px solid gray;box-sizing: border-box;top: 0;bottom: 0;left: 50%;z-index: 0;}#sk-container-id-4 div.sk-serial {display: flex;flex-direction: column;align-items: center;background-color: white;padding-right: 0.2em;padding-left: 0.2em;position: relative;}#sk-container-id-4 div.sk-item {position: relative;z-index: 1;}#sk-container-id-4 div.sk-parallel {display: flex;align-items: stretch;justify-content: center;background-color: white;position: relative;}#sk-container-id-4 div.sk-item::before, #sk-container-id-4 div.sk-parallel-item::before {content: \"\";position: absolute;border-left: 1px solid gray;box-sizing: border-box;top: 0;bottom: 0;left: 50%;z-index: -1;}#sk-container-id-4 div.sk-parallel-item {display: flex;flex-direction: column;z-index: 1;position: relative;background-color: white;}#sk-container-id-4 div.sk-parallel-item:first-child::after {align-self: flex-end;width: 50%;}#sk-container-id-4 div.sk-parallel-item:last-child::after {align-self: flex-start;width: 50%;}#sk-container-id-4 div.sk-parallel-item:only-child::after {width: 0;}#sk-container-id-4 div.sk-dashed-wrapped {border: 1px dashed gray;margin: 0 0.4em 0.5em 0.4em;box-sizing: border-box;padding-bottom: 0.4em;background-color: white;}#sk-container-id-4 div.sk-label label {font-family: monospace;font-weight: bold;display: inline-block;line-height: 1.2em;}#sk-container-id-4 div.sk-label-container {text-align: center;}#sk-container-id-4 div.sk-container {/* jupyter's `normalize.less` sets `[hidden] { display: none; }` but bootstrap.min.css set `[hidden] { display: none !important; }` so we also need the `!important` here to be able to override the default hidden behavior on the sphinx rendered scikit-learn.org. See: https://github.com/scikit-learn/scikit-learn/issues/21755 */display: inline-block !important;position: relative;}#sk-container-id-4 div.sk-text-repr-fallback {display: none;}</style><div id=\"sk-container-id-4\" class=\"sk-top-container\"><div class=\"sk-text-repr-fallback\"><pre>RandomForestClassifier()</pre><b>In a Jupyter environment, please rerun this cell to show the HTML representation or trust the notebook. <br />On GitHub, the HTML representation is unable to render, please try loading this page with nbviewer.org.</b></div><div class=\"sk-container\" hidden><div class=\"sk-item\"><div class=\"sk-estimator sk-toggleable\"><input class=\"sk-toggleable__control sk-hidden--visually\" id=\"sk-estimator-id-4\" type=\"checkbox\" checked><label for=\"sk-estimator-id-4\" class=\"sk-toggleable__label sk-toggleable__label-arrow\">RandomForestClassifier</label><div class=\"sk-toggleable__content\"><pre>RandomForestClassifier()</pre></div></div></div></div></div>"
      ],
      "text/plain": [
       "RandomForestClassifier()"
      ]
     },
     "execution_count": 32,
     "metadata": {},
     "output_type": "execute_result"
    }
   ],
   "source": [
    "# Treinando o modelo\n",
    "rfc.fit(x_train, y_train)"
   ]
  },
  {
   "cell_type": "code",
   "execution_count": 38,
   "id": "4f75f3d6-b6c3-4c60-94c6-de801ad822d8",
   "metadata": {},
   "outputs": [],
   "source": [
    "# Predizendo variáveis\n",
    "y_pred = rfc.predict(x_test)"
   ]
  },
  {
   "cell_type": "code",
   "execution_count": 46,
   "id": "7b736b4b-2ccb-4e2b-88b9-c28b9e1f4f07",
   "metadata": {},
   "outputs": [
    {
     "name": "stdout",
     "output_type": "stream",
     "text": [
      "Com RandomForestClassifier e um total de 31 variáveis treinadas, temos uma acurácia de 0.98\n"
     ]
    }
   ],
   "source": [
    "# Validando o modelo\n",
    "from sklearn.metrics import accuracy_score\n",
    "accuracy = accuracy_score(y_pred, y_test)\n",
    "print(f'Com RandomForestClassifier e um total de {x.shape[1]} variáveis treinadas, temos uma acurácia de {accuracy:.2f}')"
   ]
  },
  {
   "cell_type": "markdown",
   "id": "31d9d907-f1dd-4cc4-8e8f-9aa7eb77b07b",
   "metadata": {},
   "source": [
    "## 1.3 - Estabelecendo um Modelo de Baseline"
   ]
  },
  {
   "cell_type": "code",
   "execution_count": 49,
   "id": "ecaa9df4-9212-4b88-bf7d-adc3937a2728",
   "metadata": {},
   "outputs": [
    {
     "name": "stdout",
     "output_type": "stream",
     "text": [
      "Com DummyClassifier e um total de 31 variáveis treinadas, temos uma acurácia de 0.63\n"
     ]
    }
   ],
   "source": [
    "# Criando um modelo Dummy para baseline\n",
    "from sklearn.dummy import DummyClassifier\n",
    "\n",
    "dummy = DummyClassifier()\n",
    "\n",
    "dummy.fit(x_train, y_train)\n",
    "\n",
    "y_pred = dummy.predict(x_test)\n",
    "\n",
    "accuracy = accuracy_score(y_pred, y_test)\n",
    "\n",
    "print(f'Com DummyClassifier e um total de {x.shape[1]} variáveis treinadas, temos uma acurácia de {accuracy:.2f}')"
   ]
  },
  {
   "cell_type": "markdown",
   "id": "f64c7148-f7b6-42af-ba99-de64674505f1",
   "metadata": {},
   "source": [
    "# 2 - Melhorando Nosso Modelo"
   ]
  },
  {
   "cell_type": "code",
   "execution_count": 64,
   "id": "b470c41c-bbd2-4c65-b142-809428ddb98f",
   "metadata": {},
   "outputs": [],
   "source": [
    "# Criando objeto para escolha das melhores variáveis\n",
    "from sklearn.feature_selection import SelectKBest\n",
    "from sklearn.feature_selection import chi2\n",
    "skb = SelectKBest(chi2, k=5)"
   ]
  },
  {
   "cell_type": "code",
   "execution_count": 65,
   "id": "44aedc60-8232-4991-af22-1b5a51f0ac65",
   "metadata": {},
   "outputs": [],
   "source": [
    "# Separando entre treino e teste normalizados\n",
    "x_train, x_test, y_train, y_test = train_test_split(x, y, random_state=100, stratify=y)"
   ]
  },
  {
   "cell_type": "code",
   "execution_count": 69,
   "id": "eb9b387d-a8e0-447e-8fe3-1878190bb951",
   "metadata": {},
   "outputs": [],
   "source": [
    "# Selecionando as melhores variáveis\n",
    "skb.fit(x_train, y_train)\n",
    "x_train = skb.transform(x_train)\n",
    "x_test = skb.transform(x_test)"
   ]
  },
  {
   "cell_type": "code",
   "execution_count": 71,
   "id": "6c66b5da-96ef-4dc4-a784-a57e9b355fab",
   "metadata": {},
   "outputs": [
    {
     "name": "stdout",
     "output_type": "stream",
     "text": [
      "Com RandomForestClassifier e um total de 31 variáveis treinadas, temos uma acurácia de 0.94\n"
     ]
    }
   ],
   "source": [
    "# Validando o novo modelo com apenas 5 variáveis\n",
    "rfc = RandomForestClassifier(n_estimators=100)\n",
    "\n",
    "rfc.fit(x_train, y_train)\n",
    "\n",
    "y_pred = rfc.predict(x_test)\n",
    "\n",
    "accuracy = accuracy_score(y_pred, y_test)\n",
    "\n",
    "print(f'Com RandomForestClassifier e um total de {x.shape[1]} variáveis treinadas, temos uma acurácia de {accuracy:.2f}')"
   ]
  },
  {
   "cell_type": "code",
   "execution_count": 75,
   "id": "cf326cde-58ca-4fbf-9e15-f6cbef3bd94e",
   "metadata": {},
   "outputs": [
    {
     "data": {
      "text/plain": [
       "Index(['exame_3', 'exame_5', 'exame_15', 'exame_24', 'exame_25'], dtype='object')"
      ]
     },
     "execution_count": 75,
     "metadata": {},
     "output_type": "execute_result"
    }
   ],
   "source": [
    "# Variáveis escolhidas pelo SelectKBest\n",
    "x.columns[skb.get_support()]"
   ]
  }
 ],
 "metadata": {
  "kernelspec": {
   "display_name": "Python 3 (ipykernel)",
   "language": "python",
   "name": "python3"
  },
  "language_info": {
   "codemirror_mode": {
    "name": "ipython",
    "version": 3
   },
   "file_extension": ".py",
   "mimetype": "text/x-python",
   "name": "python",
   "nbconvert_exporter": "python",
   "pygments_lexer": "ipython3",
   "version": "3.10.9"
  }
 },
 "nbformat": 4,
 "nbformat_minor": 5
}
