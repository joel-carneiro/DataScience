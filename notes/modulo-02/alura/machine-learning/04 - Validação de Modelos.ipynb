{
 "cells": [
  {
   "cell_type": "markdown",
   "id": "ca0c7bc4-3da1-43dc-afe6-731d09e0a9e4",
   "metadata": {},
   "source": [
    "# <font color='green'> Validação de Modelos </font>"
   ]
  },
  {
   "cell_type": "markdown",
   "id": "833eb7d6-d29c-41be-8771-df41da6e370c",
   "metadata": {},
   "source": [
    "# 1 - Validação Simples"
   ]
  },
  {
   "cell_type": "code",
   "execution_count": 35,
   "id": "c4bf83e6-6737-42ef-b5b1-ae519f94d1f9",
   "metadata": {},
   "outputs": [],
   "source": [
    "# Importando bibliotecas necessárias\n",
    "import pandas as pd\n",
    "import numpy as np"
   ]
  },
  {
   "cell_type": "code",
   "execution_count": 36,
   "id": "b8747f72-732b-48e9-9ae4-f9c3111ef717",
   "metadata": {},
   "outputs": [],
   "source": [
    "# Importando base de dados\n",
    "cars = pd.read_csv('/home/joeldspy/Modelos/datasets/cars.csv').iloc[:, 1:]"
   ]
  },
  {
   "cell_type": "code",
   "execution_count": 37,
   "id": "59d4735f-1e9d-46f8-8fcc-d729b1977e8e",
   "metadata": {},
   "outputs": [
    {
     "data": {
      "text/html": [
       "<div>\n",
       "<style scoped>\n",
       "    .dataframe tbody tr th:only-of-type {\n",
       "        vertical-align: middle;\n",
       "    }\n",
       "\n",
       "    .dataframe tbody tr th {\n",
       "        vertical-align: top;\n",
       "    }\n",
       "\n",
       "    .dataframe thead th {\n",
       "        text-align: right;\n",
       "    }\n",
       "</style>\n",
       "<table border=\"1\" class=\"dataframe\">\n",
       "  <thead>\n",
       "    <tr style=\"text-align: right;\">\n",
       "      <th></th>\n",
       "      <th>prc</th>\n",
       "      <th>sld</th>\n",
       "      <th>age</th>\n",
       "      <th>kpy</th>\n",
       "    </tr>\n",
       "  </thead>\n",
       "  <tbody>\n",
       "    <tr>\n",
       "      <th>0</th>\n",
       "      <td>30941.02</td>\n",
       "      <td>1</td>\n",
       "      <td>18</td>\n",
       "      <td>35085.22134</td>\n",
       "    </tr>\n",
       "    <tr>\n",
       "      <th>1</th>\n",
       "      <td>40557.96</td>\n",
       "      <td>1</td>\n",
       "      <td>20</td>\n",
       "      <td>12622.05362</td>\n",
       "    </tr>\n",
       "    <tr>\n",
       "      <th>2</th>\n",
       "      <td>89627.50</td>\n",
       "      <td>0</td>\n",
       "      <td>12</td>\n",
       "      <td>11440.79806</td>\n",
       "    </tr>\n",
       "    <tr>\n",
       "      <th>3</th>\n",
       "      <td>95276.14</td>\n",
       "      <td>0</td>\n",
       "      <td>3</td>\n",
       "      <td>43167.32682</td>\n",
       "    </tr>\n",
       "    <tr>\n",
       "      <th>4</th>\n",
       "      <td>117384.68</td>\n",
       "      <td>1</td>\n",
       "      <td>4</td>\n",
       "      <td>12770.11290</td>\n",
       "    </tr>\n",
       "  </tbody>\n",
       "</table>\n",
       "</div>"
      ],
      "text/plain": [
       "         prc  sld  age          kpy\n",
       "0   30941.02    1   18  35085.22134\n",
       "1   40557.96    1   20  12622.05362\n",
       "2   89627.50    0   12  11440.79806\n",
       "3   95276.14    0    3  43167.32682\n",
       "4  117384.68    1    4  12770.11290"
      ]
     },
     "execution_count": 37,
     "metadata": {},
     "output_type": "execute_result"
    }
   ],
   "source": [
    "# Visualizando os 5 primeiros registros da base de dados\n",
    "cars.head()"
   ]
  },
  {
   "cell_type": "code",
   "execution_count": 4,
   "id": "d3450c29-195b-4097-b0f3-d4ba5ee304e7",
   "metadata": {},
   "outputs": [],
   "source": [
    "# Separando dados entre dados de entrada e saída\n",
    "x = cars.drop(columns=['sld'])\n",
    "y = cars['sld']"
   ]
  },
  {
   "cell_type": "code",
   "execution_count": 38,
   "id": "5d7d5bff-16eb-4195-ab4e-c15780c7d09d",
   "metadata": {},
   "outputs": [
    {
     "name": "stdout",
     "output_type": "stream",
     "text": [
      "Com o modelo DummyClassifier, a acurácia foi de 0.58\n"
     ]
    }
   ],
   "source": [
    "# Estabelencendo uma baseline\n",
    "from sklearn.model_selection import train_test_split\n",
    "from sklearn.dummy import DummyClassifier\n",
    "from sklearn.metrics import accuracy_score\n",
    "\n",
    "np.random.seed(100)\n",
    "\n",
    "x_train, x_test, y_train, y_test = train_test_split(x, y, stratify=y)\n",
    "\n",
    "dummy = DummyClassifier()\n",
    "\n",
    "dummy.fit(x_train, y_train)\n",
    "\n",
    "y_pred = dummy.predict(x_test)\n",
    "\n",
    "acr = accuracy_score(y_pred, y_test)\n",
    "\n",
    "print(f'Com o modelo DummyClassifier, a acurácia foi de {acr:.2f}')"
   ]
  },
  {
   "cell_type": "code",
   "execution_count": 39,
   "id": "9a262fb5-8f0c-41c7-9871-032bb3b77828",
   "metadata": {},
   "outputs": [
    {
     "name": "stdout",
     "output_type": "stream",
     "text": [
      "Com o modelo DecisionTreeClassifier, a acurácia foi de 0.76\n"
     ]
    }
   ],
   "source": [
    "# Gerando um modelo inicial\n",
    "from sklearn.tree import DecisionTreeClassifier\n",
    "\n",
    "np.random.seed(100)\n",
    "\n",
    "x_train, x_test, y_train, y_test = train_test_split(x, y, stratify=y)\n",
    "\n",
    "dtc = DecisionTreeClassifier(max_depth=2)\n",
    "\n",
    "dtc.fit(x_train, y_train)\n",
    "\n",
    "y_pred = dtc.predict(x_test)\n",
    "\n",
    "acr = accuracy_score(y_pred, y_test)\n",
    "\n",
    "print(f'Com o modelo DecisionTreeClassifier, a acurácia foi de {acr:.2f}')"
   ]
  },
  {
   "cell_type": "markdown",
   "id": "c4fb717a-9a14-4779-9100-16a8f5d61ad8",
   "metadata": {
    "tags": []
   },
   "source": [
    "# 2 - Aplicando Validação Cruzada"
   ]
  },
  {
   "cell_type": "code",
   "execution_count": 71,
   "id": "7e93ad15-39ec-49df-bd8e-3ac2477e51ab",
   "metadata": {},
   "outputs": [
    {
     "data": {
      "text/plain": [
       "[0.7438200143061588, 0.771779985693841]"
      ]
     },
     "execution_count": 71,
     "metadata": {},
     "output_type": "execute_result"
    }
   ],
   "source": [
    "# Aplicando a validação de cruzada\n",
    "from sklearn.model_selection import cross_validate\n",
    "\n",
    "np.random.seed(100)\n",
    "\n",
    "model = DecisionTreeClassifier(max_depth=2)\n",
    "\n",
    "results = cross_validate(model, x, y, cv = 5, return_train_score=False)\n",
    "\n",
    "sigma = results['test_score'].std()\n",
    "mean = results['test_score'].mean()\n",
    "\n",
    "interval = [mean - 2 * sigma, mean + 2 * sigma]\n",
    "\n",
    "interval"
   ]
  },
  {
   "cell_type": "code",
   "execution_count": 73,
   "id": "a34a6fdc-99b9-40d1-a888-82e4cf5c7c93",
   "metadata": {},
   "outputs": [],
   "source": [
    "def print_results(results):\n",
    "    sigma = results['test_score'].std()\n",
    "    mean = results['test_score'].mean()\n",
    "\n",
    "    interval = [mean - 2 * sigma, mean + 2 * sigma]\n",
    "\n",
    "    print(interval)"
   ]
  },
  {
   "cell_type": "code",
   "execution_count": 74,
   "id": "002ce3e5-0e1e-43c9-9dc1-f8177c7ccdbc",
   "metadata": {},
   "outputs": [
    {
     "name": "stdout",
     "output_type": "stream",
     "text": [
      "[0.7374864577190486, 0.7781135422809514]\n"
     ]
    }
   ],
   "source": [
    "# Aplicando a validação de cruzada com aleatoriedade\n",
    "from sklearn.model_selection import cross_validate\n",
    "from sklearn.model_selection import KFold\n",
    "\n",
    "np.random.seed(100)\n",
    "\n",
    "model = DecisionTreeClassifier(max_depth=2)\n",
    "\n",
    "cv = KFold(n_splits=10, shuffle=True)\n",
    "\n",
    "results = cross_validate(model, x, y, cv = cv, return_train_score=False)\n",
    "\n",
    "print_results(results)"
   ]
  },
  {
   "cell_type": "code",
   "execution_count": 76,
   "id": "17109723-87d3-424a-b3d5-0ff68419441f",
   "metadata": {},
   "outputs": [
    {
     "name": "stdout",
     "output_type": "stream",
     "text": [
      "[0.3429273688939625, 0.8138726311060376]\n"
     ]
    }
   ],
   "source": [
    "# Aplicando a validação de cruzada com algum azar\n",
    "from sklearn.model_selection import cross_validate\n",
    "from sklearn.model_selection import KFold\n",
    "\n",
    "bad_luck = cars.sort_values(by='sld')\n",
    "\n",
    "x = bad_luck.drop(columns=['sld'])\n",
    "y = bad_luck['sld']\n",
    "\n",
    "np.random.seed(100)\n",
    "\n",
    "model = DecisionTreeClassifier(max_depth=2)\n",
    "\n",
    "cv = KFold(n_splits=10, shuffle=False)\n",
    "\n",
    "results = cross_validate(model, x, y, cv = cv, return_train_score=False)\n",
    "\n",
    "print_results(results)"
   ]
  },
  {
   "cell_type": "code",
   "execution_count": 82,
   "id": "4242c100-f1e0-43b0-a267-72df8b0e309f",
   "metadata": {
    "tags": []
   },
   "outputs": [
    {
     "name": "stdout",
     "output_type": "stream",
     "text": [
      "[0.7374864577190486, 0.7781135422809514]\n"
     ]
    }
   ],
   "source": [
    "# Aplicando a validação de cruzada com algum azar porém, aleatorizando os dados\n",
    "from sklearn.model_selection import cross_validate\n",
    "from sklearn.model_selection import KFold\n",
    "\n",
    "bad_luck = cars.sort_values(by='sld')\n",
    "\n",
    "x = bad_luck.drop(columns=['sld'])\n",
    "y = bad_luck['sld']\n",
    "\n",
    "np.random.seed(100)\n",
    "\n",
    "model = DecisionTreeClassifier(max_depth=2)\n",
    "\n",
    "cv = KFold(n_splits=10, shuffle=True)\n",
    "\n",
    "results = cross_validate(model, x, y, cv = cv, return_train_score=False)\n",
    "\n",
    "print_results(results)"
   ]
  },
  {
   "cell_type": "code",
   "execution_count": 83,
   "id": "49815664-c3e1-46ee-8ec6-1d17dfba6079",
   "metadata": {},
   "outputs": [
    {
     "name": "stdout",
     "output_type": "stream",
     "text": [
      "[0.7390225001655409, 0.7767774998344591]\n"
     ]
    }
   ],
   "source": [
    "# Aplicando a validação de cruzada com algum azar porém, usando validação estratificada\n",
    "from sklearn.model_selection import cross_validate\n",
    "from sklearn.model_selection import StratifiedKFold\n",
    "\n",
    "bad_luck = cars.sort_values(by='sld')\n",
    "\n",
    "x = bad_luck.drop(columns=['sld'])\n",
    "y = bad_luck['sld']\n",
    "\n",
    "np.random.seed(100)\n",
    "\n",
    "model = DecisionTreeClassifier(max_depth=2)\n",
    "\n",
    "cv = StratifiedKFold(n_splits=10, shuffle=True)\n",
    "\n",
    "results = cross_validate(model, x, y, cv = cv, return_train_score=False)\n",
    "\n",
    "print_results(results)"
   ]
  },
  {
   "cell_type": "markdown",
   "id": "5df97e3c-4c67-434c-ba12-1ae7811b522b",
   "metadata": {},
   "source": [
    "# 3 - Criando uma Nova Coluna dos dados"
   ]
  },
  {
   "cell_type": "code",
   "execution_count": 117,
   "id": "88dcab4a-0cbc-4f26-a543-0824a5a6ebc9",
   "metadata": {},
   "outputs": [
    {
     "data": {
      "text/html": [
       "<div>\n",
       "<style scoped>\n",
       "    .dataframe tbody tr th:only-of-type {\n",
       "        vertical-align: middle;\n",
       "    }\n",
       "\n",
       "    .dataframe tbody tr th {\n",
       "        vertical-align: top;\n",
       "    }\n",
       "\n",
       "    .dataframe thead th {\n",
       "        text-align: right;\n",
       "    }\n",
       "</style>\n",
       "<table border=\"1\" class=\"dataframe\">\n",
       "  <thead>\n",
       "    <tr style=\"text-align: right;\">\n",
       "      <th></th>\n",
       "      <th>prc</th>\n",
       "      <th>sld</th>\n",
       "      <th>age</th>\n",
       "      <th>kpy</th>\n",
       "      <th>model</th>\n",
       "    </tr>\n",
       "  </thead>\n",
       "  <tbody>\n",
       "    <tr>\n",
       "      <th>0</th>\n",
       "      <td>30941.02</td>\n",
       "      <td>1</td>\n",
       "      <td>18</td>\n",
       "      <td>35085.22134</td>\n",
       "      <td>Mobi</td>\n",
       "    </tr>\n",
       "    <tr>\n",
       "      <th>1</th>\n",
       "      <td>40557.96</td>\n",
       "      <td>1</td>\n",
       "      <td>20</td>\n",
       "      <td>12622.05362</td>\n",
       "      <td>Mobi</td>\n",
       "    </tr>\n",
       "    <tr>\n",
       "      <th>2</th>\n",
       "      <td>89627.50</td>\n",
       "      <td>0</td>\n",
       "      <td>12</td>\n",
       "      <td>11440.79806</td>\n",
       "      <td>Fox</td>\n",
       "    </tr>\n",
       "  </tbody>\n",
       "</table>\n",
       "</div>"
      ],
      "text/plain": [
       "        prc  sld  age          kpy model\n",
       "0  30941.02    1   18  35085.22134  Mobi\n",
       "1  40557.96    1   20  12622.05362  Mobi\n",
       "2  89627.50    0   12  11440.79806   Fox"
      ]
     },
     "execution_count": 117,
     "metadata": {},
     "output_type": "execute_result"
    }
   ],
   "source": [
    "cars.head(3)"
   ]
  },
  {
   "cell_type": "code",
   "execution_count": 118,
   "id": "d603157c-223f-4b04-bbae-30eebfc8817d",
   "metadata": {},
   "outputs": [],
   "source": [
    "cars['model'] = cars['age'] + np.random.randint(-2, 3, len(cars))"
   ]
  },
  {
   "cell_type": "code",
   "execution_count": 119,
   "id": "91450b7a-9367-404a-92c6-1189d188f601",
   "metadata": {},
   "outputs": [
    {
     "data": {
      "text/html": [
       "<div>\n",
       "<style scoped>\n",
       "    .dataframe tbody tr th:only-of-type {\n",
       "        vertical-align: middle;\n",
       "    }\n",
       "\n",
       "    .dataframe tbody tr th {\n",
       "        vertical-align: top;\n",
       "    }\n",
       "\n",
       "    .dataframe thead th {\n",
       "        text-align: right;\n",
       "    }\n",
       "</style>\n",
       "<table border=\"1\" class=\"dataframe\">\n",
       "  <thead>\n",
       "    <tr style=\"text-align: right;\">\n",
       "      <th></th>\n",
       "      <th>prc</th>\n",
       "      <th>sld</th>\n",
       "      <th>age</th>\n",
       "      <th>kpy</th>\n",
       "      <th>model</th>\n",
       "    </tr>\n",
       "  </thead>\n",
       "  <tbody>\n",
       "    <tr>\n",
       "      <th>0</th>\n",
       "      <td>30941.02</td>\n",
       "      <td>1</td>\n",
       "      <td>18</td>\n",
       "      <td>35085.22134</td>\n",
       "      <td>17</td>\n",
       "    </tr>\n",
       "    <tr>\n",
       "      <th>1</th>\n",
       "      <td>40557.96</td>\n",
       "      <td>1</td>\n",
       "      <td>20</td>\n",
       "      <td>12622.05362</td>\n",
       "      <td>20</td>\n",
       "    </tr>\n",
       "    <tr>\n",
       "      <th>2</th>\n",
       "      <td>89627.50</td>\n",
       "      <td>0</td>\n",
       "      <td>12</td>\n",
       "      <td>11440.79806</td>\n",
       "      <td>12</td>\n",
       "    </tr>\n",
       "  </tbody>\n",
       "</table>\n",
       "</div>"
      ],
      "text/plain": [
       "        prc  sld  age          kpy  model\n",
       "0  30941.02    1   18  35085.22134     17\n",
       "1  40557.96    1   20  12622.05362     20\n",
       "2  89627.50    0   12  11440.79806     12"
      ]
     },
     "execution_count": 119,
     "metadata": {},
     "output_type": "execute_result"
    }
   ],
   "source": [
    "cars.head(3)"
   ]
  },
  {
   "cell_type": "code",
   "execution_count": 120,
   "id": "60ad8afd-b82d-4e30-95f7-874588236ebc",
   "metadata": {},
   "outputs": [
    {
     "data": {
      "text/plain": [
       "array([17, 20, 12,  4,  9, 18, 11,  3, 15, 13,  6, 19,  7, 21, 10, 14, 16,\n",
       "        8,  1, 22,  5,  2,  0, -1])"
      ]
     },
     "execution_count": 120,
     "metadata": {},
     "output_type": "execute_result"
    }
   ],
   "source": [
    "cars['model'].unique()"
   ]
  },
  {
   "cell_type": "code",
   "execution_count": 121,
   "id": "5ac4dab3-01db-4ed0-8fd8-8920e131d852",
   "metadata": {},
   "outputs": [],
   "source": [
    "cars['model'] = cars['model'] + abs(cars['model'].min()) + 1"
   ]
  },
  {
   "cell_type": "code",
   "execution_count": 122,
   "id": "7ba4c545-1d3b-4ab5-b965-8c28fda6737d",
   "metadata": {},
   "outputs": [],
   "source": [
    "car_models = {\n",
    "    1: 'Fiesta',\n",
    "    2: 'Gol',\n",
    "    3: 'Corsa',\n",
    "    4: 'Uno',\n",
    "    5: 'Fit',\n",
    "    6: 'Corolla',\n",
    "    7: 'Focus',\n",
    "    8: 'Voyage',\n",
    "    9: 'Celta',\n",
    "    10: 'Palio',\n",
    "    11: 'City',\n",
    "    12: 'Yaris',\n",
    "    13: 'Ecosport',\n",
    "    14: 'Fox',\n",
    "    15: 'Onix',\n",
    "    16: 'Siena',\n",
    "    17: 'Civic',\n",
    "    18: 'Etios',\n",
    "    19: 'Hilux',\n",
    "    20: 'Polo',\n",
    "    21: 'Cruze',\n",
    "    22: 'Mobi',\n",
    "    23: 'Accord',\n",
    "    24: 'Hilux'\n",
    "}\n",
    "\n",
    "cars['name'] = cars.model.replace(car_models)"
   ]
  },
  {
   "cell_type": "code",
   "execution_count": 124,
   "id": "ff783a76-ac6d-4943-a2a6-4d8503ec8c29",
   "metadata": {},
   "outputs": [
    {
     "data": {
      "text/html": [
       "<div>\n",
       "<style scoped>\n",
       "    .dataframe tbody tr th:only-of-type {\n",
       "        vertical-align: middle;\n",
       "    }\n",
       "\n",
       "    .dataframe tbody tr th {\n",
       "        vertical-align: top;\n",
       "    }\n",
       "\n",
       "    .dataframe thead th {\n",
       "        text-align: right;\n",
       "    }\n",
       "</style>\n",
       "<table border=\"1\" class=\"dataframe\">\n",
       "  <thead>\n",
       "    <tr style=\"text-align: right;\">\n",
       "      <th></th>\n",
       "      <th>prc</th>\n",
       "      <th>sld</th>\n",
       "      <th>age</th>\n",
       "      <th>kpy</th>\n",
       "      <th>model</th>\n",
       "      <th>name</th>\n",
       "    </tr>\n",
       "  </thead>\n",
       "  <tbody>\n",
       "    <tr>\n",
       "      <th>0</th>\n",
       "      <td>30941.02</td>\n",
       "      <td>1</td>\n",
       "      <td>18</td>\n",
       "      <td>35085.22134</td>\n",
       "      <td>19</td>\n",
       "      <td>Hilux</td>\n",
       "    </tr>\n",
       "    <tr>\n",
       "      <th>1</th>\n",
       "      <td>40557.96</td>\n",
       "      <td>1</td>\n",
       "      <td>20</td>\n",
       "      <td>12622.05362</td>\n",
       "      <td>22</td>\n",
       "      <td>Mobi</td>\n",
       "    </tr>\n",
       "    <tr>\n",
       "      <th>2</th>\n",
       "      <td>89627.50</td>\n",
       "      <td>0</td>\n",
       "      <td>12</td>\n",
       "      <td>11440.79806</td>\n",
       "      <td>14</td>\n",
       "      <td>Fox</td>\n",
       "    </tr>\n",
       "    <tr>\n",
       "      <th>3</th>\n",
       "      <td>95276.14</td>\n",
       "      <td>0</td>\n",
       "      <td>3</td>\n",
       "      <td>43167.32682</td>\n",
       "      <td>6</td>\n",
       "      <td>Corolla</td>\n",
       "    </tr>\n",
       "    <tr>\n",
       "      <th>4</th>\n",
       "      <td>117384.68</td>\n",
       "      <td>1</td>\n",
       "      <td>4</td>\n",
       "      <td>12770.11290</td>\n",
       "      <td>6</td>\n",
       "      <td>Corolla</td>\n",
       "    </tr>\n",
       "  </tbody>\n",
       "</table>\n",
       "</div>"
      ],
      "text/plain": [
       "         prc  sld  age          kpy  model     name\n",
       "0   30941.02    1   18  35085.22134     19    Hilux\n",
       "1   40557.96    1   20  12622.05362     22     Mobi\n",
       "2   89627.50    0   12  11440.79806     14      Fox\n",
       "3   95276.14    0    3  43167.32682      6  Corolla\n",
       "4  117384.68    1    4  12770.11290      6  Corolla"
      ]
     },
     "execution_count": 124,
     "metadata": {},
     "output_type": "execute_result"
    }
   ],
   "source": [
    "cars.head()"
   ]
  },
  {
   "cell_type": "code",
   "execution_count": 139,
   "id": "01cf94f0-a978-4c3b-b69c-bcae92a8bb73",
   "metadata": {},
   "outputs": [
    {
     "name": "stdout",
     "output_type": "stream",
     "text": [
      "[0.7290359908703958, 0.7866242360966524]\n"
     ]
    }
   ],
   "source": [
    "# Aplicando a validação de cruzada com algum azar porém, usando validação por grupo\n",
    "from sklearn.model_selection import cross_validate\n",
    "from sklearn.model_selection import GroupKFold\n",
    "\n",
    "bad_luck = cars.sort_values(by='sld')\n",
    "\n",
    "x = bad_luck.drop(columns=['sld', 'name', 'model'])\n",
    "y = bad_luck['sld']\n",
    "\n",
    "np.random.seed(100)\n",
    "\n",
    "model = DecisionTreeClassifier(max_depth=2)\n",
    "\n",
    "cv = GroupKFold(n_splits=10)\n",
    "\n",
    "results = cross_validate(model, x, y, cv = cv, return_train_score=False, groups=cars.model)\n",
    "\n",
    "print_results(results)"
   ]
  }
 ],
 "metadata": {
  "kernelspec": {
   "display_name": "Python 3 (ipykernel)",
   "language": "python",
   "name": "python3"
  },
  "language_info": {
   "codemirror_mode": {
    "name": "ipython",
    "version": 3
   },
   "file_extension": ".py",
   "mimetype": "text/x-python",
   "name": "python",
   "nbconvert_exporter": "python",
   "pygments_lexer": "ipython3",
   "version": "3.10.9"
  }
 },
 "nbformat": 4,
 "nbformat_minor": 5
}
