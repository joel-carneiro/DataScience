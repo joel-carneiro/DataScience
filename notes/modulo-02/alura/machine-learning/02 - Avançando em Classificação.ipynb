{
 "cells": [
  {
   "cell_type": "markdown",
   "id": "c5d3554c-799a-4d88-91e4-0f28889c619a",
   "metadata": {},
   "source": [
    "# <font color='green'> Aprendendo Machine Learning Através de um Projeto </font>"
   ]
  },
  {
   "cell_type": "markdown",
   "id": "2773e9f5-819e-4bcb-a83d-0d84698be60f",
   "metadata": {
    "jp-MarkdownHeadingCollapsed": true,
    "tags": []
   },
   "source": [
    "# 1 - Primeiras Impressões"
   ]
  },
  {
   "cell_type": "markdown",
   "id": "c9a857f4-769c-4c3a-8382-534875e6702b",
   "metadata": {
    "jp-MarkdownHeadingCollapsed": true,
    "tags": []
   },
   "source": [
    "## 1.1 - Importando Base de Dados"
   ]
  },
  {
   "cell_type": "code",
   "execution_count": null,
   "id": "4a2e22c4-dd9a-4dc4-b34e-25678884e6eb",
   "metadata": {},
   "outputs": [],
   "source": [
    "# Importando módulos necessários\n",
    "import pandas as pd\n",
    "import numpy as np\n",
    "import warnings"
   ]
  },
  {
   "cell_type": "code",
   "execution_count": null,
   "id": "5c3776dd-efcd-4d81-87f3-0a74d4b41488",
   "metadata": {},
   "outputs": [],
   "source": [
    "# Desativando possíveis avisos\n",
    "warnings.filterwarnings('ignore')"
   ]
  },
  {
   "cell_type": "code",
   "execution_count": null,
   "id": "ae777205-b3e9-4f27-a2e0-17c7ea3a54d3",
   "metadata": {},
   "outputs": [],
   "source": [
    "# Importando a base de dados\n",
    "telecom = pd.read_csv('/home/joeldspy/Modelos/datasets/churn.csv')"
   ]
  },
  {
   "cell_type": "code",
   "execution_count": null,
   "id": "cf6be10d-2c69-4f47-a7bc-075b425c7b2e",
   "metadata": {},
   "outputs": [],
   "source": [
    "# Dimensões da nossa base de dados\n",
    "telecom.shape"
   ]
  },
  {
   "cell_type": "code",
   "execution_count": null,
   "id": "17d36848-89b9-4a98-bdeb-6ad10ce7c3ef",
   "metadata": {},
   "outputs": [],
   "source": [
    "# Primeiras impressões do nosso dataset\n",
    "telecom.head(3)"
   ]
  },
  {
   "cell_type": "markdown",
   "id": "13245fc9-484c-4243-9b56-17d31d0ca892",
   "metadata": {
    "tags": []
   },
   "source": [
    "## 1.2 - Tratando a Base de Dados"
   ]
  },
  {
   "cell_type": "code",
   "execution_count": null,
   "id": "9af14545-9831-48ed-986d-0e4663832bbe",
   "metadata": {},
   "outputs": [],
   "source": [
    "# Algumas informações da base de dados crua\n",
    "telecom.info()"
   ]
  },
  {
   "cell_type": "code",
   "execution_count": null,
   "id": "acf18960-0ba3-4208-bb58-c5f2765c69f2",
   "metadata": {},
   "outputs": [],
   "source": [
    "# Acessando os dados binários\n",
    "bi_data = telecom[['Conjuge', 'Dependentes', 'TelefoneFixo', 'PagamentoOnline', 'Churn']]\n",
    "bi_data.head(3)"
   ]
  },
  {
   "cell_type": "code",
   "execution_count": null,
   "id": "03942648-7b6a-4b72-bcc0-3a2b6d32402d",
   "metadata": {},
   "outputs": [],
   "source": [
    "# Modificando os dados binários\n",
    "bi_data = bi_data.replace({'Sim' : 1, 'Nao' : 0})\n",
    "bi_data.head(3)"
   ]
  },
  {
   "cell_type": "code",
   "execution_count": null,
   "id": "64590b03-4c22-4ebc-9ad0-b9bb43530623",
   "metadata": {},
   "outputs": [],
   "source": [
    "# Transformando variáveis qualitativas em variáveis binárias\n",
    "dummies_data = pd.get_dummies(telecom.drop(bi_data.columns, axis=1))\n",
    "dummies_data.head(3)"
   ]
  },
  {
   "cell_type": "code",
   "execution_count": null,
   "id": "81a804ea-e735-475c-98b4-1d6792e9bb22",
   "metadata": {},
   "outputs": [],
   "source": [
    "# Concatenando os 2 datasets\n",
    "telecom = pd.concat([bi_data, dummies_data], axis=1)"
   ]
  },
  {
   "cell_type": "code",
   "execution_count": null,
   "id": "a6af2522-4ab7-4ca4-a077-2431591dd88a",
   "metadata": {},
   "outputs": [],
   "source": [
    "# Visualizando o dataset final\n",
    "telecom.head(3)"
   ]
  },
  {
   "cell_type": "markdown",
   "id": "480ec3b7-1351-4aa0-8d74-1d29c4dbba08",
   "metadata": {
    "jp-MarkdownHeadingCollapsed": true,
    "tags": []
   },
   "source": [
    "# 2 - Criando Modelos de Machine Learning"
   ]
  },
  {
   "cell_type": "markdown",
   "id": "515d55ba-0c4d-49bb-9fd7-15c8e2c884ab",
   "metadata": {
    "tags": []
   },
   "source": [
    "## 2.1 - Distância Euclidiana"
   ]
  },
  {
   "cell_type": "code",
   "execution_count": null,
   "id": "249cd41e-bd87-472f-a300-1b6abd2e07de",
   "metadata": {},
   "outputs": [],
   "source": [
    "# Separando dados entre entrada e saída\n",
    "x = telecom.drop(['Churn'], axis=1)\n",
    "y = telecom['Churn']"
   ]
  },
  {
   "cell_type": "code",
   "execution_count": null,
   "id": "268835f9-91d2-4dc2-879e-e00b49b48197",
   "metadata": {},
   "outputs": [],
   "source": [
    "# Normalizando os dados\n",
    "from sklearn.preprocessing import StandardScaler\n",
    "st_scaler = StandardScaler()\n",
    "x_norm = st_scaler.fit_transform(x)"
   ]
  },
  {
   "cell_type": "markdown",
   "id": "5dcb2b81-97ef-4e8d-9b9a-dfc51a635a7b",
   "metadata": {
    "tags": []
   },
   "source": [
    "### $$ d = \\sqrt{\\sum_{i=1}^{n} (x_i - y_i)^2} $$"
   ]
  },
  {
   "cell_type": "code",
   "execution_count": null,
   "id": "d8dddc53-0796-466c-9e4d-92bd4424027b",
   "metadata": {},
   "outputs": [],
   "source": [
    "# Definindo dois pontos\n",
    "point_a = x_norm[0]\n",
    "point_b = st_scaler.transform([[0,0,1,1,0,0,39.90,1,0,0,0,1,0,0,0,0,1,1,1,0,0,1,1,0,0,0,0,1,0,0,1,0,0,0,1,0,1,0]])"
   ]
  },
  {
   "cell_type": "code",
   "execution_count": null,
   "id": "eb7fde1c-fd14-43f9-ad42-8867a5880037",
   "metadata": {},
   "outputs": [],
   "source": [
    "# Elevando ao quadrado a diferença de todas as dimensões entre pontos\n",
    "np.square(point_a - point_b)"
   ]
  },
  {
   "cell_type": "code",
   "execution_count": null,
   "id": "6d1fe5ec-81ba-46d7-907d-c1c70a868e63",
   "metadata": {},
   "outputs": [],
   "source": [
    "# Somando os quadrados das diferenças\n",
    "np.sum(np.square(point_a - point_b))"
   ]
  },
  {
   "cell_type": "code",
   "execution_count": null,
   "id": "fce7f2d9-6e72-40f6-a840-78eb54bbe1be",
   "metadata": {},
   "outputs": [],
   "source": [
    "# Extraindo a raiz quadrada\n",
    "np.sqrt(np.sum(np.square(point_a - point_b)))"
   ]
  },
  {
   "cell_type": "markdown",
   "id": "d4f5a43b-6835-4127-8d58-59b8528b7625",
   "metadata": {},
   "source": [
    "## 2.2 - Criando Modelos"
   ]
  },
  {
   "cell_type": "code",
   "execution_count": null,
   "id": "94800eef-d37b-416e-9010-cbdae6e770db",
   "metadata": {},
   "outputs": [],
   "source": [
    "# Separando dados de treino e teste\n",
    "from sklearn.model_selection import train_test_split\n",
    "\n",
    "x_train, x_test, y_train, y_test = train_test_split(x_norm, y, random_state=75, train_size=0.25)"
   ]
  },
  {
   "cell_type": "markdown",
   "id": "a486485a-3429-4410-b279-3ccc6d4fcbe2",
   "metadata": {},
   "source": [
    "<div align='center'>\n",
    "<img src='https://www.jcchouinard.com/wp-content/uploads/2021/08/image-8.png'>\n",
    "</div>\n",
    "\n",
    "O KNeighborsClassifier é um algoritmo de classificação de aprendizado de máquina que está disponível na biblioteca scikit-learn (sklearn) do Python. Ele é usado para classificar amostras de dados em categorias com base na proximidade com seus vizinhos mais próximos.\n",
    "\n",
    "A ideia básica do algoritmo KNeighborsClassifier é simples: dado um novo ponto de dados (ou seja, uma amostra a ser classificada), ele encontra os k vizinhos mais próximos dessa amostra no conjunto de treinamento. A classe ou categoria mais comum entre esses k vizinhos é então atribuída à nova amostra.\n",
    "\n",
    "A distância entre as amostras é usada para determinar a proximidade. Geralmente, a distância euclidiana é usada como métrica padrão, mas outras métricas de distância também podem ser usadas, como a distância de Manhattan ou a distância de Chebyshev.\n",
    "\n",
    "O valor de k, chamado de hiperparâmetro, é um parâmetro importante do algoritmo KNeighborsClassifier. Ele determina quantos vizinhos serão considerados para a votação da classe ou categoria. Um valor maior de k significa que mais vizinhos serão considerados, o que pode levar a uma decisão mais robusta, mas pode ser mais lento computacionalmente. Um valor menor de k pode levar a uma decisão mais instável, mas computacionalmente mais eficiente.\n",
    "\n",
    "Em resumo, o KNeighborsClassifier é um algoritmo de classificação de aprendizado de máquina que usa a proximidade entre amostras para fazer a classificação. Ele encontra os k vizinhos mais próximos de uma nova amostra e atribui a classe ou categoria mais comum entre esses vizinhos à nova amostra. É um algoritmo simples e fácil de entender, adequado para problemas de classificação onde a proximidade entre amostras é uma consideração importante."
   ]
  },
  {
   "cell_type": "code",
   "execution_count": null,
   "id": "e122cab9-e7fb-4d2c-baa0-116189dad410",
   "metadata": {},
   "outputs": [],
   "source": [
    "# Criando modelo de KNeighborsClassifier\n",
    "from sklearn.neighbors import KNeighborsClassifier\n",
    "\n",
    "knn = KNeighborsClassifier(n_neighbors=5, metric='euclidean')\n",
    "\n",
    "knn.fit(x_train, y_train)\n",
    "\n",
    "print(f'A acurácia do modelo KNeighborsClassifier foi de {knn.score(x_test, y_test):.2f}')"
   ]
  },
  {
   "cell_type": "markdown",
   "id": "f6ff215f-dbce-471d-98e2-0624f52201df",
   "metadata": {},
   "source": [
    "<div align='center'>\n",
    "<img src='https://scikit-learn.org/0.20/_images/sphx_glr_plot_random_forest_embedding_thumb.png'>\n",
    "</div>\n",
    "\n",
    "<p>\n",
    "   O BernoulliNB na biblioteca scikit-learn do Python é um algoritmo de classificação que é geralmente usado para lidar com dados de entrada que são binários, ou seja, com variáveis que têm apenas dois valores possíveis, como verdadeiro/falso, 0/1, presença/ausência, etc.\n",
    "\n",
    "O BernoulliNB é baseado na distribuição de probabilidade de Bernoulli, que é uma distribuição discreta que assume apenas dois valores possíveis. Ele é adequado para problemas de classificação em que as características (ou atributos) de entrada são representadas como variáveis binárias, e o objetivo é prever a classe de saída ou categoria com base nessas características.\n",
    "\n",
    "Por exemplo, o BernoulliNB pode ser usado para classificar e-mails em spam ou não spam com base na presença ou ausência de palavras-chave específicas em um e-mail. Ele calcula a probabilidade de um e-mail ser spam ou não spam com base na presença ou ausência dessas palavras-chave e usa essa probabilidade para fazer a classificação.\n",
    "\n",
    "Em resumo, o BernoulliNB na biblioteca sklearn do Python é usado para lidar com dados de entrada binários, onde as características são representadas como variáveis binárias e é utilizado para problemas de classificação em que o objetivo é prever a categoria de saída com base nessas características binárias. \n",
    "</p>"
   ]
  },
  {
   "cell_type": "code",
   "execution_count": null,
   "id": "51d2a20a-4724-40f6-b720-d52ede735fb0",
   "metadata": {},
   "outputs": [],
   "source": [
    "# Criando modelo de BernoulliNB\n",
    "from sklearn.naive_bayes import BernoulliNB\n",
    "\n",
    "bnb = BernoulliNB()\n",
    "\n",
    "bnb.fit(x_train, y_train)\n",
    "\n",
    "print(f'A acurácia do modelo BernoulliNB foi de {bnb.score(x_test, y_test):.2f}')"
   ]
  },
  {
   "cell_type": "code",
   "execution_count": null,
   "id": "3fc91073-cd59-41eb-9d04-9057f445abe7",
   "metadata": {},
   "outputs": [],
   "source": [
    "# Gerando dados preditos de ambos os modelos\n",
    "knn_pred = knn.predict(x_test)\n",
    "bnb_pred = bnb.predict(x_test)"
   ]
  },
  {
   "cell_type": "code",
   "execution_count": null,
   "id": "cf189ed1-d1a2-4fa4-886f-660b9b1260f1",
   "metadata": {},
   "outputs": [],
   "source": [
    "# Avaliando métricas\n",
    "from sklearn.metrics import confusion_matrix"
   ]
  },
  {
   "cell_type": "code",
   "execution_count": null,
   "id": "72c675ca-9e3f-45d2-9e2c-328e4f9c0d9d",
   "metadata": {},
   "outputs": [],
   "source": [
    "# Matriz de confusão do modelo KNeighborsClassifier\n",
    "confusion_matrix(y_test, knn_pred)"
   ]
  },
  {
   "cell_type": "code",
   "execution_count": null,
   "id": "c2fb78e8-57af-4705-8096-37bfc022061d",
   "metadata": {},
   "outputs": [],
   "source": [
    "# Matriz de confusão do modelo BernoulliNB\n",
    "confusion_matrix(y_test, bnb_pred)"
   ]
  }
 ],
 "metadata": {
  "kernelspec": {
   "display_name": "Python 3 (ipykernel)",
   "language": "python",
   "name": "python3"
  },
  "language_info": {
   "codemirror_mode": {
    "name": "ipython",
    "version": 3
   },
   "file_extension": ".py",
   "mimetype": "text/x-python",
   "name": "python",
   "nbconvert_exporter": "python",
   "pygments_lexer": "ipython3",
   "version": "3.10.9"
  }
 },
 "nbformat": 4,
 "nbformat_minor": 5
}
