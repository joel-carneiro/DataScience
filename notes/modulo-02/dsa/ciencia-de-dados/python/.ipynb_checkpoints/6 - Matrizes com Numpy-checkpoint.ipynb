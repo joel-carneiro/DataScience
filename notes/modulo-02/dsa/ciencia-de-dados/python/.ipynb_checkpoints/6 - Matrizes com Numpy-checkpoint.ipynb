{
 "cells": [
  {
   "cell_type": "code",
   "execution_count": 41,
   "id": "622bef02",
   "metadata": {},
   "outputs": [],
   "source": [
    "# Importando o módulo numpy\n",
    "import numpy as np"
   ]
  },
  {
   "cell_type": "code",
   "execution_count": 27,
   "id": "0d162183",
   "metadata": {},
   "outputs": [
    {
     "data": {
      "text/plain": [
       "array([[[ 1,  0,  3,  6,  0],\n",
       "        [10,  0,  6,  9,  9],\n",
       "        [ 3,  8,  0,  9,  8],\n",
       "        [ 2,  9,  4,  0,  3],\n",
       "        [ 6,  3,  2,  1,  5]],\n",
       "\n",
       "       [[ 6,  8,  7,  1,  4],\n",
       "        [ 8,  0,  6, 10,  8],\n",
       "        [ 1,  8,  6,  3,  0],\n",
       "        [ 2,  8,  7,  8,  0],\n",
       "        [ 4, 10,  2,  8,  0]],\n",
       "\n",
       "       [[ 5,  1,  5,  1,  6],\n",
       "        [ 6,  0,  4,  2,  9],\n",
       "        [ 9,  2,  2,  3,  5],\n",
       "        [ 7,  4,  0,  6,  1],\n",
       "        [10,  8,  3,  2,  8]],\n",
       "\n",
       "       [[10,  8,  1,  4,  8],\n",
       "        [ 1,  5,  1,  2,  6],\n",
       "        [ 1,  5,  3,  4,  6],\n",
       "        [ 4,  1,  9,  6,  2],\n",
       "        [ 7,  4,  6,  8,  0]],\n",
       "\n",
       "       [[ 8,  3,  6,  9, 10],\n",
       "        [ 8,  9,  1,  9,  0],\n",
       "        [ 9,  8,  8,  0,  5],\n",
       "        [ 0,  0,  5,  5,  5],\n",
       "        [ 3,  8,  0,  4,  4]]])"
      ]
     },
     "execution_count": 27,
     "metadata": {},
     "output_type": "execute_result"
    }
   ],
   "source": [
    "# Arrays numpy possuem N dimensões possíveis\n",
    "array1 = np.random.randint(0, 11, size=(5, 5, 5)); array1"
   ]
  },
  {
   "cell_type": "code",
   "execution_count": 32,
   "id": "7c8ddbfd",
   "metadata": {},
   "outputs": [
    {
     "data": {
      "text/plain": [
       "matrix([[5, 2, 3],\n",
       "        [1, 2, 3],\n",
       "        [7, 8, 9]])"
      ]
     },
     "execution_count": 32,
     "metadata": {},
     "output_type": "execute_result"
    }
   ],
   "source": [
    "# Matrizes numpy possuem restritamente 2 dimensões\n",
    "matrix1 = np.matrix([[5, 2, 3], [1, 2, 3], [7, 8, 9]]); matrix1"
   ]
  },
  {
   "cell_type": "code",
   "execution_count": 33,
   "id": "a41f3f0e",
   "metadata": {},
   "outputs": [
    {
     "data": {
      "text/plain": [
       "matrix([[5, 1, 7],\n",
       "        [2, 2, 8],\n",
       "        [3, 3, 9]])"
      ]
     },
     "execution_count": 33,
     "metadata": {},
     "output_type": "execute_result"
    }
   ],
   "source": [
    "# Transposta da matriz\n",
    "matrix1.T"
   ]
  },
  {
   "cell_type": "code",
   "execution_count": 34,
   "id": "3b8a987a",
   "metadata": {},
   "outputs": [
    {
     "data": {
      "text/plain": [
       "matrix([[ 0.25      , -0.25      ,  0.        ],\n",
       "        [-0.5       , -1.        ,  0.5       ],\n",
       "        [ 0.25      ,  1.08333333, -0.33333333]])"
      ]
     },
     "execution_count": 34,
     "metadata": {},
     "output_type": "execute_result"
    }
   ],
   "source": [
    "# Inversa da matriz\n",
    "matrix1.I"
   ]
  },
  {
   "cell_type": "code",
   "execution_count": 39,
   "id": "be58cb3c",
   "metadata": {},
   "outputs": [
    {
     "data": {
      "text/plain": [
       "matrix([[5, 1, 7],\n",
       "        [2, 2, 8],\n",
       "        [3, 3, 9]])"
      ]
     },
     "execution_count": 39,
     "metadata": {},
     "output_type": "execute_result"
    }
   ],
   "source": [
    "# Transposta Conjugada\n",
    "matrix1.H"
   ]
  },
  {
   "cell_type": "code",
   "execution_count": 38,
   "id": "e4bf357b",
   "metadata": {},
   "outputs": [
    {
     "data": {
      "text/plain": [
       "matrix([[ 1.00000000e+00,  1.11022302e-16,  2.22044605e-16],\n",
       "        [-4.44089210e-16,  1.00000000e+00,  0.00000000e+00],\n",
       "        [ 2.77555756e-16,  0.00000000e+00,  1.00000000e+00]])"
      ]
     },
     "execution_count": 38,
     "metadata": {},
     "output_type": "execute_result"
    }
   ],
   "source": [
    "# Gerando uma matriz indentidade\n",
    "matrix1.I * matrix1"
   ]
  },
  {
   "cell_type": "code",
   "execution_count": null,
   "id": "fc97bef6",
   "metadata": {},
   "outputs": [],
   "source": []
  }
 ],
 "metadata": {
  "kernelspec": {
   "display_name": "Python 3 (ipykernel)",
   "language": "python",
   "name": "python3"
  },
  "language_info": {
   "codemirror_mode": {
    "name": "ipython",
    "version": 3
   },
   "file_extension": ".py",
   "mimetype": "text/x-python",
   "name": "python",
   "nbconvert_exporter": "python",
   "pygments_lexer": "ipython3",
   "version": "3.9.16"
  }
 },
 "nbformat": 4,
 "nbformat_minor": 5
}
