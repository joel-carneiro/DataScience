{
 "cells": [
  {
   "cell_type": "markdown",
   "id": "011ba864",
   "metadata": {},
   "source": [
    "# Módulo Pandas"
   ]
  },
  {
   "cell_type": "markdown",
   "id": "26a89bde",
   "metadata": {},
   "source": [
    "## Series"
   ]
  },
  {
   "cell_type": "code",
   "execution_count": 1,
   "id": "5ec6bbd9",
   "metadata": {},
   "outputs": [],
   "source": [
    "# Importando o módulo pandas\n",
    "import pandas as pd\n",
    "\n",
    "# Importando o módulo numpy\n",
    "import numpy as np"
   ]
  },
  {
   "cell_type": "code",
   "execution_count": 2,
   "id": "83273e8c",
   "metadata": {},
   "outputs": [
    {
     "data": {
      "text/plain": [
       "0    0.743686\n",
       "1    0.161169\n",
       "2    0.374649\n",
       "3    0.452274\n",
       "4    0.895822\n",
       "5    0.813296\n",
       "6    0.671700\n",
       "7    0.616393\n",
       "8    0.102314\n",
       "9    0.858369\n",
       "dtype: float64"
      ]
     },
     "execution_count": 2,
     "metadata": {},
     "output_type": "execute_result"
    }
   ],
   "source": [
    "# Instânciando uma Series\n",
    "series1 = pd.Series(np.random.rand(10)); series1"
   ]
  },
  {
   "cell_type": "code",
   "execution_count": 3,
   "id": "0b8d72e0",
   "metadata": {},
   "outputs": [
    {
     "data": {
      "text/plain": [
       "pandas.core.series.Series"
      ]
     },
     "execution_count": 3,
     "metadata": {},
     "output_type": "execute_result"
    }
   ],
   "source": [
    "# Visualizando o tipo da Series\n",
    "type(series1)"
   ]
  },
  {
   "cell_type": "code",
   "execution_count": 4,
   "id": "a0b3ec1a",
   "metadata": {},
   "outputs": [
    {
     "data": {
      "text/plain": [
       "Janeiro       1\n",
       "Fevereiro     2\n",
       "Março         3\n",
       "Abril         4\n",
       "Maio          5\n",
       "Junho         6\n",
       "Julho         7\n",
       "Agosto        8\n",
       "Setembro      9\n",
       "Outubro      10\n",
       "Novembro     11\n",
       "Dezembro     12\n",
       "dtype: int64"
      ]
     },
     "execution_count": 4,
     "metadata": {},
     "output_type": "execute_result"
    }
   ],
   "source": [
    "# Criando uma array numpy com os meses do ano\n",
    "meses_do_ano_extenso = np.array([\n",
    "    'Janeiro', 'Fevereiro', 'Março',\n",
    "    'Abril', 'Maio', 'Junho',\n",
    "    'Julho', 'Agosto', 'Setembro',\n",
    "    'Outubro', 'Novembro', 'Dezembro'\n",
    "])\n",
    "\n",
    "# Definindo um array com números de 1 a 12\n",
    "meses_do_ano_numeros = np.arange(1, 13, 1)\n",
    "\n",
    "series2 = pd.Series(data = meses_do_ano_numeros, index=meses_do_ano_extenso); series2"
   ]
  },
  {
   "cell_type": "code",
   "execution_count": 7,
   "id": "362c3bcc",
   "metadata": {},
   "outputs": [
    {
     "data": {
      "text/plain": [
       "Index(['Janeiro', 'Fevereiro', 'Março', 'Abril', 'Maio', 'Junho', 'Julho',\n",
       "       'Agosto', 'Setembro', 'Outubro', 'Novembro', 'Dezembro'],\n",
       "      dtype='object')"
      ]
     },
     "execution_count": 7,
     "metadata": {},
     "output_type": "execute_result"
    }
   ],
   "source": [
    "# Acessando o atributo index\n",
    "series2.index"
   ]
  },
  {
   "cell_type": "code",
   "execution_count": 8,
   "id": "d0c741cf",
   "metadata": {},
   "outputs": [
    {
     "data": {
      "text/plain": [
       "Brasil                         Real\n",
       "Estados Unidos                Dólar\n",
       "Japão                          Iene\n",
       "Reino Unido                    Euro\n",
       "Austrália         Dólar Australiano\n",
       "dtype: object"
      ]
     },
     "execution_count": 8,
     "metadata": {},
     "output_type": "execute_result"
    }
   ],
   "source": [
    "# Criando uma Series de países\n",
    "paises = {\n",
    "    'Brasil': 'Real',\n",
    "    'Estados Unidos': 'Dólar',\n",
    "    'Japão': 'Iene',\n",
    "    'Reino Unido': 'Euro',\n",
    "    'Austrália': 'Dólar Australiano'\n",
    "}\n",
    "\n",
    "series3 = pd.Series(data=paises); series3"
   ]
  },
  {
   "cell_type": "code",
   "execution_count": 9,
   "id": "e0fe58d7",
   "metadata": {},
   "outputs": [
    {
     "data": {
      "text/plain": [
       "Cabeça    Humano\n",
       "Tronco    Humano\n",
       "Braços    Humano\n",
       "Pernas    Humano\n",
       "dtype: object"
      ]
     },
     "execution_count": 9,
     "metadata": {},
     "output_type": "execute_result"
    }
   ],
   "source": [
    "# Series com valores escalares\n",
    "series4 = pd.Series('Humano', index=['Cabeça', 'Tronco', 'Braços', 'Pernas']); series4"
   ]
  },
  {
   "cell_type": "code",
   "execution_count": 10,
   "id": "78f95d9b",
   "metadata": {},
   "outputs": [
    {
     "data": {
      "text/plain": [
       "'Real'"
      ]
     },
     "execution_count": 10,
     "metadata": {},
     "output_type": "execute_result"
    }
   ],
   "source": [
    "# Acessando elementos específicos\n",
    "series3['Brasil']"
   ]
  },
  {
   "cell_type": "code",
   "execution_count": 11,
   "id": "5e5bf3b6",
   "metadata": {},
   "outputs": [
    {
     "data": {
      "text/plain": [
       "Cabeça      Leão\n",
       "Tronco    Humano\n",
       "Braços    Humano\n",
       "Pernas    Humano\n",
       "dtype: object"
      ]
     },
     "execution_count": 11,
     "metadata": {},
     "output_type": "execute_result"
    }
   ],
   "source": [
    "# Alterando um elemento\n",
    "series4['Cabeça'] = 'Leão'; series4"
   ]
  },
  {
   "cell_type": "code",
   "execution_count": 12,
   "id": "b665166f",
   "metadata": {},
   "outputs": [
    {
     "data": {
      "text/plain": [
       "Brasil             Real\n",
       "Estados Unidos    Dólar\n",
       "Japão              Iene\n",
       "dtype: object"
      ]
     },
     "execution_count": 12,
     "metadata": {},
     "output_type": "execute_result"
    }
   ],
   "source": [
    "# Operando com slicing\n",
    "series3[:3]"
   ]
  },
  {
   "cell_type": "code",
   "execution_count": 13,
   "id": "8a97745c",
   "metadata": {},
   "outputs": [
    {
     "data": {
      "text/plain": [
       "Janeiro      False\n",
       "Fevereiro    False\n",
       "Março        False\n",
       "Abril        False\n",
       "Maio         False\n",
       "Junho        False\n",
       "Julho         True\n",
       "Agosto        True\n",
       "Setembro      True\n",
       "Outubro       True\n",
       "Novembro      True\n",
       "Dezembro      True\n",
       "dtype: bool"
      ]
     },
     "execution_count": 13,
     "metadata": {},
     "output_type": "execute_result"
    }
   ],
   "source": [
    "# Operação de comparação\n",
    "series2 > 6"
   ]
  },
  {
   "cell_type": "code",
   "execution_count": 14,
   "id": "053a1357",
   "metadata": {},
   "outputs": [
    {
     "data": {
      "text/plain": [
       "6.5"
      ]
     },
     "execution_count": 14,
     "metadata": {},
     "output_type": "execute_result"
    }
   ],
   "source": [
    "# Calculando a média\n",
    "np.mean(series2)"
   ]
  },
  {
   "cell_type": "code",
   "execution_count": 15,
   "id": "1c080c62",
   "metadata": {},
   "outputs": [
    {
     "data": {
      "text/plain": [
       "3.452052529534663"
      ]
     },
     "execution_count": 15,
     "metadata": {},
     "output_type": "execute_result"
    }
   ],
   "source": [
    "# Desvio padrão\n",
    "np.std(series2)"
   ]
  },
  {
   "cell_type": "markdown",
   "id": "3e006cf5",
   "metadata": {},
   "source": [
    "## DataFrame"
   ]
  },
  {
   "cell_type": "code",
   "execution_count": 16,
   "id": "c51325c8",
   "metadata": {},
   "outputs": [
    {
     "data": {
      "text/plain": [
       "{'Produto': ['Sapato', 'Tênis', 'Sandália'],\n",
       " 'Preço': [75.99, 65.99, 29.99],\n",
       " 'Dia': [20230415, 20230416, 20230417]}"
      ]
     },
     "execution_count": 16,
     "metadata": {},
     "output_type": "execute_result"
    }
   ],
   "source": [
    "# Criando um dicionário python com produtos \n",
    "dicionario_python = {\n",
    "    \"Produto\" : ['Sapato', 'Tênis', 'Sandália'],\n",
    "    \"Preço\" : [75.99, 65.99, 29.99],\n",
    "    \"Dia\" : [20230415, 20230416, 20230417]\n",
    "}\n",
    "\n",
    "dicionario_python"
   ]
  },
  {
   "cell_type": "code",
   "execution_count": 17,
   "id": "441d68a6",
   "metadata": {},
   "outputs": [
    {
     "data": {
      "text/html": [
       "<div>\n",
       "<style scoped>\n",
       "    .dataframe tbody tr th:only-of-type {\n",
       "        vertical-align: middle;\n",
       "    }\n",
       "\n",
       "    .dataframe tbody tr th {\n",
       "        vertical-align: top;\n",
       "    }\n",
       "\n",
       "    .dataframe thead th {\n",
       "        text-align: right;\n",
       "    }\n",
       "</style>\n",
       "<table border=\"1\" class=\"dataframe\">\n",
       "  <thead>\n",
       "    <tr style=\"text-align: right;\">\n",
       "      <th></th>\n",
       "      <th>Produto</th>\n",
       "      <th>Preço</th>\n",
       "      <th>Dia</th>\n",
       "    </tr>\n",
       "  </thead>\n",
       "  <tbody>\n",
       "    <tr>\n",
       "      <th>0</th>\n",
       "      <td>Sapato</td>\n",
       "      <td>75.99</td>\n",
       "      <td>20230415</td>\n",
       "    </tr>\n",
       "    <tr>\n",
       "      <th>1</th>\n",
       "      <td>Tênis</td>\n",
       "      <td>65.99</td>\n",
       "      <td>20230416</td>\n",
       "    </tr>\n",
       "    <tr>\n",
       "      <th>2</th>\n",
       "      <td>Sandália</td>\n",
       "      <td>29.99</td>\n",
       "      <td>20230417</td>\n",
       "    </tr>\n",
       "  </tbody>\n",
       "</table>\n",
       "</div>"
      ],
      "text/plain": [
       "    Produto  Preço       Dia\n",
       "0    Sapato  75.99  20230415\n",
       "1     Tênis  65.99  20230416\n",
       "2  Sandália  29.99  20230417"
      ]
     },
     "execution_count": 17,
     "metadata": {},
     "output_type": "execute_result"
    }
   ],
   "source": [
    "# Instânciando um DataFrame a partir do dicionário\n",
    "dataframe1 = pd.DataFrame(dicionario_python); dataframe1"
   ]
  },
  {
   "cell_type": "code",
   "execution_count": 19,
   "id": "f68d2f97",
   "metadata": {},
   "outputs": [
    {
     "data": {
      "text/plain": [
       "tuple"
      ]
     },
     "execution_count": 19,
     "metadata": {},
     "output_type": "execute_result"
    }
   ],
   "source": [
    "# Acessando o atributo shape\n",
    "type(dataframe1.shape)"
   ]
  },
  {
   "cell_type": "code",
   "execution_count": 20,
   "id": "8354ca0d",
   "metadata": {},
   "outputs": [
    {
     "data": {
      "text/plain": [
       "0      Sapato\n",
       "1       Tênis\n",
       "2    Sandália\n",
       "Name: Produto, dtype: object"
      ]
     },
     "execution_count": 20,
     "metadata": {},
     "output_type": "execute_result"
    }
   ],
   "source": [
    "# Acessando a variável Produto\n",
    "dataframe1['Produto']"
   ]
  },
  {
   "cell_type": "code",
   "execution_count": 21,
   "id": "96638088",
   "metadata": {},
   "outputs": [
    {
     "data": {
      "text/html": [
       "<div>\n",
       "<style scoped>\n",
       "    .dataframe tbody tr th:only-of-type {\n",
       "        vertical-align: middle;\n",
       "    }\n",
       "\n",
       "    .dataframe tbody tr th {\n",
       "        vertical-align: top;\n",
       "    }\n",
       "\n",
       "    .dataframe thead th {\n",
       "        text-align: right;\n",
       "    }\n",
       "</style>\n",
       "<table border=\"1\" class=\"dataframe\">\n",
       "  <thead>\n",
       "    <tr style=\"text-align: right;\">\n",
       "      <th></th>\n",
       "      <th>Produto</th>\n",
       "      <th>Preço</th>\n",
       "    </tr>\n",
       "  </thead>\n",
       "  <tbody>\n",
       "    <tr>\n",
       "      <th>0</th>\n",
       "      <td>Sapato</td>\n",
       "      <td>75.99</td>\n",
       "    </tr>\n",
       "    <tr>\n",
       "      <th>1</th>\n",
       "      <td>Tênis</td>\n",
       "      <td>65.99</td>\n",
       "    </tr>\n",
       "    <tr>\n",
       "      <th>2</th>\n",
       "      <td>Sandália</td>\n",
       "      <td>29.99</td>\n",
       "    </tr>\n",
       "  </tbody>\n",
       "</table>\n",
       "</div>"
      ],
      "text/plain": [
       "    Produto  Preço\n",
       "0    Sapato  75.99\n",
       "1     Tênis  65.99\n",
       "2  Sandália  29.99"
      ]
     },
     "execution_count": 21,
     "metadata": {},
     "output_type": "execute_result"
    }
   ],
   "source": [
    "# Acessando variáveis específicas\n",
    "dataframe1[['Produto', 'Preço']]"
   ]
  },
  {
   "cell_type": "code",
   "execution_count": 22,
   "id": "a4bda8e4",
   "metadata": {},
   "outputs": [
    {
     "data": {
      "text/plain": [
       "Produto      Sapato\n",
       "Preço         75.99\n",
       "Dia        20230415\n",
       "Name: 0, dtype: object"
      ]
     },
     "execution_count": 22,
     "metadata": {},
     "output_type": "execute_result"
    }
   ],
   "source": [
    "# Acessando uma observação pelo index\n",
    "dataframe1.loc[0]"
   ]
  },
  {
   "cell_type": "code",
   "execution_count": 23,
   "id": "f0b5221b",
   "metadata": {},
   "outputs": [
    {
     "data": {
      "text/plain": [
       "Produto      Sapato\n",
       "Preço         75.99\n",
       "Dia        20230415\n",
       "Name: 0, dtype: object"
      ]
     },
     "execution_count": 23,
     "metadata": {},
     "output_type": "execute_result"
    }
   ],
   "source": [
    "# Acessando uma observação pelo index númerico\n",
    "dataframe1.iloc[0]"
   ]
  },
  {
   "cell_type": "code",
   "execution_count": null,
   "id": "95c4bcf8",
   "metadata": {},
   "outputs": [],
   "source": []
  }
 ],
 "metadata": {
  "kernelspec": {
   "display_name": "Python 3 (ipykernel)",
   "language": "python",
   "name": "python3"
  },
  "language_info": {
   "codemirror_mode": {
    "name": "ipython",
    "version": 3
   },
   "file_extension": ".py",
   "mimetype": "text/x-python",
   "name": "python",
   "nbconvert_exporter": "python",
   "pygments_lexer": "ipython3",
   "version": "3.9.16"
  }
 },
 "nbformat": 4,
 "nbformat_minor": 5
}
