{
 "cells": [
  {
   "cell_type": "markdown",
   "id": "5628adff",
   "metadata": {},
   "source": [
    "# Computação e Álgebra Linear com Numpy"
   ]
  },
  {
   "cell_type": "code",
   "execution_count": 42,
   "id": "a6e29a82",
   "metadata": {},
   "outputs": [],
   "source": [
    "# Importando o módulo numpy\n",
    "import numpy as np"
   ]
  },
  {
   "cell_type": "code",
   "execution_count": 43,
   "id": "b36e7cad",
   "metadata": {},
   "outputs": [
    {
     "data": {
      "text/plain": [
       "array([2, 3, 5, 7])"
      ]
     },
     "execution_count": 43,
     "metadata": {},
     "output_type": "execute_result"
    }
   ],
   "source": [
    "# Criando um array de 1 dimensão (unidimensional)\n",
    "array1 = np.array([2, 3, 5, 7]); array1"
   ]
  },
  {
   "cell_type": "code",
   "execution_count": 44,
   "id": "19f28656",
   "metadata": {},
   "outputs": [
    {
     "data": {
      "text/plain": [
       "array([[2, 3, 5, 7],\n",
       "       [1, 2, 3, 4]])"
      ]
     },
     "execution_count": 44,
     "metadata": {},
     "output_type": "execute_result"
    }
   ],
   "source": [
    "# Criando um array de 2 dimensões (bidimensional)\n",
    "array2 = np.array([[2, 3, 5, 7], [1, 2, 3, 4]]); array2"
   ]
  },
  {
   "cell_type": "code",
   "execution_count": 45,
   "id": "4fc11e20",
   "metadata": {},
   "outputs": [
    {
     "data": {
      "text/plain": [
       "(2, 4)"
      ]
     },
     "execution_count": 45,
     "metadata": {},
     "output_type": "execute_result"
    }
   ],
   "source": [
    "# Verificando o formato atráves do atributo shape\n",
    "array2.shape"
   ]
  },
  {
   "cell_type": "code",
   "execution_count": 46,
   "id": "6d3a6fff",
   "metadata": {},
   "outputs": [
    {
     "data": {
      "text/plain": [
       "2"
      ]
     },
     "execution_count": 46,
     "metadata": {},
     "output_type": "execute_result"
    }
   ],
   "source": [
    "# Número de dimensões atráves do atributo ndim\n",
    "array2.ndim"
   ]
  },
  {
   "cell_type": "code",
   "execution_count": 47,
   "id": "8326ece9",
   "metadata": {},
   "outputs": [
    {
     "data": {
      "text/plain": [
       "7"
      ]
     },
     "execution_count": 47,
     "metadata": {},
     "output_type": "execute_result"
    }
   ],
   "source": [
    "# Verificando o maior elemento atráves do método max\n",
    "array2.max()"
   ]
  },
  {
   "cell_type": "code",
   "execution_count": 48,
   "id": "f8f9c36e",
   "metadata": {},
   "outputs": [
    {
     "data": {
      "text/plain": [
       "array([[2, 1],\n",
       "       [3, 2],\n",
       "       [5, 3],\n",
       "       [7, 4]])"
      ]
     },
     "execution_count": 48,
     "metadata": {},
     "output_type": "execute_result"
    }
   ],
   "source": [
    "# Criando a matriz transposta atráves do atributo T\n",
    "array2.T"
   ]
  },
  {
   "cell_type": "code",
   "execution_count": 49,
   "id": "5e3c87a4",
   "metadata": {},
   "outputs": [
    {
     "data": {
      "text/plain": [
       "array([ 0,  1,  2,  3,  4,  5,  6,  7,  8,  9, 10, 11, 12, 13, 14])"
      ]
     },
     "execution_count": 49,
     "metadata": {},
     "output_type": "execute_result"
    }
   ],
   "source": [
    "# Criando um vetor com elementos inteiros\n",
    "array3 = np.arange(15); array3"
   ]
  },
  {
   "cell_type": "code",
   "execution_count": 50,
   "id": "61c1dc52",
   "metadata": {},
   "outputs": [
    {
     "data": {
      "text/plain": [
       "array([ 0,  5, 10])"
      ]
     },
     "execution_count": 50,
     "metadata": {},
     "output_type": "execute_result"
    }
   ],
   "source": [
    "# Verificando maiores parâmetros do método arange\n",
    "array4 = np.arange(0,15, 5); array4"
   ]
  },
  {
   "cell_type": "code",
   "execution_count": 51,
   "id": "d6594185",
   "metadata": {},
   "outputs": [
    {
     "data": {
      "text/plain": [
       "array([ 0. ,  2.5,  5. ,  7.5, 10. ])"
      ]
     },
     "execution_count": 51,
     "metadata": {},
     "output_type": "execute_result"
    }
   ],
   "source": [
    "# Criando um array linear\n",
    "array5 = np.linspace(0, 10, 5); array5 # Números de 0 a 10, contendo 5 elementos"
   ]
  },
  {
   "cell_type": "code",
   "execution_count": 52,
   "id": "64724055",
   "metadata": {},
   "outputs": [
    {
     "data": {
      "text/plain": [
       "array([[0., 0., 0., 0., 0., 0.],\n",
       "       [0., 0., 0., 0., 0., 0.],\n",
       "       [0., 0., 0., 0., 0., 0.],\n",
       "       [0., 0., 0., 0., 0., 0.],\n",
       "       [0., 0., 0., 0., 0., 0.]])"
      ]
     },
     "execution_count": 52,
     "metadata": {},
     "output_type": "execute_result"
    }
   ],
   "source": [
    "# Criando um array (ou matriz) atráves da função zeros\n",
    "array6 = np.zeros((5, 6)); array6 # 5 Linhas por 6 colunas"
   ]
  },
  {
   "cell_type": "code",
   "execution_count": 53,
   "id": "43165c9e",
   "metadata": {},
   "outputs": [
    {
     "data": {
      "text/plain": [
       "array([[1., 1., 1., 1., 1., 1.],\n",
       "       [1., 1., 1., 1., 1., 1.],\n",
       "       [1., 1., 1., 1., 1., 1.],\n",
       "       [1., 1., 1., 1., 1., 1.],\n",
       "       [1., 1., 1., 1., 1., 1.]])"
      ]
     },
     "execution_count": 53,
     "metadata": {},
     "output_type": "execute_result"
    }
   ],
   "source": [
    "# Criando um array (ou matriz) atráves da função ones\n",
    "array7 = np.ones((5, 6)); array7 # 5 Linhas por 6 colunas"
   ]
  },
  {
   "cell_type": "code",
   "execution_count": 54,
   "id": "fc75993e",
   "metadata": {},
   "outputs": [
    {
     "data": {
      "text/plain": [
       "array([[1., 0., 0., 0., 0., 0.],\n",
       "       [0., 1., 0., 0., 0., 0.],\n",
       "       [0., 0., 1., 0., 0., 0.],\n",
       "       [0., 0., 0., 1., 0., 0.],\n",
       "       [0., 0., 0., 0., 1., 0.],\n",
       "       [0., 0., 0., 0., 0., 1.]])"
      ]
     },
     "execution_count": 54,
     "metadata": {},
     "output_type": "execute_result"
    }
   ],
   "source": [
    "# Criando uma matriz identidade\n",
    "array8 = np.eye(6); array8"
   ]
  },
  {
   "cell_type": "code",
   "execution_count": 55,
   "id": "aaed6aeb",
   "metadata": {},
   "outputs": [
    {
     "data": {
      "text/plain": [
       "array([[2, 0, 0, 0],\n",
       "       [0, 3, 0, 0],\n",
       "       [0, 0, 5, 0],\n",
       "       [0, 0, 0, 7]])"
      ]
     },
     "execution_count": 55,
     "metadata": {},
     "output_type": "execute_result"
    }
   ],
   "source": [
    "# Criando uma matriz com a diagonal personalizada\n",
    "array9 = np.diag([2, 3, 5, 7]); array9"
   ]
  },
  {
   "cell_type": "code",
   "execution_count": 56,
   "id": "00b18fb8",
   "metadata": {},
   "outputs": [
    {
     "data": {
      "text/plain": [
       "array([0.62550925, 0.58141958, 0.68620195, 0.92628952, 0.01990592])"
      ]
     },
     "execution_count": 56,
     "metadata": {},
     "output_type": "execute_result"
    }
   ],
   "source": [
    "# Criando um vetor de números aleatórios\n",
    "array10 = np.random.rand(5); array10"
   ]
  },
  {
   "cell_type": "code",
   "execution_count": 57,
   "id": "f511e167",
   "metadata": {},
   "outputs": [
    {
     "data": {
      "text/plain": [
       "array([ 0.45544472,  0.26730375,  1.70010805,  0.74519093, -0.40252662])"
      ]
     },
     "execution_count": 57,
     "metadata": {},
     "output_type": "execute_result"
    }
   ],
   "source": [
    "# Criando um vetor de números aleatórios em distribuição normal\n",
    "array11 = np.random.randn(5); array11"
   ]
  },
  {
   "cell_type": "code",
   "execution_count": 64,
   "id": "16b33756",
   "metadata": {},
   "outputs": [
    {
     "data": {
      "text/plain": [
       "array([[1., 1.],\n",
       "       [1., 1.],\n",
       "       [1., 1.]])"
      ]
     },
     "execution_count": 64,
     "metadata": {},
     "output_type": "execute_result"
    }
   ],
   "source": [
    "# Criando uma matriz vazia\n",
    "array12 = np.empty((3, 2)); array12"
   ]
  },
  {
   "cell_type": "code",
   "execution_count": 71,
   "id": "a457d1d7",
   "metadata": {},
   "outputs": [
    {
     "data": {
      "text/plain": [
       "array([[ 2,  3,  5,  7,  2,  3,  5,  7],\n",
       "       [11, 13, 17, 19, 11, 13, 17, 19],\n",
       "       [ 2,  3,  5,  7,  2,  3,  5,  7],\n",
       "       [11, 13, 17, 19, 11, 13, 17, 19]])"
      ]
     },
     "execution_count": 71,
     "metadata": {},
     "output_type": "execute_result"
    }
   ],
   "source": [
    "# Criando array para o próximo exemplo\n",
    "array13 = np.array([[2, 3, 5, 7], [11, 13, 17, 19]]); array13\n",
    "\n",
    "# Fazendo ladrilhos com o array acima\n",
    "np.tile(array13, (2, 2))"
   ]
  },
  {
   "cell_type": "code",
   "execution_count": 74,
   "id": "063544c0",
   "metadata": {},
   "outputs": [
    {
     "data": {
      "text/plain": [
       "array([2., 3., 5., 7.])"
      ]
     },
     "execution_count": 74,
     "metadata": {},
     "output_type": "execute_result"
    }
   ],
   "source": [
    "# Utilizando o parâmetro dtype para definir os tipos dos elementos do array\n",
    "array14 = np.array([2, 3, 5, 7], dtype = 'float'); array14"
   ]
  },
  {
   "cell_type": "code",
   "execution_count": 76,
   "id": "b60fc17d",
   "metadata": {},
   "outputs": [
    {
     "data": {
      "text/plain": [
       "dtype('<U8')"
      ]
     },
     "execution_count": 76,
     "metadata": {},
     "output_type": "execute_result"
    }
   ],
   "source": [
    "# Visualizando o dtype do tipo string\n",
    "array15 = np.array(['Python', 'is', 'amazing!']); array15.dtype"
   ]
  },
  {
   "cell_type": "code",
   "execution_count": 77,
   "id": "0294827d",
   "metadata": {},
   "outputs": [
    {
     "data": {
      "text/plain": [
       "dtype('bool')"
      ]
     },
     "execution_count": 77,
     "metadata": {},
     "output_type": "execute_result"
    }
   ],
   "source": [
    "# Criando array do tipo booleano\n",
    "array16 = np.array([True, False, True, False]); array16.dtype"
   ]
  },
  {
   "cell_type": "code",
   "execution_count": 79,
   "id": "97d48147",
   "metadata": {},
   "outputs": [
    {
     "data": {
      "text/plain": [
       "array([1, 0, 1, 0])"
      ]
     },
     "execution_count": 79,
     "metadata": {},
     "output_type": "execute_result"
    }
   ],
   "source": [
    "# Convertendo arrays para outro tipo de dado\n",
    "array17 = array16.astype(int); array17"
   ]
  },
  {
   "cell_type": "code",
   "execution_count": 82,
   "id": "aa3fba20",
   "metadata": {},
   "outputs": [
    {
     "data": {
      "text/plain": [
       "array([  0, 100, 200, 300, 400])"
      ]
     },
     "execution_count": 82,
     "metadata": {},
     "output_type": "execute_result"
    }
   ],
   "source": [
    "# Operações com arrays\n",
    "array18 = np.arange(0, 100, 20)\n",
    "\n",
    "# Multipicando todos os elementos por 5\n",
    "array18 * 5"
   ]
  },
  {
   "cell_type": "code",
   "execution_count": 84,
   "id": "92a58e62",
   "metadata": {},
   "outputs": [
    {
     "data": {
      "text/plain": [
       "array([       0,   160000,  2560000, 12960000, 40960000])"
      ]
     },
     "execution_count": 84,
     "metadata": {},
     "output_type": "execute_result"
    }
   ],
   "source": [
    "# Também é possível utilizar a operação de potenciação\n",
    "array18 ** 4"
   ]
  },
  {
   "cell_type": "code",
   "execution_count": 86,
   "id": "9600b584",
   "metadata": {},
   "outputs": [
    {
     "data": {
      "text/plain": [
       "array([ 1, 21, 41, 61, 81])"
      ]
     },
     "execution_count": 86,
     "metadata": {},
     "output_type": "execute_result"
    }
   ],
   "source": [
    "# Somando 1 a cada elemento do array\n",
    "array18 + 1"
   ]
  },
  {
   "cell_type": "code",
   "execution_count": 87,
   "id": "476944f2",
   "metadata": {},
   "outputs": [
    {
     "data": {
      "text/plain": [
       "array([ 0,  2,  4,  6,  8, 10, 12, 14, 16, 18])"
      ]
     },
     "execution_count": 87,
     "metadata": {},
     "output_type": "execute_result"
    }
   ],
   "source": [
    "# Números pares de 0 a 20\n",
    "array19 = np.arange(0, 20, 2); array19"
   ]
  },
  {
   "cell_type": "code",
   "execution_count": 90,
   "id": "c21eed4f",
   "metadata": {},
   "outputs": [
    {
     "data": {
      "text/plain": [
       "array([ 1,  3,  5,  7,  9, 11, 13, 15, 17, 19])"
      ]
     },
     "execution_count": 90,
     "metadata": {},
     "output_type": "execute_result"
    }
   ],
   "source": [
    "# Números ímpares de 0 a 20\n",
    "array20 = np.arange(1, 20, 2); array20"
   ]
  },
  {
   "cell_type": "code",
   "execution_count": 91,
   "id": "192eecd4",
   "metadata": {},
   "outputs": [
    {
     "data": {
      "text/plain": [
       "array([ 1,  5,  9, 13, 17, 21, 25, 29, 33, 37])"
      ]
     },
     "execution_count": 91,
     "metadata": {},
     "output_type": "execute_result"
    }
   ],
   "source": [
    "# Soma com arrays\n",
    "array19 + array20 "
   ]
  },
  {
   "cell_type": "code",
   "execution_count": 94,
   "id": "6587f2f8",
   "metadata": {},
   "outputs": [
    {
     "data": {
      "text/plain": [
       "array([1, 1, 1, 1, 1, 1, 1, 1, 1, 1])"
      ]
     },
     "execution_count": 94,
     "metadata": {},
     "output_type": "execute_result"
    }
   ],
   "source": [
    "# Subtração com arrays\n",
    "array20 - array19"
   ]
  },
  {
   "cell_type": "code",
   "execution_count": 95,
   "id": "0629c17c",
   "metadata": {},
   "outputs": [
    {
     "data": {
      "text/plain": [
       "array([  0,   6,  20,  42,  72, 110, 156, 210, 272, 342])"
      ]
     },
     "execution_count": 95,
     "metadata": {},
     "output_type": "execute_result"
    }
   ],
   "source": [
    "# Multiplicação de arrays\n",
    "array19 * array20"
   ]
  },
  {
   "cell_type": "code",
   "execution_count": 97,
   "id": "68aabe66",
   "metadata": {},
   "outputs": [
    {
     "data": {
      "text/plain": [
       "array([0.        , 0.66666667, 0.8       , 0.85714286, 0.88888889,\n",
       "       0.90909091, 0.92307692, 0.93333333, 0.94117647, 0.94736842])"
      ]
     },
     "execution_count": 97,
     "metadata": {},
     "output_type": "execute_result"
    }
   ],
   "source": [
    "# Divisão de arrays\n",
    "array19 / array20"
   ]
  },
  {
   "cell_type": "code",
   "execution_count": 98,
   "id": "89e0101b",
   "metadata": {},
   "outputs": [
    {
     "data": {
      "text/plain": [
       "array([False, False, False, False, False, False, False, False, False,\n",
       "       False])"
      ]
     },
     "execution_count": 98,
     "metadata": {},
     "output_type": "execute_result"
    }
   ],
   "source": [
    "# Comparando arrays\n",
    "array19 > array20"
   ]
  },
  {
   "cell_type": "code",
   "execution_count": 99,
   "id": "51eb8cbd",
   "metadata": {},
   "outputs": [
    {
     "data": {
      "text/plain": [
       "array([ True,  True,  True,  True,  True,  True,  True,  True,  True,\n",
       "        True])"
      ]
     },
     "execution_count": 99,
     "metadata": {},
     "output_type": "execute_result"
    }
   ],
   "source": [
    "# Comparando arrays\n",
    "array19 < array20"
   ]
  },
  {
   "cell_type": "code",
   "execution_count": 101,
   "id": "4c881c6d",
   "metadata": {},
   "outputs": [],
   "source": [
    "# Criando arrays python e numpy para comparação\n",
    "array_python = range(1000000)\n",
    "array_numpy = np.arange(1000000)"
   ]
  },
  {
   "cell_type": "code",
   "execution_count": 104,
   "id": "05d8453f",
   "metadata": {},
   "outputs": [
    {
     "name": "stdout",
     "output_type": "stream",
     "text": [
      "621 ms ± 14.1 ms per loop (mean ± std. dev. of 7 runs, 1 loop each)\n"
     ]
    }
   ],
   "source": [
    "# Testando a velocidade do python\n",
    "%timeit [x ** 4 for x in array_python]"
   ]
  },
  {
   "cell_type": "code",
   "execution_count": 103,
   "id": "fb5aef80",
   "metadata": {},
   "outputs": [
    {
     "name": "stdout",
     "output_type": "stream",
     "text": [
      "5.91 ms ± 143 µs per loop (mean ± std. dev. of 7 runs, 100 loops each)\n"
     ]
    }
   ],
   "source": [
    "# Testando a velocidade do numpy\n",
    "%timeit array_numpy ** 4"
   ]
  }
 ],
 "metadata": {
  "kernelspec": {
   "display_name": "Python 3 (ipykernel)",
   "language": "python",
   "name": "python3"
  },
  "language_info": {
   "codemirror_mode": {
    "name": "ipython",
    "version": 3
   },
   "file_extension": ".py",
   "mimetype": "text/x-python",
   "name": "python",
   "nbconvert_exporter": "python",
   "pygments_lexer": "ipython3",
   "version": "3.9.16"
  }
 },
 "nbformat": 4,
 "nbformat_minor": 5
}
