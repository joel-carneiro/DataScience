{
 "cells": [
  {
   "cell_type": "markdown",
   "id": "bb4c72ce",
   "metadata": {},
   "source": [
    "# Slicing com Numpy"
   ]
  },
  {
   "cell_type": "code",
   "execution_count": 1,
   "id": "8876aae9",
   "metadata": {},
   "outputs": [],
   "source": [
    "# Importando o módulo numpy\n",
    "import numpy as np"
   ]
  },
  {
   "cell_type": "code",
   "execution_count": 2,
   "id": "71e1fe09",
   "metadata": {},
   "outputs": [
    {
     "data": {
      "text/plain": [
       "array([0, 1, 2, 3, 4])"
      ]
     },
     "execution_count": 2,
     "metadata": {},
     "output_type": "execute_result"
    }
   ],
   "source": [
    "array1 = np.arange(5); array1"
   ]
  },
  {
   "cell_type": "code",
   "execution_count": 8,
   "id": "754042a2",
   "metadata": {},
   "outputs": [
    {
     "data": {
      "text/plain": [
       "1"
      ]
     },
     "execution_count": 8,
     "metadata": {},
     "output_type": "execute_result"
    }
   ],
   "source": [
    "array1[1]"
   ]
  },
  {
   "cell_type": "code",
   "execution_count": 7,
   "id": "b4eeed3d",
   "metadata": {},
   "outputs": [
    {
     "data": {
      "text/plain": [
       "4"
      ]
     },
     "execution_count": 7,
     "metadata": {},
     "output_type": "execute_result"
    }
   ],
   "source": [
    "array1[-1]"
   ]
  },
  {
   "cell_type": "code",
   "execution_count": 10,
   "id": "4d1af79b",
   "metadata": {},
   "outputs": [
    {
     "data": {
      "text/plain": [
       "array([ 0,  7, 14, 21, 28, 35, 42, 49, 56, 63, 70, 77, 84, 91, 98])"
      ]
     },
     "execution_count": 10,
     "metadata": {},
     "output_type": "execute_result"
    }
   ],
   "source": [
    "array2 = np.arange(0, 100, 7); array2"
   ]
  },
  {
   "cell_type": "code",
   "execution_count": 19,
   "id": "40ef598e",
   "metadata": {},
   "outputs": [
    {
     "data": {
      "text/plain": [
       "array([98, 91, 84, 77, 70, 63, 56, 49, 42, 35, 28, 21, 14,  7,  0])"
      ]
     },
     "execution_count": 19,
     "metadata": {},
     "output_type": "execute_result"
    }
   ],
   "source": [
    "# Invertendo um array\n",
    "array2[::-1]"
   ]
  },
  {
   "cell_type": "code",
   "execution_count": 24,
   "id": "6346ad14",
   "metadata": {},
   "outputs": [
    {
     "data": {
      "text/plain": [
       "matrix([[1, 2, 3],\n",
       "        [4, 5, 6]])"
      ]
     },
     "execution_count": 24,
     "metadata": {},
     "output_type": "execute_result"
    }
   ],
   "source": [
    "matrix1 = np.matrix([[1, 2, 3], [4, 5, 6]]); matrix1"
   ]
  },
  {
   "cell_type": "code",
   "execution_count": 25,
   "id": "61d529e0",
   "metadata": {},
   "outputs": [
    {
     "data": {
      "text/plain": [
       "matrix([[1, 2, 3],\n",
       "        [4, 5, 6]])"
      ]
     },
     "execution_count": 25,
     "metadata": {},
     "output_type": "execute_result"
    }
   ],
   "source": [
    "matrix2 = np.matrix([[1, 2, 3], [4, 5, 6]]); matrix2"
   ]
  },
  {
   "cell_type": "code",
   "execution_count": 32,
   "id": "15a32798",
   "metadata": {},
   "outputs": [
    {
     "data": {
      "text/plain": [
       "matrix([[ 2,  4,  6],\n",
       "        [ 8, 10, 12]])"
      ]
     },
     "execution_count": 32,
     "metadata": {},
     "output_type": "execute_result"
    }
   ],
   "source": [
    "matrix1 + matrix2"
   ]
  },
  {
   "cell_type": "code",
   "execution_count": 33,
   "id": "57d80b92",
   "metadata": {},
   "outputs": [
    {
     "data": {
      "text/plain": [
       "matrix([[0, 0, 0],\n",
       "        [0, 0, 0]])"
      ]
     },
     "execution_count": 33,
     "metadata": {},
     "output_type": "execute_result"
    }
   ],
   "source": [
    "matrix1 - matrix2"
   ]
  },
  {
   "cell_type": "code",
   "execution_count": null,
   "id": "f6f5bb4c",
   "metadata": {},
   "outputs": [],
   "source": []
  }
 ],
 "metadata": {
  "kernelspec": {
   "display_name": "Python 3 (ipykernel)",
   "language": "python",
   "name": "python3"
  },
  "language_info": {
   "codemirror_mode": {
    "name": "ipython",
    "version": 3
   },
   "file_extension": ".py",
   "mimetype": "text/x-python",
   "name": "python",
   "nbconvert_exporter": "python",
   "pygments_lexer": "ipython3",
   "version": "3.9.16"
  }
 },
 "nbformat": 4,
 "nbformat_minor": 5
}
