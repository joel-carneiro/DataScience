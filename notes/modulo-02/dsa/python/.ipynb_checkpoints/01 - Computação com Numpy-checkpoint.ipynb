{
 "cells": [
  {
   "cell_type": "markdown",
   "id": "206cf662-c7dc-4a83-859c-98775e53d812",
   "metadata": {
    "tags": []
   },
   "source": [
    "# <font color='green'> Computação com Numpy </font>\n",
    "\n",
    "---"
   ]
  },
  {
   "cell_type": "markdown",
   "id": "1337e8ed-04f1-4a43-948d-848d3bc85b13",
   "metadata": {
    "tags": []
   },
   "source": [
    "# 1 - Introdução ao Numpy"
   ]
  },
  {
   "cell_type": "markdown",
   "id": "a7769843-6253-4e8a-948a-7085f5783ddd",
   "metadata": {
    "tags": []
   },
   "source": [
    "## 1.1 - Primeiras Impressões"
   ]
  },
  {
   "cell_type": "code",
   "execution_count": 1,
   "id": "a78c18b1-c77a-4044-97ae-ec578e9fa6e6",
   "metadata": {},
   "outputs": [],
   "source": [
    "# Importando o módulo numpy\n",
    "import numpy as np"
   ]
  },
  {
   "cell_type": "code",
   "execution_count": 2,
   "id": "c06fd65d-271e-44e4-83a9-68528b877ae6",
   "metadata": {},
   "outputs": [
    {
     "data": {
      "text/plain": [
       "array([10, 21, 32, 43])"
      ]
     },
     "execution_count": 2,
     "metadata": {},
     "output_type": "execute_result"
    }
   ],
   "source": [
    "# Criando um array unidimensional\n",
    "array1 = np.array([10, 21, 32, 43]); array1"
   ]
  },
  {
   "cell_type": "code",
   "execution_count": 3,
   "id": "d628b572-1015-4f74-bdd0-56d1f7d016b1",
   "metadata": {},
   "outputs": [
    {
     "data": {
      "text/plain": [
       "array([[10, 20, 30, 40],\n",
       "       [20, 30, 40, 50]])"
      ]
     },
     "execution_count": 3,
     "metadata": {},
     "output_type": "execute_result"
    }
   ],
   "source": [
    "# Criando um array bi-dimensional\n",
    "array2 = np.array([[10, 20, 30, 40], [20, 30, 40, 50]]); array2"
   ]
  },
  {
   "cell_type": "code",
   "execution_count": 4,
   "id": "cfbb6087-eb9f-4b29-aac9-7098394bd420",
   "metadata": {},
   "outputs": [
    {
     "data": {
      "text/plain": [
       "(4,)"
      ]
     },
     "execution_count": 4,
     "metadata": {},
     "output_type": "execute_result"
    }
   ],
   "source": [
    "# Dimensões dos arrays\n",
    "array1.shape"
   ]
  },
  {
   "cell_type": "code",
   "execution_count": 5,
   "id": "40b3462f-4f68-43ae-9fd5-d271fa3f5b55",
   "metadata": {},
   "outputs": [
    {
     "data": {
      "text/plain": [
       "(2, 4)"
      ]
     },
     "execution_count": 5,
     "metadata": {},
     "output_type": "execute_result"
    }
   ],
   "source": [
    "# Dimensões dos arrays\n",
    "array2.shape"
   ]
  },
  {
   "cell_type": "code",
   "execution_count": 6,
   "id": "d5053cb6-e986-438a-807f-893acda49ada",
   "metadata": {},
   "outputs": [
    {
     "data": {
      "text/plain": [
       "2"
      ]
     },
     "execution_count": 6,
     "metadata": {},
     "output_type": "execute_result"
    }
   ],
   "source": [
    "# Atributo de número de dimensões\n",
    "array2.ndim"
   ]
  },
  {
   "cell_type": "code",
   "execution_count": 7,
   "id": "a6efa840-0c17-4d13-b84a-103f02f359d3",
   "metadata": {},
   "outputs": [
    {
     "data": {
      "text/plain": [
       "array([0, 1, 2, 3, 4, 5, 6, 7, 8, 9])"
      ]
     },
     "execution_count": 7,
     "metadata": {},
     "output_type": "execute_result"
    }
   ],
   "source": [
    "# Criando um vetor sequencial\n",
    "array3 = np.arange(10); array3"
   ]
  },
  {
   "cell_type": "code",
   "execution_count": 8,
   "id": "6a07d234-8943-4bad-aaba-b0f3481a3267",
   "metadata": {},
   "outputs": [
    {
     "data": {
      "text/plain": [
       "array([ 0,  5, 10, 15])"
      ]
     },
     "execution_count": 8,
     "metadata": {},
     "output_type": "execute_result"
    }
   ],
   "source": [
    "# Criando um vetor sequencial com parâmetros adicionais\n",
    "array4 = np.arange(0, 20, 5); array4"
   ]
  },
  {
   "cell_type": "code",
   "execution_count": 11,
   "id": "ebb69033-1a9b-458c-a415-2477df626c62",
   "metadata": {},
   "outputs": [
    {
     "data": {
      "text/plain": [
       "array([0.  , 0.75, 1.5 , 2.25, 3.  ])"
      ]
     },
     "execution_count": 11,
     "metadata": {},
     "output_type": "execute_result"
    }
   ],
   "source": [
    "# Array que termina com 3, começa com 0 e tem exatamente 4 elementos\n",
    "array5 = np.linspace(0, 3, 5); array5"
   ]
  },
  {
   "cell_type": "code",
   "execution_count": 12,
   "id": "f3941ee8-0d06-43fd-93bb-5695db291ec9",
   "metadata": {},
   "outputs": [
    {
     "data": {
      "text/plain": [
       "array([[0., 0., 0., 0., 0., 0.],\n",
       "       [0., 0., 0., 0., 0., 0.],\n",
       "       [0., 0., 0., 0., 0., 0.],\n",
       "       [0., 0., 0., 0., 0., 0.],\n",
       "       [0., 0., 0., 0., 0., 0.],\n",
       "       [0., 0., 0., 0., 0., 0.],\n",
       "       [0., 0., 0., 0., 0., 0.],\n",
       "       [0., 0., 0., 0., 0., 0.],\n",
       "       [0., 0., 0., 0., 0., 0.],\n",
       "       [0., 0., 0., 0., 0., 0.]])"
      ]
     },
     "execution_count": 12,
     "metadata": {},
     "output_type": "execute_result"
    }
   ],
   "source": [
    "# Criando uma matriz com zeros\n",
    "array6 = np.zeros((10, 6)); array6"
   ]
  },
  {
   "cell_type": "code",
   "execution_count": 13,
   "id": "c73c7aa0-d581-4563-b12a-a858a15430a6",
   "metadata": {},
   "outputs": [
    {
     "data": {
      "text/plain": [
       "array([[1., 1., 1., 1., 1., 1.],\n",
       "       [1., 1., 1., 1., 1., 1.],\n",
       "       [1., 1., 1., 1., 1., 1.],\n",
       "       [1., 1., 1., 1., 1., 1.],\n",
       "       [1., 1., 1., 1., 1., 1.],\n",
       "       [1., 1., 1., 1., 1., 1.],\n",
       "       [1., 1., 1., 1., 1., 1.],\n",
       "       [1., 1., 1., 1., 1., 1.],\n",
       "       [1., 1., 1., 1., 1., 1.],\n",
       "       [1., 1., 1., 1., 1., 1.]])"
      ]
     },
     "execution_count": 13,
     "metadata": {},
     "output_type": "execute_result"
    }
   ],
   "source": [
    "# Criando um vetor com números 1\n",
    "array7 = np.ones((10, 6)); array7"
   ]
  },
  {
   "cell_type": "code",
   "execution_count": 14,
   "id": "6fc8051a-81b0-4195-b3b4-7d29da10aa23",
   "metadata": {},
   "outputs": [
    {
     "data": {
      "text/plain": [
       "array([[1., 0., 0., 0., 0., 0.],\n",
       "       [0., 1., 0., 0., 0., 0.],\n",
       "       [0., 0., 1., 0., 0., 0.],\n",
       "       [0., 0., 0., 1., 0., 0.],\n",
       "       [0., 0., 0., 0., 1., 0.],\n",
       "       [0., 0., 0., 0., 0., 1.]])"
      ]
     },
     "execution_count": 14,
     "metadata": {},
     "output_type": "execute_result"
    }
   ],
   "source": [
    "# Criando uma matriz identidade\n",
    "array8 = np.eye(6); array8"
   ]
  },
  {
   "cell_type": "code",
   "execution_count": 24,
   "id": "8ceef08c-b4e6-474d-bc31-61618c5206ad",
   "metadata": {},
   "outputs": [
    {
     "data": {
      "text/plain": [
       "array([[6, 0, 0, 0, 0, 0],\n",
       "       [0, 5, 0, 0, 0, 0],\n",
       "       [0, 0, 4, 0, 0, 0],\n",
       "       [0, 0, 0, 3, 0, 0],\n",
       "       [0, 0, 0, 0, 2, 0],\n",
       "       [0, 0, 0, 0, 0, 1]])"
      ]
     },
     "execution_count": 24,
     "metadata": {},
     "output_type": "execute_result"
    }
   ],
   "source": [
    "# Criando uma matriz com diagonal específica\n",
    "array9 = np.diag([6, 5, 4, 3, 2, 1]); array9"
   ]
  },
  {
   "cell_type": "code",
   "execution_count": 16,
   "id": "0bf70291-0c74-46b4-b88b-b0cdec82a486",
   "metadata": {},
   "outputs": [
    {
     "data": {
      "text/plain": [
       "array([0.34039419, 0.92484572, 0.4643543 , 0.50786306, 0.16091713])"
      ]
     },
     "execution_count": 16,
     "metadata": {},
     "output_type": "execute_result"
    }
   ],
   "source": [
    "# Criando um array com números aleatorios\n",
    "array10 = np.random.rand(5); array10"
   ]
  },
  {
   "cell_type": "code",
   "execution_count": 17,
   "id": "2ae4a669-aacd-4b4d-bec2-757256159f71",
   "metadata": {},
   "outputs": [
    {
     "data": {
      "text/plain": [
       "array([-0.71041707, -0.20534739, -1.81188032,  0.02911379, -0.65379724])"
      ]
     },
     "execution_count": 17,
     "metadata": {},
     "output_type": "execute_result"
    }
   ],
   "source": [
    "# Criando um array com números aleatorios em distribuição normal\n",
    "array11 = np.random.randn(5); array11"
   ]
  },
  {
   "cell_type": "code",
   "execution_count": 32,
   "id": "0d0c0e10-5fde-4738-891f-9a67ce669bae",
   "metadata": {},
   "outputs": [
    {
     "data": {
      "text/plain": [
       "array([-0.71041707, -0.20534739, -1.81188032,  0.02911379, -0.65379724,\n",
       "       -0.71041707, -0.20534739, -1.81188032,  0.02911379, -0.65379724,\n",
       "       -0.71041707, -0.20534739, -1.81188032,  0.02911379, -0.65379724,\n",
       "       -0.71041707, -0.20534739, -1.81188032,  0.02911379, -0.65379724,\n",
       "       -0.71041707, -0.20534739, -1.81188032,  0.02911379, -0.65379724])"
      ]
     },
     "execution_count": 32,
     "metadata": {},
     "output_type": "execute_result"
    }
   ],
   "source": [
    "# Ladrilhando um array em uma só direção\n",
    "array12 = np.tile(array11, reps=5); array12"
   ]
  },
  {
   "cell_type": "code",
   "execution_count": 33,
   "id": "e0e81100-c547-415d-8d41-f25f28127e81",
   "metadata": {},
   "outputs": [
    {
     "data": {
      "text/plain": [
       "array([[-0.71041707, -0.20534739, -1.81188032,  0.02911379, -0.65379724,\n",
       "        -0.71041707, -0.20534739, -1.81188032,  0.02911379, -0.65379724],\n",
       "       [-0.71041707, -0.20534739, -1.81188032,  0.02911379, -0.65379724,\n",
       "        -0.71041707, -0.20534739, -1.81188032,  0.02911379, -0.65379724]])"
      ]
     },
     "execution_count": 33,
     "metadata": {},
     "output_type": "execute_result"
    }
   ],
   "source": [
    "# Ladrilhando um array em 2 dimensões\n",
    "array13 = np.tile(array11, reps=(2, 2)); array13"
   ]
  },
  {
   "cell_type": "code",
   "execution_count": 38,
   "id": "13733041-9302-44bd-beaa-45b272a6309c",
   "metadata": {},
   "outputs": [
    {
     "data": {
      "text/plain": [
       "array([2., 3., 5., 7.])"
      ]
     },
     "execution_count": 38,
     "metadata": {},
     "output_type": "execute_result"
    }
   ],
   "source": [
    "# Criando um array com números floats64\n",
    "array14 = np.array([2, 3, 5, 7], dtype='float'); array14"
   ]
  },
  {
   "cell_type": "code",
   "execution_count": 39,
   "id": "fc251dd0-1405-42fb-acad-e6a11d845ec6",
   "metadata": {},
   "outputs": [
    {
     "data": {
      "text/plain": [
       "dtype('float64')"
      ]
     },
     "execution_count": 39,
     "metadata": {},
     "output_type": "execute_result"
    }
   ],
   "source": [
    "# Visualizando o tipo de dado do array\n",
    "array14.dtype"
   ]
  },
  {
   "cell_type": "code",
   "execution_count": 43,
   "id": "2d8ef6ca-955b-405b-8545-b5ad859653be",
   "metadata": {},
   "outputs": [
    {
     "data": {
      "text/plain": [
       "array([2, 3, 5, 7])"
      ]
     },
     "execution_count": 43,
     "metadata": {},
     "output_type": "execute_result"
    }
   ],
   "source": [
    "# O python define por padrão o tipo do dado\n",
    "array15 = np.array([2, 3, 5, 7]); array15"
   ]
  },
  {
   "cell_type": "code",
   "execution_count": 44,
   "id": "5dfc00a8-5f9b-43f2-a65a-caaee84b11be",
   "metadata": {},
   "outputs": [
    {
     "data": {
      "text/plain": [
       "dtype('int64')"
      ]
     },
     "execution_count": 44,
     "metadata": {},
     "output_type": "execute_result"
    }
   ],
   "source": [
    "# Visualizando o tipo de dado do array\n",
    "array15.dtype"
   ]
  },
  {
   "cell_type": "code",
   "execution_count": 47,
   "id": "b118fc79-5091-4d62-8a5d-c062111895b8",
   "metadata": {},
   "outputs": [
    {
     "data": {
      "text/plain": [
       "array(['I', 'like', 'pizza'], dtype='<U5')"
      ]
     },
     "execution_count": 47,
     "metadata": {},
     "output_type": "execute_result"
    }
   ],
   "source": [
    "array16 = np.array(['I', 'like', 'pizza']); array16"
   ]
  },
  {
   "cell_type": "code",
   "execution_count": 53,
   "id": "bd2fe189-bb57-4d85-a4ba-be5bca1c51ea",
   "metadata": {
    "scrolled": true
   },
   "outputs": [
    {
     "data": {
      "text/plain": [
       "array([ True, False,  True, False])"
      ]
     },
     "execution_count": 53,
     "metadata": {},
     "output_type": "execute_result"
    }
   ],
   "source": [
    "array17 = np.array([True, False, True, False]); array17"
   ]
  },
  {
   "cell_type": "code",
   "execution_count": 54,
   "id": "697fba82-b98d-4347-a7ca-4dc687aaba62",
   "metadata": {},
   "outputs": [
    {
     "data": {
      "text/plain": [
       "array([1, 0, 1, 0])"
      ]
     },
     "execution_count": 54,
     "metadata": {},
     "output_type": "execute_result"
    }
   ],
   "source": [
    "array17.astype('int')"
   ]
  },
  {
   "cell_type": "markdown",
   "id": "2cf471b5-5ffd-40e3-831d-a1c6fd6f127d",
   "metadata": {
    "tags": []
   },
   "source": [
    "## 1.2 - Operações com Arrays"
   ]
  },
  {
   "cell_type": "code",
   "execution_count": 55,
   "id": "0f160d95-2732-4d0c-b0f0-3bf0fba44f6d",
   "metadata": {},
   "outputs": [
    {
     "data": {
      "text/plain": [
       "array([ 2,  3,  5,  7, 11, 13, 17, 19])"
      ]
     },
     "execution_count": 55,
     "metadata": {},
     "output_type": "execute_result"
    }
   ],
   "source": [
    "array18 = np.array([2, 3, 5, 7, 11, 13, 17, 19]); array18"
   ]
  },
  {
   "cell_type": "code",
   "execution_count": 57,
   "id": "78dafef6-aa26-41e4-aa85-dac059ae86f4",
   "metadata": {},
   "outputs": [
    {
     "data": {
      "text/plain": [
       "array([ 4,  5,  7,  9, 13, 15, 19, 21])"
      ]
     },
     "execution_count": 57,
     "metadata": {},
     "output_type": "execute_result"
    }
   ],
   "source": [
    "array18 + 2"
   ]
  },
  {
   "cell_type": "code",
   "execution_count": 58,
   "id": "dd334b9c-8b60-48dc-871a-c40e41d504bd",
   "metadata": {},
   "outputs": [
    {
     "data": {
      "text/plain": [
       "array([ 0,  1,  3,  5,  9, 11, 15, 17])"
      ]
     },
     "execution_count": 58,
     "metadata": {},
     "output_type": "execute_result"
    }
   ],
   "source": [
    "array18 - 2"
   ]
  },
  {
   "cell_type": "code",
   "execution_count": 59,
   "id": "aacd366e-293e-430e-a089-cfc386f9ff0a",
   "metadata": {},
   "outputs": [
    {
     "data": {
      "text/plain": [
       "array([  4,   9,  25,  49, 121, 169, 289, 361])"
      ]
     },
     "execution_count": 59,
     "metadata": {},
     "output_type": "execute_result"
    }
   ],
   "source": [
    "array18 ** 2"
   ]
  },
  {
   "cell_type": "code",
   "execution_count": 60,
   "id": "6bec9ae2-fcb3-4ab4-8841-9edd65748dfc",
   "metadata": {},
   "outputs": [
    {
     "data": {
      "text/plain": [
       "array([1. , 1.5, 2.5, 3.5, 5.5, 6.5, 8.5, 9.5])"
      ]
     },
     "execution_count": 60,
     "metadata": {},
     "output_type": "execute_result"
    }
   ],
   "source": [
    "array18 / 2"
   ]
  },
  {
   "cell_type": "code",
   "execution_count": 61,
   "id": "d68aedaa-7728-4da1-b988-e5fa9906d52e",
   "metadata": {},
   "outputs": [],
   "source": [
    "array1 = np.array([2, 3, 5, 7, 11])\n",
    "array2 = np.array([5, 7, 11, 13, 17])"
   ]
  },
  {
   "cell_type": "code",
   "execution_count": 62,
   "id": "50776f69",
   "metadata": {},
   "outputs": [
    {
     "data": {
      "text/plain": [
       "array([ 2,  3,  5,  7, 11])"
      ]
     },
     "execution_count": 62,
     "metadata": {},
     "output_type": "execute_result"
    }
   ],
   "source": [
    "array1"
   ]
  },
  {
   "cell_type": "code",
   "execution_count": 63,
   "id": "6109a2df",
   "metadata": {},
   "outputs": [
    {
     "data": {
      "text/plain": [
       "array([ 5,  7, 11, 13, 17])"
      ]
     },
     "execution_count": 63,
     "metadata": {},
     "output_type": "execute_result"
    }
   ],
   "source": [
    "array2"
   ]
  },
  {
   "cell_type": "code",
   "execution_count": 64,
   "id": "3bd76225-74cf-4a78-aab5-56db8acfd181",
   "metadata": {},
   "outputs": [
    {
     "data": {
      "text/plain": [
       "array([ 7, 10, 16, 20, 28])"
      ]
     },
     "execution_count": 64,
     "metadata": {},
     "output_type": "execute_result"
    }
   ],
   "source": [
    "array1 + array2"
   ]
  },
  {
   "cell_type": "code",
   "execution_count": 65,
   "id": "341638b3-fd69-4798-bf3b-0bbbd8f291a2",
   "metadata": {},
   "outputs": [
    {
     "data": {
      "text/plain": [
       "array([-3, -4, -6, -6, -6])"
      ]
     },
     "execution_count": 65,
     "metadata": {},
     "output_type": "execute_result"
    }
   ],
   "source": [
    "array1 - array2"
   ]
  },
  {
   "cell_type": "code",
   "execution_count": 66,
   "id": "803ed670-d910-4262-8515-64dffce97552",
   "metadata": {},
   "outputs": [
    {
     "data": {
      "text/plain": [
       "array([ 10,  21,  55,  91, 187])"
      ]
     },
     "execution_count": 66,
     "metadata": {},
     "output_type": "execute_result"
    }
   ],
   "source": [
    "array1 * array2"
   ]
  },
  {
   "cell_type": "code",
   "execution_count": 67,
   "id": "4c955b3a-f9ca-487a-bd1f-5275578bb31d",
   "metadata": {},
   "outputs": [
    {
     "data": {
      "text/plain": [
       "array([0.4       , 0.42857143, 0.45454545, 0.53846154, 0.64705882])"
      ]
     },
     "execution_count": 67,
     "metadata": {},
     "output_type": "execute_result"
    }
   ],
   "source": [
    "array1 / array2"
   ]
  },
  {
   "cell_type": "code",
   "execution_count": 71,
   "id": "bc04abb2-6714-4d03-b957-40a881344274",
   "metadata": {},
   "outputs": [
    {
     "data": {
      "text/plain": [
       "array([False, False, False, False, False])"
      ]
     },
     "execution_count": 71,
     "metadata": {},
     "output_type": "execute_result"
    }
   ],
   "source": [
    "array1 > array2"
   ]
  },
  {
   "cell_type": "markdown",
   "id": "40807add-88db-455e-9cbc-5560c3f8406b",
   "metadata": {
    "tags": []
   },
   "source": [
    "## 1.3 - Comparando Velocidades"
   ]
  },
  {
   "cell_type": "code",
   "execution_count": 72,
   "id": "3d61f8fa-f271-4d78-91e5-c9ba0f55a48e",
   "metadata": {},
   "outputs": [],
   "source": [
    "array_numpy = np.arange(10 ** 6)\n",
    "array_python = range(10 ** 6)"
   ]
  },
  {
   "cell_type": "code",
   "execution_count": 73,
   "id": "efaa606f",
   "metadata": {},
   "outputs": [
    {
     "data": {
      "text/plain": [
       "1000000"
      ]
     },
     "execution_count": 73,
     "metadata": {},
     "output_type": "execute_result"
    }
   ],
   "source": [
    "len(array_numpy)"
   ]
  },
  {
   "cell_type": "code",
   "execution_count": 74,
   "id": "3739bc01",
   "metadata": {},
   "outputs": [
    {
     "data": {
      "text/plain": [
       "1000000"
      ]
     },
     "execution_count": 74,
     "metadata": {},
     "output_type": "execute_result"
    }
   ],
   "source": [
    "len(array_python)"
   ]
  },
  {
   "cell_type": "code",
   "execution_count": 75,
   "id": "3087fe3b",
   "metadata": {},
   "outputs": [
    {
     "data": {
      "text/plain": [
       "True"
      ]
     },
     "execution_count": 75,
     "metadata": {},
     "output_type": "execute_result"
    }
   ],
   "source": [
    "len(array_numpy) == len(array_python)"
   ]
  },
  {
   "cell_type": "code",
   "execution_count": 76,
   "id": "75894bdf-7ab4-4422-8f1b-829f1ed009ed",
   "metadata": {},
   "outputs": [
    {
     "name": "stdout",
     "output_type": "stream",
     "text": [
      "4.67 ms ± 325 µs per loop (mean ± std. dev. of 7 runs, 100 loops each)\n"
     ]
    }
   ],
   "source": [
    "%timeit array_numpy ** 4"
   ]
  },
  {
   "cell_type": "code",
   "execution_count": 77,
   "id": "367568d9-425e-46b9-ab18-edce108af686",
   "metadata": {},
   "outputs": [
    {
     "name": "stdout",
     "output_type": "stream",
     "text": [
      "558 ms ± 11.3 ms per loop (mean ± std. dev. of 7 runs, 1 loop each)\n"
     ]
    }
   ],
   "source": [
    "%timeit [x ** 4 for x in array_python]"
   ]
  },
  {
   "cell_type": "code",
   "execution_count": 78,
   "id": "a40e8c55-2ac7-49de-8c1b-fea2413d0ec6",
   "metadata": {},
   "outputs": [
    {
     "data": {
      "text/plain": [
       "133.0601092896175"
      ]
     },
     "execution_count": 78,
     "metadata": {},
     "output_type": "execute_result"
    }
   ],
   "source": [
    "487 / 3.66"
   ]
  },
  {
   "cell_type": "markdown",
   "id": "65d328f7-54e9-4805-b208-7e49dab14506",
   "metadata": {
    "tags": []
   },
   "source": [
    "# 2 - Fatiamento com Numpy"
   ]
  },
  {
   "cell_type": "markdown",
   "id": "af7d1025-2c62-410e-8e5b-c7e6eb04d76d",
   "metadata": {
    "tags": []
   },
   "source": [
    "## 2.1 - Introdução a Slicing "
   ]
  },
  {
   "cell_type": "code",
   "execution_count": 79,
   "id": "af3eef44-f501-4236-aa14-68c8d43a6be6",
   "metadata": {},
   "outputs": [
    {
     "data": {
      "text/plain": [
       "array([25, 26, 27, 28, 29, 30, 31, 32, 33, 34])"
      ]
     },
     "execution_count": 79,
     "metadata": {},
     "output_type": "execute_result"
    }
   ],
   "source": [
    "example = np.arange(25, 35, 1); example"
   ]
  },
  {
   "cell_type": "code",
   "execution_count": 80,
   "id": "e7ed6fec-c793-49f7-952b-5cc893e27935",
   "metadata": {},
   "outputs": [
    {
     "data": {
      "text/plain": [
       "25"
      ]
     },
     "execution_count": 80,
     "metadata": {},
     "output_type": "execute_result"
    }
   ],
   "source": [
    "example[0]"
   ]
  },
  {
   "cell_type": "code",
   "execution_count": 81,
   "id": "603b9a99-db86-44e0-88fe-a9be3b008de9",
   "metadata": {},
   "outputs": [
    {
     "data": {
      "text/plain": [
       "30"
      ]
     },
     "execution_count": 81,
     "metadata": {},
     "output_type": "execute_result"
    }
   ],
   "source": [
    "example[5]"
   ]
  },
  {
   "cell_type": "code",
   "execution_count": 82,
   "id": "e9471a95-66cd-4f43-b3dd-cfd20a5b029e",
   "metadata": {},
   "outputs": [
    {
     "data": {
      "text/plain": [
       "34"
      ]
     },
     "execution_count": 82,
     "metadata": {},
     "output_type": "execute_result"
    }
   ],
   "source": [
    "example[-1]"
   ]
  },
  {
   "cell_type": "code",
   "execution_count": 83,
   "id": "e167d424-6ccb-45ce-9444-a58e6e1b175f",
   "metadata": {},
   "outputs": [
    {
     "data": {
      "text/plain": [
       "array([34, 33, 32, 31, 30, 29, 28, 27, 26, 25])"
      ]
     },
     "execution_count": 83,
     "metadata": {},
     "output_type": "execute_result"
    }
   ],
   "source": [
    "example[::-1]"
   ]
  },
  {
   "cell_type": "code",
   "execution_count": 86,
   "id": "2a099f8c-b2d9-4373-968c-8da94eca17d0",
   "metadata": {},
   "outputs": [
    {
     "data": {
      "text/plain": [
       "array([[1, 6, 7, 9, 8],\n",
       "       [4, 8, 5, 0, 5],\n",
       "       [8, 1, 3, 8, 3],\n",
       "       [3, 2, 8, 9, 3],\n",
       "       [7, 0, 9, 7, 9]])"
      ]
     },
     "execution_count": 86,
     "metadata": {},
     "output_type": "execute_result"
    }
   ],
   "source": [
    "np.random.seed(101)\n",
    "matriz = np.random.randint(10, size=(5, 5)); matriz"
   ]
  },
  {
   "cell_type": "code",
   "execution_count": 88,
   "id": "3e6eeb22-3462-4cdf-9229-015e4b07cf73",
   "metadata": {},
   "outputs": [
    {
     "data": {
      "text/plain": [
       "array([1, 6, 7, 9, 8])"
      ]
     },
     "execution_count": 88,
     "metadata": {},
     "output_type": "execute_result"
    }
   ],
   "source": [
    "matriz[0]"
   ]
  },
  {
   "cell_type": "code",
   "execution_count": 90,
   "id": "8e69e2e3-df21-4198-9803-9c698f9212cd",
   "metadata": {},
   "outputs": [
    {
     "data": {
      "text/plain": [
       "array([8, 9])"
      ]
     },
     "execution_count": 90,
     "metadata": {},
     "output_type": "execute_result"
    }
   ],
   "source": [
    "matriz[2:4, 3]"
   ]
  },
  {
   "cell_type": "markdown",
   "id": "596031a9-4e7c-43ae-a932-2aaf37b9a5b9",
   "metadata": {
    "tags": []
   },
   "source": [
    "## 2.2 - Avançando em Slicing"
   ]
  },
  {
   "cell_type": "code",
   "execution_count": 91,
   "id": "e3361b1f-1726-4d98-8765-f57380ad1992",
   "metadata": {},
   "outputs": [
    {
     "data": {
      "text/plain": [
       "array([ 2,  4,  6,  8, 10, 12, 14, 16, 18, 20, 22, 24, 26, 28, 30, 32, 34,\n",
       "       36, 38])"
      ]
     },
     "execution_count": 91,
     "metadata": {},
     "output_type": "execute_result"
    }
   ],
   "source": [
    "array = np.arange(1, 20, 1) * 2; array"
   ]
  },
  {
   "cell_type": "code",
   "execution_count": 92,
   "id": "a109cdb3-7ba8-4185-8709-5c9b170d1c11",
   "metadata": {},
   "outputs": [
    {
     "data": {
      "text/plain": [
       "array([ 2,  6, 10, 14, 18, 22, 26, 30, 34, 38])"
      ]
     },
     "execution_count": 92,
     "metadata": {},
     "output_type": "execute_result"
    }
   ],
   "source": [
    "array[0:20:2]"
   ]
  },
  {
   "cell_type": "code",
   "execution_count": 93,
   "id": "e5973d50-bd2d-4190-84cf-f032aed7f1bf",
   "metadata": {},
   "outputs": [
    {
     "data": {
      "text/plain": [
       "array([2, 4, 6, 8])"
      ]
     },
     "execution_count": 93,
     "metadata": {},
     "output_type": "execute_result"
    }
   ],
   "source": [
    "array[:4]"
   ]
  },
  {
   "cell_type": "code",
   "execution_count": 94,
   "id": "2572f852-76b7-436b-82cd-3d92f60ee674",
   "metadata": {},
   "outputs": [
    {
     "data": {
      "text/plain": [
       "array([10, 12, 14, 16, 18, 20, 22, 24, 26, 28, 30, 32, 34, 36, 38])"
      ]
     },
     "execution_count": 94,
     "metadata": {},
     "output_type": "execute_result"
    }
   ],
   "source": [
    "array[4:]"
   ]
  },
  {
   "cell_type": "code",
   "execution_count": 95,
   "id": "3aad6a6a-7f27-45e0-ae7d-47efa2d5064d",
   "metadata": {},
   "outputs": [
    {
     "data": {
      "text/plain": [
       "array([ 2,  6, 10, 14, 18, 22, 26, 30, 34, 38])"
      ]
     },
     "execution_count": 95,
     "metadata": {},
     "output_type": "execute_result"
    }
   ],
   "source": [
    "array[::2]"
   ]
  },
  {
   "cell_type": "code",
   "execution_count": 96,
   "id": "70d6df04-a5fa-45e2-8c44-c1360b73418b",
   "metadata": {},
   "outputs": [
    {
     "data": {
      "text/plain": [
       "array([2, 4, 6, 1, 1, 1, 1, 1, 1, 1, 1, 1, 1, 1, 1, 1, 1, 1, 1])"
      ]
     },
     "execution_count": 96,
     "metadata": {},
     "output_type": "execute_result"
    }
   ],
   "source": [
    "array[3:] = 1; array"
   ]
  },
  {
   "cell_type": "markdown",
   "id": "46724e14-1ff2-4ff1-bea8-d7451d3af7f3",
   "metadata": {
    "tags": []
   },
   "source": [
    "## 2.3 - Transposição e Reshape com Numpy"
   ]
  },
  {
   "cell_type": "code",
   "execution_count": 97,
   "id": "0b434b27-5c36-49aa-aa20-f5c6b8cd0e45",
   "metadata": {},
   "outputs": [
    {
     "data": {
      "text/plain": [
       "array([[8, 8, 3, 7, 7],\n",
       "       [0, 4, 2, 5, 2],\n",
       "       [2, 2, 1, 0, 8],\n",
       "       [4, 0, 9, 6, 2],\n",
       "       [4, 1, 5, 3, 4]])"
      ]
     },
     "execution_count": 97,
     "metadata": {},
     "output_type": "execute_result"
    }
   ],
   "source": [
    "np.random.seed(100)\n",
    "example = np.random.randint(10, size=(5, 5)); example"
   ]
  },
  {
   "cell_type": "code",
   "execution_count": 98,
   "id": "280169c3-2534-4bc7-8bb8-2ab45c30be2d",
   "metadata": {},
   "outputs": [
    {
     "data": {
      "text/plain": [
       "array([[8, 0, 2, 4, 4],\n",
       "       [8, 4, 2, 0, 1],\n",
       "       [3, 2, 1, 9, 5],\n",
       "       [7, 5, 0, 6, 3],\n",
       "       [7, 2, 8, 2, 4]])"
      ]
     },
     "execution_count": 98,
     "metadata": {},
     "output_type": "execute_result"
    }
   ],
   "source": [
    "example.T"
   ]
  },
  {
   "cell_type": "code",
   "execution_count": 99,
   "id": "f026125c-9773-4eac-8d8f-9b00682f1227",
   "metadata": {},
   "outputs": [
    {
     "data": {
      "text/plain": [
       "array([[8, 0, 2, 4, 4],\n",
       "       [8, 4, 2, 0, 1],\n",
       "       [3, 2, 1, 9, 5],\n",
       "       [7, 5, 0, 6, 3],\n",
       "       [7, 2, 8, 2, 4]])"
      ]
     },
     "execution_count": 99,
     "metadata": {},
     "output_type": "execute_result"
    }
   ],
   "source": [
    "np.transpose(example)"
   ]
  },
  {
   "cell_type": "code",
   "execution_count": 100,
   "id": "bf4a8c20-5d3a-4e4e-9cdd-4efbee2359fa",
   "metadata": {},
   "outputs": [
    {
     "data": {
      "text/plain": [
       "array([[ True,  True,  True,  True,  True],\n",
       "       [ True,  True,  True,  True,  True],\n",
       "       [ True,  True,  True,  True,  True],\n",
       "       [ True,  True,  True,  True,  True],\n",
       "       [ True,  True,  True,  True,  True]])"
      ]
     },
     "execution_count": 100,
     "metadata": {},
     "output_type": "execute_result"
    }
   ],
   "source": [
    "np.transpose(example) == example.T"
   ]
  },
  {
   "cell_type": "code",
   "execution_count": 101,
   "id": "1c15d4a9-d2ef-4eba-a0bd-97ffb72da376",
   "metadata": {},
   "outputs": [
    {
     "data": {
      "text/plain": [
       "array([8, 8, 3, 7, 7, 0, 4, 2, 5, 2, 2, 2, 1, 0, 8, 4, 0, 9, 6, 2, 4, 1,\n",
       "       5, 3, 4])"
      ]
     },
     "execution_count": 101,
     "metadata": {},
     "output_type": "execute_result"
    }
   ],
   "source": [
    "np.ravel(example)"
   ]
  },
  {
   "cell_type": "code",
   "execution_count": 102,
   "id": "fe81e51d-a1f6-40d6-9b31-267a5aa15b47",
   "metadata": {},
   "outputs": [
    {
     "data": {
      "text/plain": [
       "array([8, 8, 3, 7, 7, 0, 4, 2, 5, 2, 2, 2, 1, 0, 8, 4, 0, 9, 6, 2, 4, 1,\n",
       "       5, 3, 4])"
      ]
     },
     "execution_count": 102,
     "metadata": {},
     "output_type": "execute_result"
    }
   ],
   "source": [
    "example.ravel()"
   ]
  },
  {
   "cell_type": "code",
   "execution_count": 104,
   "id": "57de9ab1-b0f6-4d65-9c9c-068e7972b14e",
   "metadata": {},
   "outputs": [
    {
     "data": {
      "text/plain": [
       "True"
      ]
     },
     "execution_count": 104,
     "metadata": {},
     "output_type": "execute_result"
    }
   ],
   "source": [
    "np.any(example % 7 == 0)"
   ]
  },
  {
   "cell_type": "code",
   "execution_count": 107,
   "id": "6d6d5a5f-d661-46f0-931b-541a9ca32e38",
   "metadata": {},
   "outputs": [
    {
     "data": {
      "text/plain": [
       "True"
      ]
     },
     "execution_count": 107,
     "metadata": {},
     "output_type": "execute_result"
    }
   ],
   "source": [
    "np.all(example < 11)"
   ]
  },
  {
   "cell_type": "code",
   "execution_count": 108,
   "id": "29760dc1-a357-45fa-a427-7d4762a3cf8e",
   "metadata": {},
   "outputs": [
    {
     "data": {
      "text/plain": [
       "array([ 1,  2,  3,  4,  5,  6,  7,  8,  9, 10, 11, 12, 13, 14, 15])"
      ]
     },
     "execution_count": 108,
     "metadata": {},
     "output_type": "execute_result"
    }
   ],
   "source": [
    "array = np.arange(1, 16, 1); array"
   ]
  },
  {
   "cell_type": "code",
   "execution_count": 109,
   "id": "d564a238-3b4f-44cd-8681-6e8b1d3e75cc",
   "metadata": {},
   "outputs": [
    {
     "data": {
      "text/plain": [
       "array([[ 1,  2,  3,  4,  5],\n",
       "       [ 6,  7,  8,  9, 10],\n",
       "       [11, 12, 13, 14, 15]])"
      ]
     },
     "execution_count": 109,
     "metadata": {},
     "output_type": "execute_result"
    }
   ],
   "source": [
    "array.reshape(3, 5)"
   ]
  },
  {
   "cell_type": "code",
   "execution_count": 110,
   "id": "da383c9d-089c-4b9a-9def-7fb4646cc214",
   "metadata": {},
   "outputs": [
    {
     "data": {
      "text/plain": [
       "array([[8, 8, 3, 7, 7],\n",
       "       [0, 4, 2, 5, 2],\n",
       "       [2, 2, 1, 0, 8],\n",
       "       [4, 0, 9, 6, 2],\n",
       "       [4, 1, 5, 3, 4]])"
      ]
     },
     "execution_count": 110,
     "metadata": {},
     "output_type": "execute_result"
    }
   ],
   "source": [
    "example"
   ]
  },
  {
   "cell_type": "code",
   "execution_count": 113,
   "id": "e8e9a517-ad84-4874-80d3-20be57fd7fc9",
   "metadata": {},
   "outputs": [
    {
     "data": {
      "text/plain": [
       "array([[0, 0, 0, 1, 2],\n",
       "       [1, 2, 2, 2, 3],\n",
       "       [2, 3, 4, 4, 5],\n",
       "       [4, 4, 5, 6, 7],\n",
       "       [7, 8, 8, 8, 9]])"
      ]
     },
     "execution_count": 113,
     "metadata": {},
     "output_type": "execute_result"
    }
   ],
   "source": [
    "example.sort(axis=1)\n",
    "example"
   ]
  },
  {
   "cell_type": "code",
   "execution_count": null,
   "id": "c6ae335d-7221-4b25-b669-fc3cae8fc0c4",
   "metadata": {},
   "outputs": [],
   "source": []
  }
 ],
 "metadata": {
  "kernelspec": {
   "display_name": "Python 3 (ipykernel)",
   "language": "python",
   "name": "python3"
  },
  "language_info": {
   "codemirror_mode": {
    "name": "ipython",
    "version": 3
   },
   "file_extension": ".py",
   "mimetype": "text/x-python",
   "name": "python",
   "nbconvert_exporter": "python",
   "pygments_lexer": "ipython3",
   "version": "3.10.9"
  }
 },
 "nbformat": 4,
 "nbformat_minor": 5
}
