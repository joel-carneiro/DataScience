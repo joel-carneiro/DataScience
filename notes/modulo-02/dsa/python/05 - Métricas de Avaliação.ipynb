{
 "cells": [
  {
   "cell_type": "markdown",
   "id": "db9eee03",
   "metadata": {},
   "source": [
    "<font color='green' size=6> Avaliando Desempenho em Machine Learning </font>\n",
    "<hr>"
   ]
  },
  {
   "cell_type": "markdown",
   "id": "a17a7cf4",
   "metadata": {},
   "source": [
    "# 1 - Importando Dados "
   ]
  },
  {
   "cell_type": "code",
   "execution_count": 22,
   "id": "1ddf9423",
   "metadata": {},
   "outputs": [],
   "source": [
    "# Importando módulo pandas\n",
    "import pandas as pd\n",
    "\n",
    "# Importando o módulo numpy\n",
    "import numpy as np"
   ]
  },
  {
   "cell_type": "markdown",
   "id": "1e337825",
   "metadata": {},
   "source": [
    "## 1.1 - Dados para Algoritmos de Classificação"
   ]
  },
  {
   "cell_type": "code",
   "execution_count": 21,
   "id": "d2bfa2fc",
   "metadata": {},
   "outputs": [
    {
     "data": {
      "text/html": [
       "<div>\n",
       "<style scoped>\n",
       "    .dataframe tbody tr th:only-of-type {\n",
       "        vertical-align: middle;\n",
       "    }\n",
       "\n",
       "    .dataframe tbody tr th {\n",
       "        vertical-align: top;\n",
       "    }\n",
       "\n",
       "    .dataframe thead th {\n",
       "        text-align: right;\n",
       "    }\n",
       "</style>\n",
       "<table border=\"1\" class=\"dataframe\">\n",
       "  <thead>\n",
       "    <tr style=\"text-align: right;\">\n",
       "      <th></th>\n",
       "      <th>prg</th>\n",
       "      <th>glu</th>\n",
       "      <th>bp</th>\n",
       "      <th>skn</th>\n",
       "      <th>ins</th>\n",
       "      <th>bmi</th>\n",
       "      <th>dpf</th>\n",
       "      <th>age</th>\n",
       "      <th>out</th>\n",
       "    </tr>\n",
       "  </thead>\n",
       "  <tbody>\n",
       "    <tr>\n",
       "      <th>0</th>\n",
       "      <td>6</td>\n",
       "      <td>148</td>\n",
       "      <td>72</td>\n",
       "      <td>35</td>\n",
       "      <td>0</td>\n",
       "      <td>33.6</td>\n",
       "      <td>0.627</td>\n",
       "      <td>50</td>\n",
       "      <td>1</td>\n",
       "    </tr>\n",
       "    <tr>\n",
       "      <th>1</th>\n",
       "      <td>1</td>\n",
       "      <td>85</td>\n",
       "      <td>66</td>\n",
       "      <td>29</td>\n",
       "      <td>0</td>\n",
       "      <td>26.6</td>\n",
       "      <td>0.351</td>\n",
       "      <td>31</td>\n",
       "      <td>0</td>\n",
       "    </tr>\n",
       "    <tr>\n",
       "      <th>2</th>\n",
       "      <td>8</td>\n",
       "      <td>183</td>\n",
       "      <td>64</td>\n",
       "      <td>0</td>\n",
       "      <td>0</td>\n",
       "      <td>23.3</td>\n",
       "      <td>0.672</td>\n",
       "      <td>32</td>\n",
       "      <td>1</td>\n",
       "    </tr>\n",
       "    <tr>\n",
       "      <th>3</th>\n",
       "      <td>1</td>\n",
       "      <td>89</td>\n",
       "      <td>66</td>\n",
       "      <td>23</td>\n",
       "      <td>94</td>\n",
       "      <td>28.1</td>\n",
       "      <td>0.167</td>\n",
       "      <td>21</td>\n",
       "      <td>0</td>\n",
       "    </tr>\n",
       "    <tr>\n",
       "      <th>4</th>\n",
       "      <td>0</td>\n",
       "      <td>137</td>\n",
       "      <td>40</td>\n",
       "      <td>35</td>\n",
       "      <td>168</td>\n",
       "      <td>43.1</td>\n",
       "      <td>2.288</td>\n",
       "      <td>33</td>\n",
       "      <td>1</td>\n",
       "    </tr>\n",
       "  </tbody>\n",
       "</table>\n",
       "</div>"
      ],
      "text/plain": [
       "   prg  glu  bp  skn  ins   bmi    dpf  age  out\n",
       "0    6  148  72   35    0  33.6  0.627   50    1\n",
       "1    1   85  66   29    0  26.6  0.351   31    0\n",
       "2    8  183  64    0    0  23.3  0.672   32    1\n",
       "3    1   89  66   23   94  28.1  0.167   21    0\n",
       "4    0  137  40   35  168  43.1  2.288   33    1"
      ]
     },
     "execution_count": 21,
     "metadata": {},
     "output_type": "execute_result"
    }
   ],
   "source": [
    "# Carregando a base de dados\n",
    "diabetes = pd.read_csv('/home/joeldspy/Modelos/datasets/diabetes.csv')\n",
    "\n",
    "# Visualizando as 5 primeiras observações da base de dados\n",
    "diabetes.head()"
   ]
  },
  {
   "cell_type": "markdown",
   "id": "35c707f1",
   "metadata": {},
   "source": [
    "## 1.2 - Dados para Algoritmos de Regressão"
   ]
  },
  {
   "cell_type": "code",
   "execution_count": 16,
   "id": "102817cb",
   "metadata": {},
   "outputs": [
    {
     "data": {
      "text/html": [
       "<div>\n",
       "<style scoped>\n",
       "    .dataframe tbody tr th:only-of-type {\n",
       "        vertical-align: middle;\n",
       "    }\n",
       "\n",
       "    .dataframe tbody tr th {\n",
       "        vertical-align: top;\n",
       "    }\n",
       "\n",
       "    .dataframe thead th {\n",
       "        text-align: right;\n",
       "    }\n",
       "</style>\n",
       "<table border=\"1\" class=\"dataframe\">\n",
       "  <thead>\n",
       "    <tr style=\"text-align: right;\">\n",
       "      <th></th>\n",
       "      <th>name</th>\n",
       "      <th>mpg</th>\n",
       "      <th>cyl</th>\n",
       "      <th>disp</th>\n",
       "      <th>hp</th>\n",
       "      <th>drat</th>\n",
       "      <th>wt</th>\n",
       "      <th>qsec</th>\n",
       "      <th>vs</th>\n",
       "      <th>am</th>\n",
       "      <th>gear</th>\n",
       "      <th>carb</th>\n",
       "    </tr>\n",
       "  </thead>\n",
       "  <tbody>\n",
       "    <tr>\n",
       "      <th>0</th>\n",
       "      <td>Mazda RX4</td>\n",
       "      <td>21.0</td>\n",
       "      <td>6</td>\n",
       "      <td>160.0</td>\n",
       "      <td>110</td>\n",
       "      <td>3.90</td>\n",
       "      <td>2.620</td>\n",
       "      <td>16.46</td>\n",
       "      <td>0</td>\n",
       "      <td>1</td>\n",
       "      <td>4</td>\n",
       "      <td>4</td>\n",
       "    </tr>\n",
       "    <tr>\n",
       "      <th>1</th>\n",
       "      <td>Mazda RX4 Wag</td>\n",
       "      <td>21.0</td>\n",
       "      <td>6</td>\n",
       "      <td>160.0</td>\n",
       "      <td>110</td>\n",
       "      <td>3.90</td>\n",
       "      <td>2.875</td>\n",
       "      <td>17.02</td>\n",
       "      <td>0</td>\n",
       "      <td>1</td>\n",
       "      <td>4</td>\n",
       "      <td>4</td>\n",
       "    </tr>\n",
       "    <tr>\n",
       "      <th>2</th>\n",
       "      <td>Datsun 710</td>\n",
       "      <td>22.8</td>\n",
       "      <td>4</td>\n",
       "      <td>108.0</td>\n",
       "      <td>93</td>\n",
       "      <td>3.85</td>\n",
       "      <td>2.320</td>\n",
       "      <td>18.61</td>\n",
       "      <td>1</td>\n",
       "      <td>1</td>\n",
       "      <td>4</td>\n",
       "      <td>1</td>\n",
       "    </tr>\n",
       "    <tr>\n",
       "      <th>3</th>\n",
       "      <td>Hornet 4 Drive</td>\n",
       "      <td>21.4</td>\n",
       "      <td>6</td>\n",
       "      <td>258.0</td>\n",
       "      <td>110</td>\n",
       "      <td>3.08</td>\n",
       "      <td>3.215</td>\n",
       "      <td>19.44</td>\n",
       "      <td>1</td>\n",
       "      <td>0</td>\n",
       "      <td>3</td>\n",
       "      <td>1</td>\n",
       "    </tr>\n",
       "    <tr>\n",
       "      <th>4</th>\n",
       "      <td>Hornet Sportabout</td>\n",
       "      <td>18.7</td>\n",
       "      <td>8</td>\n",
       "      <td>360.0</td>\n",
       "      <td>175</td>\n",
       "      <td>3.15</td>\n",
       "      <td>3.440</td>\n",
       "      <td>17.02</td>\n",
       "      <td>0</td>\n",
       "      <td>0</td>\n",
       "      <td>3</td>\n",
       "      <td>2</td>\n",
       "    </tr>\n",
       "  </tbody>\n",
       "</table>\n",
       "</div>"
      ],
      "text/plain": [
       "                name   mpg  cyl   disp   hp  drat     wt   qsec  vs  am  gear  \\\n",
       "0          Mazda RX4  21.0    6  160.0  110  3.90  2.620  16.46   0   1     4   \n",
       "1      Mazda RX4 Wag  21.0    6  160.0  110  3.90  2.875  17.02   0   1     4   \n",
       "2         Datsun 710  22.8    4  108.0   93  3.85  2.320  18.61   1   1     4   \n",
       "3     Hornet 4 Drive  21.4    6  258.0  110  3.08  3.215  19.44   1   0     3   \n",
       "4  Hornet Sportabout  18.7    8  360.0  175  3.15  3.440  17.02   0   0     3   \n",
       "\n",
       "   carb  \n",
       "0     4  \n",
       "1     4  \n",
       "2     1  \n",
       "3     1  \n",
       "4     2  "
      ]
     },
     "execution_count": 16,
     "metadata": {},
     "output_type": "execute_result"
    }
   ],
   "source": [
    "# Importando a base de dados\n",
    "cars = pd.read_csv('/home/joeldspy/Modelos/datasets/mtcars.csv')\n",
    "\n",
    "# Visualizando os 5 primeiros elementos\n",
    "cars.head()"
   ]
  },
  {
   "cell_type": "markdown",
   "id": "19e12b5f",
   "metadata": {},
   "source": [
    "# 2 - Avaliando Modelos de Classificação"
   ]
  },
  {
   "cell_type": "markdown",
   "id": "393a4a6a",
   "metadata": {},
   "source": [
    "## 2.1 - Acurácia"
   ]
  },
  {
   "cell_type": "code",
   "execution_count": 3,
   "id": "ec760302",
   "metadata": {},
   "outputs": [
    {
     "name": "stdout",
     "output_type": "stream",
     "text": [
      "Acurácia de: 0.79\n"
     ]
    }
   ],
   "source": [
    "# Definindo a seed do bloco de código\n",
    "np.random.seed(75)\n",
    "\n",
    "# Importando função de regressão logística\n",
    "from sklearn.linear_model import LogisticRegression\n",
    "\n",
    "# Importando função para separação de dados entre treino e teste\n",
    "from sklearn.model_selection import train_test_split\n",
    "\n",
    "# Importando função para cálculo de acurácia\n",
    "from sklearn.metrics import accuracy_score\n",
    "\n",
    "# Separando dados entre dados de entrada e saída\n",
    "x = diabetes.drop(['out'], axis=1)\n",
    "y = diabetes['out']\n",
    "\n",
    "# Separando dados entre treino e teste\n",
    "x_train, x_test, y_train, y_test = train_test_split(x, y, test_size=0.35)\n",
    "\n",
    "# Criando um modelo\n",
    "model = LogisticRegression(solver='lbfgs', max_iter=1000)\n",
    "\n",
    "# Treinando o modelo\n",
    "model.fit(x_train, y_train)\n",
    "\n",
    "# Gerando dados preditos\n",
    "y_pred = model.predict(x_test)\n",
    "\n",
    "# Calculando a acurácia\n",
    "acr = accuracy_score(y_test, y_pred)\n",
    "\n",
    "# Visualizando a acurácia\n",
    "print(f'Acurácia de: {acr:.2f}')"
   ]
  },
  {
   "cell_type": "code",
   "execution_count": 4,
   "id": "f66c13ee",
   "metadata": {},
   "outputs": [
    {
     "name": "stdout",
     "output_type": "stream",
     "text": [
      "Acurácia média de: 0.77 com desvio padrão de 0.0370\n"
     ]
    }
   ],
   "source": [
    "# Definindo a seed do bloco de código\n",
    "np.random.seed(75)\n",
    "\n",
    "# Importando função de regressão logística\n",
    "from sklearn.linear_model import LogisticRegression\n",
    "\n",
    "# Importando função para validação cruzada\n",
    "from sklearn.model_selection import cross_validate\n",
    "\n",
    "# Importando função para criação de validação cruzada aleatória\n",
    "from sklearn.model_selection import KFold\n",
    "\n",
    "# Importando função para cálculo de acurácia\n",
    "from sklearn.metrics import accuracy_score\n",
    "\n",
    "# Separando dados entre dados de entrada e saída\n",
    "x = diabetes.drop(['out'], axis=1)\n",
    "y = diabetes['out']\n",
    "\n",
    "# Criando um modelo\n",
    "model = LogisticRegression(solver='lbfgs', max_iter=1000)\n",
    "\n",
    "# Criando o método de validação cruzada\n",
    "kfold = KFold(n_splits=10, shuffle=True)\n",
    "\n",
    "# Aplicando a validação de cruzada\n",
    "results = cross_validate(model, x, y, cv=kfold, scoring='accuracy')\n",
    "\n",
    "# Extraindo os dados\n",
    "acr = results['test_score']\n",
    "\n",
    "# Visualizando os dados\n",
    "print(f'Acurácia média de: {np.mean(acr):.2f} com desvio padrão de {np.std(acr):.4f}')"
   ]
  },
  {
   "cell_type": "markdown",
   "id": "9ba84233",
   "metadata": {},
   "source": [
    "## 2.2 - Curva ROC"
   ]
  },
  {
   "cell_type": "code",
   "execution_count": 6,
   "id": "cee1d510",
   "metadata": {},
   "outputs": [
    {
     "name": "stdout",
     "output_type": "stream",
     "text": [
      "Curva ROC média de: 0.83 com desvio padrão de 0.0318\n"
     ]
    }
   ],
   "source": [
    "# Definindo a seed do bloco de código\n",
    "np.random.seed(75)\n",
    "\n",
    "# Importando função de regressão logística\n",
    "from sklearn.linear_model import LogisticRegression\n",
    "\n",
    "# Importando função para validação cruzada\n",
    "from sklearn.model_selection import cross_validate\n",
    "\n",
    "# Importando função para criação de validação cruzada aleatória\n",
    "from sklearn.model_selection import KFold\n",
    "\n",
    "# Importando função para cálculo de acurácia\n",
    "from sklearn.metrics import accuracy_score\n",
    "\n",
    "# Separando dados entre dados de entrada e saída\n",
    "x = diabetes.drop(['out'], axis=1)\n",
    "y = diabetes['out']\n",
    "\n",
    "# Criando um modelo\n",
    "model = LogisticRegression(solver='lbfgs', max_iter=1000)\n",
    "\n",
    "# Criando o método de validação cruzada\n",
    "kfold = KFold(n_splits=10, shuffle=True)\n",
    "\n",
    "# Aplicando a validação de cruzada\n",
    "results = cross_validate(model, x, y, cv=kfold, scoring='roc_auc')\n",
    "\n",
    "# Extraindo os dados\n",
    "acr = results['test_score']\n",
    "\n",
    "# Visualizando os dados\n",
    "print(f'Curva ROC média de: {np.mean(acr):.2f} com desvio padrão de {np.std(acr):.4f}')"
   ]
  },
  {
   "cell_type": "markdown",
   "id": "1d02e5ec",
   "metadata": {},
   "source": [
    "## 2.3 - Matriz de Confusão"
   ]
  },
  {
   "cell_type": "code",
   "execution_count": 14,
   "id": "99aa2b6d",
   "metadata": {},
   "outputs": [
    {
     "data": {
      "text/plain": [
       "array([[159,  13],\n",
       "       [ 43,  54]])"
      ]
     },
     "execution_count": 14,
     "metadata": {},
     "output_type": "execute_result"
    }
   ],
   "source": [
    "# Definindo a seed do bloco de código\n",
    "np.random.seed(75)\n",
    "\n",
    "# Importando função de regressão logística\n",
    "from sklearn.linear_model import LogisticRegression\n",
    "\n",
    "# Importando função para separação de dados entre treino e teste\n",
    "from sklearn.model_selection import train_test_split\n",
    "\n",
    "# Importando função para cálculo de acurácia\n",
    "from sklearn.metrics import confusion_matrix\n",
    "\n",
    "# Separando dados entre dados de entrada e saída\n",
    "x = diabetes.drop(['out'], axis=1)\n",
    "y = diabetes['out']\n",
    "\n",
    "# Separando dados entre treino e teste\n",
    "x_train, x_test, y_train, y_test = train_test_split(x, y, test_size=0.35)\n",
    "\n",
    "# Criando um modelo\n",
    "model = LogisticRegression(solver='lbfgs', max_iter=1000)\n",
    "\n",
    "# Treinando o modelo\n",
    "model.fit(x_train, y_train)\n",
    "\n",
    "# Gerando dados preditos\n",
    "y_pred = model.predict(x_test)\n",
    "\n",
    "# Calculando a matriz de confusão\n",
    "acr = confusion_matrix(y_test, y_pred)\n",
    "\n",
    "# Visualizando a acurácia\n",
    "acr"
   ]
  },
  {
   "cell_type": "code",
   "execution_count": 15,
   "id": "4c84698b",
   "metadata": {},
   "outputs": [
    {
     "data": {
      "text/plain": [
       "<Axes: >"
      ]
     },
     "execution_count": 15,
     "metadata": {},
     "output_type": "execute_result"
    },
    {
     "data": {
      "image/png": "[encoded data removed]",
      "text/plain": [
       "<Figure size 640x480 with 2 Axes>"
      ]
     },
     "metadata": {},
     "output_type": "display_data"
    }
   ],
   "source": [
    "## Visualizando em forma de gráfico\n",
    "import seaborn as sns\n",
    "sns.heatmap(acr, annot=True, fmt='d')"
   ]
  },
  {
   "cell_type": "markdown",
   "id": "e2bdbf62",
   "metadata": {},
   "source": [
    "# 3 - Avaliando Modelos de Regressão"
   ]
  },
  {
   "cell_type": "markdown",
   "id": "8c9d1588",
   "metadata": {},
   "source": [
    "## 3.1 Error Médio Absoluto (EMA)"
   ]
  },
  {
   "cell_type": "markdown",
   "id": "848f61cb",
   "metadata": {},
   "source": [
    "<font size=5> $$ MAE = \\frac{1}{n} \\sum_{i=1}^{n} \\left| y_{\\text{true}, i} - y_{\\text{pred}, i} \\right| $$"
   ]
  },
  {
   "cell_type": "code",
   "execution_count": 43,
   "id": "985654af",
   "metadata": {},
   "outputs": [
    {
     "name": "stdout",
     "output_type": "stream",
     "text": [
      "MAE: -3.59, sigma = 1.61\n"
     ]
    }
   ],
   "source": [
    "# Definindo a semente de decisões aleatórias\n",
    "np.random.seed(75)\n",
    "\n",
    "# Importando modelo de regressão linear\n",
    "from sklearn.linear_model import LinearRegression\n",
    "\n",
    "# Importando função para validação cruzada\n",
    "from sklearn.model_selection import cross_validate, cross_val_score\n",
    "\n",
    "# Separando dados entre entrada e saída\n",
    "x = cars.drop(columns=['mpg', 'name'])\n",
    "y = cars['mpg']\n",
    "\n",
    "# Criando o modelo\n",
    "model = LinearRegression()\n",
    "\n",
    "# Avaliando o modelo\n",
    "results = cross_validate(model, x, y, cv = 10, scoring='neg_mean_absolute_error')\n",
    "\n",
    "# Extraindo os dados de erro médio absoluto\n",
    "MAE = results['test_score']\n",
    "\n",
    "print(f'MAE: {MAE.mean():.2f}, sigma = {MAE.std():.2f}')"
   ]
  },
  {
   "cell_type": "markdown",
   "id": "976f54af",
   "metadata": {},
   "source": [
    "## 3.2 - Erro Médio Quadrado (EMQ)"
   ]
  },
  {
   "cell_type": "markdown",
   "id": "99cf4b13",
   "metadata": {},
   "source": [
    "<font size=5> $$ MSE = \\frac{1}{n} \\sum_{i=1}^{n} (y_{\\text{true}, i} - y_{\\text{pred}, i})^2 $$"
   ]
  },
  {
   "cell_type": "code",
   "execution_count": 49,
   "id": "ecf4f932",
   "metadata": {},
   "outputs": [
    {
     "name": "stdout",
     "output_type": "stream",
     "text": [
      "MSE: -18.94, sigma = 15.52\n"
     ]
    }
   ],
   "source": [
    "# Definindo a semente de decisões aleatórias\n",
    "np.random.seed(75)\n",
    "\n",
    "# Importando modelo de regressão linear\n",
    "from sklearn.linear_model import LinearRegression\n",
    "\n",
    "# Importando função para validação cruzada\n",
    "from sklearn.model_selection import cross_validate, cross_val_score\n",
    "\n",
    "# Separando dados entre entrada e saída\n",
    "x = cars.drop(columns=['mpg', 'name'])\n",
    "y = cars['mpg']\n",
    "\n",
    "# Criando o modelo\n",
    "model = LinearRegression()\n",
    "\n",
    "# Avaliando o modelo\n",
    "results = cross_validate(model, x, y, cv = 10, scoring='neg_mean_squared_error')\n",
    "\n",
    "# Extraindo os dados de erro médio absoluto\n",
    "MSE = results['test_score']\n",
    "\n",
    "print(f'MSE: {MSE.mean():.2f}, sigma = {MSE.std():.2f}')"
   ]
  },
  {
   "cell_type": "markdown",
   "id": "7f77d526",
   "metadata": {},
   "source": [
    "## 3.3 - Raiz do Erro Médio Quadrado (REMQ)"
   ]
  },
  {
   "cell_type": "markdown",
   "id": "cdb4efb2",
   "metadata": {},
   "source": [
    "<font size=5> $$ RMSE = \\sqrt{\\frac{1}{n} \\sum_{i=1}^{n} (y_{\\text{true}, i} - y_{\\text{pred}, i})^2} $$ "
   ]
  },
  {
   "cell_type": "code",
   "execution_count": 50,
   "id": "925d88f4",
   "metadata": {},
   "outputs": [
    {
     "name": "stdout",
     "output_type": "stream",
     "text": [
      "RMSE: -4.02, sigma = 1.66\n"
     ]
    }
   ],
   "source": [
    "# Definindo a semente de decisões aleatórias\n",
    "np.random.seed(75)\n",
    "\n",
    "# Importando modelo de regressão linear\n",
    "from sklearn.linear_model import LinearRegression\n",
    "\n",
    "# Importando função para validação cruzada\n",
    "from sklearn.model_selection import cross_validate, cross_val_score\n",
    "\n",
    "# Separando dados entre entrada e saída\n",
    "x = cars.drop(columns=['mpg', 'name'])\n",
    "y = cars['mpg']\n",
    "\n",
    "# Criando o modelo\n",
    "model = LinearRegression()\n",
    "\n",
    "# Avaliando o modelo\n",
    "results = cross_validate(model, x, y, cv = 10, scoring='neg_root_mean_squared_error')\n",
    "\n",
    "# Extraindo os dados de erro médio absoluto\n",
    "RMSE = results['test_score']\n",
    "\n",
    "print(f'RMSE: {RMSE.mean():.2f}, sigma = {RMSE.std():.2f}')"
   ]
  },
  {
   "cell_type": "markdown",
   "id": "08b1b9bf",
   "metadata": {},
   "source": [
    "## 3.4 - R²"
   ]
  },
  {
   "cell_type": "markdown",
   "id": "ef90f417",
   "metadata": {},
   "source": [
    "<font size=5> $$ R^2 = 1 - \\frac{\\sum_{i=1}^{n} (y_{\\text{true}, i} - y_{\\text{pred}, i})^2}{\\sum_{i=1}^{n} (y_{\\text{true}, i} - \\bar{y}_{\\text{true}})^2} $$"
   ]
  },
  {
   "cell_type": "code",
   "execution_count": 68,
   "id": "5e0bef7c",
   "metadata": {},
   "outputs": [
    {
     "data": {
      "text/plain": [
       "0.5115280529259515"
      ]
     },
     "execution_count": 68,
     "metadata": {},
     "output_type": "execute_result"
    }
   ],
   "source": [
    "# Definindo a semente de decisões aleatórias\n",
    "np.random.seed(75)\n",
    "\n",
    "# Importando modelo de regressão linear\n",
    "from sklearn.linear_model import LinearRegression\n",
    "\n",
    "# Importando função para validação cruzada\n",
    "from sklearn.model_selection import train_test_split\n",
    "\n",
    "# Importando métrica de validação\n",
    "from sklearn.metrics import r2_score\n",
    "\n",
    "# Separando dados entre entrada e saída\n",
    "x = cars.drop(columns=['mpg', 'name'])\n",
    "y = cars['mpg']\n",
    "\n",
    "# Separando entre dados de treino e teste\n",
    "x_train, x_test, y_train, y_test = train_test_split(x, y, test_size=0.25)\n",
    "\n",
    "# Criando o modelo\n",
    "model = LinearRegression()\n",
    "\n",
    "# Treinando o modelo\n",
    "model.fit(x_train, y_train)\n",
    "\n",
    "# Prevendo resultados\n",
    "y_pred = model.predict(x_test)\n",
    "\n",
    "# Calculando o R2\n",
    "r2_score(y_test, y_pred)"
   ]
  },
  {
   "cell_type": "code",
   "execution_count": null,
   "id": "6e862807",
   "metadata": {},
   "outputs": [],
   "source": []
  }
 ],
 "metadata": {
  "kernelspec": {
   "display_name": "Python 3 (ipykernel)",
   "language": "python",
   "name": "python3"
  },
  "language_info": {
   "codemirror_mode": {
    "name": "ipython",
    "version": 3
   },
   "file_extension": ".py",
   "mimetype": "text/x-python",
   "name": "python",
   "nbconvert_exporter": "python",
   "pygments_lexer": "ipython3",
   "version": "3.10.9"
  }
 },
 "nbformat": 4,
 "nbformat_minor": 5
}
