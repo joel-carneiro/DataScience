{
 "cells": [
  {
   "cell_type": "markdown",
   "id": "89a43926",
   "metadata": {},
   "source": [
    "# 1 - Factor"
   ]
  },
  {
   "cell_type": "code",
   "execution_count": 1,
   "id": "9d0fa3b3",
   "metadata": {},
   "outputs": [
    {
     "data": {
      "text/html": [
       "<style>\n",
       ".list-inline {list-style: none; margin:0; padding: 0}\n",
       ".list-inline>li {display: inline-block}\n",
       ".list-inline>li:not(:last-child)::after {content: \"\\00b7\"; padding: 0 .5ex}\n",
       "</style>\n",
       "<ol class=list-inline><li>Homem</li><li>Mulher</li><li>Homem</li><li>Mulher</li><li>Homem</li><li>Mulher</li><li>Homem</li><li>Mulher</li></ol>\n",
       "\n",
       "<details>\n",
       "\t<summary style=display:list-item;cursor:pointer>\n",
       "\t\t<strong>Levels</strong>:\n",
       "\t</summary>\n",
       "\t<style>\n",
       "\t.list-inline {list-style: none; margin:0; padding: 0}\n",
       "\t.list-inline>li {display: inline-block}\n",
       "\t.list-inline>li:not(:last-child)::after {content: \"\\00b7\"; padding: 0 .5ex}\n",
       "\t</style>\n",
       "\t<ol class=list-inline><li>'Homem'</li><li>'Mulher'</li></ol>\n",
       "</details>"
      ],
      "text/latex": [
       "\\begin{enumerate*}\n",
       "\\item Homem\n",
       "\\item Mulher\n",
       "\\item Homem\n",
       "\\item Mulher\n",
       "\\item Homem\n",
       "\\item Mulher\n",
       "\\item Homem\n",
       "\\item Mulher\n",
       "\\end{enumerate*}\n",
       "\n",
       "\\emph{Levels}: \\begin{enumerate*}\n",
       "\\item 'Homem'\n",
       "\\item 'Mulher'\n",
       "\\end{enumerate*}\n"
      ],
      "text/markdown": [
       "1. Homem\n",
       "2. Mulher\n",
       "3. Homem\n",
       "4. Mulher\n",
       "5. Homem\n",
       "6. Mulher\n",
       "7. Homem\n",
       "8. Mulher\n",
       "\n",
       "\n",
       "\n",
       "**Levels**: 1. 'Homem'\n",
       "2. 'Mulher'\n",
       "\n",
       "\n"
      ],
      "text/plain": [
       "[1] Homem  Mulher Homem  Mulher Homem  Mulher Homem  Mulher\n",
       "Levels: Homem Mulher"
      ]
     },
     "metadata": {},
     "output_type": "display_data"
    }
   ],
   "source": [
    "# Exemplo de variável qualitativa nominal\n",
    "generos <- c('Homem', 'Mulher', 'Homem', 'Mulher', 'Homem', 'Mulher', 'Homem', 'Mulher')\n",
    "\n",
    "generos_factor <- factor(generos)\n",
    "\n",
    "generos_factor"
   ]
  },
  {
   "cell_type": "code",
   "execution_count": 2,
   "id": "7bee0a96",
   "metadata": {},
   "outputs": [
    {
     "data": {
      "text/html": [
       "<style>\n",
       ".list-inline {list-style: none; margin:0; padding: 0}\n",
       ".list-inline>li {display: inline-block}\n",
       ".list-inline>li:not(:last-child)::after {content: \"\\00b7\"; padding: 0 .5ex}\n",
       "</style>\n",
       "<ol class=list-inline><li>Ensino Médio</li><li>Doutorado</li><li>Mestrado</li><li>Ensino Fundamental</li><li>Graduação</li></ol>\n",
       "\n",
       "<details>\n",
       "\t<summary style=display:list-item;cursor:pointer>\n",
       "\t\t<strong>Levels</strong>:\n",
       "\t</summary>\n",
       "\t<style>\n",
       "\t.list-inline {list-style: none; margin:0; padding: 0}\n",
       "\t.list-inline>li {display: inline-block}\n",
       "\t.list-inline>li:not(:last-child)::after {content: \"\\00b7\"; padding: 0 .5ex}\n",
       "\t</style>\n",
       "\t<ol class=list-inline><li>'Doutorado'</li><li>'Mestrado'</li><li>'Graduação'</li><li>'Ensino Médio'</li><li>'Ensino Fundamental'</li></ol>\n",
       "</details>"
      ],
      "text/latex": [
       "\\begin{enumerate*}\n",
       "\\item Ensino Médio\n",
       "\\item Doutorado\n",
       "\\item Mestrado\n",
       "\\item Ensino Fundamental\n",
       "\\item Graduação\n",
       "\\end{enumerate*}\n",
       "\n",
       "\\emph{Levels}: \\begin{enumerate*}\n",
       "\\item 'Doutorado'\n",
       "\\item 'Mestrado'\n",
       "\\item 'Graduação'\n",
       "\\item 'Ensino Médio'\n",
       "\\item 'Ensino Fundamental'\n",
       "\\end{enumerate*}\n"
      ],
      "text/markdown": [
       "1. Ensino Médio\n",
       "2. Doutorado\n",
       "3. Mestrado\n",
       "4. Ensino Fundamental\n",
       "5. Graduação\n",
       "\n",
       "\n",
       "\n",
       "**Levels**: 1. 'Doutorado'\n",
       "2. 'Mestrado'\n",
       "3. 'Graduação'\n",
       "4. 'Ensino Médio'\n",
       "5. 'Ensino Fundamental'\n",
       "\n",
       "\n"
      ],
      "text/plain": [
       "[1] Ensino Médio       Doutorado          Mestrado           Ensino Fundamental\n",
       "[5] Graduação         \n",
       "5 Levels: Doutorado < Mestrado < Graduação < ... < Ensino Fundamental"
      ]
     },
     "metadata": {},
     "output_type": "display_data"
    }
   ],
   "source": [
    "# Exemplo de variável qualitativa ordinal\n",
    "nivel_de_grad <- c('Ensino Médio', 'Doutorado', 'Mestrado', 'Ensino Fundamental', 'Graduação')\n",
    "\n",
    "nivel_de_grad_factor <- factor(nivel_de_grad, order=TRUE,\n",
    "       levels=c('Doutorado', 'Mestrado', 'Graduação', 'Ensino Médio', 'Ensino Fundamental'))\n",
    "\n",
    "nivel_de_grad_factor"
   ]
  },
  {
   "cell_type": "code",
   "execution_count": 4,
   "id": "5d642641",
   "metadata": {},
   "outputs": [
    {
     "data": {
      "text/plain": [
       "   Length     Class      Mode \n",
       "        5 character character "
      ]
     },
     "metadata": {},
     "output_type": "display_data"
    },
    {
     "data": {
      "text/html": [
       "<style>\n",
       ".dl-inline {width: auto; margin:0; padding: 0}\n",
       ".dl-inline>dt, .dl-inline>dd {float: none; width: auto; display: inline-block}\n",
       ".dl-inline>dt::after {content: \":\\0020\"; padding-right: .5ex}\n",
       ".dl-inline>dt:not(:first-of-type) {padding-left: .5ex}\n",
       "</style><dl class=dl-inline><dt>Doutorado</dt><dd>1</dd><dt>Mestrado</dt><dd>1</dd><dt>Graduação</dt><dd>1</dd><dt>Ensino Médio</dt><dd>1</dd><dt>Ensino Fundamental</dt><dd>1</dd></dl>\n"
      ],
      "text/latex": [
       "\\begin{description*}\n",
       "\\item[Doutorado] 1\n",
       "\\item[Mestrado] 1\n",
       "\\item[Graduação] 1\n",
       "\\item[Ensino Médio] 1\n",
       "\\item[Ensino Fundamental] 1\n",
       "\\end{description*}\n"
      ],
      "text/markdown": [
       "Doutorado\n",
       ":   1Mestrado\n",
       ":   1Graduação\n",
       ":   1Ensino Médio\n",
       ":   1Ensino Fundamental\n",
       ":   1\n",
       "\n"
      ],
      "text/plain": [
       "         Doutorado           Mestrado          Graduação       Ensino Médio \n",
       "                 1                  1                  1                  1 \n",
       "Ensino Fundamental \n",
       "                 1 "
      ]
     },
     "metadata": {},
     "output_type": "display_data"
    },
    {
     "data": {
      "text/plain": [
       "   Length     Class      Mode \n",
       "        8 character character "
      ]
     },
     "metadata": {},
     "output_type": "display_data"
    },
    {
     "data": {
      "text/html": [
       "<style>\n",
       ".dl-inline {width: auto; margin:0; padding: 0}\n",
       ".dl-inline>dt, .dl-inline>dd {float: none; width: auto; display: inline-block}\n",
       ".dl-inline>dt::after {content: \":\\0020\"; padding-right: .5ex}\n",
       ".dl-inline>dt:not(:first-of-type) {padding-left: .5ex}\n",
       "</style><dl class=dl-inline><dt>Homem</dt><dd>4</dd><dt>Mulher</dt><dd>4</dd></dl>\n"
      ],
      "text/latex": [
       "\\begin{description*}\n",
       "\\item[Homem] 4\n",
       "\\item[Mulher] 4\n",
       "\\end{description*}\n"
      ],
      "text/markdown": [
       "Homem\n",
       ":   4Mulher\n",
       ":   4\n",
       "\n"
      ],
      "text/plain": [
       " Homem Mulher \n",
       "     4      4 "
      ]
     },
     "metadata": {},
     "output_type": "display_data"
    }
   ],
   "source": [
    "# Tentando sumarizar o objeto array\n",
    "summary(nivel_de_grad)\n",
    "\n",
    "# Sumarizando o objeto factor\n",
    "summary(nivel_de_grad_factor)\n",
    "\n",
    "summary(generos)\n",
    "\n",
    "summary(generos_factor)"
   ]
  },
  {
   "cell_type": "code",
   "execution_count": 5,
   "id": "d06360a4",
   "metadata": {},
   "outputs": [
    {
     "data": {
      "text/html": [
       "<style>\n",
       ".list-inline {list-style: none; margin:0; padding: 0}\n",
       ".list-inline>li {display: inline-block}\n",
       ".list-inline>li:not(:last-child)::after {content: \"\\00b7\"; padding: 0 .5ex}\n",
       "</style>\n",
       "<ol class=list-inline><li>Homem</li><li>Mulher</li><li>Homem</li><li>Mulher</li><li>Homem</li><li>Mulher</li><li>Homem</li><li>Mulher</li></ol>\n",
       "\n",
       "<details>\n",
       "\t<summary style=display:list-item;cursor:pointer>\n",
       "\t\t<strong>Levels</strong>:\n",
       "\t</summary>\n",
       "\t<style>\n",
       "\t.list-inline {list-style: none; margin:0; padding: 0}\n",
       "\t.list-inline>li {display: inline-block}\n",
       "\t.list-inline>li:not(:last-child)::after {content: \"\\00b7\"; padding: 0 .5ex}\n",
       "\t</style>\n",
       "\t<ol class=list-inline><li>'Homem'</li><li>'Mulher'</li></ol>\n",
       "</details>"
      ],
      "text/latex": [
       "\\begin{enumerate*}\n",
       "\\item Homem\n",
       "\\item Mulher\n",
       "\\item Homem\n",
       "\\item Mulher\n",
       "\\item Homem\n",
       "\\item Mulher\n",
       "\\item Homem\n",
       "\\item Mulher\n",
       "\\end{enumerate*}\n",
       "\n",
       "\\emph{Levels}: \\begin{enumerate*}\n",
       "\\item 'Homem'\n",
       "\\item 'Mulher'\n",
       "\\end{enumerate*}\n"
      ],
      "text/markdown": [
       "1. Homem\n",
       "2. Mulher\n",
       "3. Homem\n",
       "4. Mulher\n",
       "5. Homem\n",
       "6. Mulher\n",
       "7. Homem\n",
       "8. Mulher\n",
       "\n",
       "\n",
       "\n",
       "**Levels**: 1. 'Homem'\n",
       "2. 'Mulher'\n",
       "\n",
       "\n"
      ],
      "text/plain": [
       "[1] Homem  Mulher Homem  Mulher Homem  Mulher Homem  Mulher\n",
       "Levels: Homem Mulher"
      ]
     },
     "metadata": {},
     "output_type": "display_data"
    },
    {
     "data": {
      "text/html": [
       "<style>\n",
       ".list-inline {list-style: none; margin:0; padding: 0}\n",
       ".list-inline>li {display: inline-block}\n",
       ".list-inline>li:not(:last-child)::after {content: \"\\00b7\"; padding: 0 .5ex}\n",
       "</style>\n",
       "<ol class=list-inline><li>H</li><li>F</li><li>H</li><li>F</li><li>H</li><li>F</li><li>H</li><li>F</li></ol>\n",
       "\n",
       "<details>\n",
       "\t<summary style=display:list-item;cursor:pointer>\n",
       "\t\t<strong>Levels</strong>:\n",
       "\t</summary>\n",
       "\t<style>\n",
       "\t.list-inline {list-style: none; margin:0; padding: 0}\n",
       "\t.list-inline>li {display: inline-block}\n",
       "\t.list-inline>li:not(:last-child)::after {content: \"\\00b7\"; padding: 0 .5ex}\n",
       "\t</style>\n",
       "\t<ol class=list-inline><li>'H'</li><li>'F'</li></ol>\n",
       "</details>"
      ],
      "text/latex": [
       "\\begin{enumerate*}\n",
       "\\item H\n",
       "\\item F\n",
       "\\item H\n",
       "\\item F\n",
       "\\item H\n",
       "\\item F\n",
       "\\item H\n",
       "\\item F\n",
       "\\end{enumerate*}\n",
       "\n",
       "\\emph{Levels}: \\begin{enumerate*}\n",
       "\\item 'H'\n",
       "\\item 'F'\n",
       "\\end{enumerate*}\n"
      ],
      "text/markdown": [
       "1. H\n",
       "2. F\n",
       "3. H\n",
       "4. F\n",
       "5. H\n",
       "6. F\n",
       "7. H\n",
       "8. F\n",
       "\n",
       "\n",
       "\n",
       "**Levels**: 1. 'H'\n",
       "2. 'F'\n",
       "\n",
       "\n"
      ],
      "text/plain": [
       "[1] H F H F H F H F\n",
       "Levels: H F"
      ]
     },
     "metadata": {},
     "output_type": "display_data"
    }
   ],
   "source": [
    "# Renomeando os levels de um fator\n",
    "generos_factor\n",
    "\n",
    "levels(generos_factor) <- c('H', 'F')\n",
    "\n",
    "generos_factor"
   ]
  },
  {
   "cell_type": "code",
   "execution_count": 6,
   "id": "2b923768",
   "metadata": {},
   "outputs": [
    {
     "data": {
      "text/html": [
       "<style>\n",
       ".list-inline {list-style: none; margin:0; padding: 0}\n",
       ".list-inline>li {display: inline-block}\n",
       ".list-inline>li:not(:last-child)::after {content: \"\\00b7\"; padding: 0 .5ex}\n",
       "</style>\n",
       "<ol class=list-inline><li>1</li><li>2</li><li>3</li><li>1</li><li>2</li><li>3</li></ol>\n",
       "\n",
       "<details>\n",
       "\t<summary style=display:list-item;cursor:pointer>\n",
       "\t\t<strong>Levels</strong>:\n",
       "\t</summary>\n",
       "\t<style>\n",
       "\t.list-inline {list-style: none; margin:0; padding: 0}\n",
       "\t.list-inline>li {display: inline-block}\n",
       "\t.list-inline>li:not(:last-child)::after {content: \"\\00b7\"; padding: 0 .5ex}\n",
       "\t</style>\n",
       "\t<ol class=list-inline><li>'1'</li><li>'2'</li><li>'3'</li></ol>\n",
       "</details>"
      ],
      "text/latex": [
       "\\begin{enumerate*}\n",
       "\\item 1\n",
       "\\item 2\n",
       "\\item 3\n",
       "\\item 1\n",
       "\\item 2\n",
       "\\item 3\n",
       "\\end{enumerate*}\n",
       "\n",
       "\\emph{Levels}: \\begin{enumerate*}\n",
       "\\item '1'\n",
       "\\item '2'\n",
       "\\item '3'\n",
       "\\end{enumerate*}\n"
      ],
      "text/markdown": [
       "1. 1\n",
       "2. 2\n",
       "3. 3\n",
       "4. 1\n",
       "5. 2\n",
       "6. 3\n",
       "\n",
       "\n",
       "\n",
       "**Levels**: 1. '1'\n",
       "2. '2'\n",
       "3. '3'\n",
       "\n",
       "\n"
      ],
      "text/plain": [
       "[1] 1 2 3 1 2 3\n",
       "Levels: 1 2 3"
      ]
     },
     "metadata": {},
     "output_type": "display_data"
    },
    {
     "data": {
      "text/html": [
       "<style>\n",
       ".list-inline {list-style: none; margin:0; padding: 0}\n",
       ".list-inline>li {display: inline-block}\n",
       ".list-inline>li:not(:last-child)::after {content: \"\\00b7\"; padding: 0 .5ex}\n",
       "</style>\n",
       "<ol class=list-inline><li>I</li><li>II</li><li>III</li><li>I</li><li>II</li><li>III</li></ol>\n",
       "\n",
       "<details>\n",
       "\t<summary style=display:list-item;cursor:pointer>\n",
       "\t\t<strong>Levels</strong>:\n",
       "\t</summary>\n",
       "\t<style>\n",
       "\t.list-inline {list-style: none; margin:0; padding: 0}\n",
       "\t.list-inline>li {display: inline-block}\n",
       "\t.list-inline>li:not(:last-child)::after {content: \"\\00b7\"; padding: 0 .5ex}\n",
       "\t</style>\n",
       "\t<ol class=list-inline><li>'I'</li><li>'II'</li><li>'III'</li></ol>\n",
       "</details>"
      ],
      "text/latex": [
       "\\begin{enumerate*}\n",
       "\\item I\n",
       "\\item II\n",
       "\\item III\n",
       "\\item I\n",
       "\\item II\n",
       "\\item III\n",
       "\\end{enumerate*}\n",
       "\n",
       "\\emph{Levels}: \\begin{enumerate*}\n",
       "\\item 'I'\n",
       "\\item 'II'\n",
       "\\item 'III'\n",
       "\\end{enumerate*}\n"
      ],
      "text/markdown": [
       "1. I\n",
       "2. II\n",
       "3. III\n",
       "4. I\n",
       "5. II\n",
       "6. III\n",
       "\n",
       "\n",
       "\n",
       "**Levels**: 1. 'I'\n",
       "2. 'II'\n",
       "3. 'III'\n",
       "\n",
       "\n"
      ],
      "text/plain": [
       "[1] I   II  III I   II  III\n",
       "Levels: I II III"
      ]
     },
     "metadata": {},
     "output_type": "display_data"
    }
   ],
   "source": [
    "# Aplicando labels em um fator\n",
    "data <- c(1, 2, 3, 1, 2, 3)\n",
    "\n",
    "factor(data)\n",
    "\n",
    "factor(data, labels=c('I', 'II', 'III'))"
   ]
  },
  {
   "cell_type": "code",
   "execution_count": 7,
   "id": "de661d78",
   "metadata": {},
   "outputs": [
    {
     "data": {
      "text/html": [
       "FALSE"
      ],
      "text/latex": [
       "FALSE"
      ],
      "text/markdown": [
       "FALSE"
      ],
      "text/plain": [
       "[1] FALSE"
      ]
     },
     "metadata": {},
     "output_type": "display_data"
    },
    {
     "data": {
      "text/html": [
       "<style>\n",
       ".list-inline {list-style: none; margin:0; padding: 0}\n",
       ".list-inline>li {display: inline-block}\n",
       ".list-inline>li:not(:last-child)::after {content: \"\\00b7\"; padding: 0 .5ex}\n",
       "</style>\n",
       "<ol class=list-inline><li>A</li><li>E</li><li>D</li><li>A</li><li>C</li><li>B</li><li>B</li><li>A</li><li>C</li></ol>\n",
       "\n",
       "<details>\n",
       "\t<summary style=display:list-item;cursor:pointer>\n",
       "\t\t<strong>Levels</strong>:\n",
       "\t</summary>\n",
       "\t<style>\n",
       "\t.list-inline {list-style: none; margin:0; padding: 0}\n",
       "\t.list-inline>li {display: inline-block}\n",
       "\t.list-inline>li:not(:last-child)::after {content: \"\\00b7\"; padding: 0 .5ex}\n",
       "\t</style>\n",
       "\t<ol class=list-inline><li>'A'</li><li>'B'</li><li>'C'</li><li>'D'</li><li>'E'</li></ol>\n",
       "</details>"
      ],
      "text/latex": [
       "\\begin{enumerate*}\n",
       "\\item A\n",
       "\\item E\n",
       "\\item D\n",
       "\\item A\n",
       "\\item C\n",
       "\\item B\n",
       "\\item B\n",
       "\\item A\n",
       "\\item C\n",
       "\\end{enumerate*}\n",
       "\n",
       "\\emph{Levels}: \\begin{enumerate*}\n",
       "\\item 'A'\n",
       "\\item 'B'\n",
       "\\item 'C'\n",
       "\\item 'D'\n",
       "\\item 'E'\n",
       "\\end{enumerate*}\n"
      ],
      "text/markdown": [
       "1. A\n",
       "2. E\n",
       "3. D\n",
       "4. A\n",
       "5. C\n",
       "6. B\n",
       "7. B\n",
       "8. A\n",
       "9. C\n",
       "\n",
       "\n",
       "\n",
       "**Levels**: 1. 'A'\n",
       "2. 'B'\n",
       "3. 'C'\n",
       "4. 'D'\n",
       "5. 'E'\n",
       "\n",
       "\n"
      ],
      "text/plain": [
       "[1] A E D A C B B A C\n",
       "Levels: A B C D E"
      ]
     },
     "metadata": {},
     "output_type": "display_data"
    }
   ],
   "source": [
    "# Criando um fator não ordenado.\n",
    "classe_social <- c('A', 'E', 'D', 'A', 'C', 'B', 'B', 'A', 'C')\n",
    "\n",
    "classe_social_factor <- factor(classe_social)\n",
    "\n",
    "is.ordered(classe_social_factor)\n",
    "\n",
    "classe_social_factor"
   ]
  },
  {
   "cell_type": "code",
   "execution_count": 8,
   "id": "91a6a54e",
   "metadata": {},
   "outputs": [
    {
     "data": {
      "text/html": [
       "TRUE"
      ],
      "text/latex": [
       "TRUE"
      ],
      "text/markdown": [
       "TRUE"
      ],
      "text/plain": [
       "[1] TRUE"
      ]
     },
     "metadata": {},
     "output_type": "display_data"
    },
    {
     "data": {
      "text/html": [
       "<style>\n",
       ".list-inline {list-style: none; margin:0; padding: 0}\n",
       ".list-inline>li {display: inline-block}\n",
       ".list-inline>li:not(:last-child)::after {content: \"\\00b7\"; padding: 0 .5ex}\n",
       "</style>\n",
       "<ol class=list-inline><li>A</li><li>E</li><li>D</li><li>A</li><li>C</li><li>B</li><li>B</li><li>A</li><li>C</li></ol>\n",
       "\n",
       "<details>\n",
       "\t<summary style=display:list-item;cursor:pointer>\n",
       "\t\t<strong>Levels</strong>:\n",
       "\t</summary>\n",
       "\t<style>\n",
       "\t.list-inline {list-style: none; margin:0; padding: 0}\n",
       "\t.list-inline>li {display: inline-block}\n",
       "\t.list-inline>li:not(:last-child)::after {content: \"\\00b7\"; padding: 0 .5ex}\n",
       "\t</style>\n",
       "\t<ol class=list-inline><li>'A'</li><li>'B'</li><li>'C'</li><li>'D'</li><li>'E'</li></ol>\n",
       "</details>"
      ],
      "text/latex": [
       "\\begin{enumerate*}\n",
       "\\item A\n",
       "\\item E\n",
       "\\item D\n",
       "\\item A\n",
       "\\item C\n",
       "\\item B\n",
       "\\item B\n",
       "\\item A\n",
       "\\item C\n",
       "\\end{enumerate*}\n",
       "\n",
       "\\emph{Levels}: \\begin{enumerate*}\n",
       "\\item 'A'\n",
       "\\item 'B'\n",
       "\\item 'C'\n",
       "\\item 'D'\n",
       "\\item 'E'\n",
       "\\end{enumerate*}\n"
      ],
      "text/markdown": [
       "1. A\n",
       "2. E\n",
       "3. D\n",
       "4. A\n",
       "5. C\n",
       "6. B\n",
       "7. B\n",
       "8. A\n",
       "9. C\n",
       "\n",
       "\n",
       "\n",
       "**Levels**: 1. 'A'\n",
       "2. 'B'\n",
       "3. 'C'\n",
       "4. 'D'\n",
       "5. 'E'\n",
       "\n",
       "\n"
      ],
      "text/plain": [
       "[1] A E D A C B B A C\n",
       "Levels: A < B < C < D < E"
      ]
     },
     "metadata": {},
     "output_type": "display_data"
    }
   ],
   "source": [
    "# Criando um fator ordenado.\n",
    "classe_social <- c('A', 'E', 'D', 'A', 'C', 'B', 'B', 'A', 'C')\n",
    "\n",
    "classe_social_factor <- factor(classe_social, ordered=TRUE, levels=c('A', 'B', 'C', 'D', 'E'))\n",
    "\n",
    "is.ordered(classe_social_factor)\n",
    "\n",
    "classe_social_factor"
   ]
  },
  {
   "cell_type": "code",
   "execution_count": null,
   "id": "74b9f92d",
   "metadata": {},
   "outputs": [],
   "source": []
  }
 ],
 "metadata": {
  "kernelspec": {
   "display_name": "R",
   "language": "R",
   "name": "ir"
  },
  "language_info": {
   "codemirror_mode": "r",
   "file_extension": ".r",
   "mimetype": "text/x-r-source",
   "name": "R",
   "pygments_lexer": "r",
   "version": "4.2.3"
  }
 },
 "nbformat": 4,
 "nbformat_minor": 5
}
