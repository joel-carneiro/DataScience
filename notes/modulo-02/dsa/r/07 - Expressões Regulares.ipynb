{
 "cells": [
  {
   "cell_type": "code",
   "execution_count": 1,
   "id": "e264a9b1",
   "metadata": {},
   "outputs": [
    {
     "data": {
      "text/html": [
       "<style>\n",
       ".list-inline {list-style: none; margin:0; padding: 0}\n",
       ".list-inline>li {display: inline-block}\n",
       ".list-inline>li:not(:last-child)::after {content: \"\\00b7\"; padding: 0 .5ex}\n",
       "</style>\n",
       "<ol class=list-inline><li>'Expressões regulares'</li><li>'permitem a busca por padrões'</li><li>'e exploração de texto'</li><li>'como por exemplo'</li><li>'achar esse número:'</li><li>'1950'</li></ol>\n"
      ],
      "text/latex": [
       "\\begin{enumerate*}\n",
       "\\item 'Expressões regulares'\n",
       "\\item 'permitem a busca por padrões'\n",
       "\\item 'e exploração de texto'\n",
       "\\item 'como por exemplo'\n",
       "\\item 'achar esse número:'\n",
       "\\item '1950'\n",
       "\\end{enumerate*}\n"
      ],
      "text/markdown": [
       "1. 'Expressões regulares'\n",
       "2. 'permitem a busca por padrões'\n",
       "3. 'e exploração de texto'\n",
       "4. 'como por exemplo'\n",
       "5. 'achar esse número:'\n",
       "6. '1950'\n",
       "\n",
       "\n"
      ],
      "text/plain": [
       "[1] \"Expressões regulares\"         \"permitem a busca por padrões\"\n",
       "[3] \"e exploração de texto\"        \"como por exemplo\"            \n",
       "[5] \"achar esse número:\"           \"1950\"                        "
      ]
     },
     "metadata": {},
     "output_type": "display_data"
    }
   ],
   "source": [
    "# Trabalhando com expressões regulares\n",
    "\n",
    "string <- c('Expressões regulares',\n",
    "            'permitem a busca por padrões',\n",
    "            'e exploração de texto',\n",
    "            'como por exemplo', 'achar esse número:',\n",
    "            '1950')\n",
    "\n",
    "string"
   ]
  },
  {
   "cell_type": "code",
   "execution_count": 2,
   "id": "b12c0fc7",
   "metadata": {
    "scrolled": true
   },
   "outputs": [
    {
     "data": {
      "text/html": [
       "6"
      ],
      "text/latex": [
       "6"
      ],
      "text/markdown": [
       "6"
      ],
      "text/plain": [
       "[1] 6"
      ]
     },
     "metadata": {},
     "output_type": "display_data"
    }
   ],
   "source": [
    "length(string)"
   ]
  },
  {
   "cell_type": "code",
   "execution_count": 3,
   "id": "5e0dde96",
   "metadata": {},
   "outputs": [],
   "source": [
    "?grep"
   ]
  },
  {
   "cell_type": "code",
   "execution_count": 4,
   "id": "ce637fbb",
   "metadata": {
    "scrolled": true
   },
   "outputs": [
    {
     "data": {
      "text/html": [
       "<style>\n",
       ".list-inline {list-style: none; margin:0; padding: 0}\n",
       ".list-inline>li {display: inline-block}\n",
       ".list-inline>li:not(:last-child)::after {content: \"\\00b7\"; padding: 0 .5ex}\n",
       "</style>\n",
       "<ol class=list-inline><li>3</li><li>4</li></ol>\n"
      ],
      "text/latex": [
       "\\begin{enumerate*}\n",
       "\\item 3\n",
       "\\item 4\n",
       "\\end{enumerate*}\n"
      ],
      "text/markdown": [
       "1. 3\n",
       "2. 4\n",
       "\n",
       "\n"
      ],
      "text/plain": [
       "[1] 3 4"
      ]
     },
     "metadata": {},
     "output_type": "display_data"
    },
    {
     "data": {
      "text/html": [
       "<style>\n",
       ".list-inline {list-style: none; margin:0; padding: 0}\n",
       ".list-inline>li {display: inline-block}\n",
       ".list-inline>li:not(:last-child)::after {content: \"\\00b7\"; padding: 0 .5ex}\n",
       "</style>\n",
       "<ol class=list-inline><li>'e exploração de texto'</li><li>'como por exemplo'</li></ol>\n"
      ],
      "text/latex": [
       "\\begin{enumerate*}\n",
       "\\item 'e exploração de texto'\n",
       "\\item 'como por exemplo'\n",
       "\\end{enumerate*}\n"
      ],
      "text/markdown": [
       "1. 'e exploração de texto'\n",
       "2. 'como por exemplo'\n",
       "\n",
       "\n"
      ],
      "text/plain": [
       "[1] \"e exploração de texto\" \"como por exemplo\"     "
      ]
     },
     "metadata": {},
     "output_type": "display_data"
    },
    {
     "data": {
      "text/html": [
       "<style>\n",
       ".list-inline {list-style: none; margin:0; padding: 0}\n",
       ".list-inline>li {display: inline-block}\n",
       ".list-inline>li:not(:last-child)::after {content: \"\\00b7\"; padding: 0 .5ex}\n",
       "</style>\n",
       "<ol class=list-inline><li>'e exploração de texto'</li><li>'como por exemplo'</li></ol>\n"
      ],
      "text/latex": [
       "\\begin{enumerate*}\n",
       "\\item 'e exploração de texto'\n",
       "\\item 'como por exemplo'\n",
       "\\end{enumerate*}\n"
      ],
      "text/markdown": [
       "1. 'e exploração de texto'\n",
       "2. 'como por exemplo'\n",
       "\n",
       "\n"
      ],
      "text/plain": [
       "[1] \"e exploração de texto\" \"como por exemplo\"     "
      ]
     },
     "metadata": {},
     "output_type": "display_data"
    }
   ],
   "source": [
    "# o grep proucura na string um padrão\n",
    "grep('ex', string, value = FALSE)\n",
    "\n",
    "string[grep('ex', string, value = FALSE)]\n",
    "\n",
    "grep('ex', string, value = TRUE)"
   ]
  },
  {
   "cell_type": "code",
   "execution_count": 5,
   "id": "a42304ae",
   "metadata": {},
   "outputs": [
    {
     "data": {
      "text/html": [
       "6"
      ],
      "text/latex": [
       "6"
      ],
      "text/markdown": [
       "6"
      ],
      "text/plain": [
       "[1] 6"
      ]
     },
     "metadata": {},
     "output_type": "display_data"
    },
    {
     "data": {
      "text/html": [
       "'1950'"
      ],
      "text/latex": [
       "'1950'"
      ],
      "text/markdown": [
       "'1950'"
      ],
      "text/plain": [
       "[1] \"1950\""
      ]
     },
     "metadata": {},
     "output_type": "display_data"
    }
   ],
   "source": [
    "# padrão especial\n",
    "grep('\\\\d', string, value=FALSE)\n",
    "grep('\\\\d', string, value=TRUE)"
   ]
  },
  {
   "cell_type": "code",
   "execution_count": 6,
   "id": "4bde1bda",
   "metadata": {},
   "outputs": [
    {
     "data": {
      "text/html": [
       "<style>\n",
       ".list-inline {list-style: none; margin:0; padding: 0}\n",
       ".list-inline>li {display: inline-block}\n",
       ".list-inline>li:not(:last-child)::after {content: \"\\00b7\"; padding: 0 .5ex}\n",
       "</style>\n",
       "<ol class=list-inline><li>FALSE</li><li>FALSE</li><li>FALSE</li><li>FALSE</li><li>FALSE</li><li>TRUE</li></ol>\n"
      ],
      "text/latex": [
       "\\begin{enumerate*}\n",
       "\\item FALSE\n",
       "\\item FALSE\n",
       "\\item FALSE\n",
       "\\item FALSE\n",
       "\\item FALSE\n",
       "\\item TRUE\n",
       "\\end{enumerate*}\n"
      ],
      "text/markdown": [
       "1. FALSE\n",
       "2. FALSE\n",
       "3. FALSE\n",
       "4. FALSE\n",
       "5. FALSE\n",
       "6. TRUE\n",
       "\n",
       "\n"
      ],
      "text/plain": [
       "[1] FALSE FALSE FALSE FALSE FALSE  TRUE"
      ]
     },
     "metadata": {},
     "output_type": "display_data"
    }
   ],
   "source": [
    "# Uma forma mais simples de aplicar o grep\n",
    "grepl('\\\\d', string)"
   ]
  },
  {
   "cell_type": "code",
   "execution_count": 7,
   "id": "cf595afe",
   "metadata": {},
   "outputs": [
    {
     "data": {
      "text/html": [
       "<style>\n",
       ".list-inline {list-style: none; margin:0; padding: 0}\n",
       ".list-inline>li {display: inline-block}\n",
       ".list-inline>li:not(:last-child)::after {content: \"\\00b7\"; padding: 0 .5ex}\n",
       "</style>\n",
       "<ol class=list-inline><li>'Expressões regulares'</li><li>'permitem a busca por padrões'</li><li>'e NONEploração de tNONEto'</li><li>'como por NONEemplo'</li><li>'achar esse número:'</li><li>'1950'</li></ol>\n"
      ],
      "text/latex": [
       "\\begin{enumerate*}\n",
       "\\item 'Expressões regulares'\n",
       "\\item 'permitem a busca por padrões'\n",
       "\\item 'e NONEploração de tNONEto'\n",
       "\\item 'como por NONEemplo'\n",
       "\\item 'achar esse número:'\n",
       "\\item '1950'\n",
       "\\end{enumerate*}\n"
      ],
      "text/markdown": [
       "1. 'Expressões regulares'\n",
       "2. 'permitem a busca por padrões'\n",
       "3. 'e NONEploração de tNONEto'\n",
       "4. 'como por NONEemplo'\n",
       "5. 'achar esse número:'\n",
       "6. '1950'\n",
       "\n",
       "\n"
      ],
      "text/plain": [
       "[1] \"Expressões regulares\"         \"permitem a busca por padrões\"\n",
       "[3] \"e NONEploração de tNONEto\"    \"como por NONEemplo\"          \n",
       "[5] \"achar esse número:\"           \"1950\"                        "
      ]
     },
     "metadata": {},
     "output_type": "display_data"
    }
   ],
   "source": [
    "# Trocar em TODA string do vetor\n",
    "gsub('ex', 'NONE', string)"
   ]
  },
  {
   "cell_type": "code",
   "execution_count": null,
   "id": "0f3a3cc7",
   "metadata": {},
   "outputs": [],
   "source": [
    "gsub('ex', 'EX', string)"
   ]
  },
  {
   "cell_type": "code",
   "execution_count": null,
   "id": "ef762bd1",
   "metadata": {},
   "outputs": [],
   "source": [
    "gsub('ex', 'EX', string, ignore.case = TRUE)"
   ]
  },
  {
   "cell_type": "code",
   "execution_count": null,
   "id": "e4283b42",
   "metadata": {},
   "outputs": [],
   "source": [
    "# Trocar apenas a primeira ocorrencia em cada vetor \n",
    "sub(\"o\", \"O\", string)"
   ]
  },
  {
   "cell_type": "code",
   "execution_count": null,
   "id": "feb6a9c5",
   "metadata": {},
   "outputs": [],
   "source": [
    "# Procurando a primeira ocorrência de um caracter em uma string\n",
    "txt <- \"Só sei que nada sei\"\n",
    "\n",
    "regexpr('ó', txt)"
   ]
  },
  {
   "cell_type": "code",
   "execution_count": null,
   "id": "8eb906f5",
   "metadata": {},
   "outputs": [],
   "source": []
  }
 ],
 "metadata": {
  "kernelspec": {
   "display_name": "R",
   "language": "R",
   "name": "ir"
  },
  "language_info": {
   "codemirror_mode": "r",
   "file_extension": ".r",
   "mimetype": "text/x-r-source",
   "name": "R",
   "pygments_lexer": "r",
   "version": "4.2.3"
  }
 },
 "nbformat": 4,
 "nbformat_minor": 5
}
