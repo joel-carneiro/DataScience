{
 "cells": [
  {
   "cell_type": "code",
   "execution_count": 1,
   "id": "e123721b",
   "metadata": {},
   "outputs": [],
   "source": [
    "# Verificando a documentação da função\n",
    "?unlist"
   ]
  },
  {
   "cell_type": "code",
   "execution_count": 2,
   "id": "bc809cd4",
   "metadata": {},
   "outputs": [
    {
     "data": {
      "text/html": [
       "<style>\n",
       ".list-inline {list-style: none; margin:0; padding: 0}\n",
       ".list-inline>li {display: inline-block}\n",
       ".list-inline>li:not(:last-child)::after {content: \"\\00b7\"; padding: 0 .5ex}\n",
       "</style>\n",
       "<ol class=list-inline><li>'A'</li><li>'1'</li><li>'TRUE'</li><li>'2.235'</li></ol>\n"
      ],
      "text/latex": [
       "\\begin{enumerate*}\n",
       "\\item 'A'\n",
       "\\item '1'\n",
       "\\item 'TRUE'\n",
       "\\item '2.235'\n",
       "\\end{enumerate*}\n"
      ],
      "text/markdown": [
       "1. 'A'\n",
       "2. '1'\n",
       "3. 'TRUE'\n",
       "4. '2.235'\n",
       "\n",
       "\n"
      ],
      "text/plain": [
       "[1] \"A\"     \"1\"     \"TRUE\"  \"2.235\""
      ]
     },
     "metadata": {},
     "output_type": "display_data"
    },
    {
     "data": {
      "text/html": [
       "'character'"
      ],
      "text/latex": [
       "'character'"
      ],
      "text/markdown": [
       "'character'"
      ],
      "text/plain": [
       "[1] \"character\""
      ]
     },
     "metadata": {},
     "output_type": "display_data"
    }
   ],
   "source": [
    "# Criando uma lista para depois transforma-lá em um vetor\n",
    "lista1 <- list('A', 1, TRUE, 2.235)\n",
    "\n",
    "unlist(lista1)\n",
    "\n",
    "class(unlist(lista1))"
   ]
  },
  {
   "cell_type": "code",
   "execution_count": 3,
   "id": "ec4fcee6",
   "metadata": {},
   "outputs": [
    {
     "data": {
      "text/html": [
       "<ol>\n",
       "\t<li><style>\n",
       ".list-inline {list-style: none; margin:0; padding: 0}\n",
       ".list-inline>li {display: inline-block}\n",
       ".list-inline>li:not(:last-child)::after {content: \"\\00b7\"; padding: 0 .5ex}\n",
       "</style>\n",
       "<ol class=list-inline><li>1</li><li>2</li><li>3</li><li>4</li><li>5</li><li>6</li><li>7</li><li>8</li><li>9</li><li>10</li></ol>\n",
       "</li>\n",
       "\t<li><style>\n",
       ".list-inline {list-style: none; margin:0; padding: 0}\n",
       ".list-inline>li {display: inline-block}\n",
       ".list-inline>li:not(:last-child)::after {content: \"\\00b7\"; padding: 0 .5ex}\n",
       "</style>\n",
       "<ol class=list-inline><li>25</li><li>26</li><li>27</li><li>28</li><li>29</li><li>30</li><li>31</li><li>32</li><li>33</li><li>34</li><li>35</li></ol>\n",
       "</li>\n",
       "\t<li><style>\n",
       ".list-inline {list-style: none; margin:0; padding: 0}\n",
       ".list-inline>li {display: inline-block}\n",
       ".list-inline>li:not(:last-child)::after {content: \"\\00b7\"; padding: 0 .5ex}\n",
       "</style>\n",
       "<ol class=list-inline><li>7</li><li>8</li><li>9</li><li>10</li><li>11</li><li>12</li><li>13</li></ol>\n",
       "</li>\n",
       "</ol>\n"
      ],
      "text/latex": [
       "\\begin{enumerate}\n",
       "\\item \\begin{enumerate*}\n",
       "\\item 1\n",
       "\\item 2\n",
       "\\item 3\n",
       "\\item 4\n",
       "\\item 5\n",
       "\\item 6\n",
       "\\item 7\n",
       "\\item 8\n",
       "\\item 9\n",
       "\\item 10\n",
       "\\end{enumerate*}\n",
       "\n",
       "\\item \\begin{enumerate*}\n",
       "\\item 25\n",
       "\\item 26\n",
       "\\item 27\n",
       "\\item 28\n",
       "\\item 29\n",
       "\\item 30\n",
       "\\item 31\n",
       "\\item 32\n",
       "\\item 33\n",
       "\\item 34\n",
       "\\item 35\n",
       "\\end{enumerate*}\n",
       "\n",
       "\\item \\begin{enumerate*}\n",
       "\\item 7\n",
       "\\item 8\n",
       "\\item 9\n",
       "\\item 10\n",
       "\\item 11\n",
       "\\item 12\n",
       "\\item 13\n",
       "\\end{enumerate*}\n",
       "\n",
       "\\end{enumerate}\n"
      ],
      "text/markdown": [
       "1. 1. 1\n",
       "2. 2\n",
       "3. 3\n",
       "4. 4\n",
       "5. 5\n",
       "6. 6\n",
       "7. 7\n",
       "8. 8\n",
       "9. 9\n",
       "10. 10\n",
       "\n",
       "\n",
       "\n",
       "2. 1. 25\n",
       "2. 26\n",
       "3. 27\n",
       "4. 28\n",
       "5. 29\n",
       "6. 30\n",
       "7. 31\n",
       "8. 32\n",
       "9. 33\n",
       "10. 34\n",
       "11. 35\n",
       "\n",
       "\n",
       "\n",
       "3. 1. 7\n",
       "2. 8\n",
       "3. 9\n",
       "4. 10\n",
       "5. 11\n",
       "6. 12\n",
       "7. 13\n",
       "\n",
       "\n",
       "\n",
       "\n",
       "\n"
      ],
      "text/plain": [
       "[[1]]\n",
       " [1]  1  2  3  4  5  6  7  8  9 10\n",
       "\n",
       "[[2]]\n",
       " [1] 25 26 27 28 29 30 31 32 33 34 35\n",
       "\n",
       "[[3]]\n",
       "[1]  7  8  9 10 11 12 13\n"
      ]
     },
     "metadata": {},
     "output_type": "display_data"
    },
    {
     "data": {
      "text/html": [
       "<style>\n",
       ".list-inline {list-style: none; margin:0; padding: 0}\n",
       ".list-inline>li {display: inline-block}\n",
       ".list-inline>li:not(:last-child)::after {content: \"\\00b7\"; padding: 0 .5ex}\n",
       "</style>\n",
       "<ol class=list-inline><li>1</li><li>2</li><li>3</li><li>4</li><li>5</li><li>6</li><li>7</li><li>8</li><li>9</li><li>10</li><li>25</li><li>26</li><li>27</li><li>28</li><li>29</li><li>30</li><li>31</li><li>32</li><li>33</li><li>34</li><li>35</li><li>7</li><li>8</li><li>9</li><li>10</li><li>11</li><li>12</li><li>13</li></ol>\n"
      ],
      "text/latex": [
       "\\begin{enumerate*}\n",
       "\\item 1\n",
       "\\item 2\n",
       "\\item 3\n",
       "\\item 4\n",
       "\\item 5\n",
       "\\item 6\n",
       "\\item 7\n",
       "\\item 8\n",
       "\\item 9\n",
       "\\item 10\n",
       "\\item 25\n",
       "\\item 26\n",
       "\\item 27\n",
       "\\item 28\n",
       "\\item 29\n",
       "\\item 30\n",
       "\\item 31\n",
       "\\item 32\n",
       "\\item 33\n",
       "\\item 34\n",
       "\\item 35\n",
       "\\item 7\n",
       "\\item 8\n",
       "\\item 9\n",
       "\\item 10\n",
       "\\item 11\n",
       "\\item 12\n",
       "\\item 13\n",
       "\\end{enumerate*}\n"
      ],
      "text/markdown": [
       "1. 1\n",
       "2. 2\n",
       "3. 3\n",
       "4. 4\n",
       "5. 5\n",
       "6. 6\n",
       "7. 7\n",
       "8. 8\n",
       "9. 9\n",
       "10. 10\n",
       "11. 25\n",
       "12. 26\n",
       "13. 27\n",
       "14. 28\n",
       "15. 29\n",
       "16. 30\n",
       "17. 31\n",
       "18. 32\n",
       "19. 33\n",
       "20. 34\n",
       "21. 35\n",
       "22. 7\n",
       "23. 8\n",
       "24. 9\n",
       "25. 10\n",
       "26. 11\n",
       "27. 12\n",
       "28. 13\n",
       "\n",
       "\n"
      ],
      "text/plain": [
       " [1]  1  2  3  4  5  6  7  8  9 10 25 26 27 28 29 30 31 32 33 34 35  7  8  9 10\n",
       "[26] 11 12 13"
      ]
     },
     "metadata": {},
     "output_type": "display_data"
    }
   ],
   "source": [
    "# Criando uma lista de vetores para transforma-la em um único vetor\n",
    "lista2 <- list(c(1:10), c(25:35), c(7:13))\n",
    "\n",
    "lista2\n",
    "\n",
    "unlist(lista2)"
   ]
  },
  {
   "cell_type": "code",
   "execution_count": 8,
   "id": "441005e4",
   "metadata": {
    "scrolled": true
   },
   "outputs": [
    {
     "data": {
      "text/html": [
       "16.25"
      ],
      "text/latex": [
       "16.25"
      ],
      "text/markdown": [
       "16.25"
      ],
      "text/plain": [
       "[1] 16.25"
      ]
     },
     "metadata": {},
     "output_type": "display_data"
    },
    {
     "data": {
      "text/html": [
       "16"
      ],
      "text/latex": [
       "16"
      ],
      "text/markdown": [
       "16"
      ],
      "text/plain": [
       "[1] 16"
      ]
     },
     "metadata": {},
     "output_type": "display_data"
    }
   ],
   "source": [
    "# Funções dentro de funções\n",
    "mean(unlist(lista2))\n",
    "\n",
    "round(mean(unlist(lista2)))"
   ]
  },
  {
   "cell_type": "code",
   "execution_count": 10,
   "id": "d3ebc0bb",
   "metadata": {},
   "outputs": [],
   "source": [
    "# Criando uma lista de dataframes\n",
    "data <- list()\n",
    "\n",
    "N <- 100\n",
    "\n",
    "for (n in 1:N) {\n",
    "    data[[n]] <- data.frame(index=n, char=sample(letters, 1), z=rnorm(1))\n",
    "}"
   ]
  },
  {
   "cell_type": "code",
   "execution_count": 11,
   "id": "4ec5144b",
   "metadata": {},
   "outputs": [
    {
     "data": {
      "text/html": [
       "<ol>\n",
       "\t<li><table class=\"dataframe\">\n",
       "<caption>A data.frame: 1 × 3</caption>\n",
       "<thead>\n",
       "\t<tr><th scope=col>index</th><th scope=col>char</th><th scope=col>z</th></tr>\n",
       "\t<tr><th scope=col>&lt;int&gt;</th><th scope=col>&lt;chr&gt;</th><th scope=col>&lt;dbl&gt;</th></tr>\n",
       "</thead>\n",
       "<tbody>\n",
       "\t<tr><td>1</td><td>j</td><td>2.419881</td></tr>\n",
       "</tbody>\n",
       "</table>\n",
       "</li>\n",
       "\t<li><table class=\"dataframe\">\n",
       "<caption>A data.frame: 1 × 3</caption>\n",
       "<thead>\n",
       "\t<tr><th scope=col>index</th><th scope=col>char</th><th scope=col>z</th></tr>\n",
       "\t<tr><th scope=col>&lt;int&gt;</th><th scope=col>&lt;chr&gt;</th><th scope=col>&lt;dbl&gt;</th></tr>\n",
       "</thead>\n",
       "<tbody>\n",
       "\t<tr><td>2</td><td>j</td><td>-3.058991</td></tr>\n",
       "</tbody>\n",
       "</table>\n",
       "</li>\n",
       "\t<li><table class=\"dataframe\">\n",
       "<caption>A data.frame: 1 × 3</caption>\n",
       "<thead>\n",
       "\t<tr><th scope=col>index</th><th scope=col>char</th><th scope=col>z</th></tr>\n",
       "\t<tr><th scope=col>&lt;int&gt;</th><th scope=col>&lt;chr&gt;</th><th scope=col>&lt;dbl&gt;</th></tr>\n",
       "</thead>\n",
       "<tbody>\n",
       "\t<tr><td>3</td><td>y</td><td>1.088871</td></tr>\n",
       "</tbody>\n",
       "</table>\n",
       "</li>\n",
       "\t<li><table class=\"dataframe\">\n",
       "<caption>A data.frame: 1 × 3</caption>\n",
       "<thead>\n",
       "\t<tr><th scope=col>index</th><th scope=col>char</th><th scope=col>z</th></tr>\n",
       "\t<tr><th scope=col>&lt;int&gt;</th><th scope=col>&lt;chr&gt;</th><th scope=col>&lt;dbl&gt;</th></tr>\n",
       "</thead>\n",
       "<tbody>\n",
       "\t<tr><td>4</td><td>v</td><td>-0.832837</td></tr>\n",
       "</tbody>\n",
       "</table>\n",
       "</li>\n",
       "\t<li><table class=\"dataframe\">\n",
       "<caption>A data.frame: 1 × 3</caption>\n",
       "<thead>\n",
       "\t<tr><th scope=col>index</th><th scope=col>char</th><th scope=col>z</th></tr>\n",
       "\t<tr><th scope=col>&lt;int&gt;</th><th scope=col>&lt;chr&gt;</th><th scope=col>&lt;dbl&gt;</th></tr>\n",
       "</thead>\n",
       "<tbody>\n",
       "\t<tr><td>5</td><td>h</td><td>0.79973</td></tr>\n",
       "</tbody>\n",
       "</table>\n",
       "</li>\n",
       "\t<li><table class=\"dataframe\">\n",
       "<caption>A data.frame: 1 × 3</caption>\n",
       "<thead>\n",
       "\t<tr><th scope=col>index</th><th scope=col>char</th><th scope=col>z</th></tr>\n",
       "\t<tr><th scope=col>&lt;int&gt;</th><th scope=col>&lt;chr&gt;</th><th scope=col>&lt;dbl&gt;</th></tr>\n",
       "</thead>\n",
       "<tbody>\n",
       "\t<tr><td>6</td><td>s</td><td>-1.315979</td></tr>\n",
       "</tbody>\n",
       "</table>\n",
       "</li>\n",
       "</ol>\n"
      ],
      "text/latex": [
       "\\begin{enumerate}\n",
       "\\item A data.frame: 1 × 3\n",
       "\\begin{tabular}{lll}\n",
       " index & char & z\\\\\n",
       " <int> & <chr> & <dbl>\\\\\n",
       "\\hline\n",
       "\t 1 & j & 2.419881\\\\\n",
       "\\end{tabular}\n",
       "\n",
       "\\item A data.frame: 1 × 3\n",
       "\\begin{tabular}{lll}\n",
       " index & char & z\\\\\n",
       " <int> & <chr> & <dbl>\\\\\n",
       "\\hline\n",
       "\t 2 & j & -3.058991\\\\\n",
       "\\end{tabular}\n",
       "\n",
       "\\item A data.frame: 1 × 3\n",
       "\\begin{tabular}{lll}\n",
       " index & char & z\\\\\n",
       " <int> & <chr> & <dbl>\\\\\n",
       "\\hline\n",
       "\t 3 & y & 1.088871\\\\\n",
       "\\end{tabular}\n",
       "\n",
       "\\item A data.frame: 1 × 3\n",
       "\\begin{tabular}{lll}\n",
       " index & char & z\\\\\n",
       " <int> & <chr> & <dbl>\\\\\n",
       "\\hline\n",
       "\t 4 & v & -0.832837\\\\\n",
       "\\end{tabular}\n",
       "\n",
       "\\item A data.frame: 1 × 3\n",
       "\\begin{tabular}{lll}\n",
       " index & char & z\\\\\n",
       " <int> & <chr> & <dbl>\\\\\n",
       "\\hline\n",
       "\t 5 & h & 0.79973\\\\\n",
       "\\end{tabular}\n",
       "\n",
       "\\item A data.frame: 1 × 3\n",
       "\\begin{tabular}{lll}\n",
       " index & char & z\\\\\n",
       " <int> & <chr> & <dbl>\\\\\n",
       "\\hline\n",
       "\t 6 & s & -1.315979\\\\\n",
       "\\end{tabular}\n",
       "\n",
       "\\end{enumerate}\n"
      ],
      "text/markdown": [
       "1. \n",
       "A data.frame: 1 × 3\n",
       "\n",
       "| index &lt;int&gt; | char &lt;chr&gt; | z &lt;dbl&gt; |\n",
       "|---|---|---|\n",
       "| 1 | j | 2.419881 |\n",
       "\n",
       "\n",
       "2. \n",
       "A data.frame: 1 × 3\n",
       "\n",
       "| index &lt;int&gt; | char &lt;chr&gt; | z &lt;dbl&gt; |\n",
       "|---|---|---|\n",
       "| 2 | j | -3.058991 |\n",
       "\n",
       "\n",
       "3. \n",
       "A data.frame: 1 × 3\n",
       "\n",
       "| index &lt;int&gt; | char &lt;chr&gt; | z &lt;dbl&gt; |\n",
       "|---|---|---|\n",
       "| 3 | y | 1.088871 |\n",
       "\n",
       "\n",
       "4. \n",
       "A data.frame: 1 × 3\n",
       "\n",
       "| index &lt;int&gt; | char &lt;chr&gt; | z &lt;dbl&gt; |\n",
       "|---|---|---|\n",
       "| 4 | v | -0.832837 |\n",
       "\n",
       "\n",
       "5. \n",
       "A data.frame: 1 × 3\n",
       "\n",
       "| index &lt;int&gt; | char &lt;chr&gt; | z &lt;dbl&gt; |\n",
       "|---|---|---|\n",
       "| 5 | h | 0.79973 |\n",
       "\n",
       "\n",
       "6. \n",
       "A data.frame: 1 × 3\n",
       "\n",
       "| index &lt;int&gt; | char &lt;chr&gt; | z &lt;dbl&gt; |\n",
       "|---|---|---|\n",
       "| 6 | s | -1.315979 |\n",
       "\n",
       "\n",
       "\n",
       "\n"
      ],
      "text/plain": [
       "[[1]]\n",
       "  index char        z\n",
       "1     1    j 2.419881\n",
       "\n",
       "[[2]]\n",
       "  index char         z\n",
       "1     2    j -3.058991\n",
       "\n",
       "[[3]]\n",
       "  index char        z\n",
       "1     3    y 1.088871\n",
       "\n",
       "[[4]]\n",
       "  index char         z\n",
       "1     4    v -0.832837\n",
       "\n",
       "[[5]]\n",
       "  index char       z\n",
       "1     5    h 0.79973\n",
       "\n",
       "[[6]]\n",
       "  index char         z\n",
       "1     6    s -1.315979\n"
      ]
     },
     "metadata": {},
     "output_type": "display_data"
    }
   ],
   "source": [
    "head(data)"
   ]
  },
  {
   "cell_type": "code",
   "execution_count": 12,
   "id": "50e5f698",
   "metadata": {},
   "outputs": [
    {
     "data": {
      "text/html": [
       "<table class=\"dataframe\">\n",
       "<caption>A data.frame: 100 × 3</caption>\n",
       "<thead>\n",
       "\t<tr><th scope=col>index</th><th scope=col>char</th><th scope=col>z</th></tr>\n",
       "\t<tr><th scope=col>&lt;int&gt;</th><th scope=col>&lt;chr&gt;</th><th scope=col>&lt;dbl&gt;</th></tr>\n",
       "</thead>\n",
       "<tbody>\n",
       "\t<tr><td> 1</td><td>j</td><td> 2.41988073</td></tr>\n",
       "\t<tr><td> 2</td><td>j</td><td>-3.05899131</td></tr>\n",
       "\t<tr><td> 3</td><td>y</td><td> 1.08887105</td></tr>\n",
       "\t<tr><td> 4</td><td>v</td><td>-0.83283703</td></tr>\n",
       "\t<tr><td> 5</td><td>h</td><td> 0.79972996</td></tr>\n",
       "\t<tr><td> 6</td><td>s</td><td>-1.31597876</td></tr>\n",
       "\t<tr><td> 7</td><td>v</td><td>-0.09269370</td></tr>\n",
       "\t<tr><td> 8</td><td>l</td><td>-0.14320911</td></tr>\n",
       "\t<tr><td> 9</td><td>y</td><td>-1.38217223</td></tr>\n",
       "\t<tr><td>10</td><td>m</td><td> 1.55275653</td></tr>\n",
       "\t<tr><td>11</td><td>d</td><td>-1.73061874</td></tr>\n",
       "\t<tr><td>12</td><td>c</td><td>-0.83892180</td></tr>\n",
       "\t<tr><td>13</td><td>i</td><td> 1.33321235</td></tr>\n",
       "\t<tr><td>14</td><td>x</td><td> 0.48149560</td></tr>\n",
       "\t<tr><td>15</td><td>t</td><td>-0.09831852</td></tr>\n",
       "\t<tr><td>16</td><td>b</td><td>-0.75785568</td></tr>\n",
       "\t<tr><td>17</td><td>y</td><td>-0.34816313</td></tr>\n",
       "\t<tr><td>18</td><td>n</td><td>-1.48820536</td></tr>\n",
       "\t<tr><td>19</td><td>o</td><td>-1.38514091</td></tr>\n",
       "\t<tr><td>20</td><td>d</td><td>-0.94467082</td></tr>\n",
       "\t<tr><td>21</td><td>r</td><td> 0.27696451</td></tr>\n",
       "\t<tr><td>22</td><td>l</td><td> 0.39019311</td></tr>\n",
       "\t<tr><td>23</td><td>z</td><td>-0.16652129</td></tr>\n",
       "\t<tr><td>24</td><td>o</td><td>-0.68643261</td></tr>\n",
       "\t<tr><td>25</td><td>g</td><td>-0.14615315</td></tr>\n",
       "\t<tr><td>26</td><td>r</td><td>-0.90805506</td></tr>\n",
       "\t<tr><td>27</td><td>f</td><td>-0.96138920</td></tr>\n",
       "\t<tr><td>28</td><td>q</td><td> 1.31171917</td></tr>\n",
       "\t<tr><td>29</td><td>w</td><td> 0.54574726</td></tr>\n",
       "\t<tr><td>30</td><td>o</td><td> 1.29374227</td></tr>\n",
       "\t<tr><td>⋮</td><td>⋮</td><td>⋮</td></tr>\n",
       "\t<tr><td> 71</td><td>x</td><td>-0.85629633</td></tr>\n",
       "\t<tr><td> 72</td><td>e</td><td> 0.33838806</td></tr>\n",
       "\t<tr><td> 73</td><td>s</td><td>-0.17367509</td></tr>\n",
       "\t<tr><td> 74</td><td>j</td><td> 0.35076871</td></tr>\n",
       "\t<tr><td> 75</td><td>w</td><td>-0.84224919</td></tr>\n",
       "\t<tr><td> 76</td><td>r</td><td>-0.01165264</td></tr>\n",
       "\t<tr><td> 77</td><td>a</td><td> 0.01540829</td></tr>\n",
       "\t<tr><td> 78</td><td>l</td><td> 1.42676290</td></tr>\n",
       "\t<tr><td> 79</td><td>e</td><td> 0.95379963</td></tr>\n",
       "\t<tr><td> 80</td><td>t</td><td> 0.67888797</td></tr>\n",
       "\t<tr><td> 81</td><td>v</td><td> 0.16127857</td></tr>\n",
       "\t<tr><td> 82</td><td>m</td><td> 0.66244142</td></tr>\n",
       "\t<tr><td> 83</td><td>r</td><td> 0.06092680</td></tr>\n",
       "\t<tr><td> 84</td><td>s</td><td> 0.16060952</td></tr>\n",
       "\t<tr><td> 85</td><td>c</td><td> 0.10386440</td></tr>\n",
       "\t<tr><td> 86</td><td>c</td><td>-0.91387274</td></tr>\n",
       "\t<tr><td> 87</td><td>a</td><td> 0.07605706</td></tr>\n",
       "\t<tr><td> 88</td><td>m</td><td> 0.47855637</td></tr>\n",
       "\t<tr><td> 89</td><td>e</td><td>-1.04853126</td></tr>\n",
       "\t<tr><td> 90</td><td>x</td><td> 0.90017435</td></tr>\n",
       "\t<tr><td> 91</td><td>i</td><td>-1.21629493</td></tr>\n",
       "\t<tr><td> 92</td><td>w</td><td> 1.26717744</td></tr>\n",
       "\t<tr><td> 93</td><td>x</td><td>-2.64377253</td></tr>\n",
       "\t<tr><td> 94</td><td>m</td><td> 0.63701079</td></tr>\n",
       "\t<tr><td> 95</td><td>h</td><td>-0.35678758</td></tr>\n",
       "\t<tr><td> 96</td><td>a</td><td>-0.72371535</td></tr>\n",
       "\t<tr><td> 97</td><td>j</td><td>-0.09631022</td></tr>\n",
       "\t<tr><td> 98</td><td>f</td><td>-2.17766262</td></tr>\n",
       "\t<tr><td> 99</td><td>e</td><td> 1.09294639</td></tr>\n",
       "\t<tr><td>100</td><td>k</td><td> 0.62786491</td></tr>\n",
       "</tbody>\n",
       "</table>\n"
      ],
      "text/latex": [
       "A data.frame: 100 × 3\n",
       "\\begin{tabular}{lll}\n",
       " index & char & z\\\\\n",
       " <int> & <chr> & <dbl>\\\\\n",
       "\\hline\n",
       "\t  1 & j &  2.41988073\\\\\n",
       "\t  2 & j & -3.05899131\\\\\n",
       "\t  3 & y &  1.08887105\\\\\n",
       "\t  4 & v & -0.83283703\\\\\n",
       "\t  5 & h &  0.79972996\\\\\n",
       "\t  6 & s & -1.31597876\\\\\n",
       "\t  7 & v & -0.09269370\\\\\n",
       "\t  8 & l & -0.14320911\\\\\n",
       "\t  9 & y & -1.38217223\\\\\n",
       "\t 10 & m &  1.55275653\\\\\n",
       "\t 11 & d & -1.73061874\\\\\n",
       "\t 12 & c & -0.83892180\\\\\n",
       "\t 13 & i &  1.33321235\\\\\n",
       "\t 14 & x &  0.48149560\\\\\n",
       "\t 15 & t & -0.09831852\\\\\n",
       "\t 16 & b & -0.75785568\\\\\n",
       "\t 17 & y & -0.34816313\\\\\n",
       "\t 18 & n & -1.48820536\\\\\n",
       "\t 19 & o & -1.38514091\\\\\n",
       "\t 20 & d & -0.94467082\\\\\n",
       "\t 21 & r &  0.27696451\\\\\n",
       "\t 22 & l &  0.39019311\\\\\n",
       "\t 23 & z & -0.16652129\\\\\n",
       "\t 24 & o & -0.68643261\\\\\n",
       "\t 25 & g & -0.14615315\\\\\n",
       "\t 26 & r & -0.90805506\\\\\n",
       "\t 27 & f & -0.96138920\\\\\n",
       "\t 28 & q &  1.31171917\\\\\n",
       "\t 29 & w &  0.54574726\\\\\n",
       "\t 30 & o &  1.29374227\\\\\n",
       "\t ⋮ & ⋮ & ⋮\\\\\n",
       "\t  71 & x & -0.85629633\\\\\n",
       "\t  72 & e &  0.33838806\\\\\n",
       "\t  73 & s & -0.17367509\\\\\n",
       "\t  74 & j &  0.35076871\\\\\n",
       "\t  75 & w & -0.84224919\\\\\n",
       "\t  76 & r & -0.01165264\\\\\n",
       "\t  77 & a &  0.01540829\\\\\n",
       "\t  78 & l &  1.42676290\\\\\n",
       "\t  79 & e &  0.95379963\\\\\n",
       "\t  80 & t &  0.67888797\\\\\n",
       "\t  81 & v &  0.16127857\\\\\n",
       "\t  82 & m &  0.66244142\\\\\n",
       "\t  83 & r &  0.06092680\\\\\n",
       "\t  84 & s &  0.16060952\\\\\n",
       "\t  85 & c &  0.10386440\\\\\n",
       "\t  86 & c & -0.91387274\\\\\n",
       "\t  87 & a &  0.07605706\\\\\n",
       "\t  88 & m &  0.47855637\\\\\n",
       "\t  89 & e & -1.04853126\\\\\n",
       "\t  90 & x &  0.90017435\\\\\n",
       "\t  91 & i & -1.21629493\\\\\n",
       "\t  92 & w &  1.26717744\\\\\n",
       "\t  93 & x & -2.64377253\\\\\n",
       "\t  94 & m &  0.63701079\\\\\n",
       "\t  95 & h & -0.35678758\\\\\n",
       "\t  96 & a & -0.72371535\\\\\n",
       "\t  97 & j & -0.09631022\\\\\n",
       "\t  98 & f & -2.17766262\\\\\n",
       "\t  99 & e &  1.09294639\\\\\n",
       "\t 100 & k &  0.62786491\\\\\n",
       "\\end{tabular}\n"
      ],
      "text/markdown": [
       "\n",
       "A data.frame: 100 × 3\n",
       "\n",
       "| index &lt;int&gt; | char &lt;chr&gt; | z &lt;dbl&gt; |\n",
       "|---|---|---|\n",
       "|  1 | j |  2.41988073 |\n",
       "|  2 | j | -3.05899131 |\n",
       "|  3 | y |  1.08887105 |\n",
       "|  4 | v | -0.83283703 |\n",
       "|  5 | h |  0.79972996 |\n",
       "|  6 | s | -1.31597876 |\n",
       "|  7 | v | -0.09269370 |\n",
       "|  8 | l | -0.14320911 |\n",
       "|  9 | y | -1.38217223 |\n",
       "| 10 | m |  1.55275653 |\n",
       "| 11 | d | -1.73061874 |\n",
       "| 12 | c | -0.83892180 |\n",
       "| 13 | i |  1.33321235 |\n",
       "| 14 | x |  0.48149560 |\n",
       "| 15 | t | -0.09831852 |\n",
       "| 16 | b | -0.75785568 |\n",
       "| 17 | y | -0.34816313 |\n",
       "| 18 | n | -1.48820536 |\n",
       "| 19 | o | -1.38514091 |\n",
       "| 20 | d | -0.94467082 |\n",
       "| 21 | r |  0.27696451 |\n",
       "| 22 | l |  0.39019311 |\n",
       "| 23 | z | -0.16652129 |\n",
       "| 24 | o | -0.68643261 |\n",
       "| 25 | g | -0.14615315 |\n",
       "| 26 | r | -0.90805506 |\n",
       "| 27 | f | -0.96138920 |\n",
       "| 28 | q |  1.31171917 |\n",
       "| 29 | w |  0.54574726 |\n",
       "| 30 | o |  1.29374227 |\n",
       "| ⋮ | ⋮ | ⋮ |\n",
       "|  71 | x | -0.85629633 |\n",
       "|  72 | e |  0.33838806 |\n",
       "|  73 | s | -0.17367509 |\n",
       "|  74 | j |  0.35076871 |\n",
       "|  75 | w | -0.84224919 |\n",
       "|  76 | r | -0.01165264 |\n",
       "|  77 | a |  0.01540829 |\n",
       "|  78 | l |  1.42676290 |\n",
       "|  79 | e |  0.95379963 |\n",
       "|  80 | t |  0.67888797 |\n",
       "|  81 | v |  0.16127857 |\n",
       "|  82 | m |  0.66244142 |\n",
       "|  83 | r |  0.06092680 |\n",
       "|  84 | s |  0.16060952 |\n",
       "|  85 | c |  0.10386440 |\n",
       "|  86 | c | -0.91387274 |\n",
       "|  87 | a |  0.07605706 |\n",
       "|  88 | m |  0.47855637 |\n",
       "|  89 | e | -1.04853126 |\n",
       "|  90 | x |  0.90017435 |\n",
       "|  91 | i | -1.21629493 |\n",
       "|  92 | w |  1.26717744 |\n",
       "|  93 | x | -2.64377253 |\n",
       "|  94 | m |  0.63701079 |\n",
       "|  95 | h | -0.35678758 |\n",
       "|  96 | a | -0.72371535 |\n",
       "|  97 | j | -0.09631022 |\n",
       "|  98 | f | -2.17766262 |\n",
       "|  99 | e |  1.09294639 |\n",
       "| 100 | k |  0.62786491 |\n",
       "\n"
      ],
      "text/plain": [
       "    index char z          \n",
       "1    1    j     2.41988073\n",
       "2    2    j    -3.05899131\n",
       "3    3    y     1.08887105\n",
       "4    4    v    -0.83283703\n",
       "5    5    h     0.79972996\n",
       "6    6    s    -1.31597876\n",
       "7    7    v    -0.09269370\n",
       "8    8    l    -0.14320911\n",
       "9    9    y    -1.38217223\n",
       "10  10    m     1.55275653\n",
       "11  11    d    -1.73061874\n",
       "12  12    c    -0.83892180\n",
       "13  13    i     1.33321235\n",
       "14  14    x     0.48149560\n",
       "15  15    t    -0.09831852\n",
       "16  16    b    -0.75785568\n",
       "17  17    y    -0.34816313\n",
       "18  18    n    -1.48820536\n",
       "19  19    o    -1.38514091\n",
       "20  20    d    -0.94467082\n",
       "21  21    r     0.27696451\n",
       "22  22    l     0.39019311\n",
       "23  23    z    -0.16652129\n",
       "24  24    o    -0.68643261\n",
       "25  25    g    -0.14615315\n",
       "26  26    r    -0.90805506\n",
       "27  27    f    -0.96138920\n",
       "28  28    q     1.31171917\n",
       "29  29    w     0.54574726\n",
       "30  30    o     1.29374227\n",
       "⋮   ⋮     ⋮    ⋮          \n",
       "71   71   x    -0.85629633\n",
       "72   72   e     0.33838806\n",
       "73   73   s    -0.17367509\n",
       "74   74   j     0.35076871\n",
       "75   75   w    -0.84224919\n",
       "76   76   r    -0.01165264\n",
       "77   77   a     0.01540829\n",
       "78   78   l     1.42676290\n",
       "79   79   e     0.95379963\n",
       "80   80   t     0.67888797\n",
       "81   81   v     0.16127857\n",
       "82   82   m     0.66244142\n",
       "83   83   r     0.06092680\n",
       "84   84   s     0.16060952\n",
       "85   85   c     0.10386440\n",
       "86   86   c    -0.91387274\n",
       "87   87   a     0.07605706\n",
       "88   88   m     0.47855637\n",
       "89   89   e    -1.04853126\n",
       "90   90   x     0.90017435\n",
       "91   91   i    -1.21629493\n",
       "92   92   w     1.26717744\n",
       "93   93   x    -2.64377253\n",
       "94   94   m     0.63701079\n",
       "95   95   h    -0.35678758\n",
       "96   96   a    -0.72371535\n",
       "97   97   j    -0.09631022\n",
       "98   98   f    -2.17766262\n",
       "99   99   e     1.09294639\n",
       "100 100   k     0.62786491"
      ]
     },
     "metadata": {},
     "output_type": "display_data"
    }
   ],
   "source": [
    "# Aplicando a função rbind em todo a lista (não em cada elemento da lista)\n",
    "do.call(rbind, data)"
   ]
  },
  {
   "cell_type": "code",
   "execution_count": 13,
   "id": "417102ed",
   "metadata": {},
   "outputs": [],
   "source": [
    "# Lista aleatoria\n",
    "lista3 <- list(1:3, 4:6, 7:9)"
   ]
  },
  {
   "cell_type": "code",
   "execution_count": 14,
   "id": "a30004b6",
   "metadata": {},
   "outputs": [
    {
     "data": {
      "text/html": [
       "<ol>\n",
       "\t<li><style>\n",
       ".list-inline {list-style: none; margin:0; padding: 0}\n",
       ".list-inline>li {display: inline-block}\n",
       ".list-inline>li:not(:last-child)::after {content: \"\\00b7\"; padding: 0 .5ex}\n",
       "</style>\n",
       "<ol class=list-inline><li>1</li><li>2</li><li>3</li></ol>\n",
       "</li>\n",
       "\t<li><style>\n",
       ".list-inline {list-style: none; margin:0; padding: 0}\n",
       ".list-inline>li {display: inline-block}\n",
       ".list-inline>li:not(:last-child)::after {content: \"\\00b7\"; padding: 0 .5ex}\n",
       "</style>\n",
       "<ol class=list-inline><li>4</li><li>5</li><li>6</li></ol>\n",
       "</li>\n",
       "\t<li><style>\n",
       ".list-inline {list-style: none; margin:0; padding: 0}\n",
       ".list-inline>li {display: inline-block}\n",
       ".list-inline>li:not(:last-child)::after {content: \"\\00b7\"; padding: 0 .5ex}\n",
       "</style>\n",
       "<ol class=list-inline><li>7</li><li>8</li><li>9</li></ol>\n",
       "</li>\n",
       "</ol>\n"
      ],
      "text/latex": [
       "\\begin{enumerate}\n",
       "\\item \\begin{enumerate*}\n",
       "\\item 1\n",
       "\\item 2\n",
       "\\item 3\n",
       "\\end{enumerate*}\n",
       "\n",
       "\\item \\begin{enumerate*}\n",
       "\\item 4\n",
       "\\item 5\n",
       "\\item 6\n",
       "\\end{enumerate*}\n",
       "\n",
       "\\item \\begin{enumerate*}\n",
       "\\item 7\n",
       "\\item 8\n",
       "\\item 9\n",
       "\\end{enumerate*}\n",
       "\n",
       "\\end{enumerate}\n"
      ],
      "text/markdown": [
       "1. 1. 1\n",
       "2. 2\n",
       "3. 3\n",
       "\n",
       "\n",
       "\n",
       "2. 1. 4\n",
       "2. 5\n",
       "3. 6\n",
       "\n",
       "\n",
       "\n",
       "3. 1. 7\n",
       "2. 8\n",
       "3. 9\n",
       "\n",
       "\n",
       "\n",
       "\n",
       "\n"
      ],
      "text/plain": [
       "[[1]]\n",
       "[1] 1 2 3\n",
       "\n",
       "[[2]]\n",
       "[1] 4 5 6\n",
       "\n",
       "[[3]]\n",
       "[1] 7 8 9\n"
      ]
     },
     "metadata": {},
     "output_type": "display_data"
    }
   ],
   "source": [
    "lista3"
   ]
  },
  {
   "cell_type": "code",
   "execution_count": 19,
   "id": "875bde79",
   "metadata": {},
   "outputs": [
    {
     "data": {
      "text/html": [
       "<ol>\n",
       "\t<li>6</li>\n",
       "\t<li>15</li>\n",
       "\t<li>24</li>\n",
       "</ol>\n"
      ],
      "text/latex": [
       "\\begin{enumerate}\n",
       "\\item 6\n",
       "\\item 15\n",
       "\\item 24\n",
       "\\end{enumerate}\n"
      ],
      "text/markdown": [
       "1. 6\n",
       "2. 15\n",
       "3. 24\n",
       "\n",
       "\n"
      ],
      "text/plain": [
       "[[1]]\n",
       "[1] 6\n",
       "\n",
       "[[2]]\n",
       "[1] 15\n",
       "\n",
       "[[3]]\n",
       "[1] 24\n"
      ]
     },
     "metadata": {},
     "output_type": "display_data"
    }
   ],
   "source": [
    "# Aplicando a soma em cada vetor da lista\n",
    "lapply(lista3, sum)"
   ]
  },
  {
   "cell_type": "code",
   "execution_count": 20,
   "id": "9a90145b",
   "metadata": {},
   "outputs": [
    {
     "data": {
      "text/html": [
       "45"
      ],
      "text/latex": [
       "45"
      ],
      "text/markdown": [
       "45"
      ],
      "text/plain": [
       "[1] 45"
      ]
     },
     "metadata": {},
     "output_type": "display_data"
    }
   ],
   "source": [
    "# Aplicando a soma em TODA a lista\n",
    "do.call(sum, lista3)"
   ]
  },
  {
   "cell_type": "code",
   "execution_count": 21,
   "id": "167ad66d",
   "metadata": {},
   "outputs": [
    {
     "data": {
      "text/html": [
       "<ol>\n",
       "\t<li><style>\n",
       ".list-inline {list-style: none; margin:0; padding: 0}\n",
       ".list-inline>li {display: inline-block}\n",
       ".list-inline>li:not(:last-child)::after {content: \"\\00b7\"; padding: 0 .5ex}\n",
       "</style>\n",
       "<ol class=list-inline><li>'R'</li><li>'é'</li><li>'um'</li><li>'software'</li><li>'sensacional'</li><li>'para'</li><li>'análise'</li><li>'de'</li><li>'dados'</li></ol>\n",
       "</li>\n",
       "</ol>\n"
      ],
      "text/latex": [
       "\\begin{enumerate}\n",
       "\\item \\begin{enumerate*}\n",
       "\\item 'R'\n",
       "\\item 'é'\n",
       "\\item 'um'\n",
       "\\item 'software'\n",
       "\\item 'sensacional'\n",
       "\\item 'para'\n",
       "\\item 'análise'\n",
       "\\item 'de'\n",
       "\\item 'dados'\n",
       "\\end{enumerate*}\n",
       "\n",
       "\\end{enumerate}\n"
      ],
      "text/markdown": [
       "1. 1. 'R'\n",
       "2. 'é'\n",
       "3. 'um'\n",
       "4. 'software'\n",
       "5. 'sensacional'\n",
       "6. 'para'\n",
       "7. 'análise'\n",
       "8. 'de'\n",
       "9. 'dados'\n",
       "\n",
       "\n",
       "\n",
       "\n",
       "\n"
      ],
      "text/plain": [
       "[[1]]\n",
       "[1] \"R\"           \"é\"           \"um\"          \"software\"    \"sensacional\"\n",
       "[6] \"para\"        \"análise\"     \"de\"          \"dados\"      \n"
      ]
     },
     "metadata": {},
     "output_type": "display_data"
    },
    {
     "data": {
      "text/html": [
       "<ol>\n",
       "\t<li><style>\n",
       ".list-inline {list-style: none; margin:0; padding: 0}\n",
       ".list-inline>li {display: inline-block}\n",
       ".list-inline>li:not(:last-child)::after {content: \"\\00b7\"; padding: 0 .5ex}\n",
       "</style>\n",
       "<ol class=list-inline><li>'R'</li><li>' '</li><li>'é'</li><li>' '</li><li>'u'</li><li>'m'</li><li>' '</li><li>'s'</li><li>'o'</li><li>'f'</li><li>'t'</li><li>'w'</li><li>'a'</li><li>'r'</li><li>'e'</li><li>' '</li><li>'s'</li><li>'e'</li><li>'n'</li><li>'s'</li><li>'a'</li><li>'c'</li><li>'i'</li><li>'o'</li><li>'n'</li><li>'a'</li><li>'l'</li><li>' '</li><li>'p'</li><li>'a'</li><li>'r'</li><li>'a'</li><li>' '</li><li>'a'</li><li>'n'</li><li>'á'</li><li>'l'</li><li>'i'</li><li>'s'</li><li>'e'</li><li>' '</li><li>'d'</li><li>'e'</li><li>' '</li><li>'d'</li><li>'a'</li><li>'d'</li><li>'o'</li><li>'s'</li></ol>\n",
       "</li>\n",
       "</ol>\n"
      ],
      "text/latex": [
       "\\begin{enumerate}\n",
       "\\item \\begin{enumerate*}\n",
       "\\item 'R'\n",
       "\\item ' '\n",
       "\\item 'é'\n",
       "\\item ' '\n",
       "\\item 'u'\n",
       "\\item 'm'\n",
       "\\item ' '\n",
       "\\item 's'\n",
       "\\item 'o'\n",
       "\\item 'f'\n",
       "\\item 't'\n",
       "\\item 'w'\n",
       "\\item 'a'\n",
       "\\item 'r'\n",
       "\\item 'e'\n",
       "\\item ' '\n",
       "\\item 's'\n",
       "\\item 'e'\n",
       "\\item 'n'\n",
       "\\item 's'\n",
       "\\item 'a'\n",
       "\\item 'c'\n",
       "\\item 'i'\n",
       "\\item 'o'\n",
       "\\item 'n'\n",
       "\\item 'a'\n",
       "\\item 'l'\n",
       "\\item ' '\n",
       "\\item 'p'\n",
       "\\item 'a'\n",
       "\\item 'r'\n",
       "\\item 'a'\n",
       "\\item ' '\n",
       "\\item 'a'\n",
       "\\item 'n'\n",
       "\\item 'á'\n",
       "\\item 'l'\n",
       "\\item 'i'\n",
       "\\item 's'\n",
       "\\item 'e'\n",
       "\\item ' '\n",
       "\\item 'd'\n",
       "\\item 'e'\n",
       "\\item ' '\n",
       "\\item 'd'\n",
       "\\item 'a'\n",
       "\\item 'd'\n",
       "\\item 'o'\n",
       "\\item 's'\n",
       "\\end{enumerate*}\n",
       "\n",
       "\\end{enumerate}\n"
      ],
      "text/markdown": [
       "1. 1. 'R'\n",
       "2. ' '\n",
       "3. 'é'\n",
       "4. ' '\n",
       "5. 'u'\n",
       "6. 'm'\n",
       "7. ' '\n",
       "8. 's'\n",
       "9. 'o'\n",
       "10. 'f'\n",
       "11. 't'\n",
       "12. 'w'\n",
       "13. 'a'\n",
       "14. 'r'\n",
       "15. 'e'\n",
       "16. ' '\n",
       "17. 's'\n",
       "18. 'e'\n",
       "19. 'n'\n",
       "20. 's'\n",
       "21. 'a'\n",
       "22. 'c'\n",
       "23. 'i'\n",
       "24. 'o'\n",
       "25. 'n'\n",
       "26. 'a'\n",
       "27. 'l'\n",
       "28. ' '\n",
       "29. 'p'\n",
       "30. 'a'\n",
       "31. 'r'\n",
       "32. 'a'\n",
       "33. ' '\n",
       "34. 'a'\n",
       "35. 'n'\n",
       "36. 'á'\n",
       "37. 'l'\n",
       "38. 'i'\n",
       "39. 's'\n",
       "40. 'e'\n",
       "41. ' '\n",
       "42. 'd'\n",
       "43. 'e'\n",
       "44. ' '\n",
       "45. 'd'\n",
       "46. 'a'\n",
       "47. 'd'\n",
       "48. 'o'\n",
       "49. 's'\n",
       "\n",
       "\n",
       "\n",
       "\n",
       "\n"
      ],
      "text/plain": [
       "[[1]]\n",
       " [1] \"R\" \" \" \"é\" \" \" \"u\" \"m\" \" \" \"s\" \"o\" \"f\" \"t\" \"w\" \"a\" \"r\" \"e\" \" \" \"s\" \"e\" \"n\"\n",
       "[20] \"s\" \"a\" \"c\" \"i\" \"o\" \"n\" \"a\" \"l\" \" \" \"p\" \"a\" \"r\" \"a\" \" \" \"a\" \"n\" \"á\" \"l\" \"i\"\n",
       "[39] \"s\" \"e\" \" \" \"d\" \"e\" \" \" \"d\" \"a\" \"d\" \"o\" \"s\"\n"
      ]
     },
     "metadata": {},
     "output_type": "display_data"
    }
   ],
   "source": [
    "# Quebrando a string\n",
    "txt <- \"R é um software sensacional para análise de dados\"\n",
    "\n",
    "strsplit(txt, \" \")\n",
    "strsplit(txt, \"\")"
   ]
  },
  {
   "cell_type": "code",
   "execution_count": 22,
   "id": "208e2fef",
   "metadata": {},
   "outputs": [
    {
     "data": {
      "text/html": [
       "<ol>\n",
       "\t<li><style>\n",
       ".list-inline {list-style: none; margin:0; padding: 0}\n",
       ".list-inline>li {display: inline-block}\n",
       ".list-inline>li:not(:last-child)::after {content: \"\\00b7\"; padding: 0 .5ex}\n",
       "</style>\n",
       "<ol class=list-inline><li>'2023'</li><li>'01'</li><li>'12'</li></ol>\n",
       "</li>\n",
       "\t<li><style>\n",
       ".list-inline {list-style: none; margin:0; padding: 0}\n",
       ".list-inline>li {display: inline-block}\n",
       ".list-inline>li:not(:last-child)::after {content: \"\\00b7\"; padding: 0 .5ex}\n",
       "</style>\n",
       "<ol class=list-inline><li>'1985'</li><li>'12'</li><li>'02'</li></ol>\n",
       "</li>\n",
       "\t<li><style>\n",
       ".list-inline {list-style: none; margin:0; padding: 0}\n",
       ".list-inline>li {display: inline-block}\n",
       ".list-inline>li:not(:last-child)::after {content: \"\\00b7\"; padding: 0 .5ex}\n",
       "</style>\n",
       "<ol class=list-inline><li>'1999'</li><li>'08'</li><li>'12'</li></ol>\n",
       "</li>\n",
       "</ol>\n"
      ],
      "text/latex": [
       "\\begin{enumerate}\n",
       "\\item \\begin{enumerate*}\n",
       "\\item '2023'\n",
       "\\item '01'\n",
       "\\item '12'\n",
       "\\end{enumerate*}\n",
       "\n",
       "\\item \\begin{enumerate*}\n",
       "\\item '1985'\n",
       "\\item '12'\n",
       "\\item '02'\n",
       "\\end{enumerate*}\n",
       "\n",
       "\\item \\begin{enumerate*}\n",
       "\\item '1999'\n",
       "\\item '08'\n",
       "\\item '12'\n",
       "\\end{enumerate*}\n",
       "\n",
       "\\end{enumerate}\n"
      ],
      "text/markdown": [
       "1. 1. '2023'\n",
       "2. '01'\n",
       "3. '12'\n",
       "\n",
       "\n",
       "\n",
       "2. 1. '1985'\n",
       "2. '12'\n",
       "3. '02'\n",
       "\n",
       "\n",
       "\n",
       "3. 1. '1999'\n",
       "2. '08'\n",
       "3. '12'\n",
       "\n",
       "\n",
       "\n",
       "\n",
       "\n"
      ],
      "text/plain": [
       "[[1]]\n",
       "[1] \"2023\" \"01\"   \"12\"  \n",
       "\n",
       "[[2]]\n",
       "[1] \"1985\" \"12\"   \"02\"  \n",
       "\n",
       "[[3]]\n",
       "[1] \"1999\" \"08\"   \"12\"  \n"
      ]
     },
     "metadata": {},
     "output_type": "display_data"
    }
   ],
   "source": [
    "# Fazendo um matriz de datas\n",
    "datas <- c('2023-01-12', '1985-12-02', '1999-08-12')\n",
    "\n",
    "temp <- strsplit(datas, '-')\n",
    "\n",
    "temp"
   ]
  },
  {
   "cell_type": "code",
   "execution_count": 23,
   "id": "4e33cabe",
   "metadata": {},
   "outputs": [
    {
     "data": {
      "text/html": [
       "<style>\n",
       ".list-inline {list-style: none; margin:0; padding: 0}\n",
       ".list-inline>li {display: inline-block}\n",
       ".list-inline>li:not(:last-child)::after {content: \"\\00b7\"; padding: 0 .5ex}\n",
       "</style>\n",
       "<ol class=list-inline><li>'2023'</li><li>'01'</li><li>'12'</li><li>'1985'</li><li>'12'</li><li>'02'</li><li>'1999'</li><li>'08'</li><li>'12'</li></ol>\n"
      ],
      "text/latex": [
       "\\begin{enumerate*}\n",
       "\\item '2023'\n",
       "\\item '01'\n",
       "\\item '12'\n",
       "\\item '1985'\n",
       "\\item '12'\n",
       "\\item '02'\n",
       "\\item '1999'\n",
       "\\item '08'\n",
       "\\item '12'\n",
       "\\end{enumerate*}\n"
      ],
      "text/markdown": [
       "1. '2023'\n",
       "2. '01'\n",
       "3. '12'\n",
       "4. '1985'\n",
       "5. '12'\n",
       "6. '02'\n",
       "7. '1999'\n",
       "8. '08'\n",
       "9. '12'\n",
       "\n",
       "\n"
      ],
      "text/plain": [
       "[1] \"2023\" \"01\"   \"12\"   \"1985\" \"12\"   \"02\"   \"1999\" \"08\"   \"12\"  "
      ]
     },
     "metadata": {},
     "output_type": "display_data"
    }
   ],
   "source": [
    "unlist(temp)"
   ]
  },
  {
   "cell_type": "code",
   "execution_count": 24,
   "id": "7c63d955",
   "metadata": {
    "scrolled": true
   },
   "outputs": [
    {
     "data": {
      "text/html": [
       "<table class=\"dataframe\">\n",
       "<caption>A matrix: 3 × 3 of type chr</caption>\n",
       "<tbody>\n",
       "\t<tr><td>2023</td><td>01</td><td>12</td></tr>\n",
       "\t<tr><td>1985</td><td>12</td><td>02</td></tr>\n",
       "\t<tr><td>1999</td><td>08</td><td>12</td></tr>\n",
       "</tbody>\n",
       "</table>\n"
      ],
      "text/latex": [
       "A matrix: 3 × 3 of type chr\n",
       "\\begin{tabular}{lll}\n",
       "\t 2023 & 01 & 12\\\\\n",
       "\t 1985 & 12 & 02\\\\\n",
       "\t 1999 & 08 & 12\\\\\n",
       "\\end{tabular}\n"
      ],
      "text/markdown": [
       "\n",
       "A matrix: 3 × 3 of type chr\n",
       "\n",
       "| 2023 | 01 | 12 |\n",
       "| 1985 | 12 | 02 |\n",
       "| 1999 | 08 | 12 |\n",
       "\n"
      ],
      "text/plain": [
       "     [,1] [,2] [,3]\n",
       "[1,] 2023 01   12  \n",
       "[2,] 1985 12   02  \n",
       "[3,] 1999 08   12  "
      ]
     },
     "metadata": {},
     "output_type": "display_data"
    }
   ],
   "source": [
    "matrix(unlist(temp), ncol=3, byrow=TRUE)"
   ]
  },
  {
   "cell_type": "code",
   "execution_count": 28,
   "id": "2776786c",
   "metadata": {},
   "outputs": [
    {
     "data": {
      "text/html": [
       "'É preciso casar João, é preciso suportar, Antônio, é preciso odiar Melquíades'"
      ],
      "text/latex": [
       "'É preciso casar João, é preciso suportar, Antônio, é preciso odiar Melquíades'"
      ],
      "text/markdown": [
       "'É preciso casar João, é preciso suportar, Antônio, é preciso odiar Melquíades'"
      ],
      "text/plain": [
       "[1] \"É preciso casar João, é preciso suportar, Antônio, é preciso odiar Melquíades\""
      ]
     },
     "metadata": {},
     "output_type": "display_data"
    }
   ],
   "source": [
    "carlos_drummond <- \"É preciso casar João, é preciso suportar, Antônio, é preciso odiar Melquíades\"\n",
    "\n",
    "carlos_drummond"
   ]
  },
  {
   "cell_type": "code",
   "execution_count": 30,
   "id": "fa0d8015",
   "metadata": {},
   "outputs": [
    {
     "data": {
      "text/html": [
       "<style>\n",
       ".list-inline {list-style: none; margin:0; padding: 0}\n",
       ".list-inline>li {display: inline-block}\n",
       ".list-inline>li:not(:last-child)::after {content: \"\\00b7\"; padding: 0 .5ex}\n",
       "</style>\n",
       "<ol class=list-inline><li>'É'</li><li>'preciso'</li><li>'casar'</li><li>'João,'</li><li>'é'</li><li>'preciso'</li><li>'suportar,'</li><li>'Antônio,'</li><li>'é'</li><li>'preciso'</li><li>'odiar'</li><li>'Melquíades'</li></ol>\n"
      ],
      "text/latex": [
       "\\begin{enumerate*}\n",
       "\\item 'É'\n",
       "\\item 'preciso'\n",
       "\\item 'casar'\n",
       "\\item 'João,'\n",
       "\\item 'é'\n",
       "\\item 'preciso'\n",
       "\\item 'suportar,'\n",
       "\\item 'Antônio,'\n",
       "\\item 'é'\n",
       "\\item 'preciso'\n",
       "\\item 'odiar'\n",
       "\\item 'Melquíades'\n",
       "\\end{enumerate*}\n"
      ],
      "text/markdown": [
       "1. 'É'\n",
       "2. 'preciso'\n",
       "3. 'casar'\n",
       "4. 'João,'\n",
       "5. 'é'\n",
       "6. 'preciso'\n",
       "7. 'suportar,'\n",
       "8. 'Antônio,'\n",
       "9. 'é'\n",
       "10. 'preciso'\n",
       "11. 'odiar'\n",
       "12. 'Melquíades'\n",
       "\n",
       "\n"
      ],
      "text/plain": [
       " [1] \"É\"          \"preciso\"    \"casar\"      \"João,\"      \"é\"         \n",
       " [6] \"preciso\"    \"suportar,\"  \"Antônio,\"   \"é\"          \"preciso\"   \n",
       "[11] \"odiar\"      \"Melquíades\""
      ]
     },
     "metadata": {},
     "output_type": "display_data"
    }
   ],
   "source": [
    "palavras <- strsplit(carlos_drummond, \" \")[[1]]\n",
    "\n",
    "palavras"
   ]
  },
  {
   "cell_type": "code",
   "execution_count": 31,
   "id": "9d323975",
   "metadata": {},
   "outputs": [
    {
     "data": {
      "text/html": [
       "<style>\n",
       ".list-inline {list-style: none; margin:0; padding: 0}\n",
       ".list-inline>li {display: inline-block}\n",
       ".list-inline>li:not(:last-child)::after {content: \"\\00b7\"; padding: 0 .5ex}\n",
       "</style>\n",
       "<ol class=list-inline><li>'É'</li><li>'preciso'</li><li>'casar'</li><li>'João,'</li><li>'é'</li><li>'suportar,'</li><li>'Antônio,'</li><li>'odiar'</li><li>'Melquíades'</li></ol>\n"
      ],
      "text/latex": [
       "\\begin{enumerate*}\n",
       "\\item 'É'\n",
       "\\item 'preciso'\n",
       "\\item 'casar'\n",
       "\\item 'João,'\n",
       "\\item 'é'\n",
       "\\item 'suportar,'\n",
       "\\item 'Antônio,'\n",
       "\\item 'odiar'\n",
       "\\item 'Melquíades'\n",
       "\\end{enumerate*}\n"
      ],
      "text/markdown": [
       "1. 'É'\n",
       "2. 'preciso'\n",
       "3. 'casar'\n",
       "4. 'João,'\n",
       "5. 'é'\n",
       "6. 'suportar,'\n",
       "7. 'Antônio,'\n",
       "8. 'odiar'\n",
       "9. 'Melquíades'\n",
       "\n",
       "\n"
      ],
      "text/plain": [
       "[1] \"É\"          \"preciso\"    \"casar\"      \"João,\"      \"é\"         \n",
       "[6] \"suportar,\"  \"Antônio,\"   \"odiar\"      \"Melquíades\""
      ]
     },
     "metadata": {},
     "output_type": "display_data"
    }
   ],
   "source": [
    "unique(palavras)"
   ]
  },
  {
   "cell_type": "code",
   "execution_count": 32,
   "id": "cde2fa6e",
   "metadata": {
    "scrolled": true
   },
   "outputs": [
    {
     "data": {
      "text/html": [
       "<style>\n",
       ".list-inline {list-style: none; margin:0; padding: 0}\n",
       ".list-inline>li {display: inline-block}\n",
       ".list-inline>li:not(:last-child)::after {content: \"\\00b7\"; padding: 0 .5ex}\n",
       "</style>\n",
       "<ol class=list-inline><li>'é'</li><li>'preciso'</li><li>'casar'</li><li>'joão,'</li><li>'suportar,'</li><li>'antônio,'</li><li>'odiar'</li><li>'melquíades'</li></ol>\n"
      ],
      "text/latex": [
       "\\begin{enumerate*}\n",
       "\\item 'é'\n",
       "\\item 'preciso'\n",
       "\\item 'casar'\n",
       "\\item 'joão,'\n",
       "\\item 'suportar,'\n",
       "\\item 'antônio,'\n",
       "\\item 'odiar'\n",
       "\\item 'melquíades'\n",
       "\\end{enumerate*}\n"
      ],
      "text/markdown": [
       "1. 'é'\n",
       "2. 'preciso'\n",
       "3. 'casar'\n",
       "4. 'joão,'\n",
       "5. 'suportar,'\n",
       "6. 'antônio,'\n",
       "7. 'odiar'\n",
       "8. 'melquíades'\n",
       "\n",
       "\n"
      ],
      "text/plain": [
       "[1] \"é\"          \"preciso\"    \"casar\"      \"joão,\"      \"suportar,\" \n",
       "[6] \"antônio,\"   \"odiar\"      \"melquíades\""
      ]
     },
     "metadata": {},
     "output_type": "display_data"
    }
   ],
   "source": [
    "unique(tolower(palavras))"
   ]
  },
  {
   "cell_type": "code",
   "execution_count": 33,
   "id": "13235bc7",
   "metadata": {},
   "outputs": [],
   "source": [
    "# Comparando os sinais de atribuição\n",
    "v1 <- 1:4\n",
    "v2 = 1:4"
   ]
  },
  {
   "cell_type": "code",
   "execution_count": 34,
   "id": "25662db3",
   "metadata": {},
   "outputs": [
    {
     "data": {
      "text/html": [
       "<style>\n",
       ".list-inline {list-style: none; margin:0; padding: 0}\n",
       ".list-inline>li {display: inline-block}\n",
       ".list-inline>li:not(:last-child)::after {content: \"\\00b7\"; padding: 0 .5ex}\n",
       "</style>\n",
       "<ol class=list-inline><li>TRUE</li><li>TRUE</li><li>TRUE</li><li>TRUE</li></ol>\n"
      ],
      "text/latex": [
       "\\begin{enumerate*}\n",
       "\\item TRUE\n",
       "\\item TRUE\n",
       "\\item TRUE\n",
       "\\item TRUE\n",
       "\\end{enumerate*}\n"
      ],
      "text/markdown": [
       "1. TRUE\n",
       "2. TRUE\n",
       "3. TRUE\n",
       "4. TRUE\n",
       "\n",
       "\n"
      ],
      "text/plain": [
       "[1] TRUE TRUE TRUE TRUE"
      ]
     },
     "metadata": {},
     "output_type": "display_data"
    }
   ],
   "source": [
    "v1 == v2"
   ]
  },
  {
   "cell_type": "code",
   "execution_count": 35,
   "id": "d5009b39",
   "metadata": {},
   "outputs": [
    {
     "data": {
      "text/html": [
       "'integer'"
      ],
      "text/latex": [
       "'integer'"
      ],
      "text/markdown": [
       "'integer'"
      ],
      "text/plain": [
       "[1] \"integer\""
      ]
     },
     "metadata": {},
     "output_type": "display_data"
    },
    {
     "data": {
      "text/html": [
       "'integer'"
      ],
      "text/latex": [
       "'integer'"
      ],
      "text/markdown": [
       "'integer'"
      ],
      "text/plain": [
       "[1] \"integer\""
      ]
     },
     "metadata": {},
     "output_type": "display_data"
    },
    {
     "data": {
      "text/html": [
       "'integer'"
      ],
      "text/latex": [
       "'integer'"
      ],
      "text/markdown": [
       "'integer'"
      ],
      "text/plain": [
       "[1] \"integer\""
      ]
     },
     "metadata": {},
     "output_type": "display_data"
    },
    {
     "data": {
      "text/html": [
       "'integer'"
      ],
      "text/latex": [
       "'integer'"
      ],
      "text/markdown": [
       "'integer'"
      ],
      "text/plain": [
       "[1] \"integer\""
      ]
     },
     "metadata": {},
     "output_type": "display_data"
    }
   ],
   "source": [
    "class(v1)\n",
    "class(v2)\n",
    "\n",
    "typeof(v1)\n",
    "typeof(v2)"
   ]
  },
  {
   "cell_type": "code",
   "execution_count": 36,
   "id": "733747b5",
   "metadata": {},
   "outputs": [
    {
     "data": {
      "text/html": [
       "5.5"
      ],
      "text/latex": [
       "5.5"
      ],
      "text/markdown": [
       "5.5"
      ],
      "text/plain": [
       "[1] 5.5"
      ]
     },
     "metadata": {},
     "output_type": "display_data"
    },
    {
     "ename": "ERROR",
     "evalue": "Error in eval(expr, envir, enclos): objeto 'x' não encontrado\n",
     "output_type": "error",
     "traceback": [
      "Error in eval(expr, envir, enclos): objeto 'x' não encontrado\nTraceback:\n"
     ]
    }
   ],
   "source": [
    "mean(x = 1:10)\n",
    "x"
   ]
  },
  {
   "cell_type": "code",
   "execution_count": 37,
   "id": "6879a3e5",
   "metadata": {
    "scrolled": true
   },
   "outputs": [
    {
     "data": {
      "text/html": [
       "5.5"
      ],
      "text/latex": [
       "5.5"
      ],
      "text/markdown": [
       "5.5"
      ],
      "text/plain": [
       "[1] 5.5"
      ]
     },
     "metadata": {},
     "output_type": "display_data"
    },
    {
     "data": {
      "text/html": [
       "<style>\n",
       ".list-inline {list-style: none; margin:0; padding: 0}\n",
       ".list-inline>li {display: inline-block}\n",
       ".list-inline>li:not(:last-child)::after {content: \"\\00b7\"; padding: 0 .5ex}\n",
       "</style>\n",
       "<ol class=list-inline><li>1</li><li>2</li><li>3</li><li>4</li><li>5</li><li>6</li><li>7</li><li>8</li><li>9</li><li>10</li></ol>\n"
      ],
      "text/latex": [
       "\\begin{enumerate*}\n",
       "\\item 1\n",
       "\\item 2\n",
       "\\item 3\n",
       "\\item 4\n",
       "\\item 5\n",
       "\\item 6\n",
       "\\item 7\n",
       "\\item 8\n",
       "\\item 9\n",
       "\\item 10\n",
       "\\end{enumerate*}\n"
      ],
      "text/markdown": [
       "1. 1\n",
       "2. 2\n",
       "3. 3\n",
       "4. 4\n",
       "5. 5\n",
       "6. 6\n",
       "7. 7\n",
       "8. 8\n",
       "9. 9\n",
       "10. 10\n",
       "\n",
       "\n"
      ],
      "text/plain": [
       " [1]  1  2  3  4  5  6  7  8  9 10"
      ]
     },
     "metadata": {},
     "output_type": "display_data"
    }
   ],
   "source": [
    "mean(x <- 1:10)\n",
    "x"
   ]
  },
  {
   "cell_type": "code",
   "execution_count": null,
   "id": "8199ac8f",
   "metadata": {},
   "outputs": [],
   "source": []
  }
 ],
 "metadata": {
  "kernelspec": {
   "display_name": "R",
   "language": "R",
   "name": "ir"
  },
  "language_info": {
   "codemirror_mode": "r",
   "file_extension": ".r",
   "mimetype": "text/x-r-source",
   "name": "R",
   "pygments_lexer": "r",
   "version": "4.2.3"
  }
 },
 "nbformat": 4,
 "nbformat_minor": 5
}
