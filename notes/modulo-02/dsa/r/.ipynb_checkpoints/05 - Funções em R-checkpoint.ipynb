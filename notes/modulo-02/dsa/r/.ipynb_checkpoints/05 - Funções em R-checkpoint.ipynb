{
 "cells": [
  {
   "cell_type": "code",
   "execution_count": 1,
   "id": "4bdf6366",
   "metadata": {},
   "outputs": [],
   "source": [
    "# Verificando a documentação de uma função\n",
    "?sample"
   ]
  },
  {
   "cell_type": "code",
   "execution_count": 2,
   "id": "052f6233",
   "metadata": {},
   "outputs": [
    {
     "data": {
      "text/html": [
       "<pre class=language-r><code>function (x, size, replace = FALSE, prob = NULL) \n",
       "NULL</code></pre>"
      ],
      "text/latex": [
       "\\begin{minted}{r}\n",
       "function (x, size, replace = FALSE, prob = NULL) \n",
       "NULL\n",
       "\\end{minted}"
      ],
      "text/markdown": [
       "```r\n",
       "function (x, size, replace = FALSE, prob = NULL) \n",
       "NULL\n",
       "```"
      ],
      "text/plain": [
       "function (x, size, replace = FALSE, prob = NULL) \n",
       "NULL"
      ]
     },
     "metadata": {},
     "output_type": "display_data"
    },
    {
     "data": {
      "text/html": [
       "<pre class=language-r><code>function (x, ...) \n",
       "NULL</code></pre>"
      ],
      "text/latex": [
       "\\begin{minted}{r}\n",
       "function (x, ...) \n",
       "NULL\n",
       "\\end{minted}"
      ],
      "text/markdown": [
       "```r\n",
       "function (x, ...) \n",
       "NULL\n",
       "```"
      ],
      "text/plain": [
       "function (x, ...) \n",
       "NULL"
      ]
     },
     "metadata": {},
     "output_type": "display_data"
    },
    {
     "data": {
      "text/html": [
       "<pre class=language-r><code>function (x, na.rm = FALSE) \n",
       "NULL</code></pre>"
      ],
      "text/latex": [
       "\\begin{minted}{r}\n",
       "function (x, na.rm = FALSE) \n",
       "NULL\n",
       "\\end{minted}"
      ],
      "text/markdown": [
       "```r\n",
       "function (x, na.rm = FALSE) \n",
       "NULL\n",
       "```"
      ],
      "text/plain": [
       "function (x, na.rm = FALSE) \n",
       "NULL"
      ]
     },
     "metadata": {},
     "output_type": "display_data"
    }
   ],
   "source": [
    "# Visualizando argumentos de funções\n",
    "args(sample)\n",
    "args(mean)\n",
    "args(sd)"
   ]
  },
  {
   "cell_type": "code",
   "execution_count": 3,
   "id": "9b93fb20",
   "metadata": {},
   "outputs": [
    {
     "data": {
      "text/html": [
       "35"
      ],
      "text/latex": [
       "35"
      ],
      "text/markdown": [
       "35"
      ],
      "text/plain": [
       "[1] 35"
      ]
     },
     "metadata": {},
     "output_type": "display_data"
    },
    {
     "data": {
      "text/html": [
       "120"
      ],
      "text/latex": [
       "120"
      ],
      "text/markdown": [
       "120"
      ],
      "text/plain": [
       "[1] 120"
      ]
     },
     "metadata": {},
     "output_type": "display_data"
    },
    {
     "data": {
      "text/html": [
       "5.5"
      ],
      "text/latex": [
       "5.5"
      ],
      "text/markdown": [
       "5.5"
      ],
      "text/plain": [
       "[1] 5.5"
      ]
     },
     "metadata": {},
     "output_type": "display_data"
    },
    {
     "data": {
      "text/html": [
       "<style>\n",
       ".list-inline {list-style: none; margin:0; padding: 0}\n",
       ".list-inline>li {display: inline-block}\n",
       ".list-inline>li:not(:last-child)::after {content: \"\\00b7\"; padding: 0 .5ex}\n",
       "</style>\n",
       "<ol class=list-inline><li>1</li><li>2</li><li>3</li><li>4</li><li>5</li></ol>\n"
      ],
      "text/latex": [
       "\\begin{enumerate*}\n",
       "\\item 1\n",
       "\\item 2\n",
       "\\item 3\n",
       "\\item 4\n",
       "\\item 5\n",
       "\\end{enumerate*}\n"
      ],
      "text/markdown": [
       "1. 1\n",
       "2. 2\n",
       "3. 3\n",
       "4. 4\n",
       "5. 5\n",
       "\n",
       "\n"
      ],
      "text/plain": [
       "[1] 1 2 3 4 5"
      ]
     },
     "metadata": {},
     "output_type": "display_data"
    },
    {
     "data": {
      "text/html": [
       "<style>\n",
       ".list-inline {list-style: none; margin:0; padding: 0}\n",
       ".list-inline>li {display: inline-block}\n",
       ".list-inline>li:not(:last-child)::after {content: \"\\00b7\"; padding: 0 .5ex}\n",
       "</style>\n",
       "<ol class=list-inline><li>5</li><li>4</li><li>3</li><li>2</li><li>1</li></ol>\n"
      ],
      "text/latex": [
       "\\begin{enumerate*}\n",
       "\\item 5\n",
       "\\item 4\n",
       "\\item 3\n",
       "\\item 2\n",
       "\\item 1\n",
       "\\end{enumerate*}\n"
      ],
      "text/markdown": [
       "1. 5\n",
       "2. 4\n",
       "3. 3\n",
       "4. 2\n",
       "5. 1\n",
       "\n",
       "\n"
      ],
      "text/plain": [
       "[1] 5 4 3 2 1"
      ]
     },
     "metadata": {},
     "output_type": "display_data"
    },
    {
     "data": {
      "text/html": [
       "<style>\n",
       ".list-inline {list-style: none; margin:0; padding: 0}\n",
       ".list-inline>li {display: inline-block}\n",
       ".list-inline>li:not(:last-child)::after {content: \"\\00b7\"; padding: 0 .5ex}\n",
       "</style>\n",
       "<ol class=list-inline><li>1</li><li>2</li><li>3</li><li>4</li><li>5</li></ol>\n"
      ],
      "text/latex": [
       "\\begin{enumerate*}\n",
       "\\item 1\n",
       "\\item 2\n",
       "\\item 3\n",
       "\\item 4\n",
       "\\item 5\n",
       "\\end{enumerate*}\n"
      ],
      "text/markdown": [
       "1. 1\n",
       "2. 2\n",
       "3. 3\n",
       "4. 4\n",
       "5. 5\n",
       "\n",
       "\n"
      ],
      "text/plain": [
       "[1] 1 2 3 4 5"
      ]
     },
     "metadata": {},
     "output_type": "display_data"
    },
    {
     "data": {
      "text/html": [
       "<style>\n",
       ".list-inline {list-style: none; margin:0; padding: 0}\n",
       ".list-inline>li {display: inline-block}\n",
       ".list-inline>li:not(:last-child)::after {content: \"\\00b7\"; padding: 0 .5ex}\n",
       "</style>\n",
       "<ol class=list-inline><li>1</li><li>2</li><li>3</li><li>4</li><li>5</li></ol>\n"
      ],
      "text/latex": [
       "\\begin{enumerate*}\n",
       "\\item 1\n",
       "\\item 2\n",
       "\\item 3\n",
       "\\item 4\n",
       "\\item 5\n",
       "\\end{enumerate*}\n"
      ],
      "text/markdown": [
       "1. 1\n",
       "2. 2\n",
       "3. 3\n",
       "4. 4\n",
       "5. 5\n",
       "\n",
       "\n"
      ],
      "text/plain": [
       "[1] 1 2 3 4 5"
      ]
     },
     "metadata": {},
     "output_type": "display_data"
    },
    {
     "data": {
      "text/html": [
       "<style>\n",
       ".list-inline {list-style: none; margin:0; padding: 0}\n",
       ".list-inline>li {display: inline-block}\n",
       ".list-inline>li:not(:last-child)::after {content: \"\\00b7\"; padding: 0 .5ex}\n",
       "</style>\n",
       "<ol class=list-inline><li>1</li><li>2</li><li>3</li><li>4</li><li>5</li><li>6</li></ol>\n"
      ],
      "text/latex": [
       "\\begin{enumerate*}\n",
       "\\item 1\n",
       "\\item 2\n",
       "\\item 3\n",
       "\\item 4\n",
       "\\item 5\n",
       "\\item 6\n",
       "\\end{enumerate*}\n"
      ],
      "text/markdown": [
       "1. 1\n",
       "2. 2\n",
       "3. 3\n",
       "4. 4\n",
       "5. 5\n",
       "6. 6\n",
       "\n",
       "\n"
      ],
      "text/plain": [
       "[1] 1 2 3 4 5 6"
      ]
     },
     "metadata": {},
     "output_type": "display_data"
    }
   ],
   "source": [
    "# Funções Built-in\n",
    "abs(-35) # Valor absoluto\n",
    "sum(c(1:15)) # Soma todos os elementos de uma variável composta\n",
    "mean(c(1:10)) # A média de valores\n",
    "round(1.1:5.8) # Arredondar valores\n",
    "rev(c(1:5)) # Reveter um array\n",
    "seq(1:5) # Criando um vetor\n",
    "sort(rev(1:5)) # Ordenar um array\n",
    "append(c(1:5), 6) # Adicionar um elemento ao vetor"
   ]
  },
  {
   "cell_type": "code",
   "execution_count": 10,
   "id": "4253d6e1",
   "metadata": {},
   "outputs": [
    {
     "data": {
      "text/html": [
       "-5"
      ],
      "text/latex": [
       "-5"
      ],
      "text/markdown": [
       "-5"
      ],
      "text/plain": [
       "[1] -5"
      ]
     },
     "metadata": {},
     "output_type": "display_data"
    }
   ],
   "source": [
    "absoluto <- function (x) {\n",
    "    if (x > 0) return (x)\n",
    "    else return (-x)\n",
    "}\n",
    "\n",
    "absoluto(-5)"
   ]
  },
  {
   "cell_type": "code",
   "execution_count": 4,
   "id": "9344e20d",
   "metadata": {},
   "outputs": [
    {
     "data": {
      "image/png": "[encoded data removed]",
      "text/plain": [
       "Plot with title “Histogram of rnorm(1e+05)”"
      ]
     },
     "metadata": {
      "image/png": {
       "height": 420,
       "width": 420
      }
     },
     "output_type": "display_data"
    }
   ],
   "source": [
    "# Funções dentro de funções\n",
    "hist(rnorm(100000))"
   ]
  },
  {
   "cell_type": "code",
   "execution_count": null,
   "id": "dded1047",
   "metadata": {},
   "outputs": [],
   "source": [
    "# Funções dentro de funções\n",
    "v1 <- c(1.5, 2.5, 4.5, 6.75)\n",
    "v2 <- rev(v1)\n",
    "\n",
    "v1\n",
    "v2\n",
    "\n",
    "mean(c(abs(v1), abs(v2)))"
   ]
  },
  {
   "cell_type": "code",
   "execution_count": null,
   "id": "6ee39047",
   "metadata": {},
   "outputs": [],
   "source": [
    "c(1, 10)"
   ]
  },
  {
   "cell_type": "code",
   "execution_count": null,
   "id": "e7301996",
   "metadata": {},
   "outputs": [],
   "source": [
    "# Criando funções\n",
    "elevar_ao_quadrado <- function (x) {\n",
    "    return (x ^ 2)\n",
    "}\n",
    "\n",
    "elevar_ao_quadrado(5)"
   ]
  },
  {
   "cell_type": "code",
   "execution_count": null,
   "id": "f39da173",
   "metadata": {},
   "outputs": [],
   "source": [
    "# Criando funções\n",
    "bhaskara <- function (a, b, c) {\n",
    "    delta <- b ^ 2 - 4 * a * c\n",
    "    \n",
    "    x1 <- (-b + sqrt(delta)) / (2 * a)\n",
    "    x2 <- (-b - sqrt(delta)) / (2 * a)\n",
    "    \n",
    "    return (c(x1, x2))\n",
    "}\n",
    "\n",
    "bhaskara(1, 1, -6)"
   ]
  },
  {
   "cell_type": "code",
   "execution_count": null,
   "id": "e1996419",
   "metadata": {},
   "outputs": [],
   "source": [
    "# Criando funções\n",
    "jogar_dado <- function () {\n",
    "    numero <- sample(c(1:6), size=1)\n",
    "    return (numero)\n",
    "}\n",
    "\n",
    "jogar_dado()"
   ]
  },
  {
   "cell_type": "code",
   "execution_count": null,
   "id": "cd53c670",
   "metadata": {
    "scrolled": false
   },
   "outputs": [],
   "source": [
    "# Função sem número de parâmetros definidos\n",
    "\n",
    "funcao_aleatoria <- function (...) {\n",
    "    df <- data.frame(cbind(...))\n",
    "    \n",
    "    return (df)\n",
    "}\n",
    "\n",
    "v1 <- c('x', 'y', 'z', 'n')\n",
    "v2 <- c(1, 2, 3, 4)\n",
    "v3 <- c(TRUE, TRUE, FALSE, FALSE)\n",
    "\n",
    "\n",
    "funcao_aleatoria(v1)\n",
    "funcao_aleatoria(v1, v2)\n",
    "funcao_aleatoria(v1, v2, v3)"
   ]
  },
  {
   "cell_type": "code",
   "execution_count": null,
   "id": "621a5b6c",
   "metadata": {},
   "outputs": [],
   "source": [
    "# Vamos comparar agora a perfomace de uma função built-in e uma função criada pelos desenvolvedores\n",
    "meu_sqrt <- function(numeros) {\n",
    "    resposta <- numeric(length(numeros))\n",
    "    \n",
    "    for (i in seq_along(numeros)) {\n",
    "        resposta[i] <- numeros[i] ^ (0.5)\n",
    "    }\n",
    "    \n",
    "    return (resposta)\n",
    "}"
   ]
  },
  {
   "cell_type": "code",
   "execution_count": null,
   "id": "94c573e3",
   "metadata": {},
   "outputs": [],
   "source": [
    "# Criando um vetor imenso\n",
    "x <- 1:1000000"
   ]
  },
  {
   "cell_type": "code",
   "execution_count": null,
   "id": "5abe61b1",
   "metadata": {},
   "outputs": [],
   "source": [
    "# Visualizando o tempo de execução da função criada\n",
    "system.time(r1 <- meu_sqrt(x))"
   ]
  },
  {
   "cell_type": "code",
   "execution_count": null,
   "id": "aca2546b",
   "metadata": {},
   "outputs": [],
   "source": [
    "# Visualizando o tempo de execução da função built-in\n",
    "system.time(r2 <- sqrt(x))"
   ]
  },
  {
   "cell_type": "markdown",
   "id": "ebf430ef",
   "metadata": {},
   "source": [
    "# Funções Apply"
   ]
  },
  {
   "cell_type": "code",
   "execution_count": null,
   "id": "82b07d96",
   "metadata": {},
   "outputs": [],
   "source": [
    "# Criando uma lista\n",
    "lst1 <- list(a=c(2:55), b=c(56:102))"
   ]
  },
  {
   "cell_type": "code",
   "execution_count": null,
   "id": "61c8fbf2",
   "metadata": {
    "scrolled": true
   },
   "outputs": [],
   "source": [
    "# Executando uma soma de todos os elementos de cada vetor da lista\n",
    "\n",
    "soma <- 0\n",
    "for (i in lst1$a) {\n",
    "    soma <- soma + i\n",
    "}\n",
    "\n",
    "soma <- 0\n",
    "for (i in lst1$b) {\n",
    "    soma <- soma + i\n",
    "}\n",
    "\n",
    "print(soma)"
   ]
  },
  {
   "cell_type": "code",
   "execution_count": null,
   "id": "e45e434b",
   "metadata": {},
   "outputs": [],
   "source": [
    "# Aplicando a função sapply para somar cada vetor\n",
    "sapply(lst1, sum)"
   ]
  },
  {
   "cell_type": "code",
   "execution_count": null,
   "id": "bedb5b45",
   "metadata": {},
   "outputs": [],
   "source": [
    "# Aplicando a função sapply para calcular a média de cada vetor\n",
    "sapply(lst1, mean)"
   ]
  },
  {
   "cell_type": "code",
   "execution_count": null,
   "id": "cffc926a",
   "metadata": {
    "scrolled": true
   },
   "outputs": [],
   "source": [
    "# Aplicando a função apply em matrizes\n",
    "m1 <- matrix(rnorm(25), nrow=5, ncol=5)\n",
    "\n",
    "m1\n",
    "\n",
    "apply(m1, 1, mean)\n",
    "apply(m1, 2, mean)"
   ]
  },
  {
   "cell_type": "code",
   "execution_count": null,
   "id": "dee69840",
   "metadata": {},
   "outputs": [],
   "source": [
    "# Criando uma função semelhante a função random.randint do python\n",
    "randint <- function(min, max, size=1) {\n",
    "    return (sample(min:max, size=size))\n",
    "}"
   ]
  },
  {
   "cell_type": "code",
   "execution_count": null,
   "id": "a5a6b965",
   "metadata": {},
   "outputs": [],
   "source": [
    "# Criando um array de notas aleatorio\n",
    "alunos <- c('Gabriel', 'Emanuel', 'Manu', 'Luiza', 'Yasmin', 'Sarah', 'Antônio')\n",
    "matematica <- randint(min=0, max=100, size=7)\n",
    "geografia <- randint(min=0, max=100, size=7)\n",
    "quimica <- randint(min=0, max=100, size=7)\n",
    "historia <- randint(min=0, max=100, size=7)\n",
    "\n",
    "notas <- data.frame(alunos, matematica, geografia, quimica, historia)\n",
    "\n",
    "notas"
   ]
  },
  {
   "cell_type": "code",
   "execution_count": null,
   "id": "e16c214b",
   "metadata": {},
   "outputs": [],
   "source": [
    "# Preenchendo todos os elementos da variável notas com NA\n",
    "notas$media <- NA"
   ]
  },
  {
   "cell_type": "code",
   "execution_count": null,
   "id": "09cc2e36",
   "metadata": {},
   "outputs": [],
   "source": [
    "notas"
   ]
  },
  {
   "cell_type": "code",
   "execution_count": null,
   "id": "6ec33c90",
   "metadata": {},
   "outputs": [],
   "source": [
    "# subset com as notas de cada aluno\n",
    "notas[, c(2, 3, 4, 5)]"
   ]
  },
  {
   "cell_type": "code",
   "execution_count": null,
   "id": "6c8ed139",
   "metadata": {},
   "outputs": [],
   "source": [
    "# Calculando a média geral de cada aluno\n",
    "notas$media <- apply(notas[, c(2, 3, 4, 5)], 1, mean)"
   ]
  },
  {
   "cell_type": "code",
   "execution_count": null,
   "id": "3ee06128",
   "metadata": {},
   "outputs": [],
   "source": [
    "notas"
   ]
  },
  {
   "cell_type": "code",
   "execution_count": null,
   "id": "2fd8fb6e",
   "metadata": {},
   "outputs": [],
   "source": [
    "# Arredondando as médias\n",
    "notas$media <- round(notas$media)"
   ]
  },
  {
   "cell_type": "code",
   "execution_count": null,
   "id": "e4edb060",
   "metadata": {},
   "outputs": [],
   "source": [
    "notas"
   ]
  },
  {
   "cell_type": "code",
   "execution_count": null,
   "id": "6ddc6137",
   "metadata": {},
   "outputs": [],
   "source": [
    "# Verificando os aprovados\n",
    "notas$aprovado <- notas$media >= 30"
   ]
  },
  {
   "cell_type": "code",
   "execution_count": null,
   "id": "d000524d",
   "metadata": {},
   "outputs": [],
   "source": [
    "notas"
   ]
  },
  {
   "cell_type": "code",
   "execution_count": null,
   "id": "c9e36608",
   "metadata": {},
   "outputs": [],
   "source": []
  }
 ],
 "metadata": {
  "kernelspec": {
   "display_name": "R",
   "language": "R",
   "name": "ir"
  },
  "language_info": {
   "codemirror_mode": "r",
   "file_extension": ".r",
   "mimetype": "text/x-r-source",
   "name": "R",
   "pygments_lexer": "r",
   "version": "4.2.3"
  }
 },
 "nbformat": 4,
 "nbformat_minor": 5
}
