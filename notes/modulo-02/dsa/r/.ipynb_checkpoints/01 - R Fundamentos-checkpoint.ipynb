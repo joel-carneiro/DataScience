{
 "cells": [
  {
   "cell_type": "markdown",
   "id": "7febddbf",
   "metadata": {},
   "source": [
    "# Programação Básica com a Linguagem R\n",
    "\n",
    "R é uma linguagem de programação multi-paradigma orientada a objetos, programação funcional, dinâmica, fracamente tipada, voltada à manipulação, análise e visualização de dados. Foi criado originalmente por Ross Ihaka e por Robert Gentleman no departamento de Estatística da Universidade de Auckland, Nova Zelândia."
   ]
  },
  {
   "cell_type": "markdown",
   "id": "b487c8b1",
   "metadata": {},
   "source": [
    "# 1 - Fundamentos de Programação"
   ]
  },
  {
   "cell_type": "markdown",
   "id": "536b8d7a",
   "metadata": {},
   "source": [
    "## 1.1 - Operadores Aritméticos"
   ]
  },
  {
   "cell_type": "code",
   "execution_count": 1,
   "id": "e6079815",
   "metadata": {},
   "outputs": [],
   "source": [
    "# Criando uma variável com valor 2\n",
    "x <- 10\n",
    "\n",
    "# Criando uma variável com valor 3\n",
    "y <- 5"
   ]
  },
  {
   "cell_type": "code",
   "execution_count": 2,
   "id": "cec8ec5b",
   "metadata": {},
   "outputs": [
    {
     "data": {
      "text/html": [
       "15"
      ],
      "text/latex": [
       "15"
      ],
      "text/markdown": [
       "15"
      ],
      "text/plain": [
       "[1] 15"
      ]
     },
     "metadata": {},
     "output_type": "display_data"
    },
    {
     "data": {
      "text/html": [
       "5"
      ],
      "text/latex": [
       "5"
      ],
      "text/markdown": [
       "5"
      ],
      "text/plain": [
       "[1] 5"
      ]
     },
     "metadata": {},
     "output_type": "display_data"
    },
    {
     "data": {
      "text/html": [
       "50"
      ],
      "text/latex": [
       "50"
      ],
      "text/markdown": [
       "50"
      ],
      "text/plain": [
       "[1] 50"
      ]
     },
     "metadata": {},
     "output_type": "display_data"
    },
    {
     "data": {
      "text/html": [
       "2"
      ],
      "text/latex": [
       "2"
      ],
      "text/markdown": [
       "2"
      ],
      "text/plain": [
       "[1] 2"
      ]
     },
     "metadata": {},
     "output_type": "display_data"
    },
    {
     "data": {
      "text/html": [
       "1e+05"
      ],
      "text/latex": [
       "1e+05"
      ],
      "text/markdown": [
       "1e+05"
      ],
      "text/plain": [
       "[1] 1e+05"
      ]
     },
     "metadata": {},
     "output_type": "display_data"
    },
    {
     "data": {
      "text/html": [
       "0"
      ],
      "text/latex": [
       "0"
      ],
      "text/markdown": [
       "0"
      ],
      "text/plain": [
       "[1] 0"
      ]
     },
     "metadata": {},
     "output_type": "display_data"
    }
   ],
   "source": [
    "# Executando todas as operações\n",
    "x + y\n",
    "x - y\n",
    "x * y\n",
    "x / y\n",
    "x ^ y\n",
    "x %% y"
   ]
  },
  {
   "cell_type": "markdown",
   "id": "571e5788",
   "metadata": {},
   "source": [
    "## 1.2 - Variáveis"
   ]
  },
  {
   "cell_type": "code",
   "execution_count": 3,
   "id": "c85e9a52",
   "metadata": {},
   "outputs": [
    {
     "data": {
      "text/html": [
       "7"
      ],
      "text/latex": [
       "7"
      ],
      "text/markdown": [
       "7"
      ],
      "text/plain": [
       "[1] 7"
      ]
     },
     "metadata": {},
     "output_type": "display_data"
    },
    {
     "data": {
      "text/html": [
       "7"
      ],
      "text/latex": [
       "7"
      ],
      "text/markdown": [
       "7"
      ],
      "text/plain": [
       "[1] 7"
      ]
     },
     "metadata": {},
     "output_type": "display_data"
    },
    {
     "data": {
      "text/html": [
       "7"
      ],
      "text/latex": [
       "7"
      ],
      "text/markdown": [
       "7"
      ],
      "text/plain": [
       "[1] 7"
      ]
     },
     "metadata": {},
     "output_type": "display_data"
    }
   ],
   "source": [
    "# Instânciando varias variáveis\n",
    "x <- y <- z <- 7\n",
    "\n",
    "x; y; z"
   ]
  },
  {
   "cell_type": "code",
   "execution_count": 4,
   "id": "0267cea9",
   "metadata": {},
   "outputs": [
    {
     "data": {
      "text/html": [
       "<style>\n",
       ".list-inline {list-style: none; margin:0; padding: 0}\n",
       ".list-inline>li {display: inline-block}\n",
       ".list-inline>li:not(:last-child)::after {content: \"\\00b7\"; padding: 0 .5ex}\n",
       "</style>\n",
       "<ol class=list-inline><li>'x'</li><li>'y'</li><li>'z'</li></ol>\n"
      ],
      "text/latex": [
       "\\begin{enumerate*}\n",
       "\\item 'x'\n",
       "\\item 'y'\n",
       "\\item 'z'\n",
       "\\end{enumerate*}\n"
      ],
      "text/markdown": [
       "1. 'x'\n",
       "2. 'y'\n",
       "3. 'z'\n",
       "\n",
       "\n"
      ],
      "text/plain": [
       "[1] \"x\" \"y\" \"z\""
      ]
     },
     "metadata": {},
     "output_type": "display_data"
    },
    {
     "data": {
      "text/html": [
       "<style>\n",
       ".list-inline {list-style: none; margin:0; padding: 0}\n",
       ".list-inline>li {display: inline-block}\n",
       ".list-inline>li:not(:last-child)::after {content: \"\\00b7\"; padding: 0 .5ex}\n",
       "</style>\n",
       "<ol class=list-inline><li>'y'</li><li>'z'</li></ol>\n"
      ],
      "text/latex": [
       "\\begin{enumerate*}\n",
       "\\item 'y'\n",
       "\\item 'z'\n",
       "\\end{enumerate*}\n"
      ],
      "text/markdown": [
       "1. 'y'\n",
       "2. 'z'\n",
       "\n",
       "\n"
      ],
      "text/plain": [
       "[1] \"y\" \"z\""
      ]
     },
     "metadata": {},
     "output_type": "display_data"
    }
   ],
   "source": [
    "# Visualizando todas as variáveis em memória\n",
    "ls()\n",
    "\n",
    "# Removendo a variável chamada X\n",
    "rm(x)\n",
    "\n",
    "# Visualizando novamente\n",
    "ls()"
   ]
  },
  {
   "cell_type": "code",
   "execution_count": 5,
   "id": "95f48c57",
   "metadata": {},
   "outputs": [
    {
     "data": {
      "text/html": [],
      "text/latex": [],
      "text/markdown": [],
      "text/plain": [
       "character(0)"
      ]
     },
     "metadata": {},
     "output_type": "display_data"
    }
   ],
   "source": [
    "# Excluindo todas as variáveis da memória\n",
    "rm(list=ls())\n",
    "\n",
    "ls()"
   ]
  },
  {
   "cell_type": "markdown",
   "id": "19e405de",
   "metadata": {},
   "source": [
    "## 1.3 - Funções Matemáticas"
   ]
  },
  {
   "cell_type": "code",
   "execution_count": 21,
   "id": "76298b16",
   "metadata": {},
   "outputs": [
    {
     "data": {
      "text/html": [
       "3.16227766016838"
      ],
      "text/latex": [
       "3.16227766016838"
      ],
      "text/markdown": [
       "3.16227766016838"
      ],
      "text/plain": [
       "[1] 3.162278"
      ]
     },
     "metadata": {},
     "output_type": "display_data"
    },
    {
     "data": {
      "text/html": [
       "3628800"
      ],
      "text/latex": [
       "3628800"
      ],
      "text/markdown": [
       "3628800"
      ],
      "text/plain": [
       "[1] 3628800"
      ]
     },
     "metadata": {},
     "output_type": "display_data"
    },
    {
     "data": {
      "text/html": [
       "3.14159"
      ],
      "text/latex": [
       "3.14159"
      ],
      "text/markdown": [
       "3.14159"
      ],
      "text/plain": [
       "[1] 3.14159"
      ]
     },
     "metadata": {},
     "output_type": "display_data"
    },
    {
     "data": {
      "text/html": [
       "1"
      ],
      "text/latex": [
       "1"
      ],
      "text/markdown": [
       "1"
      ],
      "text/plain": [
       "[1] 1"
      ]
     },
     "metadata": {},
     "output_type": "display_data"
    },
    {
     "data": {
      "text/html": [
       "-3.14"
      ],
      "text/latex": [
       "-3.14"
      ],
      "text/markdown": [
       "-3.14"
      ],
      "text/plain": [
       "[1] -3.14"
      ]
     },
     "metadata": {},
     "output_type": "display_data"
    },
    {
     "data": {
      "text/html": [
       "-3.1"
      ],
      "text/latex": [
       "-3.1"
      ],
      "text/markdown": [
       "-3.1"
      ],
      "text/plain": [
       "[1] -3.1"
      ]
     },
     "metadata": {},
     "output_type": "display_data"
    },
    {
     "data": {
      "text/html": [
       "-4"
      ],
      "text/latex": [
       "-4"
      ],
      "text/markdown": [
       "-4"
      ],
      "text/plain": [
       "[1] -4"
      ]
     },
     "metadata": {},
     "output_type": "display_data"
    },
    {
     "data": {
      "text/html": [
       "-3"
      ],
      "text/latex": [
       "-3"
      ],
      "text/markdown": [
       "-3"
      ],
      "text/plain": [
       "[1] -3"
      ]
     },
     "metadata": {},
     "output_type": "display_data"
    }
   ],
   "source": [
    "x <- 10\n",
    "z <- -3.14159\n",
    "\n",
    "# Raiz quadrada\n",
    "sqrt(x)\n",
    "\n",
    "# Fatorial\n",
    "factorial(x)\n",
    "\n",
    "# Valor absoluto (módulo)\n",
    "abs(z)\n",
    "\n",
    "# Logarítmo\n",
    "log(x, base=x)\n",
    "\n",
    "# Arredondar número\n",
    "round(z, digits=2)\n",
    "\n",
    "# Números significantes\n",
    "signif(z, digits=2)\n",
    "\n",
    "# Arredondar para cima\n",
    "floor(z)\n",
    "\n",
    "# Arredondar para baixo\n",
    "ceiling(z)"
   ]
  },
  {
   "cell_type": "markdown",
   "id": "acb0d85d",
   "metadata": {},
   "source": [
    "## 1.4 - Tipos de Dados"
   ]
  },
  {
   "cell_type": "code",
   "execution_count": 25,
   "id": "8dd44ea7",
   "metadata": {},
   "outputs": [
    {
     "data": {
      "text/html": [
       "'double'"
      ],
      "text/latex": [
       "'double'"
      ],
      "text/markdown": [
       "'double'"
      ],
      "text/plain": [
       "[1] \"double\""
      ]
     },
     "metadata": {},
     "output_type": "display_data"
    }
   ],
   "source": [
    "x <- 10\n",
    "\n",
    "typeof(x)"
   ]
  },
  {
   "cell_type": "code",
   "execution_count": 26,
   "id": "4bf306b4",
   "metadata": {},
   "outputs": [
    {
     "data": {
      "text/html": [
       "'integer'"
      ],
      "text/latex": [
       "'integer'"
      ],
      "text/markdown": [
       "'integer'"
      ],
      "text/plain": [
       "[1] \"integer\""
      ]
     },
     "metadata": {},
     "output_type": "display_data"
    }
   ],
   "source": [
    "y <- 10L\n",
    "\n",
    "typeof(y)"
   ]
  },
  {
   "cell_type": "code",
   "execution_count": 28,
   "id": "2ff450c1",
   "metadata": {},
   "outputs": [
    {
     "data": {
      "text/html": [
       "'complex'"
      ],
      "text/latex": [
       "'complex'"
      ],
      "text/markdown": [
       "'complex'"
      ],
      "text/plain": [
       "[1] \"complex\""
      ]
     },
     "metadata": {},
     "output_type": "display_data"
    }
   ],
   "source": [
    "c1 <- 3 + 3i\n",
    "\n",
    "typeof(c1)"
   ]
  },
  {
   "cell_type": "code",
   "execution_count": 30,
   "id": "4baca59c",
   "metadata": {},
   "outputs": [
    {
     "data": {
      "text/html": [
       "'character'"
      ],
      "text/latex": [
       "'character'"
      ],
      "text/markdown": [
       "'character'"
      ],
      "text/plain": [
       "[1] \"character\""
      ]
     },
     "metadata": {},
     "output_type": "display_data"
    }
   ],
   "source": [
    "f <- \"Fermat\"\n",
    "\n",
    "typeof(f)"
   ]
  },
  {
   "cell_type": "code",
   "execution_count": 31,
   "id": "1a974c8c",
   "metadata": {},
   "outputs": [
    {
     "data": {
      "text/html": [
       "'logical'"
      ],
      "text/latex": [
       "'logical'"
      ],
      "text/markdown": [
       "'logical'"
      ],
      "text/plain": [
       "[1] \"logical\""
      ]
     },
     "metadata": {},
     "output_type": "display_data"
    }
   ],
   "source": [
    "b <- TRUE\n",
    "\n",
    "typeof(b)"
   ]
  },
  {
   "cell_type": "markdown",
   "id": "53c769f0",
   "metadata": {},
   "source": [
    "## 1.5 - Strings"
   ]
  },
  {
   "cell_type": "code",
   "execution_count": 39,
   "id": "7e5d31bb",
   "metadata": {},
   "outputs": [
    {
     "name": "stdout",
     "output_type": "stream",
     "text": [
      "What is your name? Joel\n"
     ]
    },
    {
     "data": {
      "text/html": [
       "'Welcome, Joel'"
      ],
      "text/latex": [
       "'Welcome, Joel'"
      ],
      "text/markdown": [
       "'Welcome, Joel'"
      ],
      "text/plain": [
       "[1] \"Welcome, Joel\""
      ]
     },
     "metadata": {},
     "output_type": "display_data"
    }
   ],
   "source": [
    "name <- readline(prompt=\"What is your name? \")\n",
    "welcome = \"Welcome,\"\n",
    "\n",
    "paste(welcome, name)"
   ]
  },
  {
   "cell_type": "code",
   "execution_count": null,
   "id": "25d37a6c",
   "metadata": {},
   "outputs": [],
   "source": []
  }
 ],
 "metadata": {
  "kernelspec": {
   "display_name": "R",
   "language": "R",
   "name": "ir"
  },
  "language_info": {
   "codemirror_mode": "r",
   "file_extension": ".r",
   "mimetype": "text/x-r-source",
   "name": "R",
   "pygments_lexer": "r",
   "version": "4.2.3"
  }
 },
 "nbformat": 4,
 "nbformat_minor": 5
}
