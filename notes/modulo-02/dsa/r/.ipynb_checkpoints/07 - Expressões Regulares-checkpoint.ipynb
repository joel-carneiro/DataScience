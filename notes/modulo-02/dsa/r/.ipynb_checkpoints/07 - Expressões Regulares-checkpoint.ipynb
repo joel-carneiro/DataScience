{
 "cells": [
  {
   "cell_type": "code",
   "execution_count": 4,
   "id": "c17a4aa8",
   "metadata": {},
   "outputs": [
    {
     "data": {
      "text/html": [
       "<style>\n",
       ".list-inline {list-style: none; margin:0; padding: 0}\n",
       ".list-inline>li {display: inline-block}\n",
       ".list-inline>li:not(:last-child)::after {content: \"\\00b7\"; padding: 0 .5ex}\n",
       "</style>\n",
       "<ol class=list-inline><li>'Expressões regulares'</li><li>'permitem a busca por padrões'</li><li>'como por exemplo'</li><li>'achar esse número: 1950'</li></ol>\n"
      ],
      "text/latex": [
       "\\begin{enumerate*}\n",
       "\\item 'Expressões regulares'\n",
       "\\item 'permitem a busca por padrões'\n",
       "\\item 'como por exemplo'\n",
       "\\item 'achar esse número: 1950'\n",
       "\\end{enumerate*}\n"
      ],
      "text/markdown": [
       "1. 'Expressões regulares'\n",
       "2. 'permitem a busca por padrões'\n",
       "3. 'como por exemplo'\n",
       "4. 'achar esse número: 1950'\n",
       "\n",
       "\n"
      ],
      "text/plain": [
       "[1] \"Expressões regulares\"         \"permitem a busca por padrões\"\n",
       "[3] \"como por exemplo\"             \"achar esse número: 1950\"     "
      ]
     },
     "metadata": {},
     "output_type": "display_data"
    }
   ],
   "source": [
    "string <- c('Expressões regulares',\n",
    "            'permitem a busca por padrões',\n",
    "            'como por exemplo', 'achar esse número:'.\n",
    "            '1950')\n",
    "\n",
    "string"
   ]
  },
  {
   "cell_type": "code",
   "execution_count": 5,
   "id": "2ce2a093",
   "metadata": {
    "scrolled": true
   },
   "outputs": [
    {
     "data": {
      "text/html": [
       "4"
      ],
      "text/latex": [
       "4"
      ],
      "text/markdown": [
       "4"
      ],
      "text/plain": [
       "[1] 4"
      ]
     },
     "metadata": {},
     "output_type": "display_data"
    }
   ],
   "source": [
    "length(string)"
   ]
  },
  {
   "cell_type": "code",
   "execution_count": null,
   "id": "43b25126",
   "metadata": {},
   "outputs": [],
   "source": []
  }
 ],
 "metadata": {
  "kernelspec": {
   "display_name": "R",
   "language": "R",
   "name": "ir"
  },
  "language_info": {
   "codemirror_mode": "r",
   "file_extension": ".r",
   "mimetype": "text/x-r-source",
   "name": "R",
   "pygments_lexer": "r",
   "version": "4.2.3"
  }
 },
 "nbformat": 4,
 "nbformat_minor": 5
}
