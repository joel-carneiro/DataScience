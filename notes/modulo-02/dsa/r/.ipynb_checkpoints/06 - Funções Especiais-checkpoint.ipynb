{
 "cells": [
  {
   "cell_type": "code",
   "execution_count": 1,
   "id": "ccfdda1c",
   "metadata": {},
   "outputs": [],
   "source": [
    "?unlist"
   ]
  },
  {
   "cell_type": "code",
   "execution_count": 4,
   "id": "0b1a680c",
   "metadata": {},
   "outputs": [
    {
     "data": {
      "text/html": [
       "<style>\n",
       ".list-inline {list-style: none; margin:0; padding: 0}\n",
       ".list-inline>li {display: inline-block}\n",
       ".list-inline>li:not(:last-child)::after {content: \"\\00b7\"; padding: 0 .5ex}\n",
       "</style>\n",
       "<ol class=list-inline><li>'A'</li><li>'1'</li><li>'TRUE'</li><li>'2.235'</li></ol>\n"
      ],
      "text/latex": [
       "\\begin{enumerate*}\n",
       "\\item 'A'\n",
       "\\item '1'\n",
       "\\item 'TRUE'\n",
       "\\item '2.235'\n",
       "\\end{enumerate*}\n"
      ],
      "text/markdown": [
       "1. 'A'\n",
       "2. '1'\n",
       "3. 'TRUE'\n",
       "4. '2.235'\n",
       "\n",
       "\n"
      ],
      "text/plain": [
       "[1] \"A\"     \"1\"     \"TRUE\"  \"2.235\""
      ]
     },
     "metadata": {},
     "output_type": "display_data"
    },
    {
     "data": {
      "text/html": [
       "'character'"
      ],
      "text/latex": [
       "'character'"
      ],
      "text/markdown": [
       "'character'"
      ],
      "text/plain": [
       "[1] \"character\""
      ]
     },
     "metadata": {},
     "output_type": "display_data"
    }
   ],
   "source": [
    "lista1 <- list('A', 1, TRUE, 2.235)\n",
    "\n",
    "unlist(lista1)\n",
    "\n",
    "class(unlist(lista1))"
   ]
  },
  {
   "cell_type": "code",
   "execution_count": 6,
   "id": "13b85072",
   "metadata": {},
   "outputs": [
    {
     "data": {
      "text/html": [
       "<style>\n",
       ".list-inline {list-style: none; margin:0; padding: 0}\n",
       ".list-inline>li {display: inline-block}\n",
       ".list-inline>li:not(:last-child)::after {content: \"\\00b7\"; padding: 0 .5ex}\n",
       "</style>\n",
       "<ol class=list-inline><li>1</li><li>2</li><li>3</li><li>4</li><li>5</li><li>6</li><li>7</li><li>8</li><li>9</li><li>10</li><li>25</li><li>26</li><li>27</li><li>28</li><li>29</li><li>30</li><li>31</li><li>32</li><li>33</li><li>34</li><li>35</li><li>7</li><li>8</li><li>9</li><li>10</li><li>11</li><li>12</li><li>13</li></ol>\n"
      ],
      "text/latex": [
       "\\begin{enumerate*}\n",
       "\\item 1\n",
       "\\item 2\n",
       "\\item 3\n",
       "\\item 4\n",
       "\\item 5\n",
       "\\item 6\n",
       "\\item 7\n",
       "\\item 8\n",
       "\\item 9\n",
       "\\item 10\n",
       "\\item 25\n",
       "\\item 26\n",
       "\\item 27\n",
       "\\item 28\n",
       "\\item 29\n",
       "\\item 30\n",
       "\\item 31\n",
       "\\item 32\n",
       "\\item 33\n",
       "\\item 34\n",
       "\\item 35\n",
       "\\item 7\n",
       "\\item 8\n",
       "\\item 9\n",
       "\\item 10\n",
       "\\item 11\n",
       "\\item 12\n",
       "\\item 13\n",
       "\\end{enumerate*}\n"
      ],
      "text/markdown": [
       "1. 1\n",
       "2. 2\n",
       "3. 3\n",
       "4. 4\n",
       "5. 5\n",
       "6. 6\n",
       "7. 7\n",
       "8. 8\n",
       "9. 9\n",
       "10. 10\n",
       "11. 25\n",
       "12. 26\n",
       "13. 27\n",
       "14. 28\n",
       "15. 29\n",
       "16. 30\n",
       "17. 31\n",
       "18. 32\n",
       "19. 33\n",
       "20. 34\n",
       "21. 35\n",
       "22. 7\n",
       "23. 8\n",
       "24. 9\n",
       "25. 10\n",
       "26. 11\n",
       "27. 12\n",
       "28. 13\n",
       "\n",
       "\n"
      ],
      "text/plain": [
       " [1]  1  2  3  4  5  6  7  8  9 10 25 26 27 28 29 30 31 32 33 34 35  7  8  9 10\n",
       "[26] 11 12 13"
      ]
     },
     "metadata": {},
     "output_type": "display_data"
    }
   ],
   "source": [
    "lista2 <- list(c(1:10), c(25:35), c(7:13))\n",
    "\n",
    "unlist(lista2)"
   ]
  },
  {
   "cell_type": "code",
   "execution_count": 8,
   "id": "02a62c7e",
   "metadata": {
    "scrolled": true
   },
   "outputs": [
    {
     "data": {
      "text/html": [
       "16.25"
      ],
      "text/latex": [
       "16.25"
      ],
      "text/markdown": [
       "16.25"
      ],
      "text/plain": [
       "[1] 16.25"
      ]
     },
     "metadata": {},
     "output_type": "display_data"
    },
    {
     "data": {
      "text/html": [
       "16"
      ],
      "text/latex": [
       "16"
      ],
      "text/markdown": [
       "16"
      ],
      "text/plain": [
       "[1] 16"
      ]
     },
     "metadata": {},
     "output_type": "display_data"
    }
   ],
   "source": [
    "mean(unlist(lista2))\n",
    "\n",
    "round(mean(unlist(lista2)))"
   ]
  },
  {
   "cell_type": "code",
   "execution_count": 19,
   "id": "4a895981",
   "metadata": {},
   "outputs": [],
   "source": [
    "data <- list()\n",
    "\n",
    "N <- 100\n",
    "\n",
    "for (n in 1:N) {\n",
    "    data[[n]] <- data.frame(index=n, char=sample(letters, 1), z=rnorm(1))\n",
    "}"
   ]
  },
  {
   "cell_type": "code",
   "execution_count": 21,
   "id": "ff295b30",
   "metadata": {},
   "outputs": [
    {
     "data": {
      "text/html": [
       "<ol>\n",
       "\t<li><table class=\"dataframe\">\n",
       "<caption>A data.frame: 1 × 3</caption>\n",
       "<thead>\n",
       "\t<tr><th scope=col>index</th><th scope=col>char</th><th scope=col>z</th></tr>\n",
       "\t<tr><th scope=col>&lt;int&gt;</th><th scope=col>&lt;chr&gt;</th><th scope=col>&lt;dbl&gt;</th></tr>\n",
       "</thead>\n",
       "<tbody>\n",
       "\t<tr><td>1</td><td>a</td><td>-0.1386893</td></tr>\n",
       "</tbody>\n",
       "</table>\n",
       "</li>\n",
       "\t<li><table class=\"dataframe\">\n",
       "<caption>A data.frame: 1 × 3</caption>\n",
       "<thead>\n",
       "\t<tr><th scope=col>index</th><th scope=col>char</th><th scope=col>z</th></tr>\n",
       "\t<tr><th scope=col>&lt;int&gt;</th><th scope=col>&lt;chr&gt;</th><th scope=col>&lt;dbl&gt;</th></tr>\n",
       "</thead>\n",
       "<tbody>\n",
       "\t<tr><td>2</td><td>a</td><td>0.06235215</td></tr>\n",
       "</tbody>\n",
       "</table>\n",
       "</li>\n",
       "\t<li><table class=\"dataframe\">\n",
       "<caption>A data.frame: 1 × 3</caption>\n",
       "<thead>\n",
       "\t<tr><th scope=col>index</th><th scope=col>char</th><th scope=col>z</th></tr>\n",
       "\t<tr><th scope=col>&lt;int&gt;</th><th scope=col>&lt;chr&gt;</th><th scope=col>&lt;dbl&gt;</th></tr>\n",
       "</thead>\n",
       "<tbody>\n",
       "\t<tr><td>3</td><td>r</td><td>-0.7533553</td></tr>\n",
       "</tbody>\n",
       "</table>\n",
       "</li>\n",
       "\t<li><table class=\"dataframe\">\n",
       "<caption>A data.frame: 1 × 3</caption>\n",
       "<thead>\n",
       "\t<tr><th scope=col>index</th><th scope=col>char</th><th scope=col>z</th></tr>\n",
       "\t<tr><th scope=col>&lt;int&gt;</th><th scope=col>&lt;chr&gt;</th><th scope=col>&lt;dbl&gt;</th></tr>\n",
       "</thead>\n",
       "<tbody>\n",
       "\t<tr><td>4</td><td>k</td><td>0.5287916</td></tr>\n",
       "</tbody>\n",
       "</table>\n",
       "</li>\n",
       "\t<li><table class=\"dataframe\">\n",
       "<caption>A data.frame: 1 × 3</caption>\n",
       "<thead>\n",
       "\t<tr><th scope=col>index</th><th scope=col>char</th><th scope=col>z</th></tr>\n",
       "\t<tr><th scope=col>&lt;int&gt;</th><th scope=col>&lt;chr&gt;</th><th scope=col>&lt;dbl&gt;</th></tr>\n",
       "</thead>\n",
       "<tbody>\n",
       "\t<tr><td>5</td><td>r</td><td>-0.4916627</td></tr>\n",
       "</tbody>\n",
       "</table>\n",
       "</li>\n",
       "\t<li><table class=\"dataframe\">\n",
       "<caption>A data.frame: 1 × 3</caption>\n",
       "<thead>\n",
       "\t<tr><th scope=col>index</th><th scope=col>char</th><th scope=col>z</th></tr>\n",
       "\t<tr><th scope=col>&lt;int&gt;</th><th scope=col>&lt;chr&gt;</th><th scope=col>&lt;dbl&gt;</th></tr>\n",
       "</thead>\n",
       "<tbody>\n",
       "\t<tr><td>6</td><td>c</td><td>0.1722203</td></tr>\n",
       "</tbody>\n",
       "</table>\n",
       "</li>\n",
       "</ol>\n"
      ],
      "text/latex": [
       "\\begin{enumerate}\n",
       "\\item A data.frame: 1 × 3\n",
       "\\begin{tabular}{lll}\n",
       " index & char & z\\\\\n",
       " <int> & <chr> & <dbl>\\\\\n",
       "\\hline\n",
       "\t 1 & a & -0.1386893\\\\\n",
       "\\end{tabular}\n",
       "\n",
       "\\item A data.frame: 1 × 3\n",
       "\\begin{tabular}{lll}\n",
       " index & char & z\\\\\n",
       " <int> & <chr> & <dbl>\\\\\n",
       "\\hline\n",
       "\t 2 & a & 0.06235215\\\\\n",
       "\\end{tabular}\n",
       "\n",
       "\\item A data.frame: 1 × 3\n",
       "\\begin{tabular}{lll}\n",
       " index & char & z\\\\\n",
       " <int> & <chr> & <dbl>\\\\\n",
       "\\hline\n",
       "\t 3 & r & -0.7533553\\\\\n",
       "\\end{tabular}\n",
       "\n",
       "\\item A data.frame: 1 × 3\n",
       "\\begin{tabular}{lll}\n",
       " index & char & z\\\\\n",
       " <int> & <chr> & <dbl>\\\\\n",
       "\\hline\n",
       "\t 4 & k & 0.5287916\\\\\n",
       "\\end{tabular}\n",
       "\n",
       "\\item A data.frame: 1 × 3\n",
       "\\begin{tabular}{lll}\n",
       " index & char & z\\\\\n",
       " <int> & <chr> & <dbl>\\\\\n",
       "\\hline\n",
       "\t 5 & r & -0.4916627\\\\\n",
       "\\end{tabular}\n",
       "\n",
       "\\item A data.frame: 1 × 3\n",
       "\\begin{tabular}{lll}\n",
       " index & char & z\\\\\n",
       " <int> & <chr> & <dbl>\\\\\n",
       "\\hline\n",
       "\t 6 & c & 0.1722203\\\\\n",
       "\\end{tabular}\n",
       "\n",
       "\\end{enumerate}\n"
      ],
      "text/markdown": [
       "1. \n",
       "A data.frame: 1 × 3\n",
       "\n",
       "| index &lt;int&gt; | char &lt;chr&gt; | z &lt;dbl&gt; |\n",
       "|---|---|---|\n",
       "| 1 | a | -0.1386893 |\n",
       "\n",
       "\n",
       "2. \n",
       "A data.frame: 1 × 3\n",
       "\n",
       "| index &lt;int&gt; | char &lt;chr&gt; | z &lt;dbl&gt; |\n",
       "|---|---|---|\n",
       "| 2 | a | 0.06235215 |\n",
       "\n",
       "\n",
       "3. \n",
       "A data.frame: 1 × 3\n",
       "\n",
       "| index &lt;int&gt; | char &lt;chr&gt; | z &lt;dbl&gt; |\n",
       "|---|---|---|\n",
       "| 3 | r | -0.7533553 |\n",
       "\n",
       "\n",
       "4. \n",
       "A data.frame: 1 × 3\n",
       "\n",
       "| index &lt;int&gt; | char &lt;chr&gt; | z &lt;dbl&gt; |\n",
       "|---|---|---|\n",
       "| 4 | k | 0.5287916 |\n",
       "\n",
       "\n",
       "5. \n",
       "A data.frame: 1 × 3\n",
       "\n",
       "| index &lt;int&gt; | char &lt;chr&gt; | z &lt;dbl&gt; |\n",
       "|---|---|---|\n",
       "| 5 | r | -0.4916627 |\n",
       "\n",
       "\n",
       "6. \n",
       "A data.frame: 1 × 3\n",
       "\n",
       "| index &lt;int&gt; | char &lt;chr&gt; | z &lt;dbl&gt; |\n",
       "|---|---|---|\n",
       "| 6 | c | 0.1722203 |\n",
       "\n",
       "\n",
       "\n",
       "\n"
      ],
      "text/plain": [
       "[[1]]\n",
       "  index char          z\n",
       "1     1    a -0.1386893\n",
       "\n",
       "[[2]]\n",
       "  index char          z\n",
       "1     2    a 0.06235215\n",
       "\n",
       "[[3]]\n",
       "  index char          z\n",
       "1     3    r -0.7533553\n",
       "\n",
       "[[4]]\n",
       "  index char         z\n",
       "1     4    k 0.5287916\n",
       "\n",
       "[[5]]\n",
       "  index char          z\n",
       "1     5    r -0.4916627\n",
       "\n",
       "[[6]]\n",
       "  index char         z\n",
       "1     6    c 0.1722203\n"
      ]
     },
     "metadata": {},
     "output_type": "display_data"
    }
   ],
   "source": [
    "head(data)"
   ]
  },
  {
   "cell_type": "code",
   "execution_count": 22,
   "id": "9a7bbf8d",
   "metadata": {},
   "outputs": [
    {
     "data": {
      "text/html": [
       "<table class=\"dataframe\">\n",
       "<caption>A data.frame: 100 × 3</caption>\n",
       "<thead>\n",
       "\t<tr><th scope=col>index</th><th scope=col>char</th><th scope=col>z</th></tr>\n",
       "\t<tr><th scope=col>&lt;int&gt;</th><th scope=col>&lt;chr&gt;</th><th scope=col>&lt;dbl&gt;</th></tr>\n",
       "</thead>\n",
       "<tbody>\n",
       "\t<tr><td> 1</td><td>a</td><td>-0.138689297</td></tr>\n",
       "\t<tr><td> 2</td><td>a</td><td> 0.062352149</td></tr>\n",
       "\t<tr><td> 3</td><td>r</td><td>-0.753355317</td></tr>\n",
       "\t<tr><td> 4</td><td>k</td><td> 0.528791575</td></tr>\n",
       "\t<tr><td> 5</td><td>r</td><td>-0.491662659</td></tr>\n",
       "\t<tr><td> 6</td><td>c</td><td> 0.172220343</td></tr>\n",
       "\t<tr><td> 7</td><td>p</td><td>-0.175170384</td></tr>\n",
       "\t<tr><td> 8</td><td>e</td><td>-0.533903677</td></tr>\n",
       "\t<tr><td> 9</td><td>c</td><td> 0.066771378</td></tr>\n",
       "\t<tr><td>10</td><td>v</td><td> 0.837966581</td></tr>\n",
       "\t<tr><td>11</td><td>i</td><td>-0.606957563</td></tr>\n",
       "\t<tr><td>12</td><td>n</td><td>-0.395968532</td></tr>\n",
       "\t<tr><td>13</td><td>v</td><td>-0.550493297</td></tr>\n",
       "\t<tr><td>14</td><td>e</td><td> 0.933173504</td></tr>\n",
       "\t<tr><td>15</td><td>x</td><td> 1.285403190</td></tr>\n",
       "\t<tr><td>16</td><td>x</td><td> 0.427909276</td></tr>\n",
       "\t<tr><td>17</td><td>c</td><td>-1.354382624</td></tr>\n",
       "\t<tr><td>18</td><td>x</td><td> 1.677868513</td></tr>\n",
       "\t<tr><td>19</td><td>k</td><td>-0.230504153</td></tr>\n",
       "\t<tr><td>20</td><td>a</td><td>-1.385573638</td></tr>\n",
       "\t<tr><td>21</td><td>s</td><td>-1.064042050</td></tr>\n",
       "\t<tr><td>22</td><td>n</td><td> 0.005865233</td></tr>\n",
       "\t<tr><td>23</td><td>q</td><td>-0.122089397</td></tr>\n",
       "\t<tr><td>24</td><td>d</td><td> 0.157437000</td></tr>\n",
       "\t<tr><td>25</td><td>c</td><td>-2.199691201</td></tr>\n",
       "\t<tr><td>26</td><td>r</td><td>-0.475521135</td></tr>\n",
       "\t<tr><td>27</td><td>a</td><td> 0.677298539</td></tr>\n",
       "\t<tr><td>28</td><td>j</td><td> 0.128318773</td></tr>\n",
       "\t<tr><td>29</td><td>r</td><td> 0.037305272</td></tr>\n",
       "\t<tr><td>30</td><td>p</td><td>-1.094984323</td></tr>\n",
       "\t<tr><td>⋮</td><td>⋮</td><td>⋮</td></tr>\n",
       "\t<tr><td> 71</td><td>d</td><td> 0.41469967</td></tr>\n",
       "\t<tr><td> 72</td><td>s</td><td> 0.57401648</td></tr>\n",
       "\t<tr><td> 73</td><td>q</td><td> 0.02281056</td></tr>\n",
       "\t<tr><td> 74</td><td>i</td><td>-1.16071022</td></tr>\n",
       "\t<tr><td> 75</td><td>c</td><td> 0.69586165</td></tr>\n",
       "\t<tr><td> 76</td><td>t</td><td> 1.06704602</td></tr>\n",
       "\t<tr><td> 77</td><td>j</td><td> 0.22534455</td></tr>\n",
       "\t<tr><td> 78</td><td>k</td><td> 1.35789733</td></tr>\n",
       "\t<tr><td> 79</td><td>e</td><td> 0.10515615</td></tr>\n",
       "\t<tr><td> 80</td><td>k</td><td> 0.02005279</td></tr>\n",
       "\t<tr><td> 81</td><td>n</td><td>-1.43172103</td></tr>\n",
       "\t<tr><td> 82</td><td>a</td><td> 0.69768001</td></tr>\n",
       "\t<tr><td> 83</td><td>d</td><td>-1.18751216</td></tr>\n",
       "\t<tr><td> 84</td><td>d</td><td> 0.41590501</td></tr>\n",
       "\t<tr><td> 85</td><td>j</td><td>-0.36522390</td></tr>\n",
       "\t<tr><td> 86</td><td>h</td><td> 0.10212831</td></tr>\n",
       "\t<tr><td> 87</td><td>n</td><td>-1.09859578</td></tr>\n",
       "\t<tr><td> 88</td><td>o</td><td>-1.28204694</td></tr>\n",
       "\t<tr><td> 89</td><td>m</td><td> 1.20875874</td></tr>\n",
       "\t<tr><td> 90</td><td>j</td><td> 0.64065047</td></tr>\n",
       "\t<tr><td> 91</td><td>u</td><td>-0.64522473</td></tr>\n",
       "\t<tr><td> 92</td><td>h</td><td>-1.15237130</td></tr>\n",
       "\t<tr><td> 93</td><td>e</td><td>-1.91986201</td></tr>\n",
       "\t<tr><td> 94</td><td>t</td><td>-0.19385007</td></tr>\n",
       "\t<tr><td> 95</td><td>y</td><td> 0.51346847</td></tr>\n",
       "\t<tr><td> 96</td><td>n</td><td> 0.27500056</td></tr>\n",
       "\t<tr><td> 97</td><td>e</td><td> 0.33011838</td></tr>\n",
       "\t<tr><td> 98</td><td>h</td><td> 0.53098934</td></tr>\n",
       "\t<tr><td> 99</td><td>j</td><td>-0.20677371</td></tr>\n",
       "\t<tr><td>100</td><td>d</td><td> 0.26644900</td></tr>\n",
       "</tbody>\n",
       "</table>\n"
      ],
      "text/latex": [
       "A data.frame: 100 × 3\n",
       "\\begin{tabular}{lll}\n",
       " index & char & z\\\\\n",
       " <int> & <chr> & <dbl>\\\\\n",
       "\\hline\n",
       "\t  1 & a & -0.138689297\\\\\n",
       "\t  2 & a &  0.062352149\\\\\n",
       "\t  3 & r & -0.753355317\\\\\n",
       "\t  4 & k &  0.528791575\\\\\n",
       "\t  5 & r & -0.491662659\\\\\n",
       "\t  6 & c &  0.172220343\\\\\n",
       "\t  7 & p & -0.175170384\\\\\n",
       "\t  8 & e & -0.533903677\\\\\n",
       "\t  9 & c &  0.066771378\\\\\n",
       "\t 10 & v &  0.837966581\\\\\n",
       "\t 11 & i & -0.606957563\\\\\n",
       "\t 12 & n & -0.395968532\\\\\n",
       "\t 13 & v & -0.550493297\\\\\n",
       "\t 14 & e &  0.933173504\\\\\n",
       "\t 15 & x &  1.285403190\\\\\n",
       "\t 16 & x &  0.427909276\\\\\n",
       "\t 17 & c & -1.354382624\\\\\n",
       "\t 18 & x &  1.677868513\\\\\n",
       "\t 19 & k & -0.230504153\\\\\n",
       "\t 20 & a & -1.385573638\\\\\n",
       "\t 21 & s & -1.064042050\\\\\n",
       "\t 22 & n &  0.005865233\\\\\n",
       "\t 23 & q & -0.122089397\\\\\n",
       "\t 24 & d &  0.157437000\\\\\n",
       "\t 25 & c & -2.199691201\\\\\n",
       "\t 26 & r & -0.475521135\\\\\n",
       "\t 27 & a &  0.677298539\\\\\n",
       "\t 28 & j &  0.128318773\\\\\n",
       "\t 29 & r &  0.037305272\\\\\n",
       "\t 30 & p & -1.094984323\\\\\n",
       "\t ⋮ & ⋮ & ⋮\\\\\n",
       "\t  71 & d &  0.41469967\\\\\n",
       "\t  72 & s &  0.57401648\\\\\n",
       "\t  73 & q &  0.02281056\\\\\n",
       "\t  74 & i & -1.16071022\\\\\n",
       "\t  75 & c &  0.69586165\\\\\n",
       "\t  76 & t &  1.06704602\\\\\n",
       "\t  77 & j &  0.22534455\\\\\n",
       "\t  78 & k &  1.35789733\\\\\n",
       "\t  79 & e &  0.10515615\\\\\n",
       "\t  80 & k &  0.02005279\\\\\n",
       "\t  81 & n & -1.43172103\\\\\n",
       "\t  82 & a &  0.69768001\\\\\n",
       "\t  83 & d & -1.18751216\\\\\n",
       "\t  84 & d &  0.41590501\\\\\n",
       "\t  85 & j & -0.36522390\\\\\n",
       "\t  86 & h &  0.10212831\\\\\n",
       "\t  87 & n & -1.09859578\\\\\n",
       "\t  88 & o & -1.28204694\\\\\n",
       "\t  89 & m &  1.20875874\\\\\n",
       "\t  90 & j &  0.64065047\\\\\n",
       "\t  91 & u & -0.64522473\\\\\n",
       "\t  92 & h & -1.15237130\\\\\n",
       "\t  93 & e & -1.91986201\\\\\n",
       "\t  94 & t & -0.19385007\\\\\n",
       "\t  95 & y &  0.51346847\\\\\n",
       "\t  96 & n &  0.27500056\\\\\n",
       "\t  97 & e &  0.33011838\\\\\n",
       "\t  98 & h &  0.53098934\\\\\n",
       "\t  99 & j & -0.20677371\\\\\n",
       "\t 100 & d &  0.26644900\\\\\n",
       "\\end{tabular}\n"
      ],
      "text/markdown": [
       "\n",
       "A data.frame: 100 × 3\n",
       "\n",
       "| index &lt;int&gt; | char &lt;chr&gt; | z &lt;dbl&gt; |\n",
       "|---|---|---|\n",
       "|  1 | a | -0.138689297 |\n",
       "|  2 | a |  0.062352149 |\n",
       "|  3 | r | -0.753355317 |\n",
       "|  4 | k |  0.528791575 |\n",
       "|  5 | r | -0.491662659 |\n",
       "|  6 | c |  0.172220343 |\n",
       "|  7 | p | -0.175170384 |\n",
       "|  8 | e | -0.533903677 |\n",
       "|  9 | c |  0.066771378 |\n",
       "| 10 | v |  0.837966581 |\n",
       "| 11 | i | -0.606957563 |\n",
       "| 12 | n | -0.395968532 |\n",
       "| 13 | v | -0.550493297 |\n",
       "| 14 | e |  0.933173504 |\n",
       "| 15 | x |  1.285403190 |\n",
       "| 16 | x |  0.427909276 |\n",
       "| 17 | c | -1.354382624 |\n",
       "| 18 | x |  1.677868513 |\n",
       "| 19 | k | -0.230504153 |\n",
       "| 20 | a | -1.385573638 |\n",
       "| 21 | s | -1.064042050 |\n",
       "| 22 | n |  0.005865233 |\n",
       "| 23 | q | -0.122089397 |\n",
       "| 24 | d |  0.157437000 |\n",
       "| 25 | c | -2.199691201 |\n",
       "| 26 | r | -0.475521135 |\n",
       "| 27 | a |  0.677298539 |\n",
       "| 28 | j |  0.128318773 |\n",
       "| 29 | r |  0.037305272 |\n",
       "| 30 | p | -1.094984323 |\n",
       "| ⋮ | ⋮ | ⋮ |\n",
       "|  71 | d |  0.41469967 |\n",
       "|  72 | s |  0.57401648 |\n",
       "|  73 | q |  0.02281056 |\n",
       "|  74 | i | -1.16071022 |\n",
       "|  75 | c |  0.69586165 |\n",
       "|  76 | t |  1.06704602 |\n",
       "|  77 | j |  0.22534455 |\n",
       "|  78 | k |  1.35789733 |\n",
       "|  79 | e |  0.10515615 |\n",
       "|  80 | k |  0.02005279 |\n",
       "|  81 | n | -1.43172103 |\n",
       "|  82 | a |  0.69768001 |\n",
       "|  83 | d | -1.18751216 |\n",
       "|  84 | d |  0.41590501 |\n",
       "|  85 | j | -0.36522390 |\n",
       "|  86 | h |  0.10212831 |\n",
       "|  87 | n | -1.09859578 |\n",
       "|  88 | o | -1.28204694 |\n",
       "|  89 | m |  1.20875874 |\n",
       "|  90 | j |  0.64065047 |\n",
       "|  91 | u | -0.64522473 |\n",
       "|  92 | h | -1.15237130 |\n",
       "|  93 | e | -1.91986201 |\n",
       "|  94 | t | -0.19385007 |\n",
       "|  95 | y |  0.51346847 |\n",
       "|  96 | n |  0.27500056 |\n",
       "|  97 | e |  0.33011838 |\n",
       "|  98 | h |  0.53098934 |\n",
       "|  99 | j | -0.20677371 |\n",
       "| 100 | d |  0.26644900 |\n",
       "\n"
      ],
      "text/plain": [
       "    index char z           \n",
       "1    1    a    -0.138689297\n",
       "2    2    a     0.062352149\n",
       "3    3    r    -0.753355317\n",
       "4    4    k     0.528791575\n",
       "5    5    r    -0.491662659\n",
       "6    6    c     0.172220343\n",
       "7    7    p    -0.175170384\n",
       "8    8    e    -0.533903677\n",
       "9    9    c     0.066771378\n",
       "10  10    v     0.837966581\n",
       "11  11    i    -0.606957563\n",
       "12  12    n    -0.395968532\n",
       "13  13    v    -0.550493297\n",
       "14  14    e     0.933173504\n",
       "15  15    x     1.285403190\n",
       "16  16    x     0.427909276\n",
       "17  17    c    -1.354382624\n",
       "18  18    x     1.677868513\n",
       "19  19    k    -0.230504153\n",
       "20  20    a    -1.385573638\n",
       "21  21    s    -1.064042050\n",
       "22  22    n     0.005865233\n",
       "23  23    q    -0.122089397\n",
       "24  24    d     0.157437000\n",
       "25  25    c    -2.199691201\n",
       "26  26    r    -0.475521135\n",
       "27  27    a     0.677298539\n",
       "28  28    j     0.128318773\n",
       "29  29    r     0.037305272\n",
       "30  30    p    -1.094984323\n",
       "⋮   ⋮     ⋮    ⋮           \n",
       "71   71   d     0.41469967 \n",
       "72   72   s     0.57401648 \n",
       "73   73   q     0.02281056 \n",
       "74   74   i    -1.16071022 \n",
       "75   75   c     0.69586165 \n",
       "76   76   t     1.06704602 \n",
       "77   77   j     0.22534455 \n",
       "78   78   k     1.35789733 \n",
       "79   79   e     0.10515615 \n",
       "80   80   k     0.02005279 \n",
       "81   81   n    -1.43172103 \n",
       "82   82   a     0.69768001 \n",
       "83   83   d    -1.18751216 \n",
       "84   84   d     0.41590501 \n",
       "85   85   j    -0.36522390 \n",
       "86   86   h     0.10212831 \n",
       "87   87   n    -1.09859578 \n",
       "88   88   o    -1.28204694 \n",
       "89   89   m     1.20875874 \n",
       "90   90   j     0.64065047 \n",
       "91   91   u    -0.64522473 \n",
       "92   92   h    -1.15237130 \n",
       "93   93   e    -1.91986201 \n",
       "94   94   t    -0.19385007 \n",
       "95   95   y     0.51346847 \n",
       "96   96   n     0.27500056 \n",
       "97   97   e     0.33011838 \n",
       "98   98   h     0.53098934 \n",
       "99   99   j    -0.20677371 \n",
       "100 100   d     0.26644900 "
      ]
     },
     "metadata": {},
     "output_type": "display_data"
    }
   ],
   "source": [
    "do.call(rbind, data)"
   ]
  },
  {
   "cell_type": "code",
   "execution_count": 26,
   "id": "9ab5e398",
   "metadata": {},
   "outputs": [],
   "source": [
    "lista3 <- list(1:3, 4:6, 7:9)"
   ]
  },
  {
   "cell_type": "code",
   "execution_count": 27,
   "id": "2d14ab1f",
   "metadata": {},
   "outputs": [
    {
     "data": {
      "text/html": [
       "<ol>\n",
       "\t<li><style>\n",
       ".list-inline {list-style: none; margin:0; padding: 0}\n",
       ".list-inline>li {display: inline-block}\n",
       ".list-inline>li:not(:last-child)::after {content: \"\\00b7\"; padding: 0 .5ex}\n",
       "</style>\n",
       "<ol class=list-inline><li>1</li><li>2</li><li>3</li></ol>\n",
       "</li>\n",
       "\t<li><style>\n",
       ".list-inline {list-style: none; margin:0; padding: 0}\n",
       ".list-inline>li {display: inline-block}\n",
       ".list-inline>li:not(:last-child)::after {content: \"\\00b7\"; padding: 0 .5ex}\n",
       "</style>\n",
       "<ol class=list-inline><li>4</li><li>5</li><li>6</li></ol>\n",
       "</li>\n",
       "\t<li><style>\n",
       ".list-inline {list-style: none; margin:0; padding: 0}\n",
       ".list-inline>li {display: inline-block}\n",
       ".list-inline>li:not(:last-child)::after {content: \"\\00b7\"; padding: 0 .5ex}\n",
       "</style>\n",
       "<ol class=list-inline><li>7</li><li>8</li><li>9</li></ol>\n",
       "</li>\n",
       "</ol>\n"
      ],
      "text/latex": [
       "\\begin{enumerate}\n",
       "\\item \\begin{enumerate*}\n",
       "\\item 1\n",
       "\\item 2\n",
       "\\item 3\n",
       "\\end{enumerate*}\n",
       "\n",
       "\\item \\begin{enumerate*}\n",
       "\\item 4\n",
       "\\item 5\n",
       "\\item 6\n",
       "\\end{enumerate*}\n",
       "\n",
       "\\item \\begin{enumerate*}\n",
       "\\item 7\n",
       "\\item 8\n",
       "\\item 9\n",
       "\\end{enumerate*}\n",
       "\n",
       "\\end{enumerate}\n"
      ],
      "text/markdown": [
       "1. 1. 1\n",
       "2. 2\n",
       "3. 3\n",
       "\n",
       "\n",
       "\n",
       "2. 1. 4\n",
       "2. 5\n",
       "3. 6\n",
       "\n",
       "\n",
       "\n",
       "3. 1. 7\n",
       "2. 8\n",
       "3. 9\n",
       "\n",
       "\n",
       "\n",
       "\n",
       "\n"
      ],
      "text/plain": [
       "[[1]]\n",
       "[1] 1 2 3\n",
       "\n",
       "[[2]]\n",
       "[1] 4 5 6\n",
       "\n",
       "[[3]]\n",
       "[1] 7 8 9\n"
      ]
     },
     "metadata": {},
     "output_type": "display_data"
    }
   ],
   "source": [
    "lista3"
   ]
  },
  {
   "cell_type": "code",
   "execution_count": 29,
   "id": "1263b2dd",
   "metadata": {},
   "outputs": [
    {
     "data": {
      "text/html": [
       "<ol>\n",
       "\t<li>6</li>\n",
       "\t<li>15</li>\n",
       "\t<li>24</li>\n",
       "</ol>\n"
      ],
      "text/latex": [
       "\\begin{enumerate}\n",
       "\\item 6\n",
       "\\item 15\n",
       "\\item 24\n",
       "\\end{enumerate}\n"
      ],
      "text/markdown": [
       "1. 6\n",
       "2. 15\n",
       "3. 24\n",
       "\n",
       "\n"
      ],
      "text/plain": [
       "[[1]]\n",
       "[1] 6\n",
       "\n",
       "[[2]]\n",
       "[1] 15\n",
       "\n",
       "[[3]]\n",
       "[1] 24\n"
      ]
     },
     "metadata": {},
     "output_type": "display_data"
    }
   ],
   "source": [
    "lapply(lista3, sum)"
   ]
  },
  {
   "cell_type": "code",
   "execution_count": 30,
   "id": "e3979ba8",
   "metadata": {},
   "outputs": [
    {
     "data": {
      "text/html": [
       "45"
      ],
      "text/latex": [
       "45"
      ],
      "text/markdown": [
       "45"
      ],
      "text/plain": [
       "[1] 45"
      ]
     },
     "metadata": {},
     "output_type": "display_data"
    }
   ],
   "source": [
    "do.call(sum, lista3)"
   ]
  },
  {
   "cell_type": "code",
   "execution_count": 37,
   "id": "612d2a10",
   "metadata": {},
   "outputs": [
    {
     "data": {
      "text/html": [
       "<ol>\n",
       "\t<li><style>\n",
       ".list-inline {list-style: none; margin:0; padding: 0}\n",
       ".list-inline>li {display: inline-block}\n",
       ".list-inline>li:not(:last-child)::after {content: \"\\00b7\"; padding: 0 .5ex}\n",
       "</style>\n",
       "<ol class=list-inline><li>'R'</li><li>'é'</li><li>'um'</li><li>'software'</li><li>'sensacional'</li><li>'para'</li><li>'análise'</li><li>'de'</li><li>'dados'</li></ol>\n",
       "</li>\n",
       "</ol>\n"
      ],
      "text/latex": [
       "\\begin{enumerate}\n",
       "\\item \\begin{enumerate*}\n",
       "\\item 'R'\n",
       "\\item 'é'\n",
       "\\item 'um'\n",
       "\\item 'software'\n",
       "\\item 'sensacional'\n",
       "\\item 'para'\n",
       "\\item 'análise'\n",
       "\\item 'de'\n",
       "\\item 'dados'\n",
       "\\end{enumerate*}\n",
       "\n",
       "\\end{enumerate}\n"
      ],
      "text/markdown": [
       "1. 1. 'R'\n",
       "2. 'é'\n",
       "3. 'um'\n",
       "4. 'software'\n",
       "5. 'sensacional'\n",
       "6. 'para'\n",
       "7. 'análise'\n",
       "8. 'de'\n",
       "9. 'dados'\n",
       "\n",
       "\n",
       "\n",
       "\n",
       "\n"
      ],
      "text/plain": [
       "[[1]]\n",
       "[1] \"R\"           \"é\"           \"um\"          \"software\"    \"sensacional\"\n",
       "[6] \"para\"        \"análise\"     \"de\"          \"dados\"      \n"
      ]
     },
     "metadata": {},
     "output_type": "display_data"
    },
    {
     "data": {
      "text/html": [
       "<ol>\n",
       "\t<li><style>\n",
       ".list-inline {list-style: none; margin:0; padding: 0}\n",
       ".list-inline>li {display: inline-block}\n",
       ".list-inline>li:not(:last-child)::after {content: \"\\00b7\"; padding: 0 .5ex}\n",
       "</style>\n",
       "<ol class=list-inline><li>'R'</li><li>' '</li><li>'é'</li><li>' '</li><li>'u'</li><li>'m'</li><li>' '</li><li>'s'</li><li>'o'</li><li>'f'</li><li>'t'</li><li>'w'</li><li>'a'</li><li>'r'</li><li>'e'</li><li>' '</li><li>'s'</li><li>'e'</li><li>'n'</li><li>'s'</li><li>'a'</li><li>'c'</li><li>'i'</li><li>'o'</li><li>'n'</li><li>'a'</li><li>'l'</li><li>' '</li><li>'p'</li><li>'a'</li><li>'r'</li><li>'a'</li><li>' '</li><li>'a'</li><li>'n'</li><li>'á'</li><li>'l'</li><li>'i'</li><li>'s'</li><li>'e'</li><li>' '</li><li>'d'</li><li>'e'</li><li>' '</li><li>'d'</li><li>'a'</li><li>'d'</li><li>'o'</li><li>'s'</li></ol>\n",
       "</li>\n",
       "</ol>\n"
      ],
      "text/latex": [
       "\\begin{enumerate}\n",
       "\\item \\begin{enumerate*}\n",
       "\\item 'R'\n",
       "\\item ' '\n",
       "\\item 'é'\n",
       "\\item ' '\n",
       "\\item 'u'\n",
       "\\item 'm'\n",
       "\\item ' '\n",
       "\\item 's'\n",
       "\\item 'o'\n",
       "\\item 'f'\n",
       "\\item 't'\n",
       "\\item 'w'\n",
       "\\item 'a'\n",
       "\\item 'r'\n",
       "\\item 'e'\n",
       "\\item ' '\n",
       "\\item 's'\n",
       "\\item 'e'\n",
       "\\item 'n'\n",
       "\\item 's'\n",
       "\\item 'a'\n",
       "\\item 'c'\n",
       "\\item 'i'\n",
       "\\item 'o'\n",
       "\\item 'n'\n",
       "\\item 'a'\n",
       "\\item 'l'\n",
       "\\item ' '\n",
       "\\item 'p'\n",
       "\\item 'a'\n",
       "\\item 'r'\n",
       "\\item 'a'\n",
       "\\item ' '\n",
       "\\item 'a'\n",
       "\\item 'n'\n",
       "\\item 'á'\n",
       "\\item 'l'\n",
       "\\item 'i'\n",
       "\\item 's'\n",
       "\\item 'e'\n",
       "\\item ' '\n",
       "\\item 'd'\n",
       "\\item 'e'\n",
       "\\item ' '\n",
       "\\item 'd'\n",
       "\\item 'a'\n",
       "\\item 'd'\n",
       "\\item 'o'\n",
       "\\item 's'\n",
       "\\end{enumerate*}\n",
       "\n",
       "\\end{enumerate}\n"
      ],
      "text/markdown": [
       "1. 1. 'R'\n",
       "2. ' '\n",
       "3. 'é'\n",
       "4. ' '\n",
       "5. 'u'\n",
       "6. 'm'\n",
       "7. ' '\n",
       "8. 's'\n",
       "9. 'o'\n",
       "10. 'f'\n",
       "11. 't'\n",
       "12. 'w'\n",
       "13. 'a'\n",
       "14. 'r'\n",
       "15. 'e'\n",
       "16. ' '\n",
       "17. 's'\n",
       "18. 'e'\n",
       "19. 'n'\n",
       "20. 's'\n",
       "21. 'a'\n",
       "22. 'c'\n",
       "23. 'i'\n",
       "24. 'o'\n",
       "25. 'n'\n",
       "26. 'a'\n",
       "27. 'l'\n",
       "28. ' '\n",
       "29. 'p'\n",
       "30. 'a'\n",
       "31. 'r'\n",
       "32. 'a'\n",
       "33. ' '\n",
       "34. 'a'\n",
       "35. 'n'\n",
       "36. 'á'\n",
       "37. 'l'\n",
       "38. 'i'\n",
       "39. 's'\n",
       "40. 'e'\n",
       "41. ' '\n",
       "42. 'd'\n",
       "43. 'e'\n",
       "44. ' '\n",
       "45. 'd'\n",
       "46. 'a'\n",
       "47. 'd'\n",
       "48. 'o'\n",
       "49. 's'\n",
       "\n",
       "\n",
       "\n",
       "\n",
       "\n"
      ],
      "text/plain": [
       "[[1]]\n",
       " [1] \"R\" \" \" \"é\" \" \" \"u\" \"m\" \" \" \"s\" \"o\" \"f\" \"t\" \"w\" \"a\" \"r\" \"e\" \" \" \"s\" \"e\" \"n\"\n",
       "[20] \"s\" \"a\" \"c\" \"i\" \"o\" \"n\" \"a\" \"l\" \" \" \"p\" \"a\" \"r\" \"a\" \" \" \"a\" \"n\" \"á\" \"l\" \"i\"\n",
       "[39] \"s\" \"e\" \" \" \"d\" \"e\" \" \" \"d\" \"a\" \"d\" \"o\" \"s\"\n"
      ]
     },
     "metadata": {},
     "output_type": "display_data"
    }
   ],
   "source": [
    "txt <- \"R é um software sensacional para análise de dados\"\n",
    "\n",
    "strsplit(txt, \" \")\n",
    "strsplit(txt, \"\")"
   ]
  },
  {
   "cell_type": "code",
   "execution_count": 42,
   "id": "aecef16d",
   "metadata": {},
   "outputs": [
    {
     "data": {
      "text/html": [
       "<ol>\n",
       "\t<li><style>\n",
       ".list-inline {list-style: none; margin:0; padding: 0}\n",
       ".list-inline>li {display: inline-block}\n",
       ".list-inline>li:not(:last-child)::after {content: \"\\00b7\"; padding: 0 .5ex}\n",
       "</style>\n",
       "<ol class=list-inline><li>'2023'</li><li>'01'</li><li>'12'</li></ol>\n",
       "</li>\n",
       "\t<li><style>\n",
       ".list-inline {list-style: none; margin:0; padding: 0}\n",
       ".list-inline>li {display: inline-block}\n",
       ".list-inline>li:not(:last-child)::after {content: \"\\00b7\"; padding: 0 .5ex}\n",
       "</style>\n",
       "<ol class=list-inline><li>'1985'</li><li>'12'</li><li>'02'</li></ol>\n",
       "</li>\n",
       "\t<li><style>\n",
       ".list-inline {list-style: none; margin:0; padding: 0}\n",
       ".list-inline>li {display: inline-block}\n",
       ".list-inline>li:not(:last-child)::after {content: \"\\00b7\"; padding: 0 .5ex}\n",
       "</style>\n",
       "<ol class=list-inline><li>'1999'</li><li>'08'</li><li>'12'</li></ol>\n",
       "</li>\n",
       "</ol>\n"
      ],
      "text/latex": [
       "\\begin{enumerate}\n",
       "\\item \\begin{enumerate*}\n",
       "\\item '2023'\n",
       "\\item '01'\n",
       "\\item '12'\n",
       "\\end{enumerate*}\n",
       "\n",
       "\\item \\begin{enumerate*}\n",
       "\\item '1985'\n",
       "\\item '12'\n",
       "\\item '02'\n",
       "\\end{enumerate*}\n",
       "\n",
       "\\item \\begin{enumerate*}\n",
       "\\item '1999'\n",
       "\\item '08'\n",
       "\\item '12'\n",
       "\\end{enumerate*}\n",
       "\n",
       "\\end{enumerate}\n"
      ],
      "text/markdown": [
       "1. 1. '2023'\n",
       "2. '01'\n",
       "3. '12'\n",
       "\n",
       "\n",
       "\n",
       "2. 1. '1985'\n",
       "2. '12'\n",
       "3. '02'\n",
       "\n",
       "\n",
       "\n",
       "3. 1. '1999'\n",
       "2. '08'\n",
       "3. '12'\n",
       "\n",
       "\n",
       "\n",
       "\n",
       "\n"
      ],
      "text/plain": [
       "[[1]]\n",
       "[1] \"2023\" \"01\"   \"12\"  \n",
       "\n",
       "[[2]]\n",
       "[1] \"1985\" \"12\"   \"02\"  \n",
       "\n",
       "[[3]]\n",
       "[1] \"1999\" \"08\"   \"12\"  \n"
      ]
     },
     "metadata": {},
     "output_type": "display_data"
    }
   ],
   "source": [
    "datas <- c('2023-01-12', '1985-12-02', '1999-08-12')\n",
    "\n",
    "temp <- strsplit(datas, '-')\n",
    "\n",
    "temp"
   ]
  },
  {
   "cell_type": "code",
   "execution_count": 43,
   "id": "ef4e0c7d",
   "metadata": {},
   "outputs": [
    {
     "data": {
      "text/html": [
       "<style>\n",
       ".list-inline {list-style: none; margin:0; padding: 0}\n",
       ".list-inline>li {display: inline-block}\n",
       ".list-inline>li:not(:last-child)::after {content: \"\\00b7\"; padding: 0 .5ex}\n",
       "</style>\n",
       "<ol class=list-inline><li>'2023'</li><li>'01'</li><li>'12'</li><li>'1985'</li><li>'12'</li><li>'02'</li><li>'1999'</li><li>'08'</li><li>'12'</li></ol>\n"
      ],
      "text/latex": [
       "\\begin{enumerate*}\n",
       "\\item '2023'\n",
       "\\item '01'\n",
       "\\item '12'\n",
       "\\item '1985'\n",
       "\\item '12'\n",
       "\\item '02'\n",
       "\\item '1999'\n",
       "\\item '08'\n",
       "\\item '12'\n",
       "\\end{enumerate*}\n"
      ],
      "text/markdown": [
       "1. '2023'\n",
       "2. '01'\n",
       "3. '12'\n",
       "4. '1985'\n",
       "5. '12'\n",
       "6. '02'\n",
       "7. '1999'\n",
       "8. '08'\n",
       "9. '12'\n",
       "\n",
       "\n"
      ],
      "text/plain": [
       "[1] \"2023\" \"01\"   \"12\"   \"1985\" \"12\"   \"02\"   \"1999\" \"08\"   \"12\"  "
      ]
     },
     "metadata": {},
     "output_type": "display_data"
    }
   ],
   "source": [
    "unlist(temp)"
   ]
  },
  {
   "cell_type": "code",
   "execution_count": 46,
   "id": "e53a363b",
   "metadata": {
    "scrolled": true
   },
   "outputs": [
    {
     "data": {
      "text/html": [
       "<table class=\"dataframe\">\n",
       "<caption>A matrix: 3 × 3 of type chr</caption>\n",
       "<tbody>\n",
       "\t<tr><td>2023</td><td>01</td><td>12</td></tr>\n",
       "\t<tr><td>1985</td><td>12</td><td>02</td></tr>\n",
       "\t<tr><td>1999</td><td>08</td><td>12</td></tr>\n",
       "</tbody>\n",
       "</table>\n"
      ],
      "text/latex": [
       "A matrix: 3 × 3 of type chr\n",
       "\\begin{tabular}{lll}\n",
       "\t 2023 & 01 & 12\\\\\n",
       "\t 1985 & 12 & 02\\\\\n",
       "\t 1999 & 08 & 12\\\\\n",
       "\\end{tabular}\n"
      ],
      "text/markdown": [
       "\n",
       "A matrix: 3 × 3 of type chr\n",
       "\n",
       "| 2023 | 01 | 12 |\n",
       "| 1985 | 12 | 02 |\n",
       "| 1999 | 08 | 12 |\n",
       "\n"
      ],
      "text/plain": [
       "     [,1] [,2] [,3]\n",
       "[1,] 2023 01   12  \n",
       "[2,] 1985 12   02  \n",
       "[3,] 1999 08   12  "
      ]
     },
     "metadata": {},
     "output_type": "display_data"
    }
   ],
   "source": [
    "matrix(unlist(temp), ncol=3, byrow=TRUE)"
   ]
  },
  {
   "cell_type": "code",
   "execution_count": 63,
   "id": "bfa144a9",
   "metadata": {},
   "outputs": [
    {
     "data": {
      "text/html": [
       "'É preciso casar João, é preciso suportar, Antônio, é preciso odiar Melquíades'"
      ],
      "text/latex": [
       "'É preciso casar João, é preciso suportar, Antônio, é preciso odiar Melquíades'"
      ],
      "text/markdown": [
       "'É preciso casar João, é preciso suportar, Antônio, é preciso odiar Melquíades'"
      ],
      "text/plain": [
       "[1] \"É preciso casar João, é preciso suportar, Antônio, é preciso odiar Melquíades\""
      ]
     },
     "metadata": {},
     "output_type": "display_data"
    }
   ],
   "source": [
    "carlos_drummond <- \"É preciso casar João, é preciso suportar, Antônio, é preciso odiar Melquíades\"\n",
    "\n",
    "carlos_drummond"
   ]
  },
  {
   "cell_type": "code",
   "execution_count": 75,
   "id": "c8ad2ccf",
   "metadata": {},
   "outputs": [
    {
     "data": {
      "text/html": [
       "<style>\n",
       ".list-inline {list-style: none; margin:0; padding: 0}\n",
       ".list-inline>li {display: inline-block}\n",
       ".list-inline>li:not(:last-child)::after {content: \"\\00b7\"; padding: 0 .5ex}\n",
       "</style>\n",
       "<ol class=list-inline><li>'É'</li><li>'preciso'</li><li>'casar'</li><li>'João,'</li><li>'é'</li><li>'preciso'</li><li>'suportar,'</li><li>'Antônio,'</li><li>'é'</li><li>'preciso'</li><li>'odiar'</li><li>'Melquíades'</li></ol>\n"
      ],
      "text/latex": [
       "\\begin{enumerate*}\n",
       "\\item 'É'\n",
       "\\item 'preciso'\n",
       "\\item 'casar'\n",
       "\\item 'João,'\n",
       "\\item 'é'\n",
       "\\item 'preciso'\n",
       "\\item 'suportar,'\n",
       "\\item 'Antônio,'\n",
       "\\item 'é'\n",
       "\\item 'preciso'\n",
       "\\item 'odiar'\n",
       "\\item 'Melquíades'\n",
       "\\end{enumerate*}\n"
      ],
      "text/markdown": [
       "1. 'É'\n",
       "2. 'preciso'\n",
       "3. 'casar'\n",
       "4. 'João,'\n",
       "5. 'é'\n",
       "6. 'preciso'\n",
       "7. 'suportar,'\n",
       "8. 'Antônio,'\n",
       "9. 'é'\n",
       "10. 'preciso'\n",
       "11. 'odiar'\n",
       "12. 'Melquíades'\n",
       "\n",
       "\n"
      ],
      "text/plain": [
       " [1] \"É\"          \"preciso\"    \"casar\"      \"João,\"      \"é\"         \n",
       " [6] \"preciso\"    \"suportar,\"  \"Antônio,\"   \"é\"          \"preciso\"   \n",
       "[11] \"odiar\"      \"Melquíades\""
      ]
     },
     "metadata": {},
     "output_type": "display_data"
    }
   ],
   "source": [
    "palavras <- strsplit(carlos_drummond, \" \")[[1]]\n",
    "\n",
    "palavras"
   ]
  },
  {
   "cell_type": "code",
   "execution_count": 77,
   "id": "88b1d091",
   "metadata": {},
   "outputs": [
    {
     "data": {
      "text/html": [
       "<style>\n",
       ".list-inline {list-style: none; margin:0; padding: 0}\n",
       ".list-inline>li {display: inline-block}\n",
       ".list-inline>li:not(:last-child)::after {content: \"\\00b7\"; padding: 0 .5ex}\n",
       "</style>\n",
       "<ol class=list-inline><li>'É'</li><li>'preciso'</li><li>'casar'</li><li>'João,'</li><li>'é'</li><li>'suportar,'</li><li>'Antônio,'</li><li>'odiar'</li><li>'Melquíades'</li></ol>\n"
      ],
      "text/latex": [
       "\\begin{enumerate*}\n",
       "\\item 'É'\n",
       "\\item 'preciso'\n",
       "\\item 'casar'\n",
       "\\item 'João,'\n",
       "\\item 'é'\n",
       "\\item 'suportar,'\n",
       "\\item 'Antônio,'\n",
       "\\item 'odiar'\n",
       "\\item 'Melquíades'\n",
       "\\end{enumerate*}\n"
      ],
      "text/markdown": [
       "1. 'É'\n",
       "2. 'preciso'\n",
       "3. 'casar'\n",
       "4. 'João,'\n",
       "5. 'é'\n",
       "6. 'suportar,'\n",
       "7. 'Antônio,'\n",
       "8. 'odiar'\n",
       "9. 'Melquíades'\n",
       "\n",
       "\n"
      ],
      "text/plain": [
       "[1] \"É\"          \"preciso\"    \"casar\"      \"João,\"      \"é\"         \n",
       "[6] \"suportar,\"  \"Antônio,\"   \"odiar\"      \"Melquíades\""
      ]
     },
     "metadata": {},
     "output_type": "display_data"
    }
   ],
   "source": [
    "unique(palavras)"
   ]
  },
  {
   "cell_type": "code",
   "execution_count": 78,
   "id": "a9153525",
   "metadata": {
    "scrolled": true
   },
   "outputs": [
    {
     "data": {
      "text/html": [
       "<style>\n",
       ".list-inline {list-style: none; margin:0; padding: 0}\n",
       ".list-inline>li {display: inline-block}\n",
       ".list-inline>li:not(:last-child)::after {content: \"\\00b7\"; padding: 0 .5ex}\n",
       "</style>\n",
       "<ol class=list-inline><li>'é'</li><li>'preciso'</li><li>'casar'</li><li>'joão,'</li><li>'suportar,'</li><li>'antônio,'</li><li>'odiar'</li><li>'melquíades'</li></ol>\n"
      ],
      "text/latex": [
       "\\begin{enumerate*}\n",
       "\\item 'é'\n",
       "\\item 'preciso'\n",
       "\\item 'casar'\n",
       "\\item 'joão,'\n",
       "\\item 'suportar,'\n",
       "\\item 'antônio,'\n",
       "\\item 'odiar'\n",
       "\\item 'melquíades'\n",
       "\\end{enumerate*}\n"
      ],
      "text/markdown": [
       "1. 'é'\n",
       "2. 'preciso'\n",
       "3. 'casar'\n",
       "4. 'joão,'\n",
       "5. 'suportar,'\n",
       "6. 'antônio,'\n",
       "7. 'odiar'\n",
       "8. 'melquíades'\n",
       "\n",
       "\n"
      ],
      "text/plain": [
       "[1] \"é\"          \"preciso\"    \"casar\"      \"joão,\"      \"suportar,\" \n",
       "[6] \"antônio,\"   \"odiar\"      \"melquíades\""
      ]
     },
     "metadata": {},
     "output_type": "display_data"
    }
   ],
   "source": [
    "unique(tolower(palavras))"
   ]
  },
  {
   "cell_type": "code",
   "execution_count": 83,
   "id": "da63a1e7",
   "metadata": {},
   "outputs": [],
   "source": [
    "v1 <- 1:4\n",
    "v2 = 1:4"
   ]
  },
  {
   "cell_type": "code",
   "execution_count": 84,
   "id": "42710274",
   "metadata": {},
   "outputs": [
    {
     "data": {
      "text/html": [
       "<style>\n",
       ".list-inline {list-style: none; margin:0; padding: 0}\n",
       ".list-inline>li {display: inline-block}\n",
       ".list-inline>li:not(:last-child)::after {content: \"\\00b7\"; padding: 0 .5ex}\n",
       "</style>\n",
       "<ol class=list-inline><li>TRUE</li><li>TRUE</li><li>TRUE</li><li>TRUE</li></ol>\n"
      ],
      "text/latex": [
       "\\begin{enumerate*}\n",
       "\\item TRUE\n",
       "\\item TRUE\n",
       "\\item TRUE\n",
       "\\item TRUE\n",
       "\\end{enumerate*}\n"
      ],
      "text/markdown": [
       "1. TRUE\n",
       "2. TRUE\n",
       "3. TRUE\n",
       "4. TRUE\n",
       "\n",
       "\n"
      ],
      "text/plain": [
       "[1] TRUE TRUE TRUE TRUE"
      ]
     },
     "metadata": {},
     "output_type": "display_data"
    }
   ],
   "source": [
    "v1 == v2"
   ]
  },
  {
   "cell_type": "code",
   "execution_count": 86,
   "id": "61a323cc",
   "metadata": {},
   "outputs": [
    {
     "data": {
      "text/html": [
       "'integer'"
      ],
      "text/latex": [
       "'integer'"
      ],
      "text/markdown": [
       "'integer'"
      ],
      "text/plain": [
       "[1] \"integer\""
      ]
     },
     "metadata": {},
     "output_type": "display_data"
    },
    {
     "data": {
      "text/html": [
       "'integer'"
      ],
      "text/latex": [
       "'integer'"
      ],
      "text/markdown": [
       "'integer'"
      ],
      "text/plain": [
       "[1] \"integer\""
      ]
     },
     "metadata": {},
     "output_type": "display_data"
    },
    {
     "data": {
      "text/html": [
       "'integer'"
      ],
      "text/latex": [
       "'integer'"
      ],
      "text/markdown": [
       "'integer'"
      ],
      "text/plain": [
       "[1] \"integer\""
      ]
     },
     "metadata": {},
     "output_type": "display_data"
    },
    {
     "data": {
      "text/html": [
       "'integer'"
      ],
      "text/latex": [
       "'integer'"
      ],
      "text/markdown": [
       "'integer'"
      ],
      "text/plain": [
       "[1] \"integer\""
      ]
     },
     "metadata": {},
     "output_type": "display_data"
    }
   ],
   "source": [
    "class(v1)\n",
    "class(v2)\n",
    "\n",
    "typeof(v1)\n",
    "typeof(v2)"
   ]
  },
  {
   "cell_type": "code",
   "execution_count": 88,
   "id": "bcd02989",
   "metadata": {},
   "outputs": [
    {
     "data": {
      "text/html": [
       "5.5"
      ],
      "text/latex": [
       "5.5"
      ],
      "text/markdown": [
       "5.5"
      ],
      "text/plain": [
       "[1] 5.5"
      ]
     },
     "metadata": {},
     "output_type": "display_data"
    },
    {
     "ename": "ERROR",
     "evalue": "Error in eval(expr, envir, enclos): objeto 'x' não encontrado\n",
     "output_type": "error",
     "traceback": [
      "Error in eval(expr, envir, enclos): objeto 'x' não encontrado\nTraceback:\n"
     ]
    }
   ],
   "source": [
    "mean(x = 1:10)\n",
    "x"
   ]
  },
  {
   "cell_type": "code",
   "execution_count": 89,
   "id": "0b85255a",
   "metadata": {
    "scrolled": true
   },
   "outputs": [
    {
     "data": {
      "text/html": [
       "5.5"
      ],
      "text/latex": [
       "5.5"
      ],
      "text/markdown": [
       "5.5"
      ],
      "text/plain": [
       "[1] 5.5"
      ]
     },
     "metadata": {},
     "output_type": "display_data"
    },
    {
     "data": {
      "text/html": [
       "<style>\n",
       ".list-inline {list-style: none; margin:0; padding: 0}\n",
       ".list-inline>li {display: inline-block}\n",
       ".list-inline>li:not(:last-child)::after {content: \"\\00b7\"; padding: 0 .5ex}\n",
       "</style>\n",
       "<ol class=list-inline><li>1</li><li>2</li><li>3</li><li>4</li><li>5</li><li>6</li><li>7</li><li>8</li><li>9</li><li>10</li></ol>\n"
      ],
      "text/latex": [
       "\\begin{enumerate*}\n",
       "\\item 1\n",
       "\\item 2\n",
       "\\item 3\n",
       "\\item 4\n",
       "\\item 5\n",
       "\\item 6\n",
       "\\item 7\n",
       "\\item 8\n",
       "\\item 9\n",
       "\\item 10\n",
       "\\end{enumerate*}\n"
      ],
      "text/markdown": [
       "1. 1\n",
       "2. 2\n",
       "3. 3\n",
       "4. 4\n",
       "5. 5\n",
       "6. 6\n",
       "7. 7\n",
       "8. 8\n",
       "9. 9\n",
       "10. 10\n",
       "\n",
       "\n"
      ],
      "text/plain": [
       " [1]  1  2  3  4  5  6  7  8  9 10"
      ]
     },
     "metadata": {},
     "output_type": "display_data"
    }
   ],
   "source": [
    "mean(x <- 1:10)\n",
    "x"
   ]
  },
  {
   "cell_type": "code",
   "execution_count": null,
   "id": "4c9ae6a4",
   "metadata": {},
   "outputs": [],
   "source": []
  }
 ],
 "metadata": {
  "kernelspec": {
   "display_name": "R",
   "language": "R",
   "name": "ir"
  },
  "language_info": {
   "codemirror_mode": "r",
   "file_extension": ".r",
   "mimetype": "text/x-r-source",
   "name": "R",
   "pygments_lexer": "r",
   "version": "4.2.3"
  }
 },
 "nbformat": 4,
 "nbformat_minor": 5
}
