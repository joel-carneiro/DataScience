{
 "cells": [
  {
   "cell_type": "markdown",
   "id": "4f7ed512-be49-4b45-94f3-be55a66ea746",
   "metadata": {},
   "source": [
    "# <font color='green'> Introdução a Machine Learning com R </font>"
   ]
  },
  {
   "cell_type": "markdown",
   "id": "3f69aba3-dd62-4ef6-bb03-bcdc611ab37b",
   "metadata": {
    "tags": []
   },
   "source": [
    "# 1 - Análise Exploratória de Dados"
   ]
  },
  {
   "cell_type": "markdown",
   "id": "d8ef69c8-2393-460d-8f63-25ce4b0de431",
   "metadata": {
    "jp-MarkdownHeadingCollapsed": true,
    "tags": []
   },
   "source": [
    "## 1.1 - Primeiras Impressões"
   ]
  },
  {
   "cell_type": "code",
   "execution_count": 1,
   "id": "a838b4ef-c817-4482-874c-e99785b5d94a",
   "metadata": {},
   "outputs": [],
   "source": [
    "# Importando o pacote \"readr\"\n",
    "library('readr')"
   ]
  },
  {
   "cell_type": "code",
   "execution_count": 2,
   "id": "06bb4c95-cc45-4985-9279-f89ee3322dc1",
   "metadata": {},
   "outputs": [],
   "source": [
    "# Importando o dataset mtcars\n",
    "cars <- read_csv('/home/joeldspy/Modelos/datasets/mtcars.csv', show_col_types = FALSE)"
   ]
  },
  {
   "cell_type": "code",
   "execution_count": 3,
   "id": "dc5e84b0-f5c7-46b0-8c96-a4effdc59889",
   "metadata": {},
   "outputs": [],
   "source": [
    "colors <- c('white', 'black', 'darkred', 'darkgreen', 'darkgray')\n",
    "cars$col <- sample(colors, 32, replace = TRUE)"
   ]
  },
  {
   "cell_type": "code",
   "execution_count": 4,
   "id": "9ee3f536-ca9d-4d95-a506-8017210e3ec9",
   "metadata": {},
   "outputs": [
    {
     "data": {
      "text/html": [
       "<table class=\"dataframe\">\n",
       "<caption>A tibble: 5 × 13</caption>\n",
       "<thead>\n",
       "\t<tr><th scope=col>idx</th><th scope=col>mpg</th><th scope=col>cyl</th><th scope=col>disp</th><th scope=col>hp</th><th scope=col>drat</th><th scope=col>wt</th><th scope=col>qsec</th><th scope=col>vs</th><th scope=col>am</th><th scope=col>gear</th><th scope=col>carb</th><th scope=col>col</th></tr>\n",
       "\t<tr><th scope=col>&lt;dbl&gt;</th><th scope=col>&lt;dbl&gt;</th><th scope=col>&lt;dbl&gt;</th><th scope=col>&lt;dbl&gt;</th><th scope=col>&lt;dbl&gt;</th><th scope=col>&lt;dbl&gt;</th><th scope=col>&lt;dbl&gt;</th><th scope=col>&lt;dbl&gt;</th><th scope=col>&lt;dbl&gt;</th><th scope=col>&lt;dbl&gt;</th><th scope=col>&lt;dbl&gt;</th><th scope=col>&lt;dbl&gt;</th><th scope=col>&lt;chr&gt;</th></tr>\n",
       "</thead>\n",
       "<tbody>\n",
       "\t<tr><td>1</td><td>21.0</td><td>6</td><td>160</td><td>110</td><td>3.90</td><td>2.620</td><td>16.46</td><td>0</td><td>1</td><td>4</td><td>4</td><td>black    </td></tr>\n",
       "\t<tr><td>2</td><td>21.0</td><td>6</td><td>160</td><td>110</td><td>3.90</td><td>2.875</td><td>17.02</td><td>0</td><td>1</td><td>4</td><td>4</td><td>darkgreen</td></tr>\n",
       "\t<tr><td>3</td><td>22.8</td><td>4</td><td>108</td><td> 93</td><td>3.85</td><td>2.320</td><td>18.61</td><td>1</td><td>1</td><td>4</td><td>1</td><td>darkgray </td></tr>\n",
       "\t<tr><td>4</td><td>21.4</td><td>6</td><td>258</td><td>110</td><td>3.08</td><td>3.215</td><td>19.44</td><td>1</td><td>0</td><td>3</td><td>1</td><td>white    </td></tr>\n",
       "\t<tr><td>5</td><td>18.7</td><td>8</td><td>360</td><td>175</td><td>3.15</td><td>3.440</td><td>17.02</td><td>0</td><td>0</td><td>3</td><td>2</td><td>white    </td></tr>\n",
       "</tbody>\n",
       "</table>\n"
      ],
      "text/latex": [
       "A tibble: 5 × 13\n",
       "\\begin{tabular}{lllllllllllll}\n",
       " idx & mpg & cyl & disp & hp & drat & wt & qsec & vs & am & gear & carb & col\\\\\n",
       " <dbl> & <dbl> & <dbl> & <dbl> & <dbl> & <dbl> & <dbl> & <dbl> & <dbl> & <dbl> & <dbl> & <dbl> & <chr>\\\\\n",
       "\\hline\n",
       "\t 1 & 21.0 & 6 & 160 & 110 & 3.90 & 2.620 & 16.46 & 0 & 1 & 4 & 4 & black    \\\\\n",
       "\t 2 & 21.0 & 6 & 160 & 110 & 3.90 & 2.875 & 17.02 & 0 & 1 & 4 & 4 & darkgreen\\\\\n",
       "\t 3 & 22.8 & 4 & 108 &  93 & 3.85 & 2.320 & 18.61 & 1 & 1 & 4 & 1 & darkgray \\\\\n",
       "\t 4 & 21.4 & 6 & 258 & 110 & 3.08 & 3.215 & 19.44 & 1 & 0 & 3 & 1 & white    \\\\\n",
       "\t 5 & 18.7 & 8 & 360 & 175 & 3.15 & 3.440 & 17.02 & 0 & 0 & 3 & 2 & white    \\\\\n",
       "\\end{tabular}\n"
      ],
      "text/markdown": [
       "\n",
       "A tibble: 5 × 13\n",
       "\n",
       "| idx &lt;dbl&gt; | mpg &lt;dbl&gt; | cyl &lt;dbl&gt; | disp &lt;dbl&gt; | hp &lt;dbl&gt; | drat &lt;dbl&gt; | wt &lt;dbl&gt; | qsec &lt;dbl&gt; | vs &lt;dbl&gt; | am &lt;dbl&gt; | gear &lt;dbl&gt; | carb &lt;dbl&gt; | col &lt;chr&gt; |\n",
       "|---|---|---|---|---|---|---|---|---|---|---|---|---|\n",
       "| 1 | 21.0 | 6 | 160 | 110 | 3.90 | 2.620 | 16.46 | 0 | 1 | 4 | 4 | black     |\n",
       "| 2 | 21.0 | 6 | 160 | 110 | 3.90 | 2.875 | 17.02 | 0 | 1 | 4 | 4 | darkgreen |\n",
       "| 3 | 22.8 | 4 | 108 |  93 | 3.85 | 2.320 | 18.61 | 1 | 1 | 4 | 1 | darkgray  |\n",
       "| 4 | 21.4 | 6 | 258 | 110 | 3.08 | 3.215 | 19.44 | 1 | 0 | 3 | 1 | white     |\n",
       "| 5 | 18.7 | 8 | 360 | 175 | 3.15 | 3.440 | 17.02 | 0 | 0 | 3 | 2 | white     |\n",
       "\n"
      ],
      "text/plain": [
       "  idx mpg  cyl disp hp  drat wt    qsec  vs am gear carb col      \n",
       "1 1   21.0 6   160  110 3.90 2.620 16.46 0  1  4    4    black    \n",
       "2 2   21.0 6   160  110 3.90 2.875 17.02 0  1  4    4    darkgreen\n",
       "3 3   22.8 4   108   93 3.85 2.320 18.61 1  1  4    1    darkgray \n",
       "4 4   21.4 6   258  110 3.08 3.215 19.44 1  0  3    1    white    \n",
       "5 5   18.7 8   360  175 3.15 3.440 17.02 0  0  3    2    white    "
      ]
     },
     "metadata": {},
     "output_type": "display_data"
    }
   ],
   "source": [
    "# Visualizando as 5 primeiras observações do nosso conjunto de dados\n",
    "head(cars, 5)"
   ]
  },
  {
   "cell_type": "markdown",
   "id": "e12d3326-8de8-4040-a619-204e320aff08",
   "metadata": {},
   "source": [
    "- mpg: milhas por galão. Esta é uma medida da eficiência de combustível do carro, ou seja, quantas milhas o carro pode percorrer com um galão de combustível. Quanto maior o valor de mpg, mais eficiente é o carro em termos de combustível.\n",
    "\n",
    "- cyl: número de cilindros. Esta variável indica o número de cilindros no motor do carro. Os valores possíveis são 4, 6 ou 8.\n",
    "\n",
    "- disp: deslocamento. Esta variável indica o volume do motor em polegadas cúbicas (in³).\n",
    "\n",
    "- hp: potência. Esta variável indica a potência bruta do motor em cavalos de força (hp).\n",
    "\n",
    "- drat: relação do eixo traseiro. Esta variável indica a relação entre a rotação do eixo traseiro e a rotação do eixo do motor. Valores mais altos indicam uma relação de marcha mais longa, o que geralmente significa que o carro pode percorrer mais distância com uma única volta do motor.\n",
    "\n",
    "- wt: peso. Esta variável indica o peso do carro em mil libras.\n",
    "\n",
    "- qsec: tempo de quarto de milha. Esta variável indica o tempo em segundos que o carro leva para percorrer um quarto de milha a partir de uma parada completa.\n",
    "\n",
    "- vs: motor (0 = motor em V, 1 = motor reto). Esta variável indica o tipo de motor do carro. Um valor de 0 indica um motor em V e um valor de 1 indica um motor reto.\n",
    "\n",
    "- am: transmissão (0 = automático, 1 = manual). Esta variável indica o tipo de transmissão do carro. Um valor de 0 indica uma transmissão automática e um valor de 1 indica uma transmissão manual.\n",
    "\n",
    "- gear: número de marchas. Esta variável indica o número de marchas na transmissão do carro.\n",
    "\n",
    "- carb: número de carburadores. Esta variável indica o número de carburadores no motor do carro."
   ]
  },
  {
   "cell_type": "code",
   "execution_count": 5,
   "id": "fec046d1-7a38-413a-8d27-afed797b8dee",
   "metadata": {},
   "outputs": [
    {
     "data": {
      "text/plain": [
       "      idx             mpg             cyl             disp      \n",
       " Min.   : 1.00   Min.   :10.40   Min.   :4.000   Min.   : 71.1  \n",
       " 1st Qu.: 8.75   1st Qu.:15.43   1st Qu.:4.000   1st Qu.:120.8  \n",
       " Median :16.50   Median :19.20   Median :6.000   Median :196.3  \n",
       " Mean   :16.50   Mean   :20.09   Mean   :6.188   Mean   :230.7  \n",
       " 3rd Qu.:24.25   3rd Qu.:22.80   3rd Qu.:8.000   3rd Qu.:326.0  \n",
       " Max.   :32.00   Max.   :33.90   Max.   :8.000   Max.   :472.0  \n",
       "       hp             drat             wt             qsec      \n",
       " Min.   : 52.0   Min.   :2.760   Min.   :1.513   Min.   :14.50  \n",
       " 1st Qu.: 96.5   1st Qu.:3.080   1st Qu.:2.581   1st Qu.:16.89  \n",
       " Median :123.0   Median :3.695   Median :3.325   Median :17.71  \n",
       " Mean   :146.7   Mean   :3.597   Mean   :3.217   Mean   :17.85  \n",
       " 3rd Qu.:180.0   3rd Qu.:3.920   3rd Qu.:3.610   3rd Qu.:18.90  \n",
       " Max.   :335.0   Max.   :4.930   Max.   :5.424   Max.   :22.90  \n",
       "       vs               am              gear            carb      \n",
       " Min.   :0.0000   Min.   :0.0000   Min.   :3.000   Min.   :1.000  \n",
       " 1st Qu.:0.0000   1st Qu.:0.0000   1st Qu.:3.000   1st Qu.:2.000  \n",
       " Median :0.0000   Median :0.0000   Median :4.000   Median :2.000  \n",
       " Mean   :0.4375   Mean   :0.4062   Mean   :3.688   Mean   :2.812  \n",
       " 3rd Qu.:1.0000   3rd Qu.:1.0000   3rd Qu.:4.000   3rd Qu.:4.000  \n",
       " Max.   :1.0000   Max.   :1.0000   Max.   :5.000   Max.   :8.000  \n",
       "     col           \n",
       " Length:32         \n",
       " Class :character  \n",
       " Mode  :character  \n",
       "                   \n",
       "                   \n",
       "                   "
      ]
     },
     "metadata": {},
     "output_type": "display_data"
    }
   ],
   "source": [
    "# Fazendo um sumário da nossa base de dados completa\n",
    "summary(cars)"
   ]
  },
  {
   "cell_type": "code",
   "execution_count": 6,
   "id": "eedfe972-bc52-499e-8fa4-63fee4cd06e2",
   "metadata": {},
   "outputs": [
    {
     "data": {
      "text/plain": [
       "   Min. 1st Qu.  Median    Mean 3rd Qu.    Max. \n",
       "  10.40   15.43   19.20   20.09   22.80   33.90 "
      ]
     },
     "metadata": {},
     "output_type": "display_data"
    }
   ],
   "source": [
    "# Podemos também fazer um sumário para uma única variável\n",
    "summary(cars$mpg)"
   ]
  },
  {
   "cell_type": "code",
   "execution_count": 7,
   "id": "2165846c-5353-4dcf-97c3-e9def4d9a960",
   "metadata": {},
   "outputs": [
    {
     "data": {
      "text/plain": [
       "      mpg             cyl              wt       \n",
       " Min.   :10.40   Min.   :4.000   Min.   :1.513  \n",
       " 1st Qu.:15.43   1st Qu.:4.000   1st Qu.:2.581  \n",
       " Median :19.20   Median :6.000   Median :3.325  \n",
       " Mean   :20.09   Mean   :6.188   Mean   :3.217  \n",
       " 3rd Qu.:22.80   3rd Qu.:8.000   3rd Qu.:3.610  \n",
       " Max.   :33.90   Max.   :8.000   Max.   :5.424  "
      ]
     },
     "metadata": {},
     "output_type": "display_data"
    }
   ],
   "source": [
    "# Ou até para variáveis escolhidas\n",
    "summary(cars[c('mpg', 'cyl', 'wt')])"
   ]
  },
  {
   "cell_type": "code",
   "execution_count": 8,
   "id": "b2f3c60d-3b8b-46fe-8459-6861043507e9",
   "metadata": {},
   "outputs": [
    {
     "data": {
      "text/plain": [
       "\n",
       "    black  darkgray darkgreen   darkred     white \n",
       "        5         5        10         2        10 "
      ]
     },
     "metadata": {},
     "output_type": "display_data"
    }
   ],
   "source": [
    "# Contando variáveis qualitativas\n",
    "table(cars$col)"
   ]
  },
  {
   "cell_type": "markdown",
   "id": "5f6965b6-bf5e-49d4-a143-5d7e2d426f9f",
   "metadata": {
    "tags": []
   },
   "source": [
    "## 1.2 - Visualização de Dados "
   ]
  },
  {
   "cell_type": "code",
   "execution_count": 9,
   "id": "004f24a4-ef3f-4b50-8c04-f8d426356e76",
   "metadata": {},
   "outputs": [
    {
     "data": {
      "image/png": "[encoded data removed]",
      "text/plain": [
       "Plot with title “BoxPlot de Milhas por Galão ”"
      ]
     },
     "metadata": {
      "image/png": {
       "height": 420,
       "width": 420
      }
     },
     "output_type": "display_data"
    }
   ],
   "source": [
    "boxplot(cars$mpg, main = 'BoxPlot de Milhas por Galão ')"
   ]
  },
  {
   "cell_type": "code",
   "execution_count": 10,
   "id": "e3d174ee-5641-4829-9b19-cbbd151409a9",
   "metadata": {},
   "outputs": [
    {
     "data": {
      "image/png": "[encoded data removed]",
      "text/plain": [
       "Plot with title “BoxPlot dos Pesos”"
      ]
     },
     "metadata": {
      "image/png": {
       "height": 420,
       "width": 420
      }
     },
     "output_type": "display_data"
    }
   ],
   "source": [
    "boxplot(cars$wt, main = 'BoxPlot dos Pesos')"
   ]
  },
  {
   "cell_type": "code",
   "execution_count": 11,
   "id": "1d9f2abe-2999-4600-8622-962ada931505",
   "metadata": {},
   "outputs": [
    {
     "data": {
      "image/png": "[encoded data removed]",
      "text/plain": [
       "Plot with title “mpg x wt”"
      ]
     },
     "metadata": {
      "image/png": {
       "height": 420,
       "width": 420
      }
     },
     "output_type": "display_data"
    }
   ],
   "source": [
    "plot(x = cars$wt, y = cars$mpg, main = 'mpg x wt')"
   ]
  },
  {
   "cell_type": "code",
   "execution_count": null,
   "id": "ce9df602-79a4-49ab-a0ff-6f3b1f246ac2",
   "metadata": {},
   "outputs": [],
   "source": []
  }
 ],
 "metadata": {
  "kernelspec": {
   "display_name": "R",
   "language": "R",
   "name": "ir"
  },
  "language_info": {
   "codemirror_mode": "r",
   "file_extension": ".r",
   "mimetype": "text/x-r-source",
   "name": "R",
   "pygments_lexer": "r",
   "version": "4.1.2"
  }
 },
 "nbformat": 4,
 "nbformat_minor": 5
}
