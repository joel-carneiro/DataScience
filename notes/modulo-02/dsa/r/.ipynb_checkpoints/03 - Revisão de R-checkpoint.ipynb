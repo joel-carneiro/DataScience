{
 "cells": [
  {
   "cell_type": "code",
   "execution_count": 1,
   "id": "ad8514a2",
   "metadata": {},
   "outputs": [
    {
     "data": {
      "text/html": [
       "<style>\n",
       ".list-inline {list-style: none; margin:0; padding: 0}\n",
       ".list-inline>li {display: inline-block}\n",
       ".list-inline>li:not(:last-child)::after {content: \"\\00b7\"; padding: 0 .5ex}\n",
       "</style>\n",
       "<ol class=list-inline><li>1</li><li>2</li><li>3</li><li>4</li><li>5</li><li>6</li></ol>\n"
      ],
      "text/latex": [
       "\\begin{enumerate*}\n",
       "\\item 1\n",
       "\\item 2\n",
       "\\item 3\n",
       "\\item 4\n",
       "\\item 5\n",
       "\\item 6\n",
       "\\end{enumerate*}\n"
      ],
      "text/markdown": [
       "1. 1\n",
       "2. 2\n",
       "3. 3\n",
       "4. 4\n",
       "5. 5\n",
       "6. 6\n",
       "\n",
       "\n"
      ],
      "text/plain": [
       "[1] 1 2 3 4 5 6"
      ]
     },
     "metadata": {},
     "output_type": "display_data"
    }
   ],
   "source": [
    "# Criando um vetor\n",
    "v1 <- c(1, 2, 3, 4, 5, 6); v1"
   ]
  },
  {
   "cell_type": "code",
   "execution_count": 6,
   "id": "42d35f8a",
   "metadata": {},
   "outputs": [
    {
     "data": {
      "text/html": [
       "<table class=\"dataframe\">\n",
       "<caption>A matrix: 5 × 10 of type int</caption>\n",
       "<tbody>\n",
       "\t<tr><td>1</td><td> 6</td><td>11</td><td>16</td><td>21</td><td>26</td><td>31</td><td>36</td><td>41</td><td>46</td></tr>\n",
       "\t<tr><td>2</td><td> 7</td><td>12</td><td>17</td><td>22</td><td>27</td><td>32</td><td>37</td><td>42</td><td>47</td></tr>\n",
       "\t<tr><td>3</td><td> 8</td><td>13</td><td>18</td><td>23</td><td>28</td><td>33</td><td>38</td><td>43</td><td>48</td></tr>\n",
       "\t<tr><td>4</td><td> 9</td><td>14</td><td>19</td><td>24</td><td>29</td><td>34</td><td>39</td><td>44</td><td>49</td></tr>\n",
       "\t<tr><td>5</td><td>10</td><td>15</td><td>20</td><td>25</td><td>30</td><td>35</td><td>40</td><td>45</td><td>50</td></tr>\n",
       "</tbody>\n",
       "</table>\n"
      ],
      "text/latex": [
       "A matrix: 5 × 10 of type int\n",
       "\\begin{tabular}{llllllllll}\n",
       "\t 1 &  6 & 11 & 16 & 21 & 26 & 31 & 36 & 41 & 46\\\\\n",
       "\t 2 &  7 & 12 & 17 & 22 & 27 & 32 & 37 & 42 & 47\\\\\n",
       "\t 3 &  8 & 13 & 18 & 23 & 28 & 33 & 38 & 43 & 48\\\\\n",
       "\t 4 &  9 & 14 & 19 & 24 & 29 & 34 & 39 & 44 & 49\\\\\n",
       "\t 5 & 10 & 15 & 20 & 25 & 30 & 35 & 40 & 45 & 50\\\\\n",
       "\\end{tabular}\n"
      ],
      "text/markdown": [
       "\n",
       "A matrix: 5 × 10 of type int\n",
       "\n",
       "| 1 |  6 | 11 | 16 | 21 | 26 | 31 | 36 | 41 | 46 |\n",
       "| 2 |  7 | 12 | 17 | 22 | 27 | 32 | 37 | 42 | 47 |\n",
       "| 3 |  8 | 13 | 18 | 23 | 28 | 33 | 38 | 43 | 48 |\n",
       "| 4 |  9 | 14 | 19 | 24 | 29 | 34 | 39 | 44 | 49 |\n",
       "| 5 | 10 | 15 | 20 | 25 | 30 | 35 | 40 | 45 | 50 |\n",
       "\n"
      ],
      "text/plain": [
       "     [,1] [,2] [,3] [,4] [,5] [,6] [,7] [,8] [,9] [,10]\n",
       "[1,] 1     6   11   16   21   26   31   36   41   46   \n",
       "[2,] 2     7   12   17   22   27   32   37   42   47   \n",
       "[3,] 3     8   13   18   23   28   33   38   43   48   \n",
       "[4,] 4     9   14   19   24   29   34   39   44   49   \n",
       "[5,] 5    10   15   20   25   30   35   40   45   50   "
      ]
     },
     "metadata": {},
     "output_type": "display_data"
    }
   ],
   "source": [
    "# Criando uma matriz\n",
    "data <- c(1:50)\n",
    "m1 <- matrix(data, nrow=5, ncol=10); m1"
   ]
  },
  {
   "cell_type": "code",
   "execution_count": 7,
   "id": "cb2fb7a5",
   "metadata": {},
   "outputs": [
    {
     "data": {
      "text/html": [
       "<ol>\n",
       "\t<li><style>\n",
       ".list-inline {list-style: none; margin:0; padding: 0}\n",
       ".list-inline>li {display: inline-block}\n",
       ".list-inline>li:not(:last-child)::after {content: \"\\00b7\"; padding: 0 .5ex}\n",
       "</style>\n",
       "<ol class=list-inline><li>1</li><li>2</li><li>3</li><li>4</li><li>5</li><li>6</li></ol>\n",
       "</li>\n",
       "\t<li><table class=\"dataframe\">\n",
       "<caption>A matrix: 5 × 10 of type int</caption>\n",
       "<tbody>\n",
       "\t<tr><td>1</td><td> 6</td><td>11</td><td>16</td><td>21</td><td>26</td><td>31</td><td>36</td><td>41</td><td>46</td></tr>\n",
       "\t<tr><td>2</td><td> 7</td><td>12</td><td>17</td><td>22</td><td>27</td><td>32</td><td>37</td><td>42</td><td>47</td></tr>\n",
       "\t<tr><td>3</td><td> 8</td><td>13</td><td>18</td><td>23</td><td>28</td><td>33</td><td>38</td><td>43</td><td>48</td></tr>\n",
       "\t<tr><td>4</td><td> 9</td><td>14</td><td>19</td><td>24</td><td>29</td><td>34</td><td>39</td><td>44</td><td>49</td></tr>\n",
       "\t<tr><td>5</td><td>10</td><td>15</td><td>20</td><td>25</td><td>30</td><td>35</td><td>40</td><td>45</td><td>50</td></tr>\n",
       "</tbody>\n",
       "</table>\n",
       "</li>\n",
       "</ol>\n"
      ],
      "text/latex": [
       "\\begin{enumerate}\n",
       "\\item \\begin{enumerate*}\n",
       "\\item 1\n",
       "\\item 2\n",
       "\\item 3\n",
       "\\item 4\n",
       "\\item 5\n",
       "\\item 6\n",
       "\\end{enumerate*}\n",
       "\n",
       "\\item A matrix: 5 × 10 of type int\n",
       "\\begin{tabular}{llllllllll}\n",
       "\t 1 &  6 & 11 & 16 & 21 & 26 & 31 & 36 & 41 & 46\\\\\n",
       "\t 2 &  7 & 12 & 17 & 22 & 27 & 32 & 37 & 42 & 47\\\\\n",
       "\t 3 &  8 & 13 & 18 & 23 & 28 & 33 & 38 & 43 & 48\\\\\n",
       "\t 4 &  9 & 14 & 19 & 24 & 29 & 34 & 39 & 44 & 49\\\\\n",
       "\t 5 & 10 & 15 & 20 & 25 & 30 & 35 & 40 & 45 & 50\\\\\n",
       "\\end{tabular}\n",
       "\n",
       "\\end{enumerate}\n"
      ],
      "text/markdown": [
       "1. 1. 1\n",
       "2. 2\n",
       "3. 3\n",
       "4. 4\n",
       "5. 5\n",
       "6. 6\n",
       "\n",
       "\n",
       "\n",
       "2. \n",
       "A matrix: 5 × 10 of type int\n",
       "\n",
       "| 1 |  6 | 11 | 16 | 21 | 26 | 31 | 36 | 41 | 46 |\n",
       "| 2 |  7 | 12 | 17 | 22 | 27 | 32 | 37 | 42 | 47 |\n",
       "| 3 |  8 | 13 | 18 | 23 | 28 | 33 | 38 | 43 | 48 |\n",
       "| 4 |  9 | 14 | 19 | 24 | 29 | 34 | 39 | 44 | 49 |\n",
       "| 5 | 10 | 15 | 20 | 25 | 30 | 35 | 40 | 45 | 50 |\n",
       "\n",
       "\n",
       "\n",
       "\n"
      ],
      "text/plain": [
       "[[1]]\n",
       "[1] 1 2 3 4 5 6\n",
       "\n",
       "[[2]]\n",
       "     [,1] [,2] [,3] [,4] [,5] [,6] [,7] [,8] [,9] [,10]\n",
       "[1,]    1    6   11   16   21   26   31   36   41    46\n",
       "[2,]    2    7   12   17   22   27   32   37   42    47\n",
       "[3,]    3    8   13   18   23   28   33   38   43    48\n",
       "[4,]    4    9   14   19   24   29   34   39   44    49\n",
       "[5,]    5   10   15   20   25   30   35   40   45    50\n"
      ]
     },
     "metadata": {},
     "output_type": "display_data"
    }
   ],
   "source": [
    "# Criando uma lista\n",
    "l1 <- list(v1, m1); l1"
   ]
  },
  {
   "cell_type": "code",
   "execution_count": 29,
   "id": "8e207c93",
   "metadata": {},
   "outputs": [
    {
     "data": {
      "text/html": [
       "<table class=\"dataframe\">\n",
       "<caption>A data.frame: 3 × 3</caption>\n",
       "<thead>\n",
       "\t<tr><th scope=col>vector_character</th><th scope=col>vector_integer</th><th scope=col>vector_boolean</th></tr>\n",
       "\t<tr><th scope=col>&lt;chr&gt;</th><th scope=col>&lt;dbl&gt;</th><th scope=col>&lt;lgl&gt;</th></tr>\n",
       "</thead>\n",
       "<tbody>\n",
       "\t<tr><td>X</td><td>1</td><td> TRUE</td></tr>\n",
       "\t<tr><td>Y</td><td>2</td><td>FALSE</td></tr>\n",
       "\t<tr><td>Z</td><td>3</td><td> TRUE</td></tr>\n",
       "</tbody>\n",
       "</table>\n"
      ],
      "text/latex": [
       "A data.frame: 3 × 3\n",
       "\\begin{tabular}{lll}\n",
       " vector\\_character & vector\\_integer & vector\\_boolean\\\\\n",
       " <chr> & <dbl> & <lgl>\\\\\n",
       "\\hline\n",
       "\t X & 1 &  TRUE\\\\\n",
       "\t Y & 2 & FALSE\\\\\n",
       "\t Z & 3 &  TRUE\\\\\n",
       "\\end{tabular}\n"
      ],
      "text/markdown": [
       "\n",
       "A data.frame: 3 × 3\n",
       "\n",
       "| vector_character &lt;chr&gt; | vector_integer &lt;dbl&gt; | vector_boolean &lt;lgl&gt; |\n",
       "|---|---|---|\n",
       "| X | 1 |  TRUE |\n",
       "| Y | 2 | FALSE |\n",
       "| Z | 3 |  TRUE |\n",
       "\n"
      ],
      "text/plain": [
       "  vector_character vector_integer vector_boolean\n",
       "1 X                1               TRUE         \n",
       "2 Y                2              FALSE         \n",
       "3 Z                3               TRUE         "
      ]
     },
     "metadata": {},
     "output_type": "display_data"
    }
   ],
   "source": [
    "vector_character <- c('X', 'Y', 'Z')\n",
    "vector_integer <- c(1, 2, 3)\n",
    "vector_boolean <- c(TRUE, FALSE, TRUE)\n",
    "\n",
    "df <- data.frame(vector_character, vector_integer, vector_boolean); df"
   ]
  },
  {
   "cell_type": "code",
   "execution_count": 9,
   "id": "d1695582",
   "metadata": {},
   "outputs": [
    {
     "data": {
      "text/html": [
       "<style>\n",
       ".list-inline {list-style: none; margin:0; padding: 0}\n",
       ".list-inline>li {display: inline-block}\n",
       ".list-inline>li:not(:last-child)::after {content: \"\\00b7\"; padding: 0 .5ex}\n",
       "</style>\n",
       "<ol class=list-inline><li>FALSE</li><li>FALSE</li><li>FALSE</li><li>TRUE</li><li>TRUE</li><li>TRUE</li></ol>\n"
      ],
      "text/latex": [
       "\\begin{enumerate*}\n",
       "\\item FALSE\n",
       "\\item FALSE\n",
       "\\item FALSE\n",
       "\\item TRUE\n",
       "\\item TRUE\n",
       "\\item TRUE\n",
       "\\end{enumerate*}\n"
      ],
      "text/markdown": [
       "1. FALSE\n",
       "2. FALSE\n",
       "3. FALSE\n",
       "4. TRUE\n",
       "5. TRUE\n",
       "6. TRUE\n",
       "\n",
       "\n"
      ],
      "text/plain": [
       "[1] FALSE FALSE FALSE  TRUE  TRUE  TRUE"
      ]
     },
     "metadata": {},
     "output_type": "display_data"
    }
   ],
   "source": [
    "v1 > 3"
   ]
  },
  {
   "cell_type": "code",
   "execution_count": 10,
   "id": "a009272e",
   "metadata": {},
   "outputs": [
    {
     "data": {
      "text/html": [
       "<table class=\"dataframe\">\n",
       "<caption>A matrix: 5 × 10 of type lgl</caption>\n",
       "<tbody>\n",
       "\t<tr><td>FALSE</td><td>FALSE</td><td>FALSE</td><td>FALSE</td><td>TRUE</td><td>TRUE</td><td>TRUE</td><td>TRUE</td><td>TRUE</td><td>TRUE</td></tr>\n",
       "\t<tr><td>FALSE</td><td>FALSE</td><td>FALSE</td><td>FALSE</td><td>TRUE</td><td>TRUE</td><td>TRUE</td><td>TRUE</td><td>TRUE</td><td>TRUE</td></tr>\n",
       "\t<tr><td>FALSE</td><td>FALSE</td><td>FALSE</td><td>FALSE</td><td>TRUE</td><td>TRUE</td><td>TRUE</td><td>TRUE</td><td>TRUE</td><td>TRUE</td></tr>\n",
       "\t<tr><td>FALSE</td><td>FALSE</td><td>FALSE</td><td>FALSE</td><td>TRUE</td><td>TRUE</td><td>TRUE</td><td>TRUE</td><td>TRUE</td><td>TRUE</td></tr>\n",
       "\t<tr><td>FALSE</td><td>FALSE</td><td>FALSE</td><td>FALSE</td><td>TRUE</td><td>TRUE</td><td>TRUE</td><td>TRUE</td><td>TRUE</td><td>TRUE</td></tr>\n",
       "</tbody>\n",
       "</table>\n"
      ],
      "text/latex": [
       "A matrix: 5 × 10 of type lgl\n",
       "\\begin{tabular}{llllllllll}\n",
       "\t FALSE & FALSE & FALSE & FALSE & TRUE & TRUE & TRUE & TRUE & TRUE & TRUE\\\\\n",
       "\t FALSE & FALSE & FALSE & FALSE & TRUE & TRUE & TRUE & TRUE & TRUE & TRUE\\\\\n",
       "\t FALSE & FALSE & FALSE & FALSE & TRUE & TRUE & TRUE & TRUE & TRUE & TRUE\\\\\n",
       "\t FALSE & FALSE & FALSE & FALSE & TRUE & TRUE & TRUE & TRUE & TRUE & TRUE\\\\\n",
       "\t FALSE & FALSE & FALSE & FALSE & TRUE & TRUE & TRUE & TRUE & TRUE & TRUE\\\\\n",
       "\\end{tabular}\n"
      ],
      "text/markdown": [
       "\n",
       "A matrix: 5 × 10 of type lgl\n",
       "\n",
       "| FALSE | FALSE | FALSE | FALSE | TRUE | TRUE | TRUE | TRUE | TRUE | TRUE |\n",
       "| FALSE | FALSE | FALSE | FALSE | TRUE | TRUE | TRUE | TRUE | TRUE | TRUE |\n",
       "| FALSE | FALSE | FALSE | FALSE | TRUE | TRUE | TRUE | TRUE | TRUE | TRUE |\n",
       "| FALSE | FALSE | FALSE | FALSE | TRUE | TRUE | TRUE | TRUE | TRUE | TRUE |\n",
       "| FALSE | FALSE | FALSE | FALSE | TRUE | TRUE | TRUE | TRUE | TRUE | TRUE |\n",
       "\n"
      ],
      "text/plain": [
       "     [,1]  [,2]  [,3]  [,4]  [,5] [,6] [,7] [,8] [,9] [,10]\n",
       "[1,] FALSE FALSE FALSE FALSE TRUE TRUE TRUE TRUE TRUE TRUE \n",
       "[2,] FALSE FALSE FALSE FALSE TRUE TRUE TRUE TRUE TRUE TRUE \n",
       "[3,] FALSE FALSE FALSE FALSE TRUE TRUE TRUE TRUE TRUE TRUE \n",
       "[4,] FALSE FALSE FALSE FALSE TRUE TRUE TRUE TRUE TRUE TRUE \n",
       "[5,] FALSE FALSE FALSE FALSE TRUE TRUE TRUE TRUE TRUE TRUE "
      ]
     },
     "metadata": {},
     "output_type": "display_data"
    }
   ],
   "source": [
    "m1 > 20"
   ]
  },
  {
   "cell_type": "code",
   "execution_count": 13,
   "id": "5530d37b",
   "metadata": {},
   "outputs": [
    {
     "name": "stdout",
     "output_type": "stream",
     "text": [
      "[1] \"Pelo menos um elemento do vetor possui o valor 3\"\n"
     ]
    }
   ],
   "source": [
    "for (i in 1:length(v1)) {\n",
    "    if (v1[i] == 3) {\n",
    "        print('Pelo menos um elemento do vetor possui o valor 3')\n",
    "    }\n",
    "}"
   ]
  },
  {
   "cell_type": "code",
   "execution_count": 15,
   "id": "542263cc",
   "metadata": {},
   "outputs": [
    {
     "name": "stdout",
     "output_type": "stream",
     "text": [
      "[1] 2\n",
      "[1] 3\n",
      "[1] 5\n",
      "[1] 7\n",
      "[1] 11\n",
      "[1] 13\n",
      "[1] 17\n",
      "[1] 19\n"
     ]
    }
   ],
   "source": [
    "l2 <- list(2, 3, 5, 7, 11, 13, 17, 19)\n",
    "\n",
    "for (i in l2) print(i)"
   ]
  },
  {
   "cell_type": "code",
   "execution_count": 19,
   "id": "4ed85dc0",
   "metadata": {},
   "outputs": [
    {
     "data": {
      "text/html": [
       "<style>\n",
       ".dl-inline {width: auto; margin:0; padding: 0}\n",
       ".dl-inline>dt, .dl-inline>dd {float: none; width: auto; display: inline-block}\n",
       ".dl-inline>dt::after {content: \":\\0020\"; padding-right: .5ex}\n",
       ".dl-inline>dt:not(:first-of-type) {padding-left: .5ex}\n",
       "</style><dl class=dl-inline><dt>A</dt><dd>1</dd><dt>B</dt><dd>2</dd><dt>C</dt><dd>3</dd><dt>D</dt><dd>4</dd><dt>E</dt><dd>5</dd><dt>F</dt><dd>6</dd></dl>\n"
      ],
      "text/latex": [
       "\\begin{description*}\n",
       "\\item[A] 1\n",
       "\\item[B] 2\n",
       "\\item[C] 3\n",
       "\\item[D] 4\n",
       "\\item[E] 5\n",
       "\\item[F] 6\n",
       "\\end{description*}\n"
      ],
      "text/markdown": [
       "A\n",
       ":   1B\n",
       ":   2C\n",
       ":   3D\n",
       ":   4E\n",
       ":   5F\n",
       ":   6\n",
       "\n"
      ],
      "text/plain": [
       "A B C D E F \n",
       "1 2 3 4 5 6 "
      ]
     },
     "metadata": {},
     "output_type": "display_data"
    }
   ],
   "source": [
    "v1\n",
    "\n",
    "names(v1) <- c('A', 'B', 'C', 'D', 'E', 'F')"
   ]
  },
  {
   "cell_type": "code",
   "execution_count": 31,
   "id": "35c9824e",
   "metadata": {},
   "outputs": [
    {
     "data": {
      "text/html": [
       "<table class=\"dataframe\">\n",
       "<caption>A matrix: 5 × 10 of type int</caption>\n",
       "<thead>\n",
       "\t<tr><th></th><th scope=col>COL1</th><th scope=col>COL2</th><th scope=col>COL3</th><th scope=col>COL4</th><th scope=col>COL5</th><th scope=col>COL6</th><th scope=col>COL7</th><th scope=col>COL8</th><th scope=col>COL9</th><th scope=col>COL10</th></tr>\n",
       "</thead>\n",
       "<tbody>\n",
       "\t<tr><th scope=row>OBS1</th><td>1</td><td> 6</td><td>11</td><td>16</td><td>21</td><td>26</td><td>31</td><td>36</td><td>41</td><td>46</td></tr>\n",
       "\t<tr><th scope=row>OBS2</th><td>2</td><td> 7</td><td>12</td><td>17</td><td>22</td><td>27</td><td>32</td><td>37</td><td>42</td><td>47</td></tr>\n",
       "\t<tr><th scope=row>OBS3</th><td>3</td><td> 8</td><td>13</td><td>18</td><td>23</td><td>28</td><td>33</td><td>38</td><td>43</td><td>48</td></tr>\n",
       "\t<tr><th scope=row>OBS4</th><td>4</td><td> 9</td><td>14</td><td>19</td><td>24</td><td>29</td><td>34</td><td>39</td><td>44</td><td>49</td></tr>\n",
       "\t<tr><th scope=row>OBS5</th><td>5</td><td>10</td><td>15</td><td>20</td><td>25</td><td>30</td><td>35</td><td>40</td><td>45</td><td>50</td></tr>\n",
       "</tbody>\n",
       "</table>\n"
      ],
      "text/latex": [
       "A matrix: 5 × 10 of type int\n",
       "\\begin{tabular}{r|llllllllll}\n",
       "  & COL1 & COL2 & COL3 & COL4 & COL5 & COL6 & COL7 & COL8 & COL9 & COL10\\\\\n",
       "\\hline\n",
       "\tOBS1 & 1 &  6 & 11 & 16 & 21 & 26 & 31 & 36 & 41 & 46\\\\\n",
       "\tOBS2 & 2 &  7 & 12 & 17 & 22 & 27 & 32 & 37 & 42 & 47\\\\\n",
       "\tOBS3 & 3 &  8 & 13 & 18 & 23 & 28 & 33 & 38 & 43 & 48\\\\\n",
       "\tOBS4 & 4 &  9 & 14 & 19 & 24 & 29 & 34 & 39 & 44 & 49\\\\\n",
       "\tOBS5 & 5 & 10 & 15 & 20 & 25 & 30 & 35 & 40 & 45 & 50\\\\\n",
       "\\end{tabular}\n"
      ],
      "text/markdown": [
       "\n",
       "A matrix: 5 × 10 of type int\n",
       "\n",
       "| <!--/--> | COL1 | COL2 | COL3 | COL4 | COL5 | COL6 | COL7 | COL8 | COL9 | COL10 |\n",
       "|---|---|---|---|---|---|---|---|---|---|---|\n",
       "| OBS1 | 1 |  6 | 11 | 16 | 21 | 26 | 31 | 36 | 41 | 46 |\n",
       "| OBS2 | 2 |  7 | 12 | 17 | 22 | 27 | 32 | 37 | 42 | 47 |\n",
       "| OBS3 | 3 |  8 | 13 | 18 | 23 | 28 | 33 | 38 | 43 | 48 |\n",
       "| OBS4 | 4 |  9 | 14 | 19 | 24 | 29 | 34 | 39 | 44 | 49 |\n",
       "| OBS5 | 5 | 10 | 15 | 20 | 25 | 30 | 35 | 40 | 45 | 50 |\n",
       "\n"
      ],
      "text/plain": [
       "     COL1 COL2 COL3 COL4 COL5 COL6 COL7 COL8 COL9 COL10\n",
       "OBS1 1     6   11   16   21   26   31   36   41   46   \n",
       "OBS2 2     7   12   17   22   27   32   37   42   47   \n",
       "OBS3 3     8   13   18   23   28   33   38   43   48   \n",
       "OBS4 4     9   14   19   24   29   34   39   44   49   \n",
       "OBS5 5    10   15   20   25   30   35   40   45   50   "
      ]
     },
     "metadata": {},
     "output_type": "display_data"
    }
   ],
   "source": [
    "linhas = c('OBS1', 'OBS2', 'OBS3', 'OBS4', 'OBS5')\n",
    "colunas = c('COL1', 'COL2', 'COL3', 'COL4', 'COL5', 'COL6', 'COL7', 'COL8', 'COL9', 'COL10')\n",
    "\n",
    "dimnames(m1) <- list(linhas, colunas)\n",
    "\n",
    "m1"
   ]
  },
  {
   "cell_type": "code",
   "execution_count": 32,
   "id": "9b98caa6",
   "metadata": {},
   "outputs": [
    {
     "data": {
      "text/html": [
       "<table class=\"dataframe\">\n",
       "<caption>A data.frame: 3 × 3</caption>\n",
       "<thead>\n",
       "\t<tr><th></th><th scope=col>CHAR</th><th scope=col>INTEGER</th><th scope=col>BOOLEAN</th></tr>\n",
       "\t<tr><th></th><th scope=col>&lt;chr&gt;</th><th scope=col>&lt;dbl&gt;</th><th scope=col>&lt;lgl&gt;</th></tr>\n",
       "</thead>\n",
       "<tbody>\n",
       "\t<tr><th scope=row>OBS1</th><td>X</td><td>1</td><td> TRUE</td></tr>\n",
       "\t<tr><th scope=row>OBS2</th><td>Y</td><td>2</td><td>FALSE</td></tr>\n",
       "\t<tr><th scope=row>OBS3</th><td>Z</td><td>3</td><td> TRUE</td></tr>\n",
       "</tbody>\n",
       "</table>\n"
      ],
      "text/latex": [
       "A data.frame: 3 × 3\n",
       "\\begin{tabular}{r|lll}\n",
       "  & CHAR & INTEGER & BOOLEAN\\\\\n",
       "  & <chr> & <dbl> & <lgl>\\\\\n",
       "\\hline\n",
       "\tOBS1 & X & 1 &  TRUE\\\\\n",
       "\tOBS2 & Y & 2 & FALSE\\\\\n",
       "\tOBS3 & Z & 3 &  TRUE\\\\\n",
       "\\end{tabular}\n"
      ],
      "text/markdown": [
       "\n",
       "A data.frame: 3 × 3\n",
       "\n",
       "| <!--/--> | CHAR &lt;chr&gt; | INTEGER &lt;dbl&gt; | BOOLEAN &lt;lgl&gt; |\n",
       "|---|---|---|---|\n",
       "| OBS1 | X | 1 |  TRUE |\n",
       "| OBS2 | Y | 2 | FALSE |\n",
       "| OBS3 | Z | 3 |  TRUE |\n",
       "\n"
      ],
      "text/plain": [
       "     CHAR INTEGER BOOLEAN\n",
       "OBS1 X    1        TRUE  \n",
       "OBS2 Y    2       FALSE  \n",
       "OBS3 Z    3        TRUE  "
      ]
     },
     "metadata": {},
     "output_type": "display_data"
    }
   ],
   "source": [
    "colnames(df) <- c('CHAR', 'INTEGER', 'BOOLEAN')\n",
    "rownames(df) <- c('OBS1', 'OBS2', 'OBS3')\n",
    "\n",
    "df"
   ]
  },
  {
   "cell_type": "code",
   "execution_count": 34,
   "id": "41eaf499",
   "metadata": {},
   "outputs": [
    {
     "data": {
      "text/html": [
       "TRUE"
      ],
      "text/latex": [
       "TRUE"
      ],
      "text/markdown": [
       "TRUE"
      ],
      "text/plain": [
       "[1] TRUE"
      ]
     },
     "metadata": {},
     "output_type": "display_data"
    },
    {
     "data": {
      "text/html": [
       "FALSE"
      ],
      "text/latex": [
       "FALSE"
      ],
      "text/markdown": [
       "FALSE"
      ],
      "text/plain": [
       "[1] FALSE"
      ]
     },
     "metadata": {},
     "output_type": "display_data"
    }
   ],
   "source": [
    "is.vector(v1)\n",
    "\n",
    "is.vector(m1)"
   ]
  },
  {
   "cell_type": "code",
   "execution_count": 42,
   "id": "7faee3a4",
   "metadata": {},
   "outputs": [
    {
     "data": {
      "text/html": [
       "<style>\n",
       ".list-inline {list-style: none; margin:0; padding: 0}\n",
       ".list-inline>li {display: inline-block}\n",
       ".list-inline>li:not(:last-child)::after {content: \"\\00b7\"; padding: 0 .5ex}\n",
       "</style>\n",
       "<ol class=list-inline><li>1</li><li>2</li><li>3</li><li>4</li><li>5</li><li>6</li><li>7</li><li>8</li><li>9</li><li>10</li><li>11</li><li>12</li><li>13</li><li>14</li><li>15</li><li>16</li><li>17</li><li>18</li><li>19</li><li>20</li><li>21</li><li>22</li><li>23</li><li>24</li><li>25</li><li>26</li><li>27</li><li>28</li><li>29</li><li>30</li><li>31</li><li>32</li><li>33</li><li>34</li><li>35</li><li>36</li><li>37</li><li>38</li><li>39</li><li>40</li><li>41</li><li>42</li><li>43</li><li>44</li><li>45</li><li>46</li><li>47</li><li>48</li><li>49</li><li>50</li></ol>\n"
      ],
      "text/latex": [
       "\\begin{enumerate*}\n",
       "\\item 1\n",
       "\\item 2\n",
       "\\item 3\n",
       "\\item 4\n",
       "\\item 5\n",
       "\\item 6\n",
       "\\item 7\n",
       "\\item 8\n",
       "\\item 9\n",
       "\\item 10\n",
       "\\item 11\n",
       "\\item 12\n",
       "\\item 13\n",
       "\\item 14\n",
       "\\item 15\n",
       "\\item 16\n",
       "\\item 17\n",
       "\\item 18\n",
       "\\item 19\n",
       "\\item 20\n",
       "\\item 21\n",
       "\\item 22\n",
       "\\item 23\n",
       "\\item 24\n",
       "\\item 25\n",
       "\\item 26\n",
       "\\item 27\n",
       "\\item 28\n",
       "\\item 29\n",
       "\\item 30\n",
       "\\item 31\n",
       "\\item 32\n",
       "\\item 33\n",
       "\\item 34\n",
       "\\item 35\n",
       "\\item 36\n",
       "\\item 37\n",
       "\\item 38\n",
       "\\item 39\n",
       "\\item 40\n",
       "\\item 41\n",
       "\\item 42\n",
       "\\item 43\n",
       "\\item 44\n",
       "\\item 45\n",
       "\\item 46\n",
       "\\item 47\n",
       "\\item 48\n",
       "\\item 49\n",
       "\\item 50\n",
       "\\end{enumerate*}\n"
      ],
      "text/markdown": [
       "1. 1\n",
       "2. 2\n",
       "3. 3\n",
       "4. 4\n",
       "5. 5\n",
       "6. 6\n",
       "7. 7\n",
       "8. 8\n",
       "9. 9\n",
       "10. 10\n",
       "11. 11\n",
       "12. 12\n",
       "13. 13\n",
       "14. 14\n",
       "15. 15\n",
       "16. 16\n",
       "17. 17\n",
       "18. 18\n",
       "19. 19\n",
       "20. 20\n",
       "21. 21\n",
       "22. 22\n",
       "23. 23\n",
       "24. 24\n",
       "25. 25\n",
       "26. 26\n",
       "27. 27\n",
       "28. 28\n",
       "29. 29\n",
       "30. 30\n",
       "31. 31\n",
       "32. 32\n",
       "33. 33\n",
       "34. 34\n",
       "35. 35\n",
       "36. 36\n",
       "37. 37\n",
       "38. 38\n",
       "39. 39\n",
       "40. 40\n",
       "41. 41\n",
       "42. 42\n",
       "43. 43\n",
       "44. 44\n",
       "45. 45\n",
       "46. 46\n",
       "47. 47\n",
       "48. 48\n",
       "49. 49\n",
       "50. 50\n",
       "\n",
       "\n"
      ],
      "text/plain": [
       " [1]  1  2  3  4  5  6  7  8  9 10 11 12 13 14 15 16 17 18 19 20 21 22 23 24 25\n",
       "[26] 26 27 28 29 30 31 32 33 34 35 36 37 38 39 40 41 42 43 44 45 46 47 48 49 50"
      ]
     },
     "metadata": {},
     "output_type": "display_data"
    },
    {
     "data": {
      "text/html": [
       "<dl>\n",
       "\t<dt>$A</dt>\n",
       "\t\t<dd>1</dd>\n",
       "\t<dt>$B</dt>\n",
       "\t\t<dd>2</dd>\n",
       "\t<dt>$C</dt>\n",
       "\t\t<dd>3</dd>\n",
       "\t<dt>$D</dt>\n",
       "\t\t<dd>4</dd>\n",
       "\t<dt>$E</dt>\n",
       "\t\t<dd>5</dd>\n",
       "\t<dt>$F</dt>\n",
       "\t\t<dd>6</dd>\n",
       "</dl>\n"
      ],
      "text/latex": [
       "\\begin{description}\n",
       "\\item[\\$A] 1\n",
       "\\item[\\$B] 2\n",
       "\\item[\\$C] 3\n",
       "\\item[\\$D] 4\n",
       "\\item[\\$E] 5\n",
       "\\item[\\$F] 6\n",
       "\\end{description}\n"
      ],
      "text/markdown": [
       "$A\n",
       ":   1\n",
       "$B\n",
       ":   2\n",
       "$C\n",
       ":   3\n",
       "$D\n",
       ":   4\n",
       "$E\n",
       ":   5\n",
       "$F\n",
       ":   6\n",
       "\n",
       "\n"
      ],
      "text/plain": [
       "$A\n",
       "[1] 1\n",
       "\n",
       "$B\n",
       "[1] 2\n",
       "\n",
       "$C\n",
       "[1] 3\n",
       "\n",
       "$D\n",
       "[1] 4\n",
       "\n",
       "$E\n",
       "[1] 5\n",
       "\n",
       "$F\n",
       "[1] 6\n"
      ]
     },
     "metadata": {},
     "output_type": "display_data"
    },
    {
     "data": {
      "text/html": [
       "<table class=\"dataframe\">\n",
       "<caption>A data.frame: 5 × 10</caption>\n",
       "<thead>\n",
       "\t<tr><th></th><th scope=col>COL1</th><th scope=col>COL2</th><th scope=col>COL3</th><th scope=col>COL4</th><th scope=col>COL5</th><th scope=col>COL6</th><th scope=col>COL7</th><th scope=col>COL8</th><th scope=col>COL9</th><th scope=col>COL10</th></tr>\n",
       "\t<tr><th></th><th scope=col>&lt;int&gt;</th><th scope=col>&lt;int&gt;</th><th scope=col>&lt;int&gt;</th><th scope=col>&lt;int&gt;</th><th scope=col>&lt;int&gt;</th><th scope=col>&lt;int&gt;</th><th scope=col>&lt;int&gt;</th><th scope=col>&lt;int&gt;</th><th scope=col>&lt;int&gt;</th><th scope=col>&lt;int&gt;</th></tr>\n",
       "</thead>\n",
       "<tbody>\n",
       "\t<tr><th scope=row>OBS1</th><td>1</td><td> 6</td><td>11</td><td>16</td><td>21</td><td>26</td><td>31</td><td>36</td><td>41</td><td>46</td></tr>\n",
       "\t<tr><th scope=row>OBS2</th><td>2</td><td> 7</td><td>12</td><td>17</td><td>22</td><td>27</td><td>32</td><td>37</td><td>42</td><td>47</td></tr>\n",
       "\t<tr><th scope=row>OBS3</th><td>3</td><td> 8</td><td>13</td><td>18</td><td>23</td><td>28</td><td>33</td><td>38</td><td>43</td><td>48</td></tr>\n",
       "\t<tr><th scope=row>OBS4</th><td>4</td><td> 9</td><td>14</td><td>19</td><td>24</td><td>29</td><td>34</td><td>39</td><td>44</td><td>49</td></tr>\n",
       "\t<tr><th scope=row>OBS5</th><td>5</td><td>10</td><td>15</td><td>20</td><td>25</td><td>30</td><td>35</td><td>40</td><td>45</td><td>50</td></tr>\n",
       "</tbody>\n",
       "</table>\n"
      ],
      "text/latex": [
       "A data.frame: 5 × 10\n",
       "\\begin{tabular}{r|llllllllll}\n",
       "  & COL1 & COL2 & COL3 & COL4 & COL5 & COL6 & COL7 & COL8 & COL9 & COL10\\\\\n",
       "  & <int> & <int> & <int> & <int> & <int> & <int> & <int> & <int> & <int> & <int>\\\\\n",
       "\\hline\n",
       "\tOBS1 & 1 &  6 & 11 & 16 & 21 & 26 & 31 & 36 & 41 & 46\\\\\n",
       "\tOBS2 & 2 &  7 & 12 & 17 & 22 & 27 & 32 & 37 & 42 & 47\\\\\n",
       "\tOBS3 & 3 &  8 & 13 & 18 & 23 & 28 & 33 & 38 & 43 & 48\\\\\n",
       "\tOBS4 & 4 &  9 & 14 & 19 & 24 & 29 & 34 & 39 & 44 & 49\\\\\n",
       "\tOBS5 & 5 & 10 & 15 & 20 & 25 & 30 & 35 & 40 & 45 & 50\\\\\n",
       "\\end{tabular}\n"
      ],
      "text/markdown": [
       "\n",
       "A data.frame: 5 × 10\n",
       "\n",
       "| <!--/--> | COL1 &lt;int&gt; | COL2 &lt;int&gt; | COL3 &lt;int&gt; | COL4 &lt;int&gt; | COL5 &lt;int&gt; | COL6 &lt;int&gt; | COL7 &lt;int&gt; | COL8 &lt;int&gt; | COL9 &lt;int&gt; | COL10 &lt;int&gt; |\n",
       "|---|---|---|---|---|---|---|---|---|---|---|\n",
       "| OBS1 | 1 |  6 | 11 | 16 | 21 | 26 | 31 | 36 | 41 | 46 |\n",
       "| OBS2 | 2 |  7 | 12 | 17 | 22 | 27 | 32 | 37 | 42 | 47 |\n",
       "| OBS3 | 3 |  8 | 13 | 18 | 23 | 28 | 33 | 38 | 43 | 48 |\n",
       "| OBS4 | 4 |  9 | 14 | 19 | 24 | 29 | 34 | 39 | 44 | 49 |\n",
       "| OBS5 | 5 | 10 | 15 | 20 | 25 | 30 | 35 | 40 | 45 | 50 |\n",
       "\n"
      ],
      "text/plain": [
       "     COL1 COL2 COL3 COL4 COL5 COL6 COL7 COL8 COL9 COL10\n",
       "OBS1 1     6   11   16   21   26   31   36   41   46   \n",
       "OBS2 2     7   12   17   22   27   32   37   42   47   \n",
       "OBS3 3     8   13   18   23   28   33   38   43   48   \n",
       "OBS4 4     9   14   19   24   29   34   39   44   49   \n",
       "OBS5 5    10   15   20   25   30   35   40   45   50   "
      ]
     },
     "metadata": {},
     "output_type": "display_data"
    }
   ],
   "source": [
    "as.vector(m1)\n",
    "\n",
    "as.list(v1)\n",
    "\n",
    "as.data.frame(m1)"
   ]
  },
  {
   "cell_type": "code",
   "execution_count": 45,
   "id": "13a3ebef",
   "metadata": {
    "scrolled": true
   },
   "outputs": [
    {
     "data": {
      "text/html": [
       "<table class=\"dataframe\">\n",
       "<caption>A data.frame: 3 × 3</caption>\n",
       "<thead>\n",
       "\t<tr><th></th><th scope=col>CHAR</th><th scope=col>INTEGER</th><th scope=col>BOOLEAN</th></tr>\n",
       "\t<tr><th></th><th scope=col>&lt;chr&gt;</th><th scope=col>&lt;dbl&gt;</th><th scope=col>&lt;lgl&gt;</th></tr>\n",
       "</thead>\n",
       "<tbody>\n",
       "\t<tr><th scope=row>OBS1</th><td>X</td><td>1</td><td> TRUE</td></tr>\n",
       "\t<tr><th scope=row>OBS2</th><td>Y</td><td>2</td><td>FALSE</td></tr>\n",
       "\t<tr><th scope=row>OBS3</th><td>Z</td><td>3</td><td> TRUE</td></tr>\n",
       "</tbody>\n",
       "</table>\n"
      ],
      "text/latex": [
       "A data.frame: 3 × 3\n",
       "\\begin{tabular}{r|lll}\n",
       "  & CHAR & INTEGER & BOOLEAN\\\\\n",
       "  & <chr> & <dbl> & <lgl>\\\\\n",
       "\\hline\n",
       "\tOBS1 & X & 1 &  TRUE\\\\\n",
       "\tOBS2 & Y & 2 & FALSE\\\\\n",
       "\tOBS3 & Z & 3 &  TRUE\\\\\n",
       "\\end{tabular}\n"
      ],
      "text/markdown": [
       "\n",
       "A data.frame: 3 × 3\n",
       "\n",
       "| <!--/--> | CHAR &lt;chr&gt; | INTEGER &lt;dbl&gt; | BOOLEAN &lt;lgl&gt; |\n",
       "|---|---|---|---|\n",
       "| OBS1 | X | 1 |  TRUE |\n",
       "| OBS2 | Y | 2 | FALSE |\n",
       "| OBS3 | Z | 3 |  TRUE |\n",
       "\n"
      ],
      "text/plain": [
       "     CHAR INTEGER BOOLEAN\n",
       "OBS1 X    1        TRUE  \n",
       "OBS2 Y    2       FALSE  \n",
       "OBS3 Z    3        TRUE  "
      ]
     },
     "metadata": {},
     "output_type": "display_data"
    },
    {
     "data": {
      "text/html": [
       "<table class=\"dataframe\">\n",
       "<caption>A matrix: 3 × 3 of type chr</caption>\n",
       "<thead>\n",
       "\t<tr><th></th><th scope=col>CHAR</th><th scope=col>INTEGER</th><th scope=col>BOOLEAN</th></tr>\n",
       "</thead>\n",
       "<tbody>\n",
       "\t<tr><th scope=row>OBS1</th><td>X</td><td>1</td><td>TRUE </td></tr>\n",
       "\t<tr><th scope=row>OBS2</th><td>Y</td><td>2</td><td>FALSE</td></tr>\n",
       "\t<tr><th scope=row>OBS3</th><td>Z</td><td>3</td><td>TRUE </td></tr>\n",
       "</tbody>\n",
       "</table>\n"
      ],
      "text/latex": [
       "A matrix: 3 × 3 of type chr\n",
       "\\begin{tabular}{r|lll}\n",
       "  & CHAR & INTEGER & BOOLEAN\\\\\n",
       "\\hline\n",
       "\tOBS1 & X & 1 & TRUE \\\\\n",
       "\tOBS2 & Y & 2 & FALSE\\\\\n",
       "\tOBS3 & Z & 3 & TRUE \\\\\n",
       "\\end{tabular}\n"
      ],
      "text/markdown": [
       "\n",
       "A matrix: 3 × 3 of type chr\n",
       "\n",
       "| <!--/--> | CHAR | INTEGER | BOOLEAN |\n",
       "|---|---|---|---|\n",
       "| OBS1 | X | 1 | TRUE  |\n",
       "| OBS2 | Y | 2 | FALSE |\n",
       "| OBS3 | Z | 3 | TRUE  |\n",
       "\n"
      ],
      "text/plain": [
       "     CHAR INTEGER BOOLEAN\n",
       "OBS1 X    1       TRUE   \n",
       "OBS2 Y    2       FALSE  \n",
       "OBS3 Z    3       TRUE   "
      ]
     },
     "metadata": {},
     "output_type": "display_data"
    },
    {
     "ename": "ERROR",
     "evalue": "Error in eval(expr, envir, enclos): 'list' object cannot be coerced to type 'double'\n",
     "output_type": "error",
     "traceback": [
      "Error in eval(expr, envir, enclos): 'list' object cannot be coerced to type 'double'\nTraceback:\n"
     ]
    }
   ],
   "source": [
    "df\n",
    "\n",
    "as.matrix(df)\n",
    "\n",
    "as.numeric(df)"
   ]
  },
  {
   "cell_type": "code",
   "execution_count": 60,
   "id": "75edca6c",
   "metadata": {},
   "outputs": [
    {
     "data": {
      "text/html": [
       "<table class=\"dataframe\">\n",
       "<caption>A matrix: 10 × 9 of type int</caption>\n",
       "<tbody>\n",
       "\t<tr><td> 1</td><td>11</td><td>21</td><td>31</td><td>41</td><td>51</td><td>61</td><td>71</td><td>81</td></tr>\n",
       "\t<tr><td> 2</td><td>12</td><td>22</td><td>32</td><td>42</td><td>52</td><td>62</td><td>72</td><td>82</td></tr>\n",
       "\t<tr><td> 3</td><td>13</td><td>23</td><td>33</td><td>43</td><td>53</td><td>63</td><td>73</td><td>83</td></tr>\n",
       "\t<tr><td> 4</td><td>14</td><td>24</td><td>34</td><td>44</td><td>54</td><td>64</td><td>74</td><td>84</td></tr>\n",
       "\t<tr><td> 5</td><td>15</td><td>25</td><td>35</td><td>45</td><td>55</td><td>65</td><td>75</td><td>85</td></tr>\n",
       "\t<tr><td> 6</td><td>16</td><td>26</td><td>36</td><td>46</td><td>56</td><td>66</td><td>76</td><td>86</td></tr>\n",
       "\t<tr><td> 7</td><td>17</td><td>27</td><td>37</td><td>47</td><td>57</td><td>67</td><td>77</td><td>87</td></tr>\n",
       "\t<tr><td> 8</td><td>18</td><td>28</td><td>38</td><td>48</td><td>58</td><td>68</td><td>78</td><td>88</td></tr>\n",
       "\t<tr><td> 9</td><td>19</td><td>29</td><td>39</td><td>49</td><td>59</td><td>69</td><td>79</td><td>89</td></tr>\n",
       "\t<tr><td>10</td><td>20</td><td>30</td><td>40</td><td>50</td><td>60</td><td>70</td><td>80</td><td>90</td></tr>\n",
       "</tbody>\n",
       "</table>\n"
      ],
      "text/latex": [
       "A matrix: 10 × 9 of type int\n",
       "\\begin{tabular}{lllllllll}\n",
       "\t  1 & 11 & 21 & 31 & 41 & 51 & 61 & 71 & 81\\\\\n",
       "\t  2 & 12 & 22 & 32 & 42 & 52 & 62 & 72 & 82\\\\\n",
       "\t  3 & 13 & 23 & 33 & 43 & 53 & 63 & 73 & 83\\\\\n",
       "\t  4 & 14 & 24 & 34 & 44 & 54 & 64 & 74 & 84\\\\\n",
       "\t  5 & 15 & 25 & 35 & 45 & 55 & 65 & 75 & 85\\\\\n",
       "\t  6 & 16 & 26 & 36 & 46 & 56 & 66 & 76 & 86\\\\\n",
       "\t  7 & 17 & 27 & 37 & 47 & 57 & 67 & 77 & 87\\\\\n",
       "\t  8 & 18 & 28 & 38 & 48 & 58 & 68 & 78 & 88\\\\\n",
       "\t  9 & 19 & 29 & 39 & 49 & 59 & 69 & 79 & 89\\\\\n",
       "\t 10 & 20 & 30 & 40 & 50 & 60 & 70 & 80 & 90\\\\\n",
       "\\end{tabular}\n"
      ],
      "text/markdown": [
       "\n",
       "A matrix: 10 × 9 of type int\n",
       "\n",
       "|  1 | 11 | 21 | 31 | 41 | 51 | 61 | 71 | 81 |\n",
       "|  2 | 12 | 22 | 32 | 42 | 52 | 62 | 72 | 82 |\n",
       "|  3 | 13 | 23 | 33 | 43 | 53 | 63 | 73 | 83 |\n",
       "|  4 | 14 | 24 | 34 | 44 | 54 | 64 | 74 | 84 |\n",
       "|  5 | 15 | 25 | 35 | 45 | 55 | 65 | 75 | 85 |\n",
       "|  6 | 16 | 26 | 36 | 46 | 56 | 66 | 76 | 86 |\n",
       "|  7 | 17 | 27 | 37 | 47 | 57 | 67 | 77 | 87 |\n",
       "|  8 | 18 | 28 | 38 | 48 | 58 | 68 | 78 | 88 |\n",
       "|  9 | 19 | 29 | 39 | 49 | 59 | 69 | 79 | 89 |\n",
       "| 10 | 20 | 30 | 40 | 50 | 60 | 70 | 80 | 90 |\n",
       "\n"
      ],
      "text/plain": [
       "      [,1] [,2] [,3] [,4] [,5] [,6] [,7] [,8] [,9]\n",
       " [1,]  1   11   21   31   41   51   61   71   81  \n",
       " [2,]  2   12   22   32   42   52   62   72   82  \n",
       " [3,]  3   13   23   33   43   53   63   73   83  \n",
       " [4,]  4   14   24   34   44   54   64   74   84  \n",
       " [5,]  5   15   25   35   45   55   65   75   85  \n",
       " [6,]  6   16   26   36   46   56   66   76   86  \n",
       " [7,]  7   17   27   37   47   57   67   77   87  \n",
       " [8,]  8   18   28   38   48   58   68   78   88  \n",
       " [9,]  9   19   29   39   49   59   69   79   89  \n",
       "[10,] 10   20   30   40   50   60   70   80   90  "
      ]
     },
     "metadata": {},
     "output_type": "display_data"
    },
    {
     "data": {
      "text/html": [
       "<table class=\"dataframe\">\n",
       "<caption>A matrix: 10 × 9 of type int</caption>\n",
       "<tbody>\n",
       "\t<tr><td>NA</td><td>NA</td><td>21</td><td>31</td><td>41</td><td>51</td><td>61</td><td>71</td><td>81</td></tr>\n",
       "\t<tr><td>NA</td><td>12</td><td>22</td><td>32</td><td>NA</td><td>52</td><td>62</td><td>72</td><td>82</td></tr>\n",
       "\t<tr><td> 3</td><td>13</td><td>23</td><td>33</td><td>43</td><td>53</td><td>63</td><td>73</td><td>83</td></tr>\n",
       "\t<tr><td> 4</td><td>14</td><td>24</td><td>34</td><td>NA</td><td>54</td><td>64</td><td>74</td><td>84</td></tr>\n",
       "\t<tr><td> 5</td><td>15</td><td>25</td><td>NA</td><td>45</td><td>55</td><td>65</td><td>75</td><td>85</td></tr>\n",
       "\t<tr><td>NA</td><td>NA</td><td>26</td><td>36</td><td>NA</td><td>56</td><td>66</td><td>76</td><td>86</td></tr>\n",
       "\t<tr><td> 7</td><td>17</td><td>27</td><td>37</td><td>47</td><td>57</td><td>67</td><td>77</td><td>87</td></tr>\n",
       "\t<tr><td> 8</td><td>18</td><td>28</td><td>38</td><td>48</td><td>58</td><td>68</td><td>78</td><td>88</td></tr>\n",
       "\t<tr><td> 9</td><td>19</td><td>29</td><td>NA</td><td>49</td><td>59</td><td>69</td><td>79</td><td>89</td></tr>\n",
       "\t<tr><td>10</td><td>20</td><td>30</td><td>40</td><td>50</td><td>60</td><td>70</td><td>80</td><td>90</td></tr>\n",
       "</tbody>\n",
       "</table>\n"
      ],
      "text/latex": [
       "A matrix: 10 × 9 of type int\n",
       "\\begin{tabular}{lllllllll}\n",
       "\t NA & NA & 21 & 31 & 41 & 51 & 61 & 71 & 81\\\\\n",
       "\t NA & 12 & 22 & 32 & NA & 52 & 62 & 72 & 82\\\\\n",
       "\t  3 & 13 & 23 & 33 & 43 & 53 & 63 & 73 & 83\\\\\n",
       "\t  4 & 14 & 24 & 34 & NA & 54 & 64 & 74 & 84\\\\\n",
       "\t  5 & 15 & 25 & NA & 45 & 55 & 65 & 75 & 85\\\\\n",
       "\t NA & NA & 26 & 36 & NA & 56 & 66 & 76 & 86\\\\\n",
       "\t  7 & 17 & 27 & 37 & 47 & 57 & 67 & 77 & 87\\\\\n",
       "\t  8 & 18 & 28 & 38 & 48 & 58 & 68 & 78 & 88\\\\\n",
       "\t  9 & 19 & 29 & NA & 49 & 59 & 69 & 79 & 89\\\\\n",
       "\t 10 & 20 & 30 & 40 & 50 & 60 & 70 & 80 & 90\\\\\n",
       "\\end{tabular}\n"
      ],
      "text/markdown": [
       "\n",
       "A matrix: 10 × 9 of type int\n",
       "\n",
       "| NA | NA | 21 | 31 | 41 | 51 | 61 | 71 | 81 |\n",
       "| NA | 12 | 22 | 32 | NA | 52 | 62 | 72 | 82 |\n",
       "|  3 | 13 | 23 | 33 | 43 | 53 | 63 | 73 | 83 |\n",
       "|  4 | 14 | 24 | 34 | NA | 54 | 64 | 74 | 84 |\n",
       "|  5 | 15 | 25 | NA | 45 | 55 | 65 | 75 | 85 |\n",
       "| NA | NA | 26 | 36 | NA | 56 | 66 | 76 | 86 |\n",
       "|  7 | 17 | 27 | 37 | 47 | 57 | 67 | 77 | 87 |\n",
       "|  8 | 18 | 28 | 38 | 48 | 58 | 68 | 78 | 88 |\n",
       "|  9 | 19 | 29 | NA | 49 | 59 | 69 | 79 | 89 |\n",
       "| 10 | 20 | 30 | 40 | 50 | 60 | 70 | 80 | 90 |\n",
       "\n"
      ],
      "text/plain": [
       "      [,1] [,2] [,3] [,4] [,5] [,6] [,7] [,8] [,9]\n",
       " [1,] NA   NA   21   31   41   51   61   71   81  \n",
       " [2,] NA   12   22   32   NA   52   62   72   82  \n",
       " [3,]  3   13   23   33   43   53   63   73   83  \n",
       " [4,]  4   14   24   34   NA   54   64   74   84  \n",
       " [5,]  5   15   25   NA   45   55   65   75   85  \n",
       " [6,] NA   NA   26   36   NA   56   66   76   86  \n",
       " [7,]  7   17   27   37   47   57   67   77   87  \n",
       " [8,]  8   18   28   38   48   58   68   78   88  \n",
       " [9,]  9   19   29   NA   49   59   69   79   89  \n",
       "[10,] 10   20   30   40   50   60   70   80   90  "
      ]
     },
     "metadata": {},
     "output_type": "display_data"
    }
   ],
   "source": [
    "m2 <- matrix(1:90, nrow=10); m2\n",
    "\n",
    "m2[sample(1:50, 10)] <- NA\n",
    "\n",
    "m2"
   ]
  },
  {
   "cell_type": "code",
   "execution_count": 61,
   "id": "742944eb",
   "metadata": {},
   "outputs": [
    {
     "data": {
      "text/html": [
       "<table class=\"dataframe\">\n",
       "<caption>A matrix: 10 × 9 of type lgl</caption>\n",
       "<tbody>\n",
       "\t<tr><td> TRUE</td><td> TRUE</td><td>FALSE</td><td>FALSE</td><td>FALSE</td><td>FALSE</td><td>FALSE</td><td>FALSE</td><td>FALSE</td></tr>\n",
       "\t<tr><td> TRUE</td><td>FALSE</td><td>FALSE</td><td>FALSE</td><td> TRUE</td><td>FALSE</td><td>FALSE</td><td>FALSE</td><td>FALSE</td></tr>\n",
       "\t<tr><td>FALSE</td><td>FALSE</td><td>FALSE</td><td>FALSE</td><td>FALSE</td><td>FALSE</td><td>FALSE</td><td>FALSE</td><td>FALSE</td></tr>\n",
       "\t<tr><td>FALSE</td><td>FALSE</td><td>FALSE</td><td>FALSE</td><td> TRUE</td><td>FALSE</td><td>FALSE</td><td>FALSE</td><td>FALSE</td></tr>\n",
       "\t<tr><td>FALSE</td><td>FALSE</td><td>FALSE</td><td> TRUE</td><td>FALSE</td><td>FALSE</td><td>FALSE</td><td>FALSE</td><td>FALSE</td></tr>\n",
       "\t<tr><td> TRUE</td><td> TRUE</td><td>FALSE</td><td>FALSE</td><td> TRUE</td><td>FALSE</td><td>FALSE</td><td>FALSE</td><td>FALSE</td></tr>\n",
       "\t<tr><td>FALSE</td><td>FALSE</td><td>FALSE</td><td>FALSE</td><td>FALSE</td><td>FALSE</td><td>FALSE</td><td>FALSE</td><td>FALSE</td></tr>\n",
       "\t<tr><td>FALSE</td><td>FALSE</td><td>FALSE</td><td>FALSE</td><td>FALSE</td><td>FALSE</td><td>FALSE</td><td>FALSE</td><td>FALSE</td></tr>\n",
       "\t<tr><td>FALSE</td><td>FALSE</td><td>FALSE</td><td> TRUE</td><td>FALSE</td><td>FALSE</td><td>FALSE</td><td>FALSE</td><td>FALSE</td></tr>\n",
       "\t<tr><td>FALSE</td><td>FALSE</td><td>FALSE</td><td>FALSE</td><td>FALSE</td><td>FALSE</td><td>FALSE</td><td>FALSE</td><td>FALSE</td></tr>\n",
       "</tbody>\n",
       "</table>\n"
      ],
      "text/latex": [
       "A matrix: 10 × 9 of type lgl\n",
       "\\begin{tabular}{lllllllll}\n",
       "\t  TRUE &  TRUE & FALSE & FALSE & FALSE & FALSE & FALSE & FALSE & FALSE\\\\\n",
       "\t  TRUE & FALSE & FALSE & FALSE &  TRUE & FALSE & FALSE & FALSE & FALSE\\\\\n",
       "\t FALSE & FALSE & FALSE & FALSE & FALSE & FALSE & FALSE & FALSE & FALSE\\\\\n",
       "\t FALSE & FALSE & FALSE & FALSE &  TRUE & FALSE & FALSE & FALSE & FALSE\\\\\n",
       "\t FALSE & FALSE & FALSE &  TRUE & FALSE & FALSE & FALSE & FALSE & FALSE\\\\\n",
       "\t  TRUE &  TRUE & FALSE & FALSE &  TRUE & FALSE & FALSE & FALSE & FALSE\\\\\n",
       "\t FALSE & FALSE & FALSE & FALSE & FALSE & FALSE & FALSE & FALSE & FALSE\\\\\n",
       "\t FALSE & FALSE & FALSE & FALSE & FALSE & FALSE & FALSE & FALSE & FALSE\\\\\n",
       "\t FALSE & FALSE & FALSE &  TRUE & FALSE & FALSE & FALSE & FALSE & FALSE\\\\\n",
       "\t FALSE & FALSE & FALSE & FALSE & FALSE & FALSE & FALSE & FALSE & FALSE\\\\\n",
       "\\end{tabular}\n"
      ],
      "text/markdown": [
       "\n",
       "A matrix: 10 × 9 of type lgl\n",
       "\n",
       "|  TRUE |  TRUE | FALSE | FALSE | FALSE | FALSE | FALSE | FALSE | FALSE |\n",
       "|  TRUE | FALSE | FALSE | FALSE |  TRUE | FALSE | FALSE | FALSE | FALSE |\n",
       "| FALSE | FALSE | FALSE | FALSE | FALSE | FALSE | FALSE | FALSE | FALSE |\n",
       "| FALSE | FALSE | FALSE | FALSE |  TRUE | FALSE | FALSE | FALSE | FALSE |\n",
       "| FALSE | FALSE | FALSE |  TRUE | FALSE | FALSE | FALSE | FALSE | FALSE |\n",
       "|  TRUE |  TRUE | FALSE | FALSE |  TRUE | FALSE | FALSE | FALSE | FALSE |\n",
       "| FALSE | FALSE | FALSE | FALSE | FALSE | FALSE | FALSE | FALSE | FALSE |\n",
       "| FALSE | FALSE | FALSE | FALSE | FALSE | FALSE | FALSE | FALSE | FALSE |\n",
       "| FALSE | FALSE | FALSE |  TRUE | FALSE | FALSE | FALSE | FALSE | FALSE |\n",
       "| FALSE | FALSE | FALSE | FALSE | FALSE | FALSE | FALSE | FALSE | FALSE |\n",
       "\n"
      ],
      "text/plain": [
       "      [,1]  [,2]  [,3]  [,4]  [,5]  [,6]  [,7]  [,8]  [,9] \n",
       " [1,]  TRUE  TRUE FALSE FALSE FALSE FALSE FALSE FALSE FALSE\n",
       " [2,]  TRUE FALSE FALSE FALSE  TRUE FALSE FALSE FALSE FALSE\n",
       " [3,] FALSE FALSE FALSE FALSE FALSE FALSE FALSE FALSE FALSE\n",
       " [4,] FALSE FALSE FALSE FALSE  TRUE FALSE FALSE FALSE FALSE\n",
       " [5,] FALSE FALSE FALSE  TRUE FALSE FALSE FALSE FALSE FALSE\n",
       " [6,]  TRUE  TRUE FALSE FALSE  TRUE FALSE FALSE FALSE FALSE\n",
       " [7,] FALSE FALSE FALSE FALSE FALSE FALSE FALSE FALSE FALSE\n",
       " [8,] FALSE FALSE FALSE FALSE FALSE FALSE FALSE FALSE FALSE\n",
       " [9,] FALSE FALSE FALSE  TRUE FALSE FALSE FALSE FALSE FALSE\n",
       "[10,] FALSE FALSE FALSE FALSE FALSE FALSE FALSE FALSE FALSE"
      ]
     },
     "metadata": {},
     "output_type": "display_data"
    }
   ],
   "source": [
    "is.na(m2)"
   ]
  },
  {
   "cell_type": "code",
   "execution_count": 76,
   "id": "05e13d3a",
   "metadata": {},
   "outputs": [
    {
     "data": {
      "text/html": [
       "<style>\n",
       ".list-inline {list-style: none; margin:0; padding: 0}\n",
       ".list-inline>li {display: inline-block}\n",
       ".list-inline>li:not(:last-child)::after {content: \"\\00b7\"; padding: 0 .5ex}\n",
       "</style>\n",
       "<ol class=list-inline><li>1</li><li>2</li><li>3</li><li>4</li><li>5</li></ol>\n"
      ],
      "text/latex": [
       "\\begin{enumerate*}\n",
       "\\item 1\n",
       "\\item 2\n",
       "\\item 3\n",
       "\\item 4\n",
       "\\item 5\n",
       "\\end{enumerate*}\n"
      ],
      "text/markdown": [
       "1. 1\n",
       "2. 2\n",
       "3. 3\n",
       "4. 4\n",
       "5. 5\n",
       "\n",
       "\n"
      ],
      "text/plain": [
       "[1] 1 2 3 4 5"
      ]
     },
     "metadata": {},
     "output_type": "display_data"
    },
    {
     "data": {
      "text/html": [
       "<table class=\"dataframe\">\n",
       "<caption>A matrix: 5 × 5 of type int</caption>\n",
       "<tbody>\n",
       "\t<tr><td>1</td><td> 6</td><td>11</td><td>16</td><td>21</td></tr>\n",
       "\t<tr><td>2</td><td> 7</td><td>12</td><td>17</td><td>22</td></tr>\n",
       "\t<tr><td>3</td><td> 8</td><td>13</td><td>18</td><td>23</td></tr>\n",
       "\t<tr><td>4</td><td> 9</td><td>14</td><td>19</td><td>24</td></tr>\n",
       "\t<tr><td>5</td><td>10</td><td>15</td><td>20</td><td>25</td></tr>\n",
       "</tbody>\n",
       "</table>\n"
      ],
      "text/latex": [
       "A matrix: 5 × 5 of type int\n",
       "\\begin{tabular}{lllll}\n",
       "\t 1 &  6 & 11 & 16 & 21\\\\\n",
       "\t 2 &  7 & 12 & 17 & 22\\\\\n",
       "\t 3 &  8 & 13 & 18 & 23\\\\\n",
       "\t 4 &  9 & 14 & 19 & 24\\\\\n",
       "\t 5 & 10 & 15 & 20 & 25\\\\\n",
       "\\end{tabular}\n"
      ],
      "text/markdown": [
       "\n",
       "A matrix: 5 × 5 of type int\n",
       "\n",
       "| 1 |  6 | 11 | 16 | 21 |\n",
       "| 2 |  7 | 12 | 17 | 22 |\n",
       "| 3 |  8 | 13 | 18 | 23 |\n",
       "| 4 |  9 | 14 | 19 | 24 |\n",
       "| 5 | 10 | 15 | 20 | 25 |\n",
       "\n"
      ],
      "text/plain": [
       "     [,1] [,2] [,3] [,4] [,5]\n",
       "[1,] 1     6   11   16   21  \n",
       "[2,] 2     7   12   17   22  \n",
       "[3,] 3     8   13   18   23  \n",
       "[4,] 4     9   14   19   24  \n",
       "[5,] 5    10   15   20   25  "
      ]
     },
     "metadata": {},
     "output_type": "display_data"
    },
    {
     "data": {
      "text/html": [
       "15"
      ],
      "text/latex": [
       "15"
      ],
      "text/markdown": [
       "15"
      ],
      "text/plain": [
       "[1] 15"
      ]
     },
     "metadata": {},
     "output_type": "display_data"
    },
    {
     "data": {
      "text/html": [
       "<style>\n",
       ".list-inline {list-style: none; margin:0; padding: 0}\n",
       ".list-inline>li {display: inline-block}\n",
       ".list-inline>li:not(:last-child)::after {content: \"\\00b7\"; padding: 0 .5ex}\n",
       "</style>\n",
       "<ol class=list-inline><li>55</li><li>60</li><li>65</li><li>70</li><li>75</li></ol>\n"
      ],
      "text/latex": [
       "\\begin{enumerate*}\n",
       "\\item 55\n",
       "\\item 60\n",
       "\\item 65\n",
       "\\item 70\n",
       "\\item 75\n",
       "\\end{enumerate*}\n"
      ],
      "text/markdown": [
       "1. 55\n",
       "2. 60\n",
       "3. 65\n",
       "4. 70\n",
       "5. 75\n",
       "\n",
       "\n"
      ],
      "text/plain": [
       "[1] 55 60 65 70 75"
      ]
     },
     "metadata": {},
     "output_type": "display_data"
    },
    {
     "data": {
      "text/html": [
       "<style>\n",
       ".list-inline {list-style: none; margin:0; padding: 0}\n",
       ".list-inline>li {display: inline-block}\n",
       ".list-inline>li:not(:last-child)::after {content: \"\\00b7\"; padding: 0 .5ex}\n",
       "</style>\n",
       "<ol class=list-inline><li>15</li><li>40</li><li>65</li><li>90</li><li>115</li></ol>\n"
      ],
      "text/latex": [
       "\\begin{enumerate*}\n",
       "\\item 15\n",
       "\\item 40\n",
       "\\item 65\n",
       "\\item 90\n",
       "\\item 115\n",
       "\\end{enumerate*}\n"
      ],
      "text/markdown": [
       "1. 15\n",
       "2. 40\n",
       "3. 65\n",
       "4. 90\n",
       "5. 115\n",
       "\n",
       "\n"
      ],
      "text/plain": [
       "[1]  15  40  65  90 115"
      ]
     },
     "metadata": {},
     "output_type": "display_data"
    },
    {
     "data": {
      "text/html": [
       "<table class=\"dataframe\">\n",
       "<caption>A matrix: 5 × 6 of type int</caption>\n",
       "<thead>\n",
       "\t<tr><th scope=col>v2</th><th scope=col></th><th scope=col></th><th scope=col></th><th scope=col></th><th scope=col></th></tr>\n",
       "</thead>\n",
       "<tbody>\n",
       "\t<tr><td>1</td><td>1</td><td> 6</td><td>11</td><td>16</td><td>21</td></tr>\n",
       "\t<tr><td>2</td><td>2</td><td> 7</td><td>12</td><td>17</td><td>22</td></tr>\n",
       "\t<tr><td>3</td><td>3</td><td> 8</td><td>13</td><td>18</td><td>23</td></tr>\n",
       "\t<tr><td>4</td><td>4</td><td> 9</td><td>14</td><td>19</td><td>24</td></tr>\n",
       "\t<tr><td>5</td><td>5</td><td>10</td><td>15</td><td>20</td><td>25</td></tr>\n",
       "</tbody>\n",
       "</table>\n"
      ],
      "text/latex": [
       "A matrix: 5 × 6 of type int\n",
       "\\begin{tabular}{llllll}\n",
       " v2 &  &  &  &  & \\\\\n",
       "\\hline\n",
       "\t 1 & 1 &  6 & 11 & 16 & 21\\\\\n",
       "\t 2 & 2 &  7 & 12 & 17 & 22\\\\\n",
       "\t 3 & 3 &  8 & 13 & 18 & 23\\\\\n",
       "\t 4 & 4 &  9 & 14 & 19 & 24\\\\\n",
       "\t 5 & 5 & 10 & 15 & 20 & 25\\\\\n",
       "\\end{tabular}\n"
      ],
      "text/markdown": [
       "\n",
       "A matrix: 5 × 6 of type int\n",
       "\n",
       "| v2 | <!----> | <!----> | <!----> | <!----> | <!----> |\n",
       "|---|---|---|---|---|---|\n",
       "| 1 | 1 |  6 | 11 | 16 | 21 |\n",
       "| 2 | 2 |  7 | 12 | 17 | 22 |\n",
       "| 3 | 3 |  8 | 13 | 18 | 23 |\n",
       "| 4 | 4 |  9 | 14 | 19 | 24 |\n",
       "| 5 | 5 | 10 | 15 | 20 | 25 |\n",
       "\n"
      ],
      "text/plain": [
       "     v2              \n",
       "[1,] 1  1  6 11 16 21\n",
       "[2,] 2  2  7 12 17 22\n",
       "[3,] 3  3  8 13 18 23\n",
       "[4,] 4  4  9 14 19 24\n",
       "[5,] 5  5 10 15 20 25"
      ]
     },
     "metadata": {},
     "output_type": "display_data"
    },
    {
     "data": {
      "text/html": [
       "<table class=\"dataframe\">\n",
       "<caption>A matrix: 6 × 5 of type int</caption>\n",
       "<tbody>\n",
       "\t<tr><th scope=row>v2</th><td>1</td><td> 2</td><td> 3</td><td> 4</td><td> 5</td></tr>\n",
       "\t<tr><th scope=row></th><td>1</td><td> 6</td><td>11</td><td>16</td><td>21</td></tr>\n",
       "\t<tr><th scope=row></th><td>2</td><td> 7</td><td>12</td><td>17</td><td>22</td></tr>\n",
       "\t<tr><th scope=row></th><td>3</td><td> 8</td><td>13</td><td>18</td><td>23</td></tr>\n",
       "\t<tr><th scope=row></th><td>4</td><td> 9</td><td>14</td><td>19</td><td>24</td></tr>\n",
       "\t<tr><th scope=row></th><td>5</td><td>10</td><td>15</td><td>20</td><td>25</td></tr>\n",
       "</tbody>\n",
       "</table>\n"
      ],
      "text/latex": [
       "A matrix: 6 × 5 of type int\n",
       "\\begin{tabular}{r|lllll}\n",
       "\tv2 & 1 &  2 &  3 &  4 &  5\\\\\n",
       "\t & 1 &  6 & 11 & 16 & 21\\\\\n",
       "\t & 2 &  7 & 12 & 17 & 22\\\\\n",
       "\t & 3 &  8 & 13 & 18 & 23\\\\\n",
       "\t & 4 &  9 & 14 & 19 & 24\\\\\n",
       "\t & 5 & 10 & 15 & 20 & 25\\\\\n",
       "\\end{tabular}\n"
      ],
      "text/markdown": [
       "\n",
       "A matrix: 6 × 5 of type int\n",
       "\n",
       "| v2 | 1 |  2 |  3 |  4 |  5 |\n",
       "| <!----> | 1 |  6 | 11 | 16 | 21 |\n",
       "| <!----> | 2 |  7 | 12 | 17 | 22 |\n",
       "| <!----> | 3 |  8 | 13 | 18 | 23 |\n",
       "| <!----> | 4 |  9 | 14 | 19 | 24 |\n",
       "| <!----> | 5 | 10 | 15 | 20 | 25 |\n",
       "\n"
      ],
      "text/plain": [
       "   [,1] [,2] [,3] [,4] [,5]\n",
       "v2 1     2    3    4    5  \n",
       "   1     6   11   16   21  \n",
       "   2     7   12   17   22  \n",
       "   3     8   13   18   23  \n",
       "   4     9   14   19   24  \n",
       "   5    10   15   20   25  "
      ]
     },
     "metadata": {},
     "output_type": "display_data"
    },
    {
     "data": {
      "text/html": [
       "<table class=\"dataframe\">\n",
       "<caption>A matrix: 5 × 5 of type dbl</caption>\n",
       "<tbody>\n",
       "\t<tr><td> 3</td><td>18</td><td>33</td><td>48</td><td>63</td></tr>\n",
       "\t<tr><td> 6</td><td>21</td><td>36</td><td>51</td><td>66</td></tr>\n",
       "\t<tr><td> 9</td><td>24</td><td>39</td><td>54</td><td>69</td></tr>\n",
       "\t<tr><td>12</td><td>27</td><td>42</td><td>57</td><td>72</td></tr>\n",
       "\t<tr><td>15</td><td>30</td><td>45</td><td>60</td><td>75</td></tr>\n",
       "</tbody>\n",
       "</table>\n"
      ],
      "text/latex": [
       "A matrix: 5 × 5 of type dbl\n",
       "\\begin{tabular}{lllll}\n",
       "\t  3 & 18 & 33 & 48 & 63\\\\\n",
       "\t  6 & 21 & 36 & 51 & 66\\\\\n",
       "\t  9 & 24 & 39 & 54 & 69\\\\\n",
       "\t 12 & 27 & 42 & 57 & 72\\\\\n",
       "\t 15 & 30 & 45 & 60 & 75\\\\\n",
       "\\end{tabular}\n"
      ],
      "text/markdown": [
       "\n",
       "A matrix: 5 × 5 of type dbl\n",
       "\n",
       "|  3 | 18 | 33 | 48 | 63 |\n",
       "|  6 | 21 | 36 | 51 | 66 |\n",
       "|  9 | 24 | 39 | 54 | 69 |\n",
       "| 12 | 27 | 42 | 57 | 72 |\n",
       "| 15 | 30 | 45 | 60 | 75 |\n",
       "\n"
      ],
      "text/plain": [
       "     [,1] [,2] [,3] [,4] [,5]\n",
       "[1,]  3   18   33   48   63  \n",
       "[2,]  6   21   36   51   66  \n",
       "[3,]  9   24   39   54   69  \n",
       "[4,] 12   27   42   57   72  \n",
       "[5,] 15   30   45   60   75  "
      ]
     },
     "metadata": {},
     "output_type": "display_data"
    }
   ],
   "source": [
    "v2 <- c(1:5); v2\n",
    "m3 <- matrix(c(1:25), nrow=5, ncol=5); m3\n",
    "\n",
    "sum(v2)\n",
    "rowSums(m3)\n",
    "colSums(m3)\n",
    "cbind(v2, m3)\n",
    "rbind(v2, m3)\n",
    "\n",
    "m3 * 3"
   ]
  },
  {
   "cell_type": "code",
   "execution_count": 80,
   "id": "e8a9fb47",
   "metadata": {},
   "outputs": [
    {
     "data": {
      "text/html": [
       "<style>\n",
       ".list-inline {list-style: none; margin:0; padding: 0}\n",
       ".list-inline>li {display: inline-block}\n",
       ".list-inline>li:not(:last-child)::after {content: \"\\00b7\"; padding: 0 .5ex}\n",
       "</style>\n",
       "<ol class=list-inline><li>10</li><li>25</li><li>50</li><li>13</li><li>90</li><li>11</li><li>32</li></ol>\n"
      ],
      "text/latex": [
       "\\begin{enumerate*}\n",
       "\\item 10\n",
       "\\item 25\n",
       "\\item 50\n",
       "\\item 13\n",
       "\\item 90\n",
       "\\item 11\n",
       "\\item 32\n",
       "\\end{enumerate*}\n"
      ],
      "text/markdown": [
       "1. 10\n",
       "2. 25\n",
       "3. 50\n",
       "4. 13\n",
       "5. 90\n",
       "6. 11\n",
       "7. 32\n",
       "\n",
       "\n"
      ],
      "text/plain": [
       "[1] 10 25 50 13 90 11 32"
      ]
     },
     "metadata": {},
     "output_type": "display_data"
    },
    {
     "data": {
      "text/html": [
       "<style>\n",
       ".list-inline {list-style: none; margin:0; padding: 0}\n",
       ".list-inline>li {display: inline-block}\n",
       ".list-inline>li:not(:last-child)::after {content: \"\\00b7\"; padding: 0 .5ex}\n",
       "</style>\n",
       "<ol class=list-inline><li>1</li><li>6</li><li>4</li><li>2</li><li>7</li><li>3</li><li>5</li></ol>\n"
      ],
      "text/latex": [
       "\\begin{enumerate*}\n",
       "\\item 1\n",
       "\\item 6\n",
       "\\item 4\n",
       "\\item 2\n",
       "\\item 7\n",
       "\\item 3\n",
       "\\item 5\n",
       "\\end{enumerate*}\n"
      ],
      "text/markdown": [
       "1. 1\n",
       "2. 6\n",
       "3. 4\n",
       "4. 2\n",
       "5. 7\n",
       "6. 3\n",
       "7. 5\n",
       "\n",
       "\n"
      ],
      "text/plain": [
       "[1] 1 6 4 2 7 3 5"
      ]
     },
     "metadata": {},
     "output_type": "display_data"
    },
    {
     "data": {
      "text/html": [
       "<style>\n",
       ".list-inline {list-style: none; margin:0; padding: 0}\n",
       ".list-inline>li {display: inline-block}\n",
       ".list-inline>li:not(:last-child)::after {content: \"\\00b7\"; padding: 0 .5ex}\n",
       "</style>\n",
       "<ol class=list-inline><li>10</li><li>11</li><li>13</li><li>25</li><li>32</li><li>50</li><li>90</li></ol>\n"
      ],
      "text/latex": [
       "\\begin{enumerate*}\n",
       "\\item 10\n",
       "\\item 11\n",
       "\\item 13\n",
       "\\item 25\n",
       "\\item 32\n",
       "\\item 50\n",
       "\\item 90\n",
       "\\end{enumerate*}\n"
      ],
      "text/markdown": [
       "1. 10\n",
       "2. 11\n",
       "3. 13\n",
       "4. 25\n",
       "5. 32\n",
       "6. 50\n",
       "7. 90\n",
       "\n",
       "\n"
      ],
      "text/plain": [
       "[1] 10 11 13 25 32 50 90"
      ]
     },
     "metadata": {},
     "output_type": "display_data"
    }
   ],
   "source": [
    "v4 <- c(10, 25, 50, 13, 90, 11, 32); v4\n",
    "\n",
    "order(v4)\n",
    "v4[order(v4)]"
   ]
  },
  {
   "cell_type": "code",
   "execution_count": null,
   "id": "8d97ef0f",
   "metadata": {},
   "outputs": [],
   "source": []
  }
 ],
 "metadata": {
  "kernelspec": {
   "display_name": "R",
   "language": "R",
   "name": "ir"
  },
  "language_info": {
   "codemirror_mode": "r",
   "file_extension": ".r",
   "mimetype": "text/x-r-source",
   "name": "R",
   "pygments_lexer": "r",
   "version": "4.2.3"
  }
 },
 "nbformat": 4,
 "nbformat_minor": 5
}
