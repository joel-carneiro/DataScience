{
 "cells": [
  {
   "cell_type": "code",
   "execution_count": 4,
   "id": "d96c3677",
   "metadata": {},
   "outputs": [],
   "source": [
    "# Importando módulos necessários\n",
    "library('dplyr')\n",
    "library('readr')"
   ]
  },
  {
   "cell_type": "code",
   "execution_count": 18,
   "id": "1ca29d32-5cba-4931-aefa-67371ba40aa4",
   "metadata": {},
   "outputs": [
    {
     "data": {
      "text/html": [
       "<table class=\"dataframe\">\n",
       "<caption>A tibble: 6 × 8</caption>\n",
       "<thead>\n",
       "\t<tr><th scope=col>Start</th><th scope=col>End</th><th scope=col>Sleep quality</th><th scope=col>Time in bed</th><th scope=col>Wake up</th><th scope=col>Sleep Notes</th><th scope=col>Heart rate</th><th scope=col>Activity (steps)</th></tr>\n",
       "\t<tr><th scope=col>&lt;dttm&gt;</th><th scope=col>&lt;dttm&gt;</th><th scope=col>&lt;chr&gt;</th><th scope=col>&lt;time&gt;</th><th scope=col>&lt;chr&gt;</th><th scope=col>&lt;chr&gt;</th><th scope=col>&lt;dbl&gt;</th><th scope=col>&lt;dbl&gt;</th></tr>\n",
       "</thead>\n",
       "<tbody>\n",
       "\t<tr><td>2014-12-29 22:57:49</td><td>2014-12-30 07:30:13</td><td>100%</td><td>08:32:00</td><td>:)</td><td>NA                    </td><td>59</td><td>0</td></tr>\n",
       "\t<tr><td>2014-12-30 21:17:50</td><td>2014-12-30 21:33:54</td><td>3%  </td><td>00:16:00</td><td>:|</td><td>Stressful day         </td><td>72</td><td>0</td></tr>\n",
       "\t<tr><td>2014-12-30 22:42:49</td><td>2014-12-31 07:13:31</td><td>98% </td><td>08:30:00</td><td>:|</td><td>NA                    </td><td>57</td><td>0</td></tr>\n",
       "\t<tr><td>2014-12-31 22:31:01</td><td>2015-01-01 06:03:01</td><td>65% </td><td>07:32:00</td><td>NA</td><td>NA                    </td><td>NA</td><td>0</td></tr>\n",
       "\t<tr><td>2015-01-01 22:12:10</td><td>2015-01-02 04:56:35</td><td>72% </td><td>06:44:00</td><td>:)</td><td>Drank coffee:Drank tea</td><td>68</td><td>0</td></tr>\n",
       "\t<tr><td>2015-01-03 00:34:57</td><td>2015-01-03 07:47:23</td><td>83% </td><td>07:12:00</td><td>:)</td><td>Drank coffee:Drank tea</td><td>60</td><td>0</td></tr>\n",
       "</tbody>\n",
       "</table>\n"
      ],
      "text/latex": [
       "A tibble: 6 × 8\n",
       "\\begin{tabular}{llllllll}\n",
       " Start & End & Sleep quality & Time in bed & Wake up & Sleep Notes & Heart rate & Activity (steps)\\\\\n",
       " <dttm> & <dttm> & <chr> & <time> & <chr> & <chr> & <dbl> & <dbl>\\\\\n",
       "\\hline\n",
       "\t 2014-12-29 22:57:49 & 2014-12-30 07:30:13 & 100\\% & 08:32:00 & :) & NA                     & 59 & 0\\\\\n",
       "\t 2014-12-30 21:17:50 & 2014-12-30 21:33:54 & 3\\%   & 00:16:00 & :\\textbar{} & Stressful day          & 72 & 0\\\\\n",
       "\t 2014-12-30 22:42:49 & 2014-12-31 07:13:31 & 98\\%  & 08:30:00 & :\\textbar{} & NA                     & 57 & 0\\\\\n",
       "\t 2014-12-31 22:31:01 & 2015-01-01 06:03:01 & 65\\%  & 07:32:00 & NA & NA                     & NA & 0\\\\\n",
       "\t 2015-01-01 22:12:10 & 2015-01-02 04:56:35 & 72\\%  & 06:44:00 & :) & Drank coffee:Drank tea & 68 & 0\\\\\n",
       "\t 2015-01-03 00:34:57 & 2015-01-03 07:47:23 & 83\\%  & 07:12:00 & :) & Drank coffee:Drank tea & 60 & 0\\\\\n",
       "\\end{tabular}\n"
      ],
      "text/markdown": [
       "\n",
       "A tibble: 6 × 8\n",
       "\n",
       "| Start &lt;dttm&gt; | End &lt;dttm&gt; | Sleep quality &lt;chr&gt; | Time in bed &lt;time&gt; | Wake up &lt;chr&gt; | Sleep Notes &lt;chr&gt; | Heart rate &lt;dbl&gt; | Activity (steps) &lt;dbl&gt; |\n",
       "|---|---|---|---|---|---|---|---|\n",
       "| 2014-12-29 22:57:49 | 2014-12-30 07:30:13 | 100% | 08:32:00 | :) | NA                     | 59 | 0 |\n",
       "| 2014-12-30 21:17:50 | 2014-12-30 21:33:54 | 3%   | 00:16:00 | :| | Stressful day          | 72 | 0 |\n",
       "| 2014-12-30 22:42:49 | 2014-12-31 07:13:31 | 98%  | 08:30:00 | :| | NA                     | 57 | 0 |\n",
       "| 2014-12-31 22:31:01 | 2015-01-01 06:03:01 | 65%  | 07:32:00 | NA | NA                     | NA | 0 |\n",
       "| 2015-01-01 22:12:10 | 2015-01-02 04:56:35 | 72%  | 06:44:00 | :) | Drank coffee:Drank tea | 68 | 0 |\n",
       "| 2015-01-03 00:34:57 | 2015-01-03 07:47:23 | 83%  | 07:12:00 | :) | Drank coffee:Drank tea | 60 | 0 |\n",
       "\n"
      ],
      "text/plain": [
       "  Start               End                 Sleep quality Time in bed Wake up\n",
       "1 2014-12-29 22:57:49 2014-12-30 07:30:13 100%          08:32:00    :)     \n",
       "2 2014-12-30 21:17:50 2014-12-30 21:33:54 3%            00:16:00    :|     \n",
       "3 2014-12-30 22:42:49 2014-12-31 07:13:31 98%           08:30:00    :|     \n",
       "4 2014-12-31 22:31:01 2015-01-01 06:03:01 65%           07:32:00    NA     \n",
       "5 2015-01-01 22:12:10 2015-01-02 04:56:35 72%           06:44:00    :)     \n",
       "6 2015-01-03 00:34:57 2015-01-03 07:47:23 83%           07:12:00    :)     \n",
       "  Sleep Notes            Heart rate Activity (steps)\n",
       "1 NA                     59         0               \n",
       "2 Stressful day          72         0               \n",
       "3 NA                     57         0               \n",
       "4 NA                     NA         0               \n",
       "5 Drank coffee:Drank tea 68         0               \n",
       "6 Drank coffee:Drank tea 60         0               "
      ]
     },
     "metadata": {},
     "output_type": "display_data"
    }
   ],
   "source": [
    "# Importando os dados da máquina local\n",
    "sleep <- suppressMessages(read_csv2(file='/home/joeldspy/Modelos/datasets/sleepdata.csv'))\n",
    "\n",
    "head(sleep)"
   ]
  },
  {
   "cell_type": "code",
   "execution_count": 36,
   "id": "1db26227-43fc-4bf9-96de-a25e3465efd3",
   "metadata": {},
   "outputs": [],
   "source": [
    "colnames(sleep) <- c('start', 'end', 'quality', 'time', 'wake_up', 'sleep_note', 'heart_rate', 'activity')"
   ]
  },
  {
   "cell_type": "code",
   "execution_count": 37,
   "id": "23b5c982-d24e-47a6-b8b3-420ad9f40af0",
   "metadata": {},
   "outputs": [
    {
     "data": {
      "text/html": [
       "<style>\n",
       ".list-inline {list-style: none; margin:0; padding: 0}\n",
       ".list-inline>li {display: inline-block}\n",
       ".list-inline>li:not(:last-child)::after {content: \"\\00b7\"; padding: 0 .5ex}\n",
       "</style>\n",
       "<ol class=list-inline><li>'spec_tbl_df'</li><li>'tbl_df'</li><li>'tbl'</li><li>'data.frame'</li></ol>\n"
      ],
      "text/latex": [
       "\\begin{enumerate*}\n",
       "\\item 'spec\\_tbl\\_df'\n",
       "\\item 'tbl\\_df'\n",
       "\\item 'tbl'\n",
       "\\item 'data.frame'\n",
       "\\end{enumerate*}\n"
      ],
      "text/markdown": [
       "1. 'spec_tbl_df'\n",
       "2. 'tbl_df'\n",
       "3. 'tbl'\n",
       "4. 'data.frame'\n",
       "\n",
       "\n"
      ],
      "text/plain": [
       "[1] \"spec_tbl_df\" \"tbl_df\"      \"tbl\"         \"data.frame\" "
      ]
     },
     "metadata": {},
     "output_type": "display_data"
    }
   ],
   "source": [
    "# Visualizando a classe da nossa variável\n",
    "class(sleep)"
   ]
  },
  {
   "cell_type": "code",
   "execution_count": 38,
   "id": "203483ae-f104-4d85-8312-02bffe5c6811",
   "metadata": {},
   "outputs": [
    {
     "name": "stdout",
     "output_type": "stream",
     "text": [
      "spc_tbl_ [887 × 8] (S3: spec_tbl_df/tbl_df/tbl/data.frame)\n",
      " $ start     : POSIXct[1:887], format: \"2014-12-29 22:57:49\" \"2014-12-30 21:17:50\" ...\n",
      " $ end       : POSIXct[1:887], format: \"2014-12-30 07:30:13\" \"2014-12-30 21:33:54\" ...\n",
      " $ quality   : chr [1:887] \"100%\" \"3%\" \"98%\" \"65%\" ...\n",
      " $ time      : 'hms' num [1:887] 08:32:00 00:16:00 08:30:00 07:32:00 ...\n",
      "  ..- attr(*, \"units\")= chr \"secs\"\n",
      " $ wake_up   : chr [1:887] \":)\" \":|\" \":|\" NA ...\n",
      " $ sleep_note: chr [1:887] NA \"Stressful day\" NA NA ...\n",
      " $ heart_rate: num [1:887] 59 72 57 NA 68 60 NA 57 56 64 ...\n",
      " $ activity  : num [1:887] 0 0 0 0 0 0 0 0 0 0 ...\n",
      " - attr(*, \"spec\")=\n",
      "  .. cols(\n",
      "  ..   Start = \u001b[34mcol_datetime(format = \"\")\u001b[39m,\n",
      "  ..   End = \u001b[34mcol_datetime(format = \"\")\u001b[39m,\n",
      "  ..   `Sleep quality` = \u001b[31mcol_character()\u001b[39m,\n",
      "  ..   `Time in bed` = \u001b[34mcol_time(format = \"\")\u001b[39m,\n",
      "  ..   `Wake up` = \u001b[31mcol_character()\u001b[39m,\n",
      "  ..   `Sleep Notes` = \u001b[31mcol_character()\u001b[39m,\n",
      "  ..   `Heart rate` = \u001b[32mcol_double()\u001b[39m,\n",
      "  ..   `Activity (steps)` = \u001b[32mcol_double()\u001b[39m\n",
      "  .. )\n",
      " - attr(*, \"problems\")=<externalptr> \n"
     ]
    }
   ],
   "source": [
    "# Sumário padrão do nosso dataframe\n",
    "str(sleep)"
   ]
  },
  {
   "cell_type": "code",
   "execution_count": 39,
   "id": "49b458ad-1e7c-457f-b43b-3f717d64a3e8",
   "metadata": {},
   "outputs": [
    {
     "name": "stdout",
     "output_type": "stream",
     "text": [
      "Rows: 887\n",
      "Columns: 8\n",
      "$ start      \u001b[3m\u001b[90m<dttm>\u001b[39m\u001b[23m 2014-12-29 22:57:49, 2014-12-30 21:17:50, 2014-12-30 22:42…\n",
      "$ end        \u001b[3m\u001b[90m<dttm>\u001b[39m\u001b[23m 2014-12-30 07:30:13, 2014-12-30 21:33:54, 2014-12-31 07:13…\n",
      "$ quality    \u001b[3m\u001b[90m<chr>\u001b[39m\u001b[23m \"100%\", \"3%\", \"98%\", \"65%\", \"72%\", \"83%\", \"78%\", \"78%\", \"69…\n",
      "$ time       \u001b[3m\u001b[90m<time>\u001b[39m\u001b[23m 08:32:00, 00:16:00, 08:30:00, 07:32:00, 06:44:00, 07:12:00…\n",
      "$ wake_up    \u001b[3m\u001b[90m<chr>\u001b[39m\u001b[23m \":)\", \":|\", \":|\", NA, \":)\", \":)\", NA, \":)\", \":)\", \":|\", \":)…\n",
      "$ sleep_note \u001b[3m\u001b[90m<chr>\u001b[39m\u001b[23m NA, \"Stressful day\", NA, NA, \"Drank coffee:Drank tea\", \"Dra…\n",
      "$ heart_rate \u001b[3m\u001b[90m<dbl>\u001b[39m\u001b[23m 59, 72, 57, NA, 68, 60, NA, 57, 56, 64, 62, 58, 65, 65, 53,…\n",
      "$ activity   \u001b[3m\u001b[90m<dbl>\u001b[39m\u001b[23m 0, 0, 0, 0, 0, 0, 0, 0, 0, 0, 0, 0, 0, 0, 0, 0, 0, 0, 0, 0,…\n"
     ]
    }
   ],
   "source": [
    "# Visualização rápida\n",
    "glimpse(sleep)"
   ]
  },
  {
   "cell_type": "code",
   "execution_count": 40,
   "id": "b97903d3-a801-4433-8e0a-3aaa6250cb76",
   "metadata": {},
   "outputs": [
    {
     "data": {
      "text/html": [
       "<table class=\"dataframe\">\n",
       "<caption>A spec_tbl_df: 10 × 8</caption>\n",
       "<thead>\n",
       "\t<tr><th scope=col>start</th><th scope=col>end</th><th scope=col>quality</th><th scope=col>time</th><th scope=col>wake_up</th><th scope=col>sleep_note</th><th scope=col>heart_rate</th><th scope=col>activity</th></tr>\n",
       "\t<tr><th scope=col>&lt;dttm&gt;</th><th scope=col>&lt;dttm&gt;</th><th scope=col>&lt;chr&gt;</th><th scope=col>&lt;time&gt;</th><th scope=col>&lt;chr&gt;</th><th scope=col>&lt;chr&gt;</th><th scope=col>&lt;dbl&gt;</th><th scope=col>&lt;dbl&gt;</th></tr>\n",
       "</thead>\n",
       "<tbody>\n",
       "\t<tr><td>2015-11-26 22:25:29</td><td>2015-11-27 06:20:36</td><td>81%</td><td>07:55:00</td><td>:)</td><td>Drank coffee:Drank tea:Worked out</td><td>NA</td><td>   0</td></tr>\n",
       "\t<tr><td>2015-12-22 21:41:31</td><td>2015-12-23 05:43:31</td><td>82%</td><td>08:01:00</td><td>:)</td><td>Drank coffee:Drank tea:Worked out</td><td>NA</td><td>   0</td></tr>\n",
       "\t<tr><td>2016-08-31 22:33:07</td><td>2016-09-01 06:20:32</td><td>49%</td><td>07:47:00</td><td>NA</td><td>Drank coffee:Worked out          </td><td>NA</td><td>4015</td></tr>\n",
       "\t<tr><td>2017-12-14 22:47:44</td><td>2017-12-15 05:51:51</td><td>60%</td><td>07:04:00</td><td>NA</td><td>NA                               </td><td>NA</td><td>1566</td></tr>\n",
       "\t<tr><td>2015-10-24 00:32:20</td><td>2015-10-24 08:12:45</td><td>77%</td><td>07:40:00</td><td>:)</td><td>Drank coffee:Drank tea:Worked out</td><td>NA</td><td>   0</td></tr>\n",
       "\t<tr><td>2015-01-20 21:42:37</td><td>2015-01-21 05:45:22</td><td>80%</td><td>08:02:00</td><td>:|</td><td>Drank coffee:Drank tea:Worked out</td><td>60</td><td>   0</td></tr>\n",
       "\t<tr><td>2015-11-30 21:23:47</td><td>2015-12-01 06:19:46</td><td>64%</td><td>08:55:00</td><td>:)</td><td>Drank coffee:Drank tea:Worked out</td><td>NA</td><td>   0</td></tr>\n",
       "\t<tr><td>2017-07-17 22:51:14</td><td>2017-07-18 06:17:36</td><td>71%</td><td>07:26:00</td><td>NA</td><td>NA                               </td><td>NA</td><td>4840</td></tr>\n",
       "\t<tr><td>2016-02-28 22:19:47</td><td>2016-02-29 05:45:34</td><td>64%</td><td>07:25:00</td><td>NA</td><td>Drank tea                        </td><td>NA</td><td>   0</td></tr>\n",
       "\t<tr><td>2017-10-28 22:51:22</td><td>2017-10-29 07:51:27</td><td>91%</td><td>09:00:00</td><td>NA</td><td>NA                               </td><td>NA</td><td>1097</td></tr>\n",
       "</tbody>\n",
       "</table>\n"
      ],
      "text/latex": [
       "A spec\\_tbl\\_df: 10 × 8\n",
       "\\begin{tabular}{llllllll}\n",
       " start & end & quality & time & wake\\_up & sleep\\_note & heart\\_rate & activity\\\\\n",
       " <dttm> & <dttm> & <chr> & <time> & <chr> & <chr> & <dbl> & <dbl>\\\\\n",
       "\\hline\n",
       "\t 2015-11-26 22:25:29 & 2015-11-27 06:20:36 & 81\\% & 07:55:00 & :) & Drank coffee:Drank tea:Worked out & NA &    0\\\\\n",
       "\t 2015-12-22 21:41:31 & 2015-12-23 05:43:31 & 82\\% & 08:01:00 & :) & Drank coffee:Drank tea:Worked out & NA &    0\\\\\n",
       "\t 2016-08-31 22:33:07 & 2016-09-01 06:20:32 & 49\\% & 07:47:00 & NA & Drank coffee:Worked out           & NA & 4015\\\\\n",
       "\t 2017-12-14 22:47:44 & 2017-12-15 05:51:51 & 60\\% & 07:04:00 & NA & NA                                & NA & 1566\\\\\n",
       "\t 2015-10-24 00:32:20 & 2015-10-24 08:12:45 & 77\\% & 07:40:00 & :) & Drank coffee:Drank tea:Worked out & NA &    0\\\\\n",
       "\t 2015-01-20 21:42:37 & 2015-01-21 05:45:22 & 80\\% & 08:02:00 & :\\textbar{} & Drank coffee:Drank tea:Worked out & 60 &    0\\\\\n",
       "\t 2015-11-30 21:23:47 & 2015-12-01 06:19:46 & 64\\% & 08:55:00 & :) & Drank coffee:Drank tea:Worked out & NA &    0\\\\\n",
       "\t 2017-07-17 22:51:14 & 2017-07-18 06:17:36 & 71\\% & 07:26:00 & NA & NA                                & NA & 4840\\\\\n",
       "\t 2016-02-28 22:19:47 & 2016-02-29 05:45:34 & 64\\% & 07:25:00 & NA & Drank tea                         & NA &    0\\\\\n",
       "\t 2017-10-28 22:51:22 & 2017-10-29 07:51:27 & 91\\% & 09:00:00 & NA & NA                                & NA & 1097\\\\\n",
       "\\end{tabular}\n"
      ],
      "text/markdown": [
       "\n",
       "A spec_tbl_df: 10 × 8\n",
       "\n",
       "| start &lt;dttm&gt; | end &lt;dttm&gt; | quality &lt;chr&gt; | time &lt;time&gt; | wake_up &lt;chr&gt; | sleep_note &lt;chr&gt; | heart_rate &lt;dbl&gt; | activity &lt;dbl&gt; |\n",
       "|---|---|---|---|---|---|---|---|\n",
       "| 2015-11-26 22:25:29 | 2015-11-27 06:20:36 | 81% | 07:55:00 | :) | Drank coffee:Drank tea:Worked out | NA |    0 |\n",
       "| 2015-12-22 21:41:31 | 2015-12-23 05:43:31 | 82% | 08:01:00 | :) | Drank coffee:Drank tea:Worked out | NA |    0 |\n",
       "| 2016-08-31 22:33:07 | 2016-09-01 06:20:32 | 49% | 07:47:00 | NA | Drank coffee:Worked out           | NA | 4015 |\n",
       "| 2017-12-14 22:47:44 | 2017-12-15 05:51:51 | 60% | 07:04:00 | NA | NA                                | NA | 1566 |\n",
       "| 2015-10-24 00:32:20 | 2015-10-24 08:12:45 | 77% | 07:40:00 | :) | Drank coffee:Drank tea:Worked out | NA |    0 |\n",
       "| 2015-01-20 21:42:37 | 2015-01-21 05:45:22 | 80% | 08:02:00 | :| | Drank coffee:Drank tea:Worked out | 60 |    0 |\n",
       "| 2015-11-30 21:23:47 | 2015-12-01 06:19:46 | 64% | 08:55:00 | :) | Drank coffee:Drank tea:Worked out | NA |    0 |\n",
       "| 2017-07-17 22:51:14 | 2017-07-18 06:17:36 | 71% | 07:26:00 | NA | NA                                | NA | 4840 |\n",
       "| 2016-02-28 22:19:47 | 2016-02-29 05:45:34 | 64% | 07:25:00 | NA | Drank tea                         | NA |    0 |\n",
       "| 2017-10-28 22:51:22 | 2017-10-29 07:51:27 | 91% | 09:00:00 | NA | NA                                | NA | 1097 |\n",
       "\n"
      ],
      "text/plain": [
       "   start               end                 quality time     wake_up\n",
       "1  2015-11-26 22:25:29 2015-11-27 06:20:36 81%     07:55:00 :)     \n",
       "2  2015-12-22 21:41:31 2015-12-23 05:43:31 82%     08:01:00 :)     \n",
       "3  2016-08-31 22:33:07 2016-09-01 06:20:32 49%     07:47:00 NA     \n",
       "4  2017-12-14 22:47:44 2017-12-15 05:51:51 60%     07:04:00 NA     \n",
       "5  2015-10-24 00:32:20 2015-10-24 08:12:45 77%     07:40:00 :)     \n",
       "6  2015-01-20 21:42:37 2015-01-21 05:45:22 80%     08:02:00 :|     \n",
       "7  2015-11-30 21:23:47 2015-12-01 06:19:46 64%     08:55:00 :)     \n",
       "8  2017-07-17 22:51:14 2017-07-18 06:17:36 71%     07:26:00 NA     \n",
       "9  2016-02-28 22:19:47 2016-02-29 05:45:34 64%     07:25:00 NA     \n",
       "10 2017-10-28 22:51:22 2017-10-29 07:51:27 91%     09:00:00 NA     \n",
       "   sleep_note                        heart_rate activity\n",
       "1  Drank coffee:Drank tea:Worked out NA            0    \n",
       "2  Drank coffee:Drank tea:Worked out NA            0    \n",
       "3  Drank coffee:Worked out           NA         4015    \n",
       "4  NA                                NA         1566    \n",
       "5  Drank coffee:Drank tea:Worked out NA            0    \n",
       "6  Drank coffee:Drank tea:Worked out 60            0    \n",
       "7  Drank coffee:Drank tea:Worked out NA            0    \n",
       "8  NA                                NA         4840    \n",
       "9  Drank tea                         NA            0    \n",
       "10 NA                                NA         1097    "
      ]
     },
     "metadata": {},
     "output_type": "display_data"
    }
   ],
   "source": [
    "# Gerando uma amostra aleatória de dados\n",
    "sample_n(sleep, size=10)"
   ]
  },
  {
   "cell_type": "code",
   "execution_count": 42,
   "id": "31971548-27a5-4a2e-b13a-e0e96209caca",
   "metadata": {},
   "outputs": [
    {
     "data": {
      "text/html": [
       "<table class=\"dataframe\">\n",
       "<caption>A tibble: 6 × 1</caption>\n",
       "<thead>\n",
       "\t<tr><th scope=col>quality</th></tr>\n",
       "\t<tr><th scope=col>&lt;chr&gt;</th></tr>\n",
       "</thead>\n",
       "<tbody>\n",
       "\t<tr><td>100%</td></tr>\n",
       "\t<tr><td>3%  </td></tr>\n",
       "\t<tr><td>98% </td></tr>\n",
       "\t<tr><td>65% </td></tr>\n",
       "\t<tr><td>72% </td></tr>\n",
       "\t<tr><td>83% </td></tr>\n",
       "</tbody>\n",
       "</table>\n"
      ],
      "text/latex": [
       "A tibble: 6 × 1\n",
       "\\begin{tabular}{l}\n",
       " quality\\\\\n",
       " <chr>\\\\\n",
       "\\hline\n",
       "\t 100\\%\\\\\n",
       "\t 3\\%  \\\\\n",
       "\t 98\\% \\\\\n",
       "\t 65\\% \\\\\n",
       "\t 72\\% \\\\\n",
       "\t 83\\% \\\\\n",
       "\\end{tabular}\n"
      ],
      "text/markdown": [
       "\n",
       "A tibble: 6 × 1\n",
       "\n",
       "| quality &lt;chr&gt; |\n",
       "|---|\n",
       "| 100% |\n",
       "| 3%   |\n",
       "| 98%  |\n",
       "| 65%  |\n",
       "| 72%  |\n",
       "| 83%  |\n",
       "\n"
      ],
      "text/plain": [
       "  quality\n",
       "1 100%   \n",
       "2 3%     \n",
       "3 98%    \n",
       "4 65%    \n",
       "5 72%    \n",
       "6 83%    "
      ]
     },
     "metadata": {},
     "output_type": "display_data"
    },
    {
     "data": {
      "text/html": [
       "<table class=\"dataframe\">\n",
       "<caption>A tibble: 6 × 3</caption>\n",
       "<thead>\n",
       "\t<tr><th scope=col>quality</th><th scope=col>time</th><th scope=col>wake_up</th></tr>\n",
       "\t<tr><th scope=col>&lt;chr&gt;</th><th scope=col>&lt;time&gt;</th><th scope=col>&lt;chr&gt;</th></tr>\n",
       "</thead>\n",
       "<tbody>\n",
       "\t<tr><td>100%</td><td>08:32:00</td><td>:)</td></tr>\n",
       "\t<tr><td>3%  </td><td>00:16:00</td><td>:|</td></tr>\n",
       "\t<tr><td>98% </td><td>08:30:00</td><td>:|</td></tr>\n",
       "\t<tr><td>65% </td><td>07:32:00</td><td>NA</td></tr>\n",
       "\t<tr><td>72% </td><td>06:44:00</td><td>:)</td></tr>\n",
       "\t<tr><td>83% </td><td>07:12:00</td><td>:)</td></tr>\n",
       "</tbody>\n",
       "</table>\n"
      ],
      "text/latex": [
       "A tibble: 6 × 3\n",
       "\\begin{tabular}{lll}\n",
       " quality & time & wake\\_up\\\\\n",
       " <chr> & <time> & <chr>\\\\\n",
       "\\hline\n",
       "\t 100\\% & 08:32:00 & :)\\\\\n",
       "\t 3\\%   & 00:16:00 & :\\textbar{}\\\\\n",
       "\t 98\\%  & 08:30:00 & :\\textbar{}\\\\\n",
       "\t 65\\%  & 07:32:00 & NA\\\\\n",
       "\t 72\\%  & 06:44:00 & :)\\\\\n",
       "\t 83\\%  & 07:12:00 & :)\\\\\n",
       "\\end{tabular}\n"
      ],
      "text/markdown": [
       "\n",
       "A tibble: 6 × 3\n",
       "\n",
       "| quality &lt;chr&gt; | time &lt;time&gt; | wake_up &lt;chr&gt; |\n",
       "|---|---|---|\n",
       "| 100% | 08:32:00 | :) |\n",
       "| 3%   | 00:16:00 | :| |\n",
       "| 98%  | 08:30:00 | :| |\n",
       "| 65%  | 07:32:00 | NA |\n",
       "| 72%  | 06:44:00 | :) |\n",
       "| 83%  | 07:12:00 | :) |\n",
       "\n"
      ],
      "text/plain": [
       "  quality time     wake_up\n",
       "1 100%    08:32:00 :)     \n",
       "2 3%      00:16:00 :|     \n",
       "3 98%     08:30:00 :|     \n",
       "4 65%     07:32:00 NA     \n",
       "5 72%     06:44:00 :)     \n",
       "6 83%     07:12:00 :)     "
      ]
     },
     "metadata": {},
     "output_type": "display_data"
    }
   ],
   "source": [
    "# Função para selecionar uma variável especifíca do dataframe\n",
    "head(select(sleep, quality))\n",
    "\n",
    "head(select(sleep, quality:wake_up))"
   ]
  },
  {
   "cell_type": "code",
   "execution_count": 46,
   "id": "4105b036-582c-494e-8c68-9844671958f6",
   "metadata": {},
   "outputs": [
    {
     "data": {
      "text/html": [
       "<table class=\"dataframe\">\n",
       "<caption>A spec_tbl_df: 13 × 8</caption>\n",
       "<thead>\n",
       "\t<tr><th scope=col>start</th><th scope=col>end</th><th scope=col>quality</th><th scope=col>time</th><th scope=col>wake_up</th><th scope=col>sleep_note</th><th scope=col>heart_rate</th><th scope=col>activity</th></tr>\n",
       "\t<tr><th scope=col>&lt;dttm&gt;</th><th scope=col>&lt;dttm&gt;</th><th scope=col>&lt;chr&gt;</th><th scope=col>&lt;time&gt;</th><th scope=col>&lt;chr&gt;</th><th scope=col>&lt;chr&gt;</th><th scope=col>&lt;dbl&gt;</th><th scope=col>&lt;dbl&gt;</th></tr>\n",
       "</thead>\n",
       "<tbody>\n",
       "\t<tr><td>2014-12-29 22:57:49</td><td>2014-12-30 07:30:13</td><td>100%</td><td>08:32:00</td><td>:)</td><td>NA                               </td><td>59</td><td>   0</td></tr>\n",
       "\t<tr><td>2015-01-12 21:01:46</td><td>2015-01-13 06:13:23</td><td>100%</td><td>09:11:00</td><td>:)</td><td>Drank tea:Worked out             </td><td>65</td><td>   0</td></tr>\n",
       "\t<tr><td>2015-01-13 22:14:29</td><td>2015-01-14 06:20:33</td><td>100%</td><td>08:06:00</td><td>:)</td><td>Drank coffee:Drank tea           </td><td>55</td><td>   0</td></tr>\n",
       "\t<tr><td>2015-04-07 21:17:36</td><td>2015-04-08 06:18:55</td><td>100%</td><td>09:01:00</td><td>:)</td><td>Drank tea                        </td><td>51</td><td>   0</td></tr>\n",
       "\t<tr><td>2015-04-25 22:53:27</td><td>2015-04-26 07:53:35</td><td>100%</td><td>09:00:00</td><td>:)</td><td>Drank coffee:Drank tea           </td><td>61</td><td>   0</td></tr>\n",
       "\t<tr><td>2015-10-11 00:27:25</td><td>2015-10-11 08:58:25</td><td>100%</td><td>08:31:00</td><td>:)</td><td>Drank coffee:Stressful day       </td><td>50</td><td>   0</td></tr>\n",
       "\t<tr><td>2015-12-17 21:07:49</td><td>2015-12-18 05:45:44</td><td>100%</td><td>08:37:00</td><td>:)</td><td>Drank coffee:Drank tea:Worked out</td><td>NA</td><td>   0</td></tr>\n",
       "\t<tr><td>2016-05-13 23:08:55</td><td>2016-05-14 07:53:57</td><td>100%</td><td>08:45:00</td><td>NA</td><td>Drank coffee:Drank tea:Worked out</td><td>NA</td><td>   0</td></tr>\n",
       "\t<tr><td>2016-05-29 22:04:35</td><td>2016-05-30 06:40:37</td><td>100%</td><td>08:36:00</td><td>NA</td><td>Drank coffee                     </td><td>NA</td><td>   0</td></tr>\n",
       "\t<tr><td>2017-02-10 22:37:33</td><td>2017-02-11 07:07:59</td><td>100%</td><td>08:30:00</td><td>NA</td><td>Drank tea                        </td><td>NA</td><td>3417</td></tr>\n",
       "\t<tr><td>2017-03-25 23:19:31</td><td>2017-03-26 07:16:06</td><td>100%</td><td>07:56:00</td><td>NA</td><td>Drank coffee:Drank tea           </td><td>NA</td><td>3549</td></tr>\n",
       "\t<tr><td>2017-10-19 21:13:33</td><td>2017-10-20 06:14:02</td><td>100%</td><td>09:00:00</td><td>NA</td><td>NA                               </td><td>NA</td><td> 907</td></tr>\n",
       "\t<tr><td>2017-11-25 23:14:12</td><td>2017-11-26 08:19:42</td><td>100%</td><td>09:05:00</td><td>NA</td><td>NA                               </td><td>NA</td><td>5116</td></tr>\n",
       "</tbody>\n",
       "</table>\n"
      ],
      "text/latex": [
       "A spec\\_tbl\\_df: 13 × 8\n",
       "\\begin{tabular}{llllllll}\n",
       " start & end & quality & time & wake\\_up & sleep\\_note & heart\\_rate & activity\\\\\n",
       " <dttm> & <dttm> & <chr> & <time> & <chr> & <chr> & <dbl> & <dbl>\\\\\n",
       "\\hline\n",
       "\t 2014-12-29 22:57:49 & 2014-12-30 07:30:13 & 100\\% & 08:32:00 & :) & NA                                & 59 &    0\\\\\n",
       "\t 2015-01-12 21:01:46 & 2015-01-13 06:13:23 & 100\\% & 09:11:00 & :) & Drank tea:Worked out              & 65 &    0\\\\\n",
       "\t 2015-01-13 22:14:29 & 2015-01-14 06:20:33 & 100\\% & 08:06:00 & :) & Drank coffee:Drank tea            & 55 &    0\\\\\n",
       "\t 2015-04-07 21:17:36 & 2015-04-08 06:18:55 & 100\\% & 09:01:00 & :) & Drank tea                         & 51 &    0\\\\\n",
       "\t 2015-04-25 22:53:27 & 2015-04-26 07:53:35 & 100\\% & 09:00:00 & :) & Drank coffee:Drank tea            & 61 &    0\\\\\n",
       "\t 2015-10-11 00:27:25 & 2015-10-11 08:58:25 & 100\\% & 08:31:00 & :) & Drank coffee:Stressful day        & 50 &    0\\\\\n",
       "\t 2015-12-17 21:07:49 & 2015-12-18 05:45:44 & 100\\% & 08:37:00 & :) & Drank coffee:Drank tea:Worked out & NA &    0\\\\\n",
       "\t 2016-05-13 23:08:55 & 2016-05-14 07:53:57 & 100\\% & 08:45:00 & NA & Drank coffee:Drank tea:Worked out & NA &    0\\\\\n",
       "\t 2016-05-29 22:04:35 & 2016-05-30 06:40:37 & 100\\% & 08:36:00 & NA & Drank coffee                      & NA &    0\\\\\n",
       "\t 2017-02-10 22:37:33 & 2017-02-11 07:07:59 & 100\\% & 08:30:00 & NA & Drank tea                         & NA & 3417\\\\\n",
       "\t 2017-03-25 23:19:31 & 2017-03-26 07:16:06 & 100\\% & 07:56:00 & NA & Drank coffee:Drank tea            & NA & 3549\\\\\n",
       "\t 2017-10-19 21:13:33 & 2017-10-20 06:14:02 & 100\\% & 09:00:00 & NA & NA                                & NA &  907\\\\\n",
       "\t 2017-11-25 23:14:12 & 2017-11-26 08:19:42 & 100\\% & 09:05:00 & NA & NA                                & NA & 5116\\\\\n",
       "\\end{tabular}\n"
      ],
      "text/markdown": [
       "\n",
       "A spec_tbl_df: 13 × 8\n",
       "\n",
       "| start &lt;dttm&gt; | end &lt;dttm&gt; | quality &lt;chr&gt; | time &lt;time&gt; | wake_up &lt;chr&gt; | sleep_note &lt;chr&gt; | heart_rate &lt;dbl&gt; | activity &lt;dbl&gt; |\n",
       "|---|---|---|---|---|---|---|---|\n",
       "| 2014-12-29 22:57:49 | 2014-12-30 07:30:13 | 100% | 08:32:00 | :) | NA                                | 59 |    0 |\n",
       "| 2015-01-12 21:01:46 | 2015-01-13 06:13:23 | 100% | 09:11:00 | :) | Drank tea:Worked out              | 65 |    0 |\n",
       "| 2015-01-13 22:14:29 | 2015-01-14 06:20:33 | 100% | 08:06:00 | :) | Drank coffee:Drank tea            | 55 |    0 |\n",
       "| 2015-04-07 21:17:36 | 2015-04-08 06:18:55 | 100% | 09:01:00 | :) | Drank tea                         | 51 |    0 |\n",
       "| 2015-04-25 22:53:27 | 2015-04-26 07:53:35 | 100% | 09:00:00 | :) | Drank coffee:Drank tea            | 61 |    0 |\n",
       "| 2015-10-11 00:27:25 | 2015-10-11 08:58:25 | 100% | 08:31:00 | :) | Drank coffee:Stressful day        | 50 |    0 |\n",
       "| 2015-12-17 21:07:49 | 2015-12-18 05:45:44 | 100% | 08:37:00 | :) | Drank coffee:Drank tea:Worked out | NA |    0 |\n",
       "| 2016-05-13 23:08:55 | 2016-05-14 07:53:57 | 100% | 08:45:00 | NA | Drank coffee:Drank tea:Worked out | NA |    0 |\n",
       "| 2016-05-29 22:04:35 | 2016-05-30 06:40:37 | 100% | 08:36:00 | NA | Drank coffee                      | NA |    0 |\n",
       "| 2017-02-10 22:37:33 | 2017-02-11 07:07:59 | 100% | 08:30:00 | NA | Drank tea                         | NA | 3417 |\n",
       "| 2017-03-25 23:19:31 | 2017-03-26 07:16:06 | 100% | 07:56:00 | NA | Drank coffee:Drank tea            | NA | 3549 |\n",
       "| 2017-10-19 21:13:33 | 2017-10-20 06:14:02 | 100% | 09:00:00 | NA | NA                                | NA |  907 |\n",
       "| 2017-11-25 23:14:12 | 2017-11-26 08:19:42 | 100% | 09:05:00 | NA | NA                                | NA | 5116 |\n",
       "\n"
      ],
      "text/plain": [
       "   start               end                 quality time     wake_up\n",
       "1  2014-12-29 22:57:49 2014-12-30 07:30:13 100%    08:32:00 :)     \n",
       "2  2015-01-12 21:01:46 2015-01-13 06:13:23 100%    09:11:00 :)     \n",
       "3  2015-01-13 22:14:29 2015-01-14 06:20:33 100%    08:06:00 :)     \n",
       "4  2015-04-07 21:17:36 2015-04-08 06:18:55 100%    09:01:00 :)     \n",
       "5  2015-04-25 22:53:27 2015-04-26 07:53:35 100%    09:00:00 :)     \n",
       "6  2015-10-11 00:27:25 2015-10-11 08:58:25 100%    08:31:00 :)     \n",
       "7  2015-12-17 21:07:49 2015-12-18 05:45:44 100%    08:37:00 :)     \n",
       "8  2016-05-13 23:08:55 2016-05-14 07:53:57 100%    08:45:00 NA     \n",
       "9  2016-05-29 22:04:35 2016-05-30 06:40:37 100%    08:36:00 NA     \n",
       "10 2017-02-10 22:37:33 2017-02-11 07:07:59 100%    08:30:00 NA     \n",
       "11 2017-03-25 23:19:31 2017-03-26 07:16:06 100%    07:56:00 NA     \n",
       "12 2017-10-19 21:13:33 2017-10-20 06:14:02 100%    09:00:00 NA     \n",
       "13 2017-11-25 23:14:12 2017-11-26 08:19:42 100%    09:05:00 NA     \n",
       "   sleep_note                        heart_rate activity\n",
       "1  NA                                59            0    \n",
       "2  Drank tea:Worked out              65            0    \n",
       "3  Drank coffee:Drank tea            55            0    \n",
       "4  Drank tea                         51            0    \n",
       "5  Drank coffee:Drank tea            61            0    \n",
       "6  Drank coffee:Stressful day        50            0    \n",
       "7  Drank coffee:Drank tea:Worked out NA            0    \n",
       "8  Drank coffee:Drank tea:Worked out NA            0    \n",
       "9  Drank coffee                      NA            0    \n",
       "10 Drank tea                         NA         3417    \n",
       "11 Drank coffee:Drank tea            NA         3549    \n",
       "12 NA                                NA          907    \n",
       "13 NA                                NA         5116    "
      ]
     },
     "metadata": {},
     "output_type": "display_data"
    }
   ],
   "source": [
    "# Filtrando dados\n",
    "filter(sleep, quality == '100%')"
   ]
  },
  {
   "cell_type": "code",
   "execution_count": 53,
   "id": "e9d467fc-796b-4ff4-9b21-7b2a0b8a0f10",
   "metadata": {},
   "outputs": [
    {
     "data": {
      "text/html": [
       "<table class=\"dataframe\">\n",
       "<caption>A tibble: 6 × 8</caption>\n",
       "<thead>\n",
       "\t<tr><th scope=col>start</th><th scope=col>end</th><th scope=col>quality</th><th scope=col>time</th><th scope=col>wake_up</th><th scope=col>sleep_note</th><th scope=col>heart_rate</th><th scope=col>activity</th></tr>\n",
       "\t<tr><th scope=col>&lt;dttm&gt;</th><th scope=col>&lt;dttm&gt;</th><th scope=col>&lt;chr&gt;</th><th scope=col>&lt;time&gt;</th><th scope=col>&lt;chr&gt;</th><th scope=col>&lt;chr&gt;</th><th scope=col>&lt;dbl&gt;</th><th scope=col>&lt;dbl&gt;</th></tr>\n",
       "</thead>\n",
       "<tbody>\n",
       "\t<tr><td>2015-06-04 22:20:19</td><td>2015-06-05 03:45:30</td><td>70% </td><td>05:25:00</td><td>:(</td><td>Drank coffee:Drank tea:Worked out</td><td>NA</td><td>0</td></tr>\n",
       "\t<tr><td>2014-12-29 22:57:49</td><td>2014-12-30 07:30:13</td><td>100%</td><td>08:32:00</td><td>:)</td><td>NA                               </td><td>59</td><td>0</td></tr>\n",
       "\t<tr><td>2015-01-01 22:12:10</td><td>2015-01-02 04:56:35</td><td>72% </td><td>06:44:00</td><td>:)</td><td>Drank coffee:Drank tea           </td><td>68</td><td>0</td></tr>\n",
       "\t<tr><td>2015-01-03 00:34:57</td><td>2015-01-03 07:47:23</td><td>83% </td><td>07:12:00</td><td>:)</td><td>Drank coffee:Drank tea           </td><td>60</td><td>0</td></tr>\n",
       "\t<tr><td>2015-01-04 21:34:44</td><td>2015-01-05 04:53:34</td><td>78% </td><td>07:18:00</td><td>:)</td><td>Ate late:Drank coffee            </td><td>57</td><td>0</td></tr>\n",
       "\t<tr><td>2015-01-05 21:32:25</td><td>2015-01-06 05:00:03</td><td>69% </td><td>07:27:00</td><td>:)</td><td>Drank coffee:Drank tea:Worked out</td><td>56</td><td>0</td></tr>\n",
       "</tbody>\n",
       "</table>\n"
      ],
      "text/latex": [
       "A tibble: 6 × 8\n",
       "\\begin{tabular}{llllllll}\n",
       " start & end & quality & time & wake\\_up & sleep\\_note & heart\\_rate & activity\\\\\n",
       " <dttm> & <dttm> & <chr> & <time> & <chr> & <chr> & <dbl> & <dbl>\\\\\n",
       "\\hline\n",
       "\t 2015-06-04 22:20:19 & 2015-06-05 03:45:30 & 70\\%  & 05:25:00 & :( & Drank coffee:Drank tea:Worked out & NA & 0\\\\\n",
       "\t 2014-12-29 22:57:49 & 2014-12-30 07:30:13 & 100\\% & 08:32:00 & :) & NA                                & 59 & 0\\\\\n",
       "\t 2015-01-01 22:12:10 & 2015-01-02 04:56:35 & 72\\%  & 06:44:00 & :) & Drank coffee:Drank tea            & 68 & 0\\\\\n",
       "\t 2015-01-03 00:34:57 & 2015-01-03 07:47:23 & 83\\%  & 07:12:00 & :) & Drank coffee:Drank tea            & 60 & 0\\\\\n",
       "\t 2015-01-04 21:34:44 & 2015-01-05 04:53:34 & 78\\%  & 07:18:00 & :) & Ate late:Drank coffee             & 57 & 0\\\\\n",
       "\t 2015-01-05 21:32:25 & 2015-01-06 05:00:03 & 69\\%  & 07:27:00 & :) & Drank coffee:Drank tea:Worked out & 56 & 0\\\\\n",
       "\\end{tabular}\n"
      ],
      "text/markdown": [
       "\n",
       "A tibble: 6 × 8\n",
       "\n",
       "| start &lt;dttm&gt; | end &lt;dttm&gt; | quality &lt;chr&gt; | time &lt;time&gt; | wake_up &lt;chr&gt; | sleep_note &lt;chr&gt; | heart_rate &lt;dbl&gt; | activity &lt;dbl&gt; |\n",
       "|---|---|---|---|---|---|---|---|\n",
       "| 2015-06-04 22:20:19 | 2015-06-05 03:45:30 | 70%  | 05:25:00 | :( | Drank coffee:Drank tea:Worked out | NA | 0 |\n",
       "| 2014-12-29 22:57:49 | 2014-12-30 07:30:13 | 100% | 08:32:00 | :) | NA                                | 59 | 0 |\n",
       "| 2015-01-01 22:12:10 | 2015-01-02 04:56:35 | 72%  | 06:44:00 | :) | Drank coffee:Drank tea            | 68 | 0 |\n",
       "| 2015-01-03 00:34:57 | 2015-01-03 07:47:23 | 83%  | 07:12:00 | :) | Drank coffee:Drank tea            | 60 | 0 |\n",
       "| 2015-01-04 21:34:44 | 2015-01-05 04:53:34 | 78%  | 07:18:00 | :) | Ate late:Drank coffee             | 57 | 0 |\n",
       "| 2015-01-05 21:32:25 | 2015-01-06 05:00:03 | 69%  | 07:27:00 | :) | Drank coffee:Drank tea:Worked out | 56 | 0 |\n",
       "\n"
      ],
      "text/plain": [
       "  start               end                 quality time     wake_up\n",
       "1 2015-06-04 22:20:19 2015-06-05 03:45:30 70%     05:25:00 :(     \n",
       "2 2014-12-29 22:57:49 2014-12-30 07:30:13 100%    08:32:00 :)     \n",
       "3 2015-01-01 22:12:10 2015-01-02 04:56:35 72%     06:44:00 :)     \n",
       "4 2015-01-03 00:34:57 2015-01-03 07:47:23 83%     07:12:00 :)     \n",
       "5 2015-01-04 21:34:44 2015-01-05 04:53:34 78%     07:18:00 :)     \n",
       "6 2015-01-05 21:32:25 2015-01-06 05:00:03 69%     07:27:00 :)     \n",
       "  sleep_note                        heart_rate activity\n",
       "1 Drank coffee:Drank tea:Worked out NA         0       \n",
       "2 NA                                59         0       \n",
       "3 Drank coffee:Drank tea            68         0       \n",
       "4 Drank coffee:Drank tea            60         0       \n",
       "5 Ate late:Drank coffee             57         0       \n",
       "6 Drank coffee:Drank tea:Worked out 56         0       "
      ]
     },
     "metadata": {},
     "output_type": "display_data"
    }
   ],
   "source": [
    "# Ordenando o conjunto de dados\n",
    "arrange(sleep, wake_up) %>% head"
   ]
  },
  {
   "cell_type": "code",
   "execution_count": null,
   "id": "d1f047f3-3ee6-4e1e-8871-36ab8a2c5e3d",
   "metadata": {},
   "outputs": [],
   "source": []
  }
 ],
 "metadata": {
  "kernelspec": {
   "display_name": "R",
   "language": "R",
   "name": "ir"
  },
  "language_info": {
   "codemirror_mode": "r",
   "file_extension": ".r",
   "mimetype": "text/x-r-source",
   "name": "R",
   "pygments_lexer": "r",
   "version": "4.1.2"
  }
 },
 "nbformat": 4,
 "nbformat_minor": 5
}
