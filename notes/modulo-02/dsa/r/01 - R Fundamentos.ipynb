{
 "cells": [
  {
   "cell_type": "markdown",
   "id": "7febddbf",
   "metadata": {},
   "source": [
    "# Programação Básica com a Linguagem R\n",
    "\n",
    "R é uma linguagem de programação multi-paradigma orientada a objetos, programação funcional, dinâmica, fracamente tipada, voltada à manipulação, análise e visualização de dados. Foi criado originalmente por Ross Ihaka e por Robert Gentleman no departamento de Estatística da Universidade de Auckland, Nova Zelândia."
   ]
  },
  {
   "cell_type": "markdown",
   "id": "b487c8b1",
   "metadata": {},
   "source": [
    "# 1 - Fundamentos de Programação"
   ]
  },
  {
   "cell_type": "markdown",
   "id": "536b8d7a",
   "metadata": {},
   "source": [
    "## 1.1 - Operadores Aritméticos"
   ]
  },
  {
   "cell_type": "code",
   "execution_count": 1,
   "id": "e6079815",
   "metadata": {},
   "outputs": [],
   "source": [
    "# Criando uma variável com valor 2\n",
    "x <- 10\n",
    "\n",
    "# Criando uma variável com valor 3\n",
    "y <- 5"
   ]
  },
  {
   "cell_type": "code",
   "execution_count": 2,
   "id": "cec8ec5b",
   "metadata": {},
   "outputs": [
    {
     "data": {
      "text/html": [
       "15"
      ],
      "text/latex": [
       "15"
      ],
      "text/markdown": [
       "15"
      ],
      "text/plain": [
       "[1] 15"
      ]
     },
     "metadata": {},
     "output_type": "display_data"
    },
    {
     "data": {
      "text/html": [
       "5"
      ],
      "text/latex": [
       "5"
      ],
      "text/markdown": [
       "5"
      ],
      "text/plain": [
       "[1] 5"
      ]
     },
     "metadata": {},
     "output_type": "display_data"
    },
    {
     "data": {
      "text/html": [
       "50"
      ],
      "text/latex": [
       "50"
      ],
      "text/markdown": [
       "50"
      ],
      "text/plain": [
       "[1] 50"
      ]
     },
     "metadata": {},
     "output_type": "display_data"
    },
    {
     "data": {
      "text/html": [
       "2"
      ],
      "text/latex": [
       "2"
      ],
      "text/markdown": [
       "2"
      ],
      "text/plain": [
       "[1] 2"
      ]
     },
     "metadata": {},
     "output_type": "display_data"
    },
    {
     "data": {
      "text/html": [
       "1e+05"
      ],
      "text/latex": [
       "1e+05"
      ],
      "text/markdown": [
       "1e+05"
      ],
      "text/plain": [
       "[1] 1e+05"
      ]
     },
     "metadata": {},
     "output_type": "display_data"
    },
    {
     "data": {
      "text/html": [
       "0"
      ],
      "text/latex": [
       "0"
      ],
      "text/markdown": [
       "0"
      ],
      "text/plain": [
       "[1] 0"
      ]
     },
     "metadata": {},
     "output_type": "display_data"
    }
   ],
   "source": [
    "# Executando todas as operações\n",
    "x + y\n",
    "x - y\n",
    "x * y\n",
    "x / y\n",
    "x ^ y\n",
    "x %% y"
   ]
  },
  {
   "cell_type": "markdown",
   "id": "571e5788",
   "metadata": {},
   "source": [
    "## 1.2 - Variáveis"
   ]
  },
  {
   "cell_type": "code",
   "execution_count": 3,
   "id": "c85e9a52",
   "metadata": {},
   "outputs": [
    {
     "data": {
      "text/html": [
       "7"
      ],
      "text/latex": [
       "7"
      ],
      "text/markdown": [
       "7"
      ],
      "text/plain": [
       "[1] 7"
      ]
     },
     "metadata": {},
     "output_type": "display_data"
    },
    {
     "data": {
      "text/html": [
       "7"
      ],
      "text/latex": [
       "7"
      ],
      "text/markdown": [
       "7"
      ],
      "text/plain": [
       "[1] 7"
      ]
     },
     "metadata": {},
     "output_type": "display_data"
    },
    {
     "data": {
      "text/html": [
       "7"
      ],
      "text/latex": [
       "7"
      ],
      "text/markdown": [
       "7"
      ],
      "text/plain": [
       "[1] 7"
      ]
     },
     "metadata": {},
     "output_type": "display_data"
    }
   ],
   "source": [
    "# Instânciando varias variáveis\n",
    "x <- y <- z <- 7\n",
    "\n",
    "x; y; z"
   ]
  },
  {
   "cell_type": "code",
   "execution_count": 4,
   "id": "0267cea9",
   "metadata": {},
   "outputs": [
    {
     "data": {
      "text/html": [
       "<style>\n",
       ".list-inline {list-style: none; margin:0; padding: 0}\n",
       ".list-inline>li {display: inline-block}\n",
       ".list-inline>li:not(:last-child)::after {content: \"\\00b7\"; padding: 0 .5ex}\n",
       "</style>\n",
       "<ol class=list-inline><li>'x'</li><li>'y'</li><li>'z'</li></ol>\n"
      ],
      "text/latex": [
       "\\begin{enumerate*}\n",
       "\\item 'x'\n",
       "\\item 'y'\n",
       "\\item 'z'\n",
       "\\end{enumerate*}\n"
      ],
      "text/markdown": [
       "1. 'x'\n",
       "2. 'y'\n",
       "3. 'z'\n",
       "\n",
       "\n"
      ],
      "text/plain": [
       "[1] \"x\" \"y\" \"z\""
      ]
     },
     "metadata": {},
     "output_type": "display_data"
    },
    {
     "data": {
      "text/html": [
       "<style>\n",
       ".list-inline {list-style: none; margin:0; padding: 0}\n",
       ".list-inline>li {display: inline-block}\n",
       ".list-inline>li:not(:last-child)::after {content: \"\\00b7\"; padding: 0 .5ex}\n",
       "</style>\n",
       "<ol class=list-inline><li>'y'</li><li>'z'</li></ol>\n"
      ],
      "text/latex": [
       "\\begin{enumerate*}\n",
       "\\item 'y'\n",
       "\\item 'z'\n",
       "\\end{enumerate*}\n"
      ],
      "text/markdown": [
       "1. 'y'\n",
       "2. 'z'\n",
       "\n",
       "\n"
      ],
      "text/plain": [
       "[1] \"y\" \"z\""
      ]
     },
     "metadata": {},
     "output_type": "display_data"
    }
   ],
   "source": [
    "# Visualizando todas as variáveis em memória\n",
    "ls()\n",
    "\n",
    "# Removendo a variável chamada X\n",
    "rm(x)\n",
    "\n",
    "# Visualizando novamente\n",
    "ls()"
   ]
  },
  {
   "cell_type": "code",
   "execution_count": 5,
   "id": "95f48c57",
   "metadata": {},
   "outputs": [
    {
     "data": {
      "text/html": [],
      "text/latex": [],
      "text/markdown": [],
      "text/plain": [
       "character(0)"
      ]
     },
     "metadata": {},
     "output_type": "display_data"
    }
   ],
   "source": [
    "# Excluindo todas as variáveis da memória\n",
    "rm(list=ls())\n",
    "\n",
    "ls()"
   ]
  },
  {
   "cell_type": "markdown",
   "id": "19e405de",
   "metadata": {},
   "source": [
    "## 1.3 - Funções Matemáticas"
   ]
  },
  {
   "cell_type": "code",
   "execution_count": 7,
   "id": "76298b16",
   "metadata": {},
   "outputs": [
    {
     "data": {
      "text/html": [
       "3.16227766016838"
      ],
      "text/latex": [
       "3.16227766016838"
      ],
      "text/markdown": [
       "3.16227766016838"
      ],
      "text/plain": [
       "[1] 3.162278"
      ]
     },
     "metadata": {},
     "output_type": "display_data"
    },
    {
     "data": {
      "text/html": [
       "3628800"
      ],
      "text/latex": [
       "3628800"
      ],
      "text/markdown": [
       "3628800"
      ],
      "text/plain": [
       "[1] 3628800"
      ]
     },
     "metadata": {},
     "output_type": "display_data"
    },
    {
     "data": {
      "text/html": [
       "3.14159"
      ],
      "text/latex": [
       "3.14159"
      ],
      "text/markdown": [
       "3.14159"
      ],
      "text/plain": [
       "[1] 3.14159"
      ]
     },
     "metadata": {},
     "output_type": "display_data"
    },
    {
     "data": {
      "text/html": [
       "1"
      ],
      "text/latex": [
       "1"
      ],
      "text/markdown": [
       "1"
      ],
      "text/plain": [
       "[1] 1"
      ]
     },
     "metadata": {},
     "output_type": "display_data"
    },
    {
     "data": {
      "text/html": [
       "-3.14"
      ],
      "text/latex": [
       "-3.14"
      ],
      "text/markdown": [
       "-3.14"
      ],
      "text/plain": [
       "[1] -3.14"
      ]
     },
     "metadata": {},
     "output_type": "display_data"
    },
    {
     "data": {
      "text/html": [
       "-3.1"
      ],
      "text/latex": [
       "-3.1"
      ],
      "text/markdown": [
       "-3.1"
      ],
      "text/plain": [
       "[1] -3.1"
      ]
     },
     "metadata": {},
     "output_type": "display_data"
    },
    {
     "data": {
      "text/html": [
       "-4"
      ],
      "text/latex": [
       "-4"
      ],
      "text/markdown": [
       "-4"
      ],
      "text/plain": [
       "[1] -4"
      ]
     },
     "metadata": {},
     "output_type": "display_data"
    },
    {
     "data": {
      "text/html": [
       "-3"
      ],
      "text/latex": [
       "-3"
      ],
      "text/markdown": [
       "-3"
      ],
      "text/plain": [
       "[1] -3"
      ]
     },
     "metadata": {},
     "output_type": "display_data"
    }
   ],
   "source": [
    "x <- 10\n",
    "z <- -3.14159\n",
    "\n",
    "# Raiz quadrada\n",
    "sqrt(x)\n",
    "\n",
    "# Fatorial\n",
    "factorial(x)\n",
    "\n",
    "# Valor absoluto (módulo)\n",
    "abs(z)\n",
    "\n",
    "# Logarítmo\n",
    "log(x, base=x)\n",
    "\n",
    "# Arredondar número\n",
    "round(z, digits=2)\n",
    "\n",
    "# Números significantes\n",
    "signif(z, digits=2)\n",
    "\n",
    "# Arredondar para cima\n",
    "floor(z)\n",
    "\n",
    "# Arredondar para baixo\n",
    "ceiling(z)"
   ]
  },
  {
   "cell_type": "markdown",
   "id": "acb0d85d",
   "metadata": {},
   "source": [
    "## 1.4 - Tipos de Dados"
   ]
  },
  {
   "cell_type": "code",
   "execution_count": 8,
   "id": "8dd44ea7",
   "metadata": {},
   "outputs": [
    {
     "data": {
      "text/html": [
       "'double'"
      ],
      "text/latex": [
       "'double'"
      ],
      "text/markdown": [
       "'double'"
      ],
      "text/plain": [
       "[1] \"double\""
      ]
     },
     "metadata": {},
     "output_type": "display_data"
    }
   ],
   "source": [
    "x <- 10\n",
    "\n",
    "typeof(x)"
   ]
  },
  {
   "cell_type": "code",
   "execution_count": 9,
   "id": "4bf306b4",
   "metadata": {},
   "outputs": [
    {
     "data": {
      "text/html": [
       "'integer'"
      ],
      "text/latex": [
       "'integer'"
      ],
      "text/markdown": [
       "'integer'"
      ],
      "text/plain": [
       "[1] \"integer\""
      ]
     },
     "metadata": {},
     "output_type": "display_data"
    }
   ],
   "source": [
    "y <- 10L\n",
    "\n",
    "typeof(y)"
   ]
  },
  {
   "cell_type": "code",
   "execution_count": 11,
   "id": "2ff450c1",
   "metadata": {},
   "outputs": [
    {
     "data": {
      "text/html": [
       "'complex'"
      ],
      "text/latex": [
       "'complex'"
      ],
      "text/markdown": [
       "'complex'"
      ],
      "text/plain": [
       "[1] \"complex\""
      ]
     },
     "metadata": {},
     "output_type": "display_data"
    }
   ],
   "source": [
    "c1 <- 3 + 3i\n",
    "\n",
    "typeof(c1)"
   ]
  },
  {
   "cell_type": "code",
   "execution_count": 12,
   "id": "4baca59c",
   "metadata": {
    "scrolled": true
   },
   "outputs": [
    {
     "data": {
      "text/html": [
       "'character'"
      ],
      "text/latex": [
       "'character'"
      ],
      "text/markdown": [
       "'character'"
      ],
      "text/plain": [
       "[1] \"character\""
      ]
     },
     "metadata": {},
     "output_type": "display_data"
    }
   ],
   "source": [
    "f <- \"Fermat\"\n",
    "\n",
    "typeof(f)"
   ]
  },
  {
   "cell_type": "code",
   "execution_count": 15,
   "id": "1a974c8c",
   "metadata": {},
   "outputs": [
    {
     "data": {
      "text/html": [
       "'logical'"
      ],
      "text/latex": [
       "'logical'"
      ],
      "text/markdown": [
       "'logical'"
      ],
      "text/plain": [
       "[1] \"logical\""
      ]
     },
     "metadata": {},
     "output_type": "display_data"
    }
   ],
   "source": [
    "b <- TRUE\n",
    "\n",
    "typeof(b)"
   ]
  },
  {
   "cell_type": "markdown",
   "id": "53c769f0",
   "metadata": {},
   "source": [
    "## 1.5 - Strings"
   ]
  },
  {
   "cell_type": "code",
   "execution_count": 16,
   "id": "7e5d31bb",
   "metadata": {},
   "outputs": [
    {
     "name": "stdout",
     "output_type": "stream",
     "text": [
      "What is your name? Joel\n"
     ]
    },
    {
     "data": {
      "text/html": [
       "'Welcome, Joel'"
      ],
      "text/latex": [
       "'Welcome, Joel'"
      ],
      "text/markdown": [
       "'Welcome, Joel'"
      ],
      "text/plain": [
       "[1] \"Welcome, Joel\""
      ]
     },
     "metadata": {},
     "output_type": "display_data"
    }
   ],
   "source": [
    "name <- readline(prompt=\"What is your name? \")\n",
    "welcome = \"Welcome,\"\n",
    "\n",
    "paste(welcome, name)"
   ]
  },
  {
   "cell_type": "code",
   "execution_count": 18,
   "id": "cdfacc6d",
   "metadata": {},
   "outputs": [
    {
     "name": "stdout",
     "output_type": "stream",
     "text": [
      "Qual seu nome? Joel\n",
      "Qual sua idade? 19\n"
     ]
    },
    {
     "data": {
      "text/html": [
       "'O aluno Joel tem 19 anos de idade'"
      ],
      "text/latex": [
       "'O aluno Joel tem 19 anos de idade'"
      ],
      "text/markdown": [
       "'O aluno Joel tem 19 anos de idade'"
      ],
      "text/plain": [
       "[1] \"O aluno Joel tem 19 anos de idade\""
      ]
     },
     "metadata": {},
     "output_type": "display_data"
    }
   ],
   "source": [
    "name <- readline(prompt=\"Qual seu nome? \")\n",
    "age <- readline(prompt=\"Qual sua idade? \")\n",
    "\n",
    "paste(\"O aluno\", name, \"tem\", age, \"anos de idade\")"
   ]
  },
  {
   "cell_type": "code",
   "execution_count": 19,
   "id": "6adaac5a",
   "metadata": {},
   "outputs": [
    {
     "data": {
      "text/html": [
       "'character'"
      ],
      "text/latex": [
       "'character'"
      ],
      "text/markdown": [
       "'character'"
      ],
      "text/plain": [
       "[1] \"character\""
      ]
     },
     "metadata": {},
     "output_type": "display_data"
    }
   ],
   "source": [
    "typeof(age)"
   ]
  },
  {
   "cell_type": "code",
   "execution_count": 20,
   "id": "009d30b1",
   "metadata": {},
   "outputs": [],
   "source": [
    "age <- as.integer(age)"
   ]
  },
  {
   "cell_type": "code",
   "execution_count": 21,
   "id": "dd58727e",
   "metadata": {},
   "outputs": [
    {
     "data": {
      "text/html": [
       "'integer'"
      ],
      "text/latex": [
       "'integer'"
      ],
      "text/markdown": [
       "'integer'"
      ],
      "text/plain": [
       "[1] \"integer\""
      ]
     },
     "metadata": {},
     "output_type": "display_data"
    }
   ],
   "source": [
    "typeof(age)"
   ]
  },
  {
   "cell_type": "code",
   "execution_count": 25,
   "id": "c5c899fb",
   "metadata": {},
   "outputs": [
    {
     "name": "stdout",
     "output_type": "stream",
     "text": [
      "Digite um número: 30\n"
     ]
    },
    {
     "data": {
      "text/html": [
       "900"
      ],
      "text/latex": [
       "900"
      ],
      "text/markdown": [
       "900"
      ],
      "text/plain": [
       "[1] 900"
      ]
     },
     "metadata": {},
     "output_type": "display_data"
    },
    {
     "data": {
      "text/html": [
       "5.47722557505166"
      ],
      "text/latex": [
       "5.47722557505166"
      ],
      "text/markdown": [
       "5.47722557505166"
      ],
      "text/plain": [
       "[1] 5.477226"
      ]
     },
     "metadata": {},
     "output_type": "display_data"
    },
    {
     "data": {
      "text/html": [
       "-30"
      ],
      "text/latex": [
       "-30"
      ],
      "text/markdown": [
       "-30"
      ],
      "text/plain": [
       "[1] -30"
      ]
     },
     "metadata": {},
     "output_type": "display_data"
    },
    {
     "data": {
      "text/html": [
       "90"
      ],
      "text/latex": [
       "90"
      ],
      "text/markdown": [
       "90"
      ],
      "text/plain": [
       "[1] 90"
      ]
     },
     "metadata": {},
     "output_type": "display_data"
    }
   ],
   "source": [
    "number <- readline(prompt=\"Digite um número: \")\n",
    "\n",
    "number <- as.integer(number)\n",
    "\n",
    "number ^ 2\n",
    "sqrt(number)\n",
    "-number\n",
    "number * 3"
   ]
  },
  {
   "cell_type": "markdown",
   "id": "5ca66f76",
   "metadata": {},
   "source": [
    "## 1.6 - Operadores de Comparação"
   ]
  },
  {
   "cell_type": "code",
   "execution_count": 27,
   "id": "370a1075",
   "metadata": {},
   "outputs": [
    {
     "data": {
      "text/html": [
       "FALSE"
      ],
      "text/latex": [
       "FALSE"
      ],
      "text/markdown": [
       "FALSE"
      ],
      "text/plain": [
       "[1] FALSE"
      ]
     },
     "metadata": {},
     "output_type": "display_data"
    },
    {
     "data": {
      "text/html": [
       "TRUE"
      ],
      "text/latex": [
       "TRUE"
      ],
      "text/markdown": [
       "TRUE"
      ],
      "text/plain": [
       "[1] TRUE"
      ]
     },
     "metadata": {},
     "output_type": "display_data"
    },
    {
     "data": {
      "text/html": [
       "FALSE"
      ],
      "text/latex": [
       "FALSE"
      ],
      "text/markdown": [
       "FALSE"
      ],
      "text/plain": [
       "[1] FALSE"
      ]
     },
     "metadata": {},
     "output_type": "display_data"
    },
    {
     "data": {
      "text/html": [
       "TRUE"
      ],
      "text/latex": [
       "TRUE"
      ],
      "text/markdown": [
       "TRUE"
      ],
      "text/plain": [
       "[1] TRUE"
      ]
     },
     "metadata": {},
     "output_type": "display_data"
    },
    {
     "data": {
      "text/html": [
       "FALSE"
      ],
      "text/latex": [
       "FALSE"
      ],
      "text/markdown": [
       "FALSE"
      ],
      "text/plain": [
       "[1] FALSE"
      ]
     },
     "metadata": {},
     "output_type": "display_data"
    },
    {
     "data": {
      "text/html": [
       "TRUE"
      ],
      "text/latex": [
       "TRUE"
      ],
      "text/markdown": [
       "TRUE"
      ],
      "text/plain": [
       "[1] TRUE"
      ]
     },
     "metadata": {},
     "output_type": "display_data"
    }
   ],
   "source": [
    "x <- 11\n",
    "y <- 13\n",
    "\n",
    "x == y\n",
    "x != y\n",
    "x > y\n",
    "x < y\n",
    "x >= y\n",
    "x <= y"
   ]
  },
  {
   "cell_type": "markdown",
   "id": "c929bc2b",
   "metadata": {},
   "source": [
    "## 1.7 - Estrutura de Desvio"
   ]
  },
  {
   "cell_type": "code",
   "execution_count": 28,
   "id": "ad35f950",
   "metadata": {},
   "outputs": [
    {
     "name": "stdout",
     "output_type": "stream",
     "text": [
      "Digite um número: 30\n",
      "[1] \"O número é menor ou igual a 30\"\n"
     ]
    }
   ],
   "source": [
    "number <- as.integer(readline(prompt=\"Digite um número: \"))\n",
    "\n",
    "if (number > 30) {\n",
    "    print(\"O número é maior que 30\")\n",
    "} else {\n",
    "    print(\"O número é menor ou igual a 30\")\n",
    "}"
   ]
  },
  {
   "cell_type": "code",
   "execution_count": 29,
   "id": "520d9353",
   "metadata": {},
   "outputs": [
    {
     "name": "stdout",
     "output_type": "stream",
     "text": [
      "Qual sua idade? 19\n",
      "[1] \"Maior de idade\"\n"
     ]
    }
   ],
   "source": [
    "age <- as.integer(readline(prompt=\"Qual sua idade? \"))\n",
    "\n",
    "if (age >= 18) {\n",
    "    print(\"Maior de idade\")\n",
    "} else {\n",
    "    print(\"Menor de idade\")\n",
    "}"
   ]
  },
  {
   "cell_type": "code",
   "execution_count": 30,
   "id": "6f3f52af",
   "metadata": {},
   "outputs": [
    {
     "name": "stdout",
     "output_type": "stream",
     "text": [
      "Digite um número: 30\n"
     ]
    },
    {
     "data": {
      "text/html": [
       "'Igual'"
      ],
      "text/latex": [
       "'Igual'"
      ],
      "text/markdown": [
       "'Igual'"
      ],
      "text/plain": [
       "[1] \"Igual\""
      ]
     },
     "metadata": {},
     "output_type": "display_data"
    }
   ],
   "source": [
    "x <- as.integer(readline(prompt=\"Digite um número: \"))\n",
    "\n",
    "response <- if (x == 30) \"Igual\" else \"Diferente\"\n",
    "    \n",
    "response"
   ]
  },
  {
   "cell_type": "markdown",
   "id": "7a6616f7",
   "metadata": {},
   "source": [
    "## 1.8 - Estruturas de Repetição"
   ]
  },
  {
   "cell_type": "code",
   "execution_count": 31,
   "id": "f6cd94e6",
   "metadata": {},
   "outputs": [
    {
     "name": "stdout",
     "output_type": "stream",
     "text": [
      "[1] 1\n",
      "[1] 2\n",
      "[1] 3\n",
      "[1] 4\n",
      "[1] 5\n",
      "[1] 6\n",
      "[1] 7\n",
      "[1] 8\n",
      "[1] 9\n",
      "[1] 10\n"
     ]
    }
   ],
   "source": [
    "i <- 1\n",
    "\n",
    "while (i <= 10) {\n",
    "    print(i)\n",
    "    i <- i + 1\n",
    "}"
   ]
  },
  {
   "cell_type": "code",
   "execution_count": 34,
   "id": "9f0222ce",
   "metadata": {},
   "outputs": [
    {
     "name": "stdout",
     "output_type": "stream",
     "text": [
      "[1] 27\n",
      "[1] 28\n",
      "[1] 29\n",
      "[1] 30\n",
      "[1] 31\n",
      "[1] 32\n",
      "[1] 33\n",
      "[1] 34\n",
      "[1] 35\n",
      "[1] 36\n",
      "[1] 37\n",
      "[1] 38\n",
      "[1] 39\n"
     ]
    }
   ],
   "source": [
    "for (i in 27:39) {\n",
    "    print(i)\n",
    "}"
   ]
  },
  {
   "cell_type": "markdown",
   "id": "6a930c2f",
   "metadata": {},
   "source": [
    "# 2 - Pacotes em R"
   ]
  },
  {
   "cell_type": "markdown",
   "id": "72ea9beb",
   "metadata": {},
   "source": [
    "## 2.1 - Como utilizar Pacotes em R"
   ]
  },
  {
   "cell_type": "code",
   "execution_count": 35,
   "id": "7eda7202",
   "metadata": {},
   "outputs": [
    {
     "name": "stderr",
     "output_type": "stream",
     "text": [
      "Installing package into ‘/home/joeldspy/R/x86_64-pc-linux-gnu-library/4.2’\n",
      "(as ‘lib’ is unspecified)\n",
      "\n"
     ]
    }
   ],
   "source": [
    "install.packages(\"fortunes\")"
   ]
  },
  {
   "cell_type": "code",
   "execution_count": 36,
   "id": "1d6a0416",
   "metadata": {},
   "outputs": [],
   "source": [
    "library(fortunes)"
   ]
  },
  {
   "cell_type": "code",
   "execution_count": 37,
   "id": "8d8d4902",
   "metadata": {
    "scrolled": true
   },
   "outputs": [],
   "source": [
    "?fortune"
   ]
  },
  {
   "cell_type": "code",
   "execution_count": 38,
   "id": "03b2f08c",
   "metadata": {},
   "outputs": [
    {
     "name": "stderr",
     "output_type": "stream",
     "text": [
      "Removing package from ‘/home/joeldspy/R/x86_64-pc-linux-gnu-library/4.2’\n",
      "(as ‘lib’ is unspecified)\n",
      "\n"
     ]
    }
   ],
   "source": [
    "remove.packages(\"fortunes\")"
   ]
  },
  {
   "cell_type": "code",
   "execution_count": null,
   "id": "890746a0",
   "metadata": {},
   "outputs": [],
   "source": []
  }
 ],
 "metadata": {
  "kernelspec": {
   "display_name": "R",
   "language": "R",
   "name": "ir"
  },
  "language_info": {
   "codemirror_mode": "r",
   "file_extension": ".r",
   "mimetype": "text/x-r-source",
   "name": "R",
   "pygments_lexer": "r",
   "version": "4.1.2"
  }
 },
 "nbformat": 4,
 "nbformat_minor": 5
}
