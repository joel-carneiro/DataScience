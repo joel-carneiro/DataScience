{
 "cells": [
  {
   "cell_type": "code",
   "execution_count": 16,
   "id": "954e7212",
   "metadata": {},
   "outputs": [],
   "source": [
    "# Formantando datas\n",
    "\n",
    "# %d -> dia do mês em 2 dígitos (24)\n",
    "# %m -> mês em 2 dígitos (10)\n",
    "# %y -> ano em 2 dígitos (02)\n",
    "# %Y -> ano em 4 dígitos (2002)\n",
    "# %A -> dia da semana (Friday)\n",
    "# %a -> dia da semana abreviado (fri)\n",
    "# %B -> mês (July)\n",
    "# %b -> mês abreviado (Jul)"
   ]
  },
  {
   "cell_type": "code",
   "execution_count": 2,
   "id": "0b648704",
   "metadata": {},
   "outputs": [
    {
     "data": {
      "text/html": [
       "<time datetime=\"2023-03-23\">2023-03-23</time>"
      ],
      "text/latex": [
       "2023-03-23"
      ],
      "text/markdown": [
       "2023-03-23"
      ],
      "text/plain": [
       "[1] \"2023-03-23\""
      ]
     },
     "metadata": {},
     "output_type": "display_data"
    }
   ],
   "source": [
    "hoje <- Sys.Date()\n",
    "\n",
    "hoje"
   ]
  },
  {
   "cell_type": "code",
   "execution_count": 3,
   "id": "e4e1b18d",
   "metadata": {},
   "outputs": [
    {
     "data": {
      "text/html": [
       "'Date'"
      ],
      "text/latex": [
       "'Date'"
      ],
      "text/markdown": [
       "'Date'"
      ],
      "text/plain": [
       "[1] \"Date\""
      ]
     },
     "metadata": {},
     "output_type": "display_data"
    }
   ],
   "source": [
    "class(hoje)"
   ]
  },
  {
   "cell_type": "code",
   "execution_count": 4,
   "id": "177b3a6c",
   "metadata": {},
   "outputs": [
    {
     "data": {
      "text/plain": [
       "[1] \"2023-03-23 18:42:23 -03\""
      ]
     },
     "metadata": {},
     "output_type": "display_data"
    }
   ],
   "source": [
    "Sys.time()"
   ]
  },
  {
   "cell_type": "code",
   "execution_count": 6,
   "id": "99edff0e",
   "metadata": {},
   "outputs": [
    {
     "data": {
      "text/html": [
       "'America/Fortaleza'"
      ],
      "text/latex": [
       "'America/Fortaleza'"
      ],
      "text/markdown": [
       "'America/Fortaleza'"
      ],
      "text/plain": [
       "[1] \"America/Fortaleza\""
      ]
     },
     "metadata": {},
     "output_type": "display_data"
    }
   ],
   "source": [
    "Sys.timezone()"
   ]
  },
  {
   "cell_type": "code",
   "execution_count": 7,
   "id": "0e652fc1",
   "metadata": {},
   "outputs": [
    {
     "data": {
      "text/html": [
       "<time datetime=\"2023-01-23\">2023-01-23</time>"
      ],
      "text/latex": [
       "2023-01-23"
      ],
      "text/markdown": [
       "2023-01-23"
      ],
      "text/plain": [
       "[1] \"2023-01-23\""
      ]
     },
     "metadata": {},
     "output_type": "display_data"
    }
   ],
   "source": [
    "as.Date(\"2023-01-23\")"
   ]
  },
  {
   "cell_type": "code",
   "execution_count": 30,
   "id": "24e63520",
   "metadata": {
    "scrolled": false
   },
   "outputs": [
    {
     "data": {
      "text/html": [
       "<time datetime=\"2023-01-23\">2023-01-23</time>"
      ],
      "text/latex": [
       "2023-01-23"
      ],
      "text/markdown": [
       "2023-01-23"
      ],
      "text/plain": [
       "[1] \"2023-01-23\""
      ]
     },
     "metadata": {},
     "output_type": "display_data"
    }
   ],
   "source": [
    "as.Date('2023-01-23', format='%Y-%m-%d')"
   ]
  },
  {
   "cell_type": "code",
   "execution_count": 35,
   "id": "e7eb412a",
   "metadata": {},
   "outputs": [
    {
     "data": {
      "text/html": [
       "<time datetime=\"2002-10-24\">2002-10-24</time>"
      ],
      "text/latex": [
       "2002-10-24"
      ],
      "text/markdown": [
       "2002-10-24"
      ],
      "text/plain": [
       "[1] \"2002-10-24\""
      ]
     },
     "metadata": {},
     "output_type": "display_data"
    }
   ],
   "source": [
    "as.Date('24 de Outubro de 2002', format='%d de %B de %Y')"
   ]
  },
  {
   "cell_type": "code",
   "execution_count": 34,
   "id": "0361782d",
   "metadata": {},
   "outputs": [
    {
     "data": {
      "text/html": [
       "<time datetime=\"2016-06-28\">2016-06-28</time>"
      ],
      "text/latex": [
       "2016-06-28"
      ],
      "text/markdown": [
       "2016-06-28"
      ],
      "text/plain": [
       "[1] \"2016-06-28\""
      ]
     },
     "metadata": {},
     "output_type": "display_data"
    }
   ],
   "source": [
    "as.Date('28 Junho, 2016', format='%d %B, %Y')"
   ]
  },
  {
   "cell_type": "code",
   "execution_count": 38,
   "id": "f1f47405",
   "metadata": {},
   "outputs": [
    {
     "data": {
      "text/html": [
       "'23 de março de 2023'"
      ],
      "text/latex": [
       "'23 de março de 2023'"
      ],
      "text/markdown": [
       "'23 de março de 2023'"
      ],
      "text/plain": [
       "[1] \"23 de março de 2023\""
      ]
     },
     "metadata": {},
     "output_type": "display_data"
    }
   ],
   "source": [
    "format(hoje, format='%d de %B de %Y')"
   ]
  },
  {
   "cell_type": "code",
   "execution_count": 39,
   "id": "c462aee6",
   "metadata": {},
   "outputs": [
    {
     "data": {
      "text/html": [
       "'março, dia 23 de 2023'"
      ],
      "text/latex": [
       "'março, dia 23 de 2023'"
      ],
      "text/markdown": [
       "'março, dia 23 de 2023'"
      ],
      "text/plain": [
       "[1] \"março, dia 23 de 2023\""
      ]
     },
     "metadata": {},
     "output_type": "display_data"
    }
   ],
   "source": [
    "format(hoje, format='%B, dia %d de %Y')"
   ]
  },
  {
   "cell_type": "code",
   "execution_count": null,
   "id": "2147a53f",
   "metadata": {},
   "outputs": [],
   "source": []
  }
 ],
 "metadata": {
  "kernelspec": {
   "display_name": "R",
   "language": "R",
   "name": "ir"
  },
  "language_info": {
   "codemirror_mode": "r",
   "file_extension": ".r",
   "mimetype": "text/x-r-source",
   "name": "R",
   "pygments_lexer": "r",
   "version": "4.2.3"
  }
 },
 "nbformat": 4,
 "nbformat_minor": 5
}
