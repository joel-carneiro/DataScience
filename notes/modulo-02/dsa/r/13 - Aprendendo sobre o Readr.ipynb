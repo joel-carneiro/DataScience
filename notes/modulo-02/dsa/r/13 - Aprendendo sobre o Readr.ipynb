{
 "cells": [
  {
   "cell_type": "code",
   "execution_count": 1,
   "id": "5fcecb08",
   "metadata": {},
   "outputs": [],
   "source": [
    "library('readr')"
   ]
  },
  {
   "cell_type": "code",
   "execution_count": 4,
   "id": "7644e21b",
   "metadata": {
    "scrolled": false
   },
   "outputs": [
    {
     "name": "stderr",
     "output_type": "stream",
     "text": [
      "\u001b[1mRows: \u001b[22m\u001b[34m150\u001b[39m \u001b[1mColumns: \u001b[22m\u001b[34m6\u001b[39m\n",
      "\u001b[36m──\u001b[39m \u001b[1mColumn specification\u001b[22m \u001b[36m────────────────────────────────────────────────────────\u001b[39m\n",
      "\u001b[1mDelimiter:\u001b[22m \",\"\n",
      "\u001b[31mchr\u001b[39m (1): Species\n",
      "\u001b[32mdbl\u001b[39m (5): Id, SepalLengthCm, SepalWidthCm, PetalLengthCm, PetalWidthCm\n",
      "\n",
      "\u001b[36mℹ\u001b[39m Use `spec()` to retrieve the full column specification for this data.\n",
      "\u001b[36mℹ\u001b[39m Specify the column types or set `show_col_types = FALSE` to quiet this message.\n"
     ]
    },
    {
     "data": {
      "text/html": [
       "<table class=\"dataframe\">\n",
       "<caption>A tibble: 5 × 6</caption>\n",
       "<thead>\n",
       "\t<tr><th scope=col>Id</th><th scope=col>SepalLengthCm</th><th scope=col>SepalWidthCm</th><th scope=col>PetalLengthCm</th><th scope=col>PetalWidthCm</th><th scope=col>Species</th></tr>\n",
       "\t<tr><th scope=col>&lt;dbl&gt;</th><th scope=col>&lt;dbl&gt;</th><th scope=col>&lt;dbl&gt;</th><th scope=col>&lt;dbl&gt;</th><th scope=col>&lt;dbl&gt;</th><th scope=col>&lt;chr&gt;</th></tr>\n",
       "</thead>\n",
       "<tbody>\n",
       "\t<tr><td>1</td><td>5.1</td><td>3.5</td><td>1.4</td><td>0.2</td><td>Iris-setosa</td></tr>\n",
       "\t<tr><td>2</td><td>4.9</td><td>3.0</td><td>1.4</td><td>0.2</td><td>Iris-setosa</td></tr>\n",
       "\t<tr><td>3</td><td>4.7</td><td>3.2</td><td>1.3</td><td>0.2</td><td>Iris-setosa</td></tr>\n",
       "\t<tr><td>4</td><td>4.6</td><td>3.1</td><td>1.5</td><td>0.2</td><td>Iris-setosa</td></tr>\n",
       "\t<tr><td>5</td><td>5.0</td><td>3.6</td><td>1.4</td><td>0.2</td><td>Iris-setosa</td></tr>\n",
       "</tbody>\n",
       "</table>\n"
      ],
      "text/latex": [
       "A tibble: 5 × 6\n",
       "\\begin{tabular}{llllll}\n",
       " Id & SepalLengthCm & SepalWidthCm & PetalLengthCm & PetalWidthCm & Species\\\\\n",
       " <dbl> & <dbl> & <dbl> & <dbl> & <dbl> & <chr>\\\\\n",
       "\\hline\n",
       "\t 1 & 5.1 & 3.5 & 1.4 & 0.2 & Iris-setosa\\\\\n",
       "\t 2 & 4.9 & 3.0 & 1.4 & 0.2 & Iris-setosa\\\\\n",
       "\t 3 & 4.7 & 3.2 & 1.3 & 0.2 & Iris-setosa\\\\\n",
       "\t 4 & 4.6 & 3.1 & 1.5 & 0.2 & Iris-setosa\\\\\n",
       "\t 5 & 5.0 & 3.6 & 1.4 & 0.2 & Iris-setosa\\\\\n",
       "\\end{tabular}\n"
      ],
      "text/markdown": [
       "\n",
       "A tibble: 5 × 6\n",
       "\n",
       "| Id &lt;dbl&gt; | SepalLengthCm &lt;dbl&gt; | SepalWidthCm &lt;dbl&gt; | PetalLengthCm &lt;dbl&gt; | PetalWidthCm &lt;dbl&gt; | Species &lt;chr&gt; |\n",
       "|---|---|---|---|---|---|\n",
       "| 1 | 5.1 | 3.5 | 1.4 | 0.2 | Iris-setosa |\n",
       "| 2 | 4.9 | 3.0 | 1.4 | 0.2 | Iris-setosa |\n",
       "| 3 | 4.7 | 3.2 | 1.3 | 0.2 | Iris-setosa |\n",
       "| 4 | 4.6 | 3.1 | 1.5 | 0.2 | Iris-setosa |\n",
       "| 5 | 5.0 | 3.6 | 1.4 | 0.2 | Iris-setosa |\n",
       "\n"
      ],
      "text/plain": [
       "  Id SepalLengthCm SepalWidthCm PetalLengthCm PetalWidthCm Species    \n",
       "1 1  5.1           3.5          1.4           0.2          Iris-setosa\n",
       "2 2  4.9           3.0          1.4           0.2          Iris-setosa\n",
       "3 3  4.7           3.2          1.3           0.2          Iris-setosa\n",
       "4 4  4.6           3.1          1.5           0.2          Iris-setosa\n",
       "5 5  5.0           3.6          1.4           0.2          Iris-setosa"
      ]
     },
     "metadata": {},
     "output_type": "display_data"
    }
   ],
   "source": [
    "head(read_csv('/home/joeldspy/Modelos/Datasets/Iris.csv'), 5)"
   ]
  },
  {
   "cell_type": "code",
   "execution_count": 13,
   "id": "f1569ffe",
   "metadata": {},
   "outputs": [
    {
     "name": "stderr",
     "output_type": "stream",
     "text": [
      "\u001b[1mRows: \u001b[22m\u001b[34m150\u001b[39m \u001b[1mColumns: \u001b[22m\u001b[34m6\u001b[39m\n",
      "\u001b[36m──\u001b[39m \u001b[1mColumn specification\u001b[22m \u001b[36m────────────────────────────────────────────────────────\u001b[39m\n",
      "\u001b[1mDelimiter:\u001b[22m \",\"\n",
      "\u001b[31mchr\u001b[39m (1): Species\n",
      "\u001b[32mdbl\u001b[39m (5): Id, SepalLengthCm, SepalWidthCm, PetalLengthCm, PetalWidthCm\n",
      "\n",
      "\u001b[36mℹ\u001b[39m Use `spec()` to retrieve the full column specification for this data.\n",
      "\u001b[36mℹ\u001b[39m Specify the column types or set `show_col_types = FALSE` to quiet this message.\n"
     ]
    },
    {
     "data": {
      "text/html": [
       "<style>\n",
       ".list-inline {list-style: none; margin:0; padding: 0}\n",
       ".list-inline>li {display: inline-block}\n",
       ".list-inline>li:not(:last-child)::after {content: \"\\00b7\"; padding: 0 .5ex}\n",
       "</style>\n",
       "<ol class=list-inline><li>'Iris-setosa'</li><li>'Iris-versicolor'</li><li>'Iris-virginica'</li></ol>\n"
      ],
      "text/latex": [
       "\\begin{enumerate*}\n",
       "\\item 'Iris-setosa'\n",
       "\\item 'Iris-versicolor'\n",
       "\\item 'Iris-virginica'\n",
       "\\end{enumerate*}\n"
      ],
      "text/markdown": [
       "1. 'Iris-setosa'\n",
       "2. 'Iris-versicolor'\n",
       "3. 'Iris-virginica'\n",
       "\n",
       "\n"
      ],
      "text/plain": [
       "[1] \"Iris-setosa\"     \"Iris-versicolor\" \"Iris-virginica\" "
      ]
     },
     "metadata": {},
     "output_type": "display_data"
    }
   ],
   "source": [
    "df <- read_csv('/home/joeldspy/Modelos/Datasets/Iris.csv')\n",
    "\n",
    "unique(df$Species)"
   ]
  },
  {
   "cell_type": "code",
   "execution_count": 5,
   "id": "b0172bc4",
   "metadata": {},
   "outputs": [
    {
     "name": "stderr",
     "output_type": "stream",
     "text": [
      "\u001b[1m\u001b[22mNew names:\n",
      "\u001b[36m•\u001b[39m `` -> `...1`\n",
      "\u001b[1mRows: \u001b[22m\u001b[34m3650\u001b[39m \u001b[1mColumns: \u001b[22m\u001b[34m3\u001b[39m\n",
      "\u001b[36m──\u001b[39m \u001b[1mColumn specification\u001b[22m \u001b[36m────────────────────────────────────────────────────────\u001b[39m\n",
      "\u001b[1mDelimiter:\u001b[22m \",\"\n",
      "\u001b[32mdbl\u001b[39m  (2): ...1, Temp\n",
      "\u001b[34mdate\u001b[39m (1): Date\n",
      "\n",
      "\u001b[36mℹ\u001b[39m Use `spec()` to retrieve the full column specification for this data.\n",
      "\u001b[36mℹ\u001b[39m Specify the column types or set `show_col_types = FALSE` to quiet this message.\n"
     ]
    },
    {
     "data": {
      "text/html": [
       "<table class=\"dataframe\">\n",
       "<caption>A tibble: 5 × 3</caption>\n",
       "<thead>\n",
       "\t<tr><th scope=col>...1</th><th scope=col>Date</th><th scope=col>Temp</th></tr>\n",
       "\t<tr><th scope=col>&lt;dbl&gt;</th><th scope=col>&lt;date&gt;</th><th scope=col>&lt;dbl&gt;</th></tr>\n",
       "</thead>\n",
       "<tbody>\n",
       "\t<tr><td>1</td><td>1981-01-01</td><td>20.7</td></tr>\n",
       "\t<tr><td>2</td><td>1981-01-02</td><td>17.9</td></tr>\n",
       "\t<tr><td>3</td><td>1981-01-03</td><td>18.8</td></tr>\n",
       "\t<tr><td>4</td><td>1981-01-04</td><td>14.6</td></tr>\n",
       "\t<tr><td>5</td><td>1981-01-05</td><td>15.8</td></tr>\n",
       "</tbody>\n",
       "</table>\n"
      ],
      "text/latex": [
       "A tibble: 5 × 3\n",
       "\\begin{tabular}{lll}\n",
       " ...1 & Date & Temp\\\\\n",
       " <dbl> & <date> & <dbl>\\\\\n",
       "\\hline\n",
       "\t 1 & 1981-01-01 & 20.7\\\\\n",
       "\t 2 & 1981-01-02 & 17.9\\\\\n",
       "\t 3 & 1981-01-03 & 18.8\\\\\n",
       "\t 4 & 1981-01-04 & 14.6\\\\\n",
       "\t 5 & 1981-01-05 & 15.8\\\\\n",
       "\\end{tabular}\n"
      ],
      "text/markdown": [
       "\n",
       "A tibble: 5 × 3\n",
       "\n",
       "| ...1 &lt;dbl&gt; | Date &lt;date&gt; | Temp &lt;dbl&gt; |\n",
       "|---|---|---|\n",
       "| 1 | 1981-01-01 | 20.7 |\n",
       "| 2 | 1981-01-02 | 17.9 |\n",
       "| 3 | 1981-01-03 | 18.8 |\n",
       "| 4 | 1981-01-04 | 14.6 |\n",
       "| 5 | 1981-01-05 | 15.8 |\n",
       "\n"
      ],
      "text/plain": [
       "  ...1 Date       Temp\n",
       "1 1    1981-01-01 20.7\n",
       "2 2    1981-01-02 17.9\n",
       "3 3    1981-01-03 18.8\n",
       "4 4    1981-01-04 14.6\n",
       "5 5    1981-01-05 15.8"
      ]
     },
     "metadata": {},
     "output_type": "display_data"
    }
   ],
   "source": [
    "head(read_csv('/home/joeldspy/Modelos/Datasets/temperatures.csv'), 5)"
   ]
  },
  {
   "cell_type": "code",
   "execution_count": 18,
   "id": "1ac7019c",
   "metadata": {},
   "outputs": [
    {
     "data": {
      "text/html": [
       "<table class=\"dataframe\">\n",
       "<caption>A tibble: 6 × 6</caption>\n",
       "<thead>\n",
       "\t<tr><th scope=col>Id</th><th scope=col>SepalLengthCm</th><th scope=col>SepalWidthCm</th><th scope=col>PetalLengthCm</th><th scope=col>PetalWidthCm</th><th scope=col>Species</th></tr>\n",
       "\t<tr><th scope=col>&lt;int&gt;</th><th scope=col>&lt;dbl&gt;</th><th scope=col>&lt;dbl&gt;</th><th scope=col>&lt;dbl&gt;</th><th scope=col>&lt;dbl&gt;</th><th scope=col>&lt;fct&gt;</th></tr>\n",
       "</thead>\n",
       "<tbody>\n",
       "\t<tr><td>1</td><td>5.1</td><td>3.5</td><td>1.4</td><td>0.2</td><td>Iris-setosa</td></tr>\n",
       "\t<tr><td>2</td><td>4.9</td><td>3.0</td><td>1.4</td><td>0.2</td><td>Iris-setosa</td></tr>\n",
       "\t<tr><td>3</td><td>4.7</td><td>3.2</td><td>1.3</td><td>0.2</td><td>Iris-setosa</td></tr>\n",
       "\t<tr><td>4</td><td>4.6</td><td>3.1</td><td>1.5</td><td>0.2</td><td>Iris-setosa</td></tr>\n",
       "\t<tr><td>5</td><td>5.0</td><td>3.6</td><td>1.4</td><td>0.2</td><td>Iris-setosa</td></tr>\n",
       "\t<tr><td>6</td><td>5.4</td><td>3.9</td><td>1.7</td><td>0.4</td><td>Iris-setosa</td></tr>\n",
       "</tbody>\n",
       "</table>\n"
      ],
      "text/latex": [
       "A tibble: 6 × 6\n",
       "\\begin{tabular}{llllll}\n",
       " Id & SepalLengthCm & SepalWidthCm & PetalLengthCm & PetalWidthCm & Species\\\\\n",
       " <int> & <dbl> & <dbl> & <dbl> & <dbl> & <fct>\\\\\n",
       "\\hline\n",
       "\t 1 & 5.1 & 3.5 & 1.4 & 0.2 & Iris-setosa\\\\\n",
       "\t 2 & 4.9 & 3.0 & 1.4 & 0.2 & Iris-setosa\\\\\n",
       "\t 3 & 4.7 & 3.2 & 1.3 & 0.2 & Iris-setosa\\\\\n",
       "\t 4 & 4.6 & 3.1 & 1.5 & 0.2 & Iris-setosa\\\\\n",
       "\t 5 & 5.0 & 3.6 & 1.4 & 0.2 & Iris-setosa\\\\\n",
       "\t 6 & 5.4 & 3.9 & 1.7 & 0.4 & Iris-setosa\\\\\n",
       "\\end{tabular}\n"
      ],
      "text/markdown": [
       "\n",
       "A tibble: 6 × 6\n",
       "\n",
       "| Id &lt;int&gt; | SepalLengthCm &lt;dbl&gt; | SepalWidthCm &lt;dbl&gt; | PetalLengthCm &lt;dbl&gt; | PetalWidthCm &lt;dbl&gt; | Species &lt;fct&gt; |\n",
       "|---|---|---|---|---|---|\n",
       "| 1 | 5.1 | 3.5 | 1.4 | 0.2 | Iris-setosa |\n",
       "| 2 | 4.9 | 3.0 | 1.4 | 0.2 | Iris-setosa |\n",
       "| 3 | 4.7 | 3.2 | 1.3 | 0.2 | Iris-setosa |\n",
       "| 4 | 4.6 | 3.1 | 1.5 | 0.2 | Iris-setosa |\n",
       "| 5 | 5.0 | 3.6 | 1.4 | 0.2 | Iris-setosa |\n",
       "| 6 | 5.4 | 3.9 | 1.7 | 0.4 | Iris-setosa |\n",
       "\n"
      ],
      "text/plain": [
       "  Id SepalLengthCm SepalWidthCm PetalLengthCm PetalWidthCm Species    \n",
       "1 1  5.1           3.5          1.4           0.2          Iris-setosa\n",
       "2 2  4.9           3.0          1.4           0.2          Iris-setosa\n",
       "3 3  4.7           3.2          1.3           0.2          Iris-setosa\n",
       "4 4  4.6           3.1          1.5           0.2          Iris-setosa\n",
       "5 5  5.0           3.6          1.4           0.2          Iris-setosa\n",
       "6 6  5.4           3.9          1.7           0.4          Iris-setosa"
      ]
     },
     "metadata": {},
     "output_type": "display_data"
    }
   ],
   "source": [
    "iris_dataframe <- read_csv('/home/joeldspy/Modelos/Datasets/Iris.csv', col_types = list(\n",
    "                            Id = col_integer(),\n",
    "                            SepalLengthCm = col_double(),\n",
    "                            SepalWidthCm = col_double(),\n",
    "                            PetalLengthCm = col_double(),\n",
    "                            PetalWidthCm = col_double(),\n",
    "                            Species = col_factor(c('Iris-setosa', 'Iris-versicolor', 'Iris-virginica')))\n",
    "                          )\n",
    "\n",
    "head(iris_dataframe)"
   ]
  },
  {
   "cell_type": "code",
   "execution_count": 20,
   "id": "419daf09",
   "metadata": {},
   "outputs": [],
   "source": [
    "library('dplyr')"
   ]
  },
  {
   "cell_type": "code",
   "execution_count": 21,
   "id": "91d91a8d",
   "metadata": {},
   "outputs": [
    {
     "data": {
      "text/html": [
       "<time datetime=\"2023-03-27\">2023-03-27</time>"
      ],
      "text/latex": [
       "2023-03-27"
      ],
      "text/markdown": [
       "2023-03-27"
      ],
      "text/plain": [
       "[1] \"2023-03-27\""
      ]
     },
     "metadata": {},
     "output_type": "display_data"
    }
   ],
   "source": [
    "parse_date('27/03/2023', '%d/%m/%Y')"
   ]
  },
  {
   "cell_type": "code",
   "execution_count": 25,
   "id": "d236ac69",
   "metadata": {},
   "outputs": [
    {
     "data": {
      "text/html": [
       "<time datetime=\"2023-03-27\">2023-03-27</time>"
      ],
      "text/latex": [
       "2023-03-27"
      ],
      "text/markdown": [
       "2023-03-27"
      ],
      "text/plain": [
       "[1] \"2023-03-27\""
      ]
     },
     "metadata": {},
     "output_type": "display_data"
    }
   ],
   "source": [
    "parse_date('2023/03/27', '%Y/%m/%d')"
   ]
  },
  {
   "cell_type": "code",
   "execution_count": 28,
   "id": "75225e0c",
   "metadata": {
    "scrolled": true
   },
   "outputs": [
    {
     "data": {
      "text/plain": [
       "<locale>\n",
       "Numbers:  123,456.78\n",
       "Formats:  %AD / %AT\n",
       "Timezone: UTC\n",
       "Encoding: UTF-8\n",
       "<date_names>\n",
       "Days:   domingo (dom), segunda-feira (seg), terça-feira (ter), quarta-feira\n",
       "        (qua), quinta-feira (qui), sexta-feira (sex), sábado (sáb)\n",
       "Months: janeiro (jan), fevereiro (fev), março (mar), abril (abr), maio (mai),\n",
       "        junho (jun), julho (jul), agosto (ago), setembro (set), outubro\n",
       "        (out), novembro (nov), dezembro (dez)\n",
       "AM/PM:  AM/PM"
      ]
     },
     "metadata": {},
     "output_type": "display_data"
    },
    {
     "data": {
      "text/plain": [
       "<locale>\n",
       "Numbers:  123,456.78\n",
       "Formats:  %AD / %AT\n",
       "Timezone: UTC\n",
       "Encoding: UTF-8\n",
       "<date_names>\n",
       "Days:   Sunday (Sun), Monday (Mon), Tuesday (Tue), Wednesday (Wed), Thursday\n",
       "        (Thu), Friday (Fri), Saturday (Sat)\n",
       "Months: January (Jan), February (Feb), March (Mar), April (Apr), May (May),\n",
       "        June (Jun), July (Jul), August (Aug), September (Sep), October\n",
       "        (Oct), November (Nov), December (Dec)\n",
       "AM/PM:  AM/PM"
      ]
     },
     "metadata": {},
     "output_type": "display_data"
    },
    {
     "data": {
      "text/plain": [
       "<locale>\n",
       "Numbers:  123,456.78\n",
       "Formats:  %AD / %AT\n",
       "Timezone: UTC\n",
       "Encoding: UTF-8\n",
       "<date_names>\n",
       "Days:   dimanche (dim.), lundi (lun.), mardi (mar.), mercredi (mer.), jeudi\n",
       "        (jeu.), vendredi (ven.), samedi (sam.)\n",
       "Months: janvier (janv.), février (févr.), mars (mars), avril (avr.), mai (mai),\n",
       "        juin (juin), juillet (juil.), août (août), septembre (sept.),\n",
       "        octobre (oct.), novembre (nov.), décembre (déc.)\n",
       "AM/PM:  AM/PM"
      ]
     },
     "metadata": {},
     "output_type": "display_data"
    }
   ],
   "source": [
    "locale('pt')\n",
    "\n",
    "locale('en')\n",
    "\n",
    "locale('fr')"
   ]
  },
  {
   "cell_type": "code",
   "execution_count": null,
   "id": "44385b0e",
   "metadata": {},
   "outputs": [],
   "source": []
  }
 ],
 "metadata": {
  "kernelspec": {
   "display_name": "R",
   "language": "R",
   "name": "ir"
  },
  "language_info": {
   "codemirror_mode": "r",
   "file_extension": ".r",
   "mimetype": "text/x-r-source",
   "name": "R",
   "pygments_lexer": "r",
   "version": "4.2.3"
  }
 },
 "nbformat": 4,
 "nbformat_minor": 5
}
