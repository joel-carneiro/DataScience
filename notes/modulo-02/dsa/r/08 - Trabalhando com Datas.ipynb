{
 "cells": [
  {
   "cell_type": "code",
   "execution_count": 1,
   "id": "954e7212",
   "metadata": {},
   "outputs": [],
   "source": [
    "# Formantando datas\n",
    "\n",
    "# %d -> dia do mês em 2 dígitos (24)\n",
    "# %m -> mês em 2 dígitos (10)\n",
    "# %y -> ano em 2 dígitos (02)\n",
    "# %Y -> ano em 4 dígitos (2002)\n",
    "# %A -> dia da semana (Friday)\n",
    "# %a -> dia da semana abreviado (fri)\n",
    "# %B -> mês (July)\n",
    "# %b -> mês abreviado (Jul)"
   ]
  },
  {
   "cell_type": "code",
   "execution_count": 2,
   "id": "0b648704",
   "metadata": {},
   "outputs": [
    {
     "data": {
      "text/html": [
       "<time datetime=\"2023-03-25\">2023-03-25</time>"
      ],
      "text/latex": [
       "2023-03-25"
      ],
      "text/markdown": [
       "2023-03-25"
      ],
      "text/plain": [
       "[1] \"2023-03-25\""
      ]
     },
     "metadata": {},
     "output_type": "display_data"
    }
   ],
   "source": [
    "hoje <- Sys.Date()\n",
    "\n",
    "hoje"
   ]
  },
  {
   "cell_type": "code",
   "execution_count": 3,
   "id": "e4e1b18d",
   "metadata": {},
   "outputs": [
    {
     "data": {
      "text/html": [
       "'Date'"
      ],
      "text/latex": [
       "'Date'"
      ],
      "text/markdown": [
       "'Date'"
      ],
      "text/plain": [
       "[1] \"Date\""
      ]
     },
     "metadata": {},
     "output_type": "display_data"
    }
   ],
   "source": [
    "class(hoje)"
   ]
  },
  {
   "cell_type": "code",
   "execution_count": 4,
   "id": "177b3a6c",
   "metadata": {},
   "outputs": [
    {
     "data": {
      "text/plain": [
       "[1] \"2023-03-25 16:49:28 -03\""
      ]
     },
     "metadata": {},
     "output_type": "display_data"
    }
   ],
   "source": [
    "Sys.time()"
   ]
  },
  {
   "cell_type": "code",
   "execution_count": 5,
   "id": "99edff0e",
   "metadata": {},
   "outputs": [
    {
     "data": {
      "text/html": [
       "'America/Fortaleza'"
      ],
      "text/latex": [
       "'America/Fortaleza'"
      ],
      "text/markdown": [
       "'America/Fortaleza'"
      ],
      "text/plain": [
       "[1] \"America/Fortaleza\""
      ]
     },
     "metadata": {},
     "output_type": "display_data"
    }
   ],
   "source": [
    "Sys.timezone()"
   ]
  },
  {
   "cell_type": "code",
   "execution_count": 7,
   "id": "0e652fc1",
   "metadata": {},
   "outputs": [
    {
     "data": {
      "text/html": [
       "<time datetime=\"2023-01-23\">2023-01-23</time>"
      ],
      "text/latex": [
       "2023-01-23"
      ],
      "text/markdown": [
       "2023-01-23"
      ],
      "text/plain": [
       "[1] \"2023-01-23\""
      ]
     },
     "metadata": {},
     "output_type": "display_data"
    }
   ],
   "source": [
    "as.Date(\"2023-01-23\", format=\"%Y-%m-%d\")"
   ]
  },
  {
   "cell_type": "code",
   "execution_count": 8,
   "id": "24e63520",
   "metadata": {
    "scrolled": false
   },
   "outputs": [
    {
     "data": {
      "text/html": [
       "<time datetime=\"2023-01-23\">2023-01-23</time>"
      ],
      "text/latex": [
       "2023-01-23"
      ],
      "text/markdown": [
       "2023-01-23"
      ],
      "text/plain": [
       "[1] \"2023-01-23\""
      ]
     },
     "metadata": {},
     "output_type": "display_data"
    }
   ],
   "source": [
    "as.Date('2023-01-23', format='%Y-%m-%d')"
   ]
  },
  {
   "cell_type": "code",
   "execution_count": 11,
   "id": "e7eb412a",
   "metadata": {},
   "outputs": [
    {
     "data": {
      "text/html": [
       "<time datetime=\"2002-10-24\">2002-10-24</time>"
      ],
      "text/latex": [
       "2002-10-24"
      ],
      "text/markdown": [
       "2002-10-24"
      ],
      "text/plain": [
       "[1] \"2002-10-24\""
      ]
     },
     "metadata": {},
     "output_type": "display_data"
    }
   ],
   "source": [
    "as.Date('24 de Outubro de 2002', format='%d de %B de %Y')"
   ]
  },
  {
   "cell_type": "code",
   "execution_count": 12,
   "id": "0361782d",
   "metadata": {},
   "outputs": [
    {
     "data": {
      "text/html": [
       "<time datetime=\"2016-06-28\">2016-06-28</time>"
      ],
      "text/latex": [
       "2016-06-28"
      ],
      "text/markdown": [
       "2016-06-28"
      ],
      "text/plain": [
       "[1] \"2016-06-28\""
      ]
     },
     "metadata": {},
     "output_type": "display_data"
    }
   ],
   "source": [
    "as.Date('28 Junho, 2016', format='%d %B, %Y')"
   ]
  },
  {
   "cell_type": "code",
   "execution_count": 13,
   "id": "f1f47405",
   "metadata": {},
   "outputs": [
    {
     "data": {
      "text/html": [
       "'25 de março de 2023'"
      ],
      "text/latex": [
       "'25 de março de 2023'"
      ],
      "text/markdown": [
       "'25 de março de 2023'"
      ],
      "text/plain": [
       "[1] \"25 de março de 2023\""
      ]
     },
     "metadata": {},
     "output_type": "display_data"
    }
   ],
   "source": [
    "format(hoje, format='%d de %B de %Y')"
   ]
  },
  {
   "cell_type": "code",
   "execution_count": 14,
   "id": "c462aee6",
   "metadata": {},
   "outputs": [
    {
     "data": {
      "text/html": [
       "'março, dia 25 de 2023'"
      ],
      "text/latex": [
       "'março, dia 25 de 2023'"
      ],
      "text/markdown": [
       "'março, dia 25 de 2023'"
      ],
      "text/plain": [
       "[1] \"março, dia 25 de 2023\""
      ]
     },
     "metadata": {},
     "output_type": "display_data"
    }
   ],
   "source": [
    "format(hoje, format='%B, dia %d de %Y')"
   ]
  },
  {
   "cell_type": "code",
   "execution_count": 15,
   "id": "7981a2f4",
   "metadata": {},
   "outputs": [
    {
     "data": {
      "text/html": [
       "<time datetime=\"1990-12-25\">1990-12-25</time>"
      ],
      "text/latex": [
       "1990-12-25"
      ],
      "text/markdown": [
       "1990-12-25"
      ],
      "text/plain": [
       "[1] \"1990-12-25\""
      ]
     },
     "metadata": {},
     "output_type": "display_data"
    },
    {
     "data": {
      "text/html": [
       "<time datetime=\"1990-12-26\">1990-12-26</time>"
      ],
      "text/latex": [
       "1990-12-26"
      ],
      "text/markdown": [
       "1990-12-26"
      ],
      "text/plain": [
       "[1] \"1990-12-26\""
      ]
     },
     "metadata": {},
     "output_type": "display_data"
    }
   ],
   "source": [
    "natal <- as.Date('1990-12-25', format='%Y-%m-%d')\n",
    "\n",
    "natal\n",
    "\n",
    "natal + 1"
   ]
  },
  {
   "cell_type": "code",
   "execution_count": 17,
   "id": "e7320636",
   "metadata": {},
   "outputs": [
    {
     "data": {
      "text/html": [
       "'double'"
      ],
      "text/latex": [
       "'double'"
      ],
      "text/markdown": [
       "'double'"
      ],
      "text/plain": [
       "[1] \"double\""
      ]
     },
     "metadata": {},
     "output_type": "display_data"
    }
   ],
   "source": [
    "tempo <- as.POSIXct(\"2023-06-23 08:01:12\")\n",
    "\n",
    "typeof(tempo)"
   ]
  },
  {
   "cell_type": "code",
   "execution_count": 18,
   "id": "93d20974",
   "metadata": {},
   "outputs": [
    {
     "data": {
      "text/html": [
       "<style>\n",
       ".list-inline {list-style: none; margin:0; padding: 0}\n",
       ".list-inline>li {display: inline-block}\n",
       ".list-inline>li:not(:last-child)::after {content: \"\\00b7\"; padding: 0 .5ex}\n",
       "</style>\n",
       "<ol class=list-inline><li>'POSIXct'</li><li>'POSIXt'</li></ol>\n"
      ],
      "text/latex": [
       "\\begin{enumerate*}\n",
       "\\item 'POSIXct'\n",
       "\\item 'POSIXt'\n",
       "\\end{enumerate*}\n"
      ],
      "text/markdown": [
       "1. 'POSIXct'\n",
       "2. 'POSIXt'\n",
       "\n",
       "\n"
      ],
      "text/plain": [
       "[1] \"POSIXct\" \"POSIXt\" "
      ]
     },
     "metadata": {},
     "output_type": "display_data"
    }
   ],
   "source": [
    "class(tempo)"
   ]
  },
  {
   "cell_type": "code",
   "execution_count": null,
   "id": "a716b9f9",
   "metadata": {},
   "outputs": [],
   "source": [
    "tempo\n",
    "\n",
    "tempo + 1"
   ]
  },
  {
   "cell_type": "code",
   "execution_count": null,
   "id": "b5c5ff52",
   "metadata": {
    "scrolled": true
   },
   "outputs": [],
   "source": [
    "hoje - natal"
   ]
  },
  {
   "cell_type": "code",
   "execution_count": null,
   "id": "b096608a",
   "metadata": {},
   "outputs": [],
   "source": [
    "d1 <- ISOdate(2004,09,09)\n",
    "\n",
    "d2 <- ISOdate(2023,03,24)\n",
    "\n",
    "d2 - d1\n",
    "\n",
    "difftime(d2, d1, units='weeks')\n",
    "\n",
    "difftime(d2, d1, units='hours')"
   ]
  },
  {
   "cell_type": "code",
   "execution_count": null,
   "id": "e5944f30",
   "metadata": {},
   "outputs": [],
   "source": [
    "print('Hi, jupyter!')"
   ]
  }
 ],
 "metadata": {
  "kernelspec": {
   "display_name": "R",
   "language": "R",
   "name": "ir"
  },
  "language_info": {
   "codemirror_mode": "r",
   "file_extension": ".r",
   "mimetype": "text/x-r-source",
   "name": "R",
   "pygments_lexer": "r",
   "version": "4.2.3"
  }
 },
 "nbformat": 4,
 "nbformat_minor": 5
}
