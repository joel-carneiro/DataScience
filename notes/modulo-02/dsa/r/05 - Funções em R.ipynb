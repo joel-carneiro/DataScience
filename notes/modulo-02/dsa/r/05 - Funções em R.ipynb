{
 "cells": [
  {
   "cell_type": "code",
   "execution_count": null,
   "id": "4bdf6366",
   "metadata": {},
   "outputs": [],
   "source": [
    "# Verificando a documentação de uma função\n",
    "?sample"
   ]
  },
  {
   "cell_type": "code",
   "execution_count": null,
   "id": "052f6233",
   "metadata": {},
   "outputs": [],
   "source": [
    "# Visualizando argumentos de funções\n",
    "args(sample)\n",
    "args(mean)\n",
    "args(sd)"
   ]
  },
  {
   "cell_type": "code",
   "execution_count": null,
   "id": "9b93fb20",
   "metadata": {},
   "outputs": [],
   "source": [
    "# Funções Built-in\n",
    "abs(-35) # Valor absoluto\n",
    "sum(c(1:15)) # Soma todos os elementos de uma variável composta\n",
    "mean(c(1:10)) # A média de valores\n",
    "round(1.1:5.8) # Arredondar valores\n",
    "rev(c(1:5)) # Reveter um array\n",
    "seq(1:5) # Criando um vetor\n",
    "sort(rev(1:5)) # Ordenar um array\n",
    "append(c(1:5), 6) # Adicionar um elemento ao vetor"
   ]
  },
  {
   "cell_type": "code",
   "execution_count": null,
   "id": "9344e20d",
   "metadata": {},
   "outputs": [],
   "source": [
    "# Funções dentro de funções\n",
    "hist(rnorm(100000))"
   ]
  },
  {
   "cell_type": "code",
   "execution_count": null,
   "id": "dded1047",
   "metadata": {},
   "outputs": [],
   "source": [
    "# Funções dentro de funções\n",
    "v1 <- c(1.5, 2.5, 4.5, 6.75)\n",
    "v2 <- rev(v1)\n",
    "\n",
    "v1\n",
    "v2\n",
    "\n",
    "mean(c(abs(v1), abs(v2)))"
   ]
  },
  {
   "cell_type": "code",
   "execution_count": null,
   "id": "6ee39047",
   "metadata": {},
   "outputs": [],
   "source": [
    "c(1, 10)"
   ]
  },
  {
   "cell_type": "code",
   "execution_count": null,
   "id": "e7301996",
   "metadata": {},
   "outputs": [],
   "source": [
    "# Criando funções\n",
    "elevar_ao_quadrado <- function (x) {\n",
    "    return (x ^ 2)\n",
    "}\n",
    "\n",
    "elevar_ao_quadrado(5)"
   ]
  },
  {
   "cell_type": "code",
   "execution_count": null,
   "id": "f39da173",
   "metadata": {},
   "outputs": [],
   "source": [
    "# Criando funções\n",
    "bhaskara <- function (a, b, c) {\n",
    "    delta <- b ^ 2 - 4 * a * c\n",
    "    \n",
    "    x1 <- (-b + sqrt(delta)) / (2 * a)\n",
    "    x2 <- (-b - sqrt(delta)) / (2 * a)\n",
    "    \n",
    "    return (c(x1, x2))\n",
    "}\n",
    "\n",
    "bhaskara(1, 5, 12)"
   ]
  },
  {
   "cell_type": "code",
   "execution_count": null,
   "id": "e1996419",
   "metadata": {},
   "outputs": [],
   "source": [
    "# Criando funções\n",
    "jogar_dado <- function () {\n",
    "    numero <- sample(c(1:6), size=1)\n",
    "    return (numero)\n",
    "}\n",
    "\n",
    "jogar_dado()"
   ]
  },
  {
   "cell_type": "code",
   "execution_count": null,
   "id": "cd53c670",
   "metadata": {
    "scrolled": false
   },
   "outputs": [],
   "source": [
    "# Função sem número de parâmetros definidos\n",
    "\n",
    "funcao_aleatoria <- function (...) {\n",
    "    df <- data.frame(cbind(...))\n",
    "    \n",
    "    return (df)\n",
    "}\n",
    "\n",
    "v1 <- c('x', 'y', 'z', 'n')\n",
    "v2 <- c(1, 2, 3, 4)\n",
    "v3 <- c(TRUE, TRUE, FALSE, FALSE)\n",
    "\n",
    "\n",
    "funcao_aleatoria(v1)\n",
    "funcao_aleatoria(v1, v2)\n",
    "funcao_aleatoria(v1, v2, v3)"
   ]
  },
  {
   "cell_type": "code",
   "execution_count": null,
   "id": "621a5b6c",
   "metadata": {},
   "outputs": [],
   "source": [
    "# Vamos comparar agora a perfomace de uma função built-in e uma função criada pelos desenvolvedores\n",
    "meu_sqrt <- function(numeros) {\n",
    "    resposta <- numeric(length(numeros))\n",
    "    \n",
    "    for (i in seq_along(numeros)) {\n",
    "        resposta[i] <- numeros[i] ^ (0.5)\n",
    "    }\n",
    "    \n",
    "    return (resposta)\n",
    "}"
   ]
  },
  {
   "cell_type": "code",
   "execution_count": null,
   "id": "94c573e3",
   "metadata": {},
   "outputs": [],
   "source": [
    "# Criando um vetor imenso\n",
    "x <- 1:1000000"
   ]
  },
  {
   "cell_type": "code",
   "execution_count": null,
   "id": "5abe61b1",
   "metadata": {},
   "outputs": [],
   "source": [
    "# Visualizando o tempo de execução da função criada\n",
    "system.time(r1 <- meu_sqrt(x))"
   ]
  },
  {
   "cell_type": "code",
   "execution_count": null,
   "id": "aca2546b",
   "metadata": {},
   "outputs": [],
   "source": [
    "# Visualizando o tempo de execução da função built-in\n",
    "system.time(r2 <- sqrt(x))"
   ]
  },
  {
   "cell_type": "markdown",
   "id": "ebf430ef",
   "metadata": {},
   "source": [
    "# Funções Apply"
   ]
  },
  {
   "cell_type": "code",
   "execution_count": 1,
   "id": "82b07d96",
   "metadata": {},
   "outputs": [],
   "source": [
    "# Criando uma lista\n",
    "lst1 <- list(a=c(2:55), b=c(56:102))"
   ]
  },
  {
   "cell_type": "code",
   "execution_count": 2,
   "id": "514ad4c1",
   "metadata": {},
   "outputs": [
    {
     "data": {
      "text/html": [
       "<dl>\n",
       "\t<dt>$a</dt>\n",
       "\t\t<dd><style>\n",
       ".list-inline {list-style: none; margin:0; padding: 0}\n",
       ".list-inline>li {display: inline-block}\n",
       ".list-inline>li:not(:last-child)::after {content: \"\\00b7\"; padding: 0 .5ex}\n",
       "</style>\n",
       "<ol class=list-inline><li>2</li><li>3</li><li>4</li><li>5</li><li>6</li><li>7</li><li>8</li><li>9</li><li>10</li><li>11</li><li>12</li><li>13</li><li>14</li><li>15</li><li>16</li><li>17</li><li>18</li><li>19</li><li>20</li><li>21</li><li>22</li><li>23</li><li>24</li><li>25</li><li>26</li><li>27</li><li>28</li><li>29</li><li>30</li><li>31</li><li>32</li><li>33</li><li>34</li><li>35</li><li>36</li><li>37</li><li>38</li><li>39</li><li>40</li><li>41</li><li>42</li><li>43</li><li>44</li><li>45</li><li>46</li><li>47</li><li>48</li><li>49</li><li>50</li><li>51</li><li>52</li><li>53</li><li>54</li><li>55</li></ol>\n",
       "</dd>\n",
       "\t<dt>$b</dt>\n",
       "\t\t<dd><style>\n",
       ".list-inline {list-style: none; margin:0; padding: 0}\n",
       ".list-inline>li {display: inline-block}\n",
       ".list-inline>li:not(:last-child)::after {content: \"\\00b7\"; padding: 0 .5ex}\n",
       "</style>\n",
       "<ol class=list-inline><li>56</li><li>57</li><li>58</li><li>59</li><li>60</li><li>61</li><li>62</li><li>63</li><li>64</li><li>65</li><li>66</li><li>67</li><li>68</li><li>69</li><li>70</li><li>71</li><li>72</li><li>73</li><li>74</li><li>75</li><li>76</li><li>77</li><li>78</li><li>79</li><li>80</li><li>81</li><li>82</li><li>83</li><li>84</li><li>85</li><li>86</li><li>87</li><li>88</li><li>89</li><li>90</li><li>91</li><li>92</li><li>93</li><li>94</li><li>95</li><li>96</li><li>97</li><li>98</li><li>99</li><li>100</li><li>101</li><li>102</li></ol>\n",
       "</dd>\n",
       "</dl>\n"
      ],
      "text/latex": [
       "\\begin{description}\n",
       "\\item[\\$a] \\begin{enumerate*}\n",
       "\\item 2\n",
       "\\item 3\n",
       "\\item 4\n",
       "\\item 5\n",
       "\\item 6\n",
       "\\item 7\n",
       "\\item 8\n",
       "\\item 9\n",
       "\\item 10\n",
       "\\item 11\n",
       "\\item 12\n",
       "\\item 13\n",
       "\\item 14\n",
       "\\item 15\n",
       "\\item 16\n",
       "\\item 17\n",
       "\\item 18\n",
       "\\item 19\n",
       "\\item 20\n",
       "\\item 21\n",
       "\\item 22\n",
       "\\item 23\n",
       "\\item 24\n",
       "\\item 25\n",
       "\\item 26\n",
       "\\item 27\n",
       "\\item 28\n",
       "\\item 29\n",
       "\\item 30\n",
       "\\item 31\n",
       "\\item 32\n",
       "\\item 33\n",
       "\\item 34\n",
       "\\item 35\n",
       "\\item 36\n",
       "\\item 37\n",
       "\\item 38\n",
       "\\item 39\n",
       "\\item 40\n",
       "\\item 41\n",
       "\\item 42\n",
       "\\item 43\n",
       "\\item 44\n",
       "\\item 45\n",
       "\\item 46\n",
       "\\item 47\n",
       "\\item 48\n",
       "\\item 49\n",
       "\\item 50\n",
       "\\item 51\n",
       "\\item 52\n",
       "\\item 53\n",
       "\\item 54\n",
       "\\item 55\n",
       "\\end{enumerate*}\n",
       "\n",
       "\\item[\\$b] \\begin{enumerate*}\n",
       "\\item 56\n",
       "\\item 57\n",
       "\\item 58\n",
       "\\item 59\n",
       "\\item 60\n",
       "\\item 61\n",
       "\\item 62\n",
       "\\item 63\n",
       "\\item 64\n",
       "\\item 65\n",
       "\\item 66\n",
       "\\item 67\n",
       "\\item 68\n",
       "\\item 69\n",
       "\\item 70\n",
       "\\item 71\n",
       "\\item 72\n",
       "\\item 73\n",
       "\\item 74\n",
       "\\item 75\n",
       "\\item 76\n",
       "\\item 77\n",
       "\\item 78\n",
       "\\item 79\n",
       "\\item 80\n",
       "\\item 81\n",
       "\\item 82\n",
       "\\item 83\n",
       "\\item 84\n",
       "\\item 85\n",
       "\\item 86\n",
       "\\item 87\n",
       "\\item 88\n",
       "\\item 89\n",
       "\\item 90\n",
       "\\item 91\n",
       "\\item 92\n",
       "\\item 93\n",
       "\\item 94\n",
       "\\item 95\n",
       "\\item 96\n",
       "\\item 97\n",
       "\\item 98\n",
       "\\item 99\n",
       "\\item 100\n",
       "\\item 101\n",
       "\\item 102\n",
       "\\end{enumerate*}\n",
       "\n",
       "\\end{description}\n"
      ],
      "text/markdown": [
       "$a\n",
       ":   1. 2\n",
       "2. 3\n",
       "3. 4\n",
       "4. 5\n",
       "5. 6\n",
       "6. 7\n",
       "7. 8\n",
       "8. 9\n",
       "9. 10\n",
       "10. 11\n",
       "11. 12\n",
       "12. 13\n",
       "13. 14\n",
       "14. 15\n",
       "15. 16\n",
       "16. 17\n",
       "17. 18\n",
       "18. 19\n",
       "19. 20\n",
       "20. 21\n",
       "21. 22\n",
       "22. 23\n",
       "23. 24\n",
       "24. 25\n",
       "25. 26\n",
       "26. 27\n",
       "27. 28\n",
       "28. 29\n",
       "29. 30\n",
       "30. 31\n",
       "31. 32\n",
       "32. 33\n",
       "33. 34\n",
       "34. 35\n",
       "35. 36\n",
       "36. 37\n",
       "37. 38\n",
       "38. 39\n",
       "39. 40\n",
       "40. 41\n",
       "41. 42\n",
       "42. 43\n",
       "43. 44\n",
       "44. 45\n",
       "45. 46\n",
       "46. 47\n",
       "47. 48\n",
       "48. 49\n",
       "49. 50\n",
       "50. 51\n",
       "51. 52\n",
       "52. 53\n",
       "53. 54\n",
       "54. 55\n",
       "\n",
       "\n",
       "\n",
       "$b\n",
       ":   1. 56\n",
       "2. 57\n",
       "3. 58\n",
       "4. 59\n",
       "5. 60\n",
       "6. 61\n",
       "7. 62\n",
       "8. 63\n",
       "9. 64\n",
       "10. 65\n",
       "11. 66\n",
       "12. 67\n",
       "13. 68\n",
       "14. 69\n",
       "15. 70\n",
       "16. 71\n",
       "17. 72\n",
       "18. 73\n",
       "19. 74\n",
       "20. 75\n",
       "21. 76\n",
       "22. 77\n",
       "23. 78\n",
       "24. 79\n",
       "25. 80\n",
       "26. 81\n",
       "27. 82\n",
       "28. 83\n",
       "29. 84\n",
       "30. 85\n",
       "31. 86\n",
       "32. 87\n",
       "33. 88\n",
       "34. 89\n",
       "35. 90\n",
       "36. 91\n",
       "37. 92\n",
       "38. 93\n",
       "39. 94\n",
       "40. 95\n",
       "41. 96\n",
       "42. 97\n",
       "43. 98\n",
       "44. 99\n",
       "45. 100\n",
       "46. 101\n",
       "47. 102\n",
       "\n",
       "\n",
       "\n",
       "\n",
       "\n"
      ],
      "text/plain": [
       "$a\n",
       " [1]  2  3  4  5  6  7  8  9 10 11 12 13 14 15 16 17 18 19 20 21 22 23 24 25 26\n",
       "[26] 27 28 29 30 31 32 33 34 35 36 37 38 39 40 41 42 43 44 45 46 47 48 49 50 51\n",
       "[51] 52 53 54 55\n",
       "\n",
       "$b\n",
       " [1]  56  57  58  59  60  61  62  63  64  65  66  67  68  69  70  71  72  73  74\n",
       "[20]  75  76  77  78  79  80  81  82  83  84  85  86  87  88  89  90  91  92  93\n",
       "[39]  94  95  96  97  98  99 100 101 102\n"
      ]
     },
     "metadata": {},
     "output_type": "display_data"
    }
   ],
   "source": [
    "lst1"
   ]
  },
  {
   "cell_type": "code",
   "execution_count": 3,
   "id": "61c8fbf2",
   "metadata": {
    "scrolled": true
   },
   "outputs": [
    {
     "name": "stdout",
     "output_type": "stream",
     "text": [
      "[1] 1539\n",
      "[1] 3713\n"
     ]
    }
   ],
   "source": [
    "# Executando uma soma de todos os elementos de cada vetor da lista\n",
    "\n",
    "soma <- 0\n",
    "for (i in lst1$a) {\n",
    "    soma <- soma + i\n",
    "}\n",
    "\n",
    "print(soma)\n",
    "\n",
    "soma <- 0\n",
    "for (i in lst1$b) {\n",
    "    soma <- soma + i\n",
    "}\n",
    "\n",
    "print(soma)"
   ]
  },
  {
   "cell_type": "code",
   "execution_count": 4,
   "id": "e45e434b",
   "metadata": {},
   "outputs": [
    {
     "data": {
      "text/html": [
       "<style>\n",
       ".dl-inline {width: auto; margin:0; padding: 0}\n",
       ".dl-inline>dt, .dl-inline>dd {float: none; width: auto; display: inline-block}\n",
       ".dl-inline>dt::after {content: \":\\0020\"; padding-right: .5ex}\n",
       ".dl-inline>dt:not(:first-of-type) {padding-left: .5ex}\n",
       "</style><dl class=dl-inline><dt>a</dt><dd>1539</dd><dt>b</dt><dd>3713</dd></dl>\n"
      ],
      "text/latex": [
       "\\begin{description*}\n",
       "\\item[a] 1539\n",
       "\\item[b] 3713\n",
       "\\end{description*}\n"
      ],
      "text/markdown": [
       "a\n",
       ":   1539b\n",
       ":   3713\n",
       "\n"
      ],
      "text/plain": [
       "   a    b \n",
       "1539 3713 "
      ]
     },
     "metadata": {},
     "output_type": "display_data"
    }
   ],
   "source": [
    "# Aplicando a função sapply para somar cada vetor\n",
    "sapply(lst1, sum)"
   ]
  },
  {
   "cell_type": "code",
   "execution_count": 5,
   "id": "bedb5b45",
   "metadata": {},
   "outputs": [
    {
     "data": {
      "text/html": [
       "<style>\n",
       ".dl-inline {width: auto; margin:0; padding: 0}\n",
       ".dl-inline>dt, .dl-inline>dd {float: none; width: auto; display: inline-block}\n",
       ".dl-inline>dt::after {content: \":\\0020\"; padding-right: .5ex}\n",
       ".dl-inline>dt:not(:first-of-type) {padding-left: .5ex}\n",
       "</style><dl class=dl-inline><dt>a</dt><dd>28.5</dd><dt>b</dt><dd>79</dd></dl>\n"
      ],
      "text/latex": [
       "\\begin{description*}\n",
       "\\item[a] 28.5\n",
       "\\item[b] 79\n",
       "\\end{description*}\n"
      ],
      "text/markdown": [
       "a\n",
       ":   28.5b\n",
       ":   79\n",
       "\n"
      ],
      "text/plain": [
       "   a    b \n",
       "28.5 79.0 "
      ]
     },
     "metadata": {},
     "output_type": "display_data"
    }
   ],
   "source": [
    "# Aplicando a função sapply para calcular a média de cada vetor\n",
    "sapply(lst1, mean)"
   ]
  },
  {
   "cell_type": "code",
   "execution_count": 6,
   "id": "cffc926a",
   "metadata": {
    "scrolled": true
   },
   "outputs": [
    {
     "data": {
      "text/html": [
       "<table class=\"dataframe\">\n",
       "<caption>A matrix: 5 × 5 of type dbl</caption>\n",
       "<tbody>\n",
       "\t<tr><td> 1.296890</td><td> 0.07234184</td><td> 0.39106655</td><td>-0.25138976</td><td>-0.0516502</td></tr>\n",
       "\t<tr><td> 1.787955</td><td> 0.12550084</td><td> 0.82559073</td><td>-0.43836600</td><td> 0.1025675</td></tr>\n",
       "\t<tr><td>-1.967823</td><td> 0.54037246</td><td>-1.29759503</td><td> 0.53963052</td><td>-0.3350386</td></tr>\n",
       "\t<tr><td>-1.485207</td><td>-0.58049388</td><td> 0.01123335</td><td>-0.03927787</td><td>-1.9284741</td></tr>\n",
       "\t<tr><td>-1.015495</td><td>-0.96693652</td><td> 0.03734977</td><td>-0.24756018</td><td> 0.3632619</td></tr>\n",
       "</tbody>\n",
       "</table>\n"
      ],
      "text/latex": [
       "A matrix: 5 × 5 of type dbl\n",
       "\\begin{tabular}{lllll}\n",
       "\t  1.296890 &  0.07234184 &  0.39106655 & -0.25138976 & -0.0516502\\\\\n",
       "\t  1.787955 &  0.12550084 &  0.82559073 & -0.43836600 &  0.1025675\\\\\n",
       "\t -1.967823 &  0.54037246 & -1.29759503 &  0.53963052 & -0.3350386\\\\\n",
       "\t -1.485207 & -0.58049388 &  0.01123335 & -0.03927787 & -1.9284741\\\\\n",
       "\t -1.015495 & -0.96693652 &  0.03734977 & -0.24756018 &  0.3632619\\\\\n",
       "\\end{tabular}\n"
      ],
      "text/markdown": [
       "\n",
       "A matrix: 5 × 5 of type dbl\n",
       "\n",
       "|  1.296890 |  0.07234184 |  0.39106655 | -0.25138976 | -0.0516502 |\n",
       "|  1.787955 |  0.12550084 |  0.82559073 | -0.43836600 |  0.1025675 |\n",
       "| -1.967823 |  0.54037246 | -1.29759503 |  0.53963052 | -0.3350386 |\n",
       "| -1.485207 | -0.58049388 |  0.01123335 | -0.03927787 | -1.9284741 |\n",
       "| -1.015495 | -0.96693652 |  0.03734977 | -0.24756018 |  0.3632619 |\n",
       "\n"
      ],
      "text/plain": [
       "     [,1]      [,2]        [,3]        [,4]        [,5]      \n",
       "[1,]  1.296890  0.07234184  0.39106655 -0.25138976 -0.0516502\n",
       "[2,]  1.787955  0.12550084  0.82559073 -0.43836600  0.1025675\n",
       "[3,] -1.967823  0.54037246 -1.29759503  0.53963052 -0.3350386\n",
       "[4,] -1.485207 -0.58049388  0.01123335 -0.03927787 -1.9284741\n",
       "[5,] -1.015495 -0.96693652  0.03734977 -0.24756018  0.3632619"
      ]
     },
     "metadata": {},
     "output_type": "display_data"
    },
    {
     "data": {
      "text/html": [
       "<style>\n",
       ".list-inline {list-style: none; margin:0; padding: 0}\n",
       ".list-inline>li {display: inline-block}\n",
       ".list-inline>li:not(:last-child)::after {content: \"\\00b7\"; padding: 0 .5ex}\n",
       "</style>\n",
       "<ol class=list-inline><li>0.291451771710579</li><li>0.480649572242055</li><li>-0.5040907254458</li><li>-0.804443815962112</li><li>-0.365876090293322</li></ol>\n"
      ],
      "text/latex": [
       "\\begin{enumerate*}\n",
       "\\item 0.291451771710579\n",
       "\\item 0.480649572242055\n",
       "\\item -0.5040907254458\n",
       "\\item -0.804443815962112\n",
       "\\item -0.365876090293322\n",
       "\\end{enumerate*}\n"
      ],
      "text/markdown": [
       "1. 0.291451771710579\n",
       "2. 0.480649572242055\n",
       "3. -0.5040907254458\n",
       "4. -0.804443815962112\n",
       "5. -0.365876090293322\n",
       "\n",
       "\n"
      ],
      "text/plain": [
       "[1]  0.2914518  0.4806496 -0.5040907 -0.8044438 -0.3658761"
      ]
     },
     "metadata": {},
     "output_type": "display_data"
    },
    {
     "data": {
      "text/html": [
       "<style>\n",
       ".list-inline {list-style: none; margin:0; padding: 0}\n",
       ".list-inline>li {display: inline-block}\n",
       ".list-inline>li:not(:last-child)::after {content: \"\\00b7\"; padding: 0 .5ex}\n",
       "</style>\n",
       "<ol class=list-inline><li>-0.276735970645479</li><li>-0.161843051656881</li><li>-0.00647092439448462</li><li>-0.0873926587716999</li><li>-0.369866682280055</li></ol>\n"
      ],
      "text/latex": [
       "\\begin{enumerate*}\n",
       "\\item -0.276735970645479\n",
       "\\item -0.161843051656881\n",
       "\\item -0.00647092439448462\n",
       "\\item -0.0873926587716999\n",
       "\\item -0.369866682280055\n",
       "\\end{enumerate*}\n"
      ],
      "text/markdown": [
       "1. -0.276735970645479\n",
       "2. -0.161843051656881\n",
       "3. -0.00647092439448462\n",
       "4. -0.0873926587716999\n",
       "5. -0.369866682280055\n",
       "\n",
       "\n"
      ],
      "text/plain": [
       "[1] -0.276735971 -0.161843052 -0.006470924 -0.087392659 -0.369866682"
      ]
     },
     "metadata": {},
     "output_type": "display_data"
    }
   ],
   "source": [
    "# Aplicando a função apply em matrizes\n",
    "m1 <- matrix(rnorm(25), nrow=5, ncol=5)\n",
    "\n",
    "m1\n",
    "\n",
    "LINHA <- 1\n",
    "COLUNA <- 2\n",
    "\n",
    "apply(m1, LINHA, mean)\n",
    "apply(m1, COLUNA, mean)"
   ]
  },
  {
   "cell_type": "code",
   "execution_count": 7,
   "id": "dee69840",
   "metadata": {},
   "outputs": [],
   "source": [
    "# Criando uma função semelhante a função random.randint do python\n",
    "randint <- function(min, max, size=1) {\n",
    "    return (sample(min:max, size, replace=TRUE))\n",
    "}"
   ]
  },
  {
   "cell_type": "code",
   "execution_count": 11,
   "id": "a5a6b965",
   "metadata": {},
   "outputs": [
    {
     "data": {
      "text/html": [
       "<table class=\"dataframe\">\n",
       "<caption>A data.frame: 7 × 5</caption>\n",
       "<thead>\n",
       "\t<tr><th scope=col>alunos</th><th scope=col>matematica</th><th scope=col>geografia</th><th scope=col>quimica</th><th scope=col>historia</th></tr>\n",
       "\t<tr><th scope=col>&lt;chr&gt;</th><th scope=col>&lt;int&gt;</th><th scope=col>&lt;int&gt;</th><th scope=col>&lt;int&gt;</th><th scope=col>&lt;int&gt;</th></tr>\n",
       "</thead>\n",
       "<tbody>\n",
       "\t<tr><td>Gabriel</td><td>18</td><td>96</td><td>38</td><td>84</td></tr>\n",
       "\t<tr><td>Emanuel</td><td>88</td><td>56</td><td> 1</td><td> 0</td></tr>\n",
       "\t<tr><td>Manu   </td><td>14</td><td>19</td><td>79</td><td>52</td></tr>\n",
       "\t<tr><td>Luiza  </td><td>48</td><td>75</td><td>56</td><td>85</td></tr>\n",
       "\t<tr><td>Yasmin </td><td>20</td><td>83</td><td>64</td><td>39</td></tr>\n",
       "\t<tr><td>Sarah  </td><td>64</td><td>49</td><td>40</td><td>28</td></tr>\n",
       "\t<tr><td>Antônio</td><td>79</td><td>67</td><td>84</td><td>77</td></tr>\n",
       "</tbody>\n",
       "</table>\n"
      ],
      "text/latex": [
       "A data.frame: 7 × 5\n",
       "\\begin{tabular}{lllll}\n",
       " alunos & matematica & geografia & quimica & historia\\\\\n",
       " <chr> & <int> & <int> & <int> & <int>\\\\\n",
       "\\hline\n",
       "\t Gabriel & 18 & 96 & 38 & 84\\\\\n",
       "\t Emanuel & 88 & 56 &  1 &  0\\\\\n",
       "\t Manu    & 14 & 19 & 79 & 52\\\\\n",
       "\t Luiza   & 48 & 75 & 56 & 85\\\\\n",
       "\t Yasmin  & 20 & 83 & 64 & 39\\\\\n",
       "\t Sarah   & 64 & 49 & 40 & 28\\\\\n",
       "\t Antônio & 79 & 67 & 84 & 77\\\\\n",
       "\\end{tabular}\n"
      ],
      "text/markdown": [
       "\n",
       "A data.frame: 7 × 5\n",
       "\n",
       "| alunos &lt;chr&gt; | matematica &lt;int&gt; | geografia &lt;int&gt; | quimica &lt;int&gt; | historia &lt;int&gt; |\n",
       "|---|---|---|---|---|\n",
       "| Gabriel | 18 | 96 | 38 | 84 |\n",
       "| Emanuel | 88 | 56 |  1 |  0 |\n",
       "| Manu    | 14 | 19 | 79 | 52 |\n",
       "| Luiza   | 48 | 75 | 56 | 85 |\n",
       "| Yasmin  | 20 | 83 | 64 | 39 |\n",
       "| Sarah   | 64 | 49 | 40 | 28 |\n",
       "| Antônio | 79 | 67 | 84 | 77 |\n",
       "\n"
      ],
      "text/plain": [
       "  alunos  matematica geografia quimica historia\n",
       "1 Gabriel 18         96        38      84      \n",
       "2 Emanuel 88         56         1       0      \n",
       "3 Manu    14         19        79      52      \n",
       "4 Luiza   48         75        56      85      \n",
       "5 Yasmin  20         83        64      39      \n",
       "6 Sarah   64         49        40      28      \n",
       "7 Antônio 79         67        84      77      "
      ]
     },
     "metadata": {},
     "output_type": "display_data"
    }
   ],
   "source": [
    "# Criando um array de notas aleatorio\n",
    "alunos <- c('Gabriel', 'Emanuel', 'Manu', 'Luiza', 'Yasmin', 'Sarah', 'Antônio')\n",
    "matematica <- randint(min=0, max=100, size=7)\n",
    "geografia <- randint(min=0, max=100, size=7)\n",
    "quimica <- randint(min=0, max=100, size=7)\n",
    "historia <- randint(min=0, max=100, size=7)\n",
    "\n",
    "notas <- data.frame(alunos, matematica, geografia, quimica, historia)\n",
    "\n",
    "notas"
   ]
  },
  {
   "cell_type": "code",
   "execution_count": 12,
   "id": "e16c214b",
   "metadata": {},
   "outputs": [],
   "source": [
    "# Preenchendo todos os elementos da variável notas com NA\n",
    "notas$media <- NA"
   ]
  },
  {
   "cell_type": "code",
   "execution_count": 13,
   "id": "09cc2e36",
   "metadata": {},
   "outputs": [
    {
     "data": {
      "text/html": [
       "<table class=\"dataframe\">\n",
       "<caption>A data.frame: 7 × 6</caption>\n",
       "<thead>\n",
       "\t<tr><th scope=col>alunos</th><th scope=col>matematica</th><th scope=col>geografia</th><th scope=col>quimica</th><th scope=col>historia</th><th scope=col>media</th></tr>\n",
       "\t<tr><th scope=col>&lt;chr&gt;</th><th scope=col>&lt;int&gt;</th><th scope=col>&lt;int&gt;</th><th scope=col>&lt;int&gt;</th><th scope=col>&lt;int&gt;</th><th scope=col>&lt;lgl&gt;</th></tr>\n",
       "</thead>\n",
       "<tbody>\n",
       "\t<tr><td>Gabriel</td><td>18</td><td>96</td><td>38</td><td>84</td><td>NA</td></tr>\n",
       "\t<tr><td>Emanuel</td><td>88</td><td>56</td><td> 1</td><td> 0</td><td>NA</td></tr>\n",
       "\t<tr><td>Manu   </td><td>14</td><td>19</td><td>79</td><td>52</td><td>NA</td></tr>\n",
       "\t<tr><td>Luiza  </td><td>48</td><td>75</td><td>56</td><td>85</td><td>NA</td></tr>\n",
       "\t<tr><td>Yasmin </td><td>20</td><td>83</td><td>64</td><td>39</td><td>NA</td></tr>\n",
       "\t<tr><td>Sarah  </td><td>64</td><td>49</td><td>40</td><td>28</td><td>NA</td></tr>\n",
       "\t<tr><td>Antônio</td><td>79</td><td>67</td><td>84</td><td>77</td><td>NA</td></tr>\n",
       "</tbody>\n",
       "</table>\n"
      ],
      "text/latex": [
       "A data.frame: 7 × 6\n",
       "\\begin{tabular}{llllll}\n",
       " alunos & matematica & geografia & quimica & historia & media\\\\\n",
       " <chr> & <int> & <int> & <int> & <int> & <lgl>\\\\\n",
       "\\hline\n",
       "\t Gabriel & 18 & 96 & 38 & 84 & NA\\\\\n",
       "\t Emanuel & 88 & 56 &  1 &  0 & NA\\\\\n",
       "\t Manu    & 14 & 19 & 79 & 52 & NA\\\\\n",
       "\t Luiza   & 48 & 75 & 56 & 85 & NA\\\\\n",
       "\t Yasmin  & 20 & 83 & 64 & 39 & NA\\\\\n",
       "\t Sarah   & 64 & 49 & 40 & 28 & NA\\\\\n",
       "\t Antônio & 79 & 67 & 84 & 77 & NA\\\\\n",
       "\\end{tabular}\n"
      ],
      "text/markdown": [
       "\n",
       "A data.frame: 7 × 6\n",
       "\n",
       "| alunos &lt;chr&gt; | matematica &lt;int&gt; | geografia &lt;int&gt; | quimica &lt;int&gt; | historia &lt;int&gt; | media &lt;lgl&gt; |\n",
       "|---|---|---|---|---|---|\n",
       "| Gabriel | 18 | 96 | 38 | 84 | NA |\n",
       "| Emanuel | 88 | 56 |  1 |  0 | NA |\n",
       "| Manu    | 14 | 19 | 79 | 52 | NA |\n",
       "| Luiza   | 48 | 75 | 56 | 85 | NA |\n",
       "| Yasmin  | 20 | 83 | 64 | 39 | NA |\n",
       "| Sarah   | 64 | 49 | 40 | 28 | NA |\n",
       "| Antônio | 79 | 67 | 84 | 77 | NA |\n",
       "\n"
      ],
      "text/plain": [
       "  alunos  matematica geografia quimica historia media\n",
       "1 Gabriel 18         96        38      84       NA   \n",
       "2 Emanuel 88         56         1       0       NA   \n",
       "3 Manu    14         19        79      52       NA   \n",
       "4 Luiza   48         75        56      85       NA   \n",
       "5 Yasmin  20         83        64      39       NA   \n",
       "6 Sarah   64         49        40      28       NA   \n",
       "7 Antônio 79         67        84      77       NA   "
      ]
     },
     "metadata": {},
     "output_type": "display_data"
    }
   ],
   "source": [
    "notas"
   ]
  },
  {
   "cell_type": "code",
   "execution_count": 15,
   "id": "6ec33c90",
   "metadata": {},
   "outputs": [
    {
     "data": {
      "text/html": [
       "<table class=\"dataframe\">\n",
       "<caption>A data.frame: 7 × 4</caption>\n",
       "<thead>\n",
       "\t<tr><th scope=col>matematica</th><th scope=col>geografia</th><th scope=col>quimica</th><th scope=col>historia</th></tr>\n",
       "\t<tr><th scope=col>&lt;int&gt;</th><th scope=col>&lt;int&gt;</th><th scope=col>&lt;int&gt;</th><th scope=col>&lt;int&gt;</th></tr>\n",
       "</thead>\n",
       "<tbody>\n",
       "\t<tr><td>18</td><td>96</td><td>38</td><td>84</td></tr>\n",
       "\t<tr><td>88</td><td>56</td><td> 1</td><td> 0</td></tr>\n",
       "\t<tr><td>14</td><td>19</td><td>79</td><td>52</td></tr>\n",
       "\t<tr><td>48</td><td>75</td><td>56</td><td>85</td></tr>\n",
       "\t<tr><td>20</td><td>83</td><td>64</td><td>39</td></tr>\n",
       "\t<tr><td>64</td><td>49</td><td>40</td><td>28</td></tr>\n",
       "\t<tr><td>79</td><td>67</td><td>84</td><td>77</td></tr>\n",
       "</tbody>\n",
       "</table>\n"
      ],
      "text/latex": [
       "A data.frame: 7 × 4\n",
       "\\begin{tabular}{llll}\n",
       " matematica & geografia & quimica & historia\\\\\n",
       " <int> & <int> & <int> & <int>\\\\\n",
       "\\hline\n",
       "\t 18 & 96 & 38 & 84\\\\\n",
       "\t 88 & 56 &  1 &  0\\\\\n",
       "\t 14 & 19 & 79 & 52\\\\\n",
       "\t 48 & 75 & 56 & 85\\\\\n",
       "\t 20 & 83 & 64 & 39\\\\\n",
       "\t 64 & 49 & 40 & 28\\\\\n",
       "\t 79 & 67 & 84 & 77\\\\\n",
       "\\end{tabular}\n"
      ],
      "text/markdown": [
       "\n",
       "A data.frame: 7 × 4\n",
       "\n",
       "| matematica &lt;int&gt; | geografia &lt;int&gt; | quimica &lt;int&gt; | historia &lt;int&gt; |\n",
       "|---|---|---|---|\n",
       "| 18 | 96 | 38 | 84 |\n",
       "| 88 | 56 |  1 |  0 |\n",
       "| 14 | 19 | 79 | 52 |\n",
       "| 48 | 75 | 56 | 85 |\n",
       "| 20 | 83 | 64 | 39 |\n",
       "| 64 | 49 | 40 | 28 |\n",
       "| 79 | 67 | 84 | 77 |\n",
       "\n"
      ],
      "text/plain": [
       "  matematica geografia quimica historia\n",
       "1 18         96        38      84      \n",
       "2 88         56         1       0      \n",
       "3 14         19        79      52      \n",
       "4 48         75        56      85      \n",
       "5 20         83        64      39      \n",
       "6 64         49        40      28      \n",
       "7 79         67        84      77      "
      ]
     },
     "metadata": {},
     "output_type": "display_data"
    }
   ],
   "source": [
    "# subset com as notas de cada aluno\n",
    "notas[, c(2:5)]"
   ]
  },
  {
   "cell_type": "code",
   "execution_count": 16,
   "id": "6c8ed139",
   "metadata": {},
   "outputs": [],
   "source": [
    "# Calculando a média geral de cada aluno\n",
    "notas$media <- apply(notas[, c(2, 3, 4, 5)], LINHA, mean)"
   ]
  },
  {
   "cell_type": "code",
   "execution_count": 17,
   "id": "3ee06128",
   "metadata": {},
   "outputs": [
    {
     "data": {
      "text/html": [
       "<table class=\"dataframe\">\n",
       "<caption>A data.frame: 7 × 6</caption>\n",
       "<thead>\n",
       "\t<tr><th scope=col>alunos</th><th scope=col>matematica</th><th scope=col>geografia</th><th scope=col>quimica</th><th scope=col>historia</th><th scope=col>media</th></tr>\n",
       "\t<tr><th scope=col>&lt;chr&gt;</th><th scope=col>&lt;int&gt;</th><th scope=col>&lt;int&gt;</th><th scope=col>&lt;int&gt;</th><th scope=col>&lt;int&gt;</th><th scope=col>&lt;dbl&gt;</th></tr>\n",
       "</thead>\n",
       "<tbody>\n",
       "\t<tr><td>Gabriel</td><td>18</td><td>96</td><td>38</td><td>84</td><td>59.00</td></tr>\n",
       "\t<tr><td>Emanuel</td><td>88</td><td>56</td><td> 1</td><td> 0</td><td>36.25</td></tr>\n",
       "\t<tr><td>Manu   </td><td>14</td><td>19</td><td>79</td><td>52</td><td>41.00</td></tr>\n",
       "\t<tr><td>Luiza  </td><td>48</td><td>75</td><td>56</td><td>85</td><td>66.00</td></tr>\n",
       "\t<tr><td>Yasmin </td><td>20</td><td>83</td><td>64</td><td>39</td><td>51.50</td></tr>\n",
       "\t<tr><td>Sarah  </td><td>64</td><td>49</td><td>40</td><td>28</td><td>45.25</td></tr>\n",
       "\t<tr><td>Antônio</td><td>79</td><td>67</td><td>84</td><td>77</td><td>76.75</td></tr>\n",
       "</tbody>\n",
       "</table>\n"
      ],
      "text/latex": [
       "A data.frame: 7 × 6\n",
       "\\begin{tabular}{llllll}\n",
       " alunos & matematica & geografia & quimica & historia & media\\\\\n",
       " <chr> & <int> & <int> & <int> & <int> & <dbl>\\\\\n",
       "\\hline\n",
       "\t Gabriel & 18 & 96 & 38 & 84 & 59.00\\\\\n",
       "\t Emanuel & 88 & 56 &  1 &  0 & 36.25\\\\\n",
       "\t Manu    & 14 & 19 & 79 & 52 & 41.00\\\\\n",
       "\t Luiza   & 48 & 75 & 56 & 85 & 66.00\\\\\n",
       "\t Yasmin  & 20 & 83 & 64 & 39 & 51.50\\\\\n",
       "\t Sarah   & 64 & 49 & 40 & 28 & 45.25\\\\\n",
       "\t Antônio & 79 & 67 & 84 & 77 & 76.75\\\\\n",
       "\\end{tabular}\n"
      ],
      "text/markdown": [
       "\n",
       "A data.frame: 7 × 6\n",
       "\n",
       "| alunos &lt;chr&gt; | matematica &lt;int&gt; | geografia &lt;int&gt; | quimica &lt;int&gt; | historia &lt;int&gt; | media &lt;dbl&gt; |\n",
       "|---|---|---|---|---|---|\n",
       "| Gabriel | 18 | 96 | 38 | 84 | 59.00 |\n",
       "| Emanuel | 88 | 56 |  1 |  0 | 36.25 |\n",
       "| Manu    | 14 | 19 | 79 | 52 | 41.00 |\n",
       "| Luiza   | 48 | 75 | 56 | 85 | 66.00 |\n",
       "| Yasmin  | 20 | 83 | 64 | 39 | 51.50 |\n",
       "| Sarah   | 64 | 49 | 40 | 28 | 45.25 |\n",
       "| Antônio | 79 | 67 | 84 | 77 | 76.75 |\n",
       "\n"
      ],
      "text/plain": [
       "  alunos  matematica geografia quimica historia media\n",
       "1 Gabriel 18         96        38      84       59.00\n",
       "2 Emanuel 88         56         1       0       36.25\n",
       "3 Manu    14         19        79      52       41.00\n",
       "4 Luiza   48         75        56      85       66.00\n",
       "5 Yasmin  20         83        64      39       51.50\n",
       "6 Sarah   64         49        40      28       45.25\n",
       "7 Antônio 79         67        84      77       76.75"
      ]
     },
     "metadata": {},
     "output_type": "display_data"
    }
   ],
   "source": [
    "notas"
   ]
  },
  {
   "cell_type": "code",
   "execution_count": 18,
   "id": "2fd8fb6e",
   "metadata": {},
   "outputs": [],
   "source": [
    "# Arredondando as médias\n",
    "notas$media <- round(notas$media)"
   ]
  },
  {
   "cell_type": "code",
   "execution_count": 19,
   "id": "e4edb060",
   "metadata": {},
   "outputs": [
    {
     "data": {
      "text/html": [
       "<table class=\"dataframe\">\n",
       "<caption>A data.frame: 7 × 6</caption>\n",
       "<thead>\n",
       "\t<tr><th scope=col>alunos</th><th scope=col>matematica</th><th scope=col>geografia</th><th scope=col>quimica</th><th scope=col>historia</th><th scope=col>media</th></tr>\n",
       "\t<tr><th scope=col>&lt;chr&gt;</th><th scope=col>&lt;int&gt;</th><th scope=col>&lt;int&gt;</th><th scope=col>&lt;int&gt;</th><th scope=col>&lt;int&gt;</th><th scope=col>&lt;dbl&gt;</th></tr>\n",
       "</thead>\n",
       "<tbody>\n",
       "\t<tr><td>Gabriel</td><td>18</td><td>96</td><td>38</td><td>84</td><td>59</td></tr>\n",
       "\t<tr><td>Emanuel</td><td>88</td><td>56</td><td> 1</td><td> 0</td><td>36</td></tr>\n",
       "\t<tr><td>Manu   </td><td>14</td><td>19</td><td>79</td><td>52</td><td>41</td></tr>\n",
       "\t<tr><td>Luiza  </td><td>48</td><td>75</td><td>56</td><td>85</td><td>66</td></tr>\n",
       "\t<tr><td>Yasmin </td><td>20</td><td>83</td><td>64</td><td>39</td><td>52</td></tr>\n",
       "\t<tr><td>Sarah  </td><td>64</td><td>49</td><td>40</td><td>28</td><td>45</td></tr>\n",
       "\t<tr><td>Antônio</td><td>79</td><td>67</td><td>84</td><td>77</td><td>77</td></tr>\n",
       "</tbody>\n",
       "</table>\n"
      ],
      "text/latex": [
       "A data.frame: 7 × 6\n",
       "\\begin{tabular}{llllll}\n",
       " alunos & matematica & geografia & quimica & historia & media\\\\\n",
       " <chr> & <int> & <int> & <int> & <int> & <dbl>\\\\\n",
       "\\hline\n",
       "\t Gabriel & 18 & 96 & 38 & 84 & 59\\\\\n",
       "\t Emanuel & 88 & 56 &  1 &  0 & 36\\\\\n",
       "\t Manu    & 14 & 19 & 79 & 52 & 41\\\\\n",
       "\t Luiza   & 48 & 75 & 56 & 85 & 66\\\\\n",
       "\t Yasmin  & 20 & 83 & 64 & 39 & 52\\\\\n",
       "\t Sarah   & 64 & 49 & 40 & 28 & 45\\\\\n",
       "\t Antônio & 79 & 67 & 84 & 77 & 77\\\\\n",
       "\\end{tabular}\n"
      ],
      "text/markdown": [
       "\n",
       "A data.frame: 7 × 6\n",
       "\n",
       "| alunos &lt;chr&gt; | matematica &lt;int&gt; | geografia &lt;int&gt; | quimica &lt;int&gt; | historia &lt;int&gt; | media &lt;dbl&gt; |\n",
       "|---|---|---|---|---|---|\n",
       "| Gabriel | 18 | 96 | 38 | 84 | 59 |\n",
       "| Emanuel | 88 | 56 |  1 |  0 | 36 |\n",
       "| Manu    | 14 | 19 | 79 | 52 | 41 |\n",
       "| Luiza   | 48 | 75 | 56 | 85 | 66 |\n",
       "| Yasmin  | 20 | 83 | 64 | 39 | 52 |\n",
       "| Sarah   | 64 | 49 | 40 | 28 | 45 |\n",
       "| Antônio | 79 | 67 | 84 | 77 | 77 |\n",
       "\n"
      ],
      "text/plain": [
       "  alunos  matematica geografia quimica historia media\n",
       "1 Gabriel 18         96        38      84       59   \n",
       "2 Emanuel 88         56         1       0       36   \n",
       "3 Manu    14         19        79      52       41   \n",
       "4 Luiza   48         75        56      85       66   \n",
       "5 Yasmin  20         83        64      39       52   \n",
       "6 Sarah   64         49        40      28       45   \n",
       "7 Antônio 79         67        84      77       77   "
      ]
     },
     "metadata": {},
     "output_type": "display_data"
    }
   ],
   "source": [
    "notas"
   ]
  },
  {
   "cell_type": "code",
   "execution_count": 22,
   "id": "6ddc6137",
   "metadata": {},
   "outputs": [],
   "source": [
    "# Verificando os aprovados\n",
    "notas$aprovado <- notas$media >= 60"
   ]
  },
  {
   "cell_type": "code",
   "execution_count": 23,
   "id": "d000524d",
   "metadata": {},
   "outputs": [
    {
     "data": {
      "text/html": [
       "<table class=\"dataframe\">\n",
       "<caption>A data.frame: 7 × 7</caption>\n",
       "<thead>\n",
       "\t<tr><th scope=col>alunos</th><th scope=col>matematica</th><th scope=col>geografia</th><th scope=col>quimica</th><th scope=col>historia</th><th scope=col>media</th><th scope=col>aprovado</th></tr>\n",
       "\t<tr><th scope=col>&lt;chr&gt;</th><th scope=col>&lt;int&gt;</th><th scope=col>&lt;int&gt;</th><th scope=col>&lt;int&gt;</th><th scope=col>&lt;int&gt;</th><th scope=col>&lt;dbl&gt;</th><th scope=col>&lt;lgl&gt;</th></tr>\n",
       "</thead>\n",
       "<tbody>\n",
       "\t<tr><td>Gabriel</td><td>18</td><td>96</td><td>38</td><td>84</td><td>59</td><td>FALSE</td></tr>\n",
       "\t<tr><td>Emanuel</td><td>88</td><td>56</td><td> 1</td><td> 0</td><td>36</td><td>FALSE</td></tr>\n",
       "\t<tr><td>Manu   </td><td>14</td><td>19</td><td>79</td><td>52</td><td>41</td><td>FALSE</td></tr>\n",
       "\t<tr><td>Luiza  </td><td>48</td><td>75</td><td>56</td><td>85</td><td>66</td><td> TRUE</td></tr>\n",
       "\t<tr><td>Yasmin </td><td>20</td><td>83</td><td>64</td><td>39</td><td>52</td><td>FALSE</td></tr>\n",
       "\t<tr><td>Sarah  </td><td>64</td><td>49</td><td>40</td><td>28</td><td>45</td><td>FALSE</td></tr>\n",
       "\t<tr><td>Antônio</td><td>79</td><td>67</td><td>84</td><td>77</td><td>77</td><td> TRUE</td></tr>\n",
       "</tbody>\n",
       "</table>\n"
      ],
      "text/latex": [
       "A data.frame: 7 × 7\n",
       "\\begin{tabular}{lllllll}\n",
       " alunos & matematica & geografia & quimica & historia & media & aprovado\\\\\n",
       " <chr> & <int> & <int> & <int> & <int> & <dbl> & <lgl>\\\\\n",
       "\\hline\n",
       "\t Gabriel & 18 & 96 & 38 & 84 & 59 & FALSE\\\\\n",
       "\t Emanuel & 88 & 56 &  1 &  0 & 36 & FALSE\\\\\n",
       "\t Manu    & 14 & 19 & 79 & 52 & 41 & FALSE\\\\\n",
       "\t Luiza   & 48 & 75 & 56 & 85 & 66 &  TRUE\\\\\n",
       "\t Yasmin  & 20 & 83 & 64 & 39 & 52 & FALSE\\\\\n",
       "\t Sarah   & 64 & 49 & 40 & 28 & 45 & FALSE\\\\\n",
       "\t Antônio & 79 & 67 & 84 & 77 & 77 &  TRUE\\\\\n",
       "\\end{tabular}\n"
      ],
      "text/markdown": [
       "\n",
       "A data.frame: 7 × 7\n",
       "\n",
       "| alunos &lt;chr&gt; | matematica &lt;int&gt; | geografia &lt;int&gt; | quimica &lt;int&gt; | historia &lt;int&gt; | media &lt;dbl&gt; | aprovado &lt;lgl&gt; |\n",
       "|---|---|---|---|---|---|---|\n",
       "| Gabriel | 18 | 96 | 38 | 84 | 59 | FALSE |\n",
       "| Emanuel | 88 | 56 |  1 |  0 | 36 | FALSE |\n",
       "| Manu    | 14 | 19 | 79 | 52 | 41 | FALSE |\n",
       "| Luiza   | 48 | 75 | 56 | 85 | 66 |  TRUE |\n",
       "| Yasmin  | 20 | 83 | 64 | 39 | 52 | FALSE |\n",
       "| Sarah   | 64 | 49 | 40 | 28 | 45 | FALSE |\n",
       "| Antônio | 79 | 67 | 84 | 77 | 77 |  TRUE |\n",
       "\n"
      ],
      "text/plain": [
       "  alunos  matematica geografia quimica historia media aprovado\n",
       "1 Gabriel 18         96        38      84       59    FALSE   \n",
       "2 Emanuel 88         56         1       0       36    FALSE   \n",
       "3 Manu    14         19        79      52       41    FALSE   \n",
       "4 Luiza   48         75        56      85       66     TRUE   \n",
       "5 Yasmin  20         83        64      39       52    FALSE   \n",
       "6 Sarah   64         49        40      28       45    FALSE   \n",
       "7 Antônio 79         67        84      77       77     TRUE   "
      ]
     },
     "metadata": {},
     "output_type": "display_data"
    }
   ],
   "source": [
    "notas"
   ]
  },
  {
   "cell_type": "code",
   "execution_count": null,
   "id": "c9e36608",
   "metadata": {},
   "outputs": [],
   "source": []
  }
 ],
 "metadata": {
  "kernelspec": {
   "display_name": "R",
   "language": "R",
   "name": "ir"
  },
  "language_info": {
   "codemirror_mode": "r",
   "file_extension": ".r",
   "mimetype": "text/x-r-source",
   "name": "R",
   "pygments_lexer": "r",
   "version": "4.2.3"
  }
 },
 "nbformat": 4,
 "nbformat_minor": 5
}
