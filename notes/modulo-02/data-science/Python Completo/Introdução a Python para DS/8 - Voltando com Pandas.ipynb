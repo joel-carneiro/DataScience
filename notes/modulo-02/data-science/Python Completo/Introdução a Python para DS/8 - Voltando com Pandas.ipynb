{
 "cells": [
  {
   "cell_type": "code",
   "execution_count": 1,
   "id": "fe7800d4",
   "metadata": {},
   "outputs": [],
   "source": [
    "import pandas as pd\n",
    "import numpy as np"
   ]
  },
  {
   "cell_type": "code",
   "execution_count": 2,
   "id": "cd2867cd",
   "metadata": {},
   "outputs": [
    {
     "data": {
      "text/plain": [
       "0      0\n",
       "1      1\n",
       "2      2\n",
       "3      3\n",
       "4      4\n",
       "5      5\n",
       "6      6\n",
       "7      7\n",
       "8      8\n",
       "9      9\n",
       "10    10\n",
       "11    11\n",
       "12    12\n",
       "13    13\n",
       "14    14\n",
       "15    15\n",
       "16    16\n",
       "17    17\n",
       "18    18\n",
       "19    19\n",
       "20    20\n",
       "21    21\n",
       "22    22\n",
       "23    23\n",
       "24    24\n",
       "25    25\n",
       "dtype: int64"
      ]
     },
     "execution_count": 2,
     "metadata": {},
     "output_type": "execute_result"
    }
   ],
   "source": [
    "serie1 = pd.Series(np.arange(26)); serie1"
   ]
  },
  {
   "cell_type": "code",
   "execution_count": 3,
   "id": "1b9d89b6",
   "metadata": {},
   "outputs": [],
   "source": [
    "import string"
   ]
  },
  {
   "cell_type": "code",
   "execution_count": 4,
   "id": "e4ec53ae",
   "metadata": {},
   "outputs": [],
   "source": [
    "lower_case = string.ascii_lowercase\n",
    "upper_case = string.ascii_uppercase"
   ]
  },
  {
   "cell_type": "code",
   "execution_count": 5,
   "id": "6ab69856",
   "metadata": {},
   "outputs": [
    {
     "data": {
      "text/plain": [
       "'abcdefghijklmnopqrstuvwxyz'"
      ]
     },
     "execution_count": 5,
     "metadata": {},
     "output_type": "execute_result"
    }
   ],
   "source": [
    "lower_case"
   ]
  },
  {
   "cell_type": "code",
   "execution_count": 6,
   "id": "d22b1e17",
   "metadata": {},
   "outputs": [
    {
     "data": {
      "text/plain": [
       "'ABCDEFGHIJKLMNOPQRSTUVWXYZ'"
      ]
     },
     "execution_count": 6,
     "metadata": {},
     "output_type": "execute_result"
    }
   ],
   "source": [
    "upper_case"
   ]
  },
  {
   "cell_type": "code",
   "execution_count": 8,
   "id": "973cb437",
   "metadata": {},
   "outputs": [],
   "source": [
    "serie1.index = list(lower_case)"
   ]
  },
  {
   "cell_type": "code",
   "execution_count": 9,
   "id": "02d0f461",
   "metadata": {},
   "outputs": [
    {
     "data": {
      "text/plain": [
       "a     0\n",
       "b     1\n",
       "c     2\n",
       "d     3\n",
       "e     4\n",
       "f     5\n",
       "g     6\n",
       "h     7\n",
       "i     8\n",
       "j     9\n",
       "k    10\n",
       "l    11\n",
       "m    12\n",
       "n    13\n",
       "o    14\n",
       "p    15\n",
       "q    16\n",
       "r    17\n",
       "s    18\n",
       "t    19\n",
       "u    20\n",
       "v    21\n",
       "w    22\n",
       "x    23\n",
       "y    24\n",
       "z    25\n",
       "dtype: int64"
      ]
     },
     "execution_count": 9,
     "metadata": {},
     "output_type": "execute_result"
    }
   ],
   "source": [
    "serie1"
   ]
  },
  {
   "cell_type": "code",
   "execution_count": 10,
   "id": "4aad5a03",
   "metadata": {},
   "outputs": [
    {
     "data": {
      "text/plain": [
       "b    1\n",
       "c    2\n",
       "d    3\n",
       "e    4\n",
       "f    5\n",
       "g    6\n",
       "h    7\n",
       "dtype: int64"
      ]
     },
     "execution_count": 10,
     "metadata": {},
     "output_type": "execute_result"
    }
   ],
   "source": [
    "serie1['b':'h']"
   ]
  },
  {
   "cell_type": "code",
   "execution_count": 11,
   "id": "f1324cf2",
   "metadata": {},
   "outputs": [
    {
     "data": {
      "text/plain": [
       "0     14\n",
       "1     21\n",
       "2     21\n",
       "3      2\n",
       "4      7\n",
       "5     19\n",
       "6      3\n",
       "7     17\n",
       "8      9\n",
       "9     17\n",
       "10     6\n",
       "11    12\n",
       "12     8\n",
       "13     0\n",
       "14    24\n",
       "15    17\n",
       "16    23\n",
       "17     9\n",
       "18    22\n",
       "19    24\n",
       "20     7\n",
       "21    12\n",
       "22    13\n",
       "23     8\n",
       "24     3\n",
       "25     4\n",
       "26    11\n",
       "27    12\n",
       "28     5\n",
       "29    21\n",
       "dtype: int64"
      ]
     },
     "execution_count": 11,
     "metadata": {},
     "output_type": "execute_result"
    }
   ],
   "source": [
    "serie2 = pd.Series(np.random.randint(0, 26, 30)); serie2"
   ]
  },
  {
   "cell_type": "code",
   "execution_count": 12,
   "id": "41601300",
   "metadata": {},
   "outputs": [
    {
     "data": {
      "text/plain": [
       "12.366666666666667"
      ]
     },
     "execution_count": 12,
     "metadata": {},
     "output_type": "execute_result"
    }
   ],
   "source": [
    "serie2.mean()"
   ]
  },
  {
   "cell_type": "code",
   "execution_count": 13,
   "id": "6da0732c",
   "metadata": {},
   "outputs": [
    {
     "data": {
      "text/plain": [
       "12.0"
      ]
     },
     "execution_count": 13,
     "metadata": {},
     "output_type": "execute_result"
    }
   ],
   "source": [
    "serie2.median()"
   ]
  },
  {
   "cell_type": "code",
   "execution_count": 14,
   "id": "f3188162",
   "metadata": {},
   "outputs": [
    {
     "data": {
      "text/plain": [
       "0    12\n",
       "1    17\n",
       "2    21\n",
       "dtype: int64"
      ]
     },
     "execution_count": 14,
     "metadata": {},
     "output_type": "execute_result"
    }
   ],
   "source": [
    "serie2.mode()"
   ]
  },
  {
   "cell_type": "code",
   "execution_count": 16,
   "id": "d04a0cbb",
   "metadata": {},
   "outputs": [
    {
     "data": {
      "text/plain": [
       "array([14, 21,  2,  7, 19,  3, 17,  9,  6, 12,  8,  0, 24, 23, 22, 13,  4,\n",
       "       11,  5])"
      ]
     },
     "execution_count": 16,
     "metadata": {},
     "output_type": "execute_result"
    }
   ],
   "source": [
    "serie2.unique()"
   ]
  },
  {
   "cell_type": "code",
   "execution_count": 17,
   "id": "79edd208",
   "metadata": {},
   "outputs": [
    {
     "data": {
      "text/plain": [
       "12    3\n",
       "17    3\n",
       "21    3\n",
       "7     2\n",
       "3     2\n",
       "9     2\n",
       "8     2\n",
       "24    2\n",
       "23    1\n",
       "11    1\n",
       "4     1\n",
       "13    1\n",
       "22    1\n",
       "14    1\n",
       "0     1\n",
       "6     1\n",
       "19    1\n",
       "2     1\n",
       "5     1\n",
       "dtype: int64"
      ]
     },
     "execution_count": 17,
     "metadata": {},
     "output_type": "execute_result"
    }
   ],
   "source": [
    "serie2.value_counts()"
   ]
  },
  {
   "cell_type": "code",
   "execution_count": 18,
   "id": "41dea0ad",
   "metadata": {},
   "outputs": [
    {
     "data": {
      "text/plain": [
       "count    30.000000\n",
       "mean     12.366667\n",
       "std       7.270552\n",
       "min       0.000000\n",
       "25%       7.000000\n",
       "50%      12.000000\n",
       "75%      18.500000\n",
       "max      24.000000\n",
       "dtype: float64"
      ]
     },
     "execution_count": 18,
     "metadata": {},
     "output_type": "execute_result"
    }
   ],
   "source": [
    "serie2.describe()"
   ]
  },
  {
   "cell_type": "code",
   "execution_count": 19,
   "id": "24493845",
   "metadata": {},
   "outputs": [
    {
     "data": {
      "text/plain": [
       "<AxesSubplot: >"
      ]
     },
     "execution_count": 19,
     "metadata": {},
     "output_type": "execute_result"
    },
    {
     "data": {
      "image/png": "[encoded data removed]",
      "text/plain": [
       "<Figure size 640x480 with 1 Axes>"
      ]
     },
     "metadata": {},
     "output_type": "display_data"
    }
   ],
   "source": [
    "serie2.hist()"
   ]
  },
  {
   "cell_type": "code",
   "execution_count": null,
   "id": "2d86bbac",
   "metadata": {},
   "outputs": [],
   "source": []
  }
 ],
 "metadata": {
  "kernelspec": {
   "display_name": "Python 3 (ipykernel)",
   "language": "python",
   "name": "python3"
  },
  "language_info": {
   "codemirror_mode": {
    "name": "ipython",
    "version": 3
   },
   "file_extension": ".py",
   "mimetype": "text/x-python",
   "name": "python",
   "nbconvert_exporter": "python",
   "pygments_lexer": "ipython3",
   "version": "3.9.16"
  }
 },
 "nbformat": 4,
 "nbformat_minor": 5
}
