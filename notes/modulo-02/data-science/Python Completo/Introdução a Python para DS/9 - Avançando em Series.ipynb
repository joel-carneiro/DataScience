{
 "cells": [
  {
   "cell_type": "code",
   "execution_count": 1,
   "id": "301f7b1b",
   "metadata": {},
   "outputs": [],
   "source": [
    "import pandas as pd\n",
    "import numpy as np"
   ]
  },
  {
   "cell_type": "code",
   "execution_count": 2,
   "id": "05053014",
   "metadata": {},
   "outputs": [
    {
     "data": {
      "text/plain": [
       "array([ 1.,  2.,  3.,  4., nan])"
      ]
     },
     "execution_count": 2,
     "metadata": {},
     "output_type": "execute_result"
    }
   ],
   "source": [
    "array1 = np.array([1, 2, 3, 4, np.nan]); array1"
   ]
  },
  {
   "cell_type": "code",
   "execution_count": 4,
   "id": "fe8ec71e",
   "metadata": {},
   "outputs": [
    {
     "data": {
      "text/plain": [
       "nan"
      ]
     },
     "execution_count": 4,
     "metadata": {},
     "output_type": "execute_result"
    }
   ],
   "source": [
    "array1.mean()"
   ]
  },
  {
   "cell_type": "code",
   "execution_count": 5,
   "id": "d1d6723f",
   "metadata": {},
   "outputs": [
    {
     "data": {
      "text/plain": [
       "0    1.0\n",
       "1    2.0\n",
       "2    3.0\n",
       "3    4.0\n",
       "4    NaN\n",
       "dtype: float64"
      ]
     },
     "execution_count": 5,
     "metadata": {},
     "output_type": "execute_result"
    }
   ],
   "source": [
    "serie1 = pd.Series(array1); serie1"
   ]
  },
  {
   "cell_type": "code",
   "execution_count": 6,
   "id": "768bf2a4",
   "metadata": {},
   "outputs": [
    {
     "data": {
      "text/plain": [
       "2.5"
      ]
     },
     "execution_count": 6,
     "metadata": {},
     "output_type": "execute_result"
    }
   ],
   "source": [
    "serie1.mean()"
   ]
  },
  {
   "cell_type": "markdown",
   "id": "cdfae8f0",
   "metadata": {},
   "source": [
    "# 2 - Concatenando Series"
   ]
  },
  {
   "cell_type": "code",
   "execution_count": 7,
   "id": "52beead8",
   "metadata": {},
   "outputs": [
    {
     "data": {
      "text/plain": [
       "0    0.278132\n",
       "1    0.539467\n",
       "2    0.108607\n",
       "3    0.698290\n",
       "4    0.177972\n",
       "5    0.104035\n",
       "6    0.246336\n",
       "7    0.519495\n",
       "8    0.355631\n",
       "9    0.822556\n",
       "dtype: float64"
      ]
     },
     "execution_count": 7,
     "metadata": {},
     "output_type": "execute_result"
    }
   ],
   "source": [
    "serie2 = pd.Series(np.random.rand(10)); serie2"
   ]
  },
  {
   "cell_type": "code",
   "execution_count": 8,
   "id": "d6f53524",
   "metadata": {},
   "outputs": [
    {
     "data": {
      "text/plain": [
       "0    0.398018\n",
       "1    0.273901\n",
       "2    0.786953\n",
       "3    0.460175\n",
       "4    0.095074\n",
       "dtype: float64"
      ]
     },
     "execution_count": 8,
     "metadata": {},
     "output_type": "execute_result"
    }
   ],
   "source": [
    "serie3 = pd.Series(np.random.rand(5)); serie3"
   ]
  },
  {
   "cell_type": "code",
   "execution_count": 9,
   "id": "8dabe6ee",
   "metadata": {},
   "outputs": [
    {
     "data": {
      "text/plain": [
       "0    0.278132\n",
       "1    0.539467\n",
       "2    0.108607\n",
       "3    0.698290\n",
       "4    0.177972\n",
       "5    0.104035\n",
       "6    0.246336\n",
       "7    0.519495\n",
       "8    0.355631\n",
       "9    0.822556\n",
       "0    0.398018\n",
       "1    0.273901\n",
       "2    0.786953\n",
       "3    0.460175\n",
       "4    0.095074\n",
       "dtype: float64"
      ]
     },
     "execution_count": 9,
     "metadata": {},
     "output_type": "execute_result"
    }
   ],
   "source": [
    "series_concat = pd.concat([ serie2, serie3 ]); series_concat"
   ]
  },
  {
   "cell_type": "code",
   "execution_count": 10,
   "id": "803b940b",
   "metadata": {},
   "outputs": [
    {
     "data": {
      "text/plain": [
       "0    0.278132\n",
       "0    0.398018\n",
       "dtype: float64"
      ]
     },
     "execution_count": 10,
     "metadata": {},
     "output_type": "execute_result"
    }
   ],
   "source": [
    "series_concat[0]"
   ]
  },
  {
   "cell_type": "code",
   "execution_count": 11,
   "id": "90b9f9d4",
   "metadata": {},
   "outputs": [
    {
     "data": {
      "text/plain": [
       "0     0.278132\n",
       "1     0.539467\n",
       "2     0.108607\n",
       "3     0.698290\n",
       "4     0.177972\n",
       "5     0.104035\n",
       "6     0.246336\n",
       "7     0.519495\n",
       "8     0.355631\n",
       "9     0.822556\n",
       "10    0.398018\n",
       "11    0.273901\n",
       "12    0.786953\n",
       "13    0.460175\n",
       "14    0.095074\n",
       "dtype: float64"
      ]
     },
     "execution_count": 11,
     "metadata": {},
     "output_type": "execute_result"
    }
   ],
   "source": [
    "series_concat.index = range(len(series_concat)); series_concat"
   ]
  },
  {
   "cell_type": "code",
   "execution_count": 12,
   "id": "31664c1d",
   "metadata": {},
   "outputs": [
    {
     "data": {
      "text/plain": [
       "2     0.108607\n",
       "3     0.698290\n",
       "5     0.104035\n",
       "7     0.519495\n",
       "19         NaN\n",
       "23         NaN\n",
       "27         NaN\n",
       "dtype: float64"
      ]
     },
     "execution_count": 12,
     "metadata": {},
     "output_type": "execute_result"
    }
   ],
   "source": [
    "series_concat.reindex([2, 3, 5, 7, 19, 23, 27])"
   ]
  },
  {
   "cell_type": "code",
   "execution_count": 15,
   "id": "3fb8c6cd",
   "metadata": {},
   "outputs": [
    {
     "data": {
      "text/plain": [
       "2     0.108607\n",
       "3     0.698290\n",
       "5     0.104035\n",
       "7     0.519495\n",
       "19    0.000000\n",
       "23    0.000000\n",
       "27    0.000000\n",
       "dtype: float64"
      ]
     },
     "execution_count": 15,
     "metadata": {},
     "output_type": "execute_result"
    }
   ],
   "source": [
    "series_concat.reindex([2, 3, 5, 7, 19, 23, 27], fill_value = 0)"
   ]
  },
  {
   "cell_type": "code",
   "execution_count": 16,
   "id": "449d8ec8",
   "metadata": {},
   "outputs": [
    {
     "data": {
      "text/plain": [
       "2     0.108607\n",
       "3     0.698290\n",
       "5     0.104035\n",
       "7     0.519495\n",
       "19         NaN\n",
       "23         NaN\n",
       "27         NaN\n",
       "dtype: float64"
      ]
     },
     "execution_count": 16,
     "metadata": {},
     "output_type": "execute_result"
    }
   ],
   "source": [
    "serie4 = series_concat.reindex([2, 3, 5, 7, 19, 23, 27]); serie4"
   ]
  },
  {
   "cell_type": "code",
   "execution_count": 17,
   "id": "132d6442",
   "metadata": {},
   "outputs": [
    {
     "data": {
      "text/plain": [
       "2     0.108607\n",
       "3     0.698290\n",
       "5     0.104035\n",
       "7     0.519495\n",
       "19    0.519495\n",
       "23    0.519495\n",
       "27    0.519495\n",
       "dtype: float64"
      ]
     },
     "execution_count": 17,
     "metadata": {},
     "output_type": "execute_result"
    }
   ],
   "source": [
    "serie4.ffill()"
   ]
  },
  {
   "cell_type": "code",
   "execution_count": 18,
   "id": "1b45b072",
   "metadata": {},
   "outputs": [
    {
     "data": {
      "text/plain": [
       "2     0.108607\n",
       "3     0.698290\n",
       "5     0.104035\n",
       "7     0.519495\n",
       "19         NaN\n",
       "23         NaN\n",
       "27         NaN\n",
       "dtype: float64"
      ]
     },
     "execution_count": 18,
     "metadata": {},
     "output_type": "execute_result"
    }
   ],
   "source": [
    "serie4.bfill()"
   ]
  },
  {
   "cell_type": "code",
   "execution_count": 21,
   "id": "1ad4ef4e",
   "metadata": {},
   "outputs": [
    {
     "data": {
      "text/plain": [
       "2     0.108607\n",
       "3     0.698290\n",
       "5     0.104035\n",
       "7     0.519495\n",
       "19    0.357607\n",
       "23    0.357607\n",
       "27    0.357607\n",
       "dtype: float64"
      ]
     },
     "execution_count": 21,
     "metadata": {},
     "output_type": "execute_result"
    }
   ],
   "source": [
    "serie4.fillna(serie4.mean())"
   ]
  },
  {
   "cell_type": "code",
   "execution_count": 22,
   "id": "65092d6b",
   "metadata": {},
   "outputs": [
    {
     "data": {
      "text/plain": [
       "0   -0.146639\n",
       "1   -0.580918\n",
       "2    0.723750\n",
       "3   -1.434047\n",
       "4   -1.286333\n",
       "5   -0.738382\n",
       "6    0.768955\n",
       "7   -0.677688\n",
       "8   -0.668900\n",
       "9    1.645252\n",
       "dtype: float64"
      ]
     },
     "execution_count": 22,
     "metadata": {},
     "output_type": "execute_result"
    }
   ],
   "source": [
    "s1 = pd.Series(np.random.randn(10)); s1"
   ]
  },
  {
   "cell_type": "code",
   "execution_count": 23,
   "id": "85361fcf",
   "metadata": {},
   "outputs": [
    {
     "data": {
      "text/plain": [
       "0   -0.203806\n",
       "1   -0.656624\n",
       "2    0.519653\n",
       "3    0.358064\n",
       "4    0.176197\n",
       "5   -0.787732\n",
       "6    1.050381\n",
       "7   -1.268064\n",
       "8    1.729063\n",
       "9    0.427829\n",
       "dtype: float64"
      ]
     },
     "execution_count": 23,
     "metadata": {},
     "output_type": "execute_result"
    }
   ],
   "source": [
    "s2 = pd.Series(np.random.randn(10)); s2"
   ]
  },
  {
   "cell_type": "code",
   "execution_count": 24,
   "id": "140296cc",
   "metadata": {},
   "outputs": [
    {
     "data": {
      "text/plain": [
       "0   -0.350445\n",
       "1   -1.237542\n",
       "2    1.243402\n",
       "3   -1.075982\n",
       "4   -1.110136\n",
       "5   -1.526114\n",
       "6    1.819336\n",
       "7   -1.945752\n",
       "8    1.060163\n",
       "9    2.073081\n",
       "dtype: float64"
      ]
     },
     "execution_count": 24,
     "metadata": {},
     "output_type": "execute_result"
    }
   ],
   "source": [
    "s1 + s2"
   ]
  },
  {
   "cell_type": "code",
   "execution_count": 25,
   "id": "3c75db38",
   "metadata": {},
   "outputs": [
    {
     "data": {
      "text/plain": [
       "3    -0.203806\n",
       "4    -0.656624\n",
       "5     0.519653\n",
       "6     0.358064\n",
       "7     0.176197\n",
       "8    -0.787732\n",
       "9     1.050381\n",
       "10   -1.268064\n",
       "11    1.729063\n",
       "12    0.427829\n",
       "dtype: float64"
      ]
     },
     "execution_count": 25,
     "metadata": {},
     "output_type": "execute_result"
    }
   ],
   "source": [
    "s2.index = list(range(3, 13, 1)); s2"
   ]
  },
  {
   "cell_type": "code",
   "execution_count": 26,
   "id": "9e1930e0",
   "metadata": {},
   "outputs": [
    {
     "data": {
      "text/plain": [
       "0          NaN\n",
       "1          NaN\n",
       "2          NaN\n",
       "3    -1.637853\n",
       "4    -1.942957\n",
       "5    -0.218729\n",
       "6     1.127020\n",
       "7    -0.501491\n",
       "8    -1.456632\n",
       "9     2.695632\n",
       "10         NaN\n",
       "11         NaN\n",
       "12         NaN\n",
       "dtype: float64"
      ]
     },
     "execution_count": 26,
     "metadata": {},
     "output_type": "execute_result"
    }
   ],
   "source": [
    "s1 + s2"
   ]
  },
  {
   "cell_type": "code",
   "execution_count": 27,
   "id": "0061250a",
   "metadata": {},
   "outputs": [
    {
     "data": {
      "text/plain": [
       "0    0.021503\n",
       "1    0.337465\n",
       "2    0.523814\n",
       "3    2.056490\n",
       "4    1.654652\n",
       "5    0.545207\n",
       "6    0.591292\n",
       "7    0.459261\n",
       "8    0.447427\n",
       "9    2.706853\n",
       "dtype: float64"
      ]
     },
     "execution_count": 27,
     "metadata": {},
     "output_type": "execute_result"
    }
   ],
   "source": [
    "s1.map(lambda x : x ** 2)"
   ]
  },
  {
   "cell_type": "code",
   "execution_count": 28,
   "id": "de724486",
   "metadata": {},
   "outputs": [
    {
     "data": {
      "text/plain": [
       "0    0.021503\n",
       "1    0.337465\n",
       "2    0.523814\n",
       "3    2.056490\n",
       "4    1.654652\n",
       "5    0.545207\n",
       "6    0.591292\n",
       "7    0.459261\n",
       "8    0.447427\n",
       "9    2.706853\n",
       "dtype: float64"
      ]
     },
     "execution_count": 28,
     "metadata": {},
     "output_type": "execute_result"
    }
   ],
   "source": [
    "s1.apply(lambda x : x ** 2)"
   ]
  },
  {
   "cell_type": "code",
   "execution_count": 29,
   "id": "a4a5292b",
   "metadata": {},
   "outputs": [
    {
     "data": {
      "text/plain": [
       "0    True\n",
       "1    True\n",
       "2    True\n",
       "3    True\n",
       "4    True\n",
       "5    True\n",
       "6    True\n",
       "7    True\n",
       "8    True\n",
       "9    True\n",
       "dtype: bool"
      ]
     },
     "execution_count": 29,
     "metadata": {},
     "output_type": "execute_result"
    }
   ],
   "source": [
    "s1.map(lambda x : x ** 2) == s1.apply(lambda x : x ** 2)"
   ]
  },
  {
   "cell_type": "code",
   "execution_count": null,
   "id": "9b76dd62",
   "metadata": {},
   "outputs": [],
   "source": []
  }
 ],
 "metadata": {
  "kernelspec": {
   "display_name": "Python 3 (ipykernel)",
   "language": "python",
   "name": "python3"
  },
  "language_info": {
   "codemirror_mode": {
    "name": "ipython",
    "version": 3
   },
   "file_extension": ".py",
   "mimetype": "text/x-python",
   "name": "python",
   "nbconvert_exporter": "python",
   "pygments_lexer": "ipython3",
   "version": "3.9.16"
  }
 },
 "nbformat": 4,
 "nbformat_minor": 5
}
