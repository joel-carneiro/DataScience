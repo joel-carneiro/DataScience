{
 "cells": [
  {
   "cell_type": "code",
   "execution_count": 1,
   "id": "bfe6c90e",
   "metadata": {},
   "outputs": [],
   "source": [
    "# Importando o módulo numpy\n",
    "import numpy as np"
   ]
  },
  {
   "cell_type": "code",
   "execution_count": 2,
   "id": "9864affb",
   "metadata": {},
   "outputs": [
    {
     "data": {
      "text/plain": [
       "array([[1, 2, 3],\n",
       "       [4, 5, 6]])"
      ]
     },
     "execution_count": 2,
     "metadata": {},
     "output_type": "execute_result"
    }
   ],
   "source": [
    "# Instânciando um objeto do tipo array numpy\n",
    "array1 = np.array([[1, 2, 3], [4, 5, 6]]); array1"
   ]
  },
  {
   "cell_type": "code",
   "execution_count": 3,
   "id": "2cfdecd3",
   "metadata": {},
   "outputs": [
    {
     "data": {
      "text/plain": [
       "array([[1, 4],\n",
       "       [2, 5],\n",
       "       [3, 6]])"
      ]
     },
     "execution_count": 3,
     "metadata": {},
     "output_type": "execute_result"
    }
   ],
   "source": [
    "# Acessando o atributo que guarda a transposta da matriz\n",
    "array1.T"
   ]
  },
  {
   "cell_type": "code",
   "execution_count": 4,
   "id": "3bf514b1",
   "metadata": {},
   "outputs": [
    {
     "data": {
      "text/plain": [
       "array([[1, 4],\n",
       "       [2, 5],\n",
       "       [3, 6]])"
      ]
     },
     "execution_count": 4,
     "metadata": {},
     "output_type": "execute_result"
    }
   ],
   "source": [
    "# Utilizando o método numpy para fazer a transposta da matriz\n",
    "np.transpose(array1)"
   ]
  },
  {
   "cell_type": "code",
   "execution_count": 11,
   "id": "f9d645e5",
   "metadata": {},
   "outputs": [
    {
     "data": {
      "text/plain": [
       "True"
      ]
     },
     "execution_count": 11,
     "metadata": {},
     "output_type": "execute_result"
    }
   ],
   "source": [
    "# Criando uma função para verificar se uma matriz é simétrica\n",
    "matrix_is_symmetric = lambda matrix : np.all((np.transpose(matrix) == matrix))\n",
    "                                            \n",
    "# Criando uma matrix simétrica\n",
    "A = np.array([\n",
    "    [5, 1, 2],\n",
    "    [1, 6, 3],\n",
    "    [2, 3, 8]\n",
    "])\n",
    "\n",
    "# Verificando se a matriz é simétrica\n",
    "matrix_is_symmetric(A)"
   ]
  },
  {
   "cell_type": "code",
   "execution_count": 6,
   "id": "a487616d",
   "metadata": {},
   "outputs": [
    {
     "data": {
      "text/plain": [
       "array([[0, 1, 2, 3, 4],\n",
       "       [5, 6, 7, 8, 9]])"
      ]
     },
     "execution_count": 6,
     "metadata": {},
     "output_type": "execute_result"
    }
   ],
   "source": [
    "# Criando um array bidimensional qualquer\n",
    "array2 = np.array([range(5), range(5, 10)]); array2"
   ]
  },
  {
   "cell_type": "code",
   "execution_count": 7,
   "id": "fe818efd",
   "metadata": {},
   "outputs": [
    {
     "data": {
      "text/plain": [
       "array([0, 1, 2, 3, 4, 5, 6, 7, 8, 9])"
      ]
     },
     "execution_count": 7,
     "metadata": {},
     "output_type": "execute_result"
    }
   ],
   "source": [
    "# Planificando uma matriz\n",
    "array2.ravel()"
   ]
  },
  {
   "cell_type": "code",
   "execution_count": 8,
   "id": "8e0274ec",
   "metadata": {},
   "outputs": [
    {
     "data": {
      "text/plain": [
       "array([[7, 1, 7, 0],\n",
       "       [9, 3, 5, 3],\n",
       "       [6, 1, 2, 6],\n",
       "       [3, 0, 1, 2]])"
      ]
     },
     "execution_count": 8,
     "metadata": {},
     "output_type": "execute_result"
    }
   ],
   "source": [
    "# Criando uma matriz de valores aleatorios\n",
    "array3 = np.random.randint(0, 10, size=(4, 4)); array3"
   ]
  },
  {
   "cell_type": "code",
   "execution_count": 9,
   "id": "6cf4fcca",
   "metadata": {},
   "outputs": [
    {
     "data": {
      "text/plain": [
       "True"
      ]
     },
     "execution_count": 9,
     "metadata": {},
     "output_type": "execute_result"
    }
   ],
   "source": [
    "np.all(array3 < 11)"
   ]
  },
  {
   "cell_type": "code",
   "execution_count": 12,
   "id": "7dd7b654",
   "metadata": {},
   "outputs": [
    {
     "data": {
      "text/plain": [
       "array([[6, 5, 2, 7, 7],\n",
       "       [9, 6, 8, 7, 9],\n",
       "       [8, 6, 2, 6, 2],\n",
       "       [9, 3, 2, 7, 9],\n",
       "       [0, 3, 6, 9, 2]])"
      ]
     },
     "execution_count": 12,
     "metadata": {},
     "output_type": "execute_result"
    }
   ],
   "source": [
    "# Ordenando o nosso array\n",
    "array4 = np.random.randint(0, 10, size=(5, 5)); array4"
   ]
  },
  {
   "cell_type": "code",
   "execution_count": 16,
   "id": "7713de8c",
   "metadata": {
    "scrolled": true
   },
   "outputs": [
    {
     "data": {
      "text/plain": [
       "array([[0, 2, 3, 6, 7],\n",
       "       [2, 2, 6, 6, 8],\n",
       "       [2, 3, 6, 7, 9],\n",
       "       [2, 5, 7, 9, 9],\n",
       "       [6, 7, 8, 9, 9]])"
      ]
     },
     "execution_count": 16,
     "metadata": {},
     "output_type": "execute_result"
    }
   ],
   "source": [
    "# Ordenando pelas colunas\n",
    "array4.sort(axis=0); array4"
   ]
  },
  {
   "cell_type": "code",
   "execution_count": 17,
   "id": "41684707",
   "metadata": {},
   "outputs": [
    {
     "data": {
      "text/plain": [
       "array([[7, 6, 3, 0, 7, 9, 2, 5, 1, 9],\n",
       "       [5, 7, 2, 6, 7, 4, 2, 0, 5, 0],\n",
       "       [7, 1, 7, 9, 2, 2, 3, 4, 3, 7],\n",
       "       [3, 3, 9, 7, 9, 5, 3, 5, 9, 0],\n",
       "       [1, 1, 5, 6, 2, 6, 4, 7, 3, 1],\n",
       "       [8, 3, 3, 2, 6, 4, 6, 3, 6, 3],\n",
       "       [4, 9, 2, 0, 2, 5, 9, 0, 5, 0],\n",
       "       [5, 1, 6, 1, 6, 3, 3, 3, 0, 6],\n",
       "       [8, 8, 1, 8, 1, 2, 7, 0, 9, 5],\n",
       "       [2, 2, 0, 6, 6, 9, 9, 7, 7, 8]])"
      ]
     },
     "execution_count": 17,
     "metadata": {},
     "output_type": "execute_result"
    }
   ],
   "source": [
    "array5 = np.random.randint(0, 10, size=(10, 10)); array5"
   ]
  },
  {
   "cell_type": "code",
   "execution_count": 18,
   "id": "6acef2ba",
   "metadata": {},
   "outputs": [
    {
     "data": {
      "text/plain": [
       "array([[7, 6, 3, 0, 7, 9, 2, 5, 1, 9, 5, 7, 2, 6, 7, 4, 2, 0, 5, 0],\n",
       "       [7, 1, 7, 9, 2, 2, 3, 4, 3, 7, 3, 3, 9, 7, 9, 5, 3, 5, 9, 0],\n",
       "       [1, 1, 5, 6, 2, 6, 4, 7, 3, 1, 8, 3, 3, 2, 6, 4, 6, 3, 6, 3],\n",
       "       [4, 9, 2, 0, 2, 5, 9, 0, 5, 0, 5, 1, 6, 1, 6, 3, 3, 3, 0, 6],\n",
       "       [8, 8, 1, 8, 1, 2, 7, 0, 9, 5, 2, 2, 0, 6, 6, 9, 9, 7, 7, 8]])"
      ]
     },
     "execution_count": 18,
     "metadata": {},
     "output_type": "execute_result"
    }
   ],
   "source": [
    "np.reshape(array5, newshape=(5, 20))"
   ]
  },
  {
   "cell_type": "code",
   "execution_count": null,
   "id": "f20f59c5",
   "metadata": {},
   "outputs": [],
   "source": []
  }
 ],
 "metadata": {
  "kernelspec": {
   "display_name": "Python 3 (ipykernel)",
   "language": "python",
   "name": "python3"
  },
  "language_info": {
   "codemirror_mode": {
    "name": "ipython",
    "version": 3
   },
   "file_extension": ".py",
   "mimetype": "text/x-python",
   "name": "python",
   "nbconvert_exporter": "python",
   "pygments_lexer": "ipython3",
   "version": "3.9.16"
  }
 },
 "nbformat": 4,
 "nbformat_minor": 5
}
