{
 "cells": [
  {
   "cell_type": "markdown",
   "id": "0ad38b03",
   "metadata": {},
   "source": [
    "# 1 - Introdução a Matrizes "
   ]
  },
  {
   "cell_type": "code",
   "execution_count": 1,
   "id": "622bef02",
   "metadata": {},
   "outputs": [],
   "source": [
    "# Importando o módulo numpy\n",
    "import numpy as np"
   ]
  },
  {
   "cell_type": "code",
   "execution_count": 2,
   "id": "0d162183",
   "metadata": {},
   "outputs": [
    {
     "data": {
      "text/plain": [
       "array([[[ 4,  2,  8,  6,  7],\n",
       "        [ 8,  9,  0,  0,  9],\n",
       "        [ 8, 10,  4,  0,  8],\n",
       "        [ 3,  4,  3,  0,  1],\n",
       "        [ 1,  9,  7,  7,  9]],\n",
       "\n",
       "       [[ 0,  3,  4,  9,  5],\n",
       "        [ 3, 10,  6,  5,  3],\n",
       "        [ 9,  4,  5,  5,  1],\n",
       "        [ 5,  2, 10,  8,  6],\n",
       "        [ 1,  1,  5,  0,  8]],\n",
       "\n",
       "       [[ 6,  8,  8,  5,  0],\n",
       "        [10,  5,  1,  7,  7],\n",
       "        [ 2,  2,  7,  8,  0],\n",
       "        [ 6,  2,  8,  9,  8],\n",
       "        [ 2,  4,  3, 10,  8]],\n",
       "\n",
       "       [[ 4,  6,  2,  7,  0],\n",
       "        [ 0, 10,  1,  4,  2],\n",
       "        [ 2,  8,  3,  0,  6],\n",
       "        [ 1,  2,  4,  3,  8],\n",
       "        [10,  3,  7,  7,  5]],\n",
       "\n",
       "       [[ 7,  3,  4,  4,  6],\n",
       "        [ 7,  6,  5, 10,  5],\n",
       "        [ 7,  9, 10, 10,  1],\n",
       "        [ 1,  3,  8,  3,  4],\n",
       "        [ 4,  9,  8, 10,  4]]])"
      ]
     },
     "execution_count": 2,
     "metadata": {},
     "output_type": "execute_result"
    }
   ],
   "source": [
    "# Arrays numpy possuem N dimensões possíveis\n",
    "array1 = np.random.randint(0, 11, size=(5, 5, 5)); array1"
   ]
  },
  {
   "cell_type": "code",
   "execution_count": 3,
   "id": "7c8ddbfd",
   "metadata": {},
   "outputs": [
    {
     "data": {
      "text/plain": [
       "matrix([[5, 2, 3],\n",
       "        [1, 2, 3],\n",
       "        [7, 8, 9]])"
      ]
     },
     "execution_count": 3,
     "metadata": {},
     "output_type": "execute_result"
    }
   ],
   "source": [
    "# Matrizes numpy possuem restritamente 2 dimensões\n",
    "matrix1 = np.matrix([[5, 2, 3], [1, 2, 3], [7, 8, 9]]); matrix1"
   ]
  },
  {
   "cell_type": "code",
   "execution_count": 4,
   "id": "a41f3f0e",
   "metadata": {},
   "outputs": [
    {
     "data": {
      "text/plain": [
       "matrix([[5, 1, 7],\n",
       "        [2, 2, 8],\n",
       "        [3, 3, 9]])"
      ]
     },
     "execution_count": 4,
     "metadata": {},
     "output_type": "execute_result"
    }
   ],
   "source": [
    "# Transposta da matriz\n",
    "matrix1.T"
   ]
  },
  {
   "cell_type": "code",
   "execution_count": 5,
   "id": "d530d142",
   "metadata": {},
   "outputs": [
    {
     "data": {
      "text/plain": [
       "numpy.matrix"
      ]
     },
     "execution_count": 5,
     "metadata": {},
     "output_type": "execute_result"
    }
   ],
   "source": [
    "# Visualizando o tipo da matrix\n",
    "type(matrix1)"
   ]
  },
  {
   "cell_type": "code",
   "execution_count": 6,
   "id": "3b8a987a",
   "metadata": {},
   "outputs": [
    {
     "data": {
      "text/plain": [
       "matrix([[ 0.25      , -0.25      ,  0.        ],\n",
       "        [-0.5       , -1.        ,  0.5       ],\n",
       "        [ 0.25      ,  1.08333333, -0.33333333]])"
      ]
     },
     "execution_count": 6,
     "metadata": {},
     "output_type": "execute_result"
    }
   ],
   "source": [
    "# Inversa da matriz\n",
    "matrix1.I"
   ]
  },
  {
   "cell_type": "code",
   "execution_count": 7,
   "id": "be58cb3c",
   "metadata": {},
   "outputs": [
    {
     "data": {
      "text/plain": [
       "matrix([[5, 1, 7],\n",
       "        [2, 2, 8],\n",
       "        [3, 3, 9]])"
      ]
     },
     "execution_count": 7,
     "metadata": {},
     "output_type": "execute_result"
    }
   ],
   "source": [
    "# Transposta Conjugada\n",
    "matrix1.H"
   ]
  },
  {
   "cell_type": "code",
   "execution_count": 8,
   "id": "e4bf357b",
   "metadata": {},
   "outputs": [
    {
     "data": {
      "text/plain": [
       "matrix([[ 1.00000000e+00,  1.11022302e-16,  2.22044605e-16],\n",
       "        [-4.44089210e-16,  1.00000000e+00,  0.00000000e+00],\n",
       "        [ 2.77555756e-16,  0.00000000e+00,  1.00000000e+00]])"
      ]
     },
     "execution_count": 8,
     "metadata": {},
     "output_type": "execute_result"
    }
   ],
   "source": [
    "# Gerando uma matriz indentidade\n",
    "matrix1.I * matrix1"
   ]
  },
  {
   "cell_type": "markdown",
   "id": "c1dba2b9",
   "metadata": {},
   "source": [
    "# 2 - Operações com Matrizes"
   ]
  },
  {
   "cell_type": "code",
   "execution_count": 9,
   "id": "af40cb6f",
   "metadata": {},
   "outputs": [
    {
     "data": {
      "text/plain": [
       "array([[1, 2],\n",
       "       [4, 5]])"
      ]
     },
     "execution_count": 9,
     "metadata": {},
     "output_type": "execute_result"
    }
   ],
   "source": [
    "# Criando um array bidimensional\n",
    "a = np.array([[1, 2], [4, 5]])\n",
    "a"
   ]
  },
  {
   "cell_type": "code",
   "execution_count": 10,
   "id": "13dfdb49",
   "metadata": {},
   "outputs": [
    {
     "data": {
      "text/plain": [
       "array([[ 1,  4],\n",
       "       [16, 25]])"
      ]
     },
     "execution_count": 10,
     "metadata": {},
     "output_type": "execute_result"
    }
   ],
   "source": [
    "a * a"
   ]
  },
  {
   "cell_type": "code",
   "execution_count": 11,
   "id": "32f0fa90",
   "metadata": {},
   "outputs": [
    {
     "data": {
      "text/plain": [
       "matrix([[1, 2],\n",
       "        [4, 5]])"
      ]
     },
     "execution_count": 11,
     "metadata": {},
     "output_type": "execute_result"
    }
   ],
   "source": [
    "# Criando uma matriz\n",
    "A = np.matrix(a)\n",
    "A"
   ]
  },
  {
   "cell_type": "code",
   "execution_count": 12,
   "id": "b647da38",
   "metadata": {},
   "outputs": [
    {
     "data": {
      "text/plain": [
       "matrix([[ 9, 12],\n",
       "        [24, 33]])"
      ]
     },
     "execution_count": 12,
     "metadata": {},
     "output_type": "execute_result"
    }
   ],
   "source": [
    "A * A"
   ]
  },
  {
   "cell_type": "code",
   "execution_count": null,
   "id": "66645d3a",
   "metadata": {},
   "outputs": [],
   "source": []
  }
 ],
 "metadata": {
  "kernelspec": {
   "display_name": "Python 3 (ipykernel)",
   "language": "python",
   "name": "python3"
  },
  "language_info": {
   "codemirror_mode": {
    "name": "ipython",
    "version": 3
   },
   "file_extension": ".py",
   "mimetype": "text/x-python",
   "name": "python",
   "nbconvert_exporter": "python",
   "pygments_lexer": "ipython3",
   "version": "3.9.16"
  }
 },
 "nbformat": 4,
 "nbformat_minor": 5
}
