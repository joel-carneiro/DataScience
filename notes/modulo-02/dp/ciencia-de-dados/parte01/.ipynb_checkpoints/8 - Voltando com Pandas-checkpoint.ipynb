{
 "cells": [
  {
   "cell_type": "code",
   "execution_count": 1,
   "id": "fe7800d4",
   "metadata": {},
   "outputs": [],
   "source": [
    "import pandas as pd\n",
    "import numpy as np"
   ]
  },
  {
   "cell_type": "code",
   "execution_count": 2,
   "id": "cd2867cd",
   "metadata": {},
   "outputs": [
    {
     "data": {
      "text/plain": [
       "0      0\n",
       "1      1\n",
       "2      2\n",
       "3      3\n",
       "4      4\n",
       "5      5\n",
       "6      6\n",
       "7      7\n",
       "8      8\n",
       "9      9\n",
       "10    10\n",
       "11    11\n",
       "12    12\n",
       "13    13\n",
       "14    14\n",
       "15    15\n",
       "16    16\n",
       "17    17\n",
       "18    18\n",
       "19    19\n",
       "20    20\n",
       "21    21\n",
       "22    22\n",
       "23    23\n",
       "24    24\n",
       "25    25\n",
       "dtype: int64"
      ]
     },
     "execution_count": 2,
     "metadata": {},
     "output_type": "execute_result"
    }
   ],
   "source": [
    "serie1 = pd.Series(np.arange(26)); serie1"
   ]
  },
  {
   "cell_type": "code",
   "execution_count": 3,
   "id": "1b9d89b6",
   "metadata": {},
   "outputs": [],
   "source": [
    "import string"
   ]
  },
  {
   "cell_type": "code",
   "execution_count": 4,
   "id": "e4ec53ae",
   "metadata": {},
   "outputs": [],
   "source": [
    "lower_case = string.ascii_lowercase\n",
    "upper_case = string.ascii_uppercase"
   ]
  },
  {
   "cell_type": "code",
   "execution_count": 5,
   "id": "6ab69856",
   "metadata": {},
   "outputs": [
    {
     "data": {
      "text/plain": [
       "'abcdefghijklmnopqrstuvwxyz'"
      ]
     },
     "execution_count": 5,
     "metadata": {},
     "output_type": "execute_result"
    }
   ],
   "source": [
    "lower_case"
   ]
  },
  {
   "cell_type": "code",
   "execution_count": 6,
   "id": "d22b1e17",
   "metadata": {},
   "outputs": [
    {
     "data": {
      "text/plain": [
       "'ABCDEFGHIJKLMNOPQRSTUVWXYZ'"
      ]
     },
     "execution_count": 6,
     "metadata": {},
     "output_type": "execute_result"
    }
   ],
   "source": [
    "upper_case"
   ]
  },
  {
   "cell_type": "code",
   "execution_count": 7,
   "id": "973cb437",
   "metadata": {},
   "outputs": [],
   "source": [
    "serie1.index = list(lower_case)"
   ]
  },
  {
   "cell_type": "code",
   "execution_count": 8,
   "id": "02d0f461",
   "metadata": {},
   "outputs": [
    {
     "data": {
      "text/plain": [
       "a     0\n",
       "b     1\n",
       "c     2\n",
       "d     3\n",
       "e     4\n",
       "f     5\n",
       "g     6\n",
       "h     7\n",
       "i     8\n",
       "j     9\n",
       "k    10\n",
       "l    11\n",
       "m    12\n",
       "n    13\n",
       "o    14\n",
       "p    15\n",
       "q    16\n",
       "r    17\n",
       "s    18\n",
       "t    19\n",
       "u    20\n",
       "v    21\n",
       "w    22\n",
       "x    23\n",
       "y    24\n",
       "z    25\n",
       "dtype: int64"
      ]
     },
     "execution_count": 8,
     "metadata": {},
     "output_type": "execute_result"
    }
   ],
   "source": [
    "serie1"
   ]
  },
  {
   "cell_type": "code",
   "execution_count": 9,
   "id": "4aad5a03",
   "metadata": {},
   "outputs": [
    {
     "data": {
      "text/plain": [
       "b    1\n",
       "c    2\n",
       "d    3\n",
       "e    4\n",
       "f    5\n",
       "g    6\n",
       "h    7\n",
       "dtype: int64"
      ]
     },
     "execution_count": 9,
     "metadata": {},
     "output_type": "execute_result"
    }
   ],
   "source": [
    "serie1['b':'h']"
   ]
  },
  {
   "cell_type": "code",
   "execution_count": 10,
   "id": "f1324cf2",
   "metadata": {},
   "outputs": [
    {
     "data": {
      "text/plain": [
       "0      5\n",
       "1      9\n",
       "2      0\n",
       "3     10\n",
       "4     24\n",
       "5     14\n",
       "6     22\n",
       "7     17\n",
       "8      5\n",
       "9     25\n",
       "10    24\n",
       "11    19\n",
       "12     2\n",
       "13     8\n",
       "14    23\n",
       "15    16\n",
       "16    15\n",
       "17     0\n",
       "18    22\n",
       "19    22\n",
       "20    11\n",
       "21    20\n",
       "22     6\n",
       "23     4\n",
       "24    12\n",
       "25    20\n",
       "26    16\n",
       "27    12\n",
       "28    21\n",
       "29     4\n",
       "dtype: int64"
      ]
     },
     "execution_count": 10,
     "metadata": {},
     "output_type": "execute_result"
    }
   ],
   "source": [
    "serie2 = pd.Series(np.random.randint(0, 26, 30)); serie2"
   ]
  },
  {
   "cell_type": "code",
   "execution_count": 11,
   "id": "41601300",
   "metadata": {},
   "outputs": [
    {
     "data": {
      "text/plain": [
       "13.6"
      ]
     },
     "execution_count": 11,
     "metadata": {},
     "output_type": "execute_result"
    }
   ],
   "source": [
    "serie2.mean()"
   ]
  },
  {
   "cell_type": "code",
   "execution_count": 12,
   "id": "6da0732c",
   "metadata": {},
   "outputs": [
    {
     "data": {
      "text/plain": [
       "14.5"
      ]
     },
     "execution_count": 12,
     "metadata": {},
     "output_type": "execute_result"
    }
   ],
   "source": [
    "serie2.median()"
   ]
  },
  {
   "cell_type": "code",
   "execution_count": 13,
   "id": "f3188162",
   "metadata": {},
   "outputs": [
    {
     "data": {
      "text/plain": [
       "0    22\n",
       "dtype: int64"
      ]
     },
     "execution_count": 13,
     "metadata": {},
     "output_type": "execute_result"
    }
   ],
   "source": [
    "serie2.mode()"
   ]
  },
  {
   "cell_type": "code",
   "execution_count": 14,
   "id": "d04a0cbb",
   "metadata": {},
   "outputs": [
    {
     "data": {
      "text/plain": [
       "array([ 5,  9,  0, 10, 24, 14, 22, 17, 25, 19,  2,  8, 23, 16, 15, 11, 20,\n",
       "        6,  4, 12, 21])"
      ]
     },
     "execution_count": 14,
     "metadata": {},
     "output_type": "execute_result"
    }
   ],
   "source": [
    "serie2.unique()"
   ]
  },
  {
   "cell_type": "code",
   "execution_count": 15,
   "id": "79edd208",
   "metadata": {},
   "outputs": [
    {
     "data": {
      "text/plain": [
       "22    3\n",
       "5     2\n",
       "0     2\n",
       "12    2\n",
       "24    2\n",
       "4     2\n",
       "20    2\n",
       "16    2\n",
       "23    1\n",
       "6     1\n",
       "11    1\n",
       "15    1\n",
       "2     1\n",
       "8     1\n",
       "9     1\n",
       "19    1\n",
       "25    1\n",
       "17    1\n",
       "14    1\n",
       "10    1\n",
       "21    1\n",
       "dtype: int64"
      ]
     },
     "execution_count": 15,
     "metadata": {},
     "output_type": "execute_result"
    }
   ],
   "source": [
    "serie2.value_counts()"
   ]
  },
  {
   "cell_type": "code",
   "execution_count": 16,
   "id": "41dea0ad",
   "metadata": {},
   "outputs": [
    {
     "data": {
      "text/plain": [
       "count    30.000000\n",
       "mean     13.600000\n",
       "std       7.898494\n",
       "min       0.000000\n",
       "25%       6.500000\n",
       "50%      14.500000\n",
       "75%      20.750000\n",
       "max      25.000000\n",
       "dtype: float64"
      ]
     },
     "execution_count": 16,
     "metadata": {},
     "output_type": "execute_result"
    }
   ],
   "source": [
    "serie2.describe()"
   ]
  },
  {
   "cell_type": "code",
   "execution_count": null,
   "id": "24493845",
   "metadata": {},
   "outputs": [],
   "source": [
    "serie2.hist()"
   ]
  },
  {
   "cell_type": "code",
   "execution_count": null,
   "id": "2d86bbac",
   "metadata": {},
   "outputs": [],
   "source": []
  }
 ],
 "metadata": {
  "kernelspec": {
   "display_name": "Python 3 (ipykernel)",
   "language": "python",
   "name": "python3"
  },
  "language_info": {
   "codemirror_mode": {
    "name": "ipython",
    "version": 3
   },
   "file_extension": ".py",
   "mimetype": "text/x-python",
   "name": "python",
   "nbconvert_exporter": "python",
   "pygments_lexer": "ipython3",
   "version": "3.9.16"
  }
 },
 "nbformat": 4,
 "nbformat_minor": 5
}
