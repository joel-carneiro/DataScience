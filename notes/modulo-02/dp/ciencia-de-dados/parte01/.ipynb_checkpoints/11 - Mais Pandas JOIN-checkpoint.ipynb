{
 "cells": [
  {
   "cell_type": "code",
   "execution_count": null,
   "id": "1d5f141f",
   "metadata": {},
   "outputs": [],
   "source": [
    "import pandas as pd\n",
    "\n",
    "import numpy as np\n",
    "\n",
    "import matplotlib.pyplot as plt"
   ]
  },
  {
   "cell_type": "code",
   "execution_count": null,
   "id": "32d16732",
   "metadata": {},
   "outputs": [],
   "source": [
    "df = pd.read_csv('/home/joeldspy/Downloads/london_merged.csv', sep=',')"
   ]
  },
  {
   "cell_type": "code",
   "execution_count": null,
   "id": "2d6bfb7c",
   "metadata": {
    "scrolled": true
   },
   "outputs": [],
   "source": [
    "df.head(10)"
   ]
  },
  {
   "cell_type": "markdown",
   "id": "8830fe95",
   "metadata": {},
   "source": [
    "- \"timestamp\" - campo de registro de data/hora para agrupar os dados\n",
    "- \"cnt\" - a contagem de novas compartilhamentos de bicicletas\n",
    "- \"t1\" - temperatura real em graus Celsius\n",
    "- \"t2\" - temperatura em graus Celsius \"sensação térmica\"\n",
    "- \"hum\" - umidade em porcentagem\n",
    "- \"wind_speed\" - velocidade do vento em km/h\n",
    "- \"weather_code\" - categoria do clima\n",
    "- \"is_holiday\" - campo booleano - 1 feriado / 0 não é feriado\n",
    "- \"is_weekend\" - campo booleano - 1 se o dia é fim de semana\n",
    "- \"season\" - campo de categoria das estações meteorológicas: 0-primavera; 1-verão; 2-outono; 3-inverno.\n",
    "\n",
    "- Descrição de categoria \"weather_code\":\n",
    "1 = Céu limpo; principalmente limpo, mas com alguns valores de neblina / nevoeiro / manchas de nevoeiro / nevoeiro nas proximidades\n",
    "2 = Nuvens dispersas / poucas nuvens\n",
    "3 = Nuvens quebradas\n",
    "4 = Nublado\n",
    "7 = Chuva / chuva leve / chuveiros de chuva leve\n",
    "10 = Chuva com tempestade\n",
    "26 = Neve\n",
    "94 = Nevoeiro congelante"
   ]
  },
  {
   "cell_type": "code",
   "execution_count": null,
   "id": "7f1c5037",
   "metadata": {},
   "outputs": [],
   "source": [
    "df.dtypes"
   ]
  },
  {
   "cell_type": "code",
   "execution_count": null,
   "id": "2a83dd63",
   "metadata": {},
   "outputs": [],
   "source": [
    "df.columns"
   ]
  },
  {
   "cell_type": "code",
   "execution_count": null,
   "id": "88ac5e84",
   "metadata": {},
   "outputs": [],
   "source": [
    "df['timestamp'] = pd.to_datetime(df['timestamp']); df"
   ]
  },
  {
   "cell_type": "code",
   "execution_count": null,
   "id": "9b80d580",
   "metadata": {},
   "outputs": [],
   "source": [
    "df['timestamp'] = df['timestamp'].apply(lambda datetime : f'{datetime.year}-{datetime.month}-{datetime.day}') "
   ]
  },
  {
   "cell_type": "code",
   "execution_count": null,
   "id": "3dfbaf37",
   "metadata": {},
   "outputs": [],
   "source": [
    "df['timestamp'] = pd.to_datetime(df['timestamp'])"
   ]
  },
  {
   "cell_type": "code",
   "execution_count": null,
   "id": "e9161b02",
   "metadata": {},
   "outputs": [],
   "source": [
    "df.head()"
   ]
  },
  {
   "cell_type": "code",
   "execution_count": null,
   "id": "e47b18e3",
   "metadata": {
    "scrolled": false
   },
   "outputs": [],
   "source": [
    "plt.plot(df['timestamp'], df['cnt'])"
   ]
  },
  {
   "cell_type": "code",
   "execution_count": null,
   "id": "dd509d20",
   "metadata": {},
   "outputs": [],
   "source": [
    "# DataFrame 1\n",
    "df1 = pd.DataFrame({\n",
    "    'key': ['A', 'B', 'C', 'D'],\n",
    "    'value': [1, 2, 3, 4]\n",
    "})\n",
    "\n",
    "# DataFrame 2\n",
    "df2 = pd.DataFrame({\n",
    "    'key': ['B', 'D', 'E', 'F'],\n",
    "    'value': [5, 6, 7, 8]\n",
    "})\n"
   ]
  },
  {
   "cell_type": "code",
   "execution_count": null,
   "id": "5a0d150d",
   "metadata": {},
   "outputs": [],
   "source": [
    "# Unir os DataFrames\n",
    "df_join = df1.join(df2.set_index('key'), on='key', rsuffix='_other')\n",
    "\n",
    "df_join"
   ]
  },
  {
   "cell_type": "code",
   "execution_count": null,
   "id": "2ac28d1f",
   "metadata": {},
   "outputs": [],
   "source": []
  }
 ],
 "metadata": {
  "kernelspec": {
   "display_name": "Python 3 (ipykernel)",
   "language": "python",
   "name": "python3"
  },
  "language_info": {
   "codemirror_mode": {
    "name": "ipython",
    "version": 3
   },
   "file_extension": ".py",
   "mimetype": "text/x-python",
   "name": "python",
   "nbconvert_exporter": "python",
   "pygments_lexer": "ipython3",
   "version": "3.9.16"
  }
 },
 "nbformat": 4,
 "nbformat_minor": 5
}
