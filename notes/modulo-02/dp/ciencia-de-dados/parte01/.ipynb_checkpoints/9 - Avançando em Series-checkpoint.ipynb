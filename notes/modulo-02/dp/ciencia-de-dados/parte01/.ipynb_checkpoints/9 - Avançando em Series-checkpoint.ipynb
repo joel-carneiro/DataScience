{
 "cells": [
  {
   "cell_type": "code",
   "execution_count": 1,
   "id": "301f7b1b",
   "metadata": {},
   "outputs": [],
   "source": [
    "import pandas as pd\n",
    "import numpy as np"
   ]
  },
  {
   "cell_type": "code",
   "execution_count": 2,
   "id": "05053014",
   "metadata": {},
   "outputs": [
    {
     "data": {
      "text/plain": [
       "array([ 1.,  2.,  3.,  4., nan])"
      ]
     },
     "execution_count": 2,
     "metadata": {},
     "output_type": "execute_result"
    }
   ],
   "source": [
    "array1 = np.array([1, 2, 3, 4, np.nan]); array1"
   ]
  },
  {
   "cell_type": "code",
   "execution_count": 4,
   "id": "fe8ec71e",
   "metadata": {},
   "outputs": [
    {
     "data": {
      "text/plain": [
       "nan"
      ]
     },
     "execution_count": 4,
     "metadata": {},
     "output_type": "execute_result"
    }
   ],
   "source": [
    "array1.mean()"
   ]
  },
  {
   "cell_type": "code",
   "execution_count": 5,
   "id": "d1d6723f",
   "metadata": {},
   "outputs": [
    {
     "data": {
      "text/plain": [
       "0    1.0\n",
       "1    2.0\n",
       "2    3.0\n",
       "3    4.0\n",
       "4    NaN\n",
       "dtype: float64"
      ]
     },
     "execution_count": 5,
     "metadata": {},
     "output_type": "execute_result"
    }
   ],
   "source": [
    "serie1 = pd.Series(array1); serie1"
   ]
  },
  {
   "cell_type": "code",
   "execution_count": null,
   "id": "768bf2a4",
   "metadata": {},
   "outputs": [],
   "source": [
    "serie1.mean()"
   ]
  },
  {
   "cell_type": "markdown",
   "id": "cdfae8f0",
   "metadata": {},
   "source": [
    "# 2 - Concatenando Series"
   ]
  },
  {
   "cell_type": "code",
   "execution_count": null,
   "id": "52beead8",
   "metadata": {},
   "outputs": [],
   "source": [
    "serie2 = pd.Series(np.random.rand(10)); serie2"
   ]
  },
  {
   "cell_type": "code",
   "execution_count": null,
   "id": "d6f53524",
   "metadata": {},
   "outputs": [],
   "source": [
    "serie3 = pd.Series(np.random.rand(5)); serie3"
   ]
  },
  {
   "cell_type": "code",
   "execution_count": null,
   "id": "8dabe6ee",
   "metadata": {},
   "outputs": [],
   "source": [
    "series_concat = pd.concat([ serie2, serie3 ]); series_concat"
   ]
  },
  {
   "cell_type": "code",
   "execution_count": null,
   "id": "803b940b",
   "metadata": {},
   "outputs": [],
   "source": [
    "series_concat[0]"
   ]
  },
  {
   "cell_type": "code",
   "execution_count": null,
   "id": "90b9f9d4",
   "metadata": {},
   "outputs": [],
   "source": [
    "series_concat.index = range(len(series_concat)); series_concat"
   ]
  },
  {
   "cell_type": "code",
   "execution_count": null,
   "id": "31664c1d",
   "metadata": {},
   "outputs": [],
   "source": [
    "series_concat.reindex([2, 3, 5, 7, 19, 23, 27])"
   ]
  },
  {
   "cell_type": "code",
   "execution_count": null,
   "id": "3fb8c6cd",
   "metadata": {},
   "outputs": [],
   "source": [
    "series_concat.reindex([2, 3, 5, 7, 19, 23, 27], fill_value = 0)"
   ]
  },
  {
   "cell_type": "code",
   "execution_count": null,
   "id": "449d8ec8",
   "metadata": {},
   "outputs": [],
   "source": [
    "serie4 = series_concat.reindex([2, 3, 5, 7, 19, 23, 27]); serie4"
   ]
  },
  {
   "cell_type": "code",
   "execution_count": null,
   "id": "132d6442",
   "metadata": {},
   "outputs": [],
   "source": [
    "serie4.ffill()"
   ]
  },
  {
   "cell_type": "code",
   "execution_count": null,
   "id": "1b45b072",
   "metadata": {},
   "outputs": [],
   "source": [
    "serie4.bfill()"
   ]
  },
  {
   "cell_type": "code",
   "execution_count": null,
   "id": "1ad4ef4e",
   "metadata": {},
   "outputs": [],
   "source": [
    "serie4.fillna(12)"
   ]
  },
  {
   "cell_type": "code",
   "execution_count": null,
   "id": "65092d6b",
   "metadata": {},
   "outputs": [],
   "source": [
    "s1 = pd.Series(np.random.randn(10)); s1"
   ]
  },
  {
   "cell_type": "code",
   "execution_count": null,
   "id": "85361fcf",
   "metadata": {},
   "outputs": [],
   "source": [
    "s2 = pd.Series(np.random.randn(10)); s2"
   ]
  },
  {
   "cell_type": "code",
   "execution_count": null,
   "id": "140296cc",
   "metadata": {},
   "outputs": [],
   "source": [
    "s1 + s2"
   ]
  },
  {
   "cell_type": "code",
   "execution_count": null,
   "id": "3c75db38",
   "metadata": {},
   "outputs": [],
   "source": [
    "s2.index = list(range(3, 13, 1)); s2"
   ]
  },
  {
   "cell_type": "code",
   "execution_count": null,
   "id": "9e1930e0",
   "metadata": {},
   "outputs": [],
   "source": [
    "s1 + s2"
   ]
  },
  {
   "cell_type": "code",
   "execution_count": null,
   "id": "0061250a",
   "metadata": {},
   "outputs": [],
   "source": [
    "s1.map(lambda x : x ** 2)"
   ]
  },
  {
   "cell_type": "code",
   "execution_count": null,
   "id": "de724486",
   "metadata": {},
   "outputs": [],
   "source": [
    "s1.apply(lambda x : x ** 2)"
   ]
  },
  {
   "cell_type": "code",
   "execution_count": null,
   "id": "a4a5292b",
   "metadata": {},
   "outputs": [],
   "source": [
    "s1.map(lambda x : x ** 2) == s1.apply(lambda x : x ** 2)"
   ]
  },
  {
   "cell_type": "code",
   "execution_count": null,
   "id": "9b76dd62",
   "metadata": {},
   "outputs": [],
   "source": []
  }
 ],
 "metadata": {
  "kernelspec": {
   "display_name": "Python 3 (ipykernel)",
   "language": "python",
   "name": "python3"
  },
  "language_info": {
   "codemirror_mode": {
    "name": "ipython",
    "version": 3
   },
   "file_extension": ".py",
   "mimetype": "text/x-python",
   "name": "python",
   "nbconvert_exporter": "python",
   "pygments_lexer": "ipython3",
   "version": "3.9.16"
  }
 },
 "nbformat": 4,
 "nbformat_minor": 5
}
