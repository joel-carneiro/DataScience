{
 "cells": [
  {
   "cell_type": "markdown",
   "id": "bb4c72ce",
   "metadata": {},
   "source": [
    "# Slicing com Numpy"
   ]
  },
  {
   "cell_type": "code",
   "execution_count": 1,
   "id": "81d380c4",
   "metadata": {},
   "outputs": [],
   "source": [
    "# Importando o módulo numpy\n",
    "import numpy as np"
   ]
  },
  {
   "cell_type": "code",
   "execution_count": 2,
   "id": "9411770c",
   "metadata": {},
   "outputs": [
    {
     "data": {
      "text/plain": [
       "array([ 2,  3,  5,  7, 11])"
      ]
     },
     "execution_count": 2,
     "metadata": {},
     "output_type": "execute_result"
    }
   ],
   "source": [
    "# Criando um array unidimensional\n",
    "array1 = np.array([2, 3, 5, 7, 11]); array1"
   ]
  },
  {
   "cell_type": "code",
   "execution_count": 3,
   "id": "4b7f3dbc",
   "metadata": {},
   "outputs": [
    {
     "data": {
      "text/plain": [
       "7"
      ]
     },
     "execution_count": 3,
     "metadata": {},
     "output_type": "execute_result"
    }
   ],
   "source": [
    "# Escolhendo o elemento de index 3 do array (ou posição 4°)\n",
    "array1[3]"
   ]
  },
  {
   "cell_type": "code",
   "execution_count": 4,
   "id": "5cfdeaf7",
   "metadata": {},
   "outputs": [
    {
     "data": {
      "text/plain": [
       "array([ 2,  3,  5,  5, 11])"
      ]
     },
     "execution_count": 4,
     "metadata": {},
     "output_type": "execute_result"
    }
   ],
   "source": [
    "# Trocando o valor do array através de acesso ao atributo\n",
    "array1[3] = 5; array1"
   ]
  },
  {
   "cell_type": "code",
   "execution_count": 5,
   "id": "bd3e3229",
   "metadata": {},
   "outputs": [
    {
     "data": {
      "text/plain": [
       "array([[ 1,  2,  3,  4],\n",
       "       [ 5,  6,  7,  8],\n",
       "       [11, 13, 15, 19]])"
      ]
     },
     "execution_count": 5,
     "metadata": {},
     "output_type": "execute_result"
    }
   ],
   "source": [
    "# Craindo um array bidimensional\n",
    "array2 = np.array([[1, 2, 3, 4], [5, 6, 7, 8], [11, 13, 15, 19]]); array2"
   ]
  },
  {
   "cell_type": "code",
   "execution_count": 6,
   "id": "7d15a6d6",
   "metadata": {},
   "outputs": [
    {
     "data": {
      "text/plain": [
       "array([[3, 4],\n",
       "       [7, 8]])"
      ]
     },
     "execution_count": 6,
     "metadata": {},
     "output_type": "execute_result"
    }
   ],
   "source": [
    "# Acessando elementos que estão simultaneamente na linha 0 e 1, e na coluna 2 e 3\n",
    "array2[0:2, 2:4]"
   ]
  },
  {
   "cell_type": "code",
   "execution_count": 7,
   "id": "7184052b",
   "metadata": {},
   "outputs": [
    {
     "data": {
      "text/plain": [
       "array([ 0,  2,  4,  6,  8, 10, 12, 14, 16, 18, 20, 22, 24, 26, 28, 30, 32,\n",
       "       34, 36, 38, 40, 42, 44, 46, 48, 50, 52, 54, 56, 58, 60, 62, 64, 66,\n",
       "       68, 70, 72, 74, 76, 78, 80, 82, 84, 86, 88, 90, 92, 94, 96, 98])"
      ]
     },
     "execution_count": 7,
     "metadata": {},
     "output_type": "execute_result"
    }
   ],
   "source": [
    "# Criando um array de multiplos de 2\n",
    "array3 = np.arange(50) * 2; array3"
   ]
  },
  {
   "cell_type": "code",
   "execution_count": 8,
   "id": "09db1774",
   "metadata": {},
   "outputs": [
    {
     "data": {
      "text/plain": [
       "array([ 0, 10, 20, 30])"
      ]
     },
     "execution_count": 8,
     "metadata": {},
     "output_type": "execute_result"
    }
   ],
   "source": [
    "# Indo do index 0, ao index 20, pulando de 5 em 5\n",
    "array3[0:20:5]"
   ]
  },
  {
   "cell_type": "code",
   "execution_count": 9,
   "id": "4e9dc6af",
   "metadata": {},
   "outputs": [
    {
     "data": {
      "text/plain": [
       "array([ 0,  2,  4,  6,  8, 10, 12, 14, 16, 18])"
      ]
     },
     "execution_count": 9,
     "metadata": {},
     "output_type": "execute_result"
    }
   ],
   "source": [
    "# Retorna todos os elementos até o elemento de index 10\n",
    "array3[:10]"
   ]
  },
  {
   "cell_type": "code",
   "execution_count": 10,
   "id": "a4e0ed75",
   "metadata": {},
   "outputs": [
    {
     "data": {
      "text/plain": [
       "array([20, 22, 24, 26, 28, 30, 32, 34, 36, 38, 40, 42, 44, 46, 48, 50, 52,\n",
       "       54, 56, 58, 60, 62, 64, 66, 68, 70, 72, 74, 76, 78, 80, 82, 84, 86,\n",
       "       88, 90, 92, 94, 96, 98])"
      ]
     },
     "execution_count": 10,
     "metadata": {},
     "output_type": "execute_result"
    }
   ],
   "source": [
    "# Retorna todos os elementos do index 10 em diante\n",
    "array3[10:]"
   ]
  },
  {
   "cell_type": "code",
   "execution_count": 11,
   "id": "00428e95",
   "metadata": {},
   "outputs": [],
   "source": [
    "# Criando uma função para retornar múltiplos de um número\n",
    "def multiples(x, limit=100):\n",
    "    array = np.arange(limit)\n",
    "    return array[::x]"
   ]
  },
  {
   "cell_type": "code",
   "execution_count": 13,
   "id": "2afe5772",
   "metadata": {},
   "outputs": [
    {
     "data": {
      "text/plain": [
       "array([ 0,  7, 14, 21, 28, 35, 42, 49, 56, 63, 70, 77, 84, 91, 98])"
      ]
     },
     "execution_count": 13,
     "metadata": {},
     "output_type": "execute_result"
    }
   ],
   "source": [
    "multiples(7, 100)"
   ]
  },
  {
   "cell_type": "code",
   "execution_count": 12,
   "id": "23ab626c",
   "metadata": {},
   "outputs": [
    {
     "data": {
      "text/plain": [
       "array([0, 2, 4, 6, 8, 0, 0, 0, 0, 0, 0, 0, 0, 0, 0, 0, 0, 0, 0, 0, 0, 0,\n",
       "       0, 0, 0, 0, 0, 0, 0, 0, 0, 0, 0, 0, 0, 0, 0, 0, 0, 0, 0, 0, 0, 0,\n",
       "       0, 0, 0, 0, 0, 0])"
      ]
     },
     "execution_count": 12,
     "metadata": {},
     "output_type": "execute_result"
    }
   ],
   "source": [
    "# Podemos alterar o array principal pelo atributo do index\n",
    "array3[5:] = 0; array3"
   ]
  },
  {
   "cell_type": "code",
   "execution_count": 14,
   "id": "b977b1d9",
   "metadata": {},
   "outputs": [
    {
     "data": {
      "text/plain": [
       "array([ 2,  3,  5,  7, 11])"
      ]
     },
     "execution_count": 14,
     "metadata": {},
     "output_type": "execute_result"
    }
   ],
   "source": [
    "array4 = np.array([2, 3, 5, 7, 11]); array4"
   ]
  },
  {
   "cell_type": "code",
   "execution_count": 17,
   "id": "e4940eca",
   "metadata": {},
   "outputs": [
    {
     "data": {
      "text/plain": [
       "array([11,  7,  5,  3,  2])"
      ]
     },
     "execution_count": 17,
     "metadata": {},
     "output_type": "execute_result"
    }
   ],
   "source": [
    "array4[::-1]"
   ]
  },
  {
   "cell_type": "code",
   "execution_count": 18,
   "id": "0f2740e3",
   "metadata": {},
   "outputs": [],
   "source": [
    "inverte_array = lambda array : array[::-1]"
   ]
  },
  {
   "cell_type": "code",
   "execution_count": 19,
   "id": "bb2a3420",
   "metadata": {},
   "outputs": [
    {
     "data": {
      "text/plain": [
       "array([11,  7,  5,  3,  2])"
      ]
     },
     "execution_count": 19,
     "metadata": {},
     "output_type": "execute_result"
    }
   ],
   "source": [
    "inverte_array(array4)"
   ]
  },
  {
   "cell_type": "code",
   "execution_count": null,
   "id": "4b288621",
   "metadata": {},
   "outputs": [],
   "source": []
  }
 ],
 "metadata": {
  "kernelspec": {
   "display_name": "Python 3 (ipykernel)",
   "language": "python",
   "name": "python3"
  },
  "language_info": {
   "codemirror_mode": {
    "name": "ipython",
    "version": 3
   },
   "file_extension": ".py",
   "mimetype": "text/x-python",
   "name": "python",
   "nbconvert_exporter": "python",
   "pygments_lexer": "ipython3",
   "version": "3.9.16"
  }
 },
 "nbformat": 4,
 "nbformat_minor": 5
}
