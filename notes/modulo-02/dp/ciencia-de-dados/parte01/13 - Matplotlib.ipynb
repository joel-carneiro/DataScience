{
 "cells": [
  {
   "cell_type": "code",
   "execution_count": 1,
   "id": "1fd7725e",
   "metadata": {},
   "outputs": [
    {
     "name": "stdout",
     "output_type": "stream",
     "text": [
      "Hi, jupyter!\n"
     ]
    }
   ],
   "source": [
    "def print_hi():\n",
    "    print('Hi, jupyter!')\n",
    "\n",
    "    \n",
    "if __name__ == '__main__':\n",
    "    print_hi()"
   ]
  },
  {
   "cell_type": "code",
   "execution_count": null,
   "id": "fa3a205c",
   "metadata": {},
   "outputs": [],
   "source": [
    "yyyyyyyy"
   ]
  }
 ],
 "metadata": {
  "kernelspec": {
   "display_name": "Python 3 (ipykernel)",
   "language": "python",
   "name": "python3"
  },
  "language_info": {
   "codemirror_mode": {
    "name": "ipython",
    "version": 3
   },
   "file_extension": ".py",
   "mimetype": "text/x-python",
   "name": "python",
   "nbconvert_exporter": "python",
   "pygments_lexer": "ipython3",
   "version": "3.9.16"
  }
 },
 "nbformat": 4,
 "nbformat_minor": 5
}
