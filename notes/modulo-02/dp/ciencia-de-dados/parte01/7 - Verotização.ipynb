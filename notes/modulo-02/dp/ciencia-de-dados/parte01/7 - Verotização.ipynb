{
 "cells": [
  {
   "cell_type": "code",
   "execution_count": 1,
   "id": "2fee63bc",
   "metadata": {},
   "outputs": [],
   "source": [
    "import numpy as np"
   ]
  },
  {
   "cell_type": "code",
   "execution_count": 2,
   "id": "e219d998",
   "metadata": {},
   "outputs": [
    {
     "data": {
      "text/plain": [
       "array([18, 45,  9, 17, 10, 45, 20, 43, 16, 14, 45, 44,  7, 13, 37])"
      ]
     },
     "execution_count": 2,
     "metadata": {},
     "output_type": "execute_result"
    }
   ],
   "source": [
    "array1 = np.random.randint(0, 50, 15); array1"
   ]
  },
  {
   "cell_type": "code",
   "execution_count": 5,
   "id": "80d959e1",
   "metadata": {},
   "outputs": [],
   "source": [
    "# Criando uma função qualquer\n",
    "def func(number):\n",
    "    if number < 10:\n",
    "        return number ** 3\n",
    "    else:\n",
    "        return number ** 2"
   ]
  },
  {
   "cell_type": "code",
   "execution_count": 6,
   "id": "2cdb06de",
   "metadata": {},
   "outputs": [
    {
     "name": "stdout",
     "output_type": "stream",
     "text": [
      "ERROR!\n"
     ]
    }
   ],
   "source": [
    "# Testando se é possível passar um array numpy como parâmetro\n",
    "try:\n",
    "    func(array1)\n",
    "except:\n",
    "    print('ERROR!')"
   ]
  },
  {
   "cell_type": "code",
   "execution_count": 7,
   "id": "0073762d",
   "metadata": {},
   "outputs": [],
   "source": [
    "# Criando uma função vectorize\n",
    "vec_func = np.vectorize(func)"
   ]
  },
  {
   "cell_type": "code",
   "execution_count": 8,
   "id": "986e924e",
   "metadata": {},
   "outputs": [
    {
     "data": {
      "text/plain": [
       "numpy.vectorize"
      ]
     },
     "execution_count": 8,
     "metadata": {},
     "output_type": "execute_result"
    }
   ],
   "source": [
    "type(vec_func)"
   ]
  },
  {
   "cell_type": "code",
   "execution_count": 9,
   "id": "d18d46d0",
   "metadata": {},
   "outputs": [
    {
     "data": {
      "text/plain": [
       "array([ 324, 2025,  729,  289,  100, 2025,  400, 1849,  256,  196, 2025,\n",
       "       1936,  343,  169, 1369])"
      ]
     },
     "execution_count": 9,
     "metadata": {},
     "output_type": "execute_result"
    }
   ],
   "source": [
    "# Aplicando a vetorização\n",
    "vec_func(array1)"
   ]
  },
  {
   "cell_type": "code",
   "execution_count": 10,
   "id": "6233adfe",
   "metadata": {},
   "outputs": [
    {
     "data": {
      "text/plain": [
       "[324,\n",
       " 2025,\n",
       " 729,\n",
       " 289,\n",
       " 100,\n",
       " 2025,\n",
       " 400,\n",
       " 1849,\n",
       " 256,\n",
       " 196,\n",
       " 2025,\n",
       " 1936,\n",
       " 343,\n",
       " 169,\n",
       " 1369]"
      ]
     },
     "execution_count": 10,
     "metadata": {},
     "output_type": "execute_result"
    }
   ],
   "source": [
    "# Podemos alcançar o mesmo resultado com list comprehension\n",
    "[func(x) for x in array1]"
   ]
  },
  {
   "cell_type": "code",
   "execution_count": 11,
   "id": "2f63c429",
   "metadata": {},
   "outputs": [
    {
     "data": {
      "text/plain": [
       "[324,\n",
       " 2025,\n",
       " 729,\n",
       " 289,\n",
       " 100,\n",
       " 2025,\n",
       " 400,\n",
       " 1849,\n",
       " 256,\n",
       " 196,\n",
       " 2025,\n",
       " 1936,\n",
       " 343,\n",
       " 169,\n",
       " 1369]"
      ]
     },
     "execution_count": 11,
     "metadata": {},
     "output_type": "execute_result"
    }
   ],
   "source": [
    "# Também utilizando a função map\n",
    "list(map(func, array1))"
   ]
  },
  {
   "cell_type": "code",
   "execution_count": 12,
   "id": "3d6fc410",
   "metadata": {},
   "outputs": [],
   "source": [
    "array2 = np.arange(100000)"
   ]
  },
  {
   "cell_type": "code",
   "execution_count": 13,
   "id": "8017f9f1",
   "metadata": {},
   "outputs": [
    {
     "name": "stdout",
     "output_type": "stream",
     "text": [
      "73.3 ms ± 939 µs per loop (mean ± std. dev. of 7 runs, 10 loops each)\n"
     ]
    }
   ],
   "source": [
    "%timeit vec_func(array2)"
   ]
  },
  {
   "cell_type": "code",
   "execution_count": 14,
   "id": "acc460d7",
   "metadata": {},
   "outputs": [
    {
     "name": "stdout",
     "output_type": "stream",
     "text": [
      "35.6 ms ± 2.27 ms per loop (mean ± std. dev. of 7 runs, 10 loops each)\n"
     ]
    }
   ],
   "source": [
    "%timeit list(map(func, array2))"
   ]
  },
  {
   "cell_type": "code",
   "execution_count": 15,
   "id": "da970723",
   "metadata": {},
   "outputs": [
    {
     "name": "stdout",
     "output_type": "stream",
     "text": [
      "40.9 ms ± 1.42 ms per loop (mean ± std. dev. of 7 runs, 10 loops each)\n"
     ]
    }
   ],
   "source": [
    "%timeit [func(x) for x in array2]"
   ]
  },
  {
   "cell_type": "code",
   "execution_count": null,
   "id": "a205f805",
   "metadata": {},
   "outputs": [],
   "source": []
  }
 ],
 "metadata": {
  "kernelspec": {
   "display_name": "Python 3 (ipykernel)",
   "language": "python",
   "name": "python3"
  },
  "language_info": {
   "codemirror_mode": {
    "name": "ipython",
    "version": 3
   },
   "file_extension": ".py",
   "mimetype": "text/x-python",
   "name": "python",
   "nbconvert_exporter": "python",
   "pygments_lexer": "ipython3",
   "version": "3.9.16"
  }
 },
 "nbformat": 4,
 "nbformat_minor": 5
}
