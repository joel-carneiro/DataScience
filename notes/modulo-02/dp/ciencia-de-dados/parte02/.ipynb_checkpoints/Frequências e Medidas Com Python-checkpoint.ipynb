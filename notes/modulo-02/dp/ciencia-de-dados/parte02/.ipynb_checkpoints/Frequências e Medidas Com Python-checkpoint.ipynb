{
 "cells": [
  {
   "cell_type": "code",
   "execution_count": 1,
   "id": "db311d84",
   "metadata": {},
   "outputs": [],
   "source": [
    "# Importando pandas para análise de dados\n",
    "import pandas as pd\n",
    "\n",
    "# Importando numpy para análise númerica\n",
    "import numpy as np"
   ]
  },
  {
   "cell_type": "code",
   "execution_count": 2,
   "id": "eeece751",
   "metadata": {},
   "outputs": [],
   "source": [
    "# Importando a base de dados para análise\n",
    "dataset = pd.read_csv('/home/joeldspy/Modelos/datasets/ibge.csv')"
   ]
  },
  {
   "cell_type": "code",
   "execution_count": 3,
   "id": "85d84347",
   "metadata": {
    "scrolled": true
   },
   "outputs": [
    {
     "data": {
      "text/html": [
       "<div>\n",
       "<style scoped>\n",
       "    .dataframe tbody tr th:only-of-type {\n",
       "        vertical-align: middle;\n",
       "    }\n",
       "\n",
       "    .dataframe tbody tr th {\n",
       "        vertical-align: top;\n",
       "    }\n",
       "\n",
       "    .dataframe thead th {\n",
       "        text-align: right;\n",
       "    }\n",
       "</style>\n",
       "<table border=\"1\" class=\"dataframe\">\n",
       "  <thead>\n",
       "    <tr style=\"text-align: right;\">\n",
       "      <th></th>\n",
       "      <th>UF</th>\n",
       "      <th>Sexo</th>\n",
       "      <th>Idade</th>\n",
       "      <th>Cor</th>\n",
       "      <th>Anos de Estudo</th>\n",
       "      <th>Renda</th>\n",
       "      <th>Altura</th>\n",
       "    </tr>\n",
       "  </thead>\n",
       "  <tbody>\n",
       "    <tr>\n",
       "      <th>0</th>\n",
       "      <td>11</td>\n",
       "      <td>0</td>\n",
       "      <td>23</td>\n",
       "      <td>8</td>\n",
       "      <td>12</td>\n",
       "      <td>800</td>\n",
       "      <td>1.603808</td>\n",
       "    </tr>\n",
       "    <tr>\n",
       "      <th>1</th>\n",
       "      <td>11</td>\n",
       "      <td>1</td>\n",
       "      <td>23</td>\n",
       "      <td>2</td>\n",
       "      <td>12</td>\n",
       "      <td>1150</td>\n",
       "      <td>1.739790</td>\n",
       "    </tr>\n",
       "    <tr>\n",
       "      <th>2</th>\n",
       "      <td>11</td>\n",
       "      <td>1</td>\n",
       "      <td>35</td>\n",
       "      <td>8</td>\n",
       "      <td>15</td>\n",
       "      <td>880</td>\n",
       "      <td>1.760444</td>\n",
       "    </tr>\n",
       "    <tr>\n",
       "      <th>3</th>\n",
       "      <td>11</td>\n",
       "      <td>0</td>\n",
       "      <td>46</td>\n",
       "      <td>2</td>\n",
       "      <td>6</td>\n",
       "      <td>3500</td>\n",
       "      <td>1.783158</td>\n",
       "    </tr>\n",
       "    <tr>\n",
       "      <th>4</th>\n",
       "      <td>11</td>\n",
       "      <td>1</td>\n",
       "      <td>47</td>\n",
       "      <td>8</td>\n",
       "      <td>9</td>\n",
       "      <td>150</td>\n",
       "      <td>1.690631</td>\n",
       "    </tr>\n",
       "  </tbody>\n",
       "</table>\n",
       "</div>"
      ],
      "text/plain": [
       "   UF  Sexo  Idade  Cor  Anos de Estudo  Renda    Altura\n",
       "0  11     0     23    8              12    800  1.603808\n",
       "1  11     1     23    2              12   1150  1.739790\n",
       "2  11     1     35    8              15    880  1.760444\n",
       "3  11     0     46    2               6   3500  1.783158\n",
       "4  11     1     47    8               9    150  1.690631"
      ]
     },
     "execution_count": 3,
     "metadata": {},
     "output_type": "execute_result"
    }
   ],
   "source": [
    "# Visualizando as 5 primeiras observações do dataset\n",
    "dataset.head(n=5)"
   ]
  },
  {
   "cell_type": "markdown",
   "id": "aed5e0d7",
   "metadata": {},
   "source": [
    "![Variáveis](https://www.computersciencemaster.com.br/wp-content/uploads/2021/03/variaveis.jpg)"
   ]
  },
  {
   "cell_type": "code",
   "execution_count": 4,
   "id": "f67d43f4",
   "metadata": {},
   "outputs": [
    {
     "data": {
      "text/html": [
       "<div>\n",
       "<style scoped>\n",
       "    .dataframe tbody tr th:only-of-type {\n",
       "        vertical-align: middle;\n",
       "    }\n",
       "\n",
       "    .dataframe tbody tr th {\n",
       "        vertical-align: top;\n",
       "    }\n",
       "\n",
       "    .dataframe thead th {\n",
       "        text-align: right;\n",
       "    }\n",
       "</style>\n",
       "<table border=\"1\" class=\"dataframe\">\n",
       "  <thead>\n",
       "    <tr style=\"text-align: right;\">\n",
       "      <th></th>\n",
       "      <th>UF</th>\n",
       "      <th>Sexo</th>\n",
       "      <th>Idade</th>\n",
       "      <th>Cor</th>\n",
       "      <th>Anos de Estudo</th>\n",
       "      <th>Renda</th>\n",
       "      <th>Altura</th>\n",
       "    </tr>\n",
       "  </thead>\n",
       "  <tbody>\n",
       "    <tr>\n",
       "      <th>0</th>\n",
       "      <td>SP</td>\n",
       "      <td>0</td>\n",
       "      <td>23</td>\n",
       "      <td>8</td>\n",
       "      <td>12</td>\n",
       "      <td>800</td>\n",
       "      <td>1.603808</td>\n",
       "    </tr>\n",
       "    <tr>\n",
       "      <th>1</th>\n",
       "      <td>SP</td>\n",
       "      <td>1</td>\n",
       "      <td>23</td>\n",
       "      <td>2</td>\n",
       "      <td>12</td>\n",
       "      <td>1150</td>\n",
       "      <td>1.739790</td>\n",
       "    </tr>\n",
       "    <tr>\n",
       "      <th>2</th>\n",
       "      <td>SP</td>\n",
       "      <td>1</td>\n",
       "      <td>35</td>\n",
       "      <td>8</td>\n",
       "      <td>15</td>\n",
       "      <td>880</td>\n",
       "      <td>1.760444</td>\n",
       "    </tr>\n",
       "    <tr>\n",
       "      <th>3</th>\n",
       "      <td>SP</td>\n",
       "      <td>0</td>\n",
       "      <td>46</td>\n",
       "      <td>2</td>\n",
       "      <td>6</td>\n",
       "      <td>3500</td>\n",
       "      <td>1.783158</td>\n",
       "    </tr>\n",
       "    <tr>\n",
       "      <th>4</th>\n",
       "      <td>SP</td>\n",
       "      <td>1</td>\n",
       "      <td>47</td>\n",
       "      <td>8</td>\n",
       "      <td>9</td>\n",
       "      <td>150</td>\n",
       "      <td>1.690631</td>\n",
       "    </tr>\n",
       "  </tbody>\n",
       "</table>\n",
       "</div>"
      ],
      "text/plain": [
       "   UF  Sexo  Idade  Cor  Anos de Estudo  Renda    Altura\n",
       "0  SP     0     23    8              12    800  1.603808\n",
       "1  SP     1     23    2              12   1150  1.739790\n",
       "2  SP     1     35    8              15    880  1.760444\n",
       "3  SP     0     46    2               6   3500  1.783158\n",
       "4  SP     1     47    8               9    150  1.690631"
      ]
     },
     "execution_count": 4,
     "metadata": {},
     "output_type": "execute_result"
    }
   ],
   "source": [
    "# Tratando a variável UF\n",
    "ddd_estado = {\n",
    "    11: 'SP',\n",
    "    12: 'SP',\n",
    "    13: 'SP',\n",
    "    14: 'SP',\n",
    "    15: 'SP',\n",
    "    16: 'SP',\n",
    "    17: 'SP',\n",
    "    18: 'SP',\n",
    "    19: 'SP',\n",
    "    21: 'RJ',\n",
    "    22: 'RJ',\n",
    "    24: 'RJ',\n",
    "    27: 'ES',\n",
    "    28: 'ES',\n",
    "    31: 'MG',\n",
    "    32: 'MG',\n",
    "    33: 'MG',\n",
    "    34: 'MG',\n",
    "    35: 'MG',\n",
    "    37: 'MG',\n",
    "    38: 'MG',\n",
    "    41: 'PR',\n",
    "    42: 'PR',\n",
    "    43: 'PR',\n",
    "    44: 'PR',\n",
    "    45: 'PR',\n",
    "    46: 'PR',\n",
    "    47: 'SC',\n",
    "    48: 'SC',\n",
    "    49: 'SC',\n",
    "    51: 'RS',\n",
    "    53: 'RS',\n",
    "    54: 'RS',\n",
    "    55: 'RS',\n",
    "    61: 'DF',\n",
    "    62: 'GO',\n",
    "    63: 'TO',\n",
    "    64: 'GO',\n",
    "    65: 'MT',\n",
    "    66: 'MT',\n",
    "    67: 'MS',\n",
    "    68: 'AC',\n",
    "    69: 'RO',\n",
    "    71: 'BA',\n",
    "    73: 'BA',\n",
    "    74: 'BA',\n",
    "    75: 'BA',\n",
    "    77: 'BA',\n",
    "    79: 'SE',\n",
    "    81: 'PE',\n",
    "    82: 'AL',\n",
    "    83: 'PB',\n",
    "    84: 'RN',\n",
    "    85: 'CE',\n",
    "    86: 'PI',\n",
    "    87: 'PE',\n",
    "    88: 'CE',\n",
    "    89: 'PI',\n",
    "    91: 'PA',\n",
    "    92: 'AM',\n",
    "    93: 'PA',\n",
    "    94: 'PA',\n",
    "    95: 'RR',\n",
    "    96: 'AP',\n",
    "    97: 'AM',\n",
    "    98: 'MA',\n",
    "    99: 'MA'\n",
    "}\n",
    "\n",
    "# Reescrevendo a variável\n",
    "dataset['UF'] = dataset['UF'].replace(ddd_estado); dataset.head()"
   ]
  },
  {
   "cell_type": "code",
   "execution_count": 5,
   "id": "1b087005",
   "metadata": {},
   "outputs": [
    {
     "data": {
      "text/plain": [
       "array(['SP', 'RJ', 23, 25, 26, 'ES', 29, 'MG', 'PR', 50, 'RS', 52],\n",
       "      dtype=object)"
      ]
     },
     "execution_count": 5,
     "metadata": {},
     "output_type": "execute_result"
    }
   ],
   "source": [
    "# Repare que há valores que não fazem sentido\n",
    "dataset['UF'].unique()"
   ]
  },
  {
   "cell_type": "code",
   "execution_count": 7,
   "id": "5c239292",
   "metadata": {},
   "outputs": [],
   "source": [
    "# Criando função para tratamento\n",
    "def trata_UF(UF : str):\n",
    "    if type(UF) is int:\n",
    "        return None\n",
    "    return UF"
   ]
  },
  {
   "cell_type": "code",
   "execution_count": 8,
   "id": "df0dc408",
   "metadata": {},
   "outputs": [],
   "source": [
    "# Finalizando a variável UF\n",
    "dataset['UF'] = dataset['UF'].apply(trata_UF)"
   ]
  },
  {
   "cell_type": "code",
   "execution_count": 9,
   "id": "aaa188f9",
   "metadata": {},
   "outputs": [],
   "source": [
    "# Tratando a variável Sexo\n",
    "dataset['Sexo'].replace({0 : 'Masculino', 1 : 'Feminino'}, inplace=True)"
   ]
  },
  {
   "cell_type": "code",
   "execution_count": 10,
   "id": "d2a435a0",
   "metadata": {},
   "outputs": [],
   "source": [
    "# Tratando a variável Cor\n",
    "dataset['Cor'].replace({\n",
    "    0 : 'Indígena',\n",
    "    2 : 'Branca',\n",
    "    4 : 'Preta',\n",
    "    6 : 'Amarela',\n",
    "    8 : 'Parda',\n",
    "    9 : 'Sem declaração'\n",
    "}, inplace=True)"
   ]
  },
  {
   "cell_type": "code",
   "execution_count": 11,
   "id": "b25d05b8",
   "metadata": {},
   "outputs": [],
   "source": [
    "# Renomeando colunas\n",
    "dataset.columns = ['estado', 'sexo', 'idade', 'cor', 'anos_de_estudo', 'renda', 'altura']"
   ]
  },
  {
   "cell_type": "code",
   "execution_count": 12,
   "id": "6245c221",
   "metadata": {},
   "outputs": [],
   "source": [
    "# Função para tratar os anos de estudo\n",
    "def trata_anos_de_estudo(anos):\n",
    "    if anos == 1:\n",
    "        return 'Sem instrução'\n",
    "    if anos == 17:\n",
    "        return 'Não determinado'\n",
    "    \n",
    "    return f'{anos - 1} anos'\n",
    "\n",
    "dataset['anos_de_estudo'] = dataset['anos_de_estudo'].apply(trata_anos_de_estudo)"
   ]
  },
  {
   "cell_type": "code",
   "execution_count": 14,
   "id": "2c5c360e",
   "metadata": {},
   "outputs": [
    {
     "data": {
      "text/plain": [
       "array(['11 anos', '14 anos', '5 anos', '8 anos', '13 anos', '15 anos',\n",
       "       '9 anos', 'Sem instrução', '4 anos', '6 anos', '2 anos', '1 anos',\n",
       "       '3 anos', '7 anos', '10 anos', 'Não determinado', '12 anos'],\n",
       "      dtype=object)"
      ]
     },
     "execution_count": 14,
     "metadata": {},
     "output_type": "execute_result"
    }
   ],
   "source": [
    "dataset['anos_de_estudo'].unique()"
   ]
  },
  {
   "cell_type": "code",
   "execution_count": 16,
   "id": "9bc66942",
   "metadata": {},
   "outputs": [
    {
     "data": {
      "text/plain": [
       "array(['11 anos', '14 anos', '5 anos', '8 anos', '13 anos', '15 anos',\n",
       "       '9 anos', 'Sem instrução', '4 anos', '6 anos', '2 anos', '1 anos',\n",
       "       '3 anos', '7 anos', '10 anos', 'Não determinado', '12 anos'],\n",
       "      dtype=object)"
      ]
     },
     "execution_count": 16,
     "metadata": {},
     "output_type": "execute_result"
    }
   ],
   "source": [
    "# Variável qualitativa ordinal\n",
    "dataset['anos_de_estudo'].unique()"
   ]
  },
  {
   "cell_type": "code",
   "execution_count": 18,
   "id": "c0725b1b",
   "metadata": {},
   "outputs": [
    {
     "data": {
      "text/plain": [
       "array(['SP', 'RJ', None, 'ES', 'MG', 'PR', 'RS'], dtype=object)"
      ]
     },
     "execution_count": 18,
     "metadata": {},
     "output_type": "execute_result"
    }
   ],
   "source": [
    "# Variável qualitativa nominal\n",
    "dataset['estado'].unique()"
   ]
  },
  {
   "cell_type": "code",
   "execution_count": 19,
   "id": "f72d717f",
   "metadata": {},
   "outputs": [
    {
     "data": {
      "text/plain": [
       "array(['Masculino', 'Feminino'], dtype=object)"
      ]
     },
     "execution_count": 19,
     "metadata": {},
     "output_type": "execute_result"
    }
   ],
   "source": [
    "# Variável qualitativa nominal\n",
    "dataset['sexo'].unique()"
   ]
  },
  {
   "cell_type": "code",
   "execution_count": 20,
   "id": "c8eae80e",
   "metadata": {},
   "outputs": [
    {
     "data": {
      "text/plain": [
       "array(['Parda', 'Branca', 'Preta', 'Amarela', 'Indígena'], dtype=object)"
      ]
     },
     "execution_count": 20,
     "metadata": {},
     "output_type": "execute_result"
    }
   ],
   "source": [
    "# Variável qualitativa nominal\n",
    "dataset['cor'].unique()"
   ]
  },
  {
   "cell_type": "code",
   "execution_count": 22,
   "id": "4991925f",
   "metadata": {},
   "outputs": [
    {
     "data": {
      "text/plain": [
       "array([23, 35, 46, 47, 34, 57, 60, 50, 26, 49, 52, 38, 45, 43, 53, 62, 69,\n",
       "       41, 25, 33, 44, 65, 32, 30, 64, 31, 63, 40, 28, 37, 39, 36, 73, 56,\n",
       "       27, 42, 51, 29, 24, 55, 67, 66, 61, 54, 48, 80, 79, 71, 59, 19, 22,\n",
       "       77, 58, 17, 72, 70, 18, 21, 20, 68, 74, 76, 75, 84, 85, 78, 15, 82,\n",
       "       95, 13, 83, 81, 87, 88, 16, 91, 92, 97, 89, 90, 86, 94, 14, 99])"
      ]
     },
     "execution_count": 22,
     "metadata": {},
     "output_type": "execute_result"
    }
   ],
   "source": [
    "# Variável quantitativa discreta\n",
    "dataset['idade'].unique()"
   ]
  },
  {
   "cell_type": "code",
   "execution_count": 23,
   "id": "bdb84995",
   "metadata": {},
   "outputs": [
    {
     "data": {
      "text/plain": [
       "array([1.60380762, 1.73978983, 1.76044382, ..., 1.83058738, 1.72634426,\n",
       "       1.65830485])"
      ]
     },
     "execution_count": 23,
     "metadata": {},
     "output_type": "execute_result"
    }
   ],
   "source": [
    "# Variável quantitativa contínua\n",
    "dataset['altura'].unique()"
   ]
  },
  {
   "cell_type": "code",
   "execution_count": 24,
   "id": "80bfe593",
   "metadata": {},
   "outputs": [
    {
     "data": {
      "text/plain": [
       "array([  800,  1150,   880, ..., 36000,  1329,  5260])"
      ]
     },
     "execution_count": 24,
     "metadata": {},
     "output_type": "execute_result"
    }
   ],
   "source": [
    "# Variável quantitativa contínua\n",
    "dataset['renda'].unique()"
   ]
  },
  {
   "cell_type": "code",
   "execution_count": 25,
   "id": "34ffc9be",
   "metadata": {},
   "outputs": [
    {
     "data": {
      "text/plain": [
       "Masculino    53250\n",
       "Feminino     23590\n",
       "Name: sexo, dtype: int64"
      ]
     },
     "execution_count": 25,
     "metadata": {},
     "output_type": "execute_result"
    }
   ],
   "source": [
    "# Distribuição de frequência\n",
    "pd.value_counts(dataset['sexo'])"
   ]
  },
  {
   "cell_type": "code",
   "execution_count": 26,
   "id": "856036c8",
   "metadata": {},
   "outputs": [
    {
     "data": {
      "text/plain": [
       "Masculino    69.299844\n",
       "Feminino     30.700156\n",
       "Name: sexo, dtype: float64"
      ]
     },
     "execution_count": 26,
     "metadata": {},
     "output_type": "execute_result"
    }
   ],
   "source": [
    "# Distribuição de frequência em porcentagem\n",
    "pd.value_counts(dataset['sexo'], normalize=True) * 100"
   ]
  },
  {
   "cell_type": "code",
   "execution_count": 27,
   "id": "39db6a18",
   "metadata": {
    "scrolled": true
   },
   "outputs": [
    {
     "data": {
      "text/html": [
       "<div>\n",
       "<style scoped>\n",
       "    .dataframe tbody tr th:only-of-type {\n",
       "        vertical-align: middle;\n",
       "    }\n",
       "\n",
       "    .dataframe tbody tr th {\n",
       "        vertical-align: top;\n",
       "    }\n",
       "\n",
       "    .dataframe thead th {\n",
       "        text-align: right;\n",
       "    }\n",
       "</style>\n",
       "<table border=\"1\" class=\"dataframe\">\n",
       "  <thead>\n",
       "    <tr style=\"text-align: right;\">\n",
       "      <th></th>\n",
       "      <th>Frequência</th>\n",
       "      <th>Porcentagem</th>\n",
       "    </tr>\n",
       "  </thead>\n",
       "  <tbody>\n",
       "    <tr>\n",
       "      <th>Masculino</th>\n",
       "      <td>53250</td>\n",
       "      <td>69.299844</td>\n",
       "    </tr>\n",
       "    <tr>\n",
       "      <th>Feminino</th>\n",
       "      <td>23590</td>\n",
       "      <td>30.700156</td>\n",
       "    </tr>\n",
       "  </tbody>\n",
       "</table>\n",
       "</div>"
      ],
      "text/plain": [
       "           Frequência  Porcentagem\n",
       "Masculino       53250    69.299844\n",
       "Feminino        23590    30.700156"
      ]
     },
     "execution_count": 27,
     "metadata": {},
     "output_type": "execute_result"
    }
   ],
   "source": [
    "# Criando uma tabela de frequência para a variável sexo\n",
    "pd.DataFrame({\n",
    "    'Frequência' : pd.value_counts(dataset['sexo']),\n",
    "    'Porcentagem' : pd.value_counts(dataset['sexo'], normalize=True) * 100\n",
    "})"
   ]
  },
  {
   "cell_type": "code",
   "execution_count": 28,
   "id": "189d2a20",
   "metadata": {},
   "outputs": [
    {
     "data": {
      "text/html": [
       "<div>\n",
       "<style scoped>\n",
       "    .dataframe tbody tr th:only-of-type {\n",
       "        vertical-align: middle;\n",
       "    }\n",
       "\n",
       "    .dataframe tbody tr th {\n",
       "        vertical-align: top;\n",
       "    }\n",
       "\n",
       "    .dataframe thead th {\n",
       "        text-align: right;\n",
       "    }\n",
       "</style>\n",
       "<table border=\"1\" class=\"dataframe\">\n",
       "  <thead>\n",
       "    <tr style=\"text-align: right;\">\n",
       "      <th>cor</th>\n",
       "      <th>Amarela</th>\n",
       "      <th>Branca</th>\n",
       "      <th>Indígena</th>\n",
       "      <th>Parda</th>\n",
       "      <th>Preta</th>\n",
       "    </tr>\n",
       "    <tr>\n",
       "      <th>sexo</th>\n",
       "      <th></th>\n",
       "      <th></th>\n",
       "      <th></th>\n",
       "      <th></th>\n",
       "      <th></th>\n",
       "    </tr>\n",
       "  </thead>\n",
       "  <tbody>\n",
       "    <tr>\n",
       "      <th>Feminino</th>\n",
       "      <td>117</td>\n",
       "      <td>9621</td>\n",
       "      <td>101</td>\n",
       "      <td>10862</td>\n",
       "      <td>2889</td>\n",
       "    </tr>\n",
       "    <tr>\n",
       "      <th>Masculino</th>\n",
       "      <td>235</td>\n",
       "      <td>22194</td>\n",
       "      <td>256</td>\n",
       "      <td>25063</td>\n",
       "      <td>5502</td>\n",
       "    </tr>\n",
       "  </tbody>\n",
       "</table>\n",
       "</div>"
      ],
      "text/plain": [
       "cor        Amarela  Branca  Indígena  Parda  Preta\n",
       "sexo                                              \n",
       "Feminino       117    9621       101  10862   2889\n",
       "Masculino      235   22194       256  25063   5502"
      ]
     },
     "execution_count": 28,
     "metadata": {},
     "output_type": "execute_result"
    }
   ],
   "source": [
    "# Tabela de frequência cruzada\n",
    "pd.crosstab(dataset.sexo, dataset.cor)"
   ]
  },
  {
   "cell_type": "code",
   "execution_count": 30,
   "id": "987e4f38",
   "metadata": {},
   "outputs": [
    {
     "data": {
      "text/html": [
       "<div>\n",
       "<style scoped>\n",
       "    .dataframe tbody tr th:only-of-type {\n",
       "        vertical-align: middle;\n",
       "    }\n",
       "\n",
       "    .dataframe tbody tr th {\n",
       "        vertical-align: top;\n",
       "    }\n",
       "\n",
       "    .dataframe thead th {\n",
       "        text-align: right;\n",
       "    }\n",
       "</style>\n",
       "<table border=\"1\" class=\"dataframe\">\n",
       "  <thead>\n",
       "    <tr style=\"text-align: right;\">\n",
       "      <th>cor</th>\n",
       "      <th>Amarela</th>\n",
       "      <th>Branca</th>\n",
       "      <th>Indígena</th>\n",
       "      <th>Parda</th>\n",
       "      <th>Preta</th>\n",
       "    </tr>\n",
       "    <tr>\n",
       "      <th>sexo</th>\n",
       "      <th></th>\n",
       "      <th></th>\n",
       "      <th></th>\n",
       "      <th></th>\n",
       "      <th></th>\n",
       "    </tr>\n",
       "  </thead>\n",
       "  <tbody>\n",
       "    <tr>\n",
       "      <th>Feminino</th>\n",
       "      <td>0.152264</td>\n",
       "      <td>12.520822</td>\n",
       "      <td>0.131442</td>\n",
       "      <td>14.135867</td>\n",
       "      <td>3.759761</td>\n",
       "    </tr>\n",
       "    <tr>\n",
       "      <th>Masculino</th>\n",
       "      <td>0.305830</td>\n",
       "      <td>28.883394</td>\n",
       "      <td>0.333160</td>\n",
       "      <td>32.617126</td>\n",
       "      <td>7.160333</td>\n",
       "    </tr>\n",
       "  </tbody>\n",
       "</table>\n",
       "</div>"
      ],
      "text/plain": [
       "cor         Amarela     Branca  Indígena      Parda     Preta\n",
       "sexo                                                         \n",
       "Feminino   0.152264  12.520822  0.131442  14.135867  3.759761\n",
       "Masculino  0.305830  28.883394  0.333160  32.617126  7.160333"
      ]
     },
     "execution_count": 30,
     "metadata": {},
     "output_type": "execute_result"
    }
   ],
   "source": [
    "# Tabela de frequência cruzada com porcentagem\n",
    "pd.crosstab(dataset.sexo, dataset.cor, normalize=True) * 100"
   ]
  },
  {
   "cell_type": "code",
   "execution_count": 31,
   "id": "0e68e052",
   "metadata": {},
   "outputs": [
    {
     "data": {
      "text/html": [
       "<div>\n",
       "<style scoped>\n",
       "    .dataframe tbody tr th:only-of-type {\n",
       "        vertical-align: middle;\n",
       "    }\n",
       "\n",
       "    .dataframe tbody tr th {\n",
       "        vertical-align: top;\n",
       "    }\n",
       "\n",
       "    .dataframe thead th {\n",
       "        text-align: right;\n",
       "    }\n",
       "</style>\n",
       "<table border=\"1\" class=\"dataframe\">\n",
       "  <thead>\n",
       "    <tr style=\"text-align: right;\">\n",
       "      <th>cor</th>\n",
       "      <th>Amarela</th>\n",
       "      <th>Branca</th>\n",
       "      <th>Indígena</th>\n",
       "      <th>Parda</th>\n",
       "      <th>Preta</th>\n",
       "    </tr>\n",
       "    <tr>\n",
       "      <th>sexo</th>\n",
       "      <th></th>\n",
       "      <th></th>\n",
       "      <th></th>\n",
       "      <th></th>\n",
       "      <th></th>\n",
       "    </tr>\n",
       "  </thead>\n",
       "  <tbody>\n",
       "    <tr>\n",
       "      <th>Feminino</th>\n",
       "      <td>3027.341880</td>\n",
       "      <td>2109.866750</td>\n",
       "      <td>2464.386139</td>\n",
       "      <td>1176.758516</td>\n",
       "      <td>1134.596400</td>\n",
       "    </tr>\n",
       "    <tr>\n",
       "      <th>Masculino</th>\n",
       "      <td>4758.251064</td>\n",
       "      <td>2925.744435</td>\n",
       "      <td>1081.710938</td>\n",
       "      <td>1659.577425</td>\n",
       "      <td>1603.861687</td>\n",
       "    </tr>\n",
       "  </tbody>\n",
       "</table>\n",
       "</div>"
      ],
      "text/plain": [
       "cor            Amarela       Branca     Indígena        Parda        Preta\n",
       "sexo                                                                      \n",
       "Feminino   3027.341880  2109.866750  2464.386139  1176.758516  1134.596400\n",
       "Masculino  4758.251064  2925.744435  1081.710938  1659.577425  1603.861687"
      ]
     },
     "execution_count": 31,
     "metadata": {},
     "output_type": "execute_result"
    }
   ],
   "source": [
    "# Tabela de frequência cruzada em renda\n",
    "pd.crosstab(dataset.sexo, dataset.cor, aggfunc='mean', values = dataset.renda)"
   ]
  },
  {
   "cell_type": "code",
   "execution_count": null,
   "id": "b0c3be19",
   "metadata": {},
   "outputs": [],
   "source": [
    "# Categorizando a variável renda\n",
    "\n",
    "bins = [0, 1576, 3152, 7880, 15760, dataset.renda.max()]\n",
    "labels = ['E', 'D', 'C', 'B', 'A']\n",
    "\n",
    "dataset['renda_class'] = pd.cut(dataset.renda, bins=bins, labels=labels, include_lowest=True)"
   ]
  },
  {
   "cell_type": "code",
   "execution_count": null,
   "id": "49aa98f7",
   "metadata": {},
   "outputs": [],
   "source": [
    "# Visualizando o novo dataset\n",
    "dataset.head()"
   ]
  },
  {
   "cell_type": "code",
   "execution_count": null,
   "id": "1d67e98f",
   "metadata": {},
   "outputs": [],
   "source": [
    "# Visualizando a distribuição de frequência\n",
    "pd.value_counts(dataset['renda_class'])"
   ]
  },
  {
   "cell_type": "code",
   "execution_count": null,
   "id": "f6c32cfc",
   "metadata": {},
   "outputs": [],
   "source": [
    "# Visualizando a distribuição de frequência em porcentagem\n",
    "pd.value_counts(dataset['renda_class'], normalize=True)"
   ]
  },
  {
   "cell_type": "code",
   "execution_count": null,
   "id": "6b976f37",
   "metadata": {},
   "outputs": [],
   "source": [
    "# Importando biblioteca para criação de gráficos\n",
    "import seaborn as sns"
   ]
  },
  {
   "cell_type": "code",
   "execution_count": null,
   "id": "91e8edb2",
   "metadata": {},
   "outputs": [],
   "source": [
    "# Definindo configurações de aparência\n",
    "sns.set_style('darkgrid')"
   ]
  },
  {
   "cell_type": "code",
   "execution_count": null,
   "id": "23ed619f",
   "metadata": {},
   "outputs": [],
   "source": [
    "# Criando uma distribuição de frequência de alturas\n",
    "\n",
    "axes = sns.histplot(dataset['altura'], bins=50, alpha=0.5)\n",
    "\n",
    "axes.figure.set_size_inches(8, 6)\n",
    "\n",
    "axes.set_title('Distribuição de Frequências - Altura')\n",
    "\n",
    "axes.set_xlabel('Contagem')\n",
    "\n",
    "axes.set_ylabel('Altura')"
   ]
  },
  {
   "cell_type": "code",
   "execution_count": null,
   "id": "4d02bf19",
   "metadata": {},
   "outputs": [],
   "source": [
    "# Criando uma distribuição de frequência de rendas\n",
    "\n",
    "axes = sns.histplot(dataset['renda'], bins=50, alpha=0.5)\n",
    "\n",
    "axes.figure.set_size_inches(8, 6)\n",
    "\n",
    "axes.set_title('Distribuição de Frequências - Renda')\n",
    "\n",
    "axes.set_xlabel('Contagem')\n",
    "\n",
    "axes.set_ylabel('Renda')"
   ]
  },
  {
   "cell_type": "code",
   "execution_count": null,
   "id": "3ae1204b",
   "metadata": {},
   "outputs": [],
   "source": [
    "# Sobre a média\n",
    "dataset[['altura', 'idade', 'renda']].mean()"
   ]
  },
  {
   "cell_type": "code",
   "execution_count": null,
   "id": "0406856a",
   "metadata": {},
   "outputs": [],
   "source": [
    "# Sobre a mediana\n",
    "dataset[['altura', 'idade', 'renda']].median()"
   ]
  },
  {
   "cell_type": "code",
   "execution_count": null,
   "id": "2dcc341c",
   "metadata": {},
   "outputs": [],
   "source": [
    "# Sobre a moda\n",
    "dataset[['altura', 'idade', 'renda']].mode().loc[0]"
   ]
  },
  {
   "cell_type": "code",
   "execution_count": null,
   "id": "45f32f2c",
   "metadata": {},
   "outputs": [],
   "source": [
    "# Sobre o desvio padrão\n",
    "\n",
    "dataset['altura'] = dataset['altura'] * 100\n",
    "\n",
    "altura_media = dataset['altura'].mean()\n",
    "\n",
    "dataset['desvio_medio'] = dataset['altura'] - altura_media\n",
    "\n",
    "dataset.head()"
   ]
  },
  {
   "cell_type": "code",
   "execution_count": null,
   "id": "e1cfc85c",
   "metadata": {},
   "outputs": [],
   "source": [
    "dataset['variancia'] = dataset['desvio_medio'] ** 2\n",
    "\n",
    "dataset.head()"
   ]
  },
  {
   "cell_type": "code",
   "execution_count": null,
   "id": "776b6d30",
   "metadata": {},
   "outputs": [],
   "source": [
    "dataset['desvio_padrao'] = dataset['variancia'] ** (1/2)\n",
    "\n",
    "dataset.head()"
   ]
  },
  {
   "cell_type": "code",
   "execution_count": null,
   "id": "5d631f2a",
   "metadata": {},
   "outputs": [],
   "source": [
    "dataset['desvio_padrao'].mean()"
   ]
  },
  {
   "cell_type": "code",
   "execution_count": null,
   "id": "4c7defe6",
   "metadata": {},
   "outputs": [],
   "source": [
    "# Boxplots\n",
    "\n",
    "sns.boxplot(dataset['altura'])"
   ]
  },
  {
   "cell_type": "code",
   "execution_count": null,
   "id": "3059a0d3",
   "metadata": {},
   "outputs": [],
   "source": [
    "sns.boxplot(dataset['renda'])"
   ]
  },
  {
   "cell_type": "code",
   "execution_count": null,
   "id": "2ac47710",
   "metadata": {},
   "outputs": [],
   "source": []
  }
 ],
 "metadata": {
  "kernelspec": {
   "display_name": "Python 3 (ipykernel)",
   "language": "python",
   "name": "python3"
  },
  "language_info": {
   "codemirror_mode": {
    "name": "ipython",
    "version": 3
   },
   "file_extension": ".py",
   "mimetype": "text/x-python",
   "name": "python",
   "nbconvert_exporter": "python",
   "pygments_lexer": "ipython3",
   "version": "3.9.16"
  }
 },
 "nbformat": 4,
 "nbformat_minor": 5
}
