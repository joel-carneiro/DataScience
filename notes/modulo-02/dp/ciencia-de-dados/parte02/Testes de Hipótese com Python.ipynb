{
 "cells": [
  {
   "cell_type": "markdown",
   "id": "652464c8",
   "metadata": {},
   "source": [
    "# 1 - Testes de Hipótese com Python\n",
    "\n",
    "É uma metodologia estatística que nos auxilia a tomar decisões sobre uma ou mais populações baseado na informação obtida da amostra.\n",
    "\n",
    "Nos permite verificar se os dados amostrais trazem evidência que apoiem ou não uma hipótese estatística formulada.\n",
    "\n",
    "Ao tentarmos tomar decisões, é conveniente a formulação de suposições ou de conjeturas sobre as populações de interesse, que, em geral, consistem em considerações sobre parâmetros (μ,σ2,p) das mesmas.\n",
    "\n",
    "Essas suposições, que podem ser ou não verdadeiras, são denominadas de Hipóteses Estatísticas.\n",
    "\n",
    "Em muitas situações práticas o interesse do pesquisador é verificar a veracidade sobre um ou mais parâmetros populacionais (μ,σ2,p) ou sobre a distribuição de uma variável aleatória."
   ]
  },
  {
   "cell_type": "code",
   "execution_count": 1,
   "id": "7ffb26d8",
   "metadata": {},
   "outputs": [],
   "source": [
    "import pandas as pd"
   ]
  },
  {
   "cell_type": "code",
   "execution_count": 27,
   "id": "4d65084d",
   "metadata": {},
   "outputs": [],
   "source": [
    "import numpy as np"
   ]
  },
  {
   "cell_type": "code",
   "execution_count": 2,
   "id": "7fd19480",
   "metadata": {},
   "outputs": [],
   "source": [
    "df = pd.read_csv('/home/joeldspy/Modelos/datasets/dataset.csv')"
   ]
  },
  {
   "cell_type": "code",
   "execution_count": 3,
   "id": "e3fdc07b",
   "metadata": {},
   "outputs": [
    {
     "data": {
      "text/html": [
       "<div>\n",
       "<style scoped>\n",
       "    .dataframe tbody tr th:only-of-type {\n",
       "        vertical-align: middle;\n",
       "    }\n",
       "\n",
       "    .dataframe tbody tr th {\n",
       "        vertical-align: top;\n",
       "    }\n",
       "\n",
       "    .dataframe thead th {\n",
       "        text-align: right;\n",
       "    }\n",
       "</style>\n",
       "<table border=\"1\" class=\"dataframe\">\n",
       "  <thead>\n",
       "    <tr style=\"text-align: right;\">\n",
       "      <th></th>\n",
       "      <th>estado</th>\n",
       "      <th>sexo</th>\n",
       "      <th>idade</th>\n",
       "      <th>cor</th>\n",
       "      <th>anos_de_estudo</th>\n",
       "      <th>renda</th>\n",
       "      <th>altura</th>\n",
       "    </tr>\n",
       "  </thead>\n",
       "  <tbody>\n",
       "    <tr>\n",
       "      <th>0</th>\n",
       "      <td>SP</td>\n",
       "      <td>Masculino</td>\n",
       "      <td>23</td>\n",
       "      <td>Parda</td>\n",
       "      <td>11 anos</td>\n",
       "      <td>800</td>\n",
       "      <td>160.380762</td>\n",
       "    </tr>\n",
       "    <tr>\n",
       "      <th>1</th>\n",
       "      <td>SP</td>\n",
       "      <td>Feminino</td>\n",
       "      <td>23</td>\n",
       "      <td>Branca</td>\n",
       "      <td>11 anos</td>\n",
       "      <td>1150</td>\n",
       "      <td>173.978983</td>\n",
       "    </tr>\n",
       "    <tr>\n",
       "      <th>2</th>\n",
       "      <td>SP</td>\n",
       "      <td>Feminino</td>\n",
       "      <td>35</td>\n",
       "      <td>Parda</td>\n",
       "      <td>14 anos</td>\n",
       "      <td>880</td>\n",
       "      <td>176.044382</td>\n",
       "    </tr>\n",
       "    <tr>\n",
       "      <th>3</th>\n",
       "      <td>SP</td>\n",
       "      <td>Masculino</td>\n",
       "      <td>46</td>\n",
       "      <td>Branca</td>\n",
       "      <td>5 anos</td>\n",
       "      <td>3500</td>\n",
       "      <td>178.315794</td>\n",
       "    </tr>\n",
       "    <tr>\n",
       "      <th>4</th>\n",
       "      <td>SP</td>\n",
       "      <td>Feminino</td>\n",
       "      <td>47</td>\n",
       "      <td>Parda</td>\n",
       "      <td>8 anos</td>\n",
       "      <td>150</td>\n",
       "      <td>169.063095</td>\n",
       "    </tr>\n",
       "  </tbody>\n",
       "</table>\n",
       "</div>"
      ],
      "text/plain": [
       "  estado       sexo  idade     cor anos_de_estudo  renda      altura\n",
       "0     SP  Masculino     23   Parda        11 anos    800  160.380762\n",
       "1     SP   Feminino     23  Branca        11 anos   1150  173.978983\n",
       "2     SP   Feminino     35   Parda        14 anos    880  176.044382\n",
       "3     SP  Masculino     46  Branca         5 anos   3500  178.315794\n",
       "4     SP   Feminino     47   Parda         8 anos    150  169.063095"
      ]
     },
     "execution_count": 3,
     "metadata": {},
     "output_type": "execute_result"
    }
   ],
   "source": [
    "df.head()"
   ]
  },
  {
   "cell_type": "markdown",
   "id": "75f11e12",
   "metadata": {},
   "source": [
    "## 1.1 - Teste de Normalidade\n",
    "\n",
    "Em estatística, os testes de normalidade são usados para determinar se um conjunto de dados de uma dada variável aleatória, é bem modelada por uma distribuição normal ou não, ou para calcular a probabilidade da variável aleatória subjacente estar normalmente distribuída.\n",
    "\n",
    "Mais precisamente, os testes são uma forma de selecção de modelos, e podem ser interpretados de várias maneiras, dependendo de como cada um interpreta as probabilidades:"
   ]
  },
  {
   "cell_type": "code",
   "execution_count": 4,
   "id": "5939e404",
   "metadata": {},
   "outputs": [],
   "source": [
    "# Importando a função para cálculo do teste de normalidade\n",
    "from scipy.stats import normaltest"
   ]
  },
  {
   "cell_type": "code",
   "execution_count": 11,
   "id": "6db319b5",
   "metadata": {},
   "outputs": [
    {
     "data": {
      "text/plain": [
       "<AxesSubplot: >"
      ]
     },
     "execution_count": 11,
     "metadata": {},
     "output_type": "execute_result"
    },
    {
     "data": {
      "image/png": "[encoded data removed]",
      "text/plain": [
       "<Figure size 640x480 with 1 Axes>"
      ]
     },
     "metadata": {},
     "output_type": "display_data"
    }
   ],
   "source": [
    "# Visualizando a distribuição da variável renda\n",
    "df.renda.hist(bins=50)"
   ]
  },
  {
   "cell_type": "code",
   "execution_count": 18,
   "id": "00b8c72c",
   "metadata": {},
   "outputs": [
    {
     "name": "stdout",
     "output_type": "stream",
     "text": [
      "152380.75803960307\n",
      "0.0\n"
     ]
    }
   ],
   "source": [
    "# Realizando o teste estatístico\n",
    "statistic, pvalue = normaltest(df.renda)\n",
    "\n",
    "# Visualizando os resultados\n",
    "print(statistic)\n",
    "print(pvalue)"
   ]
  },
  {
   "cell_type": "code",
   "execution_count": 19,
   "id": "3d0fc74c",
   "metadata": {},
   "outputs": [
    {
     "data": {
      "text/plain": [
       "True"
      ]
     },
     "execution_count": 19,
     "metadata": {},
     "output_type": "execute_result"
    }
   ],
   "source": [
    "# Rejeitar H0, se o pvalue < 0.05\n",
    "pvalue < 0.05"
   ]
  },
  {
   "cell_type": "code",
   "execution_count": 23,
   "id": "1f03749c",
   "metadata": {},
   "outputs": [
    {
     "data": {
      "text/plain": [
       "<AxesSubplot: >"
      ]
     },
     "execution_count": 23,
     "metadata": {},
     "output_type": "execute_result"
    },
    {
     "data": {
      "image/png": "[encoded data removed]",
      "text/plain": [
       "<Figure size 640x480 with 1 Axes>"
      ]
     },
     "metadata": {},
     "output_type": "display_data"
    }
   ],
   "source": [
    "# Visualizando a distribuição da variável altura\n",
    "df.altura.hist(bins=50)"
   ]
  },
  {
   "cell_type": "code",
   "execution_count": 20,
   "id": "2fc8595a",
   "metadata": {},
   "outputs": [
    {
     "name": "stdout",
     "output_type": "stream",
     "text": [
      "0.19973093956867624\n",
      "0.9049591541973593\n"
     ]
    }
   ],
   "source": [
    "# Realizando o teste estatístico\n",
    "statistic, pvalue = normaltest(df.altura)\n",
    "\n",
    "# Visualizando os resultados\n",
    "print(statistic)\n",
    "print(pvalue)"
   ]
  },
  {
   "cell_type": "code",
   "execution_count": 21,
   "id": "5e55213f",
   "metadata": {},
   "outputs": [
    {
     "data": {
      "text/plain": [
       "False"
      ]
     },
     "execution_count": 21,
     "metadata": {},
     "output_type": "execute_result"
    }
   ],
   "source": [
    "# Rejeitar H0, se o pvalue < 0.05\n",
    "pvalue < 0.05"
   ]
  },
  {
   "cell_type": "markdown",
   "id": "99636820",
   "metadata": {},
   "source": [
    "## 1.2 Passos de um Teste de Hipótese"
   ]
  },
  {
   "cell_type": "code",
   "execution_count": 24,
   "id": "311a88b1",
   "metadata": {},
   "outputs": [],
   "source": [
    "# Formulação das Hipóteses\n",
    "H0 = 'Hipótese nula' # Representa a igualdade do teste\n",
    "H1 = 'Hipótese alternativa' # Representa a diferença do teste"
   ]
  },
  {
   "cell_type": "markdown",
   "id": "566e38a2",
   "metadata": {},
   "source": [
    "<img src='https://imgur.com/ORgqWvu.png' width=80%>\n",
    "\n",
    "<img src='https://imgur.com/UfA7c56.png' width=80%>"
   ]
  },
  {
   "cell_type": "markdown",
   "id": "319f7343",
   "metadata": {},
   "source": [
    "## 1.3 - Testes Parâmetricos"
   ]
  },
  {
   "cell_type": "markdown",
   "id": "8a8ce787",
   "metadata": {},
   "source": [
    "A empresa Suco Bom produz sucos de frutas em embalagens de 500 ml.\n",
    "\n",
    "Seu processo de produção é quase todo automatizado e as embalagens de suco são preenchidas por uma máquina que às vezes apresenta um certo desajuste, levando a erros no preenchimento das embalagens para mais ou menos conteúdo. Quando o volume médio cai abaixo de 500 ml, a empresa se preocupa em perder vendas e ter problemas com os órgãos fiscalizadores.\n",
    "\n",
    "Quando o volume passa de 500 ml, a empresa começa a se preocupar com prejuízos no processo de produção. O setor de controle de qualidade da empresa Suco Bom extrai, periodicamente, amostras de 50 embalagens para monitorar o processo de produção. Para cada amostra, é realizado um teste de hipóteses para avaliar se o maquinário se desajustou. A equipe de controle de qualidade assume um nível de significância de 5%.\n",
    "\n",
    "Suponha agora que uma amostra de 50 embalagens foi selecionada e que a média amostral observada foi de 503,24 ml. Esse valor de média amostral é suficientemente maior que 500 ml para nos fazer rejeitar a hipótese de que a média do processo é de 500 ml ao nível de significância de 5%?"
   ]
  },
  {
   "cell_type": "code",
   "execution_count": 38,
   "id": "177e632d",
   "metadata": {},
   "outputs": [],
   "source": [
    "H0 = 'A média populacional é de 500ml'\n",
    "H1 = 'A média populacional não é de 500ml' # Teste Bicaudal"
   ]
  },
  {
   "cell_type": "code",
   "execution_count": 26,
   "id": "5b7ebab7",
   "metadata": {},
   "outputs": [],
   "source": [
    "amostra = [509, 505, 495, 510, 496, 509, 497, 502, 503, 505, \n",
    "           501, 505, 510, 505, 504, 497, 506, 506, 508, 505, \n",
    "           497, 504, 500, 498, 506, 496, 508, 497, 503, 501, \n",
    "           503, 506, 499, 498, 509, 507, 503, 499, 509, 495, \n",
    "           502, 505, 504, 509, 508, 501, 505, 497, 508, 507]"
   ]
  },
  {
   "cell_type": "code",
   "execution_count": 40,
   "id": "a1e9c073",
   "metadata": {},
   "outputs": [
    {
     "data": {
      "text/plain": [
       "503.24"
      ]
     },
     "execution_count": 40,
     "metadata": {},
     "output_type": "execute_result"
    }
   ],
   "source": [
    "media_da_amostra = np.mean(amostra); media_da_amostra"
   ]
  },
  {
   "cell_type": "code",
   "execution_count": 39,
   "id": "115a9694",
   "metadata": {},
   "outputs": [
    {
     "data": {
      "text/plain": [
       "4.438738559545944"
      ]
     },
     "execution_count": 39,
     "metadata": {},
     "output_type": "execute_result"
    }
   ],
   "source": [
    "desvio_padrao_da_amostra = np.std(amostra); desvio_padrao_da_amostra"
   ]
  },
  {
   "cell_type": "code",
   "execution_count": 47,
   "id": "3a5f6b9b",
   "metadata": {},
   "outputs": [],
   "source": [
    "from scipy.stats import norm\n",
    "\n",
    "media_populacional = 500\n",
    "significancia = 0.05\n",
    "confiancia = 1 - significancia\n",
    "n = 50\n",
    "z_alpha_2 = norm.ppf(0.975)"
   ]
  },
  {
   "cell_type": "code",
   "execution_count": 48,
   "id": "998cab6b",
   "metadata": {},
   "outputs": [
    {
     "data": {
      "text/plain": [
       "'A média populacional é de 500ml'"
      ]
     },
     "execution_count": 48,
     "metadata": {},
     "output_type": "execute_result"
    }
   ],
   "source": [
    "H0"
   ]
  },
  {
   "cell_type": "code",
   "execution_count": 49,
   "id": "1ccc9ec7",
   "metadata": {},
   "outputs": [
    {
     "data": {
      "text/plain": [
       "'A média populacional não é de 500ml'"
      ]
     },
     "execution_count": 49,
     "metadata": {},
     "output_type": "execute_result"
    }
   ],
   "source": [
    "H1"
   ]
  },
  {
   "cell_type": "code",
   "execution_count": 50,
   "id": "3e77f65f",
   "metadata": {},
   "outputs": [],
   "source": [
    "z = (media_da_amostra - media_populacional) / (desvio_padrao_da_amostra / np.sqrt(n))"
   ]
  },
  {
   "cell_type": "code",
   "execution_count": 51,
   "id": "578d9eeb",
   "metadata": {},
   "outputs": [
    {
     "data": {
      "text/plain": [
       "5.1614348092598155"
      ]
     },
     "execution_count": 51,
     "metadata": {},
     "output_type": "execute_result"
    }
   ],
   "source": [
    "z"
   ]
  },
  {
   "cell_type": "code",
   "execution_count": 55,
   "id": "d4cee37e",
   "metadata": {},
   "outputs": [
    {
     "data": {
      "text/plain": [
       "False"
      ]
     },
     "execution_count": 55,
     "metadata": {},
     "output_type": "execute_result"
    }
   ],
   "source": [
    "# Rejeitar H0 se z <= -z_alpha_2\n",
    "z <= -z_alpha_2"
   ]
  },
  {
   "cell_type": "code",
   "execution_count": 56,
   "id": "ebcd7b1f",
   "metadata": {},
   "outputs": [
    {
     "data": {
      "text/plain": [
       "True"
      ]
     },
     "execution_count": 56,
     "metadata": {},
     "output_type": "execute_result"
    }
   ],
   "source": [
    "# Rejeitar H0 se z >= z_alpha_2\n",
    "z >= z_alpha_2"
   ]
  },
  {
   "cell_type": "code",
   "execution_count": null,
   "id": "315f78b2",
   "metadata": {},
   "outputs": [],
   "source": []
  }
 ],
 "metadata": {
  "kernelspec": {
   "display_name": "Python 3 (ipykernel)",
   "language": "python",
   "name": "python3"
  },
  "language_info": {
   "codemirror_mode": {
    "name": "ipython",
    "version": 3
   },
   "file_extension": ".py",
   "mimetype": "text/x-python",
   "name": "python",
   "nbconvert_exporter": "python",
   "pygments_lexer": "ipython3",
   "version": "3.9.16"
  }
 },
 "nbformat": 4,
 "nbformat_minor": 5
}
