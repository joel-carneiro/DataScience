{
 "cells": [
  {
   "cell_type": "markdown",
   "id": "4b07f6aa",
   "metadata": {},
   "source": [
    "# 1 - Probabilidade e Amostragem com Python\n",
    "\n",
    "Probabilidade é o estudo das chances de obtenção de cada resultado de um experimento aleatório. A essas chances são atribuídos os números reais do intervalo entre 0 e 1."
   ]
  },
  {
   "cell_type": "markdown",
   "id": "9499c9b9",
   "metadata": {},
   "source": [
    "## 1.1 - Distribuição Binomial\n",
    "\n",
    "Esta importante distribuição é aplicada em casos de experimentos repetidos, onde existem dois possíveis resultados: cara ou coroa, sucesso ou fracasso, item defeituoso ou item não defeituoso, e muitos outros possíveis pares. A probabilidade de cada resultado pode ser calculada utilizando a regra da multiplicação, talvez com o uso do diagrama de árvore, porém é muito mais simples e eficiente utilizar uma equação generalizada.\n",
    "\n",
    "Assim, uma variável aleatória poderá ter sua distribuição de probabilidade modelada de forma binomial caso atenda os seguintes pressupostos:\n",
    "\n",
    "- o resultado é completamente determinado por chance (aleatório);\n",
    "\n",
    "- existem somente dois possíveis resultados, experimento Bernoulli;\n",
    "\n",
    "- todas as tentativas possuem a mesma probabilidade para um resultado em particular. Ou seja, as tentativas ou realizações do experimento são independentes;\n",
    "\n",
    "- isso implica que, existe uma probabilidade p de sucesso constante em cada tentativa\n",
    "\n",
    "- o número de tentativas, n, é um valor fixo, um número inteiro e positivo;\n",
    "\n",
    "<img src='https://imgur.com/dcI0Lcn.png'>"
   ]
  },
  {
   "cell_type": "code",
   "execution_count": 1,
   "id": "809efd32",
   "metadata": {},
   "outputs": [],
   "source": [
    "# Criando uma função para cálculo rápido de número de combinações\n",
    "from math import factorial\n",
    "\n",
    "comb = lambda n, x : factorial(n) / (factorial(x) * factorial(n - x))\n",
    "\n",
    "prob_binom = lambda n, x, p : comb(n, x) * (p ** x) * ((1 - p) ** (n - x))"
   ]
  },
  {
   "cell_type": "code",
   "execution_count": 2,
   "id": "1a2908ee",
   "metadata": {},
   "outputs": [
    {
     "data": {
      "text/plain": [
       "50063860.0"
      ]
     },
     "execution_count": 2,
     "metadata": {},
     "output_type": "execute_result"
    }
   ],
   "source": [
    "# Quantidade de jogos possíveis na mega-sena\n",
    "comb(60, 6)"
   ]
  },
  {
   "cell_type": "code",
   "execution_count": 3,
   "id": "51a61765",
   "metadata": {},
   "outputs": [
    {
     "data": {
      "text/plain": [
       "1.997448858318156e-06"
      ]
     },
     "execution_count": 3,
     "metadata": {},
     "output_type": "execute_result"
    }
   ],
   "source": [
    "# Probabilidade de se ganhar na mega-sena\n",
    "1 / comb(60, 6) * 100"
   ]
  },
  {
   "cell_type": "markdown",
   "id": "b681a152",
   "metadata": {},
   "source": [
    "1) Suponha que uma fábrica produza 1000 lâmpadas e que 5% delas estejam com defeito. Qual é a probabilidade de que, ao escolhermos aleatoriamente 50 lâmpadas dessa fábrica, exatamente 3 estejam com defeito?"
   ]
  },
  {
   "cell_type": "code",
   "execution_count": 4,
   "id": "3c84a461",
   "metadata": {},
   "outputs": [
    {
     "data": {
      "text/plain": [
       "21.98748382305844"
      ]
     },
     "execution_count": 4,
     "metadata": {},
     "output_type": "execute_result"
    }
   ],
   "source": [
    "# 1) Resolução\n",
    "prob_binom(n=50, x=3, p=0.05) * 100"
   ]
  },
  {
   "cell_type": "markdown",
   "id": "8d7ff2ff",
   "metadata": {},
   "source": [
    "2. Na prova de um concurso, temos um total de 10 questões de múltipla escolha com 3 alternativas cada. Cada questão tem o mesmo valor, e suporemos que um candidato fez o teste chutando todas as perguntas de forma aleatória, pois não estudou absolutamente nada.\n",
    "\n",
    "    Assumindo que a prova vale 10 pontos e 5 seja a nota de corte, ou seja, uma nota maior a 5 significará aprovação e menor que 5 reprovação"
   ]
  },
  {
   "cell_type": "code",
   "execution_count": 6,
   "id": "d9fa5780",
   "metadata": {},
   "outputs": [],
   "source": [
    "# Importando funções mais eficientes que as criadas\n",
    "from scipy.stats import binom"
   ]
  },
  {
   "cell_type": "code",
   "execution_count": 9,
   "id": "098cb296",
   "metadata": {},
   "outputs": [
    {
     "data": {
      "text/plain": [
       "13.656454808718161"
      ]
     },
     "execution_count": 9,
     "metadata": {},
     "output_type": "execute_result"
    }
   ],
   "source": [
    "# Probabilidade do candidato acertar exatamente 5 questões\n",
    "binom.pmf(5, 10, 1/3) * 100"
   ]
  },
  {
   "cell_type": "code",
   "execution_count": 10,
   "id": "2d6d334f",
   "metadata": {},
   "outputs": [
    {
     "data": {
      "text/plain": [
       "0.21312808006909492"
      ]
     },
     "execution_count": 10,
     "metadata": {},
     "output_type": "execute_result"
    }
   ],
   "source": [
    "# Probabilidade do  candidato ser aprovado\n",
    "sum(binom.pmf([5, 6, 7, 8, 9, 10], 10, 1/3))"
   ]
  },
  {
   "cell_type": "code",
   "execution_count": 11,
   "id": "bc9d5031",
   "metadata": {},
   "outputs": [
    {
     "data": {
      "text/plain": [
       "0.21312808006909523"
      ]
     },
     "execution_count": 11,
     "metadata": {},
     "output_type": "execute_result"
    }
   ],
   "source": [
    "# Probabilidade do  candidato ser aprovado\n",
    "1 - binom.cdf(4, 10, 1/3)"
   ]
  },
  {
   "cell_type": "code",
   "execution_count": 12,
   "id": "1dc06f4b",
   "metadata": {},
   "outputs": [
    {
     "data": {
      "text/plain": [
       "0.21312808006909525"
      ]
     },
     "execution_count": 12,
     "metadata": {},
     "output_type": "execute_result"
    }
   ],
   "source": [
    "# Probabilidade do  candidato ser aprovado\n",
    "binom.sf(4, 10, 1/3)"
   ]
  },
  {
   "cell_type": "markdown",
   "id": "f9a2133a",
   "metadata": {},
   "source": [
    "3. Temos uma cidade do interior que realiza todos os anos uma gincana para arrecadar fundos para o hospital da cidade. Na última, a proporção de participantes do sexo feminino foi de 60% e o total foi de 30 equipes com 12 integrantes cada uma.\n",
    "\n",
    "    Com as informações acima, deveremos responder quantas equipes são formadas por 8 mulheres."
   ]
  },
  {
   "cell_type": "code",
   "execution_count": 13,
   "id": "9fa80d2d",
   "metadata": {
    "scrolled": true
   },
   "outputs": [
    {
     "data": {
      "text/plain": [
       "6"
      ]
     },
     "execution_count": 13,
     "metadata": {},
     "output_type": "execute_result"
    }
   ],
   "source": [
    "# Quantidade de equipes formadas por 8 mulheres\n",
    "round(binom.pmf(8, 12, 0.6) * 30)"
   ]
  },
  {
   "cell_type": "code",
   "execution_count": 15,
   "id": "5f7ade82",
   "metadata": {},
   "outputs": [
    {
     "data": {
      "text/plain": [
       "[<matplotlib.lines.Line2D at 0x7f6ec1b123d0>]"
      ]
     },
     "execution_count": 15,
     "metadata": {},
     "output_type": "execute_result"
    },
    {
     "data": {
      "image/png": "[encoded data removed]",
      "text/plain": [
       "<Figure size 640x480 with 1 Axes>"
      ]
     },
     "metadata": {},
     "output_type": "display_data"
    }
   ],
   "source": [
    "# Visualizando a probabilidade de acerto de questões no ENEM\n",
    "import matplotlib.pyplot as plt\n",
    "\n",
    "dist_binom = binom.pmf(range(0, 91, 1), 90, 1/5)\n",
    "\n",
    "plt.plot(dist_binom)"
   ]
  },
  {
   "cell_type": "markdown",
   "id": "43929b38",
   "metadata": {},
   "source": [
    "## 1.2 - Distribuição Poisson\n",
    "\n",
    "A distribuição de Poisson é uma distribuição discreta de probabilidade aplicável a ocorrências de um número de eventos em um intervalo específico.\n",
    "\n",
    "Para reconhecer uma distribuição de Poisson, basta observar os três aspectos a seguir:\n",
    "\n",
    "- O experimento calcula quantas vezes que um evento ocorre em um determinado intervalo de tempo, área, volume, etc;\n",
    "- A probabilidade do evento ocorrer é a mesma para cada intervalo;\n",
    "- O número de ocorrências de um intervalo é independente do outro."
   ]
  },
  {
   "cell_type": "markdown",
   "id": "b5ac79ed",
   "metadata": {},
   "source": [
    "<img src='https://images.prismic.io/voitto-blog/Mzc1YzYzNmQtMTM1Yy00YzRjLWExYzMtMzgzYTA2ZDQwMzQw_zrsuwxyqcti5ptj4whs0lgesau_7xyhvxmzfvajjgo_8uczl6tfu8vqbtzq7cer-veg5xdlvkdfknlnf_fvwszuedsiwxfrrvkwnctizglvsf4pdyaeag6mymvk6_uqxzzpspkci' width=25%>"
   ]
  },
  {
   "cell_type": "markdown",
   "id": "1c653730",
   "metadata": {},
   "source": [
    "1. Um restaurante recebe em média 10 pedidos de delivery por hora. Qual a probabilidade de receber exatamente 15 pedidos em um intervalo de 1 hora? Supondo que a distribuição de chegada dos pedidos seja Poisson."
   ]
  },
  {
   "cell_type": "code",
   "execution_count": 16,
   "id": "a19832a6",
   "metadata": {},
   "outputs": [],
   "source": [
    "# Importando módulo para trabalhar com distribuição poisson\n",
    "from scipy.stats import poisson"
   ]
  },
  {
   "cell_type": "code",
   "execution_count": 18,
   "id": "af556fcf",
   "metadata": {},
   "outputs": [
    {
     "data": {
      "text/plain": [
       "3.4718069630684245"
      ]
     },
     "execution_count": 18,
     "metadata": {},
     "output_type": "execute_result"
    }
   ],
   "source": [
    "# Probabilidade da questão 01\n",
    "poisson.pmf(15, 10) * 100"
   ]
  },
  {
   "cell_type": "markdown",
   "id": "8eafb16b",
   "metadata": {},
   "source": [
    "2. Um restaurante recebe, em média, 20 pedidos por hora. Qual a chance de que, em determinada hora escolhida ao acaso, o restaurante receba 15 pedidos?"
   ]
  },
  {
   "cell_type": "code",
   "execution_count": 20,
   "id": "6e95b3d0",
   "metadata": {},
   "outputs": [
    {
     "data": {
      "text/plain": [
       "5.164885353175814"
      ]
     },
     "execution_count": 20,
     "metadata": {},
     "output_type": "execute_result"
    }
   ],
   "source": [
    "# Probabilidade da questão 02\n",
    "poisson.pmf(15, 20) * 100"
   ]
  },
  {
   "cell_type": "code",
   "execution_count": 21,
   "id": "ab2997dc",
   "metadata": {},
   "outputs": [
    {
     "data": {
      "text/plain": [
       "[<matplotlib.lines.Line2D at 0x7f6ec1a36c10>]"
      ]
     },
     "execution_count": 21,
     "metadata": {},
     "output_type": "execute_result"
    },
    {
     "data": {
      "image/png": "[encoded data removed]",
      "text/plain": [
       "<Figure size 640x480 with 1 Axes>"
      ]
     },
     "metadata": {},
     "output_type": "display_data"
    }
   ],
   "source": [
    "# Visualizando a distribuição Poisson\n",
    "\n",
    "dist_poisson = poisson.pmf(range(0, 40), 20)\n",
    "\n",
    "plt.plot(dist_poisson)"
   ]
  },
  {
   "cell_type": "markdown",
   "id": "35d85714",
   "metadata": {},
   "source": [
    "## 1.3 - Distribuição Normal\n",
    "\n",
    "A distribuição normal, também conhecida como distribuição gaussiana, é uma curva simétrica em torno do seu ponto médio, apresentando assim seu famoso formato de sino.\n",
    "\n",
    "Uma distribuição estatística é uma função que define uma curva, e a área sob essa curva determina a probabilidade de ocorrer o evento por ela correlacionado.\n",
    "\n",
    "<img src='https://imgur.com/KbBQhbs.png'>\n",
    "\n",
    "<img src='https://www.monolitonimbus.com.br/wp-content/uploads/2016/10/Standard_deviation_diagram.png' width=500px>"
   ]
  },
  {
   "cell_type": "code",
   "execution_count": 22,
   "id": "151ab0e3",
   "metadata": {},
   "outputs": [],
   "source": [
    "# Importando módulo para trabalhar com distribuição normal\n",
    "import numpy as np"
   ]
  },
  {
   "cell_type": "code",
   "execution_count": 23,
   "id": "928c7cf6",
   "metadata": {},
   "outputs": [
    {
     "data": {
      "image/png": "[encoded data removed]",
      "text/plain": [
       "<Figure size 640x480 with 1 Axes>"
      ]
     },
     "metadata": {},
     "output_type": "display_data"
    }
   ],
   "source": [
    "# Visualizando uma distribuição normal\n",
    "dist_normal = np.random.normal(loc=170, scale=10, size=10000)\n",
    "\n",
    "plt.hist(dist_normal, bins=50)\n",
    "\n",
    "plt.show()"
   ]
  },
  {
   "cell_type": "code",
   "execution_count": 26,
   "id": "c83844da",
   "metadata": {},
   "outputs": [
    {
     "data": {
      "text/plain": [
       "0.8413447460685429"
      ]
     },
     "execution_count": 26,
     "metadata": {},
     "output_type": "execute_result"
    }
   ],
   "source": [
    "# Probabilidade de alguém ter menos de 180cm de altura\n",
    "from scipy.stats import norm\n",
    "\n",
    "Z = (180 - 170) / 10\n",
    "\n",
    "norm.cdf(Z)"
   ]
  },
  {
   "cell_type": "code",
   "execution_count": 32,
   "id": "33124b98",
   "metadata": {},
   "outputs": [
    {
     "data": {
      "text/plain": [
       "0.15865525393145707"
      ]
     },
     "execution_count": 32,
     "metadata": {},
     "output_type": "execute_result"
    }
   ],
   "source": [
    "# Probabilidade de alguém ter menos de 160cm de altura\n",
    "from scipy.stats import norm\n",
    "\n",
    "Z = (160 - 170) / 10\n",
    "\n",
    "norm.cdf(Z)"
   ]
  },
  {
   "cell_type": "code",
   "execution_count": 33,
   "id": "77990e1d",
   "metadata": {},
   "outputs": [
    {
     "data": {
      "text/plain": [
       "0.9772498680518208"
      ]
     },
     "execution_count": 33,
     "metadata": {},
     "output_type": "execute_result"
    }
   ],
   "source": [
    "# Probabilidade de alguém ter entre 160cm e 180cm de altura\n",
    "from scipy.stats import norm\n",
    "\n",
    "Z1 = (180 - 170) / 10\n",
    "Z2 = (160 - 170) / 10\n",
    "\n",
    "norm.cdf(Z1 - Z2)"
   ]
  },
  {
   "cell_type": "markdown",
   "id": "ec20c191",
   "metadata": {},
   "source": [
    "## 1.4 - Amostragem\n",
    "\n",
    "pequena porção de alguma coisa dada para ver, provar ou analisar, a fim de que a qualidade do todo possa ser avaliada ou julgada."
   ]
  },
  {
   "cell_type": "markdown",
   "id": "00ac5db9",
   "metadata": {},
   "source": [
    "<img src='https://1.bp.blogspot.com/-sYM3vDns3_A/XxjLoxLL1bI/AAAAAAAAALs/ztrUyo5p_YwIHvMWvtDMYYamZegfxpLlQCLcBGAsYHQ/s1600/foto%2B1.png'>"
   ]
  },
  {
   "cell_type": "code",
   "execution_count": 36,
   "id": "c4e2deb8",
   "metadata": {},
   "outputs": [],
   "source": [
    "import pandas as pd"
   ]
  },
  {
   "cell_type": "code",
   "execution_count": 37,
   "id": "343f2ce4",
   "metadata": {},
   "outputs": [
    {
     "data": {
      "text/html": [
       "<div>\n",
       "<style scoped>\n",
       "    .dataframe tbody tr th:only-of-type {\n",
       "        vertical-align: middle;\n",
       "    }\n",
       "\n",
       "    .dataframe tbody tr th {\n",
       "        vertical-align: top;\n",
       "    }\n",
       "\n",
       "    .dataframe thead th {\n",
       "        text-align: right;\n",
       "    }\n",
       "</style>\n",
       "<table border=\"1\" class=\"dataframe\">\n",
       "  <thead>\n",
       "    <tr style=\"text-align: right;\">\n",
       "      <th></th>\n",
       "      <th>estado</th>\n",
       "      <th>sexo</th>\n",
       "      <th>idade</th>\n",
       "      <th>cor</th>\n",
       "      <th>anos_de_estudo</th>\n",
       "      <th>renda</th>\n",
       "      <th>altura</th>\n",
       "    </tr>\n",
       "  </thead>\n",
       "  <tbody>\n",
       "    <tr>\n",
       "      <th>0</th>\n",
       "      <td>SP</td>\n",
       "      <td>Masculino</td>\n",
       "      <td>23</td>\n",
       "      <td>Parda</td>\n",
       "      <td>11 anos</td>\n",
       "      <td>800</td>\n",
       "      <td>160.380762</td>\n",
       "    </tr>\n",
       "    <tr>\n",
       "      <th>1</th>\n",
       "      <td>SP</td>\n",
       "      <td>Feminino</td>\n",
       "      <td>23</td>\n",
       "      <td>Branca</td>\n",
       "      <td>11 anos</td>\n",
       "      <td>1150</td>\n",
       "      <td>173.978983</td>\n",
       "    </tr>\n",
       "    <tr>\n",
       "      <th>2</th>\n",
       "      <td>SP</td>\n",
       "      <td>Feminino</td>\n",
       "      <td>35</td>\n",
       "      <td>Parda</td>\n",
       "      <td>14 anos</td>\n",
       "      <td>880</td>\n",
       "      <td>176.044382</td>\n",
       "    </tr>\n",
       "    <tr>\n",
       "      <th>3</th>\n",
       "      <td>SP</td>\n",
       "      <td>Masculino</td>\n",
       "      <td>46</td>\n",
       "      <td>Branca</td>\n",
       "      <td>5 anos</td>\n",
       "      <td>3500</td>\n",
       "      <td>178.315794</td>\n",
       "    </tr>\n",
       "    <tr>\n",
       "      <th>4</th>\n",
       "      <td>SP</td>\n",
       "      <td>Feminino</td>\n",
       "      <td>47</td>\n",
       "      <td>Parda</td>\n",
       "      <td>8 anos</td>\n",
       "      <td>150</td>\n",
       "      <td>169.063095</td>\n",
       "    </tr>\n",
       "  </tbody>\n",
       "</table>\n",
       "</div>"
      ],
      "text/plain": [
       "  estado       sexo  idade     cor anos_de_estudo  renda      altura\n",
       "0     SP  Masculino     23   Parda        11 anos    800  160.380762\n",
       "1     SP   Feminino     23  Branca        11 anos   1150  173.978983\n",
       "2     SP   Feminino     35   Parda        14 anos    880  176.044382\n",
       "3     SP  Masculino     46  Branca         5 anos   3500  178.315794\n",
       "4     SP   Feminino     47   Parda         8 anos    150  169.063095"
      ]
     },
     "execution_count": 37,
     "metadata": {},
     "output_type": "execute_result"
    }
   ],
   "source": [
    "dataset = pd.read_csv('/home/joeldspy/Modelos/datasets/dataset.csv'); dataset.head()"
   ]
  },
  {
   "cell_type": "code",
   "execution_count": 43,
   "id": "ca6d86fe",
   "metadata": {},
   "outputs": [
    {
     "data": {
      "text/plain": [
       "76840"
      ]
     },
     "execution_count": 43,
     "metadata": {},
     "output_type": "execute_result"
    }
   ],
   "source": [
    "dataset.shape[0]"
   ]
  },
  {
   "cell_type": "code",
   "execution_count": 44,
   "id": "6643071a",
   "metadata": {},
   "outputs": [
    {
     "data": {
      "text/plain": [
       "36864    2500\n",
       "73249    2300\n",
       "52092    5000\n",
       "34910    3000\n",
       "39848     789\n",
       "         ... \n",
       "63443    4000\n",
       "32638    2500\n",
       "30888     240\n",
       "22495     788\n",
       "49192    1800\n",
       "Name: renda, Length: 100, dtype: int64"
      ]
     },
     "execution_count": 44,
     "metadata": {},
     "output_type": "execute_result"
    }
   ],
   "source": [
    "# Aplicando uma amostra aleatória simples\n",
    "amostra_de_rendas = dataset['renda'].sample(100); amostra_de_rendas"
   ]
  },
  {
   "cell_type": "code",
   "execution_count": 45,
   "id": "3524ddd7",
   "metadata": {},
   "outputs": [
    {
     "data": {
      "text/plain": [
       "283.05680114523693"
      ]
     },
     "execution_count": 45,
     "metadata": {},
     "output_type": "execute_result"
    }
   ],
   "source": [
    "# A média da amostra em comparação com a média da população\n",
    "abs(amostra_de_rendas.mean() - dataset['renda'].mean())"
   ]
  },
  {
   "cell_type": "markdown",
   "id": "077306b8",
   "metadata": {},
   "source": [
    "## 1.5 - Estimação\n",
    "\n",
    "Estatísticas de estimativa, ou simplesmente estimativa, é uma estrutura de análise de dados que usa uma combinação de tamanhos de efeito, intervalos de confiança, planejamento de precisão e meta-análise para planejar experimentos, analisar dados e interpretar resultados."
   ]
  },
  {
   "cell_type": "markdown",
   "id": "5d757660",
   "metadata": {},
   "source": [
    "### 1.5.1 - Teorema do Limite Central\n",
    "\n",
    "O Teorema Central do Limite (TCL) afirma que a soma (S) de N variáveis aleatórias independentes (X), com qualquer distribuição e variâncias semelhantes, é uma variável com distribuição que se aproxima da distribuição de Gauss (distribuição normal) quando N aumenta."
   ]
  },
  {
   "cell_type": "code",
   "execution_count": 46,
   "id": "f7926c17",
   "metadata": {},
   "outputs": [],
   "source": [
    "# Criando um dataframe com N número de amostras\n",
    "import warnings\n",
    "\n",
    "warnings.filterwarnings('ignore')\n",
    "\n",
    "amostras = pd.DataFrame()\n",
    "\n",
    "for i in range(1500):\n",
    "    _ = dataset.renda.sample(2000)\n",
    "    _.index = range(2000)\n",
    "    amostras['amostra_' + str(i)] = _"
   ]
  },
  {
   "cell_type": "code",
   "execution_count": 47,
   "id": "2556842c",
   "metadata": {
    "scrolled": true
   },
   "outputs": [
    {
     "data": {
      "text/html": [
       "<div>\n",
       "<style scoped>\n",
       "    .dataframe tbody tr th:only-of-type {\n",
       "        vertical-align: middle;\n",
       "    }\n",
       "\n",
       "    .dataframe tbody tr th {\n",
       "        vertical-align: top;\n",
       "    }\n",
       "\n",
       "    .dataframe thead th {\n",
       "        text-align: right;\n",
       "    }\n",
       "</style>\n",
       "<table border=\"1\" class=\"dataframe\">\n",
       "  <thead>\n",
       "    <tr style=\"text-align: right;\">\n",
       "      <th></th>\n",
       "      <th>amostra_0</th>\n",
       "      <th>amostra_1</th>\n",
       "      <th>amostra_2</th>\n",
       "      <th>amostra_3</th>\n",
       "      <th>amostra_4</th>\n",
       "      <th>amostra_5</th>\n",
       "      <th>amostra_6</th>\n",
       "      <th>amostra_7</th>\n",
       "      <th>amostra_8</th>\n",
       "      <th>amostra_9</th>\n",
       "      <th>...</th>\n",
       "      <th>amostra_1490</th>\n",
       "      <th>amostra_1491</th>\n",
       "      <th>amostra_1492</th>\n",
       "      <th>amostra_1493</th>\n",
       "      <th>amostra_1494</th>\n",
       "      <th>amostra_1495</th>\n",
       "      <th>amostra_1496</th>\n",
       "      <th>amostra_1497</th>\n",
       "      <th>amostra_1498</th>\n",
       "      <th>amostra_1499</th>\n",
       "    </tr>\n",
       "  </thead>\n",
       "  <tbody>\n",
       "    <tr>\n",
       "      <th>0</th>\n",
       "      <td>2000</td>\n",
       "      <td>1100</td>\n",
       "      <td>800</td>\n",
       "      <td>700</td>\n",
       "      <td>1200</td>\n",
       "      <td>1200</td>\n",
       "      <td>3300</td>\n",
       "      <td>1200</td>\n",
       "      <td>5000</td>\n",
       "      <td>1300</td>\n",
       "      <td>...</td>\n",
       "      <td>4000</td>\n",
       "      <td>780</td>\n",
       "      <td>2300</td>\n",
       "      <td>5000</td>\n",
       "      <td>0</td>\n",
       "      <td>797</td>\n",
       "      <td>4000</td>\n",
       "      <td>900</td>\n",
       "      <td>788</td>\n",
       "      <td>300</td>\n",
       "    </tr>\n",
       "    <tr>\n",
       "      <th>1</th>\n",
       "      <td>3200</td>\n",
       "      <td>1400</td>\n",
       "      <td>1200</td>\n",
       "      <td>2300</td>\n",
       "      <td>2000</td>\n",
       "      <td>1400</td>\n",
       "      <td>1200</td>\n",
       "      <td>3000</td>\n",
       "      <td>1100</td>\n",
       "      <td>788</td>\n",
       "      <td>...</td>\n",
       "      <td>150</td>\n",
       "      <td>2100</td>\n",
       "      <td>0</td>\n",
       "      <td>4000</td>\n",
       "      <td>788</td>\n",
       "      <td>788</td>\n",
       "      <td>1600</td>\n",
       "      <td>2000</td>\n",
       "      <td>820</td>\n",
       "      <td>5000</td>\n",
       "    </tr>\n",
       "    <tr>\n",
       "      <th>2</th>\n",
       "      <td>788</td>\n",
       "      <td>5000</td>\n",
       "      <td>1000</td>\n",
       "      <td>1250</td>\n",
       "      <td>788</td>\n",
       "      <td>1800</td>\n",
       "      <td>1700</td>\n",
       "      <td>1000</td>\n",
       "      <td>1000</td>\n",
       "      <td>1150</td>\n",
       "      <td>...</td>\n",
       "      <td>3000</td>\n",
       "      <td>788</td>\n",
       "      <td>7200</td>\n",
       "      <td>2400</td>\n",
       "      <td>600</td>\n",
       "      <td>600</td>\n",
       "      <td>1500</td>\n",
       "      <td>1200</td>\n",
       "      <td>788</td>\n",
       "      <td>150</td>\n",
       "    </tr>\n",
       "    <tr>\n",
       "      <th>3</th>\n",
       "      <td>2500</td>\n",
       "      <td>250</td>\n",
       "      <td>1800</td>\n",
       "      <td>1900</td>\n",
       "      <td>788</td>\n",
       "      <td>200</td>\n",
       "      <td>1576</td>\n",
       "      <td>1800</td>\n",
       "      <td>0</td>\n",
       "      <td>850</td>\n",
       "      <td>...</td>\n",
       "      <td>5800</td>\n",
       "      <td>1300</td>\n",
       "      <td>1200</td>\n",
       "      <td>3000</td>\n",
       "      <td>400</td>\n",
       "      <td>2000</td>\n",
       "      <td>2600</td>\n",
       "      <td>700</td>\n",
       "      <td>300</td>\n",
       "      <td>1200</td>\n",
       "    </tr>\n",
       "    <tr>\n",
       "      <th>4</th>\n",
       "      <td>2500</td>\n",
       "      <td>788</td>\n",
       "      <td>2000</td>\n",
       "      <td>0</td>\n",
       "      <td>2000</td>\n",
       "      <td>1200</td>\n",
       "      <td>1600</td>\n",
       "      <td>1500</td>\n",
       "      <td>4200</td>\n",
       "      <td>788</td>\n",
       "      <td>...</td>\n",
       "      <td>1800</td>\n",
       "      <td>1000</td>\n",
       "      <td>1900</td>\n",
       "      <td>0</td>\n",
       "      <td>600</td>\n",
       "      <td>1200</td>\n",
       "      <td>700</td>\n",
       "      <td>500</td>\n",
       "      <td>2000</td>\n",
       "      <td>800</td>\n",
       "    </tr>\n",
       "    <tr>\n",
       "      <th>5</th>\n",
       "      <td>1500</td>\n",
       "      <td>400</td>\n",
       "      <td>5000</td>\n",
       "      <td>788</td>\n",
       "      <td>3500</td>\n",
       "      <td>2000</td>\n",
       "      <td>3500</td>\n",
       "      <td>1560</td>\n",
       "      <td>950</td>\n",
       "      <td>5000</td>\n",
       "      <td>...</td>\n",
       "      <td>150</td>\n",
       "      <td>600</td>\n",
       "      <td>788</td>\n",
       "      <td>2000</td>\n",
       "      <td>1400</td>\n",
       "      <td>800</td>\n",
       "      <td>100</td>\n",
       "      <td>2400</td>\n",
       "      <td>3200</td>\n",
       "      <td>2200</td>\n",
       "    </tr>\n",
       "    <tr>\n",
       "      <th>6</th>\n",
       "      <td>6000</td>\n",
       "      <td>500</td>\n",
       "      <td>788</td>\n",
       "      <td>4500</td>\n",
       "      <td>700</td>\n",
       "      <td>2000</td>\n",
       "      <td>200</td>\n",
       "      <td>500</td>\n",
       "      <td>800</td>\n",
       "      <td>1500</td>\n",
       "      <td>...</td>\n",
       "      <td>2500</td>\n",
       "      <td>8000</td>\n",
       "      <td>1500</td>\n",
       "      <td>900</td>\n",
       "      <td>788</td>\n",
       "      <td>6500</td>\n",
       "      <td>800</td>\n",
       "      <td>5000</td>\n",
       "      <td>3000</td>\n",
       "      <td>450</td>\n",
       "    </tr>\n",
       "    <tr>\n",
       "      <th>7</th>\n",
       "      <td>1400</td>\n",
       "      <td>400</td>\n",
       "      <td>0</td>\n",
       "      <td>1500</td>\n",
       "      <td>2200</td>\n",
       "      <td>15000</td>\n",
       "      <td>1200</td>\n",
       "      <td>275</td>\n",
       "      <td>788</td>\n",
       "      <td>900</td>\n",
       "      <td>...</td>\n",
       "      <td>1500</td>\n",
       "      <td>1300</td>\n",
       "      <td>1500</td>\n",
       "      <td>3000</td>\n",
       "      <td>2500</td>\n",
       "      <td>4000</td>\n",
       "      <td>1552</td>\n",
       "      <td>7000</td>\n",
       "      <td>300</td>\n",
       "      <td>788</td>\n",
       "    </tr>\n",
       "    <tr>\n",
       "      <th>8</th>\n",
       "      <td>1500</td>\n",
       "      <td>500</td>\n",
       "      <td>788</td>\n",
       "      <td>2600</td>\n",
       "      <td>788</td>\n",
       "      <td>788</td>\n",
       "      <td>3000</td>\n",
       "      <td>2500</td>\n",
       "      <td>800</td>\n",
       "      <td>788</td>\n",
       "      <td>...</td>\n",
       "      <td>1000</td>\n",
       "      <td>3000</td>\n",
       "      <td>3500</td>\n",
       "      <td>1300</td>\n",
       "      <td>4000</td>\n",
       "      <td>1032</td>\n",
       "      <td>600</td>\n",
       "      <td>2500</td>\n",
       "      <td>3000</td>\n",
       "      <td>10000</td>\n",
       "    </tr>\n",
       "    <tr>\n",
       "      <th>9</th>\n",
       "      <td>5500</td>\n",
       "      <td>1400</td>\n",
       "      <td>800</td>\n",
       "      <td>2120</td>\n",
       "      <td>800</td>\n",
       "      <td>1200</td>\n",
       "      <td>800</td>\n",
       "      <td>1576</td>\n",
       "      <td>5000</td>\n",
       "      <td>1150</td>\n",
       "      <td>...</td>\n",
       "      <td>1300</td>\n",
       "      <td>788</td>\n",
       "      <td>800</td>\n",
       "      <td>3000</td>\n",
       "      <td>300</td>\n",
       "      <td>70</td>\n",
       "      <td>15000</td>\n",
       "      <td>200</td>\n",
       "      <td>1500</td>\n",
       "      <td>200</td>\n",
       "    </tr>\n",
       "  </tbody>\n",
       "</table>\n",
       "<p>10 rows × 1500 columns</p>\n",
       "</div>"
      ],
      "text/plain": [
       "   amostra_0  amostra_1  amostra_2  amostra_3  amostra_4  amostra_5  \\\n",
       "0       2000       1100        800        700       1200       1200   \n",
       "1       3200       1400       1200       2300       2000       1400   \n",
       "2        788       5000       1000       1250        788       1800   \n",
       "3       2500        250       1800       1900        788        200   \n",
       "4       2500        788       2000          0       2000       1200   \n",
       "5       1500        400       5000        788       3500       2000   \n",
       "6       6000        500        788       4500        700       2000   \n",
       "7       1400        400          0       1500       2200      15000   \n",
       "8       1500        500        788       2600        788        788   \n",
       "9       5500       1400        800       2120        800       1200   \n",
       "\n",
       "   amostra_6  amostra_7  amostra_8  amostra_9  ...  amostra_1490  \\\n",
       "0       3300       1200       5000       1300  ...          4000   \n",
       "1       1200       3000       1100        788  ...           150   \n",
       "2       1700       1000       1000       1150  ...          3000   \n",
       "3       1576       1800          0        850  ...          5800   \n",
       "4       1600       1500       4200        788  ...          1800   \n",
       "5       3500       1560        950       5000  ...           150   \n",
       "6        200        500        800       1500  ...          2500   \n",
       "7       1200        275        788        900  ...          1500   \n",
       "8       3000       2500        800        788  ...          1000   \n",
       "9        800       1576       5000       1150  ...          1300   \n",
       "\n",
       "   amostra_1491  amostra_1492  amostra_1493  amostra_1494  amostra_1495  \\\n",
       "0           780          2300          5000             0           797   \n",
       "1          2100             0          4000           788           788   \n",
       "2           788          7200          2400           600           600   \n",
       "3          1300          1200          3000           400          2000   \n",
       "4          1000          1900             0           600          1200   \n",
       "5           600           788          2000          1400           800   \n",
       "6          8000          1500           900           788          6500   \n",
       "7          1300          1500          3000          2500          4000   \n",
       "8          3000          3500          1300          4000          1032   \n",
       "9           788           800          3000           300            70   \n",
       "\n",
       "   amostra_1496  amostra_1497  amostra_1498  amostra_1499  \n",
       "0          4000           900           788           300  \n",
       "1          1600          2000           820          5000  \n",
       "2          1500          1200           788           150  \n",
       "3          2600           700           300          1200  \n",
       "4           700           500          2000           800  \n",
       "5           100          2400          3200          2200  \n",
       "6           800          5000          3000           450  \n",
       "7          1552          7000           300           788  \n",
       "8           600          2500          3000         10000  \n",
       "9         15000           200          1500           200  \n",
       "\n",
       "[10 rows x 1500 columns]"
      ]
     },
     "execution_count": 47,
     "metadata": {},
     "output_type": "execute_result"
    }
   ],
   "source": [
    "amostras.head(10)"
   ]
  },
  {
   "cell_type": "code",
   "execution_count": 48,
   "id": "a3f0f7db",
   "metadata": {},
   "outputs": [
    {
     "data": {
      "text/plain": [
       "<AxesSubplot: >"
      ]
     },
     "execution_count": 48,
     "metadata": {},
     "output_type": "execute_result"
    },
    {
     "data": {
      "image/png": "[encoded data removed]",
      "text/plain": [
       "<Figure size 640x480 with 1 Axes>"
      ]
     },
     "metadata": {},
     "output_type": "display_data"
    }
   ],
   "source": [
    "# Visualizando o teorema do limite central\n",
    "amostras.mean().hist(bins=50)"
   ]
  },
  {
   "cell_type": "markdown",
   "id": "f4be390c",
   "metadata": {},
   "source": [
    "### 1.5.2 Níveis de Confiança"
   ]
  },
  {
   "cell_type": "markdown",
   "id": "4ca069e7",
   "metadata": {},
   "source": [
    "<img src='https://slideplayer.com.br/slide/288421/1/images/40/95%25+Dispers%C3%A3o+Tamanho+1%2C96+da+amostra+N%C3%ADvel+de+confian%C3%A7a+Fun%C3%A7%C3%A3o+de+....jpg' width=400px>"
   ]
  },
  {
   "cell_type": "code",
   "execution_count": 49,
   "id": "814ad33a",
   "metadata": {},
   "outputs": [
    {
     "data": {
      "text/plain": [
       "0.975"
      ]
     },
     "execution_count": 49,
     "metadata": {},
     "output_type": "execute_result"
    }
   ],
   "source": [
    "# Encontrando a área sobre a curva\n",
    "0.5 + 0.475"
   ]
  },
  {
   "cell_type": "code",
   "execution_count": 50,
   "id": "67fa32c4",
   "metadata": {},
   "outputs": [
    {
     "data": {
      "text/plain": [
       "1.959963984540054"
      ]
     },
     "execution_count": 50,
     "metadata": {},
     "output_type": "execute_result"
    }
   ],
   "source": [
    "# Visualizando o nosso Z\n",
    "z = norm.ppf(0.975); z"
   ]
  },
  {
   "cell_type": "markdown",
   "id": "077a16e2",
   "metadata": {},
   "source": [
    "1) Supondo que os pesos do saco de arroz de uma indústria alimentícia se distribuem aproximadamente como uma Normal, e seu desvio padrão populacional é igual a 150 gramas. Selecionada uma amostra aleatória de 20 sacos de um lote específico, obteve-se peso médio de 5 mil e 50 gramas."
   ]
  },
  {
   "cell_type": "code",
   "execution_count": 51,
   "id": "e93b7701",
   "metadata": {},
   "outputs": [],
   "source": [
    "media_da_amostra = 5050\n",
    "desvio_padrao = 150\n",
    "raiz_de_n = np.sqrt(20)\n",
    "z = 1.96\n",
    "sigma = desvio_padrao / raiz_de_n\n",
    "\n",
    "e = z * sigma"
   ]
  },
  {
   "cell_type": "code",
   "execution_count": 55,
   "id": "21dcab28",
   "metadata": {},
   "outputs": [
    {
     "data": {
      "text/plain": [
       "(4984.2596014615065, 5115.7403985384935)"
      ]
     },
     "execution_count": 55,
     "metadata": {},
     "output_type": "execute_result"
    }
   ],
   "source": [
    "# Cálculando o intervalo de confiança\n",
    "intervalo = (media_da_amostra - e, media_da_amostra + e)\n",
    "\n",
    "intervalo"
   ]
  },
  {
   "cell_type": "code",
   "execution_count": 57,
   "id": "b1be72c3",
   "metadata": {
    "scrolled": true
   },
   "outputs": [
    {
     "data": {
      "text/plain": [
       "(4984.260809456757, 5115.739190543243)"
      ]
     },
     "execution_count": 57,
     "metadata": {},
     "output_type": "execute_result"
    }
   ],
   "source": [
    "# Cálculando o intervalo de confiança\n",
    "norm.interval(alpha = 0.95, loc = media_da_amostra, scale = sigma)"
   ]
  },
  {
   "cell_type": "markdown",
   "id": "b5758fef",
   "metadata": {},
   "source": [
    "## 1.6 - Cálculo do Tamanho da Amostra\n",
    "\n",
    "para populações infinitas"
   ]
  },
  {
   "cell_type": "markdown",
   "id": "f859e832",
   "metadata": {},
   "source": [
    "<img src='https://imgur.com/QsYYlmT.png'>\n",
    "\n",
    "Sabemos que o Desvio Padrão Populacional desse grupo de trabalhadores é de 3.323,39 reais para um nível de confiança de 95%, e deveremos descobrir qual o tamanho da amostra de nosso estudo."
   ]
  },
  {
   "cell_type": "code",
   "execution_count": 58,
   "id": "1e08109c",
   "metadata": {
    "scrolled": true
   },
   "outputs": [
    {
     "data": {
      "text/plain": [
       "4243.016886741135"
      ]
     },
     "execution_count": 58,
     "metadata": {},
     "output_type": "execute_result"
    }
   ],
   "source": [
    "s = 3323.39\n",
    "z = 1.96\n",
    "e = 100\n",
    "\n",
    "n = (z * (s / e)) ** 2\n",
    "\n",
    "n"
   ]
  },
  {
   "cell_type": "code",
   "execution_count": null,
   "id": "95cdde6f",
   "metadata": {},
   "outputs": [],
   "source": []
  }
 ],
 "metadata": {
  "kernelspec": {
   "display_name": "Python 3 (ipykernel)",
   "language": "python",
   "name": "python3"
  },
  "language_info": {
   "codemirror_mode": {
    "name": "ipython",
    "version": 3
   },
   "file_extension": ".py",
   "mimetype": "text/x-python",
   "name": "python",
   "nbconvert_exporter": "python",
   "pygments_lexer": "ipython3",
   "version": "3.9.16"
  }
 },
 "nbformat": 4,
 "nbformat_minor": 5
}
