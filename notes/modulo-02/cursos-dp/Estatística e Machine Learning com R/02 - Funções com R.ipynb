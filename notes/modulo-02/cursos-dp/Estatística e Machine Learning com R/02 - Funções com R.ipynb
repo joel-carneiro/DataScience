{
 "cells": [
  {
   "cell_type": "markdown",
   "id": "fa07d124",
   "metadata": {},
   "source": [
    "# Funções com R\n",
    "\n",
    "Bem-vindo ao meu notebook de estudo sobre funções em linguagem R! Este é um espaço dedicado para aprender e praticar as habilidades necessárias para trabalhar com funções no R, uma das características mais poderosas e úteis desta linguagem de programação.\n",
    "\n",
    "As funções são blocos de código que podem ser usados repetidamente para executar tarefas específicas. Elas podem ser construídas pelo usuário ou utilizadas a partir de bibliotecas existentes e ajudam a simplificar e organizar o código, aumentando a eficiência e a capacidade de manutenção de programas.\n",
    "\n",
    "Neste notebook, vamos explorar os fundamentos das funções no R, incluindo como criar, chamar e passar argumentos para funções, além de como armazenar e gerenciar funções em objetos.\n",
    "\n",
    "Também vamos cobrir algumas funções úteis do R que já estão disponíveis em bibliotecas, como as funções apply, lapply, sapply e tapply, que podem ajudar a reduzir o tempo e o esforço necessários para realizar tarefas comuns de processamento de dados.\n",
    "\n",
    "Espero que este notebook seja útil e que você possa aprender muito sobre funções em linguagem R!"
   ]
  },
  {
   "cell_type": "markdown",
   "id": "aff22de8",
   "metadata": {},
   "source": [
    "## 1 - Funções Built-in\n",
    "\n",
    "Podemos sempre, consultar documentações de funções, isso claro, é sempre recomendável."
   ]
  },
  {
   "cell_type": "markdown",
   "id": "a1f1bee9",
   "metadata": {},
   "source": [
    "## 1.1 - Utils"
   ]
  },
  {
   "cell_type": "markdown",
   "id": "6a94fbce",
   "metadata": {},
   "source": [
    "Função em programação com R, nada mais é, que uma receita de bolo, um passo a passo, a se realizar, com parâmetros fornecidos"
   ]
  },
  {
   "cell_type": "code",
   "execution_count": 1,
   "id": "e3df6b77",
   "metadata": {},
   "outputs": [
    {
     "data": {
      "text/html": [
       "5"
      ],
      "text/latex": [
       "5"
      ],
      "text/markdown": [
       "5"
      ],
      "text/plain": [
       "[1] 5"
      ]
     },
     "metadata": {},
     "output_type": "display_data"
    }
   ],
   "source": [
    "abs(-5)"
   ]
  },
  {
   "cell_type": "markdown",
   "id": "655c5dab",
   "metadata": {},
   "source": [
    " A Função abs(), recebe um número com parâmetro e caso o número seja positivo, ela retorna o proprio número como resultado, caso seja negativo, ela retorna o número multiplicado por -1"
   ]
  },
  {
   "cell_type": "code",
   "execution_count": 2,
   "id": "1c0cef6c",
   "metadata": {},
   "outputs": [
    {
     "data": {
      "image/png": "[encoded data removed]",
      "text/plain": [
       "Plot with title “Histogram of rnorm(1e+05)”"
      ]
     },
     "metadata": {
      "image/png": {
       "height": 420,
       "width": 420
      }
     },
     "output_type": "display_data"
    }
   ],
   "source": [
    "hist(rnorm(100000))"
   ]
  },
  {
   "cell_type": "markdown",
   "id": "1ae9943e",
   "metadata": {},
   "source": [
    "Como funções retornam valores, podemos passar funções dentro de funções, a função mais interna ira retornar um valor que a função mais externa irá usar"
   ]
  },
  {
   "cell_type": "markdown",
   "id": "1da252a0",
   "metadata": {},
   "source": [
    "# 2 - Criando nossas próprias funções"
   ]
  },
  {
   "cell_type": "markdown",
   "id": "8d5f4e0d",
   "metadata": {},
   "source": [
    "Caso você já tenha um algoritmo, você pode criar sua própria função, como por exemplo, algo para resolver a fórmula de bhaskara"
   ]
  },
  {
   "cell_type": "code",
   "execution_count": 3,
   "id": "780b31de",
   "metadata": {},
   "outputs": [],
   "source": [
    "bhaskara <- function (a, b, c) {\n",
    "    delta <- b ^ 2 - 4 * a * c\n",
    "    \n",
    "    x1 <- (-b + sqrt(delta)) / (2 * a)\n",
    "    x2 <- (-b - sqrt(delta)) / (2 * a)\n",
    "    \n",
    "    return (c(x1, x2))\n",
    "}"
   ]
  },
  {
   "cell_type": "code",
   "execution_count": 4,
   "id": "4b02fe6f",
   "metadata": {
    "scrolled": true
   },
   "outputs": [
    {
     "name": "stderr",
     "output_type": "stream",
     "text": [
      "Warning message in sqrt(delta):\n",
      "“NaNs produzidos”\n",
      "Warning message in sqrt(delta):\n",
      "“NaNs produzidos”\n"
     ]
    },
    {
     "data": {
      "text/html": [
       "<style>\n",
       ".list-inline {list-style: none; margin:0; padding: 0}\n",
       ".list-inline>li {display: inline-block}\n",
       ".list-inline>li:not(:last-child)::after {content: \"\\00b7\"; padding: 0 .5ex}\n",
       "</style>\n",
       "<ol class=list-inline><li>NaN</li><li>NaN</li></ol>\n"
      ],
      "text/latex": [
       "\\begin{enumerate*}\n",
       "\\item NaN\n",
       "\\item NaN\n",
       "\\end{enumerate*}\n"
      ],
      "text/markdown": [
       "1. NaN\n",
       "2. NaN\n",
       "\n",
       "\n"
      ],
      "text/plain": [
       "[1] NaN NaN"
      ]
     },
     "metadata": {},
     "output_type": "display_data"
    }
   ],
   "source": [
    "bhaskara(12, -21, 20)"
   ]
  },
  {
   "cell_type": "markdown",
   "id": "311d1acf",
   "metadata": {},
   "source": [
    "Funções Built-in, tendem a ter mais performace por inumeras razões, então, não tente reiventar a roda"
   ]
  },
  {
   "cell_type": "markdown",
   "id": "ee492ab8",
   "metadata": {},
   "source": [
    "# 3 - Funções Apply"
   ]
  },
  {
   "cell_type": "code",
   "execution_count": 5,
   "id": "0ddb0088",
   "metadata": {},
   "outputs": [],
   "source": [
    "lista <- list(A=c(25:50), B=c(10:35))"
   ]
  },
  {
   "cell_type": "code",
   "execution_count": 10,
   "id": "b2aada35",
   "metadata": {},
   "outputs": [
    {
     "ename": "ERROR",
     "evalue": "Error in sum(lista): 'type' inválido (list) do argumento\n",
     "output_type": "error",
     "traceback": [
      "Error in sum(lista): 'type' inválido (list) do argumento\nTraceback:\n"
     ]
    }
   ],
   "source": [
    "sum(lista)"
   ]
  },
  {
   "cell_type": "code",
   "execution_count": 11,
   "id": "2cd716bf",
   "metadata": {},
   "outputs": [
    {
     "data": {
      "text/html": [
       "975"
      ],
      "text/latex": [
       "975"
      ],
      "text/markdown": [
       "975"
      ],
      "text/plain": [
       "[1] 975"
      ]
     },
     "metadata": {},
     "output_type": "display_data"
    }
   ],
   "source": [
    "sum(lista$A)"
   ]
  },
  {
   "cell_type": "code",
   "execution_count": 12,
   "id": "eaea534c",
   "metadata": {},
   "outputs": [
    {
     "data": {
      "text/html": [
       "585"
      ],
      "text/latex": [
       "585"
      ],
      "text/markdown": [
       "585"
      ],
      "text/plain": [
       "[1] 585"
      ]
     },
     "metadata": {},
     "output_type": "display_data"
    }
   ],
   "source": [
    "sum(lista$B)"
   ]
  },
  {
   "cell_type": "code",
   "execution_count": 13,
   "id": "8eba9f88",
   "metadata": {},
   "outputs": [
    {
     "data": {
      "text/html": [
       "<style>\n",
       ".dl-inline {width: auto; margin:0; padding: 0}\n",
       ".dl-inline>dt, .dl-inline>dd {float: none; width: auto; display: inline-block}\n",
       ".dl-inline>dt::after {content: \":\\0020\"; padding-right: .5ex}\n",
       ".dl-inline>dt:not(:first-of-type) {padding-left: .5ex}\n",
       "</style><dl class=dl-inline><dt>A</dt><dd>975</dd><dt>B</dt><dd>585</dd></dl>\n"
      ],
      "text/latex": [
       "\\begin{description*}\n",
       "\\item[A] 975\n",
       "\\item[B] 585\n",
       "\\end{description*}\n"
      ],
      "text/markdown": [
       "A\n",
       ":   975B\n",
       ":   585\n",
       "\n"
      ],
      "text/plain": [
       "  A   B \n",
       "975 585 "
      ]
     },
     "metadata": {},
     "output_type": "display_data"
    }
   ],
   "source": [
    "sapply(lista, sum)"
   ]
  },
  {
   "cell_type": "code",
   "execution_count": 14,
   "id": "5be01dfd",
   "metadata": {},
   "outputs": [
    {
     "data": {
      "text/html": [
       "<table class=\"dataframe\">\n",
       "<caption>A matrix: 5 × 5 of type int</caption>\n",
       "<tbody>\n",
       "\t<tr><td>25</td><td>30</td><td>35</td><td>40</td><td>45</td></tr>\n",
       "\t<tr><td>26</td><td>31</td><td>36</td><td>41</td><td>46</td></tr>\n",
       "\t<tr><td>27</td><td>32</td><td>37</td><td>42</td><td>47</td></tr>\n",
       "\t<tr><td>28</td><td>33</td><td>38</td><td>43</td><td>48</td></tr>\n",
       "\t<tr><td>29</td><td>34</td><td>39</td><td>44</td><td>49</td></tr>\n",
       "</tbody>\n",
       "</table>\n"
      ],
      "text/latex": [
       "A matrix: 5 × 5 of type int\n",
       "\\begin{tabular}{lllll}\n",
       "\t 25 & 30 & 35 & 40 & 45\\\\\n",
       "\t 26 & 31 & 36 & 41 & 46\\\\\n",
       "\t 27 & 32 & 37 & 42 & 47\\\\\n",
       "\t 28 & 33 & 38 & 43 & 48\\\\\n",
       "\t 29 & 34 & 39 & 44 & 49\\\\\n",
       "\\end{tabular}\n"
      ],
      "text/markdown": [
       "\n",
       "A matrix: 5 × 5 of type int\n",
       "\n",
       "| 25 | 30 | 35 | 40 | 45 |\n",
       "| 26 | 31 | 36 | 41 | 46 |\n",
       "| 27 | 32 | 37 | 42 | 47 |\n",
       "| 28 | 33 | 38 | 43 | 48 |\n",
       "| 29 | 34 | 39 | 44 | 49 |\n",
       "\n"
      ],
      "text/plain": [
       "     [,1] [,2] [,3] [,4] [,5]\n",
       "[1,] 25   30   35   40   45  \n",
       "[2,] 26   31   36   41   46  \n",
       "[3,] 27   32   37   42   47  \n",
       "[4,] 28   33   38   43   48  \n",
       "[5,] 29   34   39   44   49  "
      ]
     },
     "metadata": {},
     "output_type": "display_data"
    }
   ],
   "source": [
    "matriz <- matrix(c(25:49), nrow = 5)\n",
    "matriz"
   ]
  },
  {
   "cell_type": "code",
   "execution_count": 15,
   "id": "dc046f40",
   "metadata": {},
   "outputs": [],
   "source": [
    "LINHA <- 1\n",
    "COLUNA <- 2"
   ]
  },
  {
   "cell_type": "code",
   "execution_count": 16,
   "id": "ae229401",
   "metadata": {},
   "outputs": [
    {
     "data": {
      "text/html": [
       "<style>\n",
       ".list-inline {list-style: none; margin:0; padding: 0}\n",
       ".list-inline>li {display: inline-block}\n",
       ".list-inline>li:not(:last-child)::after {content: \"\\00b7\"; padding: 0 .5ex}\n",
       "</style>\n",
       "<ol class=list-inline><li>35</li><li>36</li><li>37</li><li>38</li><li>39</li></ol>\n"
      ],
      "text/latex": [
       "\\begin{enumerate*}\n",
       "\\item 35\n",
       "\\item 36\n",
       "\\item 37\n",
       "\\item 38\n",
       "\\item 39\n",
       "\\end{enumerate*}\n"
      ],
      "text/markdown": [
       "1. 35\n",
       "2. 36\n",
       "3. 37\n",
       "4. 38\n",
       "5. 39\n",
       "\n",
       "\n"
      ],
      "text/plain": [
       "[1] 35 36 37 38 39"
      ]
     },
     "metadata": {},
     "output_type": "display_data"
    }
   ],
   "source": [
    "apply(matriz, LINHA, mean)"
   ]
  },
  {
   "cell_type": "code",
   "execution_count": 17,
   "id": "95d1d05b",
   "metadata": {
    "scrolled": false
   },
   "outputs": [
    {
     "data": {
      "text/html": [
       "<style>\n",
       ".list-inline {list-style: none; margin:0; padding: 0}\n",
       ".list-inline>li {display: inline-block}\n",
       ".list-inline>li:not(:last-child)::after {content: \"\\00b7\"; padding: 0 .5ex}\n",
       "</style>\n",
       "<ol class=list-inline><li>27</li><li>32</li><li>37</li><li>42</li><li>47</li></ol>\n"
      ],
      "text/latex": [
       "\\begin{enumerate*}\n",
       "\\item 27\n",
       "\\item 32\n",
       "\\item 37\n",
       "\\item 42\n",
       "\\item 47\n",
       "\\end{enumerate*}\n"
      ],
      "text/markdown": [
       "1. 27\n",
       "2. 32\n",
       "3. 37\n",
       "4. 42\n",
       "5. 47\n",
       "\n",
       "\n"
      ],
      "text/plain": [
       "[1] 27 32 37 42 47"
      ]
     },
     "metadata": {},
     "output_type": "display_data"
    }
   ],
   "source": [
    "apply(matriz, COLUNA, mean)"
   ]
  },
  {
   "cell_type": "code",
   "execution_count": 18,
   "id": "91481d9c",
   "metadata": {},
   "outputs": [],
   "source": [
    "randint <- function(min, max, size=1) {\n",
    "    return (sample(min:max, size, replace=TRUE))\n",
    "}"
   ]
  },
  {
   "cell_type": "code",
   "execution_count": 19,
   "id": "a995ba44",
   "metadata": {},
   "outputs": [
    {
     "data": {
      "text/html": [
       "<style>\n",
       ".list-inline {list-style: none; margin:0; padding: 0}\n",
       ".list-inline>li {display: inline-block}\n",
       ".list-inline>li:not(:last-child)::after {content: \"\\00b7\"; padding: 0 .5ex}\n",
       "</style>\n",
       "<ol class=list-inline><li>2</li><li>6</li><li>1</li><li>1</li><li>9</li><li>4</li><li>1</li><li>1</li><li>3</li><li>10</li></ol>\n"
      ],
      "text/latex": [
       "\\begin{enumerate*}\n",
       "\\item 2\n",
       "\\item 6\n",
       "\\item 1\n",
       "\\item 1\n",
       "\\item 9\n",
       "\\item 4\n",
       "\\item 1\n",
       "\\item 1\n",
       "\\item 3\n",
       "\\item 10\n",
       "\\end{enumerate*}\n"
      ],
      "text/markdown": [
       "1. 2\n",
       "2. 6\n",
       "3. 1\n",
       "4. 1\n",
       "5. 9\n",
       "6. 4\n",
       "7. 1\n",
       "8. 1\n",
       "9. 3\n",
       "10. 10\n",
       "\n",
       "\n"
      ],
      "text/plain": [
       " [1]  2  6  1  1  9  4  1  1  3 10"
      ]
     },
     "metadata": {},
     "output_type": "display_data"
    }
   ],
   "source": [
    "randint(1, 10, size=10)"
   ]
  },
  {
   "cell_type": "code",
   "execution_count": 20,
   "id": "fc14d2e2",
   "metadata": {},
   "outputs": [
    {
     "data": {
      "text/html": [
       "<table class=\"dataframe\">\n",
       "<caption>A data.frame: 7 × 5</caption>\n",
       "<thead>\n",
       "\t<tr><th scope=col>alunos</th><th scope=col>matematica</th><th scope=col>geografia</th><th scope=col>quimica</th><th scope=col>historia</th></tr>\n",
       "\t<tr><th scope=col>&lt;chr&gt;</th><th scope=col>&lt;int&gt;</th><th scope=col>&lt;int&gt;</th><th scope=col>&lt;int&gt;</th><th scope=col>&lt;int&gt;</th></tr>\n",
       "</thead>\n",
       "<tbody>\n",
       "\t<tr><td>Gabriel</td><td>66</td><td>33</td><td>49</td><td>80</td></tr>\n",
       "\t<tr><td>Emanuel</td><td>40</td><td>85</td><td>18</td><td>49</td></tr>\n",
       "\t<tr><td>Manu   </td><td>73</td><td>87</td><td>18</td><td>27</td></tr>\n",
       "\t<tr><td>Luiza  </td><td>41</td><td>94</td><td>13</td><td>21</td></tr>\n",
       "\t<tr><td>Yasmin </td><td>36</td><td>78</td><td>53</td><td>37</td></tr>\n",
       "\t<tr><td>Sarah  </td><td>93</td><td>18</td><td>35</td><td>90</td></tr>\n",
       "\t<tr><td>Antônio</td><td>49</td><td>90</td><td> 3</td><td>96</td></tr>\n",
       "</tbody>\n",
       "</table>\n"
      ],
      "text/latex": [
       "A data.frame: 7 × 5\n",
       "\\begin{tabular}{lllll}\n",
       " alunos & matematica & geografia & quimica & historia\\\\\n",
       " <chr> & <int> & <int> & <int> & <int>\\\\\n",
       "\\hline\n",
       "\t Gabriel & 66 & 33 & 49 & 80\\\\\n",
       "\t Emanuel & 40 & 85 & 18 & 49\\\\\n",
       "\t Manu    & 73 & 87 & 18 & 27\\\\\n",
       "\t Luiza   & 41 & 94 & 13 & 21\\\\\n",
       "\t Yasmin  & 36 & 78 & 53 & 37\\\\\n",
       "\t Sarah   & 93 & 18 & 35 & 90\\\\\n",
       "\t Antônio & 49 & 90 &  3 & 96\\\\\n",
       "\\end{tabular}\n"
      ],
      "text/markdown": [
       "\n",
       "A data.frame: 7 × 5\n",
       "\n",
       "| alunos &lt;chr&gt; | matematica &lt;int&gt; | geografia &lt;int&gt; | quimica &lt;int&gt; | historia &lt;int&gt; |\n",
       "|---|---|---|---|---|\n",
       "| Gabriel | 66 | 33 | 49 | 80 |\n",
       "| Emanuel | 40 | 85 | 18 | 49 |\n",
       "| Manu    | 73 | 87 | 18 | 27 |\n",
       "| Luiza   | 41 | 94 | 13 | 21 |\n",
       "| Yasmin  | 36 | 78 | 53 | 37 |\n",
       "| Sarah   | 93 | 18 | 35 | 90 |\n",
       "| Antônio | 49 | 90 |  3 | 96 |\n",
       "\n"
      ],
      "text/plain": [
       "  alunos  matematica geografia quimica historia\n",
       "1 Gabriel 66         33        49      80      \n",
       "2 Emanuel 40         85        18      49      \n",
       "3 Manu    73         87        18      27      \n",
       "4 Luiza   41         94        13      21      \n",
       "5 Yasmin  36         78        53      37      \n",
       "6 Sarah   93         18        35      90      \n",
       "7 Antônio 49         90         3      96      "
      ]
     },
     "metadata": {},
     "output_type": "display_data"
    }
   ],
   "source": [
    "alunos <- c('Gabriel', 'Emanuel', 'Manu', 'Luiza', 'Yasmin', 'Sarah', 'Antônio')\n",
    "matematica <- randint(min=0, max=100, size=7)\n",
    "geografia <- randint(min=0, max=100, size=7)\n",
    "quimica <- randint(min=0, max=100, size=7)\n",
    "historia <- randint(min=0, max=100, size=7)\n",
    "\n",
    "notas <- data.frame(alunos, matematica, geografia, quimica, historia)\n",
    "\n",
    "notas"
   ]
  },
  {
   "cell_type": "code",
   "execution_count": null,
   "id": "e4d56828",
   "metadata": {},
   "outputs": [],
   "source": [
    "notas$media <- apply(notas[, 2:5], 1, mean)"
   ]
  },
  {
   "cell_type": "code",
   "execution_count": null,
   "id": "69ed4880",
   "metadata": {},
   "outputs": [],
   "source": [
    "notas"
   ]
  },
  {
   "cell_type": "code",
   "execution_count": null,
   "id": "a5bb4a78",
   "metadata": {},
   "outputs": [],
   "source": [
    "notas$aprovado <- notas$media > 50"
   ]
  },
  {
   "cell_type": "code",
   "execution_count": null,
   "id": "934adb35",
   "metadata": {
    "scrolled": true
   },
   "outputs": [],
   "source": [
    "notas"
   ]
  },
  {
   "cell_type": "code",
   "execution_count": null,
   "id": "224e3954",
   "metadata": {},
   "outputs": [],
   "source": []
  }
 ],
 "metadata": {
  "kernelspec": {
   "display_name": "R",
   "language": "R",
   "name": "ir"
  },
  "language_info": {
   "codemirror_mode": "r",
   "file_extension": ".r",
   "mimetype": "text/x-r-source",
   "name": "R",
   "pygments_lexer": "r",
   "version": "4.1.2"
  }
 },
 "nbformat": 4,
 "nbformat_minor": 5
}
