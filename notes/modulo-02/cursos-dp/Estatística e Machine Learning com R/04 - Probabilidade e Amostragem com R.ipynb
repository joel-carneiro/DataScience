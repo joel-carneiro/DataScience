{
 "cells": [
  {
   "cell_type": "markdown",
   "id": "6902d0d0",
   "metadata": {},
   "source": [
    "<h1 style='color:green'> Probabilidade e Amostragem com R </h1>\n",
    "\n",
    "A probabilidade é a medida da chance de um evento ocorrer, enquanto a amostragem é o processo de selecionar uma parte da população para ser analisada. Na Estatística, a amostragem é usada para fazer inferências sobre a população, com base nos resultados obtidos a partir da amostra. A probabilidade é fundamental na amostragem, pois permite estimar a probabilidade de obter uma amostra representativa e a probabilidade de erro na estimativa. Portanto, entender esses conceitos é crucial para a análise de dados e tomada de decisões em diversos campos."
   ]
  },
  {
   "cell_type": "code",
   "execution_count": 1,
   "id": "2789e687",
   "metadata": {},
   "outputs": [],
   "source": [
    "dados <- read.csv('/home/joeldspy/Modelos/datasets/estatistica.csv')"
   ]
  },
  {
   "cell_type": "code",
   "execution_count": 2,
   "id": "4cfb6c19",
   "metadata": {},
   "outputs": [
    {
     "data": {
      "text/html": [
       "<table class=\"dataframe\">\n",
       "<caption>A data.frame: 5 × 7</caption>\n",
       "<thead>\n",
       "\t<tr><th></th><th scope=col>UF</th><th scope=col>Sexo</th><th scope=col>Idade</th><th scope=col>Cor</th><th scope=col>Anos.de.Estudo</th><th scope=col>Renda</th><th scope=col>Altura</th></tr>\n",
       "\t<tr><th></th><th scope=col>&lt;int&gt;</th><th scope=col>&lt;int&gt;</th><th scope=col>&lt;int&gt;</th><th scope=col>&lt;int&gt;</th><th scope=col>&lt;int&gt;</th><th scope=col>&lt;int&gt;</th><th scope=col>&lt;dbl&gt;</th></tr>\n",
       "</thead>\n",
       "<tbody>\n",
       "\t<tr><th scope=row>1</th><td>11</td><td>0</td><td>23</td><td>8</td><td>12</td><td> 800</td><td>1.603808</td></tr>\n",
       "\t<tr><th scope=row>2</th><td>11</td><td>1</td><td>23</td><td>2</td><td>12</td><td>1150</td><td>1.739790</td></tr>\n",
       "\t<tr><th scope=row>3</th><td>11</td><td>1</td><td>35</td><td>8</td><td>15</td><td> 880</td><td>1.760444</td></tr>\n",
       "\t<tr><th scope=row>4</th><td>11</td><td>0</td><td>46</td><td>2</td><td> 6</td><td>3500</td><td>1.783158</td></tr>\n",
       "\t<tr><th scope=row>5</th><td>11</td><td>1</td><td>47</td><td>8</td><td> 9</td><td> 150</td><td>1.690631</td></tr>\n",
       "</tbody>\n",
       "</table>\n"
      ],
      "text/latex": [
       "A data.frame: 5 × 7\n",
       "\\begin{tabular}{r|lllllll}\n",
       "  & UF & Sexo & Idade & Cor & Anos.de.Estudo & Renda & Altura\\\\\n",
       "  & <int> & <int> & <int> & <int> & <int> & <int> & <dbl>\\\\\n",
       "\\hline\n",
       "\t1 & 11 & 0 & 23 & 8 & 12 &  800 & 1.603808\\\\\n",
       "\t2 & 11 & 1 & 23 & 2 & 12 & 1150 & 1.739790\\\\\n",
       "\t3 & 11 & 1 & 35 & 8 & 15 &  880 & 1.760444\\\\\n",
       "\t4 & 11 & 0 & 46 & 2 &  6 & 3500 & 1.783158\\\\\n",
       "\t5 & 11 & 1 & 47 & 8 &  9 &  150 & 1.690631\\\\\n",
       "\\end{tabular}\n"
      ],
      "text/markdown": [
       "\n",
       "A data.frame: 5 × 7\n",
       "\n",
       "| <!--/--> | UF &lt;int&gt; | Sexo &lt;int&gt; | Idade &lt;int&gt; | Cor &lt;int&gt; | Anos.de.Estudo &lt;int&gt; | Renda &lt;int&gt; | Altura &lt;dbl&gt; |\n",
       "|---|---|---|---|---|---|---|---|\n",
       "| 1 | 11 | 0 | 23 | 8 | 12 |  800 | 1.603808 |\n",
       "| 2 | 11 | 1 | 23 | 2 | 12 | 1150 | 1.739790 |\n",
       "| 3 | 11 | 1 | 35 | 8 | 15 |  880 | 1.760444 |\n",
       "| 4 | 11 | 0 | 46 | 2 |  6 | 3500 | 1.783158 |\n",
       "| 5 | 11 | 1 | 47 | 8 |  9 |  150 | 1.690631 |\n",
       "\n"
      ],
      "text/plain": [
       "  UF Sexo Idade Cor Anos.de.Estudo Renda Altura  \n",
       "1 11 0    23    8   12              800  1.603808\n",
       "2 11 1    23    2   12             1150  1.739790\n",
       "3 11 1    35    8   15              880  1.760444\n",
       "4 11 0    46    2    6             3500  1.783158\n",
       "5 11 1    47    8    9              150  1.690631"
      ]
     },
     "metadata": {},
     "output_type": "display_data"
    }
   ],
   "source": [
    "head(dados, 5)"
   ]
  },
  {
   "cell_type": "markdown",
   "id": "334446d1",
   "metadata": {},
   "source": [
    "# <font color='green'> 1 - Distribuições de Probabilidade </font>"
   ]
  },
  {
   "cell_type": "markdown",
   "id": "8666f5e7",
   "metadata": {},
   "source": [
    "## 1.1 - Distribuição Binomial\n",
    "\n",
    "Um evento binomial é caracterizado pela possibilidade de ocorrência de apenas duas categorias. Estas categorias somadas representam todo o espaço amostral, sendo também mutuamente excludentes, ou seja, a ocorrência de uma implica na não ocorrência da outra.\n",
    "\n",
    "Em análises estatísticas o uso mais comum da distribuição binomial é na solução de problemas que envolvem situações de sucesso e fracasso."
   ]
  },
  {
   "cell_type": "markdown",
   "id": "28f59116",
   "metadata": {},
   "source": [
    "# $$P(k)=\\binom{n}{k} p^k q^{n-k}$$"
   ]
  },
  {
   "cell_type": "markdown",
   "id": "df38513e",
   "metadata": {},
   "source": [
    "## $$C_{k}^{n} = \\binom{n}{k} = \\frac{n!}{k!(n - k)!}$$\n",
    "\n",
    "## $$C_{6}^{60} = \\binom{60}{6} = \\frac{60!}{6!(60 - 6)!}$$"
   ]
  },
  {
   "cell_type": "code",
   "execution_count": 3,
   "id": "6c8b2ede",
   "metadata": {},
   "outputs": [],
   "source": [
    "comb <- function (n, k) {\n",
    "    result <- factorial(n) / (factorial(k) * factorial(n - k))\n",
    "    return (result)\n",
    "}"
   ]
  },
  {
   "cell_type": "code",
   "execution_count": 4,
   "id": "6a153e85",
   "metadata": {},
   "outputs": [
    {
     "data": {
      "text/html": [
       "50063860"
      ],
      "text/latex": [
       "50063860"
      ],
      "text/markdown": [
       "50063860"
      ],
      "text/plain": [
       "[1] 50063860"
      ]
     },
     "metadata": {},
     "output_type": "display_data"
    }
   ],
   "source": [
    "# Interessante mostrar como funciona as combinações\n",
    "choose(60, 6)"
   ]
  },
  {
   "cell_type": "code",
   "execution_count": 5,
   "id": "7295b6ea",
   "metadata": {},
   "outputs": [
    {
     "data": {
      "image/png": "[encoded data removed]",
      "text/plain": [
       "plot without title"
      ]
     },
     "metadata": {
      "image/png": {
       "height": 420,
       "width": 420
      }
     },
     "output_type": "display_data"
    }
   ],
   "source": [
    "# A probabilidade de ganhar na mega-sena em relação a quantidade de jogos\n",
    "x <- 1:60\n",
    "y <- 1 / choose(60, c(x))\n",
    "\n",
    "plot(x, y, type='l')"
   ]
  },
  {
   "cell_type": "markdown",
   "id": "bf323a78",
   "metadata": {},
   "source": [
    "### <font color='red'> Problema </font>\n",
    "\n",
    "Em um concurso para preencher uma vaga de cientista de dados temos um total de **10 questões** de múltipla escolha com **3 alternativas possíveis** em cada questão. **Cada questão tem o mesmo valor.** Suponha que um candidato resolva se aventurar sem ter estudado absolutamente nada. Ele resolve fazer a prova de olhos vendados e chutar todas as resposta. Assumindo que a prova **vale 10 pontos e a nota de corte seja 5**, obtenha a probabilidade deste candidato **acertar 5 questões** e também a probabilidade deste candidato **passar para a próxima etapa do processo seletivo**"
   ]
  },
  {
   "cell_type": "code",
   "execution_count": 6,
   "id": "28316751",
   "metadata": {},
   "outputs": [
    {
     "data": {
      "text/html": [
       "13.6564548087182"
      ],
      "text/latex": [
       "13.6564548087182"
      ],
      "text/markdown": [
       "13.6564548087182"
      ],
      "text/plain": [
       "[1] 13.65645"
      ]
     },
     "metadata": {},
     "output_type": "display_data"
    }
   ],
   "source": [
    "n <- 10\n",
    "k <- 5\n",
    "p <- 1/3\n",
    "q <- 1 - p\n",
    "\n",
    "probabilidade <- choose(n, k) * (p ^ k) * (q ^ (n - k))\n",
    "probabilidade * 100"
   ]
  },
  {
   "cell_type": "code",
   "execution_count": 7,
   "id": "bf284aa6",
   "metadata": {},
   "outputs": [],
   "source": [
    "binom <- function (n, k, p) {\n",
    "    q <- 1 - p\n",
    "    \n",
    "    return (choose(n, k) * (p ^ k) * (q ^ (n - k)))\n",
    "}"
   ]
  },
  {
   "cell_type": "markdown",
   "id": "adef3046",
   "metadata": {},
   "source": [
    "### <font color='red'> Problema </font>\n",
    "\n",
    "Calcule a probabilidade de se passar no ENEM, caso a nota de corte fosse 30"
   ]
  },
  {
   "cell_type": "code",
   "execution_count": 8,
   "id": "0053138a",
   "metadata": {},
   "outputs": [
    {
     "data": {
      "text/html": [
       "0.0020736836935757"
      ],
      "text/latex": [
       "0.0020736836935757"
      ],
      "text/markdown": [
       "0.0020736836935757"
      ],
      "text/plain": [
       "[1] 0.002073684"
      ]
     },
     "metadata": {},
     "output_type": "display_data"
    }
   ],
   "source": [
    "sum(binom(n=90, k=30:90, p=1/5))"
   ]
  },
  {
   "cell_type": "code",
   "execution_count": 9,
   "id": "9936dc34",
   "metadata": {},
   "outputs": [
    {
     "data": {
      "text/html": [
       "4.26855957764445e-08"
      ],
      "text/latex": [
       "4.26855957764445e-08"
      ],
      "text/markdown": [
       "4.26855957764445e-08"
      ],
      "text/plain": [
       "[1] 4.26856e-08"
      ]
     },
     "metadata": {},
     "output_type": "display_data"
    }
   ],
   "source": [
    "# Repare que a probabilidade do aluno acertar 0 é muito pequena\n",
    "binom(n=90, k=1, p=1/5)"
   ]
  },
  {
   "cell_type": "code",
   "execution_count": 10,
   "id": "a7c3b6ff",
   "metadata": {},
   "outputs": [
    {
     "data": {
      "text/html": [
       "1.23794003928539e-63"
      ],
      "text/latex": [
       "1.23794003928539e-63"
      ],
      "text/markdown": [
       "1.23794003928539e-63"
      ],
      "text/plain": [
       "[1] 1.23794e-63"
      ]
     },
     "metadata": {},
     "output_type": "display_data"
    }
   ],
   "source": [
    "# Mas a probabilidade dele acertar todas é infinitamente menor\n",
    "binom(n=90, k=90, p=1/5)"
   ]
  },
  {
   "cell_type": "code",
   "execution_count": 11,
   "id": "f7146e5c",
   "metadata": {},
   "outputs": [
    {
     "data": {
      "text/html": [
       "0.136564548087182"
      ],
      "text/latex": [
       "0.136564548087182"
      ],
      "text/markdown": [
       "0.136564548087182"
      ],
      "text/plain": [
       "[1] 0.1365645"
      ]
     },
     "metadata": {},
     "output_type": "display_data"
    }
   ],
   "source": [
    "# A função mais elegante para resolver esse tipo de problema é dbinom\n",
    "dbinom(x = 5, size = 10, prob = 1/3)"
   ]
  },
  {
   "cell_type": "code",
   "execution_count": 12,
   "id": "0489c6c8",
   "metadata": {},
   "outputs": [
    {
     "data": {
      "text/html": [
       "1"
      ],
      "text/latex": [
       "1"
      ],
      "text/markdown": [
       "1"
      ],
      "text/plain": [
       "[1] 1"
      ]
     },
     "metadata": {},
     "output_type": "display_data"
    }
   ],
   "source": [
    "sum(dbinom(x = 0:10, size = 10, prob = 1/3))"
   ]
  },
  {
   "cell_type": "code",
   "execution_count": 13,
   "id": "2af68dc6",
   "metadata": {},
   "outputs": [
    {
     "data": {
      "text/html": [
       "0.213128080069095"
      ],
      "text/latex": [
       "0.213128080069095"
      ],
      "text/markdown": [
       "0.213128080069095"
      ],
      "text/plain": [
       "[1] 0.2131281"
      ]
     },
     "metadata": {},
     "output_type": "display_data"
    }
   ],
   "source": [
    "sum(dbinom(x = 5:10, size = 10, prob = 1/3))"
   ]
  },
  {
   "cell_type": "code",
   "execution_count": 14,
   "id": "0ec4b105",
   "metadata": {},
   "outputs": [
    {
     "data": {
      "text/html": [
       "0.213128080069095"
      ],
      "text/latex": [
       "0.213128080069095"
      ],
      "text/markdown": [
       "0.213128080069095"
      ],
      "text/plain": [
       "[1] 0.2131281"
      ]
     },
     "metadata": {},
     "output_type": "display_data"
    }
   ],
   "source": [
    "1 - pbinom(q = 4, size = n, prob = p, lower.tail = TRUE)"
   ]
  },
  {
   "cell_type": "code",
   "execution_count": 15,
   "id": "1c200bab",
   "metadata": {},
   "outputs": [
    {
     "data": {
      "text/html": [
       "TRUE"
      ],
      "text/latex": [
       "TRUE"
      ],
      "text/markdown": [
       "TRUE"
      ],
      "text/plain": [
       "[1] TRUE"
      ]
     },
     "metadata": {},
     "output_type": "display_data"
    }
   ],
   "source": [
    "sum(dbinom(x = 0:4, size = 10, prob = 1/3)) == pbinom(q = 4, size = n, prob = p, lower.tail = TRUE)"
   ]
  },
  {
   "cell_type": "markdown",
   "id": "ec6a02cd",
   "metadata": {},
   "source": [
    "## 1.2 - Distribuição Poisson\n",
    "\n",
    "A distribuição Poisson é um modelo probabilístico que descreve a probabilidade de ocorrência de um número discreto de eventos em um intervalo de tempo ou espaço, quando esses eventos são raros e aleatórios, e sua taxa média de ocorrência é conhecida. Essa distribuição é caracterizada por um único parâmetro, chamado de parâmetro de Poisson ou de taxa de ocorrência, que indica o número médio de eventos que se espera ocorrer em um determinado intervalo. A distribuição Poisson é amplamente utilizada em diversas áreas, como na modelagem de fenômenos naturais, na análise de dados em epidemiologia e na avaliação de riscos em seguros, entre outras aplicações.\n",
    "\n",
    "# $$P(k) = \\frac{e^{-\\mu}(\\mu)^k}{k!}$$"
   ]
  },
  {
   "cell_type": "markdown",
   "id": "43e6a672",
   "metadata": {},
   "source": [
    "### <font color='red'> Problema </font>\n",
    "\n",
    "Um restaurante recebe em média **20 pedidos por hora**. Qual a chance de que, em determinada hora escolhida ao acaso, o restaurante receba **15 pedidos**?"
   ]
  },
  {
   "cell_type": "code",
   "execution_count": 16,
   "id": "e39cc757",
   "metadata": {},
   "outputs": [],
   "source": [
    "poisson <- function (mu, k) {\n",
    "    euler <- exp(1)\n",
    "    \n",
    "    return ( ( (euler ^ -mu) * (mu ^ k) ) / (factorial(k)) )\n",
    "}"
   ]
  },
  {
   "cell_type": "code",
   "execution_count": 17,
   "id": "d97fa512",
   "metadata": {},
   "outputs": [
    {
     "data": {
      "text/html": [
       "5.16488535317584"
      ],
      "text/latex": [
       "5.16488535317584"
      ],
      "text/markdown": [
       "5.16488535317584"
      ],
      "text/plain": [
       "[1] 5.164885"
      ]
     },
     "metadata": {},
     "output_type": "display_data"
    }
   ],
   "source": [
    "poisson(20, 15) * 100"
   ]
  },
  {
   "cell_type": "code",
   "execution_count": 18,
   "id": "0ccca78e",
   "metadata": {},
   "outputs": [
    {
     "data": {
      "text/html": [
       "5.16488535317583"
      ],
      "text/latex": [
       "5.16488535317583"
      ],
      "text/markdown": [
       "5.16488535317583"
      ],
      "text/plain": [
       "[1] 5.164885"
      ]
     },
     "metadata": {},
     "output_type": "display_data"
    }
   ],
   "source": [
    "# Jeito mais elegante\n",
    "dpois(x = 15, lambda = 20) * 100"
   ]
  },
  {
   "cell_type": "markdown",
   "id": "b81b0fc7",
   "metadata": {},
   "source": [
    "## 1.3 - Distribuição Normal \n",
    "\n",
    "A distribuição normal é uma das mais utilizadas em estatística. É uma distribuição contínua, onde a distribuição de frequências de uma variável quantitativa apresenta a forma de sino e é simétrica em relação a sua média."
   ]
  },
  {
   "cell_type": "markdown",
   "id": "ee3a8aef",
   "metadata": {},
   "source": [
    "![Normal](https://caelum-online-public.s3.amazonaws.com/1178-estatistica-parte2/01/img001.png)"
   ]
  },
  {
   "cell_type": "markdown",
   "id": "36dc0017",
   "metadata": {},
   "source": [
    "# $$f(x) = \\frac{1}{\\sqrt{2\\pi\\sigma}}e^{-\\frac{1}{2}\\left(\\frac{x-\\mu}{\\sigma}\\right)^2}$$\n",
    "\n",
    "Onde:\n",
    "\n",
    "$x$ = variável normal\n",
    "\n",
    "$\\sigma$ = desvio padrão\n",
    "\n",
    "$\\mu$ = média"
   ]
  },
  {
   "cell_type": "markdown",
   "id": "01dae2c9",
   "metadata": {},
   "source": [
    "1. É simétrica em torno da média;\n",
    "\n",
    "2. A área sob a curva corresponde à proporção 1 ou 100%;\n",
    "\n",
    "3. As medidas de tendência central (média, mediana e moda) apresentam o mesmo valor;\n",
    "\n",
    "4. Os extremos da curva tendem ao infinito em ambas as direções e, teoricamente, jamais tocam o eixo $x$;\n",
    "\n",
    "5. O desvio padrão define o achatamento e largura da distribuição. Curvas mais largas e mais achatadas apresentam valores maiores de desvio padrão;\n",
    "\n",
    "6. A distribuição é definida por sua média e desvio padrão;\n",
    "\n",
    "7. A probabilidade sempre será igual à área sob a curva, delimitada pelos limites inferior e superior."
   ]
  },
  {
   "cell_type": "markdown",
   "id": "e1dcb27a",
   "metadata": {},
   "source": [
    "![alt text](https://caelum-online-public.s3.amazonaws.com/1178-estatistica-parte2/01/img002.png)\n",
    "\n",
    "# $$P(L_i<x<L_s) = \\int_{L_i}^{L_s}\\frac{1}{\\sqrt{2\\pi\\sigma}}e^{-\\frac{1}{2}\\left(\\frac{x-\\mu}{\\sigma}\\right)^2}$$\n"
   ]
  },
  {
   "cell_type": "markdown",
   "id": "7fd948c7",
   "metadata": {},
   "source": [
    "### **Tabelas Padronizadas**\n",
    "\n",
    "# $$Z = \\frac{x-\\mu}{\\sigma}$$\n",
    "\n",
    "Onde:\n",
    "\n",
    "$x$ = variável normal com média $\\mu$ e desvio padrão $\\sigma$\n",
    "\n",
    "$\\sigma$ = desvio padrão\n",
    "\n",
    "$\\mu$ = média"
   ]
  },
  {
   "cell_type": "code",
   "execution_count": 20,
   "id": "d0bd55a3",
   "metadata": {},
   "outputs": [
    {
     "data": {
      "text/html": [
       "<table class=\"dataframe\">\n",
       "<caption>A matrix: 40 × 10 of type dbl</caption>\n",
       "<thead>\n",
       "\t<tr><th></th><th scope=col>0.00</th><th scope=col>0.01</th><th scope=col>0.02</th><th scope=col>0.03</th><th scope=col>0.04</th><th scope=col>0.05</th><th scope=col>0.06</th><th scope=col>0.07</th><th scope=col>0.08</th><th scope=col>0.09</th></tr>\n",
       "</thead>\n",
       "<tbody>\n",
       "\t<tr><th scope=row>0.00</th><td>0.5000000</td><td>0.5039894</td><td>0.5079783</td><td>0.5119665</td><td>0.5159534</td><td>0.5199388</td><td>0.5239222</td><td>0.5279032</td><td>0.5318814</td><td>0.5358564</td></tr>\n",
       "\t<tr><th scope=row>0.10</th><td>0.5398278</td><td>0.5437953</td><td>0.5477584</td><td>0.5517168</td><td>0.5556700</td><td>0.5596177</td><td>0.5635595</td><td>0.5674949</td><td>0.5714237</td><td>0.5753454</td></tr>\n",
       "\t<tr><th scope=row>0.20</th><td>0.5792597</td><td>0.5831662</td><td>0.5870644</td><td>0.5909541</td><td>0.5948349</td><td>0.5987063</td><td>0.6025681</td><td>0.6064199</td><td>0.6102612</td><td>0.6140919</td></tr>\n",
       "\t<tr><th scope=row>0.30</th><td>0.6179114</td><td>0.6217195</td><td>0.6255158</td><td>0.6293000</td><td>0.6330717</td><td>0.6368307</td><td>0.6405764</td><td>0.6443088</td><td>0.6480273</td><td>0.6517317</td></tr>\n",
       "\t<tr><th scope=row>0.40</th><td>0.6554217</td><td>0.6590970</td><td>0.6627573</td><td>0.6664022</td><td>0.6700314</td><td>0.6736448</td><td>0.6772419</td><td>0.6808225</td><td>0.6843863</td><td>0.6879331</td></tr>\n",
       "\t<tr><th scope=row>0.50</th><td>0.6914625</td><td>0.6949743</td><td>0.6984682</td><td>0.7019440</td><td>0.7054015</td><td>0.7088403</td><td>0.7122603</td><td>0.7156612</td><td>0.7190427</td><td>0.7224047</td></tr>\n",
       "\t<tr><th scope=row>0.60</th><td>0.7257469</td><td>0.7290691</td><td>0.7323711</td><td>0.7356527</td><td>0.7389137</td><td>0.7421539</td><td>0.7453731</td><td>0.7485711</td><td>0.7517478</td><td>0.7549029</td></tr>\n",
       "\t<tr><th scope=row>0.70</th><td>0.7580363</td><td>0.7611479</td><td>0.7642375</td><td>0.7673049</td><td>0.7703500</td><td>0.7733726</td><td>0.7763727</td><td>0.7793501</td><td>0.7823046</td><td>0.7852361</td></tr>\n",
       "\t<tr><th scope=row>0.80</th><td>0.7881446</td><td>0.7910299</td><td>0.7938919</td><td>0.7967306</td><td>0.7995458</td><td>0.8023375</td><td>0.8051055</td><td>0.8078498</td><td>0.8105703</td><td>0.8132671</td></tr>\n",
       "\t<tr><th scope=row>0.90</th><td>0.8159399</td><td>0.8185887</td><td>0.8212136</td><td>0.8238145</td><td>0.8263912</td><td>0.8289439</td><td>0.8314724</td><td>0.8339768</td><td>0.8364569</td><td>0.8389129</td></tr>\n",
       "\t<tr><th scope=row>1.00</th><td>0.8413447</td><td>0.8437524</td><td>0.8461358</td><td>0.8484950</td><td>0.8508300</td><td>0.8531409</td><td>0.8554277</td><td>0.8576903</td><td>0.8599289</td><td>0.8621434</td></tr>\n",
       "\t<tr><th scope=row>1.10</th><td>0.8643339</td><td>0.8665005</td><td>0.8686431</td><td>0.8707619</td><td>0.8728568</td><td>0.8749281</td><td>0.8769756</td><td>0.8789995</td><td>0.8809999</td><td>0.8829768</td></tr>\n",
       "\t<tr><th scope=row>1.20</th><td>0.8849303</td><td>0.8868606</td><td>0.8887676</td><td>0.8906514</td><td>0.8925123</td><td>0.8943502</td><td>0.8961653</td><td>0.8979577</td><td>0.8997274</td><td>0.9014747</td></tr>\n",
       "\t<tr><th scope=row>1.30</th><td>0.9031995</td><td>0.9049021</td><td>0.9065825</td><td>0.9082409</td><td>0.9098773</td><td>0.9114920</td><td>0.9130850</td><td>0.9146565</td><td>0.9162067</td><td>0.9177356</td></tr>\n",
       "\t<tr><th scope=row>1.40</th><td>0.9192433</td><td>0.9207302</td><td>0.9221962</td><td>0.9236415</td><td>0.9250663</td><td>0.9264707</td><td>0.9278550</td><td>0.9292191</td><td>0.9305634</td><td>0.9318879</td></tr>\n",
       "\t<tr><th scope=row>1.50</th><td>0.9331928</td><td>0.9344783</td><td>0.9357445</td><td>0.9369916</td><td>0.9382198</td><td>0.9394292</td><td>0.9406201</td><td>0.9417924</td><td>0.9429466</td><td>0.9440826</td></tr>\n",
       "\t<tr><th scope=row>1.60</th><td>0.9452007</td><td>0.9463011</td><td>0.9473839</td><td>0.9484493</td><td>0.9494974</td><td>0.9505285</td><td>0.9515428</td><td>0.9525403</td><td>0.9535213</td><td>0.9544860</td></tr>\n",
       "\t<tr><th scope=row>1.70</th><td>0.9554345</td><td>0.9563671</td><td>0.9572838</td><td>0.9581849</td><td>0.9590705</td><td>0.9599408</td><td>0.9607961</td><td>0.9616364</td><td>0.9624620</td><td>0.9632730</td></tr>\n",
       "\t<tr><th scope=row>1.80</th><td>0.9640697</td><td>0.9648521</td><td>0.9656205</td><td>0.9663750</td><td>0.9671159</td><td>0.9678432</td><td>0.9685572</td><td>0.9692581</td><td>0.9699460</td><td>0.9706210</td></tr>\n",
       "\t<tr><th scope=row>1.90</th><td>0.9712834</td><td>0.9719334</td><td>0.9725711</td><td>0.9731966</td><td>0.9738102</td><td>0.9744119</td><td>0.9750021</td><td>0.9755808</td><td>0.9761482</td><td>0.9767045</td></tr>\n",
       "\t<tr><th scope=row>2.00</th><td>0.9772499</td><td>0.9777844</td><td>0.9783083</td><td>0.9788217</td><td>0.9793248</td><td>0.9798178</td><td>0.9803007</td><td>0.9807738</td><td>0.9812372</td><td>0.9816911</td></tr>\n",
       "\t<tr><th scope=row>2.10</th><td>0.9821356</td><td>0.9825708</td><td>0.9829970</td><td>0.9834142</td><td>0.9838226</td><td>0.9842224</td><td>0.9846137</td><td>0.9849966</td><td>0.9853713</td><td>0.9857379</td></tr>\n",
       "\t<tr><th scope=row>2.20</th><td>0.9860966</td><td>0.9864474</td><td>0.9867906</td><td>0.9871263</td><td>0.9874545</td><td>0.9877755</td><td>0.9880894</td><td>0.9883962</td><td>0.9886962</td><td>0.9889893</td></tr>\n",
       "\t<tr><th scope=row>2.30</th><td>0.9892759</td><td>0.9895559</td><td>0.9898296</td><td>0.9900969</td><td>0.9903581</td><td>0.9906133</td><td>0.9908625</td><td>0.9911060</td><td>0.9913437</td><td>0.9915758</td></tr>\n",
       "\t<tr><th scope=row>2.40</th><td>0.9918025</td><td>0.9920237</td><td>0.9922397</td><td>0.9924506</td><td>0.9926564</td><td>0.9928572</td><td>0.9930531</td><td>0.9932443</td><td>0.9934309</td><td>0.9936128</td></tr>\n",
       "\t<tr><th scope=row>2.50</th><td>0.9937903</td><td>0.9939634</td><td>0.9941323</td><td>0.9942969</td><td>0.9944574</td><td>0.9946139</td><td>0.9947664</td><td>0.9949151</td><td>0.9950600</td><td>0.9952012</td></tr>\n",
       "\t<tr><th scope=row>2.60</th><td>0.9953388</td><td>0.9954729</td><td>0.9956035</td><td>0.9957308</td><td>0.9958547</td><td>0.9959754</td><td>0.9960930</td><td>0.9962074</td><td>0.9963189</td><td>0.9964274</td></tr>\n",
       "\t<tr><th scope=row>2.70</th><td>0.9965330</td><td>0.9966358</td><td>0.9967359</td><td>0.9968333</td><td>0.9969280</td><td>0.9970202</td><td>0.9971099</td><td>0.9971972</td><td>0.9972821</td><td>0.9973646</td></tr>\n",
       "\t<tr><th scope=row>2.80</th><td>0.9974449</td><td>0.9975229</td><td>0.9975988</td><td>0.9976726</td><td>0.9977443</td><td>0.9978140</td><td>0.9978818</td><td>0.9979476</td><td>0.9980116</td><td>0.9980738</td></tr>\n",
       "\t<tr><th scope=row>2.90</th><td>0.9981342</td><td>0.9981929</td><td>0.9982498</td><td>0.9983052</td><td>0.9983589</td><td>0.9984111</td><td>0.9984618</td><td>0.9985110</td><td>0.9985588</td><td>0.9986051</td></tr>\n",
       "\t<tr><th scope=row>3.00</th><td>0.9986501</td><td>0.9986938</td><td>0.9987361</td><td>0.9987772</td><td>0.9988171</td><td>0.9988558</td><td>0.9988933</td><td>0.9989297</td><td>0.9989650</td><td>0.9989992</td></tr>\n",
       "\t<tr><th scope=row>3.10</th><td>0.9990324</td><td>0.9990646</td><td>0.9990957</td><td>0.9991260</td><td>0.9991553</td><td>0.9991836</td><td>0.9992112</td><td>0.9992378</td><td>0.9992636</td><td>0.9992886</td></tr>\n",
       "\t<tr><th scope=row>3.20</th><td>0.9993129</td><td>0.9993363</td><td>0.9993590</td><td>0.9993810</td><td>0.9994024</td><td>0.9994230</td><td>0.9994429</td><td>0.9994623</td><td>0.9994810</td><td>0.9994991</td></tr>\n",
       "\t<tr><th scope=row>3.30</th><td>0.9995166</td><td>0.9995335</td><td>0.9995499</td><td>0.9995658</td><td>0.9995811</td><td>0.9995959</td><td>0.9996103</td><td>0.9996242</td><td>0.9996376</td><td>0.9996505</td></tr>\n",
       "\t<tr><th scope=row>3.40</th><td>0.9996631</td><td>0.9996752</td><td>0.9996869</td><td>0.9996982</td><td>0.9997091</td><td>0.9997197</td><td>0.9997299</td><td>0.9997398</td><td>0.9997493</td><td>0.9997585</td></tr>\n",
       "\t<tr><th scope=row>3.50</th><td>0.9997674</td><td>0.9997759</td><td>0.9997842</td><td>0.9997922</td><td>0.9997999</td><td>0.9998074</td><td>0.9998146</td><td>0.9998215</td><td>0.9998282</td><td>0.9998347</td></tr>\n",
       "\t<tr><th scope=row>3.60</th><td>0.9998409</td><td>0.9998469</td><td>0.9998527</td><td>0.9998583</td><td>0.9998637</td><td>0.9998689</td><td>0.9998739</td><td>0.9998787</td><td>0.9998834</td><td>0.9998879</td></tr>\n",
       "\t<tr><th scope=row>3.70</th><td>0.9998922</td><td>0.9998964</td><td>0.9999004</td><td>0.9999043</td><td>0.9999080</td><td>0.9999116</td><td>0.9999150</td><td>0.9999184</td><td>0.9999216</td><td>0.9999247</td></tr>\n",
       "\t<tr><th scope=row>3.80</th><td>0.9999277</td><td>0.9999305</td><td>0.9999333</td><td>0.9999359</td><td>0.9999385</td><td>0.9999409</td><td>0.9999433</td><td>0.9999456</td><td>0.9999478</td><td>0.9999499</td></tr>\n",
       "\t<tr><th scope=row>3.90</th><td>0.9999519</td><td>0.9999539</td><td>0.9999557</td><td>0.9999575</td><td>0.9999593</td><td>0.9999609</td><td>0.9999625</td><td>0.9999641</td><td>0.9999655</td><td>0.9999670</td></tr>\n",
       "</tbody>\n",
       "</table>\n"
      ],
      "text/latex": [
       "A matrix: 40 × 10 of type dbl\n",
       "\\begin{tabular}{r|llllllllll}\n",
       "  & 0.00 & 0.01 & 0.02 & 0.03 & 0.04 & 0.05 & 0.06 & 0.07 & 0.08 & 0.09\\\\\n",
       "\\hline\n",
       "\t0.00 & 0.5000000 & 0.5039894 & 0.5079783 & 0.5119665 & 0.5159534 & 0.5199388 & 0.5239222 & 0.5279032 & 0.5318814 & 0.5358564\\\\\n",
       "\t0.10 & 0.5398278 & 0.5437953 & 0.5477584 & 0.5517168 & 0.5556700 & 0.5596177 & 0.5635595 & 0.5674949 & 0.5714237 & 0.5753454\\\\\n",
       "\t0.20 & 0.5792597 & 0.5831662 & 0.5870644 & 0.5909541 & 0.5948349 & 0.5987063 & 0.6025681 & 0.6064199 & 0.6102612 & 0.6140919\\\\\n",
       "\t0.30 & 0.6179114 & 0.6217195 & 0.6255158 & 0.6293000 & 0.6330717 & 0.6368307 & 0.6405764 & 0.6443088 & 0.6480273 & 0.6517317\\\\\n",
       "\t0.40 & 0.6554217 & 0.6590970 & 0.6627573 & 0.6664022 & 0.6700314 & 0.6736448 & 0.6772419 & 0.6808225 & 0.6843863 & 0.6879331\\\\\n",
       "\t0.50 & 0.6914625 & 0.6949743 & 0.6984682 & 0.7019440 & 0.7054015 & 0.7088403 & 0.7122603 & 0.7156612 & 0.7190427 & 0.7224047\\\\\n",
       "\t0.60 & 0.7257469 & 0.7290691 & 0.7323711 & 0.7356527 & 0.7389137 & 0.7421539 & 0.7453731 & 0.7485711 & 0.7517478 & 0.7549029\\\\\n",
       "\t0.70 & 0.7580363 & 0.7611479 & 0.7642375 & 0.7673049 & 0.7703500 & 0.7733726 & 0.7763727 & 0.7793501 & 0.7823046 & 0.7852361\\\\\n",
       "\t0.80 & 0.7881446 & 0.7910299 & 0.7938919 & 0.7967306 & 0.7995458 & 0.8023375 & 0.8051055 & 0.8078498 & 0.8105703 & 0.8132671\\\\\n",
       "\t0.90 & 0.8159399 & 0.8185887 & 0.8212136 & 0.8238145 & 0.8263912 & 0.8289439 & 0.8314724 & 0.8339768 & 0.8364569 & 0.8389129\\\\\n",
       "\t1.00 & 0.8413447 & 0.8437524 & 0.8461358 & 0.8484950 & 0.8508300 & 0.8531409 & 0.8554277 & 0.8576903 & 0.8599289 & 0.8621434\\\\\n",
       "\t1.10 & 0.8643339 & 0.8665005 & 0.8686431 & 0.8707619 & 0.8728568 & 0.8749281 & 0.8769756 & 0.8789995 & 0.8809999 & 0.8829768\\\\\n",
       "\t1.20 & 0.8849303 & 0.8868606 & 0.8887676 & 0.8906514 & 0.8925123 & 0.8943502 & 0.8961653 & 0.8979577 & 0.8997274 & 0.9014747\\\\\n",
       "\t1.30 & 0.9031995 & 0.9049021 & 0.9065825 & 0.9082409 & 0.9098773 & 0.9114920 & 0.9130850 & 0.9146565 & 0.9162067 & 0.9177356\\\\\n",
       "\t1.40 & 0.9192433 & 0.9207302 & 0.9221962 & 0.9236415 & 0.9250663 & 0.9264707 & 0.9278550 & 0.9292191 & 0.9305634 & 0.9318879\\\\\n",
       "\t1.50 & 0.9331928 & 0.9344783 & 0.9357445 & 0.9369916 & 0.9382198 & 0.9394292 & 0.9406201 & 0.9417924 & 0.9429466 & 0.9440826\\\\\n",
       "\t1.60 & 0.9452007 & 0.9463011 & 0.9473839 & 0.9484493 & 0.9494974 & 0.9505285 & 0.9515428 & 0.9525403 & 0.9535213 & 0.9544860\\\\\n",
       "\t1.70 & 0.9554345 & 0.9563671 & 0.9572838 & 0.9581849 & 0.9590705 & 0.9599408 & 0.9607961 & 0.9616364 & 0.9624620 & 0.9632730\\\\\n",
       "\t1.80 & 0.9640697 & 0.9648521 & 0.9656205 & 0.9663750 & 0.9671159 & 0.9678432 & 0.9685572 & 0.9692581 & 0.9699460 & 0.9706210\\\\\n",
       "\t1.90 & 0.9712834 & 0.9719334 & 0.9725711 & 0.9731966 & 0.9738102 & 0.9744119 & 0.9750021 & 0.9755808 & 0.9761482 & 0.9767045\\\\\n",
       "\t2.00 & 0.9772499 & 0.9777844 & 0.9783083 & 0.9788217 & 0.9793248 & 0.9798178 & 0.9803007 & 0.9807738 & 0.9812372 & 0.9816911\\\\\n",
       "\t2.10 & 0.9821356 & 0.9825708 & 0.9829970 & 0.9834142 & 0.9838226 & 0.9842224 & 0.9846137 & 0.9849966 & 0.9853713 & 0.9857379\\\\\n",
       "\t2.20 & 0.9860966 & 0.9864474 & 0.9867906 & 0.9871263 & 0.9874545 & 0.9877755 & 0.9880894 & 0.9883962 & 0.9886962 & 0.9889893\\\\\n",
       "\t2.30 & 0.9892759 & 0.9895559 & 0.9898296 & 0.9900969 & 0.9903581 & 0.9906133 & 0.9908625 & 0.9911060 & 0.9913437 & 0.9915758\\\\\n",
       "\t2.40 & 0.9918025 & 0.9920237 & 0.9922397 & 0.9924506 & 0.9926564 & 0.9928572 & 0.9930531 & 0.9932443 & 0.9934309 & 0.9936128\\\\\n",
       "\t2.50 & 0.9937903 & 0.9939634 & 0.9941323 & 0.9942969 & 0.9944574 & 0.9946139 & 0.9947664 & 0.9949151 & 0.9950600 & 0.9952012\\\\\n",
       "\t2.60 & 0.9953388 & 0.9954729 & 0.9956035 & 0.9957308 & 0.9958547 & 0.9959754 & 0.9960930 & 0.9962074 & 0.9963189 & 0.9964274\\\\\n",
       "\t2.70 & 0.9965330 & 0.9966358 & 0.9967359 & 0.9968333 & 0.9969280 & 0.9970202 & 0.9971099 & 0.9971972 & 0.9972821 & 0.9973646\\\\\n",
       "\t2.80 & 0.9974449 & 0.9975229 & 0.9975988 & 0.9976726 & 0.9977443 & 0.9978140 & 0.9978818 & 0.9979476 & 0.9980116 & 0.9980738\\\\\n",
       "\t2.90 & 0.9981342 & 0.9981929 & 0.9982498 & 0.9983052 & 0.9983589 & 0.9984111 & 0.9984618 & 0.9985110 & 0.9985588 & 0.9986051\\\\\n",
       "\t3.00 & 0.9986501 & 0.9986938 & 0.9987361 & 0.9987772 & 0.9988171 & 0.9988558 & 0.9988933 & 0.9989297 & 0.9989650 & 0.9989992\\\\\n",
       "\t3.10 & 0.9990324 & 0.9990646 & 0.9990957 & 0.9991260 & 0.9991553 & 0.9991836 & 0.9992112 & 0.9992378 & 0.9992636 & 0.9992886\\\\\n",
       "\t3.20 & 0.9993129 & 0.9993363 & 0.9993590 & 0.9993810 & 0.9994024 & 0.9994230 & 0.9994429 & 0.9994623 & 0.9994810 & 0.9994991\\\\\n",
       "\t3.30 & 0.9995166 & 0.9995335 & 0.9995499 & 0.9995658 & 0.9995811 & 0.9995959 & 0.9996103 & 0.9996242 & 0.9996376 & 0.9996505\\\\\n",
       "\t3.40 & 0.9996631 & 0.9996752 & 0.9996869 & 0.9996982 & 0.9997091 & 0.9997197 & 0.9997299 & 0.9997398 & 0.9997493 & 0.9997585\\\\\n",
       "\t3.50 & 0.9997674 & 0.9997759 & 0.9997842 & 0.9997922 & 0.9997999 & 0.9998074 & 0.9998146 & 0.9998215 & 0.9998282 & 0.9998347\\\\\n",
       "\t3.60 & 0.9998409 & 0.9998469 & 0.9998527 & 0.9998583 & 0.9998637 & 0.9998689 & 0.9998739 & 0.9998787 & 0.9998834 & 0.9998879\\\\\n",
       "\t3.70 & 0.9998922 & 0.9998964 & 0.9999004 & 0.9999043 & 0.9999080 & 0.9999116 & 0.9999150 & 0.9999184 & 0.9999216 & 0.9999247\\\\\n",
       "\t3.80 & 0.9999277 & 0.9999305 & 0.9999333 & 0.9999359 & 0.9999385 & 0.9999409 & 0.9999433 & 0.9999456 & 0.9999478 & 0.9999499\\\\\n",
       "\t3.90 & 0.9999519 & 0.9999539 & 0.9999557 & 0.9999575 & 0.9999593 & 0.9999609 & 0.9999625 & 0.9999641 & 0.9999655 & 0.9999670\\\\\n",
       "\\end{tabular}\n"
      ],
      "text/markdown": [
       "\n",
       "A matrix: 40 × 10 of type dbl\n",
       "\n",
       "| <!--/--> | 0.00 | 0.01 | 0.02 | 0.03 | 0.04 | 0.05 | 0.06 | 0.07 | 0.08 | 0.09 |\n",
       "|---|---|---|---|---|---|---|---|---|---|---|\n",
       "| 0.00 | 0.5000000 | 0.5039894 | 0.5079783 | 0.5119665 | 0.5159534 | 0.5199388 | 0.5239222 | 0.5279032 | 0.5318814 | 0.5358564 |\n",
       "| 0.10 | 0.5398278 | 0.5437953 | 0.5477584 | 0.5517168 | 0.5556700 | 0.5596177 | 0.5635595 | 0.5674949 | 0.5714237 | 0.5753454 |\n",
       "| 0.20 | 0.5792597 | 0.5831662 | 0.5870644 | 0.5909541 | 0.5948349 | 0.5987063 | 0.6025681 | 0.6064199 | 0.6102612 | 0.6140919 |\n",
       "| 0.30 | 0.6179114 | 0.6217195 | 0.6255158 | 0.6293000 | 0.6330717 | 0.6368307 | 0.6405764 | 0.6443088 | 0.6480273 | 0.6517317 |\n",
       "| 0.40 | 0.6554217 | 0.6590970 | 0.6627573 | 0.6664022 | 0.6700314 | 0.6736448 | 0.6772419 | 0.6808225 | 0.6843863 | 0.6879331 |\n",
       "| 0.50 | 0.6914625 | 0.6949743 | 0.6984682 | 0.7019440 | 0.7054015 | 0.7088403 | 0.7122603 | 0.7156612 | 0.7190427 | 0.7224047 |\n",
       "| 0.60 | 0.7257469 | 0.7290691 | 0.7323711 | 0.7356527 | 0.7389137 | 0.7421539 | 0.7453731 | 0.7485711 | 0.7517478 | 0.7549029 |\n",
       "| 0.70 | 0.7580363 | 0.7611479 | 0.7642375 | 0.7673049 | 0.7703500 | 0.7733726 | 0.7763727 | 0.7793501 | 0.7823046 | 0.7852361 |\n",
       "| 0.80 | 0.7881446 | 0.7910299 | 0.7938919 | 0.7967306 | 0.7995458 | 0.8023375 | 0.8051055 | 0.8078498 | 0.8105703 | 0.8132671 |\n",
       "| 0.90 | 0.8159399 | 0.8185887 | 0.8212136 | 0.8238145 | 0.8263912 | 0.8289439 | 0.8314724 | 0.8339768 | 0.8364569 | 0.8389129 |\n",
       "| 1.00 | 0.8413447 | 0.8437524 | 0.8461358 | 0.8484950 | 0.8508300 | 0.8531409 | 0.8554277 | 0.8576903 | 0.8599289 | 0.8621434 |\n",
       "| 1.10 | 0.8643339 | 0.8665005 | 0.8686431 | 0.8707619 | 0.8728568 | 0.8749281 | 0.8769756 | 0.8789995 | 0.8809999 | 0.8829768 |\n",
       "| 1.20 | 0.8849303 | 0.8868606 | 0.8887676 | 0.8906514 | 0.8925123 | 0.8943502 | 0.8961653 | 0.8979577 | 0.8997274 | 0.9014747 |\n",
       "| 1.30 | 0.9031995 | 0.9049021 | 0.9065825 | 0.9082409 | 0.9098773 | 0.9114920 | 0.9130850 | 0.9146565 | 0.9162067 | 0.9177356 |\n",
       "| 1.40 | 0.9192433 | 0.9207302 | 0.9221962 | 0.9236415 | 0.9250663 | 0.9264707 | 0.9278550 | 0.9292191 | 0.9305634 | 0.9318879 |\n",
       "| 1.50 | 0.9331928 | 0.9344783 | 0.9357445 | 0.9369916 | 0.9382198 | 0.9394292 | 0.9406201 | 0.9417924 | 0.9429466 | 0.9440826 |\n",
       "| 1.60 | 0.9452007 | 0.9463011 | 0.9473839 | 0.9484493 | 0.9494974 | 0.9505285 | 0.9515428 | 0.9525403 | 0.9535213 | 0.9544860 |\n",
       "| 1.70 | 0.9554345 | 0.9563671 | 0.9572838 | 0.9581849 | 0.9590705 | 0.9599408 | 0.9607961 | 0.9616364 | 0.9624620 | 0.9632730 |\n",
       "| 1.80 | 0.9640697 | 0.9648521 | 0.9656205 | 0.9663750 | 0.9671159 | 0.9678432 | 0.9685572 | 0.9692581 | 0.9699460 | 0.9706210 |\n",
       "| 1.90 | 0.9712834 | 0.9719334 | 0.9725711 | 0.9731966 | 0.9738102 | 0.9744119 | 0.9750021 | 0.9755808 | 0.9761482 | 0.9767045 |\n",
       "| 2.00 | 0.9772499 | 0.9777844 | 0.9783083 | 0.9788217 | 0.9793248 | 0.9798178 | 0.9803007 | 0.9807738 | 0.9812372 | 0.9816911 |\n",
       "| 2.10 | 0.9821356 | 0.9825708 | 0.9829970 | 0.9834142 | 0.9838226 | 0.9842224 | 0.9846137 | 0.9849966 | 0.9853713 | 0.9857379 |\n",
       "| 2.20 | 0.9860966 | 0.9864474 | 0.9867906 | 0.9871263 | 0.9874545 | 0.9877755 | 0.9880894 | 0.9883962 | 0.9886962 | 0.9889893 |\n",
       "| 2.30 | 0.9892759 | 0.9895559 | 0.9898296 | 0.9900969 | 0.9903581 | 0.9906133 | 0.9908625 | 0.9911060 | 0.9913437 | 0.9915758 |\n",
       "| 2.40 | 0.9918025 | 0.9920237 | 0.9922397 | 0.9924506 | 0.9926564 | 0.9928572 | 0.9930531 | 0.9932443 | 0.9934309 | 0.9936128 |\n",
       "| 2.50 | 0.9937903 | 0.9939634 | 0.9941323 | 0.9942969 | 0.9944574 | 0.9946139 | 0.9947664 | 0.9949151 | 0.9950600 | 0.9952012 |\n",
       "| 2.60 | 0.9953388 | 0.9954729 | 0.9956035 | 0.9957308 | 0.9958547 | 0.9959754 | 0.9960930 | 0.9962074 | 0.9963189 | 0.9964274 |\n",
       "| 2.70 | 0.9965330 | 0.9966358 | 0.9967359 | 0.9968333 | 0.9969280 | 0.9970202 | 0.9971099 | 0.9971972 | 0.9972821 | 0.9973646 |\n",
       "| 2.80 | 0.9974449 | 0.9975229 | 0.9975988 | 0.9976726 | 0.9977443 | 0.9978140 | 0.9978818 | 0.9979476 | 0.9980116 | 0.9980738 |\n",
       "| 2.90 | 0.9981342 | 0.9981929 | 0.9982498 | 0.9983052 | 0.9983589 | 0.9984111 | 0.9984618 | 0.9985110 | 0.9985588 | 0.9986051 |\n",
       "| 3.00 | 0.9986501 | 0.9986938 | 0.9987361 | 0.9987772 | 0.9988171 | 0.9988558 | 0.9988933 | 0.9989297 | 0.9989650 | 0.9989992 |\n",
       "| 3.10 | 0.9990324 | 0.9990646 | 0.9990957 | 0.9991260 | 0.9991553 | 0.9991836 | 0.9992112 | 0.9992378 | 0.9992636 | 0.9992886 |\n",
       "| 3.20 | 0.9993129 | 0.9993363 | 0.9993590 | 0.9993810 | 0.9994024 | 0.9994230 | 0.9994429 | 0.9994623 | 0.9994810 | 0.9994991 |\n",
       "| 3.30 | 0.9995166 | 0.9995335 | 0.9995499 | 0.9995658 | 0.9995811 | 0.9995959 | 0.9996103 | 0.9996242 | 0.9996376 | 0.9996505 |\n",
       "| 3.40 | 0.9996631 | 0.9996752 | 0.9996869 | 0.9996982 | 0.9997091 | 0.9997197 | 0.9997299 | 0.9997398 | 0.9997493 | 0.9997585 |\n",
       "| 3.50 | 0.9997674 | 0.9997759 | 0.9997842 | 0.9997922 | 0.9997999 | 0.9998074 | 0.9998146 | 0.9998215 | 0.9998282 | 0.9998347 |\n",
       "| 3.60 | 0.9998409 | 0.9998469 | 0.9998527 | 0.9998583 | 0.9998637 | 0.9998689 | 0.9998739 | 0.9998787 | 0.9998834 | 0.9998879 |\n",
       "| 3.70 | 0.9998922 | 0.9998964 | 0.9999004 | 0.9999043 | 0.9999080 | 0.9999116 | 0.9999150 | 0.9999184 | 0.9999216 | 0.9999247 |\n",
       "| 3.80 | 0.9999277 | 0.9999305 | 0.9999333 | 0.9999359 | 0.9999385 | 0.9999409 | 0.9999433 | 0.9999456 | 0.9999478 | 0.9999499 |\n",
       "| 3.90 | 0.9999519 | 0.9999539 | 0.9999557 | 0.9999575 | 0.9999593 | 0.9999609 | 0.9999625 | 0.9999641 | 0.9999655 | 0.9999670 |\n",
       "\n"
      ],
      "text/plain": [
       "     0.00      0.01      0.02      0.03      0.04      0.05      0.06     \n",
       "0.00 0.5000000 0.5039894 0.5079783 0.5119665 0.5159534 0.5199388 0.5239222\n",
       "0.10 0.5398278 0.5437953 0.5477584 0.5517168 0.5556700 0.5596177 0.5635595\n",
       "0.20 0.5792597 0.5831662 0.5870644 0.5909541 0.5948349 0.5987063 0.6025681\n",
       "0.30 0.6179114 0.6217195 0.6255158 0.6293000 0.6330717 0.6368307 0.6405764\n",
       "0.40 0.6554217 0.6590970 0.6627573 0.6664022 0.6700314 0.6736448 0.6772419\n",
       "0.50 0.6914625 0.6949743 0.6984682 0.7019440 0.7054015 0.7088403 0.7122603\n",
       "0.60 0.7257469 0.7290691 0.7323711 0.7356527 0.7389137 0.7421539 0.7453731\n",
       "0.70 0.7580363 0.7611479 0.7642375 0.7673049 0.7703500 0.7733726 0.7763727\n",
       "0.80 0.7881446 0.7910299 0.7938919 0.7967306 0.7995458 0.8023375 0.8051055\n",
       "0.90 0.8159399 0.8185887 0.8212136 0.8238145 0.8263912 0.8289439 0.8314724\n",
       "1.00 0.8413447 0.8437524 0.8461358 0.8484950 0.8508300 0.8531409 0.8554277\n",
       "1.10 0.8643339 0.8665005 0.8686431 0.8707619 0.8728568 0.8749281 0.8769756\n",
       "1.20 0.8849303 0.8868606 0.8887676 0.8906514 0.8925123 0.8943502 0.8961653\n",
       "1.30 0.9031995 0.9049021 0.9065825 0.9082409 0.9098773 0.9114920 0.9130850\n",
       "1.40 0.9192433 0.9207302 0.9221962 0.9236415 0.9250663 0.9264707 0.9278550\n",
       "1.50 0.9331928 0.9344783 0.9357445 0.9369916 0.9382198 0.9394292 0.9406201\n",
       "1.60 0.9452007 0.9463011 0.9473839 0.9484493 0.9494974 0.9505285 0.9515428\n",
       "1.70 0.9554345 0.9563671 0.9572838 0.9581849 0.9590705 0.9599408 0.9607961\n",
       "1.80 0.9640697 0.9648521 0.9656205 0.9663750 0.9671159 0.9678432 0.9685572\n",
       "1.90 0.9712834 0.9719334 0.9725711 0.9731966 0.9738102 0.9744119 0.9750021\n",
       "2.00 0.9772499 0.9777844 0.9783083 0.9788217 0.9793248 0.9798178 0.9803007\n",
       "2.10 0.9821356 0.9825708 0.9829970 0.9834142 0.9838226 0.9842224 0.9846137\n",
       "2.20 0.9860966 0.9864474 0.9867906 0.9871263 0.9874545 0.9877755 0.9880894\n",
       "2.30 0.9892759 0.9895559 0.9898296 0.9900969 0.9903581 0.9906133 0.9908625\n",
       "2.40 0.9918025 0.9920237 0.9922397 0.9924506 0.9926564 0.9928572 0.9930531\n",
       "2.50 0.9937903 0.9939634 0.9941323 0.9942969 0.9944574 0.9946139 0.9947664\n",
       "2.60 0.9953388 0.9954729 0.9956035 0.9957308 0.9958547 0.9959754 0.9960930\n",
       "2.70 0.9965330 0.9966358 0.9967359 0.9968333 0.9969280 0.9970202 0.9971099\n",
       "2.80 0.9974449 0.9975229 0.9975988 0.9976726 0.9977443 0.9978140 0.9978818\n",
       "2.90 0.9981342 0.9981929 0.9982498 0.9983052 0.9983589 0.9984111 0.9984618\n",
       "3.00 0.9986501 0.9986938 0.9987361 0.9987772 0.9988171 0.9988558 0.9988933\n",
       "3.10 0.9990324 0.9990646 0.9990957 0.9991260 0.9991553 0.9991836 0.9992112\n",
       "3.20 0.9993129 0.9993363 0.9993590 0.9993810 0.9994024 0.9994230 0.9994429\n",
       "3.30 0.9995166 0.9995335 0.9995499 0.9995658 0.9995811 0.9995959 0.9996103\n",
       "3.40 0.9996631 0.9996752 0.9996869 0.9996982 0.9997091 0.9997197 0.9997299\n",
       "3.50 0.9997674 0.9997759 0.9997842 0.9997922 0.9997999 0.9998074 0.9998146\n",
       "3.60 0.9998409 0.9998469 0.9998527 0.9998583 0.9998637 0.9998689 0.9998739\n",
       "3.70 0.9998922 0.9998964 0.9999004 0.9999043 0.9999080 0.9999116 0.9999150\n",
       "3.80 0.9999277 0.9999305 0.9999333 0.9999359 0.9999385 0.9999409 0.9999433\n",
       "3.90 0.9999519 0.9999539 0.9999557 0.9999575 0.9999593 0.9999609 0.9999625\n",
       "     0.07      0.08      0.09     \n",
       "0.00 0.5279032 0.5318814 0.5358564\n",
       "0.10 0.5674949 0.5714237 0.5753454\n",
       "0.20 0.6064199 0.6102612 0.6140919\n",
       "0.30 0.6443088 0.6480273 0.6517317\n",
       "0.40 0.6808225 0.6843863 0.6879331\n",
       "0.50 0.7156612 0.7190427 0.7224047\n",
       "0.60 0.7485711 0.7517478 0.7549029\n",
       "0.70 0.7793501 0.7823046 0.7852361\n",
       "0.80 0.8078498 0.8105703 0.8132671\n",
       "0.90 0.8339768 0.8364569 0.8389129\n",
       "1.00 0.8576903 0.8599289 0.8621434\n",
       "1.10 0.8789995 0.8809999 0.8829768\n",
       "1.20 0.8979577 0.8997274 0.9014747\n",
       "1.30 0.9146565 0.9162067 0.9177356\n",
       "1.40 0.9292191 0.9305634 0.9318879\n",
       "1.50 0.9417924 0.9429466 0.9440826\n",
       "1.60 0.9525403 0.9535213 0.9544860\n",
       "1.70 0.9616364 0.9624620 0.9632730\n",
       "1.80 0.9692581 0.9699460 0.9706210\n",
       "1.90 0.9755808 0.9761482 0.9767045\n",
       "2.00 0.9807738 0.9812372 0.9816911\n",
       "2.10 0.9849966 0.9853713 0.9857379\n",
       "2.20 0.9883962 0.9886962 0.9889893\n",
       "2.30 0.9911060 0.9913437 0.9915758\n",
       "2.40 0.9932443 0.9934309 0.9936128\n",
       "2.50 0.9949151 0.9950600 0.9952012\n",
       "2.60 0.9962074 0.9963189 0.9964274\n",
       "2.70 0.9971972 0.9972821 0.9973646\n",
       "2.80 0.9979476 0.9980116 0.9980738\n",
       "2.90 0.9985110 0.9985588 0.9986051\n",
       "3.00 0.9989297 0.9989650 0.9989992\n",
       "3.10 0.9992378 0.9992636 0.9992886\n",
       "3.20 0.9994623 0.9994810 0.9994991\n",
       "3.30 0.9996242 0.9996376 0.9996505\n",
       "3.40 0.9997398 0.9997493 0.9997585\n",
       "3.50 0.9998215 0.9998282 0.9998347\n",
       "3.60 0.9998787 0.9998834 0.9998879\n",
       "3.70 0.9999184 0.9999216 0.9999247\n",
       "3.80 0.9999456 0.9999478 0.9999499\n",
       "3.90 0.9999641 0.9999655 0.9999670"
      ]
     },
     "metadata": {},
     "output_type": "display_data"
    }
   ],
   "source": [
    "Z <- seq(0, 3.99, by=0.01)\n",
    "probabilidade <- pnorm(Z)\n",
    "tabela_normal_padronizada <- matrix(probabilidade, ncol=10, byrow=TRUE)\n",
    "colnames(tabela_normal_padronizada) <- format(seq(0.00, 0.09, by=0.01))\n",
    "rownames(tabela_normal_padronizada) <- format(seq(0.00, 3.90, by=0.10), digits = 2, nsmall = 2)\n",
    "tabela_normal_padronizada"
   ]
  },
  {
   "cell_type": "markdown",
   "id": "8316b83b",
   "metadata": {},
   "source": [
    "Em um estudo sobre as alturas dos moradores de uma cidade verificou-se que o conjunto de dados segue uma **distribuição aproximadamente normal**, com **média 1,70** e **desvio padrão de 0,1**. Com estas informações obtenha o seguinte conjunto de probabilidades:\n",
    "\n",
    "> **A.** probabilidade de uma pessoa, selecionada ao acaso, ter menos de 1,80 metros.\n",
    ">\n",
    "> **B.** probabilidade de uma pessoa, selecionada ao acaso, ter entre 1,60 metros e 1,80 metros.    \n",
    ">\n",
    "> **C.** probabilidade de uma pessoa, selecionada ao acaso, ter mais de 1,90 metros."
   ]
  },
  {
   "cell_type": "markdown",
   "id": "a74e0930",
   "metadata": {},
   "source": [
    "> **A.** probabilidade de uma pessoa, selecionada ao acaso, ter menos de 1,80 metros."
   ]
  },
  {
   "cell_type": "code",
   "execution_count": 21,
   "id": "0c2280d3",
   "metadata": {},
   "outputs": [
    {
     "data": {
      "text/html": [
       "1"
      ],
      "text/latex": [
       "1"
      ],
      "text/markdown": [
       "1"
      ],
      "text/plain": [
       "[1] 1"
      ]
     },
     "metadata": {},
     "output_type": "display_data"
    }
   ],
   "source": [
    "mi <- 1.7\n",
    "sigma <- 0.1\n",
    "\n",
    "z <- (1.8 - mi) / sigma\n",
    "\n",
    "z"
   ]
  },
  {
   "cell_type": "code",
   "execution_count": 23,
   "id": "61bac510",
   "metadata": {},
   "outputs": [
    {
     "data": {
      "text/html": [
       "'A Probabilidade de alguém selecionado ao acaso ter menos de 1,80m é de 84.13%'"
      ],
      "text/latex": [
       "'A Probabilidade de alguém selecionado ao acaso ter menos de 1,80m é de 84.13\\%'"
      ],
      "text/markdown": [
       "'A Probabilidade de alguém selecionado ao acaso ter menos de 1,80m é de 84.13%'"
      ],
      "text/plain": [
       "[1] \"A Probabilidade de alguém selecionado ao acaso ter menos de 1,80m é de 84.13%\""
      ]
     },
     "metadata": {},
     "output_type": "display_data"
    },
    {
     "data": {
      "text/html": [
       "'A Probabilidade de alguém selecionado ao acaso ter menos de 1,80m é de 84.13%'"
      ],
      "text/latex": [
       "'A Probabilidade de alguém selecionado ao acaso ter menos de 1,80m é de 84.13\\%'"
      ],
      "text/markdown": [
       "'A Probabilidade de alguém selecionado ao acaso ter menos de 1,80m é de 84.13%'"
      ],
      "text/plain": [
       "[1] \"A Probabilidade de alguém selecionado ao acaso ter menos de 1,80m é de 84.13%\""
      ]
     },
     "metadata": {},
     "output_type": "display_data"
    }
   ],
   "source": [
    "prob <- 0.8413447 * 100\n",
    "\n",
    "sprintf('A Probabilidade de alguém selecionado ao acaso ter menos de 1,80m é de %.2f%%', prob)\n",
    "\n",
    "sprintf('A Probabilidade de alguém selecionado ao acaso ter menos de 1,80m é de %.2f%%', pnorm(z) * 100)"
   ]
  },
  {
   "cell_type": "markdown",
   "id": "9372d740",
   "metadata": {},
   "source": [
    "> **B.** probabilidade de uma pessoa, selecionada ao acaso, ter entre 1,60 metros e 1,80 metros."
   ]
  },
  {
   "cell_type": "code",
   "execution_count": 24,
   "id": "14c18504",
   "metadata": {},
   "outputs": [
    {
     "data": {
      "text/html": [
       "-0.999999999999999"
      ],
      "text/latex": [
       "-0.999999999999999"
      ],
      "text/markdown": [
       "-0.999999999999999"
      ],
      "text/plain": [
       "[1] -1"
      ]
     },
     "metadata": {},
     "output_type": "display_data"
    },
    {
     "data": {
      "text/html": [
       "1"
      ],
      "text/latex": [
       "1"
      ],
      "text/markdown": [
       "1"
      ],
      "text/plain": [
       "[1] 1"
      ]
     },
     "metadata": {},
     "output_type": "display_data"
    }
   ],
   "source": [
    "mi <- 1.7\n",
    "sigma <- 0.1\n",
    "\n",
    "z_inferior <- (1.6 - mi) / sigma\n",
    "z_superior <- (1.8 - mi) / sigma\n",
    "\n",
    "z_inferior; z_superior"
   ]
  },
  {
   "cell_type": "code",
   "execution_count": 26,
   "id": "14f75d82",
   "metadata": {},
   "outputs": [
    {
     "data": {
      "text/html": [
       "'A Probabilidade de alguém selecionado ao acaso ter entre 1,80m e 1,60m é de 68.27%'"
      ],
      "text/latex": [
       "'A Probabilidade de alguém selecionado ao acaso ter entre 1,80m e 1,60m é de 68.27\\%'"
      ],
      "text/markdown": [
       "'A Probabilidade de alguém selecionado ao acaso ter entre 1,80m e 1,60m é de 68.27%'"
      ],
      "text/plain": [
       "[1] \"A Probabilidade de alguém selecionado ao acaso ter entre 1,80m e 1,60m é de 68.27%\""
      ]
     },
     "metadata": {},
     "output_type": "display_data"
    },
    {
     "data": {
      "text/html": [
       "<span style=white-space:pre-wrap>'A Probabilidade de alguém selecionado ao acaso ter entre  1,80m e 1,60m é de 68.27%'</span>"
      ],
      "text/latex": [
       "'A Probabilidade de alguém selecionado ao acaso ter entre  1,80m e 1,60m é de 68.27\\%'"
      ],
      "text/markdown": [
       "<span style=white-space:pre-wrap>'A Probabilidade de alguém selecionado ao acaso ter entre  1,80m e 1,60m é de 68.27%'</span>"
      ],
      "text/plain": [
       "[1] \"A Probabilidade de alguém selecionado ao acaso ter entre  1,80m e 1,60m é de 68.27%\""
      ]
     },
     "metadata": {},
     "output_type": "display_data"
    }
   ],
   "source": [
    "prob_superior <- 0.8413447\n",
    "prob_inferior <- (1 - 0.8413447)\n",
    "\n",
    "prob <- prob_superior - prob_inferior\n",
    "\n",
    "prob <- prob * 100\n",
    "\n",
    "sprintf('A Probabilidade de alguém selecionado ao acaso ter entre 1,80m e 1,60m é de %.2f%%', prob)\n",
    "\n",
    "sprintf('A Probabilidade de alguém selecionado ao acaso ter entre  1,80m e 1,60m é de %.2f%%', (pnorm(z_superior) - pnorm(z_inferior)) * 100)"
   ]
  },
  {
   "cell_type": "markdown",
   "id": "c900d458",
   "metadata": {},
   "source": [
    "> **C.** probabilidade de uma pessoa, selecionada ao acaso, ter mais de 1,90 metros."
   ]
  },
  {
   "cell_type": "code",
   "execution_count": 27,
   "id": "c886f334",
   "metadata": {},
   "outputs": [
    {
     "data": {
      "text/html": [
       "2"
      ],
      "text/latex": [
       "2"
      ],
      "text/markdown": [
       "2"
      ],
      "text/plain": [
       "[1] 2"
      ]
     },
     "metadata": {},
     "output_type": "display_data"
    }
   ],
   "source": [
    "mi <- 1.7\n",
    "sigma <- 0.1\n",
    "\n",
    "z <- (1.9 - mi) / sigma\n",
    "z"
   ]
  },
  {
   "cell_type": "code",
   "execution_count": 28,
   "id": "f03ebe22",
   "metadata": {},
   "outputs": [
    {
     "data": {
      "text/html": [
       "'A Probabilidade de alguém selecionado ao acaso ter mais de 1,90m é de 2.28%'"
      ],
      "text/latex": [
       "'A Probabilidade de alguém selecionado ao acaso ter mais de 1,90m é de 2.28\\%'"
      ],
      "text/markdown": [
       "'A Probabilidade de alguém selecionado ao acaso ter mais de 1,90m é de 2.28%'"
      ],
      "text/plain": [
       "[1] \"A Probabilidade de alguém selecionado ao acaso ter mais de 1,90m é de 2.28%\""
      ]
     },
     "metadata": {},
     "output_type": "display_data"
    },
    {
     "data": {
      "text/html": [
       "'A Probabilidade de alguém selecionado ao acaso ter mais de 1,90m é de 2.28%'"
      ],
      "text/latex": [
       "'A Probabilidade de alguém selecionado ao acaso ter mais de 1,90m é de 2.28\\%'"
      ],
      "text/markdown": [
       "'A Probabilidade de alguém selecionado ao acaso ter mais de 1,90m é de 2.28%'"
      ],
      "text/plain": [
       "[1] \"A Probabilidade de alguém selecionado ao acaso ter mais de 1,90m é de 2.28%\""
      ]
     },
     "metadata": {},
     "output_type": "display_data"
    }
   ],
   "source": [
    "prob <- 1 - 0.9772499\n",
    "\n",
    "sprintf('A Probabilidade de alguém selecionado ao acaso ter mais de 1,90m é de %.2f%%', prob * 100)\n",
    "\n",
    "sprintf('A Probabilidade de alguém selecionado ao acaso ter mais de 1,90m é de %.2f%%', (1 - pnorm(z)) * 100)"
   ]
  },
  {
   "cell_type": "markdown",
   "id": "78b229b3",
   "metadata": {},
   "source": [
    "# <font color='green'> 2 - Amostragem </font>\n",
    "\n",
    "Existem vários motivos pelos quais a amostragem é usada na estatística. Aqui estão alguns dos principais motivos:\n",
    "\n",
    "Custo: Coletar dados de uma população inteira pode ser muito caro, demorado e impraticável em muitos casos. Amostragem permite que uma quantidade menor de dados seja coletada de forma mais eficiente.\n",
    "\n",
    "Viabilidade: Em algumas situações, pode ser impossível ou muito difícil obter dados de toda a população. Por exemplo, pode ser difícil obter dados sobre o comportamento de todos os pássaros migratórios do mundo. Amostragem permite obter informações sobre uma população a partir de uma amostra representativa.\n",
    "\n",
    "Precisão: A amostragem pode ser usada para obter estimativas precisas de parâmetros populacionais, como a média ou a proporção de uma característica em uma população. Quando uma amostra é escolhida corretamente, ela pode ser representativa da população e as estimativas podem ser precisas.\n",
    "\n",
    "Generalização: Quando uma amostra é representativa da população, as conclusões tiradas com base na amostra podem ser generalizadas para toda a população. Isso significa que podemos obter informações sobre a população inteira a partir de uma amostra menor.\n",
    "\n",
    "Controle: A amostragem permite que os pesquisadores controlem as variáveis que afetam suas observações. Eles podem escolher amostras que sejam representativas e controlar o tamanho da amostra para garantir que os resultados sejam confiáveis e precisos.\n",
    "\n",
    "Em resumo, a amostragem é usada na estatística para tornar a coleta de dados mais eficiente, viável, precisa e controlada, permitindo que os pesquisadores tirem conclusões sobre a população inteira com base em uma amostra representativa."
   ]
  },
  {
   "cell_type": "markdown",
   "id": "8abe115c",
   "metadata": {},
   "source": [
    "# <font color='green'> 3 - Estimação </font>"
   ]
  },
  {
   "cell_type": "markdown",
   "id": "7499101c",
   "metadata": {},
   "source": [
    "### <font color='red'> Problema </font>\n",
    "\n",
    "Suponha que os pesos dos sacos de arroz de uma indústria alimentícia se distribuem aproximadamente como uma normal de **desvio padrão populacional igual a 150 g**. Selecionada uma **amostra aleatório de 20 sacos** de um lote específico, obteve-se um **peso médio de 5.050 g**. Construa um **intervalo de confiança para a média populacional** assumindo um **nível de significância de 5%**."
   ]
  },
  {
   "cell_type": "markdown",
   "id": "176de7b6",
   "metadata": {},
   "source": [
    "# $$e = z \\frac{\\sigma}{\\sqrt{n}}$$"
   ]
  },
  {
   "cell_type": "code",
   "execution_count": 29,
   "id": "bfeb050b",
   "metadata": {},
   "outputs": [
    {
     "data": {
      "text/html": [
       "5050"
      ],
      "text/latex": [
       "5050"
      ],
      "text/markdown": [
       "5050"
      ],
      "text/plain": [
       "[1] 5050"
      ]
     },
     "metadata": {},
     "output_type": "display_data"
    }
   ],
   "source": [
    "media_amostral <- 5050\n",
    "media_amostral"
   ]
  },
  {
   "cell_type": "code",
   "execution_count": 30,
   "id": "603dba2a",
   "metadata": {},
   "outputs": [
    {
     "data": {
      "text/html": [
       "150"
      ],
      "text/latex": [
       "150"
      ],
      "text/markdown": [
       "150"
      ],
      "text/plain": [
       "[1] 150"
      ]
     },
     "metadata": {},
     "output_type": "display_data"
    }
   ],
   "source": [
    "desvio_padrao_populacional <- 150\n",
    "desvio_padrao_populacional"
   ]
  },
  {
   "cell_type": "code",
   "execution_count": 31,
   "id": "49486c35",
   "metadata": {},
   "outputs": [
    {
     "data": {
      "text/html": [
       "0.05"
      ],
      "text/latex": [
       "0.05"
      ],
      "text/markdown": [
       "0.05"
      ],
      "text/plain": [
       "[1] 0.05"
      ]
     },
     "metadata": {},
     "output_type": "display_data"
    }
   ],
   "source": [
    "significancia <- 0.05\n",
    "significancia"
   ]
  },
  {
   "cell_type": "code",
   "execution_count": 32,
   "id": "efe430d0",
   "metadata": {},
   "outputs": [
    {
     "data": {
      "text/html": [
       "0.95"
      ],
      "text/latex": [
       "0.95"
      ],
      "text/markdown": [
       "0.95"
      ],
      "text/plain": [
       "[1] 0.95"
      ]
     },
     "metadata": {},
     "output_type": "display_data"
    }
   ],
   "source": [
    "confiancia <- 1 - significancia\n",
    "confiancia"
   ]
  },
  {
   "cell_type": "code",
   "execution_count": 39,
   "id": "3228e63c",
   "metadata": {},
   "outputs": [
    {
     "data": {
      "text/html": [
       "2000"
      ],
      "text/latex": [
       "2000"
      ],
      "text/markdown": [
       "2000"
      ],
      "text/plain": [
       "[1] 2000"
      ]
     },
     "metadata": {},
     "output_type": "display_data"
    }
   ],
   "source": []
  },
  {
   "cell_type": "code",
   "execution_count": 40,
   "id": "f7dccffc",
   "metadata": {},
   "outputs": [
    {
     "data": {
      "text/html": [
       "0.975"
      ],
      "text/latex": [
       "0.975"
      ],
      "text/markdown": [
       "0.975"
      ],
      "text/plain": [
       "[1] 0.975"
      ]
     },
     "metadata": {},
     "output_type": "display_data"
    }
   ],
   "source": [
    "probabilidade <- (0.5 + 0.95 / 2)\n",
    "\n",
    "probabilidade"
   ]
  },
  {
   "cell_type": "code",
   "execution_count": 41,
   "id": "827cec92",
   "metadata": {},
   "outputs": [
    {
     "data": {
      "text/html": [
       "1.95996398454005"
      ],
      "text/latex": [
       "1.95996398454005"
      ],
      "text/markdown": [
       "1.95996398454005"
      ],
      "text/plain": [
       "[1] 1.959964"
      ]
     },
     "metadata": {},
     "output_type": "display_data"
    }
   ],
   "source": [
    "z <- qnorm(probabilidade)\n",
    "z"
   ]
  },
  {
   "cell_type": "code",
   "execution_count": 47,
   "id": "f66a0062",
   "metadata": {},
   "outputs": [
    {
     "data": {
      "text/html": [
       "2e+05"
      ],
      "text/latex": [
       "2e+05"
      ],
      "text/markdown": [
       "2e+05"
      ],
      "text/plain": [
       "[1] 2e+05"
      ]
     },
     "metadata": {},
     "output_type": "display_data"
    },
    {
     "data": {
      "text/html": [
       "0.335410196624968"
      ],
      "text/latex": [
       "0.335410196624968"
      ],
      "text/markdown": [
       "0.335410196624968"
      ],
      "text/plain": [
       "[1] 0.3354102"
      ]
     },
     "metadata": {},
     "output_type": "display_data"
    },
    {
     "data": {
      "text/html": [
       "0.657391905432436"
      ],
      "text/latex": [
       "0.657391905432436"
      ],
      "text/markdown": [
       "0.657391905432436"
      ],
      "text/plain": [
       "[1] 0.6573919"
      ]
     },
     "metadata": {},
     "output_type": "display_data"
    },
    {
     "data": {
      "text/html": [
       "<style>\n",
       ".list-inline {list-style: none; margin:0; padding: 0}\n",
       ".list-inline>li {display: inline-block}\n",
       ".list-inline>li:not(:last-child)::after {content: \"\\00b7\"; padding: 0 .5ex}\n",
       "</style>\n",
       "<ol class=list-inline><li>5049.34260809457</li><li>5050.65739190543</li></ol>\n"
      ],
      "text/latex": [
       "\\begin{enumerate*}\n",
       "\\item 5049.34260809457\n",
       "\\item 5050.65739190543\n",
       "\\end{enumerate*}\n"
      ],
      "text/markdown": [
       "1. 5049.34260809457\n",
       "2. 5050.65739190543\n",
       "\n",
       "\n"
      ],
      "text/plain": [
       "[1] 5049.343 5050.657"
      ]
     },
     "metadata": {},
     "output_type": "display_data"
    }
   ],
   "source": [
    "n <- 200000\n",
    "n\n",
    "sigma <- desvio_padrao_populacional / sqrt(n)\n",
    "sigma\n",
    "erro <- z * sigma\n",
    "erro\n",
    "intervalo <- c(media_amostral - erro, media_amostral + erro)\n",
    "intervalo"
   ]
  },
  {
   "cell_type": "code",
   "execution_count": null,
   "id": "546a79b8",
   "metadata": {},
   "outputs": [],
   "source": []
  }
 ],
 "metadata": {
  "kernelspec": {
   "display_name": "R",
   "language": "R",
   "name": "ir"
  },
  "language_info": {
   "codemirror_mode": "r",
   "file_extension": ".r",
   "mimetype": "text/x-r-source",
   "name": "R",
   "pygments_lexer": "r",
   "version": "4.1.2"
  }
 },
 "nbformat": 4,
 "nbformat_minor": 5
}
