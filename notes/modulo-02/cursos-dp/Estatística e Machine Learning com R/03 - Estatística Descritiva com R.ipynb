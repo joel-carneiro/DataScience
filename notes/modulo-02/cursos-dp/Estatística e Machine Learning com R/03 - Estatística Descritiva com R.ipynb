{
 "cells": [
  {
   "cell_type": "markdown",
   "id": "afa32b98",
   "metadata": {},
   "source": [
    "<h1 style='color:blue'> Estatística Descritiva com R: Frequências e Medidas </h1>\n",
    "\n",
    "Seja bem-vindo ao meu Jupyter Notebook sobre Estatística Descritiva com R: Frequências e Medidas. Este notebook tem como objetivo apresentar conceitos e técnicas fundamentais para análise exploratória de dados utilizando a linguagem de programação R.\n",
    "\n",
    "A estatística descritiva é uma área fundamental da estatística que tem como objetivo descrever e resumir as características de um conjunto de dados. Neste notebook, vamos explorar técnicas para calcular frequências e medidas estatísticas como a média, mediana e desvio padrão, além de criar gráficos para visualizar os dados.\n",
    "\n",
    "Para acompanhar este notebook, é necessário ter conhecimento básico em R e em estatística descritiva. Caso você não tenha esses conhecimentos, recomenda-se estudá-los previamente antes de prosseguir com o notebook.\n",
    "\n",
    "Ao final deste notebook, você terá conhecimentos fundamentais em estatística descritiva e será capaz de aplicar esses conhecimentos em seus próprios projetos de análise de dados. Vamos começar!"
   ]
  },
  {
   "cell_type": "markdown",
   "id": "8753b6f5",
   "metadata": {},
   "source": [
    "# 1 - Conhecendo os Dados"
   ]
  },
  {
   "cell_type": "markdown",
   "id": "ac5aac7a",
   "metadata": {},
   "source": [
    "## 1.1 - Importando Dados"
   ]
  },
  {
   "cell_type": "code",
   "execution_count": 1,
   "id": "5c868b50",
   "metadata": {},
   "outputs": [],
   "source": [
    "# Importando dados externos e atribuindo a uma variável dataframe\n",
    "dados <- read.csv('/home/joeldspy/Modelos/datasets/estatistica.csv')"
   ]
  },
  {
   "cell_type": "code",
   "execution_count": 3,
   "id": "0d061fda",
   "metadata": {
    "scrolled": false
   },
   "outputs": [
    {
     "data": {
      "text/html": [
       "<table class=\"dataframe\">\n",
       "<caption>A data.frame: 5 × 7</caption>\n",
       "<thead>\n",
       "\t<tr><th></th><th scope=col>UF</th><th scope=col>Sexo</th><th scope=col>Idade</th><th scope=col>Cor</th><th scope=col>Anos.de.Estudo</th><th scope=col>Renda</th><th scope=col>Altura</th></tr>\n",
       "\t<tr><th></th><th scope=col>&lt;int&gt;</th><th scope=col>&lt;int&gt;</th><th scope=col>&lt;int&gt;</th><th scope=col>&lt;int&gt;</th><th scope=col>&lt;int&gt;</th><th scope=col>&lt;int&gt;</th><th scope=col>&lt;dbl&gt;</th></tr>\n",
       "</thead>\n",
       "<tbody>\n",
       "\t<tr><th scope=row>1</th><td>11</td><td>0</td><td>23</td><td>8</td><td>12</td><td> 800</td><td>1.603808</td></tr>\n",
       "\t<tr><th scope=row>2</th><td>11</td><td>1</td><td>23</td><td>2</td><td>12</td><td>1150</td><td>1.739790</td></tr>\n",
       "\t<tr><th scope=row>3</th><td>11</td><td>1</td><td>35</td><td>8</td><td>15</td><td> 880</td><td>1.760444</td></tr>\n",
       "\t<tr><th scope=row>4</th><td>11</td><td>0</td><td>46</td><td>2</td><td> 6</td><td>3500</td><td>1.783158</td></tr>\n",
       "\t<tr><th scope=row>5</th><td>11</td><td>1</td><td>47</td><td>8</td><td> 9</td><td> 150</td><td>1.690631</td></tr>\n",
       "</tbody>\n",
       "</table>\n"
      ],
      "text/latex": [
       "A data.frame: 5 × 7\n",
       "\\begin{tabular}{r|lllllll}\n",
       "  & UF & Sexo & Idade & Cor & Anos.de.Estudo & Renda & Altura\\\\\n",
       "  & <int> & <int> & <int> & <int> & <int> & <int> & <dbl>\\\\\n",
       "\\hline\n",
       "\t1 & 11 & 0 & 23 & 8 & 12 &  800 & 1.603808\\\\\n",
       "\t2 & 11 & 1 & 23 & 2 & 12 & 1150 & 1.739790\\\\\n",
       "\t3 & 11 & 1 & 35 & 8 & 15 &  880 & 1.760444\\\\\n",
       "\t4 & 11 & 0 & 46 & 2 &  6 & 3500 & 1.783158\\\\\n",
       "\t5 & 11 & 1 & 47 & 8 &  9 &  150 & 1.690631\\\\\n",
       "\\end{tabular}\n"
      ],
      "text/markdown": [
       "\n",
       "A data.frame: 5 × 7\n",
       "\n",
       "| <!--/--> | UF &lt;int&gt; | Sexo &lt;int&gt; | Idade &lt;int&gt; | Cor &lt;int&gt; | Anos.de.Estudo &lt;int&gt; | Renda &lt;int&gt; | Altura &lt;dbl&gt; |\n",
       "|---|---|---|---|---|---|---|---|\n",
       "| 1 | 11 | 0 | 23 | 8 | 12 |  800 | 1.603808 |\n",
       "| 2 | 11 | 1 | 23 | 2 | 12 | 1150 | 1.739790 |\n",
       "| 3 | 11 | 1 | 35 | 8 | 15 |  880 | 1.760444 |\n",
       "| 4 | 11 | 0 | 46 | 2 |  6 | 3500 | 1.783158 |\n",
       "| 5 | 11 | 1 | 47 | 8 |  9 |  150 | 1.690631 |\n",
       "\n"
      ],
      "text/plain": [
       "  UF Sexo Idade Cor Anos.de.Estudo Renda Altura  \n",
       "1 11 0    23    8   12              800  1.603808\n",
       "2 11 1    23    2   12             1150  1.739790\n",
       "3 11 1    35    8   15              880  1.760444\n",
       "4 11 0    46    2    6             3500  1.783158\n",
       "5 11 1    47    8    9              150  1.690631"
      ]
     },
     "metadata": {},
     "output_type": "display_data"
    }
   ],
   "source": [
    "# Visualizando as 10 primeiras observações do nosso dataframe\n",
    "head(dados, 5)"
   ]
  },
  {
   "cell_type": "markdown",
   "id": "bfab5f1e",
   "metadata": {},
   "source": [
    "## 1.2 - Tipos de Variáveis"
   ]
  },
  {
   "cell_type": "markdown",
   "id": "a18a21c7",
   "metadata": {},
   "source": [
    "<img src='https://www.inf.ufsc.br/~andre.zibetti/probabilidade/img/classificacao_variaveis.png'>"
   ]
  },
  {
   "cell_type": "markdown",
   "id": "b52803be",
   "metadata": {},
   "source": [
    "- **Variáveis Qualitativas Nominais**"
   ]
  },
  {
   "cell_type": "code",
   "execution_count": 4,
   "id": "7433c042",
   "metadata": {},
   "outputs": [
    {
     "data": {
      "text/html": [
       "<style>\n",
       ".list-inline {list-style: none; margin:0; padding: 0}\n",
       ".list-inline>li {display: inline-block}\n",
       ".list-inline>li:not(:last-child)::after {content: \"\\00b7\"; padding: 0 .5ex}\n",
       "</style>\n",
       "<ol class=list-inline><li>0</li><li>1</li></ol>\n"
      ],
      "text/latex": [
       "\\begin{enumerate*}\n",
       "\\item 0\n",
       "\\item 1\n",
       "\\end{enumerate*}\n"
      ],
      "text/markdown": [
       "1. 0\n",
       "2. 1\n",
       "\n",
       "\n"
      ],
      "text/plain": [
       "[1] 0 1"
      ]
     },
     "metadata": {},
     "output_type": "display_data"
    }
   ],
   "source": [
    "unique(dados$Sexo)"
   ]
  },
  {
   "cell_type": "code",
   "execution_count": 5,
   "id": "a695d3c0",
   "metadata": {},
   "outputs": [
    {
     "data": {
      "text/html": [
       "<style>\n",
       ".list-inline {list-style: none; margin:0; padding: 0}\n",
       ".list-inline>li {display: inline-block}\n",
       ".list-inline>li:not(:last-child)::after {content: \"\\00b7\"; padding: 0 .5ex}\n",
       "</style>\n",
       "<ol class=list-inline><li>11</li><li>12</li><li>13</li><li>14</li><li>15</li><li>16</li><li>17</li><li>21</li><li>22</li><li>23</li><li>24</li><li>25</li><li>26</li><li>27</li><li>28</li><li>29</li><li>31</li><li>32</li><li>33</li><li>35</li><li>41</li><li>42</li><li>43</li><li>50</li><li>51</li><li>52</li><li>53</li></ol>\n"
      ],
      "text/latex": [
       "\\begin{enumerate*}\n",
       "\\item 11\n",
       "\\item 12\n",
       "\\item 13\n",
       "\\item 14\n",
       "\\item 15\n",
       "\\item 16\n",
       "\\item 17\n",
       "\\item 21\n",
       "\\item 22\n",
       "\\item 23\n",
       "\\item 24\n",
       "\\item 25\n",
       "\\item 26\n",
       "\\item 27\n",
       "\\item 28\n",
       "\\item 29\n",
       "\\item 31\n",
       "\\item 32\n",
       "\\item 33\n",
       "\\item 35\n",
       "\\item 41\n",
       "\\item 42\n",
       "\\item 43\n",
       "\\item 50\n",
       "\\item 51\n",
       "\\item 52\n",
       "\\item 53\n",
       "\\end{enumerate*}\n"
      ],
      "text/markdown": [
       "1. 11\n",
       "2. 12\n",
       "3. 13\n",
       "4. 14\n",
       "5. 15\n",
       "6. 16\n",
       "7. 17\n",
       "8. 21\n",
       "9. 22\n",
       "10. 23\n",
       "11. 24\n",
       "12. 25\n",
       "13. 26\n",
       "14. 27\n",
       "15. 28\n",
       "16. 29\n",
       "17. 31\n",
       "18. 32\n",
       "19. 33\n",
       "20. 35\n",
       "21. 41\n",
       "22. 42\n",
       "23. 43\n",
       "24. 50\n",
       "25. 51\n",
       "26. 52\n",
       "27. 53\n",
       "\n",
       "\n"
      ],
      "text/plain": [
       " [1] 11 12 13 14 15 16 17 21 22 23 24 25 26 27 28 29 31 32 33 35 41 42 43 50 51\n",
       "[26] 52 53"
      ]
     },
     "metadata": {},
     "output_type": "display_data"
    }
   ],
   "source": [
    "unique(dados$UF)"
   ]
  },
  {
   "cell_type": "code",
   "execution_count": 6,
   "id": "ecffc950",
   "metadata": {},
   "outputs": [
    {
     "data": {
      "text/html": [
       "<style>\n",
       ".list-inline {list-style: none; margin:0; padding: 0}\n",
       ".list-inline>li {display: inline-block}\n",
       ".list-inline>li:not(:last-child)::after {content: \"\\00b7\"; padding: 0 .5ex}\n",
       "</style>\n",
       "<ol class=list-inline><li>8</li><li>2</li><li>4</li><li>6</li><li>0</li></ol>\n"
      ],
      "text/latex": [
       "\\begin{enumerate*}\n",
       "\\item 8\n",
       "\\item 2\n",
       "\\item 4\n",
       "\\item 6\n",
       "\\item 0\n",
       "\\end{enumerate*}\n"
      ],
      "text/markdown": [
       "1. 8\n",
       "2. 2\n",
       "3. 4\n",
       "4. 6\n",
       "5. 0\n",
       "\n",
       "\n"
      ],
      "text/plain": [
       "[1] 8 2 4 6 0"
      ]
     },
     "metadata": {},
     "output_type": "display_data"
    }
   ],
   "source": [
    "unique(dados$Cor)"
   ]
  },
  {
   "cell_type": "markdown",
   "id": "5b123650",
   "metadata": {},
   "source": [
    "- **Variáveis Qualitativas Ordinais**"
   ]
  },
  {
   "cell_type": "code",
   "execution_count": 7,
   "id": "5c829860",
   "metadata": {
    "scrolled": true
   },
   "outputs": [
    {
     "data": {
      "text/html": [
       "<style>\n",
       ".list-inline {list-style: none; margin:0; padding: 0}\n",
       ".list-inline>li {display: inline-block}\n",
       ".list-inline>li:not(:last-child)::after {content: \"\\00b7\"; padding: 0 .5ex}\n",
       "</style>\n",
       "<ol class=list-inline><li>1</li><li>2</li><li>3</li><li>4</li><li>5</li><li>6</li><li>7</li><li>8</li><li>9</li><li>10</li><li>11</li><li>12</li><li>13</li><li>14</li><li>15</li><li>16</li><li>17</li></ol>\n"
      ],
      "text/latex": [
       "\\begin{enumerate*}\n",
       "\\item 1\n",
       "\\item 2\n",
       "\\item 3\n",
       "\\item 4\n",
       "\\item 5\n",
       "\\item 6\n",
       "\\item 7\n",
       "\\item 8\n",
       "\\item 9\n",
       "\\item 10\n",
       "\\item 11\n",
       "\\item 12\n",
       "\\item 13\n",
       "\\item 14\n",
       "\\item 15\n",
       "\\item 16\n",
       "\\item 17\n",
       "\\end{enumerate*}\n"
      ],
      "text/markdown": [
       "1. 1\n",
       "2. 2\n",
       "3. 3\n",
       "4. 4\n",
       "5. 5\n",
       "6. 6\n",
       "7. 7\n",
       "8. 8\n",
       "9. 9\n",
       "10. 10\n",
       "11. 11\n",
       "12. 12\n",
       "13. 13\n",
       "14. 14\n",
       "15. 15\n",
       "16. 16\n",
       "17. 17\n",
       "\n",
       "\n"
      ],
      "text/plain": [
       " [1]  1  2  3  4  5  6  7  8  9 10 11 12 13 14 15 16 17"
      ]
     },
     "metadata": {},
     "output_type": "display_data"
    }
   ],
   "source": [
    "sort(unique(dados$Anos.de.Estudo))"
   ]
  },
  {
   "cell_type": "markdown",
   "id": "ffb58860",
   "metadata": {},
   "source": [
    "- **Variáveis Quantitativas Discretas**"
   ]
  },
  {
   "cell_type": "code",
   "execution_count": 8,
   "id": "09546cd5",
   "metadata": {
    "scrolled": true
   },
   "outputs": [
    {
     "data": {
      "text/html": [
       "'Idade varia de 13 até 99'"
      ],
      "text/latex": [
       "'Idade varia de 13 até 99'"
      ],
      "text/markdown": [
       "'Idade varia de 13 até 99'"
      ],
      "text/plain": [
       "[1] \"Idade varia de 13 até 99\""
      ]
     },
     "metadata": {},
     "output_type": "display_data"
    }
   ],
   "source": [
    "sprintf('Idade varia de %d até %d', min(dados$Idade), max(dados$Idade))"
   ]
  },
  {
   "cell_type": "markdown",
   "id": "4e69e794",
   "metadata": {},
   "source": [
    "- **Variáveis Quantitativas Contínuas**"
   ]
  },
  {
   "cell_type": "code",
   "execution_count": 9,
   "id": "d69122f8",
   "metadata": {
    "scrolled": true
   },
   "outputs": [
    {
     "data": {
      "text/html": [
       "'Renda varia de 0.00 até 200000.00'"
      ],
      "text/latex": [
       "'Renda varia de 0.00 até 200000.00'"
      ],
      "text/markdown": [
       "'Renda varia de 0.00 até 200000.00'"
      ],
      "text/plain": [
       "[1] \"Renda varia de 0.00 até 200000.00\""
      ]
     },
     "metadata": {},
     "output_type": "display_data"
    }
   ],
   "source": [
    "sprintf('Renda varia de %.2f até %.2f', min(dados$Renda), max(dados$Renda))"
   ]
  },
  {
   "cell_type": "code",
   "execution_count": 10,
   "id": "c96adb44",
   "metadata": {},
   "outputs": [
    {
     "data": {
      "text/html": [
       "'Altura varia de 1.34 até 2.03'"
      ],
      "text/latex": [
       "'Altura varia de 1.34 até 2.03'"
      ],
      "text/markdown": [
       "'Altura varia de 1.34 até 2.03'"
      ],
      "text/plain": [
       "[1] \"Altura varia de 1.34 até 2.03\""
      ]
     },
     "metadata": {},
     "output_type": "display_data"
    }
   ],
   "source": [
    "sprintf('Altura varia de %.2f até %.2f', min(dados$Altura), max(dados$Altura))"
   ]
  },
  {
   "cell_type": "markdown",
   "id": "fc137b60",
   "metadata": {},
   "source": [
    "## 2 - Distribuições de Frequência\n",
    "\n",
    "Uma contagem de padrões em cada variável, tendo técnicas diferentes de contagem pra cada variável"
   ]
  },
  {
   "cell_type": "markdown",
   "id": "87d6e077",
   "metadata": {},
   "source": [
    "## 2.1 - Distribuição de Frequência para Variáveis Qualitativas"
   ]
  },
  {
   "cell_type": "code",
   "execution_count": 11,
   "id": "aefd73d9",
   "metadata": {},
   "outputs": [
    {
     "data": {
      "text/plain": [
       "\n",
       "    0     1 \n",
       "53250 23590 "
      ]
     },
     "metadata": {},
     "output_type": "display_data"
    }
   ],
   "source": [
    "tabela_de_frequencia <- table(dados$Sexo)\n",
    "\n",
    "tabela_de_frequencia"
   ]
  },
  {
   "cell_type": "code",
   "execution_count": 13,
   "id": "eef443e3",
   "metadata": {},
   "outputs": [
    {
     "data": {
      "text/plain": [
       "\n",
       "       0        1 \n",
       "69.29984 30.70016 "
      ]
     },
     "metadata": {},
     "output_type": "display_data"
    }
   ],
   "source": [
    "tabela_de_probabilidade <- prop.table(tabela_de_frequencia)\n",
    "\n",
    "tabela_de_probabilidade * 100"
   ]
  },
  {
   "cell_type": "code",
   "execution_count": 14,
   "id": "fae2675c",
   "metadata": {},
   "outputs": [
    {
     "data": {
      "text/html": [
       "<table class=\"dataframe\">\n",
       "<caption>A matrix: 2 × 2 of type dbl</caption>\n",
       "<thead>\n",
       "\t<tr><th></th><th scope=col>tabela_de_frequencia</th><th scope=col></th></tr>\n",
       "</thead>\n",
       "<tbody>\n",
       "\t<tr><th scope=row>0</th><td>53250</td><td>69.29984</td></tr>\n",
       "\t<tr><th scope=row>1</th><td>23590</td><td>30.70016</td></tr>\n",
       "</tbody>\n",
       "</table>\n"
      ],
      "text/latex": [
       "A matrix: 2 × 2 of type dbl\n",
       "\\begin{tabular}{r|ll}\n",
       "  & tabela\\_de\\_frequencia & \\\\\n",
       "\\hline\n",
       "\t0 & 53250 & 69.29984\\\\\n",
       "\t1 & 23590 & 30.70016\\\\\n",
       "\\end{tabular}\n"
      ],
      "text/markdown": [
       "\n",
       "A matrix: 2 × 2 of type dbl\n",
       "\n",
       "| <!--/--> | tabela_de_frequencia | <!----> |\n",
       "|---|---|---|\n",
       "| 0 | 53250 | 69.29984 |\n",
       "| 1 | 23590 | 30.70016 |\n",
       "\n"
      ],
      "text/plain": [
       "  tabela_de_frequencia         \n",
       "0 53250                69.29984\n",
       "1 23590                30.70016"
      ]
     },
     "metadata": {},
     "output_type": "display_data"
    }
   ],
   "source": [
    "tabela <- cbind(tabela_de_frequencia, tabela_de_probabilidade * 100)\n",
    "\n",
    "tabela"
   ]
  },
  {
   "cell_type": "code",
   "execution_count": 15,
   "id": "294f9b0c",
   "metadata": {},
   "outputs": [],
   "source": [
    "rownames(tabela) <- c('Masculino', 'Feminino')\n",
    "colnames(tabela) <- c('Frequência', 'Porcentagem')"
   ]
  },
  {
   "cell_type": "code",
   "execution_count": 16,
   "id": "95a65ac7",
   "metadata": {},
   "outputs": [
    {
     "data": {
      "text/html": [
       "<table class=\"dataframe\">\n",
       "<caption>A matrix: 2 × 2 of type dbl</caption>\n",
       "<thead>\n",
       "\t<tr><th></th><th scope=col>Frequência</th><th scope=col>Porcentagem</th></tr>\n",
       "</thead>\n",
       "<tbody>\n",
       "\t<tr><th scope=row>Masculino</th><td>53250</td><td>69.29984</td></tr>\n",
       "\t<tr><th scope=row>Feminino</th><td>23590</td><td>30.70016</td></tr>\n",
       "</tbody>\n",
       "</table>\n"
      ],
      "text/latex": [
       "A matrix: 2 × 2 of type dbl\n",
       "\\begin{tabular}{r|ll}\n",
       "  & Frequência & Porcentagem\\\\\n",
       "\\hline\n",
       "\tMasculino & 53250 & 69.29984\\\\\n",
       "\tFeminino & 23590 & 30.70016\\\\\n",
       "\\end{tabular}\n"
      ],
      "text/markdown": [
       "\n",
       "A matrix: 2 × 2 of type dbl\n",
       "\n",
       "| <!--/--> | Frequência | Porcentagem |\n",
       "|---|---|---|\n",
       "| Masculino | 53250 | 69.29984 |\n",
       "| Feminino | 23590 | 30.70016 |\n",
       "\n"
      ],
      "text/plain": [
       "          Frequência Porcentagem\n",
       "Masculino 53250      69.29984   \n",
       "Feminino  23590      30.70016   "
      ]
     },
     "metadata": {},
     "output_type": "display_data"
    }
   ],
   "source": [
    "tabela"
   ]
  },
  {
   "cell_type": "code",
   "execution_count": 17,
   "id": "7bcbcec7",
   "metadata": {},
   "outputs": [
    {
     "data": {
      "text/plain": [
       "   \n",
       "        0     2     4     6     8\n",
       "  0   256 22194  5502   235 25063\n",
       "  1   101  9621  2889   117 10862"
      ]
     },
     "metadata": {},
     "output_type": "display_data"
    }
   ],
   "source": [
    "dist_frequencia <- table(dados$Sexo, dados$Cor)\n",
    "dist_frequencia "
   ]
  },
  {
   "cell_type": "code",
   "execution_count": 18,
   "id": "ab23dbbd",
   "metadata": {},
   "outputs": [
    {
     "data": {
      "text/plain": [
       "   \n",
       "             0          2          4          6          8\n",
       "  0  0.3331598 28.8833941  7.1603332  0.3058303 32.6171265\n",
       "  1  0.1314420 12.5208225  3.7597605  0.1522644 14.1358667"
      ]
     },
     "metadata": {},
     "output_type": "display_data"
    }
   ],
   "source": [
    "prop.table(dist_frequencia) * 100"
   ]
  },
  {
   "cell_type": "code",
   "execution_count": 23,
   "id": "a9a686ef",
   "metadata": {},
   "outputs": [
    {
     "data": {
      "text/html": [
       "<table class=\"dataframe\">\n",
       "<caption>A matrix: 2 × 5 of type dbl</caption>\n",
       "<thead>\n",
       "\t<tr><th></th><th scope=col>Não-informado</th><th scope=col>Amarelo</th><th scope=col>Branco</th><th scope=col>Pardo</th><th scope=col>Negro</th></tr>\n",
       "</thead>\n",
       "<tbody>\n",
       "\t<tr><th scope=row>Masculino</th><td>1081.711</td><td>2925.744</td><td>1603.862</td><td>4758.251</td><td>1659.577</td></tr>\n",
       "\t<tr><th scope=row>Feminino</th><td>2464.386</td><td>2109.867</td><td>1134.596</td><td>3027.342</td><td>1176.759</td></tr>\n",
       "</tbody>\n",
       "</table>\n"
      ],
      "text/latex": [
       "A matrix: 2 × 5 of type dbl\n",
       "\\begin{tabular}{r|lllll}\n",
       "  & Não-informado & Amarelo & Branco & Pardo & Negro\\\\\n",
       "\\hline\n",
       "\tMasculino & 1081.711 & 2925.744 & 1603.862 & 4758.251 & 1659.577\\\\\n",
       "\tFeminino & 2464.386 & 2109.867 & 1134.596 & 3027.342 & 1176.759\\\\\n",
       "\\end{tabular}\n"
      ],
      "text/markdown": [
       "\n",
       "A matrix: 2 × 5 of type dbl\n",
       "\n",
       "| <!--/--> | Não-informado | Amarelo | Branco | Pardo | Negro |\n",
       "|---|---|---|---|---|---|\n",
       "| Masculino | 1081.711 | 2925.744 | 1603.862 | 4758.251 | 1659.577 |\n",
       "| Feminino | 2464.386 | 2109.867 | 1134.596 | 3027.342 | 1176.759 |\n",
       "\n"
      ],
      "text/plain": [
       "          Não-informado Amarelo  Branco   Pardo    Negro   \n",
       "Masculino 1081.711      2925.744 1603.862 4758.251 1659.577\n",
       "Feminino  2464.386      2109.867 1134.596 3027.342 1176.759"
      ]
     },
     "metadata": {},
     "output_type": "display_data"
    }
   ],
   "source": [
    "tabela <- tapply(dados$Renda, list(dados$Sexo, dados$Cor), mean)\n",
    "\n",
    "colnames(tabela) <- c('Não-informado', 'Amarelo', 'Branco', 'Pardo', 'Negro')\n",
    "rownames(tabela) <- c('Masculino', 'Feminino')\n",
    "\n",
    "tabela"
   ]
  },
  {
   "cell_type": "markdown",
   "id": "da310fcb",
   "metadata": {},
   "source": [
    "## 2.2 - Distribuição de Frequência para Variáveis Quantitativas"
   ]
  },
  {
   "cell_type": "code",
   "execution_count": 24,
   "id": "1a860b04",
   "metadata": {},
   "outputs": [
    {
     "data": {
      "text/html": [
       "0"
      ],
      "text/latex": [
       "0"
      ],
      "text/markdown": [
       "0"
      ],
      "text/plain": [
       "[1] 0"
      ]
     },
     "metadata": {},
     "output_type": "display_data"
    }
   ],
   "source": [
    "min(dados$Renda)"
   ]
  },
  {
   "cell_type": "code",
   "execution_count": 25,
   "id": "209e7821",
   "metadata": {},
   "outputs": [
    {
     "data": {
      "text/html": [
       "200000"
      ],
      "text/latex": [
       "200000"
      ],
      "text/markdown": [
       "200000"
      ],
      "text/plain": [
       "[1] 200000"
      ]
     },
     "metadata": {},
     "output_type": "display_data"
    }
   ],
   "source": [
    "max(dados$Renda)"
   ]
  },
  {
   "cell_type": "code",
   "execution_count": 26,
   "id": "3ed32767",
   "metadata": {},
   "outputs": [],
   "source": [
    "bins <- c(0, 1576, 3152, 7880, 15760, 200000)"
   ]
  },
  {
   "cell_type": "code",
   "execution_count": 27,
   "id": "2cb8916f",
   "metadata": {},
   "outputs": [],
   "source": [
    "labels <- c('E', 'D', 'C', 'B', 'A')"
   ]
  },
  {
   "cell_type": "code",
   "execution_count": 31,
   "id": "adb1b218",
   "metadata": {},
   "outputs": [
    {
     "data": {
      "text/html": [
       "<style>\n",
       ".list-inline {list-style: none; margin:0; padding: 0}\n",
       ".list-inline>li {display: inline-block}\n",
       ".list-inline>li:not(:last-child)::after {content: \"\\00b7\"; padding: 0 .5ex}\n",
       "</style>\n",
       "<ol class=list-inline><li>E</li><li>E</li><li>E</li><li>C</li><li>E</li><li>E</li><li>D</li><li>D</li><li>D</li><li>E</li><li>D</li><li>D</li><li>E</li><li>D</li><li>D</li><li>C</li><li>E</li><li>C</li><li>D</li><li>E</li><li>D</li><li>C</li><li>E</li><li>E</li><li>E</li></ol>\n",
       "\n",
       "<details>\n",
       "\t<summary style=display:list-item;cursor:pointer>\n",
       "\t\t<strong>Levels</strong>:\n",
       "\t</summary>\n",
       "\t<style>\n",
       "\t.list-inline {list-style: none; margin:0; padding: 0}\n",
       "\t.list-inline>li {display: inline-block}\n",
       "\t.list-inline>li:not(:last-child)::after {content: \"\\00b7\"; padding: 0 .5ex}\n",
       "\t</style>\n",
       "\t<ol class=list-inline><li>'E'</li><li>'D'</li><li>'C'</li><li>'B'</li><li>'A'</li></ol>\n",
       "</details>"
      ],
      "text/latex": [
       "\\begin{enumerate*}\n",
       "\\item E\n",
       "\\item E\n",
       "\\item E\n",
       "\\item C\n",
       "\\item E\n",
       "\\item E\n",
       "\\item D\n",
       "\\item D\n",
       "\\item D\n",
       "\\item E\n",
       "\\item D\n",
       "\\item D\n",
       "\\item E\n",
       "\\item D\n",
       "\\item D\n",
       "\\item C\n",
       "\\item E\n",
       "\\item C\n",
       "\\item D\n",
       "\\item E\n",
       "\\item D\n",
       "\\item C\n",
       "\\item E\n",
       "\\item E\n",
       "\\item E\n",
       "\\end{enumerate*}\n",
       "\n",
       "\\emph{Levels}: \\begin{enumerate*}\n",
       "\\item 'E'\n",
       "\\item 'D'\n",
       "\\item 'C'\n",
       "\\item 'B'\n",
       "\\item 'A'\n",
       "\\end{enumerate*}\n"
      ],
      "text/markdown": [
       "1. E\n",
       "2. E\n",
       "3. E\n",
       "4. C\n",
       "5. E\n",
       "6. E\n",
       "7. D\n",
       "8. D\n",
       "9. D\n",
       "10. E\n",
       "11. D\n",
       "12. D\n",
       "13. E\n",
       "14. D\n",
       "15. D\n",
       "16. C\n",
       "17. E\n",
       "18. C\n",
       "19. D\n",
       "20. E\n",
       "21. D\n",
       "22. C\n",
       "23. E\n",
       "24. E\n",
       "25. E\n",
       "\n",
       "\n",
       "\n",
       "**Levels**: 1. 'E'\n",
       "2. 'D'\n",
       "3. 'C'\n",
       "4. 'B'\n",
       "5. 'A'\n",
       "\n",
       "\n"
      ],
      "text/plain": [
       " [1] E E E C E E D D D E D D E D D C E C D E D C E E E\n",
       "Levels: E D C B A"
      ]
     },
     "metadata": {},
     "output_type": "display_data"
    }
   ],
   "source": [
    "renda_classificacoes <- cut(x = dados$Renda, breaks = bins, labels = labels, include.lowest = TRUE)\n",
    "\n",
    "renda_classificacoes[1:25]"
   ]
  },
  {
   "cell_type": "code",
   "execution_count": 32,
   "id": "69441306",
   "metadata": {},
   "outputs": [
    {
     "data": {
      "text/plain": [
       "renda_classificacoes\n",
       "    E     D     C     B     A \n",
       "49755 16700  7599  2178   608 "
      ]
     },
     "metadata": {},
     "output_type": "display_data"
    }
   ],
   "source": [
    "table(renda_classificacoes)"
   ]
  },
  {
   "cell_type": "code",
   "execution_count": 33,
   "id": "30b63de2",
   "metadata": {},
   "outputs": [
    {
     "data": {
      "text/plain": [
       "renda_classificacoes\n",
       "         E          D          C          B          A \n",
       "64.7514315 21.7334721  9.8893805  2.8344612  0.7912546 "
      ]
     },
     "metadata": {},
     "output_type": "display_data"
    }
   ],
   "source": [
    "prop.table(table(renda_classificacoes)) * 100"
   ]
  },
  {
   "cell_type": "markdown",
   "id": "31393078",
   "metadata": {},
   "source": [
    "# 3 - Análise Gráfica"
   ]
  },
  {
   "cell_type": "code",
   "execution_count": 34,
   "id": "a10e2e55",
   "metadata": {},
   "outputs": [],
   "source": [
    "options(repr.plot.width = 10, repr.plot.height = 8)"
   ]
  },
  {
   "cell_type": "code",
   "execution_count": 35,
   "id": "2eaecb6c",
   "metadata": {},
   "outputs": [
    {
     "data": {
      "image/png": "[encoded data removed]",
      "text/plain": [
       "Plot with title “Histogram of dados$Altura”"
      ]
     },
     "metadata": {
      "image/png": {
       "height": 480,
       "width": 600
      }
     },
     "output_type": "display_data"
    }
   ],
   "source": [
    "hist(dados$Altura, breaks=50)"
   ]
  },
  {
   "cell_type": "code",
   "execution_count": 36,
   "id": "68407264",
   "metadata": {},
   "outputs": [
    {
     "data": {
      "image/png": "[encoded data removed]",
      "text/plain": [
       "Plot with title “Histogram of dados$Renda”"
      ]
     },
     "metadata": {
      "image/png": {
       "height": 480,
       "width": 600
      }
     },
     "output_type": "display_data"
    }
   ],
   "source": [
    "hist(dados$Renda, breaks=50)"
   ]
  },
  {
   "cell_type": "code",
   "execution_count": 37,
   "id": "3f0dc14d",
   "metadata": {},
   "outputs": [
    {
     "data": {
      "image/png": "[encoded data removed]",
      "text/plain": [
       "Plot with title “Histogram of dados$Idade”"
      ]
     },
     "metadata": {
      "image/png": {
       "height": 480,
       "width": 600
      }
     },
     "output_type": "display_data"
    }
   ],
   "source": [
    "hist(dados$Idade, breaks=50)"
   ]
  },
  {
   "cell_type": "markdown",
   "id": "f43e268a",
   "metadata": {},
   "source": [
    "## 4 - Medidas Resumo"
   ]
  },
  {
   "cell_type": "code",
   "execution_count": 38,
   "id": "54a552f3",
   "metadata": {},
   "outputs": [],
   "source": [
    "notas_A <- c(5, 5, 5, 6, 5, 5, 5, 6, 5, 6)\n",
    "\n",
    "notas_B <- c(3, 3, 5, 2, 10, 7, 0, 10, 5, 9)"
   ]
  },
  {
   "cell_type": "code",
   "execution_count": 39,
   "id": "10534d61",
   "metadata": {},
   "outputs": [
    {
     "data": {
      "text/html": [
       "<style>\n",
       ".list-inline {list-style: none; margin:0; padding: 0}\n",
       ".list-inline>li {display: inline-block}\n",
       ".list-inline>li:not(:last-child)::after {content: \"\\00b7\"; padding: 0 .5ex}\n",
       "</style>\n",
       "<ol class=list-inline><li>5</li><li>5</li><li>5</li><li>6</li><li>5</li><li>5</li><li>5</li><li>6</li><li>5</li><li>6</li></ol>\n"
      ],
      "text/latex": [
       "\\begin{enumerate*}\n",
       "\\item 5\n",
       "\\item 5\n",
       "\\item 5\n",
       "\\item 6\n",
       "\\item 5\n",
       "\\item 5\n",
       "\\item 5\n",
       "\\item 6\n",
       "\\item 5\n",
       "\\item 6\n",
       "\\end{enumerate*}\n"
      ],
      "text/markdown": [
       "1. 5\n",
       "2. 5\n",
       "3. 5\n",
       "4. 6\n",
       "5. 5\n",
       "6. 5\n",
       "7. 5\n",
       "8. 6\n",
       "9. 5\n",
       "10. 6\n",
       "\n",
       "\n"
      ],
      "text/plain": [
       " [1] 5 5 5 6 5 5 5 6 5 6"
      ]
     },
     "metadata": {},
     "output_type": "display_data"
    },
    {
     "data": {
      "text/html": [
       "<style>\n",
       ".list-inline {list-style: none; margin:0; padding: 0}\n",
       ".list-inline>li {display: inline-block}\n",
       ".list-inline>li:not(:last-child)::after {content: \"\\00b7\"; padding: 0 .5ex}\n",
       "</style>\n",
       "<ol class=list-inline><li>3</li><li>3</li><li>5</li><li>2</li><li>10</li><li>7</li><li>0</li><li>10</li><li>5</li><li>9</li></ol>\n"
      ],
      "text/latex": [
       "\\begin{enumerate*}\n",
       "\\item 3\n",
       "\\item 3\n",
       "\\item 5\n",
       "\\item 2\n",
       "\\item 10\n",
       "\\item 7\n",
       "\\item 0\n",
       "\\item 10\n",
       "\\item 5\n",
       "\\item 9\n",
       "\\end{enumerate*}\n"
      ],
      "text/markdown": [
       "1. 3\n",
       "2. 3\n",
       "3. 5\n",
       "4. 2\n",
       "5. 10\n",
       "6. 7\n",
       "7. 0\n",
       "8. 10\n",
       "9. 5\n",
       "10. 9\n",
       "\n",
       "\n"
      ],
      "text/plain": [
       " [1]  3  3  5  2 10  7  0 10  5  9"
      ]
     },
     "metadata": {},
     "output_type": "display_data"
    }
   ],
   "source": [
    "notas_A\n",
    "\n",
    "notas_B"
   ]
  },
  {
   "cell_type": "code",
   "execution_count": 42,
   "id": "6969eea2",
   "metadata": {},
   "outputs": [
    {
     "data": {
      "text/html": [
       "5.3"
      ],
      "text/latex": [
       "5.3"
      ],
      "text/markdown": [
       "5.3"
      ],
      "text/plain": [
       "[1] 5.3"
      ]
     },
     "metadata": {},
     "output_type": "display_data"
    }
   ],
   "source": [
    "mean(notas_A)"
   ]
  },
  {
   "cell_type": "code",
   "execution_count": 43,
   "id": "98033653",
   "metadata": {},
   "outputs": [
    {
     "data": {
      "text/html": [
       "5.4"
      ],
      "text/latex": [
       "5.4"
      ],
      "text/markdown": [
       "5.4"
      ],
      "text/plain": [
       "[1] 5.4"
      ]
     },
     "metadata": {},
     "output_type": "display_data"
    }
   ],
   "source": [
    "mean(notas_B)"
   ]
  },
  {
   "cell_type": "code",
   "execution_count": 44,
   "id": "0b3b2358",
   "metadata": {
    "scrolled": true
   },
   "outputs": [
    {
     "data": {
      "text/html": [
       "0.483045891539648"
      ],
      "text/latex": [
       "0.483045891539648"
      ],
      "text/markdown": [
       "0.483045891539648"
      ],
      "text/plain": [
       "[1] 0.4830459"
      ]
     },
     "metadata": {},
     "output_type": "display_data"
    }
   ],
   "source": [
    "sd(notas_A)"
   ]
  },
  {
   "cell_type": "code",
   "execution_count": 46,
   "id": "6f83c288",
   "metadata": {
    "scrolled": true
   },
   "outputs": [
    {
     "data": {
      "text/html": [
       "7.25061573739973"
      ],
      "text/latex": [
       "7.25061573739973"
      ],
      "text/markdown": [
       "7.25061573739973"
      ],
      "text/plain": [
       "[1] 7.250616"
      ]
     },
     "metadata": {},
     "output_type": "display_data"
    }
   ],
   "source": [
    "sd(notas_B) / sd(notas_A)"
   ]
  },
  {
   "cell_type": "code",
   "execution_count": 48,
   "id": "fba6f1e3",
   "metadata": {},
   "outputs": [
    {
     "data": {
      "text/html": [
       "<style>\n",
       ".list-inline {list-style: none; margin:0; padding: 0}\n",
       ".list-inline>li {display: inline-block}\n",
       ".list-inline>li:not(:last-child)::after {content: \"\\00b7\"; padding: 0 .5ex}\n",
       "</style>\n",
       "<ol class=list-inline><li>5</li><li>5</li><li>5</li><li>6</li><li>5</li><li>5</li><li>5</li><li>6</li><li>5</li><li>6</li></ol>\n"
      ],
      "text/latex": [
       "\\begin{enumerate*}\n",
       "\\item 5\n",
       "\\item 5\n",
       "\\item 5\n",
       "\\item 6\n",
       "\\item 5\n",
       "\\item 5\n",
       "\\item 5\n",
       "\\item 6\n",
       "\\item 5\n",
       "\\item 6\n",
       "\\end{enumerate*}\n"
      ],
      "text/markdown": [
       "1. 5\n",
       "2. 5\n",
       "3. 5\n",
       "4. 6\n",
       "5. 5\n",
       "6. 5\n",
       "7. 5\n",
       "8. 6\n",
       "9. 5\n",
       "10. 6\n",
       "\n",
       "\n"
      ],
      "text/plain": [
       " [1] 5 5 5 6 5 5 5 6 5 6"
      ]
     },
     "metadata": {},
     "output_type": "display_data"
    },
    {
     "data": {
      "text/html": [
       "5.3"
      ],
      "text/latex": [
       "5.3"
      ],
      "text/markdown": [
       "5.3"
      ],
      "text/plain": [
       "[1] 5.3"
      ]
     },
     "metadata": {},
     "output_type": "display_data"
    }
   ],
   "source": [
    "notas_A\n",
    "\n",
    "mean(notas_A)"
   ]
  },
  {
   "cell_type": "code",
   "execution_count": 49,
   "id": "08c30083",
   "metadata": {},
   "outputs": [
    {
     "data": {
      "text/html": [
       "6197.6"
      ],
      "text/latex": [
       "6197.6"
      ],
      "text/markdown": [
       "6197.6"
      ],
      "text/plain": [
       "[1] 6197.6"
      ]
     },
     "metadata": {},
     "output_type": "display_data"
    }
   ],
   "source": [
    "salarios <- c(788, 1200, 600, 900, 27500)\n",
    "\n",
    "mean(salarios)"
   ]
  },
  {
   "cell_type": "code",
   "execution_count": 50,
   "id": "bddff9bf",
   "metadata": {
    "scrolled": true
   },
   "outputs": [
    {
     "data": {
      "text/html": [
       "900"
      ],
      "text/latex": [
       "900"
      ],
      "text/markdown": [
       "900"
      ],
      "text/plain": [
       "[1] 900"
      ]
     },
     "metadata": {},
     "output_type": "display_data"
    }
   ],
   "source": [
    "median(salarios)"
   ]
  },
  {
   "cell_type": "code",
   "execution_count": 54,
   "id": "81341fb3",
   "metadata": {
    "scrolled": true
   },
   "outputs": [
    {
     "data": {
      "text/html": [
       "23109.7777777778"
      ],
      "text/latex": [
       "23109.7777777778"
      ],
      "text/markdown": [
       "23109.7777777778"
      ],
      "text/plain": [
       "[1] 23109.78"
      ]
     },
     "metadata": {},
     "output_type": "display_data"
    }
   ],
   "source": [
    "salarios <- c(788, 1200, 600, 900, 1200, 1200, 900, 1200, 200000)\n",
    "\n",
    "mean(salarios)"
   ]
  },
  {
   "cell_type": "code",
   "execution_count": 55,
   "id": "a680b9e2",
   "metadata": {},
   "outputs": [
    {
     "data": {
      "text/html": [
       "1200"
      ],
      "text/latex": [
       "1200"
      ],
      "text/markdown": [
       "1200"
      ],
      "text/plain": [
       "[1] 1200"
      ]
     },
     "metadata": {},
     "output_type": "display_data"
    }
   ],
   "source": [
    "median(salarios)"
   ]
  },
  {
   "cell_type": "code",
   "execution_count": 56,
   "id": "321a51b3",
   "metadata": {},
   "outputs": [],
   "source": [
    "moda <- function (dist) {\n",
    "    return (table(dist))\n",
    "}"
   ]
  },
  {
   "cell_type": "code",
   "execution_count": 57,
   "id": "cf396d09",
   "metadata": {},
   "outputs": [
    {
     "data": {
      "text/plain": [
       "dist\n",
       "  600   788   900  1200 2e+05 \n",
       "    1     1     2     4     1 "
      ]
     },
     "metadata": {},
     "output_type": "display_data"
    }
   ],
   "source": [
    "moda(salarios)"
   ]
  }
 ],
 "metadata": {
  "kernelspec": {
   "display_name": "R",
   "language": "R",
   "name": "ir"
  },
  "language_info": {
   "codemirror_mode": "r",
   "file_extension": ".r",
   "mimetype": "text/x-r-source",
   "name": "R",
   "pygments_lexer": "r",
   "version": "4.1.2"
  }
 },
 "nbformat": 4,
 "nbformat_minor": 5
}
