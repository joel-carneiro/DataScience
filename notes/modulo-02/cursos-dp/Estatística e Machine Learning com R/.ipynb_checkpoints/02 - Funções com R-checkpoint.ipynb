{
 "cells": [
  {
   "cell_type": "markdown",
   "id": "c3bbcd76",
   "metadata": {},
   "source": [
    "# Funções com R\n",
    "\n",
    "Bem-vindo ao meu notebook de estudo sobre funções em linguagem R! Este é um espaço dedicado para aprender e praticar as habilidades necessárias para trabalhar com funções no R, uma das características mais poderosas e úteis desta linguagem de programação.\n",
    "\n",
    "As funções são blocos de código que podem ser usados repetidamente para executar tarefas específicas. Elas podem ser construídas pelo usuário ou utilizadas a partir de bibliotecas existentes e ajudam a simplificar e organizar o código, aumentando a eficiência e a capacidade de manutenção de programas.\n",
    "\n",
    "Neste notebook, vamos explorar os fundamentos das funções no R, incluindo como criar, chamar e passar argumentos para funções, além de como armazenar e gerenciar funções em objetos.\n",
    "\n",
    "Também vamos cobrir algumas funções úteis do R que já estão disponíveis em bibliotecas, como as funções apply, lapply, sapply e tapply, que podem ajudar a reduzir o tempo e o esforço necessários para realizar tarefas comuns de processamento de dados.\n",
    "\n",
    "Espero que este notebook seja útil e que você possa aprender muito sobre funções em linguagem R!"
   ]
  },
  {
   "cell_type": "markdown",
   "id": "d72a153d",
   "metadata": {},
   "source": [
    "## 1 - Funções Built-in\n",
    "\n",
    "Podemos sempre, consultar documentações de funções, isso claro, é sempre recomendável."
   ]
  },
  {
   "cell_type": "markdown",
   "id": "d2ff1737",
   "metadata": {},
   "source": [
    "## 1.1 - Utils"
   ]
  },
  {
   "cell_type": "markdown",
   "id": "3f16ecbb",
   "metadata": {},
   "source": [
    "Função em programação com R, nada mais é, que uma receita de bolo, um passo a passo, a se realizar, com parâmetros fornecidos"
   ]
  },
  {
   "cell_type": "code",
   "execution_count": 3,
   "id": "dbd1a228",
   "metadata": {},
   "outputs": [
    {
     "data": {
      "text/html": [
       "5"
      ],
      "text/latex": [
       "5"
      ],
      "text/markdown": [
       "5"
      ],
      "text/plain": [
       "[1] 5"
      ]
     },
     "metadata": {},
     "output_type": "display_data"
    }
   ],
   "source": [
    "abs(-5)"
   ]
  },
  {
   "cell_type": "markdown",
   "id": "1a35bd9a",
   "metadata": {},
   "source": [
    "A Função abs(), recebe um número com parâmetro e caso o número seja positivo, ela retorna o proprio número como resultado, caso seja negativo, ela retorna o número multiplicado por -1"
   ]
  },
  {
   "cell_type": "code",
   "execution_count": 4,
   "id": "4f97b6a9",
   "metadata": {},
   "outputs": [
    {
     "data": {
      "image/png": "[encoded data removed]",
      "text/plain": [
       "Plot with title “Histogram of rnorm(1e+05)”"
      ]
     },
     "metadata": {
      "image/png": {
       "height": 420,
       "width": 420
      }
     },
     "output_type": "display_data"
    }
   ],
   "source": [
    "hist(rnorm(100000))"
   ]
  },
  {
   "cell_type": "markdown",
   "id": "96f56711",
   "metadata": {},
   "source": [
    "Como funções retornam valores, podemos passar funções dentro de funções, a função mais interna ira retornar um valor que a função mais externa irá usar"
   ]
  },
  {
   "cell_type": "markdown",
   "id": "13cbc61b",
   "metadata": {},
   "source": [
    "# 2 - Criando nossas próprias funções"
   ]
  },
  {
   "cell_type": "markdown",
   "id": "cc104fb3",
   "metadata": {},
   "source": [
    "Caso você já tenha um algoritmo, você pode criar sua própria função, como por exemplo, algo para resolver a fórmula de bhaskara"
   ]
  },
  {
   "cell_type": "code",
   "execution_count": 5,
   "id": "bf308caf",
   "metadata": {},
   "outputs": [],
   "source": [
    "bhaskara <- function (a, b, c) {\n",
    "    delta <- b ^ 2 - 4 * a * c\n",
    "    \n",
    "    x1 <- (-b + sqrt(delta)) / (2 * a)\n",
    "    x2 <- (-b - sqrt(delta)) / (2 * a)\n",
    "    \n",
    "    return (c(x1, x2))\n",
    "}"
   ]
  },
  {
   "cell_type": "code",
   "execution_count": 7,
   "id": "982bb6ab",
   "metadata": {
    "scrolled": true
   },
   "outputs": [
    {
     "data": {
      "text/html": [
       "<style>\n",
       ".list-inline {list-style: none; margin:0; padding: 0}\n",
       ".list-inline>li {display: inline-block}\n",
       ".list-inline>li:not(:last-child)::after {content: \"\\00b7\"; padding: 0 .5ex}\n",
       "</style>\n",
       "<ol class=list-inline><li>0.833333333333333</li><li>0</li></ol>\n"
      ],
      "text/latex": [
       "\\begin{enumerate*}\n",
       "\\item 0.833333333333333\n",
       "\\item 0\n",
       "\\end{enumerate*}\n"
      ],
      "text/markdown": [
       "1. 0.833333333333333\n",
       "2. 0\n",
       "\n",
       "\n"
      ],
      "text/plain": [
       "[1] 0.8333333 0.0000000"
      ]
     },
     "metadata": {},
     "output_type": "display_data"
    }
   ],
   "source": [
    "bhaskara(6, -5, 0)"
   ]
  },
  {
   "cell_type": "markdown",
   "id": "84be1ff2",
   "metadata": {},
   "source": [
    "Funções Built-in, tendem a ter mais performace por inumeras razões, então, não tente reiventar a roda"
   ]
  },
  {
   "cell_type": "markdown",
   "id": "a097de83",
   "metadata": {},
   "source": [
    "# 3 - Funções Apply"
   ]
  },
  {
   "cell_type": "code",
   "execution_count": 10,
   "id": "797d00e4",
   "metadata": {},
   "outputs": [],
   "source": [
    "lista <- list(A=c(25:50), B=c(10:35))"
   ]
  },
  {
   "cell_type": "code",
   "execution_count": 11,
   "id": "0a4715ca",
   "metadata": {},
   "outputs": [
    {
     "data": {
      "text/html": [
       "<dl>\n",
       "\t<dt>$A</dt>\n",
       "\t\t<dd><style>\n",
       ".list-inline {list-style: none; margin:0; padding: 0}\n",
       ".list-inline>li {display: inline-block}\n",
       ".list-inline>li:not(:last-child)::after {content: \"\\00b7\"; padding: 0 .5ex}\n",
       "</style>\n",
       "<ol class=list-inline><li>25</li><li>26</li><li>27</li><li>28</li><li>29</li><li>30</li><li>31</li><li>32</li><li>33</li><li>34</li><li>35</li><li>36</li><li>37</li><li>38</li><li>39</li><li>40</li><li>41</li><li>42</li><li>43</li><li>44</li><li>45</li><li>46</li><li>47</li><li>48</li><li>49</li><li>50</li></ol>\n",
       "</dd>\n",
       "\t<dt>$B</dt>\n",
       "\t\t<dd><style>\n",
       ".list-inline {list-style: none; margin:0; padding: 0}\n",
       ".list-inline>li {display: inline-block}\n",
       ".list-inline>li:not(:last-child)::after {content: \"\\00b7\"; padding: 0 .5ex}\n",
       "</style>\n",
       "<ol class=list-inline><li>10</li><li>11</li><li>12</li><li>13</li><li>14</li><li>15</li><li>16</li><li>17</li><li>18</li><li>19</li><li>20</li><li>21</li><li>22</li><li>23</li><li>24</li><li>25</li><li>26</li><li>27</li><li>28</li><li>29</li><li>30</li><li>31</li><li>32</li><li>33</li><li>34</li><li>35</li></ol>\n",
       "</dd>\n",
       "</dl>\n"
      ],
      "text/latex": [
       "\\begin{description}\n",
       "\\item[\\$A] \\begin{enumerate*}\n",
       "\\item 25\n",
       "\\item 26\n",
       "\\item 27\n",
       "\\item 28\n",
       "\\item 29\n",
       "\\item 30\n",
       "\\item 31\n",
       "\\item 32\n",
       "\\item 33\n",
       "\\item 34\n",
       "\\item 35\n",
       "\\item 36\n",
       "\\item 37\n",
       "\\item 38\n",
       "\\item 39\n",
       "\\item 40\n",
       "\\item 41\n",
       "\\item 42\n",
       "\\item 43\n",
       "\\item 44\n",
       "\\item 45\n",
       "\\item 46\n",
       "\\item 47\n",
       "\\item 48\n",
       "\\item 49\n",
       "\\item 50\n",
       "\\end{enumerate*}\n",
       "\n",
       "\\item[\\$B] \\begin{enumerate*}\n",
       "\\item 10\n",
       "\\item 11\n",
       "\\item 12\n",
       "\\item 13\n",
       "\\item 14\n",
       "\\item 15\n",
       "\\item 16\n",
       "\\item 17\n",
       "\\item 18\n",
       "\\item 19\n",
       "\\item 20\n",
       "\\item 21\n",
       "\\item 22\n",
       "\\item 23\n",
       "\\item 24\n",
       "\\item 25\n",
       "\\item 26\n",
       "\\item 27\n",
       "\\item 28\n",
       "\\item 29\n",
       "\\item 30\n",
       "\\item 31\n",
       "\\item 32\n",
       "\\item 33\n",
       "\\item 34\n",
       "\\item 35\n",
       "\\end{enumerate*}\n",
       "\n",
       "\\end{description}\n"
      ],
      "text/markdown": [
       "$A\n",
       ":   1. 25\n",
       "2. 26\n",
       "3. 27\n",
       "4. 28\n",
       "5. 29\n",
       "6. 30\n",
       "7. 31\n",
       "8. 32\n",
       "9. 33\n",
       "10. 34\n",
       "11. 35\n",
       "12. 36\n",
       "13. 37\n",
       "14. 38\n",
       "15. 39\n",
       "16. 40\n",
       "17. 41\n",
       "18. 42\n",
       "19. 43\n",
       "20. 44\n",
       "21. 45\n",
       "22. 46\n",
       "23. 47\n",
       "24. 48\n",
       "25. 49\n",
       "26. 50\n",
       "\n",
       "\n",
       "\n",
       "$B\n",
       ":   1. 10\n",
       "2. 11\n",
       "3. 12\n",
       "4. 13\n",
       "5. 14\n",
       "6. 15\n",
       "7. 16\n",
       "8. 17\n",
       "9. 18\n",
       "10. 19\n",
       "11. 20\n",
       "12. 21\n",
       "13. 22\n",
       "14. 23\n",
       "15. 24\n",
       "16. 25\n",
       "17. 26\n",
       "18. 27\n",
       "19. 28\n",
       "20. 29\n",
       "21. 30\n",
       "22. 31\n",
       "23. 32\n",
       "24. 33\n",
       "25. 34\n",
       "26. 35\n",
       "\n",
       "\n",
       "\n",
       "\n",
       "\n"
      ],
      "text/plain": [
       "$A\n",
       " [1] 25 26 27 28 29 30 31 32 33 34 35 36 37 38 39 40 41 42 43 44 45 46 47 48 49\n",
       "[26] 50\n",
       "\n",
       "$B\n",
       " [1] 10 11 12 13 14 15 16 17 18 19 20 21 22 23 24 25 26 27 28 29 30 31 32 33 34\n",
       "[26] 35\n"
      ]
     },
     "metadata": {},
     "output_type": "display_data"
    }
   ],
   "source": [
    "lista"
   ]
  },
  {
   "cell_type": "code",
   "execution_count": 15,
   "id": "5b7000fc",
   "metadata": {},
   "outputs": [
    {
     "ename": "ERROR",
     "evalue": "Error in sum(lista): 'type' inválido (list) do argumento\n",
     "output_type": "error",
     "traceback": [
      "Error in sum(lista): 'type' inválido (list) do argumento\nTraceback:\n"
     ]
    }
   ],
   "source": [
    "sum(lista)"
   ]
  },
  {
   "cell_type": "code",
   "execution_count": 16,
   "id": "4fa001d9",
   "metadata": {},
   "outputs": [
    {
     "data": {
      "text/html": [
       "975"
      ],
      "text/latex": [
       "975"
      ],
      "text/markdown": [
       "975"
      ],
      "text/plain": [
       "[1] 975"
      ]
     },
     "metadata": {},
     "output_type": "display_data"
    }
   ],
   "source": [
    "sum(lista$A)"
   ]
  },
  {
   "cell_type": "code",
   "execution_count": 17,
   "id": "0fab7a44",
   "metadata": {},
   "outputs": [
    {
     "data": {
      "text/html": [
       "585"
      ],
      "text/latex": [
       "585"
      ],
      "text/markdown": [
       "585"
      ],
      "text/plain": [
       "[1] 585"
      ]
     },
     "metadata": {},
     "output_type": "display_data"
    }
   ],
   "source": [
    "sum(lista$B)"
   ]
  },
  {
   "cell_type": "code",
   "execution_count": 19,
   "id": "b43f562a",
   "metadata": {},
   "outputs": [
    {
     "data": {
      "text/html": [
       "<style>\n",
       ".dl-inline {width: auto; margin:0; padding: 0}\n",
       ".dl-inline>dt, .dl-inline>dd {float: none; width: auto; display: inline-block}\n",
       ".dl-inline>dt::after {content: \":\\0020\"; padding-right: .5ex}\n",
       ".dl-inline>dt:not(:first-of-type) {padding-left: .5ex}\n",
       "</style><dl class=dl-inline><dt>A</dt><dd>975</dd><dt>B</dt><dd>585</dd></dl>\n"
      ],
      "text/latex": [
       "\\begin{description*}\n",
       "\\item[A] 975\n",
       "\\item[B] 585\n",
       "\\end{description*}\n"
      ],
      "text/markdown": [
       "A\n",
       ":   975B\n",
       ":   585\n",
       "\n"
      ],
      "text/plain": [
       "  A   B \n",
       "975 585 "
      ]
     },
     "metadata": {},
     "output_type": "display_data"
    }
   ],
   "source": [
    "sapply(lista, sum)"
   ]
  },
  {
   "cell_type": "code",
   "execution_count": 24,
   "id": "7b51cd64",
   "metadata": {},
   "outputs": [
    {
     "data": {
      "text/html": [
       "<table class=\"dataframe\">\n",
       "<caption>A matrix: 5 × 5 of type int</caption>\n",
       "<tbody>\n",
       "\t<tr><td>25</td><td>30</td><td>35</td><td>40</td><td>45</td></tr>\n",
       "\t<tr><td>26</td><td>31</td><td>36</td><td>41</td><td>46</td></tr>\n",
       "\t<tr><td>27</td><td>32</td><td>37</td><td>42</td><td>47</td></tr>\n",
       "\t<tr><td>28</td><td>33</td><td>38</td><td>43</td><td>48</td></tr>\n",
       "\t<tr><td>29</td><td>34</td><td>39</td><td>44</td><td>49</td></tr>\n",
       "</tbody>\n",
       "</table>\n"
      ],
      "text/latex": [
       "A matrix: 5 × 5 of type int\n",
       "\\begin{tabular}{lllll}\n",
       "\t 25 & 30 & 35 & 40 & 45\\\\\n",
       "\t 26 & 31 & 36 & 41 & 46\\\\\n",
       "\t 27 & 32 & 37 & 42 & 47\\\\\n",
       "\t 28 & 33 & 38 & 43 & 48\\\\\n",
       "\t 29 & 34 & 39 & 44 & 49\\\\\n",
       "\\end{tabular}\n"
      ],
      "text/markdown": [
       "\n",
       "A matrix: 5 × 5 of type int\n",
       "\n",
       "| 25 | 30 | 35 | 40 | 45 |\n",
       "| 26 | 31 | 36 | 41 | 46 |\n",
       "| 27 | 32 | 37 | 42 | 47 |\n",
       "| 28 | 33 | 38 | 43 | 48 |\n",
       "| 29 | 34 | 39 | 44 | 49 |\n",
       "\n"
      ],
      "text/plain": [
       "     [,1] [,2] [,3] [,4] [,5]\n",
       "[1,] 25   30   35   40   45  \n",
       "[2,] 26   31   36   41   46  \n",
       "[3,] 27   32   37   42   47  \n",
       "[4,] 28   33   38   43   48  \n",
       "[5,] 29   34   39   44   49  "
      ]
     },
     "metadata": {},
     "output_type": "display_data"
    }
   ],
   "source": [
    "matriz <- matrix(c(25:49), nrow = 5)\n",
    "matriz"
   ]
  },
  {
   "cell_type": "code",
   "execution_count": 26,
   "id": "7d68a08a",
   "metadata": {},
   "outputs": [
    {
     "data": {
      "text/html": [
       "<style>\n",
       ".list-inline {list-style: none; margin:0; padding: 0}\n",
       ".list-inline>li {display: inline-block}\n",
       ".list-inline>li:not(:last-child)::after {content: \"\\00b7\"; padding: 0 .5ex}\n",
       "</style>\n",
       "<ol class=list-inline><li>35</li><li>36</li><li>37</li><li>38</li><li>39</li></ol>\n"
      ],
      "text/latex": [
       "\\begin{enumerate*}\n",
       "\\item 35\n",
       "\\item 36\n",
       "\\item 37\n",
       "\\item 38\n",
       "\\item 39\n",
       "\\end{enumerate*}\n"
      ],
      "text/markdown": [
       "1. 35\n",
       "2. 36\n",
       "3. 37\n",
       "4. 38\n",
       "5. 39\n",
       "\n",
       "\n"
      ],
      "text/plain": [
       "[1] 35 36 37 38 39"
      ]
     },
     "metadata": {},
     "output_type": "display_data"
    }
   ],
   "source": [
    "apply(matriz, 1, mean)"
   ]
  },
  {
   "cell_type": "code",
   "execution_count": 27,
   "id": "c8f8e763",
   "metadata": {
    "scrolled": false
   },
   "outputs": [
    {
     "data": {
      "text/html": [
       "<style>\n",
       ".list-inline {list-style: none; margin:0; padding: 0}\n",
       ".list-inline>li {display: inline-block}\n",
       ".list-inline>li:not(:last-child)::after {content: \"\\00b7\"; padding: 0 .5ex}\n",
       "</style>\n",
       "<ol class=list-inline><li>27</li><li>32</li><li>37</li><li>42</li><li>47</li></ol>\n"
      ],
      "text/latex": [
       "\\begin{enumerate*}\n",
       "\\item 27\n",
       "\\item 32\n",
       "\\item 37\n",
       "\\item 42\n",
       "\\item 47\n",
       "\\end{enumerate*}\n"
      ],
      "text/markdown": [
       "1. 27\n",
       "2. 32\n",
       "3. 37\n",
       "4. 42\n",
       "5. 47\n",
       "\n",
       "\n"
      ],
      "text/plain": [
       "[1] 27 32 37 42 47"
      ]
     },
     "metadata": {},
     "output_type": "display_data"
    }
   ],
   "source": [
    "apply(matriz, 2, mean)"
   ]
  },
  {
   "cell_type": "code",
   "execution_count": 31,
   "id": "9f058135",
   "metadata": {},
   "outputs": [],
   "source": [
    "randint <- function(min, max, size=1) {\n",
    "    return (sample(min:max, size, replace=TRUE))\n",
    "}"
   ]
  },
  {
   "cell_type": "code",
   "execution_count": 46,
   "id": "24710147",
   "metadata": {},
   "outputs": [
    {
     "data": {
      "text/html": [
       "<style>\n",
       ".list-inline {list-style: none; margin:0; padding: 0}\n",
       ".list-inline>li {display: inline-block}\n",
       ".list-inline>li:not(:last-child)::after {content: \"\\00b7\"; padding: 0 .5ex}\n",
       "</style>\n",
       "<ol class=list-inline><li>7</li><li>4</li><li>8</li><li>2</li><li>9</li><li>5</li><li>5</li><li>4</li><li>7</li><li>8</li></ol>\n"
      ],
      "text/latex": [
       "\\begin{enumerate*}\n",
       "\\item 7\n",
       "\\item 4\n",
       "\\item 8\n",
       "\\item 2\n",
       "\\item 9\n",
       "\\item 5\n",
       "\\item 5\n",
       "\\item 4\n",
       "\\item 7\n",
       "\\item 8\n",
       "\\end{enumerate*}\n"
      ],
      "text/markdown": [
       "1. 7\n",
       "2. 4\n",
       "3. 8\n",
       "4. 2\n",
       "5. 9\n",
       "6. 5\n",
       "7. 5\n",
       "8. 4\n",
       "9. 7\n",
       "10. 8\n",
       "\n",
       "\n"
      ],
      "text/plain": [
       " [1] 7 4 8 2 9 5 5 4 7 8"
      ]
     },
     "metadata": {},
     "output_type": "display_data"
    }
   ],
   "source": [
    "randint(1, 10, size=10)"
   ]
  },
  {
   "cell_type": "code",
   "execution_count": 47,
   "id": "c96abcc2",
   "metadata": {},
   "outputs": [
    {
     "data": {
      "text/html": [
       "<table class=\"dataframe\">\n",
       "<caption>A data.frame: 7 × 5</caption>\n",
       "<thead>\n",
       "\t<tr><th scope=col>alunos</th><th scope=col>matematica</th><th scope=col>geografia</th><th scope=col>quimica</th><th scope=col>historia</th></tr>\n",
       "\t<tr><th scope=col>&lt;chr&gt;</th><th scope=col>&lt;int&gt;</th><th scope=col>&lt;int&gt;</th><th scope=col>&lt;int&gt;</th><th scope=col>&lt;int&gt;</th></tr>\n",
       "</thead>\n",
       "<tbody>\n",
       "\t<tr><td>Gabriel</td><td>16</td><td>62</td><td>91</td><td>13</td></tr>\n",
       "\t<tr><td>Emanuel</td><td>92</td><td> 2</td><td>25</td><td>97</td></tr>\n",
       "\t<tr><td>Manu   </td><td>54</td><td>36</td><td>11</td><td>65</td></tr>\n",
       "\t<tr><td>Luiza  </td><td>97</td><td>93</td><td>11</td><td>63</td></tr>\n",
       "\t<tr><td>Yasmin </td><td>74</td><td>13</td><td>94</td><td>22</td></tr>\n",
       "\t<tr><td>Sarah  </td><td>92</td><td>72</td><td>41</td><td>21</td></tr>\n",
       "\t<tr><td>Antônio</td><td>34</td><td>72</td><td>98</td><td>99</td></tr>\n",
       "</tbody>\n",
       "</table>\n"
      ],
      "text/latex": [
       "A data.frame: 7 × 5\n",
       "\\begin{tabular}{lllll}\n",
       " alunos & matematica & geografia & quimica & historia\\\\\n",
       " <chr> & <int> & <int> & <int> & <int>\\\\\n",
       "\\hline\n",
       "\t Gabriel & 16 & 62 & 91 & 13\\\\\n",
       "\t Emanuel & 92 &  2 & 25 & 97\\\\\n",
       "\t Manu    & 54 & 36 & 11 & 65\\\\\n",
       "\t Luiza   & 97 & 93 & 11 & 63\\\\\n",
       "\t Yasmin  & 74 & 13 & 94 & 22\\\\\n",
       "\t Sarah   & 92 & 72 & 41 & 21\\\\\n",
       "\t Antônio & 34 & 72 & 98 & 99\\\\\n",
       "\\end{tabular}\n"
      ],
      "text/markdown": [
       "\n",
       "A data.frame: 7 × 5\n",
       "\n",
       "| alunos &lt;chr&gt; | matematica &lt;int&gt; | geografia &lt;int&gt; | quimica &lt;int&gt; | historia &lt;int&gt; |\n",
       "|---|---|---|---|---|\n",
       "| Gabriel | 16 | 62 | 91 | 13 |\n",
       "| Emanuel | 92 |  2 | 25 | 97 |\n",
       "| Manu    | 54 | 36 | 11 | 65 |\n",
       "| Luiza   | 97 | 93 | 11 | 63 |\n",
       "| Yasmin  | 74 | 13 | 94 | 22 |\n",
       "| Sarah   | 92 | 72 | 41 | 21 |\n",
       "| Antônio | 34 | 72 | 98 | 99 |\n",
       "\n"
      ],
      "text/plain": [
       "  alunos  matematica geografia quimica historia\n",
       "1 Gabriel 16         62        91      13      \n",
       "2 Emanuel 92          2        25      97      \n",
       "3 Manu    54         36        11      65      \n",
       "4 Luiza   97         93        11      63      \n",
       "5 Yasmin  74         13        94      22      \n",
       "6 Sarah   92         72        41      21      \n",
       "7 Antônio 34         72        98      99      "
      ]
     },
     "metadata": {},
     "output_type": "display_data"
    }
   ],
   "source": [
    "alunos <- c('Gabriel', 'Emanuel', 'Manu', 'Luiza', 'Yasmin', 'Sarah', 'Antônio')\n",
    "matematica <- randint(min=0, max=100, size=7)\n",
    "geografia <- randint(min=0, max=100, size=7)\n",
    "quimica <- randint(min=0, max=100, size=7)\n",
    "historia <- randint(min=0, max=100, size=7)\n",
    "\n",
    "notas <- data.frame(alunos, matematica, geografia, quimica, historia)\n",
    "\n",
    "notas"
   ]
  },
  {
   "cell_type": "code",
   "execution_count": 54,
   "id": "21093c3b",
   "metadata": {},
   "outputs": [],
   "source": [
    "notas$media <- apply(notas[, 2:5], 1, mean)"
   ]
  },
  {
   "cell_type": "code",
   "execution_count": 55,
   "id": "5b635165",
   "metadata": {},
   "outputs": [
    {
     "data": {
      "text/html": [
       "<table class=\"dataframe\">\n",
       "<caption>A data.frame: 7 × 6</caption>\n",
       "<thead>\n",
       "\t<tr><th scope=col>alunos</th><th scope=col>matematica</th><th scope=col>geografia</th><th scope=col>quimica</th><th scope=col>historia</th><th scope=col>media</th></tr>\n",
       "\t<tr><th scope=col>&lt;chr&gt;</th><th scope=col>&lt;int&gt;</th><th scope=col>&lt;int&gt;</th><th scope=col>&lt;int&gt;</th><th scope=col>&lt;int&gt;</th><th scope=col>&lt;dbl&gt;</th></tr>\n",
       "</thead>\n",
       "<tbody>\n",
       "\t<tr><td>Gabriel</td><td>16</td><td>62</td><td>91</td><td>13</td><td>45.50</td></tr>\n",
       "\t<tr><td>Emanuel</td><td>92</td><td> 2</td><td>25</td><td>97</td><td>54.00</td></tr>\n",
       "\t<tr><td>Manu   </td><td>54</td><td>36</td><td>11</td><td>65</td><td>41.50</td></tr>\n",
       "\t<tr><td>Luiza  </td><td>97</td><td>93</td><td>11</td><td>63</td><td>66.00</td></tr>\n",
       "\t<tr><td>Yasmin </td><td>74</td><td>13</td><td>94</td><td>22</td><td>50.75</td></tr>\n",
       "\t<tr><td>Sarah  </td><td>92</td><td>72</td><td>41</td><td>21</td><td>56.50</td></tr>\n",
       "\t<tr><td>Antônio</td><td>34</td><td>72</td><td>98</td><td>99</td><td>75.75</td></tr>\n",
       "</tbody>\n",
       "</table>\n"
      ],
      "text/latex": [
       "A data.frame: 7 × 6\n",
       "\\begin{tabular}{llllll}\n",
       " alunos & matematica & geografia & quimica & historia & media\\\\\n",
       " <chr> & <int> & <int> & <int> & <int> & <dbl>\\\\\n",
       "\\hline\n",
       "\t Gabriel & 16 & 62 & 91 & 13 & 45.50\\\\\n",
       "\t Emanuel & 92 &  2 & 25 & 97 & 54.00\\\\\n",
       "\t Manu    & 54 & 36 & 11 & 65 & 41.50\\\\\n",
       "\t Luiza   & 97 & 93 & 11 & 63 & 66.00\\\\\n",
       "\t Yasmin  & 74 & 13 & 94 & 22 & 50.75\\\\\n",
       "\t Sarah   & 92 & 72 & 41 & 21 & 56.50\\\\\n",
       "\t Antônio & 34 & 72 & 98 & 99 & 75.75\\\\\n",
       "\\end{tabular}\n"
      ],
      "text/markdown": [
       "\n",
       "A data.frame: 7 × 6\n",
       "\n",
       "| alunos &lt;chr&gt; | matematica &lt;int&gt; | geografia &lt;int&gt; | quimica &lt;int&gt; | historia &lt;int&gt; | media &lt;dbl&gt; |\n",
       "|---|---|---|---|---|---|\n",
       "| Gabriel | 16 | 62 | 91 | 13 | 45.50 |\n",
       "| Emanuel | 92 |  2 | 25 | 97 | 54.00 |\n",
       "| Manu    | 54 | 36 | 11 | 65 | 41.50 |\n",
       "| Luiza   | 97 | 93 | 11 | 63 | 66.00 |\n",
       "| Yasmin  | 74 | 13 | 94 | 22 | 50.75 |\n",
       "| Sarah   | 92 | 72 | 41 | 21 | 56.50 |\n",
       "| Antônio | 34 | 72 | 98 | 99 | 75.75 |\n",
       "\n"
      ],
      "text/plain": [
       "  alunos  matematica geografia quimica historia media\n",
       "1 Gabriel 16         62        91      13       45.50\n",
       "2 Emanuel 92          2        25      97       54.00\n",
       "3 Manu    54         36        11      65       41.50\n",
       "4 Luiza   97         93        11      63       66.00\n",
       "5 Yasmin  74         13        94      22       50.75\n",
       "6 Sarah   92         72        41      21       56.50\n",
       "7 Antônio 34         72        98      99       75.75"
      ]
     },
     "metadata": {},
     "output_type": "display_data"
    }
   ],
   "source": [
    "notas"
   ]
  },
  {
   "cell_type": "code",
   "execution_count": 56,
   "id": "6e8aa2b5",
   "metadata": {},
   "outputs": [],
   "source": [
    "notas$aprovado <- notas$media > 50"
   ]
  },
  {
   "cell_type": "code",
   "execution_count": 57,
   "id": "0a65d921",
   "metadata": {
    "scrolled": true
   },
   "outputs": [
    {
     "data": {
      "text/html": [
       "<table class=\"dataframe\">\n",
       "<caption>A data.frame: 7 × 7</caption>\n",
       "<thead>\n",
       "\t<tr><th scope=col>alunos</th><th scope=col>matematica</th><th scope=col>geografia</th><th scope=col>quimica</th><th scope=col>historia</th><th scope=col>media</th><th scope=col>aprovado</th></tr>\n",
       "\t<tr><th scope=col>&lt;chr&gt;</th><th scope=col>&lt;int&gt;</th><th scope=col>&lt;int&gt;</th><th scope=col>&lt;int&gt;</th><th scope=col>&lt;int&gt;</th><th scope=col>&lt;dbl&gt;</th><th scope=col>&lt;lgl&gt;</th></tr>\n",
       "</thead>\n",
       "<tbody>\n",
       "\t<tr><td>Gabriel</td><td>16</td><td>62</td><td>91</td><td>13</td><td>45.50</td><td>FALSE</td></tr>\n",
       "\t<tr><td>Emanuel</td><td>92</td><td> 2</td><td>25</td><td>97</td><td>54.00</td><td> TRUE</td></tr>\n",
       "\t<tr><td>Manu   </td><td>54</td><td>36</td><td>11</td><td>65</td><td>41.50</td><td>FALSE</td></tr>\n",
       "\t<tr><td>Luiza  </td><td>97</td><td>93</td><td>11</td><td>63</td><td>66.00</td><td> TRUE</td></tr>\n",
       "\t<tr><td>Yasmin </td><td>74</td><td>13</td><td>94</td><td>22</td><td>50.75</td><td> TRUE</td></tr>\n",
       "\t<tr><td>Sarah  </td><td>92</td><td>72</td><td>41</td><td>21</td><td>56.50</td><td> TRUE</td></tr>\n",
       "\t<tr><td>Antônio</td><td>34</td><td>72</td><td>98</td><td>99</td><td>75.75</td><td> TRUE</td></tr>\n",
       "</tbody>\n",
       "</table>\n"
      ],
      "text/latex": [
       "A data.frame: 7 × 7\n",
       "\\begin{tabular}{lllllll}\n",
       " alunos & matematica & geografia & quimica & historia & media & aprovado\\\\\n",
       " <chr> & <int> & <int> & <int> & <int> & <dbl> & <lgl>\\\\\n",
       "\\hline\n",
       "\t Gabriel & 16 & 62 & 91 & 13 & 45.50 & FALSE\\\\\n",
       "\t Emanuel & 92 &  2 & 25 & 97 & 54.00 &  TRUE\\\\\n",
       "\t Manu    & 54 & 36 & 11 & 65 & 41.50 & FALSE\\\\\n",
       "\t Luiza   & 97 & 93 & 11 & 63 & 66.00 &  TRUE\\\\\n",
       "\t Yasmin  & 74 & 13 & 94 & 22 & 50.75 &  TRUE\\\\\n",
       "\t Sarah   & 92 & 72 & 41 & 21 & 56.50 &  TRUE\\\\\n",
       "\t Antônio & 34 & 72 & 98 & 99 & 75.75 &  TRUE\\\\\n",
       "\\end{tabular}\n"
      ],
      "text/markdown": [
       "\n",
       "A data.frame: 7 × 7\n",
       "\n",
       "| alunos &lt;chr&gt; | matematica &lt;int&gt; | geografia &lt;int&gt; | quimica &lt;int&gt; | historia &lt;int&gt; | media &lt;dbl&gt; | aprovado &lt;lgl&gt; |\n",
       "|---|---|---|---|---|---|---|\n",
       "| Gabriel | 16 | 62 | 91 | 13 | 45.50 | FALSE |\n",
       "| Emanuel | 92 |  2 | 25 | 97 | 54.00 |  TRUE |\n",
       "| Manu    | 54 | 36 | 11 | 65 | 41.50 | FALSE |\n",
       "| Luiza   | 97 | 93 | 11 | 63 | 66.00 |  TRUE |\n",
       "| Yasmin  | 74 | 13 | 94 | 22 | 50.75 |  TRUE |\n",
       "| Sarah   | 92 | 72 | 41 | 21 | 56.50 |  TRUE |\n",
       "| Antônio | 34 | 72 | 98 | 99 | 75.75 |  TRUE |\n",
       "\n"
      ],
      "text/plain": [
       "  alunos  matematica geografia quimica historia media aprovado\n",
       "1 Gabriel 16         62        91      13       45.50 FALSE   \n",
       "2 Emanuel 92          2        25      97       54.00  TRUE   \n",
       "3 Manu    54         36        11      65       41.50 FALSE   \n",
       "4 Luiza   97         93        11      63       66.00  TRUE   \n",
       "5 Yasmin  74         13        94      22       50.75  TRUE   \n",
       "6 Sarah   92         72        41      21       56.50  TRUE   \n",
       "7 Antônio 34         72        98      99       75.75  TRUE   "
      ]
     },
     "metadata": {},
     "output_type": "display_data"
    }
   ],
   "source": [
    "notas"
   ]
  },
  {
   "cell_type": "code",
   "execution_count": null,
   "id": "b037c669",
   "metadata": {},
   "outputs": [],
   "source": []
  }
 ],
 "metadata": {
  "kernelspec": {
   "display_name": "R",
   "language": "R",
   "name": "ir"
  },
  "language_info": {
   "codemirror_mode": "r",
   "file_extension": ".r",
   "mimetype": "text/x-r-source",
   "name": "R",
   "pygments_lexer": "r",
   "version": "4.1.2"
  }
 },
 "nbformat": 4,
 "nbformat_minor": 5
}
