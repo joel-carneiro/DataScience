{
 "cells": [
  {
   "cell_type": "markdown",
   "id": "b341a32e",
   "metadata": {},
   "source": [
    "# Programação Básica com a Linguagem R\n",
    "\n",
    "R é uma linguagem de programação multi-paradigma orientada a objetos, programação funcional, dinâmica, fracamente tipada, voltada à manipulação, análise e visualização de dados. Foi criado originalmente por Ross Ihaka e por Robert Gentleman no departamento de Estatística da Universidade de Auckland, Nova Zelândia."
   ]
  },
  {
   "cell_type": "markdown",
   "id": "67f4d00f",
   "metadata": {},
   "source": [
    "# 1 - Introdução a Linguagem R"
   ]
  },
  {
   "cell_type": "markdown",
   "id": "dff22701",
   "metadata": {},
   "source": [
    "## 1.1 - Variáveis\n",
    "\n",
    "Em R, podemos atribuir valores inteiros, double, lógicas etc... a uma variável, através do operador \"<-\" ou \"=\""
   ]
  },
  {
   "cell_type": "code",
   "execution_count": 1,
   "id": "8958b080",
   "metadata": {},
   "outputs": [],
   "source": [
    "# Variáveis são espaços em memória que armazenam um tipo de valor ou dado\n",
    "X <- 11\n",
    "Y <- 25"
   ]
  },
  {
   "cell_type": "code",
   "execution_count": 2,
   "id": "f5898611",
   "metadata": {},
   "outputs": [
    {
     "data": {
      "text/html": [
       "36"
      ],
      "text/latex": [
       "36"
      ],
      "text/markdown": [
       "36"
      ],
      "text/plain": [
       "[1] 36"
      ]
     },
     "metadata": {},
     "output_type": "display_data"
    },
    {
     "data": {
      "text/html": [
       "-14"
      ],
      "text/latex": [
       "-14"
      ],
      "text/markdown": [
       "-14"
      ],
      "text/plain": [
       "[1] -14"
      ]
     },
     "metadata": {},
     "output_type": "display_data"
    },
    {
     "data": {
      "text/html": [
       "275"
      ],
      "text/latex": [
       "275"
      ],
      "text/markdown": [
       "275"
      ],
      "text/plain": [
       "[1] 275"
      ]
     },
     "metadata": {},
     "output_type": "display_data"
    },
    {
     "data": {
      "text/html": [
       "0.44"
      ],
      "text/latex": [
       "0.44"
      ],
      "text/markdown": [
       "0.44"
      ],
      "text/plain": [
       "[1] 0.44"
      ]
     },
     "metadata": {},
     "output_type": "display_data"
    }
   ],
   "source": [
    "# Podemos acessar os valores das variáveis para concluir operações aritméticas ou lógicas\n",
    "X + Y\n",
    "X - Y\n",
    "X * Y\n",
    "X / Y"
   ]
  },
  {
   "cell_type": "code",
   "execution_count": 3,
   "id": "4b17f4dd",
   "metadata": {},
   "outputs": [
    {
     "data": {
      "text/html": [
       "FALSE"
      ],
      "text/latex": [
       "FALSE"
      ],
      "text/markdown": [
       "FALSE"
      ],
      "text/plain": [
       "[1] FALSE"
      ]
     },
     "metadata": {},
     "output_type": "display_data"
    },
    {
     "data": {
      "text/html": [
       "TRUE"
      ],
      "text/latex": [
       "TRUE"
      ],
      "text/markdown": [
       "TRUE"
      ],
      "text/plain": [
       "[1] TRUE"
      ]
     },
     "metadata": {},
     "output_type": "display_data"
    },
    {
     "data": {
      "text/html": [
       "FALSE"
      ],
      "text/latex": [
       "FALSE"
      ],
      "text/markdown": [
       "FALSE"
      ],
      "text/plain": [
       "[1] FALSE"
      ]
     },
     "metadata": {},
     "output_type": "display_data"
    },
    {
     "data": {
      "text/html": [
       "TRUE"
      ],
      "text/latex": [
       "TRUE"
      ],
      "text/markdown": [
       "TRUE"
      ],
      "text/plain": [
       "[1] TRUE"
      ]
     },
     "metadata": {},
     "output_type": "display_data"
    }
   ],
   "source": [
    "# Podemos fazer proposições com valores\n",
    "X > Y\n",
    "X < Y\n",
    "X == Y\n",
    "X != Y"
   ]
  },
  {
   "cell_type": "code",
   "execution_count": 4,
   "id": "89a7e001",
   "metadata": {},
   "outputs": [
    {
     "data": {
      "text/html": [
       "<style>\n",
       ".list-inline {list-style: none; margin:0; padding: 0}\n",
       ".list-inline>li {display: inline-block}\n",
       ".list-inline>li:not(:last-child)::after {content: \"\\00b7\"; padding: 0 .5ex}\n",
       "</style>\n",
       "<ol class=list-inline><li>'X'</li><li>'Y'</li></ol>\n"
      ],
      "text/latex": [
       "\\begin{enumerate*}\n",
       "\\item 'X'\n",
       "\\item 'Y'\n",
       "\\end{enumerate*}\n"
      ],
      "text/markdown": [
       "1. 'X'\n",
       "2. 'Y'\n",
       "\n",
       "\n"
      ],
      "text/plain": [
       "[1] \"X\" \"Y\""
      ]
     },
     "metadata": {},
     "output_type": "display_data"
    },
    {
     "data": {
      "text/html": [
       "'Y'"
      ],
      "text/latex": [
       "'Y'"
      ],
      "text/markdown": [
       "'Y'"
      ],
      "text/plain": [
       "[1] \"Y\""
      ]
     },
     "metadata": {},
     "output_type": "display_data"
    }
   ],
   "source": [
    "# Podemos listar, e também, remover as variáveis em memória\n",
    "ls()\n",
    "\n",
    "rm(X)\n",
    "\n",
    "ls()"
   ]
  },
  {
   "cell_type": "code",
   "execution_count": 5,
   "id": "e51ff42f",
   "metadata": {},
   "outputs": [
    {
     "data": {
      "text/html": [
       "<style>\n",
       ".list-inline {list-style: none; margin:0; padding: 0}\n",
       ".list-inline>li {display: inline-block}\n",
       ".list-inline>li:not(:last-child)::after {content: \"\\00b7\"; padding: 0 .5ex}\n",
       "</style>\n",
       "<ol class=list-inline><li>10</li><li>5</li><li>8</li><li>7</li><li>5</li></ol>\n"
      ],
      "text/latex": [
       "\\begin{enumerate*}\n",
       "\\item 10\n",
       "\\item 5\n",
       "\\item 8\n",
       "\\item 7\n",
       "\\item 5\n",
       "\\end{enumerate*}\n"
      ],
      "text/markdown": [
       "1. 10\n",
       "2. 5\n",
       "3. 8\n",
       "4. 7\n",
       "5. 5\n",
       "\n",
       "\n"
      ],
      "text/plain": [
       "[1] 10  5  8  7  5"
      ]
     },
     "metadata": {},
     "output_type": "display_data"
    }
   ],
   "source": [
    "# Podemos atribuir variáveis com mais de 1 valor, e indexados\n",
    "notas <- c(10, 5, 8, 7, 5)\n",
    "notas"
   ]
  },
  {
   "cell_type": "markdown",
   "id": "293a804e",
   "metadata": {},
   "source": [
    "## 1.2 - Funções Built-in\n",
    "\n",
    "O R é focado principalmente no paradigma funcional, e também, vem com varias funções matemáticas e estatísticas por padrão"
   ]
  },
  {
   "cell_type": "code",
   "execution_count": 6,
   "id": "d8628f28",
   "metadata": {},
   "outputs": [],
   "source": [
    "# Atribuindo um valor para aplicarmos funções\n",
    "number <- 5"
   ]
  },
  {
   "cell_type": "code",
   "execution_count": 8,
   "id": "61bab3bd",
   "metadata": {},
   "outputs": [
    {
     "data": {
      "text/html": [
       "2.23606797749979"
      ],
      "text/latex": [
       "2.23606797749979"
      ],
      "text/markdown": [
       "2.23606797749979"
      ],
      "text/plain": [
       "[1] 2.236068"
      ]
     },
     "metadata": {},
     "output_type": "display_data"
    }
   ],
   "source": [
    "# Raiz quadrada\n",
    "sqrt(number)"
   ]
  },
  {
   "cell_type": "code",
   "execution_count": 9,
   "id": "f0ad98dc",
   "metadata": {},
   "outputs": [
    {
     "data": {
      "text/html": [
       "120"
      ],
      "text/latex": [
       "120"
      ],
      "text/markdown": [
       "120"
      ],
      "text/plain": [
       "[1] 120"
      ]
     },
     "metadata": {},
     "output_type": "display_data"
    }
   ],
   "source": [
    "# Fatorial\n",
    "factorial(number)"
   ]
  },
  {
   "cell_type": "code",
   "execution_count": 10,
   "id": "681f5353",
   "metadata": {},
   "outputs": [
    {
     "data": {
      "text/html": [
       "5"
      ],
      "text/latex": [
       "5"
      ],
      "text/markdown": [
       "5"
      ],
      "text/plain": [
       "[1] 5"
      ]
     },
     "metadata": {},
     "output_type": "display_data"
    }
   ],
   "source": [
    "# Valor absoluto\n",
    "abs(number)"
   ]
  },
  {
   "cell_type": "code",
   "execution_count": 15,
   "id": "7c26f741",
   "metadata": {},
   "outputs": [
    {
     "data": {
      "text/html": [
       "0.698970004336019"
      ],
      "text/latex": [
       "0.698970004336019"
      ],
      "text/markdown": [
       "0.698970004336019"
      ],
      "text/plain": [
       "[1] 0.69897"
      ]
     },
     "metadata": {},
     "output_type": "display_data"
    }
   ],
   "source": [
    "# Logaritmo\n",
    "log(5, base=10)"
   ]
  },
  {
   "cell_type": "code",
   "execution_count": 19,
   "id": "3afe94fe",
   "metadata": {},
   "outputs": [
    {
     "data": {
      "text/html": [
       "0.714"
      ],
      "text/latex": [
       "0.714"
      ],
      "text/markdown": [
       "0.714"
      ],
      "text/plain": [
       "[1] 0.714"
      ]
     },
     "metadata": {},
     "output_type": "display_data"
    }
   ],
   "source": [
    "# Arredondar um número\n",
    "round(number / 7, 3)"
   ]
  },
  {
   "cell_type": "code",
   "execution_count": 23,
   "id": "ab2024c0",
   "metadata": {},
   "outputs": [
    {
     "data": {
      "text/html": [
       "1"
      ],
      "text/latex": [
       "1"
      ],
      "text/markdown": [
       "1"
      ],
      "text/plain": [
       "[1] 1"
      ]
     },
     "metadata": {},
     "output_type": "display_data"
    }
   ],
   "source": [
    "# Arredondar um número para baixo\n",
    "floor(number / 3)"
   ]
  },
  {
   "cell_type": "code",
   "execution_count": 24,
   "id": "4a7f2a13",
   "metadata": {
    "scrolled": true
   },
   "outputs": [
    {
     "data": {
      "text/html": [
       "2"
      ],
      "text/latex": [
       "2"
      ],
      "text/markdown": [
       "2"
      ],
      "text/plain": [
       "[1] 2"
      ]
     },
     "metadata": {},
     "output_type": "display_data"
    }
   ],
   "source": [
    "# Arredondar um número para cima\n",
    "ceiling(number / 3)"
   ]
  },
  {
   "cell_type": "code",
   "execution_count": 25,
   "id": "37011572",
   "metadata": {},
   "outputs": [
    {
     "data": {
      "text/html": [
       "1.66666666666667"
      ],
      "text/latex": [
       "1.66666666666667"
      ],
      "text/markdown": [
       "1.66666666666667"
      ],
      "text/plain": [
       "[1] 1.666667"
      ]
     },
     "metadata": {},
     "output_type": "display_data"
    }
   ],
   "source": [
    "number/3"
   ]
  },
  {
   "cell_type": "markdown",
   "id": "2cac6d44",
   "metadata": {},
   "source": [
    "## 1.3 - Tipos de Dados"
   ]
  },
  {
   "cell_type": "code",
   "execution_count": 26,
   "id": "18b2d825",
   "metadata": {},
   "outputs": [
    {
     "data": {
      "text/html": [
       "'double'"
      ],
      "text/latex": [
       "'double'"
      ],
      "text/markdown": [
       "'double'"
      ],
      "text/plain": [
       "[1] \"double\""
      ]
     },
     "metadata": {},
     "output_type": "display_data"
    }
   ],
   "source": [
    "x <- 10\n",
    "\n",
    "typeof(x)"
   ]
  },
  {
   "cell_type": "code",
   "execution_count": 27,
   "id": "5d3658e9",
   "metadata": {},
   "outputs": [
    {
     "data": {
      "text/html": [
       "'integer'"
      ],
      "text/latex": [
       "'integer'"
      ],
      "text/markdown": [
       "'integer'"
      ],
      "text/plain": [
       "[1] \"integer\""
      ]
     },
     "metadata": {},
     "output_type": "display_data"
    }
   ],
   "source": [
    "x <- 10L\n",
    "\n",
    "typeof(x)"
   ]
  },
  {
   "cell_type": "code",
   "execution_count": 28,
   "id": "e0eae86f",
   "metadata": {},
   "outputs": [
    {
     "data": {
      "text/html": [
       "'complex'"
      ],
      "text/latex": [
       "'complex'"
      ],
      "text/markdown": [
       "'complex'"
      ],
      "text/plain": [
       "[1] \"complex\""
      ]
     },
     "metadata": {},
     "output_type": "display_data"
    }
   ],
   "source": [
    "c1 <- 3 + 3i\n",
    "\n",
    "typeof(c1)"
   ]
  },
  {
   "cell_type": "code",
   "execution_count": 29,
   "id": "457b4299",
   "metadata": {},
   "outputs": [
    {
     "data": {
      "text/html": [
       "'character'"
      ],
      "text/latex": [
       "'character'"
      ],
      "text/markdown": [
       "'character'"
      ],
      "text/plain": [
       "[1] \"character\""
      ]
     },
     "metadata": {},
     "output_type": "display_data"
    }
   ],
   "source": [
    "f <- \"Fermat\"\n",
    "\n",
    "typeof(f)"
   ]
  },
  {
   "cell_type": "code",
   "execution_count": 30,
   "id": "fcb9ded6",
   "metadata": {},
   "outputs": [
    {
     "data": {
      "text/html": [
       "'logical'"
      ],
      "text/latex": [
       "'logical'"
      ],
      "text/markdown": [
       "'logical'"
      ],
      "text/plain": [
       "[1] \"logical\""
      ]
     },
     "metadata": {},
     "output_type": "display_data"
    }
   ],
   "source": [
    "b <- TRUE\n",
    "\n",
    "typeof(b)"
   ]
  },
  {
   "cell_type": "markdown",
   "id": "1c1cfe1e",
   "metadata": {},
   "source": [
    "## 1.4 - Strings"
   ]
  },
  {
   "cell_type": "code",
   "execution_count": 32,
   "id": "62d068d2",
   "metadata": {},
   "outputs": [
    {
     "data": {
      "text/html": [
       "'Pierre de Fermat'"
      ],
      "text/latex": [
       "'Pierre de Fermat'"
      ],
      "text/markdown": [
       "'Pierre de Fermat'"
      ],
      "text/plain": [
       "[1] \"Pierre de Fermat\""
      ]
     },
     "metadata": {},
     "output_type": "display_data"
    }
   ],
   "source": [
    "# Concatenação de strings\n",
    "name <- \"Pierre\"\n",
    "last_name <- \"de Fermat\"\n",
    "\n",
    "paste(name, last_name)"
   ]
  },
  {
   "cell_type": "code",
   "execution_count": 37,
   "id": "89229330",
   "metadata": {},
   "outputs": [
    {
     "data": {
      "text/html": [
       "8"
      ],
      "text/latex": [
       "8"
      ],
      "text/markdown": [
       "8"
      ],
      "text/plain": [
       "[1] 8"
      ]
     },
     "metadata": {},
     "output_type": "display_data"
    }
   ],
   "source": [
    "# Declaração de tipos\n",
    "number <- \"5\"\n",
    "\n",
    "# number + 3\n",
    "\n",
    "number <- as.integer(number)\n",
    "\n",
    "number + 3"
   ]
  },
  {
   "cell_type": "markdown",
   "id": "643538aa",
   "metadata": {},
   "source": [
    "## 1.5 - Estruturas de Desvio"
   ]
  },
  {
   "cell_type": "code",
   "execution_count": 39,
   "id": "08886a37",
   "metadata": {},
   "outputs": [
    {
     "name": "stdout",
     "output_type": "stream",
     "text": [
      "Qual sua idade? 19\n",
      "Maior de Idade"
     ]
    }
   ],
   "source": [
    "age <- readline('Qual sua idade? ')\n",
    "\n",
    "age <- as.integer(age)\n",
    "\n",
    "if (age >= 18) {\n",
    "    cat('Maior de Idade')\n",
    "} else {\n",
    "    cat('Menor de Idade')\n",
    "}"
   ]
  },
  {
   "cell_type": "code",
   "execution_count": 56,
   "id": "48b63f49",
   "metadata": {},
   "outputs": [
    {
     "name": "stdout",
     "output_type": "stream",
     "text": [
      "Qual seu salário? 12321\n",
      "A"
     ]
    }
   ],
   "source": [
    "salary <- readline('Qual seu salário? ')\n",
    "\n",
    "salary <- as.integer(salary)\n",
    "\n",
    "minimal <- 1200\n",
    "\n",
    "if (salary <= 2 * minimal) {\n",
    "    cat('E')\n",
    "} else if (salary <= 3 * minimal) {\n",
    "    cat('D')\n",
    "} else if (salary <= 4 * minimal) {\n",
    "    cat('C')\n",
    "} else if (salary <= 5 * minimal){\n",
    "    cat('B')\n",
    "} else {\n",
    "    cat('A')\n",
    "}"
   ]
  },
  {
   "cell_type": "markdown",
   "id": "c644632d",
   "metadata": {},
   "source": [
    "## 1.6 - Estruturas de Repetição"
   ]
  },
  {
   "cell_type": "code",
   "execution_count": 60,
   "id": "c968dd83",
   "metadata": {},
   "outputs": [
    {
     "name": "stdout",
     "output_type": "stream",
     "text": [
      "[1] 1\n",
      "[1] 2\n",
      "[1] 3\n",
      "[1] 4\n",
      "[1] 5\n",
      "[1] 6\n",
      "[1] 7\n",
      "[1] 8\n",
      "[1] 9\n",
      "[1] 10\n"
     ]
    }
   ],
   "source": [
    "i <- 1\n",
    "\n",
    "while (i <= 10) {\n",
    "    print(i)\n",
    "    i <- i + 1\n",
    "}"
   ]
  },
  {
   "cell_type": "code",
   "execution_count": 61,
   "id": "b55106aa",
   "metadata": {},
   "outputs": [
    {
     "name": "stdout",
     "output_type": "stream",
     "text": [
      "[1] 1\n",
      "[1] 2\n",
      "[1] 3\n",
      "[1] 4\n",
      "[1] 5\n",
      "[1] 6\n",
      "[1] 7\n",
      "[1] 8\n",
      "[1] 9\n",
      "[1] 10\n"
     ]
    }
   ],
   "source": [
    "for (i in 1:10) {\n",
    "    print(i)\n",
    "}"
   ]
  },
  {
   "cell_type": "markdown",
   "id": "023153a8",
   "metadata": {},
   "source": [
    "## 2 - Avançando em Estruturas Compostas"
   ]
  },
  {
   "cell_type": "markdown",
   "id": "a1c51087",
   "metadata": {},
   "source": [
    "Estruturas compostas, serão tipos de variáveis, que podem guardar mais de 1 valor, em diferentes dimensões"
   ]
  },
  {
   "cell_type": "markdown",
   "id": "8bafbcd8",
   "metadata": {},
   "source": [
    "## 2.1 - Vetores"
   ]
  },
  {
   "cell_type": "code",
   "execution_count": 62,
   "id": "b9a025da",
   "metadata": {},
   "outputs": [
    {
     "data": {
      "text/html": [
       "<style>\n",
       ".list-inline {list-style: none; margin:0; padding: 0}\n",
       ".list-inline>li {display: inline-block}\n",
       ".list-inline>li:not(:last-child)::after {content: \"\\00b7\"; padding: 0 .5ex}\n",
       "</style>\n",
       "<ol class=list-inline><li>'Data'</li><li>'Science'</li><li>'Com'</li><li>'R'</li></ol>\n"
      ],
      "text/latex": [
       "\\begin{enumerate*}\n",
       "\\item 'Data'\n",
       "\\item 'Science'\n",
       "\\item 'Com'\n",
       "\\item 'R'\n",
       "\\end{enumerate*}\n"
      ],
      "text/markdown": [
       "1. 'Data'\n",
       "2. 'Science'\n",
       "3. 'Com'\n",
       "4. 'R'\n",
       "\n",
       "\n"
      ],
      "text/plain": [
       "[1] \"Data\"    \"Science\" \"Com\"     \"R\"      "
      ]
     },
     "metadata": {},
     "output_type": "display_data"
    }
   ],
   "source": [
    "vetor_string <- c('Data', 'Science', 'Com', 'R')\n",
    "\n",
    "vetor_string"
   ]
  },
  {
   "cell_type": "code",
   "execution_count": 64,
   "id": "d36267fc",
   "metadata": {},
   "outputs": [
    {
     "data": {
      "text/html": [
       "<style>\n",
       ".list-inline {list-style: none; margin:0; padding: 0}\n",
       ".list-inline>li {display: inline-block}\n",
       ".list-inline>li:not(:last-child)::after {content: \"\\00b7\"; padding: 0 .5ex}\n",
       "</style>\n",
       "<ol class=list-inline><li>2</li><li>3</li><li>5</li><li>7</li><li>11</li><li>13</li></ol>\n"
      ],
      "text/latex": [
       "\\begin{enumerate*}\n",
       "\\item 2\n",
       "\\item 3\n",
       "\\item 5\n",
       "\\item 7\n",
       "\\item 11\n",
       "\\item 13\n",
       "\\end{enumerate*}\n"
      ],
      "text/markdown": [
       "1. 2\n",
       "2. 3\n",
       "3. 5\n",
       "4. 7\n",
       "5. 11\n",
       "6. 13\n",
       "\n",
       "\n"
      ],
      "text/plain": [
       "[1]  2  3  5  7 11 13"
      ]
     },
     "metadata": {},
     "output_type": "display_data"
    }
   ],
   "source": [
    "vetor_numerico <- c(2, 3, 5, 7, 11, 13)\n",
    "\n",
    "vetor_numerico"
   ]
  },
  {
   "cell_type": "code",
   "execution_count": 65,
   "id": "26c2bb88",
   "metadata": {},
   "outputs": [
    {
     "data": {
      "text/html": [
       "<style>\n",
       ".list-inline {list-style: none; margin:0; padding: 0}\n",
       ".list-inline>li {display: inline-block}\n",
       ".list-inline>li:not(:last-child)::after {content: \"\\00b7\"; padding: 0 .5ex}\n",
       "</style>\n",
       "<ol class=list-inline><li>TRUE</li><li>FALSE</li><li>TRUE</li><li>TRUE</li><li>FALSE</li></ol>\n"
      ],
      "text/latex": [
       "\\begin{enumerate*}\n",
       "\\item TRUE\n",
       "\\item FALSE\n",
       "\\item TRUE\n",
       "\\item TRUE\n",
       "\\item FALSE\n",
       "\\end{enumerate*}\n"
      ],
      "text/markdown": [
       "1. TRUE\n",
       "2. FALSE\n",
       "3. TRUE\n",
       "4. TRUE\n",
       "5. FALSE\n",
       "\n",
       "\n"
      ],
      "text/plain": [
       "[1]  TRUE FALSE  TRUE  TRUE FALSE"
      ]
     },
     "metadata": {},
     "output_type": "display_data"
    }
   ],
   "source": [
    "vetor_logico <- c(TRUE, FALSE, TRUE, TRUE, FALSE)\n",
    "\n",
    "vetor_logico"
   ]
  },
  {
   "cell_type": "code",
   "execution_count": 73,
   "id": "633bbe88",
   "metadata": {},
   "outputs": [
    {
     "data": {
      "text/html": [
       "<style>\n",
       ".list-inline {list-style: none; margin:0; padding: 0}\n",
       ".list-inline>li {display: inline-block}\n",
       ".list-inline>li:not(:last-child)::after {content: \"\\00b7\"; padding: 0 .5ex}\n",
       "</style>\n",
       "<ol class=list-inline><li>'Data'</li><li>'Science'</li><li>'Com'</li></ol>\n"
      ],
      "text/latex": [
       "\\begin{enumerate*}\n",
       "\\item 'Data'\n",
       "\\item 'Science'\n",
       "\\item 'Com'\n",
       "\\end{enumerate*}\n"
      ],
      "text/markdown": [
       "1. 'Data'\n",
       "2. 'Science'\n",
       "3. 'Com'\n",
       "\n",
       "\n"
      ],
      "text/plain": [
       "[1] \"Data\"    \"Science\" \"Com\"    "
      ]
     },
     "metadata": {},
     "output_type": "display_data"
    },
    {
     "data": {
      "text/html": [
       "3"
      ],
      "text/latex": [
       "3"
      ],
      "text/markdown": [
       "3"
      ],
      "text/plain": [
       "[1] 3"
      ]
     },
     "metadata": {},
     "output_type": "display_data"
    },
    {
     "data": {
      "text/html": [
       "<style>\n",
       ".list-inline {list-style: none; margin:0; padding: 0}\n",
       ".list-inline>li {display: inline-block}\n",
       ".list-inline>li:not(:last-child)::after {content: \"\\00b7\"; padding: 0 .5ex}\n",
       "</style>\n",
       "<ol class=list-inline><li>TRUE</li><li>TRUE</li></ol>\n"
      ],
      "text/latex": [
       "\\begin{enumerate*}\n",
       "\\item TRUE\n",
       "\\item TRUE\n",
       "\\end{enumerate*}\n"
      ],
      "text/markdown": [
       "1. TRUE\n",
       "2. TRUE\n",
       "\n",
       "\n"
      ],
      "text/plain": [
       "[1] TRUE TRUE"
      ]
     },
     "metadata": {},
     "output_type": "display_data"
    }
   ],
   "source": [
    "# Realizando fatiamento\n",
    "\n",
    "vetor_string[1:3]\n",
    "vetor_numerico[2]\n",
    "vetor_logico[3:4]"
   ]
  },
  {
   "cell_type": "code",
   "execution_count": 86,
   "id": "a117a617",
   "metadata": {},
   "outputs": [
    {
     "data": {
      "text/html": [
       "<style>\n",
       ".list-inline {list-style: none; margin:0; padding: 0}\n",
       ".list-inline>li {display: inline-block}\n",
       ".list-inline>li:not(:last-child)::after {content: \"\\00b7\"; padding: 0 .5ex}\n",
       "</style>\n",
       "<ol class=list-inline><li>1</li><li>2</li><li>3</li><li>4</li><li>5</li><li>6</li><li>7</li><li>8</li><li>9</li><li>10</li><li>11</li><li>12</li><li>13</li><li>14</li><li>15</li><li>16</li><li>17</li><li>18</li><li>19</li><li>20</li><li>21</li><li>22</li><li>23</li><li>24</li><li>25</li></ol>\n"
      ],
      "text/latex": [
       "\\begin{enumerate*}\n",
       "\\item 1\n",
       "\\item 2\n",
       "\\item 3\n",
       "\\item 4\n",
       "\\item 5\n",
       "\\item 6\n",
       "\\item 7\n",
       "\\item 8\n",
       "\\item 9\n",
       "\\item 10\n",
       "\\item 11\n",
       "\\item 12\n",
       "\\item 13\n",
       "\\item 14\n",
       "\\item 15\n",
       "\\item 16\n",
       "\\item 17\n",
       "\\item 18\n",
       "\\item 19\n",
       "\\item 20\n",
       "\\item 21\n",
       "\\item 22\n",
       "\\item 23\n",
       "\\item 24\n",
       "\\item 25\n",
       "\\end{enumerate*}\n"
      ],
      "text/markdown": [
       "1. 1\n",
       "2. 2\n",
       "3. 3\n",
       "4. 4\n",
       "5. 5\n",
       "6. 6\n",
       "7. 7\n",
       "8. 8\n",
       "9. 9\n",
       "10. 10\n",
       "11. 11\n",
       "12. 12\n",
       "13. 13\n",
       "14. 14\n",
       "15. 15\n",
       "16. 16\n",
       "17. 17\n",
       "18. 18\n",
       "19. 19\n",
       "20. 20\n",
       "21. 21\n",
       "22. 22\n",
       "23. 23\n",
       "24. 24\n",
       "25. 25\n",
       "\n",
       "\n"
      ],
      "text/plain": [
       " [1]  1  2  3  4  5  6  7  8  9 10 11 12 13 14 15 16 17 18 19 20 21 22 23 24 25"
      ]
     },
     "metadata": {},
     "output_type": "display_data"
    },
    {
     "data": {
      "text/html": [
       "<style>\n",
       ".list-inline {list-style: none; margin:0; padding: 0}\n",
       ".list-inline>li {display: inline-block}\n",
       ".list-inline>li:not(:last-child)::after {content: \"\\00b7\"; padding: 0 .5ex}\n",
       "</style>\n",
       "<ol class=list-inline><li>25</li><li>26</li><li>27</li><li>28</li><li>29</li><li>30</li><li>31</li><li>32</li><li>33</li><li>34</li><li>35</li><li>36</li><li>37</li><li>38</li><li>39</li><li>40</li><li>41</li><li>42</li><li>43</li><li>44</li><li>45</li><li>46</li><li>47</li><li>48</li><li>49</li></ol>\n"
      ],
      "text/latex": [
       "\\begin{enumerate*}\n",
       "\\item 25\n",
       "\\item 26\n",
       "\\item 27\n",
       "\\item 28\n",
       "\\item 29\n",
       "\\item 30\n",
       "\\item 31\n",
       "\\item 32\n",
       "\\item 33\n",
       "\\item 34\n",
       "\\item 35\n",
       "\\item 36\n",
       "\\item 37\n",
       "\\item 38\n",
       "\\item 39\n",
       "\\item 40\n",
       "\\item 41\n",
       "\\item 42\n",
       "\\item 43\n",
       "\\item 44\n",
       "\\item 45\n",
       "\\item 46\n",
       "\\item 47\n",
       "\\item 48\n",
       "\\item 49\n",
       "\\end{enumerate*}\n"
      ],
      "text/markdown": [
       "1. 25\n",
       "2. 26\n",
       "3. 27\n",
       "4. 28\n",
       "5. 29\n",
       "6. 30\n",
       "7. 31\n",
       "8. 32\n",
       "9. 33\n",
       "10. 34\n",
       "11. 35\n",
       "12. 36\n",
       "13. 37\n",
       "14. 38\n",
       "15. 39\n",
       "16. 40\n",
       "17. 41\n",
       "18. 42\n",
       "19. 43\n",
       "20. 44\n",
       "21. 45\n",
       "22. 46\n",
       "23. 47\n",
       "24. 48\n",
       "25. 49\n",
       "\n",
       "\n"
      ],
      "text/plain": [
       " [1] 25 26 27 28 29 30 31 32 33 34 35 36 37 38 39 40 41 42 43 44 45 46 47 48 49"
      ]
     },
     "metadata": {},
     "output_type": "display_data"
    }
   ],
   "source": [
    "x <- c(1:25)\n",
    "y <- c(25:49)\n",
    "\n",
    "x\n",
    "y"
   ]
  },
  {
   "cell_type": "code",
   "execution_count": 87,
   "id": "4966fb73",
   "metadata": {},
   "outputs": [
    {
     "data": {
      "text/html": [
       "<style>\n",
       ".list-inline {list-style: none; margin:0; padding: 0}\n",
       ".list-inline>li {display: inline-block}\n",
       ".list-inline>li:not(:last-child)::after {content: \"\\00b7\"; padding: 0 .5ex}\n",
       "</style>\n",
       "<ol class=list-inline><li>26</li><li>28</li><li>30</li><li>32</li><li>34</li><li>36</li><li>38</li><li>40</li><li>42</li><li>44</li><li>46</li><li>48</li><li>50</li><li>52</li><li>54</li><li>56</li><li>58</li><li>60</li><li>62</li><li>64</li><li>66</li><li>68</li><li>70</li><li>72</li><li>74</li></ol>\n"
      ],
      "text/latex": [
       "\\begin{enumerate*}\n",
       "\\item 26\n",
       "\\item 28\n",
       "\\item 30\n",
       "\\item 32\n",
       "\\item 34\n",
       "\\item 36\n",
       "\\item 38\n",
       "\\item 40\n",
       "\\item 42\n",
       "\\item 44\n",
       "\\item 46\n",
       "\\item 48\n",
       "\\item 50\n",
       "\\item 52\n",
       "\\item 54\n",
       "\\item 56\n",
       "\\item 58\n",
       "\\item 60\n",
       "\\item 62\n",
       "\\item 64\n",
       "\\item 66\n",
       "\\item 68\n",
       "\\item 70\n",
       "\\item 72\n",
       "\\item 74\n",
       "\\end{enumerate*}\n"
      ],
      "text/markdown": [
       "1. 26\n",
       "2. 28\n",
       "3. 30\n",
       "4. 32\n",
       "5. 34\n",
       "6. 36\n",
       "7. 38\n",
       "8. 40\n",
       "9. 42\n",
       "10. 44\n",
       "11. 46\n",
       "12. 48\n",
       "13. 50\n",
       "14. 52\n",
       "15. 54\n",
       "16. 56\n",
       "17. 58\n",
       "18. 60\n",
       "19. 62\n",
       "20. 64\n",
       "21. 66\n",
       "22. 68\n",
       "23. 70\n",
       "24. 72\n",
       "25. 74\n",
       "\n",
       "\n"
      ],
      "text/plain": [
       " [1] 26 28 30 32 34 36 38 40 42 44 46 48 50 52 54 56 58 60 62 64 66 68 70 72 74"
      ]
     },
     "metadata": {},
     "output_type": "display_data"
    }
   ],
   "source": [
    "x + y"
   ]
  },
  {
   "cell_type": "code",
   "execution_count": 88,
   "id": "78b2ae6d",
   "metadata": {},
   "outputs": [
    {
     "data": {
      "text/html": [
       "<style>\n",
       ".list-inline {list-style: none; margin:0; padding: 0}\n",
       ".list-inline>li {display: inline-block}\n",
       ".list-inline>li:not(:last-child)::after {content: \"\\00b7\"; padding: 0 .5ex}\n",
       "</style>\n",
       "<ol class=list-inline><li>-24</li><li>-24</li><li>-24</li><li>-24</li><li>-24</li><li>-24</li><li>-24</li><li>-24</li><li>-24</li><li>-24</li><li>-24</li><li>-24</li><li>-24</li><li>-24</li><li>-24</li><li>-24</li><li>-24</li><li>-24</li><li>-24</li><li>-24</li><li>-24</li><li>-24</li><li>-24</li><li>-24</li><li>-24</li></ol>\n"
      ],
      "text/latex": [
       "\\begin{enumerate*}\n",
       "\\item -24\n",
       "\\item -24\n",
       "\\item -24\n",
       "\\item -24\n",
       "\\item -24\n",
       "\\item -24\n",
       "\\item -24\n",
       "\\item -24\n",
       "\\item -24\n",
       "\\item -24\n",
       "\\item -24\n",
       "\\item -24\n",
       "\\item -24\n",
       "\\item -24\n",
       "\\item -24\n",
       "\\item -24\n",
       "\\item -24\n",
       "\\item -24\n",
       "\\item -24\n",
       "\\item -24\n",
       "\\item -24\n",
       "\\item -24\n",
       "\\item -24\n",
       "\\item -24\n",
       "\\item -24\n",
       "\\end{enumerate*}\n"
      ],
      "text/markdown": [
       "1. -24\n",
       "2. -24\n",
       "3. -24\n",
       "4. -24\n",
       "5. -24\n",
       "6. -24\n",
       "7. -24\n",
       "8. -24\n",
       "9. -24\n",
       "10. -24\n",
       "11. -24\n",
       "12. -24\n",
       "13. -24\n",
       "14. -24\n",
       "15. -24\n",
       "16. -24\n",
       "17. -24\n",
       "18. -24\n",
       "19. -24\n",
       "20. -24\n",
       "21. -24\n",
       "22. -24\n",
       "23. -24\n",
       "24. -24\n",
       "25. -24\n",
       "\n",
       "\n"
      ],
      "text/plain": [
       " [1] -24 -24 -24 -24 -24 -24 -24 -24 -24 -24 -24 -24 -24 -24 -24 -24 -24 -24 -24\n",
       "[20] -24 -24 -24 -24 -24 -24"
      ]
     },
     "metadata": {},
     "output_type": "display_data"
    }
   ],
   "source": [
    "x - y"
   ]
  },
  {
   "cell_type": "code",
   "execution_count": 90,
   "id": "b1b4bbd4",
   "metadata": {},
   "outputs": [
    {
     "data": {
      "text/html": [
       "<style>\n",
       ".list-inline {list-style: none; margin:0; padding: 0}\n",
       ".list-inline>li {display: inline-block}\n",
       ".list-inline>li:not(:last-child)::after {content: \"\\00b7\"; padding: 0 .5ex}\n",
       "</style>\n",
       "<ol class=list-inline><li>25</li><li>52</li><li>81</li><li>112</li><li>145</li><li>180</li><li>217</li><li>256</li><li>297</li><li>340</li><li>385</li><li>432</li><li>481</li><li>532</li><li>585</li><li>640</li><li>697</li><li>756</li><li>817</li><li>880</li><li>945</li><li>1012</li><li>1081</li><li>1152</li><li>1225</li></ol>\n"
      ],
      "text/latex": [
       "\\begin{enumerate*}\n",
       "\\item 25\n",
       "\\item 52\n",
       "\\item 81\n",
       "\\item 112\n",
       "\\item 145\n",
       "\\item 180\n",
       "\\item 217\n",
       "\\item 256\n",
       "\\item 297\n",
       "\\item 340\n",
       "\\item 385\n",
       "\\item 432\n",
       "\\item 481\n",
       "\\item 532\n",
       "\\item 585\n",
       "\\item 640\n",
       "\\item 697\n",
       "\\item 756\n",
       "\\item 817\n",
       "\\item 880\n",
       "\\item 945\n",
       "\\item 1012\n",
       "\\item 1081\n",
       "\\item 1152\n",
       "\\item 1225\n",
       "\\end{enumerate*}\n"
      ],
      "text/markdown": [
       "1. 25\n",
       "2. 52\n",
       "3. 81\n",
       "4. 112\n",
       "5. 145\n",
       "6. 180\n",
       "7. 217\n",
       "8. 256\n",
       "9. 297\n",
       "10. 340\n",
       "11. 385\n",
       "12. 432\n",
       "13. 481\n",
       "14. 532\n",
       "15. 585\n",
       "16. 640\n",
       "17. 697\n",
       "18. 756\n",
       "19. 817\n",
       "20. 880\n",
       "21. 945\n",
       "22. 1012\n",
       "23. 1081\n",
       "24. 1152\n",
       "25. 1225\n",
       "\n",
       "\n"
      ],
      "text/plain": [
       " [1]   25   52   81  112  145  180  217  256  297  340  385  432  481  532  585\n",
       "[16]  640  697  756  817  880  945 1012 1081 1152 1225"
      ]
     },
     "metadata": {},
     "output_type": "display_data"
    }
   ],
   "source": [
    "x * y"
   ]
  },
  {
   "cell_type": "code",
   "execution_count": 91,
   "id": "88b59a77",
   "metadata": {},
   "outputs": [
    {
     "data": {
      "text/html": [
       "<style>\n",
       ".list-inline {list-style: none; margin:0; padding: 0}\n",
       ".list-inline>li {display: inline-block}\n",
       ".list-inline>li:not(:last-child)::after {content: \"\\00b7\"; padding: 0 .5ex}\n",
       "</style>\n",
       "<ol class=list-inline><li>0.04</li><li>0.0769230769230769</li><li>0.111111111111111</li><li>0.142857142857143</li><li>0.172413793103448</li><li>0.2</li><li>0.225806451612903</li><li>0.25</li><li>0.272727272727273</li><li>0.294117647058824</li><li>0.314285714285714</li><li>0.333333333333333</li><li>0.351351351351351</li><li>0.368421052631579</li><li>0.384615384615385</li><li>0.4</li><li>0.414634146341463</li><li>0.428571428571429</li><li>0.441860465116279</li><li>0.454545454545455</li><li>0.466666666666667</li><li>0.478260869565217</li><li>0.48936170212766</li><li>0.5</li><li>0.510204081632653</li></ol>\n"
      ],
      "text/latex": [
       "\\begin{enumerate*}\n",
       "\\item 0.04\n",
       "\\item 0.0769230769230769\n",
       "\\item 0.111111111111111\n",
       "\\item 0.142857142857143\n",
       "\\item 0.172413793103448\n",
       "\\item 0.2\n",
       "\\item 0.225806451612903\n",
       "\\item 0.25\n",
       "\\item 0.272727272727273\n",
       "\\item 0.294117647058824\n",
       "\\item 0.314285714285714\n",
       "\\item 0.333333333333333\n",
       "\\item 0.351351351351351\n",
       "\\item 0.368421052631579\n",
       "\\item 0.384615384615385\n",
       "\\item 0.4\n",
       "\\item 0.414634146341463\n",
       "\\item 0.428571428571429\n",
       "\\item 0.441860465116279\n",
       "\\item 0.454545454545455\n",
       "\\item 0.466666666666667\n",
       "\\item 0.478260869565217\n",
       "\\item 0.48936170212766\n",
       "\\item 0.5\n",
       "\\item 0.510204081632653\n",
       "\\end{enumerate*}\n"
      ],
      "text/markdown": [
       "1. 0.04\n",
       "2. 0.0769230769230769\n",
       "3. 0.111111111111111\n",
       "4. 0.142857142857143\n",
       "5. 0.172413793103448\n",
       "6. 0.2\n",
       "7. 0.225806451612903\n",
       "8. 0.25\n",
       "9. 0.272727272727273\n",
       "10. 0.294117647058824\n",
       "11. 0.314285714285714\n",
       "12. 0.333333333333333\n",
       "13. 0.351351351351351\n",
       "14. 0.368421052631579\n",
       "15. 0.384615384615385\n",
       "16. 0.4\n",
       "17. 0.414634146341463\n",
       "18. 0.428571428571429\n",
       "19. 0.441860465116279\n",
       "20. 0.454545454545455\n",
       "21. 0.466666666666667\n",
       "22. 0.478260869565217\n",
       "23. 0.48936170212766\n",
       "24. 0.5\n",
       "25. 0.510204081632653\n",
       "\n",
       "\n"
      ],
      "text/plain": [
       " [1] 0.04000000 0.07692308 0.11111111 0.14285714 0.17241379 0.20000000\n",
       " [7] 0.22580645 0.25000000 0.27272727 0.29411765 0.31428571 0.33333333\n",
       "[13] 0.35135135 0.36842105 0.38461538 0.40000000 0.41463415 0.42857143\n",
       "[19] 0.44186047 0.45454545 0.46666667 0.47826087 0.48936170 0.50000000\n",
       "[25] 0.51020408"
      ]
     },
     "metadata": {},
     "output_type": "display_data"
    }
   ],
   "source": [
    "x / y"
   ]
  },
  {
   "cell_type": "markdown",
   "id": "196b62ab",
   "metadata": {},
   "source": [
    "## 2.2 - Matrizes"
   ]
  },
  {
   "cell_type": "code",
   "execution_count": 94,
   "id": "b3ccfc48",
   "metadata": {},
   "outputs": [
    {
     "data": {
      "text/html": [
       "<table class=\"dataframe\">\n",
       "<caption>A matrix: 5 × 5 of type int</caption>\n",
       "<tbody>\n",
       "\t<tr><td>1</td><td> 6</td><td>11</td><td>16</td><td>21</td></tr>\n",
       "\t<tr><td>2</td><td> 7</td><td>12</td><td>17</td><td>22</td></tr>\n",
       "\t<tr><td>3</td><td> 8</td><td>13</td><td>18</td><td>23</td></tr>\n",
       "\t<tr><td>4</td><td> 9</td><td>14</td><td>19</td><td>24</td></tr>\n",
       "\t<tr><td>5</td><td>10</td><td>15</td><td>20</td><td>25</td></tr>\n",
       "</tbody>\n",
       "</table>\n"
      ],
      "text/latex": [
       "A matrix: 5 × 5 of type int\n",
       "\\begin{tabular}{lllll}\n",
       "\t 1 &  6 & 11 & 16 & 21\\\\\n",
       "\t 2 &  7 & 12 & 17 & 22\\\\\n",
       "\t 3 &  8 & 13 & 18 & 23\\\\\n",
       "\t 4 &  9 & 14 & 19 & 24\\\\\n",
       "\t 5 & 10 & 15 & 20 & 25\\\\\n",
       "\\end{tabular}\n"
      ],
      "text/markdown": [
       "\n",
       "A matrix: 5 × 5 of type int\n",
       "\n",
       "| 1 |  6 | 11 | 16 | 21 |\n",
       "| 2 |  7 | 12 | 17 | 22 |\n",
       "| 3 |  8 | 13 | 18 | 23 |\n",
       "| 4 |  9 | 14 | 19 | 24 |\n",
       "| 5 | 10 | 15 | 20 | 25 |\n",
       "\n"
      ],
      "text/plain": [
       "     [,1] [,2] [,3] [,4] [,5]\n",
       "[1,] 1     6   11   16   21  \n",
       "[2,] 2     7   12   17   22  \n",
       "[3,] 3     8   13   18   23  \n",
       "[4,] 4     9   14   19   24  \n",
       "[5,] 5    10   15   20   25  "
      ]
     },
     "metadata": {},
     "output_type": "display_data"
    }
   ],
   "source": [
    "matrix(c(1:25), nrow = 5)"
   ]
  },
  {
   "cell_type": "code",
   "execution_count": 97,
   "id": "204de369",
   "metadata": {},
   "outputs": [
    {
     "data": {
      "text/html": [
       "<table class=\"dataframe\">\n",
       "<caption>A matrix: 5 × 5 of type int</caption>\n",
       "<tbody>\n",
       "\t<tr><td>25</td><td>30</td><td>35</td><td>40</td><td>45</td></tr>\n",
       "\t<tr><td>26</td><td>31</td><td>36</td><td>41</td><td>46</td></tr>\n",
       "\t<tr><td>27</td><td>32</td><td>37</td><td>42</td><td>47</td></tr>\n",
       "\t<tr><td>28</td><td>33</td><td>38</td><td>43</td><td>48</td></tr>\n",
       "\t<tr><td>29</td><td>34</td><td>39</td><td>44</td><td>49</td></tr>\n",
       "</tbody>\n",
       "</table>\n"
      ],
      "text/latex": [
       "A matrix: 5 × 5 of type int\n",
       "\\begin{tabular}{lllll}\n",
       "\t 25 & 30 & 35 & 40 & 45\\\\\n",
       "\t 26 & 31 & 36 & 41 & 46\\\\\n",
       "\t 27 & 32 & 37 & 42 & 47\\\\\n",
       "\t 28 & 33 & 38 & 43 & 48\\\\\n",
       "\t 29 & 34 & 39 & 44 & 49\\\\\n",
       "\\end{tabular}\n"
      ],
      "text/markdown": [
       "\n",
       "A matrix: 5 × 5 of type int\n",
       "\n",
       "| 25 | 30 | 35 | 40 | 45 |\n",
       "| 26 | 31 | 36 | 41 | 46 |\n",
       "| 27 | 32 | 37 | 42 | 47 |\n",
       "| 28 | 33 | 38 | 43 | 48 |\n",
       "| 29 | 34 | 39 | 44 | 49 |\n",
       "\n"
      ],
      "text/plain": [
       "     [,1] [,2] [,3] [,4] [,5]\n",
       "[1,] 25   30   35   40   45  \n",
       "[2,] 26   31   36   41   46  \n",
       "[3,] 27   32   37   42   47  \n",
       "[4,] 28   33   38   43   48  \n",
       "[5,] 29   34   39   44   49  "
      ]
     },
     "metadata": {},
     "output_type": "display_data"
    }
   ],
   "source": [
    "matrix(c(25:49), nrow = 5)"
   ]
  },
  {
   "cell_type": "code",
   "execution_count": null,
   "id": "54ca1bea",
   "metadata": {},
   "outputs": [],
   "source": []
  }
 ],
 "metadata": {
  "kernelspec": {
   "display_name": "R",
   "language": "R",
   "name": "ir"
  },
  "language_info": {
   "codemirror_mode": "r",
   "file_extension": ".r",
   "mimetype": "text/x-r-source",
   "name": "R",
   "pygments_lexer": "r",
   "version": "4.1.2"
  }
 },
 "nbformat": 4,
 "nbformat_minor": 5
}
